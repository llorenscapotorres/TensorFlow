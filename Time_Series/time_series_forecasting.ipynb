{
 "cells": [
  {
   "cell_type": "markdown",
   "id": "197107bd",
   "metadata": {},
   "source": [
    "# Time Series Forecasting Fundamentals with TensorFlow + Milestone Project: BitPredict\n",
    "\n",
    "Let's write some TensorFlow code to predict the price of Bitcoin based on historical price of Bitcoin."
   ]
  },
  {
   "cell_type": "markdown",
   "id": "d842b633",
   "metadata": {},
   "source": [
    "## Importing time series with pandas"
   ]
  },
  {
   "cell_type": "code",
   "execution_count": 11,
   "id": "912c0b37",
   "metadata": {},
   "outputs": [
    {
     "data": {
      "application/vnd.microsoft.datawrangler.viewer.v0+json": {
       "columns": [
        {
         "name": "Date",
         "rawType": "datetime64[ns]",
         "type": "datetime"
        },
        {
         "name": "Currency",
         "rawType": "object",
         "type": "string"
        },
        {
         "name": "Closing Price (USD)",
         "rawType": "float64",
         "type": "float"
        },
        {
         "name": "24h Open (USD)",
         "rawType": "float64",
         "type": "float"
        },
        {
         "name": "24h High (USD)",
         "rawType": "float64",
         "type": "float"
        },
        {
         "name": "24h Low (USD)",
         "rawType": "float64",
         "type": "float"
        }
       ],
       "ref": "88722bdf-4970-48fe-bf45-c82785a3aefa",
       "rows": [
        [
         "2013-10-01 00:00:00",
         "BTC",
         "123.65499",
         "124.30466",
         "124.75166",
         "122.56349"
        ],
        [
         "2013-10-02 00:00:00",
         "BTC",
         "125.455",
         "123.65499",
         "125.7585",
         "123.63383"
        ],
        [
         "2013-10-03 00:00:00",
         "BTC",
         "108.58483",
         "125.455",
         "125.66566",
         "83.32833"
        ],
        [
         "2013-10-04 00:00:00",
         "BTC",
         "118.67466",
         "108.58483",
         "118.675",
         "107.05816"
        ],
        [
         "2013-10-05 00:00:00",
         "BTC",
         "121.33866",
         "118.67466",
         "121.93633",
         "118.00566"
        ]
       ],
       "shape": {
        "columns": 5,
        "rows": 5
       }
      },
      "text/html": [
       "<div>\n",
       "<style scoped>\n",
       "    .dataframe tbody tr th:only-of-type {\n",
       "        vertical-align: middle;\n",
       "    }\n",
       "\n",
       "    .dataframe tbody tr th {\n",
       "        vertical-align: top;\n",
       "    }\n",
       "\n",
       "    .dataframe thead th {\n",
       "        text-align: right;\n",
       "    }\n",
       "</style>\n",
       "<table border=\"1\" class=\"dataframe\">\n",
       "  <thead>\n",
       "    <tr style=\"text-align: right;\">\n",
       "      <th></th>\n",
       "      <th>Currency</th>\n",
       "      <th>Closing Price (USD)</th>\n",
       "      <th>24h Open (USD)</th>\n",
       "      <th>24h High (USD)</th>\n",
       "      <th>24h Low (USD)</th>\n",
       "    </tr>\n",
       "    <tr>\n",
       "      <th>Date</th>\n",
       "      <th></th>\n",
       "      <th></th>\n",
       "      <th></th>\n",
       "      <th></th>\n",
       "      <th></th>\n",
       "    </tr>\n",
       "  </thead>\n",
       "  <tbody>\n",
       "    <tr>\n",
       "      <th>2013-10-01</th>\n",
       "      <td>BTC</td>\n",
       "      <td>123.65499</td>\n",
       "      <td>124.30466</td>\n",
       "      <td>124.75166</td>\n",
       "      <td>122.56349</td>\n",
       "    </tr>\n",
       "    <tr>\n",
       "      <th>2013-10-02</th>\n",
       "      <td>BTC</td>\n",
       "      <td>125.45500</td>\n",
       "      <td>123.65499</td>\n",
       "      <td>125.75850</td>\n",
       "      <td>123.63383</td>\n",
       "    </tr>\n",
       "    <tr>\n",
       "      <th>2013-10-03</th>\n",
       "      <td>BTC</td>\n",
       "      <td>108.58483</td>\n",
       "      <td>125.45500</td>\n",
       "      <td>125.66566</td>\n",
       "      <td>83.32833</td>\n",
       "    </tr>\n",
       "    <tr>\n",
       "      <th>2013-10-04</th>\n",
       "      <td>BTC</td>\n",
       "      <td>118.67466</td>\n",
       "      <td>108.58483</td>\n",
       "      <td>118.67500</td>\n",
       "      <td>107.05816</td>\n",
       "    </tr>\n",
       "    <tr>\n",
       "      <th>2013-10-05</th>\n",
       "      <td>BTC</td>\n",
       "      <td>121.33866</td>\n",
       "      <td>118.67466</td>\n",
       "      <td>121.93633</td>\n",
       "      <td>118.00566</td>\n",
       "    </tr>\n",
       "  </tbody>\n",
       "</table>\n",
       "</div>"
      ],
      "text/plain": [
       "           Currency  Closing Price (USD)  24h Open (USD)  24h High (USD)  \\\n",
       "Date                                                                       \n",
       "2013-10-01      BTC            123.65499       124.30466       124.75166   \n",
       "2013-10-02      BTC            125.45500       123.65499       125.75850   \n",
       "2013-10-03      BTC            108.58483       125.45500       125.66566   \n",
       "2013-10-04      BTC            118.67466       108.58483       118.67500   \n",
       "2013-10-05      BTC            121.33866       118.67466       121.93633   \n",
       "\n",
       "            24h Low (USD)  \n",
       "Date                       \n",
       "2013-10-01      122.56349  \n",
       "2013-10-02      123.63383  \n",
       "2013-10-03       83.32833  \n",
       "2013-10-04      107.05816  \n",
       "2013-10-05      118.00566  "
      ]
     },
     "execution_count": 11,
     "metadata": {},
     "output_type": "execute_result"
    }
   ],
   "source": [
    "# Import with pandas\n",
    "import pandas as pd\n",
    "# Let's read in our Bitcoin data and parse the dates\n",
    "df = pd.read_csv('./bitcoin_price.csv',\n",
    "                 parse_dates=['Date'],\n",
    "                 index_col=['Date']) # parse the date column and tell pandas column 1 is a datetime\n",
    "\n",
    "df.head()"
   ]
  },
  {
   "cell_type": "code",
   "execution_count": 12,
   "id": "756c4c8b",
   "metadata": {},
   "outputs": [
    {
     "data": {
      "application/vnd.microsoft.datawrangler.viewer.v0+json": {
       "columns": [
        {
         "name": "Date",
         "rawType": "datetime64[ns]",
         "type": "datetime"
        },
        {
         "name": "Currency",
         "rawType": "object",
         "type": "string"
        },
        {
         "name": "Closing Price (USD)",
         "rawType": "float64",
         "type": "float"
        },
        {
         "name": "24h Open (USD)",
         "rawType": "float64",
         "type": "float"
        },
        {
         "name": "24h High (USD)",
         "rawType": "float64",
         "type": "float"
        },
        {
         "name": "24h Low (USD)",
         "rawType": "float64",
         "type": "float"
        }
       ],
       "ref": "33ad13b6-bbb6-45a2-8b6c-8cabe4d1e415",
       "rows": [
        [
         "2021-05-14 00:00:00",
         "BTC",
         "49764.1320815975",
         "49596.7788914698",
         "51448.7985760232",
         "46294.7201795113"
        ],
        [
         "2021-05-15 00:00:00",
         "BTC",
         "50032.6931367648",
         "49717.3543531654",
         "51578.3125446899",
         "48944.3465360214"
        ],
        [
         "2021-05-16 00:00:00",
         "BTC",
         "47885.6252547166",
         "49926.035067459",
         "50690.8029495356",
         "47005.1022924768"
        ],
        [
         "2021-05-17 00:00:00",
         "BTC",
         "45604.6157536131",
         "46805.5378519185",
         "49670.4141738148",
         "43868.6389692715"
        ],
        [
         "2021-05-18 00:00:00",
         "BTC",
         "43144.4712908603",
         "46439.3365698047",
         "46622.8534374849",
         "42102.3464296188"
        ]
       ],
       "shape": {
        "columns": 5,
        "rows": 5
       }
      },
      "text/html": [
       "<div>\n",
       "<style scoped>\n",
       "    .dataframe tbody tr th:only-of-type {\n",
       "        vertical-align: middle;\n",
       "    }\n",
       "\n",
       "    .dataframe tbody tr th {\n",
       "        vertical-align: top;\n",
       "    }\n",
       "\n",
       "    .dataframe thead th {\n",
       "        text-align: right;\n",
       "    }\n",
       "</style>\n",
       "<table border=\"1\" class=\"dataframe\">\n",
       "  <thead>\n",
       "    <tr style=\"text-align: right;\">\n",
       "      <th></th>\n",
       "      <th>Currency</th>\n",
       "      <th>Closing Price (USD)</th>\n",
       "      <th>24h Open (USD)</th>\n",
       "      <th>24h High (USD)</th>\n",
       "      <th>24h Low (USD)</th>\n",
       "    </tr>\n",
       "    <tr>\n",
       "      <th>Date</th>\n",
       "      <th></th>\n",
       "      <th></th>\n",
       "      <th></th>\n",
       "      <th></th>\n",
       "      <th></th>\n",
       "    </tr>\n",
       "  </thead>\n",
       "  <tbody>\n",
       "    <tr>\n",
       "      <th>2021-05-14</th>\n",
       "      <td>BTC</td>\n",
       "      <td>49764.132082</td>\n",
       "      <td>49596.778891</td>\n",
       "      <td>51448.798576</td>\n",
       "      <td>46294.720180</td>\n",
       "    </tr>\n",
       "    <tr>\n",
       "      <th>2021-05-15</th>\n",
       "      <td>BTC</td>\n",
       "      <td>50032.693137</td>\n",
       "      <td>49717.354353</td>\n",
       "      <td>51578.312545</td>\n",
       "      <td>48944.346536</td>\n",
       "    </tr>\n",
       "    <tr>\n",
       "      <th>2021-05-16</th>\n",
       "      <td>BTC</td>\n",
       "      <td>47885.625255</td>\n",
       "      <td>49926.035067</td>\n",
       "      <td>50690.802950</td>\n",
       "      <td>47005.102292</td>\n",
       "    </tr>\n",
       "    <tr>\n",
       "      <th>2021-05-17</th>\n",
       "      <td>BTC</td>\n",
       "      <td>45604.615754</td>\n",
       "      <td>46805.537852</td>\n",
       "      <td>49670.414174</td>\n",
       "      <td>43868.638969</td>\n",
       "    </tr>\n",
       "    <tr>\n",
       "      <th>2021-05-18</th>\n",
       "      <td>BTC</td>\n",
       "      <td>43144.471291</td>\n",
       "      <td>46439.336570</td>\n",
       "      <td>46622.853437</td>\n",
       "      <td>42102.346430</td>\n",
       "    </tr>\n",
       "  </tbody>\n",
       "</table>\n",
       "</div>"
      ],
      "text/plain": [
       "           Currency  Closing Price (USD)  24h Open (USD)  24h High (USD)  \\\n",
       "Date                                                                       \n",
       "2021-05-14      BTC         49764.132082    49596.778891    51448.798576   \n",
       "2021-05-15      BTC         50032.693137    49717.354353    51578.312545   \n",
       "2021-05-16      BTC         47885.625255    49926.035067    50690.802950   \n",
       "2021-05-17      BTC         45604.615754    46805.537852    49670.414174   \n",
       "2021-05-18      BTC         43144.471291    46439.336570    46622.853437   \n",
       "\n",
       "            24h Low (USD)  \n",
       "Date                       \n",
       "2021-05-14   46294.720180  \n",
       "2021-05-15   48944.346536  \n",
       "2021-05-16   47005.102292  \n",
       "2021-05-17   43868.638969  \n",
       "2021-05-18   42102.346430  "
      ]
     },
     "execution_count": 12,
     "metadata": {},
     "output_type": "execute_result"
    }
   ],
   "source": [
    "df.tail()"
   ]
  },
  {
   "cell_type": "code",
   "execution_count": 13,
   "id": "9fca5567",
   "metadata": {},
   "outputs": [
    {
     "name": "stdout",
     "output_type": "stream",
     "text": [
      "<class 'pandas.core.frame.DataFrame'>\n",
      "DatetimeIndex: 2787 entries, 2013-10-01 to 2021-05-18\n",
      "Data columns (total 5 columns):\n",
      " #   Column               Non-Null Count  Dtype  \n",
      "---  ------               --------------  -----  \n",
      " 0   Currency             2787 non-null   object \n",
      " 1   Closing Price (USD)  2787 non-null   float64\n",
      " 2   24h Open (USD)       2787 non-null   float64\n",
      " 3   24h High (USD)       2787 non-null   float64\n",
      " 4   24h Low (USD)        2787 non-null   float64\n",
      "dtypes: float64(4), object(1)\n",
      "memory usage: 130.6+ KB\n"
     ]
    }
   ],
   "source": [
    "df.info()"
   ]
  },
  {
   "cell_type": "code",
   "execution_count": 14,
   "id": "67661981",
   "metadata": {},
   "outputs": [
    {
     "data": {
      "text/plain": [
       "2787"
      ]
     },
     "execution_count": 14,
     "metadata": {},
     "output_type": "execute_result"
    }
   ],
   "source": [
    "# How many samples do we have?\n",
    "len(df)"
   ]
  },
  {
   "cell_type": "markdown",
   "id": "7733d08d",
   "metadata": {},
   "source": [
    "We have collected the historical price of Bitcoin for the past ~8 years but there's 2787 samples.\n",
    "\n",
    "Typically deep learning models usually like lots and lots and lots of samples (where lots and lots and lots can be thousands to tens of thousands to millions).\n",
    "\n",
    "A smaller number of samples is something you will often run into with time series of ata problems.\n",
    "\n",
    "**Note:** The **seasonality** of a time series dataset is referred as the nmber of samples per year. So for our Bitcoin data, it has seasonality of daily or value of 365 because we collect one sample per day meaning we will get 365 samples per year."
   ]
  },
  {
   "cell_type": "code",
   "execution_count": 15,
   "id": "5f48b757",
   "metadata": {},
   "outputs": [
    {
     "data": {
      "application/vnd.microsoft.datawrangler.viewer.v0+json": {
       "columns": [
        {
         "name": "Date",
         "rawType": "datetime64[ns]",
         "type": "datetime"
        },
        {
         "name": "Price",
         "rawType": "float64",
         "type": "float"
        }
       ],
       "ref": "bf862107-3836-49b6-8261-06d4b71099fe",
       "rows": [
        [
         "2013-10-01 00:00:00",
         "123.65499"
        ],
        [
         "2013-10-02 00:00:00",
         "125.455"
        ],
        [
         "2013-10-03 00:00:00",
         "108.58483"
        ],
        [
         "2013-10-04 00:00:00",
         "118.67466"
        ],
        [
         "2013-10-05 00:00:00",
         "121.33866"
        ]
       ],
       "shape": {
        "columns": 1,
        "rows": 5
       }
      },
      "text/html": [
       "<div>\n",
       "<style scoped>\n",
       "    .dataframe tbody tr th:only-of-type {\n",
       "        vertical-align: middle;\n",
       "    }\n",
       "\n",
       "    .dataframe tbody tr th {\n",
       "        vertical-align: top;\n",
       "    }\n",
       "\n",
       "    .dataframe thead th {\n",
       "        text-align: right;\n",
       "    }\n",
       "</style>\n",
       "<table border=\"1\" class=\"dataframe\">\n",
       "  <thead>\n",
       "    <tr style=\"text-align: right;\">\n",
       "      <th></th>\n",
       "      <th>Price</th>\n",
       "    </tr>\n",
       "    <tr>\n",
       "      <th>Date</th>\n",
       "      <th></th>\n",
       "    </tr>\n",
       "  </thead>\n",
       "  <tbody>\n",
       "    <tr>\n",
       "      <th>2013-10-01</th>\n",
       "      <td>123.65499</td>\n",
       "    </tr>\n",
       "    <tr>\n",
       "      <th>2013-10-02</th>\n",
       "      <td>125.45500</td>\n",
       "    </tr>\n",
       "    <tr>\n",
       "      <th>2013-10-03</th>\n",
       "      <td>108.58483</td>\n",
       "    </tr>\n",
       "    <tr>\n",
       "      <th>2013-10-04</th>\n",
       "      <td>118.67466</td>\n",
       "    </tr>\n",
       "    <tr>\n",
       "      <th>2013-10-05</th>\n",
       "      <td>121.33866</td>\n",
       "    </tr>\n",
       "  </tbody>\n",
       "</table>\n",
       "</div>"
      ],
      "text/plain": [
       "                Price\n",
       "Date                 \n",
       "2013-10-01  123.65499\n",
       "2013-10-02  125.45500\n",
       "2013-10-03  108.58483\n",
       "2013-10-04  118.67466\n",
       "2013-10-05  121.33866"
      ]
     },
     "execution_count": 15,
     "metadata": {},
     "output_type": "execute_result"
    }
   ],
   "source": [
    "# Only want closing price for each day\n",
    "bitcoin_prices = pd.DataFrame(df['Closing Price (USD)']).rename(columns={'Closing Price (USD)': 'Price'})\n",
    "bitcoin_prices.head()"
   ]
  },
  {
   "cell_type": "code",
   "execution_count": 16,
   "id": "f8096130",
   "metadata": {},
   "outputs": [
    {
     "data": {
      "image/png": "[encoded data removed]",
      "text/plain": [
       "<Figure size 1000x700 with 1 Axes>"
      ]
     },
     "metadata": {},
     "output_type": "display_data"
    }
   ],
   "source": [
    "import matplotlib.pyplot as plt\n",
    "bitcoin_prices.plot(figsize=(10, 7))\n",
    "plt.ylabel('BTC Price')\n",
    "plt.title('Price of Bitcoin from 1 Oct 2013 to 18 May 2021', fontsize=16)\n",
    "plt.legend(fontsize=14)\n",
    "plt.show()"
   ]
  },
  {
   "cell_type": "markdown",
   "id": "719f1176",
   "metadata": {},
   "source": [
    "## Importing time series data with Pyhton's CSV module"
   ]
  },
  {
   "cell_type": "code",
   "execution_count": 17,
   "id": "1564be6a",
   "metadata": {},
   "outputs": [
    {
     "data": {
      "text/plain": [
       "([datetime.datetime(2013, 10, 1, 0, 0),\n",
       "  datetime.datetime(2013, 10, 2, 0, 0),\n",
       "  datetime.datetime(2013, 10, 3, 0, 0),\n",
       "  datetime.datetime(2013, 10, 4, 0, 0),\n",
       "  datetime.datetime(2013, 10, 5, 0, 0),\n",
       "  datetime.datetime(2013, 10, 6, 0, 0),\n",
       "  datetime.datetime(2013, 10, 7, 0, 0),\n",
       "  datetime.datetime(2013, 10, 8, 0, 0),\n",
       "  datetime.datetime(2013, 10, 9, 0, 0),\n",
       "  datetime.datetime(2013, 10, 10, 0, 0)],\n",
       " [123.65499,\n",
       "  125.455,\n",
       "  108.58483,\n",
       "  118.67466,\n",
       "  121.33866,\n",
       "  120.65533,\n",
       "  121.795,\n",
       "  123.033,\n",
       "  124.049,\n",
       "  125.96116])"
      ]
     },
     "execution_count": 17,
     "metadata": {},
     "output_type": "execute_result"
    }
   ],
   "source": [
    "# Importing and formatting historical Bitcoin data with Python\n",
    "import csv\n",
    "from datetime import datetime\n",
    "\n",
    "timesteps = []\n",
    "btc_price = []\n",
    "with open(\"bitcoin_price.csv\", \"r\") as f:\n",
    "    csv_reader = csv.reader(f, delimiter=\",\")\n",
    "    next(csv_reader) # Skip the header\n",
    "    for line in csv_reader:\n",
    "        timesteps.append(datetime.strptime(line[1], \"%Y-%m-%d\")) # get the dates as dates (not strings)\n",
    "        btc_price.append(float(line[2])) # get the bitcoin price as float\n",
    "\n",
    "# View first 10 of each\n",
    "timesteps[:10], btc_price[:10]"
   ]
  },
  {
   "cell_type": "code",
   "execution_count": 18,
   "id": "b66fb40d",
   "metadata": {},
   "outputs": [
    {
     "data": {
      "image/png": "[encoded data removed]",
      "text/plain": [
       "<Figure size 1000x700 with 1 Axes>"
      ]
     },
     "metadata": {},
     "output_type": "display_data"
    }
   ],
   "source": [
    "# Plot from CSV\n",
    "import matplotlib.pyplot as plt\n",
    "import numpy as np\n",
    "\n",
    "plt.figure(figsize=(10, 7))\n",
    "plt.plot(timesteps, btc_price)\n",
    "plt.ylabel('BTC Price')\n",
    "plt.title('Price of Bitcoin from 1 Oct 2013 to 18 May 2021', fontsize=16)\n",
    "plt.xlabel('Date')\n",
    "plt.show()"
   ]
  },
  {
   "cell_type": "markdown",
   "id": "cde748e6",
   "metadata": {},
   "source": [
    "## Format data part 1: Create train and test sets of our time series data"
   ]
  },
  {
   "cell_type": "markdown",
   "id": "719aa139",
   "metadata": {},
   "source": [
    "### Creating train and test sets with time series data (the wrong way)"
   ]
  },
  {
   "cell_type": "code",
   "execution_count": 19,
   "id": "65ba12b5",
   "metadata": {},
   "outputs": [
    {
     "data": {
      "text/plain": [
       "(array(['2013-10-01T00:00:00.000000000', '2013-10-02T00:00:00.000000000',\n",
       "        '2013-10-03T00:00:00.000000000', '2013-10-04T00:00:00.000000000',\n",
       "        '2013-10-05T00:00:00.000000000', '2013-10-06T00:00:00.000000000',\n",
       "        '2013-10-07T00:00:00.000000000', '2013-10-08T00:00:00.000000000',\n",
       "        '2013-10-09T00:00:00.000000000', '2013-10-10T00:00:00.000000000'],\n",
       "       dtype='datetime64[ns]'),\n",
       " array([123.65499, 125.455  , 108.58483, 118.67466, 121.33866, 120.65533,\n",
       "        121.795  , 123.033  , 124.049  , 125.96116]))"
      ]
     },
     "execution_count": 19,
     "metadata": {},
     "output_type": "execute_result"
    }
   ],
   "source": [
    "# Get bitcoin date array\n",
    "timesteps = bitcoin_prices.index.to_numpy()\n",
    "prices = bitcoin_prices['Price'].to_numpy()\n",
    "\n",
    "timesteps[:10], prices[:10]"
   ]
  },
  {
   "cell_type": "code",
   "execution_count": 20,
   "id": "acd8af70",
   "metadata": {},
   "outputs": [
    {
     "data": {
      "text/plain": [
       "((2229,), (558,), (2229,), (558,))"
      ]
     },
     "execution_count": 20,
     "metadata": {},
     "output_type": "execute_result"
    }
   ],
   "source": [
    "# Wrong way to make train/test sets for time series data\n",
    "from sklearn.model_selection import train_test_split\n",
    "\n",
    "X_train, X_test, y_train, y_test = train_test_split(timesteps, # dates\n",
    "                                                    prices, # BTC price\n",
    "                                                    test_size=0.2,\n",
    "                                                    random_state=42)\n",
    "\n",
    "X_train.shape, X_test.shape, y_train.shape, y_test.shape"
   ]
  },
  {
   "cell_type": "code",
   "execution_count": 21,
   "id": "1c2db7b5",
   "metadata": {},
   "outputs": [
    {
     "data": {
      "image/png": "[encoded data removed]",
      "text/plain": [
       "<Figure size 1000x700 with 1 Axes>"
      ]
     },
     "metadata": {},
     "output_type": "display_data"
    }
   ],
   "source": [
    "# Let's plot wrong train and test splits\n",
    "plt.figure(figsize=(10, 7))\n",
    "plt.scatter(X_train, y_train, s=5, label='Train data')\n",
    "plt.scatter(X_test, y_test, s=5, label='Test data')\n",
    "plt.xlabel('Data')\n",
    "plt.ylabel('BTC Price')\n",
    "plt.legend(fontsize=14)\n",
    "plt.show()"
   ]
  },
  {
   "cell_type": "markdown",
   "id": "d9c27238",
   "metadata": {},
   "source": [
    "### Create train and test sets for time series (the right way)"
   ]
  },
  {
   "cell_type": "code",
   "execution_count": 22,
   "id": "ba8ec97e",
   "metadata": {},
   "outputs": [
    {
     "data": {
      "text/plain": [
       "(2229, 558, 2229, 558)"
      ]
     },
     "execution_count": 22,
     "metadata": {},
     "output_type": "execute_result"
    }
   ],
   "source": [
    "# Create train and test splits the right way for time series data\n",
    "split_size = int(0.8 * len(prices)) # 80% train, 20% test\n",
    "\n",
    "# Create train data splits (everything before the splits)\n",
    "X_train, y_train = timesteps[:split_size], prices[:split_size]\n",
    "\n",
    "# Create test data splits (everything beyond the split)\n",
    "X_test, y_test = timesteps[split_size:], prices[split_size:]\n",
    "\n",
    "len(X_train), len(X_test), len(y_train), len(y_test)"
   ]
  },
  {
   "cell_type": "code",
   "execution_count": 23,
   "id": "d7b4d4cd",
   "metadata": {},
   "outputs": [
    {
     "data": {
      "image/png": "[encoded data removed]",
      "text/plain": [
       "<Figure size 1000x700 with 1 Axes>"
      ]
     },
     "metadata": {},
     "output_type": "display_data"
    }
   ],
   "source": [
    "# Plto with the correctly splits\n",
    "plt.figure(figsize=(10, 7))\n",
    "plt.scatter(X_train, y_train, s=5, label='Train data')\n",
    "plt.scatter(X_test, y_test, s=5, label='Test data')\n",
    "plt.xlabel('Data')\n",
    "plt.ylabel('BTC Price')\n",
    "plt.legend(fontsize=14)\n",
    "plt.show()"
   ]
  },
  {
   "cell_type": "markdown",
   "id": "864cc198",
   "metadata": {},
   "source": [
    "## Create a plotting function"
   ]
  },
  {
   "cell_type": "code",
   "execution_count": 24,
   "id": "4289393c",
   "metadata": {},
   "outputs": [],
   "source": [
    "# Create a function to plot time series data\n",
    "def plot_time_series(timesteps, values, format=\".\", start=0, end=None, label=None):\n",
    "    \"\"\"\n",
    "    Plots timesteps (a series of points in time) against values (a series of values across timesteps).\n",
    "\n",
    "    Parameters:\n",
    "    -----------\n",
    "    timesteps: array of timestep values\n",
    "    values: array of values across time\n",
    "    format: style of plot, default \".\"\n",
    "    start: where to start the plot (setting a value will index from start of timesteps and values)\n",
    "    end: where to end the plot\n",
    "    label: label to show on plot about values\n",
    "    \"\"\"\n",
    "    # Plot the series\n",
    "    plt.plot(timesteps[start:end], values[start:end], format, label=label)\n",
    "    plt.xlabel(\"Time\")\n",
    "    plt.ylabel(\"BTC Price\")\n",
    "    if label:\n",
    "        plt.legend(fontsize=14)\n",
    "    plt.grid(True)"
   ]
  },
  {
   "cell_type": "code",
   "execution_count": 25,
   "id": "8a5a9712",
   "metadata": {},
   "outputs": [
    {
     "data": {
      "image/png": "[encoded data removed]",
      "text/plain": [
       "<Figure size 1000x700 with 1 Axes>"
      ]
     },
     "metadata": {},
     "output_type": "display_data"
    }
   ],
   "source": [
    "# Test out plotting function\n",
    "plt.figure(figsize=(10, 7))\n",
    "plot_time_series(timesteps=X_train, values=y_train, label=\"Train data\")\n",
    "plot_time_series(timesteps=X_test, values=y_test, label=\"Test data\")"
   ]
  },
  {
   "cell_type": "markdown",
   "id": "d35ca8ea",
   "metadata": {},
   "source": [
    "## Modelling Experiments\n",
    "\n",
    "We have got some Bitcoin historical data, to model it, let's run a series of modelling experiments and see which model performs best.\n",
    "\n",
    "Terms to be familiar with:\n",
    "\n",
    "* **Horizon** = number of timesteps into the future we are going to predict\n",
    "* **Window size** = number of timesteps we are going to use to predict **horizon**\n",
    "\n",
    "Modelling experiments we are running:\n",
    "\n",
    "1. Naïve model (baseline)\n",
    "2. Dense Model, horizon = 1, window = 7\n",
    "3. Dense Model, horizon = 1, window = 30\n",
    "4. Dense Model, horizon = 7, window = 30\n",
    "5. Conv1D\n",
    "6. LSTM\n",
    "7. Dense Model, horizon = 1, window = 7 (but with multivariate data)\n",
    "8. N-BEATs Algorithm\n",
    "9. Ensemble (multiple models optimized stacked together)\n",
    "10. Future prediction model\n",
    "11. Dense Model (but with turkey data introduced) "
   ]
  },
  {
   "cell_type": "markdown",
   "id": "fc58f85b",
   "metadata": {},
   "source": [
    "## Model 0: Naive forecast (baseline)\n",
    "\n",
    "The formula looks like this:\n",
    "\n",
    "$$\\hat{y}_{t} = y_{t-1}$$\n",
    "\n",
    "In English:\n",
    "\n",
    "> The prediction at timestep t (y-hat) is equal to the value at timestep t-1 (previous step) - this is for horizon of 1."
   ]
  },
  {
   "cell_type": "code",
   "execution_count": 26,
   "id": "66850391",
   "metadata": {},
   "outputs": [
    {
     "data": {
      "text/plain": [
       "(array([9226.48582088, 8794.35864452, 8798.04205463, 9081.18687849,\n",
       "        8711.53433917, 8760.89271814, 8749.52059102, 8656.97092235,\n",
       "        8500.64355816, 8469.2608989 ]),\n",
       " array([57107.12067189, 58788.20967893, 58102.19142623, 55715.54665129,\n",
       "        56573.5554719 , 52147.82118698, 49764.1320816 , 50032.69313676,\n",
       "        47885.62525472, 45604.61575361]))"
      ]
     },
     "execution_count": 26,
     "metadata": {},
     "output_type": "execute_result"
    }
   ],
   "source": [
    "# Create a naive forecast\n",
    "naive_forecast = y_test[:-1]\n",
    "\n",
    "naive_forecast[:10], naive_forecast[-10:]"
   ]
  },
  {
   "cell_type": "code",
   "execution_count": 27,
   "id": "f978017f",
   "metadata": {},
   "outputs": [
    {
     "data": {
      "image/png": "[encoded data removed]",
      "text/plain": [
       "<Figure size 1000x700 with 1 Axes>"
      ]
     },
     "metadata": {},
     "output_type": "display_data"
    }
   ],
   "source": [
    "# Plot naive forecast\n",
    "plt.figure(figsize=(10, 7))\n",
    "plot_time_series(timesteps=X_train, values=y_train, label=\"Train data\")\n",
    "plot_time_series(timesteps=X_test, values=y_test, label=\"Test data\")\n",
    "plot_time_series(timesteps=X_test[1:], values=naive_forecast, format=\"-\", label=\"Naive Forecast\")"
   ]
  },
  {
   "cell_type": "markdown",
   "id": "aa45efec",
   "metadata": {},
   "source": [
    "## Evaluating a time series model\n",
    "\n",
    "Let's look into some evaluation metrics for time series forecasting.\n",
    "\n",
    "What are we doing? We are predicting a number, so that means we have a form of a regression problem.\n",
    "\n",
    "Because we are working on a regression problem, we will need some regression-like metrics.\n",
    "\n",
    "A few common regression metrics which can also be used for time series forecasting:\n",
    "\n",
    "* MAE - mean absolute error\n",
    "* MSE - mean squared error\n",
    "* RMSE - root mean square error\n",
    "* MAPE - mean absolute percentage error\n",
    "* MASE - mean absolute scaled error\n",
    "\n",
    "For all the above metrics, **lower is better**.\n",
    "\n",
    "The main thing we are evaluating here is: **how do our model's forecast (y_pred) compare against the actual values (y_true or ground truth values)?** "
   ]
  },
  {
   "cell_type": "code",
   "execution_count": 28,
   "id": "42bb23f5",
   "metadata": {},
   "outputs": [],
   "source": [
    "import tensorflow as tf"
   ]
  },
  {
   "cell_type": "code",
   "execution_count": 29,
   "id": "ae9e9f59",
   "metadata": {},
   "outputs": [],
   "source": [
    "# MASE implementation\n",
    "def mean_absolute_scaled_error(y_true, y_pred):\n",
    "    \"\"\"\n",
    "    Implement MASE (assuming no seasonality of data).\n",
    "    \"\"\"\n",
    "    mae = tf.reduce_mean(tf.abs(y_true - y_pred))\n",
    "\n",
    "    # Find MAE of naive forecast (no seasonality)\n",
    "    mae_naive_no_season = tf.reduce_mean(tf.abs(y_true[1:] - y_true[:-1])) # our seasonality is 1 day (hence the shift of 1)\n",
    "\n",
    "    return mae / mae_naive_no_season"
   ]
  },
  {
   "cell_type": "code",
   "execution_count": 30,
   "id": "0d85bb57",
   "metadata": {},
   "outputs": [
    {
     "data": {
      "text/plain": [
       "0.9995699939182624"
      ]
     },
     "execution_count": 30,
     "metadata": {},
     "output_type": "execute_result"
    }
   ],
   "source": [
    "mean_absolute_scaled_error(y_true=y_test[1:], y_pred=naive_forecast).numpy()"
   ]
  },
  {
   "cell_type": "code",
   "execution_count": 31,
   "id": "a06fe4df",
   "metadata": {},
   "outputs": [],
   "source": [
    "# Create a function to take in model predictions and truth values and return evaluation metrics\n",
    "def evaluate_preds(y_true, y_pred):\n",
    "    # Make sure float32 datatype (for metric calculation)\n",
    "    y_true = tf.cast(y_true, dtype=tf.float32)\n",
    "    y_pred = tf.cast(y_pred, dtype=tf.float32)\n",
    "\n",
    "    # Calculate various evaluation metrics\n",
    "    mae = tf.keras.metrics.mean_absolute_error(y_true, y_pred)\n",
    "    mse = tf.keras.metrics.mean_squared_error(y_true, y_pred)\n",
    "    rmse = tf.sqrt(mse)\n",
    "    mape = tf.keras.metrics.mean_absolute_percentage_error(y_true, y_pred)\n",
    "    mase = mean_absolute_scaled_error(y_true, y_pred)\n",
    "\n",
    "    return {\n",
    "        \"mae\": mae.numpy(),\n",
    "        \"mse\": mse.numpy(),\n",
    "        \"rmse\": rmse.numpy(),\n",
    "        \"mape\": mape.numpy(),\n",
    "        \"mase\": mase.numpy()\n",
    "    }"
   ]
  },
  {
   "cell_type": "code",
   "execution_count": 32,
   "id": "5702372e",
   "metadata": {},
   "outputs": [
    {
     "data": {
      "text/plain": [
       "{'mae': 567.9802,\n",
       " 'mse': 1147547.0,\n",
       " 'rmse': 1071.2362,\n",
       " 'mape': 2.516525,\n",
       " 'mase': 0.99957}"
      ]
     },
     "execution_count": 32,
     "metadata": {},
     "output_type": "execute_result"
    }
   ],
   "source": [
    "# Let's now see if it works\n",
    "naive_results = evaluate_preds(y_true=y_test[1:],\n",
    "                               y_pred=naive_forecast)\n",
    "naive_results"
   ]
  },
  {
   "cell_type": "code",
   "execution_count": 33,
   "id": "5990a758",
   "metadata": {},
   "outputs": [
    {
     "data": {
      "text/plain": [
       "<tf.Tensor: shape=(), dtype=float64, numpy=20056.632963737222>"
      ]
     },
     "execution_count": 33,
     "metadata": {},
     "output_type": "execute_result"
    }
   ],
   "source": [
    "tf.reduce_mean(y_test)"
   ]
  },
  {
   "cell_type": "code",
   "execution_count": 34,
   "id": "10a3612b",
   "metadata": {},
   "outputs": [
    {
     "data": {
      "text/plain": [
       "(<tf.Tensor: shape=(), dtype=float64, numpy=4944.7023359837>,\n",
       " <tf.Tensor: shape=(), dtype=float64, numpy=63346.7890351052>)"
      ]
     },
     "execution_count": 34,
     "metadata": {},
     "output_type": "execute_result"
    }
   ],
   "source": [
    "tf.reduce_min(y_test), tf.reduce_max(y_test)"
   ]
  },
  {
   "cell_type": "markdown",
   "id": "86f95069",
   "metadata": {},
   "source": [
    "## Others Models for Time Series Forecasting\n",
    "\n",
    "In this notebook we are going to use only neural networks for time series forecasting, but there are a plenty of models used in the industry or as a baseline model you can use."
   ]
  },
  {
   "attachments": {
    "image.png": {
     "image/png": "[encoded data removed]"
    }
   },
   "cell_type": "markdown",
   "id": "c393aa09",
   "metadata": {},
   "source": [
    "![image.png](attachment:image.png)"
   ]
  },
  {
   "cell_type": "markdown",
   "id": "21c7fa33",
   "metadata": {},
   "source": [
    "## Format Data Part 2: Windowing our dataset\n",
    "\n",
    "Why do we window?\n",
    "\n",
    "We window our time series dataset to turn our data into a supervised learning problem.\n",
    "\n",
    "```\n",
    "Windowing for one week\n",
    "[0, 1, 2, 3, 4, 5, 6] --> [7]\n",
    "[1, 2, 3, 4, 5, 6, 7] --> [8]\n",
    "[2, 3, 4, 5, 6, 7, 8] --> [9]\n",
    "```"
   ]
  },
  {
   "cell_type": "code",
   "execution_count": 35,
   "id": "8b6f42f1",
   "metadata": {},
   "outputs": [
    {
     "data": {
      "text/plain": [
       "2229"
      ]
     },
     "execution_count": 35,
     "metadata": {},
     "output_type": "execute_result"
    }
   ],
   "source": [
    "len(y_train)"
   ]
  },
  {
   "cell_type": "code",
   "execution_count": 36,
   "id": "1b9651aa",
   "metadata": {},
   "outputs": [
    {
     "name": "stdout",
     "output_type": "stream",
     "text": [
      "We want to use: [123.65499, 125.455, 108.58483, 118.67466, 121.33866, 120.65533, 121.795] to predict this: 123.033\n"
     ]
    }
   ],
   "source": [
    "# What we want to do with our Bitcoin data\n",
    "print(f\"We want to use: {btc_price[:7]} to predict this: {btc_price[7]}\")"
   ]
  },
  {
   "cell_type": "code",
   "execution_count": 37,
   "id": "17089829",
   "metadata": {},
   "outputs": [],
   "source": [
    "# Let's setup global variables for window and horizon size\n",
    "HORIZON = 1 # predict next 1 day\n",
    "WINDOW_SIZE = 7 # use the past week of Bitcoin data to make the prediction"
   ]
  },
  {
   "cell_type": "code",
   "execution_count": 38,
   "id": "4e6e7d48",
   "metadata": {},
   "outputs": [],
   "source": [
    "# Create function to label window data\n",
    "def get_labelled_windows(x, horizon=HORIZON):\n",
    "    \"\"\"\n",
    "    Creates labels for windowed dataset.\n",
    "\n",
    "    E.g. if horizon = 1 --> Input: [0, 1, 2, 3, 4, 5, 6, 7] --> Output: ([0, 1, 2, 3, 4, 5, 6, 7], [7])\n",
    "    \"\"\"\n",
    "    return x[:, :-horizon], x[:, -horizon:]"
   ]
  },
  {
   "cell_type": "code",
   "execution_count": 39,
   "id": "6dcfa33b",
   "metadata": {},
   "outputs": [
    {
     "name": "stdout",
     "output_type": "stream",
     "text": [
      "Window: [0 1 2 3 4 5 6] -> Label: 7\n"
     ]
    }
   ],
   "source": [
    "# Test out the window labelling function\n",
    "test_window, test_label = get_labelled_windows(tf.expand_dims(tf.range(8), axis = 0))\n",
    "print(f\"Window: {tf.squeeze(test_window).numpy()} -> Label: {tf.squeeze(test_label).numpy()}\")"
   ]
  },
  {
   "cell_type": "markdown",
   "id": "0d51bd96",
   "metadata": {},
   "source": [
    "We have got a way to label our windowed data.\n",
    "\n",
    "However, this only works on a small scale.\n",
    "\n",
    "We need a way to do the above across our entire time series.\n",
    "\n",
    "We could do this with Python for loops, however, for large time series, that'd be quite slow.\n",
    "\n",
    "To speed things up, we will leverage NumPy's array indexing.\n",
    "\n",
    "Our function will:\n",
    "1. Create a window step of specific window size.\n",
    "2. It will numpy indexing to create a 2D array of multiple window steps, for example:\n",
    "```\n",
    "[\n",
    "    [0, 1, 2, 3, 4, 5, 6],\n",
    "    [1, 2, 3, 4, 5, 6, 7],\n",
    "    [2, 3, 4, 5, 6, 7, 8]\n",
    "]\n",
    "```\n",
    "3. Uses the 2D array of multiple window steps (from 2.) to index on a target series.\n",
    "4. Uses our `get_labelled_windows()` function we created above to turn the window steps into windows with specified horizon."
   ]
  },
  {
   "cell_type": "code",
   "execution_count": 40,
   "id": "83361e19",
   "metadata": {},
   "outputs": [],
   "source": [
    "import numpy as np\n",
    "\n",
    "# Create function to view NumPy arrays as windows\n",
    "def make_windows(x, window_size=WINDOW_SIZE, horizon=HORIZON):\n",
    "    \"\"\"\n",
    "    Turns a 1D into a 2D array of sequential labelled windows of window_size with horizon size labels.\n",
    "    \"\"\"\n",
    "    # 1. Create a window of specific window_size (add the horzion on the end for labelling later)\n",
    "    window_step = np.expand_dims(np.arange(window_size + horizon), axis=0)\n",
    "\n",
    "    # 2. Create a 2D array of multiple window steps (minus 1 to account for 0 indexing)\n",
    "    window_indexes = window_step + np.expand_dims(np.arange(len(x) - (window_size + horizon - 1)), axis=0).T # create 2D array of windows of size window_siz\n",
    "\n",
    "    # 3. Index on the target array (a time series) with 2D array of multiple window steps\n",
    "    windowed_array = x[window_indexes]\n",
    "\n",
    "    # 4. Get the labelled windows\n",
    "    windows, labels = get_labelled_windows(windowed_array, horizon=horizon)\n",
    "\n",
    "    return windows, labels"
   ]
  },
  {
   "cell_type": "code",
   "execution_count": 41,
   "id": "232bacdc",
   "metadata": {},
   "outputs": [
    {
     "data": {
      "text/plain": [
       "(2780, 2780)"
      ]
     },
     "execution_count": 41,
     "metadata": {},
     "output_type": "execute_result"
    }
   ],
   "source": [
    "full_windows, full_labels = make_windows(prices, window_size=WINDOW_SIZE, horizon=HORIZON)\n",
    "len(full_windows), len(full_labels)"
   ]
  },
  {
   "cell_type": "code",
   "execution_count": 42,
   "id": "cdbdb2e9",
   "metadata": {},
   "outputs": [
    {
     "name": "stdout",
     "output_type": "stream",
     "text": [
      "Window: [123.65499 125.455   108.58483 118.67466 121.33866 120.65533 121.795  ] -> Label: [123.033]\n",
      "Window: [125.455   108.58483 118.67466 121.33866 120.65533 121.795   123.033  ] -> Label: [124.049]\n",
      "Window: [108.58483 118.67466 121.33866 120.65533 121.795   123.033   124.049  ] -> Label: [125.96116]\n"
     ]
    }
   ],
   "source": [
    "# View the first 3 windows/labels\n",
    "for i in range(3):\n",
    "    print(f'Window: {full_windows[i]} -> Label: {full_labels[i]}')"
   ]
  },
  {
   "cell_type": "code",
   "execution_count": 43,
   "id": "59151d16",
   "metadata": {},
   "outputs": [
    {
     "name": "stdout",
     "output_type": "stream",
     "text": [
      "Window: [58788.20967893 58102.19142623 55715.54665129 56573.5554719\n",
      " 52147.82118698 49764.1320816  50032.69313676] -> Label: [47885.62525472]\n",
      "Window: [58102.19142623 55715.54665129 56573.5554719  52147.82118698\n",
      " 49764.1320816  50032.69313676 47885.62525472] -> Label: [45604.61575361]\n",
      "Window: [55715.54665129 56573.5554719  52147.82118698 49764.1320816\n",
      " 50032.69313676 47885.62525472 45604.61575361] -> Label: [43144.47129086]\n"
     ]
    }
   ],
   "source": [
    "# View the last 3 windows/labels\n",
    "for i in range(3):\n",
    "    print(f'Window: {full_windows[i-3]} -> Label: {full_labels[i-3]}')"
   ]
  },
  {
   "cell_type": "markdown",
   "id": "1b663e8c",
   "metadata": {},
   "source": [
    "## Turning windows into training and test sets"
   ]
  },
  {
   "cell_type": "code",
   "execution_count": 44,
   "id": "9f0fcf2b",
   "metadata": {},
   "outputs": [],
   "source": [
    "# Make the train/test splits\n",
    "def make_train_test_splits(windows, labels, test_split=0.2):\n",
    "    \"\"\"\n",
    "    Splits matching pairs of windows and labels into train an test splits.\n",
    "    \"\"\"\n",
    "    splits_size = int(len(windows) * (1 - test_split)) # this will default 80% train / 20% test\n",
    "    train_windows = windows[:split_size]\n",
    "    train_labels = labels[:split_size]\n",
    "    test_windows = windows[split_size:]\n",
    "    test_labels = labels[split_size:]\n",
    "    return train_windows, test_windows, train_labels, test_labels"
   ]
  },
  {
   "cell_type": "code",
   "execution_count": 45,
   "id": "bef31773",
   "metadata": {},
   "outputs": [
    {
     "data": {
      "text/plain": [
       "(2229, 551, 2229, 551)"
      ]
     },
     "execution_count": 45,
     "metadata": {},
     "output_type": "execute_result"
    }
   ],
   "source": [
    "train_windows, test_windows, train_labels, test_labels = make_train_test_splits(full_windows, full_labels)\n",
    "len(train_windows), len(test_windows), len(train_labels), len(test_labels)"
   ]
  },
  {
   "cell_type": "code",
   "execution_count": 46,
   "id": "d76eb571",
   "metadata": {},
   "outputs": [
    {
     "data": {
      "text/plain": [
       "True"
      ]
     },
     "execution_count": 46,
     "metadata": {},
     "output_type": "execute_result"
    }
   ],
   "source": [
    "np.array_equal(np.squeeze(train_labels[:-HORIZON-6]), y_train[WINDOW_SIZE:])"
   ]
  },
  {
   "cell_type": "markdown",
   "id": "31d4b47c",
   "metadata": {},
   "source": [
    "## Make a modelling checkpoint callback\n",
    "\n",
    "Because our model's performance will fluctuate from experiment to experiment, we're going to write a model checkpoint so we can compare apples to apples.\n",
    "\n",
    "More specifically, we want to compare each of our model's best performances against the other model's best performances.\n",
    "\n",
    "For example if our model performs the best on epoch 55 (but we are training for 100 epochs), we want to load and evaluate the model saved on epoch 55.\n",
    "\n",
    "We can create modelling checkpoint callback using the following: https://www.tensorflow.org/api_docs/python/tf/keras/callbacks/ModelCheckpoint"
   ]
  },
  {
   "cell_type": "code",
   "execution_count": 47,
   "id": "5fe80ecc",
   "metadata": {},
   "outputs": [],
   "source": [
    "import os\n",
    "\n",
    "# Create a function to implement a ModelCheckpoint callback with a specific filename\n",
    "def create_model_checkpoint(model_name, save_path='model_experiments'):\n",
    "    return tf.keras.callbacks.ModelCheckpoint(filepath=os.path.join(save_path, model_name),\n",
    "                                              monitor='val_loss',\n",
    "                                              verbose=0, # only output a limited amount of text\n",
    "                                              save_best_only=True)"
   ]
  },
  {
   "cell_type": "markdown",
   "id": "4f378620",
   "metadata": {},
   "source": [
    "## Model 1: Dense Model (window = 7, horizon = 1)\n",
    "\n",
    "Our first deep model is going to be a simple dense model:\n",
    "\n",
    "* A single dense layer with 128 hidden units and ReLU\n",
    "* An output layer with linear activation (no activation)\n",
    "* Adam optimization and MAE loss function\n",
    "* Batch size of 128 (previously we have used 32)\n",
    "* 100 epochs\n",
    "\n",
    "Why these values?\n",
    "\n",
    "I picked them out of experimentation."
   ]
  },
  {
   "cell_type": "code",
   "execution_count": 48,
   "id": "2ee5065e",
   "metadata": {},
   "outputs": [
    {
     "name": "stdout",
     "output_type": "stream",
     "text": [
      "Epoch 1/100\n",
      "16/18 [=========================>....] - ETA: 0s - loss: 1185.0818 - mae: 1185.0818 - mse: 5239015.0000   INFO:tensorflow:Assets written to: model_experiments\\model_1_dense\\assets\n",
      "18/18 [==============================] - 5s 47ms/step - loss: 1135.8452 - mae: 1135.8452 - mse: 4885987.5000 - val_loss: 3274.8044 - val_mae: 3274.8044 - val_mse: 23164326.0000\n",
      "Epoch 2/100\n",
      "14/18 [======================>.......] - ETA: 0s - loss: 299.4285 - mae: 299.4285 - mse: 355241.0000INFO:tensorflow:Assets written to: model_experiments\\model_1_dense\\assets\n",
      "18/18 [==============================] - 0s 29ms/step - loss: 280.0155 - mae: 280.0155 - mse: 321710.2500 - val_loss: 941.4615 - val_mae: 941.4615 - val_mse: 2982832.0000\n",
      "Epoch 3/100\n",
      " 1/18 [>.............................] - ETA: 0s - loss: 130.0309 - mae: 130.0309 - mse: 107530.1094INFO:tensorflow:Assets written to: model_experiments\\model_1_dense\\assets\n",
      "18/18 [==============================] - 0s 27ms/step - loss: 172.1088 - mae: 172.1088 - mse: 153778.9062 - val_loss: 907.2452 - val_mae: 907.2452 - val_mse: 2695964.2500\n",
      "Epoch 4/100\n",
      " 1/18 [>.............................] - ETA: 0s - loss: 163.7601 - mae: 163.7601 - mse: 114458.8750INFO:tensorflow:Assets written to: model_experiments\\model_1_dense\\assets\n",
      "18/18 [==============================] - 0s 27ms/step - loss: 158.5242 - mae: 158.5242 - mse: 139460.2031 - val_loss: 901.5514 - val_mae: 901.5514 - val_mse: 2604872.5000\n",
      "Epoch 5/100\n",
      "18/18 [==============================] - 0s 6ms/step - loss: 155.9169 - mae: 155.9169 - mse: 131412.3125 - val_loss: 902.8134 - val_mae: 902.8134 - val_mse: 2544695.5000\n",
      "Epoch 6/100\n",
      " 1/18 [>.............................] - ETA: 0s - loss: 139.5027 - mae: 139.5027 - mse: 77328.6328INFO:tensorflow:Assets written to: model_experiments\\model_1_dense\\assets\n",
      "18/18 [==============================] - 1s 29ms/step - loss: 152.6851 - mae: 152.6851 - mse: 129960.1719 - val_loss: 856.1639 - val_mae: 856.1639 - val_mse: 2382098.5000\n",
      "Epoch 7/100\n",
      "17/18 [===========================>..] - ETA: 0s - loss: 149.2476 - mae: 149.2476 - mse: 124381.7031INFO:tensorflow:Assets written to: model_experiments\\model_1_dense\\assets\n",
      "18/18 [==============================] - 1s 44ms/step - loss: 149.6515 - mae: 149.6515 - mse: 124766.2891 - val_loss: 836.3884 - val_mae: 836.3884 - val_mse: 2327377.7500\n",
      "Epoch 8/100\n",
      "14/18 [======================>.......] - ETA: 0s - loss: 147.2334 - mae: 147.2334 - mse: 125283.6094INFO:tensorflow:Assets written to: model_experiments\\model_1_dense\\assets\n",
      "18/18 [==============================] - 1s 32ms/step - loss: 146.9792 - mae: 146.9792 - mse: 121460.3125 - val_loss: 816.1548 - val_mae: 816.1548 - val_mse: 2187095.5000\n",
      "Epoch 9/100\n",
      "16/18 [=========================>....] - ETA: 0s - loss: 145.0537 - mae: 145.0537 - mse: 119190.7031INFO:tensorflow:Assets written to: model_experiments\\model_1_dense\\assets\n",
      "18/18 [==============================] - 0s 28ms/step - loss: 143.8672 - mae: 143.8672 - mse: 116625.3359 - val_loss: 815.4595 - val_mae: 815.4595 - val_mse: 2124134.0000\n",
      "Epoch 10/100\n",
      "17/18 [===========================>..] - ETA: 0s - loss: 140.6906 - mae: 140.6906 - mse: 110253.4141INFO:tensorflow:Assets written to: model_experiments\\model_1_dense\\assets\n",
      "18/18 [==============================] - 0s 28ms/step - loss: 140.7837 - mae: 140.7837 - mse: 110663.6094 - val_loss: 791.3098 - val_mae: 791.3098 - val_mse: 2027241.2500\n",
      "Epoch 11/100\n",
      "18/18 [==============================] - 0s 6ms/step - loss: 140.4614 - mae: 140.4614 - mse: 109121.7578 - val_loss: 854.3582 - val_mae: 854.3582 - val_mse: 2158678.5000\n",
      "Epoch 12/100\n",
      "18/18 [==============================] - 0s 6ms/step - loss: 147.5382 - mae: 147.5382 - mse: 112538.7109 - val_loss: 809.3680 - val_mae: 809.3680 - val_mse: 2006896.3750\n",
      "Epoch 13/100\n",
      "17/18 [===========================>..] - ETA: 0s - loss: 140.1386 - mae: 140.1386 - mse: 107555.8281INFO:tensorflow:Assets written to: model_experiments\\model_1_dense\\assets\n",
      "18/18 [==============================] - 1s 31ms/step - loss: 139.5044 - mae: 139.5044 - mse: 106934.7344 - val_loss: 752.0067 - val_mae: 752.0067 - val_mse: 1835842.2500\n",
      "Epoch 14/100\n",
      " 1/18 [>.............................] - ETA: 0s - loss: 161.5607 - mae: 161.5607 - mse: 207464.4219INFO:tensorflow:Assets written to: model_experiments\\model_1_dense\\assets\n",
      "18/18 [==============================] - 0s 26ms/step - loss: 132.7809 - mae: 132.7809 - mse: 100427.7734 - val_loss: 746.0372 - val_mae: 746.0372 - val_mse: 1789339.6250\n",
      "Epoch 15/100\n",
      " 1/18 [>.............................] - ETA: 0s - loss: 131.9461 - mae: 131.9461 - mse: 181625.7188INFO:tensorflow:Assets written to: model_experiments\\model_1_dense\\assets\n",
      "18/18 [==============================] - 0s 26ms/step - loss: 130.3413 - mae: 130.3413 - mse: 97167.9375 - val_loss: 743.6644 - val_mae: 743.6644 - val_mse: 1759926.2500\n",
      "Epoch 16/100\n",
      "18/18 [==============================] - 0s 5ms/step - loss: 131.7778 - mae: 131.7778 - mse: 95867.6016 - val_loss: 744.3149 - val_mae: 744.3149 - val_mse: 1742362.2500\n",
      "Epoch 17/100\n",
      "18/18 [==============================] - 0s 5ms/step - loss: 132.8256 - mae: 132.8256 - mse: 97219.7734 - val_loss: 796.2039 - val_mae: 796.2039 - val_mse: 1875459.5000\n",
      "Epoch 18/100\n",
      " 1/18 [>.............................] - ETA: 0s - loss: 87.1469 - mae: 87.1469 - mse: 43331.1328INFO:tensorflow:Assets written to: model_experiments\\model_1_dense\\assets\n",
      "18/18 [==============================] - 0s 27ms/step - loss: 127.6556 - mae: 127.6556 - mse: 93413.1250 - val_loss: 692.5170 - val_mae: 692.5170 - val_mse: 1608523.1250\n",
      "Epoch 19/100\n",
      "16/18 [=========================>....] - ETA: 0s - loss: 126.1484 - mae: 126.1484 - mse: 86947.7578INFO:tensorflow:Assets written to: model_experiments\\model_1_dense\\assets\n",
      "18/18 [==============================] - 0s 27ms/step - loss: 126.8229 - mae: 126.8229 - mse: 92207.2422 - val_loss: 689.1591 - val_mae: 689.1591 - val_mse: 1568407.7500\n",
      "Epoch 20/100\n",
      "18/18 [==============================] - 0s 5ms/step - loss: 126.1345 - mae: 126.1345 - mse: 89444.1953 - val_loss: 700.7811 - val_mae: 700.7811 - val_mse: 1578368.6250\n",
      "Epoch 21/100\n",
      " 1/18 [>.............................] - ETA: 0s - loss: 109.8098 - mae: 109.8098 - mse: 60947.8672INFO:tensorflow:Assets written to: model_experiments\\model_1_dense\\assets\n",
      "18/18 [==============================] - 0s 26ms/step - loss: 123.2951 - mae: 123.2951 - mse: 88429.0703 - val_loss: 671.4081 - val_mae: 671.4081 - val_mse: 1511712.8750\n",
      "Epoch 22/100\n",
      "18/18 [==============================] - 0s 6ms/step - loss: 121.5973 - mae: 121.5973 - mse: 86050.5391 - val_loss: 732.8049 - val_mae: 732.8049 - val_mse: 1648319.6250\n",
      "Epoch 23/100\n",
      "18/18 [==============================] - 0s 5ms/step - loss: 130.3442 - mae: 130.3442 - mse: 85663.7812 - val_loss: 790.6942 - val_mae: 790.6942 - val_mse: 1809925.2500\n",
      "Epoch 24/100\n",
      "18/18 [==============================] - 0s 5ms/step - loss: 128.0898 - mae: 128.0898 - mse: 85611.1250 - val_loss: 768.6290 - val_mae: 768.6290 - val_mse: 1738429.7500\n",
      "Epoch 25/100\n",
      "18/18 [==============================] - 0s 4ms/step - loss: 125.4800 - mae: 125.4800 - mse: 88252.1875 - val_loss: 683.9850 - val_mae: 683.9850 - val_mse: 1503659.0000\n",
      "Epoch 26/100\n",
      " 1/18 [>.............................] - ETA: 0s - loss: 119.0807 - mae: 119.0807 - mse: 59647.2031INFO:tensorflow:Assets written to: model_experiments\\model_1_dense\\assets\n",
      "18/18 [==============================] - 0s 26ms/step - loss: 127.9803 - mae: 127.9803 - mse: 87298.2188 - val_loss: 645.6904 - val_mae: 645.6904 - val_mse: 1433591.8750\n",
      "Epoch 27/100\n",
      "18/18 [==============================] - 0s 5ms/step - loss: 120.1148 - mae: 120.1148 - mse: 82157.3047 - val_loss: 684.4948 - val_mae: 684.4948 - val_mse: 1495616.3750\n",
      "Epoch 28/100\n",
      "18/18 [==============================] - 0s 5ms/step - loss: 122.7145 - mae: 122.7145 - mse: 84613.7188 - val_loss: 714.5891 - val_mae: 714.5891 - val_mse: 1570061.0000\n",
      "Epoch 29/100\n",
      " 1/18 [>.............................] - ETA: 0s - loss: 122.5745 - mae: 122.5745 - mse: 56194.8594INFO:tensorflow:Assets written to: model_experiments\\model_1_dense\\assets\n",
      "18/18 [==============================] - 0s 28ms/step - loss: 120.4959 - mae: 120.4959 - mse: 82169.6250 - val_loss: 629.9919 - val_mae: 629.9919 - val_mse: 1366545.8750\n",
      "Epoch 30/100\n",
      "18/18 [==============================] - 0s 6ms/step - loss: 115.0487 - mae: 115.0487 - mse: 78998.5234 - val_loss: 657.4410 - val_mae: 657.4410 - val_mse: 1417320.8750\n",
      "Epoch 31/100\n",
      " 1/18 [>.............................] - ETA: 0s - loss: 145.1328 - mae: 145.1328 - mse: 130072.9062INFO:tensorflow:Assets written to: model_experiments\\model_1_dense\\assets\n",
      "18/18 [==============================] - 0s 27ms/step - loss: 119.6108 - mae: 119.6108 - mse: 79450.2969 - val_loss: 627.7294 - val_mae: 627.7294 - val_mse: 1368632.2500\n",
      "Epoch 32/100\n",
      "18/18 [==============================] - 0s 6ms/step - loss: 114.6923 - mae: 114.6923 - mse: 78624.3438 - val_loss: 659.3190 - val_mae: 659.3190 - val_mse: 1413685.6250\n",
      "Epoch 33/100\n",
      "18/18 [==============================] - 0s 5ms/step - loss: 118.5665 - mae: 118.5665 - mse: 80458.0781 - val_loss: 681.7504 - val_mae: 681.7504 - val_mse: 1527626.5000\n",
      "Epoch 34/100\n",
      "18/18 [==============================] - ETA: 0s - loss: 124.1359 - mae: 124.1359 - mse: 85885.5000INFO:tensorflow:Assets written to: model_experiments\\model_1_dense\\assets\n",
      "18/18 [==============================] - 0s 27ms/step - loss: 124.1359 - mae: 124.1359 - mse: 85885.5000 - val_loss: 625.4756 - val_mae: 625.4756 - val_mse: 1356243.1250\n",
      "Epoch 35/100\n",
      "18/18 [==============================] - 0s 6ms/step - loss: 116.9302 - mae: 116.9302 - mse: 80336.8828 - val_loss: 654.4420 - val_mae: 654.4420 - val_mse: 1437810.3750\n",
      "Epoch 36/100\n",
      "16/18 [=========================>....] - ETA: 0s - loss: 116.1971 - mae: 116.1971 - mse: 79930.7109INFO:tensorflow:Assets written to: model_experiments\\model_1_dense\\assets\n",
      "18/18 [==============================] - 0s 27ms/step - loss: 115.6841 - mae: 115.6841 - mse: 78885.7344 - val_loss: 606.9193 - val_mae: 606.9193 - val_mse: 1292439.7500\n",
      "Epoch 37/100\n",
      "18/18 [==============================] - 0s 5ms/step - loss: 116.7283 - mae: 116.7283 - mse: 79132.8516 - val_loss: 608.9431 - val_mae: 608.9431 - val_mse: 1302091.0000\n",
      "Epoch 38/100\n",
      "18/18 [==============================] - 0s 5ms/step - loss: 112.2195 - mae: 112.2195 - mse: 75713.8438 - val_loss: 621.8566 - val_mae: 621.8566 - val_mse: 1311476.6250\n",
      "Epoch 39/100\n",
      "17/18 [===========================>..] - ETA: 0s - loss: 112.9473 - mae: 112.9473 - mse: 76352.3594INFO:tensorflow:Assets written to: model_experiments\\model_1_dense\\assets\n",
      "18/18 [==============================] - 0s 29ms/step - loss: 112.5955 - mae: 112.5955 - mse: 75471.3047 - val_loss: 601.9650 - val_mae: 601.9650 - val_mse: 1277898.5000\n",
      "Epoch 40/100\n",
      "18/18 [==============================] - 0s 5ms/step - loss: 113.4255 - mae: 113.4255 - mse: 75245.1484 - val_loss: 661.1950 - val_mae: 661.1950 - val_mse: 1441947.3750\n",
      "Epoch 41/100\n",
      "18/18 [==============================] - 0s 5ms/step - loss: 115.1576 - mae: 115.1576 - mse: 75162.9062 - val_loss: 610.2894 - val_mae: 610.2894 - val_mse: 1301073.5000\n",
      "Epoch 42/100\n",
      " 1/18 [>.............................] - ETA: 0s - loss: 113.8713 - mae: 113.8713 - mse: 85921.9688INFO:tensorflow:Assets written to: model_experiments\\model_1_dense\\assets\n",
      "18/18 [==============================] - 0s 26ms/step - loss: 112.5467 - mae: 112.5467 - mse: 76214.0859 - val_loss: 597.5484 - val_mae: 597.5484 - val_mse: 1254898.5000\n",
      "Epoch 43/100\n",
      "17/18 [===========================>..] - ETA: 0s - loss: 113.4164 - mae: 113.4164 - mse: 73769.1562INFO:tensorflow:Assets written to: model_experiments\\model_1_dense\\assets\n",
      "18/18 [==============================] - 0s 27ms/step - loss: 113.8444 - mae: 113.8444 - mse: 73823.4141 - val_loss: 595.2311 - val_mae: 595.2311 - val_mse: 1259851.7500\n",
      "Epoch 44/100\n",
      "18/18 [==============================] - 0s 5ms/step - loss: 116.9598 - mae: 116.9598 - mse: 78294.0000 - val_loss: 719.0288 - val_mae: 719.0288 - val_mse: 1538995.7500\n",
      "Epoch 45/100\n",
      "18/18 [==============================] - 0s 5ms/step - loss: 122.9093 - mae: 122.9093 - mse: 82016.6172 - val_loss: 597.5531 - val_mae: 597.5531 - val_mse: 1250042.7500\n",
      "Epoch 46/100\n",
      " 1/18 [>.............................] - ETA: 0s - loss: 81.5332 - mae: 81.5332 - mse: 29976.2207INFO:tensorflow:Assets written to: model_experiments\\model_1_dense\\assets\n",
      "18/18 [==============================] - 0s 27ms/step - loss: 112.5321 - mae: 112.5321 - mse: 75591.2578 - val_loss: 593.5554 - val_mae: 593.5554 - val_mse: 1242920.7500\n",
      "Epoch 47/100\n",
      " 1/18 [>.............................] - ETA: 0s - loss: 110.1279 - mae: 110.1279 - mse: 89780.7656INFO:tensorflow:Assets written to: model_experiments\\model_1_dense\\assets\n",
      "18/18 [==============================] - 0s 27ms/step - loss: 108.8600 - mae: 108.8600 - mse: 71642.9375 - val_loss: 593.2758 - val_mae: 593.2758 - val_mse: 1255102.5000\n",
      "Epoch 48/100\n",
      "18/18 [==============================] - 0s 7ms/step - loss: 108.6503 - mae: 108.6503 - mse: 73412.0078 - val_loss: 599.0590 - val_mae: 599.0590 - val_mse: 1250178.5000\n",
      "Epoch 49/100\n",
      "18/18 [==============================] - 0s 6ms/step - loss: 109.9900 - mae: 109.9900 - mse: 73099.0000 - val_loss: 606.6503 - val_mae: 606.6503 - val_mse: 1264039.7500\n",
      "Epoch 50/100\n",
      "18/18 [==============================] - 0s 6ms/step - loss: 111.9994 - mae: 111.9994 - mse: 74774.2031 - val_loss: 607.0811 - val_mae: 607.0811 - val_mse: 1285098.0000\n",
      "Epoch 51/100\n",
      "16/18 [=========================>....] - ETA: 0s - loss: 111.3709 - mae: 111.3709 - mse: 72694.7031INFO:tensorflow:Assets written to: model_experiments\\model_1_dense\\assets\n",
      "18/18 [==============================] - 1s 43ms/step - loss: 111.7403 - mae: 111.7403 - mse: 72944.5234 - val_loss: 585.4826 - val_mae: 585.4826 - val_mse: 1227963.7500\n",
      "Epoch 52/100\n",
      "18/18 [==============================] - 0s 5ms/step - loss: 109.5529 - mae: 109.5529 - mse: 71464.1484 - val_loss: 648.6401 - val_mae: 648.6401 - val_mse: 1387041.8750\n",
      "Epoch 53/100\n",
      "18/18 [==============================] - 0s 5ms/step - loss: 111.1880 - mae: 111.1880 - mse: 73852.7734 - val_loss: 638.3455 - val_mae: 638.3455 - val_mse: 1326124.1250\n",
      "Epoch 54/100\n",
      "18/18 [==============================] - 0s 5ms/step - loss: 111.2113 - mae: 111.2113 - mse: 71269.4922 - val_loss: 678.2993 - val_mae: 678.2993 - val_mse: 1460702.5000\n",
      "Epoch 55/100\n",
      "18/18 [==============================] - 0s 5ms/step - loss: 117.2286 - mae: 117.2286 - mse: 75792.6641 - val_loss: 625.0491 - val_mae: 625.0491 - val_mse: 1320762.7500\n",
      "Epoch 56/100\n",
      "18/18 [==============================] - 0s 5ms/step - loss: 107.8493 - mae: 107.8493 - mse: 71499.8828 - val_loss: 631.5925 - val_mae: 631.5925 - val_mse: 1338728.5000\n",
      "Epoch 57/100\n",
      "18/18 [==============================] - 0s 5ms/step - loss: 113.4256 - mae: 113.4256 - mse: 76211.5547 - val_loss: 612.4411 - val_mae: 612.4411 - val_mse: 1267207.8750\n",
      "Epoch 58/100\n",
      "18/18 [==============================] - 0s 5ms/step - loss: 108.7943 - mae: 108.7943 - mse: 71231.6953 - val_loss: 588.8540 - val_mae: 588.8540 - val_mse: 1218845.7500\n",
      "Epoch 59/100\n",
      "18/18 [==============================] - 0s 5ms/step - loss: 110.4610 - mae: 110.4610 - mse: 72247.7500 - val_loss: 627.1807 - val_mae: 627.1807 - val_mse: 1326949.2500\n",
      "Epoch 60/100\n",
      "18/18 [==============================] - ETA: 0s - loss: 117.8422 - mae: 117.8422 - mse: 75412.8516INFO:tensorflow:Assets written to: model_experiments\\model_1_dense\\assets\n",
      "18/18 [==============================] - 0s 28ms/step - loss: 117.8422 - mae: 117.8422 - mse: 75412.8516 - val_loss: 581.2986 - val_mae: 581.2986 - val_mse: 1210392.3750\n",
      "Epoch 61/100\n",
      "18/18 [==============================] - 0s 8ms/step - loss: 126.4471 - mae: 126.4471 - mse: 79759.3203 - val_loss: 666.7465 - val_mae: 666.7465 - val_mse: 1382640.7500\n",
      "Epoch 62/100\n",
      "18/18 [==============================] - 0s 5ms/step - loss: 119.3319 - mae: 119.3319 - mse: 78905.2969 - val_loss: 646.7328 - val_mae: 646.7328 - val_mse: 1335218.8750\n",
      "Epoch 63/100\n",
      "18/18 [==============================] - 0s 5ms/step - loss: 120.1025 - mae: 120.1025 - mse: 77173.7031 - val_loss: 741.3994 - val_mae: 741.3994 - val_mse: 1576563.8750\n",
      "Epoch 64/100\n",
      "18/18 [==============================] - 0s 5ms/step - loss: 119.2701 - mae: 119.2701 - mse: 75946.0625 - val_loss: 601.5197 - val_mae: 601.5197 - val_mse: 1261256.2500\n",
      "Epoch 65/100\n",
      "18/18 [==============================] - 0s 5ms/step - loss: 107.9986 - mae: 107.9986 - mse: 71265.7656 - val_loss: 585.2742 - val_mae: 585.2742 - val_mse: 1208120.6250\n",
      "Epoch 66/100\n",
      "18/18 [==============================] - 0s 5ms/step - loss: 106.1087 - mae: 106.1087 - mse: 68884.2656 - val_loss: 604.7075 - val_mae: 604.7075 - val_mse: 1244791.0000\n",
      "Epoch 67/100\n",
      "18/18 [==============================] - ETA: 0s - loss: 106.3203 - mae: 106.3203 - mse: 69945.0625INFO:tensorflow:Assets written to: model_experiments\\model_1_dense\\assets\n",
      "18/18 [==============================] - 0s 29ms/step - loss: 106.3203 - mae: 106.3203 - mse: 69945.0625 - val_loss: 579.2409 - val_mae: 579.2409 - val_mse: 1195210.6250\n",
      "Epoch 68/100\n",
      " 1/18 [>.............................] - ETA: 0s - loss: 131.6765 - mae: 131.6765 - mse: 84438.8125INFO:tensorflow:Assets written to: model_experiments\\model_1_dense\\assets\n",
      "18/18 [==============================] - 0s 26ms/step - loss: 114.2998 - mae: 114.2998 - mse: 73110.5234 - val_loss: 578.0924 - val_mae: 578.0924 - val_mse: 1194589.5000\n",
      "Epoch 69/100\n",
      "18/18 [==============================] - 0s 5ms/step - loss: 111.0298 - mae: 111.0298 - mse: 71194.1094 - val_loss: 578.3497 - val_mae: 578.3497 - val_mse: 1200461.6250\n",
      "Epoch 70/100\n",
      "18/18 [==============================] - 0s 5ms/step - loss: 106.7017 - mae: 106.7017 - mse: 69789.7656 - val_loss: 585.7803 - val_mae: 585.7803 - val_mse: 1205650.5000\n",
      "Epoch 71/100\n",
      "18/18 [==============================] - 0s 5ms/step - loss: 107.7293 - mae: 107.7293 - mse: 70693.8984 - val_loss: 586.2776 - val_mae: 586.2776 - val_mse: 1219921.1250\n",
      "Epoch 72/100\n",
      "18/18 [==============================] - 0s 5ms/step - loss: 106.5383 - mae: 106.5383 - mse: 70942.2188 - val_loss: 598.3640 - val_mae: 598.3640 - val_mse: 1236655.3750\n",
      "Epoch 73/100\n",
      "18/18 [==============================] - 0s 4ms/step - loss: 107.4330 - mae: 107.4330 - mse: 71225.6406 - val_loss: 580.8561 - val_mae: 580.8561 - val_mse: 1203830.2500\n",
      "Epoch 74/100\n",
      "18/18 [==============================] - 0s 5ms/step - loss: 107.8143 - mae: 107.8143 - mse: 70752.2031 - val_loss: 579.8388 - val_mae: 579.8388 - val_mse: 1200649.7500\n",
      "Epoch 75/100\n",
      "18/18 [==============================] - 0s 5ms/step - loss: 111.4716 - mae: 111.4716 - mse: 71244.3281 - val_loss: 704.2031 - val_mae: 704.2031 - val_mse: 1515156.5000\n",
      "Epoch 76/100\n",
      "18/18 [==============================] - 0s 5ms/step - loss: 109.5783 - mae: 109.5783 - mse: 70339.1406 - val_loss: 624.9235 - val_mae: 624.9235 - val_mse: 1286372.8750\n",
      "Epoch 77/100\n",
      "18/18 [==============================] - 0s 4ms/step - loss: 109.9371 - mae: 109.9371 - mse: 70507.0625 - val_loss: 606.5653 - val_mae: 606.5653 - val_mse: 1267576.3750\n",
      "Epoch 78/100\n",
      "18/18 [==============================] - 0s 5ms/step - loss: 108.6321 - mae: 108.6321 - mse: 72708.3750 - val_loss: 648.7275 - val_mae: 648.7275 - val_mse: 1337152.5000\n",
      "Epoch 79/100\n",
      "18/18 [==============================] - 0s 5ms/step - loss: 110.8546 - mae: 110.8546 - mse: 72225.1172 - val_loss: 616.8520 - val_mae: 616.8520 - val_mse: 1268590.7500\n",
      "Epoch 80/100\n",
      "18/18 [==============================] - 0s 5ms/step - loss: 106.3684 - mae: 106.3684 - mse: 68340.6719 - val_loss: 599.5085 - val_mae: 599.5085 - val_mse: 1229731.7500\n",
      "Epoch 81/100\n",
      "18/18 [==============================] - 0s 4ms/step - loss: 112.7694 - mae: 112.7694 - mse: 74284.0312 - val_loss: 790.9122 - val_mae: 790.9122 - val_mse: 1794943.3750\n",
      "Epoch 82/100\n",
      " 1/18 [>.............................] - ETA: 0s - loss: 151.3603 - mae: 151.3603 - mse: 116751.4062INFO:tensorflow:Assets written to: model_experiments\\model_1_dense\\assets\n",
      "18/18 [==============================] - 0s 28ms/step - loss: 111.1775 - mae: 111.1775 - mse: 72469.7422 - val_loss: 577.7260 - val_mae: 577.7260 - val_mse: 1190602.1250\n",
      "Epoch 83/100\n",
      "18/18 [==============================] - 0s 5ms/step - loss: 105.9412 - mae: 105.9412 - mse: 68558.4297 - val_loss: 619.3410 - val_mae: 619.3410 - val_mse: 1271654.2500\n",
      "Epoch 84/100\n",
      "18/18 [==============================] - 0s 4ms/step - loss: 109.5547 - mae: 109.5547 - mse: 70714.4453 - val_loss: 613.4631 - val_mae: 613.4631 - val_mse: 1282656.3750\n",
      "Epoch 85/100\n",
      "18/18 [==============================] - 0s 4ms/step - loss: 107.4079 - mae: 107.4079 - mse: 70854.5000 - val_loss: 595.7177 - val_mae: 595.7177 - val_mse: 1217860.2500\n",
      "Epoch 86/100\n",
      "18/18 [==============================] - ETA: 0s - loss: 107.4636 - mae: 107.4636 - mse: 69752.5391 INFO:tensorflow:Assets written to: model_experiments\\model_1_dense\\assets\n",
      "18/18 [==============================] - 0s 28ms/step - loss: 107.4636 - mae: 107.4636 - mse: 69752.5391 - val_loss: 576.7394 - val_mae: 576.7394 - val_mse: 1180956.0000\n",
      "Epoch 87/100\n",
      "17/18 [===========================>..] - ETA: 0s - loss: 107.6238 - mae: 107.6238 - mse: 70363.2422INFO:tensorflow:Assets written to: model_experiments\\model_1_dense\\assets\n",
      "18/18 [==============================] - 0s 29ms/step - loss: 107.3921 - mae: 107.3921 - mse: 69780.3984 - val_loss: 575.6302 - val_mae: 575.6302 - val_mse: 1179262.3750\n",
      "Epoch 88/100\n",
      "18/18 [==============================] - 0s 5ms/step - loss: 105.9281 - mae: 105.9281 - mse: 68192.8438 - val_loss: 667.5348 - val_mae: 667.5348 - val_mse: 1411933.2500\n",
      "Epoch 89/100\n",
      "18/18 [==============================] - 0s 5ms/step - loss: 105.8625 - mae: 105.8625 - mse: 70741.1875 - val_loss: 589.4442 - val_mae: 589.4442 - val_mse: 1208225.6250\n",
      "Epoch 90/100\n",
      " 1/18 [>.............................] - ETA: 0s - loss: 105.0296 - mae: 105.0296 - mse: 91797.3203INFO:tensorflow:Assets written to: model_experiments\\model_1_dense\\assets\n",
      "18/18 [==============================] - 1s 30ms/step - loss: 109.3824 - mae: 109.3824 - mse: 71399.0234 - val_loss: 574.1860 - val_mae: 574.1860 - val_mse: 1181753.0000\n",
      "Epoch 91/100\n",
      "18/18 [==============================] - 0s 6ms/step - loss: 104.8271 - mae: 104.8271 - mse: 67678.9531 - val_loss: 615.7126 - val_mae: 615.7126 - val_mse: 1284356.0000\n",
      "Epoch 92/100\n",
      "18/18 [==============================] - 0s 5ms/step - loss: 105.8569 - mae: 105.8569 - mse: 68120.7031 - val_loss: 577.8182 - val_mae: 577.8182 - val_mse: 1186753.5000\n",
      "Epoch 93/100\n",
      "18/18 [==============================] - 0s 5ms/step - loss: 107.0191 - mae: 107.0191 - mse: 69279.3672 - val_loss: 580.3335 - val_mae: 580.3335 - val_mse: 1197039.2500\n",
      "Epoch 94/100\n",
      "18/18 [==============================] - 0s 4ms/step - loss: 107.5714 - mae: 107.5714 - mse: 70712.5547 - val_loss: 592.1392 - val_mae: 592.1392 - val_mse: 1209696.6250\n",
      "Epoch 95/100\n",
      "18/18 [==============================] - 0s 5ms/step - loss: 105.8388 - mae: 105.8388 - mse: 69336.8906 - val_loss: 650.6014 - val_mae: 650.6014 - val_mse: 1336255.8750\n",
      "Epoch 96/100\n",
      "18/18 [==============================] - 0s 5ms/step - loss: 114.8207 - mae: 114.8207 - mse: 71680.0938 - val_loss: 610.0060 - val_mae: 610.0060 - val_mse: 1272617.1250\n",
      "Epoch 97/100\n",
      "18/18 [==============================] - 0s 5ms/step - loss: 108.3444 - mae: 108.3444 - mse: 70506.4609 - val_loss: 601.1001 - val_mae: 601.1001 - val_mse: 1228813.7500\n",
      "Epoch 98/100\n",
      "18/18 [==============================] - 0s 4ms/step - loss: 107.6793 - mae: 107.6793 - mse: 70475.9141 - val_loss: 588.5926 - val_mae: 588.5926 - val_mse: 1219740.6250\n",
      "Epoch 99/100\n",
      "18/18 [==============================] - 0s 6ms/step - loss: 105.6945 - mae: 105.6945 - mse: 69398.4688 - val_loss: 576.2142 - val_mae: 576.2142 - val_mse: 1181133.6250\n",
      "Epoch 100/100\n",
      "18/18 [==============================] - 0s 4ms/step - loss: 104.6962 - mae: 104.6962 - mse: 68690.9766 - val_loss: 643.6655 - val_mae: 643.6655 - val_mse: 1346538.8750\n"
     ]
    },
    {
     "data": {
      "text/plain": [
       "<keras.callbacks.History at 0x27adbe7cca0>"
      ]
     },
     "execution_count": 48,
     "metadata": {},
     "output_type": "execute_result"
    }
   ],
   "source": [
    "import tensorflow as tf\n",
    "from tensorflow.keras import layers # type: ignore\n",
    "\n",
    "# Set random seed for as reporducible results as possible\n",
    "tf.random.set_seed(42)\n",
    "\n",
    "# 1. Construct the model\n",
    "model_1 = tf.keras.Sequential([\n",
    "    layers.Dense(128, activation='relu'),\n",
    "    layers.Dense(HORIZON, activation='linear')\n",
    "], name='model_1_dense') # name our model so we can save it\n",
    "\n",
    "# 2. Compile\n",
    "model_1.compile(loss='mae',\n",
    "                optimizer=tf.keras.optimizers.Adam(),\n",
    "                metrics=['mae', 'mse'])\n",
    "\n",
    "# Fit the model\n",
    "model_1.fit(x=train_windows,\n",
    "            y=train_labels,\n",
    "            epochs=100,\n",
    "            verbose=1,\n",
    "            batch_size=128,\n",
    "            validation_data=(test_windows, test_labels),\n",
    "            callbacks=[create_model_checkpoint(model_name=model_1.name)])"
   ]
  },
  {
   "cell_type": "code",
   "execution_count": 49,
   "id": "b35cc5f8",
   "metadata": {},
   "outputs": [
    {
     "name": "stdout",
     "output_type": "stream",
     "text": [
      "18/18 [==============================] - 0s 2ms/step - loss: 643.6832 - mae: 643.6832 - mse: 1346662.8750\n"
     ]
    },
    {
     "data": {
      "text/plain": [
       "[643.6832275390625, 643.6832275390625, 1346662.875]"
      ]
     },
     "execution_count": 49,
     "metadata": {},
     "output_type": "execute_result"
    }
   ],
   "source": [
    "# Evaluate model on test data (last performance - not the best)\n",
    "model_1.evaluate(test_windows, test_labels)"
   ]
  },
  {
   "cell_type": "code",
   "execution_count": 50,
   "id": "3b474323",
   "metadata": {},
   "outputs": [
    {
     "name": "stdout",
     "output_type": "stream",
     "text": [
      "18/18 [==============================] - 0s 3ms/step - loss: 574.2059 - mae: 574.2059 - mse: 1181832.8750\n"
     ]
    },
    {
     "data": {
      "text/plain": [
       "[574.2059326171875, 574.2059326171875, 1181832.875]"
      ]
     },
     "execution_count": 50,
     "metadata": {},
     "output_type": "execute_result"
    }
   ],
   "source": [
    "# Load in saved best performing model_1 and evaluate it on test data\n",
    "model_1 = tf.keras.models.load_model('model_experiments/model_1_dense/')\n",
    "model_1.evaluate(test_windows, test_labels)"
   ]
  },
  {
   "cell_type": "markdown",
   "id": "1a1a02c1",
   "metadata": {},
   "source": [
    "## Making forecasts with a model (on the test dataset)\n",
    "\n",
    "To make 'forecasts' on the dataset (note: these won't be actual forecasts, they're only pseudo forecasts actual forecasts are into the future), let's write a function to:\n",
    "\n",
    "1. Take in a train model\n",
    "2. Takes in some input data (same kind of data the model was trained on)\n",
    "3. Passes the input data to the model's `predict()` method\n",
    "4. Returns the predictions"
   ]
  },
  {
   "cell_type": "code",
   "execution_count": 51,
   "id": "9470b21a",
   "metadata": {},
   "outputs": [],
   "source": [
    "def make_preds(model, input_data):\n",
    "    \"\"\"\n",
    "    Uses model to make predictions input_data.\n",
    "    \"\"\"\n",
    "    forecast = model.predict(input_data)\n",
    "    return tf.squeeze(forecast) # return 1D array of predictions"
   ]
  },
  {
   "cell_type": "code",
   "execution_count": 52,
   "id": "93f5b9b5",
   "metadata": {},
   "outputs": [
    {
     "name": "stdout",
     "output_type": "stream",
     "text": [
      "18/18 [==============================] - 0s 1ms/step\n"
     ]
    },
    {
     "data": {
      "text/plain": [
       "(551,\n",
       " <tf.Tensor: shape=(10,), dtype=float32, numpy=\n",
       " array([8766.644 , 8691.325 , 8503.815 , 8473.878 , 8538.975 , 8243.26  ,\n",
       "        8107.648 , 8078.878 , 7670.2837, 7298.751 ], dtype=float32)>)"
      ]
     },
     "execution_count": 52,
     "metadata": {},
     "output_type": "execute_result"
    }
   ],
   "source": [
    "# Make predictions using model_1 on the test dataset and view results\n",
    "model_1_preds = make_preds(model_1, test_windows)\n",
    "len(model_1_preds), model_1_preds[:10]"
   ]
  },
  {
   "cell_type": "code",
   "execution_count": 53,
   "id": "67e72b08",
   "metadata": {},
   "outputs": [
    {
     "data": {
      "text/plain": [
       "{'mae': 574.206,\n",
       " 'mse': 1181832.9,\n",
       " 'rmse': 1087.1213,\n",
       " 'mape': 2.57856,\n",
       " 'mase': 1.0021904}"
      ]
     },
     "execution_count": 53,
     "metadata": {},
     "output_type": "execute_result"
    }
   ],
   "source": [
    "# Evaluate preds\n",
    "model_1_results = evaluate_preds(y_true=tf.squeeze(test_labels),\n",
    "                                 y_pred=model_1_preds)\n",
    "model_1_results"
   ]
  },
  {
   "cell_type": "code",
   "execution_count": 54,
   "id": "9b6b48ce",
   "metadata": {},
   "outputs": [
    {
     "data": {
      "text/plain": [
       "{'mae': 567.9802,\n",
       " 'mse': 1147547.0,\n",
       " 'rmse': 1071.2362,\n",
       " 'mape': 2.516525,\n",
       " 'mase': 0.99957}"
      ]
     },
     "execution_count": 54,
     "metadata": {},
     "output_type": "execute_result"
    }
   ],
   "source": [
    "naive_results"
   ]
  },
  {
   "cell_type": "code",
   "execution_count": 55,
   "id": "886ffc00",
   "metadata": {},
   "outputs": [
    {
     "data": {
      "image/png": "[encoded data removed]",
      "text/plain": [
       "<Figure size 1000x700 with 1 Axes>"
      ]
     },
     "metadata": {},
     "output_type": "display_data"
    }
   ],
   "source": [
    "# Let's plot our model 1 predictions\n",
    "offset = 300\n",
    "plt.figure(figsize=(10, 7))\n",
    "# Account for the test_window offset and index into test_labels to ensure correct plotting\n",
    "plot_time_series(timesteps=X_test[-len(test_windows):], values=test_labels[:, 0], start=offset, label='Test Data')\n",
    "\n",
    "plot_time_series(timesteps=X_test[-len(test_windows):], values=model_1_preds, start=offset, format='-', label='Model 1 Preds')"
   ]
  },
  {
   "cell_type": "markdown",
   "id": "e2cae249",
   "metadata": {},
   "source": [
    "## Model 2: Dense (window = 30, horizon = 1)"
   ]
  },
  {
   "cell_type": "code",
   "execution_count": 56,
   "id": "1984ac3e",
   "metadata": {},
   "outputs": [],
   "source": [
    "HORIZON = 1 # predict one step at a time (one day of Bitcoin prices)\n",
    "WINDOW_SIZE = 30 # use 30 timesteps in past"
   ]
  },
  {
   "cell_type": "code",
   "execution_count": 57,
   "id": "55f9ad76",
   "metadata": {},
   "outputs": [
    {
     "data": {
      "text/plain": [
       "(2757, 2757)"
      ]
     },
     "execution_count": 57,
     "metadata": {},
     "output_type": "execute_result"
    }
   ],
   "source": [
    "# Make window data with appropriate horizon and window sizes\n",
    "full_windows, full_labels = make_windows(prices, window_size=WINDOW_SIZE, horizon=HORIZON)\n",
    "len(full_windows), len(full_labels)"
   ]
  },
  {
   "cell_type": "code",
   "execution_count": 58,
   "id": "9db41bdc",
   "metadata": {},
   "outputs": [
    {
     "data": {
      "text/plain": [
       "(2229, 528, 2229, 528)"
      ]
     },
     "execution_count": 58,
     "metadata": {},
     "output_type": "execute_result"
    }
   ],
   "source": [
    "# Make train and testing windows\n",
    "train_windows, test_windows, train_labels, test_labels = make_train_test_splits(windows=full_windows,\n",
    "                                                                                labels=full_labels,\n",
    "                                                                                test_split=0.2)\n",
    "len(train_windows), len(test_windows), len(train_labels), len(test_labels)"
   ]
  },
  {
   "cell_type": "code",
   "execution_count": 59,
   "id": "6d9d578d",
   "metadata": {},
   "outputs": [
    {
     "name": "stdout",
     "output_type": "stream",
     "text": [
      "INFO:tensorflow:Assets written to: model_experiments\\model_2_dense\\assets\n",
      "INFO:tensorflow:Assets written to: model_experiments\\model_2_dense\\assets\n",
      "INFO:tensorflow:Assets written to: model_experiments\\model_2_dense\\assets\n",
      "INFO:tensorflow:Assets written to: model_experiments\\model_2_dense\\assets\n",
      "INFO:tensorflow:Assets written to: model_experiments\\model_2_dense\\assets\n",
      "INFO:tensorflow:Assets written to: model_experiments\\model_2_dense\\assets\n",
      "INFO:tensorflow:Assets written to: model_experiments\\model_2_dense\\assets\n",
      "INFO:tensorflow:Assets written to: model_experiments\\model_2_dense\\assets\n",
      "INFO:tensorflow:Assets written to: model_experiments\\model_2_dense\\assets\n",
      "INFO:tensorflow:Assets written to: model_experiments\\model_2_dense\\assets\n",
      "INFO:tensorflow:Assets written to: model_experiments\\model_2_dense\\assets\n",
      "INFO:tensorflow:Assets written to: model_experiments\\model_2_dense\\assets\n",
      "INFO:tensorflow:Assets written to: model_experiments\\model_2_dense\\assets\n",
      "INFO:tensorflow:Assets written to: model_experiments\\model_2_dense\\assets\n",
      "INFO:tensorflow:Assets written to: model_experiments\\model_2_dense\\assets\n",
      "INFO:tensorflow:Assets written to: model_experiments\\model_2_dense\\assets\n",
      "INFO:tensorflow:Assets written to: model_experiments\\model_2_dense\\assets\n",
      "INFO:tensorflow:Assets written to: model_experiments\\model_2_dense\\assets\n",
      "INFO:tensorflow:Assets written to: model_experiments\\model_2_dense\\assets\n",
      "INFO:tensorflow:Assets written to: model_experiments\\model_2_dense\\assets\n",
      "INFO:tensorflow:Assets written to: model_experiments\\model_2_dense\\assets\n",
      "INFO:tensorflow:Assets written to: model_experiments\\model_2_dense\\assets\n",
      "INFO:tensorflow:Assets written to: model_experiments\\model_2_dense\\assets\n",
      "INFO:tensorflow:Assets written to: model_experiments\\model_2_dense\\assets\n",
      "INFO:tensorflow:Assets written to: model_experiments\\model_2_dense\\assets\n",
      "INFO:tensorflow:Assets written to: model_experiments\\model_2_dense\\assets\n",
      "INFO:tensorflow:Assets written to: model_experiments\\model_2_dense\\assets\n",
      "INFO:tensorflow:Assets written to: model_experiments\\model_2_dense\\assets\n",
      "INFO:tensorflow:Assets written to: model_experiments\\model_2_dense\\assets\n"
     ]
    },
    {
     "data": {
      "text/plain": [
       "<keras.callbacks.History at 0x27c9dc4c1c0>"
      ]
     },
     "execution_count": 59,
     "metadata": {},
     "output_type": "execute_result"
    }
   ],
   "source": [
    "tf.random.set_seed(42)\n",
    "\n",
    "# Create model\n",
    "model_2 = tf.keras.Sequential([\n",
    "    layers.Dense(128, activation='relu'),\n",
    "    layers.Dense(HORIZON)\n",
    "], name='model_2_dense')\n",
    "\n",
    "# Compile model\n",
    "model_2.compile(loss='mae',\n",
    "                optimizer=tf.keras.optimizers.Adam())\n",
    "\n",
    "# Fit\n",
    "model_2.fit(train_windows,\n",
    "            train_labels,\n",
    "            epochs=100,\n",
    "            batch_size=128,\n",
    "            verbose=0,\n",
    "            validation_data=(test_windows, test_labels),\n",
    "            callbacks=[create_model_checkpoint(model_name=model_2.name)])"
   ]
  },
  {
   "cell_type": "code",
   "execution_count": 60,
   "id": "8105caa5",
   "metadata": {},
   "outputs": [
    {
     "name": "stdout",
     "output_type": "stream",
     "text": [
      "17/17 [==============================] - 0s 2ms/step - loss: 626.5184\n"
     ]
    },
    {
     "data": {
      "text/plain": [
       "626.5184326171875"
      ]
     },
     "execution_count": 60,
     "metadata": {},
     "output_type": "execute_result"
    }
   ],
   "source": [
    "# Evaluate model 2 on test data\n",
    "model_2.evaluate(test_windows, test_labels)"
   ]
  },
  {
   "cell_type": "code",
   "execution_count": 61,
   "id": "576cc0b8",
   "metadata": {},
   "outputs": [
    {
     "name": "stdout",
     "output_type": "stream",
     "text": [
      "17/17 [==============================] - 0s 2ms/step - loss: 626.5184\n"
     ]
    },
    {
     "data": {
      "text/plain": [
       "626.5184326171875"
      ]
     },
     "execution_count": 61,
     "metadata": {},
     "output_type": "execute_result"
    }
   ],
   "source": [
    "# Load in the best performing model\n",
    "model_2 = tf.keras.models.load_model('model_experiments/model_2_dense/')\n",
    "model_2.evaluate(test_windows, test_labels)"
   ]
  },
  {
   "cell_type": "code",
   "execution_count": 62,
   "id": "16830931",
   "metadata": {},
   "outputs": [
    {
     "name": "stdout",
     "output_type": "stream",
     "text": [
      "17/17 [==============================] - 0s 2ms/step\n"
     ]
    }
   ],
   "source": [
    "# Get forecast predictions\n",
    "model_2_preds = make_preds(model_2,\n",
    "                           input_data=test_windows)"
   ]
  },
  {
   "cell_type": "code",
   "execution_count": 63,
   "id": "4a35b2c8",
   "metadata": {},
   "outputs": [
    {
     "data": {
      "text/plain": [
       "(TensorShape([528]), TensorShape([528]))"
      ]
     },
     "execution_count": 63,
     "metadata": {},
     "output_type": "execute_result"
    }
   ],
   "source": [
    "tf.squeeze(test_labels).shape, model_2_preds.shape"
   ]
  },
  {
   "cell_type": "code",
   "execution_count": 64,
   "id": "81997755",
   "metadata": {},
   "outputs": [
    {
     "data": {
      "text/plain": [
       "{'mae': 626.51843,\n",
       " 'mse': 1346910.6,\n",
       " 'rmse': 1160.5648,\n",
       " 'mape': 2.736351,\n",
       " 'mase': 1.0604308}"
      ]
     },
     "execution_count": 64,
     "metadata": {},
     "output_type": "execute_result"
    }
   ],
   "source": [
    "# Evaluate results for model 2 predictions\n",
    "model_2_results = evaluate_preds(y_true=tf.squeeze(test_labels),\n",
    "                                 y_pred=model_2_preds)\n",
    "model_2_results"
   ]
  },
  {
   "cell_type": "code",
   "execution_count": 65,
   "id": "982bdaa0",
   "metadata": {},
   "outputs": [
    {
     "data": {
      "text/plain": [
       "{'mae': 574.206,\n",
       " 'mse': 1181832.9,\n",
       " 'rmse': 1087.1213,\n",
       " 'mape': 2.57856,\n",
       " 'mase': 1.0021904}"
      ]
     },
     "execution_count": 65,
     "metadata": {},
     "output_type": "execute_result"
    }
   ],
   "source": [
    "model_1_results"
   ]
  },
  {
   "cell_type": "code",
   "execution_count": 66,
   "id": "a1f9ba91",
   "metadata": {},
   "outputs": [
    {
     "data": {
      "image/png": "[encoded data removed]",
      "text/plain": [
       "<Figure size 1000x700 with 1 Axes>"
      ]
     },
     "metadata": {},
     "output_type": "display_data"
    }
   ],
   "source": [
    "offset = 300\n",
    "plt.figure(figsize=(10, 7))\n",
    "# Account for test_window offset when plotting\n",
    "plot_time_series(timesteps=X_test[-len(test_windows):], values=test_labels[:, 0], start=offset, label='Test Data')\n",
    "plot_time_series(timesteps=X_test[-len(test_windows):], values=model_2_preds, start=offset, format='-', label='model_2_preds')"
   ]
  },
  {
   "cell_type": "markdown",
   "id": "c0113fea",
   "metadata": {},
   "source": [
    "## Model 3: Dense (window = 30, horizon = 7)\n",
    "\n"
   ]
  },
  {
   "cell_type": "code",
   "execution_count": 67,
   "id": "887cc5e4",
   "metadata": {},
   "outputs": [
    {
     "data": {
      "text/plain": [
       "(2751, 2751)"
      ]
     },
     "execution_count": 67,
     "metadata": {},
     "output_type": "execute_result"
    }
   ],
   "source": [
    "HORIZON = 7\n",
    "WINDOW_SIZE = 30\n",
    "\n",
    "full_windows, full_labels = make_windows(prices, window_size=WINDOW_SIZE, horizon=HORIZON)\n",
    "len(full_windows), len(full_labels)"
   ]
  },
  {
   "cell_type": "code",
   "execution_count": 68,
   "id": "6e79caa1",
   "metadata": {},
   "outputs": [
    {
     "data": {
      "text/plain": [
       "(2229, 522, 2229, 522)"
      ]
     },
     "execution_count": 68,
     "metadata": {},
     "output_type": "execute_result"
    }
   ],
   "source": [
    "train_windows, test_windows, train_labels, test_labels = make_train_test_splits(windows=full_windows,\n",
    "                                                                                labels=full_labels,\n",
    "                                                                                test_split=0.2)\n",
    "len(train_windows), len(test_windows), len(train_labels), len(test_labels)"
   ]
  },
  {
   "cell_type": "code",
   "execution_count": 69,
   "id": "23124476",
   "metadata": {},
   "outputs": [
    {
     "name": "stdout",
     "output_type": "stream",
     "text": [
      "INFO:tensorflow:Assets written to: model_experiments\\model_3_dense\\assets\n",
      "INFO:tensorflow:Assets written to: model_experiments\\model_3_dense\\assets\n",
      "INFO:tensorflow:Assets written to: model_experiments\\model_3_dense\\assets\n",
      "INFO:tensorflow:Assets written to: model_experiments\\model_3_dense\\assets\n",
      "INFO:tensorflow:Assets written to: model_experiments\\model_3_dense\\assets\n",
      "INFO:tensorflow:Assets written to: model_experiments\\model_3_dense\\assets\n",
      "INFO:tensorflow:Assets written to: model_experiments\\model_3_dense\\assets\n",
      "INFO:tensorflow:Assets written to: model_experiments\\model_3_dense\\assets\n",
      "INFO:tensorflow:Assets written to: model_experiments\\model_3_dense\\assets\n",
      "INFO:tensorflow:Assets written to: model_experiments\\model_3_dense\\assets\n",
      "INFO:tensorflow:Assets written to: model_experiments\\model_3_dense\\assets\n",
      "INFO:tensorflow:Assets written to: model_experiments\\model_3_dense\\assets\n",
      "INFO:tensorflow:Assets written to: model_experiments\\model_3_dense\\assets\n",
      "INFO:tensorflow:Assets written to: model_experiments\\model_3_dense\\assets\n",
      "INFO:tensorflow:Assets written to: model_experiments\\model_3_dense\\assets\n",
      "INFO:tensorflow:Assets written to: model_experiments\\model_3_dense\\assets\n",
      "INFO:tensorflow:Assets written to: model_experiments\\model_3_dense\\assets\n",
      "INFO:tensorflow:Assets written to: model_experiments\\model_3_dense\\assets\n",
      "INFO:tensorflow:Assets written to: model_experiments\\model_3_dense\\assets\n",
      "INFO:tensorflow:Assets written to: model_experiments\\model_3_dense\\assets\n",
      "INFO:tensorflow:Assets written to: model_experiments\\model_3_dense\\assets\n",
      "INFO:tensorflow:Assets written to: model_experiments\\model_3_dense\\assets\n"
     ]
    },
    {
     "data": {
      "text/plain": [
       "<keras.callbacks.History at 0x27abf5f98d0>"
      ]
     },
     "execution_count": 69,
     "metadata": {},
     "output_type": "execute_result"
    }
   ],
   "source": [
    "tf.random.set_seed(42)\n",
    "\n",
    "# Create model\n",
    "model_3 = tf.keras.Sequential([\n",
    "    layers.Dense(128, activation='relu'),\n",
    "    layers.Dense(HORIZON)\n",
    "], name='model_3_dense')\n",
    "\n",
    "# Compile\n",
    "model_3.compile(loss='mae',\n",
    "                optimizer=tf.keras.optimizers.Adam())\n",
    "\n",
    "# Fit\n",
    "model_3.fit(train_windows,\n",
    "            train_labels,\n",
    "            batch_size=128,\n",
    "            epochs=100,\n",
    "            verbose=0,\n",
    "            validation_data=(test_windows, test_labels),\n",
    "            callbacks=[create_model_checkpoint(model_name=model_3.name)])"
   ]
  },
  {
   "cell_type": "code",
   "execution_count": 70,
   "id": "4c40baa7",
   "metadata": {},
   "outputs": [
    {
     "name": "stdout",
     "output_type": "stream",
     "text": [
      "17/17 [==============================] - 0s 2ms/step - loss: 1325.2842\n"
     ]
    },
    {
     "data": {
      "text/plain": [
       "1325.2841796875"
      ]
     },
     "execution_count": 70,
     "metadata": {},
     "output_type": "execute_result"
    }
   ],
   "source": [
    "# Evaluate the model on the test data\n",
    "model_3.evaluate(test_windows, test_labels)"
   ]
  },
  {
   "cell_type": "code",
   "execution_count": 71,
   "id": "7a7a83c6",
   "metadata": {},
   "outputs": [
    {
     "name": "stdout",
     "output_type": "stream",
     "text": [
      "17/17 [==============================] - 0s 3ms/step - loss: 1289.4144\n"
     ]
    },
    {
     "data": {
      "text/plain": [
       "1289.4144287109375"
      ]
     },
     "execution_count": 71,
     "metadata": {},
     "output_type": "execute_result"
    }
   ],
   "source": [
    "# Load best version of model_3 and evaluate\n",
    "model_3 = tf.keras.models.load_model('model_experiments/model_3_dense/')\n",
    "model_3.evaluate(test_windows, test_labels)"
   ]
  },
  {
   "cell_type": "code",
   "execution_count": 72,
   "id": "796cb207",
   "metadata": {},
   "outputs": [
    {
     "name": "stdout",
     "output_type": "stream",
     "text": [
      "17/17 [==============================] - 0s 2ms/step\n"
     ]
    },
    {
     "data": {
      "text/plain": [
       "TensorShape([522, 7])"
      ]
     },
     "execution_count": 72,
     "metadata": {},
     "output_type": "execute_result"
    }
   ],
   "source": [
    "# Make predictions with model_3\n",
    "model_3_preds = make_preds(model_3,\n",
    "                           input_data=test_windows)\n",
    "model_3_preds.shape"
   ]
  },
  {
   "cell_type": "code",
   "execution_count": 73,
   "id": "51f272aa",
   "metadata": {},
   "outputs": [
    {
     "data": {
      "text/plain": [
       "(TensorShape([522, 7]), TensorShape([528]))"
      ]
     },
     "execution_count": 73,
     "metadata": {},
     "output_type": "execute_result"
    }
   ],
   "source": [
    "model_3_preds.shape, model_2_preds.shape"
   ]
  },
  {
   "cell_type": "code",
   "execution_count": 74,
   "id": "ccec3843",
   "metadata": {},
   "outputs": [
    {
     "data": {
      "text/plain": [
       "{'mae': array([  143.81145 ,   258.2098  ,   416.77603 ,   320.20697 ,\n",
       "          353.1294  ,   319.0523  ,   280.56033 ,   319.81674 ,\n",
       "          243.34326 ,   250.60086 ,   288.63776 ,   464.4248  ,\n",
       "           80.65932 ,    91.933876,    82.29681 ,   137.72816 ,\n",
       "          182.10066 ,   114.5775  ,    84.6778  ,    50.42962 ,\n",
       "           69.07359 ,   122.683525,   152.69398 ,   238.9532  ,\n",
       "          250.25914 ,   273.15506 ,   344.83344 ,   491.539   ,\n",
       "          481.45584 ,   544.5902  ,   481.64746 ,   360.88443 ,\n",
       "          266.20612 ,   324.0279  ,   392.09396 ,   373.75522 ,\n",
       "          481.34662 ,   461.20773 ,   510.6353  ,   116.02218 ,\n",
       "          165.74358 ,   260.17703 ,   495.38266 ,   594.381   ,\n",
       "          482.48508 ,   348.1794  ,   425.31543 ,   415.61246 ,\n",
       "          509.98257 ,   555.4993  ,   730.14923 ,   725.15344 ,\n",
       "          519.76825 ,   226.56418 ,   177.14774 ,   306.27008 ,\n",
       "          277.8704  ,   318.0978  ,   308.40903 ,   425.96094 ,\n",
       "          564.9833  ,   466.40918 ,   365.04828 ,   340.69434 ,\n",
       "          152.93582 ,   190.04158 ,   243.05273 ,   344.476   ,\n",
       "          574.9653  ,   599.38965 ,   809.4912  ,   420.36008 ,\n",
       "          359.58188 ,   197.82156 ,   406.78598 ,   346.95355 ,\n",
       "          394.602   ,   503.25906 ,   632.64496 ,  1099.907   ,\n",
       "          980.0483  ,   873.8824  ,   372.99777 ,   236.09264 ,\n",
       "          207.62346 ,   271.493   ,   280.93115 ,   327.90005 ,\n",
       "          449.00455 ,   506.2394  ,  1138.7191  ,  1727.1515  ,\n",
       "         2233.9612  ,  2048.426   ,  2082.1743  ,  2317.723   ,\n",
       "         2566.605   ,  1237.5691  ,   736.46326 ,   492.42514 ,\n",
       "          512.7034  ,   588.07684 ,   720.42786 ,   756.9603  ,\n",
       "          300.756   ,   238.51584 ,   202.75195 ,   170.58797 ,\n",
       "          236.56773 ,   426.53558 ,   351.7108  ,   400.72336 ,\n",
       "          382.79156 ,   419.3711  ,   556.17413 ,   555.54803 ,\n",
       "          424.5318  ,   242.5595  ,   170.27469 ,   215.05246 ,\n",
       "          135.08308 ,   121.96366 ,   304.98492 ,   378.43918 ,\n",
       "          398.81787 ,   556.6503  ,   343.41037 ,   256.32944 ,\n",
       "          251.29346 ,   155.62137 ,   223.58322 ,   212.82603 ,\n",
       "          233.29611 ,   249.56787 ,   291.73166 ,   320.78592 ,\n",
       "          379.13803 ,   516.6153  ,   682.79645 ,   507.58246 ,\n",
       "          656.7728  ,   764.63605 ,   869.04236 ,   898.54016 ,\n",
       "         1040.0203  ,   341.64996 ,   212.613   ,   411.62653 ,\n",
       "          365.01898 ,   353.9604  ,   401.4763  ,   447.08664 ,\n",
       "          521.0728  ,   729.21484 ,  1037.1022  ,   971.20605 ,\n",
       "          389.05246 ,   495.9954  ,   650.06976 ,   289.0699  ,\n",
       "          307.35297 ,   178.32101 ,   182.23381 ,   403.02036 ,\n",
       "          594.25726 ,   713.7118  ,   753.0931  ,   403.3545  ,\n",
       "          357.24332 ,   388.31918 ,   462.28683 ,   613.5114  ,\n",
       "          683.25653 ,   633.72473 ,   311.47574 ,   219.13002 ,\n",
       "          268.5106  ,   225.33328 ,   592.4823  ,   142.5519  ,\n",
       "          230.29924 ,   211.87473 ,   126.601006,   190.07156 ,\n",
       "          168.51465 ,   331.52164 ,   398.03598 ,   635.95465 ,\n",
       "          137.91267 ,   220.42537 ,   191.39551 ,   130.66463 ,\n",
       "          243.28432 ,   263.2892  ,   190.35226 ,   232.24162 ,\n",
       "          151.3849  ,   209.8616  ,   171.2461  ,   461.1144  ,\n",
       "          461.8471  ,   417.90652 ,   241.77287 ,   139.58008 ,\n",
       "           72.361046,    49.000698,   130.18234 ,   172.4481  ,\n",
       "          228.64412 ,   177.19601 ,   146.31055 ,   130.38072 ,\n",
       "          105.91992 ,    98.39593 ,   131.99763 ,   243.56389 ,\n",
       "          165.09277 ,   164.13365 ,   113.74512 ,   126.018555,\n",
       "          188.60031 ,   206.89426 ,   218.91936 ,   239.86775 ,\n",
       "          235.9594  ,   273.5869  ,   288.6218  ,   587.9315  ,\n",
       "          648.0343  ,   747.22797 ,   898.08484 ,  1079.5378  ,\n",
       "         1289.642   ,  1254.8684  ,   371.5381  ,   232.51367 ,\n",
       "          300.79758 ,   309.48074 ,   318.9548  ,   459.65875 ,\n",
       "          210.43959 ,   210.13728 ,   185.75516 ,   209.39188 ,\n",
       "          358.56055 ,   349.4202  ,   376.5339  ,   279.4456  ,\n",
       "          461.40375 ,   236.08943 ,   206.88979 ,   194.19656 ,\n",
       "          153.47447 ,   201.87668 ,   211.92062 ,   605.8687  ,\n",
       "          529.4274  ,   543.269   ,   346.74274 ,   255.14426 ,\n",
       "          301.45438 ,   336.7278  ,   352.04645 ,   323.4445  ,\n",
       "          203.92703 ,   229.80873 ,   330.2267  ,   582.4622  ,\n",
       "          823.5024  ,  1145.1672  ,  1539.3739  ,  1432.6443  ,\n",
       "          813.5173  ,   563.3044  ,   152.99763 ,   196.50488 ,\n",
       "          199.25139 ,   355.773   ,   316.3022  ,   358.48257 ,\n",
       "          294.09277 ,   308.82715 ,   300.1472  ,   207.28627 ,\n",
       "          159.6649  ,   403.8884  ,   313.01508 ,   377.84027 ,\n",
       "          476.07602 ,   332.6677  ,   201.0131  ,   172.31808 ,\n",
       "          337.33328 ,    52.649414,   161.74023 ,   168.66853 ,\n",
       "          298.87543 ,   340.19574 ,   311.1663  ,   286.61246 ,\n",
       "          240.93373 ,   217.93777 ,   292.79855 ,   374.64175 ,\n",
       "          466.31613 ,   603.19    ,   576.66046 ,   533.8863  ,\n",
       "          345.0113  ,   101.15709 ,   169.85031 ,   402.74985 ,\n",
       "          334.38882 ,   498.64816 ,   649.58093 ,   821.7222  ,\n",
       "          993.73773 ,  1189.7206  ,  1079.6542  ,  1161.1605  ,\n",
       "          218.31111 ,   332.25754 ,   314.9813  ,   310.46793 ,\n",
       "          318.05344 ,   270.41812 ,   216.99107 ,   197.1815  ,\n",
       "          576.4251  ,   670.2793  ,   737.6849  ,   861.2585  ,\n",
       "          964.5765  ,  1023.2955  ,   978.70074 ,   303.25433 ,\n",
       "          484.446   ,   553.2363  ,   399.21567 ,   457.74692 ,\n",
       "          716.2603  ,   746.0688  ,   813.12195 ,  1026.2635  ,\n",
       "         1230.5627  ,  1592.7971  ,  1451.2513  ,   670.18164 ,\n",
       "          389.36664 ,   395.56668 ,   794.4852  ,  1038.1055  ,\n",
       "         1111.7899  ,  1128.0519  ,  1155.347   ,  1134.5042  ,\n",
       "          979.7829  ,  1286.1194  ,  1327.6881  ,   963.7433  ,\n",
       "          159.68275 ,   471.55078 ,   711.2857  ,  1012.5003  ,\n",
       "          732.37024 ,   818.5371  ,   644.9947  ,   736.62726 ,\n",
       "          610.4682  ,   956.6069  ,  1682.2812  ,  2483.2324  ,\n",
       "         2536.052   ,  2741.946   ,  3044.5444  ,  3256.2712  ,\n",
       "         2168.2651  ,   683.7662  ,   458.69867 ,  1092.2756  ,\n",
       "         1380.9612  ,  1480.0549  ,  1739.6061  ,  2402.2654  ,\n",
       "         2963.3652  ,  2828.3308  ,  1945.0475  ,  2397.3586  ,\n",
       "         2646.3853  ,  3156.9548  ,  2817.4604  ,  3590.8372  ,\n",
       "         4750.8413  ,  4258.37    ,  4261.428   ,  4555.32    ,\n",
       "         3140.8694  ,  2594.9001  ,  2587.8933  ,  4486.4517  ,\n",
       "         5900.599   ,  5047.738   ,  1323.5697  ,   957.3231  ,\n",
       "         1226.2567  ,  3254.237   ,  3242.5134  ,  3213.1758  ,\n",
       "         3655.4119  ,  3955.31    ,  4550.1826  ,  4380.7686  ,\n",
       "         1222.839   ,  1360.5167  ,  1284.3811  ,  2005.9668  ,\n",
       "         1985.0245  ,  2385.8672  ,  3697.2576  ,  2807.144   ,\n",
       "         1838.0228  ,  2558.8699  ,  3043.9006  ,  4489.375   ,\n",
       "         4916.435   ,  4552.2827  ,  5306.8296  ,  6501.575   ,\n",
       "         5624.2603  ,  7406.7183  ,  3729.0022  ,   880.9693  ,\n",
       "         1617.4381  ,  1297.3956  ,  2368.4995  ,  2754.5027  ,\n",
       "         3115.8293  ,  3225.3528  ,  3454.5317  ,  2764.506   ,\n",
       "         3141.7097  ,  5777.04    ,  7446.1436  , 10810.083   ,\n",
       "         9770.995   ,  5280.14    ,  3376.385   ,  1759.9822  ,\n",
       "         2036.567   ,  2552.5374  ,  4254.706   ,  2011.3053  ,\n",
       "         2712.6758  ,  2545.7417  ,  3557.3542  ,  4497.72    ,\n",
       "         5549.417   ,  5930.1685  ,  6037.4673  ,  4555.95    ,\n",
       "         2105.2075  ,  1525.846   ,  1218.3365  ,  2099.1667  ,\n",
       "         4272.849   ,  2121.514   ,  1964.0809  ,  3295.1055  ,\n",
       "         3796.0261  ,  4866.751   ,  5231.0913  ,  4589.0415  ,\n",
       "         2281.355   ,  2369.0156  ,  2406.6511  ,  4297.376   ,\n",
       "         3159.7668  ,  2390.6707  ,  1900.7494  ,  1520.2031  ,\n",
       "          493.2327  ,   848.8956  ,  1830.6556  ,  1283.2617  ,\n",
       "         1321.7272  ,  1461.327   ,  1459.5084  ,  2185.2283  ,\n",
       "         2872.7986  ,  3108.691   ,  3116.0183  ,  1958.3064  ,\n",
       "         1863.173   ,  2175.576   ,  4220.6157  ,  5623.4844  ,\n",
       "         7747.9453  ,  8354.407   ,  8105.0786  ,  5840.208   ,\n",
       "         4708.508   ,  4248.468   ,  3121.1206  ,  2677.8672  ,\n",
       "         3331.139   ,  4146.7446  ,  5343.3716  ,  3020.9727  ,\n",
       "         1537.803   ,  1918.3292  ,  1802.2728  ,  1269.4655  ,\n",
       "         2068.1472  ,  1661.1501  ,  1402.2489  ,  2574.2444  ,\n",
       "         1274.5859  ,  2111.2969  ,  3183.6042  ,  6136.3438  ,\n",
       "         7761.4624  ,  8796.708   ], dtype=float32),\n",
       " 'mse': array([2.86857539e+04, 7.27737891e+04, 1.77022422e+05, 1.08017180e+05,\n",
       "        1.60147953e+05, 1.61185234e+05, 1.35600484e+05, 1.72163094e+05,\n",
       "        1.26577820e+05, 9.73220547e+04, 1.11713914e+05, 2.40864000e+05,\n",
       "        1.00754658e+04, 1.44650361e+04, 9.59445898e+03, 2.27406973e+04,\n",
       "        3.89913516e+04, 2.12621523e+04, 1.26305088e+04, 4.87769873e+03,\n",
       "        6.72993311e+03, 2.10138652e+04, 3.08443535e+04, 7.60586016e+04,\n",
       "        9.55747344e+04, 1.44078219e+05, 2.41979375e+05, 3.65620281e+05,\n",
       "        3.10963250e+05, 3.69217812e+05, 2.70509000e+05, 1.54002172e+05,\n",
       "        1.57285672e+05, 1.63908703e+05, 3.20859156e+05, 2.27775172e+05,\n",
       "        3.25868062e+05, 2.47222422e+05, 2.67823719e+05, 2.00550586e+04,\n",
       "        4.00714336e+04, 8.84851641e+04, 2.80429375e+05, 3.65093500e+05,\n",
       "        2.53716578e+05, 1.60682469e+05, 2.27407297e+05, 2.05907969e+05,\n",
       "        3.72041344e+05, 4.29845719e+05, 6.88025188e+05, 5.84715250e+05,\n",
       "        2.90053281e+05, 5.97604102e+04, 4.77153086e+04, 1.14704234e+05,\n",
       "        1.06782688e+05, 1.49293109e+05, 1.45708094e+05, 2.47583766e+05,\n",
       "        4.04675438e+05, 3.11408250e+05, 1.94064609e+05, 1.57304078e+05,\n",
       "        3.36327852e+04, 6.24926680e+04, 8.20937969e+04, 2.14108516e+05,\n",
       "        4.17924219e+05, 4.26277844e+05, 6.79839625e+05, 2.23399281e+05,\n",
       "        1.73658906e+05, 4.71291875e+04, 1.89530547e+05, 1.80593141e+05,\n",
       "        2.46491859e+05, 4.19814781e+05, 5.23238938e+05, 1.34354262e+06,\n",
       "        1.01786169e+06, 7.94402438e+05, 1.87938344e+05, 8.17983281e+04,\n",
       "        6.75666250e+04, 1.02969125e+05, 1.06567852e+05, 1.58122000e+05,\n",
       "        3.41909688e+05, 3.77099094e+05, 2.18906425e+06, 4.24760200e+06,\n",
       "        6.40753650e+06, 5.56871900e+06, 5.62483100e+06, 6.24177050e+06,\n",
       "        6.67223450e+06, 1.75694888e+06, 5.89193938e+05, 3.45055938e+05,\n",
       "        3.50992344e+05, 4.37812000e+05, 6.89440312e+05, 6.64803875e+05,\n",
       "        1.23247266e+05, 1.22974000e+05, 7.65514297e+04, 5.02835547e+04,\n",
       "        9.68273203e+04, 2.56606016e+05, 2.12127234e+05, 2.33483531e+05,\n",
       "        2.20871828e+05, 2.15920141e+05, 3.69957781e+05, 3.50354219e+05,\n",
       "        2.31914453e+05, 9.61338281e+04, 3.72433555e+04, 5.14944648e+04,\n",
       "        3.46798164e+04, 2.05672871e+04, 1.32813734e+05, 2.05628531e+05,\n",
       "        1.90806859e+05, 3.67697938e+05, 1.42304328e+05, 7.70112891e+04,\n",
       "        7.49808516e+04, 3.96135898e+04, 6.30031172e+04, 5.86549805e+04,\n",
       "        8.08938594e+04, 8.67029141e+04, 1.01719695e+05, 1.22866461e+05,\n",
       "        1.98759641e+05, 3.30318688e+05, 6.84613688e+05, 5.79857000e+05,\n",
       "        8.19329062e+05, 9.92158312e+05, 1.05080925e+06, 9.11217688e+05,\n",
       "        1.09791288e+06, 1.54826891e+05, 1.71209359e+05, 2.58733391e+05,\n",
       "        1.66661906e+05, 1.77268547e+05, 1.84279578e+05, 2.25268719e+05,\n",
       "        3.77910156e+05, 8.25608938e+05, 1.28224000e+06, 1.13262150e+06,\n",
       "        2.36440016e+05, 3.12046781e+05, 4.54210188e+05, 1.38516781e+05,\n",
       "        1.26583305e+05, 7.28808516e+04, 5.36389414e+04, 2.01467578e+05,\n",
       "        4.19000719e+05, 5.42472688e+05, 6.08432000e+05, 1.95524172e+05,\n",
       "        1.50743781e+05, 1.89220016e+05, 2.51397750e+05, 5.75797938e+05,\n",
       "        6.07041812e+05, 5.06146094e+05, 1.82693609e+05, 1.03643961e+05,\n",
       "        1.01073055e+05, 7.99204844e+04, 3.57158469e+05, 2.85153496e+04,\n",
       "        6.61094375e+04, 6.22519258e+04, 2.23599219e+04, 5.56072734e+04,\n",
       "        5.86360430e+04, 1.59245641e+05, 1.80268609e+05, 4.08251781e+05,\n",
       "        2.31794473e+04, 5.38639180e+04, 4.28159922e+04, 2.44121855e+04,\n",
       "        7.32020781e+04, 7.84966094e+04, 4.73622500e+04, 6.83757422e+04,\n",
       "        2.63905723e+04, 5.21794609e+04, 3.90272227e+04, 2.46168969e+05,\n",
       "        2.34585328e+05, 1.96001156e+05, 8.02461953e+04, 2.31927070e+04,\n",
       "        9.14065234e+03, 3.43635083e+03, 2.48861738e+04, 3.76182422e+04,\n",
       "        6.39991523e+04, 3.85574258e+04, 2.74203574e+04, 2.18683535e+04,\n",
       "        1.62800537e+04, 1.18225850e+04, 2.10806855e+04, 6.61187578e+04,\n",
       "        3.52300234e+04, 3.36108516e+04, 1.49947891e+04, 1.85659199e+04,\n",
       "        3.93144922e+04, 4.58328555e+04, 5.59986250e+04, 7.68514375e+04,\n",
       "        7.47235312e+04, 1.08390125e+05, 1.35848656e+05, 7.41845438e+05,\n",
       "        8.99695875e+05, 1.12602775e+06, 1.29852588e+06, 1.58684812e+06,\n",
       "        2.01518975e+06, 1.64074312e+06, 2.06855469e+05, 1.05921797e+05,\n",
       "        1.18902133e+05, 1.22916164e+05, 1.31761203e+05, 2.71797750e+05,\n",
       "        5.86021328e+04, 5.90211055e+04, 4.47603477e+04, 7.18220938e+04,\n",
       "        1.48053328e+05, 1.56899125e+05, 2.12356219e+05, 1.19946234e+05,\n",
       "        2.31525078e+05, 9.38603047e+04, 7.30467344e+04, 5.94948945e+04,\n",
       "        3.22183926e+04, 5.83340547e+04, 5.65846250e+04, 4.00810281e+05,\n",
       "        3.01309312e+05, 3.09875344e+05, 1.27007273e+05, 9.87545000e+04,\n",
       "        1.13640695e+05, 1.54446500e+05, 1.54230859e+05, 1.40751594e+05,\n",
       "        6.26330820e+04, 1.06370461e+05, 2.05450531e+05, 5.75429125e+05,\n",
       "        1.01204688e+06, 1.67285762e+06, 2.52307000e+06, 2.09523025e+06,\n",
       "        7.29428500e+05, 3.81611062e+05, 4.02719805e+04, 4.24195078e+04,\n",
       "        6.71427969e+04, 2.45726469e+05, 1.99330422e+05, 1.86900422e+05,\n",
       "        1.15096164e+05, 1.06646734e+05, 1.00027789e+05, 5.76034414e+04,\n",
       "        3.64678789e+04, 1.86112734e+05, 1.50540875e+05, 2.10816969e+05,\n",
       "        2.83385469e+05, 1.65002609e+05, 7.12102734e+04, 5.24539453e+04,\n",
       "        1.22860789e+05, 5.52253857e+03, 3.59688320e+04, 3.40788047e+04,\n",
       "        1.00182461e+05, 1.46113609e+05, 1.15089625e+05, 9.45049141e+04,\n",
       "        6.64991953e+04, 8.69099297e+04, 1.79076531e+05, 2.30673484e+05,\n",
       "        3.46064219e+05, 5.25409812e+05, 4.27677719e+05, 3.25838562e+05,\n",
       "        1.27532734e+05, 1.48024775e+04, 3.20004023e+04, 1.74651672e+05,\n",
       "        1.27816484e+05, 5.31834250e+05, 7.92706062e+05, 1.24699412e+06,\n",
       "        1.49213200e+06, 1.75547088e+06, 1.31792975e+06, 1.46165362e+06,\n",
       "        9.47376797e+04, 1.13864578e+05, 1.20456516e+05, 1.32278016e+05,\n",
       "        1.37361422e+05, 1.06275625e+05, 6.52339492e+04, 1.00912602e+05,\n",
       "        7.85299500e+05, 1.00171988e+06, 8.20197375e+05, 1.14001362e+06,\n",
       "        1.17862512e+06, 1.27043800e+06, 1.11127425e+06, 1.69126859e+05,\n",
       "        3.16059750e+05, 4.49638188e+05, 1.93594031e+05, 3.50900156e+05,\n",
       "        9.54828000e+05, 9.59208812e+05, 1.10561825e+06, 1.45388988e+06,\n",
       "        2.01116525e+06, 3.08840200e+06, 2.29764725e+06, 5.96083688e+05,\n",
       "        1.78585422e+05, 2.64112656e+05, 1.04898425e+06, 1.55308475e+06,\n",
       "        1.73428825e+06, 2.00580938e+06, 2.13575375e+06, 1.90781438e+06,\n",
       "        1.13341475e+06, 2.08681375e+06, 1.95510575e+06, 1.02358588e+06,\n",
       "        5.45168125e+04, 2.98319562e+05, 5.46573812e+05, 1.08740575e+06,\n",
       "        6.14579562e+05, 8.59450688e+05, 6.40044562e+05, 7.31353125e+05,\n",
       "        5.26702500e+05, 1.92391162e+06, 5.53738700e+06, 9.97617000e+06,\n",
       "        1.04019840e+07, 1.04596550e+07, 1.13066160e+07, 1.12837920e+07,\n",
       "        4.78214950e+06, 5.82041688e+05, 3.53752500e+05, 1.70612888e+06,\n",
       "        2.66521550e+06, 3.15735375e+06, 4.54446350e+06, 8.33929600e+06,\n",
       "        1.13201910e+07, 9.67667000e+06, 7.14330950e+06, 9.75131000e+06,\n",
       "        9.68113400e+06, 1.40429010e+07, 1.24167170e+07, 2.09855060e+07,\n",
       "        3.38460360e+07, 2.76253900e+07, 2.36296920e+07, 2.63473420e+07,\n",
       "        1.51128190e+07, 7.98289300e+06, 1.04819200e+07, 2.49866880e+07,\n",
       "        3.72702760e+07, 2.66756680e+07, 3.69122250e+06, 1.53218312e+06,\n",
       "        2.21212125e+06, 1.51405860e+07, 1.47320510e+07, 1.37175830e+07,\n",
       "        1.76954720e+07, 1.91478840e+07, 2.25946300e+07, 1.95476540e+07,\n",
       "        1.74018138e+06, 2.33782675e+06, 2.76651425e+06, 5.40573850e+06,\n",
       "        4.65878900e+06, 7.40203050e+06, 1.62157370e+07, 1.02200470e+07,\n",
       "        4.85350500e+06, 9.36453700e+06, 1.13908330e+07, 2.87030440e+07,\n",
       "        3.67165720e+07, 3.55666000e+07, 4.38866920e+07, 5.49855480e+07,\n",
       "        3.62261000e+07, 5.68639080e+07, 1.49366730e+07, 1.09821375e+06,\n",
       "        4.74862450e+06, 2.93625925e+06, 8.38193700e+06, 1.37647970e+07,\n",
       "        1.52024560e+07, 1.52243600e+07, 1.55520400e+07, 1.04971510e+07,\n",
       "        1.47473580e+07, 4.49945720e+07, 6.99295200e+07, 1.24596464e+08,\n",
       "        9.91786640e+07, 3.32051420e+07, 1.70855920e+07, 4.61693250e+06,\n",
       "        5.38626400e+06, 6.98490050e+06, 2.15493980e+07, 5.46313350e+06,\n",
       "        1.20774990e+07, 1.09419740e+07, 2.05509620e+07, 3.00716760e+07,\n",
       "        4.11483120e+07, 4.51015320e+07, 4.20603440e+07, 2.34131520e+07,\n",
       "        7.41948100e+06, 2.93095950e+06, 2.33009300e+06, 5.64264550e+06,\n",
       "        1.85028060e+07, 6.19438100e+06, 5.78666150e+06, 1.67631250e+07,\n",
       "        1.86749460e+07, 2.87391040e+07, 3.20039740e+07, 2.50865900e+07,\n",
       "        7.79438450e+06, 7.45140900e+06, 8.54839300e+06, 2.34758820e+07,\n",
       "        1.20863330e+07, 7.25121600e+06, 4.71632300e+06, 2.92673775e+06,\n",
       "        4.08964438e+05, 1.10136525e+06, 3.79990425e+06, 2.34553650e+06,\n",
       "        2.64423150e+06, 2.99390275e+06, 3.18939450e+06, 7.38050300e+06,\n",
       "        1.49008020e+07, 1.52629690e+07, 1.31099980e+07, 5.56687300e+06,\n",
       "        4.64018800e+06, 5.99034650e+06, 2.64457780e+07, 4.13071240e+07,\n",
       "        6.85767120e+07, 7.55238880e+07, 6.92381600e+07, 3.91457360e+07,\n",
       "        2.81507200e+07, 2.42917980e+07, 1.28944060e+07, 8.92754200e+06,\n",
       "        1.44903980e+07, 2.11455660e+07, 3.17304300e+07, 1.15187110e+07,\n",
       "        3.19914225e+06, 4.16693550e+06, 3.47526850e+06, 4.00636800e+06,\n",
       "        6.59229850e+06, 4.15310750e+06, 2.81429275e+06, 7.62193250e+06,\n",
       "        2.24824825e+06, 9.35328800e+06, 1.65678450e+07, 5.00044120e+07,\n",
       "        7.15666240e+07, 9.48769920e+07], dtype=float32),\n",
       " 'rmse': array([  169.36868 ,   269.76617 ,   420.74033 ,   328.65967 ,\n",
       "          400.18488 ,   401.47882 ,   368.23972 ,   414.9254  ,\n",
       "          355.77777 ,   311.9648  ,   334.2363  ,   490.77896 ,\n",
       "          100.37662 ,   120.270676,    97.95131 ,   150.80019 ,\n",
       "          197.46228 ,   145.81548 ,   112.38554 ,    69.84052 ,\n",
       "           82.03617 ,   144.9616  ,   175.62561 ,   275.78723 ,\n",
       "          309.15164 ,   379.57635 ,   491.91397 ,   604.6654  ,\n",
       "          557.6408  ,   607.63293 ,   520.1048  ,   392.4311  ,\n",
       "          396.5926  ,   404.85638 ,   566.4443  ,   477.25797 ,\n",
       "          570.8486  ,   497.21466 ,   517.51685 ,   141.61588 ,\n",
       "          200.1785  ,   297.46454 ,   529.5558  ,   604.2297  ,\n",
       "          503.70285 ,   400.85217 ,   476.8724  ,   453.77084 ,\n",
       "          609.9519  ,   655.6262  ,   829.47284 ,   764.66675 ,\n",
       "          538.566   ,   244.45943 ,   218.43834 ,   338.6801  ,\n",
       "          326.77618 ,   386.38467 ,   381.7173  ,   497.5779  ,\n",
       "          636.14105 ,   558.0396  ,   440.52765 ,   396.61578 ,\n",
       "          183.39244 ,   249.98534 ,   286.52014 ,   462.7186  ,\n",
       "          646.4706  ,   652.89954 ,   824.52386 ,   472.65134 ,\n",
       "          416.724   ,   217.09258 ,   435.35104 ,   424.9625  ,\n",
       "          496.47946 ,   647.93115 ,   723.35254 ,  1159.1128  ,\n",
       "         1008.8913  ,   891.29254 ,   433.51855 ,   286.0041  ,\n",
       "          259.93582 ,   320.88803 ,   326.4473  ,   397.64557 ,\n",
       "          584.7304  ,   614.0839  ,  1479.5487  ,  2060.9712  ,\n",
       "         2531.3113  ,  2359.8132  ,  2371.6726  ,  2498.3535  ,\n",
       "         2583.067   ,  1325.4995  ,   767.5897  ,   587.4146  ,\n",
       "          592.44604 ,   661.67365 ,   830.32544 ,   815.35504 ,\n",
       "          351.0659  ,   350.67648 ,   276.6793  ,   224.23994 ,\n",
       "          311.1709  ,   506.56293 ,   460.57272 ,   483.20132 ,\n",
       "          469.97003 ,   464.6721  ,   608.2415  ,   591.9073  ,\n",
       "          481.57495 ,   310.05457 ,   192.98538 ,   226.92392 ,\n",
       "          186.22517 ,   143.413   ,   364.4362  ,   453.46283 ,\n",
       "          436.81442 ,   606.38104 ,   377.23245 ,   277.50906 ,\n",
       "          273.8263  ,   199.03163 ,   251.00421 ,   242.1879  ,\n",
       "          284.41846 ,   294.45358 ,   318.93524 ,   350.52313 ,\n",
       "          445.82468 ,   574.7336  ,   827.4138  ,   761.4834  ,\n",
       "          905.16797 ,   996.0714  ,  1025.0898  ,   954.5772  ,\n",
       "         1047.8134  ,   393.4805  ,   413.77454 ,   508.65842 ,\n",
       "          408.24246 ,   421.0327  ,   429.27795 ,   474.62482 ,\n",
       "          614.74396 ,   908.63025 ,  1132.3604  ,  1064.247   ,\n",
       "          486.25098 ,   558.61145 ,   673.9512  ,   372.17844 ,\n",
       "          355.78546 ,   269.96454 ,   231.60083 ,   448.85138 ,\n",
       "          647.3026  ,   736.5274  ,   780.0205  ,   442.18115 ,\n",
       "          388.25735 ,   434.99426 ,   501.3958  ,   758.8135  ,\n",
       "          779.12885 ,   711.43945 ,   427.42673 ,   321.9378  ,\n",
       "          317.9199  ,   282.70212 ,   597.6273  ,   168.86488 ,\n",
       "          257.11755 ,   249.50336 ,   149.53233 ,   235.81195 ,\n",
       "          242.1488  ,   399.05594 ,   424.5805  ,   638.9458  ,\n",
       "          152.24797 ,   232.08601 ,   206.92026 ,   156.24399 ,\n",
       "          270.5588  ,   280.17245 ,   217.6287  ,   261.48755 ,\n",
       "          162.45175 ,   228.42824 ,   197.55309 ,   496.15417 ,\n",
       "          484.3401  ,   442.72018 ,   283.2776  ,   152.29152 ,\n",
       "           95.60676 ,    58.620396,   157.75352 ,   193.95422 ,\n",
       "          252.98053 ,   196.36044 ,   165.59093 ,   147.87952 ,\n",
       "          127.593315,   108.73171 ,   145.1919  ,   257.13568 ,\n",
       "          187.69662 ,   183.33263 ,   122.45321 ,   136.25682 ,\n",
       "          198.27882 ,   214.08609 ,   236.64029 ,   277.22092 ,\n",
       "          273.35605 ,   329.22656 ,   368.5765  ,   861.3045  ,\n",
       "          948.523   ,  1061.1445  ,  1139.5288  ,  1259.7015  ,\n",
       "         1419.5737  ,  1280.9149  ,   454.81366 ,   325.4563  ,\n",
       "          344.82187 ,   350.594   ,   362.98926 ,   521.3422  ,\n",
       "          242.07877 ,   242.9426  ,   211.5664  ,   267.99643 ,\n",
       "          384.77698 ,   396.10495 ,   460.82123 ,   346.33255 ,\n",
       "          481.17053 ,   306.3663  ,   270.27158 ,   243.91574 ,\n",
       "          179.49483 ,   241.52444 ,   237.87523 ,   633.09576 ,\n",
       "          548.9165  ,   556.6645  ,   356.3808  ,   314.2523  ,\n",
       "          337.10635 ,   392.99683 ,   392.72238 ,   375.16876 ,\n",
       "          250.26602 ,   326.14487 ,   453.2665  ,   758.57043 ,\n",
       "         1006.0054  ,  1293.3899  ,  1588.4175  ,  1447.491   ,\n",
       "          854.06586 ,   617.74677 ,   200.6788  ,   205.95996 ,\n",
       "          259.11926 ,   495.70804 ,   446.46436 ,   432.3198  ,\n",
       "          339.25824 ,   326.5681  ,   316.2717  ,   240.00716 ,\n",
       "          190.96564 ,   431.40784 ,   387.99597 ,   459.1481  ,\n",
       "          532.3396  ,   406.20514 ,   266.85254 ,   229.02826 ,\n",
       "          350.51505 ,    74.31378 ,   189.6545  ,   184.60446 ,\n",
       "          316.51614 ,   382.24808 ,   339.24863 ,   307.4165  ,\n",
       "          257.87436 ,   294.8049  ,   423.17435 ,   480.2848  ,\n",
       "          588.2722  ,   724.85156 ,   653.9707  ,   570.8227  ,\n",
       "          357.11725 ,   121.66543 ,   178.88655 ,   417.91345 ,\n",
       "          357.5143  ,   729.26965 ,   890.3404  ,  1116.6888  ,\n",
       "         1221.5286  ,  1324.9418  ,  1148.0112  ,  1208.9886  ,\n",
       "          307.79486 ,   337.43826 ,   347.06845 ,   363.70044 ,\n",
       "          370.62302 ,   325.99942 ,   255.40938 ,   317.66745 ,\n",
       "          886.17126 ,  1000.85956 ,   905.64746 ,  1067.7142  ,\n",
       "         1085.645   ,  1127.1371  ,  1054.1699  ,   411.25037 ,\n",
       "          562.1919  ,   670.55066 ,   439.9932  ,   592.3683  ,\n",
       "          977.153   ,   979.392   ,  1051.4838  ,  1205.7736  ,\n",
       "         1418.1555  ,  1757.3849  ,  1515.7992  ,   772.0646  ,\n",
       "          422.5937  ,   513.9189  ,  1024.1993  ,  1246.2283  ,\n",
       "         1316.9237  ,  1416.266   ,  1461.4218  ,  1381.2365  ,\n",
       "         1064.6195  ,  1444.5808  ,  1398.251   ,  1011.7242  ,\n",
       "          233.48836 ,   546.1864  ,   739.30634 ,  1042.7875  ,\n",
       "          783.95123 ,   927.0656  ,   800.02783 ,   855.19183 ,\n",
       "          725.7427  ,  1387.0514  ,  2353.1653  ,  3158.5076  ,\n",
       "         3225.2107  ,  3234.139   ,  3362.5312  ,  3359.1355  ,\n",
       "         2186.8127  ,   762.91656 ,   594.77094 ,  1306.1886  ,\n",
       "         1632.5487  ,  1776.8944  ,  2131.7747  ,  2887.784   ,\n",
       "         3364.549   ,  3110.7346  ,  2672.697   ,  3122.7087  ,\n",
       "         3111.4521  ,  3747.3857  ,  3523.7363  ,  4580.9937  ,\n",
       "         5817.7344  ,  5255.986   ,  4861.038   ,  5132.9663  ,\n",
       "         3887.5208  ,  2825.4014  ,  3237.5793  ,  4998.6685  ,\n",
       "         6104.9385  ,  5164.849   ,  1921.2554  ,  1237.8138  ,\n",
       "         1487.3202  ,  3891.0906  ,  3838.2354  ,  3703.7256  ,\n",
       "         4206.5986  ,  4375.8296  ,  4753.381   ,  4421.273   ,\n",
       "         1319.1593  ,  1528.9954  ,  1663.2842  ,  2325.0244  ,\n",
       "         2158.4229  ,  2720.6672  ,  4026.8767  ,  3196.8809  ,\n",
       "         2203.0671  ,  3060.153   ,  3375.031   ,  5357.522   ,\n",
       "         6059.42    ,  5963.774   ,  6624.703   ,  7415.224   ,\n",
       "         6018.812   ,  7540.816   ,  3864.7993  ,  1047.9569  ,\n",
       "         2179.1338  ,  1713.5516  ,  2895.1575  ,  3710.094   ,\n",
       "         3899.0327  ,  3901.8406  ,  3943.6074  ,  3239.9307  ,\n",
       "         3840.2288  ,  6707.7993  ,  8362.387   , 11162.278   ,\n",
       "         9958.849   ,  5762.39    ,  4133.472   ,  2148.7048  ,\n",
       "         2320.8325  ,  2642.8962  ,  4642.133   ,  2337.3347  ,\n",
       "         3475.2695  ,  3307.8655  ,  4533.317   ,  5483.7646  ,\n",
       "         6414.695   ,  6715.7676  ,  6485.3945  ,  4838.714   ,\n",
       "         2723.8723  ,  1712.0045  ,  1526.4641  ,  2375.4253  ,\n",
       "         4301.489   ,  2488.8513  ,  2405.548   ,  4094.2795  ,\n",
       "         4321.4517  ,  5360.8867  ,  5657.2056  ,  5008.6514  ,\n",
       "         2791.8425  ,  2729.7268  ,  2923.7634  ,  4845.1914  ,\n",
       "         3476.5403  ,  2692.808   ,  2171.7097  ,  1710.7711  ,\n",
       "          639.50323 ,  1049.4595  ,  1949.3344  ,  1531.5144  ,\n",
       "         1626.1094  ,  1730.2898  ,  1785.8876  ,  2716.708   ,\n",
       "         3860.1558  ,  3906.785   ,  3620.773   ,  2359.422   ,\n",
       "         2154.1096  ,  2447.5183  ,  5142.546   ,  6427.062   ,\n",
       "         8281.105   ,  8690.448   ,  8320.947   ,  6256.6553  ,\n",
       "         5305.725   ,  4928.671   ,  3590.8782  ,  2987.8992  ,\n",
       "         3806.6255  ,  4598.4307  ,  5632.977   ,  3393.9226  ,\n",
       "         1788.6146  ,  2041.3073  ,  1864.2072  ,  2001.5913  ,\n",
       "         2567.547   ,  2037.9175  ,  1677.5853  ,  2760.7847  ,\n",
       "         1499.416   ,  3058.3145  ,  4070.3618  ,  7071.38    ,\n",
       "         8459.706   ,  9740.481   ], dtype=float32),\n",
       " 'mape': array([ 1.9798616 ,  3.569509  ,  5.7952933 ,  4.5044    ,  5.1034746 ,\n",
       "         4.635621  ,  4.089158  ,  4.6675653 ,  3.564569  ,  3.6227744 ,\n",
       "         4.0745916 ,  6.405702  ,  1.1172625 ,  1.2783346 ,  1.141203  ,\n",
       "         1.9060876 ,  2.5099175 ,  1.581505  ,  1.17106   ,  0.6997789 ,\n",
       "         0.96359617,  1.7167419 ,  2.1329572 ,  3.342158  ,  3.4413311 ,\n",
       "         3.5944383 ,  4.3940706 ,  6.244638  ,  6.0637093 ,  6.8130894 ,\n",
       "         5.98525   ,  4.461715  ,  3.1848636 ,  3.8531356 ,  4.497486  ,\n",
       "         4.263028  ,  5.4524784 ,  5.246085  ,  5.808529  ,  1.3204528 ,\n",
       "         1.9108955 ,  3.0197458 ,  5.780399  ,  6.972248  ,  5.678315  ,\n",
       "         4.111718  ,  4.984707  ,  4.7741847 ,  5.594056  ,  6.0095267 ,\n",
       "         7.827811  ,  7.7551723 ,  5.548411  ,  2.4173818 ,  1.8852296 ,\n",
       "         3.2802    ,  2.9606278 ,  3.3379169 ,  3.1736586 ,  4.317937  ,\n",
       "         5.6553483 ,  4.601533  ,  3.5804608 ,  3.3215277 ,  1.4997885 ,\n",
       "         1.9093359 ,  2.4437833 ,  3.4959025 ,  5.828845  ,  6.1138773 ,\n",
       "         8.284618  ,  4.3296804 ,  3.7113304 ,  2.0146778 ,  4.229407  ,\n",
       "         3.7362866 ,  4.344324  ,  5.6438665 ,  7.1287074 , 12.4916725 ,\n",
       "        11.171315  , 10.008358  ,  4.291904  ,  2.6979437 ,  2.3424447 ,\n",
       "         3.0378554 ,  3.1644843 ,  3.8826115 ,  5.5175414 ,  6.262     ,\n",
       "        16.354807  , 26.387945  , 36.32856   , 35.475735  , 38.14803   ,\n",
       "        42.943703  , 47.733685  , 23.184654  , 13.531973  ,  8.545985  ,\n",
       "         8.640224  ,  9.576458  , 11.311509  , 11.727771  ,  4.6455045 ,\n",
       "         3.8203847 ,  3.2299929 ,  2.6416872 ,  3.7407339 ,  6.791071  ,\n",
       "         5.643018  ,  6.3749514 ,  6.010362  ,  6.4221053 ,  8.2493925 ,\n",
       "         8.092587  ,  6.0729237 ,  3.3892524 ,  2.403619  ,  3.0351753 ,\n",
       "         1.9055141 ,  1.7032843 ,  4.3789616 ,  5.4693193 ,  5.7895346 ,\n",
       "         8.099814  ,  4.958999  ,  3.6722627 ,  3.549905  ,  2.2320065 ,\n",
       "         3.1798    ,  2.9773333 ,  3.2264333 ,  3.4708672 ,  4.088871  ,\n",
       "         4.4702744 ,  5.0191174 ,  6.755437  ,  8.497703  ,  5.961627  ,\n",
       "         7.574088  ,  8.67262   ,  9.826653  , 10.169668  , 11.706565  ,\n",
       "         3.7769501 ,  2.201018  ,  4.3179426 ,  3.8568199 ,  3.7089195 ,\n",
       "         4.275087  ,  4.7901907 ,  5.7489448 ,  8.195913  , 11.535426  ,\n",
       "        10.826256  ,  4.280356  ,  5.192831  ,  6.7638793 ,  2.9812932 ,\n",
       "         3.264134  ,  1.9192543 ,  1.9501326 ,  4.355009  ,  6.4984584 ,\n",
       "         7.870262  ,  8.338322  ,  4.449732  ,  3.9380999 ,  4.211492  ,\n",
       "         4.949288  ,  6.31195   ,  7.0304146 ,  6.4874043 ,  3.138617  ,\n",
       "         2.202342  ,  2.748655  ,  2.27793   ,  6.1177416 ,  1.4685171 ,\n",
       "         2.3594954 ,  2.2077284 ,  1.3243953 ,  2.0061374 ,  1.7902877 ,\n",
       "         3.5266352 ,  4.2240863 ,  6.7512817 ,  1.4620242 ,  2.337655  ,\n",
       "         2.04042   ,  1.3937949 ,  2.5903025 ,  2.7918053 ,  2.0296288 ,\n",
       "         2.470963  ,  1.6156836 ,  2.2315104 ,  1.8302455 ,  5.02846   ,\n",
       "         5.0433493 ,  4.571027  ,  2.6496785 ,  1.5308174 ,  0.79114723,\n",
       "         0.5367324 ,  1.4204559 ,  1.8864214 ,  2.493434  ,  1.9193338 ,\n",
       "         1.5831736 ,  1.4092073 ,  1.1363343 ,  1.058121  ,  1.4235932 ,\n",
       "         2.6337233 ,  1.7852942 ,  1.7784985 ,  1.2350931 ,  1.3710237 ,\n",
       "         2.0544713 ,  2.245526  ,  2.3617954 ,  2.5509114 ,  2.4968672 ,\n",
       "         2.861392  ,  2.974041  ,  5.651479  ,  6.04362   ,  6.775647  ,\n",
       "         8.118341  ,  9.672183  , 11.395438  , 11.105125  ,  3.2525804 ,\n",
       "         2.0259225 ,  2.6584506 ,  2.6942701 ,  2.8029578 ,  4.0469403 ,\n",
       "         1.8359902 ,  1.8084254 ,  1.5865313 ,  1.8125968 ,  3.092264  ,\n",
       "         3.0133991 ,  3.253927  ,  2.410472  ,  3.9377837 ,  1.9591937 ,\n",
       "         1.7138335 ,  1.6109927 ,  1.2860518 ,  1.7005053 ,  1.7904474 ,\n",
       "         5.164679  ,  4.5425816 ,  4.687781  ,  3.0092878 ,  2.225535  ,\n",
       "         2.6330407 ,  2.9456522 ,  3.0776339 ,  2.7767954 ,  1.7537223 ,\n",
       "         2.0038974 ,  3.0103612 ,  5.484141  ,  7.8803816 , 10.996878  ,\n",
       "        14.8580475 , 13.933518  ,  7.949181  ,  5.531007  ,  1.4871747 ,\n",
       "         1.9089302 ,  1.912106  ,  3.344898  ,  2.923262  ,  3.312308  ,\n",
       "         2.7148457 ,  2.848727  ,  2.747011  ,  1.8961476 ,  1.4796927 ,\n",
       "         3.8028114 ,  2.9694443 ,  3.5903356 ,  4.51953   ,  3.1727428 ,\n",
       "         1.904718  ,  1.6293604 ,  3.136814  ,  0.48792353,  1.5147104 ,\n",
       "         1.5779595 ,  2.8042202 ,  3.199386  ,  2.931174  ,  2.6990235 ,\n",
       "         2.2550066 ,  2.0110521 ,  2.6445377 ,  3.3607516 ,  4.1202517 ,\n",
       "         5.294954  ,  5.046436  ,  4.6615787 ,  3.01086   ,  0.88132256,\n",
       "         1.4837289 ,  3.5212736 ,  2.9075992 ,  4.0544815 ,  5.1518626 ,\n",
       "         6.3807144 ,  7.6671295 ,  9.175942  ,  8.290115  ,  8.790291  ,\n",
       "         1.6309838 ,  2.512364  ,  2.3771632 ,  2.316613  ,  2.3351252 ,\n",
       "         1.9719431 ,  1.6024845 ,  1.4141936 ,  3.9284594 ,  4.442955  ,\n",
       "         4.9532166 ,  5.672469  ,  6.3280387 ,  6.6646113 ,  6.315571  ,\n",
       "         1.9475067 ,  3.137623  ,  3.4568272 ,  2.527509  ,  2.7984734 ,\n",
       "         4.2432947 ,  4.330792  ,  4.663249  ,  5.8202157 ,  6.8397565 ,\n",
       "         8.714565  ,  7.909281  ,  3.5948646 ,  2.0860484 ,  2.1874356 ,\n",
       "         4.5043316 ,  5.890527  ,  6.314581  ,  6.4249744 ,  6.5895834 ,\n",
       "         6.4429746 ,  5.270104  ,  6.7424073 ,  6.94424   ,  5.020712  ,\n",
       "         0.83851385,  2.4848049 ,  3.7587967 ,  5.400803  ,  3.937194  ,\n",
       "         4.418403  ,  3.497966  ,  3.9818103 ,  3.2676907 ,  4.789731  ,\n",
       "         7.9449043 , 11.407371  , 11.18761   , 11.935961  , 13.169064  ,\n",
       "        14.028292  ,  9.294413  ,  2.9089818 ,  1.9209938 ,  4.489489  ,\n",
       "         5.5346084 ,  5.7702055 ,  6.602613  ,  8.840104  , 10.701518  ,\n",
       "        10.038633  ,  6.456702  ,  7.7034554 ,  8.490238  ,  9.75717   ,\n",
       "         8.30663   ,  9.9739485 , 12.682157  , 10.987464  , 11.009006  ,\n",
       "        11.701136  ,  7.9532704 ,  6.791157  ,  7.2252674 , 12.45776   ,\n",
       "        16.375837  , 14.071159  ,  3.742395  ,  2.5713742 ,  3.3454072 ,\n",
       "         9.606132  ,  9.690438  ,  9.730192  , 11.245977  , 12.2516    ,\n",
       "        14.1375065 , 13.766869  ,  3.799096  ,  4.190737  ,  3.838798  ,\n",
       "         6.052174  ,  5.9554343 ,  7.000571  , 10.514836  ,  7.8017874 ,\n",
       "         5.0281305 ,  6.8358684 ,  8.010556  , 11.132089  , 11.542856  ,\n",
       "        10.248188  , 11.630331  , 14.096406  , 12.131981  , 15.724762  ,\n",
       "         7.828628  ,  1.8387744 ,  3.2434793 ,  2.5814083 ,  4.5991073 ,\n",
       "         5.126097  ,  5.721656  ,  5.851091  ,  6.333857  ,  5.3096256 ,\n",
       "         6.264329  , 11.884293  , 15.578963  , 22.84275   , 20.751749  ,\n",
       "        11.296307  ,  7.275854  ,  3.7630372 ,  4.238711  ,  5.243415  ,\n",
       "         8.577894  ,  4.013773  ,  5.228893  ,  4.786434  ,  6.449489  ,\n",
       "         8.031491  ,  9.666044  , 10.152583  , 10.347889  ,  7.7995977 ,\n",
       "         3.5528681 ,  2.5927308 ,  2.0960608 ,  3.6500015 ,  7.410072  ,\n",
       "         3.747001  ,  3.5078888 ,  6.0119123 ,  7.002738  ,  9.021798  ,\n",
       "         9.692831  ,  8.541693  ,  4.2452893 ,  4.303577  ,  4.1997848 ,\n",
       "         7.412463  ,  5.4153333 ,  4.094389  ,  3.2500715 ,  2.595603  ,\n",
       "         0.8476729 ,  1.4677597 ,  3.171667  ,  2.2320735 ,  2.2844467 ,\n",
       "         2.5142176 ,  2.5199459 ,  3.6364477 ,  4.645432  ,  4.9803596 ,\n",
       "         4.993463  ,  3.1274538 ,  3.0452874 ,  3.642675  ,  7.3131323 ,\n",
       "         9.915825  , 13.937046  , 15.390435  , 15.227117  , 11.33378   ,\n",
       "         9.222319  ,  8.360152  ,  6.130984  ,  5.2205634 ,  6.153578  ,\n",
       "         7.508172  ,  9.559329  ,  5.330917  ,  2.7352672 ,  3.4415312 ,\n",
       "         3.176291  ,  2.2931943 ,  3.7088394 ,  2.9453435 ,  2.502185  ,\n",
       "         4.4941764 ,  2.30595   ,  4.0197587 ,  6.16072   , 12.10776   ,\n",
       "        15.737367  , 18.65      ], dtype=float32),\n",
       " 'mase': 2.2046313}"
      ]
     },
     "execution_count": 74,
     "metadata": {},
     "output_type": "execute_result"
    }
   ],
   "source": [
    "# Evaluate model_3 results\n",
    "model_3_results = evaluate_preds(y_true=tf.squeeze(test_labels),\n",
    "                                 y_pred=model_3_preds)\n",
    "model_3_results"
   ]
  },
  {
   "cell_type": "markdown",
   "id": "eb20aaac",
   "metadata": {},
   "source": [
    "## Make our evaluation function work for larger horizons"
   ]
  },
  {
   "cell_type": "code",
   "execution_count": 75,
   "id": "c1d76057",
   "metadata": {},
   "outputs": [],
   "source": [
    "# Create a function to take in model predictions and truth values and return evaluation metrics\n",
    "def evaluate_preds(y_true, y_pred):\n",
    "    # Make sure float32 datatype (for metric calculation)\n",
    "    y_true = tf.cast(y_true, dtype=tf.float32)\n",
    "    y_pred = tf.cast(y_pred, dtype=tf.float32)\n",
    "\n",
    "    # Calculate various evaluation metrics\n",
    "    mae = tf.keras.metrics.mean_absolute_error(y_true, y_pred)\n",
    "    mse = tf.keras.metrics.mean_squared_error(y_true, y_pred)\n",
    "    rmse = tf.sqrt(mse)\n",
    "    mape = tf.keras.metrics.mean_absolute_percentage_error(y_true, y_pred)\n",
    "    mase = mean_absolute_scaled_error(y_true, y_pred)\n",
    "\n",
    "    # Account for different sized metrics (for longer horizons, we want to reduce metrics to a single value)\n",
    "    if mae.ndim > 0:\n",
    "        mae = tf.reduce_mean(mae)\n",
    "        mse = tf.reduce_mean(mse)\n",
    "        rmse = tf.reduce_mean(rmse)\n",
    "        mape = tf.reduce_mean(mape)\n",
    "        mase = tf.reduce_mean(mase)\n",
    "\n",
    "    return {\n",
    "        \"mae\": mae.numpy(),\n",
    "        \"mse\": mse.numpy(),\n",
    "        \"rmse\": rmse.numpy(),\n",
    "        \"mape\": mape.numpy(),\n",
    "        \"mase\": mase.numpy()\n",
    "    }"
   ]
  },
  {
   "cell_type": "code",
   "execution_count": 76,
   "id": "379adf2b",
   "metadata": {},
   "outputs": [
    {
     "data": {
      "text/plain": [
       "{'mae': 1289.4144,\n",
       " 'mse': 5635686.5,\n",
       " 'rmse': 1482.7789,\n",
       " 'mape': 5.621021,\n",
       " 'mase': 2.2046313}"
      ]
     },
     "execution_count": 76,
     "metadata": {},
     "output_type": "execute_result"
    }
   ],
   "source": [
    "# Get model_3 results aggregated to single values\n",
    "model_3_results = evaluate_preds(y_true=tf.squeeze(test_labels),\n",
    "                                 y_pred=model_3_preds)\n",
    "model_3_results"
   ]
  },
  {
   "cell_type": "markdown",
   "id": "919753cb",
   "metadata": {},
   "source": [
    "We have made and evaluated predictions with `model_3`, let's visualize visualize visualize!"
   ]
  },
  {
   "cell_type": "code",
   "execution_count": 77,
   "id": "58191ef7",
   "metadata": {},
   "outputs": [
    {
     "data": {
      "image/png": "[encoded data removed]",
      "text/plain": [
       "<Figure size 1000x700 with 1 Axes>"
      ]
     },
     "metadata": {},
     "output_type": "display_data"
    }
   ],
   "source": [
    "offset = 300\n",
    "plt.figure(figsize=(10, 7))\n",
    "plot_time_series(timesteps=X_test[-len(test_windows):], values=test_labels[:, 0], start=offset, label='Test Data')\n",
    "plot_time_series(timesteps=X_test[-len(test_windows):], values=tf.reduce_mean(model_3_preds, axis=1), format='-', start=offset, label='model_3_pred')"
   ]
  },
  {
   "cell_type": "markdown",
   "id": "f7318035",
   "metadata": {},
   "source": [
    "## Which of our models is performing the best so far?\n",
    "\n",
    "So we have trained a few models, now let's compare them and see how they have gone..."
   ]
  },
  {
   "cell_type": "code",
   "execution_count": 78,
   "id": "ef3b7b5b",
   "metadata": {},
   "outputs": [
    {
     "data": {
      "text/plain": [
       "<Axes: >"
      ]
     },
     "execution_count": 78,
     "metadata": {},
     "output_type": "execute_result"
    },
    {
     "data": {
      "image/png": "[encoded data removed]",
      "text/plain": [
       "<Figure size 1000x700 with 1 Axes>"
      ]
     },
     "metadata": {},
     "output_type": "display_data"
    }
   ],
   "source": [
    "pd.DataFrame({'naive': naive_results['mae'],\n",
    "              'horizon_1_window_7': model_1_results['mae'],\n",
    "              'horizon_1_window_30': model_2_results['mae'],\n",
    "              'horizon_7_window_30': model_3_results['mae']}, index=['mae']).plot(figsize=(10, 7), kind='bar')"
   ]
  },
  {
   "cell_type": "markdown",
   "id": "485fb523",
   "metadata": {},
   "source": [
    "## Model 4: Conv1D"
   ]
  },
  {
   "cell_type": "code",
   "execution_count": 79,
   "id": "5a19444d",
   "metadata": {},
   "outputs": [],
   "source": [
    "HORIZON = 1 # predict next day of Bitcoin prices\n",
    "WINDOW_SIZE = 7 # use previous week worth data"
   ]
  },
  {
   "cell_type": "code",
   "execution_count": 80,
   "id": "38fa46f3",
   "metadata": {},
   "outputs": [
    {
     "data": {
      "text/plain": [
       "(2780, 2780)"
      ]
     },
     "execution_count": 80,
     "metadata": {},
     "output_type": "execute_result"
    }
   ],
   "source": [
    "# Create windowed data\n",
    "full_windows, full_labels = make_windows(prices, window_size=WINDOW_SIZE, horizon=HORIZON)\n",
    "len(full_windows), len(full_labels)"
   ]
  },
  {
   "cell_type": "code",
   "execution_count": 81,
   "id": "5b7987b0",
   "metadata": {},
   "outputs": [
    {
     "data": {
      "text/plain": [
       "(2229, 2229, 551, 551)"
      ]
     },
     "execution_count": 81,
     "metadata": {},
     "output_type": "execute_result"
    }
   ],
   "source": [
    "# Create train/test sets\n",
    "train_windows, test_windows, train_labels, test_labels = make_train_test_splits(full_windows, full_labels)\n",
    "len(train_windows), len(train_labels), len(test_windows), len(test_labels)"
   ]
  },
  {
   "cell_type": "markdown",
   "id": "9bae52ae",
   "metadata": {},
   "source": [
    "To use the Conv1D layer, we need an input shape of: `(batch_size, timesteps, input_dim)`... However, our data isn't in that shape yet."
   ]
  },
  {
   "cell_type": "code",
   "execution_count": 82,
   "id": "bd72e3eb",
   "metadata": {},
   "outputs": [
    {
     "data": {
      "text/plain": [
       "(7,)"
      ]
     },
     "execution_count": 82,
     "metadata": {},
     "output_type": "execute_result"
    }
   ],
   "source": [
    "# Check data input shape\n",
    "train_windows[0].shape # returns (WINDOW_SIZE, )"
   ]
  },
  {
   "cell_type": "code",
   "execution_count": 83,
   "id": "70cb4513",
   "metadata": {},
   "outputs": [
    {
     "data": {
      "text/plain": [
       "<tf.Tensor: shape=(7,), dtype=float64, numpy=\n",
       "array([123.65499, 125.455  , 108.58483, 118.67466, 121.33866, 120.65533,\n",
       "       121.795  ])>"
      ]
     },
     "execution_count": 83,
     "metadata": {},
     "output_type": "execute_result"
    }
   ],
   "source": [
    "# Before we pass our data to the Conv1D layer, we have to reshape it in order to make sure it works \n",
    "x = tf.constant(train_windows[0])\n",
    "x"
   ]
  },
  {
   "cell_type": "code",
   "execution_count": 84,
   "id": "ba3f47a1",
   "metadata": {},
   "outputs": [],
   "source": [
    "expand_dims_layer = layers.Lambda(lambda x: tf.expand_dims(x, axis=1)) # add an extra dimension to our layer"
   ]
  },
  {
   "cell_type": "code",
   "execution_count": 85,
   "id": "18649f7e",
   "metadata": {},
   "outputs": [
    {
     "name": "stdout",
     "output_type": "stream",
     "text": [
      "Original shape: (7,)\n",
      "Expanded shape: (7, 1)\n",
      "Original values with expanded shape:\n",
      " [[123.65499]\n",
      " [125.455  ]\n",
      " [108.58483]\n",
      " [118.67466]\n",
      " [121.33866]\n",
      " [120.65533]\n",
      " [121.795  ]]\n"
     ]
    }
   ],
   "source": [
    "# Test out our lambda layer\n",
    "print(f'Original shape: {x.shape}') # (WINDOW_SIZE)\n",
    "print(f'Expanded shape: {expand_dims_layer(x).shape}')\n",
    "print(f'Original values with expanded shape:\\n {expand_dims_layer(x)}')"
   ]
  },
  {
   "cell_type": "code",
   "execution_count": 86,
   "id": "5a803a7f",
   "metadata": {},
   "outputs": [
    {
     "name": "stderr",
     "output_type": "stream",
     "text": [
      "WARNING:absl:Found untraced functions such as _jit_compiled_convolution_op while saving (showing 1 of 1). These functions will not be directly callable after loading.\n"
     ]
    },
    {
     "name": "stdout",
     "output_type": "stream",
     "text": [
      "INFO:tensorflow:Assets written to: model_experiments\\model_4_conv1D\\assets\n"
     ]
    },
    {
     "name": "stderr",
     "output_type": "stream",
     "text": [
      "INFO:tensorflow:Assets written to: model_experiments\\model_4_conv1D\\assets\n",
      "WARNING:absl:Found untraced functions such as _jit_compiled_convolution_op while saving (showing 1 of 1). These functions will not be directly callable after loading.\n"
     ]
    },
    {
     "name": "stdout",
     "output_type": "stream",
     "text": [
      "INFO:tensorflow:Assets written to: model_experiments\\model_4_conv1D\\assets\n"
     ]
    },
    {
     "name": "stderr",
     "output_type": "stream",
     "text": [
      "INFO:tensorflow:Assets written to: model_experiments\\model_4_conv1D\\assets\n",
      "WARNING:absl:Found untraced functions such as _jit_compiled_convolution_op while saving (showing 1 of 1). These functions will not be directly callable after loading.\n"
     ]
    },
    {
     "name": "stdout",
     "output_type": "stream",
     "text": [
      "INFO:tensorflow:Assets written to: model_experiments\\model_4_conv1D\\assets\n"
     ]
    },
    {
     "name": "stderr",
     "output_type": "stream",
     "text": [
      "INFO:tensorflow:Assets written to: model_experiments\\model_4_conv1D\\assets\n",
      "WARNING:absl:Found untraced functions such as _jit_compiled_convolution_op while saving (showing 1 of 1). These functions will not be directly callable after loading.\n"
     ]
    },
    {
     "name": "stdout",
     "output_type": "stream",
     "text": [
      "INFO:tensorflow:Assets written to: model_experiments\\model_4_conv1D\\assets\n"
     ]
    },
    {
     "name": "stderr",
     "output_type": "stream",
     "text": [
      "INFO:tensorflow:Assets written to: model_experiments\\model_4_conv1D\\assets\n",
      "WARNING:absl:Found untraced functions such as _jit_compiled_convolution_op while saving (showing 1 of 1). These functions will not be directly callable after loading.\n"
     ]
    },
    {
     "name": "stdout",
     "output_type": "stream",
     "text": [
      "INFO:tensorflow:Assets written to: model_experiments\\model_4_conv1D\\assets\n"
     ]
    },
    {
     "name": "stderr",
     "output_type": "stream",
     "text": [
      "INFO:tensorflow:Assets written to: model_experiments\\model_4_conv1D\\assets\n",
      "WARNING:absl:Found untraced functions such as _jit_compiled_convolution_op while saving (showing 1 of 1). These functions will not be directly callable after loading.\n"
     ]
    },
    {
     "name": "stdout",
     "output_type": "stream",
     "text": [
      "INFO:tensorflow:Assets written to: model_experiments\\model_4_conv1D\\assets\n"
     ]
    },
    {
     "name": "stderr",
     "output_type": "stream",
     "text": [
      "INFO:tensorflow:Assets written to: model_experiments\\model_4_conv1D\\assets\n",
      "WARNING:absl:Found untraced functions such as _jit_compiled_convolution_op while saving (showing 1 of 1). These functions will not be directly callable after loading.\n"
     ]
    },
    {
     "name": "stdout",
     "output_type": "stream",
     "text": [
      "INFO:tensorflow:Assets written to: model_experiments\\model_4_conv1D\\assets\n"
     ]
    },
    {
     "name": "stderr",
     "output_type": "stream",
     "text": [
      "INFO:tensorflow:Assets written to: model_experiments\\model_4_conv1D\\assets\n",
      "WARNING:absl:Found untraced functions such as _jit_compiled_convolution_op while saving (showing 1 of 1). These functions will not be directly callable after loading.\n"
     ]
    },
    {
     "name": "stdout",
     "output_type": "stream",
     "text": [
      "INFO:tensorflow:Assets written to: model_experiments\\model_4_conv1D\\assets\n"
     ]
    },
    {
     "name": "stderr",
     "output_type": "stream",
     "text": [
      "INFO:tensorflow:Assets written to: model_experiments\\model_4_conv1D\\assets\n",
      "WARNING:absl:Found untraced functions such as _jit_compiled_convolution_op while saving (showing 1 of 1). These functions will not be directly callable after loading.\n"
     ]
    },
    {
     "name": "stdout",
     "output_type": "stream",
     "text": [
      "INFO:tensorflow:Assets written to: model_experiments\\model_4_conv1D\\assets\n"
     ]
    },
    {
     "name": "stderr",
     "output_type": "stream",
     "text": [
      "INFO:tensorflow:Assets written to: model_experiments\\model_4_conv1D\\assets\n",
      "WARNING:absl:Found untraced functions such as _jit_compiled_convolution_op while saving (showing 1 of 1). These functions will not be directly callable after loading.\n"
     ]
    },
    {
     "name": "stdout",
     "output_type": "stream",
     "text": [
      "INFO:tensorflow:Assets written to: model_experiments\\model_4_conv1D\\assets\n"
     ]
    },
    {
     "name": "stderr",
     "output_type": "stream",
     "text": [
      "INFO:tensorflow:Assets written to: model_experiments\\model_4_conv1D\\assets\n",
      "WARNING:absl:Found untraced functions such as _jit_compiled_convolution_op while saving (showing 1 of 1). These functions will not be directly callable after loading.\n"
     ]
    },
    {
     "name": "stdout",
     "output_type": "stream",
     "text": [
      "INFO:tensorflow:Assets written to: model_experiments\\model_4_conv1D\\assets\n"
     ]
    },
    {
     "name": "stderr",
     "output_type": "stream",
     "text": [
      "INFO:tensorflow:Assets written to: model_experiments\\model_4_conv1D\\assets\n",
      "WARNING:absl:Found untraced functions such as _jit_compiled_convolution_op while saving (showing 1 of 1). These functions will not be directly callable after loading.\n"
     ]
    },
    {
     "name": "stdout",
     "output_type": "stream",
     "text": [
      "INFO:tensorflow:Assets written to: model_experiments\\model_4_conv1D\\assets\n"
     ]
    },
    {
     "name": "stderr",
     "output_type": "stream",
     "text": [
      "INFO:tensorflow:Assets written to: model_experiments\\model_4_conv1D\\assets\n",
      "WARNING:absl:Found untraced functions such as _jit_compiled_convolution_op while saving (showing 1 of 1). These functions will not be directly callable after loading.\n"
     ]
    },
    {
     "name": "stdout",
     "output_type": "stream",
     "text": [
      "INFO:tensorflow:Assets written to: model_experiments\\model_4_conv1D\\assets\n"
     ]
    },
    {
     "name": "stderr",
     "output_type": "stream",
     "text": [
      "INFO:tensorflow:Assets written to: model_experiments\\model_4_conv1D\\assets\n",
      "WARNING:absl:Found untraced functions such as _jit_compiled_convolution_op while saving (showing 1 of 1). These functions will not be directly callable after loading.\n"
     ]
    },
    {
     "name": "stdout",
     "output_type": "stream",
     "text": [
      "INFO:tensorflow:Assets written to: model_experiments\\model_4_conv1D\\assets\n"
     ]
    },
    {
     "name": "stderr",
     "output_type": "stream",
     "text": [
      "INFO:tensorflow:Assets written to: model_experiments\\model_4_conv1D\\assets\n",
      "WARNING:absl:Found untraced functions such as _jit_compiled_convolution_op while saving (showing 1 of 1). These functions will not be directly callable after loading.\n"
     ]
    },
    {
     "name": "stdout",
     "output_type": "stream",
     "text": [
      "INFO:tensorflow:Assets written to: model_experiments\\model_4_conv1D\\assets\n"
     ]
    },
    {
     "name": "stderr",
     "output_type": "stream",
     "text": [
      "INFO:tensorflow:Assets written to: model_experiments\\model_4_conv1D\\assets\n",
      "WARNING:absl:Found untraced functions such as _jit_compiled_convolution_op while saving (showing 1 of 1). These functions will not be directly callable after loading.\n"
     ]
    },
    {
     "name": "stdout",
     "output_type": "stream",
     "text": [
      "INFO:tensorflow:Assets written to: model_experiments\\model_4_conv1D\\assets\n"
     ]
    },
    {
     "name": "stderr",
     "output_type": "stream",
     "text": [
      "INFO:tensorflow:Assets written to: model_experiments\\model_4_conv1D\\assets\n",
      "WARNING:absl:Found untraced functions such as _jit_compiled_convolution_op while saving (showing 1 of 1). These functions will not be directly callable after loading.\n"
     ]
    },
    {
     "name": "stdout",
     "output_type": "stream",
     "text": [
      "INFO:tensorflow:Assets written to: model_experiments\\model_4_conv1D\\assets\n"
     ]
    },
    {
     "name": "stderr",
     "output_type": "stream",
     "text": [
      "INFO:tensorflow:Assets written to: model_experiments\\model_4_conv1D\\assets\n",
      "WARNING:absl:Found untraced functions such as _jit_compiled_convolution_op while saving (showing 1 of 1). These functions will not be directly callable after loading.\n"
     ]
    },
    {
     "name": "stdout",
     "output_type": "stream",
     "text": [
      "INFO:tensorflow:Assets written to: model_experiments\\model_4_conv1D\\assets\n"
     ]
    },
    {
     "name": "stderr",
     "output_type": "stream",
     "text": [
      "INFO:tensorflow:Assets written to: model_experiments\\model_4_conv1D\\assets\n",
      "WARNING:absl:Found untraced functions such as _jit_compiled_convolution_op while saving (showing 1 of 1). These functions will not be directly callable after loading.\n"
     ]
    },
    {
     "name": "stdout",
     "output_type": "stream",
     "text": [
      "INFO:tensorflow:Assets written to: model_experiments\\model_4_conv1D\\assets\n"
     ]
    },
    {
     "name": "stderr",
     "output_type": "stream",
     "text": [
      "INFO:tensorflow:Assets written to: model_experiments\\model_4_conv1D\\assets\n",
      "WARNING:absl:Found untraced functions such as _jit_compiled_convolution_op while saving (showing 1 of 1). These functions will not be directly callable after loading.\n"
     ]
    },
    {
     "name": "stdout",
     "output_type": "stream",
     "text": [
      "INFO:tensorflow:Assets written to: model_experiments\\model_4_conv1D\\assets\n"
     ]
    },
    {
     "name": "stderr",
     "output_type": "stream",
     "text": [
      "INFO:tensorflow:Assets written to: model_experiments\\model_4_conv1D\\assets\n",
      "WARNING:absl:Found untraced functions such as _jit_compiled_convolution_op while saving (showing 1 of 1). These functions will not be directly callable after loading.\n"
     ]
    },
    {
     "name": "stdout",
     "output_type": "stream",
     "text": [
      "INFO:tensorflow:Assets written to: model_experiments\\model_4_conv1D\\assets\n"
     ]
    },
    {
     "name": "stderr",
     "output_type": "stream",
     "text": [
      "INFO:tensorflow:Assets written to: model_experiments\\model_4_conv1D\\assets\n",
      "WARNING:absl:Found untraced functions such as _jit_compiled_convolution_op while saving (showing 1 of 1). These functions will not be directly callable after loading.\n"
     ]
    },
    {
     "name": "stdout",
     "output_type": "stream",
     "text": [
      "INFO:tensorflow:Assets written to: model_experiments\\model_4_conv1D\\assets\n"
     ]
    },
    {
     "name": "stderr",
     "output_type": "stream",
     "text": [
      "INFO:tensorflow:Assets written to: model_experiments\\model_4_conv1D\\assets\n",
      "WARNING:absl:Found untraced functions such as _jit_compiled_convolution_op while saving (showing 1 of 1). These functions will not be directly callable after loading.\n"
     ]
    },
    {
     "name": "stdout",
     "output_type": "stream",
     "text": [
      "INFO:tensorflow:Assets written to: model_experiments\\model_4_conv1D\\assets\n"
     ]
    },
    {
     "name": "stderr",
     "output_type": "stream",
     "text": [
      "INFO:tensorflow:Assets written to: model_experiments\\model_4_conv1D\\assets\n",
      "WARNING:absl:Found untraced functions such as _jit_compiled_convolution_op while saving (showing 1 of 1). These functions will not be directly callable after loading.\n"
     ]
    },
    {
     "name": "stdout",
     "output_type": "stream",
     "text": [
      "INFO:tensorflow:Assets written to: model_experiments\\model_4_conv1D\\assets\n"
     ]
    },
    {
     "name": "stderr",
     "output_type": "stream",
     "text": [
      "INFO:tensorflow:Assets written to: model_experiments\\model_4_conv1D\\assets\n",
      "WARNING:absl:Found untraced functions such as _jit_compiled_convolution_op while saving (showing 1 of 1). These functions will not be directly callable after loading.\n"
     ]
    },
    {
     "name": "stdout",
     "output_type": "stream",
     "text": [
      "INFO:tensorflow:Assets written to: model_experiments\\model_4_conv1D\\assets\n"
     ]
    },
    {
     "name": "stderr",
     "output_type": "stream",
     "text": [
      "INFO:tensorflow:Assets written to: model_experiments\\model_4_conv1D\\assets\n",
      "WARNING:absl:Found untraced functions such as _jit_compiled_convolution_op while saving (showing 1 of 1). These functions will not be directly callable after loading.\n"
     ]
    },
    {
     "name": "stdout",
     "output_type": "stream",
     "text": [
      "INFO:tensorflow:Assets written to: model_experiments\\model_4_conv1D\\assets\n"
     ]
    },
    {
     "name": "stderr",
     "output_type": "stream",
     "text": [
      "INFO:tensorflow:Assets written to: model_experiments\\model_4_conv1D\\assets\n",
      "WARNING:absl:Found untraced functions such as _jit_compiled_convolution_op while saving (showing 1 of 1). These functions will not be directly callable after loading.\n"
     ]
    },
    {
     "name": "stdout",
     "output_type": "stream",
     "text": [
      "INFO:tensorflow:Assets written to: model_experiments\\model_4_conv1D\\assets\n"
     ]
    },
    {
     "name": "stderr",
     "output_type": "stream",
     "text": [
      "INFO:tensorflow:Assets written to: model_experiments\\model_4_conv1D\\assets\n",
      "WARNING:absl:Found untraced functions such as _jit_compiled_convolution_op while saving (showing 1 of 1). These functions will not be directly callable after loading.\n"
     ]
    },
    {
     "name": "stdout",
     "output_type": "stream",
     "text": [
      "INFO:tensorflow:Assets written to: model_experiments\\model_4_conv1D\\assets\n"
     ]
    },
    {
     "name": "stderr",
     "output_type": "stream",
     "text": [
      "INFO:tensorflow:Assets written to: model_experiments\\model_4_conv1D\\assets\n",
      "WARNING:absl:Found untraced functions such as _jit_compiled_convolution_op while saving (showing 1 of 1). These functions will not be directly callable after loading.\n"
     ]
    },
    {
     "name": "stdout",
     "output_type": "stream",
     "text": [
      "INFO:tensorflow:Assets written to: model_experiments\\model_4_conv1D\\assets\n"
     ]
    },
    {
     "name": "stderr",
     "output_type": "stream",
     "text": [
      "INFO:tensorflow:Assets written to: model_experiments\\model_4_conv1D\\assets\n",
      "WARNING:absl:Found untraced functions such as _jit_compiled_convolution_op while saving (showing 1 of 1). These functions will not be directly callable after loading.\n"
     ]
    },
    {
     "name": "stdout",
     "output_type": "stream",
     "text": [
      "INFO:tensorflow:Assets written to: model_experiments\\model_4_conv1D\\assets\n"
     ]
    },
    {
     "name": "stderr",
     "output_type": "stream",
     "text": [
      "INFO:tensorflow:Assets written to: model_experiments\\model_4_conv1D\\assets\n",
      "WARNING:absl:Found untraced functions such as _jit_compiled_convolution_op while saving (showing 1 of 1). These functions will not be directly callable after loading.\n"
     ]
    },
    {
     "name": "stdout",
     "output_type": "stream",
     "text": [
      "INFO:tensorflow:Assets written to: model_experiments\\model_4_conv1D\\assets\n"
     ]
    },
    {
     "name": "stderr",
     "output_type": "stream",
     "text": [
      "INFO:tensorflow:Assets written to: model_experiments\\model_4_conv1D\\assets\n",
      "WARNING:absl:Found untraced functions such as _jit_compiled_convolution_op while saving (showing 1 of 1). These functions will not be directly callable after loading.\n"
     ]
    },
    {
     "name": "stdout",
     "output_type": "stream",
     "text": [
      "INFO:tensorflow:Assets written to: model_experiments\\model_4_conv1D\\assets\n"
     ]
    },
    {
     "name": "stderr",
     "output_type": "stream",
     "text": [
      "INFO:tensorflow:Assets written to: model_experiments\\model_4_conv1D\\assets\n",
      "WARNING:absl:Found untraced functions such as _jit_compiled_convolution_op while saving (showing 1 of 1). These functions will not be directly callable after loading.\n"
     ]
    },
    {
     "name": "stdout",
     "output_type": "stream",
     "text": [
      "INFO:tensorflow:Assets written to: model_experiments\\model_4_conv1D\\assets\n"
     ]
    },
    {
     "name": "stderr",
     "output_type": "stream",
     "text": [
      "INFO:tensorflow:Assets written to: model_experiments\\model_4_conv1D\\assets\n",
      "WARNING:absl:Found untraced functions such as _jit_compiled_convolution_op while saving (showing 1 of 1). These functions will not be directly callable after loading.\n"
     ]
    },
    {
     "name": "stdout",
     "output_type": "stream",
     "text": [
      "INFO:tensorflow:Assets written to: model_experiments\\model_4_conv1D\\assets\n"
     ]
    },
    {
     "name": "stderr",
     "output_type": "stream",
     "text": [
      "INFO:tensorflow:Assets written to: model_experiments\\model_4_conv1D\\assets\n",
      "WARNING:absl:Found untraced functions such as _jit_compiled_convolution_op while saving (showing 1 of 1). These functions will not be directly callable after loading.\n"
     ]
    },
    {
     "name": "stdout",
     "output_type": "stream",
     "text": [
      "INFO:tensorflow:Assets written to: model_experiments\\model_4_conv1D\\assets\n"
     ]
    },
    {
     "name": "stderr",
     "output_type": "stream",
     "text": [
      "INFO:tensorflow:Assets written to: model_experiments\\model_4_conv1D\\assets\n",
      "WARNING:absl:Found untraced functions such as _jit_compiled_convolution_op while saving (showing 1 of 1). These functions will not be directly callable after loading.\n"
     ]
    },
    {
     "name": "stdout",
     "output_type": "stream",
     "text": [
      "INFO:tensorflow:Assets written to: model_experiments\\model_4_conv1D\\assets\n"
     ]
    },
    {
     "name": "stderr",
     "output_type": "stream",
     "text": [
      "INFO:tensorflow:Assets written to: model_experiments\\model_4_conv1D\\assets\n",
      "WARNING:absl:Found untraced functions such as _jit_compiled_convolution_op while saving (showing 1 of 1). These functions will not be directly callable after loading.\n"
     ]
    },
    {
     "name": "stdout",
     "output_type": "stream",
     "text": [
      "INFO:tensorflow:Assets written to: model_experiments\\model_4_conv1D\\assets\n"
     ]
    },
    {
     "name": "stderr",
     "output_type": "stream",
     "text": [
      "INFO:tensorflow:Assets written to: model_experiments\\model_4_conv1D\\assets\n",
      "WARNING:absl:Found untraced functions such as _jit_compiled_convolution_op while saving (showing 1 of 1). These functions will not be directly callable after loading.\n"
     ]
    },
    {
     "name": "stdout",
     "output_type": "stream",
     "text": [
      "INFO:tensorflow:Assets written to: model_experiments\\model_4_conv1D\\assets\n"
     ]
    },
    {
     "name": "stderr",
     "output_type": "stream",
     "text": [
      "INFO:tensorflow:Assets written to: model_experiments\\model_4_conv1D\\assets\n",
      "WARNING:absl:Found untraced functions such as _jit_compiled_convolution_op while saving (showing 1 of 1). These functions will not be directly callable after loading.\n"
     ]
    },
    {
     "name": "stdout",
     "output_type": "stream",
     "text": [
      "INFO:tensorflow:Assets written to: model_experiments\\model_4_conv1D\\assets\n"
     ]
    },
    {
     "name": "stderr",
     "output_type": "stream",
     "text": [
      "INFO:tensorflow:Assets written to: model_experiments\\model_4_conv1D\\assets\n",
      "WARNING:absl:Found untraced functions such as _jit_compiled_convolution_op while saving (showing 1 of 1). These functions will not be directly callable after loading.\n"
     ]
    },
    {
     "name": "stdout",
     "output_type": "stream",
     "text": [
      "INFO:tensorflow:Assets written to: model_experiments\\model_4_conv1D\\assets\n"
     ]
    },
    {
     "name": "stderr",
     "output_type": "stream",
     "text": [
      "INFO:tensorflow:Assets written to: model_experiments\\model_4_conv1D\\assets\n"
     ]
    },
    {
     "data": {
      "text/plain": [
       "<keras.callbacks.History at 0x27cb239e050>"
      ]
     },
     "execution_count": 86,
     "metadata": {},
     "output_type": "execute_result"
    }
   ],
   "source": [
    "tf.random.set_seed(42)\n",
    "\n",
    "# Create Conv1D model\n",
    "model_4 = tf.keras.Sequential([\n",
    "    layers.Lambda(lambda x: tf.expand_dims(x, axis=1)),\n",
    "    layers.Conv1D(filters=128, kernel_size=5, strides=1, padding='causal', activation='relu'),\n",
    "    layers.Dense(HORIZON)\n",
    "], name='model_4_conv1D')\n",
    "\n",
    "# Compile model\n",
    "model_4.compile(loss='mae',\n",
    "                optimizer=tf.keras.optimizers.Adam())\n",
    "\n",
    "# Fit model\n",
    "model_4.fit(train_windows,\n",
    "            train_labels,\n",
    "            batch_size=128,\n",
    "            epochs=100,\n",
    "            verbose=0,\n",
    "            validation_data=(test_windows, test_labels),\n",
    "            callbacks=[create_model_checkpoint(model_name=model_4.name)])"
   ]
  },
  {
   "cell_type": "code",
   "execution_count": 87,
   "id": "04870920",
   "metadata": {},
   "outputs": [
    {
     "name": "stdout",
     "output_type": "stream",
     "text": [
      "Model: \"model_4_conv1D\"\n",
      "_________________________________________________________________\n",
      " Layer (type)                Output Shape              Param #   \n",
      "=================================================================\n",
      " lambda_1 (Lambda)           (None, 1, 7)              0         \n",
      "                                                                 \n",
      " conv1d (Conv1D)             (None, 1, 128)            4608      \n",
      "                                                                 \n",
      " dense_6 (Dense)             (None, 1, 1)              129       \n",
      "                                                                 \n",
      "=================================================================\n",
      "Total params: 4,737\n",
      "Trainable params: 4,737\n",
      "Non-trainable params: 0\n",
      "_________________________________________________________________\n"
     ]
    }
   ],
   "source": [
    "model_4.summary()"
   ]
  },
  {
   "cell_type": "code",
   "execution_count": 88,
   "id": "f7fcad34",
   "metadata": {},
   "outputs": [
    {
     "name": "stdout",
     "output_type": "stream",
     "text": [
      "18/18 [==============================] - 0s 3ms/step - loss: 592.3100\n"
     ]
    },
    {
     "data": {
      "text/plain": [
       "592.3099975585938"
      ]
     },
     "execution_count": 88,
     "metadata": {},
     "output_type": "execute_result"
    }
   ],
   "source": [
    "# Evaluate model\n",
    "model_4.evaluate(test_windows, test_labels)"
   ]
  },
  {
   "cell_type": "code",
   "execution_count": 89,
   "id": "9315ab0d",
   "metadata": {},
   "outputs": [
    {
     "name": "stdout",
     "output_type": "stream",
     "text": [
      "18/18 [==============================] - 0s 4ms/step - loss: 577.3591\n"
     ]
    },
    {
     "data": {
      "text/plain": [
       "577.359130859375"
      ]
     },
     "execution_count": 89,
     "metadata": {},
     "output_type": "execute_result"
    }
   ],
   "source": [
    "# Load back in best performing Conv1D and re-evaluate\n",
    "model_4 = tf.keras.models.load_model('model_experiments/model_4_conv1D')\n",
    "model_4.evaluate(test_windows, test_labels)"
   ]
  },
  {
   "cell_type": "code",
   "execution_count": 90,
   "id": "33cdffb2",
   "metadata": {},
   "outputs": [
    {
     "name": "stdout",
     "output_type": "stream",
     "text": [
      "18/18 [==============================] - 0s 4ms/step\n"
     ]
    },
    {
     "data": {
      "text/plain": [
       "<tf.Tensor: shape=(5,), dtype=float32, numpy=array([8738.189, 8677.277, 8530.121, 8468.781, 8511.952], dtype=float32)>"
      ]
     },
     "execution_count": 90,
     "metadata": {},
     "output_type": "execute_result"
    }
   ],
   "source": [
    "# Make predictions\n",
    "model_4_preds = make_preds(model_4, test_windows)\n",
    "model_4_preds[:5]"
   ]
  },
  {
   "cell_type": "code",
   "execution_count": 91,
   "id": "c6126ee6",
   "metadata": {},
   "outputs": [
    {
     "data": {
      "text/plain": [
       "{'mae': 577.35913,\n",
       " 'mse': 1198927.6,\n",
       " 'rmse': 1094.9554,\n",
       " 'mape': 2.568825,\n",
       " 'mase': 1.0076936}"
      ]
     },
     "execution_count": 91,
     "metadata": {},
     "output_type": "execute_result"
    }
   ],
   "source": [
    "# Evaluate predictions\n",
    "model_4_results = evaluate_preds(y_true=tf.squeeze(test_labels),\n",
    "                                 y_pred=model_4_preds)\n",
    "model_4_results"
   ]
  },
  {
   "cell_type": "code",
   "execution_count": 92,
   "id": "d4aaf90b",
   "metadata": {},
   "outputs": [
    {
     "data": {
      "text/plain": [
       "{'mae': 574.206,\n",
       " 'mse': 1181832.9,\n",
       " 'rmse': 1087.1213,\n",
       " 'mape': 2.57856,\n",
       " 'mase': 1.0021904}"
      ]
     },
     "execution_count": 92,
     "metadata": {},
     "output_type": "execute_result"
    }
   ],
   "source": [
    "model_1_results"
   ]
  },
  {
   "cell_type": "markdown",
   "id": "a35ec103",
   "metadata": {},
   "source": [
    "## Model 5: RNN (LSTM)\n",
    "\n",
    "Let's build an RNN model for our time series data."
   ]
  },
  {
   "cell_type": "code",
   "execution_count": 95,
   "id": "1b1b5dcc",
   "metadata": {},
   "outputs": [
    {
     "name": "stdout",
     "output_type": "stream",
     "text": [
      "WARNING:tensorflow:Layer lstm_3 will not use cuDNN kernels since it doesn't meet the criteria. It will use a generic GPU kernel as fallback when running on GPU.\n"
     ]
    },
    {
     "name": "stderr",
     "output_type": "stream",
     "text": [
      "WARNING:tensorflow:Layer lstm_3 will not use cuDNN kernels since it doesn't meet the criteria. It will use a generic GPU kernel as fallback when running on GPU.\n"
     ]
    },
    {
     "name": "stdout",
     "output_type": "stream",
     "text": [
      "Epoch 1/100\n",
      "18/18 [==============================] - ETA: 0s - loss: 2189.9604INFO:tensorflow:Assets written to: model_experiments\\model_5_LSTM\\assets\n"
     ]
    },
    {
     "name": "stderr",
     "output_type": "stream",
     "text": [
      "INFO:tensorflow:Assets written to: model_experiments\\model_5_LSTM\\assets\n"
     ]
    },
    {
     "name": "stdout",
     "output_type": "stream",
     "text": [
      "18/18 [==============================] - 3s 122ms/step - loss: 2189.9604 - val_loss: 6191.7930\n",
      "Epoch 2/100\n",
      "15/18 [========================>.....] - ETA: 0s - loss: 386.4305INFO:tensorflow:Assets written to: model_experiments\\model_5_LSTM\\assets\n"
     ]
    },
    {
     "name": "stderr",
     "output_type": "stream",
     "text": [
      "INFO:tensorflow:Assets written to: model_experiments\\model_5_LSTM\\assets\n"
     ]
    },
    {
     "name": "stdout",
     "output_type": "stream",
     "text": [
      "18/18 [==============================] - 2s 108ms/step - loss: 361.6512 - val_loss: 1085.4780\n",
      "Epoch 3/100\n",
      "17/18 [===========================>..] - ETA: 0s - loss: 194.1043INFO:tensorflow:Assets written to: model_experiments\\model_5_LSTM\\assets\n"
     ]
    },
    {
     "name": "stderr",
     "output_type": "stream",
     "text": [
      "INFO:tensorflow:Assets written to: model_experiments\\model_5_LSTM\\assets\n"
     ]
    },
    {
     "name": "stdout",
     "output_type": "stream",
     "text": [
      "18/18 [==============================] - 2s 109ms/step - loss: 193.8651 - val_loss: 1001.9092\n",
      "Epoch 4/100\n",
      "16/18 [=========================>....] - ETA: 0s - loss: 179.3025INFO:tensorflow:Assets written to: model_experiments\\model_5_LSTM\\assets\n"
     ]
    },
    {
     "name": "stderr",
     "output_type": "stream",
     "text": [
      "INFO:tensorflow:Assets written to: model_experiments\\model_5_LSTM\\assets\n"
     ]
    },
    {
     "name": "stdout",
     "output_type": "stream",
     "text": [
      "18/18 [==============================] - 2s 138ms/step - loss: 175.6858 - val_loss: 989.6917\n",
      "Epoch 5/100\n",
      "14/18 [======================>.......] - ETA: 0s - loss: 172.3440INFO:tensorflow:Assets written to: model_experiments\\model_5_LSTM\\assets\n"
     ]
    },
    {
     "name": "stderr",
     "output_type": "stream",
     "text": [
      "INFO:tensorflow:Assets written to: model_experiments\\model_5_LSTM\\assets\n"
     ]
    },
    {
     "name": "stdout",
     "output_type": "stream",
     "text": [
      "18/18 [==============================] - 2s 106ms/step - loss: 171.8895 - val_loss: 902.6443\n",
      "Epoch 6/100\n",
      "18/18 [==============================] - 0s 9ms/step - loss: 174.0112 - val_loss: 963.4396\n",
      "Epoch 7/100\n",
      "18/18 [==============================] - 0s 9ms/step - loss: 171.5993 - val_loss: 953.9120\n",
      "Epoch 8/100\n",
      "18/18 [==============================] - 0s 9ms/step - loss: 164.6311 - val_loss: 979.5765\n",
      "Epoch 9/100\n",
      "18/18 [==============================] - 0s 8ms/step - loss: 161.1079 - val_loss: 950.6109\n",
      "Epoch 10/100\n",
      "18/18 [==============================] - 0s 8ms/step - loss: 163.3182 - val_loss: 956.5178\n",
      "Epoch 11/100\n",
      "18/18 [==============================] - 0s 9ms/step - loss: 167.6195 - val_loss: 929.5983\n",
      "Epoch 12/100\n",
      "18/18 [==============================] - 0s 9ms/step - loss: 164.0659 - val_loss: 929.0605\n",
      "Epoch 13/100\n",
      "18/18 [==============================] - 0s 8ms/step - loss: 161.0479 - val_loss: 910.6470\n",
      "Epoch 14/100\n",
      "18/18 [==============================] - 0s 8ms/step - loss: 158.4771 - val_loss: 934.0165\n",
      "Epoch 15/100\n",
      "11/18 [=================>............] - ETA: 0s - loss: 158.2094INFO:tensorflow:Assets written to: model_experiments\\model_5_LSTM\\assets\n"
     ]
    },
    {
     "name": "stderr",
     "output_type": "stream",
     "text": [
      "INFO:tensorflow:Assets written to: model_experiments\\model_5_LSTM\\assets\n"
     ]
    },
    {
     "name": "stdout",
     "output_type": "stream",
     "text": [
      "18/18 [==============================] - 2s 100ms/step - loss: 156.4805 - val_loss: 878.3056\n",
      "Epoch 16/100\n",
      "16/18 [=========================>....] - ETA: 0s - loss: 157.0743INFO:tensorflow:Assets written to: model_experiments\\model_5_LSTM\\assets\n"
     ]
    },
    {
     "name": "stderr",
     "output_type": "stream",
     "text": [
      "INFO:tensorflow:Assets written to: model_experiments\\model_5_LSTM\\assets\n"
     ]
    },
    {
     "name": "stdout",
     "output_type": "stream",
     "text": [
      "18/18 [==============================] - 2s 110ms/step - loss: 155.7207 - val_loss: 861.0991\n",
      "Epoch 17/100\n",
      "16/18 [=========================>....] - ETA: 0s - loss: 149.9959INFO:tensorflow:Assets written to: model_experiments\\model_5_LSTM\\assets\n"
     ]
    },
    {
     "name": "stderr",
     "output_type": "stream",
     "text": [
      "INFO:tensorflow:Assets written to: model_experiments\\model_5_LSTM\\assets\n"
     ]
    },
    {
     "name": "stdout",
     "output_type": "stream",
     "text": [
      "18/18 [==============================] - 2s 106ms/step - loss: 150.9781 - val_loss: 843.2569\n",
      "Epoch 18/100\n",
      "18/18 [==============================] - 0s 10ms/step - loss: 149.1897 - val_loss: 892.6342\n",
      "Epoch 19/100\n",
      "18/18 [==============================] - 0s 8ms/step - loss: 147.4700 - val_loss: 846.9094\n",
      "Epoch 20/100\n",
      "17/18 [===========================>..] - ETA: 0s - loss: 146.9738INFO:tensorflow:Assets written to: model_experiments\\model_5_LSTM\\assets\n"
     ]
    },
    {
     "name": "stderr",
     "output_type": "stream",
     "text": [
      "INFO:tensorflow:Assets written to: model_experiments\\model_5_LSTM\\assets\n"
     ]
    },
    {
     "name": "stdout",
     "output_type": "stream",
     "text": [
      "18/18 [==============================] - 2s 103ms/step - loss: 146.5530 - val_loss: 809.5121\n",
      "Epoch 21/100\n",
      "18/18 [==============================] - 0s 9ms/step - loss: 143.4911 - val_loss: 810.6983\n",
      "Epoch 22/100\n",
      "10/18 [===============>..............] - ETA: 0s - loss: 139.4335INFO:tensorflow:Assets written to: model_experiments\\model_5_LSTM\\assets\n"
     ]
    },
    {
     "name": "stderr",
     "output_type": "stream",
     "text": [
      "INFO:tensorflow:Assets written to: model_experiments\\model_5_LSTM\\assets\n"
     ]
    },
    {
     "name": "stdout",
     "output_type": "stream",
     "text": [
      "18/18 [==============================] - 2s 105ms/step - loss: 141.9371 - val_loss: 791.9445\n",
      "Epoch 23/100\n",
      "16/18 [=========================>....] - ETA: 0s - loss: 146.1322INFO:tensorflow:Assets written to: model_experiments\\model_5_LSTM\\assets\n"
     ]
    },
    {
     "name": "stderr",
     "output_type": "stream",
     "text": [
      "INFO:tensorflow:Assets written to: model_experiments\\model_5_LSTM\\assets\n"
     ]
    },
    {
     "name": "stdout",
     "output_type": "stream",
     "text": [
      "18/18 [==============================] - 2s 109ms/step - loss: 141.6448 - val_loss: 774.5535\n",
      "Epoch 24/100\n",
      "18/18 [==============================] - 0s 8ms/step - loss: 137.8608 - val_loss: 848.4227\n",
      "Epoch 25/100\n",
      "10/18 [===============>..............] - ETA: 0s - loss: 139.2839INFO:tensorflow:Assets written to: model_experiments\\model_5_LSTM\\assets\n"
     ]
    },
    {
     "name": "stderr",
     "output_type": "stream",
     "text": [
      "INFO:tensorflow:Assets written to: model_experiments\\model_5_LSTM\\assets\n"
     ]
    },
    {
     "name": "stdout",
     "output_type": "stream",
     "text": [
      "18/18 [==============================] - 2s 109ms/step - loss: 140.8379 - val_loss: 751.5679\n",
      "Epoch 26/100\n",
      "17/18 [===========================>..] - ETA: 0s - loss: 135.3444INFO:tensorflow:Assets written to: model_experiments\\model_5_LSTM\\assets\n"
     ]
    },
    {
     "name": "stderr",
     "output_type": "stream",
     "text": [
      "INFO:tensorflow:Assets written to: model_experiments\\model_5_LSTM\\assets\n"
     ]
    },
    {
     "name": "stdout",
     "output_type": "stream",
     "text": [
      "18/18 [==============================] - 2s 112ms/step - loss: 134.7615 - val_loss: 746.1588\n",
      "Epoch 27/100\n",
      "18/18 [==============================] - 0s 9ms/step - loss: 133.9509 - val_loss: 803.3377\n",
      "Epoch 28/100\n",
      "18/18 [==============================] - 0s 8ms/step - loss: 134.1188 - val_loss: 764.2947\n",
      "Epoch 29/100\n",
      "18/18 [==============================] - ETA: 0s - loss: 131.7543INFO:tensorflow:Assets written to: model_experiments\\model_5_LSTM\\assets\n"
     ]
    },
    {
     "name": "stderr",
     "output_type": "stream",
     "text": [
      "INFO:tensorflow:Assets written to: model_experiments\\model_5_LSTM\\assets\n"
     ]
    },
    {
     "name": "stdout",
     "output_type": "stream",
     "text": [
      "18/18 [==============================] - 3s 148ms/step - loss: 131.7543 - val_loss: 721.5516\n",
      "Epoch 30/100\n",
      "16/18 [=========================>....] - ETA: 0s - loss: 131.3570INFO:tensorflow:Assets written to: model_experiments\\model_5_LSTM\\assets\n"
     ]
    },
    {
     "name": "stderr",
     "output_type": "stream",
     "text": [
      "INFO:tensorflow:Assets written to: model_experiments\\model_5_LSTM\\assets\n"
     ]
    },
    {
     "name": "stdout",
     "output_type": "stream",
     "text": [
      "18/18 [==============================] - 2s 106ms/step - loss: 128.0503 - val_loss: 710.7826\n",
      "Epoch 31/100\n",
      "16/18 [=========================>....] - ETA: 0s - loss: 130.5240INFO:tensorflow:Assets written to: model_experiments\\model_5_LSTM\\assets\n"
     ]
    },
    {
     "name": "stderr",
     "output_type": "stream",
     "text": [
      "INFO:tensorflow:Assets written to: model_experiments\\model_5_LSTM\\assets\n"
     ]
    },
    {
     "name": "stdout",
     "output_type": "stream",
     "text": [
      "18/18 [==============================] - 2s 106ms/step - loss: 128.7123 - val_loss: 701.0707\n",
      "Epoch 32/100\n",
      "18/18 [==============================] - 0s 9ms/step - loss: 127.8564 - val_loss: 772.5844\n",
      "Epoch 33/100\n",
      "10/18 [===============>..............] - ETA: 0s - loss: 118.1262INFO:tensorflow:Assets written to: model_experiments\\model_5_LSTM\\assets\n"
     ]
    },
    {
     "name": "stderr",
     "output_type": "stream",
     "text": [
      "INFO:tensorflow:Assets written to: model_experiments\\model_5_LSTM\\assets\n"
     ]
    },
    {
     "name": "stdout",
     "output_type": "stream",
     "text": [
      "18/18 [==============================] - 2s 103ms/step - loss: 126.5352 - val_loss: 689.4875\n",
      "Epoch 34/100\n",
      "18/18 [==============================] - 0s 9ms/step - loss: 126.6761 - val_loss: 690.5028\n",
      "Epoch 35/100\n",
      "10/18 [===============>..............] - ETA: 0s - loss: 125.2262INFO:tensorflow:Assets written to: model_experiments\\model_5_LSTM\\assets\n"
     ]
    },
    {
     "name": "stderr",
     "output_type": "stream",
     "text": [
      "INFO:tensorflow:Assets written to: model_experiments\\model_5_LSTM\\assets\n"
     ]
    },
    {
     "name": "stdout",
     "output_type": "stream",
     "text": [
      "18/18 [==============================] - 2s 102ms/step - loss: 128.1393 - val_loss: 681.5829\n",
      "Epoch 36/100\n",
      "14/18 [======================>.......] - ETA: 0s - loss: 124.9612INFO:tensorflow:Assets written to: model_experiments\\model_5_LSTM\\assets\n"
     ]
    },
    {
     "name": "stderr",
     "output_type": "stream",
     "text": [
      "INFO:tensorflow:Assets written to: model_experiments\\model_5_LSTM\\assets\n"
     ]
    },
    {
     "name": "stdout",
     "output_type": "stream",
     "text": [
      "18/18 [==============================] - 2s 112ms/step - loss: 124.6641 - val_loss: 669.6057\n",
      "Epoch 37/100\n",
      "16/18 [=========================>....] - ETA: 0s - loss: 122.7758INFO:tensorflow:Assets written to: model_experiments\\model_5_LSTM\\assets\n"
     ]
    },
    {
     "name": "stderr",
     "output_type": "stream",
     "text": [
      "INFO:tensorflow:Assets written to: model_experiments\\model_5_LSTM\\assets\n"
     ]
    },
    {
     "name": "stdout",
     "output_type": "stream",
     "text": [
      "18/18 [==============================] - 2s 108ms/step - loss: 121.5595 - val_loss: 664.4518\n",
      "Epoch 38/100\n",
      "18/18 [==============================] - 0s 9ms/step - loss: 121.3102 - val_loss: 665.2495\n",
      "Epoch 39/100\n",
      "16/18 [=========================>....] - ETA: 0s - loss: 122.4199INFO:tensorflow:Assets written to: model_experiments\\model_5_LSTM\\assets\n"
     ]
    },
    {
     "name": "stderr",
     "output_type": "stream",
     "text": [
      "INFO:tensorflow:Assets written to: model_experiments\\model_5_LSTM\\assets\n"
     ]
    },
    {
     "name": "stdout",
     "output_type": "stream",
     "text": [
      "18/18 [==============================] - 2s 106ms/step - loss: 121.1115 - val_loss: 654.1576\n",
      "Epoch 40/100\n",
      "15/18 [========================>.....] - ETA: 0s - loss: 117.5400INFO:tensorflow:Assets written to: model_experiments\\model_5_LSTM\\assets\n"
     ]
    },
    {
     "name": "stderr",
     "output_type": "stream",
     "text": [
      "INFO:tensorflow:Assets written to: model_experiments\\model_5_LSTM\\assets\n"
     ]
    },
    {
     "name": "stdout",
     "output_type": "stream",
     "text": [
      "18/18 [==============================] - 2s 106ms/step - loss: 118.8919 - val_loss: 648.8994\n",
      "Epoch 41/100\n",
      "18/18 [==============================] - 0s 11ms/step - loss: 118.5616 - val_loss: 650.1866\n",
      "Epoch 42/100\n",
      "18/18 [==============================] - 0s 8ms/step - loss: 118.6909 - val_loss: 665.9080\n",
      "Epoch 43/100\n",
      "18/18 [==============================] - 0s 8ms/step - loss: 127.0567 - val_loss: 681.6004\n",
      "Epoch 44/100\n",
      "18/18 [==============================] - 0s 9ms/step - loss: 119.8721 - val_loss: 681.0242\n",
      "Epoch 45/100\n",
      "18/18 [==============================] - 0s 8ms/step - loss: 117.7206 - val_loss: 657.5804\n",
      "Epoch 46/100\n",
      "11/18 [=================>............] - ETA: 0s - loss: 119.0523INFO:tensorflow:Assets written to: model_experiments\\model_5_LSTM\\assets\n"
     ]
    },
    {
     "name": "stderr",
     "output_type": "stream",
     "text": [
      "INFO:tensorflow:Assets written to: model_experiments\\model_5_LSTM\\assets\n"
     ]
    },
    {
     "name": "stdout",
     "output_type": "stream",
     "text": [
      "18/18 [==============================] - 2s 134ms/step - loss: 116.1489 - val_loss: 630.3196\n",
      "Epoch 47/100\n",
      "18/18 [==============================] - 0s 9ms/step - loss: 117.8434 - val_loss: 635.3748\n",
      "Epoch 48/100\n",
      "18/18 [==============================] - 0s 8ms/step - loss: 123.4238 - val_loss: 786.3798\n",
      "Epoch 49/100\n",
      "18/18 [==============================] - 0s 8ms/step - loss: 122.8299 - val_loss: 649.6817\n",
      "Epoch 50/100\n",
      " 9/18 [==============>...............] - ETA: 0s - loss: 114.8668INFO:tensorflow:Assets written to: model_experiments\\model_5_LSTM\\assets\n"
     ]
    },
    {
     "name": "stderr",
     "output_type": "stream",
     "text": [
      "INFO:tensorflow:Assets written to: model_experiments\\model_5_LSTM\\assets\n"
     ]
    },
    {
     "name": "stdout",
     "output_type": "stream",
     "text": [
      "18/18 [==============================] - 2s 102ms/step - loss: 118.2702 - val_loss: 629.6241\n",
      "Epoch 51/100\n",
      "18/18 [==============================] - 0s 14ms/step - loss: 116.0760 - val_loss: 638.9875\n",
      "Epoch 52/100\n",
      "15/18 [========================>.....] - ETA: 0s - loss: 116.6500INFO:tensorflow:Assets written to: model_experiments\\model_5_LSTM\\assets\n"
     ]
    },
    {
     "name": "stderr",
     "output_type": "stream",
     "text": [
      "INFO:tensorflow:Assets written to: model_experiments\\model_5_LSTM\\assets\n"
     ]
    },
    {
     "name": "stdout",
     "output_type": "stream",
     "text": [
      "18/18 [==============================] - 2s 106ms/step - loss: 114.8721 - val_loss: 617.5654\n",
      "Epoch 53/100\n",
      "18/18 [==============================] - 0s 10ms/step - loss: 114.1204 - val_loss: 644.7651\n",
      "Epoch 54/100\n",
      "16/18 [=========================>....] - ETA: 0s - loss: 113.7988INFO:tensorflow:Assets written to: model_experiments\\model_5_LSTM\\assets\n"
     ]
    },
    {
     "name": "stderr",
     "output_type": "stream",
     "text": [
      "INFO:tensorflow:Assets written to: model_experiments\\model_5_LSTM\\assets\n"
     ]
    },
    {
     "name": "stdout",
     "output_type": "stream",
     "text": [
      "18/18 [==============================] - 2s 106ms/step - loss: 114.8939 - val_loss: 613.6993\n",
      "Epoch 55/100\n",
      "18/18 [==============================] - 0s 9ms/step - loss: 118.5015 - val_loss: 639.4553\n",
      "Epoch 56/100\n",
      "18/18 [==============================] - 0s 8ms/step - loss: 115.4934 - val_loss: 660.3280\n",
      "Epoch 57/100\n",
      "18/18 [==============================] - 0s 8ms/step - loss: 118.4106 - val_loss: 620.4612\n",
      "Epoch 58/100\n",
      "11/18 [=================>............] - ETA: 0s - loss: 111.8796INFO:tensorflow:Assets written to: model_experiments\\model_5_LSTM\\assets\n"
     ]
    },
    {
     "name": "stderr",
     "output_type": "stream",
     "text": [
      "INFO:tensorflow:Assets written to: model_experiments\\model_5_LSTM\\assets\n"
     ]
    },
    {
     "name": "stdout",
     "output_type": "stream",
     "text": [
      "18/18 [==============================] - 2s 100ms/step - loss: 114.3024 - val_loss: 612.5217\n",
      "Epoch 59/100\n",
      "18/18 [==============================] - 0s 12ms/step - loss: 114.5854 - val_loss: 660.6876\n",
      "Epoch 60/100\n",
      "15/18 [========================>.....] - ETA: 0s - loss: 122.6947INFO:tensorflow:Assets written to: model_experiments\\model_5_LSTM\\assets\n"
     ]
    },
    {
     "name": "stderr",
     "output_type": "stream",
     "text": [
      "INFO:tensorflow:Assets written to: model_experiments\\model_5_LSTM\\assets\n"
     ]
    },
    {
     "name": "stdout",
     "output_type": "stream",
     "text": [
      "18/18 [==============================] - 2s 106ms/step - loss: 124.7796 - val_loss: 608.0854\n",
      "Epoch 61/100\n",
      "18/18 [==============================] - 0s 9ms/step - loss: 112.2460 - val_loss: 633.1053\n",
      "Epoch 62/100\n",
      "11/18 [=================>............] - ETA: 0s - loss: 123.4880INFO:tensorflow:Assets written to: model_experiments\\model_5_LSTM\\assets\n"
     ]
    },
    {
     "name": "stderr",
     "output_type": "stream",
     "text": [
      "INFO:tensorflow:Assets written to: model_experiments\\model_5_LSTM\\assets\n"
     ]
    },
    {
     "name": "stdout",
     "output_type": "stream",
     "text": [
      "18/18 [==============================] - 2s 101ms/step - loss: 118.2585 - val_loss: 602.9578\n",
      "Epoch 63/100\n",
      "15/18 [========================>.....] - ETA: 0s - loss: 117.4044INFO:tensorflow:Assets written to: model_experiments\\model_5_LSTM\\assets\n"
     ]
    },
    {
     "name": "stderr",
     "output_type": "stream",
     "text": [
      "INFO:tensorflow:Assets written to: model_experiments\\model_5_LSTM\\assets\n"
     ]
    },
    {
     "name": "stdout",
     "output_type": "stream",
     "text": [
      "18/18 [==============================] - 2s 103ms/step - loss: 119.2994 - val_loss: 602.6296\n",
      "Epoch 64/100\n",
      "18/18 [==============================] - 0s 13ms/step - loss: 117.1553 - val_loss: 603.7565\n",
      "Epoch 65/100\n",
      "14/18 [======================>.......] - ETA: 0s - loss: 116.0031INFO:tensorflow:Assets written to: model_experiments\\model_5_LSTM\\assets\n"
     ]
    },
    {
     "name": "stderr",
     "output_type": "stream",
     "text": [
      "INFO:tensorflow:Assets written to: model_experiments\\model_5_LSTM\\assets\n"
     ]
    },
    {
     "name": "stdout",
     "output_type": "stream",
     "text": [
      "18/18 [==============================] - 2s 105ms/step - loss: 112.8833 - val_loss: 599.1768\n",
      "Epoch 66/100\n",
      "18/18 [==============================] - 0s 9ms/step - loss: 111.4424 - val_loss: 610.8740\n",
      "Epoch 67/100\n",
      "18/18 [==============================] - 0s 9ms/step - loss: 113.5912 - val_loss: 600.2056\n",
      "Epoch 68/100\n",
      " 9/18 [==============>...............] - ETA: 0s - loss: 120.0804INFO:tensorflow:Assets written to: model_experiments\\model_5_LSTM\\assets\n"
     ]
    },
    {
     "name": "stderr",
     "output_type": "stream",
     "text": [
      "INFO:tensorflow:Assets written to: model_experiments\\model_5_LSTM\\assets\n"
     ]
    },
    {
     "name": "stdout",
     "output_type": "stream",
     "text": [
      "18/18 [==============================] - 3s 150ms/step - loss: 113.1707 - val_loss: 598.1463\n",
      "Epoch 69/100\n",
      "18/18 [==============================] - 0s 9ms/step - loss: 110.4715 - val_loss: 601.3045\n",
      "Epoch 70/100\n",
      "18/18 [==============================] - 0s 10ms/step - loss: 112.3586 - val_loss: 615.3661\n",
      "Epoch 71/100\n",
      "18/18 [==============================] - 0s 9ms/step - loss: 113.7006 - val_loss: 653.0480\n",
      "Epoch 72/100\n",
      " 9/18 [==============>...............] - ETA: 0s - loss: 107.9279INFO:tensorflow:Assets written to: model_experiments\\model_5_LSTM\\assets\n"
     ]
    },
    {
     "name": "stderr",
     "output_type": "stream",
     "text": [
      "INFO:tensorflow:Assets written to: model_experiments\\model_5_LSTM\\assets\n"
     ]
    },
    {
     "name": "stdout",
     "output_type": "stream",
     "text": [
      "18/18 [==============================] - 2s 104ms/step - loss: 112.3022 - val_loss: 593.4352\n",
      "Epoch 73/100\n",
      "18/18 [==============================] - 0s 10ms/step - loss: 110.9320 - val_loss: 593.8560\n",
      "Epoch 74/100\n",
      "18/18 [==============================] - 0s 9ms/step - loss: 111.6230 - val_loss: 608.6721\n",
      "Epoch 75/100\n",
      "18/18 [==============================] - 0s 9ms/step - loss: 111.5845 - val_loss: 625.9244\n",
      "Epoch 76/100\n",
      "18/18 [==============================] - 0s 8ms/step - loss: 113.8380 - val_loss: 643.3133\n",
      "Epoch 77/100\n",
      " 9/18 [==============>...............] - ETA: 0s - loss: 115.6266INFO:tensorflow:Assets written to: model_experiments\\model_5_LSTM\\assets\n"
     ]
    },
    {
     "name": "stderr",
     "output_type": "stream",
     "text": [
      "INFO:tensorflow:Assets written to: model_experiments\\model_5_LSTM\\assets\n"
     ]
    },
    {
     "name": "stdout",
     "output_type": "stream",
     "text": [
      "18/18 [==============================] - 2s 102ms/step - loss: 109.7983 - val_loss: 592.3455\n",
      "Epoch 78/100\n",
      "16/18 [=========================>....] - ETA: 0s - loss: 111.0733INFO:tensorflow:Assets written to: model_experiments\\model_5_LSTM\\assets\n"
     ]
    },
    {
     "name": "stderr",
     "output_type": "stream",
     "text": [
      "INFO:tensorflow:Assets written to: model_experiments\\model_5_LSTM\\assets\n"
     ]
    },
    {
     "name": "stdout",
     "output_type": "stream",
     "text": [
      "18/18 [==============================] - 2s 105ms/step - loss: 109.3512 - val_loss: 592.0400\n",
      "Epoch 79/100\n",
      "18/18 [==============================] - 0s 10ms/step - loss: 110.2757 - val_loss: 615.7544\n",
      "Epoch 80/100\n",
      "18/18 [==============================] - 0s 11ms/step - loss: 111.4073 - val_loss: 644.9332\n",
      "Epoch 81/100\n",
      "17/18 [===========================>..] - ETA: 0s - loss: 111.7389INFO:tensorflow:Assets written to: model_experiments\\model_5_LSTM\\assets\n"
     ]
    },
    {
     "name": "stderr",
     "output_type": "stream",
     "text": [
      "INFO:tensorflow:Assets written to: model_experiments\\model_5_LSTM\\assets\n"
     ]
    },
    {
     "name": "stdout",
     "output_type": "stream",
     "text": [
      "18/18 [==============================] - 2s 106ms/step - loss: 112.2993 - val_loss: 586.1948\n",
      "Epoch 82/100\n",
      "18/18 [==============================] - 0s 11ms/step - loss: 110.9327 - val_loss: 596.1505\n",
      "Epoch 83/100\n",
      "18/18 [==============================] - 0s 9ms/step - loss: 108.9392 - val_loss: 637.9977\n",
      "Epoch 84/100\n",
      "18/18 [==============================] - 0s 8ms/step - loss: 112.8433 - val_loss: 617.4685\n",
      "Epoch 85/100\n",
      "18/18 [==============================] - 0s 8ms/step - loss: 110.7041 - val_loss: 607.3933\n",
      "Epoch 86/100\n",
      "18/18 [==============================] - 0s 8ms/step - loss: 110.1143 - val_loss: 592.3998\n",
      "Epoch 87/100\n",
      "11/18 [=================>............] - ETA: 0s - loss: 105.8479INFO:tensorflow:Assets written to: model_experiments\\model_5_LSTM\\assets\n"
     ]
    },
    {
     "name": "stderr",
     "output_type": "stream",
     "text": [
      "INFO:tensorflow:Assets written to: model_experiments\\model_5_LSTM\\assets\n"
     ]
    },
    {
     "name": "stdout",
     "output_type": "stream",
     "text": [
      "18/18 [==============================] - 2s 96ms/step - loss: 109.1909 - val_loss: 584.3700\n",
      "Epoch 88/100\n",
      "18/18 [==============================] - 0s 9ms/step - loss: 108.3864 - val_loss: 602.6306\n",
      "Epoch 89/100\n",
      "18/18 [==============================] - 0s 9ms/step - loss: 108.5007 - val_loss: 608.0246\n",
      "Epoch 90/100\n",
      "18/18 [==============================] - 0s 8ms/step - loss: 110.5716 - val_loss: 587.1043\n",
      "Epoch 91/100\n",
      "18/18 [==============================] - 0s 8ms/step - loss: 112.1085 - val_loss: 602.4138\n",
      "Epoch 92/100\n",
      "18/18 [==============================] - 0s 8ms/step - loss: 111.2275 - val_loss: 585.6669\n",
      "Epoch 93/100\n",
      "18/18 [==============================] - 0s 8ms/step - loss: 111.2881 - val_loss: 619.1137\n",
      "Epoch 94/100\n",
      "18/18 [==============================] - 0s 8ms/step - loss: 110.2711 - val_loss: 591.5469\n",
      "Epoch 95/100\n",
      "18/18 [==============================] - 0s 8ms/step - loss: 109.2154 - val_loss: 640.4066\n",
      "Epoch 96/100\n",
      "11/18 [=================>............] - ETA: 0s - loss: 118.8798INFO:tensorflow:Assets written to: model_experiments\\model_5_LSTM\\assets\n"
     ]
    },
    {
     "name": "stderr",
     "output_type": "stream",
     "text": [
      "INFO:tensorflow:Assets written to: model_experiments\\model_5_LSTM\\assets\n"
     ]
    },
    {
     "name": "stdout",
     "output_type": "stream",
     "text": [
      "18/18 [==============================] - 2s 104ms/step - loss: 112.1913 - val_loss: 580.5602\n",
      "Epoch 97/100\n",
      "15/18 [========================>.....] - ETA: 0s - loss: 108.0683INFO:tensorflow:Assets written to: model_experiments\\model_5_LSTM\\assets\n"
     ]
    },
    {
     "name": "stderr",
     "output_type": "stream",
     "text": [
      "INFO:tensorflow:Assets written to: model_experiments\\model_5_LSTM\\assets\n"
     ]
    },
    {
     "name": "stdout",
     "output_type": "stream",
     "text": [
      "18/18 [==============================] - 2s 116ms/step - loss: 107.7021 - val_loss: 580.4796\n",
      "Epoch 98/100\n",
      "18/18 [==============================] - 0s 9ms/step - loss: 109.0035 - val_loss: 614.9943\n",
      "Epoch 99/100\n",
      "18/18 [==============================] - 0s 13ms/step - loss: 110.5458 - val_loss: 582.5190\n",
      "Epoch 100/100\n",
      "18/18 [==============================] - 0s 8ms/step - loss: 115.0034 - val_loss: 815.7179\n"
     ]
    },
    {
     "data": {
      "text/plain": [
       "<keras.callbacks.History at 0x27d4b772ad0>"
      ]
     },
     "execution_count": 95,
     "metadata": {},
     "output_type": "execute_result"
    }
   ],
   "source": [
    "tf.random.set_seed(42)\n",
    "\n",
    "# Let's build an LSTM model with the Functional API\n",
    "inputs = layers.Input(shape=(WINDOW_SIZE))\n",
    "x = layers.Lambda(lambda x: tf.expand_dims(x, axis=1))(inputs)\n",
    "# x = layers.LSTM(128, return_sequences=True)(x)\n",
    "x = layers.LSTM(128, activation='relu')(x)\n",
    "# x = layers.Dense(32, activation='relu')(x)\n",
    "output = layers.Dense(HORIZON)(x)\n",
    "model_5 = tf.keras.Model(inputs=inputs, outputs=output, name='model_5_LSTM')\n",
    "\n",
    "# Compile\n",
    "model_5.compile(loss='mae',\n",
    "                optimizer=tf.keras.optimizers.Adam())\n",
    "\n",
    "# Fit\n",
    "model_5.fit(train_windows,\n",
    "            train_labels,\n",
    "            epochs=100,\n",
    "            verbose=1,\n",
    "            batch_size=128,\n",
    "            validation_data=(test_windows, test_labels),\n",
    "            callbacks=[create_model_checkpoint(model_name=model_5.name)])"
   ]
  },
  {
   "cell_type": "code",
   "execution_count": 96,
   "id": "4fa206e2",
   "metadata": {},
   "outputs": [
    {
     "name": "stdout",
     "output_type": "stream",
     "text": [
      "WARNING:tensorflow:Layer lstm_3 will not use cuDNN kernels since it doesn't meet the criteria. It will use a generic GPU kernel as fallback when running on GPU.\n"
     ]
    },
    {
     "name": "stderr",
     "output_type": "stream",
     "text": [
      "WARNING:tensorflow:Layer lstm_3 will not use cuDNN kernels since it doesn't meet the criteria. It will use a generic GPU kernel as fallback when running on GPU.\n"
     ]
    },
    {
     "name": "stdout",
     "output_type": "stream",
     "text": [
      "18/18 [==============================] - 0s 3ms/step - loss: 580.4796\n"
     ]
    },
    {
     "data": {
      "text/plain": [
       "580.4795532226562"
      ]
     },
     "execution_count": 96,
     "metadata": {},
     "output_type": "execute_result"
    }
   ],
   "source": [
    "# Load in best version of model 5 and evaluate on the test data\n",
    "model_5 = tf.keras.models.load_model('model_experiments/model_5_LSTM')\n",
    "model_5.evaluate(test_windows, test_labels)"
   ]
  },
  {
   "cell_type": "code",
   "execution_count": 97,
   "id": "fffd443b",
   "metadata": {},
   "outputs": [
    {
     "name": "stdout",
     "output_type": "stream",
     "text": [
      "18/18 [==============================] - 0s 2ms/step\n"
     ]
    }
   ],
   "source": [
    "# Make predictions with our LSTM model\n",
    "model_5_preds = make_preds(model_5, test_windows)"
   ]
  },
  {
   "cell_type": "code",
   "execution_count": 98,
   "id": "2d0b5984",
   "metadata": {},
   "outputs": [],
   "source": [
    "# Evaluate model 5 predictions\n",
    "model_5_results = evaluate_preds(y_true=tf.squeeze(test_labels),\n",
    "                                 y_pred=model_5_preds)"
   ]
  },
  {
   "cell_type": "code",
   "execution_count": 99,
   "id": "4d3fdfe4",
   "metadata": {},
   "outputs": [
    {
     "data": {
      "text/plain": [
       "{'mae': 580.47955,\n",
       " 'mse': 1213124.9,\n",
       " 'rmse': 1101.4194,\n",
       " 'mape': 2.6002626,\n",
       " 'mase': 1.0131398}"
      ]
     },
     "execution_count": 99,
     "metadata": {},
     "output_type": "execute_result"
    }
   ],
   "source": [
    "model_5_results"
   ]
  },
  {
   "cell_type": "code",
   "execution_count": 100,
   "id": "c140368e",
   "metadata": {},
   "outputs": [
    {
     "data": {
      "text/plain": [
       "{'mae': 574.206,\n",
       " 'mse': 1181832.9,\n",
       " 'rmse': 1087.1213,\n",
       " 'mape': 2.57856,\n",
       " 'mase': 1.0021904}"
      ]
     },
     "execution_count": 100,
     "metadata": {},
     "output_type": "execute_result"
    }
   ],
   "source": [
    "model_1_results"
   ]
  }
 ],
 "metadata": {
  "kernelspec": {
   "display_name": "tf3",
   "language": "python",
   "name": "python3"
  },
  "language_info": {
   "codemirror_mode": {
    "name": "ipython",
    "version": 3
   },
   "file_extension": ".py",
   "mimetype": "text/x-python",
   "name": "python",
   "nbconvert_exporter": "python",
   "pygments_lexer": "ipython3",
   "version": "3.10.18"
  }
 },
 "nbformat": 4,
 "nbformat_minor": 5
}

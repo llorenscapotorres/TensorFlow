{
 "cells": [
  {
   "cell_type": "markdown",
   "id": "197107bd",
   "metadata": {},
   "source": [
    "# Time Series Forecasting Fundamentals with TensorFlow + Milestone Project: BitPredict\n",
    "\n",
    "Let's write some TensorFlow code to predict the price of Bitcoin based on historical price of Bitcoin."
   ]
  },
  {
   "cell_type": "markdown",
   "id": "d842b633",
   "metadata": {},
   "source": [
    "## Importing time series with pandas"
   ]
  },
  {
   "cell_type": "code",
   "execution_count": 1,
   "id": "912c0b37",
   "metadata": {},
   "outputs": [
    {
     "data": {
      "application/vnd.microsoft.datawrangler.viewer.v0+json": {
       "columns": [
        {
         "name": "Date",
         "rawType": "datetime64[ns]",
         "type": "datetime"
        },
        {
         "name": "Currency",
         "rawType": "object",
         "type": "string"
        },
        {
         "name": "Closing Price (USD)",
         "rawType": "float64",
         "type": "float"
        },
        {
         "name": "24h Open (USD)",
         "rawType": "float64",
         "type": "float"
        },
        {
         "name": "24h High (USD)",
         "rawType": "float64",
         "type": "float"
        },
        {
         "name": "24h Low (USD)",
         "rawType": "float64",
         "type": "float"
        }
       ],
       "ref": "84769614-ad6f-40cd-90b1-794e229ce0a8",
       "rows": [
        [
         "2013-10-01 00:00:00",
         "BTC",
         "123.65499",
         "124.30466",
         "124.75166",
         "122.56349"
        ],
        [
         "2013-10-02 00:00:00",
         "BTC",
         "125.455",
         "123.65499",
         "125.7585",
         "123.63383"
        ],
        [
         "2013-10-03 00:00:00",
         "BTC",
         "108.58483",
         "125.455",
         "125.66566",
         "83.32833"
        ],
        [
         "2013-10-04 00:00:00",
         "BTC",
         "118.67466",
         "108.58483",
         "118.675",
         "107.05816"
        ],
        [
         "2013-10-05 00:00:00",
         "BTC",
         "121.33866",
         "118.67466",
         "121.93633",
         "118.00566"
        ]
       ],
       "shape": {
        "columns": 5,
        "rows": 5
       }
      },
      "text/html": [
       "<div>\n",
       "<style scoped>\n",
       "    .dataframe tbody tr th:only-of-type {\n",
       "        vertical-align: middle;\n",
       "    }\n",
       "\n",
       "    .dataframe tbody tr th {\n",
       "        vertical-align: top;\n",
       "    }\n",
       "\n",
       "    .dataframe thead th {\n",
       "        text-align: right;\n",
       "    }\n",
       "</style>\n",
       "<table border=\"1\" class=\"dataframe\">\n",
       "  <thead>\n",
       "    <tr style=\"text-align: right;\">\n",
       "      <th></th>\n",
       "      <th>Currency</th>\n",
       "      <th>Closing Price (USD)</th>\n",
       "      <th>24h Open (USD)</th>\n",
       "      <th>24h High (USD)</th>\n",
       "      <th>24h Low (USD)</th>\n",
       "    </tr>\n",
       "    <tr>\n",
       "      <th>Date</th>\n",
       "      <th></th>\n",
       "      <th></th>\n",
       "      <th></th>\n",
       "      <th></th>\n",
       "      <th></th>\n",
       "    </tr>\n",
       "  </thead>\n",
       "  <tbody>\n",
       "    <tr>\n",
       "      <th>2013-10-01</th>\n",
       "      <td>BTC</td>\n",
       "      <td>123.65499</td>\n",
       "      <td>124.30466</td>\n",
       "      <td>124.75166</td>\n",
       "      <td>122.56349</td>\n",
       "    </tr>\n",
       "    <tr>\n",
       "      <th>2013-10-02</th>\n",
       "      <td>BTC</td>\n",
       "      <td>125.45500</td>\n",
       "      <td>123.65499</td>\n",
       "      <td>125.75850</td>\n",
       "      <td>123.63383</td>\n",
       "    </tr>\n",
       "    <tr>\n",
       "      <th>2013-10-03</th>\n",
       "      <td>BTC</td>\n",
       "      <td>108.58483</td>\n",
       "      <td>125.45500</td>\n",
       "      <td>125.66566</td>\n",
       "      <td>83.32833</td>\n",
       "    </tr>\n",
       "    <tr>\n",
       "      <th>2013-10-04</th>\n",
       "      <td>BTC</td>\n",
       "      <td>118.67466</td>\n",
       "      <td>108.58483</td>\n",
       "      <td>118.67500</td>\n",
       "      <td>107.05816</td>\n",
       "    </tr>\n",
       "    <tr>\n",
       "      <th>2013-10-05</th>\n",
       "      <td>BTC</td>\n",
       "      <td>121.33866</td>\n",
       "      <td>118.67466</td>\n",
       "      <td>121.93633</td>\n",
       "      <td>118.00566</td>\n",
       "    </tr>\n",
       "  </tbody>\n",
       "</table>\n",
       "</div>"
      ],
      "text/plain": [
       "           Currency  Closing Price (USD)  24h Open (USD)  24h High (USD)  \\\n",
       "Date                                                                       \n",
       "2013-10-01      BTC            123.65499       124.30466       124.75166   \n",
       "2013-10-02      BTC            125.45500       123.65499       125.75850   \n",
       "2013-10-03      BTC            108.58483       125.45500       125.66566   \n",
       "2013-10-04      BTC            118.67466       108.58483       118.67500   \n",
       "2013-10-05      BTC            121.33866       118.67466       121.93633   \n",
       "\n",
       "            24h Low (USD)  \n",
       "Date                       \n",
       "2013-10-01      122.56349  \n",
       "2013-10-02      123.63383  \n",
       "2013-10-03       83.32833  \n",
       "2013-10-04      107.05816  \n",
       "2013-10-05      118.00566  "
      ]
     },
     "execution_count": 1,
     "metadata": {},
     "output_type": "execute_result"
    }
   ],
   "source": [
    "# Import with pandas\n",
    "import pandas as pd\n",
    "# Let's read in our Bitcoin data and parse the dates\n",
    "df = pd.read_csv('./bitcoin_price.csv',\n",
    "                 parse_dates=['Date'],\n",
    "                 index_col=['Date']) # parse the date column and tell pandas column 1 is a datetime\n",
    "\n",
    "df.head()"
   ]
  },
  {
   "cell_type": "code",
   "execution_count": 2,
   "id": "756c4c8b",
   "metadata": {},
   "outputs": [
    {
     "data": {
      "application/vnd.microsoft.datawrangler.viewer.v0+json": {
       "columns": [
        {
         "name": "Date",
         "rawType": "datetime64[ns]",
         "type": "datetime"
        },
        {
         "name": "Currency",
         "rawType": "object",
         "type": "string"
        },
        {
         "name": "Closing Price (USD)",
         "rawType": "float64",
         "type": "float"
        },
        {
         "name": "24h Open (USD)",
         "rawType": "float64",
         "type": "float"
        },
        {
         "name": "24h High (USD)",
         "rawType": "float64",
         "type": "float"
        },
        {
         "name": "24h Low (USD)",
         "rawType": "float64",
         "type": "float"
        }
       ],
       "ref": "886f2c9e-81db-4b41-8bde-c1e7e14b8f53",
       "rows": [
        [
         "2021-05-14 00:00:00",
         "BTC",
         "49764.1320815975",
         "49596.7788914698",
         "51448.7985760232",
         "46294.7201795113"
        ],
        [
         "2021-05-15 00:00:00",
         "BTC",
         "50032.6931367648",
         "49717.3543531654",
         "51578.3125446899",
         "48944.3465360214"
        ],
        [
         "2021-05-16 00:00:00",
         "BTC",
         "47885.6252547166",
         "49926.035067459",
         "50690.8029495356",
         "47005.1022924768"
        ],
        [
         "2021-05-17 00:00:00",
         "BTC",
         "45604.6157536131",
         "46805.5378519185",
         "49670.4141738148",
         "43868.6389692715"
        ],
        [
         "2021-05-18 00:00:00",
         "BTC",
         "43144.4712908603",
         "46439.3365698047",
         "46622.8534374849",
         "42102.3464296188"
        ]
       ],
       "shape": {
        "columns": 5,
        "rows": 5
       }
      },
      "text/html": [
       "<div>\n",
       "<style scoped>\n",
       "    .dataframe tbody tr th:only-of-type {\n",
       "        vertical-align: middle;\n",
       "    }\n",
       "\n",
       "    .dataframe tbody tr th {\n",
       "        vertical-align: top;\n",
       "    }\n",
       "\n",
       "    .dataframe thead th {\n",
       "        text-align: right;\n",
       "    }\n",
       "</style>\n",
       "<table border=\"1\" class=\"dataframe\">\n",
       "  <thead>\n",
       "    <tr style=\"text-align: right;\">\n",
       "      <th></th>\n",
       "      <th>Currency</th>\n",
       "      <th>Closing Price (USD)</th>\n",
       "      <th>24h Open (USD)</th>\n",
       "      <th>24h High (USD)</th>\n",
       "      <th>24h Low (USD)</th>\n",
       "    </tr>\n",
       "    <tr>\n",
       "      <th>Date</th>\n",
       "      <th></th>\n",
       "      <th></th>\n",
       "      <th></th>\n",
       "      <th></th>\n",
       "      <th></th>\n",
       "    </tr>\n",
       "  </thead>\n",
       "  <tbody>\n",
       "    <tr>\n",
       "      <th>2021-05-14</th>\n",
       "      <td>BTC</td>\n",
       "      <td>49764.132082</td>\n",
       "      <td>49596.778891</td>\n",
       "      <td>51448.798576</td>\n",
       "      <td>46294.720180</td>\n",
       "    </tr>\n",
       "    <tr>\n",
       "      <th>2021-05-15</th>\n",
       "      <td>BTC</td>\n",
       "      <td>50032.693137</td>\n",
       "      <td>49717.354353</td>\n",
       "      <td>51578.312545</td>\n",
       "      <td>48944.346536</td>\n",
       "    </tr>\n",
       "    <tr>\n",
       "      <th>2021-05-16</th>\n",
       "      <td>BTC</td>\n",
       "      <td>47885.625255</td>\n",
       "      <td>49926.035067</td>\n",
       "      <td>50690.802950</td>\n",
       "      <td>47005.102292</td>\n",
       "    </tr>\n",
       "    <tr>\n",
       "      <th>2021-05-17</th>\n",
       "      <td>BTC</td>\n",
       "      <td>45604.615754</td>\n",
       "      <td>46805.537852</td>\n",
       "      <td>49670.414174</td>\n",
       "      <td>43868.638969</td>\n",
       "    </tr>\n",
       "    <tr>\n",
       "      <th>2021-05-18</th>\n",
       "      <td>BTC</td>\n",
       "      <td>43144.471291</td>\n",
       "      <td>46439.336570</td>\n",
       "      <td>46622.853437</td>\n",
       "      <td>42102.346430</td>\n",
       "    </tr>\n",
       "  </tbody>\n",
       "</table>\n",
       "</div>"
      ],
      "text/plain": [
       "           Currency  Closing Price (USD)  24h Open (USD)  24h High (USD)  \\\n",
       "Date                                                                       \n",
       "2021-05-14      BTC         49764.132082    49596.778891    51448.798576   \n",
       "2021-05-15      BTC         50032.693137    49717.354353    51578.312545   \n",
       "2021-05-16      BTC         47885.625255    49926.035067    50690.802950   \n",
       "2021-05-17      BTC         45604.615754    46805.537852    49670.414174   \n",
       "2021-05-18      BTC         43144.471291    46439.336570    46622.853437   \n",
       "\n",
       "            24h Low (USD)  \n",
       "Date                       \n",
       "2021-05-14   46294.720180  \n",
       "2021-05-15   48944.346536  \n",
       "2021-05-16   47005.102292  \n",
       "2021-05-17   43868.638969  \n",
       "2021-05-18   42102.346430  "
      ]
     },
     "execution_count": 2,
     "metadata": {},
     "output_type": "execute_result"
    }
   ],
   "source": [
    "df.tail()"
   ]
  },
  {
   "cell_type": "code",
   "execution_count": 3,
   "id": "9fca5567",
   "metadata": {},
   "outputs": [
    {
     "name": "stdout",
     "output_type": "stream",
     "text": [
      "<class 'pandas.core.frame.DataFrame'>\n",
      "DatetimeIndex: 2787 entries, 2013-10-01 to 2021-05-18\n",
      "Data columns (total 5 columns):\n",
      " #   Column               Non-Null Count  Dtype  \n",
      "---  ------               --------------  -----  \n",
      " 0   Currency             2787 non-null   object \n",
      " 1   Closing Price (USD)  2787 non-null   float64\n",
      " 2   24h Open (USD)       2787 non-null   float64\n",
      " 3   24h High (USD)       2787 non-null   float64\n",
      " 4   24h Low (USD)        2787 non-null   float64\n",
      "dtypes: float64(4), object(1)\n",
      "memory usage: 130.6+ KB\n"
     ]
    }
   ],
   "source": [
    "df.info()"
   ]
  },
  {
   "cell_type": "code",
   "execution_count": 4,
   "id": "67661981",
   "metadata": {},
   "outputs": [
    {
     "data": {
      "text/plain": [
       "2787"
      ]
     },
     "execution_count": 4,
     "metadata": {},
     "output_type": "execute_result"
    }
   ],
   "source": [
    "# How many samples do we have?\n",
    "len(df)"
   ]
  },
  {
   "cell_type": "markdown",
   "id": "7733d08d",
   "metadata": {},
   "source": [
    "We have collected the historical price of Bitcoin for the past ~8 years but there's 2787 samples.\n",
    "\n",
    "Typically deep learning models usually like lots and lots and lots of samples (where lots and lots and lots can be thousands to tens of thousands to millions).\n",
    "\n",
    "A smaller number of samples is something you will often run into with time series of ata problems.\n",
    "\n",
    "**Note:** The **seasonality** of a time series dataset is referred as the nmber of samples per year. So for our Bitcoin data, it has seasonality of daily or value of 365 because we collect one sample per day meaning we will get 365 samples per year."
   ]
  },
  {
   "cell_type": "code",
   "execution_count": 5,
   "id": "5f48b757",
   "metadata": {},
   "outputs": [
    {
     "data": {
      "application/vnd.microsoft.datawrangler.viewer.v0+json": {
       "columns": [
        {
         "name": "Date",
         "rawType": "datetime64[ns]",
         "type": "datetime"
        },
        {
         "name": "Price",
         "rawType": "float64",
         "type": "float"
        }
       ],
       "ref": "08320116-9e55-4a29-b3d4-10f610f3cba3",
       "rows": [
        [
         "2013-10-01 00:00:00",
         "123.65499"
        ],
        [
         "2013-10-02 00:00:00",
         "125.455"
        ],
        [
         "2013-10-03 00:00:00",
         "108.58483"
        ],
        [
         "2013-10-04 00:00:00",
         "118.67466"
        ],
        [
         "2013-10-05 00:00:00",
         "121.33866"
        ]
       ],
       "shape": {
        "columns": 1,
        "rows": 5
       }
      },
      "text/html": [
       "<div>\n",
       "<style scoped>\n",
       "    .dataframe tbody tr th:only-of-type {\n",
       "        vertical-align: middle;\n",
       "    }\n",
       "\n",
       "    .dataframe tbody tr th {\n",
       "        vertical-align: top;\n",
       "    }\n",
       "\n",
       "    .dataframe thead th {\n",
       "        text-align: right;\n",
       "    }\n",
       "</style>\n",
       "<table border=\"1\" class=\"dataframe\">\n",
       "  <thead>\n",
       "    <tr style=\"text-align: right;\">\n",
       "      <th></th>\n",
       "      <th>Price</th>\n",
       "    </tr>\n",
       "    <tr>\n",
       "      <th>Date</th>\n",
       "      <th></th>\n",
       "    </tr>\n",
       "  </thead>\n",
       "  <tbody>\n",
       "    <tr>\n",
       "      <th>2013-10-01</th>\n",
       "      <td>123.65499</td>\n",
       "    </tr>\n",
       "    <tr>\n",
       "      <th>2013-10-02</th>\n",
       "      <td>125.45500</td>\n",
       "    </tr>\n",
       "    <tr>\n",
       "      <th>2013-10-03</th>\n",
       "      <td>108.58483</td>\n",
       "    </tr>\n",
       "    <tr>\n",
       "      <th>2013-10-04</th>\n",
       "      <td>118.67466</td>\n",
       "    </tr>\n",
       "    <tr>\n",
       "      <th>2013-10-05</th>\n",
       "      <td>121.33866</td>\n",
       "    </tr>\n",
       "  </tbody>\n",
       "</table>\n",
       "</div>"
      ],
      "text/plain": [
       "                Price\n",
       "Date                 \n",
       "2013-10-01  123.65499\n",
       "2013-10-02  125.45500\n",
       "2013-10-03  108.58483\n",
       "2013-10-04  118.67466\n",
       "2013-10-05  121.33866"
      ]
     },
     "execution_count": 5,
     "metadata": {},
     "output_type": "execute_result"
    }
   ],
   "source": [
    "# Only want closing price for each day\n",
    "bitcoin_prices = pd.DataFrame(df['Closing Price (USD)']).rename(columns={'Closing Price (USD)': 'Price'})\n",
    "bitcoin_prices.head()"
   ]
  },
  {
   "cell_type": "code",
   "execution_count": 6,
   "id": "f8096130",
   "metadata": {},
   "outputs": [
    {
     "data": {
      "image/png": "[encoded data removed]",
      "text/plain": [
       "<Figure size 1000x700 with 1 Axes>"
      ]
     },
     "metadata": {},
     "output_type": "display_data"
    }
   ],
   "source": [
    "import matplotlib.pyplot as plt\n",
    "bitcoin_prices.plot(figsize=(10, 7))\n",
    "plt.ylabel('BTC Price')\n",
    "plt.title('Price of Bitcoin from 1 Oct 2013 to 18 May 2021', fontsize=16)\n",
    "plt.legend(fontsize=14)\n",
    "plt.show()"
   ]
  },
  {
   "cell_type": "markdown",
   "id": "719f1176",
   "metadata": {},
   "source": [
    "## Importing time series data with Pyhton's CSV module"
   ]
  },
  {
   "cell_type": "code",
   "execution_count": 7,
   "id": "1564be6a",
   "metadata": {},
   "outputs": [
    {
     "data": {
      "text/plain": [
       "([datetime.datetime(2013, 10, 1, 0, 0),\n",
       "  datetime.datetime(2013, 10, 2, 0, 0),\n",
       "  datetime.datetime(2013, 10, 3, 0, 0),\n",
       "  datetime.datetime(2013, 10, 4, 0, 0),\n",
       "  datetime.datetime(2013, 10, 5, 0, 0),\n",
       "  datetime.datetime(2013, 10, 6, 0, 0),\n",
       "  datetime.datetime(2013, 10, 7, 0, 0),\n",
       "  datetime.datetime(2013, 10, 8, 0, 0),\n",
       "  datetime.datetime(2013, 10, 9, 0, 0),\n",
       "  datetime.datetime(2013, 10, 10, 0, 0)],\n",
       " [123.65499,\n",
       "  125.455,\n",
       "  108.58483,\n",
       "  118.67466,\n",
       "  121.33866,\n",
       "  120.65533,\n",
       "  121.795,\n",
       "  123.033,\n",
       "  124.049,\n",
       "  125.96116])"
      ]
     },
     "execution_count": 7,
     "metadata": {},
     "output_type": "execute_result"
    }
   ],
   "source": [
    "# Importing and formatting historical Bitcoin data with Python\n",
    "import csv\n",
    "from datetime import datetime\n",
    "\n",
    "timesteps = []\n",
    "btc_price = []\n",
    "with open(\"bitcoin_price.csv\", \"r\") as f:\n",
    "    csv_reader = csv.reader(f, delimiter=\",\")\n",
    "    next(csv_reader) # Skip the header\n",
    "    for line in csv_reader:\n",
    "        timesteps.append(datetime.strptime(line[1], \"%Y-%m-%d\")) # get the dates as dates (not strings)\n",
    "        btc_price.append(float(line[2])) # get the bitcoin price as float\n",
    "\n",
    "# View first 10 of each\n",
    "timesteps[:10], btc_price[:10]"
   ]
  },
  {
   "cell_type": "code",
   "execution_count": 8,
   "id": "b66fb40d",
   "metadata": {},
   "outputs": [
    {
     "data": {
      "image/png": "[encoded data removed]",
      "text/plain": [
       "<Figure size 1000x700 with 1 Axes>"
      ]
     },
     "metadata": {},
     "output_type": "display_data"
    }
   ],
   "source": [
    "# Plot from CSV\n",
    "import matplotlib.pyplot as plt\n",
    "import numpy as np\n",
    "\n",
    "plt.figure(figsize=(10, 7))\n",
    "plt.plot(timesteps, btc_price)\n",
    "plt.ylabel('BTC Price')\n",
    "plt.title('Price of Bitcoin from 1 Oct 2013 to 18 May 2021', fontsize=16)\n",
    "plt.xlabel('Date')\n",
    "plt.show()"
   ]
  },
  {
   "cell_type": "markdown",
   "id": "cde748e6",
   "metadata": {},
   "source": [
    "## Format data part 1: Create train and test sets of our time series data"
   ]
  },
  {
   "cell_type": "markdown",
   "id": "719aa139",
   "metadata": {},
   "source": [
    "### Creating train and test sets with time series data (the wrong way)"
   ]
  },
  {
   "cell_type": "code",
   "execution_count": 9,
   "id": "65ba12b5",
   "metadata": {},
   "outputs": [
    {
     "data": {
      "text/plain": [
       "(array(['2013-10-01T00:00:00.000000000', '2013-10-02T00:00:00.000000000',\n",
       "        '2013-10-03T00:00:00.000000000', '2013-10-04T00:00:00.000000000',\n",
       "        '2013-10-05T00:00:00.000000000', '2013-10-06T00:00:00.000000000',\n",
       "        '2013-10-07T00:00:00.000000000', '2013-10-08T00:00:00.000000000',\n",
       "        '2013-10-09T00:00:00.000000000', '2013-10-10T00:00:00.000000000'],\n",
       "       dtype='datetime64[ns]'),\n",
       " array([123.65499, 125.455  , 108.58483, 118.67466, 121.33866, 120.65533,\n",
       "        121.795  , 123.033  , 124.049  , 125.96116]))"
      ]
     },
     "execution_count": 9,
     "metadata": {},
     "output_type": "execute_result"
    }
   ],
   "source": [
    "# Get bitcoin date array\n",
    "timesteps = bitcoin_prices.index.to_numpy()\n",
    "prices = bitcoin_prices['Price'].to_numpy()\n",
    "\n",
    "timesteps[:10], prices[:10]"
   ]
  },
  {
   "cell_type": "code",
   "execution_count": 10,
   "id": "acd8af70",
   "metadata": {},
   "outputs": [
    {
     "data": {
      "text/plain": [
       "((2229,), (558,), (2229,), (558,))"
      ]
     },
     "execution_count": 10,
     "metadata": {},
     "output_type": "execute_result"
    }
   ],
   "source": [
    "# Wrong way to make train/test sets for time series data\n",
    "from sklearn.model_selection import train_test_split\n",
    "\n",
    "X_train, X_test, y_train, y_test = train_test_split(timesteps, # dates\n",
    "                                                    prices, # BTC price\n",
    "                                                    test_size=0.2,\n",
    "                                                    random_state=42)\n",
    "\n",
    "X_train.shape, X_test.shape, y_train.shape, y_test.shape"
   ]
  },
  {
   "cell_type": "code",
   "execution_count": 11,
   "id": "1c2db7b5",
   "metadata": {},
   "outputs": [
    {
     "data": {
      "image/png": "[encoded data removed]",
      "text/plain": [
       "<Figure size 1000x700 with 1 Axes>"
      ]
     },
     "metadata": {},
     "output_type": "display_data"
    }
   ],
   "source": [
    "# Let's plot wrong train and test splits\n",
    "plt.figure(figsize=(10, 7))\n",
    "plt.scatter(X_train, y_train, s=5, label='Train data')\n",
    "plt.scatter(X_test, y_test, s=5, label='Test data')\n",
    "plt.xlabel('Data')\n",
    "plt.ylabel('BTC Price')\n",
    "plt.legend(fontsize=14)\n",
    "plt.show()"
   ]
  },
  {
   "cell_type": "markdown",
   "id": "d9c27238",
   "metadata": {},
   "source": [
    "### Create train and test sets for time series (the right way)"
   ]
  },
  {
   "cell_type": "code",
   "execution_count": 12,
   "id": "ba8ec97e",
   "metadata": {},
   "outputs": [
    {
     "data": {
      "text/plain": [
       "(2229, 558, 2229, 558)"
      ]
     },
     "execution_count": 12,
     "metadata": {},
     "output_type": "execute_result"
    }
   ],
   "source": [
    "# Create train and test splits the right way for time series data\n",
    "split_size = int(0.8 * len(prices)) # 80% train, 20% test\n",
    "\n",
    "# Create train data splits (everything before the splits)\n",
    "X_train, y_train = timesteps[:split_size], prices[:split_size]\n",
    "\n",
    "# Create test data splits (everything beyond the split)\n",
    "X_test, y_test = timesteps[split_size:], prices[split_size:]\n",
    "\n",
    "len(X_train), len(X_test), len(y_train), len(y_test)"
   ]
  },
  {
   "cell_type": "code",
   "execution_count": 13,
   "id": "d7b4d4cd",
   "metadata": {},
   "outputs": [
    {
     "data": {
      "image/png": "[encoded data removed]",
      "text/plain": [
       "<Figure size 1000x700 with 1 Axes>"
      ]
     },
     "metadata": {},
     "output_type": "display_data"
    }
   ],
   "source": [
    "# Plto with the correctly splits\n",
    "plt.figure(figsize=(10, 7))\n",
    "plt.scatter(X_train, y_train, s=5, label='Train data')\n",
    "plt.scatter(X_test, y_test, s=5, label='Test data')\n",
    "plt.xlabel('Data')\n",
    "plt.ylabel('BTC Price')\n",
    "plt.legend(fontsize=14)\n",
    "plt.show()"
   ]
  },
  {
   "cell_type": "markdown",
   "id": "864cc198",
   "metadata": {},
   "source": [
    "## Create a plotting function"
   ]
  },
  {
   "cell_type": "code",
   "execution_count": 14,
   "id": "4289393c",
   "metadata": {},
   "outputs": [],
   "source": [
    "# Create a function to plot time series data\n",
    "def plot_time_series(timesteps, values, format=\".\", start=0, end=None, label=None):\n",
    "    \"\"\"\n",
    "    Plots timesteps (a series of points in time) against values (a series of values across timesteps).\n",
    "\n",
    "    Parameters:\n",
    "    -----------\n",
    "    timesteps: array of timestep values\n",
    "    values: array of values across time\n",
    "    format: style of plot, default \".\"\n",
    "    start: where to start the plot (setting a value will index from start of timesteps and values)\n",
    "    end: where to end the plot\n",
    "    label: label to show on plot about values\n",
    "    \"\"\"\n",
    "    # Plot the series\n",
    "    plt.plot(timesteps[start:end], values[start:end], format, label=label)\n",
    "    plt.xlabel(\"Time\")\n",
    "    plt.ylabel(\"BTC Price\")\n",
    "    if label:\n",
    "        plt.legend(fontsize=14)\n",
    "    plt.grid(True)"
   ]
  },
  {
   "cell_type": "code",
   "execution_count": 15,
   "id": "8a5a9712",
   "metadata": {},
   "outputs": [
    {
     "data": {
      "image/png": "[encoded data removed]",
      "text/plain": [
       "<Figure size 1000x700 with 1 Axes>"
      ]
     },
     "metadata": {},
     "output_type": "display_data"
    }
   ],
   "source": [
    "# Test out plotting function\n",
    "plt.figure(figsize=(10, 7))\n",
    "plot_time_series(timesteps=X_train, values=y_train, label=\"Train data\")\n",
    "plot_time_series(timesteps=X_test, values=y_test, label=\"Test data\")"
   ]
  },
  {
   "cell_type": "markdown",
   "id": "d35ca8ea",
   "metadata": {},
   "source": [
    "## Modelling Experiments\n",
    "\n",
    "We have got some Bitcoin historical data, to model it, let's run a series of modelling experiments and see which model performs best.\n",
    "\n",
    "Terms to be familiar with:\n",
    "\n",
    "* **Horizon** = number of timesteps into the future we are going to predict\n",
    "* **Window size** = number of timesteps we are going to use to predict **horizon**\n",
    "\n",
    "Modelling experiments we are running:\n",
    "\n",
    "1. Naïve model (baseline)\n",
    "2. Dense Model, horizon = 1, window = 7\n",
    "3. Dense Model, horizon = 1, window = 30\n",
    "4. Dense Model, horizon = 7, window = 30\n",
    "5. Conv1D\n",
    "6. LSTM\n",
    "7. Dense Model, horizon = 1, window = 7 (but with multivariate data)\n",
    "8. N-BEATs Algorithm\n",
    "9. Ensemble (multiple models optimized stacked together)\n",
    "10. Future prediction model\n",
    "11. Dense Model (but with turkey data introduced) "
   ]
  },
  {
   "cell_type": "markdown",
   "id": "fc58f85b",
   "metadata": {},
   "source": [
    "## Model 0: Naive forecast (baseline)\n",
    "\n",
    "The formula looks like this:\n",
    "\n",
    "$$\\hat{y}_{t} = y_{t-1}$$\n",
    "\n",
    "In English:\n",
    "\n",
    "> The prediction at timestep t (y-hat) is equal to the value at timestep t-1 (previous step) - this is for horizon of 1."
   ]
  },
  {
   "cell_type": "code",
   "execution_count": 16,
   "id": "66850391",
   "metadata": {},
   "outputs": [
    {
     "data": {
      "text/plain": [
       "(array([9226.48582088, 8794.35864452, 8798.04205463, 9081.18687849,\n",
       "        8711.53433917, 8760.89271814, 8749.52059102, 8656.97092235,\n",
       "        8500.64355816, 8469.2608989 ]),\n",
       " array([57107.12067189, 58788.20967893, 58102.19142623, 55715.54665129,\n",
       "        56573.5554719 , 52147.82118698, 49764.1320816 , 50032.69313676,\n",
       "        47885.62525472, 45604.61575361]))"
      ]
     },
     "execution_count": 16,
     "metadata": {},
     "output_type": "execute_result"
    }
   ],
   "source": [
    "# Create a naive forecast\n",
    "naive_forecast = y_test[:-1]\n",
    "\n",
    "naive_forecast[:10], naive_forecast[-10:]"
   ]
  },
  {
   "cell_type": "code",
   "execution_count": 17,
   "id": "f978017f",
   "metadata": {},
   "outputs": [
    {
     "data": {
      "image/png": "[encoded data removed]",
      "text/plain": [
       "<Figure size 1000x700 with 1 Axes>"
      ]
     },
     "metadata": {},
     "output_type": "display_data"
    }
   ],
   "source": [
    "# Plot naive forecast\n",
    "plt.figure(figsize=(10, 7))\n",
    "plot_time_series(timesteps=X_train, values=y_train, label=\"Train data\")\n",
    "plot_time_series(timesteps=X_test, values=y_test, label=\"Test data\")\n",
    "plot_time_series(timesteps=X_test[1:], values=naive_forecast, format=\"-\", label=\"Naive Forecast\")"
   ]
  },
  {
   "cell_type": "markdown",
   "id": "aa45efec",
   "metadata": {},
   "source": [
    "## Evaluating a time series model\n",
    "\n",
    "Let's look into some evaluation metrics for time series forecasting.\n",
    "\n",
    "What are we doing? We are predicting a number, so that means we have a form of a regression problem.\n",
    "\n",
    "Because we are working on a regression problem, we will need some regression-like metrics.\n",
    "\n",
    "A few common regression metrics which can also be used for time series forecasting:\n",
    "\n",
    "* MAE - mean absolute error\n",
    "* MSE - mean squared error\n",
    "* RMSE - root mean square error\n",
    "* MAPE - mean absolute percentage error\n",
    "* MASE - mean absolute scaled error\n",
    "\n",
    "For all the above metrics, **lower is better**.\n",
    "\n",
    "The main thing we are evaluating here is: **how do our model's forecast (y_pred) compare against the actual values (y_true or ground truth values)?** "
   ]
  },
  {
   "cell_type": "code",
   "execution_count": 18,
   "id": "42bb23f5",
   "metadata": {},
   "outputs": [],
   "source": [
    "import tensorflow as tf"
   ]
  },
  {
   "cell_type": "code",
   "execution_count": 19,
   "id": "ae9e9f59",
   "metadata": {},
   "outputs": [],
   "source": [
    "# MASE implementation\n",
    "def mean_absolute_scaled_error(y_true, y_pred):\n",
    "    \"\"\"\n",
    "    Implement MASE (assuming no seasonality of data).\n",
    "    \"\"\"\n",
    "    mae = tf.reduce_mean(tf.abs(y_true - y_pred))\n",
    "\n",
    "    # Find MAE of naive forecast (no seasonality)\n",
    "    mae_naive_no_season = tf.reduce_mean(tf.abs(y_true[1:] - y_true[:-1])) # our seasonality is 1 day (hence the shift of 1)\n",
    "\n",
    "    return mae / mae_naive_no_season"
   ]
  },
  {
   "cell_type": "code",
   "execution_count": 20,
   "id": "0d85bb57",
   "metadata": {},
   "outputs": [
    {
     "data": {
      "text/plain": [
       "0.9995699939182624"
      ]
     },
     "execution_count": 20,
     "metadata": {},
     "output_type": "execute_result"
    }
   ],
   "source": [
    "mean_absolute_scaled_error(y_true=y_test[1:], y_pred=naive_forecast).numpy()"
   ]
  },
  {
   "cell_type": "code",
   "execution_count": 21,
   "id": "a06fe4df",
   "metadata": {},
   "outputs": [],
   "source": [
    "# Create a function to take in model predictions and truth values and return evaluation metrics\n",
    "def evaluate_preds(y_true, y_pred):\n",
    "    # Make sure float32 datatype (for metric calculation)\n",
    "    y_true = tf.cast(y_true, dtype=tf.float32)\n",
    "    y_pred = tf.cast(y_pred, dtype=tf.float32)\n",
    "\n",
    "    # Calculate various evaluation metrics\n",
    "    mae = tf.keras.metrics.mean_absolute_error(y_true, y_pred)\n",
    "    mse = tf.keras.metrics.mean_squared_error(y_true, y_pred)\n",
    "    rmse = tf.sqrt(mse)\n",
    "    mape = tf.keras.metrics.mean_absolute_percentage_error(y_true, y_pred)\n",
    "    mase = mean_absolute_scaled_error(y_true, y_pred)\n",
    "\n",
    "    return {\n",
    "        \"mae\": mae.numpy(),\n",
    "        \"mse\": mse.numpy(),\n",
    "        \"rmse\": rmse.numpy(),\n",
    "        \"mape\": mape.numpy(),\n",
    "        \"mase\": mase.numpy()\n",
    "    }"
   ]
  },
  {
   "cell_type": "code",
   "execution_count": 22,
   "id": "5702372e",
   "metadata": {},
   "outputs": [
    {
     "data": {
      "text/plain": [
       "{'mae': 567.9802,\n",
       " 'mse': 1147547.0,\n",
       " 'rmse': 1071.2362,\n",
       " 'mape': 2.516525,\n",
       " 'mase': 0.99957}"
      ]
     },
     "execution_count": 22,
     "metadata": {},
     "output_type": "execute_result"
    }
   ],
   "source": [
    "# Let's now see if it works\n",
    "naive_results = evaluate_preds(y_true=y_test[1:],\n",
    "                               y_pred=naive_forecast)\n",
    "naive_results"
   ]
  },
  {
   "cell_type": "code",
   "execution_count": 23,
   "id": "5990a758",
   "metadata": {},
   "outputs": [
    {
     "data": {
      "text/plain": [
       "<tf.Tensor: shape=(), dtype=float64, numpy=20056.632963737222>"
      ]
     },
     "execution_count": 23,
     "metadata": {},
     "output_type": "execute_result"
    }
   ],
   "source": [
    "tf.reduce_mean(y_test)"
   ]
  },
  {
   "cell_type": "code",
   "execution_count": 24,
   "id": "10a3612b",
   "metadata": {},
   "outputs": [
    {
     "data": {
      "text/plain": [
       "(<tf.Tensor: shape=(), dtype=float64, numpy=4944.7023359837>,\n",
       " <tf.Tensor: shape=(), dtype=float64, numpy=63346.7890351052>)"
      ]
     },
     "execution_count": 24,
     "metadata": {},
     "output_type": "execute_result"
    }
   ],
   "source": [
    "tf.reduce_min(y_test), tf.reduce_max(y_test)"
   ]
  },
  {
   "cell_type": "markdown",
   "id": "86f95069",
   "metadata": {},
   "source": [
    "## Others Models for Time Series Forecasting\n",
    "\n",
    "In this notebook we are going to use only neural networks for time series forecasting, but there are a plenty of models used in the industry or as a baseline model you can use."
   ]
  },
  {
   "attachments": {
    "image.png": {
     "image/png": "[encoded data removed]"
    }
   },
   "cell_type": "markdown",
   "id": "c393aa09",
   "metadata": {},
   "source": [
    "![image.png](attachment:image.png)"
   ]
  },
  {
   "cell_type": "markdown",
   "id": "21c7fa33",
   "metadata": {},
   "source": [
    "## Format Data Part 2: Windowing our dataset\n",
    "\n",
    "Why do we window?\n",
    "\n",
    "We window our time series dataset to turn our data into a supervised learning problem.\n",
    "\n",
    "```\n",
    "Windowing for one week\n",
    "[0, 1, 2, 3, 4, 5, 6] --> [7]\n",
    "[1, 2, 3, 4, 5, 6, 7] --> [8]\n",
    "[2, 3, 4, 5, 6, 7, 8] --> [9]\n",
    "```"
   ]
  },
  {
   "cell_type": "code",
   "execution_count": 25,
   "id": "8b6f42f1",
   "metadata": {},
   "outputs": [
    {
     "data": {
      "text/plain": [
       "2229"
      ]
     },
     "execution_count": 25,
     "metadata": {},
     "output_type": "execute_result"
    }
   ],
   "source": [
    "len(y_train)"
   ]
  },
  {
   "cell_type": "code",
   "execution_count": 26,
   "id": "1b9651aa",
   "metadata": {},
   "outputs": [
    {
     "name": "stdout",
     "output_type": "stream",
     "text": [
      "We want to use: [123.65499, 125.455, 108.58483, 118.67466, 121.33866, 120.65533, 121.795] to predict this: 123.033\n"
     ]
    }
   ],
   "source": [
    "# What we want to do with our Bitcoin data\n",
    "print(f\"We want to use: {btc_price[:7]} to predict this: {btc_price[7]}\")"
   ]
  },
  {
   "cell_type": "code",
   "execution_count": 27,
   "id": "17089829",
   "metadata": {},
   "outputs": [],
   "source": [
    "# Let's setup global variables for window and horizon size\n",
    "HORIZON = 1 # predict next 1 day\n",
    "WINDOW_SIZE = 7 # use the past week of Bitcoin data to make the prediction"
   ]
  },
  {
   "cell_type": "code",
   "execution_count": 28,
   "id": "4e6e7d48",
   "metadata": {},
   "outputs": [],
   "source": [
    "# Create function to label window data\n",
    "def get_labelled_windows(x, horizon=HORIZON):\n",
    "    \"\"\"\n",
    "    Creates labels for windowed dataset.\n",
    "\n",
    "    E.g. if horizon = 1 --> Input: [0, 1, 2, 3, 4, 5, 6, 7] --> Output: ([0, 1, 2, 3, 4, 5, 6, 7], [7])\n",
    "    \"\"\"\n",
    "    return x[:, :-horizon], x[:, -horizon:]"
   ]
  },
  {
   "cell_type": "code",
   "execution_count": 29,
   "id": "6dcfa33b",
   "metadata": {},
   "outputs": [
    {
     "name": "stdout",
     "output_type": "stream",
     "text": [
      "Window: [0 1 2 3 4 5 6] -> Label: 7\n"
     ]
    }
   ],
   "source": [
    "# Test out the window labelling function\n",
    "test_window, test_label = get_labelled_windows(tf.expand_dims(tf.range(8), axis = 0))\n",
    "print(f\"Window: {tf.squeeze(test_window).numpy()} -> Label: {tf.squeeze(test_label).numpy()}\")"
   ]
  },
  {
   "cell_type": "markdown",
   "id": "0d51bd96",
   "metadata": {},
   "source": [
    "We have got a way to label our windowed data.\n",
    "\n",
    "However, this only works on a small scale.\n",
    "\n",
    "We need a way to do the above across our entire time series.\n",
    "\n",
    "We could do this with Python for loops, however, for large time series, that'd be quite slow.\n",
    "\n",
    "To speed things up, we will leverage NumPy's array indexing.\n",
    "\n",
    "Our function will:\n",
    "1. Create a window step of specific window size.\n",
    "2. It will numpy indexing to create a 2D array of multiple window steps, for example:\n",
    "```\n",
    "[\n",
    "    [0, 1, 2, 3, 4, 5, 6],\n",
    "    [1, 2, 3, 4, 5, 6, 7],\n",
    "    [2, 3, 4, 5, 6, 7, 8]\n",
    "]\n",
    "```\n",
    "3. Uses the 2D array of multiple window steps (from 2.) to index on a target series.\n",
    "4. Uses our `get_labelled_windows()` function we created above to turn the window steps into windows with specified horizon."
   ]
  },
  {
   "cell_type": "code",
   "execution_count": 30,
   "id": "83361e19",
   "metadata": {},
   "outputs": [],
   "source": [
    "import numpy as np\n",
    "\n",
    "# Create function to view NumPy arrays as windows\n",
    "def make_windows(x, window_size=WINDOW_SIZE, horizon=HORIZON):\n",
    "    \"\"\"\n",
    "    Turns a 1D into a 2D array of sequential labelled windows of window_size with horizon size labels.\n",
    "    \"\"\"\n",
    "    # 1. Create a window of specific window_size (add the horzion on the end for labelling later)\n",
    "    window_step = np.expand_dims(np.arange(window_size + horizon), axis=0)\n",
    "\n",
    "    # 2. Create a 2D array of multiple window steps (minus 1 to account for 0 indexing)\n",
    "    window_indexes = window_step + np.expand_dims(np.arange(len(x) - (window_size + horizon - 1)), axis=0).T # create 2D array of windows of size window_siz\n",
    "\n",
    "    # 3. Index on the target array (a time series) with 2D array of multiple window steps\n",
    "    windowed_array = x[window_indexes]\n",
    "\n",
    "    # 4. Get the labelled windows\n",
    "    windows, labels = get_labelled_windows(windowed_array, horizon=horizon)\n",
    "\n",
    "    return windows, labels"
   ]
  },
  {
   "cell_type": "code",
   "execution_count": 31,
   "id": "232bacdc",
   "metadata": {},
   "outputs": [
    {
     "data": {
      "text/plain": [
       "(2780, 2780)"
      ]
     },
     "execution_count": 31,
     "metadata": {},
     "output_type": "execute_result"
    }
   ],
   "source": [
    "full_windows, full_labels = make_windows(prices, window_size=WINDOW_SIZE, horizon=HORIZON)\n",
    "len(full_windows), len(full_labels)"
   ]
  },
  {
   "cell_type": "code",
   "execution_count": 32,
   "id": "cdbdb2e9",
   "metadata": {},
   "outputs": [
    {
     "name": "stdout",
     "output_type": "stream",
     "text": [
      "Window: [123.65499 125.455   108.58483 118.67466 121.33866 120.65533 121.795  ] -> Label: [123.033]\n",
      "Window: [125.455   108.58483 118.67466 121.33866 120.65533 121.795   123.033  ] -> Label: [124.049]\n",
      "Window: [108.58483 118.67466 121.33866 120.65533 121.795   123.033   124.049  ] -> Label: [125.96116]\n"
     ]
    }
   ],
   "source": [
    "# View the first 3 windows/labels\n",
    "for i in range(3):\n",
    "    print(f'Window: {full_windows[i]} -> Label: {full_labels[i]}')"
   ]
  },
  {
   "cell_type": "code",
   "execution_count": 33,
   "id": "59151d16",
   "metadata": {},
   "outputs": [
    {
     "name": "stdout",
     "output_type": "stream",
     "text": [
      "Window: [58788.20967893 58102.19142623 55715.54665129 56573.5554719\n",
      " 52147.82118698 49764.1320816  50032.69313676] -> Label: [47885.62525472]\n",
      "Window: [58102.19142623 55715.54665129 56573.5554719  52147.82118698\n",
      " 49764.1320816  50032.69313676 47885.62525472] -> Label: [45604.61575361]\n",
      "Window: [55715.54665129 56573.5554719  52147.82118698 49764.1320816\n",
      " 50032.69313676 47885.62525472 45604.61575361] -> Label: [43144.47129086]\n"
     ]
    }
   ],
   "source": [
    "# View the last 3 windows/labels\n",
    "for i in range(3):\n",
    "    print(f'Window: {full_windows[i-3]} -> Label: {full_labels[i-3]}')"
   ]
  },
  {
   "cell_type": "markdown",
   "id": "1b663e8c",
   "metadata": {},
   "source": [
    "## Turning windows into training and test sets"
   ]
  },
  {
   "cell_type": "code",
   "execution_count": 34,
   "id": "9f0fcf2b",
   "metadata": {},
   "outputs": [],
   "source": [
    "# Make the train/test splits\n",
    "def make_train_test_splits(windows, labels, test_split=0.2):\n",
    "    \"\"\"\n",
    "    Splits matching pairs of windows and labels into train an test splits.\n",
    "    \"\"\"\n",
    "    splits_size = int(len(windows) * (1 - test_split)) # this will default 80% train / 20% test\n",
    "    train_windows = windows[:split_size]\n",
    "    train_labels = labels[:split_size]\n",
    "    test_windows = windows[split_size:]\n",
    "    test_labels = labels[split_size:]\n",
    "    return train_windows, test_windows, train_labels, test_labels"
   ]
  },
  {
   "cell_type": "code",
   "execution_count": 35,
   "id": "bef31773",
   "metadata": {},
   "outputs": [
    {
     "data": {
      "text/plain": [
       "(2229, 551, 2229, 551)"
      ]
     },
     "execution_count": 35,
     "metadata": {},
     "output_type": "execute_result"
    }
   ],
   "source": [
    "train_windows, test_windows, train_labels, test_labels = make_train_test_splits(full_windows, full_labels)\n",
    "len(train_windows), len(test_windows), len(train_labels), len(test_labels)"
   ]
  },
  {
   "cell_type": "code",
   "execution_count": 36,
   "id": "d76eb571",
   "metadata": {},
   "outputs": [
    {
     "data": {
      "text/plain": [
       "True"
      ]
     },
     "execution_count": 36,
     "metadata": {},
     "output_type": "execute_result"
    }
   ],
   "source": [
    "np.array_equal(np.squeeze(train_labels[:-HORIZON-6]), y_train[WINDOW_SIZE:])"
   ]
  },
  {
   "cell_type": "markdown",
   "id": "31d4b47c",
   "metadata": {},
   "source": [
    "## Make a modelling checkpoint callback\n",
    "\n",
    "Because our model's performance will fluctuate from experiment to experiment, we're going to write a model checkpoint so we can compare apples to apples.\n",
    "\n",
    "More specifically, we want to compare each of our model's best performances against the other model's best performances.\n",
    "\n",
    "For example if our model performs the best on epoch 55 (but we are training for 100 epochs), we want to load and evaluate the model saved on epoch 55.\n",
    "\n",
    "We can create modelling checkpoint callback using the following: https://www.tensorflow.org/api_docs/python/tf/keras/callbacks/ModelCheckpoint"
   ]
  },
  {
   "cell_type": "code",
   "execution_count": 37,
   "id": "5fe80ecc",
   "metadata": {},
   "outputs": [],
   "source": [
    "import os\n",
    "\n",
    "# Create a function to implement a ModelCheckpoint callback with a specific filename\n",
    "def create_model_checkpoint(model_name, save_path='model_experiments'):\n",
    "    return tf.keras.callbacks.ModelCheckpoint(filepath=os.path.join(save_path, model_name),\n",
    "                                              monitor='val_loss',\n",
    "                                              verbose=0, # only output a limited amount of text\n",
    "                                              save_best_only=True)"
   ]
  },
  {
   "cell_type": "markdown",
   "id": "4f378620",
   "metadata": {},
   "source": [
    "## Model 1: Dense Model (window = 7, horizon = 1)\n",
    "\n",
    "Our first deep model is going to be a simple dense model:\n",
    "\n",
    "* A single dense layer with 128 hidden units and ReLU\n",
    "* An output layer with linear activation (no activation)\n",
    "* Adam optimization and MAE loss function\n",
    "* Batch size of 128 (previously we have used 32)\n",
    "* 100 epochs\n",
    "\n",
    "Why these values?\n",
    "\n",
    "I picked them out of experimentation."
   ]
  },
  {
   "cell_type": "code",
   "execution_count": 38,
   "id": "2ee5065e",
   "metadata": {},
   "outputs": [
    {
     "name": "stdout",
     "output_type": "stream",
     "text": [
      "Epoch 1/100\n",
      "15/18 [========================>.....] - ETA: 0s - loss: 610.1166 - mae: 610.1166 - mse: 1487661.5000  INFO:tensorflow:Assets written to: model_experiments\\model_1_dense\\assets\n",
      "18/18 [==============================] - 10s 161ms/step - loss: 575.8809 - mae: 575.8809 - mse: 1349173.0000 - val_loss: 1125.1820 - val_mae: 1125.1820 - val_mse: 4087068.2500\n",
      "Epoch 2/100\n",
      "13/18 [====================>.........] - ETA: 0s - loss: 213.8943 - mae: 213.8943 - mse: 209904.5312INFO:tensorflow:Assets written to: model_experiments\\model_1_dense\\assets\n",
      "18/18 [==============================] - 1s 78ms/step - loss: 210.2378 - mae: 210.2378 - mse: 203245.9375 - val_loss: 951.0237 - val_mae: 951.0237 - val_mse: 3007894.0000\n",
      "Epoch 3/100\n",
      "13/18 [====================>.........] - ETA: 0s - loss: 167.5202 - mae: 167.5202 - mse: 156828.4062INFO:tensorflow:Assets written to: model_experiments\\model_1_dense\\assets\n",
      "18/18 [==============================] - 2s 127ms/step - loss: 166.4544 - mae: 166.4544 - mse: 148162.0312 - val_loss: 940.6089 - val_mae: 940.6089 - val_mse: 2734037.7500\n",
      "Epoch 4/100\n",
      "14/18 [======================>.......] - ETA: 0s - loss: 162.6775 - mae: 162.6775 - mse: 136512.9219INFO:tensorflow:Assets written to: model_experiments\\model_1_dense\\assets\n",
      "18/18 [==============================] - 1s 87ms/step - loss: 157.8946 - mae: 157.8946 - mse: 133408.6250 - val_loss: 871.3117 - val_mae: 871.3117 - val_mse: 2468238.2500\n",
      "Epoch 5/100\n",
      "15/18 [========================>.....] - ETA: 0s - loss: 152.8067 - mae: 152.8067 - mse: 124507.3203INFO:tensorflow:Assets written to: model_experiments\\model_1_dense\\assets\n",
      "18/18 [==============================] - 1s 77ms/step - loss: 151.6979 - mae: 151.6979 - mse: 121870.4531 - val_loss: 867.3768 - val_mae: 867.3768 - val_mse: 2365096.2500\n",
      "Epoch 6/100\n",
      "16/18 [=========================>....] - ETA: 0s - loss: 145.1327 - mae: 145.1327 - mse: 117942.1797INFO:tensorflow:Assets written to: model_experiments\\model_1_dense\\assets\n",
      "18/18 [==============================] - 2s 98ms/step - loss: 145.2529 - mae: 145.2529 - mse: 117387.0625 - val_loss: 813.1762 - val_mae: 813.1762 - val_mse: 2157140.0000\n",
      "Epoch 7/100\n",
      "17/18 [===========================>..] - ETA: 0s - loss: 143.0780 - mae: 143.0780 - mse: 112481.4453INFO:tensorflow:Assets written to: model_experiments\\model_1_dense\\assets\n",
      "18/18 [==============================] - 1s 81ms/step - loss: 143.0241 - mae: 143.0241 - mse: 112005.1328 - val_loss: 774.7083 - val_mae: 774.7083 - val_mse: 2018583.7500\n",
      "Epoch 8/100\n",
      "16/18 [=========================>....] - ETA: 0s - loss: 138.5066 - mae: 138.5066 - mse: 107972.8672INFO:tensorflow:Assets written to: model_experiments\\model_1_dense\\assets\n",
      "18/18 [==============================] - 1s 81ms/step - loss: 138.3490 - mae: 138.3490 - mse: 107149.6953 - val_loss: 765.7579 - val_mae: 765.7579 - val_mse: 1918689.5000\n",
      "Epoch 9/100\n",
      "18/18 [==============================] - 0s 16ms/step - loss: 133.8504 - mae: 133.8504 - mse: 99096.2109 - val_loss: 801.0745 - val_mae: 801.0745 - val_mse: 1951333.0000\n",
      "Epoch 10/100\n",
      "15/18 [========================>.....] - ETA: 0s - loss: 125.0416 - mae: 125.0416 - mse: 86195.7812INFO:tensorflow:Assets written to: model_experiments\\model_1_dense\\assets\n",
      "18/18 [==============================] - 2s 106ms/step - loss: 130.6975 - mae: 130.6975 - mse: 95344.8281 - val_loss: 735.9844 - val_mae: 735.9844 - val_mse: 1753064.2500\n",
      "Epoch 11/100\n",
      "18/18 [==============================] - 0s 12ms/step - loss: 131.0876 - mae: 131.0876 - mse: 93828.8438 - val_loss: 754.1960 - val_mae: 754.1960 - val_mse: 1761081.0000\n",
      "Epoch 12/100\n",
      "18/18 [==============================] - 0s 12ms/step - loss: 131.5657 - mae: 131.5657 - mse: 93934.9453 - val_loss: 748.9319 - val_mae: 748.9319 - val_mse: 1723583.8750\n",
      "Epoch 13/100\n",
      "13/18 [====================>.........] - ETA: 0s - loss: 120.4020 - mae: 120.4020 - mse: 83028.7656INFO:tensorflow:Assets written to: model_experiments\\model_1_dense\\assets\n",
      "18/18 [==============================] - 1s 80ms/step - loss: 125.8455 - mae: 125.8455 - mse: 90779.5625 - val_loss: 691.4680 - val_mae: 691.4680 - val_mse: 1563445.3750\n",
      "Epoch 14/100\n",
      "12/18 [===================>..........] - ETA: 0s - loss: 128.2024 - mae: 128.2024 - mse: 91741.1328INFO:tensorflow:Assets written to: model_experiments\\model_1_dense\\assets\n",
      "18/18 [==============================] - 1s 82ms/step - loss: 122.4296 - mae: 122.4296 - mse: 86130.4609 - val_loss: 671.6990 - val_mae: 671.6990 - val_mse: 1544492.1250\n",
      "Epoch 15/100\n",
      "15/18 [========================>.....] - ETA: 0s - loss: 122.6342 - mae: 122.6342 - mse: 85439.4219INFO:tensorflow:Assets written to: model_experiments\\model_1_dense\\assets\n",
      "18/18 [==============================] - 1s 71ms/step - loss: 123.2656 - mae: 123.2656 - mse: 87032.1484 - val_loss: 662.3004 - val_mae: 662.3004 - val_mse: 1504727.7500\n",
      "Epoch 16/100\n",
      "18/18 [==============================] - 0s 16ms/step - loss: 137.9308 - mae: 137.9308 - mse: 96031.5312 - val_loss: 724.0084 - val_mae: 724.0084 - val_mse: 1716533.7500\n",
      "Epoch 17/100\n",
      "17/18 [===========================>..] - ETA: 0s - loss: 130.9767 - mae: 130.9767 - mse: 87522.6641INFO:tensorflow:Assets written to: model_experiments\\model_1_dense\\assets\n",
      "18/18 [==============================] - 1s 63ms/step - loss: 131.4495 - mae: 131.4495 - mse: 87697.6797 - val_loss: 657.0934 - val_mae: 657.0934 - val_mse: 1486751.5000\n",
      "Epoch 18/100\n",
      "11/18 [=================>............] - ETA: 0s - loss: 123.9140 - mae: 123.9140 - mse: 81702.1484INFO:tensorflow:Assets written to: model_experiments\\model_1_dense\\assets\n",
      "18/18 [==============================] - 2s 92ms/step - loss: 123.0310 - mae: 123.0310 - mse: 82636.4531 - val_loss: 640.5707 - val_mae: 640.5707 - val_mse: 1417285.2500\n",
      "Epoch 19/100\n",
      "17/18 [===========================>..] - ETA: 0s - loss: 118.6941 - mae: 118.6941 - mse: 79475.2188INFO:tensorflow:Assets written to: model_experiments\\model_1_dense\\assets\n",
      "18/18 [==============================] - 1s 83ms/step - loss: 118.2137 - mae: 118.2137 - mse: 79318.5938 - val_loss: 639.8856 - val_mae: 639.8856 - val_mse: 1387660.2500\n",
      "Epoch 20/100\n",
      "18/18 [==============================] - 0s 11ms/step - loss: 119.8623 - mae: 119.8623 - mse: 81234.0703 - val_loss: 724.5817 - val_mae: 724.5817 - val_mse: 1580515.3750\n",
      "Epoch 21/100\n",
      "16/18 [=========================>....] - ETA: 0s - loss: 116.7908 - mae: 116.7908 - mse: 79925.1250INFO:tensorflow:Assets written to: model_experiments\\model_1_dense\\assets\n",
      "18/18 [==============================] - 2s 105ms/step - loss: 116.6774 - mae: 116.6774 - mse: 79663.5703 - val_loss: 623.3162 - val_mae: 623.3162 - val_mse: 1353402.8750\n",
      "Epoch 22/100\n",
      "18/18 [==============================] - 0s 10ms/step - loss: 113.5795 - mae: 113.5795 - mse: 76168.3984 - val_loss: 685.9603 - val_mae: 685.9603 - val_mse: 1469652.5000\n",
      "Epoch 23/100\n",
      "18/18 [==============================] - 0s 13ms/step - loss: 126.4873 - mae: 126.4873 - mse: 78767.3594 - val_loss: 632.0810 - val_mae: 632.0810 - val_mse: 1348535.0000\n",
      "Epoch 24/100\n",
      "18/18 [==============================] - 0s 17ms/step - loss: 115.9162 - mae: 115.9162 - mse: 76966.7656 - val_loss: 666.4312 - val_mae: 666.4312 - val_mse: 1417275.6250\n",
      "Epoch 25/100\n",
      "18/18 [==============================] - 0s 11ms/step - loss: 114.4672 - mae: 114.4672 - mse: 76684.2500 - val_loss: 671.2448 - val_mae: 671.2448 - val_mse: 1425544.1250\n",
      "Epoch 26/100\n",
      "18/18 [==============================] - 0s 15ms/step - loss: 114.4111 - mae: 114.4111 - mse: 76073.8047 - val_loss: 669.4291 - val_mae: 669.4291 - val_mse: 1463572.5000\n",
      "Epoch 27/100\n",
      "18/18 [==============================] - 0s 9ms/step - loss: 114.8282 - mae: 114.8282 - mse: 75804.9844 - val_loss: 625.7097 - val_mae: 625.7097 - val_mse: 1319994.6250\n",
      "Epoch 28/100\n",
      "18/18 [==============================] - 0s 12ms/step - loss: 114.6344 - mae: 114.6344 - mse: 76074.0156 - val_loss: 658.9147 - val_mae: 658.9147 - val_mse: 1387292.5000\n",
      "Epoch 29/100\n",
      "12/18 [===================>..........] - ETA: 0s - loss: 118.3248 - mae: 118.3248 - mse: 83338.0703INFO:tensorflow:Assets written to: model_experiments\\model_1_dense\\assets\n",
      "18/18 [==============================] - 1s 64ms/step - loss: 112.6417 - mae: 112.6417 - mse: 74772.9688 - val_loss: 592.8770 - val_mae: 592.8770 - val_mse: 1258060.2500\n",
      "Epoch 30/100\n",
      "18/18 [==============================] - 0s 8ms/step - loss: 109.7697 - mae: 109.7697 - mse: 72941.8594 - val_loss: 621.3640 - val_mae: 621.3640 - val_mse: 1302590.1250\n",
      "Epoch 31/100\n",
      "18/18 [==============================] - 0s 9ms/step - loss: 112.5810 - mae: 112.5810 - mse: 72809.7109 - val_loss: 621.2255 - val_mae: 621.2255 - val_mse: 1321445.0000\n",
      "Epoch 32/100\n",
      "18/18 [==============================] - 0s 8ms/step - loss: 111.8140 - mae: 111.8140 - mse: 74722.0859 - val_loss: 657.4868 - val_mae: 657.4868 - val_mse: 1374547.8750\n",
      "Epoch 33/100\n",
      "18/18 [==============================] - 0s 17ms/step - loss: 112.3992 - mae: 112.3992 - mse: 73870.7422 - val_loss: 697.1695 - val_mae: 697.1695 - val_mse: 1521490.6250\n",
      "Epoch 34/100\n",
      "18/18 [==============================] - 0s 14ms/step - loss: 120.9916 - mae: 120.9916 - mse: 81325.5703 - val_loss: 606.3493 - val_mae: 606.3493 - val_mse: 1281435.6250\n",
      "Epoch 35/100\n",
      "18/18 [==============================] - 0s 14ms/step - loss: 111.4019 - mae: 111.4019 - mse: 73905.8281 - val_loss: 603.1214 - val_mae: 603.1214 - val_mse: 1272455.1250\n",
      "Epoch 36/100\n",
      "15/18 [========================>.....] - ETA: 0s - loss: 110.9150 - mae: 110.9150 - mse: 74210.4609INFO:tensorflow:Assets written to: model_experiments\\model_1_dense\\assets\n",
      "18/18 [==============================] - 1s 56ms/step - loss: 110.7947 - mae: 110.7947 - mse: 73954.8359 - val_loss: 583.1334 - val_mae: 583.1334 - val_mse: 1225717.3750\n",
      "Epoch 37/100\n",
      "18/18 [==============================] - 0s 11ms/step - loss: 114.1584 - mae: 114.1584 - mse: 75672.5781 - val_loss: 630.6846 - val_mae: 630.6846 - val_mse: 1310992.7500\n",
      "Epoch 38/100\n",
      "18/18 [==============================] - 0s 11ms/step - loss: 108.7987 - mae: 108.7987 - mse: 70821.2188 - val_loss: 605.4897 - val_mae: 605.4897 - val_mse: 1259255.2500\n",
      "Epoch 39/100\n",
      "10/18 [===============>..............] - ETA: 0s - loss: 111.0527 - mae: 111.0527 - mse: 71942.2578INFO:tensorflow:Assets written to: model_experiments\\model_1_dense\\assets\n",
      "18/18 [==============================] - 1s 63ms/step - loss: 108.7231 - mae: 108.7231 - mse: 71288.1094 - val_loss: 582.4360 - val_mae: 582.4360 - val_mse: 1222821.8750\n",
      "Epoch 40/100\n",
      "18/18 [==============================] - 0s 5ms/step - loss: 110.6515 - mae: 110.6515 - mse: 72304.6953 - val_loss: 613.0974 - val_mae: 613.0974 - val_mse: 1285957.8750\n",
      "Epoch 41/100\n",
      "18/18 [==============================] - 0s 3ms/step - loss: 109.5333 - mae: 109.5333 - mse: 70933.9531 - val_loss: 589.2753 - val_mae: 589.2753 - val_mse: 1233882.3750\n",
      "Epoch 42/100\n",
      "18/18 [==============================] - 0s 3ms/step - loss: 109.7078 - mae: 109.7078 - mse: 72553.3125 - val_loss: 585.0546 - val_mae: 585.0546 - val_mse: 1217298.8750\n",
      "Epoch 43/100\n",
      "18/18 [==============================] - 0s 3ms/step - loss: 113.7743 - mae: 113.7743 - mse: 72274.3438 - val_loss: 619.1701 - val_mae: 619.1701 - val_mse: 1295855.2500\n",
      "Epoch 44/100\n",
      "18/18 [==============================] - 0s 3ms/step - loss: 110.7388 - mae: 110.7388 - mse: 73225.0469 - val_loss: 650.7257 - val_mae: 650.7257 - val_mse: 1349004.1250\n",
      "Epoch 45/100\n",
      " 1/18 [>.............................] - ETA: 0s - loss: 120.1820 - mae: 120.1820 - mse: 87185.0469INFO:tensorflow:Assets written to: model_experiments\\model_1_dense\\assets\n",
      "18/18 [==============================] - 0s 19ms/step - loss: 114.9856 - mae: 114.9856 - mse: 75220.2891 - val_loss: 576.5219 - val_mae: 576.5219 - val_mse: 1201452.6250\n",
      "Epoch 46/100\n",
      "18/18 [==============================] - 0s 3ms/step - loss: 108.9765 - mae: 108.9765 - mse: 71879.7188 - val_loss: 578.1084 - val_mae: 578.1084 - val_mse: 1203112.2500\n",
      "Epoch 47/100\n",
      "18/18 [==============================] - 0s 3ms/step - loss: 109.3723 - mae: 109.3723 - mse: 70240.3672 - val_loss: 637.5958 - val_mae: 637.5958 - val_mse: 1333966.3750\n",
      "Epoch 48/100\n",
      "18/18 [==============================] - 0s 3ms/step - loss: 109.4198 - mae: 109.4198 - mse: 73179.6484 - val_loss: 599.8438 - val_mae: 599.8438 - val_mse: 1238454.3750\n",
      "Epoch 49/100\n",
      "18/18 [==============================] - 0s 3ms/step - loss: 110.5068 - mae: 110.5068 - mse: 73062.2734 - val_loss: 758.8058 - val_mae: 758.8058 - val_mse: 1638488.7500\n",
      "Epoch 50/100\n",
      "18/18 [==============================] - 0s 3ms/step - loss: 115.3821 - mae: 115.3821 - mse: 76484.4062 - val_loss: 580.3150 - val_mae: 580.3150 - val_mse: 1208435.6250\n",
      "Epoch 51/100\n",
      "18/18 [==============================] - 0s 3ms/step - loss: 109.4509 - mae: 109.4509 - mse: 70272.1094 - val_loss: 587.7619 - val_mae: 587.7619 - val_mse: 1222667.0000\n",
      "Epoch 52/100\n",
      "18/18 [==============================] - 0s 3ms/step - loss: 107.2963 - mae: 107.2963 - mse: 69599.5469 - val_loss: 594.4525 - val_mae: 594.4525 - val_mse: 1235604.3750\n",
      "Epoch 53/100\n",
      "18/18 [==============================] - 0s 3ms/step - loss: 107.8099 - mae: 107.8099 - mse: 69809.7266 - val_loss: 582.7250 - val_mae: 582.7250 - val_mse: 1204766.7500\n",
      "Epoch 54/100\n",
      "18/18 [==============================] - 0s 3ms/step - loss: 108.6230 - mae: 108.6230 - mse: 69036.0859 - val_loss: 643.8788 - val_mae: 643.8788 - val_mse: 1344862.0000\n",
      "Epoch 55/100\n",
      "18/18 [==============================] - 0s 3ms/step - loss: 115.1308 - mae: 115.1308 - mse: 73226.6484 - val_loss: 626.4271 - val_mae: 626.4271 - val_mse: 1302530.3750\n",
      "Epoch 56/100\n",
      "18/18 [==============================] - 0s 3ms/step - loss: 110.8354 - mae: 110.8354 - mse: 70881.8125 - val_loss: 685.8606 - val_mae: 685.8606 - val_mse: 1457290.3750\n",
      "Epoch 57/100\n",
      " 1/18 [>.............................] - ETA: 0s - loss: 82.9799 - mae: 82.9799 - mse: 24936.3926INFO:tensorflow:Assets written to: model_experiments\\model_1_dense\\assets\n",
      "18/18 [==============================] - 0s 19ms/step - loss: 113.2677 - mae: 113.2677 - mse: 73902.1953 - val_loss: 572.7579 - val_mae: 572.7579 - val_mse: 1185730.5000\n",
      "Epoch 58/100\n",
      "18/18 [==============================] - 0s 3ms/step - loss: 111.0231 - mae: 111.0231 - mse: 70895.2656 - val_loss: 641.2962 - val_mae: 641.2962 - val_mse: 1324064.0000\n",
      "Epoch 59/100\n",
      "18/18 [==============================] - 0s 3ms/step - loss: 110.6565 - mae: 110.6565 - mse: 71272.8047 - val_loss: 620.5095 - val_mae: 620.5095 - val_mse: 1286863.6250\n",
      "Epoch 60/100\n",
      "18/18 [==============================] - 0s 3ms/step - loss: 117.3662 - mae: 117.3662 - mse: 74346.7734 - val_loss: 636.7242 - val_mae: 636.7242 - val_mse: 1326709.3750\n",
      "Epoch 61/100\n",
      "18/18 [==============================] - 0s 3ms/step - loss: 117.7272 - mae: 117.7272 - mse: 73752.5156 - val_loss: 596.1838 - val_mae: 596.1838 - val_mse: 1224980.2500\n",
      "Epoch 62/100\n",
      "18/18 [==============================] - 0s 3ms/step - loss: 115.3940 - mae: 115.3940 - mse: 75198.0703 - val_loss: 645.3819 - val_mae: 645.3819 - val_mse: 1333254.0000\n",
      "Epoch 63/100\n",
      "18/18 [==============================] - 0s 3ms/step - loss: 122.3033 - mae: 122.3033 - mse: 78651.4219 - val_loss: 676.3708 - val_mae: 676.3708 - val_mse: 1404072.2500\n",
      "Epoch 64/100\n",
      "18/18 [==============================] - 0s 3ms/step - loss: 112.5551 - mae: 112.5551 - mse: 70540.6016 - val_loss: 596.2719 - val_mae: 596.2719 - val_mse: 1233024.5000\n",
      "Epoch 65/100\n",
      "18/18 [==============================] - 0s 3ms/step - loss: 108.2615 - mae: 108.2615 - mse: 69729.7109 - val_loss: 590.4877 - val_mae: 590.4877 - val_mse: 1218229.7500\n",
      "Epoch 66/100\n",
      "18/18 [==============================] - 0s 3ms/step - loss: 106.7827 - mae: 106.7827 - mse: 69170.6953 - val_loss: 658.9419 - val_mae: 658.9419 - val_mse: 1360871.7500\n",
      "Epoch 67/100\n",
      "18/18 [==============================] - 0s 3ms/step - loss: 111.2036 - mae: 111.2036 - mse: 71576.8984 - val_loss: 634.3406 - val_mae: 634.3406 - val_mse: 1304417.3750\n",
      "Epoch 68/100\n",
      " 1/18 [>.............................] - ETA: 0s - loss: 132.7836 - mae: 132.7836 - mse: 72658.7578INFO:tensorflow:Assets written to: model_experiments\\model_1_dense\\assets\n",
      "18/18 [==============================] - 0s 19ms/step - loss: 110.8064 - mae: 110.8064 - mse: 68933.7266 - val_loss: 571.8463 - val_mae: 571.8463 - val_mse: 1181458.8750\n",
      "Epoch 69/100\n",
      " 1/18 [>.............................] - ETA: 0s - loss: 94.3911 - mae: 94.3911 - mse: 37066.1875INFO:tensorflow:Assets written to: model_experiments\\model_1_dense\\assets\n",
      "18/18 [==============================] - 0s 19ms/step - loss: 109.1828 - mae: 109.1828 - mse: 69411.6172 - val_loss: 568.6877 - val_mae: 568.6877 - val_mse: 1173473.0000\n",
      "Epoch 70/100\n",
      "18/18 [==============================] - 0s 6ms/step - loss: 107.7748 - mae: 107.7748 - mse: 69601.1797 - val_loss: 573.5305 - val_mae: 573.5305 - val_mse: 1179163.3750\n",
      "Epoch 71/100\n",
      "18/18 [==============================] - 0s 4ms/step - loss: 107.7601 - mae: 107.7601 - mse: 69684.7969 - val_loss: 570.4770 - val_mae: 570.4770 - val_mse: 1177171.3750\n",
      "Epoch 72/100\n",
      "18/18 [==============================] - 0s 3ms/step - loss: 108.7351 - mae: 108.7351 - mse: 70767.6875 - val_loss: 651.9937 - val_mae: 651.9937 - val_mse: 1356942.1250\n",
      "Epoch 73/100\n",
      "18/18 [==============================] - 0s 3ms/step - loss: 116.6771 - mae: 116.6771 - mse: 76540.0703 - val_loss: 573.4728 - val_mae: 573.4728 - val_mse: 1182970.8750\n",
      "Epoch 74/100\n",
      "18/18 [==============================] - 0s 3ms/step - loss: 113.7066 - mae: 113.7066 - mse: 73526.5938 - val_loss: 648.4836 - val_mae: 648.4836 - val_mse: 1334161.3750\n",
      "Epoch 75/100\n",
      "18/18 [==============================] - 0s 3ms/step - loss: 113.9404 - mae: 113.9404 - mse: 72668.3672 - val_loss: 574.6983 - val_mae: 574.6983 - val_mse: 1183988.3750\n",
      "Epoch 76/100\n",
      " 1/18 [>.............................] - ETA: 0s - loss: 121.3953 - mae: 121.3953 - mse: 67878.6250INFO:tensorflow:Assets written to: model_experiments\\model_1_dense\\assets\n",
      "18/18 [==============================] - 0s 19ms/step - loss: 108.3053 - mae: 108.3053 - mse: 70166.6406 - val_loss: 568.5231 - val_mae: 568.5231 - val_mse: 1171792.3750\n",
      "Epoch 77/100\n",
      "18/18 [==============================] - 0s 4ms/step - loss: 111.0983 - mae: 111.0983 - mse: 69703.3359 - val_loss: 610.5582 - val_mae: 610.5582 - val_mse: 1249642.3750\n",
      "Epoch 78/100\n",
      " 1/18 [>.............................] - ETA: 0s - loss: 110.7697 - mae: 110.7697 - mse: 70031.0000INFO:tensorflow:Assets written to: model_experiments\\model_1_dense\\assets\n",
      "18/18 [==============================] - 0s 19ms/step - loss: 106.9423 - mae: 106.9423 - mse: 68831.1641 - val_loss: 567.5944 - val_mae: 567.5944 - val_mse: 1168115.0000\n",
      "Epoch 79/100\n",
      "18/18 [==============================] - 0s 3ms/step - loss: 109.7779 - mae: 109.7779 - mse: 69946.1250 - val_loss: 567.9268 - val_mae: 567.9268 - val_mse: 1166815.7500\n",
      "Epoch 80/100\n",
      "18/18 [==============================] - 0s 3ms/step - loss: 106.6713 - mae: 106.6713 - mse: 67473.7656 - val_loss: 670.5405 - val_mae: 670.5405 - val_mse: 1387482.3750\n",
      "Epoch 81/100\n",
      "18/18 [==============================] - 0s 3ms/step - loss: 113.0378 - mae: 113.0378 - mse: 74994.0547 - val_loss: 585.8319 - val_mae: 585.8319 - val_mse: 1204016.1250\n",
      "Epoch 82/100\n",
      "18/18 [==============================] - 0s 3ms/step - loss: 106.4660 - mae: 106.4660 - mse: 68911.7500 - val_loss: 567.7001 - val_mae: 567.7001 - val_mse: 1165507.7500\n",
      "Epoch 83/100\n",
      "18/18 [==============================] - 0s 3ms/step - loss: 106.3333 - mae: 106.3333 - mse: 68449.4766 - val_loss: 593.4316 - val_mae: 593.4316 - val_mse: 1212361.3750\n",
      "Epoch 84/100\n",
      "18/18 [==============================] - 0s 3ms/step - loss: 107.3226 - mae: 107.3226 - mse: 68737.3047 - val_loss: 572.9785 - val_mae: 572.9785 - val_mse: 1178025.8750\n",
      "Epoch 85/100\n",
      "18/18 [==============================] - 0s 3ms/step - loss: 105.3746 - mae: 105.3746 - mse: 68465.4609 - val_loss: 617.9299 - val_mae: 617.9299 - val_mse: 1264604.2500\n",
      "Epoch 86/100\n",
      "18/18 [==============================] - 0s 3ms/step - loss: 107.5721 - mae: 107.5721 - mse: 69215.6875 - val_loss: 574.2270 - val_mae: 574.2270 - val_mse: 1175673.7500\n",
      "Epoch 87/100\n",
      "18/18 [==============================] - 0s 3ms/step - loss: 105.5152 - mae: 105.5152 - mse: 68105.9453 - val_loss: 577.0803 - val_mae: 577.0803 - val_mse: 1180564.6250\n",
      "Epoch 88/100\n",
      "18/18 [==============================] - 0s 3ms/step - loss: 107.1513 - mae: 107.1513 - mse: 68659.8828 - val_loss: 622.4192 - val_mae: 622.4192 - val_mse: 1280896.2500\n",
      "Epoch 89/100\n",
      "18/18 [==============================] - 0s 3ms/step - loss: 107.5123 - mae: 107.5123 - mse: 69450.0312 - val_loss: 585.0366 - val_mae: 585.0366 - val_mse: 1196537.5000\n",
      "Epoch 90/100\n",
      "18/18 [==============================] - 0s 3ms/step - loss: 109.6395 - mae: 109.6395 - mse: 70412.2969 - val_loss: 583.6490 - val_mae: 583.6490 - val_mse: 1193140.5000\n",
      "Epoch 91/100\n",
      "18/18 [==============================] - 0s 3ms/step - loss: 106.5539 - mae: 106.5539 - mse: 67907.8516 - val_loss: 605.0632 - val_mae: 605.0632 - val_mse: 1244988.1250\n",
      "Epoch 92/100\n",
      "18/18 [==============================] - 0s 3ms/step - loss: 110.6342 - mae: 110.6342 - mse: 69684.6406 - val_loss: 664.5413 - val_mae: 664.5413 - val_mse: 1385992.6250\n",
      "Epoch 93/100\n",
      "18/18 [==============================] - 0s 3ms/step - loss: 110.1842 - mae: 110.1842 - mse: 70157.8828 - val_loss: 571.2731 - val_mae: 571.2731 - val_mse: 1173993.3750\n",
      "Epoch 94/100\n",
      "18/18 [==============================] - 0s 3ms/step - loss: 109.9333 - mae: 109.9333 - mse: 71649.8984 - val_loss: 620.4999 - val_mae: 620.4999 - val_mse: 1268289.6250\n",
      "Epoch 95/100\n",
      "18/18 [==============================] - 0s 3ms/step - loss: 106.3454 - mae: 106.3454 - mse: 67092.5000 - val_loss: 612.4531 - val_mae: 612.4531 - val_mse: 1248579.6250\n",
      "Epoch 96/100\n",
      " 1/18 [>.............................] - ETA: 0s - loss: 104.9886 - mae: 104.9886 - mse: 44717.2461INFO:tensorflow:Assets written to: model_experiments\\model_1_dense\\assets\n",
      "18/18 [==============================] - 0s 19ms/step - loss: 115.2525 - mae: 115.2525 - mse: 71988.2812 - val_loss: 567.4072 - val_mae: 567.4072 - val_mse: 1165450.2500\n",
      "Epoch 97/100\n",
      " 1/18 [>.............................] - ETA: 0s - loss: 87.4720 - mae: 87.4720 - mse: 42379.8398INFO:tensorflow:Assets written to: model_experiments\\model_1_dense\\assets\n",
      "18/18 [==============================] - 0s 19ms/step - loss: 105.0750 - mae: 105.0750 - mse: 68076.5000 - val_loss: 566.6706 - val_mae: 566.6706 - val_mse: 1164459.8750\n",
      "Epoch 98/100\n",
      "18/18 [==============================] - 0s 3ms/step - loss: 107.1782 - mae: 107.1782 - mse: 68485.6250 - val_loss: 632.3243 - val_mae: 632.3243 - val_mse: 1304591.3750\n",
      "Epoch 99/100\n",
      "18/18 [==============================] - 0s 3ms/step - loss: 109.4463 - mae: 109.4463 - mse: 70883.0703 - val_loss: 613.4327 - val_mae: 613.4327 - val_mse: 1254380.3750\n",
      "Epoch 100/100\n",
      "18/18 [==============================] - 0s 3ms/step - loss: 109.6863 - mae: 109.6863 - mse: 70027.1328 - val_loss: 567.4677 - val_mae: 567.4677 - val_mse: 1165643.7500\n"
     ]
    },
    {
     "data": {
      "text/plain": [
       "<keras.callbacks.History at 0x253af2212d0>"
      ]
     },
     "execution_count": 38,
     "metadata": {},
     "output_type": "execute_result"
    }
   ],
   "source": [
    "import tensorflow as tf\n",
    "from tensorflow.keras import layers # type: ignore\n",
    "\n",
    "# Set random seed for as reporducible results as possible\n",
    "tf.random.set_seed(42)\n",
    "\n",
    "# 1. Construct the model\n",
    "model_1 = tf.keras.Sequential([\n",
    "    layers.Dense(128, activation='relu'),\n",
    "    layers.Dense(HORIZON, activation='linear')\n",
    "], name='model_1_dense') # name our model so we can save it\n",
    "\n",
    "# 2. Compile\n",
    "model_1.compile(loss='mae',\n",
    "                optimizer=tf.keras.optimizers.Adam(),\n",
    "                metrics=['mae', 'mse'])\n",
    "\n",
    "# Fit the model\n",
    "model_1.fit(x=train_windows,\n",
    "            y=train_labels,\n",
    "            epochs=100,\n",
    "            verbose=1,\n",
    "            batch_size=128,\n",
    "            validation_data=(test_windows, test_labels),\n",
    "            callbacks=[create_model_checkpoint(model_name=model_1.name)])"
   ]
  },
  {
   "cell_type": "code",
   "execution_count": 39,
   "id": "b35cc5f8",
   "metadata": {},
   "outputs": [
    {
     "name": "stdout",
     "output_type": "stream",
     "text": [
      "18/18 [==============================] - 0s 2ms/step - loss: 567.4835 - mae: 567.4835 - mse: 1165730.8750\n"
     ]
    },
    {
     "data": {
      "text/plain": [
       "[567.4835205078125, 567.4835205078125, 1165730.875]"
      ]
     },
     "execution_count": 39,
     "metadata": {},
     "output_type": "execute_result"
    }
   ],
   "source": [
    "# Evaluate model on test data (last performance - not the best)\n",
    "model_1.evaluate(test_windows, test_labels)"
   ]
  },
  {
   "cell_type": "code",
   "execution_count": 40,
   "id": "3b474323",
   "metadata": {},
   "outputs": [
    {
     "name": "stdout",
     "output_type": "stream",
     "text": [
      "18/18 [==============================] - 0s 2ms/step - loss: 566.6607 - mae: 566.6607 - mse: 1164203.5000\n"
     ]
    },
    {
     "data": {
      "text/plain": [
       "[566.6607055664062, 566.6607055664062, 1164203.5]"
      ]
     },
     "execution_count": 40,
     "metadata": {},
     "output_type": "execute_result"
    }
   ],
   "source": [
    "# Load in saved best performing model_1 and evaluate it on test data\n",
    "model_1 = tf.keras.models.load_model('model_experiments/model_1_dense/')\n",
    "model_1.evaluate(test_windows, test_labels)"
   ]
  },
  {
   "cell_type": "markdown",
   "id": "1a1a02c1",
   "metadata": {},
   "source": [
    "## Making forecasts with a model (on the test dataset)\n",
    "\n",
    "To make 'forecasts' on the dataset (note: these won't be actual forecasts, they're only pseudo forecasts actual forecasts are into the future), let's write a function to:\n",
    "\n",
    "1. Take in a train model\n",
    "2. Takes in some input data (same kind of data the model was trained on)\n",
    "3. Passes the input data to the model's `predict()` method\n",
    "4. Returns the predictions"
   ]
  },
  {
   "cell_type": "code",
   "execution_count": 41,
   "id": "9470b21a",
   "metadata": {},
   "outputs": [],
   "source": [
    "def make_preds(model, input_data):\n",
    "    \"\"\"\n",
    "    Uses model to make predictions input_data.\n",
    "    \"\"\"\n",
    "    forecast = model.predict(input_data)\n",
    "    return tf.squeeze(forecast) # return 1D array of predictions"
   ]
  },
  {
   "cell_type": "code",
   "execution_count": 42,
   "id": "93f5b9b5",
   "metadata": {},
   "outputs": [
    {
     "name": "stdout",
     "output_type": "stream",
     "text": [
      "18/18 [==============================] - 0s 973us/step\n"
     ]
    },
    {
     "data": {
      "text/plain": [
       "(551,\n",
       " <tf.Tensor: shape=(10,), dtype=float32, numpy=\n",
       " array([8724.794 , 8691.879 , 8530.466 , 8452.724 , 8536.51  , 8260.57  ,\n",
       "        8113.234 , 8064.161 , 7679.7314, 7285.795 ], dtype=float32)>)"
      ]
     },
     "execution_count": 42,
     "metadata": {},
     "output_type": "execute_result"
    }
   ],
   "source": [
    "# Make predictions using model_1 on the test dataset and view results\n",
    "model_1_preds = make_preds(model_1, test_windows)\n",
    "len(model_1_preds), model_1_preds[:10]"
   ]
  },
  {
   "cell_type": "code",
   "execution_count": 43,
   "id": "67e72b08",
   "metadata": {},
   "outputs": [
    {
     "data": {
      "text/plain": [
       "{'mae': 566.6607,\n",
       " 'mse': 1164203.6,\n",
       " 'rmse': 1078.9827,\n",
       " 'mape': 2.5253751,\n",
       " 'mase': 0.9890211}"
      ]
     },
     "execution_count": 43,
     "metadata": {},
     "output_type": "execute_result"
    }
   ],
   "source": [
    "# Evaluate preds\n",
    "model_1_results = evaluate_preds(y_true=tf.squeeze(test_labels),\n",
    "                                 y_pred=model_1_preds)\n",
    "model_1_results"
   ]
  },
  {
   "cell_type": "code",
   "execution_count": 44,
   "id": "9b6b48ce",
   "metadata": {},
   "outputs": [
    {
     "data": {
      "text/plain": [
       "{'mae': 567.9802,\n",
       " 'mse': 1147547.0,\n",
       " 'rmse': 1071.2362,\n",
       " 'mape': 2.516525,\n",
       " 'mase': 0.99957}"
      ]
     },
     "execution_count": 44,
     "metadata": {},
     "output_type": "execute_result"
    }
   ],
   "source": [
    "naive_results"
   ]
  },
  {
   "cell_type": "code",
   "execution_count": 45,
   "id": "886ffc00",
   "metadata": {},
   "outputs": [
    {
     "data": {
      "image/png": "[encoded data removed]",
      "text/plain": [
       "<Figure size 1000x700 with 1 Axes>"
      ]
     },
     "metadata": {},
     "output_type": "display_data"
    }
   ],
   "source": [
    "# Let's plot our model 1 predictions\n",
    "offset = 300\n",
    "plt.figure(figsize=(10, 7))\n",
    "# Account for the test_window offset and index into test_labels to ensure correct plotting\n",
    "plot_time_series(timesteps=X_test[-len(test_windows):], values=test_labels[:, 0], start=offset, label='Test Data')\n",
    "\n",
    "plot_time_series(timesteps=X_test[-len(test_windows):], values=model_1_preds, start=offset, format='-', label='Model 1 Preds')"
   ]
  },
  {
   "cell_type": "markdown",
   "id": "e2cae249",
   "metadata": {},
   "source": [
    "## Model 2: Dense (window = 30, horizon = 1)"
   ]
  },
  {
   "cell_type": "code",
   "execution_count": 46,
   "id": "1984ac3e",
   "metadata": {},
   "outputs": [],
   "source": [
    "HORIZON = 1 # predict one step at a time (one day of Bitcoin prices)\n",
    "WINDOW_SIZE = 30 # use 30 timesteps in past"
   ]
  },
  {
   "cell_type": "code",
   "execution_count": 47,
   "id": "55f9ad76",
   "metadata": {},
   "outputs": [
    {
     "data": {
      "text/plain": [
       "(2757, 2757)"
      ]
     },
     "execution_count": 47,
     "metadata": {},
     "output_type": "execute_result"
    }
   ],
   "source": [
    "# Make window data with appropriate horizon and window sizes\n",
    "full_windows, full_labels = make_windows(prices, window_size=WINDOW_SIZE, horizon=HORIZON)\n",
    "len(full_windows), len(full_labels)"
   ]
  },
  {
   "cell_type": "code",
   "execution_count": 48,
   "id": "9db41bdc",
   "metadata": {},
   "outputs": [
    {
     "data": {
      "text/plain": [
       "(2229, 528, 2229, 528)"
      ]
     },
     "execution_count": 48,
     "metadata": {},
     "output_type": "execute_result"
    }
   ],
   "source": [
    "# Make train and testing windows\n",
    "train_windows, test_windows, train_labels, test_labels = make_train_test_splits(windows=full_windows,\n",
    "                                                                                labels=full_labels,\n",
    "                                                                                test_split=0.2)\n",
    "len(train_windows), len(test_windows), len(train_labels), len(test_labels)"
   ]
  },
  {
   "cell_type": "code",
   "execution_count": 49,
   "id": "6d9d578d",
   "metadata": {},
   "outputs": [
    {
     "name": "stdout",
     "output_type": "stream",
     "text": [
      "INFO:tensorflow:Assets written to: model_experiments\\model_2_dense\\assets\n",
      "INFO:tensorflow:Assets written to: model_experiments\\model_2_dense\\assets\n",
      "INFO:tensorflow:Assets written to: model_experiments\\model_2_dense\\assets\n",
      "INFO:tensorflow:Assets written to: model_experiments\\model_2_dense\\assets\n",
      "INFO:tensorflow:Assets written to: model_experiments\\model_2_dense\\assets\n",
      "INFO:tensorflow:Assets written to: model_experiments\\model_2_dense\\assets\n",
      "INFO:tensorflow:Assets written to: model_experiments\\model_2_dense\\assets\n",
      "INFO:tensorflow:Assets written to: model_experiments\\model_2_dense\\assets\n",
      "INFO:tensorflow:Assets written to: model_experiments\\model_2_dense\\assets\n",
      "INFO:tensorflow:Assets written to: model_experiments\\model_2_dense\\assets\n",
      "INFO:tensorflow:Assets written to: model_experiments\\model_2_dense\\assets\n",
      "INFO:tensorflow:Assets written to: model_experiments\\model_2_dense\\assets\n",
      "INFO:tensorflow:Assets written to: model_experiments\\model_2_dense\\assets\n",
      "INFO:tensorflow:Assets written to: model_experiments\\model_2_dense\\assets\n",
      "INFO:tensorflow:Assets written to: model_experiments\\model_2_dense\\assets\n",
      "INFO:tensorflow:Assets written to: model_experiments\\model_2_dense\\assets\n",
      "INFO:tensorflow:Assets written to: model_experiments\\model_2_dense\\assets\n",
      "INFO:tensorflow:Assets written to: model_experiments\\model_2_dense\\assets\n",
      "INFO:tensorflow:Assets written to: model_experiments\\model_2_dense\\assets\n",
      "INFO:tensorflow:Assets written to: model_experiments\\model_2_dense\\assets\n",
      "INFO:tensorflow:Assets written to: model_experiments\\model_2_dense\\assets\n",
      "INFO:tensorflow:Assets written to: model_experiments\\model_2_dense\\assets\n",
      "INFO:tensorflow:Assets written to: model_experiments\\model_2_dense\\assets\n",
      "INFO:tensorflow:Assets written to: model_experiments\\model_2_dense\\assets\n",
      "INFO:tensorflow:Assets written to: model_experiments\\model_2_dense\\assets\n"
     ]
    },
    {
     "data": {
      "text/plain": [
       "<keras.callbacks.History at 0x25572f178e0>"
      ]
     },
     "execution_count": 49,
     "metadata": {},
     "output_type": "execute_result"
    }
   ],
   "source": [
    "tf.random.set_seed(42)\n",
    "\n",
    "# Create model\n",
    "model_2 = tf.keras.Sequential([\n",
    "    layers.Dense(128, activation='relu'),\n",
    "    layers.Dense(HORIZON)\n",
    "], name='model_2_dense')\n",
    "\n",
    "# Compile model\n",
    "model_2.compile(loss='mae',\n",
    "                optimizer=tf.keras.optimizers.Adam())\n",
    "\n",
    "# Fit\n",
    "model_2.fit(train_windows,\n",
    "            train_labels,\n",
    "            epochs=100,\n",
    "            batch_size=128,\n",
    "            verbose=0,\n",
    "            validation_data=(test_windows, test_labels),\n",
    "            callbacks=[create_model_checkpoint(model_name=model_2.name)])"
   ]
  },
  {
   "cell_type": "code",
   "execution_count": 50,
   "id": "8105caa5",
   "metadata": {},
   "outputs": [
    {
     "name": "stdout",
     "output_type": "stream",
     "text": [
      "17/17 [==============================] - 0s 2ms/step - loss: 661.1111\n"
     ]
    },
    {
     "data": {
      "text/plain": [
       "661.111083984375"
      ]
     },
     "execution_count": 50,
     "metadata": {},
     "output_type": "execute_result"
    }
   ],
   "source": [
    "# Evaluate model 2 on test data\n",
    "model_2.evaluate(test_windows, test_labels)"
   ]
  },
  {
   "cell_type": "code",
   "execution_count": 51,
   "id": "576cc0b8",
   "metadata": {},
   "outputs": [
    {
     "name": "stdout",
     "output_type": "stream",
     "text": [
      "17/17 [==============================] - 0s 1ms/step - loss: 643.4410\n"
     ]
    },
    {
     "data": {
      "text/plain": [
       "643.4410400390625"
      ]
     },
     "execution_count": 51,
     "metadata": {},
     "output_type": "execute_result"
    }
   ],
   "source": [
    "# Load in the best performing model\n",
    "model_2 = tf.keras.models.load_model('model_experiments/model_2_dense/')\n",
    "model_2.evaluate(test_windows, test_labels)"
   ]
  },
  {
   "cell_type": "code",
   "execution_count": 52,
   "id": "16830931",
   "metadata": {},
   "outputs": [
    {
     "name": "stdout",
     "output_type": "stream",
     "text": [
      "17/17 [==============================] - 0s 909us/step\n"
     ]
    }
   ],
   "source": [
    "# Get forecast predictions\n",
    "model_2_preds = make_preds(model_2,\n",
    "                           input_data=test_windows)"
   ]
  },
  {
   "cell_type": "code",
   "execution_count": 53,
   "id": "4a35b2c8",
   "metadata": {},
   "outputs": [
    {
     "data": {
      "text/plain": [
       "(TensorShape([528]), TensorShape([528]))"
      ]
     },
     "execution_count": 53,
     "metadata": {},
     "output_type": "execute_result"
    }
   ],
   "source": [
    "tf.squeeze(test_labels).shape, model_2_preds.shape"
   ]
  },
  {
   "cell_type": "code",
   "execution_count": 54,
   "id": "81997755",
   "metadata": {},
   "outputs": [
    {
     "data": {
      "text/plain": [
       "{'mae': 643.441,\n",
       " 'mse': 1389725.9,\n",
       " 'rmse': 1178.8663,\n",
       " 'mape': 2.8053696,\n",
       " 'mase': 1.0890735}"
      ]
     },
     "execution_count": 54,
     "metadata": {},
     "output_type": "execute_result"
    }
   ],
   "source": [
    "# Evaluate results for model 2 predictions\n",
    "model_2_results = evaluate_preds(y_true=tf.squeeze(test_labels),\n",
    "                                 y_pred=model_2_preds)\n",
    "model_2_results"
   ]
  },
  {
   "cell_type": "code",
   "execution_count": 55,
   "id": "982bdaa0",
   "metadata": {},
   "outputs": [
    {
     "data": {
      "text/plain": [
       "{'mae': 566.6607,\n",
       " 'mse': 1164203.6,\n",
       " 'rmse': 1078.9827,\n",
       " 'mape': 2.5253751,\n",
       " 'mase': 0.9890211}"
      ]
     },
     "execution_count": 55,
     "metadata": {},
     "output_type": "execute_result"
    }
   ],
   "source": [
    "model_1_results"
   ]
  },
  {
   "cell_type": "code",
   "execution_count": 56,
   "id": "a1f9ba91",
   "metadata": {},
   "outputs": [
    {
     "data": {
      "image/png": "[encoded data removed]",
      "text/plain": [
       "<Figure size 1000x700 with 1 Axes>"
      ]
     },
     "metadata": {},
     "output_type": "display_data"
    }
   ],
   "source": [
    "offset = 300\n",
    "plt.figure(figsize=(10, 7))\n",
    "# Account for test_window offset when plotting\n",
    "plot_time_series(timesteps=X_test[-len(test_windows):], values=test_labels[:, 0], start=offset, label='Test Data')\n",
    "plot_time_series(timesteps=X_test[-len(test_windows):], values=model_2_preds, start=offset, format='-', label='model_2_preds')"
   ]
  },
  {
   "cell_type": "markdown",
   "id": "c0113fea",
   "metadata": {},
   "source": [
    "## Model 3: Dense (window = 30, horizon = 7)\n",
    "\n"
   ]
  },
  {
   "cell_type": "code",
   "execution_count": 57,
   "id": "887cc5e4",
   "metadata": {},
   "outputs": [
    {
     "data": {
      "text/plain": [
       "(2751, 2751)"
      ]
     },
     "execution_count": 57,
     "metadata": {},
     "output_type": "execute_result"
    }
   ],
   "source": [
    "HORIZON = 7\n",
    "WINDOW_SIZE = 30\n",
    "\n",
    "full_windows, full_labels = make_windows(prices, window_size=WINDOW_SIZE, horizon=HORIZON)\n",
    "len(full_windows), len(full_labels)"
   ]
  },
  {
   "cell_type": "code",
   "execution_count": 58,
   "id": "6e79caa1",
   "metadata": {},
   "outputs": [
    {
     "data": {
      "text/plain": [
       "(2229, 522, 2229, 522)"
      ]
     },
     "execution_count": 58,
     "metadata": {},
     "output_type": "execute_result"
    }
   ],
   "source": [
    "train_windows, test_windows, train_labels, test_labels = make_train_test_splits(windows=full_windows,\n",
    "                                                                                labels=full_labels,\n",
    "                                                                                test_split=0.2)\n",
    "len(train_windows), len(test_windows), len(train_labels), len(test_labels)"
   ]
  },
  {
   "cell_type": "code",
   "execution_count": 59,
   "id": "23124476",
   "metadata": {},
   "outputs": [
    {
     "name": "stdout",
     "output_type": "stream",
     "text": [
      "INFO:tensorflow:Assets written to: model_experiments\\model_3_dense\\assets\n",
      "INFO:tensorflow:Assets written to: model_experiments\\model_3_dense\\assets\n",
      "INFO:tensorflow:Assets written to: model_experiments\\model_3_dense\\assets\n",
      "INFO:tensorflow:Assets written to: model_experiments\\model_3_dense\\assets\n",
      "INFO:tensorflow:Assets written to: model_experiments\\model_3_dense\\assets\n",
      "INFO:tensorflow:Assets written to: model_experiments\\model_3_dense\\assets\n",
      "INFO:tensorflow:Assets written to: model_experiments\\model_3_dense\\assets\n",
      "INFO:tensorflow:Assets written to: model_experiments\\model_3_dense\\assets\n",
      "INFO:tensorflow:Assets written to: model_experiments\\model_3_dense\\assets\n",
      "INFO:tensorflow:Assets written to: model_experiments\\model_3_dense\\assets\n",
      "INFO:tensorflow:Assets written to: model_experiments\\model_3_dense\\assets\n",
      "INFO:tensorflow:Assets written to: model_experiments\\model_3_dense\\assets\n",
      "INFO:tensorflow:Assets written to: model_experiments\\model_3_dense\\assets\n",
      "INFO:tensorflow:Assets written to: model_experiments\\model_3_dense\\assets\n",
      "INFO:tensorflow:Assets written to: model_experiments\\model_3_dense\\assets\n",
      "INFO:tensorflow:Assets written to: model_experiments\\model_3_dense\\assets\n",
      "INFO:tensorflow:Assets written to: model_experiments\\model_3_dense\\assets\n",
      "INFO:tensorflow:Assets written to: model_experiments\\model_3_dense\\assets\n",
      "INFO:tensorflow:Assets written to: model_experiments\\model_3_dense\\assets\n",
      "INFO:tensorflow:Assets written to: model_experiments\\model_3_dense\\assets\n",
      "INFO:tensorflow:Assets written to: model_experiments\\model_3_dense\\assets\n",
      "INFO:tensorflow:Assets written to: model_experiments\\model_3_dense\\assets\n",
      "INFO:tensorflow:Assets written to: model_experiments\\model_3_dense\\assets\n"
     ]
    },
    {
     "data": {
      "text/plain": [
       "<keras.callbacks.History at 0x255ad8d7580>"
      ]
     },
     "execution_count": 59,
     "metadata": {},
     "output_type": "execute_result"
    }
   ],
   "source": [
    "tf.random.set_seed(42)\n",
    "\n",
    "# Create model\n",
    "model_3 = tf.keras.Sequential([\n",
    "    layers.Dense(128, activation='relu'),\n",
    "    layers.Dense(HORIZON)\n",
    "], name='model_3_dense')\n",
    "\n",
    "# Compile\n",
    "model_3.compile(loss='mae',\n",
    "                optimizer=tf.keras.optimizers.Adam())\n",
    "\n",
    "# Fit\n",
    "model_3.fit(train_windows,\n",
    "            train_labels,\n",
    "            batch_size=128,\n",
    "            epochs=100,\n",
    "            verbose=0,\n",
    "            validation_data=(test_windows, test_labels),\n",
    "            callbacks=[create_model_checkpoint(model_name=model_3.name)])"
   ]
  },
  {
   "cell_type": "code",
   "execution_count": 60,
   "id": "4c40baa7",
   "metadata": {},
   "outputs": [
    {
     "name": "stdout",
     "output_type": "stream",
     "text": [
      "17/17 [==============================] - 0s 1ms/step - loss: 1354.2598\n"
     ]
    },
    {
     "data": {
      "text/plain": [
       "1354.259765625"
      ]
     },
     "execution_count": 60,
     "metadata": {},
     "output_type": "execute_result"
    }
   ],
   "source": [
    "# Evaluate the model on the test data\n",
    "model_3.evaluate(test_windows, test_labels)"
   ]
  },
  {
   "cell_type": "code",
   "execution_count": 61,
   "id": "7a7a83c6",
   "metadata": {},
   "outputs": [
    {
     "name": "stdout",
     "output_type": "stream",
     "text": [
      "17/17 [==============================] - 0s 1ms/step - loss: 1280.3214\n"
     ]
    },
    {
     "data": {
      "text/plain": [
       "1280.3214111328125"
      ]
     },
     "execution_count": 61,
     "metadata": {},
     "output_type": "execute_result"
    }
   ],
   "source": [
    "# Load best version of model_3 and evaluate\n",
    "model_3 = tf.keras.models.load_model('model_experiments/model_3_dense/')\n",
    "model_3.evaluate(test_windows, test_labels)"
   ]
  },
  {
   "cell_type": "code",
   "execution_count": 62,
   "id": "796cb207",
   "metadata": {},
   "outputs": [
    {
     "name": "stdout",
     "output_type": "stream",
     "text": [
      "17/17 [==============================] - 0s 749us/step\n"
     ]
    },
    {
     "data": {
      "text/plain": [
       "TensorShape([522, 7])"
      ]
     },
     "execution_count": 62,
     "metadata": {},
     "output_type": "execute_result"
    }
   ],
   "source": [
    "# Make predictions with model_3\n",
    "model_3_preds = make_preds(model_3,\n",
    "                           input_data=test_windows)\n",
    "model_3_preds.shape"
   ]
  },
  {
   "cell_type": "code",
   "execution_count": 63,
   "id": "51f272aa",
   "metadata": {},
   "outputs": [
    {
     "data": {
      "text/plain": [
       "(TensorShape([522, 7]), TensorShape([528]))"
      ]
     },
     "execution_count": 63,
     "metadata": {},
     "output_type": "execute_result"
    }
   ],
   "source": [
    "model_3_preds.shape, model_2_preds.shape"
   ]
  },
  {
   "cell_type": "code",
   "execution_count": 64,
   "id": "ccec3843",
   "metadata": {},
   "outputs": [
    {
     "data": {
      "text/plain": [
       "{'mae': array([  158.70369 ,   222.83244 ,   378.70404 ,   257.3369  ,\n",
       "          265.42145 ,   289.4668  ,   256.29526 ,   286.05658 ,\n",
       "          248.98221 ,   244.84543 ,   250.11977 ,   445.5143  ,\n",
       "           80.508995,    91.65255 ,    64.11433 ,    79.27923 ,\n",
       "          141.08684 ,   159.78035 ,   107.949356,    70.583565,\n",
       "           94.464424,   134.02902 ,   112.30573 ,   214.40793 ,\n",
       "          212.40828 ,   287.94482 ,   372.0805  ,   571.45703 ,\n",
       "          458.19635 ,   527.5312  ,   514.25775 ,   326.3674  ,\n",
       "          235.0196  ,   294.9555  ,   340.47607 ,   428.7424  ,\n",
       "          494.03433 ,   441.1109  ,   546.76135 ,   149.63002 ,\n",
       "          244.81961 ,   262.1455  ,   474.2712  ,   520.506   ,\n",
       "          497.05093 ,   352.28278 ,   386.74918 ,   433.49652 ,\n",
       "          434.82242 ,   522.0728  ,   714.3559  ,   721.5933  ,\n",
       "          560.04047 ,   257.25195 ,   131.85951 ,   211.59793 ,\n",
       "          255.19908 ,   299.37515 ,   347.12906 ,   433.1691  ,\n",
       "          577.09625 ,   491.45898 ,   426.25726 ,   295.6939  ,\n",
       "          158.51381 ,   177.10728 ,   256.9721  ,   390.7998  ,\n",
       "          570.6758  ,   626.90265 ,   861.0629  ,   458.5555  ,\n",
       "          315.59863 ,   192.69894 ,   361.73312 ,   344.51813 ,\n",
       "          325.28265 ,   441.27582 ,   598.68805 ,  1062.2294  ,\n",
       "          971.3714  ,   839.19934 ,   363.02762 ,   231.28236 ,\n",
       "          229.81111 ,   246.08482 ,   280.6397  ,   355.5076  ,\n",
       "          476.95084 ,   572.3503  ,  1154.0271  ,  1697.192   ,\n",
       "         2276.8684  ,  2060.7363  ,  1981.6565  ,  2286.0776  ,\n",
       "         2636.8716  ,  1310.0879  ,   647.18787 ,   555.9888  ,\n",
       "          485.13287 ,   350.0637  ,   478.9184  ,   524.29333 ,\n",
       "          416.31815 ,   310.8374  ,   213.46346 ,   301.96625 ,\n",
       "          189.78035 ,   432.54584 ,   310.764   ,   311.18192 ,\n",
       "          363.15756 ,   447.8893  ,   721.74274 ,   765.98615 ,\n",
       "          638.674   ,   470.50748 ,   251.19524 ,   241.59584 ,\n",
       "          197.91301 ,   215.51486 ,   320.23276 ,   454.9094  ,\n",
       "          568.5995  ,   417.5784  ,   232.67697 ,   198.58105 ,\n",
       "          302.12674 ,   193.57422 ,   182.87375 ,   335.6818  ,\n",
       "          214.01994 ,   268.54172 ,   321.98102 ,   304.76318 ,\n",
       "          326.48312 ,   549.9421  ,   713.53766 ,   521.1285  ,\n",
       "          598.2129  ,   822.3209  ,   950.05457 ,   904.07965 ,\n",
       "         1039.9846  ,   408.82184 ,   284.12164 ,   411.3182  ,\n",
       "          380.34695 ,   383.4011  ,   361.7984  ,   434.3969  ,\n",
       "          473.8732  ,   710.90137 ,   998.9079  ,   904.7567  ,\n",
       "          325.04883 ,   491.33133 ,   652.84125 ,   291.97964 ,\n",
       "          254.15527 ,   201.81125 ,   189.88254 ,   353.89078 ,\n",
       "          542.4238  ,   655.5141  ,   567.6119  ,   252.9301  ,\n",
       "          274.63406 ,   354.59152 ,   402.417   ,   485.18484 ,\n",
       "          738.0773  ,   629.4799  ,   342.58203 ,   217.32883 ,\n",
       "          231.35715 ,   236.06334 ,   505.76465 ,   221.01102 ,\n",
       "          177.9576  ,   232.46066 ,   178.34264 ,   241.05008 ,\n",
       "          140.49205 ,   306.52078 ,   399.6939  ,   636.75696 ,\n",
       "          136.04631 ,   159.8464  ,   194.40388 ,   188.08244 ,\n",
       "          251.22922 ,   211.81375 ,   249.05078 ,   184.69057 ,\n",
       "          132.4506  ,   153.11998 ,   206.62193 ,   398.893   ,\n",
       "          522.25055 ,   355.33746 ,   276.54242 ,   194.69615 ,\n",
       "           77.05804 ,    84.46708 ,   113.9043  ,   121.07213 ,\n",
       "          209.40193 ,   145.59514 ,   114.75781 ,    96.83956 ,\n",
       "           88.240654,   107.42076 ,   117.20299 ,   277.04855 ,\n",
       "          203.19588 ,   152.58176 ,   149.65388 ,   135.48592 ,\n",
       "          179.07994 ,   171.73619 ,   176.92033 ,   200.66434 ,\n",
       "          230.41545 ,   251.16281 ,   274.0713  ,   545.80164 ,\n",
       "          654.8714  ,   736.8779  ,   875.25055 ,  1058.2698  ,\n",
       "         1305.4628  ,  1260.5842  ,   392.1169  ,   146.73088 ,\n",
       "          231.89355 ,   257.23032 ,   369.34207 ,   498.75516 ,\n",
       "          174.05287 ,   140.3178  ,   213.94252 ,   156.49498 ,\n",
       "          439.67453 ,   351.8602  ,   367.3686  ,   283.66086 ,\n",
       "          443.56235 ,   217.74791 ,   264.      ,   218.14453 ,\n",
       "          136.68568 ,   241.33469 ,   215.2765  ,   497.86215 ,\n",
       "          495.05804 ,   325.51157 ,   213.1243  ,   189.13463 ,\n",
       "          289.09055 ,   267.46722 ,   326.13672 ,   223.4509  ,\n",
       "          171.56961 ,   289.44894 ,   353.1434  ,   578.2157  ,\n",
       "          822.6786  ,  1124.8729  ,  1489.6241  ,  1484.7695  ,\n",
       "          865.3291  ,   548.07074 ,   187.98912 ,   133.69002 ,\n",
       "          160.28    ,   274.1141  ,   229.82771 ,   317.08105 ,\n",
       "          301.40778 ,   252.67117 ,   364.77457 ,   158.28084 ,\n",
       "          127.86091 ,   351.73813 ,   445.0109  ,   360.39355 ,\n",
       "          459.3277  ,   365.71945 ,   162.54576 ,   209.49358 ,\n",
       "          346.87918 ,   149.13615 ,   143.62389 ,   173.33342 ,\n",
       "          253.06209 ,   330.64133 ,   353.96945 ,   298.05844 ,\n",
       "          192.28474 ,   234.5586  ,   290.94754 ,   352.5604  ,\n",
       "          416.67188 ,   527.98145 ,   591.04144 ,   523.7819  ,\n",
       "          373.18903 ,    83.25279 ,   103.33454 ,   321.59613 ,\n",
       "          324.11496 ,   480.15082 ,   630.154   ,   797.3024  ,\n",
       "          989.0381  ,  1175.7821  ,  1115.1672  ,  1112.242   ,\n",
       "          216.10924 ,   311.7239  ,   254.59612 ,   269.71625 ,\n",
       "          316.10226 ,   234.86356 ,   291.22168 ,   195.98074 ,\n",
       "          470.6762  ,   679.66907 ,   732.2192  ,   766.02356 ,\n",
       "          973.18585 ,  1151.1321  ,  1051.3464  ,   381.23032 ,\n",
       "          557.6812  ,   476.2902  ,   374.5381  ,   566.1578  ,\n",
       "          755.1829  ,   771.1352  ,   898.98645 ,  1074.3182  ,\n",
       "         1219.8933  ,  1774.2135  ,  1492.6686  ,   688.59735 ,\n",
       "          374.60184 ,   478.56976 ,   586.72906 ,  1016.1172  ,\n",
       "         1160.5321  ,  1112.7717  ,  1258.0575  ,  1072.5879  ,\n",
       "          843.64703 ,  1505.1024  ,  1485.2272  ,   918.72626 ,\n",
       "          284.4961  ,   270.82227 ,   509.6638  ,  1000.49695 ,\n",
       "          554.63586 ,   631.14453 ,   684.74133 ,   648.2341  ,\n",
       "          566.22406 ,   893.70984 ,  1598.9852  ,  2302.5864  ,\n",
       "         2665.7795  ,  2909.926   ,  3150.898   ,  3428.0552  ,\n",
       "         2217.4094  ,   592.5499  ,   587.0589  ,  1163.0809  ,\n",
       "         1330.9034  ,  1449.2526  ,  1742.2799  ,  2437.7083  ,\n",
       "         2928.8774  ,  2864.646   ,  2202.2324  ,  2422.4421  ,\n",
       "         2408.3103  ,  3253.2715  ,  2893.408   ,  3626.8162  ,\n",
       "         4832.361   ,  4264.8037  ,  4207.      ,  4326.068   ,\n",
       "         3140.908   ,  2429.4458  ,  2439.091   ,  4599.854   ,\n",
       "         5383.3916  ,  5100.3667  ,  1255.5306  ,  1012.0078  ,\n",
       "         1138.9023  ,  3417.9158  ,  3456.7126  ,  2645.631   ,\n",
       "         2691.5078  ,  3610.8066  ,  4459.4204  ,  3756.978   ,\n",
       "          891.1275  ,  1314.4347  ,  1644.9102  ,  1863.962   ,\n",
       "         1640.1074  ,  2489.1301  ,  3573.3696  ,  3023.5125  ,\n",
       "         2085.3433  ,  2052.6606  ,  2748.6675  ,  4867.518   ,\n",
       "         5010.587   ,  4514.754   ,  4953.8726  ,  6537.727   ,\n",
       "         6307.4136  ,  7517.128   ,  4416.6377  ,  1428.5178  ,\n",
       "         1764.0814  ,  1617.6345  ,  2831.6462  ,  2716.1367  ,\n",
       "         2728.2417  ,  3124.9827  ,  2842.9553  ,  2282.0574  ,\n",
       "         3251.8286  ,  6175.442   ,  7491.4385  , 10429.739   ,\n",
       "        10098.526   ,  4051.1567  ,  2890.9453  ,  2501.2947  ,\n",
       "         2021.0781  ,  2744.9783  ,  5301.5117  ,  2687.427   ,\n",
       "         2458.6206  ,  2836.2183  ,  3522.394   ,  4728.332   ,\n",
       "         6256.077   ,  6197.622   ,  6017.9634  ,  4209.32    ,\n",
       "         1776.4113  ,  1745.3544  ,  1458.49    ,  1544.515   ,\n",
       "         3155.193   ,  1637.0334  ,  1160.783   ,  2616.568   ,\n",
       "         3950.1824  ,  5708.273   ,  5163.1206  ,  5422.3784  ,\n",
       "         2404.24    ,  2028.3192  ,  2882.846   ,  4281.4907  ,\n",
       "         3640.9348  ,  2711.9011  ,  2429.9414  ,  1639.2941  ,\n",
       "          522.894   ,   924.29016 ,  1270.2767  ,   585.9593  ,\n",
       "          934.90234 ,  1600.7188  ,  1556.346   ,  1757.317   ,\n",
       "         2608.7942  ,  3239.9075  ,  3457.096   ,  1889.6289  ,\n",
       "         1876.3041  ,  2317.1914  ,  3831.6255  ,  6112.274   ,\n",
       "         7874.2197  ,  8511.5205  ,  8077.644   ,  6021.316   ,\n",
       "         4282.599   ,  4342.4683  ,  3141.3499  ,  2053.9258  ,\n",
       "         3229.405   ,  3938.9219  ,  5309.72    ,  3053.987   ,\n",
       "         1660.403   ,  1537.14    ,  2307.0222  ,  1518.0056  ,\n",
       "         2282.058   ,  1581.1044  ,  1711.5848  ,  2650.0876  ,\n",
       "         1286.6439  ,  2340.4832  ,  3375.2886  ,  5726.6226  ,\n",
       "         7056.2173  ,  8129.309   ], dtype=float32),\n",
       " 'mse': array([3.38214766e+04, 6.02953398e+04, 1.49374469e+05, 7.49051328e+04,\n",
       "        1.23575766e+05, 1.33602516e+05, 1.10192820e+05, 1.56514953e+05,\n",
       "        1.15792070e+05, 9.55157422e+04, 8.38086406e+04, 2.17312547e+05,\n",
       "        8.31630566e+03, 9.51101465e+03, 5.28220410e+03, 1.00216006e+04,\n",
       "        2.73786699e+04, 3.40773164e+04, 1.91934316e+04, 5.97815723e+03,\n",
       "        1.84055742e+04, 2.66770566e+04, 2.26400508e+04, 7.25720078e+04,\n",
       "        8.62152422e+04, 1.36655922e+05, 2.62990469e+05, 4.26807656e+05,\n",
       "        2.85824781e+05, 3.40157719e+05, 2.95971688e+05, 1.27300984e+05,\n",
       "        1.26786023e+05, 1.50224672e+05, 2.35342891e+05, 3.22007812e+05,\n",
       "        3.26944219e+05, 2.17663281e+05, 3.13025062e+05, 2.92602715e+04,\n",
       "        7.87907344e+04, 9.66249531e+04, 2.56252328e+05, 2.81426844e+05,\n",
       "        2.71372844e+05, 1.58478641e+05, 1.87001719e+05, 2.21720078e+05,\n",
       "        2.83463188e+05, 4.13958844e+05, 6.42143688e+05, 5.66570438e+05,\n",
       "        3.33428188e+05, 7.79817891e+04, 3.02132461e+04, 5.39140078e+04,\n",
       "        8.99111641e+04, 1.46898500e+05, 1.81367672e+05, 2.42133359e+05,\n",
       "        3.92706344e+05, 3.37180906e+05, 2.43639547e+05, 1.05663789e+05,\n",
       "        3.39863008e+04, 4.86084492e+04, 9.24341406e+04, 2.46000375e+05,\n",
       "        3.94402719e+05, 4.68243219e+05, 7.95135688e+05, 2.39016672e+05,\n",
       "        1.31643609e+05, 4.96758633e+04, 1.53027781e+05, 2.30168078e+05,\n",
       "        2.24232906e+05, 3.20007250e+05, 4.65952500e+05, 1.30650612e+06,\n",
       "        1.02256831e+06, 7.39930875e+05, 1.51508266e+05, 8.53857656e+04,\n",
       "        8.35721094e+04, 7.65138125e+04, 9.00117969e+04, 1.84820453e+05,\n",
       "        3.56669156e+05, 4.53319562e+05, 2.26541875e+06, 4.19361325e+06,\n",
       "        6.57593050e+06, 5.56274650e+06, 5.20899600e+06, 6.11249850e+06,\n",
       "        7.02758450e+06, 1.83712988e+06, 4.81268438e+05, 4.00439781e+05,\n",
       "        3.07356281e+05, 1.96969469e+05, 3.22073000e+05, 3.72711906e+05,\n",
       "        2.37256406e+05, 1.57065984e+05, 6.63044141e+04, 1.16890211e+05,\n",
       "        6.83475156e+04, 2.68326062e+05, 1.91290156e+05, 1.96214516e+05,\n",
       "        1.83531719e+05, 2.86280031e+05, 5.84163375e+05, 6.54999500e+05,\n",
       "        4.65217719e+05, 2.47742969e+05, 8.18771406e+04, 8.56639609e+04,\n",
       "        6.51198086e+04, 5.63397070e+04, 1.54539359e+05, 2.59063984e+05,\n",
       "        3.85892594e+05, 2.17643109e+05, 6.08647734e+04, 7.08107422e+04,\n",
       "        1.21491195e+05, 4.77732500e+04, 4.40182734e+04, 1.45806734e+05,\n",
       "        6.74093281e+04, 9.64213906e+04, 1.41126000e+05, 9.85715547e+04,\n",
       "        1.65167656e+05, 3.61869219e+05, 7.06246625e+05, 5.75140625e+05,\n",
       "        7.07746062e+05, 1.08056962e+06, 1.22312700e+06, 9.48761812e+05,\n",
       "        1.09248050e+06, 1.97536953e+05, 1.76195453e+05, 2.85886781e+05,\n",
       "        2.06376859e+05, 2.21152719e+05, 1.63642375e+05, 2.23850031e+05,\n",
       "        3.27001562e+05, 8.16436875e+05, 1.20422475e+06, 9.26625938e+05,\n",
       "        1.47098359e+05, 3.68650344e+05, 4.85927844e+05, 1.13488039e+05,\n",
       "        9.11031797e+04, 7.12645547e+04, 5.45176445e+04, 1.74879797e+05,\n",
       "        3.46406844e+05, 4.74837094e+05, 3.42936219e+05, 8.92248594e+04,\n",
       "        9.54252344e+04, 1.87649031e+05, 2.05496500e+05, 3.95247781e+05,\n",
       "        6.95485938e+05, 4.97224719e+05, 1.78692094e+05, 1.21860430e+05,\n",
       "        8.94076016e+04, 8.91894844e+04, 3.10212031e+05, 7.27079375e+04,\n",
       "        3.41860703e+04, 8.32979531e+04, 4.99885859e+04, 8.32568984e+04,\n",
       "        5.01546680e+04, 1.35041734e+05, 1.89640906e+05, 4.09813812e+05,\n",
       "        2.21545352e+04, 3.71726367e+04, 5.60465977e+04, 4.12550977e+04,\n",
       "        8.46730781e+04, 5.55228359e+04, 7.55357578e+04, 3.93764727e+04,\n",
       "        2.26800410e+04, 3.38498906e+04, 5.17390898e+04, 1.92609859e+05,\n",
       "        2.87738250e+05, 1.45050594e+05, 9.18139531e+04, 4.85423203e+04,\n",
       "        7.53318848e+03, 9.35164648e+03, 1.97692285e+04, 1.95424336e+04,\n",
       "        4.86916133e+04, 3.23430156e+04, 1.48517119e+04, 1.23818193e+04,\n",
       "        1.27220693e+04, 1.38537656e+04, 1.50769307e+04, 8.65581406e+04,\n",
       "        4.28945547e+04, 2.93946250e+04, 2.57021992e+04, 2.26899238e+04,\n",
       "        3.42256875e+04, 3.22395605e+04, 3.50115938e+04, 6.39416328e+04,\n",
       "        7.36886484e+04, 9.38508359e+04, 1.06269125e+05, 6.58479125e+05,\n",
       "        8.89561875e+05, 1.09118062e+06, 1.22982600e+06, 1.50103325e+06,\n",
       "        2.03303288e+06, 1.65759500e+06, 2.25872453e+05, 4.45260312e+04,\n",
       "        6.37554727e+04, 8.46758750e+04, 1.45810312e+05, 3.33173688e+05,\n",
       "        4.22220703e+04, 2.93420938e+04, 6.00072148e+04, 3.87296797e+04,\n",
       "        2.49232922e+05, 1.86579969e+05, 1.90792750e+05, 1.45094359e+05,\n",
       "        2.17744281e+05, 9.96573984e+04, 9.83937891e+04, 9.55482031e+04,\n",
       "        2.63484336e+04, 7.78495234e+04, 8.04386094e+04, 2.67094438e+05,\n",
       "        2.59738531e+05, 1.24090625e+05, 4.79532852e+04, 4.71567852e+04,\n",
       "        1.31192016e+05, 1.01043008e+05, 1.48501078e+05, 7.17570391e+04,\n",
       "        5.31483164e+04, 1.39229844e+05, 2.50566703e+05, 5.75847875e+05,\n",
       "        9.73321125e+05, 1.63654975e+06, 2.40017150e+06, 2.29320825e+06,\n",
       "        8.33534625e+05, 3.49305188e+05, 4.40411875e+04, 2.77655098e+04,\n",
       "        4.88697578e+04, 1.28941133e+05, 1.16300742e+05, 1.58263969e+05,\n",
       "        1.15684234e+05, 7.55121953e+04, 1.39279797e+05, 2.87775176e+04,\n",
       "        2.34244219e+04, 1.60433406e+05, 2.64516562e+05, 2.20519000e+05,\n",
       "        2.60034500e+05, 1.91781672e+05, 4.53257539e+04, 5.13134336e+04,\n",
       "        1.29409961e+05, 3.12103789e+04, 2.60261855e+04, 4.49704180e+04,\n",
       "        8.17963594e+04, 1.25305977e+05, 1.29942289e+05, 9.92915547e+04,\n",
       "        4.70329922e+04, 7.83240859e+04, 1.62847266e+05, 2.28094203e+05,\n",
       "        2.68994656e+05, 3.96782906e+05, 4.21470281e+05, 3.11903719e+05,\n",
       "        1.51066500e+05, 1.93084102e+04, 1.54495713e+04, 1.12626164e+05,\n",
       "        1.21913875e+05, 5.22865000e+05, 7.74941812e+05, 1.15042712e+06,\n",
       "        1.41989538e+06, 1.70107575e+06, 1.42612212e+06, 1.32546225e+06,\n",
       "        1.02087750e+05, 1.14213898e+05, 7.93077031e+04, 1.06375141e+05,\n",
       "        1.57877031e+05, 7.07984375e+04, 1.06761961e+05, 8.37332578e+04,\n",
       "        6.19274500e+05, 1.01852038e+06, 8.42864125e+05, 8.88545188e+05,\n",
       "        1.26215538e+06, 1.55256312e+06, 1.21909425e+06, 2.63419031e+05,\n",
       "        4.20004031e+05, 3.11872656e+05, 1.60894125e+05, 5.04250438e+05,\n",
       "        1.06101738e+06, 1.03941788e+06, 1.33100538e+06, 1.52027988e+06,\n",
       "        2.05052462e+06, 3.71397225e+06, 2.42396275e+06, 6.20757438e+05,\n",
       "        1.63117609e+05, 3.71215719e+05, 7.24964562e+05, 1.58219475e+06,\n",
       "        1.93831912e+06, 1.82376425e+06, 2.50191200e+06, 1.79307775e+06,\n",
       "        9.56697875e+05, 2.63590375e+06, 2.39633250e+06, 9.43404875e+05,\n",
       "        1.27269391e+05, 1.28776766e+05, 3.17244844e+05, 1.08244275e+06,\n",
       "        3.67429344e+05, 5.66861062e+05, 6.91906688e+05, 5.18375531e+05,\n",
       "        3.77512000e+05, 1.80209725e+06, 5.04581750e+06, 8.69462300e+06,\n",
       "        1.12302480e+07, 1.17956800e+07, 1.17304410e+07, 1.22118400e+07,\n",
       "        5.00013350e+06, 5.68145938e+05, 4.84925250e+05, 1.78598800e+06,\n",
       "        2.45023850e+06, 3.30134050e+06, 4.23363950e+06, 8.60206000e+06,\n",
       "        1.12808270e+07, 1.02194310e+07, 8.62048700e+06, 1.01415350e+07,\n",
       "        9.03778300e+06, 1.44286180e+07, 1.40794810e+07, 2.24178420e+07,\n",
       "        3.51521080e+07, 2.84097700e+07, 2.28652800e+07, 2.34622760e+07,\n",
       "        1.39277410e+07, 6.98696050e+06, 1.09488620e+07, 2.65182400e+07,\n",
       "        3.20720480e+07, 2.73926920e+07, 2.26622800e+06, 1.54200775e+06,\n",
       "        1.74224500e+06, 1.41142580e+07, 1.53651520e+07, 1.14951380e+07,\n",
       "        1.09432910e+07, 1.67921060e+07, 2.16862220e+07, 1.50808850e+07,\n",
       "        9.98729312e+05, 2.99311475e+06, 4.57683050e+06, 4.74744900e+06,\n",
       "        3.52840800e+06, 6.77721500e+06, 1.56929540e+07, 1.17740400e+07,\n",
       "        6.36264550e+06, 6.19612350e+06, 1.10067650e+07, 3.55062560e+07,\n",
       "        4.27495320e+07, 3.43362840e+07, 3.73258800e+07, 5.40880560e+07,\n",
       "        4.61348200e+07, 6.03781040e+07, 2.13100440e+07, 2.61662125e+06,\n",
       "        5.33642000e+06, 3.80048625e+06, 1.49269530e+07, 1.39291890e+07,\n",
       "        1.20916500e+07, 1.38379070e+07, 1.08937980e+07, 7.17384900e+06,\n",
       "        1.34945610e+07, 5.36838320e+07, 6.96655760e+07, 1.16379256e+08,\n",
       "        1.04954480e+08, 2.27149940e+07, 1.18589910e+07, 7.48905300e+06,\n",
       "        6.07384250e+06, 9.54701000e+06, 3.18712860e+07, 9.18382300e+06,\n",
       "        9.22872700e+06, 1.54456180e+07, 2.20390520e+07, 3.63686960e+07,\n",
       "        5.35854840e+07, 4.97510160e+07, 3.93099160e+07, 2.02719700e+07,\n",
       "        4.96757700e+06, 3.98990650e+06, 2.74785950e+06, 3.76288875e+06,\n",
       "        1.07818740e+07, 4.20352300e+06, 2.82446125e+06, 1.03478990e+07,\n",
       "        2.05301300e+07, 4.11407640e+07, 3.01687540e+07, 3.34030080e+07,\n",
       "        8.57627000e+06, 5.96947050e+06, 1.10793750e+07, 2.26652480e+07,\n",
       "        1.61343270e+07, 8.66713600e+06, 6.77535650e+06, 3.12119825e+06,\n",
       "        3.65814188e+05, 1.27739162e+06, 2.06405712e+06, 4.64116344e+05,\n",
       "        1.34056425e+06, 3.66327925e+06, 2.91052050e+06, 5.57098550e+06,\n",
       "        1.29233820e+07, 1.58316800e+07, 1.53623020e+07, 4.93076300e+06,\n",
       "        4.79551550e+06, 6.85504850e+06, 2.34568980e+07, 4.68944000e+07,\n",
       "        7.13587280e+07, 8.22364720e+07, 6.96031760e+07, 4.14763840e+07,\n",
       "        2.34196980e+07, 2.56776040e+07, 1.47244180e+07, 6.40768050e+06,\n",
       "        1.28854790e+07, 1.95238080e+07, 3.09322600e+07, 1.14533570e+07,\n",
       "        3.08766225e+06, 2.72999725e+06, 5.85900550e+06, 3.36231850e+06,\n",
       "        8.01988100e+06, 3.85233525e+06, 3.86756250e+06, 7.91122550e+06,\n",
       "        2.62826175e+06, 1.00040980e+07, 1.64283650e+07, 4.49231240e+07,\n",
       "        6.20781160e+07, 8.29283600e+07], dtype=float32),\n",
       " 'rmse': array([  183.90616 ,   245.55109 ,   386.48993 ,   273.68802 ,\n",
       "          351.53345 ,   365.51675 ,   331.95303 ,   395.6197  ,\n",
       "          340.28232 ,   309.0562  ,   289.49722 ,   466.16794 ,\n",
       "           91.19378 ,    97.52443 ,    72.67877 ,   100.10794 ,\n",
       "          165.46501 ,   184.60042 ,   138.54036 ,    77.31854 ,\n",
       "          135.66714 ,   163.33112 ,   150.46611 ,   269.39194 ,\n",
       "          293.6243  ,   369.67    ,   512.8259  ,   653.3052  ,\n",
       "          534.62585 ,   583.2304  ,   544.0328  ,   356.79263 ,\n",
       "          356.07025 ,   387.58826 ,   485.12152 ,   567.45734 ,\n",
       "          571.79034 ,   466.54398 ,   559.4864  ,   171.05634 ,\n",
       "          280.69687 ,   310.84555 ,   506.2137  ,   530.49677 ,\n",
       "          520.9346  ,   398.09375 ,   432.43695 ,   470.8716  ,\n",
       "          532.4126  ,   643.3963  ,   801.3387  ,   752.70874 ,\n",
       "          577.4324  ,   279.2522  ,   173.81958 ,   232.1939  ,\n",
       "          299.8519  ,   383.2734  ,   425.87283 ,   492.07047 ,\n",
       "          626.66284 ,   580.6728  ,   493.59857 ,   325.05966 ,\n",
       "          184.35373 ,   220.47324 ,   304.02982 ,   495.98425 ,\n",
       "          628.0149  ,   684.28296 ,   891.7038  ,   488.8933  ,\n",
       "          362.82724 ,   222.88083 ,   391.18765 ,   479.75833 ,\n",
       "          473.53238 ,   565.69183 ,   682.6071  ,  1143.025   ,\n",
       "         1011.2212  ,   860.1923  ,   389.24063 ,   292.20844 ,\n",
       "          289.0884  ,   276.6113  ,   300.01965 ,   429.90747 ,\n",
       "          597.21783 ,   673.2901  ,  1505.1307  ,  2047.8313  ,\n",
       "         2564.3577  ,  2358.5476  ,  2282.3225  ,  2472.3467  ,\n",
       "         2650.9592  ,  1355.4076  ,   693.7351  ,   632.8031  ,\n",
       "          554.3972  ,   443.8124  ,   567.5148  ,   610.50134 ,\n",
       "          487.08972 ,   396.31552 ,   257.49643 ,   341.8921  ,\n",
       "          261.43356 ,   518.00195 ,   437.36728 ,   442.9611  ,\n",
       "          428.406   ,   535.05145 ,   764.3058  ,   809.3204  ,\n",
       "          682.0687  ,   497.73785 ,   286.1418  ,   292.68405 ,\n",
       "          255.18584 ,   237.35986 ,   393.11496 ,   508.98328 ,\n",
       "          621.2025  ,   466.52234 ,   246.70787 ,   266.10287 ,\n",
       "          348.55588 ,   218.57092 ,   209.80531 ,   381.84647 ,\n",
       "          259.63306 ,   310.51794 ,   375.66742 ,   313.96106 ,\n",
       "          406.40823 ,   601.55566 ,   840.3848  ,   758.38025 ,\n",
       "          841.2764  ,  1039.5045  ,  1105.9507  ,   974.04407 ,\n",
       "         1045.2179  ,   444.4513  ,   419.7564  ,   534.68384 ,\n",
       "          454.2872  ,   470.26877 ,   404.52734 ,   473.12793 ,\n",
       "          571.8405  ,   903.569   ,  1097.3717  ,   962.6141  ,\n",
       "          383.53406 ,   607.16583 ,   697.08527 ,   336.87985 ,\n",
       "          301.83304 ,   266.95422 ,   233.49014 ,   418.1863  ,\n",
       "          588.56335 ,   689.0842  ,   585.60754 ,   298.7053  ,\n",
       "          308.90976 ,   433.18475 ,   453.31723 ,   628.6873  ,\n",
       "          833.958   ,   705.1416  ,   422.71988 ,   349.0851  ,\n",
       "          299.01102 ,   298.6461  ,   556.9668  ,   269.6441  ,\n",
       "          184.89476 ,   288.61383 ,   223.58127 ,   288.5427  ,\n",
       "          223.95238 ,   367.48026 ,   435.47778 ,   640.167   ,\n",
       "          148.844   ,   192.80206 ,   236.74162 ,   203.11351 ,\n",
       "          290.9864  ,   235.63284 ,   274.83768 ,   198.43506 ,\n",
       "          150.59894 ,   183.9834  ,   227.46228 ,   438.87338 ,\n",
       "          536.41235 ,   380.85507 ,   303.00818 ,   220.32321 ,\n",
       "           86.793945,    96.70391 ,   140.60309 ,   139.79425 ,\n",
       "          220.66176 ,   179.84164 ,   121.8676  ,   111.27362 ,\n",
       "          112.79215 ,   117.70202 ,   122.788155,   294.20764 ,\n",
       "          207.11    ,   171.44861 ,   160.31905 ,   150.63174 ,\n",
       "          185.00186 ,   179.55379 ,   187.11385 ,   252.86682 ,\n",
       "          271.45654 ,   306.35083 ,   325.98947 ,   811.4673  ,\n",
       "          943.1659  ,  1044.596   ,  1108.9752  ,  1225.1666  ,\n",
       "         1425.8446  ,  1287.4762  ,   475.2604  ,   211.01193 ,\n",
       "          252.49846 ,   290.99118 ,   381.85117 ,   577.212   ,\n",
       "          205.4801  ,   171.29533 ,   244.9637  ,   196.79858 ,\n",
       "          499.23233 ,   431.94904 ,   436.79828 ,   380.91254 ,\n",
       "          466.63077 ,   315.6856  ,   313.67783 ,   309.1087  ,\n",
       "          162.322   ,   279.01526 ,   283.617   ,   516.81177 ,\n",
       "          509.64548 ,   352.26498 ,   218.98238 ,   217.15613 ,\n",
       "          362.20438 ,   317.87262 ,   385.35837 ,   267.87503 ,\n",
       "          230.53918 ,   373.13516 ,   500.56638 ,   758.8464  ,\n",
       "          986.5704  ,  1279.277   ,  1549.2487  ,  1514.3342  ,\n",
       "          912.9812  ,   591.02045 ,   209.85992 ,   166.62985 ,\n",
       "          221.06505 ,   359.08374 ,   341.02893 ,   397.82404 ,\n",
       "          340.12384 ,   274.79483 ,   373.2021  ,   169.63937 ,\n",
       "          153.05038 ,   400.54138 ,   514.3117  ,   469.5945  ,\n",
       "          509.93576 ,   437.92883 ,   212.89845 ,   226.52469 ,\n",
       "          359.73596 ,   176.6646  ,   161.32634 ,   212.0623  ,\n",
       "          286.00064 ,   353.98584 ,   360.4751  ,   315.10562 ,\n",
       "          216.87091 ,   279.8644  ,   403.5434  ,   477.59207 ,\n",
       "          518.647   ,   629.90704 ,   649.20746 ,   558.4834  ,\n",
       "          388.67276 ,   138.9547  ,   124.2963  ,   335.59824 ,\n",
       "          349.16168 ,   723.09406 ,   880.3078  ,  1072.5796  ,\n",
       "         1191.5936  ,  1304.2529  ,  1194.2035  ,  1151.2872  ,\n",
       "          319.51172 ,   337.95547 ,   281.61624 ,   326.15204 ,\n",
       "          397.33743 ,   266.07974 ,   326.74448 ,   289.367   ,\n",
       "          786.93994 ,  1009.2177  ,   918.0763  ,   942.6267  ,\n",
       "         1123.4569  ,  1246.0189  ,  1104.126   ,   513.2436  ,\n",
       "          648.07715 ,   558.45557 ,   401.1161  ,   710.1059  ,\n",
       "         1030.057   ,  1019.51843 ,  1153.692   ,  1232.9962  ,\n",
       "         1431.9652  ,  1927.1669  ,  1556.9081  ,   787.8816  ,\n",
       "          403.8782  ,   609.2747  ,   851.4485  ,  1257.8531  ,\n",
       "         1392.2352  ,  1350.4681  ,  1581.7433  ,  1339.0585  ,\n",
       "          978.1093  ,  1623.5466  ,  1548.0092  ,   971.2903  ,\n",
       "          356.74835 ,   358.8548  ,   563.24493 ,  1040.405   ,\n",
       "          606.1595  ,   752.90173 ,   831.80927 ,   719.983   ,\n",
       "          614.42004 ,  1342.4221  ,  2246.2898  ,  2948.6646  ,\n",
       "         3351.1562  ,  3434.484   ,  3424.9731  ,  3494.5442  ,\n",
       "         2236.0977  ,   753.7546  ,   696.3657  ,  1336.4086  ,\n",
       "         1565.3237  ,  1816.9591  ,  2057.581   ,  2932.9268  ,\n",
       "         3358.694   ,  3196.7844  ,  2936.0667  ,  3184.5776  ,\n",
       "         3006.2905  ,  3798.502   ,  3752.2634  ,  4734.7485  ,\n",
       "         5928.9214  ,  5330.0815  ,  4781.765   ,  4843.787   ,\n",
       "         3731.9888  ,  2643.286   ,  3308.9065  ,  5149.5864  ,\n",
       "         5663.2188  ,  5233.8027  ,  1505.3995  ,  1241.776   ,\n",
       "         1319.9413  ,  3756.8948  ,  3919.8408  ,  3390.448   ,\n",
       "         3308.0645  ,  4097.817   ,  4656.8467  ,  3883.4114  ,\n",
       "          999.36444 ,  1730.062   ,  2139.3528  ,  2178.864   ,\n",
       "         1878.4056  ,  2603.3083  ,  3961.4333  ,  3431.332   ,\n",
       "         2522.4285  ,  2489.2014  ,  3317.6445  ,  5958.7124  ,\n",
       "         6538.3125  ,  5859.717   ,  6109.4907  ,  7354.458   ,\n",
       "         6792.2617  ,  7770.335   ,  4616.2803  ,  1617.5974  ,\n",
       "         2310.0693  ,  1949.4835  ,  3863.5415  ,  3732.1829  ,\n",
       "         3477.305   ,  3719.9338  ,  3300.5754  ,  2678.404   ,\n",
       "         3673.4944  ,  7326.925   ,  8346.591   , 10787.922   ,\n",
       "        10244.7295  ,  4766.025   ,  3443.6885  ,  2736.6133  ,\n",
       "         2464.5166  ,  3089.8237  ,  5645.466   ,  3030.4822  ,\n",
       "         3037.8818  ,  3930.0913  ,  4694.5767  ,  6030.6465  ,\n",
       "         7320.2104  ,  7053.44    ,  6269.762   ,  4502.4404  ,\n",
       "         2228.8062  ,  1997.475   ,  1657.6669  ,  1939.8167  ,\n",
       "         3283.5764  ,  2050.2495  ,  1680.6133  ,  3216.8152  ,\n",
       "         4531.0186  ,  6414.1064  ,  5492.609   ,  5779.5337  ,\n",
       "         2928.5269  ,  2443.25    ,  3328.5696  ,  4760.803   ,\n",
       "         4016.7556  ,  2944.      ,  2602.9514  ,  1766.6913  ,\n",
       "          604.82574 ,  1130.2175  ,  1436.6826  ,   681.26086 ,\n",
       "         1157.8274  ,  1913.9695  ,  1706.0248  ,  2360.2935  ,\n",
       "         3594.9106  ,  3978.9043  ,  3919.4773  ,  2220.532   ,\n",
       "         2189.8665  ,  2618.2146  ,  4843.232   ,  6847.9487  ,\n",
       "         8447.409   ,  9068.433   ,  8342.852   ,  6440.216   ,\n",
       "         4839.39    ,  5067.307   ,  3837.2407  ,  2531.3396  ,\n",
       "         3589.635   ,  4418.575   ,  5561.6777  ,  3384.2808  ,\n",
       "         1757.1744  ,  1652.2703  ,  2420.5383  ,  1833.6626  ,\n",
       "         2831.9395  ,  1962.7367  ,  1966.6119  ,  2812.69    ,\n",
       "         1621.1914  ,  3162.9255  ,  4053.192   ,  6702.471   ,\n",
       "         7878.967   ,  9106.501   ], dtype=float32),\n",
       " 'mape': array([ 2.178856  ,  3.0930243 ,  5.2681155 ,  3.6277142 ,  3.8753529 ,\n",
       "         4.196442  ,  3.7246366 ,  4.1893005 ,  3.6170173 ,  3.5487478 ,\n",
       "         3.5474207 ,  6.1383657 ,  1.1191986 ,  1.2719927 ,  0.88959134,\n",
       "         1.1006701 ,  1.9384732 ,  2.2049153 ,  1.4919794 ,  0.9732808 ,\n",
       "         1.3281815 ,  1.8771013 ,  1.5752425 ,  3.0086143 ,  2.9158247 ,\n",
       "         3.8064663 ,  4.757528  ,  7.3096857 ,  5.766643  ,  6.5990777 ,\n",
       "         6.4004517 ,  4.033628  ,  2.8024423 ,  3.4951963 ,  3.907072  ,\n",
       "         4.8680496 ,  5.6047907 ,  5.0352488 ,  6.214598  ,  1.694981  ,\n",
       "         2.8156757 ,  3.0523329 ,  5.535997  ,  6.107855  ,  5.8517556 ,\n",
       "         4.156931  ,  4.5278277 ,  4.980601  ,  4.763336  ,  5.6220317 ,\n",
       "         7.6617146 ,  7.725011  ,  5.977005  ,  2.7394342 ,  1.3928927 ,\n",
       "         2.2626913 ,  2.7115316 ,  3.128879  ,  3.5521321 ,  4.3942666 ,\n",
       "         5.7873387 ,  4.849433  ,  4.184497  ,  2.889646  ,  1.5541824 ,\n",
       "         1.7725365 ,  2.5852904 ,  3.9534981 ,  5.782125  ,  6.40254   ,\n",
       "         8.822463  ,  4.714141  ,  3.2571335 ,  1.9573225 ,  3.7630446 ,\n",
       "         3.7459917 ,  3.6244624 ,  4.9392266 ,  6.7479296 , 12.088566  ,\n",
       "        11.086464  ,  9.616252  ,  4.1681614 ,  2.644285  ,  2.5871599 ,\n",
       "         2.7535586 ,  3.178712  ,  4.2276497 ,  5.832646  ,  7.0609593 ,\n",
       "        16.604532  , 26.035877  , 36.937244  , 35.603218  , 36.484028  ,\n",
       "        42.38974   , 49.023403  , 24.407976  , 11.966007  ,  9.774145  ,\n",
       "         8.614583  ,  5.6301537 ,  7.5737066 ,  8.071679  ,  6.61468   ,\n",
       "         4.9624104 ,  3.3776567 ,  4.727217  ,  3.0170994 ,  6.85735   ,\n",
       "         5.0226164 ,  5.014726  ,  5.6739893 ,  6.7781367 , 10.721757  ,\n",
       "        11.169191  ,  9.171046  ,  6.641428  ,  3.5005682 ,  3.352686  ,\n",
       "         2.767119  ,  3.0376484 ,  4.615491  ,  6.556382  ,  8.258496  ,\n",
       "         6.0799365 ,  3.3597186 ,  2.8033216 ,  4.2891345 ,  2.7416973 ,\n",
       "         2.5808578 ,  4.698509  ,  2.9592643 ,  3.7534027 ,  4.5160494 ,\n",
       "         4.214703  ,  4.2874913 ,  7.199942  ,  8.905578  ,  6.145283  ,\n",
       "         6.8844185 ,  9.364338  , 10.755687  , 10.211384  , 11.709563  ,\n",
       "         4.527912  ,  2.9964874 ,  4.285624  ,  3.9825718 ,  3.9788191 ,\n",
       "         3.882875  ,  4.6845255 ,  5.2519703 ,  8.013276  , 11.121484  ,\n",
       "        10.052204  ,  3.5741727 ,  5.1057315 ,  6.7791166 ,  3.0211444 ,\n",
       "         2.7042258 ,  2.1662827 ,  2.032867  ,  3.8309476 ,  5.9177575 ,\n",
       "         7.2374806 ,  6.283926  ,  2.7846682 ,  2.990955  ,  3.8204153 ,\n",
       "         4.307518  ,  4.9813533 ,  7.5948105 ,  6.4465456 ,  3.4744349 ,\n",
       "         2.1727693 ,  2.3607774 ,  2.3850935 ,  5.231253  ,  2.2796507 ,\n",
       "         1.8222424 ,  2.4336946 ,  1.8563738 ,  2.534633  ,  1.5005046 ,\n",
       "         3.263902  ,  4.249491  ,  6.763077  ,  1.4421678 ,  1.7023606 ,\n",
       "         2.073792  ,  2.0089483 ,  2.679987  ,  2.2412722 ,  2.656877  ,\n",
       "         1.9613719 ,  1.4067633 ,  1.6337308 ,  2.203441  ,  4.3514585 ,\n",
       "         5.7048993 ,  3.890266  ,  3.0333405 ,  2.1351385 ,  0.8432881 ,\n",
       "         0.9274264 ,  1.2472736 ,  1.3243482 ,  2.2835495 ,  1.5804505 ,\n",
       "         1.2435398 ,  1.0467793 ,  0.9446618 ,  1.156765  ,  1.2619553 ,\n",
       "         2.997466  ,  2.2013772 ,  1.653703  ,  1.6251832 ,  1.4740492 ,\n",
       "         1.950882  ,  1.8688781 ,  1.9090762 ,  2.1260922 ,  2.4416213 ,\n",
       "         2.6266127 ,  2.8290083 ,  5.2384634 ,  6.1182184 ,  6.680379  ,\n",
       "         7.9103036 ,  9.490889  , 11.544375  , 11.154093  ,  3.4328647 ,\n",
       "         1.2758425 ,  2.043919  ,  2.2343998 ,  3.2193666 ,  4.394221  ,\n",
       "         1.5174085 ,  1.2066617 ,  1.8244296 ,  1.3523763 ,  3.8001616 ,\n",
       "         3.040177  ,  3.171711  ,  2.4555514 ,  3.7759907 ,  1.7956277 ,\n",
       "         2.1958911 ,  1.8007832 ,  1.1513122 ,  2.017616  ,  1.7913808 ,\n",
       "         4.245772  ,  4.2549977 ,  2.8155267 ,  1.8519919 ,  1.6465398 ,\n",
       "         2.5330784 ,  2.3430352 ,  2.854897  ,  1.9204656 ,  1.4675574 ,\n",
       "         2.5360732 ,  3.2294598 ,  5.4651356 ,  7.8571997 , 10.813108  ,\n",
       "        14.398488  , 14.459893  ,  8.476181  ,  5.37674   ,  1.8300397 ,\n",
       "         1.3016815 ,  1.5505121 ,  2.5811622 ,  2.1187713 ,  2.9243844 ,\n",
       "         2.7896137 ,  2.3280706 ,  3.3409727 ,  1.4484023 ,  1.1916944 ,\n",
       "         3.3163104 ,  4.20962   ,  3.4342866 ,  4.3598943 ,  3.4847732 ,\n",
       "         1.5394517 ,  1.9607369 ,  3.2235909 ,  1.3861661 ,  1.3374672 ,\n",
       "         1.622055  ,  2.3805153 ,  3.1077194 ,  3.3294141 ,  2.8088276 ,\n",
       "         1.800465  ,  2.1654236 ,  2.6280262 ,  3.1525676 ,  3.683966  ,\n",
       "         4.6309733 ,  5.179536  ,  4.572806  ,  3.2547786 ,  0.7207361 ,\n",
       "         0.902032  ,  2.8111234 ,  2.8165421 ,  3.8987153 ,  4.9831176 ,\n",
       "         6.194675  ,  7.6489234 ,  9.069993  ,  8.553687  ,  8.423226  ,\n",
       "         1.6098052 ,  2.368548  ,  1.9233925 ,  2.0080469 ,  2.311767  ,\n",
       "         1.7194614 ,  2.1487732 ,  1.4066379 ,  3.1861343 ,  4.5013657 ,\n",
       "         4.8999524 ,  5.047938  ,  6.365373  ,  7.503499  ,  6.79302   ,\n",
       "         2.4283385 ,  3.614372  ,  2.9791012 ,  2.3603933 ,  3.4740884 ,\n",
       "         4.471794  ,  4.4694824 ,  5.1420503 ,  6.0921836 ,  6.748253  ,\n",
       "         9.726026  ,  8.135874  ,  3.6935647 ,  2.0100534 ,  2.643196  ,\n",
       "         3.3581057 ,  5.777749  ,  6.599267  ,  6.3132815 ,  7.171309  ,\n",
       "         6.10453   ,  4.48025   ,  7.9058385 ,  7.7775755 ,  4.78819   ,\n",
       "         1.4974028 ,  1.4288197 ,  2.7049413 ,  5.338025  ,  2.985592  ,\n",
       "         3.4135017 ,  3.703802  ,  3.4933403 ,  3.024809  ,  4.4391403 ,\n",
       "         7.5325394 , 10.566649  , 11.784122  , 12.665251  , 13.67142   ,\n",
       "        14.797923  ,  9.500657  ,  2.5098183 ,  2.4793544 ,  4.797432  ,\n",
       "         5.306257  ,  5.6025004 ,  6.6494555 ,  8.9710865 , 10.561986  ,\n",
       "        10.148601  ,  7.3335633 ,  7.7675    ,  7.6457872 , 10.077509  ,\n",
       "         8.477805  , 10.048639  , 12.897149  , 10.971269  , 10.896134  ,\n",
       "        11.123642  ,  7.9997725 ,  6.2969065 ,  6.8818254 , 12.780476  ,\n",
       "        14.98443   , 14.236964  ,  3.4984133 ,  2.7339983 ,  3.107815  ,\n",
       "         9.953279  , 10.267065  ,  8.132994  ,  8.344468  , 11.220308  ,\n",
       "        13.841213  , 11.851276  ,  2.7236302 ,  3.9411962 ,  4.9301224 ,\n",
       "         5.6558933 ,  4.8925986 ,  7.3585987 , 10.147788  ,  8.417741  ,\n",
       "         5.6748204 ,  5.4570837 ,  7.163661  , 12.024189  , 11.646936  ,\n",
       "        10.196369  , 10.881933  , 14.204481  , 13.586349  , 15.925802  ,\n",
       "         9.264433  ,  2.9712903 ,  3.5415637 ,  3.233991  ,  5.3870373 ,\n",
       "         5.0592875 ,  5.0227    ,  5.6809006 ,  5.2032075 ,  4.430217  ,\n",
       "         6.387202  , 12.764417  , 15.650196  , 22.046688  , 21.418575  ,\n",
       "         8.704746  ,  6.174166  ,  5.278195  ,  4.1639233 ,  5.6375427 ,\n",
       "        10.714613  ,  5.354681  ,  4.743186  ,  5.254052  ,  6.345278  ,\n",
       "         8.385726  , 10.878466  , 10.601746  , 10.365875  ,  7.2050824 ,\n",
       "         2.9991965 ,  2.959034  ,  2.4816031 ,  2.691199  ,  5.4867067 ,\n",
       "         2.9023905 ,  2.089687  ,  4.7513733 ,  7.282191  , 10.600691  ,\n",
       "         9.564315  , 10.076376  ,  4.4840274 ,  3.6681204 ,  5.036829  ,\n",
       "         7.3951087 ,  6.2401366 ,  4.653338  ,  4.1573577 ,  2.7960043 ,\n",
       "         0.8929489 ,  1.6039774 ,  2.2043366 ,  1.0174174 ,  1.6171227 ,\n",
       "         2.7536263 ,  2.674992  ,  2.9172928 ,  4.2121744 ,  5.1980963 ,\n",
       "         5.550985  ,  3.0224476 ,  3.0715954 ,  3.8748536 ,  6.6619353 ,\n",
       "        10.744047  , 14.175841  , 15.751444  , 15.202287  , 11.687975  ,\n",
       "         8.399162  ,  8.553457  ,  6.206872  ,  4.02353   ,  5.984388  ,\n",
       "         7.1403346 ,  9.502151  ,  5.39071   ,  2.9524176 ,  2.7566147 ,\n",
       "         4.0659003 ,  2.7099583 ,  4.0920563 ,  2.8262815 ,  3.0546937 ,\n",
       "         4.62344   ,  2.3160417 ,  4.421454  ,  6.477923  , 11.3254795 ,\n",
       "        14.363345  , 17.27769   ], dtype=float32),\n",
       " 'mase': 2.1890843}"
      ]
     },
     "execution_count": 64,
     "metadata": {},
     "output_type": "execute_result"
    }
   ],
   "source": [
    "# Evaluate model_3 results\n",
    "model_3_results = evaluate_preds(y_true=tf.squeeze(test_labels),\n",
    "                                 y_pred=model_3_preds)\n",
    "model_3_results"
   ]
  },
  {
   "cell_type": "markdown",
   "id": "eb20aaac",
   "metadata": {},
   "source": [
    "## Make our evaluation function work for larger horizons"
   ]
  },
  {
   "cell_type": "code",
   "execution_count": 65,
   "id": "c1d76057",
   "metadata": {},
   "outputs": [],
   "source": [
    "# Create a function to take in model predictions and truth values and return evaluation metrics\n",
    "def evaluate_preds(y_true, y_pred):\n",
    "    # Make sure float32 datatype (for metric calculation)\n",
    "    y_true = tf.cast(y_true, dtype=tf.float32)\n",
    "    y_pred = tf.cast(y_pred, dtype=tf.float32)\n",
    "\n",
    "    # Calculate various evaluation metrics\n",
    "    mae = tf.keras.metrics.mean_absolute_error(y_true, y_pred)\n",
    "    mse = tf.keras.metrics.mean_squared_error(y_true, y_pred)\n",
    "    rmse = tf.sqrt(mse)\n",
    "    mape = tf.keras.metrics.mean_absolute_percentage_error(y_true, y_pred)\n",
    "    mase = mean_absolute_scaled_error(y_true, y_pred)\n",
    "\n",
    "    # Account for different sized metrics (for longer horizons, we want to reduce metrics to a single value)\n",
    "    if mae.ndim > 0:\n",
    "        mae = tf.reduce_mean(mae)\n",
    "        mse = tf.reduce_mean(mse)\n",
    "        rmse = tf.reduce_mean(rmse)\n",
    "        mape = tf.reduce_mean(mape)\n",
    "        mase = tf.reduce_mean(mase)\n",
    "\n",
    "    return {\n",
    "        \"mae\": mae.numpy(),\n",
    "        \"mse\": mse.numpy(),\n",
    "        \"rmse\": rmse.numpy(),\n",
    "        \"mape\": mape.numpy(),\n",
    "        \"mase\": mase.numpy()\n",
    "    }"
   ]
  },
  {
   "cell_type": "code",
   "execution_count": 66,
   "id": "379adf2b",
   "metadata": {},
   "outputs": [
    {
     "data": {
      "text/plain": [
       "{'mae': 1280.3214,\n",
       " 'mse': 5666594.5,\n",
       " 'rmse': 1477.1194,\n",
       " 'mape': 5.5628676,\n",
       " 'mase': 2.1890843}"
      ]
     },
     "execution_count": 66,
     "metadata": {},
     "output_type": "execute_result"
    }
   ],
   "source": [
    "# Get model_3 results aggregated to single values\n",
    "model_3_results = evaluate_preds(y_true=tf.squeeze(test_labels),\n",
    "                                 y_pred=model_3_preds)\n",
    "model_3_results"
   ]
  },
  {
   "cell_type": "markdown",
   "id": "919753cb",
   "metadata": {},
   "source": [
    "We have made and evaluated predictions with `model_3`, let's visualize visualize visualize!"
   ]
  },
  {
   "cell_type": "code",
   "execution_count": 67,
   "id": "58191ef7",
   "metadata": {},
   "outputs": [
    {
     "data": {
      "image/png": "[encoded data removed]",
      "text/plain": [
       "<Figure size 1000x700 with 1 Axes>"
      ]
     },
     "metadata": {},
     "output_type": "display_data"
    }
   ],
   "source": [
    "offset = 300\n",
    "plt.figure(figsize=(10, 7))\n",
    "plot_time_series(timesteps=X_test[-len(test_windows):], values=test_labels[:, 0], start=offset, label='Test Data')\n",
    "plot_time_series(timesteps=X_test[-len(test_windows):], values=tf.reduce_mean(model_3_preds, axis=1), format='-', start=offset, label='model_3_pred')"
   ]
  },
  {
   "cell_type": "markdown",
   "id": "f7318035",
   "metadata": {},
   "source": [
    "## Which of our models is performing the best so far?\n",
    "\n",
    "So we have trained a few models, now let's compare them and see how they have gone..."
   ]
  },
  {
   "cell_type": "code",
   "execution_count": 68,
   "id": "ef3b7b5b",
   "metadata": {},
   "outputs": [
    {
     "data": {
      "text/plain": [
       "<Axes: >"
      ]
     },
     "execution_count": 68,
     "metadata": {},
     "output_type": "execute_result"
    },
    {
     "data": {
      "image/png": "[encoded data removed]",
      "text/plain": [
       "<Figure size 1000x700 with 1 Axes>"
      ]
     },
     "metadata": {},
     "output_type": "display_data"
    }
   ],
   "source": [
    "pd.DataFrame({'naive': naive_results['mae'],\n",
    "              'horizon_1_window_7': model_1_results['mae'],\n",
    "              'horizon_1_window_30': model_2_results['mae'],\n",
    "              'horizon_7_window_30': model_3_results['mae']}, index=['mae']).plot(figsize=(10, 7), kind='bar')"
   ]
  },
  {
   "cell_type": "markdown",
   "id": "485fb523",
   "metadata": {},
   "source": [
    "## Model 4: Conv1D"
   ]
  },
  {
   "cell_type": "code",
   "execution_count": 69,
   "id": "5a19444d",
   "metadata": {},
   "outputs": [],
   "source": [
    "HORIZON = 1 # predict next day of Bitcoin prices\n",
    "WINDOW_SIZE = 7 # use previous week worth data"
   ]
  },
  {
   "cell_type": "code",
   "execution_count": 70,
   "id": "38fa46f3",
   "metadata": {},
   "outputs": [
    {
     "data": {
      "text/plain": [
       "(2780, 2780)"
      ]
     },
     "execution_count": 70,
     "metadata": {},
     "output_type": "execute_result"
    }
   ],
   "source": [
    "# Create windowed data\n",
    "full_windows, full_labels = make_windows(prices, window_size=WINDOW_SIZE, horizon=HORIZON)\n",
    "len(full_windows), len(full_labels)"
   ]
  },
  {
   "cell_type": "code",
   "execution_count": 71,
   "id": "5b7987b0",
   "metadata": {},
   "outputs": [
    {
     "data": {
      "text/plain": [
       "(2229, 2229, 551, 551)"
      ]
     },
     "execution_count": 71,
     "metadata": {},
     "output_type": "execute_result"
    }
   ],
   "source": [
    "# Create train/test sets\n",
    "train_windows, test_windows, train_labels, test_labels = make_train_test_splits(full_windows, full_labels)\n",
    "len(train_windows), len(train_labels), len(test_windows), len(test_labels)"
   ]
  },
  {
   "cell_type": "markdown",
   "id": "9bae52ae",
   "metadata": {},
   "source": [
    "To use the Conv1D layer, we need an input shape of: `(batch_size, timesteps, input_dim)`... However, our data isn't in that shape yet."
   ]
  },
  {
   "cell_type": "code",
   "execution_count": 72,
   "id": "bd72e3eb",
   "metadata": {},
   "outputs": [
    {
     "data": {
      "text/plain": [
       "(7,)"
      ]
     },
     "execution_count": 72,
     "metadata": {},
     "output_type": "execute_result"
    }
   ],
   "source": [
    "# Check data input shape\n",
    "train_windows[0].shape # returns (WINDOW_SIZE, )"
   ]
  },
  {
   "cell_type": "code",
   "execution_count": 73,
   "id": "70cb4513",
   "metadata": {},
   "outputs": [
    {
     "data": {
      "text/plain": [
       "<tf.Tensor: shape=(7,), dtype=float64, numpy=\n",
       "array([123.65499, 125.455  , 108.58483, 118.67466, 121.33866, 120.65533,\n",
       "       121.795  ])>"
      ]
     },
     "execution_count": 73,
     "metadata": {},
     "output_type": "execute_result"
    }
   ],
   "source": [
    "# Before we pass our data to the Conv1D layer, we have to reshape it in order to make sure it works \n",
    "x = tf.constant(train_windows[0])\n",
    "x"
   ]
  },
  {
   "cell_type": "code",
   "execution_count": 74,
   "id": "ba3f47a1",
   "metadata": {},
   "outputs": [],
   "source": [
    "expand_dims_layer = layers.Lambda(lambda x: tf.expand_dims(x, axis=1)) # add an extra dimension to our layer"
   ]
  },
  {
   "cell_type": "code",
   "execution_count": 75,
   "id": "18649f7e",
   "metadata": {},
   "outputs": [
    {
     "name": "stdout",
     "output_type": "stream",
     "text": [
      "Original shape: (7,)\n",
      "Expanded shape: (7, 1)\n",
      "Original values with expanded shape:\n",
      " [[123.65499]\n",
      " [125.455  ]\n",
      " [108.58483]\n",
      " [118.67466]\n",
      " [121.33866]\n",
      " [120.65533]\n",
      " [121.795  ]]\n"
     ]
    }
   ],
   "source": [
    "# Test out our lambda layer\n",
    "print(f'Original shape: {x.shape}') # (WINDOW_SIZE)\n",
    "print(f'Expanded shape: {expand_dims_layer(x).shape}')\n",
    "print(f'Original values with expanded shape:\\n {expand_dims_layer(x)}')"
   ]
  },
  {
   "cell_type": "code",
   "execution_count": 76,
   "id": "5a803a7f",
   "metadata": {},
   "outputs": [
    {
     "name": "stderr",
     "output_type": "stream",
     "text": [
      "WARNING:absl:Found untraced functions such as _jit_compiled_convolution_op while saving (showing 1 of 1). These functions will not be directly callable after loading.\n"
     ]
    },
    {
     "name": "stdout",
     "output_type": "stream",
     "text": [
      "INFO:tensorflow:Assets written to: model_experiments\\model_4_conv1D\\assets\n"
     ]
    },
    {
     "name": "stderr",
     "output_type": "stream",
     "text": [
      "INFO:tensorflow:Assets written to: model_experiments\\model_4_conv1D\\assets\n",
      "WARNING:absl:Found untraced functions such as _jit_compiled_convolution_op while saving (showing 1 of 1). These functions will not be directly callable after loading.\n"
     ]
    },
    {
     "name": "stdout",
     "output_type": "stream",
     "text": [
      "INFO:tensorflow:Assets written to: model_experiments\\model_4_conv1D\\assets\n"
     ]
    },
    {
     "name": "stderr",
     "output_type": "stream",
     "text": [
      "INFO:tensorflow:Assets written to: model_experiments\\model_4_conv1D\\assets\n",
      "WARNING:absl:Found untraced functions such as _jit_compiled_convolution_op while saving (showing 1 of 1). These functions will not be directly callable after loading.\n"
     ]
    },
    {
     "name": "stdout",
     "output_type": "stream",
     "text": [
      "INFO:tensorflow:Assets written to: model_experiments\\model_4_conv1D\\assets\n"
     ]
    },
    {
     "name": "stderr",
     "output_type": "stream",
     "text": [
      "INFO:tensorflow:Assets written to: model_experiments\\model_4_conv1D\\assets\n",
      "WARNING:absl:Found untraced functions such as _jit_compiled_convolution_op while saving (showing 1 of 1). These functions will not be directly callable after loading.\n"
     ]
    },
    {
     "name": "stdout",
     "output_type": "stream",
     "text": [
      "INFO:tensorflow:Assets written to: model_experiments\\model_4_conv1D\\assets\n"
     ]
    },
    {
     "name": "stderr",
     "output_type": "stream",
     "text": [
      "INFO:tensorflow:Assets written to: model_experiments\\model_4_conv1D\\assets\n",
      "WARNING:absl:Found untraced functions such as _jit_compiled_convolution_op while saving (showing 1 of 1). These functions will not be directly callable after loading.\n"
     ]
    },
    {
     "name": "stdout",
     "output_type": "stream",
     "text": [
      "INFO:tensorflow:Assets written to: model_experiments\\model_4_conv1D\\assets\n"
     ]
    },
    {
     "name": "stderr",
     "output_type": "stream",
     "text": [
      "INFO:tensorflow:Assets written to: model_experiments\\model_4_conv1D\\assets\n",
      "WARNING:absl:Found untraced functions such as _jit_compiled_convolution_op while saving (showing 1 of 1). These functions will not be directly callable after loading.\n"
     ]
    },
    {
     "name": "stdout",
     "output_type": "stream",
     "text": [
      "INFO:tensorflow:Assets written to: model_experiments\\model_4_conv1D\\assets\n"
     ]
    },
    {
     "name": "stderr",
     "output_type": "stream",
     "text": [
      "INFO:tensorflow:Assets written to: model_experiments\\model_4_conv1D\\assets\n",
      "WARNING:absl:Found untraced functions such as _jit_compiled_convolution_op while saving (showing 1 of 1). These functions will not be directly callable after loading.\n"
     ]
    },
    {
     "name": "stdout",
     "output_type": "stream",
     "text": [
      "INFO:tensorflow:Assets written to: model_experiments\\model_4_conv1D\\assets\n"
     ]
    },
    {
     "name": "stderr",
     "output_type": "stream",
     "text": [
      "INFO:tensorflow:Assets written to: model_experiments\\model_4_conv1D\\assets\n",
      "WARNING:absl:Found untraced functions such as _jit_compiled_convolution_op while saving (showing 1 of 1). These functions will not be directly callable after loading.\n"
     ]
    },
    {
     "name": "stdout",
     "output_type": "stream",
     "text": [
      "INFO:tensorflow:Assets written to: model_experiments\\model_4_conv1D\\assets\n"
     ]
    },
    {
     "name": "stderr",
     "output_type": "stream",
     "text": [
      "INFO:tensorflow:Assets written to: model_experiments\\model_4_conv1D\\assets\n",
      "WARNING:absl:Found untraced functions such as _jit_compiled_convolution_op while saving (showing 1 of 1). These functions will not be directly callable after loading.\n"
     ]
    },
    {
     "name": "stdout",
     "output_type": "stream",
     "text": [
      "INFO:tensorflow:Assets written to: model_experiments\\model_4_conv1D\\assets\n"
     ]
    },
    {
     "name": "stderr",
     "output_type": "stream",
     "text": [
      "INFO:tensorflow:Assets written to: model_experiments\\model_4_conv1D\\assets\n",
      "WARNING:absl:Found untraced functions such as _jit_compiled_convolution_op while saving (showing 1 of 1). These functions will not be directly callable after loading.\n"
     ]
    },
    {
     "name": "stdout",
     "output_type": "stream",
     "text": [
      "INFO:tensorflow:Assets written to: model_experiments\\model_4_conv1D\\assets\n"
     ]
    },
    {
     "name": "stderr",
     "output_type": "stream",
     "text": [
      "INFO:tensorflow:Assets written to: model_experiments\\model_4_conv1D\\assets\n",
      "WARNING:absl:Found untraced functions such as _jit_compiled_convolution_op while saving (showing 1 of 1). These functions will not be directly callable after loading.\n"
     ]
    },
    {
     "name": "stdout",
     "output_type": "stream",
     "text": [
      "INFO:tensorflow:Assets written to: model_experiments\\model_4_conv1D\\assets\n"
     ]
    },
    {
     "name": "stderr",
     "output_type": "stream",
     "text": [
      "INFO:tensorflow:Assets written to: model_experiments\\model_4_conv1D\\assets\n",
      "WARNING:absl:Found untraced functions such as _jit_compiled_convolution_op while saving (showing 1 of 1). These functions will not be directly callable after loading.\n"
     ]
    },
    {
     "name": "stdout",
     "output_type": "stream",
     "text": [
      "INFO:tensorflow:Assets written to: model_experiments\\model_4_conv1D\\assets\n"
     ]
    },
    {
     "name": "stderr",
     "output_type": "stream",
     "text": [
      "INFO:tensorflow:Assets written to: model_experiments\\model_4_conv1D\\assets\n",
      "WARNING:absl:Found untraced functions such as _jit_compiled_convolution_op while saving (showing 1 of 1). These functions will not be directly callable after loading.\n"
     ]
    },
    {
     "name": "stdout",
     "output_type": "stream",
     "text": [
      "INFO:tensorflow:Assets written to: model_experiments\\model_4_conv1D\\assets\n"
     ]
    },
    {
     "name": "stderr",
     "output_type": "stream",
     "text": [
      "INFO:tensorflow:Assets written to: model_experiments\\model_4_conv1D\\assets\n",
      "WARNING:absl:Found untraced functions such as _jit_compiled_convolution_op while saving (showing 1 of 1). These functions will not be directly callable after loading.\n"
     ]
    },
    {
     "name": "stdout",
     "output_type": "stream",
     "text": [
      "INFO:tensorflow:Assets written to: model_experiments\\model_4_conv1D\\assets\n"
     ]
    },
    {
     "name": "stderr",
     "output_type": "stream",
     "text": [
      "INFO:tensorflow:Assets written to: model_experiments\\model_4_conv1D\\assets\n",
      "WARNING:absl:Found untraced functions such as _jit_compiled_convolution_op while saving (showing 1 of 1). These functions will not be directly callable after loading.\n"
     ]
    },
    {
     "name": "stdout",
     "output_type": "stream",
     "text": [
      "INFO:tensorflow:Assets written to: model_experiments\\model_4_conv1D\\assets\n"
     ]
    },
    {
     "name": "stderr",
     "output_type": "stream",
     "text": [
      "INFO:tensorflow:Assets written to: model_experiments\\model_4_conv1D\\assets\n",
      "WARNING:absl:Found untraced functions such as _jit_compiled_convolution_op while saving (showing 1 of 1). These functions will not be directly callable after loading.\n"
     ]
    },
    {
     "name": "stdout",
     "output_type": "stream",
     "text": [
      "INFO:tensorflow:Assets written to: model_experiments\\model_4_conv1D\\assets\n"
     ]
    },
    {
     "name": "stderr",
     "output_type": "stream",
     "text": [
      "INFO:tensorflow:Assets written to: model_experiments\\model_4_conv1D\\assets\n",
      "WARNING:absl:Found untraced functions such as _jit_compiled_convolution_op while saving (showing 1 of 1). These functions will not be directly callable after loading.\n"
     ]
    },
    {
     "name": "stdout",
     "output_type": "stream",
     "text": [
      "INFO:tensorflow:Assets written to: model_experiments\\model_4_conv1D\\assets\n"
     ]
    },
    {
     "name": "stderr",
     "output_type": "stream",
     "text": [
      "INFO:tensorflow:Assets written to: model_experiments\\model_4_conv1D\\assets\n",
      "WARNING:absl:Found untraced functions such as _jit_compiled_convolution_op while saving (showing 1 of 1). These functions will not be directly callable after loading.\n"
     ]
    },
    {
     "name": "stdout",
     "output_type": "stream",
     "text": [
      "INFO:tensorflow:Assets written to: model_experiments\\model_4_conv1D\\assets\n"
     ]
    },
    {
     "name": "stderr",
     "output_type": "stream",
     "text": [
      "INFO:tensorflow:Assets written to: model_experiments\\model_4_conv1D\\assets\n",
      "WARNING:absl:Found untraced functions such as _jit_compiled_convolution_op while saving (showing 1 of 1). These functions will not be directly callable after loading.\n"
     ]
    },
    {
     "name": "stdout",
     "output_type": "stream",
     "text": [
      "INFO:tensorflow:Assets written to: model_experiments\\model_4_conv1D\\assets\n"
     ]
    },
    {
     "name": "stderr",
     "output_type": "stream",
     "text": [
      "INFO:tensorflow:Assets written to: model_experiments\\model_4_conv1D\\assets\n",
      "WARNING:absl:Found untraced functions such as _jit_compiled_convolution_op while saving (showing 1 of 1). These functions will not be directly callable after loading.\n"
     ]
    },
    {
     "name": "stdout",
     "output_type": "stream",
     "text": [
      "INFO:tensorflow:Assets written to: model_experiments\\model_4_conv1D\\assets\n"
     ]
    },
    {
     "name": "stderr",
     "output_type": "stream",
     "text": [
      "INFO:tensorflow:Assets written to: model_experiments\\model_4_conv1D\\assets\n",
      "WARNING:absl:Found untraced functions such as _jit_compiled_convolution_op while saving (showing 1 of 1). These functions will not be directly callable after loading.\n"
     ]
    },
    {
     "name": "stdout",
     "output_type": "stream",
     "text": [
      "INFO:tensorflow:Assets written to: model_experiments\\model_4_conv1D\\assets\n"
     ]
    },
    {
     "name": "stderr",
     "output_type": "stream",
     "text": [
      "INFO:tensorflow:Assets written to: model_experiments\\model_4_conv1D\\assets\n",
      "WARNING:absl:Found untraced functions such as _jit_compiled_convolution_op while saving (showing 1 of 1). These functions will not be directly callable after loading.\n"
     ]
    },
    {
     "name": "stdout",
     "output_type": "stream",
     "text": [
      "INFO:tensorflow:Assets written to: model_experiments\\model_4_conv1D\\assets\n"
     ]
    },
    {
     "name": "stderr",
     "output_type": "stream",
     "text": [
      "INFO:tensorflow:Assets written to: model_experiments\\model_4_conv1D\\assets\n",
      "WARNING:absl:Found untraced functions such as _jit_compiled_convolution_op while saving (showing 1 of 1). These functions will not be directly callable after loading.\n"
     ]
    },
    {
     "name": "stdout",
     "output_type": "stream",
     "text": [
      "INFO:tensorflow:Assets written to: model_experiments\\model_4_conv1D\\assets\n"
     ]
    },
    {
     "name": "stderr",
     "output_type": "stream",
     "text": [
      "INFO:tensorflow:Assets written to: model_experiments\\model_4_conv1D\\assets\n",
      "WARNING:absl:Found untraced functions such as _jit_compiled_convolution_op while saving (showing 1 of 1). These functions will not be directly callable after loading.\n"
     ]
    },
    {
     "name": "stdout",
     "output_type": "stream",
     "text": [
      "INFO:tensorflow:Assets written to: model_experiments\\model_4_conv1D\\assets\n"
     ]
    },
    {
     "name": "stderr",
     "output_type": "stream",
     "text": [
      "INFO:tensorflow:Assets written to: model_experiments\\model_4_conv1D\\assets\n",
      "WARNING:absl:Found untraced functions such as _jit_compiled_convolution_op while saving (showing 1 of 1). These functions will not be directly callable after loading.\n"
     ]
    },
    {
     "name": "stdout",
     "output_type": "stream",
     "text": [
      "INFO:tensorflow:Assets written to: model_experiments\\model_4_conv1D\\assets\n"
     ]
    },
    {
     "name": "stderr",
     "output_type": "stream",
     "text": [
      "INFO:tensorflow:Assets written to: model_experiments\\model_4_conv1D\\assets\n",
      "WARNING:absl:Found untraced functions such as _jit_compiled_convolution_op while saving (showing 1 of 1). These functions will not be directly callable after loading.\n"
     ]
    },
    {
     "name": "stdout",
     "output_type": "stream",
     "text": [
      "INFO:tensorflow:Assets written to: model_experiments\\model_4_conv1D\\assets\n"
     ]
    },
    {
     "name": "stderr",
     "output_type": "stream",
     "text": [
      "INFO:tensorflow:Assets written to: model_experiments\\model_4_conv1D\\assets\n",
      "WARNING:absl:Found untraced functions such as _jit_compiled_convolution_op while saving (showing 1 of 1). These functions will not be directly callable after loading.\n"
     ]
    },
    {
     "name": "stdout",
     "output_type": "stream",
     "text": [
      "INFO:tensorflow:Assets written to: model_experiments\\model_4_conv1D\\assets\n"
     ]
    },
    {
     "name": "stderr",
     "output_type": "stream",
     "text": [
      "INFO:tensorflow:Assets written to: model_experiments\\model_4_conv1D\\assets\n",
      "WARNING:absl:Found untraced functions such as _jit_compiled_convolution_op while saving (showing 1 of 1). These functions will not be directly callable after loading.\n"
     ]
    },
    {
     "name": "stdout",
     "output_type": "stream",
     "text": [
      "INFO:tensorflow:Assets written to: model_experiments\\model_4_conv1D\\assets\n"
     ]
    },
    {
     "name": "stderr",
     "output_type": "stream",
     "text": [
      "INFO:tensorflow:Assets written to: model_experiments\\model_4_conv1D\\assets\n",
      "WARNING:absl:Found untraced functions such as _jit_compiled_convolution_op while saving (showing 1 of 1). These functions will not be directly callable after loading.\n"
     ]
    },
    {
     "name": "stdout",
     "output_type": "stream",
     "text": [
      "INFO:tensorflow:Assets written to: model_experiments\\model_4_conv1D\\assets\n"
     ]
    },
    {
     "name": "stderr",
     "output_type": "stream",
     "text": [
      "INFO:tensorflow:Assets written to: model_experiments\\model_4_conv1D\\assets\n",
      "WARNING:absl:Found untraced functions such as _jit_compiled_convolution_op while saving (showing 1 of 1). These functions will not be directly callable after loading.\n"
     ]
    },
    {
     "name": "stdout",
     "output_type": "stream",
     "text": [
      "INFO:tensorflow:Assets written to: model_experiments\\model_4_conv1D\\assets\n"
     ]
    },
    {
     "name": "stderr",
     "output_type": "stream",
     "text": [
      "INFO:tensorflow:Assets written to: model_experiments\\model_4_conv1D\\assets\n",
      "WARNING:absl:Found untraced functions such as _jit_compiled_convolution_op while saving (showing 1 of 1). These functions will not be directly callable after loading.\n"
     ]
    },
    {
     "name": "stdout",
     "output_type": "stream",
     "text": [
      "INFO:tensorflow:Assets written to: model_experiments\\model_4_conv1D\\assets\n"
     ]
    },
    {
     "name": "stderr",
     "output_type": "stream",
     "text": [
      "INFO:tensorflow:Assets written to: model_experiments\\model_4_conv1D\\assets\n",
      "WARNING:absl:Found untraced functions such as _jit_compiled_convolution_op while saving (showing 1 of 1). These functions will not be directly callable after loading.\n"
     ]
    },
    {
     "name": "stdout",
     "output_type": "stream",
     "text": [
      "INFO:tensorflow:Assets written to: model_experiments\\model_4_conv1D\\assets\n"
     ]
    },
    {
     "name": "stderr",
     "output_type": "stream",
     "text": [
      "INFO:tensorflow:Assets written to: model_experiments\\model_4_conv1D\\assets\n",
      "WARNING:absl:Found untraced functions such as _jit_compiled_convolution_op while saving (showing 1 of 1). These functions will not be directly callable after loading.\n"
     ]
    },
    {
     "name": "stdout",
     "output_type": "stream",
     "text": [
      "INFO:tensorflow:Assets written to: model_experiments\\model_4_conv1D\\assets\n"
     ]
    },
    {
     "name": "stderr",
     "output_type": "stream",
     "text": [
      "INFO:tensorflow:Assets written to: model_experiments\\model_4_conv1D\\assets\n",
      "WARNING:absl:Found untraced functions such as _jit_compiled_convolution_op while saving (showing 1 of 1). These functions will not be directly callable after loading.\n"
     ]
    },
    {
     "name": "stdout",
     "output_type": "stream",
     "text": [
      "INFO:tensorflow:Assets written to: model_experiments\\model_4_conv1D\\assets\n"
     ]
    },
    {
     "name": "stderr",
     "output_type": "stream",
     "text": [
      "INFO:tensorflow:Assets written to: model_experiments\\model_4_conv1D\\assets\n",
      "WARNING:absl:Found untraced functions such as _jit_compiled_convolution_op while saving (showing 1 of 1). These functions will not be directly callable after loading.\n"
     ]
    },
    {
     "name": "stdout",
     "output_type": "stream",
     "text": [
      "INFO:tensorflow:Assets written to: model_experiments\\model_4_conv1D\\assets\n"
     ]
    },
    {
     "name": "stderr",
     "output_type": "stream",
     "text": [
      "INFO:tensorflow:Assets written to: model_experiments\\model_4_conv1D\\assets\n",
      "WARNING:absl:Found untraced functions such as _jit_compiled_convolution_op while saving (showing 1 of 1). These functions will not be directly callable after loading.\n"
     ]
    },
    {
     "name": "stdout",
     "output_type": "stream",
     "text": [
      "INFO:tensorflow:Assets written to: model_experiments\\model_4_conv1D\\assets\n"
     ]
    },
    {
     "name": "stderr",
     "output_type": "stream",
     "text": [
      "INFO:tensorflow:Assets written to: model_experiments\\model_4_conv1D\\assets\n",
      "WARNING:absl:Found untraced functions such as _jit_compiled_convolution_op while saving (showing 1 of 1). These functions will not be directly callable after loading.\n"
     ]
    },
    {
     "name": "stdout",
     "output_type": "stream",
     "text": [
      "INFO:tensorflow:Assets written to: model_experiments\\model_4_conv1D\\assets\n"
     ]
    },
    {
     "name": "stderr",
     "output_type": "stream",
     "text": [
      "INFO:tensorflow:Assets written to: model_experiments\\model_4_conv1D\\assets\n",
      "WARNING:absl:Found untraced functions such as _jit_compiled_convolution_op while saving (showing 1 of 1). These functions will not be directly callable after loading.\n"
     ]
    },
    {
     "name": "stdout",
     "output_type": "stream",
     "text": [
      "INFO:tensorflow:Assets written to: model_experiments\\model_4_conv1D\\assets\n"
     ]
    },
    {
     "name": "stderr",
     "output_type": "stream",
     "text": [
      "INFO:tensorflow:Assets written to: model_experiments\\model_4_conv1D\\assets\n",
      "WARNING:absl:Found untraced functions such as _jit_compiled_convolution_op while saving (showing 1 of 1). These functions will not be directly callable after loading.\n"
     ]
    },
    {
     "name": "stdout",
     "output_type": "stream",
     "text": [
      "INFO:tensorflow:Assets written to: model_experiments\\model_4_conv1D\\assets\n"
     ]
    },
    {
     "name": "stderr",
     "output_type": "stream",
     "text": [
      "INFO:tensorflow:Assets written to: model_experiments\\model_4_conv1D\\assets\n"
     ]
    },
    {
     "data": {
      "text/plain": [
       "<keras.callbacks.History at 0x255ad62a650>"
      ]
     },
     "execution_count": 76,
     "metadata": {},
     "output_type": "execute_result"
    }
   ],
   "source": [
    "tf.random.set_seed(42)\n",
    "\n",
    "# Create Conv1D model\n",
    "model_4 = tf.keras.Sequential([\n",
    "    layers.Lambda(lambda x: tf.expand_dims(x, axis=1)),\n",
    "    layers.Conv1D(filters=128, kernel_size=5, strides=1, padding='causal', activation='relu'),\n",
    "    layers.Dense(HORIZON)\n",
    "], name='model_4_conv1D')\n",
    "\n",
    "# Compile model\n",
    "model_4.compile(loss='mae',\n",
    "                optimizer=tf.keras.optimizers.Adam())\n",
    "\n",
    "# Fit model\n",
    "model_4.fit(train_windows,\n",
    "            train_labels,\n",
    "            batch_size=128,\n",
    "            epochs=100,\n",
    "            verbose=0,\n",
    "            validation_data=(test_windows, test_labels),\n",
    "            callbacks=[create_model_checkpoint(model_name=model_4.name)])"
   ]
  },
  {
   "cell_type": "code",
   "execution_count": 77,
   "id": "04870920",
   "metadata": {},
   "outputs": [
    {
     "name": "stdout",
     "output_type": "stream",
     "text": [
      "Model: \"model_4_conv1D\"\n",
      "_________________________________________________________________\n",
      " Layer (type)                Output Shape              Param #   \n",
      "=================================================================\n",
      " lambda_1 (Lambda)           (None, 1, 7)              0         \n",
      "                                                                 \n",
      " conv1d (Conv1D)             (None, 1, 128)            4608      \n",
      "                                                                 \n",
      " dense_6 (Dense)             (None, 1, 1)              129       \n",
      "                                                                 \n",
      "=================================================================\n",
      "Total params: 4,737\n",
      "Trainable params: 4,737\n",
      "Non-trainable params: 0\n",
      "_________________________________________________________________\n"
     ]
    }
   ],
   "source": [
    "model_4.summary()"
   ]
  },
  {
   "cell_type": "code",
   "execution_count": 78,
   "id": "f7fcad34",
   "metadata": {},
   "outputs": [
    {
     "name": "stdout",
     "output_type": "stream",
     "text": [
      "18/18 [==============================] - 0s 4ms/step - loss: 588.5760\n"
     ]
    },
    {
     "data": {
      "text/plain": [
       "588.5760498046875"
      ]
     },
     "execution_count": 78,
     "metadata": {},
     "output_type": "execute_result"
    }
   ],
   "source": [
    "# Evaluate model\n",
    "model_4.evaluate(test_windows, test_labels)"
   ]
  },
  {
   "cell_type": "code",
   "execution_count": 79,
   "id": "9315ab0d",
   "metadata": {},
   "outputs": [
    {
     "name": "stdout",
     "output_type": "stream",
     "text": [
      "18/18 [==============================] - 0s 2ms/step - loss: 574.3506\n"
     ]
    },
    {
     "data": {
      "text/plain": [
       "574.3505859375"
      ]
     },
     "execution_count": 79,
     "metadata": {},
     "output_type": "execute_result"
    }
   ],
   "source": [
    "# Load back in best performing Conv1D and re-evaluate\n",
    "model_4 = tf.keras.models.load_model('model_experiments/model_4_conv1D')\n",
    "model_4.evaluate(test_windows, test_labels)"
   ]
  },
  {
   "cell_type": "code",
   "execution_count": 80,
   "id": "33cdffb2",
   "metadata": {},
   "outputs": [
    {
     "name": "stdout",
     "output_type": "stream",
     "text": [
      "18/18 [==============================] - 0s 2ms/step\n"
     ]
    },
    {
     "data": {
      "text/plain": [
       "<tf.Tensor: shape=(5,), dtype=float32, numpy=array([8753.833, 8690.442, 8570.221, 8484.329, 8534.627], dtype=float32)>"
      ]
     },
     "execution_count": 80,
     "metadata": {},
     "output_type": "execute_result"
    }
   ],
   "source": [
    "# Make predictions\n",
    "model_4_preds = make_preds(model_4, test_windows)\n",
    "model_4_preds[:5]"
   ]
  },
  {
   "cell_type": "code",
   "execution_count": 81,
   "id": "c6126ee6",
   "metadata": {},
   "outputs": [
    {
     "data": {
      "text/plain": [
       "{'mae': 574.3506,\n",
       " 'mse': 1197549.9,\n",
       " 'rmse': 1094.3262,\n",
       " 'mape': 2.5663364,\n",
       " 'mase': 1.0024427}"
      ]
     },
     "execution_count": 81,
     "metadata": {},
     "output_type": "execute_result"
    }
   ],
   "source": [
    "# Evaluate predictions\n",
    "model_4_results = evaluate_preds(y_true=tf.squeeze(test_labels),\n",
    "                                 y_pred=model_4_preds)\n",
    "model_4_results"
   ]
  },
  {
   "cell_type": "code",
   "execution_count": 82,
   "id": "d4aaf90b",
   "metadata": {},
   "outputs": [
    {
     "data": {
      "text/plain": [
       "{'mae': 566.6607,\n",
       " 'mse': 1164203.6,\n",
       " 'rmse': 1078.9827,\n",
       " 'mape': 2.5253751,\n",
       " 'mase': 0.9890211}"
      ]
     },
     "execution_count": 82,
     "metadata": {},
     "output_type": "execute_result"
    }
   ],
   "source": [
    "model_1_results"
   ]
  }
 ],
 "metadata": {
  "kernelspec": {
   "display_name": "tf3",
   "language": "python",
   "name": "python3"
  },
  "language_info": {
   "codemirror_mode": {
    "name": "ipython",
    "version": 3
   },
   "file_extension": ".py",
   "mimetype": "text/x-python",
   "name": "python",
   "nbconvert_exporter": "python",
   "pygments_lexer": "ipython3",
   "version": "3.10.18"
  }
 },
 "nbformat": 4,
 "nbformat_minor": 5
}

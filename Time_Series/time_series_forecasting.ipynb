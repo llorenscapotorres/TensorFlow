{
 "cells": [
  {
   "cell_type": "markdown",
   "id": "197107bd",
   "metadata": {},
   "source": [
    "# Time Series Forecasting Fundamentals with TensorFlow + Milestone Project: BitPredict\n",
    "\n",
    "Let's write some TensorFlow code to predict the price of Bitcoin based on historical price of Bitcoin."
   ]
  },
  {
   "cell_type": "markdown",
   "id": "d842b633",
   "metadata": {},
   "source": [
    "## Importing time series with pandas"
   ]
  },
  {
   "cell_type": "code",
   "execution_count": 1,
   "id": "912c0b37",
   "metadata": {},
   "outputs": [
    {
     "data": {
      "application/vnd.microsoft.datawrangler.viewer.v0+json": {
       "columns": [
        {
         "name": "Date",
         "rawType": "datetime64[ns]",
         "type": "datetime"
        },
        {
         "name": "Currency",
         "rawType": "object",
         "type": "string"
        },
        {
         "name": "Closing Price (USD)",
         "rawType": "float64",
         "type": "float"
        },
        {
         "name": "24h Open (USD)",
         "rawType": "float64",
         "type": "float"
        },
        {
         "name": "24h High (USD)",
         "rawType": "float64",
         "type": "float"
        },
        {
         "name": "24h Low (USD)",
         "rawType": "float64",
         "type": "float"
        }
       ],
       "ref": "192905cb-d10e-4b6e-b16e-b4e212fe44fc",
       "rows": [
        [
         "2013-10-01 00:00:00",
         "BTC",
         "123.65499",
         "124.30466",
         "124.75166",
         "122.56349"
        ],
        [
         "2013-10-02 00:00:00",
         "BTC",
         "125.455",
         "123.65499",
         "125.7585",
         "123.63383"
        ],
        [
         "2013-10-03 00:00:00",
         "BTC",
         "108.58483",
         "125.455",
         "125.66566",
         "83.32833"
        ],
        [
         "2013-10-04 00:00:00",
         "BTC",
         "118.67466",
         "108.58483",
         "118.675",
         "107.05816"
        ],
        [
         "2013-10-05 00:00:00",
         "BTC",
         "121.33866",
         "118.67466",
         "121.93633",
         "118.00566"
        ]
       ],
       "shape": {
        "columns": 5,
        "rows": 5
       }
      },
      "text/html": [
       "<div>\n",
       "<style scoped>\n",
       "    .dataframe tbody tr th:only-of-type {\n",
       "        vertical-align: middle;\n",
       "    }\n",
       "\n",
       "    .dataframe tbody tr th {\n",
       "        vertical-align: top;\n",
       "    }\n",
       "\n",
       "    .dataframe thead th {\n",
       "        text-align: right;\n",
       "    }\n",
       "</style>\n",
       "<table border=\"1\" class=\"dataframe\">\n",
       "  <thead>\n",
       "    <tr style=\"text-align: right;\">\n",
       "      <th></th>\n",
       "      <th>Currency</th>\n",
       "      <th>Closing Price (USD)</th>\n",
       "      <th>24h Open (USD)</th>\n",
       "      <th>24h High (USD)</th>\n",
       "      <th>24h Low (USD)</th>\n",
       "    </tr>\n",
       "    <tr>\n",
       "      <th>Date</th>\n",
       "      <th></th>\n",
       "      <th></th>\n",
       "      <th></th>\n",
       "      <th></th>\n",
       "      <th></th>\n",
       "    </tr>\n",
       "  </thead>\n",
       "  <tbody>\n",
       "    <tr>\n",
       "      <th>2013-10-01</th>\n",
       "      <td>BTC</td>\n",
       "      <td>123.65499</td>\n",
       "      <td>124.30466</td>\n",
       "      <td>124.75166</td>\n",
       "      <td>122.56349</td>\n",
       "    </tr>\n",
       "    <tr>\n",
       "      <th>2013-10-02</th>\n",
       "      <td>BTC</td>\n",
       "      <td>125.45500</td>\n",
       "      <td>123.65499</td>\n",
       "      <td>125.75850</td>\n",
       "      <td>123.63383</td>\n",
       "    </tr>\n",
       "    <tr>\n",
       "      <th>2013-10-03</th>\n",
       "      <td>BTC</td>\n",
       "      <td>108.58483</td>\n",
       "      <td>125.45500</td>\n",
       "      <td>125.66566</td>\n",
       "      <td>83.32833</td>\n",
       "    </tr>\n",
       "    <tr>\n",
       "      <th>2013-10-04</th>\n",
       "      <td>BTC</td>\n",
       "      <td>118.67466</td>\n",
       "      <td>108.58483</td>\n",
       "      <td>118.67500</td>\n",
       "      <td>107.05816</td>\n",
       "    </tr>\n",
       "    <tr>\n",
       "      <th>2013-10-05</th>\n",
       "      <td>BTC</td>\n",
       "      <td>121.33866</td>\n",
       "      <td>118.67466</td>\n",
       "      <td>121.93633</td>\n",
       "      <td>118.00566</td>\n",
       "    </tr>\n",
       "  </tbody>\n",
       "</table>\n",
       "</div>"
      ],
      "text/plain": [
       "           Currency  Closing Price (USD)  24h Open (USD)  24h High (USD)  \\\n",
       "Date                                                                       \n",
       "2013-10-01      BTC            123.65499       124.30466       124.75166   \n",
       "2013-10-02      BTC            125.45500       123.65499       125.75850   \n",
       "2013-10-03      BTC            108.58483       125.45500       125.66566   \n",
       "2013-10-04      BTC            118.67466       108.58483       118.67500   \n",
       "2013-10-05      BTC            121.33866       118.67466       121.93633   \n",
       "\n",
       "            24h Low (USD)  \n",
       "Date                       \n",
       "2013-10-01      122.56349  \n",
       "2013-10-02      123.63383  \n",
       "2013-10-03       83.32833  \n",
       "2013-10-04      107.05816  \n",
       "2013-10-05      118.00566  "
      ]
     },
     "execution_count": 1,
     "metadata": {},
     "output_type": "execute_result"
    }
   ],
   "source": [
    "# Import with pandas\n",
    "import pandas as pd\n",
    "# Let's read in our Bitcoin data and parse the dates\n",
    "df = pd.read_csv('./bitcoin_price.csv',\n",
    "                 parse_dates=['Date'],\n",
    "                 index_col=['Date']) # parse the date column and tell pandas column 1 is a datetime\n",
    "\n",
    "df.head()"
   ]
  },
  {
   "cell_type": "code",
   "execution_count": 2,
   "id": "756c4c8b",
   "metadata": {},
   "outputs": [
    {
     "data": {
      "application/vnd.microsoft.datawrangler.viewer.v0+json": {
       "columns": [
        {
         "name": "Date",
         "rawType": "datetime64[ns]",
         "type": "datetime"
        },
        {
         "name": "Currency",
         "rawType": "object",
         "type": "string"
        },
        {
         "name": "Closing Price (USD)",
         "rawType": "float64",
         "type": "float"
        },
        {
         "name": "24h Open (USD)",
         "rawType": "float64",
         "type": "float"
        },
        {
         "name": "24h High (USD)",
         "rawType": "float64",
         "type": "float"
        },
        {
         "name": "24h Low (USD)",
         "rawType": "float64",
         "type": "float"
        }
       ],
       "ref": "4ecdc60b-a2c1-4492-bdfe-3f8fa9a11110",
       "rows": [
        [
         "2021-05-14 00:00:00",
         "BTC",
         "49764.1320815975",
         "49596.7788914698",
         "51448.7985760232",
         "46294.7201795113"
        ],
        [
         "2021-05-15 00:00:00",
         "BTC",
         "50032.6931367648",
         "49717.3543531654",
         "51578.3125446899",
         "48944.3465360214"
        ],
        [
         "2021-05-16 00:00:00",
         "BTC",
         "47885.6252547166",
         "49926.035067459",
         "50690.8029495356",
         "47005.1022924768"
        ],
        [
         "2021-05-17 00:00:00",
         "BTC",
         "45604.6157536131",
         "46805.5378519185",
         "49670.4141738148",
         "43868.6389692715"
        ],
        [
         "2021-05-18 00:00:00",
         "BTC",
         "43144.4712908603",
         "46439.3365698047",
         "46622.8534374849",
         "42102.3464296188"
        ]
       ],
       "shape": {
        "columns": 5,
        "rows": 5
       }
      },
      "text/html": [
       "<div>\n",
       "<style scoped>\n",
       "    .dataframe tbody tr th:only-of-type {\n",
       "        vertical-align: middle;\n",
       "    }\n",
       "\n",
       "    .dataframe tbody tr th {\n",
       "        vertical-align: top;\n",
       "    }\n",
       "\n",
       "    .dataframe thead th {\n",
       "        text-align: right;\n",
       "    }\n",
       "</style>\n",
       "<table border=\"1\" class=\"dataframe\">\n",
       "  <thead>\n",
       "    <tr style=\"text-align: right;\">\n",
       "      <th></th>\n",
       "      <th>Currency</th>\n",
       "      <th>Closing Price (USD)</th>\n",
       "      <th>24h Open (USD)</th>\n",
       "      <th>24h High (USD)</th>\n",
       "      <th>24h Low (USD)</th>\n",
       "    </tr>\n",
       "    <tr>\n",
       "      <th>Date</th>\n",
       "      <th></th>\n",
       "      <th></th>\n",
       "      <th></th>\n",
       "      <th></th>\n",
       "      <th></th>\n",
       "    </tr>\n",
       "  </thead>\n",
       "  <tbody>\n",
       "    <tr>\n",
       "      <th>2021-05-14</th>\n",
       "      <td>BTC</td>\n",
       "      <td>49764.132082</td>\n",
       "      <td>49596.778891</td>\n",
       "      <td>51448.798576</td>\n",
       "      <td>46294.720180</td>\n",
       "    </tr>\n",
       "    <tr>\n",
       "      <th>2021-05-15</th>\n",
       "      <td>BTC</td>\n",
       "      <td>50032.693137</td>\n",
       "      <td>49717.354353</td>\n",
       "      <td>51578.312545</td>\n",
       "      <td>48944.346536</td>\n",
       "    </tr>\n",
       "    <tr>\n",
       "      <th>2021-05-16</th>\n",
       "      <td>BTC</td>\n",
       "      <td>47885.625255</td>\n",
       "      <td>49926.035067</td>\n",
       "      <td>50690.802950</td>\n",
       "      <td>47005.102292</td>\n",
       "    </tr>\n",
       "    <tr>\n",
       "      <th>2021-05-17</th>\n",
       "      <td>BTC</td>\n",
       "      <td>45604.615754</td>\n",
       "      <td>46805.537852</td>\n",
       "      <td>49670.414174</td>\n",
       "      <td>43868.638969</td>\n",
       "    </tr>\n",
       "    <tr>\n",
       "      <th>2021-05-18</th>\n",
       "      <td>BTC</td>\n",
       "      <td>43144.471291</td>\n",
       "      <td>46439.336570</td>\n",
       "      <td>46622.853437</td>\n",
       "      <td>42102.346430</td>\n",
       "    </tr>\n",
       "  </tbody>\n",
       "</table>\n",
       "</div>"
      ],
      "text/plain": [
       "           Currency  Closing Price (USD)  24h Open (USD)  24h High (USD)  \\\n",
       "Date                                                                       \n",
       "2021-05-14      BTC         49764.132082    49596.778891    51448.798576   \n",
       "2021-05-15      BTC         50032.693137    49717.354353    51578.312545   \n",
       "2021-05-16      BTC         47885.625255    49926.035067    50690.802950   \n",
       "2021-05-17      BTC         45604.615754    46805.537852    49670.414174   \n",
       "2021-05-18      BTC         43144.471291    46439.336570    46622.853437   \n",
       "\n",
       "            24h Low (USD)  \n",
       "Date                       \n",
       "2021-05-14   46294.720180  \n",
       "2021-05-15   48944.346536  \n",
       "2021-05-16   47005.102292  \n",
       "2021-05-17   43868.638969  \n",
       "2021-05-18   42102.346430  "
      ]
     },
     "execution_count": 2,
     "metadata": {},
     "output_type": "execute_result"
    }
   ],
   "source": [
    "df.tail()"
   ]
  },
  {
   "cell_type": "code",
   "execution_count": 3,
   "id": "9fca5567",
   "metadata": {},
   "outputs": [
    {
     "name": "stdout",
     "output_type": "stream",
     "text": [
      "<class 'pandas.core.frame.DataFrame'>\n",
      "DatetimeIndex: 2787 entries, 2013-10-01 to 2021-05-18\n",
      "Data columns (total 5 columns):\n",
      " #   Column               Non-Null Count  Dtype  \n",
      "---  ------               --------------  -----  \n",
      " 0   Currency             2787 non-null   object \n",
      " 1   Closing Price (USD)  2787 non-null   float64\n",
      " 2   24h Open (USD)       2787 non-null   float64\n",
      " 3   24h High (USD)       2787 non-null   float64\n",
      " 4   24h Low (USD)        2787 non-null   float64\n",
      "dtypes: float64(4), object(1)\n",
      "memory usage: 130.6+ KB\n"
     ]
    }
   ],
   "source": [
    "df.info()"
   ]
  },
  {
   "cell_type": "code",
   "execution_count": 4,
   "id": "67661981",
   "metadata": {},
   "outputs": [
    {
     "data": {
      "text/plain": [
       "2787"
      ]
     },
     "execution_count": 4,
     "metadata": {},
     "output_type": "execute_result"
    }
   ],
   "source": [
    "# How many samples do we have?\n",
    "len(df)"
   ]
  },
  {
   "cell_type": "markdown",
   "id": "7733d08d",
   "metadata": {},
   "source": [
    "We have collected the historical price of Bitcoin for the past ~8 years but there's 2787 samples.\n",
    "\n",
    "Typically deep learning models usually like lots and lots and lots of samples (where lots and lots and lots can be thousands to tens of thousands to millions).\n",
    "\n",
    "A smaller number of samples is something you will often run into with time series of ata problems.\n",
    "\n",
    "**Note:** The **seasonality** of a time series dataset is referred as the nmber of samples per year. So for our Bitcoin data, it has seasonality of daily or value of 365 because we collect one sample per day meaning we will get 365 samples per year."
   ]
  },
  {
   "cell_type": "code",
   "execution_count": 5,
   "id": "5f48b757",
   "metadata": {},
   "outputs": [
    {
     "data": {
      "application/vnd.microsoft.datawrangler.viewer.v0+json": {
       "columns": [
        {
         "name": "Date",
         "rawType": "datetime64[ns]",
         "type": "datetime"
        },
        {
         "name": "Price",
         "rawType": "float64",
         "type": "float"
        }
       ],
       "ref": "1357a874-1ef4-43de-ab58-ac74f25df6da",
       "rows": [
        [
         "2013-10-01 00:00:00",
         "123.65499"
        ],
        [
         "2013-10-02 00:00:00",
         "125.455"
        ],
        [
         "2013-10-03 00:00:00",
         "108.58483"
        ],
        [
         "2013-10-04 00:00:00",
         "118.67466"
        ],
        [
         "2013-10-05 00:00:00",
         "121.33866"
        ]
       ],
       "shape": {
        "columns": 1,
        "rows": 5
       }
      },
      "text/html": [
       "<div>\n",
       "<style scoped>\n",
       "    .dataframe tbody tr th:only-of-type {\n",
       "        vertical-align: middle;\n",
       "    }\n",
       "\n",
       "    .dataframe tbody tr th {\n",
       "        vertical-align: top;\n",
       "    }\n",
       "\n",
       "    .dataframe thead th {\n",
       "        text-align: right;\n",
       "    }\n",
       "</style>\n",
       "<table border=\"1\" class=\"dataframe\">\n",
       "  <thead>\n",
       "    <tr style=\"text-align: right;\">\n",
       "      <th></th>\n",
       "      <th>Price</th>\n",
       "    </tr>\n",
       "    <tr>\n",
       "      <th>Date</th>\n",
       "      <th></th>\n",
       "    </tr>\n",
       "  </thead>\n",
       "  <tbody>\n",
       "    <tr>\n",
       "      <th>2013-10-01</th>\n",
       "      <td>123.65499</td>\n",
       "    </tr>\n",
       "    <tr>\n",
       "      <th>2013-10-02</th>\n",
       "      <td>125.45500</td>\n",
       "    </tr>\n",
       "    <tr>\n",
       "      <th>2013-10-03</th>\n",
       "      <td>108.58483</td>\n",
       "    </tr>\n",
       "    <tr>\n",
       "      <th>2013-10-04</th>\n",
       "      <td>118.67466</td>\n",
       "    </tr>\n",
       "    <tr>\n",
       "      <th>2013-10-05</th>\n",
       "      <td>121.33866</td>\n",
       "    </tr>\n",
       "  </tbody>\n",
       "</table>\n",
       "</div>"
      ],
      "text/plain": [
       "                Price\n",
       "Date                 \n",
       "2013-10-01  123.65499\n",
       "2013-10-02  125.45500\n",
       "2013-10-03  108.58483\n",
       "2013-10-04  118.67466\n",
       "2013-10-05  121.33866"
      ]
     },
     "execution_count": 5,
     "metadata": {},
     "output_type": "execute_result"
    }
   ],
   "source": [
    "# Only want closing price for each day\n",
    "bitcoin_prices = pd.DataFrame(df['Closing Price (USD)']).rename(columns={'Closing Price (USD)': 'Price'})\n",
    "bitcoin_prices.head()"
   ]
  },
  {
   "cell_type": "code",
   "execution_count": 6,
   "id": "f8096130",
   "metadata": {},
   "outputs": [
    {
     "data": {
      "image/png": "[encoded data removed]",
      "text/plain": [
       "<Figure size 1000x700 with 1 Axes>"
      ]
     },
     "metadata": {},
     "output_type": "display_data"
    }
   ],
   "source": [
    "import matplotlib.pyplot as plt\n",
    "bitcoin_prices.plot(figsize=(10, 7))\n",
    "plt.ylabel('BTC Price')\n",
    "plt.title('Price of Bitcoin from 1 Oct 2013 to 18 May 2021', fontsize=16)\n",
    "plt.legend(fontsize=14)\n",
    "plt.show()"
   ]
  },
  {
   "cell_type": "markdown",
   "id": "719f1176",
   "metadata": {},
   "source": [
    "## Importing time series data with Pyhton's CSV module"
   ]
  },
  {
   "cell_type": "code",
   "execution_count": 7,
   "id": "1564be6a",
   "metadata": {},
   "outputs": [
    {
     "data": {
      "text/plain": [
       "([datetime.datetime(2013, 10, 1, 0, 0),\n",
       "  datetime.datetime(2013, 10, 2, 0, 0),\n",
       "  datetime.datetime(2013, 10, 3, 0, 0),\n",
       "  datetime.datetime(2013, 10, 4, 0, 0),\n",
       "  datetime.datetime(2013, 10, 5, 0, 0),\n",
       "  datetime.datetime(2013, 10, 6, 0, 0),\n",
       "  datetime.datetime(2013, 10, 7, 0, 0),\n",
       "  datetime.datetime(2013, 10, 8, 0, 0),\n",
       "  datetime.datetime(2013, 10, 9, 0, 0),\n",
       "  datetime.datetime(2013, 10, 10, 0, 0)],\n",
       " [123.65499,\n",
       "  125.455,\n",
       "  108.58483,\n",
       "  118.67466,\n",
       "  121.33866,\n",
       "  120.65533,\n",
       "  121.795,\n",
       "  123.033,\n",
       "  124.049,\n",
       "  125.96116])"
      ]
     },
     "execution_count": 7,
     "metadata": {},
     "output_type": "execute_result"
    }
   ],
   "source": [
    "# Importing and formatting historical Bitcoin data with Python\n",
    "import csv\n",
    "from datetime import datetime\n",
    "\n",
    "timesteps = []\n",
    "btc_price = []\n",
    "with open(\"bitcoin_price.csv\", \"r\") as f:\n",
    "    csv_reader = csv.reader(f, delimiter=\",\")\n",
    "    next(csv_reader) # Skip the header\n",
    "    for line in csv_reader:\n",
    "        timesteps.append(datetime.strptime(line[1], \"%Y-%m-%d\")) # get the dates as dates (not strings)\n",
    "        btc_price.append(float(line[2])) # get the bitcoin price as float\n",
    "\n",
    "# View first 10 of each\n",
    "timesteps[:10], btc_price[:10]"
   ]
  },
  {
   "cell_type": "code",
   "execution_count": 8,
   "id": "b66fb40d",
   "metadata": {},
   "outputs": [
    {
     "data": {
      "image/png": "[encoded data removed]",
      "text/plain": [
       "<Figure size 1000x700 with 1 Axes>"
      ]
     },
     "metadata": {},
     "output_type": "display_data"
    }
   ],
   "source": [
    "# Plot from CSV\n",
    "import matplotlib.pyplot as plt\n",
    "import numpy as np\n",
    "\n",
    "plt.figure(figsize=(10, 7))\n",
    "plt.plot(timesteps, btc_price)\n",
    "plt.ylabel('BTC Price')\n",
    "plt.title('Price of Bitcoin from 1 Oct 2013 to 18 May 2021', fontsize=16)\n",
    "plt.xlabel('Date')\n",
    "plt.show()"
   ]
  },
  {
   "cell_type": "markdown",
   "id": "cde748e6",
   "metadata": {},
   "source": [
    "## Format data part 1: Create train and test sets of our time series data"
   ]
  },
  {
   "cell_type": "markdown",
   "id": "719aa139",
   "metadata": {},
   "source": [
    "### Creating train and test sets with time series data (the wrong way)"
   ]
  },
  {
   "cell_type": "code",
   "execution_count": 9,
   "id": "65ba12b5",
   "metadata": {},
   "outputs": [
    {
     "data": {
      "text/plain": [
       "(array(['2013-10-01T00:00:00.000000000', '2013-10-02T00:00:00.000000000',\n",
       "        '2013-10-03T00:00:00.000000000', '2013-10-04T00:00:00.000000000',\n",
       "        '2013-10-05T00:00:00.000000000', '2013-10-06T00:00:00.000000000',\n",
       "        '2013-10-07T00:00:00.000000000', '2013-10-08T00:00:00.000000000',\n",
       "        '2013-10-09T00:00:00.000000000', '2013-10-10T00:00:00.000000000'],\n",
       "       dtype='datetime64[ns]'),\n",
       " array([123.65499, 125.455  , 108.58483, 118.67466, 121.33866, 120.65533,\n",
       "        121.795  , 123.033  , 124.049  , 125.96116]))"
      ]
     },
     "execution_count": 9,
     "metadata": {},
     "output_type": "execute_result"
    }
   ],
   "source": [
    "# Get bitcoin date array\n",
    "timesteps = bitcoin_prices.index.to_numpy()\n",
    "prices = bitcoin_prices['Price'].to_numpy()\n",
    "\n",
    "timesteps[:10], prices[:10]"
   ]
  },
  {
   "cell_type": "code",
   "execution_count": 10,
   "id": "acd8af70",
   "metadata": {},
   "outputs": [
    {
     "data": {
      "text/plain": [
       "((2229,), (558,), (2229,), (558,))"
      ]
     },
     "execution_count": 10,
     "metadata": {},
     "output_type": "execute_result"
    }
   ],
   "source": [
    "# Wrong way to make train/test sets for time series data\n",
    "from sklearn.model_selection import train_test_split\n",
    "\n",
    "X_train, X_test, y_train, y_test = train_test_split(timesteps, # dates\n",
    "                                                    prices, # BTC price\n",
    "                                                    test_size=0.2,\n",
    "                                                    random_state=42)\n",
    "\n",
    "X_train.shape, X_test.shape, y_train.shape, y_test.shape"
   ]
  },
  {
   "cell_type": "code",
   "execution_count": 11,
   "id": "1c2db7b5",
   "metadata": {},
   "outputs": [
    {
     "data": {
      "image/png": "[encoded data removed]",
      "text/plain": [
       "<Figure size 1000x700 with 1 Axes>"
      ]
     },
     "metadata": {},
     "output_type": "display_data"
    }
   ],
   "source": [
    "# Let's plot wrong train and test splits\n",
    "plt.figure(figsize=(10, 7))\n",
    "plt.scatter(X_train, y_train, s=5, label='Train data')\n",
    "plt.scatter(X_test, y_test, s=5, label='Test data')\n",
    "plt.xlabel('Data')\n",
    "plt.ylabel('BTC Price')\n",
    "plt.legend(fontsize=14)\n",
    "plt.show()"
   ]
  },
  {
   "cell_type": "markdown",
   "id": "d9c27238",
   "metadata": {},
   "source": [
    "### Create train and test sets for time series (the right way)"
   ]
  },
  {
   "cell_type": "code",
   "execution_count": 12,
   "id": "ba8ec97e",
   "metadata": {},
   "outputs": [
    {
     "data": {
      "text/plain": [
       "(2229, 558, 2229, 558)"
      ]
     },
     "execution_count": 12,
     "metadata": {},
     "output_type": "execute_result"
    }
   ],
   "source": [
    "# Create train and test splits the right way for time series data\n",
    "split_size = int(0.8 * len(prices)) # 80% train, 20% test\n",
    "\n",
    "# Create train data splits (everything before the splits)\n",
    "X_train, y_train = timesteps[:split_size], prices[:split_size]\n",
    "\n",
    "# Create test data splits (everything beyond the split)\n",
    "X_test, y_test = timesteps[split_size:], prices[split_size:]\n",
    "\n",
    "len(X_train), len(X_test), len(y_train), len(y_test)"
   ]
  },
  {
   "cell_type": "code",
   "execution_count": 13,
   "id": "d7b4d4cd",
   "metadata": {},
   "outputs": [
    {
     "data": {
      "image/png": "[encoded data removed]",
      "text/plain": [
       "<Figure size 1000x700 with 1 Axes>"
      ]
     },
     "metadata": {},
     "output_type": "display_data"
    }
   ],
   "source": [
    "# Plto with the correctly splits\n",
    "plt.figure(figsize=(10, 7))\n",
    "plt.scatter(X_train, y_train, s=5, label='Train data')\n",
    "plt.scatter(X_test, y_test, s=5, label='Test data')\n",
    "plt.xlabel('Data')\n",
    "plt.ylabel('BTC Price')\n",
    "plt.legend(fontsize=14)\n",
    "plt.show()"
   ]
  },
  {
   "cell_type": "markdown",
   "id": "864cc198",
   "metadata": {},
   "source": [
    "## Create a plotting function"
   ]
  },
  {
   "cell_type": "code",
   "execution_count": 14,
   "id": "4289393c",
   "metadata": {},
   "outputs": [],
   "source": [
    "# Create a function to plot time series data\n",
    "def plot_time_series(timesteps, values, format=\".\", start=0, end=None, label=None):\n",
    "    \"\"\"\n",
    "    Plots timesteps (a series of points in time) against values (a series of values across timesteps).\n",
    "\n",
    "    Parameters:\n",
    "    -----------\n",
    "    timesteps: array of timestep values\n",
    "    values: array of values across time\n",
    "    format: style of plot, default \".\"\n",
    "    start: where to start the plot (setting a value will index from start of timesteps and values)\n",
    "    end: where to end the plot\n",
    "    label: label to show on plot about values\n",
    "    \"\"\"\n",
    "    # Plot the series\n",
    "    plt.plot(timesteps[start:end], values[start:end], format, label=label)\n",
    "    plt.xlabel(\"Time\")\n",
    "    plt.ylabel(\"BTC Price\")\n",
    "    if label:\n",
    "        plt.legend(fontsize=14)\n",
    "    plt.grid(True)"
   ]
  },
  {
   "cell_type": "code",
   "execution_count": 15,
   "id": "8a5a9712",
   "metadata": {},
   "outputs": [
    {
     "data": {
      "image/png": "[encoded data removed]",
      "text/plain": [
       "<Figure size 1000x700 with 1 Axes>"
      ]
     },
     "metadata": {},
     "output_type": "display_data"
    }
   ],
   "source": [
    "# Test out plotting function\n",
    "plt.figure(figsize=(10, 7))\n",
    "plot_time_series(timesteps=X_train, values=y_train, label=\"Train data\")\n",
    "plot_time_series(timesteps=X_test, values=y_test, label=\"Test data\")"
   ]
  },
  {
   "cell_type": "markdown",
   "id": "d35ca8ea",
   "metadata": {},
   "source": [
    "## Modelling Experiments\n",
    "\n",
    "We have got some Bitcoin historical data, to model it, let's run a series of modelling experiments and see which model performs best.\n",
    "\n",
    "Terms to be familiar with:\n",
    "\n",
    "* **Horizon** = number of timesteps into the future we are going to predict\n",
    "* **Window size** = number of timesteps we are going to use to predict **horizon**\n",
    "\n",
    "Modelling experiments we are running:\n",
    "\n",
    "1. Naïve model (baseline)\n",
    "2. Dense Model, horizon = 1, window = 7\n",
    "3. Dense Model, horizon = 1, window = 30\n",
    "4. Dense Model, horizon = 7, window = 30\n",
    "5. Conv1D\n",
    "6. LSTM\n",
    "7. Dense Model, horizon = 1, window = 7 (but with multivariate data)\n",
    "8. N-BEATs Algorithm\n",
    "9. Ensemble (multiple models optimized stacked together)\n",
    "10. Future prediction model\n",
    "11. Dense Model (but with turkey data introduced) "
   ]
  },
  {
   "cell_type": "markdown",
   "id": "fc58f85b",
   "metadata": {},
   "source": [
    "## Model 0: Naive forecast (baseline)\n",
    "\n",
    "The formula looks like this:\n",
    "\n",
    "$$\\hat{y}_{t} = y_{t-1}$$\n",
    "\n",
    "In English:\n",
    "\n",
    "> The prediction at timestep t (y-hat) is equal to the value at timestep t-1 (previous step) - this is for horizon of 1."
   ]
  },
  {
   "cell_type": "code",
   "execution_count": 16,
   "id": "66850391",
   "metadata": {},
   "outputs": [
    {
     "data": {
      "text/plain": [
       "(array([9226.48582088, 8794.35864452, 8798.04205463, 9081.18687849,\n",
       "        8711.53433917, 8760.89271814, 8749.52059102, 8656.97092235,\n",
       "        8500.64355816, 8469.2608989 ]),\n",
       " array([57107.12067189, 58788.20967893, 58102.19142623, 55715.54665129,\n",
       "        56573.5554719 , 52147.82118698, 49764.1320816 , 50032.69313676,\n",
       "        47885.62525472, 45604.61575361]))"
      ]
     },
     "execution_count": 16,
     "metadata": {},
     "output_type": "execute_result"
    }
   ],
   "source": [
    "# Create a naive forecast\n",
    "naive_forecast = y_test[:-1]\n",
    "\n",
    "naive_forecast[:10], naive_forecast[-10:]"
   ]
  },
  {
   "cell_type": "code",
   "execution_count": 17,
   "id": "f978017f",
   "metadata": {},
   "outputs": [
    {
     "data": {
      "image/png": "[encoded data removed]",
      "text/plain": [
       "<Figure size 1000x700 with 1 Axes>"
      ]
     },
     "metadata": {},
     "output_type": "display_data"
    }
   ],
   "source": [
    "# Plot naive forecast\n",
    "plt.figure(figsize=(10, 7))\n",
    "plot_time_series(timesteps=X_train, values=y_train, label=\"Train data\")\n",
    "plot_time_series(timesteps=X_test, values=y_test, label=\"Test data\")\n",
    "plot_time_series(timesteps=X_test[1:], values=naive_forecast, format=\"-\", label=\"Naive Forecast\")"
   ]
  },
  {
   "cell_type": "markdown",
   "id": "aa45efec",
   "metadata": {},
   "source": [
    "## Evaluating a time series model\n",
    "\n",
    "Let's look into some evaluation metrics for time series forecasting.\n",
    "\n",
    "What are we doing? We are predicting a number, so that means we have a form of a regression problem.\n",
    "\n",
    "Because we are working on a regression problem, we will need some regression-like metrics.\n",
    "\n",
    "A few common regression metrics which can also be used for time series forecasting:\n",
    "\n",
    "* MAE - mean absolute error\n",
    "* MSE - mean squared error\n",
    "* RMSE - root mean square error\n",
    "* MAPE - mean absolute percentage error\n",
    "* MASE - mean absolute scaled error\n",
    "\n",
    "For all the above metrics, **lower is better**.\n",
    "\n",
    "The main thing we are evaluating here is: **how do our model's forecast (y_pred) compare against the actual values (y_true or ground truth values)?** "
   ]
  },
  {
   "cell_type": "code",
   "execution_count": 18,
   "id": "42bb23f5",
   "metadata": {},
   "outputs": [],
   "source": [
    "import tensorflow as tf"
   ]
  },
  {
   "cell_type": "code",
   "execution_count": 19,
   "id": "ae9e9f59",
   "metadata": {},
   "outputs": [],
   "source": [
    "# MASE implementation\n",
    "def mean_absolute_scaled_error(y_true, y_pred):\n",
    "    \"\"\"\n",
    "    Implement MASE (assuming no seasonality of data).\n",
    "    \"\"\"\n",
    "    mae = tf.reduce_mean(tf.abs(y_true - y_pred))\n",
    "\n",
    "    # Find MAE of naive forecast (no seasonality)\n",
    "    mae_naive_no_season = tf.reduce_mean(tf.abs(y_true[1:] - y_true[:-1])) # our seasonality is 1 day (hence the shift of 1)\n",
    "\n",
    "    return mae / mae_naive_no_season"
   ]
  },
  {
   "cell_type": "code",
   "execution_count": 20,
   "id": "0d85bb57",
   "metadata": {},
   "outputs": [
    {
     "data": {
      "text/plain": [
       "0.9995699939182624"
      ]
     },
     "execution_count": 20,
     "metadata": {},
     "output_type": "execute_result"
    }
   ],
   "source": [
    "mean_absolute_scaled_error(y_true=y_test[1:], y_pred=naive_forecast).numpy()"
   ]
  },
  {
   "cell_type": "code",
   "execution_count": 21,
   "id": "a06fe4df",
   "metadata": {},
   "outputs": [],
   "source": [
    "# Create a function to take in model predictions and truth values and return evaluation metrics\n",
    "def evaluate_preds(y_true, y_pred):\n",
    "    # Make sure float32 datatype (for metric calculation)\n",
    "    y_true = tf.cast(y_true, dtype=tf.float32)\n",
    "    y_pred = tf.cast(y_pred, dtype=tf.float32)\n",
    "\n",
    "    # Calculate various evaluation metrics\n",
    "    mae = tf.keras.metrics.mean_absolute_error(y_true, y_pred)\n",
    "    mse = tf.keras.metrics.mean_squared_error(y_true, y_pred)\n",
    "    rmse = tf.sqrt(mse)\n",
    "    mape = tf.keras.metrics.mean_absolute_percentage_error(y_true, y_pred)\n",
    "    mase = mean_absolute_scaled_error(y_true, y_pred)\n",
    "\n",
    "    return {\n",
    "        \"mae\": mae.numpy(),\n",
    "        \"mse\": mse.numpy(),\n",
    "        \"rmse\": rmse.numpy(),\n",
    "        \"mape\": mape.numpy(),\n",
    "        \"mase\": mase.numpy()\n",
    "    }"
   ]
  },
  {
   "cell_type": "code",
   "execution_count": 22,
   "id": "5702372e",
   "metadata": {},
   "outputs": [
    {
     "data": {
      "text/plain": [
       "{'mae': 567.9802,\n",
       " 'mse': 1147547.0,\n",
       " 'rmse': 1071.2362,\n",
       " 'mape': 2.516525,\n",
       " 'mase': 0.99957}"
      ]
     },
     "execution_count": 22,
     "metadata": {},
     "output_type": "execute_result"
    }
   ],
   "source": [
    "# Let's now see if it works\n",
    "naive_results = evaluate_preds(y_true=y_test[1:],\n",
    "                               y_pred=naive_forecast)\n",
    "naive_results"
   ]
  },
  {
   "cell_type": "code",
   "execution_count": 23,
   "id": "5990a758",
   "metadata": {},
   "outputs": [
    {
     "data": {
      "text/plain": [
       "<tf.Tensor: shape=(), dtype=float64, numpy=20056.632963737222>"
      ]
     },
     "execution_count": 23,
     "metadata": {},
     "output_type": "execute_result"
    }
   ],
   "source": [
    "tf.reduce_mean(y_test)"
   ]
  },
  {
   "cell_type": "code",
   "execution_count": 24,
   "id": "10a3612b",
   "metadata": {},
   "outputs": [
    {
     "data": {
      "text/plain": [
       "(<tf.Tensor: shape=(), dtype=float64, numpy=4944.7023359837>,\n",
       " <tf.Tensor: shape=(), dtype=float64, numpy=63346.7890351052>)"
      ]
     },
     "execution_count": 24,
     "metadata": {},
     "output_type": "execute_result"
    }
   ],
   "source": [
    "tf.reduce_min(y_test), tf.reduce_max(y_test)"
   ]
  },
  {
   "cell_type": "markdown",
   "id": "86f95069",
   "metadata": {},
   "source": [
    "## Others Models for Time Series Forecasting\n",
    "\n",
    "In this notebook we are going to use only neural networks for time series forecasting, but there are a plenty of models used in the industry or as a baseline model you can use."
   ]
  },
  {
   "attachments": {
    "image.png": {
     "image/png": "[encoded data removed]"
    }
   },
   "cell_type": "markdown",
   "id": "c393aa09",
   "metadata": {},
   "source": [
    "![image.png](attachment:image.png)"
   ]
  },
  {
   "cell_type": "markdown",
   "id": "21c7fa33",
   "metadata": {},
   "source": [
    "## Format Data Part 2: Windowing our dataset\n",
    "\n",
    "Why do we window?\n",
    "\n",
    "We window our time series dataset to turn our data into a supervised learning problem.\n",
    "\n",
    "```\n",
    "Windowing for one week\n",
    "[0, 1, 2, 3, 4, 5, 6] --> [7]\n",
    "[1, 2, 3, 4, 5, 6, 7] --> [8]\n",
    "[2, 3, 4, 5, 6, 7, 8] --> [9]\n",
    "```"
   ]
  },
  {
   "cell_type": "code",
   "execution_count": 25,
   "id": "8b6f42f1",
   "metadata": {},
   "outputs": [
    {
     "data": {
      "text/plain": [
       "2229"
      ]
     },
     "execution_count": 25,
     "metadata": {},
     "output_type": "execute_result"
    }
   ],
   "source": [
    "len(y_train)"
   ]
  },
  {
   "cell_type": "code",
   "execution_count": 26,
   "id": "1b9651aa",
   "metadata": {},
   "outputs": [
    {
     "name": "stdout",
     "output_type": "stream",
     "text": [
      "We want to use: [123.65499, 125.455, 108.58483, 118.67466, 121.33866, 120.65533, 121.795] to predict this: 123.033\n"
     ]
    }
   ],
   "source": [
    "# What we want to do with our Bitcoin data\n",
    "print(f\"We want to use: {btc_price[:7]} to predict this: {btc_price[7]}\")"
   ]
  },
  {
   "cell_type": "code",
   "execution_count": 27,
   "id": "17089829",
   "metadata": {},
   "outputs": [],
   "source": [
    "# Let's setup global variables for window and horizon size\n",
    "HORIZON = 1 # predict next 1 day\n",
    "WINDOW_SIZE = 7 # use the past week of Bitcoin data to make the prediction"
   ]
  },
  {
   "cell_type": "code",
   "execution_count": 28,
   "id": "4e6e7d48",
   "metadata": {},
   "outputs": [],
   "source": [
    "# Create function to label window data\n",
    "def get_labelled_windows(x, horizon=HORIZON):\n",
    "    \"\"\"\n",
    "    Creates labels for windowed dataset.\n",
    "\n",
    "    E.g. if horizon = 1 --> Input: [0, 1, 2, 3, 4, 5, 6, 7] --> Output: ([0, 1, 2, 3, 4, 5, 6, 7], [7])\n",
    "    \"\"\"\n",
    "    return x[:, :-horizon], x[:, -horizon:]"
   ]
  },
  {
   "cell_type": "code",
   "execution_count": 29,
   "id": "6dcfa33b",
   "metadata": {},
   "outputs": [
    {
     "name": "stdout",
     "output_type": "stream",
     "text": [
      "Window: [0 1 2 3 4 5 6] -> Label: 7\n"
     ]
    }
   ],
   "source": [
    "# Test out the window labelling function\n",
    "test_window, test_label = get_labelled_windows(tf.expand_dims(tf.range(8), axis = 0))\n",
    "print(f\"Window: {tf.squeeze(test_window).numpy()} -> Label: {tf.squeeze(test_label).numpy()}\")"
   ]
  },
  {
   "cell_type": "markdown",
   "id": "0d51bd96",
   "metadata": {},
   "source": [
    "We have got a way to label our windowed data.\n",
    "\n",
    "However, this only works on a small scale.\n",
    "\n",
    "We need a way to do the above across our entire time series.\n",
    "\n",
    "We could do this with Python for loops, however, for large time series, that'd be quite slow.\n",
    "\n",
    "To speed things up, we will leverage NumPy's array indexing.\n",
    "\n",
    "Our function will:\n",
    "1. Create a window step of specific window size.\n",
    "2. It will numpy indexing to create a 2D array of multiple window steps, for example:\n",
    "```\n",
    "[\n",
    "    [0, 1, 2, 3, 4, 5, 6],\n",
    "    [1, 2, 3, 4, 5, 6, 7],\n",
    "    [2, 3, 4, 5, 6, 7, 8]\n",
    "]\n",
    "```\n",
    "3. Uses the 2D array of multiple window steps (from 2.) to index on a target series.\n",
    "4. Uses our `get_labelled_windows()` function we created above to turn the window steps into windows with specified horizon."
   ]
  },
  {
   "cell_type": "code",
   "execution_count": 30,
   "id": "83361e19",
   "metadata": {},
   "outputs": [],
   "source": [
    "import numpy as np\n",
    "\n",
    "# Create function to view NumPy arrays as windows\n",
    "def make_windows(x, window_size=WINDOW_SIZE, horizon=HORIZON):\n",
    "    \"\"\"\n",
    "    Turns a 1D into a 2D array of sequential labelled windows of window_size with horizon size labels.\n",
    "    \"\"\"\n",
    "    # 1. Create a window of specific window_size (add the horzion on the end for labelling later)\n",
    "    window_step = np.expand_dims(np.arange(window_size + horizon), axis=0)\n",
    "\n",
    "    # 2. Create a 2D array of multiple window steps (minus 1 to account for 0 indexing)\n",
    "    window_indexes = window_step + np.expand_dims(np.arange(len(x) - (window_size + horizon - 1)), axis=0).T # create 2D array of windows of size window_siz\n",
    "\n",
    "    # 3. Index on the target array (a time series) with 2D array of multiple window steps\n",
    "    windowed_array = x[window_indexes]\n",
    "\n",
    "    # 4. Get the labelled windows\n",
    "    windows, labels = get_labelled_windows(windowed_array, horizon=horizon)\n",
    "\n",
    "    return windows, labels"
   ]
  },
  {
   "cell_type": "code",
   "execution_count": 31,
   "id": "232bacdc",
   "metadata": {},
   "outputs": [
    {
     "data": {
      "text/plain": [
       "(2780, 2780)"
      ]
     },
     "execution_count": 31,
     "metadata": {},
     "output_type": "execute_result"
    }
   ],
   "source": [
    "full_windows, full_labels = make_windows(prices, window_size=WINDOW_SIZE, horizon=HORIZON)\n",
    "len(full_windows), len(full_labels)"
   ]
  },
  {
   "cell_type": "code",
   "execution_count": 32,
   "id": "cdbdb2e9",
   "metadata": {},
   "outputs": [
    {
     "name": "stdout",
     "output_type": "stream",
     "text": [
      "Window: [123.65499 125.455   108.58483 118.67466 121.33866 120.65533 121.795  ] -> Label: [123.033]\n",
      "Window: [125.455   108.58483 118.67466 121.33866 120.65533 121.795   123.033  ] -> Label: [124.049]\n",
      "Window: [108.58483 118.67466 121.33866 120.65533 121.795   123.033   124.049  ] -> Label: [125.96116]\n"
     ]
    }
   ],
   "source": [
    "# View the first 3 windows/labels\n",
    "for i in range(3):\n",
    "    print(f'Window: {full_windows[i]} -> Label: {full_labels[i]}')"
   ]
  },
  {
   "cell_type": "code",
   "execution_count": 33,
   "id": "59151d16",
   "metadata": {},
   "outputs": [
    {
     "name": "stdout",
     "output_type": "stream",
     "text": [
      "Window: [58788.20967893 58102.19142623 55715.54665129 56573.5554719\n",
      " 52147.82118698 49764.1320816  50032.69313676] -> Label: [47885.62525472]\n",
      "Window: [58102.19142623 55715.54665129 56573.5554719  52147.82118698\n",
      " 49764.1320816  50032.69313676 47885.62525472] -> Label: [45604.61575361]\n",
      "Window: [55715.54665129 56573.5554719  52147.82118698 49764.1320816\n",
      " 50032.69313676 47885.62525472 45604.61575361] -> Label: [43144.47129086]\n"
     ]
    }
   ],
   "source": [
    "# View the last 3 windows/labels\n",
    "for i in range(3):\n",
    "    print(f'Window: {full_windows[i-3]} -> Label: {full_labels[i-3]}')"
   ]
  },
  {
   "cell_type": "markdown",
   "id": "1b663e8c",
   "metadata": {},
   "source": [
    "## Turning windows into training and test sets"
   ]
  },
  {
   "cell_type": "code",
   "execution_count": 34,
   "id": "9f0fcf2b",
   "metadata": {},
   "outputs": [],
   "source": [
    "# Make the train/test splits\n",
    "def make_train_test_splits(windows, labels, test_split=0.2):\n",
    "    \"\"\"\n",
    "    Splits matching pairs of windows and labels into train an test splits.\n",
    "    \"\"\"\n",
    "    splits_size = int(len(windows) * (1 - test_split)) # this will default 80% train / 20% test\n",
    "    train_windows = windows[:split_size]\n",
    "    train_labels = labels[:split_size]\n",
    "    test_windows = windows[split_size:]\n",
    "    test_labels = labels[split_size:]\n",
    "    return train_windows, test_windows, train_labels, test_labels"
   ]
  },
  {
   "cell_type": "code",
   "execution_count": 35,
   "id": "bef31773",
   "metadata": {},
   "outputs": [
    {
     "data": {
      "text/plain": [
       "(2229, 551, 2229, 551)"
      ]
     },
     "execution_count": 35,
     "metadata": {},
     "output_type": "execute_result"
    }
   ],
   "source": [
    "train_windows, test_windows, train_labels, test_labels = make_train_test_splits(full_windows, full_labels)\n",
    "len(train_windows), len(test_windows), len(train_labels), len(test_labels)"
   ]
  },
  {
   "cell_type": "code",
   "execution_count": 36,
   "id": "d76eb571",
   "metadata": {},
   "outputs": [
    {
     "data": {
      "text/plain": [
       "True"
      ]
     },
     "execution_count": 36,
     "metadata": {},
     "output_type": "execute_result"
    }
   ],
   "source": [
    "np.array_equal(np.squeeze(train_labels[:-HORIZON-6]), y_train[WINDOW_SIZE:])"
   ]
  },
  {
   "cell_type": "markdown",
   "id": "31d4b47c",
   "metadata": {},
   "source": [
    "## Make a modelling checkpoint callback\n",
    "\n",
    "Because our model's performance will fluctuate from experiment to experiment, we're going to write a model checkpoint so we can compare apples to apples.\n",
    "\n",
    "More specifically, we want to compare each of our model's best performances against the other model's best performances.\n",
    "\n",
    "For example if our model performs the best on epoch 55 (but we are training for 100 epochs), we want to load and evaluate the model saved on epoch 55.\n",
    "\n",
    "We can create modelling checkpoint callback using the following: https://www.tensorflow.org/api_docs/python/tf/keras/callbacks/ModelCheckpoint"
   ]
  },
  {
   "cell_type": "code",
   "execution_count": 37,
   "id": "5fe80ecc",
   "metadata": {},
   "outputs": [],
   "source": [
    "import os\n",
    "\n",
    "# Create a function to implement a ModelCheckpoint callback with a specific filename\n",
    "def create_model_checkpoint(model_name, save_path='model_experiments'):\n",
    "    return tf.keras.callbacks.ModelCheckpoint(filepath=os.path.join(save_path, model_name),\n",
    "                                              monitor='val_loss',\n",
    "                                              verbose=0, # only output a limited amount of text\n",
    "                                              save_best_only=True)"
   ]
  },
  {
   "cell_type": "markdown",
   "id": "4f378620",
   "metadata": {},
   "source": [
    "## Model 1: Dense Model (window = 7, horizon = 1)\n",
    "\n",
    "Our first deep model is going to be a simple dense model:\n",
    "\n",
    "* A single dense layer with 128 hidden units and ReLU\n",
    "* An output layer with linear activation (no activation)\n",
    "* Adam optimization and MAE loss function\n",
    "* Batch size of 128 (previously we have used 32)\n",
    "* 100 epochs\n",
    "\n",
    "Why these values?\n",
    "\n",
    "I picked them out of experimentation."
   ]
  },
  {
   "cell_type": "code",
   "execution_count": 38,
   "id": "2ee5065e",
   "metadata": {},
   "outputs": [
    {
     "name": "stdout",
     "output_type": "stream",
     "text": [
      "Epoch 1/100\n",
      " 1/18 [>.............................] - ETA: 51s - loss: 3865.9590 - mae: 3865.9590 - mse: 34664880.0000INFO:tensorflow:Assets written to: model_experiments\\model_1_dense\\assets\n",
      "18/18 [==============================] - 4s 36ms/step - loss: 1816.3529 - mae: 1816.3529 - mse: 10992741.0000 - val_loss: 1996.0663 - val_mae: 1996.0663 - val_mse: 10728084.0000\n",
      "Epoch 2/100\n",
      "18/18 [==============================] - 0s 4ms/step - loss: 405.2132 - mae: 405.2132 - mse: 608719.8125 - val_loss: 2451.8948 - val_mae: 2451.8948 - val_mse: 13514254.0000\n",
      "Epoch 3/100\n",
      " 1/18 [>.............................] - ETA: 0s - loss: 321.3387 - mae: 321.3387 - mse: 387931.1250INFO:tensorflow:Assets written to: model_experiments\\model_1_dense\\assets\n",
      "18/18 [==============================] - 0s 21ms/step - loss: 272.1722 - mae: 272.1722 - mse: 329957.3125 - val_loss: 1197.0106 - val_mae: 1197.0106 - val_mse: 4390567.5000\n",
      "Epoch 4/100\n",
      " 1/18 [>.............................] - ETA: 0s - loss: 218.3167 - mae: 218.3167 - mse: 200644.8906INFO:tensorflow:Assets written to: model_experiments\\model_1_dense\\assets\n",
      "18/18 [==============================] - 0s 29ms/step - loss: 205.4969 - mae: 205.4969 - mse: 215810.8281 - val_loss: 1119.2877 - val_mae: 1119.2877 - val_mse: 3964692.0000\n",
      "Epoch 5/100\n",
      " 1/18 [>.............................] - ETA: 0s - loss: 189.2510 - mae: 189.2510 - mse: 143375.0938INFO:tensorflow:Assets written to: model_experiments\\model_1_dense\\assets\n",
      "18/18 [==============================] - 1s 29ms/step - loss: 190.6695 - mae: 190.6695 - mse: 190768.7188 - val_loss: 1108.0521 - val_mae: 1108.0521 - val_mse: 3769080.0000\n",
      "Epoch 6/100\n",
      "16/18 [=========================>....] - ETA: 0s - loss: 183.9904 - mae: 183.9904 - mse: 180054.6094INFO:tensorflow:Assets written to: model_experiments\\model_1_dense\\assets\n",
      "18/18 [==============================] - 1s 29ms/step - loss: 184.6568 - mae: 184.6568 - mse: 181448.9688 - val_loss: 1040.8406 - val_mae: 1040.8406 - val_mse: 3416907.7500\n",
      "Epoch 7/100\n",
      "18/18 [==============================] - ETA: 0s - loss: 176.3832 - mae: 176.3832 - mse: 166798.4688INFO:tensorflow:Assets written to: model_experiments\\model_1_dense\\assets\n",
      "18/18 [==============================] - 0s 22ms/step - loss: 176.3832 - mae: 176.3832 - mse: 166798.4688 - val_loss: 995.5776 - val_mae: 995.5776 - val_mse: 3140222.0000\n",
      "Epoch 8/100\n",
      " 1/18 [>.............................] - ETA: 0s - loss: 193.5603 - mae: 193.5603 - mse: 145822.8750INFO:tensorflow:Assets written to: model_experiments\\model_1_dense\\assets\n",
      "18/18 [==============================] - 0s 22ms/step - loss: 169.8299 - mae: 169.8299 - mse: 156623.3750 - val_loss: 956.3392 - val_mae: 956.3392 - val_mse: 2948848.2500\n",
      "Epoch 9/100\n",
      "18/18 [==============================] - 0s 6ms/step - loss: 164.6259 - mae: 164.6259 - mse: 146958.0000 - val_loss: 1007.1154 - val_mae: 1007.1154 - val_mse: 2954423.5000\n",
      "Epoch 10/100\n",
      " 1/18 [>.............................] - ETA: 0s - loss: 168.9876 - mae: 168.9876 - mse: 130525.5781INFO:tensorflow:Assets written to: model_experiments\\model_1_dense\\assets\n",
      "18/18 [==============================] - 0s 28ms/step - loss: 161.2614 - mae: 161.2614 - mse: 138566.8281 - val_loss: 883.1326 - val_mae: 883.1327 - val_mse: 2605143.5000\n",
      "Epoch 11/100\n",
      "18/18 [==============================] - 0s 6ms/step - loss: 155.1011 - mae: 155.1011 - mse: 131095.3750 - val_loss: 887.4491 - val_mae: 887.4491 - val_mse: 2466085.7500\n",
      "Epoch 12/100\n",
      "18/18 [==============================] - 0s 6ms/step - loss: 153.5450 - mae: 153.5450 - mse: 127655.5625 - val_loss: 885.8813 - val_mae: 885.8813 - val_mse: 2391063.2500\n",
      "Epoch 13/100\n",
      "14/18 [======================>.......] - ETA: 0s - loss: 148.5327 - mae: 148.5327 - mse: 120607.7891INFO:tensorflow:Assets written to: model_experiments\\model_1_dense\\assets\n",
      "18/18 [==============================] - 1s 30ms/step - loss: 149.3364 - mae: 149.3364 - mse: 122065.5469 - val_loss: 822.8807 - val_mae: 822.8807 - val_mse: 2174457.2500\n",
      "Epoch 14/100\n",
      " 1/18 [>.............................] - ETA: 0s - loss: 169.9447 - mae: 169.9447 - mse: 198789.3750INFO:tensorflow:Assets written to: model_experiments\\model_1_dense\\assets\n",
      "18/18 [==============================] - 0s 24ms/step - loss: 142.3925 - mae: 142.3925 - mse: 112709.0625 - val_loss: 785.0925 - val_mae: 785.0925 - val_mse: 2033063.2500\n",
      "Epoch 15/100\n",
      "16/18 [=========================>....] - ETA: 0s - loss: 139.7716 - mae: 139.7716 - mse: 107890.8125INFO:tensorflow:Assets written to: model_experiments\\model_1_dense\\assets\n",
      "18/18 [==============================] - 0s 25ms/step - loss: 142.2194 - mae: 142.2194 - mse: 111397.5234 - val_loss: 766.8048 - val_mae: 766.8048 - val_mse: 1966226.3750\n",
      "Epoch 16/100\n",
      "11/18 [=================>............] - ETA: 0s - loss: 146.2186 - mae: 146.2186 - mse: 106136.6797INFO:tensorflow:Assets written to: model_experiments\\model_1_dense\\assets\n",
      "18/18 [==============================] - 1s 33ms/step - loss: 147.5615 - mae: 147.5615 - mse: 113159.4688 - val_loss: 755.3370 - val_mae: 755.3370 - val_mse: 1913236.5000\n",
      "Epoch 17/100\n",
      "17/18 [===========================>..] - ETA: 0s - loss: 139.1610 - mae: 139.1610 - mse: 103175.9375INFO:tensorflow:Assets written to: model_experiments\\model_1_dense\\assets\n",
      "18/18 [==============================] - 0s 27ms/step - loss: 139.1021 - mae: 139.1021 - mse: 102303.0703 - val_loss: 738.6505 - val_mae: 738.6505 - val_mse: 1812231.0000\n",
      "Epoch 18/100\n",
      "17/18 [===========================>..] - ETA: 0s - loss: 133.5491 - mae: 133.5491 - mse: 94394.1797INFO:tensorflow:Assets written to: model_experiments\\model_1_dense\\assets\n",
      "18/18 [==============================] - 0s 27ms/step - loss: 135.7283 - mae: 135.7283 - mse: 100390.5000 - val_loss: 725.0267 - val_mae: 725.0267 - val_mse: 1762764.0000\n",
      "Epoch 19/100\n",
      "18/18 [==============================] - ETA: 0s - loss: 132.8855 - mae: 132.8855 - mse: 97987.2969INFO:tensorflow:Assets written to: model_experiments\\model_1_dense\\assets\n",
      "18/18 [==============================] - 0s 26ms/step - loss: 132.8855 - mae: 132.8855 - mse: 97987.2969 - val_loss: 713.6837 - val_mae: 713.6837 - val_mse: 1705480.8750\n",
      "Epoch 20/100\n",
      "18/18 [==============================] - 0s 6ms/step - loss: 129.4825 - mae: 129.4825 - mse: 94758.1562 - val_loss: 756.4517 - val_mae: 756.4517 - val_mse: 1781743.1250\n",
      "Epoch 21/100\n",
      "18/18 [==============================] - 0s 4ms/step - loss: 133.4399 - mae: 133.4399 - mse: 95851.3359 - val_loss: 744.4243 - val_mae: 744.4243 - val_mse: 1737648.8750\n",
      "Epoch 22/100\n",
      "18/18 [==============================] - 0s 5ms/step - loss: 129.4381 - mae: 129.4381 - mse: 93436.3281 - val_loss: 764.8431 - val_mae: 764.8431 - val_mse: 1781617.1250\n",
      "Epoch 23/100\n",
      " 1/18 [>.............................] - ETA: 0s - loss: 134.7458 - mae: 134.7458 - mse: 99648.9375INFO:tensorflow:Assets written to: model_experiments\\model_1_dense\\assets\n",
      "18/18 [==============================] - 3s 205ms/step - loss: 131.2977 - mae: 131.2977 - mse: 88469.2344 - val_loss: 697.4830 - val_mae: 697.4830 - val_mse: 1598087.2500\n",
      "Epoch 24/100\n",
      "18/18 [==============================] - 0s 7ms/step - loss: 124.6453 - mae: 124.6453 - mse: 87776.6641 - val_loss: 700.8492 - val_mae: 700.8492 - val_mse: 1594310.1250\n",
      "Epoch 25/100\n",
      "18/18 [==============================] - 0s 5ms/step - loss: 126.2371 - mae: 126.2371 - mse: 89874.3516 - val_loss: 775.4846 - val_mae: 775.4846 - val_mse: 1786862.2500\n",
      "Epoch 26/100\n",
      "15/18 [========================>.....] - ETA: 0s - loss: 136.5459 - mae: 136.5459 - mse: 100534.3672INFO:tensorflow:Assets written to: model_experiments\\model_1_dense\\assets\n",
      "18/18 [==============================] - 0s 26ms/step - loss: 131.1358 - mae: 131.1358 - mse: 92284.5781 - val_loss: 668.9206 - val_mae: 668.9206 - val_mse: 1506275.8750\n",
      "Epoch 27/100\n",
      "16/18 [=========================>....] - ETA: 0s - loss: 122.9345 - mae: 122.9345 - mse: 86628.4766INFO:tensorflow:Assets written to: model_experiments\\model_1_dense\\assets\n",
      "18/18 [==============================] - 1s 30ms/step - loss: 121.7263 - mae: 121.7263 - mse: 84647.9062 - val_loss: 664.2150 - val_mae: 664.2150 - val_mse: 1487612.5000\n",
      "Epoch 28/100\n",
      "11/18 [=================>............] - ETA: 0s - loss: 125.0321 - mae: 125.0321 - mse: 90674.7812INFO:tensorflow:Assets written to: model_experiments\\model_1_dense\\assets\n",
      "18/18 [==============================] - 1s 33ms/step - loss: 122.2078 - mae: 122.2078 - mse: 84948.7266 - val_loss: 653.0260 - val_mae: 653.0260 - val_mse: 1453316.1250\n",
      "Epoch 29/100\n",
      "14/18 [======================>.......] - ETA: 0s - loss: 123.5924 - mae: 123.5924 - mse: 90524.4922INFO:tensorflow:Assets written to: model_experiments\\model_1_dense\\assets\n",
      "18/18 [==============================] - 1s 31ms/step - loss: 120.8563 - mae: 120.8563 - mse: 84896.4844 - val_loss: 651.3886 - val_mae: 651.3886 - val_mse: 1441701.2500\n",
      "Epoch 30/100\n",
      "13/18 [====================>.........] - ETA: 0s - loss: 119.9906 - mae: 119.9906 - mse: 78135.1562INFO:tensorflow:Assets written to: model_experiments\\model_1_dense\\assets\n",
      "18/18 [==============================] - 1s 34ms/step - loss: 120.0914 - mae: 120.0914 - mse: 83519.1641 - val_loss: 647.6837 - val_mae: 647.6837 - val_mse: 1426106.2500\n",
      "Epoch 31/100\n",
      "18/18 [==============================] - 0s 5ms/step - loss: 120.8979 - mae: 120.8979 - mse: 82148.8359 - val_loss: 672.2741 - val_mae: 672.2742 - val_mse: 1531767.8750\n",
      "Epoch 32/100\n",
      "18/18 [==============================] - 0s 6ms/step - loss: 122.9376 - mae: 122.9376 - mse: 85363.3281 - val_loss: 760.9210 - val_mae: 760.9210 - val_mse: 1705191.3750\n",
      "Epoch 33/100\n",
      "18/18 [==============================] - 0s 5ms/step - loss: 124.0084 - mae: 124.0084 - mse: 84556.5391 - val_loss: 694.7789 - val_mae: 694.7789 - val_mse: 1588317.7500\n",
      "Epoch 34/100\n",
      "18/18 [==============================] - 0s 5ms/step - loss: 131.4869 - mae: 131.4869 - mse: 91675.4766 - val_loss: 691.4612 - val_mae: 691.4612 - val_mse: 1573682.2500\n",
      "Epoch 35/100\n",
      "18/18 [==============================] - 0s 5ms/step - loss: 122.9206 - mae: 122.9206 - mse: 82986.3125 - val_loss: 655.9938 - val_mae: 655.9938 - val_mse: 1465539.7500\n",
      "Epoch 36/100\n",
      " 1/18 [>.............................] - ETA: 0s - loss: 114.8916 - mae: 114.8916 - mse: 52808.3164INFO:tensorflow:Assets written to: model_experiments\\model_1_dense\\assets\n",
      "18/18 [==============================] - 0s 26ms/step - loss: 121.5306 - mae: 121.5306 - mse: 83016.8516 - val_loss: 627.4528 - val_mae: 627.4528 - val_mse: 1353818.5000\n",
      "Epoch 37/100\n",
      "16/18 [=========================>....] - ETA: 0s - loss: 116.7651 - mae: 116.7651 - mse: 80469.1172INFO:tensorflow:Assets written to: model_experiments\\model_1_dense\\assets\n",
      "18/18 [==============================] - 1s 32ms/step - loss: 115.7227 - mae: 115.7227 - mse: 77922.8281 - val_loss: 616.4284 - val_mae: 616.4284 - val_mse: 1340008.3750\n",
      "Epoch 38/100\n",
      "18/18 [==============================] - 0s 6ms/step - loss: 118.1855 - mae: 118.1855 - mse: 78394.0078 - val_loss: 715.8793 - val_mae: 715.8793 - val_mse: 1559133.5000\n",
      "Epoch 39/100\n",
      "18/18 [==============================] - 0s 6ms/step - loss: 115.8380 - mae: 115.8380 - mse: 78374.9219 - val_loss: 618.2206 - val_mae: 618.2206 - val_mse: 1321762.1250\n",
      "Epoch 40/100\n",
      "18/18 [==============================] - 0s 7ms/step - loss: 118.5578 - mae: 118.5578 - mse: 78143.8125 - val_loss: 659.4327 - val_mae: 659.4327 - val_mse: 1451658.1250\n",
      "Epoch 41/100\n",
      "12/18 [===================>..........] - ETA: 0s - loss: 115.3884 - mae: 115.3884 - mse: 75358.8125INFO:tensorflow:Assets written to: model_experiments\\model_1_dense\\assets\n",
      "18/18 [==============================] - 1s 43ms/step - loss: 118.4060 - mae: 118.4060 - mse: 77373.7500 - val_loss: 608.4325 - val_mae: 608.4325 - val_mse: 1311968.6250\n",
      "Epoch 42/100\n",
      "18/18 [==============================] - 0s 6ms/step - loss: 118.7446 - mae: 118.7446 - mse: 80027.5234 - val_loss: 659.4160 - val_mae: 659.4160 - val_mse: 1404077.2500\n",
      "Epoch 43/100\n",
      "18/18 [==============================] - 0s 8ms/step - loss: 127.8282 - mae: 127.8282 - mse: 85840.2188 - val_loss: 640.3585 - val_mae: 640.3585 - val_mse: 1389349.6250\n",
      "Epoch 44/100\n",
      "18/18 [==============================] - ETA: 0s - loss: 118.1833 - mae: 118.1833 - mse: 78956.0156INFO:tensorflow:Assets written to: model_experiments\\model_1_dense\\assets\n",
      "18/18 [==============================] - 0s 27ms/step - loss: 118.1833 - mae: 118.1833 - mse: 78956.0156 - val_loss: 607.0704 - val_mae: 607.0704 - val_mse: 1285645.7500\n",
      "Epoch 45/100\n",
      "11/18 [=================>............] - ETA: 0s - loss: 113.7779 - mae: 113.7779 - mse: 73442.5547INFO:tensorflow:Assets written to: model_experiments\\model_1_dense\\assets\n",
      "18/18 [==============================] - 1s 29ms/step - loss: 113.2509 - mae: 113.2509 - mse: 75396.7500 - val_loss: 601.7277 - val_mae: 601.7277 - val_mse: 1274514.8750\n",
      "Epoch 46/100\n",
      "18/18 [==============================] - 0s 7ms/step - loss: 114.4925 - mae: 114.4925 - mse: 76559.6953 - val_loss: 641.8647 - val_mae: 641.8647 - val_mse: 1354082.5000\n",
      "Epoch 47/100\n",
      "12/18 [===================>..........] - ETA: 0s - loss: 119.6711 - mae: 119.6711 - mse: 79643.6797INFO:tensorflow:Assets written to: model_experiments\\model_1_dense\\assets\n",
      "18/18 [==============================] - 1s 33ms/step - loss: 120.3254 - mae: 120.3254 - mse: 77896.1016 - val_loss: 596.3320 - val_mae: 596.3320 - val_mse: 1266710.3750\n",
      "Epoch 48/100\n",
      "18/18 [==============================] - 0s 7ms/step - loss: 120.4594 - mae: 120.4594 - mse: 80946.7031 - val_loss: 596.6160 - val_mae: 596.6160 - val_mse: 1263315.0000\n",
      "Epoch 49/100\n",
      "18/18 [==============================] - 0s 7ms/step - loss: 113.3004 - mae: 113.3004 - mse: 75980.2109 - val_loss: 686.3952 - val_mae: 686.3952 - val_mse: 1454300.0000\n",
      "Epoch 50/100\n",
      "18/18 [==============================] - 0s 6ms/step - loss: 114.9742 - mae: 114.9742 - mse: 77597.8359 - val_loss: 598.9283 - val_mae: 598.9283 - val_mse: 1272392.0000\n",
      "Epoch 51/100\n",
      "15/18 [========================>.....] - ETA: 0s - loss: 115.4375 - mae: 115.4375 - mse: 76127.0703INFO:tensorflow:Assets written to: model_experiments\\model_1_dense\\assets\n",
      "18/18 [==============================] - 1s 39ms/step - loss: 113.4034 - mae: 113.4034 - mse: 73641.6484 - val_loss: 593.2829 - val_mae: 593.2829 - val_mse: 1249353.8750\n",
      "Epoch 52/100\n",
      "18/18 [==============================] - 0s 8ms/step - loss: 112.6585 - mae: 112.6585 - mse: 73485.6953 - val_loss: 651.8672 - val_mae: 651.8672 - val_mse: 1392567.2500\n",
      "Epoch 53/100\n",
      "18/18 [==============================] - 0s 6ms/step - loss: 114.9887 - mae: 114.9887 - mse: 75649.3984 - val_loss: 708.3948 - val_mae: 708.3948 - val_mse: 1504373.1250\n",
      "Epoch 54/100\n",
      "18/18 [==============================] - 0s 7ms/step - loss: 116.4760 - mae: 116.4760 - mse: 75063.3594 - val_loss: 635.1554 - val_mae: 635.1554 - val_mse: 1346506.3750\n",
      "Epoch 55/100\n",
      "18/18 [==============================] - 0s 6ms/step - loss: 121.7685 - mae: 121.7685 - mse: 78829.1719 - val_loss: 667.5374 - val_mae: 667.5374 - val_mse: 1427199.5000\n",
      "Epoch 56/100\n",
      "18/18 [==============================] - 0s 6ms/step - loss: 113.8782 - mae: 113.8782 - mse: 73781.0000 - val_loss: 659.6230 - val_mae: 659.6230 - val_mse: 1404289.0000\n",
      "Epoch 57/100\n",
      "18/18 [==============================] - 0s 5ms/step - loss: 113.9747 - mae: 113.9747 - mse: 75719.2578 - val_loss: 647.8152 - val_mae: 647.8152 - val_mse: 1349818.5000\n",
      "Epoch 58/100\n",
      "12/18 [===================>..........] - ETA: 0s - loss: 106.3654 - mae: 106.3654 - mse: 67343.9844INFO:tensorflow:Assets written to: model_experiments\\model_1_dense\\assets\n",
      "18/18 [==============================] - 0s 27ms/step - loss: 110.4785 - mae: 110.4785 - mse: 72402.9766 - val_loss: 590.2539 - val_mae: 590.2539 - val_mse: 1241671.1250\n",
      "Epoch 59/100\n",
      "18/18 [==============================] - 0s 5ms/step - loss: 113.2784 - mae: 113.2784 - mse: 74278.2266 - val_loss: 670.5613 - val_mae: 670.5613 - val_mse: 1428772.7500\n",
      "Epoch 60/100\n",
      " 1/18 [>.............................] - ETA: 0s - loss: 133.7912 - mae: 133.7912 - mse: 77669.1484INFO:tensorflow:Assets written to: model_experiments\\model_1_dense\\assets\n",
      "18/18 [==============================] - 0s 24ms/step - loss: 121.9638 - mae: 121.9638 - mse: 77905.2734 - val_loss: 587.8077 - val_mae: 587.8077 - val_mse: 1234453.5000\n",
      "Epoch 61/100\n",
      "18/18 [==============================] - 0s 8ms/step - loss: 127.8681 - mae: 127.8681 - mse: 81119.0312 - val_loss: 609.8781 - val_mae: 609.8781 - val_mse: 1265541.1250\n",
      "Epoch 62/100\n",
      "18/18 [==============================] - 0s 8ms/step - loss: 120.7728 - mae: 120.7728 - mse: 79874.9766 - val_loss: 697.1022 - val_mae: 697.1022 - val_mse: 1466157.0000\n",
      "Epoch 63/100\n",
      "18/18 [==============================] - 0s 9ms/step - loss: 129.4962 - mae: 129.4962 - mse: 86059.6406 - val_loss: 743.9681 - val_mae: 743.9681 - val_mse: 1600675.1250\n",
      "Epoch 64/100\n",
      "18/18 [==============================] - 0s 7ms/step - loss: 119.8189 - mae: 119.8189 - mse: 75804.8984 - val_loss: 587.9220 - val_mae: 587.9220 - val_mse: 1228484.0000\n",
      "Epoch 65/100\n",
      "13/18 [====================>.........] - ETA: 0s - loss: 113.0753 - mae: 113.0753 - mse: 77758.4219 INFO:tensorflow:Assets written to: model_experiments\\model_1_dense\\assets\n",
      "18/18 [==============================] - 0s 26ms/step - loss: 109.5346 - mae: 109.5346 - mse: 71841.5234 - val_loss: 582.6213 - val_mae: 582.6213 - val_mse: 1209159.3750\n",
      "Epoch 66/100\n",
      "18/18 [==============================] - 0s 5ms/step - loss: 109.6028 - mae: 109.6028 - mse: 70422.0781 - val_loss: 632.0523 - val_mae: 632.0523 - val_mse: 1306454.1250\n",
      "Epoch 67/100\n",
      " 1/18 [>.............................] - ETA: 0s - loss: 72.6894 - mae: 72.6894 - mse: 28460.5547INFO:tensorflow:Assets written to: model_experiments\\model_1_dense\\assets\n",
      "18/18 [==============================] - 0s 26ms/step - loss: 111.1569 - mae: 111.1569 - mse: 73034.9062 - val_loss: 575.6591 - val_mae: 575.6591 - val_mse: 1199820.8750\n",
      "Epoch 68/100\n",
      "18/18 [==============================] - 0s 7ms/step - loss: 110.4753 - mae: 110.4753 - mse: 70878.0469 - val_loss: 590.1567 - val_mae: 590.1567 - val_mse: 1227389.0000\n",
      "Epoch 69/100\n",
      "18/18 [==============================] - 0s 6ms/step - loss: 112.4789 - mae: 112.4789 - mse: 72444.7109 - val_loss: 580.3690 - val_mae: 580.3690 - val_mse: 1201551.3750\n",
      "Epoch 70/100\n",
      "18/18 [==============================] - 0s 6ms/step - loss: 115.6185 - mae: 115.6185 - mse: 76439.2578 - val_loss: 604.2352 - val_mae: 604.2352 - val_mse: 1245632.8750\n",
      "Epoch 71/100\n",
      "18/18 [==============================] - 0s 7ms/step - loss: 112.2990 - mae: 112.2990 - mse: 72739.6406 - val_loss: 584.8898 - val_mae: 584.8898 - val_mse: 1215428.2500\n",
      "Epoch 72/100\n",
      "17/18 [===========================>..] - ETA: 0s - loss: 109.8094 - mae: 109.8094 - mse: 72745.2578 INFO:tensorflow:Assets written to: model_experiments\\model_1_dense\\assets\n",
      "18/18 [==============================] - 0s 24ms/step - loss: 109.2247 - mae: 109.2247 - mse: 72062.8281 - val_loss: 575.5098 - val_mae: 575.5098 - val_mse: 1193218.2500\n",
      "Epoch 73/100\n",
      "18/18 [==============================] - 0s 7ms/step - loss: 110.5608 - mae: 110.5608 - mse: 72433.4688 - val_loss: 609.0403 - val_mae: 609.0403 - val_mse: 1253845.5000\n",
      "Epoch 74/100\n",
      "14/18 [======================>.......] - ETA: 0s - loss: 109.5042 - mae: 109.5042 - mse: 69044.9297INFO:tensorflow:Assets written to: model_experiments\\model_1_dense\\assets\n",
      "18/18 [==============================] - 1s 33ms/step - loss: 110.6392 - mae: 110.6392 - mse: 71983.3828 - val_loss: 572.7104 - val_mae: 572.7104 - val_mse: 1190874.6250\n",
      "Epoch 75/100\n",
      "18/18 [==============================] - 0s 8ms/step - loss: 114.6684 - mae: 114.6684 - mse: 73205.5156 - val_loss: 745.8486 - val_mae: 745.8486 - val_mse: 1640762.3750\n",
      "Epoch 76/100\n",
      "18/18 [==============================] - 0s 8ms/step - loss: 117.7468 - mae: 117.7468 - mse: 76585.5312 - val_loss: 576.3234 - val_mae: 576.3234 - val_mse: 1198099.5000\n",
      "Epoch 77/100\n",
      "18/18 [==============================] - 0s 10ms/step - loss: 113.2142 - mae: 113.2142 - mse: 71625.7031 - val_loss: 617.7459 - val_mae: 617.7459 - val_mse: 1272078.8750\n",
      "Epoch 78/100\n",
      "18/18 [==============================] - 0s 8ms/step - loss: 110.9451 - mae: 110.9451 - mse: 71386.6953 - val_loss: 584.7053 - val_mae: 584.7053 - val_mse: 1212665.1250\n",
      "Epoch 79/100\n",
      "18/18 [==============================] - 0s 5ms/step - loss: 111.1900 - mae: 111.1900 - mse: 72661.2109 - val_loss: 666.8017 - val_mae: 666.8017 - val_mse: 1380902.6250\n",
      "Epoch 80/100\n",
      "18/18 [==============================] - 0s 5ms/step - loss: 116.9287 - mae: 116.9287 - mse: 72486.1719 - val_loss: 741.1434 - val_mae: 741.1434 - val_mse: 1582529.5000\n",
      "Epoch 81/100\n",
      "18/18 [==============================] - 0s 5ms/step - loss: 116.6883 - mae: 116.6883 - mse: 78345.4531 - val_loss: 579.3025 - val_mae: 579.3025 - val_mse: 1199503.5000\n",
      "Epoch 82/100\n",
      "18/18 [==============================] - 0s 7ms/step - loss: 107.5346 - mae: 107.5346 - mse: 70335.6250 - val_loss: 572.9393 - val_mae: 572.9393 - val_mse: 1188546.2500\n",
      "Epoch 83/100\n",
      "18/18 [==============================] - 0s 6ms/step - loss: 110.2269 - mae: 110.2269 - mse: 71732.9766 - val_loss: 652.1402 - val_mae: 652.1402 - val_mse: 1346030.3750\n",
      "Epoch 84/100\n",
      "18/18 [==============================] - ETA: 0s - loss: 113.4517 - mae: 113.4517 - mse: 72820.3516 INFO:tensorflow:Assets written to: model_experiments\\model_1_dense\\assets\n",
      "18/18 [==============================] - 0s 24ms/step - loss: 113.4517 - mae: 113.4517 - mse: 72820.3516 - val_loss: 570.9007 - val_mae: 570.9007 - val_mse: 1180532.0000\n",
      "Epoch 85/100\n",
      "18/18 [==============================] - 0s 5ms/step - loss: 108.1161 - mae: 108.1161 - mse: 71050.9297 - val_loss: 611.9605 - val_mae: 611.9605 - val_mse: 1255513.3750\n",
      "Epoch 86/100\n",
      "18/18 [==============================] - 0s 7ms/step - loss: 109.0246 - mae: 109.0246 - mse: 71179.2266 - val_loss: 576.2097 - val_mae: 576.2097 - val_mse: 1184245.0000\n",
      "Epoch 87/100\n",
      "18/18 [==============================] - 0s 5ms/step - loss: 107.2752 - mae: 107.2752 - mse: 69989.5625 - val_loss: 576.4154 - val_mae: 576.4154 - val_mse: 1183392.2500\n",
      "Epoch 88/100\n",
      "18/18 [==============================] - 0s 5ms/step - loss: 112.6815 - mae: 112.6815 - mse: 73014.8672 - val_loss: 645.8547 - val_mae: 645.8547 - val_mse: 1339650.8750\n",
      "Epoch 89/100\n",
      "18/18 [==============================] - 0s 7ms/step - loss: 109.7300 - mae: 109.7300 - mse: 71333.5078 - val_loss: 620.8638 - val_mae: 620.8638 - val_mse: 1274488.5000\n",
      "Epoch 90/100\n",
      "18/18 [==============================] - 0s 4ms/step - loss: 113.6656 - mae: 113.6656 - mse: 73028.2188 - val_loss: 595.0763 - val_mae: 595.0763 - val_mse: 1216002.6250\n",
      "Epoch 91/100\n",
      "18/18 [==============================] - 0s 5ms/step - loss: 107.7422 - mae: 107.7422 - mse: 69758.6016 - val_loss: 588.2561 - val_mae: 588.2561 - val_mse: 1213176.0000\n",
      "Epoch 92/100\n",
      "18/18 [==============================] - 0s 4ms/step - loss: 108.8308 - mae: 108.8308 - mse: 69628.2500 - val_loss: 614.2543 - val_mae: 614.2543 - val_mse: 1265978.2500\n",
      "Epoch 93/100\n",
      "18/18 [==============================] - 0s 4ms/step - loss: 108.2503 - mae: 108.2503 - mse: 70789.7031 - val_loss: 570.9427 - val_mae: 570.9427 - val_mse: 1180525.1250\n",
      "Epoch 94/100\n",
      "18/18 [==============================] - 0s 6ms/step - loss: 109.0034 - mae: 109.0034 - mse: 71053.3125 - val_loss: 594.3422 - val_mae: 594.3422 - val_mse: 1214565.2500\n",
      "Epoch 95/100\n",
      "18/18 [==============================] - 0s 4ms/step - loss: 106.6459 - mae: 106.6459 - mse: 69068.5469 - val_loss: 571.2735 - val_mae: 571.2735 - val_mse: 1173941.3750\n",
      "Epoch 96/100\n",
      "18/18 [==============================] - 0s 6ms/step - loss: 111.6411 - mae: 111.6411 - mse: 68980.3984 - val_loss: 661.9642 - val_mae: 661.9642 - val_mse: 1380170.1250\n",
      "Epoch 97/100\n",
      "18/18 [==============================] - 0s 6ms/step - loss: 112.0396 - mae: 112.0396 - mse: 72652.4688 - val_loss: 650.4611 - val_mae: 650.4611 - val_mse: 1339620.1250\n",
      "Epoch 98/100\n",
      "18/18 [==============================] - 0s 6ms/step - loss: 107.9286 - mae: 107.9286 - mse: 70766.0391 - val_loss: 620.5031 - val_mae: 620.5031 - val_mse: 1277038.6250\n",
      "Epoch 99/100\n",
      "18/18 [==============================] - 0s 5ms/step - loss: 108.7231 - mae: 108.7231 - mse: 70376.5625 - val_loss: 641.2512 - val_mae: 641.2512 - val_mse: 1317704.3750\n",
      "Epoch 100/100\n",
      "18/18 [==============================] - 0s 6ms/step - loss: 109.4882 - mae: 109.4882 - mse: 71001.0000 - val_loss: 641.1769 - val_mae: 641.1769 - val_mse: 1325655.6250\n"
     ]
    },
    {
     "data": {
      "text/plain": [
       "<keras.callbacks.History at 0x19e1a4a9210>"
      ]
     },
     "execution_count": 38,
     "metadata": {},
     "output_type": "execute_result"
    }
   ],
   "source": [
    "import tensorflow as tf\n",
    "from tensorflow.keras import layers # type: ignore\n",
    "\n",
    "# Set random seed for as reporducible results as possible\n",
    "tf.random.set_seed(42)\n",
    "\n",
    "# 1. Construct the model\n",
    "model_1 = tf.keras.Sequential([\n",
    "    layers.Dense(128, activation='relu'),\n",
    "    layers.Dense(HORIZON, activation='linear')\n",
    "], name='model_1_dense') # name our model so we can save it\n",
    "\n",
    "# 2. Compile\n",
    "model_1.compile(loss='mae',\n",
    "                optimizer=tf.keras.optimizers.Adam(),\n",
    "                metrics=['mae', 'mse'])\n",
    "\n",
    "# Fit the model\n",
    "model_1.fit(x=train_windows,\n",
    "            y=train_labels,\n",
    "            epochs=100,\n",
    "            verbose=1,\n",
    "            batch_size=128,\n",
    "            validation_data=(test_windows, test_labels),\n",
    "            callbacks=[create_model_checkpoint(model_name=model_1.name)])"
   ]
  },
  {
   "cell_type": "code",
   "execution_count": 39,
   "id": "b35cc5f8",
   "metadata": {},
   "outputs": [
    {
     "name": "stdout",
     "output_type": "stream",
     "text": [
      "18/18 [==============================] - 0s 5ms/step - loss: 641.1683 - mae: 641.1683 - mse: 1325635.5000\n"
     ]
    },
    {
     "data": {
      "text/plain": [
       "[641.1683349609375, 641.1683349609375, 1325635.5]"
      ]
     },
     "execution_count": 39,
     "metadata": {},
     "output_type": "execute_result"
    }
   ],
   "source": [
    "# Evaluate model on test data (last performance - not the best)\n",
    "model_1.evaluate(test_windows, test_labels)"
   ]
  },
  {
   "cell_type": "code",
   "execution_count": 40,
   "id": "3b474323",
   "metadata": {},
   "outputs": [
    {
     "name": "stdout",
     "output_type": "stream",
     "text": [
      "18/18 [==============================] - 0s 3ms/step - loss: 570.9852 - mae: 570.9852 - mse: 1180975.5000\n"
     ]
    },
    {
     "data": {
      "text/plain": [
       "[570.9851684570312, 570.9851684570312, 1180975.5]"
      ]
     },
     "execution_count": 40,
     "metadata": {},
     "output_type": "execute_result"
    }
   ],
   "source": [
    "# Load in saved best performing model_1 and evaluate it on test data\n",
    "model_1 = tf.keras.models.load_model('model_experiments/model_1_dense/')\n",
    "model_1.evaluate(test_windows, test_labels)"
   ]
  },
  {
   "cell_type": "markdown",
   "id": "1a1a02c1",
   "metadata": {},
   "source": [
    "## Making forecasts with a model (on the test dataset)\n",
    "\n",
    "To make 'forecasts' on the dataset (note: these won't be actual forecasts, they're only pseudo forecasts actual forecasts are into the future), let's write a function to:\n",
    "\n",
    "1. Take in a train model\n",
    "2. Takes in some input data (same kind of data the model was trained on)\n",
    "3. Passes the input data to the model's `predict()` method\n",
    "4. Returns the predictions"
   ]
  },
  {
   "cell_type": "code",
   "execution_count": 41,
   "id": "9470b21a",
   "metadata": {},
   "outputs": [],
   "source": [
    "def make_preds(model, input_data):\n",
    "    \"\"\"\n",
    "    Uses model to make predictions input_data.\n",
    "    \"\"\"\n",
    "    forecast = model.predict(input_data)\n",
    "    return tf.squeeze(forecast) # return 1D array of predictions"
   ]
  },
  {
   "cell_type": "code",
   "execution_count": 42,
   "id": "93f5b9b5",
   "metadata": {},
   "outputs": [
    {
     "name": "stdout",
     "output_type": "stream",
     "text": [
      "18/18 [==============================] - 0s 1ms/step\n"
     ]
    },
    {
     "data": {
      "text/plain": [
       "(551,\n",
       " <tf.Tensor: shape=(10,), dtype=float32, numpy=\n",
       " array([8710.671 , 8688.868 , 8540.986 , 8450.566 , 8517.408 , 8281.519 ,\n",
       "        8123.8477, 8050.3364, 7705.0654, 7310.872 ], dtype=float32)>)"
      ]
     },
     "execution_count": 42,
     "metadata": {},
     "output_type": "execute_result"
    }
   ],
   "source": [
    "# Make predictions using model_1 on the test dataset and view results\n",
    "model_1_preds = make_preds(model_1, test_windows)\n",
    "len(model_1_preds), model_1_preds[:10]"
   ]
  },
  {
   "cell_type": "code",
   "execution_count": 43,
   "id": "67e72b08",
   "metadata": {},
   "outputs": [
    {
     "data": {
      "text/plain": [
       "{'mae': 570.9852,\n",
       " 'mse': 1180975.6,\n",
       " 'rmse': 1086.727,\n",
       " 'mape': 2.5477512,\n",
       " 'mase': 0.996569}"
      ]
     },
     "execution_count": 43,
     "metadata": {},
     "output_type": "execute_result"
    }
   ],
   "source": [
    "# Evaluate preds\n",
    "model_1_results = evaluate_preds(y_true=tf.squeeze(test_labels),\n",
    "                                 y_pred=model_1_preds)\n",
    "model_1_results"
   ]
  },
  {
   "cell_type": "code",
   "execution_count": 44,
   "id": "9b6b48ce",
   "metadata": {},
   "outputs": [
    {
     "data": {
      "text/plain": [
       "{'mae': 567.9802,\n",
       " 'mse': 1147547.0,\n",
       " 'rmse': 1071.2362,\n",
       " 'mape': 2.516525,\n",
       " 'mase': 0.99957}"
      ]
     },
     "execution_count": 44,
     "metadata": {},
     "output_type": "execute_result"
    }
   ],
   "source": [
    "naive_results"
   ]
  },
  {
   "cell_type": "code",
   "execution_count": 45,
   "id": "886ffc00",
   "metadata": {},
   "outputs": [
    {
     "data": {
      "image/png": "[encoded data removed]",
      "text/plain": [
       "<Figure size 1000x700 with 1 Axes>"
      ]
     },
     "metadata": {},
     "output_type": "display_data"
    }
   ],
   "source": [
    "# Let's plot our model 1 predictions\n",
    "offset = 300\n",
    "plt.figure(figsize=(10, 7))\n",
    "# Account for the test_window offset and index into test_labels to ensure correct plotting\n",
    "plot_time_series(timesteps=X_test[-len(test_windows):], values=test_labels[:, 0], start=offset, label='Test Data')\n",
    "\n",
    "plot_time_series(timesteps=X_test[-len(test_windows):], values=model_1_preds, start=offset, format='-', label='Model 1 Preds')"
   ]
  },
  {
   "cell_type": "markdown",
   "id": "e2cae249",
   "metadata": {},
   "source": [
    "## Model 2: Dense (window = 30, horizon = 1)"
   ]
  },
  {
   "cell_type": "code",
   "execution_count": 46,
   "id": "1984ac3e",
   "metadata": {},
   "outputs": [],
   "source": [
    "HORIZON = 1 # predict one step at a time (one day of Bitcoin prices)\n",
    "WINDOW_SIZE = 30 # use 30 timesteps in past"
   ]
  },
  {
   "cell_type": "code",
   "execution_count": 47,
   "id": "55f9ad76",
   "metadata": {},
   "outputs": [
    {
     "data": {
      "text/plain": [
       "(2757, 2757)"
      ]
     },
     "execution_count": 47,
     "metadata": {},
     "output_type": "execute_result"
    }
   ],
   "source": [
    "# Make window data with appropriate horizon and window sizes\n",
    "full_windows, full_labels = make_windows(prices, window_size=WINDOW_SIZE, horizon=HORIZON)\n",
    "len(full_windows), len(full_labels)"
   ]
  },
  {
   "cell_type": "code",
   "execution_count": 48,
   "id": "9db41bdc",
   "metadata": {},
   "outputs": [
    {
     "data": {
      "text/plain": [
       "(2229, 528, 2229, 528)"
      ]
     },
     "execution_count": 48,
     "metadata": {},
     "output_type": "execute_result"
    }
   ],
   "source": [
    "# Make train and testing windows\n",
    "train_windows, test_windows, train_labels, test_labels = make_train_test_splits(windows=full_windows,\n",
    "                                                                                labels=full_labels,\n",
    "                                                                                test_split=0.2)\n",
    "len(train_windows), len(test_windows), len(train_labels), len(test_labels)"
   ]
  },
  {
   "cell_type": "code",
   "execution_count": 49,
   "id": "6d9d578d",
   "metadata": {},
   "outputs": [
    {
     "name": "stdout",
     "output_type": "stream",
     "text": [
      "INFO:tensorflow:Assets written to: model_experiments\\model_2_dense\\assets\n",
      "INFO:tensorflow:Assets written to: model_experiments\\model_2_dense\\assets\n",
      "INFO:tensorflow:Assets written to: model_experiments\\model_2_dense\\assets\n",
      "INFO:tensorflow:Assets written to: model_experiments\\model_2_dense\\assets\n",
      "INFO:tensorflow:Assets written to: model_experiments\\model_2_dense\\assets\n",
      "INFO:tensorflow:Assets written to: model_experiments\\model_2_dense\\assets\n",
      "INFO:tensorflow:Assets written to: model_experiments\\model_2_dense\\assets\n",
      "INFO:tensorflow:Assets written to: model_experiments\\model_2_dense\\assets\n",
      "INFO:tensorflow:Assets written to: model_experiments\\model_2_dense\\assets\n",
      "INFO:tensorflow:Assets written to: model_experiments\\model_2_dense\\assets\n",
      "INFO:tensorflow:Assets written to: model_experiments\\model_2_dense\\assets\n",
      "INFO:tensorflow:Assets written to: model_experiments\\model_2_dense\\assets\n",
      "INFO:tensorflow:Assets written to: model_experiments\\model_2_dense\\assets\n",
      "INFO:tensorflow:Assets written to: model_experiments\\model_2_dense\\assets\n",
      "INFO:tensorflow:Assets written to: model_experiments\\model_2_dense\\assets\n",
      "INFO:tensorflow:Assets written to: model_experiments\\model_2_dense\\assets\n",
      "INFO:tensorflow:Assets written to: model_experiments\\model_2_dense\\assets\n",
      "INFO:tensorflow:Assets written to: model_experiments\\model_2_dense\\assets\n",
      "INFO:tensorflow:Assets written to: model_experiments\\model_2_dense\\assets\n",
      "INFO:tensorflow:Assets written to: model_experiments\\model_2_dense\\assets\n",
      "INFO:tensorflow:Assets written to: model_experiments\\model_2_dense\\assets\n"
     ]
    },
    {
     "data": {
      "text/plain": [
       "<keras.callbacks.History at 0x1a0036b8af0>"
      ]
     },
     "execution_count": 49,
     "metadata": {},
     "output_type": "execute_result"
    }
   ],
   "source": [
    "tf.random.set_seed(42)\n",
    "\n",
    "# Create model\n",
    "model_2 = tf.keras.Sequential([\n",
    "    layers.Dense(128, activation='relu'),\n",
    "    layers.Dense(HORIZON)\n",
    "], name='model_2_dense')\n",
    "\n",
    "# Compile model\n",
    "model_2.compile(loss='mae',\n",
    "                optimizer=tf.keras.optimizers.Adam())\n",
    "\n",
    "# Fit\n",
    "model_2.fit(train_windows,\n",
    "            train_labels,\n",
    "            epochs=100,\n",
    "            batch_size=128,\n",
    "            verbose=0,\n",
    "            validation_data=(test_windows, test_labels),\n",
    "            callbacks=[create_model_checkpoint(model_name=model_2.name)])"
   ]
  },
  {
   "cell_type": "code",
   "execution_count": 50,
   "id": "8105caa5",
   "metadata": {},
   "outputs": [
    {
     "name": "stdout",
     "output_type": "stream",
     "text": [
      "17/17 [==============================] - 0s 3ms/step - loss: 666.4742\n"
     ]
    },
    {
     "data": {
      "text/plain": [
       "666.4741821289062"
      ]
     },
     "execution_count": 50,
     "metadata": {},
     "output_type": "execute_result"
    }
   ],
   "source": [
    "# Evaluate model 2 on test data\n",
    "model_2.evaluate(test_windows, test_labels)"
   ]
  },
  {
   "cell_type": "code",
   "execution_count": 51,
   "id": "576cc0b8",
   "metadata": {},
   "outputs": [
    {
     "name": "stdout",
     "output_type": "stream",
     "text": [
      "17/17 [==============================] - 0s 5ms/step - loss: 633.7154\n"
     ]
    },
    {
     "data": {
      "text/plain": [
       "633.7153930664062"
      ]
     },
     "execution_count": 51,
     "metadata": {},
     "output_type": "execute_result"
    }
   ],
   "source": [
    "# Load in the best performing model\n",
    "model_2 = tf.keras.models.load_model('model_experiments/model_2_dense/')\n",
    "model_2.evaluate(test_windows, test_labels)"
   ]
  },
  {
   "cell_type": "code",
   "execution_count": 52,
   "id": "16830931",
   "metadata": {},
   "outputs": [
    {
     "name": "stdout",
     "output_type": "stream",
     "text": [
      "17/17 [==============================] - 0s 2ms/step\n"
     ]
    }
   ],
   "source": [
    "# Get forecast predictions\n",
    "model_2_preds = make_preds(model_2,\n",
    "                           input_data=test_windows)"
   ]
  },
  {
   "cell_type": "code",
   "execution_count": 53,
   "id": "4a35b2c8",
   "metadata": {},
   "outputs": [
    {
     "data": {
      "text/plain": [
       "(TensorShape([528]), TensorShape([528]))"
      ]
     },
     "execution_count": 53,
     "metadata": {},
     "output_type": "execute_result"
    }
   ],
   "source": [
    "tf.squeeze(test_labels).shape, model_2_preds.shape"
   ]
  },
  {
   "cell_type": "code",
   "execution_count": 54,
   "id": "81997755",
   "metadata": {},
   "outputs": [
    {
     "data": {
      "text/plain": [
       "{'mae': 633.7154,\n",
       " 'mse': 1312586.4,\n",
       " 'rmse': 1145.6815,\n",
       " 'mape': 2.7974122,\n",
       " 'mase': 1.0726122}"
      ]
     },
     "execution_count": 54,
     "metadata": {},
     "output_type": "execute_result"
    }
   ],
   "source": [
    "# Evaluate results for model 2 predictions\n",
    "model_2_results = evaluate_preds(y_true=tf.squeeze(test_labels),\n",
    "                                 y_pred=model_2_preds)\n",
    "model_2_results"
   ]
  },
  {
   "cell_type": "code",
   "execution_count": 55,
   "id": "982bdaa0",
   "metadata": {},
   "outputs": [
    {
     "data": {
      "text/plain": [
       "{'mae': 570.9852,\n",
       " 'mse': 1180975.6,\n",
       " 'rmse': 1086.727,\n",
       " 'mape': 2.5477512,\n",
       " 'mase': 0.996569}"
      ]
     },
     "execution_count": 55,
     "metadata": {},
     "output_type": "execute_result"
    }
   ],
   "source": [
    "model_1_results"
   ]
  },
  {
   "cell_type": "code",
   "execution_count": 56,
   "id": "a1f9ba91",
   "metadata": {},
   "outputs": [
    {
     "data": {
      "image/png": "[encoded data removed]",
      "text/plain": [
       "<Figure size 1000x700 with 1 Axes>"
      ]
     },
     "metadata": {},
     "output_type": "display_data"
    }
   ],
   "source": [
    "offset = 300\n",
    "plt.figure(figsize=(10, 7))\n",
    "# Account for test_window offset when plotting\n",
    "plot_time_series(timesteps=X_test[-len(test_windows):], values=test_labels[:, 0], start=offset, label='Test Data')\n",
    "plot_time_series(timesteps=X_test[-len(test_windows):], values=model_2_preds, start=offset, format='-', label='model_2_preds')"
   ]
  },
  {
   "cell_type": "markdown",
   "id": "c0113fea",
   "metadata": {},
   "source": [
    "## Model 3: Dense (window = 30, horizon = 7)\n",
    "\n"
   ]
  },
  {
   "cell_type": "code",
   "execution_count": 57,
   "id": "887cc5e4",
   "metadata": {},
   "outputs": [
    {
     "data": {
      "text/plain": [
       "(2751, 2751)"
      ]
     },
     "execution_count": 57,
     "metadata": {},
     "output_type": "execute_result"
    }
   ],
   "source": [
    "HORIZON = 7\n",
    "WINDOW_SIZE = 30\n",
    "\n",
    "full_windows, full_labels = make_windows(prices, window_size=WINDOW_SIZE, horizon=HORIZON)\n",
    "len(full_windows), len(full_labels)"
   ]
  },
  {
   "cell_type": "code",
   "execution_count": 58,
   "id": "6e79caa1",
   "metadata": {},
   "outputs": [
    {
     "data": {
      "text/plain": [
       "(2229, 522, 2229, 522)"
      ]
     },
     "execution_count": 58,
     "metadata": {},
     "output_type": "execute_result"
    }
   ],
   "source": [
    "train_windows, test_windows, train_labels, test_labels = make_train_test_splits(windows=full_windows,\n",
    "                                                                                labels=full_labels,\n",
    "                                                                                test_split=0.2)\n",
    "len(train_windows), len(test_windows), len(train_labels), len(test_labels)"
   ]
  },
  {
   "cell_type": "code",
   "execution_count": 59,
   "id": "23124476",
   "metadata": {},
   "outputs": [
    {
     "name": "stdout",
     "output_type": "stream",
     "text": [
      "INFO:tensorflow:Assets written to: model_experiments\\model_3_dense\\assets\n",
      "INFO:tensorflow:Assets written to: model_experiments\\model_3_dense\\assets\n",
      "INFO:tensorflow:Assets written to: model_experiments\\model_3_dense\\assets\n",
      "INFO:tensorflow:Assets written to: model_experiments\\model_3_dense\\assets\n",
      "INFO:tensorflow:Assets written to: model_experiments\\model_3_dense\\assets\n",
      "INFO:tensorflow:Assets written to: model_experiments\\model_3_dense\\assets\n",
      "INFO:tensorflow:Assets written to: model_experiments\\model_3_dense\\assets\n",
      "INFO:tensorflow:Assets written to: model_experiments\\model_3_dense\\assets\n",
      "INFO:tensorflow:Assets written to: model_experiments\\model_3_dense\\assets\n",
      "INFO:tensorflow:Assets written to: model_experiments\\model_3_dense\\assets\n",
      "INFO:tensorflow:Assets written to: model_experiments\\model_3_dense\\assets\n",
      "INFO:tensorflow:Assets written to: model_experiments\\model_3_dense\\assets\n",
      "INFO:tensorflow:Assets written to: model_experiments\\model_3_dense\\assets\n",
      "INFO:tensorflow:Assets written to: model_experiments\\model_3_dense\\assets\n",
      "INFO:tensorflow:Assets written to: model_experiments\\model_3_dense\\assets\n",
      "INFO:tensorflow:Assets written to: model_experiments\\model_3_dense\\assets\n",
      "INFO:tensorflow:Assets written to: model_experiments\\model_3_dense\\assets\n",
      "INFO:tensorflow:Assets written to: model_experiments\\model_3_dense\\assets\n",
      "INFO:tensorflow:Assets written to: model_experiments\\model_3_dense\\assets\n",
      "INFO:tensorflow:Assets written to: model_experiments\\model_3_dense\\assets\n",
      "INFO:tensorflow:Assets written to: model_experiments\\model_3_dense\\assets\n",
      "INFO:tensorflow:Assets written to: model_experiments\\model_3_dense\\assets\n",
      "INFO:tensorflow:Assets written to: model_experiments\\model_3_dense\\assets\n",
      "INFO:tensorflow:Assets written to: model_experiments\\model_3_dense\\assets\n"
     ]
    },
    {
     "data": {
      "text/plain": [
       "<keras.callbacks.History at 0x19ff39b7a90>"
      ]
     },
     "execution_count": 59,
     "metadata": {},
     "output_type": "execute_result"
    }
   ],
   "source": [
    "tf.random.set_seed(42)\n",
    "\n",
    "# Create model\n",
    "model_3 = tf.keras.Sequential([\n",
    "    layers.Dense(128, activation='relu'),\n",
    "    layers.Dense(HORIZON)\n",
    "], name='model_3_dense')\n",
    "\n",
    "# Compile\n",
    "model_3.compile(loss='mae',\n",
    "                optimizer=tf.keras.optimizers.Adam())\n",
    "\n",
    "# Fit\n",
    "model_3.fit(train_windows,\n",
    "            train_labels,\n",
    "            batch_size=128,\n",
    "            epochs=100,\n",
    "            verbose=0,\n",
    "            validation_data=(test_windows, test_labels),\n",
    "            callbacks=[create_model_checkpoint(model_name=model_3.name)])"
   ]
  },
  {
   "cell_type": "code",
   "execution_count": 60,
   "id": "4c40baa7",
   "metadata": {},
   "outputs": [
    {
     "name": "stdout",
     "output_type": "stream",
     "text": [
      "17/17 [==============================] - 0s 4ms/step - loss: 1380.4120\n"
     ]
    },
    {
     "data": {
      "text/plain": [
       "1380.4119873046875"
      ]
     },
     "execution_count": 60,
     "metadata": {},
     "output_type": "execute_result"
    }
   ],
   "source": [
    "# Evaluate the model on the test data\n",
    "model_3.evaluate(test_windows, test_labels)"
   ]
  },
  {
   "cell_type": "code",
   "execution_count": 61,
   "id": "7a7a83c6",
   "metadata": {},
   "outputs": [
    {
     "name": "stdout",
     "output_type": "stream",
     "text": [
      "17/17 [==============================] - 0s 3ms/step - loss: 1284.4802\n"
     ]
    },
    {
     "data": {
      "text/plain": [
       "1284.480224609375"
      ]
     },
     "execution_count": 61,
     "metadata": {},
     "output_type": "execute_result"
    }
   ],
   "source": [
    "# Load best version of model_3 and evaluate\n",
    "model_3 = tf.keras.models.load_model('model_experiments/model_3_dense/')\n",
    "model_3.evaluate(test_windows, test_labels)"
   ]
  },
  {
   "cell_type": "code",
   "execution_count": 62,
   "id": "796cb207",
   "metadata": {},
   "outputs": [
    {
     "name": "stdout",
     "output_type": "stream",
     "text": [
      "17/17 [==============================] - 0s 3ms/step\n"
     ]
    },
    {
     "data": {
      "text/plain": [
       "TensorShape([522, 7])"
      ]
     },
     "execution_count": 62,
     "metadata": {},
     "output_type": "execute_result"
    }
   ],
   "source": [
    "# Make predictions with model_3\n",
    "model_3_preds = make_preds(model_3,\n",
    "                           input_data=test_windows)\n",
    "model_3_preds.shape"
   ]
  },
  {
   "cell_type": "code",
   "execution_count": 63,
   "id": "51f272aa",
   "metadata": {},
   "outputs": [
    {
     "data": {
      "text/plain": [
       "(TensorShape([522, 7]), TensorShape([528]))"
      ]
     },
     "execution_count": 63,
     "metadata": {},
     "output_type": "execute_result"
    }
   ],
   "source": [
    "model_3_preds.shape, model_2_preds.shape"
   ]
  },
  {
   "cell_type": "code",
   "execution_count": 64,
   "id": "ccec3843",
   "metadata": {},
   "outputs": [
    {
     "data": {
      "text/plain": [
       "{'mae': array([  286.26373 ,   326.30405 ,   470.88107 ,   374.37234 ,\n",
       "          460.32855 ,   306.919   ,   351.97406 ,   366.5217  ,\n",
       "          256.3654  ,   220.05371 ,   229.14787 ,   388.77386 ,\n",
       "           88.728516,    90.791016,    91.96575 ,   125.04694 ,\n",
       "          138.50768 ,   138.02762 ,    99.927315,   140.36293 ,\n",
       "          100.71903 ,   186.16483 ,   176.14621 ,   299.72928 ,\n",
       "          206.6266  ,   268.65137 ,   331.48947 ,   507.6778  ,\n",
       "          453.18912 ,   435.07617 ,   467.9809  ,   366.07806 ,\n",
       "          134.6273  ,   297.22607 ,   333.45047 ,   403.7399  ,\n",
       "          432.72867 ,   445.73947 ,   443.6836  ,    92.63463 ,\n",
       "          256.91965 ,   325.66586 ,   498.17355 ,   587.6278  ,\n",
       "          499.0593  ,   362.494   ,   363.73117 ,   336.55484 ,\n",
       "          417.98117 ,   454.31976 ,   682.2197  ,   712.7193  ,\n",
       "          478.7853  ,   213.25642 ,   148.42117 ,   269.88406 ,\n",
       "          241.10115 ,   203.9968  ,   276.70786 ,   336.97    ,\n",
       "          520.55597 ,   399.44125 ,   295.15262 ,   269.28836 ,\n",
       "          175.96121 ,   280.68375 ,   253.84486 ,   331.5244  ,\n",
       "          596.2334  ,   676.77454 ,   814.95734 ,   526.5128  ,\n",
       "          450.26144 ,   184.57547 ,   517.2002  ,   394.6804  ,\n",
       "          420.99554 ,   562.6469  ,   762.1406  ,  1116.8855  ,\n",
       "          981.19464 ,   954.9036  ,   302.80914 ,   235.33287 ,\n",
       "          206.19908 ,   215.42424 ,   353.3946  ,   341.53717 ,\n",
       "          501.50522 ,   554.0872  ,  1191.7539  ,  1778.0916  ,\n",
       "         2268.1467  ,  2037.0988  ,  2164.3313  ,  2286.8462  ,\n",
       "         2695.5745  ,  1165.3483  ,   634.07404 ,   518.32025 ,\n",
       "          457.8185  ,   742.92883 ,   763.74414 ,   631.1563  ,\n",
       "          357.16022 ,   256.83224 ,   266.30252 ,   325.09604 ,\n",
       "          295.17703 ,   451.91763 ,   264.6026  ,   427.97955 ,\n",
       "          334.82227 ,   399.91537 ,   747.6243  ,   587.16986 ,\n",
       "          562.6576  ,   445.77817 ,   294.7728  ,   221.84242 ,\n",
       "          279.40695 ,   205.37312 ,   480.43604 ,   242.32826 ,\n",
       "          569.09344 ,   551.4888  ,   331.52036 ,   156.9744  ,\n",
       "          184.45158 ,   124.42696 ,   209.77531 ,   230.72873 ,\n",
       "          185.83029 ,   177.03606 ,   227.0918  ,   287.03912 ,\n",
       "          411.5516  ,   537.88214 ,   632.4613  ,   444.11588 ,\n",
       "          638.6192  ,   754.3664  ,   854.28766 ,   885.49084 ,\n",
       "          945.602   ,   271.97418 ,   255.57756 ,   370.4912  ,\n",
       "          398.08258 ,   380.5113  ,   481.4089  ,   477.80762 ,\n",
       "          519.1698  ,   638.40753 ,  1004.4145  ,   901.80457 ,\n",
       "          304.00238 ,   494.09445 ,   586.8588  ,   311.47836 ,\n",
       "          171.29785 ,   197.32156 ,   244.64955 ,   458.67007 ,\n",
       "          643.68317 ,   770.71875 ,   626.1558  ,   293.4036  ,\n",
       "          318.4816  ,   304.4131  ,   267.6652  ,   468.72195 ,\n",
       "          684.8478  ,   610.66266 ,   344.3051  ,   176.22697 ,\n",
       "          318.40402 ,   132.5978  ,   532.5766  ,   235.21121 ,\n",
       "          173.82799 ,   295.9343  ,   234.2373  ,   281.35226 ,\n",
       "          217.74065 ,   520.626   ,   492.54828 ,   737.05914 ,\n",
       "          165.00838 ,   264.55817 ,   207.93192 ,   282.31348 ,\n",
       "          227.05203 ,   231.26604 ,   207.48215 ,   183.2627  ,\n",
       "          208.71428 ,   140.90402 ,   293.40445 ,   401.7998  ,\n",
       "          595.6991  ,   403.35825 ,   328.98465 ,   204.13113 ,\n",
       "          172.23381 ,   120.55287 ,   157.66434 ,   145.56697 ,\n",
       "          190.90625 ,   187.63895 ,   122.220985,   140.18346 ,\n",
       "           47.361748,   189.47098 ,    93.16741 ,   331.5385  ,\n",
       "          248.44252 ,   252.43625 ,   145.05998 ,   242.26814 ,\n",
       "          216.69113 ,   196.65834 ,   192.62444 ,   173.24623 ,\n",
       "          158.91518 ,   182.14871 ,   271.149   ,   558.20465 ,\n",
       "          603.03754 ,   716.1094  ,   839.19543 ,  1041.1139  ,\n",
       "         1217.6786  ,  1208.143   ,   300.39203 ,   179.07799 ,\n",
       "          232.38615 ,   327.6059  ,   271.17285 ,   551.954   ,\n",
       "          165.11873 ,   207.59961 ,   260.85867 ,   270.44476 ,\n",
       "          340.6564  ,   401.28586 ,   320.48004 ,   306.29645 ,\n",
       "          362.0607  ,   268.98773 ,   205.85031 ,   191.24889 ,\n",
       "          250.70285 ,   244.25041 ,   285.24274 ,   616.5604  ,\n",
       "          716.29047 ,   501.80844 ,   368.32758 ,   322.97086 ,\n",
       "          415.17758 ,   380.34906 ,   381.5625  ,   228.84445 ,\n",
       "          216.21623 ,   239.86732 ,   473.83774 ,   588.9823  ,\n",
       "          943.6901  ,  1110.8584  ,  1568.1619  ,  1492.4572  ,\n",
       "          912.8444  ,   613.34894 ,   190.62514 ,   116.26283 ,\n",
       "          188.04674 ,   276.18246 ,   283.65234 ,   309.0064  ,\n",
       "          224.47559 ,   287.53152 ,   293.32687 ,   214.10938 ,\n",
       "          257.74777 ,   454.29645 ,   479.56265 ,   498.4611  ,\n",
       "          607.2181  ,   454.88754 ,   208.88295 ,   195.4283  ,\n",
       "          193.91406 ,   147.59026 ,   198.91713 ,   318.6561  ,\n",
       "          340.5233  ,   393.7673  ,   409.4471  ,   334.28238 ,\n",
       "          187.3951  ,   154.31752 ,   300.0862  ,   293.90543 ,\n",
       "          376.3605  ,   501.15375 ,   500.7263  ,   451.52094 ,\n",
       "          288.715   ,   152.62389 ,   192.43764 ,   420.1652  ,\n",
       "          295.60254 ,   383.51968 ,   595.08984 ,   699.0258  ,\n",
       "          953.3708  ,  1082.0029  ,  1024.7155  ,  1059.6774  ,\n",
       "          225.9541  ,   235.18555 ,   201.2426  ,   235.78906 ,\n",
       "          273.98145 ,   152.4887  ,   268.55762 ,   192.66322 ,\n",
       "          491.1613  ,   628.1137  ,   655.46344 ,   760.167   ,\n",
       "         1004.26855 ,  1041.6222  ,  1052.782   ,   322.06055 ,\n",
       "          447.69183 ,   395.17117 ,   367.02567 ,   504.16977 ,\n",
       "          616.88477 ,   791.7585  ,   749.23285 ,  1022.33466 ,\n",
       "         1278.8672  ,  1647.5814  ,  1320.1858  ,   704.84796 ,\n",
       "          442.02316 ,   467.85074 ,   681.8675  ,  1051.5974  ,\n",
       "         1377.2252  ,  1024.5306  ,  1111.7804  ,  1010.4855  ,\n",
       "          914.40735 ,  1282.5374  ,  1154.7068  ,   833.75055 ,\n",
       "          246.36746 ,   431.65793 ,   479.70535 ,  1021.62805 ,\n",
       "          992.459   ,   818.1889  ,   597.88055 ,   704.7581  ,\n",
       "          553.3226  ,   743.0407  ,  1465.5775  ,  2061.3906  ,\n",
       "         2357.3806  ,  2850.859   ,  3111.3403  ,  3303.3352  ,\n",
       "         1969.2592  ,   506.19727 ,   436.5145  ,   976.7154  ,\n",
       "         1246.9127  ,  1407.4451  ,  1654.375   ,  2206.7278  ,\n",
       "         2903.8125  ,  2853.6765  ,  2016.4286  ,  2503.2375  ,\n",
       "         2665.1675  ,  3258.2327  ,  2896.8772  ,  3938.1292  ,\n",
       "         5012.375   ,  4271.645   ,  4208.8975  ,  4426.8604  ,\n",
       "         3201.8264  ,  2806.9827  ,  2722.6975  ,  4297.159   ,\n",
       "         5324.861   ,  4675.5073  ,  1402.9509  ,   838.2321  ,\n",
       "         1102.327   ,  3213.9749  ,  2875.0637  ,  2948.8784  ,\n",
       "         3302.4207  ,  4150.7295  ,  4980.263   ,  4006.9065  ,\n",
       "          381.25504 ,  1449.5276  ,  1163.1439  ,   987.65265 ,\n",
       "         1550.9099  ,  2188.054   ,  3692.3079  ,  2861.4714  ,\n",
       "         1809.1116  ,  1956.0725  ,  2865.0742  ,  4667.2275  ,\n",
       "         4660.282   ,  4319.863   ,  4795.691   ,  5807.8687  ,\n",
       "         5893.236   ,  7337.0947  ,  3002.1953  ,  1054.9861  ,\n",
       "         1447.9542  ,  1323.8431  ,  2351.7769  ,  2322.6038  ,\n",
       "         2805.2466  ,  2979.612   ,  3516.8286  ,  2994.1233  ,\n",
       "         3010.3733  ,  5945.0474  ,  7186.891   , 10621.165   ,\n",
       "         9279.869   ,  4985.569   ,  2647.569   ,  2337.207   ,\n",
       "         1341.8583  ,  2924.9548  ,  3947.059   ,  2181.1724  ,\n",
       "         2285.4136  ,  2210.6245  ,  3749.1077  ,  4902.905   ,\n",
       "         5557.483   ,  6060.6406  ,  5894.582   ,  4043.5676  ,\n",
       "         1494.9994  ,  1746.9397  ,  1537.5352  ,  2618.7734  ,\n",
       "         4878.312   ,  2279.9504  ,  2026.9855  ,  3303.9905  ,\n",
       "         4567.565   ,  5746.926   ,  5506.596   ,  5070.718   ,\n",
       "         2620.1106  ,  2142.5999  ,  2461.783   ,  3817.4648  ,\n",
       "         3670.97    ,  2004.3387  ,  2604.0369  ,  1217.942   ,\n",
       "          811.17914 ,  1376.4615  ,  1469.0447  ,  1578.8811  ,\n",
       "         1125.1389  ,  1019.66907 ,  1775.7852  ,  1523.6116  ,\n",
       "         2618.981   ,  2663.7327  ,  2525.4414  ,  1774.8225  ,\n",
       "         2189.591   ,  2486.0295  ,  4268.2495  ,  5787.0557  ,\n",
       "         8201.819   ,  8590.123   ,  8576.2705  ,  6684.312   ,\n",
       "         5146.8774  ,  4611.519   ,  2959.0417  ,  2252.6028  ,\n",
       "         3087.2322  ,  3909.7395  ,  5608.311   ,  2953.356   ,\n",
       "         1564.2126  ,  1680.6139  ,  2120.371   ,   894.2221  ,\n",
       "         2000.3588  ,  1427.2394  ,  1977.3416  ,  2281.3533  ,\n",
       "         1810.8577  ,  2266.2126  ,  4698.1367  ,  6061.181   ,\n",
       "         8646.545   ,  8987.166   ], dtype=float32),\n",
       " 'mse': array([9.64315000e+04, 1.24402141e+05, 2.28565750e+05, 1.72364875e+05,\n",
       "        2.80860906e+05, 1.62658516e+05, 1.88702328e+05, 1.96734719e+05,\n",
       "        1.24536930e+05, 8.29974375e+04, 7.75788047e+04, 1.55808375e+05,\n",
       "        1.11122295e+04, 1.18352607e+04, 2.14684355e+04, 1.90359863e+04,\n",
       "        2.73876758e+04, 2.52898242e+04, 1.39933057e+04, 2.33653711e+04,\n",
       "        1.53742900e+04, 4.17251016e+04, 5.34351250e+04, 1.06911547e+05,\n",
       "        6.96309297e+04, 9.23208359e+04, 1.90453406e+05, 3.75383812e+05,\n",
       "        2.68494719e+05, 2.34812656e+05, 2.44733516e+05, 1.59802641e+05,\n",
       "        6.62162734e+04, 1.41612938e+05, 2.12106828e+05, 2.06781641e+05,\n",
       "        2.55217547e+05, 2.17484578e+05, 2.23417031e+05, 1.14679463e+04,\n",
       "        8.56273672e+04, 1.49078031e+05, 2.76733406e+05, 3.74686562e+05,\n",
       "        2.77637750e+05, 1.82297625e+05, 1.79187656e+05, 1.47798047e+05,\n",
       "        2.27568953e+05, 3.23312562e+05, 5.59867875e+05, 5.69813438e+05,\n",
       "        2.38012891e+05, 6.93013359e+04, 2.73700527e+04, 9.55932109e+04,\n",
       "        9.83585156e+04, 6.27173555e+04, 1.06060680e+05, 1.63628141e+05,\n",
       "        3.27506281e+05, 2.39580031e+05, 1.40775703e+05, 8.77336094e+04,\n",
       "        4.30558398e+04, 1.13925172e+05, 1.07510820e+05, 1.84811141e+05,\n",
       "        4.88477656e+05, 5.49257688e+05, 7.16454875e+05, 3.00686656e+05,\n",
       "        2.42695172e+05, 4.25527891e+04, 2.89384781e+05, 2.53309391e+05,\n",
       "        3.24134688e+05, 4.44954031e+05, 7.84305125e+05, 1.43402512e+06,\n",
       "        1.01448450e+06, 9.57877438e+05, 1.23521766e+05, 8.50351641e+04,\n",
       "        5.70240820e+04, 5.84529570e+04, 1.58975797e+05, 2.24902641e+05,\n",
       "        3.81769906e+05, 4.43483781e+05, 2.62684450e+06, 4.53650400e+06,\n",
       "        6.73849100e+06, 5.49339500e+06, 6.16289250e+06, 6.08727550e+06,\n",
       "        7.35397700e+06, 1.52182662e+06, 5.25491688e+05, 3.81449344e+05,\n",
       "        2.49200328e+05, 7.35880500e+05, 7.23028688e+05, 4.90053688e+05,\n",
       "        1.51012359e+05, 1.30125414e+05, 9.49372969e+04, 1.72045109e+05,\n",
       "        1.33268797e+05, 2.87138281e+05, 1.26658875e+05, 2.88089719e+05,\n",
       "        1.67193984e+05, 2.29131625e+05, 6.70558875e+05, 4.60059344e+05,\n",
       "        3.61662844e+05, 3.13031906e+05, 1.25095289e+05, 8.23002891e+04,\n",
       "        8.87042109e+04, 6.89271016e+04, 3.45043031e+05, 9.21649609e+04,\n",
       "        3.55708594e+05, 3.64180000e+05, 1.42694500e+05, 3.44993008e+04,\n",
       "        5.77154727e+04, 1.92150957e+04, 6.82709141e+04, 7.25715469e+04,\n",
       "        5.13937422e+04, 4.44516250e+04, 7.90902891e+04, 1.05598539e+05,\n",
       "        1.91442734e+05, 3.48269562e+05, 5.72109812e+05, 5.23789844e+05,\n",
       "        6.74775438e+05, 8.29733625e+05, 9.86847438e+05, 8.75742562e+05,\n",
       "        8.99696875e+05, 1.20052141e+05, 1.62021016e+05, 2.24814828e+05,\n",
       "        2.28062781e+05, 1.93635578e+05, 2.77551438e+05, 2.58690422e+05,\n",
       "        3.82581438e+05, 6.47875625e+05, 1.21520500e+06, 9.90931812e+05,\n",
       "        1.92072656e+05, 2.66488938e+05, 3.85679781e+05, 1.19735539e+05,\n",
       "        4.41561172e+04, 5.91817422e+04, 7.81542656e+04, 2.86193531e+05,\n",
       "        5.09375062e+05, 6.43786188e+05, 4.09881219e+05, 1.30899266e+05,\n",
       "        1.35290641e+05, 1.17860164e+05, 7.72680547e+04, 3.46483062e+05,\n",
       "        6.58997125e+05, 4.40347562e+05, 2.19391469e+05, 5.38861445e+04,\n",
       "        1.31851828e+05, 3.51654336e+04, 2.97857781e+05, 5.97000664e+04,\n",
       "        5.63331914e+04, 1.11202875e+05, 9.10701797e+04, 1.13515211e+05,\n",
       "        7.40921016e+04, 3.27419469e+05, 2.82251562e+05, 5.72544312e+05,\n",
       "        4.79663750e+04, 9.59545000e+04, 5.25494922e+04, 1.00566133e+05,\n",
       "        6.68471875e+04, 7.01678750e+04, 5.93207539e+04, 5.28276953e+04,\n",
       "        6.24245000e+04, 4.42655664e+04, 1.01338234e+05, 1.99465969e+05,\n",
       "        4.01045562e+05, 1.84445781e+05, 1.34935219e+05, 5.33935625e+04,\n",
       "        3.47193867e+04, 1.83086914e+04, 3.12387988e+04, 4.54479414e+04,\n",
       "        5.00239023e+04, 4.80964609e+04, 1.85153086e+04, 2.91888809e+04,\n",
       "        5.03132324e+03, 4.43292734e+04, 1.45572393e+04, 1.21736859e+05,\n",
       "        6.87879297e+04, 7.49678516e+04, 2.55623281e+04, 6.67505156e+04,\n",
       "        6.07320352e+04, 4.82589414e+04, 5.60337422e+04, 3.80321680e+04,\n",
       "        3.33673438e+04, 4.59063203e+04, 1.00219586e+05, 6.24690188e+05,\n",
       "        7.72535000e+05, 9.98058812e+05, 1.08482400e+06, 1.37711888e+06,\n",
       "        1.78983312e+06, 1.51422200e+06, 1.50786172e+05, 5.23670391e+04,\n",
       "        7.65916406e+04, 1.21584430e+05, 1.12775109e+05, 3.53934781e+05,\n",
       "        3.27735195e+04, 5.86744297e+04, 1.06379961e+05, 1.06409070e+05,\n",
       "        1.56290047e+05, 2.05404453e+05, 1.70253078e+05, 1.39936250e+05,\n",
       "        1.66547625e+05, 1.55821547e+05, 6.89423750e+04, 5.53561797e+04,\n",
       "        9.14541172e+04, 8.69313047e+04, 9.15062734e+04, 4.13602344e+05,\n",
       "        5.56550688e+05, 2.75737344e+05, 1.99692422e+05, 1.29042250e+05,\n",
       "        2.32924219e+05, 1.86173250e+05, 1.82007781e+05, 6.52102773e+04,\n",
       "        6.45925117e+04, 1.31824078e+05, 3.41678938e+05, 6.59553000e+05,\n",
       "        1.22421275e+06, 1.67236425e+06, 2.68344375e+06, 2.30107525e+06,\n",
       "        8.57697188e+05, 4.18898188e+05, 5.99818125e+04, 2.25928262e+04,\n",
       "        5.29589688e+04, 1.05390555e+05, 1.18545875e+05, 1.26603961e+05,\n",
       "        7.46007891e+04, 9.70653516e+04, 1.30183141e+05, 6.13239180e+04,\n",
       "        9.19545703e+04, 2.65861781e+05, 2.79844906e+05, 3.44144344e+05,\n",
       "        4.12405844e+05, 2.59079172e+05, 6.36705703e+04, 5.58268125e+04,\n",
       "        4.97555742e+04, 2.81467402e+04, 5.70579766e+04, 1.07891641e+05,\n",
       "        1.42280750e+05, 1.84191547e+05, 1.83378047e+05, 1.24594242e+05,\n",
       "        5.26798672e+04, 2.95066875e+04, 1.31867469e+05, 1.60307031e+05,\n",
       "        2.08608328e+05, 3.28860094e+05, 3.21193344e+05, 2.48128781e+05,\n",
       "        9.46469297e+04, 4.10547578e+04, 4.46079570e+04, 2.00106406e+05,\n",
       "        1.11758859e+05, 2.83093406e+05, 6.78906000e+05, 8.80177062e+05,\n",
       "        1.30012825e+06, 1.44517800e+06, 1.23002200e+06, 1.19703875e+06,\n",
       "        7.29522109e+04, 8.12835781e+04, 6.90900703e+04, 7.98215156e+04,\n",
       "        1.15263539e+05, 3.15649062e+04, 9.94188203e+04, 5.57566328e+04,\n",
       "        5.82836125e+05, 8.89113062e+05, 7.02742375e+05, 8.51367688e+05,\n",
       "        1.28265088e+06, 1.34586988e+06, 1.25361875e+06, 1.81049734e+05,\n",
       "        2.69387531e+05, 2.51971078e+05, 1.75611031e+05, 3.13453344e+05,\n",
       "        7.53589938e+05, 1.19422788e+06, 9.18822812e+05, 1.33643162e+06,\n",
       "        2.01509200e+06, 3.21798975e+06, 1.86920175e+06, 6.36849688e+05,\n",
       "        2.73508531e+05, 3.69303844e+05, 8.30987625e+05, 1.67098962e+06,\n",
       "        2.59605725e+06, 1.71059425e+06, 1.75303012e+06, 1.77611138e+06,\n",
       "        9.80588875e+05, 2.13350675e+06, 1.59462038e+06, 8.26737312e+05,\n",
       "        7.32867656e+04, 2.57765906e+05, 3.60103000e+05, 1.27159475e+06,\n",
       "        1.25030600e+06, 8.30073875e+05, 5.26832938e+05, 7.92254312e+05,\n",
       "        4.11799281e+05, 1.19985312e+06, 4.20202000e+06, 6.96591050e+06,\n",
       "        9.06373700e+06, 1.13523760e+07, 1.15788400e+07, 1.15432630e+07,\n",
       "        3.94761225e+06, 5.27051688e+05, 2.67793250e+05, 1.27912900e+06,\n",
       "        2.08249100e+06, 2.68843925e+06, 3.87435375e+06, 6.75775500e+06,\n",
       "        1.07026830e+07, 9.64591200e+06, 7.52925550e+06, 1.06393300e+07,\n",
       "        9.84833300e+06, 1.44698290e+07, 1.31521690e+07, 2.41084340e+07,\n",
       "        3.67735560e+07, 2.86093280e+07, 2.23226920e+07, 2.53190260e+07,\n",
       "        1.56740500e+07, 9.18104000e+06, 1.07585380e+07, 2.34997080e+07,\n",
       "        3.17947820e+07, 2.41626340e+07, 3.34131375e+06, 1.20354775e+06,\n",
       "        1.80696325e+06, 1.31867730e+07, 1.11615780e+07, 1.22299940e+07,\n",
       "        1.49421580e+07, 2.11736780e+07, 2.69373740e+07, 1.72712280e+07,\n",
       "        2.21186078e+05, 2.82757325e+06, 2.26094800e+06, 1.55209375e+06,\n",
       "        2.88788950e+06, 5.45065250e+06, 1.60657620e+07, 1.10134860e+07,\n",
       "        5.63270250e+06, 5.70486850e+06, 9.67139300e+06, 2.85476700e+07,\n",
       "        3.36058520e+07, 3.13510780e+07, 3.42993520e+07, 4.38655240e+07,\n",
       "        3.70885320e+07, 5.57919000e+07, 9.81485000e+06, 1.30162800e+06,\n",
       "        3.44384350e+06, 2.86389325e+06, 8.82583900e+06, 1.01499810e+07,\n",
       "        1.30228050e+07, 1.27436880e+07, 1.63044050e+07, 1.16064390e+07,\n",
       "        1.08721550e+07, 5.09645680e+07, 6.63415680e+07, 1.20976776e+08,\n",
       "        8.73064560e+07, 2.79103720e+07, 1.02776050e+07, 7.45782250e+06,\n",
       "        2.60153200e+06, 1.02818290e+07, 1.65512270e+07, 7.27933600e+06,\n",
       "        7.70474350e+06, 8.42238500e+06, 2.59773960e+07, 3.15805320e+07,\n",
       "        4.22246840e+07, 4.46562200e+07, 4.07840600e+07, 1.97822820e+07,\n",
       "        3.47783550e+06, 3.68129750e+06, 3.62320800e+06, 9.07138700e+06,\n",
       "        2.42511900e+07, 9.95849400e+06, 7.19529700e+06, 1.88291960e+07,\n",
       "        2.83758540e+07, 4.08950000e+07, 3.60243800e+07, 2.72206540e+07,\n",
       "        1.09258510e+07, 5.48580000e+06, 8.77268100e+06, 1.78833880e+07,\n",
       "        1.57278860e+07, 4.62658800e+06, 7.89146750e+06, 1.89087800e+06,\n",
       "        1.05363238e+06, 2.54897025e+06, 2.58783675e+06, 3.42575275e+06,\n",
       "        2.09690975e+06, 2.00954888e+06, 4.07599800e+06, 3.77483925e+06,\n",
       "        9.99819700e+06, 1.08005920e+07, 8.71071500e+06, 4.83863450e+06,\n",
       "        7.32338100e+06, 1.05318810e+07, 2.69490080e+07, 4.66146640e+07,\n",
       "        7.97064240e+07, 8.17077920e+07, 7.94149520e+07, 5.24444520e+07,\n",
       "        3.25131240e+07, 2.65951640e+07, 1.40457210e+07, 8.92044700e+06,\n",
       "        1.10449920e+07, 1.68632040e+07, 3.46881960e+07, 1.04610930e+07,\n",
       "        3.64056450e+06, 3.75585725e+06, 6.18559900e+06, 2.49732375e+06,\n",
       "        6.04584050e+06, 2.75323950e+06, 6.26968800e+06, 6.59417900e+06,\n",
       "        5.43194650e+06, 1.13722370e+07, 3.27420660e+07, 5.06086000e+07,\n",
       "        9.31873040e+07, 1.01295656e+08], dtype=float32),\n",
       " 'rmse': array([  310.5342  ,   352.70688 ,   478.0855  ,   415.1685  ,\n",
       "          529.96313 ,   403.30945 ,   434.3988  ,   443.54788 ,\n",
       "          352.8979  ,   288.09274 ,   278.52972 ,   394.72568 ,\n",
       "          105.41456 ,   108.789986,   146.5211  ,   137.97096 ,\n",
       "          165.49222 ,   159.02774 ,   118.293304,   152.85735 ,\n",
       "          123.9931  ,   204.26723 ,   231.16039 ,   326.9733  ,\n",
       "          263.87674 ,   303.84344 ,   436.40967 ,   612.6857  ,\n",
       "          518.16473 ,   484.5747  ,   494.70547 ,   399.7532  ,\n",
       "          257.32523 ,   376.31494 ,   460.55057 ,   454.73248 ,\n",
       "          505.1906  ,   466.35242 ,   472.6701  ,   107.08849 ,\n",
       "          292.62155 ,   386.10626 ,   526.05457 ,   612.11646 ,\n",
       "          526.9134  ,   426.96326 ,   423.30563 ,   384.4451  ,\n",
       "          477.04187 ,   568.6058  ,   748.24316 ,   754.85986 ,\n",
       "          487.86563 ,   263.25146 ,   165.43896 ,   309.18152 ,\n",
       "          313.6216  ,   250.43433 ,   325.6696  ,   404.50977 ,\n",
       "          572.2817  ,   489.46915 ,   375.2009  ,   296.1986  ,\n",
       "          207.49901 ,   337.528   ,   327.88843 ,   429.89667 ,\n",
       "          698.91174 ,   741.1192  ,   846.4366  ,   548.349   ,\n",
       "          492.64102 ,   206.28326 ,   537.94495 ,   503.2985  ,\n",
       "          569.32825 ,   667.0487  ,   885.61005 ,  1197.5078  ,\n",
       "         1007.2162  ,   978.71216 ,   351.45663 ,   291.60788 ,\n",
       "          238.79715 ,   241.77046 ,   398.71768 ,   474.239   ,\n",
       "          617.8753  ,   665.94574 ,  1620.7543  ,  2129.907   ,\n",
       "         2595.8604  ,  2343.7993  ,  2482.5173  ,  2467.2405  ,\n",
       "         2711.8218  ,  1233.6233  ,   724.908   ,   617.61584 ,\n",
       "          499.19968 ,   857.8348  ,   850.3109  ,   700.0383  ,\n",
       "          388.6031  ,   360.729   ,   308.11896 ,   414.7832  ,\n",
       "          365.06    ,   535.85284 ,   355.89166 ,   536.73987 ,\n",
       "          408.89362 ,   478.67694 ,   818.8766  ,   678.27673 ,\n",
       "          601.3841  ,   559.49255 ,   353.6881  ,   286.88025 ,\n",
       "          297.83252 ,   262.5397  ,   587.4036  ,   303.58682 ,\n",
       "          596.4131  ,   603.47327 ,   377.74927 ,   185.73987 ,\n",
       "          240.24045 ,   138.61852 ,   261.28702 ,   269.39108 ,\n",
       "          226.70187 ,   210.83554 ,   281.22995 ,   324.9593  ,\n",
       "          437.5417  ,   590.1437  ,   756.3794  ,   723.7333  ,\n",
       "          821.44714 ,   910.89716 ,   993.402   ,   935.8112  ,\n",
       "          948.5235  ,   346.4854  ,   402.51834 ,   474.14642 ,\n",
       "          477.55917 ,   440.0404  ,   526.8315  ,   508.61618 ,\n",
       "          618.5317  ,   804.9072  ,  1102.3633  ,   995.45557 ,\n",
       "          438.26093 ,   516.22565 ,   621.0312  ,   346.02823 ,\n",
       "          210.13356 ,   243.27298 ,   279.56082 ,   534.9706  ,\n",
       "          713.70514 ,   802.36285 ,   640.21967 ,   361.80005 ,\n",
       "          367.81876 ,   343.30768 ,   277.9713  ,   588.6281  ,\n",
       "          811.7864  ,   663.5869  ,   468.39243 ,   232.1339  ,\n",
       "          363.11407 ,   187.52449 ,   545.7635  ,   244.33597 ,\n",
       "          237.34615 ,   333.47095 ,   301.77835 ,   336.92017 ,\n",
       "          272.19864 ,   572.2058  ,   531.27356 ,   756.66656 ,\n",
       "          219.01227 ,   309.76523 ,   229.23676 ,   317.12164 ,\n",
       "          258.54822 ,   264.89218 ,   243.55852 ,   229.84276 ,\n",
       "          249.84895 ,   210.39383 ,   318.33667 ,   446.61612 ,\n",
       "          633.28156 ,   429.4715  ,   367.3353  ,   231.07047 ,\n",
       "          186.33139 ,   135.30962 ,   176.74501 ,   213.18523 ,\n",
       "          223.66023 ,   219.30905 ,   136.07097 ,   170.84753 ,\n",
       "           70.931816,   210.54518 ,   120.65338 ,   348.90808 ,\n",
       "          262.27454 ,   273.80258 ,   159.88223 ,   258.3612  ,\n",
       "          246.4387  ,   219.67917 ,   236.71448 ,   195.01837 ,\n",
       "          182.6673  ,   214.2576  ,   316.57477 ,   790.3734  ,\n",
       "          878.9397  ,   999.02893 ,  1041.5488  ,  1173.5071  ,\n",
       "         1337.8464  ,  1230.5372  ,   388.31195 ,   228.83846 ,\n",
       "          276.75195 ,   348.68958 ,   335.82004 ,   594.9242  ,\n",
       "          181.03458 ,   242.22806 ,   326.15942 ,   326.20404 ,\n",
       "          395.33536 ,   453.21567 ,   412.61734 ,   374.08054 ,\n",
       "          408.10248 ,   394.74237 ,   262.5688  ,   235.27893 ,\n",
       "          302.41382 ,   294.84116 ,   302.50003 ,   643.1192  ,\n",
       "          746.02325 ,   525.107   ,   446.86957 ,   359.22452 ,\n",
       "          482.62222 ,   431.47797 ,   426.62372 ,   255.36302 ,\n",
       "          254.15056 ,   363.07584 ,   584.5331  ,   812.12866 ,\n",
       "         1106.4415  ,  1293.1992  ,  1638.1221  ,  1516.9296  ,\n",
       "          926.11945 ,   647.22345 ,   244.91185 ,   150.3091  ,\n",
       "          230.12816 ,   324.63913 ,   344.3049  ,   355.8145  ,\n",
       "          273.13144 ,   311.55313 ,   360.809   ,   247.63666 ,\n",
       "          303.2401  ,   515.61786 ,   529.00366 ,   586.6382  ,\n",
       "          642.1883  ,   508.9982  ,   252.33028 ,   236.27698 ,\n",
       "          223.05957 ,   167.7699  ,   238.86812 ,   328.46863 ,\n",
       "          377.2012  ,   429.1754  ,   428.22662 ,   352.9791  ,\n",
       "          229.52095 ,   171.7751  ,   363.1356  ,   400.3836  ,\n",
       "          456.7366  ,   573.46326 ,   566.7392  ,   498.12524 ,\n",
       "          307.6474  ,   202.61974 ,   211.20596 ,   447.33255 ,\n",
       "          334.30353 ,   532.0652  ,   823.9575  ,   938.1775  ,\n",
       "         1140.2317  ,  1202.1555  ,  1109.0635  ,  1094.0927  ,\n",
       "          270.09665 ,   285.10275 ,   262.84988 ,   282.527   ,\n",
       "          339.50485 ,   177.66515 ,   315.3075  ,   236.12843 ,\n",
       "          763.437   ,   942.9279  ,   838.2973  ,   922.69586 ,\n",
       "         1132.5417  ,  1160.1163  ,  1119.6511  ,   425.4994  ,\n",
       "          519.0256  ,   501.9672  ,   419.0597  ,   559.869   ,\n",
       "          868.0956  ,  1092.8074  ,   958.5524  ,  1156.0414  ,\n",
       "         1419.5393  ,  1793.8756  ,  1367.1875  ,   798.0286  ,\n",
       "          522.9804  ,   607.70374 ,   911.5852  ,  1292.6677  ,\n",
       "         1611.2285  ,  1307.8969  ,  1324.0204  ,  1332.7083  ,\n",
       "          990.2469  ,  1460.6528  ,  1262.7827  ,   909.251   ,\n",
       "          270.71527 ,   507.7065  ,   600.0858  ,  1127.6501  ,\n",
       "         1118.1708  ,   911.0839  ,   725.8326  ,   890.0867  ,\n",
       "          641.7159  ,  1095.378   ,  2049.8828  ,  2639.301   ,\n",
       "         3010.604   ,  3369.3286  ,  3402.7693  ,  3397.5378  ,\n",
       "         1986.8599  ,   725.9832  ,   517.4874  ,  1130.9858  ,\n",
       "         1443.0839  ,  1639.646   ,  1968.3378  ,  2599.568   ,\n",
       "         3271.4956  ,  3105.7869  ,  2743.949   ,  3261.7986  ,\n",
       "         3138.2053  ,  3803.9229  ,  3626.5918  ,  4910.034   ,\n",
       "         6064.12    ,  5348.7686  ,  4724.6895  ,  5031.8013  ,\n",
       "         3959.0466  ,  3030.023   ,  3280.021   ,  4847.65    ,\n",
       "         5638.686   ,  4915.5503  ,  1827.926   ,  1097.0632  ,\n",
       "         1344.2333  ,  3631.3596  ,  3340.8948  ,  3497.1406  ,\n",
       "         3865.5088  ,  4601.4863  ,  5190.1226  ,  4155.8667  ,\n",
       "          470.30423 ,  1681.539   ,  1503.6449  ,  1245.8306  ,\n",
       "         1699.3792  ,  2334.663   ,  4008.212   ,  3318.6572  ,\n",
       "         2373.3315  ,  2388.4866  ,  3109.8865  ,  5343.002   ,\n",
       "         5797.055   ,  5599.203   ,  5856.565   ,  6623.1055  ,\n",
       "         6090.0356  ,  7469.3975  ,  3132.8662  ,  1140.8892  ,\n",
       "         1855.7595  ,  1692.3041  ,  2970.8313  ,  3185.9033  ,\n",
       "         3608.7124  ,  3569.83    ,  4037.8713  ,  3406.8223  ,\n",
       "         3297.2952  ,  7138.9473  ,  8145.033   , 10998.944   ,\n",
       "         9343.792   ,  5283.027   ,  3205.8704  ,  2730.9014  ,\n",
       "         1612.9265  ,  3206.529   ,  4068.3198  ,  2698.0244  ,\n",
       "         2775.742   ,  2902.1345  ,  5096.8022  ,  5619.656   ,\n",
       "         6498.0522  ,  6682.531   ,  6386.2397  ,  4447.7275  ,\n",
       "         1864.8955  ,  1918.6707  ,  1903.4725  ,  3011.8743  ,\n",
       "         4924.55    ,  3155.7083  ,  2682.405   ,  4339.262   ,\n",
       "         5326.899   ,  6394.92    ,  6002.0312  ,  5217.342   ,\n",
       "         3305.4275  ,  2342.1785  ,  2961.8713  ,  4228.8755  ,\n",
       "         3965.8398  ,  2150.9504  ,  2809.1755  ,  1375.0919  ,\n",
       "         1026.466   ,  1596.5494  ,  1608.6755  ,  1850.8789  ,\n",
       "         1448.071   ,  1417.5856  ,  2018.91    ,  1942.8945  ,\n",
       "         3161.9924  ,  3286.4253  ,  2951.392   ,  2199.6897  ,\n",
       "         2706.1746  ,  3245.286   ,  5191.2437  ,  6827.493   ,\n",
       "         8927.846   ,  9039.236   ,  8911.507   ,  7241.854   ,\n",
       "         5702.028   ,  5157.05    ,  3747.762   ,  2986.7117  ,\n",
       "         3323.4006  ,  4106.483   ,  5889.6685  ,  3234.3613  ,\n",
       "         1908.0264  ,  1938.0034  ,  2487.0864  ,  1580.2922  ,\n",
       "         2458.829   ,  1659.2888  ,  2503.9346  ,  2567.9133  ,\n",
       "         2330.6536  ,  3372.275   ,  5722.0684  ,  7113.972   ,\n",
       "         9653.357   , 10064.574   ], dtype=float32),\n",
       " 'mape': array([ 3.927565 ,  4.52474  ,  6.5477543,  5.2822795,  6.6543555,\n",
       "         4.470992 ,  5.1072083,  5.316088 ,  3.7395358,  3.1963327,\n",
       "         3.2590454,  5.3693924,  1.231076 ,  1.2571925,  1.2800218,\n",
       "         1.7282331,  1.9186115,  1.9092053,  1.3827058,  1.9401563,\n",
       "         1.4066119,  2.5869536,  2.4727316,  4.1793566,  2.8601246,\n",
       "         3.5910547,  4.272399 ,  6.4666214,  5.7196636,  5.4463606,\n",
       "         5.823624 ,  4.524283 ,  1.579642 ,  3.5222363,  3.842738 ,\n",
       "         4.660163 ,  4.9090214,  5.090653 ,  5.0371895,  1.058812 ,\n",
       "         2.9568093,  3.791558 ,  5.805732 ,  6.9074726,  5.8723907,\n",
       "         4.281531 ,  4.2854567,  3.8689792,  4.607508 ,  4.8914647,\n",
       "         7.3307714,  7.623813 ,  5.1176767,  2.2642586,  1.5790175,\n",
       "         2.8897614,  2.5910912,  2.1629074,  2.8510494,  3.4328613,\n",
       "         5.2197294,  3.9359171,  2.8912182,  2.6371765,  1.7253879,\n",
       "         2.811403 ,  2.5537798,  3.3529944,  6.0660796,  6.912447 ,\n",
       "         8.354879 ,  5.416297 ,  4.6412406,  1.8864006,  5.370364 ,\n",
       "         4.2621946,  4.6652236,  6.2432237,  8.60511  , 12.709705 ,\n",
       "        11.177207 , 10.934644 ,  3.4782212,  2.702018 ,  2.3201513,\n",
       "         2.4229932,  3.994341 ,  4.130539 ,  6.1206827,  6.8388715,\n",
       "        17.331799 , 27.184864 , 37.04137  , 35.245342 , 39.787647 ,\n",
       "        42.392628 , 50.146572 , 21.793676 , 11.8459215,  8.894781 ,\n",
       "         7.803196 , 12.016566 , 12.022361 ,  9.748916 ,  5.5702615,\n",
       "         4.1210594,  4.1609635,  5.0622625,  4.630318 ,  7.201739 ,\n",
       "         4.2532015,  6.8185596,  5.3229275,  6.1747746, 11.101997 ,\n",
       "         8.49411  ,  8.068771 ,  6.209714 ,  4.1267414,  3.0869186,\n",
       "         3.9723217,  2.9159455,  6.9072223,  3.4838185,  8.25736  ,\n",
       "         8.002431 ,  4.8237214,  2.2344162,  2.6686752,  1.7659777,\n",
       "         2.9664855,  3.2525096,  2.609266 ,  2.4686394,  3.212742 ,\n",
       "         4.0053134,  5.473918 ,  7.043039 ,  7.888087 ,  5.1648655,\n",
       "         7.438905 ,  8.652096 ,  9.680412 , 10.031991 , 10.653849 ,\n",
       "         2.9982827,  2.6806571,  3.8714092,  4.1820993,  4.022325 ,\n",
       "         5.2144756,  5.1578197,  5.750445 ,  7.183607 , 11.174517 ,\n",
       "        10.055781 ,  3.4166071,  5.19016  ,  6.097717 ,  3.2326095,\n",
       "         1.8205708,  2.1042933,  2.6224532,  4.978644 ,  7.0544877,\n",
       "         8.49974  ,  6.920279 ,  3.2590275,  3.5023875,  3.3480704,\n",
       "         2.8875759,  4.833677 ,  7.023206 ,  6.275805 ,  3.4726925,\n",
       "         1.7781761,  3.2666814,  1.3313612,  5.502666 ,  2.4194074,\n",
       "         1.7863277,  3.081018 ,  2.4640267,  2.961046 ,  2.3138409,\n",
       "         5.5202723,  5.2307734,  7.834542 ,  1.7533889,  2.81515  ,\n",
       "         2.21601  ,  3.0171356,  2.4180996,  2.456527 ,  2.217972 ,\n",
       "         1.9631293,  2.2334504,  1.5045164,  3.1664476,  4.3857856,\n",
       "         6.5117416,  4.412668 ,  3.60712  ,  2.2399638,  1.8852469,\n",
       "         1.3219024,  1.7249203,  1.5988575,  2.0882664,  2.0351882,\n",
       "         1.3187   ,  1.5164012,  0.5102167,  2.0400937,  1.0058752,\n",
       "         3.5881498,  2.691357 ,  2.7433782,  1.5757293,  2.6372273,\n",
       "         2.362304 ,  2.1396258,  2.0948658,  1.853485 ,  1.692005 ,\n",
       "         1.9071301,  2.815077 ,  5.3896775,  5.6277685,  6.5096817,\n",
       "         7.6136193,  9.372616 , 10.76079  , 10.695938 ,  2.6271033,\n",
       "         1.5656793,  2.0671277,  2.8596303,  2.3930323,  4.8445888,\n",
       "         1.4379017,  1.7976493,  2.221499 ,  2.336326 ,  2.9463184,\n",
       "         3.4598713,  2.775493 ,  2.639558 ,  3.1004202,  2.219422 ,\n",
       "         1.7053505,  1.5852269,  2.1140785,  2.0373285,  2.4149406,\n",
       "         5.256537 ,  6.1625953,  4.331187 ,  3.2087672,  2.8123724,\n",
       "         3.6325998,  3.3178594,  3.3335555,  1.967502 ,  1.8725935,\n",
       "         2.1369317,  4.286968 ,  5.593601 ,  8.980075 , 10.710357 ,\n",
       "        15.164502 , 14.524916 ,  8.91541  ,  6.0104656,  1.8626722,\n",
       "         1.1255221,  1.8128585,  2.615327 ,  2.64173  ,  2.8687537,\n",
       "         2.0676293,  2.6563005,  2.6777477,  1.970863 ,  2.4037716,\n",
       "         4.2892036,  4.5363255,  4.735905 ,  5.750563 ,  4.3220196,\n",
       "         1.977604 ,  1.8461168,  1.802592 ,  1.3762362,  1.8642095,\n",
       "         2.984984 ,  3.19726  ,  3.7022214,  3.852231 ,  3.1491585,\n",
       "         1.7623467,  1.4316472,  2.735122 ,  2.6270747,  3.3347197,\n",
       "         4.4138546,  4.385156 ,  3.9396431,  2.5201428,  1.3275701,\n",
       "         1.6822321,  3.672919 ,  2.5809126,  3.1444051,  4.7266593,\n",
       "         5.4433866,  7.3864975,  8.347564 ,  7.8535123,  8.028962 ,\n",
       "         1.6968979,  1.7915515,  1.5229038,  1.761998 ,  2.0193818,\n",
       "         1.1136066,  1.9829627,  1.3940719,  3.3434696,  4.1612463,\n",
       "         4.3857436,  5.020006 ,  6.5859065,  6.7806935,  6.799806 ,\n",
       "         2.0469463,  2.8904629,  2.4681687,  2.311428 ,  3.1107345,\n",
       "         3.6469142,  4.5740995,  4.300067 ,  5.802812 ,  7.1246037,\n",
       "         9.030618 ,  7.201461 ,  3.7868981,  2.3603938,  2.5794923,\n",
       "         3.8797696,  5.976736 ,  7.818609 ,  5.8448653,  6.3062825,\n",
       "         5.77564  ,  4.8998475,  6.7132154,  6.026101 ,  4.3395066,\n",
       "         1.2920249,  2.269685 ,  2.5431435,  5.464972 ,  5.3567286,\n",
       "         4.415354 ,  3.232668 ,  3.8205652,  2.9684005,  3.7237048,\n",
       "         6.9261684,  9.460563 , 10.392385 , 12.411095 , 13.492948 ,\n",
       "        14.240554 ,  8.440045 ,  2.1394436,  1.8325497,  4.009905 ,\n",
       "         5.026402 ,  5.4990897,  6.3198247,  8.142786 , 10.499437 ,\n",
       "        10.143269 ,  6.7002783,  8.035081 ,  8.536229 , 10.095473 ,\n",
       "         8.5339985, 10.987515 , 13.412163 , 10.970868 , 10.9018545,\n",
       "        11.349026 ,  8.103391 ,  7.332852 ,  7.553581 , 11.951912 ,\n",
       "        14.83518  , 13.086931 ,  3.9384623,  2.2475953,  3.0284107,\n",
       "         9.401708 ,  8.5680685,  8.978687 , 10.192507 , 12.86141  ,\n",
       "        15.462194 , 12.650355 ,  1.1930702,  4.481826 ,  3.5124664,\n",
       "         2.9979641,  4.6238065,  6.4635487, 10.512152 ,  7.9472804,\n",
       "         4.922265 ,  5.1915116,  7.565017 , 11.654377 , 10.93038  ,\n",
       "         9.752956 , 10.558067 , 12.592372 , 12.8257885, 15.583198 ,\n",
       "         6.3119044,  2.218346 ,  2.9145749,  2.6319573,  4.5254626,\n",
       "         4.310951 ,  5.1520996,  5.4280767,  6.423823 ,  5.6989403,\n",
       "         5.8782883, 12.313943 , 15.06135  , 22.450443 , 19.654247 ,\n",
       "        10.636614 ,  5.690913 ,  4.99897  ,  2.7991164,  5.9713635,\n",
       "         7.998228 ,  4.3246074,  4.4219365,  4.1450987,  6.740354 ,\n",
       "         8.823802 ,  9.671356 , 10.414703 , 10.1032095,  6.8975434,\n",
       "         2.5322242,  2.9756007,  2.6509886,  4.5532637,  8.455777 ,\n",
       "         4.062835 ,  3.6248944,  6.0618753,  8.45381  , 10.666806 ,\n",
       "        10.211095 ,  9.393678 ,  4.889593 ,  3.921591 ,  4.2992454,\n",
       "         6.5961695,  6.3020425,  3.4347165,  4.4515824,  2.0790505,\n",
       "         1.3936259,  2.3871055,  2.5393775,  2.7317877,  1.9522617,\n",
       "         1.7706262,  3.0606914,  2.556039 ,  4.266486 ,  4.2816277,\n",
       "         4.0470753,  2.8381803,  3.6002755,  4.2238746,  7.397152 ,\n",
       "        10.244579 , 14.796455 , 15.863117 , 16.161718 , 12.993017 ,\n",
       "        10.069885 ,  9.041351 ,  5.8581624,  4.436433 ,  5.715388 ,\n",
       "         7.150728 , 10.037677 ,  5.220414 ,  2.7610373,  3.032707 ,\n",
       "         3.7209797,  1.6289505,  3.587348 ,  2.5434206,  3.5572197,\n",
       "         3.9689248,  3.3008378,  4.3387866,  9.050671 , 11.991417 ,\n",
       "        17.599464 , 19.091633 ], dtype=float32),\n",
       " 'mase': 2.196195}"
      ]
     },
     "execution_count": 64,
     "metadata": {},
     "output_type": "execute_result"
    }
   ],
   "source": [
    "# Evaluate model_3 results\n",
    "model_3_results = evaluate_preds(y_true=tf.squeeze(test_labels),\n",
    "                                 y_pred=model_3_preds)\n",
    "model_3_results"
   ]
  },
  {
   "cell_type": "markdown",
   "id": "eb20aaac",
   "metadata": {},
   "source": [
    "## Make our evaluation function work for larger horizons"
   ]
  },
  {
   "cell_type": "code",
   "execution_count": 65,
   "id": "c1d76057",
   "metadata": {},
   "outputs": [],
   "source": [
    "# Create a function to take in model predictions and truth values and return evaluation metrics\n",
    "def evaluate_preds(y_true, y_pred):\n",
    "    # Make sure float32 datatype (for metric calculation)\n",
    "    y_true = tf.cast(y_true, dtype=tf.float32)\n",
    "    y_pred = tf.cast(y_pred, dtype=tf.float32)\n",
    "\n",
    "    # Calculate various evaluation metrics\n",
    "    mae = tf.keras.metrics.mean_absolute_error(y_true, y_pred)\n",
    "    mse = tf.keras.metrics.mean_squared_error(y_true, y_pred)\n",
    "    rmse = tf.sqrt(mse)\n",
    "    mape = tf.keras.metrics.mean_absolute_percentage_error(y_true, y_pred)\n",
    "    mase = mean_absolute_scaled_error(y_true, y_pred)\n",
    "\n",
    "    # Account for different sized metrics (for longer horizons, we want to reduce metrics to a single value)\n",
    "    if mae.ndim > 0:\n",
    "        mae = tf.reduce_mean(mae)\n",
    "        mse = tf.reduce_mean(mse)\n",
    "        rmse = tf.reduce_mean(rmse)\n",
    "        mape = tf.reduce_mean(mape)\n",
    "        mase = tf.reduce_mean(mase)\n",
    "\n",
    "    return {\n",
    "        \"mae\": mae.numpy(),\n",
    "        \"mse\": mse.numpy(),\n",
    "        \"rmse\": rmse.numpy(),\n",
    "        \"mape\": mape.numpy(),\n",
    "        \"mase\": mase.numpy()\n",
    "    }"
   ]
  },
  {
   "cell_type": "code",
   "execution_count": 66,
   "id": "379adf2b",
   "metadata": {},
   "outputs": [
    {
     "data": {
      "text/plain": [
       "{'mae': 1284.4801,\n",
       " 'mse': 5688772.0,\n",
       " 'rmse': 1478.8513,\n",
       " 'mape': 5.6365485,\n",
       " 'mase': 2.196195}"
      ]
     },
     "execution_count": 66,
     "metadata": {},
     "output_type": "execute_result"
    }
   ],
   "source": [
    "# Get model_3 results aggregated to single values\n",
    "model_3_results = evaluate_preds(y_true=tf.squeeze(test_labels),\n",
    "                                 y_pred=model_3_preds)\n",
    "model_3_results"
   ]
  },
  {
   "cell_type": "markdown",
   "id": "919753cb",
   "metadata": {},
   "source": [
    "We have made and evaluated predictions with `model_3`, let's visualize visualize visualize!"
   ]
  },
  {
   "cell_type": "code",
   "execution_count": 67,
   "id": "58191ef7",
   "metadata": {},
   "outputs": [
    {
     "data": {
      "image/png": "[encoded data removed]",
      "text/plain": [
       "<Figure size 1000x700 with 1 Axes>"
      ]
     },
     "metadata": {},
     "output_type": "display_data"
    }
   ],
   "source": [
    "offset = 300\n",
    "plt.figure(figsize=(10, 7))\n",
    "plot_time_series(timesteps=X_test[-len(test_windows):], values=test_labels[:, 0], start=offset, label='Test Data')\n",
    "plot_time_series(timesteps=X_test[-len(test_windows):], values=tf.reduce_mean(model_3_preds, axis=1), format='-', start=offset, label='model_3_pred')"
   ]
  },
  {
   "cell_type": "markdown",
   "id": "f7318035",
   "metadata": {},
   "source": [
    "## Which of our models is performing the best so far?\n",
    "\n",
    "So we have trained a few models, now let's compare them and see how they have gone..."
   ]
  },
  {
   "cell_type": "code",
   "execution_count": 68,
   "id": "ef3b7b5b",
   "metadata": {},
   "outputs": [
    {
     "data": {
      "text/plain": [
       "<Axes: >"
      ]
     },
     "execution_count": 68,
     "metadata": {},
     "output_type": "execute_result"
    },
    {
     "data": {
      "image/png": "[encoded data removed]",
      "text/plain": [
       "<Figure size 1000x700 with 1 Axes>"
      ]
     },
     "metadata": {},
     "output_type": "display_data"
    }
   ],
   "source": [
    "pd.DataFrame({'naive': naive_results['mae'],\n",
    "              'horizon_1_window_7': model_1_results['mae'],\n",
    "              'horizon_1_window_30': model_2_results['mae'],\n",
    "              'horizon_7_window_30': model_3_results['mae']}, index=['mae']).plot(figsize=(10, 7), kind='bar')"
   ]
  },
  {
   "cell_type": "markdown",
   "id": "485fb523",
   "metadata": {},
   "source": [
    "## Model 4: Conv1D"
   ]
  },
  {
   "cell_type": "code",
   "execution_count": 69,
   "id": "5a19444d",
   "metadata": {},
   "outputs": [],
   "source": [
    "HORIZON = 1 # predict next day of Bitcoin prices\n",
    "WINDOW_SIZE = 7 # use previous week worth data"
   ]
  },
  {
   "cell_type": "code",
   "execution_count": 70,
   "id": "38fa46f3",
   "metadata": {},
   "outputs": [
    {
     "data": {
      "text/plain": [
       "(2780, 2780)"
      ]
     },
     "execution_count": 70,
     "metadata": {},
     "output_type": "execute_result"
    }
   ],
   "source": [
    "# Create windowed data\n",
    "full_windows, full_labels = make_windows(prices, window_size=WINDOW_SIZE, horizon=HORIZON)\n",
    "len(full_windows), len(full_labels)"
   ]
  },
  {
   "cell_type": "code",
   "execution_count": 71,
   "id": "5b7987b0",
   "metadata": {},
   "outputs": [
    {
     "data": {
      "text/plain": [
       "(2229, 2229, 551, 551)"
      ]
     },
     "execution_count": 71,
     "metadata": {},
     "output_type": "execute_result"
    }
   ],
   "source": [
    "# Create train/test sets\n",
    "train_windows, test_windows, train_labels, test_labels = make_train_test_splits(full_windows, full_labels)\n",
    "len(train_windows), len(train_labels), len(test_windows), len(test_labels)"
   ]
  },
  {
   "cell_type": "markdown",
   "id": "9bae52ae",
   "metadata": {},
   "source": [
    "To use the Conv1D layer, we need an input shape of: `(batch_size, timesteps, input_dim)`... However, our data isn't in that shape yet."
   ]
  },
  {
   "cell_type": "code",
   "execution_count": 72,
   "id": "bd72e3eb",
   "metadata": {},
   "outputs": [
    {
     "data": {
      "text/plain": [
       "(7,)"
      ]
     },
     "execution_count": 72,
     "metadata": {},
     "output_type": "execute_result"
    }
   ],
   "source": [
    "# Check data input shape\n",
    "train_windows[0].shape # returns (WINDOW_SIZE, )"
   ]
  },
  {
   "cell_type": "code",
   "execution_count": 73,
   "id": "70cb4513",
   "metadata": {},
   "outputs": [
    {
     "data": {
      "text/plain": [
       "<tf.Tensor: shape=(7,), dtype=float64, numpy=\n",
       "array([123.65499, 125.455  , 108.58483, 118.67466, 121.33866, 120.65533,\n",
       "       121.795  ])>"
      ]
     },
     "execution_count": 73,
     "metadata": {},
     "output_type": "execute_result"
    }
   ],
   "source": [
    "# Before we pass our data to the Conv1D layer, we have to reshape it in order to make sure it works \n",
    "x = tf.constant(train_windows[0])\n",
    "x"
   ]
  },
  {
   "cell_type": "code",
   "execution_count": 74,
   "id": "ba3f47a1",
   "metadata": {},
   "outputs": [],
   "source": [
    "expand_dims_layer = layers.Lambda(lambda x: tf.expand_dims(x, axis=1)) # add an extra dimension to our layer"
   ]
  },
  {
   "cell_type": "code",
   "execution_count": 75,
   "id": "18649f7e",
   "metadata": {},
   "outputs": [
    {
     "name": "stdout",
     "output_type": "stream",
     "text": [
      "Original shape: (7,)\n",
      "Expanded shape: (7, 1)\n",
      "Original values with expanded shape:\n",
      " [[123.65499]\n",
      " [125.455  ]\n",
      " [108.58483]\n",
      " [118.67466]\n",
      " [121.33866]\n",
      " [120.65533]\n",
      " [121.795  ]]\n"
     ]
    }
   ],
   "source": [
    "# Test out our lambda layer\n",
    "print(f'Original shape: {x.shape}') # (WINDOW_SIZE)\n",
    "print(f'Expanded shape: {expand_dims_layer(x).shape}')\n",
    "print(f'Original values with expanded shape:\\n {expand_dims_layer(x)}')"
   ]
  },
  {
   "cell_type": "code",
   "execution_count": 76,
   "id": "5a803a7f",
   "metadata": {},
   "outputs": [
    {
     "name": "stderr",
     "output_type": "stream",
     "text": [
      "WARNING:absl:Found untraced functions such as _jit_compiled_convolution_op while saving (showing 1 of 1). These functions will not be directly callable after loading.\n"
     ]
    },
    {
     "name": "stdout",
     "output_type": "stream",
     "text": [
      "INFO:tensorflow:Assets written to: model_experiments\\model_4_conv1D\\assets\n"
     ]
    },
    {
     "name": "stderr",
     "output_type": "stream",
     "text": [
      "INFO:tensorflow:Assets written to: model_experiments\\model_4_conv1D\\assets\n",
      "WARNING:absl:Found untraced functions such as _jit_compiled_convolution_op while saving (showing 1 of 1). These functions will not be directly callable after loading.\n"
     ]
    },
    {
     "name": "stdout",
     "output_type": "stream",
     "text": [
      "INFO:tensorflow:Assets written to: model_experiments\\model_4_conv1D\\assets\n"
     ]
    },
    {
     "name": "stderr",
     "output_type": "stream",
     "text": [
      "INFO:tensorflow:Assets written to: model_experiments\\model_4_conv1D\\assets\n",
      "WARNING:absl:Found untraced functions such as _jit_compiled_convolution_op while saving (showing 1 of 1). These functions will not be directly callable after loading.\n"
     ]
    },
    {
     "name": "stdout",
     "output_type": "stream",
     "text": [
      "INFO:tensorflow:Assets written to: model_experiments\\model_4_conv1D\\assets\n"
     ]
    },
    {
     "name": "stderr",
     "output_type": "stream",
     "text": [
      "INFO:tensorflow:Assets written to: model_experiments\\model_4_conv1D\\assets\n",
      "WARNING:absl:Found untraced functions such as _jit_compiled_convolution_op while saving (showing 1 of 1). These functions will not be directly callable after loading.\n"
     ]
    },
    {
     "name": "stdout",
     "output_type": "stream",
     "text": [
      "INFO:tensorflow:Assets written to: model_experiments\\model_4_conv1D\\assets\n"
     ]
    },
    {
     "name": "stderr",
     "output_type": "stream",
     "text": [
      "INFO:tensorflow:Assets written to: model_experiments\\model_4_conv1D\\assets\n",
      "WARNING:absl:Found untraced functions such as _jit_compiled_convolution_op while saving (showing 1 of 1). These functions will not be directly callable after loading.\n"
     ]
    },
    {
     "name": "stdout",
     "output_type": "stream",
     "text": [
      "INFO:tensorflow:Assets written to: model_experiments\\model_4_conv1D\\assets\n"
     ]
    },
    {
     "name": "stderr",
     "output_type": "stream",
     "text": [
      "INFO:tensorflow:Assets written to: model_experiments\\model_4_conv1D\\assets\n",
      "WARNING:absl:Found untraced functions such as _jit_compiled_convolution_op while saving (showing 1 of 1). These functions will not be directly callable after loading.\n"
     ]
    },
    {
     "name": "stdout",
     "output_type": "stream",
     "text": [
      "INFO:tensorflow:Assets written to: model_experiments\\model_4_conv1D\\assets\n"
     ]
    },
    {
     "name": "stderr",
     "output_type": "stream",
     "text": [
      "INFO:tensorflow:Assets written to: model_experiments\\model_4_conv1D\\assets\n",
      "WARNING:absl:Found untraced functions such as _jit_compiled_convolution_op while saving (showing 1 of 1). These functions will not be directly callable after loading.\n"
     ]
    },
    {
     "name": "stdout",
     "output_type": "stream",
     "text": [
      "INFO:tensorflow:Assets written to: model_experiments\\model_4_conv1D\\assets\n"
     ]
    },
    {
     "name": "stderr",
     "output_type": "stream",
     "text": [
      "INFO:tensorflow:Assets written to: model_experiments\\model_4_conv1D\\assets\n",
      "WARNING:absl:Found untraced functions such as _jit_compiled_convolution_op while saving (showing 1 of 1). These functions will not be directly callable after loading.\n"
     ]
    },
    {
     "name": "stdout",
     "output_type": "stream",
     "text": [
      "INFO:tensorflow:Assets written to: model_experiments\\model_4_conv1D\\assets\n"
     ]
    },
    {
     "name": "stderr",
     "output_type": "stream",
     "text": [
      "INFO:tensorflow:Assets written to: model_experiments\\model_4_conv1D\\assets\n",
      "WARNING:absl:Found untraced functions such as _jit_compiled_convolution_op while saving (showing 1 of 1). These functions will not be directly callable after loading.\n"
     ]
    },
    {
     "name": "stdout",
     "output_type": "stream",
     "text": [
      "INFO:tensorflow:Assets written to: model_experiments\\model_4_conv1D\\assets\n"
     ]
    },
    {
     "name": "stderr",
     "output_type": "stream",
     "text": [
      "INFO:tensorflow:Assets written to: model_experiments\\model_4_conv1D\\assets\n",
      "WARNING:absl:Found untraced functions such as _jit_compiled_convolution_op while saving (showing 1 of 1). These functions will not be directly callable after loading.\n"
     ]
    },
    {
     "name": "stdout",
     "output_type": "stream",
     "text": [
      "INFO:tensorflow:Assets written to: model_experiments\\model_4_conv1D\\assets\n"
     ]
    },
    {
     "name": "stderr",
     "output_type": "stream",
     "text": [
      "INFO:tensorflow:Assets written to: model_experiments\\model_4_conv1D\\assets\n",
      "WARNING:absl:Found untraced functions such as _jit_compiled_convolution_op while saving (showing 1 of 1). These functions will not be directly callable after loading.\n"
     ]
    },
    {
     "name": "stdout",
     "output_type": "stream",
     "text": [
      "INFO:tensorflow:Assets written to: model_experiments\\model_4_conv1D\\assets\n"
     ]
    },
    {
     "name": "stderr",
     "output_type": "stream",
     "text": [
      "INFO:tensorflow:Assets written to: model_experiments\\model_4_conv1D\\assets\n",
      "WARNING:absl:Found untraced functions such as _jit_compiled_convolution_op while saving (showing 1 of 1). These functions will not be directly callable after loading.\n"
     ]
    },
    {
     "name": "stdout",
     "output_type": "stream",
     "text": [
      "INFO:tensorflow:Assets written to: model_experiments\\model_4_conv1D\\assets\n"
     ]
    },
    {
     "name": "stderr",
     "output_type": "stream",
     "text": [
      "INFO:tensorflow:Assets written to: model_experiments\\model_4_conv1D\\assets\n",
      "WARNING:absl:Found untraced functions such as _jit_compiled_convolution_op while saving (showing 1 of 1). These functions will not be directly callable after loading.\n"
     ]
    },
    {
     "name": "stdout",
     "output_type": "stream",
     "text": [
      "INFO:tensorflow:Assets written to: model_experiments\\model_4_conv1D\\assets\n"
     ]
    },
    {
     "name": "stderr",
     "output_type": "stream",
     "text": [
      "INFO:tensorflow:Assets written to: model_experiments\\model_4_conv1D\\assets\n",
      "WARNING:absl:Found untraced functions such as _jit_compiled_convolution_op while saving (showing 1 of 1). These functions will not be directly callable after loading.\n"
     ]
    },
    {
     "name": "stdout",
     "output_type": "stream",
     "text": [
      "INFO:tensorflow:Assets written to: model_experiments\\model_4_conv1D\\assets\n"
     ]
    },
    {
     "name": "stderr",
     "output_type": "stream",
     "text": [
      "INFO:tensorflow:Assets written to: model_experiments\\model_4_conv1D\\assets\n",
      "WARNING:absl:Found untraced functions such as _jit_compiled_convolution_op while saving (showing 1 of 1). These functions will not be directly callable after loading.\n"
     ]
    },
    {
     "name": "stdout",
     "output_type": "stream",
     "text": [
      "INFO:tensorflow:Assets written to: model_experiments\\model_4_conv1D\\assets\n"
     ]
    },
    {
     "name": "stderr",
     "output_type": "stream",
     "text": [
      "INFO:tensorflow:Assets written to: model_experiments\\model_4_conv1D\\assets\n",
      "WARNING:absl:Found untraced functions such as _jit_compiled_convolution_op while saving (showing 1 of 1). These functions will not be directly callable after loading.\n"
     ]
    },
    {
     "name": "stdout",
     "output_type": "stream",
     "text": [
      "INFO:tensorflow:Assets written to: model_experiments\\model_4_conv1D\\assets\n"
     ]
    },
    {
     "name": "stderr",
     "output_type": "stream",
     "text": [
      "INFO:tensorflow:Assets written to: model_experiments\\model_4_conv1D\\assets\n",
      "WARNING:absl:Found untraced functions such as _jit_compiled_convolution_op while saving (showing 1 of 1). These functions will not be directly callable after loading.\n"
     ]
    },
    {
     "name": "stdout",
     "output_type": "stream",
     "text": [
      "INFO:tensorflow:Assets written to: model_experiments\\model_4_conv1D\\assets\n"
     ]
    },
    {
     "name": "stderr",
     "output_type": "stream",
     "text": [
      "INFO:tensorflow:Assets written to: model_experiments\\model_4_conv1D\\assets\n",
      "WARNING:absl:Found untraced functions such as _jit_compiled_convolution_op while saving (showing 1 of 1). These functions will not be directly callable after loading.\n"
     ]
    },
    {
     "name": "stdout",
     "output_type": "stream",
     "text": [
      "INFO:tensorflow:Assets written to: model_experiments\\model_4_conv1D\\assets\n"
     ]
    },
    {
     "name": "stderr",
     "output_type": "stream",
     "text": [
      "INFO:tensorflow:Assets written to: model_experiments\\model_4_conv1D\\assets\n",
      "WARNING:absl:Found untraced functions such as _jit_compiled_convolution_op while saving (showing 1 of 1). These functions will not be directly callable after loading.\n"
     ]
    },
    {
     "name": "stdout",
     "output_type": "stream",
     "text": [
      "INFO:tensorflow:Assets written to: model_experiments\\model_4_conv1D\\assets\n"
     ]
    },
    {
     "name": "stderr",
     "output_type": "stream",
     "text": [
      "INFO:tensorflow:Assets written to: model_experiments\\model_4_conv1D\\assets\n",
      "WARNING:absl:Found untraced functions such as _jit_compiled_convolution_op while saving (showing 1 of 1). These functions will not be directly callable after loading.\n"
     ]
    },
    {
     "name": "stdout",
     "output_type": "stream",
     "text": [
      "INFO:tensorflow:Assets written to: model_experiments\\model_4_conv1D\\assets\n"
     ]
    },
    {
     "name": "stderr",
     "output_type": "stream",
     "text": [
      "INFO:tensorflow:Assets written to: model_experiments\\model_4_conv1D\\assets\n",
      "WARNING:absl:Found untraced functions such as _jit_compiled_convolution_op while saving (showing 1 of 1). These functions will not be directly callable after loading.\n"
     ]
    },
    {
     "name": "stdout",
     "output_type": "stream",
     "text": [
      "INFO:tensorflow:Assets written to: model_experiments\\model_4_conv1D\\assets\n"
     ]
    },
    {
     "name": "stderr",
     "output_type": "stream",
     "text": [
      "INFO:tensorflow:Assets written to: model_experiments\\model_4_conv1D\\assets\n",
      "WARNING:absl:Found untraced functions such as _jit_compiled_convolution_op while saving (showing 1 of 1). These functions will not be directly callable after loading.\n"
     ]
    },
    {
     "name": "stdout",
     "output_type": "stream",
     "text": [
      "INFO:tensorflow:Assets written to: model_experiments\\model_4_conv1D\\assets\n"
     ]
    },
    {
     "name": "stderr",
     "output_type": "stream",
     "text": [
      "INFO:tensorflow:Assets written to: model_experiments\\model_4_conv1D\\assets\n",
      "WARNING:absl:Found untraced functions such as _jit_compiled_convolution_op while saving (showing 1 of 1). These functions will not be directly callable after loading.\n"
     ]
    },
    {
     "name": "stdout",
     "output_type": "stream",
     "text": [
      "INFO:tensorflow:Assets written to: model_experiments\\model_4_conv1D\\assets\n"
     ]
    },
    {
     "name": "stderr",
     "output_type": "stream",
     "text": [
      "INFO:tensorflow:Assets written to: model_experiments\\model_4_conv1D\\assets\n",
      "WARNING:absl:Found untraced functions such as _jit_compiled_convolution_op while saving (showing 1 of 1). These functions will not be directly callable after loading.\n"
     ]
    },
    {
     "name": "stdout",
     "output_type": "stream",
     "text": [
      "INFO:tensorflow:Assets written to: model_experiments\\model_4_conv1D\\assets\n"
     ]
    },
    {
     "name": "stderr",
     "output_type": "stream",
     "text": [
      "INFO:tensorflow:Assets written to: model_experiments\\model_4_conv1D\\assets\n",
      "WARNING:absl:Found untraced functions such as _jit_compiled_convolution_op while saving (showing 1 of 1). These functions will not be directly callable after loading.\n"
     ]
    },
    {
     "name": "stdout",
     "output_type": "stream",
     "text": [
      "INFO:tensorflow:Assets written to: model_experiments\\model_4_conv1D\\assets\n"
     ]
    },
    {
     "name": "stderr",
     "output_type": "stream",
     "text": [
      "INFO:tensorflow:Assets written to: model_experiments\\model_4_conv1D\\assets\n",
      "WARNING:absl:Found untraced functions such as _jit_compiled_convolution_op while saving (showing 1 of 1). These functions will not be directly callable after loading.\n"
     ]
    },
    {
     "name": "stdout",
     "output_type": "stream",
     "text": [
      "INFO:tensorflow:Assets written to: model_experiments\\model_4_conv1D\\assets\n"
     ]
    },
    {
     "name": "stderr",
     "output_type": "stream",
     "text": [
      "INFO:tensorflow:Assets written to: model_experiments\\model_4_conv1D\\assets\n",
      "WARNING:absl:Found untraced functions such as _jit_compiled_convolution_op while saving (showing 1 of 1). These functions will not be directly callable after loading.\n"
     ]
    },
    {
     "name": "stdout",
     "output_type": "stream",
     "text": [
      "INFO:tensorflow:Assets written to: model_experiments\\model_4_conv1D\\assets\n"
     ]
    },
    {
     "name": "stderr",
     "output_type": "stream",
     "text": [
      "INFO:tensorflow:Assets written to: model_experiments\\model_4_conv1D\\assets\n",
      "WARNING:absl:Found untraced functions such as _jit_compiled_convolution_op while saving (showing 1 of 1). These functions will not be directly callable after loading.\n"
     ]
    },
    {
     "name": "stdout",
     "output_type": "stream",
     "text": [
      "INFO:tensorflow:Assets written to: model_experiments\\model_4_conv1D\\assets\n"
     ]
    },
    {
     "name": "stderr",
     "output_type": "stream",
     "text": [
      "INFO:tensorflow:Assets written to: model_experiments\\model_4_conv1D\\assets\n",
      "WARNING:absl:Found untraced functions such as _jit_compiled_convolution_op while saving (showing 1 of 1). These functions will not be directly callable after loading.\n"
     ]
    },
    {
     "name": "stdout",
     "output_type": "stream",
     "text": [
      "INFO:tensorflow:Assets written to: model_experiments\\model_4_conv1D\\assets\n"
     ]
    },
    {
     "name": "stderr",
     "output_type": "stream",
     "text": [
      "INFO:tensorflow:Assets written to: model_experiments\\model_4_conv1D\\assets\n",
      "WARNING:absl:Found untraced functions such as _jit_compiled_convolution_op while saving (showing 1 of 1). These functions will not be directly callable after loading.\n"
     ]
    },
    {
     "name": "stdout",
     "output_type": "stream",
     "text": [
      "INFO:tensorflow:Assets written to: model_experiments\\model_4_conv1D\\assets\n"
     ]
    },
    {
     "name": "stderr",
     "output_type": "stream",
     "text": [
      "INFO:tensorflow:Assets written to: model_experiments\\model_4_conv1D\\assets\n",
      "WARNING:absl:Found untraced functions such as _jit_compiled_convolution_op while saving (showing 1 of 1). These functions will not be directly callable after loading.\n"
     ]
    },
    {
     "name": "stdout",
     "output_type": "stream",
     "text": [
      "INFO:tensorflow:Assets written to: model_experiments\\model_4_conv1D\\assets\n"
     ]
    },
    {
     "name": "stderr",
     "output_type": "stream",
     "text": [
      "INFO:tensorflow:Assets written to: model_experiments\\model_4_conv1D\\assets\n",
      "WARNING:absl:Found untraced functions such as _jit_compiled_convolution_op while saving (showing 1 of 1). These functions will not be directly callable after loading.\n"
     ]
    },
    {
     "name": "stdout",
     "output_type": "stream",
     "text": [
      "INFO:tensorflow:Assets written to: model_experiments\\model_4_conv1D\\assets\n"
     ]
    },
    {
     "name": "stderr",
     "output_type": "stream",
     "text": [
      "INFO:tensorflow:Assets written to: model_experiments\\model_4_conv1D\\assets\n",
      "WARNING:absl:Found untraced functions such as _jit_compiled_convolution_op while saving (showing 1 of 1). These functions will not be directly callable after loading.\n"
     ]
    },
    {
     "name": "stdout",
     "output_type": "stream",
     "text": [
      "INFO:tensorflow:Assets written to: model_experiments\\model_4_conv1D\\assets\n"
     ]
    },
    {
     "name": "stderr",
     "output_type": "stream",
     "text": [
      "INFO:tensorflow:Assets written to: model_experiments\\model_4_conv1D\\assets\n",
      "WARNING:absl:Found untraced functions such as _jit_compiled_convolution_op while saving (showing 1 of 1). These functions will not be directly callable after loading.\n"
     ]
    },
    {
     "name": "stdout",
     "output_type": "stream",
     "text": [
      "INFO:tensorflow:Assets written to: model_experiments\\model_4_conv1D\\assets\n"
     ]
    },
    {
     "name": "stderr",
     "output_type": "stream",
     "text": [
      "INFO:tensorflow:Assets written to: model_experiments\\model_4_conv1D\\assets\n",
      "WARNING:absl:Found untraced functions such as _jit_compiled_convolution_op while saving (showing 1 of 1). These functions will not be directly callable after loading.\n"
     ]
    },
    {
     "name": "stdout",
     "output_type": "stream",
     "text": [
      "INFO:tensorflow:Assets written to: model_experiments\\model_4_conv1D\\assets\n"
     ]
    },
    {
     "name": "stderr",
     "output_type": "stream",
     "text": [
      "INFO:tensorflow:Assets written to: model_experiments\\model_4_conv1D\\assets\n",
      "WARNING:absl:Found untraced functions such as _jit_compiled_convolution_op while saving (showing 1 of 1). These functions will not be directly callable after loading.\n"
     ]
    },
    {
     "name": "stdout",
     "output_type": "stream",
     "text": [
      "INFO:tensorflow:Assets written to: model_experiments\\model_4_conv1D\\assets\n"
     ]
    },
    {
     "name": "stderr",
     "output_type": "stream",
     "text": [
      "INFO:tensorflow:Assets written to: model_experiments\\model_4_conv1D\\assets\n",
      "WARNING:absl:Found untraced functions such as _jit_compiled_convolution_op while saving (showing 1 of 1). These functions will not be directly callable after loading.\n"
     ]
    },
    {
     "name": "stdout",
     "output_type": "stream",
     "text": [
      "INFO:tensorflow:Assets written to: model_experiments\\model_4_conv1D\\assets\n"
     ]
    },
    {
     "name": "stderr",
     "output_type": "stream",
     "text": [
      "INFO:tensorflow:Assets written to: model_experiments\\model_4_conv1D\\assets\n",
      "WARNING:absl:Found untraced functions such as _jit_compiled_convolution_op while saving (showing 1 of 1). These functions will not be directly callable after loading.\n"
     ]
    },
    {
     "name": "stdout",
     "output_type": "stream",
     "text": [
      "INFO:tensorflow:Assets written to: model_experiments\\model_4_conv1D\\assets\n"
     ]
    },
    {
     "name": "stderr",
     "output_type": "stream",
     "text": [
      "INFO:tensorflow:Assets written to: model_experiments\\model_4_conv1D\\assets\n",
      "WARNING:absl:Found untraced functions such as _jit_compiled_convolution_op while saving (showing 1 of 1). These functions will not be directly callable after loading.\n"
     ]
    },
    {
     "name": "stdout",
     "output_type": "stream",
     "text": [
      "INFO:tensorflow:Assets written to: model_experiments\\model_4_conv1D\\assets\n"
     ]
    },
    {
     "name": "stderr",
     "output_type": "stream",
     "text": [
      "INFO:tensorflow:Assets written to: model_experiments\\model_4_conv1D\\assets\n"
     ]
    },
    {
     "data": {
      "text/plain": [
       "<keras.callbacks.History at 0x1a038081e40>"
      ]
     },
     "execution_count": 76,
     "metadata": {},
     "output_type": "execute_result"
    }
   ],
   "source": [
    "tf.random.set_seed(42)\n",
    "\n",
    "# Create Conv1D model\n",
    "model_4 = tf.keras.Sequential([\n",
    "    layers.Lambda(lambda x: tf.expand_dims(x, axis=1)),\n",
    "    layers.Conv1D(filters=128, kernel_size=5, strides=1, padding='causal', activation='relu'),\n",
    "    layers.Dense(HORIZON)\n",
    "], name='model_4_conv1D')\n",
    "\n",
    "# Compile model\n",
    "model_4.compile(loss='mae',\n",
    "                optimizer=tf.keras.optimizers.Adam())\n",
    "\n",
    "# Fit model\n",
    "model_4.fit(train_windows,\n",
    "            train_labels,\n",
    "            batch_size=128,\n",
    "            epochs=100,\n",
    "            verbose=0,\n",
    "            validation_data=(test_windows, test_labels),\n",
    "            callbacks=[create_model_checkpoint(model_name=model_4.name)])"
   ]
  },
  {
   "cell_type": "code",
   "execution_count": 77,
   "id": "04870920",
   "metadata": {},
   "outputs": [
    {
     "name": "stdout",
     "output_type": "stream",
     "text": [
      "Model: \"model_4_conv1D\"\n",
      "_________________________________________________________________\n",
      " Layer (type)                Output Shape              Param #   \n",
      "=================================================================\n",
      " lambda_1 (Lambda)           (None, 1, 7)              0         \n",
      "                                                                 \n",
      " conv1d (Conv1D)             (None, 1, 128)            4608      \n",
      "                                                                 \n",
      " dense_6 (Dense)             (None, 1, 1)              129       \n",
      "                                                                 \n",
      "=================================================================\n",
      "Total params: 4,737\n",
      "Trainable params: 4,737\n",
      "Non-trainable params: 0\n",
      "_________________________________________________________________\n"
     ]
    }
   ],
   "source": [
    "model_4.summary()"
   ]
  },
  {
   "cell_type": "code",
   "execution_count": 78,
   "id": "f7fcad34",
   "metadata": {},
   "outputs": [
    {
     "name": "stdout",
     "output_type": "stream",
     "text": [
      "18/18 [==============================] - 0s 3ms/step - loss: 769.9483\n"
     ]
    },
    {
     "data": {
      "text/plain": [
       "769.9483032226562"
      ]
     },
     "execution_count": 78,
     "metadata": {},
     "output_type": "execute_result"
    }
   ],
   "source": [
    "# Evaluate model\n",
    "model_4.evaluate(test_windows, test_labels)"
   ]
  },
  {
   "cell_type": "code",
   "execution_count": 79,
   "id": "9315ab0d",
   "metadata": {},
   "outputs": [
    {
     "name": "stdout",
     "output_type": "stream",
     "text": [
      "18/18 [==============================] - 0s 4ms/step - loss: 577.0556\n"
     ]
    },
    {
     "data": {
      "text/plain": [
       "577.0556030273438"
      ]
     },
     "execution_count": 79,
     "metadata": {},
     "output_type": "execute_result"
    }
   ],
   "source": [
    "# Load back in best performing Conv1D and re-evaluate\n",
    "model_4 = tf.keras.models.load_model('model_experiments/model_4_conv1D')\n",
    "model_4.evaluate(test_windows, test_labels)"
   ]
  },
  {
   "cell_type": "code",
   "execution_count": 80,
   "id": "33cdffb2",
   "metadata": {},
   "outputs": [
    {
     "name": "stdout",
     "output_type": "stream",
     "text": [
      "18/18 [==============================] - 0s 3ms/step\n"
     ]
    },
    {
     "data": {
      "text/plain": [
       "<tf.Tensor: shape=(5,), dtype=float32, numpy=array([8725.8  , 8661.163, 8531.043, 8451.39 , 8498.764], dtype=float32)>"
      ]
     },
     "execution_count": 80,
     "metadata": {},
     "output_type": "execute_result"
    }
   ],
   "source": [
    "# Make predictions\n",
    "model_4_preds = make_preds(model_4, test_windows)\n",
    "model_4_preds[:5]"
   ]
  },
  {
   "cell_type": "code",
   "execution_count": 81,
   "id": "c6126ee6",
   "metadata": {},
   "outputs": [
    {
     "data": {
      "text/plain": [
       "{'mae': 577.0556,\n",
       " 'mse': 1201046.9,\n",
       " 'rmse': 1095.9229,\n",
       " 'mape': 2.5783978,\n",
       " 'mase': 1.0071639}"
      ]
     },
     "execution_count": 81,
     "metadata": {},
     "output_type": "execute_result"
    }
   ],
   "source": [
    "# Evaluate predictions\n",
    "model_4_results = evaluate_preds(y_true=tf.squeeze(test_labels),\n",
    "                                 y_pred=model_4_preds)\n",
    "model_4_results"
   ]
  },
  {
   "cell_type": "code",
   "execution_count": 82,
   "id": "d4aaf90b",
   "metadata": {},
   "outputs": [
    {
     "data": {
      "text/plain": [
       "{'mae': 570.9852,\n",
       " 'mse': 1180975.6,\n",
       " 'rmse': 1086.727,\n",
       " 'mape': 2.5477512,\n",
       " 'mase': 0.996569}"
      ]
     },
     "execution_count": 82,
     "metadata": {},
     "output_type": "execute_result"
    }
   ],
   "source": [
    "model_1_results"
   ]
  },
  {
   "cell_type": "markdown",
   "id": "a35ec103",
   "metadata": {},
   "source": [
    "## Model 5: RNN (LSTM)\n",
    "\n",
    "Let's build an RNN model for our time series data."
   ]
  },
  {
   "cell_type": "code",
   "execution_count": 83,
   "id": "1b1b5dcc",
   "metadata": {},
   "outputs": [
    {
     "name": "stdout",
     "output_type": "stream",
     "text": [
      "WARNING:tensorflow:Layer lstm will not use cuDNN kernels since it doesn't meet the criteria. It will use a generic GPU kernel as fallback when running on GPU.\n"
     ]
    },
    {
     "name": "stderr",
     "output_type": "stream",
     "text": [
      "WARNING:tensorflow:Layer lstm will not use cuDNN kernels since it doesn't meet the criteria. It will use a generic GPU kernel as fallback when running on GPU.\n"
     ]
    },
    {
     "name": "stdout",
     "output_type": "stream",
     "text": [
      "Epoch 1/100\n",
      "15/18 [========================>.....] - ETA: 0s - loss: 2916.9192INFO:tensorflow:Assets written to: model_experiments\\model_5_LSTM\\assets\n"
     ]
    },
    {
     "name": "stderr",
     "output_type": "stream",
     "text": [
      "INFO:tensorflow:Assets written to: model_experiments\\model_5_LSTM\\assets\n"
     ]
    },
    {
     "name": "stdout",
     "output_type": "stream",
     "text": [
      "18/18 [==============================] - 4s 133ms/step - loss: 2837.0332 - val_loss: 12426.3467\n",
      "Epoch 2/100\n",
      "15/18 [========================>.....] - ETA: 0s - loss: 1424.2644INFO:tensorflow:Assets written to: model_experiments\\model_5_LSTM\\assets\n"
     ]
    },
    {
     "name": "stderr",
     "output_type": "stream",
     "text": [
      "INFO:tensorflow:Assets written to: model_experiments\\model_5_LSTM\\assets\n"
     ]
    },
    {
     "name": "stdout",
     "output_type": "stream",
     "text": [
      "18/18 [==============================] - 2s 123ms/step - loss: 1319.8578 - val_loss: 3704.8477\n",
      "Epoch 3/100\n",
      "15/18 [========================>.....] - ETA: 0s - loss: 327.4940INFO:tensorflow:Assets written to: model_experiments\\model_5_LSTM\\assets\n"
     ]
    },
    {
     "name": "stderr",
     "output_type": "stream",
     "text": [
      "INFO:tensorflow:Assets written to: model_experiments\\model_5_LSTM\\assets\n"
     ]
    },
    {
     "name": "stdout",
     "output_type": "stream",
     "text": [
      "18/18 [==============================] - 2s 137ms/step - loss: 328.1785 - val_loss: 1512.0348\n",
      "Epoch 4/100\n",
      "13/18 [====================>.........] - ETA: 0s - loss: 225.7132INFO:tensorflow:Assets written to: model_experiments\\model_5_LSTM\\assets\n"
     ]
    },
    {
     "name": "stderr",
     "output_type": "stream",
     "text": [
      "INFO:tensorflow:Assets written to: model_experiments\\model_5_LSTM\\assets\n"
     ]
    },
    {
     "name": "stdout",
     "output_type": "stream",
     "text": [
      "18/18 [==============================] - 2s 134ms/step - loss: 224.6450 - val_loss: 1268.2892\n",
      "Epoch 5/100\n",
      "10/18 [===============>..............] - ETA: 0s - loss: 207.4496INFO:tensorflow:Assets written to: model_experiments\\model_5_LSTM\\assets\n"
     ]
    },
    {
     "name": "stderr",
     "output_type": "stream",
     "text": [
      "INFO:tensorflow:Assets written to: model_experiments\\model_5_LSTM\\assets\n"
     ]
    },
    {
     "name": "stdout",
     "output_type": "stream",
     "text": [
      "18/18 [==============================] - 2s 110ms/step - loss: 201.2323 - val_loss: 1151.3510\n",
      "Epoch 6/100\n",
      "18/18 [==============================] - 0s 7ms/step - loss: 196.5616 - val_loss: 1173.5137\n",
      "Epoch 7/100\n",
      "11/18 [=================>............] - ETA: 0s - loss: 201.6516INFO:tensorflow:Assets written to: model_experiments\\model_5_LSTM\\assets\n"
     ]
    },
    {
     "name": "stderr",
     "output_type": "stream",
     "text": [
      "INFO:tensorflow:Assets written to: model_experiments\\model_5_LSTM\\assets\n"
     ]
    },
    {
     "name": "stdout",
     "output_type": "stream",
     "text": [
      "18/18 [==============================] - 2s 108ms/step - loss: 207.5645 - val_loss: 1110.3712\n",
      "Epoch 8/100\n",
      "18/18 [==============================] - 0s 9ms/step - loss: 192.8308 - val_loss: 1136.8530\n",
      "Epoch 9/100\n",
      "18/18 [==============================] - 0s 10ms/step - loss: 189.1128 - val_loss: 1118.5122\n",
      "Epoch 10/100\n",
      "18/18 [==============================] - 0s 8ms/step - loss: 189.2708 - val_loss: 1138.0338\n",
      "Epoch 11/100\n",
      "11/18 [=================>............] - ETA: 0s - loss: 180.5120INFO:tensorflow:Assets written to: model_experiments\\model_5_LSTM\\assets\n"
     ]
    },
    {
     "name": "stderr",
     "output_type": "stream",
     "text": [
      "INFO:tensorflow:Assets written to: model_experiments\\model_5_LSTM\\assets\n"
     ]
    },
    {
     "name": "stdout",
     "output_type": "stream",
     "text": [
      "18/18 [==============================] - 2s 101ms/step - loss: 187.7389 - val_loss: 1070.0168\n",
      "Epoch 12/100\n",
      "16/18 [=========================>....] - ETA: 0s - loss: 188.2990INFO:tensorflow:Assets written to: model_experiments\\model_5_LSTM\\assets\n"
     ]
    },
    {
     "name": "stderr",
     "output_type": "stream",
     "text": [
      "INFO:tensorflow:Assets written to: model_experiments\\model_5_LSTM\\assets\n"
     ]
    },
    {
     "name": "stdout",
     "output_type": "stream",
     "text": [
      "18/18 [==============================] - 2s 116ms/step - loss: 187.2291 - val_loss: 1061.5839\n",
      "Epoch 13/100\n",
      "14/18 [======================>.......] - ETA: 0s - loss: 182.6866INFO:tensorflow:Assets written to: model_experiments\\model_5_LSTM\\assets\n"
     ]
    },
    {
     "name": "stderr",
     "output_type": "stream",
     "text": [
      "INFO:tensorflow:Assets written to: model_experiments\\model_5_LSTM\\assets\n"
     ]
    },
    {
     "name": "stdout",
     "output_type": "stream",
     "text": [
      "18/18 [==============================] - 2s 99ms/step - loss: 184.3438 - val_loss: 1051.1104\n",
      "Epoch 14/100\n",
      "18/18 [==============================] - ETA: 0s - loss: 183.1457INFO:tensorflow:Assets written to: model_experiments\\model_5_LSTM\\assets\n"
     ]
    },
    {
     "name": "stderr",
     "output_type": "stream",
     "text": [
      "INFO:tensorflow:Assets written to: model_experiments\\model_5_LSTM\\assets\n"
     ]
    },
    {
     "name": "stdout",
     "output_type": "stream",
     "text": [
      "18/18 [==============================] - 2s 107ms/step - loss: 183.1457 - val_loss: 1042.9445\n",
      "Epoch 15/100\n",
      "14/18 [======================>.......] - ETA: 0s - loss: 182.3451INFO:tensorflow:Assets written to: model_experiments\\model_5_LSTM\\assets\n"
     ]
    },
    {
     "name": "stderr",
     "output_type": "stream",
     "text": [
      "INFO:tensorflow:Assets written to: model_experiments\\model_5_LSTM\\assets\n"
     ]
    },
    {
     "name": "stdout",
     "output_type": "stream",
     "text": [
      "18/18 [==============================] - 2s 107ms/step - loss: 181.0209 - val_loss: 1023.9071\n",
      "Epoch 16/100\n",
      "18/18 [==============================] - ETA: 0s - loss: 177.4424INFO:tensorflow:Assets written to: model_experiments\\model_5_LSTM\\assets\n"
     ]
    },
    {
     "name": "stderr",
     "output_type": "stream",
     "text": [
      "INFO:tensorflow:Assets written to: model_experiments\\model_5_LSTM\\assets\n"
     ]
    },
    {
     "name": "stdout",
     "output_type": "stream",
     "text": [
      "18/18 [==============================] - 2s 120ms/step - loss: 177.4424 - val_loss: 970.4661\n",
      "Epoch 17/100\n",
      "18/18 [==============================] - 0s 9ms/step - loss: 181.3942 - val_loss: 1004.6171\n",
      "Epoch 18/100\n",
      "18/18 [==============================] - 0s 10ms/step - loss: 175.2052 - val_loss: 1004.7935\n",
      "Epoch 19/100\n",
      "18/18 [==============================] - 0s 9ms/step - loss: 177.5432 - val_loss: 1029.0591\n",
      "Epoch 20/100\n",
      "18/18 [==============================] - 0s 8ms/step - loss: 176.6287 - val_loss: 1031.0167\n",
      "Epoch 21/100\n",
      "18/18 [==============================] - 0s 10ms/step - loss: 173.7260 - val_loss: 975.5162\n",
      "Epoch 22/100\n",
      "18/18 [==============================] - 0s 9ms/step - loss: 173.4419 - val_loss: 997.4796\n",
      "Epoch 23/100\n",
      "18/18 [==============================] - 0s 9ms/step - loss: 173.4263 - val_loss: 1083.5021\n",
      "Epoch 24/100\n",
      "18/18 [==============================] - 0s 10ms/step - loss: 171.2454 - val_loss: 1051.6876\n",
      "Epoch 25/100\n",
      "17/18 [===========================>..] - ETA: 0s - loss: 169.1746INFO:tensorflow:Assets written to: model_experiments\\model_5_LSTM\\assets\n"
     ]
    },
    {
     "name": "stderr",
     "output_type": "stream",
     "text": [
      "INFO:tensorflow:Assets written to: model_experiments\\model_5_LSTM\\assets\n"
     ]
    },
    {
     "name": "stdout",
     "output_type": "stream",
     "text": [
      "18/18 [==============================] - 2s 117ms/step - loss: 168.9435 - val_loss: 968.1844\n",
      "Epoch 26/100\n",
      "15/18 [========================>.....] - ETA: 0s - loss: 171.5443INFO:tensorflow:Assets written to: model_experiments\\model_5_LSTM\\assets\n"
     ]
    },
    {
     "name": "stderr",
     "output_type": "stream",
     "text": [
      "INFO:tensorflow:Assets written to: model_experiments\\model_5_LSTM\\assets\n"
     ]
    },
    {
     "name": "stdout",
     "output_type": "stream",
     "text": [
      "18/18 [==============================] - 2s 102ms/step - loss: 166.3261 - val_loss: 927.6058\n",
      "Epoch 27/100\n",
      "18/18 [==============================] - 0s 10ms/step - loss: 164.7942 - val_loss: 979.6588\n",
      "Epoch 28/100\n",
      "18/18 [==============================] - 0s 11ms/step - loss: 162.1657 - val_loss: 949.0143\n",
      "Epoch 29/100\n",
      "18/18 [==============================] - 0s 9ms/step - loss: 161.2056 - val_loss: 974.4355\n",
      "Epoch 30/100\n",
      "18/18 [==============================] - 0s 9ms/step - loss: 160.5029 - val_loss: 956.7480\n",
      "Epoch 31/100\n",
      "10/18 [===============>..............] - ETA: 0s - loss: 164.3297INFO:tensorflow:Assets written to: model_experiments\\model_5_LSTM\\assets\n"
     ]
    },
    {
     "name": "stderr",
     "output_type": "stream",
     "text": [
      "INFO:tensorflow:Assets written to: model_experiments\\model_5_LSTM\\assets\n"
     ]
    },
    {
     "name": "stdout",
     "output_type": "stream",
     "text": [
      "18/18 [==============================] - 2s 111ms/step - loss: 157.6425 - val_loss: 898.1453\n",
      "Epoch 32/100\n",
      "13/18 [====================>.........] - ETA: 0s - loss: 152.4153INFO:tensorflow:Assets written to: model_experiments\\model_5_LSTM\\assets\n"
     ]
    },
    {
     "name": "stderr",
     "output_type": "stream",
     "text": [
      "INFO:tensorflow:Assets written to: model_experiments\\model_5_LSTM\\assets\n"
     ]
    },
    {
     "name": "stdout",
     "output_type": "stream",
     "text": [
      "18/18 [==============================] - 2s 101ms/step - loss: 156.0166 - val_loss: 886.1142\n",
      "Epoch 33/100\n",
      "18/18 [==============================] - 0s 8ms/step - loss: 155.1752 - val_loss: 932.1958\n",
      "Epoch 34/100\n",
      "18/18 [==============================] - ETA: 0s - loss: 153.4501INFO:tensorflow:Assets written to: model_experiments\\model_5_LSTM\\assets\n"
     ]
    },
    {
     "name": "stderr",
     "output_type": "stream",
     "text": [
      "INFO:tensorflow:Assets written to: model_experiments\\model_5_LSTM\\assets\n"
     ]
    },
    {
     "name": "stdout",
     "output_type": "stream",
     "text": [
      "18/18 [==============================] - 2s 111ms/step - loss: 153.4501 - val_loss: 867.4348\n",
      "Epoch 35/100\n",
      "18/18 [==============================] - 0s 9ms/step - loss: 151.6049 - val_loss: 880.7776\n",
      "Epoch 36/100\n",
      "18/18 [==============================] - ETA: 0s - loss: 149.6945INFO:tensorflow:Assets written to: model_experiments\\model_5_LSTM\\assets\n"
     ]
    },
    {
     "name": "stderr",
     "output_type": "stream",
     "text": [
      "INFO:tensorflow:Assets written to: model_experiments\\model_5_LSTM\\assets\n"
     ]
    },
    {
     "name": "stdout",
     "output_type": "stream",
     "text": [
      "18/18 [==============================] - 2s 102ms/step - loss: 149.6945 - val_loss: 849.6735\n",
      "Epoch 37/100\n",
      "17/18 [===========================>..] - ETA: 0s - loss: 146.5431INFO:tensorflow:Assets written to: model_experiments\\model_5_LSTM\\assets\n"
     ]
    },
    {
     "name": "stderr",
     "output_type": "stream",
     "text": [
      "INFO:tensorflow:Assets written to: model_experiments\\model_5_LSTM\\assets\n"
     ]
    },
    {
     "name": "stdout",
     "output_type": "stream",
     "text": [
      "18/18 [==============================] - 2s 118ms/step - loss: 147.5551 - val_loss: 825.3981\n",
      "Epoch 38/100\n",
      "18/18 [==============================] - 0s 9ms/step - loss: 146.8648 - val_loss: 846.8801\n",
      "Epoch 39/100\n",
      "10/18 [===============>..............] - ETA: 0s - loss: 147.7795INFO:tensorflow:Assets written to: model_experiments\\model_5_LSTM\\assets\n"
     ]
    },
    {
     "name": "stderr",
     "output_type": "stream",
     "text": [
      "INFO:tensorflow:Assets written to: model_experiments\\model_5_LSTM\\assets\n"
     ]
    },
    {
     "name": "stdout",
     "output_type": "stream",
     "text": [
      "18/18 [==============================] - 2s 103ms/step - loss: 145.8282 - val_loss: 812.1931\n",
      "Epoch 40/100\n",
      "18/18 [==============================] - 0s 9ms/step - loss: 145.8810 - val_loss: 813.7515\n",
      "Epoch 41/100\n",
      "18/18 [==============================] - ETA: 0s - loss: 142.5448INFO:tensorflow:Assets written to: model_experiments\\model_5_LSTM\\assets\n"
     ]
    },
    {
     "name": "stderr",
     "output_type": "stream",
     "text": [
      "INFO:tensorflow:Assets written to: model_experiments\\model_5_LSTM\\assets\n"
     ]
    },
    {
     "name": "stdout",
     "output_type": "stream",
     "text": [
      "18/18 [==============================] - 2s 100ms/step - loss: 142.5448 - val_loss: 792.7638\n",
      "Epoch 42/100\n",
      "16/18 [=========================>....] - ETA: 0s - loss: 145.6990INFO:tensorflow:Assets written to: model_experiments\\model_5_LSTM\\assets\n"
     ]
    },
    {
     "name": "stderr",
     "output_type": "stream",
     "text": [
      "INFO:tensorflow:Assets written to: model_experiments\\model_5_LSTM\\assets\n"
     ]
    },
    {
     "name": "stdout",
     "output_type": "stream",
     "text": [
      "18/18 [==============================] - 2s 107ms/step - loss: 141.4865 - val_loss: 789.0833\n",
      "Epoch 43/100\n",
      "18/18 [==============================] - 0s 11ms/step - loss: 141.0811 - val_loss: 806.7039\n",
      "Epoch 44/100\n",
      "11/18 [=================>............] - ETA: 0s - loss: 139.0572INFO:tensorflow:Assets written to: model_experiments\\model_5_LSTM\\assets\n"
     ]
    },
    {
     "name": "stderr",
     "output_type": "stream",
     "text": [
      "INFO:tensorflow:Assets written to: model_experiments\\model_5_LSTM\\assets\n"
     ]
    },
    {
     "name": "stdout",
     "output_type": "stream",
     "text": [
      "18/18 [==============================] - 2s 95ms/step - loss: 139.1875 - val_loss: 772.5447\n",
      "Epoch 45/100\n",
      "18/18 [==============================] - 0s 10ms/step - loss: 137.9189 - val_loss: 853.5927\n",
      "Epoch 46/100\n",
      "10/18 [===============>..............] - ETA: 0s - loss: 144.6677INFO:tensorflow:Assets written to: model_experiments\\model_5_LSTM\\assets\n"
     ]
    },
    {
     "name": "stderr",
     "output_type": "stream",
     "text": [
      "INFO:tensorflow:Assets written to: model_experiments\\model_5_LSTM\\assets\n"
     ]
    },
    {
     "name": "stdout",
     "output_type": "stream",
     "text": [
      "18/18 [==============================] - 2s 118ms/step - loss: 137.5980 - val_loss: 757.3799\n",
      "Epoch 47/100\n",
      " 9/18 [==============>...............] - ETA: 0s - loss: 136.6725INFO:tensorflow:Assets written to: model_experiments\\model_5_LSTM\\assets\n"
     ]
    },
    {
     "name": "stderr",
     "output_type": "stream",
     "text": [
      "INFO:tensorflow:Assets written to: model_experiments\\model_5_LSTM\\assets\n"
     ]
    },
    {
     "name": "stdout",
     "output_type": "stream",
     "text": [
      "18/18 [==============================] - 2s 102ms/step - loss: 136.6313 - val_loss: 755.0871\n",
      "Epoch 48/100\n",
      "18/18 [==============================] - 0s 9ms/step - loss: 137.1487 - val_loss: 767.8644\n",
      "Epoch 49/100\n",
      "11/18 [=================>............] - ETA: 0s - loss: 143.8830INFO:tensorflow:Assets written to: model_experiments\\model_5_LSTM\\assets\n"
     ]
    },
    {
     "name": "stderr",
     "output_type": "stream",
     "text": [
      "INFO:tensorflow:Assets written to: model_experiments\\model_5_LSTM\\assets\n"
     ]
    },
    {
     "name": "stdout",
     "output_type": "stream",
     "text": [
      "18/18 [==============================] - 2s 97ms/step - loss: 137.8730 - val_loss: 751.9155\n",
      "Epoch 50/100\n",
      "15/18 [========================>.....] - ETA: 0s - loss: 132.1182INFO:tensorflow:Assets written to: model_experiments\\model_5_LSTM\\assets\n"
     ]
    },
    {
     "name": "stderr",
     "output_type": "stream",
     "text": [
      "INFO:tensorflow:Assets written to: model_experiments\\model_5_LSTM\\assets\n"
     ]
    },
    {
     "name": "stdout",
     "output_type": "stream",
     "text": [
      "18/18 [==============================] - 2s 117ms/step - loss: 133.2413 - val_loss: 735.3740\n",
      "Epoch 51/100\n",
      "16/18 [=========================>....] - ETA: 0s - loss: 132.5604INFO:tensorflow:Assets written to: model_experiments\\model_5_LSTM\\assets\n"
     ]
    },
    {
     "name": "stderr",
     "output_type": "stream",
     "text": [
      "INFO:tensorflow:Assets written to: model_experiments\\model_5_LSTM\\assets\n"
     ]
    },
    {
     "name": "stdout",
     "output_type": "stream",
     "text": [
      "18/18 [==============================] - 2s 102ms/step - loss: 131.5449 - val_loss: 729.9003\n",
      "Epoch 52/100\n",
      "18/18 [==============================] - 0s 8ms/step - loss: 131.4641 - val_loss: 775.9380\n",
      "Epoch 53/100\n",
      "17/18 [===========================>..] - ETA: 0s - loss: 133.4110INFO:tensorflow:Assets written to: model_experiments\\model_5_LSTM\\assets\n"
     ]
    },
    {
     "name": "stderr",
     "output_type": "stream",
     "text": [
      "INFO:tensorflow:Assets written to: model_experiments\\model_5_LSTM\\assets\n"
     ]
    },
    {
     "name": "stdout",
     "output_type": "stream",
     "text": [
      "18/18 [==============================] - 2s 101ms/step - loss: 133.5305 - val_loss: 720.6725\n",
      "Epoch 54/100\n",
      "18/18 [==============================] - 0s 9ms/step - loss: 132.1731 - val_loss: 858.3215\n",
      "Epoch 55/100\n",
      "10/18 [===============>..............] - ETA: 0s - loss: 131.9369INFO:tensorflow:Assets written to: model_experiments\\model_5_LSTM\\assets\n"
     ]
    },
    {
     "name": "stderr",
     "output_type": "stream",
     "text": [
      "INFO:tensorflow:Assets written to: model_experiments\\model_5_LSTM\\assets\n"
     ]
    },
    {
     "name": "stdout",
     "output_type": "stream",
     "text": [
      "18/18 [==============================] - 2s 113ms/step - loss: 133.5658 - val_loss: 711.5347\n",
      "Epoch 56/100\n",
      "15/18 [========================>.....] - ETA: 0s - loss: 126.8134INFO:tensorflow:Assets written to: model_experiments\\model_5_LSTM\\assets\n"
     ]
    },
    {
     "name": "stderr",
     "output_type": "stream",
     "text": [
      "INFO:tensorflow:Assets written to: model_experiments\\model_5_LSTM\\assets\n"
     ]
    },
    {
     "name": "stdout",
     "output_type": "stream",
     "text": [
      "18/18 [==============================] - 2s 121ms/step - loss: 128.5469 - val_loss: 711.4139\n",
      "Epoch 57/100\n",
      "18/18 [==============================] - ETA: 0s - loss: 132.8739INFO:tensorflow:Assets written to: model_experiments\\model_5_LSTM\\assets\n"
     ]
    },
    {
     "name": "stderr",
     "output_type": "stream",
     "text": [
      "INFO:tensorflow:Assets written to: model_experiments\\model_5_LSTM\\assets\n"
     ]
    },
    {
     "name": "stdout",
     "output_type": "stream",
     "text": [
      "18/18 [==============================] - 2s 98ms/step - loss: 132.8739 - val_loss: 711.4003\n",
      "Epoch 58/100\n",
      "13/18 [====================>.........] - ETA: 0s - loss: 125.7679INFO:tensorflow:Assets written to: model_experiments\\model_5_LSTM\\assets\n"
     ]
    },
    {
     "name": "stderr",
     "output_type": "stream",
     "text": [
      "INFO:tensorflow:Assets written to: model_experiments\\model_5_LSTM\\assets\n"
     ]
    },
    {
     "name": "stdout",
     "output_type": "stream",
     "text": [
      "18/18 [==============================] - 2s 109ms/step - loss: 130.2639 - val_loss: 701.8679\n",
      "Epoch 59/100\n",
      "15/18 [========================>.....] - ETA: 0s - loss: 129.1724INFO:tensorflow:Assets written to: model_experiments\\model_5_LSTM\\assets\n"
     ]
    },
    {
     "name": "stderr",
     "output_type": "stream",
     "text": [
      "INFO:tensorflow:Assets written to: model_experiments\\model_5_LSTM\\assets\n"
     ]
    },
    {
     "name": "stdout",
     "output_type": "stream",
     "text": [
      "18/18 [==============================] - 2s 101ms/step - loss: 127.1796 - val_loss: 700.3638\n",
      "Epoch 60/100\n",
      "17/18 [===========================>..] - ETA: 0s - loss: 124.6799INFO:tensorflow:Assets written to: model_experiments\\model_5_LSTM\\assets\n"
     ]
    },
    {
     "name": "stderr",
     "output_type": "stream",
     "text": [
      "INFO:tensorflow:Assets written to: model_experiments\\model_5_LSTM\\assets\n"
     ]
    },
    {
     "name": "stdout",
     "output_type": "stream",
     "text": [
      "18/18 [==============================] - 2s 134ms/step - loss: 125.0159 - val_loss: 692.8450\n",
      "Epoch 61/100\n",
      "14/18 [======================>.......] - ETA: 0s - loss: 131.0512INFO:tensorflow:Assets written to: model_experiments\\model_5_LSTM\\assets\n"
     ]
    },
    {
     "name": "stderr",
     "output_type": "stream",
     "text": [
      "INFO:tensorflow:Assets written to: model_experiments\\model_5_LSTM\\assets\n"
     ]
    },
    {
     "name": "stdout",
     "output_type": "stream",
     "text": [
      "18/18 [==============================] - 2s 103ms/step - loss: 126.1022 - val_loss: 685.0905\n",
      "Epoch 62/100\n",
      "18/18 [==============================] - ETA: 0s - loss: 123.8414INFO:tensorflow:Assets written to: model_experiments\\model_5_LSTM\\assets\n"
     ]
    },
    {
     "name": "stderr",
     "output_type": "stream",
     "text": [
      "INFO:tensorflow:Assets written to: model_experiments\\model_5_LSTM\\assets\n"
     ]
    },
    {
     "name": "stdout",
     "output_type": "stream",
     "text": [
      "18/18 [==============================] - 2s 105ms/step - loss: 123.8414 - val_loss: 682.6813\n",
      "Epoch 63/100\n",
      "18/18 [==============================] - 0s 9ms/step - loss: 126.2839 - val_loss: 692.3785\n",
      "Epoch 64/100\n",
      "17/18 [===========================>..] - ETA: 0s - loss: 121.8205INFO:tensorflow:Assets written to: model_experiments\\model_5_LSTM\\assets\n"
     ]
    },
    {
     "name": "stderr",
     "output_type": "stream",
     "text": [
      "INFO:tensorflow:Assets written to: model_experiments\\model_5_LSTM\\assets\n"
     ]
    },
    {
     "name": "stdout",
     "output_type": "stream",
     "text": [
      "18/18 [==============================] - 2s 108ms/step - loss: 121.9012 - val_loss: 674.2317\n",
      "Epoch 65/100\n",
      "17/18 [===========================>..] - ETA: 0s - loss: 122.5054INFO:tensorflow:Assets written to: model_experiments\\model_5_LSTM\\assets\n"
     ]
    },
    {
     "name": "stderr",
     "output_type": "stream",
     "text": [
      "INFO:tensorflow:Assets written to: model_experiments\\model_5_LSTM\\assets\n"
     ]
    },
    {
     "name": "stdout",
     "output_type": "stream",
     "text": [
      "18/18 [==============================] - 2s 121ms/step - loss: 121.8517 - val_loss: 672.4651\n",
      "Epoch 66/100\n",
      "16/18 [=========================>....] - ETA: 0s - loss: 120.2072INFO:tensorflow:Assets written to: model_experiments\\model_5_LSTM\\assets\n"
     ]
    },
    {
     "name": "stderr",
     "output_type": "stream",
     "text": [
      "INFO:tensorflow:Assets written to: model_experiments\\model_5_LSTM\\assets\n"
     ]
    },
    {
     "name": "stdout",
     "output_type": "stream",
     "text": [
      "18/18 [==============================] - 2s 111ms/step - loss: 121.4667 - val_loss: 669.0663\n",
      "Epoch 67/100\n",
      " 9/18 [==============>...............] - ETA: 0s - loss: 118.5382INFO:tensorflow:Assets written to: model_experiments\\model_5_LSTM\\assets\n"
     ]
    },
    {
     "name": "stderr",
     "output_type": "stream",
     "text": [
      "INFO:tensorflow:Assets written to: model_experiments\\model_5_LSTM\\assets\n"
     ]
    },
    {
     "name": "stdout",
     "output_type": "stream",
     "text": [
      "18/18 [==============================] - 2s 101ms/step - loss: 121.7727 - val_loss: 663.7198\n",
      "Epoch 68/100\n",
      "16/18 [=========================>....] - ETA: 0s - loss: 121.0230INFO:tensorflow:Assets written to: model_experiments\\model_5_LSTM\\assets\n"
     ]
    },
    {
     "name": "stderr",
     "output_type": "stream",
     "text": [
      "INFO:tensorflow:Assets written to: model_experiments\\model_5_LSTM\\assets\n"
     ]
    },
    {
     "name": "stdout",
     "output_type": "stream",
     "text": [
      "18/18 [==============================] - 2s 104ms/step - loss: 120.1897 - val_loss: 660.4995\n",
      "Epoch 69/100\n",
      "18/18 [==============================] - 0s 10ms/step - loss: 119.8071 - val_loss: 688.0244\n",
      "Epoch 70/100\n",
      "18/18 [==============================] - 0s 9ms/step - loss: 121.4587 - val_loss: 687.4064\n",
      "Epoch 71/100\n",
      "17/18 [===========================>..] - ETA: 0s - loss: 120.5040INFO:tensorflow:Assets written to: model_experiments\\model_5_LSTM\\assets\n"
     ]
    },
    {
     "name": "stderr",
     "output_type": "stream",
     "text": [
      "INFO:tensorflow:Assets written to: model_experiments\\model_5_LSTM\\assets\n"
     ]
    },
    {
     "name": "stdout",
     "output_type": "stream",
     "text": [
      "18/18 [==============================] - 2s 127ms/step - loss: 120.6334 - val_loss: 651.4587\n",
      "Epoch 72/100\n",
      "18/18 [==============================] - ETA: 0s - loss: 118.9344INFO:tensorflow:Assets written to: model_experiments\\model_5_LSTM\\assets\n"
     ]
    },
    {
     "name": "stderr",
     "output_type": "stream",
     "text": [
      "INFO:tensorflow:Assets written to: model_experiments\\model_5_LSTM\\assets\n"
     ]
    },
    {
     "name": "stdout",
     "output_type": "stream",
     "text": [
      "18/18 [==============================] - 2s 108ms/step - loss: 118.9344 - val_loss: 650.0419\n",
      "Epoch 73/100\n",
      "16/18 [=========================>....] - ETA: 0s - loss: 122.8782INFO:tensorflow:Assets written to: model_experiments\\model_5_LSTM\\assets\n"
     ]
    },
    {
     "name": "stderr",
     "output_type": "stream",
     "text": [
      "INFO:tensorflow:Assets written to: model_experiments\\model_5_LSTM\\assets\n"
     ]
    },
    {
     "name": "stdout",
     "output_type": "stream",
     "text": [
      "18/18 [==============================] - 2s 105ms/step - loss: 123.5381 - val_loss: 649.4424\n",
      "Epoch 74/100\n",
      "18/18 [==============================] - ETA: 0s - loss: 119.2557INFO:tensorflow:Assets written to: model_experiments\\model_5_LSTM\\assets\n"
     ]
    },
    {
     "name": "stderr",
     "output_type": "stream",
     "text": [
      "INFO:tensorflow:Assets written to: model_experiments\\model_5_LSTM\\assets\n"
     ]
    },
    {
     "name": "stdout",
     "output_type": "stream",
     "text": [
      "18/18 [==============================] - 2s 115ms/step - loss: 119.2557 - val_loss: 648.7987\n",
      "Epoch 75/100\n",
      "18/18 [==============================] - 0s 9ms/step - loss: 117.9638 - val_loss: 650.1619\n",
      "Epoch 76/100\n",
      "17/18 [===========================>..] - ETA: 0s - loss: 117.0941INFO:tensorflow:Assets written to: model_experiments\\model_5_LSTM\\assets\n"
     ]
    },
    {
     "name": "stderr",
     "output_type": "stream",
     "text": [
      "INFO:tensorflow:Assets written to: model_experiments\\model_5_LSTM\\assets\n"
     ]
    },
    {
     "name": "stdout",
     "output_type": "stream",
     "text": [
      "18/18 [==============================] - 2s 123ms/step - loss: 117.3680 - val_loss: 641.4489\n",
      "Epoch 77/100\n",
      "12/18 [===================>..........] - ETA: 0s - loss: 119.6096INFO:tensorflow:Assets written to: model_experiments\\model_5_LSTM\\assets\n"
     ]
    },
    {
     "name": "stderr",
     "output_type": "stream",
     "text": [
      "INFO:tensorflow:Assets written to: model_experiments\\model_5_LSTM\\assets\n"
     ]
    },
    {
     "name": "stdout",
     "output_type": "stream",
     "text": [
      "18/18 [==============================] - 2s 111ms/step - loss: 117.2198 - val_loss: 638.4442\n",
      "Epoch 78/100\n",
      "18/18 [==============================] - 0s 9ms/step - loss: 116.5994 - val_loss: 641.3811\n",
      "Epoch 79/100\n",
      "18/18 [==============================] - 0s 9ms/step - loss: 117.3126 - val_loss: 655.3293\n",
      "Epoch 80/100\n",
      "18/18 [==============================] - ETA: 0s - loss: 120.7495INFO:tensorflow:Assets written to: model_experiments\\model_5_LSTM\\assets\n"
     ]
    },
    {
     "name": "stderr",
     "output_type": "stream",
     "text": [
      "INFO:tensorflow:Assets written to: model_experiments\\model_5_LSTM\\assets\n"
     ]
    },
    {
     "name": "stdout",
     "output_type": "stream",
     "text": [
      "18/18 [==============================] - 2s 99ms/step - loss: 120.7495 - val_loss: 633.4952\n",
      "Epoch 81/100\n",
      "18/18 [==============================] - 0s 9ms/step - loss: 120.0474 - val_loss: 705.8290\n",
      "Epoch 82/100\n",
      "18/18 [==============================] - 0s 8ms/step - loss: 120.2416 - val_loss: 638.2603\n",
      "Epoch 83/100\n",
      "18/18 [==============================] - 0s 9ms/step - loss: 116.1746 - val_loss: 644.9141\n",
      "Epoch 84/100\n",
      "18/18 [==============================] - ETA: 0s - loss: 118.1156INFO:tensorflow:Assets written to: model_experiments\\model_5_LSTM\\assets\n"
     ]
    },
    {
     "name": "stderr",
     "output_type": "stream",
     "text": [
      "INFO:tensorflow:Assets written to: model_experiments\\model_5_LSTM\\assets\n"
     ]
    },
    {
     "name": "stdout",
     "output_type": "stream",
     "text": [
      "18/18 [==============================] - 2s 109ms/step - loss: 118.1156 - val_loss: 633.3751\n",
      "Epoch 85/100\n",
      "17/18 [===========================>..] - ETA: 0s - loss: 116.2634INFO:tensorflow:Assets written to: model_experiments\\model_5_LSTM\\assets\n"
     ]
    },
    {
     "name": "stderr",
     "output_type": "stream",
     "text": [
      "INFO:tensorflow:Assets written to: model_experiments\\model_5_LSTM\\assets\n"
     ]
    },
    {
     "name": "stdout",
     "output_type": "stream",
     "text": [
      "18/18 [==============================] - 2s 127ms/step - loss: 115.6035 - val_loss: 625.4713\n",
      "Epoch 86/100\n",
      "18/18 [==============================] - 0s 13ms/step - loss: 115.1706 - val_loss: 626.7528\n",
      "Epoch 87/100\n",
      "10/18 [===============>..............] - ETA: 0s - loss: 110.2857INFO:tensorflow:Assets written to: model_experiments\\model_5_LSTM\\assets\n"
     ]
    },
    {
     "name": "stderr",
     "output_type": "stream",
     "text": [
      "INFO:tensorflow:Assets written to: model_experiments\\model_5_LSTM\\assets\n"
     ]
    },
    {
     "name": "stdout",
     "output_type": "stream",
     "text": [
      "18/18 [==============================] - 2s 99ms/step - loss: 115.2493 - val_loss: 621.3561\n",
      "Epoch 88/100\n",
      "16/18 [=========================>....] - ETA: 0s - loss: 116.2503INFO:tensorflow:Assets written to: model_experiments\\model_5_LSTM\\assets\n"
     ]
    },
    {
     "name": "stderr",
     "output_type": "stream",
     "text": [
      "INFO:tensorflow:Assets written to: model_experiments\\model_5_LSTM\\assets\n"
     ]
    },
    {
     "name": "stdout",
     "output_type": "stream",
     "text": [
      "18/18 [==============================] - 2s 106ms/step - loss: 114.3979 - val_loss: 620.2912\n",
      "Epoch 89/100\n",
      "18/18 [==============================] - 0s 9ms/step - loss: 116.2720 - val_loss: 671.4368\n",
      "Epoch 90/100\n",
      "18/18 [==============================] - 0s 9ms/step - loss: 122.0129 - val_loss: 700.5846\n",
      "Epoch 91/100\n",
      "17/18 [===========================>..] - ETA: 0s - loss: 115.7107INFO:tensorflow:Assets written to: model_experiments\\model_5_LSTM\\assets\n"
     ]
    },
    {
     "name": "stderr",
     "output_type": "stream",
     "text": [
      "INFO:tensorflow:Assets written to: model_experiments\\model_5_LSTM\\assets\n"
     ]
    },
    {
     "name": "stdout",
     "output_type": "stream",
     "text": [
      "18/18 [==============================] - 2s 103ms/step - loss: 115.5376 - val_loss: 614.2039\n",
      "Epoch 92/100\n",
      "15/18 [========================>.....] - ETA: 0s - loss: 111.8241INFO:tensorflow:Assets written to: model_experiments\\model_5_LSTM\\assets\n"
     ]
    },
    {
     "name": "stderr",
     "output_type": "stream",
     "text": [
      "INFO:tensorflow:Assets written to: model_experiments\\model_5_LSTM\\assets\n"
     ]
    },
    {
     "name": "stdout",
     "output_type": "stream",
     "text": [
      "18/18 [==============================] - 2s 134ms/step - loss: 113.2230 - val_loss: 611.8320\n",
      "Epoch 93/100\n",
      "18/18 [==============================] - 0s 11ms/step - loss: 113.8756 - val_loss: 615.7025\n",
      "Epoch 94/100\n",
      "18/18 [==============================] - 0s 9ms/step - loss: 114.1763 - val_loss: 636.8927\n",
      "Epoch 95/100\n",
      "17/18 [===========================>..] - ETA: 0s - loss: 112.2504INFO:tensorflow:Assets written to: model_experiments\\model_5_LSTM\\assets\n"
     ]
    },
    {
     "name": "stderr",
     "output_type": "stream",
     "text": [
      "INFO:tensorflow:Assets written to: model_experiments\\model_5_LSTM\\assets\n"
     ]
    },
    {
     "name": "stdout",
     "output_type": "stream",
     "text": [
      "18/18 [==============================] - 2s 111ms/step - loss: 115.2617 - val_loss: 610.6474\n",
      "Epoch 96/100\n",
      "18/18 [==============================] - 0s 10ms/step - loss: 113.6550 - val_loss: 630.6006\n",
      "Epoch 97/100\n",
      "18/18 [==============================] - 0s 9ms/step - loss: 114.0510 - val_loss: 635.8940\n",
      "Epoch 98/100\n",
      "18/18 [==============================] - 0s 9ms/step - loss: 114.1227 - val_loss: 650.4308\n",
      "Epoch 99/100\n",
      "18/18 [==============================] - 0s 9ms/step - loss: 114.3759 - val_loss: 639.9561\n",
      "Epoch 100/100\n",
      "18/18 [==============================] - 0s 9ms/step - loss: 114.5358 - val_loss: 688.5625\n"
     ]
    },
    {
     "data": {
      "text/plain": [
       "<keras.callbacks.History at 0x19ff39d1b70>"
      ]
     },
     "execution_count": 83,
     "metadata": {},
     "output_type": "execute_result"
    }
   ],
   "source": [
    "tf.random.set_seed(42)\n",
    "\n",
    "# Let's build an LSTM model with the Functional API\n",
    "inputs = layers.Input(shape=(WINDOW_SIZE))\n",
    "x = layers.Lambda(lambda x: tf.expand_dims(x, axis=1))(inputs)\n",
    "# x = layers.LSTM(128, return_sequences=True)(x)\n",
    "x = layers.LSTM(128, activation='relu')(x)\n",
    "# x = layers.Dense(32, activation='relu')(x)\n",
    "output = layers.Dense(HORIZON)(x)\n",
    "model_5 = tf.keras.Model(inputs=inputs, outputs=output, name='model_5_LSTM')\n",
    "\n",
    "# Compile\n",
    "model_5.compile(loss='mae',\n",
    "                optimizer=tf.keras.optimizers.Adam())\n",
    "\n",
    "# Fit\n",
    "model_5.fit(train_windows,\n",
    "            train_labels,\n",
    "            epochs=100,\n",
    "            verbose=1,\n",
    "            batch_size=128,\n",
    "            validation_data=(test_windows, test_labels),\n",
    "            callbacks=[create_model_checkpoint(model_name=model_5.name)])"
   ]
  },
  {
   "cell_type": "code",
   "execution_count": 84,
   "id": "4fa206e2",
   "metadata": {},
   "outputs": [
    {
     "name": "stdout",
     "output_type": "stream",
     "text": [
      "WARNING:tensorflow:Layer lstm will not use cuDNN kernels since it doesn't meet the criteria. It will use a generic GPU kernel as fallback when running on GPU.\n"
     ]
    },
    {
     "name": "stderr",
     "output_type": "stream",
     "text": [
      "WARNING:tensorflow:Layer lstm will not use cuDNN kernels since it doesn't meet the criteria. It will use a generic GPU kernel as fallback when running on GPU.\n"
     ]
    },
    {
     "name": "stdout",
     "output_type": "stream",
     "text": [
      "18/18 [==============================] - 0s 5ms/step - loss: 610.6474\n"
     ]
    },
    {
     "data": {
      "text/plain": [
       "610.6473999023438"
      ]
     },
     "execution_count": 84,
     "metadata": {},
     "output_type": "execute_result"
    }
   ],
   "source": [
    "# Load in best version of model 5 and evaluate on the test data\n",
    "model_5 = tf.keras.models.load_model('model_experiments/model_5_LSTM')\n",
    "model_5.evaluate(test_windows, test_labels)"
   ]
  },
  {
   "cell_type": "code",
   "execution_count": 85,
   "id": "fffd443b",
   "metadata": {},
   "outputs": [
    {
     "name": "stdout",
     "output_type": "stream",
     "text": [
      "18/18 [==============================] - 0s 3ms/step\n"
     ]
    }
   ],
   "source": [
    "# Make predictions with our LSTM model\n",
    "model_5_preds = make_preds(model_5, test_windows)"
   ]
  },
  {
   "cell_type": "code",
   "execution_count": 86,
   "id": "2d0b5984",
   "metadata": {},
   "outputs": [],
   "source": [
    "# Evaluate model 5 predictions\n",
    "model_5_results = evaluate_preds(y_true=tf.squeeze(test_labels),\n",
    "                                 y_pred=model_5_preds)"
   ]
  },
  {
   "cell_type": "code",
   "execution_count": 87,
   "id": "4d3fdfe4",
   "metadata": {},
   "outputs": [
    {
     "data": {
      "text/plain": [
       "{'mae': 610.6474,\n",
       " 'mse': 1319335.8,\n",
       " 'rmse': 1148.6234,\n",
       " 'mape': 2.751968,\n",
       " 'mase': 1.0657933}"
      ]
     },
     "execution_count": 87,
     "metadata": {},
     "output_type": "execute_result"
    }
   ],
   "source": [
    "model_5_results"
   ]
  },
  {
   "cell_type": "code",
   "execution_count": 88,
   "id": "c140368e",
   "metadata": {},
   "outputs": [
    {
     "data": {
      "text/plain": [
       "{'mae': 567.9802,\n",
       " 'mse': 1147547.0,\n",
       " 'rmse': 1071.2362,\n",
       " 'mape': 2.516525,\n",
       " 'mase': 0.99957}"
      ]
     },
     "execution_count": 88,
     "metadata": {},
     "output_type": "execute_result"
    }
   ],
   "source": [
    "naive_results"
   ]
  },
  {
   "cell_type": "markdown",
   "id": "a6b67d33",
   "metadata": {},
   "source": [
    "**Note:** Because neural networks are such powerful algorithms, they can be used for almost any problem, however, that doesn't mean they'll achieve performant or usable results."
   ]
  },
  {
   "cell_type": "markdown",
   "id": "061fd3b4",
   "metadata": {},
   "source": [
    "## Make a multivariate time series dataset\n",
    "\n",
    "Before we add feature to our time series, what is a feature we can use?\n",
    "\n",
    "One feature we could add is whether or not Elon Musk tweeted on that day...\n",
    "\n",
    "* day 1 - 0\n",
    "* day 2 - 1\n",
    "* day 3 - 0\n",
    "\n",
    "What's a better feature to use?\n",
    "\n",
    "How about the bitcoin halving events..."
   ]
  },
  {
   "cell_type": "code",
   "execution_count": 89,
   "id": "024b7514",
   "metadata": {},
   "outputs": [
    {
     "data": {
      "application/vnd.microsoft.datawrangler.viewer.v0+json": {
       "columns": [
        {
         "name": "Date",
         "rawType": "datetime64[ns]",
         "type": "datetime"
        },
        {
         "name": "Price",
         "rawType": "float64",
         "type": "float"
        }
       ],
       "ref": "95a87c45-2936-4693-9023-13b03afc8dae",
       "rows": [
        [
         "2013-10-01 00:00:00",
         "123.65499"
        ],
        [
         "2013-10-02 00:00:00",
         "125.455"
        ],
        [
         "2013-10-03 00:00:00",
         "108.58483"
        ],
        [
         "2013-10-04 00:00:00",
         "118.67466"
        ],
        [
         "2013-10-05 00:00:00",
         "121.33866"
        ]
       ],
       "shape": {
        "columns": 1,
        "rows": 5
       }
      },
      "text/html": [
       "<div>\n",
       "<style scoped>\n",
       "    .dataframe tbody tr th:only-of-type {\n",
       "        vertical-align: middle;\n",
       "    }\n",
       "\n",
       "    .dataframe tbody tr th {\n",
       "        vertical-align: top;\n",
       "    }\n",
       "\n",
       "    .dataframe thead th {\n",
       "        text-align: right;\n",
       "    }\n",
       "</style>\n",
       "<table border=\"1\" class=\"dataframe\">\n",
       "  <thead>\n",
       "    <tr style=\"text-align: right;\">\n",
       "      <th></th>\n",
       "      <th>Price</th>\n",
       "    </tr>\n",
       "    <tr>\n",
       "      <th>Date</th>\n",
       "      <th></th>\n",
       "    </tr>\n",
       "  </thead>\n",
       "  <tbody>\n",
       "    <tr>\n",
       "      <th>2013-10-01</th>\n",
       "      <td>123.65499</td>\n",
       "    </tr>\n",
       "    <tr>\n",
       "      <th>2013-10-02</th>\n",
       "      <td>125.45500</td>\n",
       "    </tr>\n",
       "    <tr>\n",
       "      <th>2013-10-03</th>\n",
       "      <td>108.58483</td>\n",
       "    </tr>\n",
       "    <tr>\n",
       "      <th>2013-10-04</th>\n",
       "      <td>118.67466</td>\n",
       "    </tr>\n",
       "    <tr>\n",
       "      <th>2013-10-05</th>\n",
       "      <td>121.33866</td>\n",
       "    </tr>\n",
       "  </tbody>\n",
       "</table>\n",
       "</div>"
      ],
      "text/plain": [
       "                Price\n",
       "Date                 \n",
       "2013-10-01  123.65499\n",
       "2013-10-02  125.45500\n",
       "2013-10-03  108.58483\n",
       "2013-10-04  118.67466\n",
       "2013-10-05  121.33866"
      ]
     },
     "execution_count": 89,
     "metadata": {},
     "output_type": "execute_result"
    }
   ],
   "source": [
    "# Let's make a multivariate time series dataset\n",
    "bitcoin_prices.head()"
   ]
  },
  {
   "cell_type": "code",
   "execution_count": 90,
   "id": "283d1236",
   "metadata": {},
   "outputs": [],
   "source": [
    "# Let's add the bitcoin halving events to our dataset\n",
    "block_reward_1 = 50 # 3 January 2009 - this block reward isn't in our dataset\n",
    "block_reward_2 = 25 # 8 November 2012\n",
    "block_reward_3 = 12.5 # 9 July 2016\n",
    "block_reward_4 = 6.25 # 18 May 2020\n",
    "\n",
    "# Block reward dates\n",
    "block_reward_2_datetime = np.datetime64('2012-11-28')\n",
    "block_reward_3_datetime = np.datetime64('2016-07-09')\n",
    "block_reward_4_datetime = np.datetime64('2020-05-18')"
   ]
  },
  {
   "cell_type": "code",
   "execution_count": 91,
   "id": "7be9bcc5",
   "metadata": {},
   "outputs": [
    {
     "data": {
      "text/plain": [
       "(1012, 2421)"
      ]
     },
     "execution_count": 91,
     "metadata": {},
     "output_type": "execute_result"
    }
   ],
   "source": [
    "# Create date ranges of where specific block_reward values should be\n",
    "block_reward_2_days = (block_reward_3_datetime - bitcoin_prices.index[0]).days\n",
    "block_reward_3_days = (block_reward_4_datetime - bitcoin_prices.index[0]).days\n",
    "block_reward_2_days, block_reward_3_days"
   ]
  },
  {
   "cell_type": "code",
   "execution_count": 92,
   "id": "aac64c85",
   "metadata": {},
   "outputs": [],
   "source": [
    "# Add in a block_reward column\n",
    "bitcoin_prices_block = bitcoin_prices.copy()\n",
    "bitcoin_prices_block['block_reward'] = None\n",
    "\n",
    "# Add in block_reward values as a feature to our dataframe\n",
    "bitcoin_prices_block.iloc[:block_reward_2_days, -1] = block_reward_2\n",
    "bitcoin_prices_block.iloc[block_reward_2_days:block_reward_3_days, -1] = block_reward_3\n",
    "bitcoin_prices_block.iloc[block_reward_3_days:, -1] = block_reward_4"
   ]
  },
  {
   "cell_type": "code",
   "execution_count": 93,
   "id": "fd384ff5",
   "metadata": {},
   "outputs": [
    {
     "data": {
      "image/png": "[encoded data removed]",
      "text/plain": [
       "<Figure size 1000x700 with 1 Axes>"
      ]
     },
     "metadata": {},
     "output_type": "display_data"
    }
   ],
   "source": [
    "# Plot the block reward vs price over time\n",
    "from sklearn.preprocessing import minmax_scale\n",
    "scaled_price_block_df = pd.DataFrame(minmax_scale(bitcoin_prices_block[['Price', 'block_reward']]),\n",
    "                                     columns=bitcoin_prices_block.columns,\n",
    "                                     index=bitcoin_prices_block.index)\n",
    "scaled_price_block_df.plot(figsize=(10, 7));"
   ]
  },
  {
   "cell_type": "markdown",
   "id": "7f4ca624",
   "metadata": {},
   "source": [
    "## Making a window dataset with pandas\n",
    "\n",
    "Previously, we have turned our univariate time series into windowed dataset using the helper functions above.\n",
    "\n",
    "However, since we have got multivariate data, these functions won't work.\n",
    "\n",
    "Not to worry, we can use the ``pandas.DataFrame.shift()`` method to window our multivariate data."
   ]
  },
  {
   "cell_type": "code",
   "execution_count": 94,
   "id": "9f9d829a",
   "metadata": {},
   "outputs": [],
   "source": [
    "# Setup dataset hyperparameters\n",
    "HORIZON = 1\n",
    "WINDOW_SIZE = 7"
   ]
  },
  {
   "cell_type": "code",
   "execution_count": 95,
   "id": "5daec40e",
   "metadata": {},
   "outputs": [
    {
     "data": {
      "application/vnd.microsoft.datawrangler.viewer.v0+json": {
       "columns": [
        {
         "name": "Date",
         "rawType": "datetime64[ns]",
         "type": "datetime"
        },
        {
         "name": "Price",
         "rawType": "float64",
         "type": "float"
        },
        {
         "name": "block_reward",
         "rawType": "object",
         "type": "unknown"
        },
        {
         "name": "Price+1",
         "rawType": "float64",
         "type": "float"
        },
        {
         "name": "Price+2",
         "rawType": "float64",
         "type": "float"
        },
        {
         "name": "Price+3",
         "rawType": "float64",
         "type": "float"
        },
        {
         "name": "Price+4",
         "rawType": "float64",
         "type": "float"
        },
        {
         "name": "Price+5",
         "rawType": "float64",
         "type": "float"
        },
        {
         "name": "Price+6",
         "rawType": "float64",
         "type": "float"
        },
        {
         "name": "Price+7",
         "rawType": "float64",
         "type": "float"
        }
       ],
       "ref": "46a7c18e-2256-447a-a1e1-0d1e296bc925",
       "rows": [
        [
         "2013-10-01 00:00:00",
         "123.65499",
         "25",
         null,
         null,
         null,
         null,
         null,
         null,
         null
        ],
        [
         "2013-10-02 00:00:00",
         "125.455",
         "25",
         "123.65499",
         null,
         null,
         null,
         null,
         null,
         null
        ],
        [
         "2013-10-03 00:00:00",
         "108.58483",
         "25",
         "125.455",
         "123.65499",
         null,
         null,
         null,
         null,
         null
        ],
        [
         "2013-10-04 00:00:00",
         "118.67466",
         "25",
         "108.58483",
         "125.455",
         "123.65499",
         null,
         null,
         null,
         null
        ],
        [
         "2013-10-05 00:00:00",
         "121.33866",
         "25",
         "118.67466",
         "108.58483",
         "125.455",
         "123.65499",
         null,
         null,
         null
        ],
        [
         "2013-10-06 00:00:00",
         "120.65533",
         "25",
         "121.33866",
         "118.67466",
         "108.58483",
         "125.455",
         "123.65499",
         null,
         null
        ],
        [
         "2013-10-07 00:00:00",
         "121.795",
         "25",
         "120.65533",
         "121.33866",
         "118.67466",
         "108.58483",
         "125.455",
         "123.65499",
         null
        ],
        [
         "2013-10-08 00:00:00",
         "123.033",
         "25",
         "121.795",
         "120.65533",
         "121.33866",
         "118.67466",
         "108.58483",
         "125.455",
         "123.65499"
        ],
        [
         "2013-10-09 00:00:00",
         "124.049",
         "25",
         "123.033",
         "121.795",
         "120.65533",
         "121.33866",
         "118.67466",
         "108.58483",
         "125.455"
        ],
        [
         "2013-10-10 00:00:00",
         "125.96116",
         "25",
         "124.049",
         "123.033",
         "121.795",
         "120.65533",
         "121.33866",
         "118.67466",
         "108.58483"
        ]
       ],
       "shape": {
        "columns": 9,
        "rows": 10
       }
      },
      "text/html": [
       "<div>\n",
       "<style scoped>\n",
       "    .dataframe tbody tr th:only-of-type {\n",
       "        vertical-align: middle;\n",
       "    }\n",
       "\n",
       "    .dataframe tbody tr th {\n",
       "        vertical-align: top;\n",
       "    }\n",
       "\n",
       "    .dataframe thead th {\n",
       "        text-align: right;\n",
       "    }\n",
       "</style>\n",
       "<table border=\"1\" class=\"dataframe\">\n",
       "  <thead>\n",
       "    <tr style=\"text-align: right;\">\n",
       "      <th></th>\n",
       "      <th>Price</th>\n",
       "      <th>block_reward</th>\n",
       "      <th>Price+1</th>\n",
       "      <th>Price+2</th>\n",
       "      <th>Price+3</th>\n",
       "      <th>Price+4</th>\n",
       "      <th>Price+5</th>\n",
       "      <th>Price+6</th>\n",
       "      <th>Price+7</th>\n",
       "    </tr>\n",
       "    <tr>\n",
       "      <th>Date</th>\n",
       "      <th></th>\n",
       "      <th></th>\n",
       "      <th></th>\n",
       "      <th></th>\n",
       "      <th></th>\n",
       "      <th></th>\n",
       "      <th></th>\n",
       "      <th></th>\n",
       "      <th></th>\n",
       "    </tr>\n",
       "  </thead>\n",
       "  <tbody>\n",
       "    <tr>\n",
       "      <th>2013-10-01</th>\n",
       "      <td>123.65499</td>\n",
       "      <td>25</td>\n",
       "      <td>NaN</td>\n",
       "      <td>NaN</td>\n",
       "      <td>NaN</td>\n",
       "      <td>NaN</td>\n",
       "      <td>NaN</td>\n",
       "      <td>NaN</td>\n",
       "      <td>NaN</td>\n",
       "    </tr>\n",
       "    <tr>\n",
       "      <th>2013-10-02</th>\n",
       "      <td>125.45500</td>\n",
       "      <td>25</td>\n",
       "      <td>123.65499</td>\n",
       "      <td>NaN</td>\n",
       "      <td>NaN</td>\n",
       "      <td>NaN</td>\n",
       "      <td>NaN</td>\n",
       "      <td>NaN</td>\n",
       "      <td>NaN</td>\n",
       "    </tr>\n",
       "    <tr>\n",
       "      <th>2013-10-03</th>\n",
       "      <td>108.58483</td>\n",
       "      <td>25</td>\n",
       "      <td>125.45500</td>\n",
       "      <td>123.65499</td>\n",
       "      <td>NaN</td>\n",
       "      <td>NaN</td>\n",
       "      <td>NaN</td>\n",
       "      <td>NaN</td>\n",
       "      <td>NaN</td>\n",
       "    </tr>\n",
       "    <tr>\n",
       "      <th>2013-10-04</th>\n",
       "      <td>118.67466</td>\n",
       "      <td>25</td>\n",
       "      <td>108.58483</td>\n",
       "      <td>125.45500</td>\n",
       "      <td>123.65499</td>\n",
       "      <td>NaN</td>\n",
       "      <td>NaN</td>\n",
       "      <td>NaN</td>\n",
       "      <td>NaN</td>\n",
       "    </tr>\n",
       "    <tr>\n",
       "      <th>2013-10-05</th>\n",
       "      <td>121.33866</td>\n",
       "      <td>25</td>\n",
       "      <td>118.67466</td>\n",
       "      <td>108.58483</td>\n",
       "      <td>125.45500</td>\n",
       "      <td>123.65499</td>\n",
       "      <td>NaN</td>\n",
       "      <td>NaN</td>\n",
       "      <td>NaN</td>\n",
       "    </tr>\n",
       "    <tr>\n",
       "      <th>2013-10-06</th>\n",
       "      <td>120.65533</td>\n",
       "      <td>25</td>\n",
       "      <td>121.33866</td>\n",
       "      <td>118.67466</td>\n",
       "      <td>108.58483</td>\n",
       "      <td>125.45500</td>\n",
       "      <td>123.65499</td>\n",
       "      <td>NaN</td>\n",
       "      <td>NaN</td>\n",
       "    </tr>\n",
       "    <tr>\n",
       "      <th>2013-10-07</th>\n",
       "      <td>121.79500</td>\n",
       "      <td>25</td>\n",
       "      <td>120.65533</td>\n",
       "      <td>121.33866</td>\n",
       "      <td>118.67466</td>\n",
       "      <td>108.58483</td>\n",
       "      <td>125.45500</td>\n",
       "      <td>123.65499</td>\n",
       "      <td>NaN</td>\n",
       "    </tr>\n",
       "    <tr>\n",
       "      <th>2013-10-08</th>\n",
       "      <td>123.03300</td>\n",
       "      <td>25</td>\n",
       "      <td>121.79500</td>\n",
       "      <td>120.65533</td>\n",
       "      <td>121.33866</td>\n",
       "      <td>118.67466</td>\n",
       "      <td>108.58483</td>\n",
       "      <td>125.45500</td>\n",
       "      <td>123.65499</td>\n",
       "    </tr>\n",
       "    <tr>\n",
       "      <th>2013-10-09</th>\n",
       "      <td>124.04900</td>\n",
       "      <td>25</td>\n",
       "      <td>123.03300</td>\n",
       "      <td>121.79500</td>\n",
       "      <td>120.65533</td>\n",
       "      <td>121.33866</td>\n",
       "      <td>118.67466</td>\n",
       "      <td>108.58483</td>\n",
       "      <td>125.45500</td>\n",
       "    </tr>\n",
       "    <tr>\n",
       "      <th>2013-10-10</th>\n",
       "      <td>125.96116</td>\n",
       "      <td>25</td>\n",
       "      <td>124.04900</td>\n",
       "      <td>123.03300</td>\n",
       "      <td>121.79500</td>\n",
       "      <td>120.65533</td>\n",
       "      <td>121.33866</td>\n",
       "      <td>118.67466</td>\n",
       "      <td>108.58483</td>\n",
       "    </tr>\n",
       "  </tbody>\n",
       "</table>\n",
       "</div>"
      ],
      "text/plain": [
       "                Price block_reward    Price+1    Price+2    Price+3  \\\n",
       "Date                                                                  \n",
       "2013-10-01  123.65499           25        NaN        NaN        NaN   \n",
       "2013-10-02  125.45500           25  123.65499        NaN        NaN   \n",
       "2013-10-03  108.58483           25  125.45500  123.65499        NaN   \n",
       "2013-10-04  118.67466           25  108.58483  125.45500  123.65499   \n",
       "2013-10-05  121.33866           25  118.67466  108.58483  125.45500   \n",
       "2013-10-06  120.65533           25  121.33866  118.67466  108.58483   \n",
       "2013-10-07  121.79500           25  120.65533  121.33866  118.67466   \n",
       "2013-10-08  123.03300           25  121.79500  120.65533  121.33866   \n",
       "2013-10-09  124.04900           25  123.03300  121.79500  120.65533   \n",
       "2013-10-10  125.96116           25  124.04900  123.03300  121.79500   \n",
       "\n",
       "              Price+4    Price+5    Price+6    Price+7  \n",
       "Date                                                    \n",
       "2013-10-01        NaN        NaN        NaN        NaN  \n",
       "2013-10-02        NaN        NaN        NaN        NaN  \n",
       "2013-10-03        NaN        NaN        NaN        NaN  \n",
       "2013-10-04        NaN        NaN        NaN        NaN  \n",
       "2013-10-05  123.65499        NaN        NaN        NaN  \n",
       "2013-10-06  125.45500  123.65499        NaN        NaN  \n",
       "2013-10-07  108.58483  125.45500  123.65499        NaN  \n",
       "2013-10-08  118.67466  108.58483  125.45500  123.65499  \n",
       "2013-10-09  121.33866  118.67466  108.58483  125.45500  \n",
       "2013-10-10  120.65533  121.33866  118.67466  108.58483  "
      ]
     },
     "execution_count": 95,
     "metadata": {},
     "output_type": "execute_result"
    }
   ],
   "source": [
    "# Make a copy of the Bitcoin historical data with block reward feature\n",
    "bitcoin_prices_windowed = bitcoin_prices_block.copy()\n",
    "\n",
    "# Add windowed columns\n",
    "for i in range(WINDOW_SIZE): # shift values for each step in WINDOW_SIZE\n",
    "    bitcoin_prices_windowed[f'Price+{i+1}'] = bitcoin_prices_windowed['Price'].shift(periods=i+1)\n",
    "bitcoin_prices_windowed.head(10)"
   ]
  },
  {
   "cell_type": "markdown",
   "id": "fe3e9a27",
   "metadata": {},
   "source": [
    "What we have done is created a way to window our dataset directly from a pandas dataframe.\n",
    "\n",
    "```\n",
    "[0, 1, 2, 3, 4, 5, 6, block_reward] -> [7]\n",
    "[1, 2, 3, 4, 5, 6, 7, block_reward] -> [8]\n",
    "[2, 3, 4, 5, 6, 7, 8, block_reward] -> [9]\n",
    "```"
   ]
  },
  {
   "cell_type": "code",
   "execution_count": 96,
   "id": "3f86d831",
   "metadata": {},
   "outputs": [
    {
     "data": {
      "application/vnd.microsoft.datawrangler.viewer.v0+json": {
       "columns": [
        {
         "name": "Date",
         "rawType": "datetime64[ns]",
         "type": "datetime"
        },
        {
         "name": "block_reward",
         "rawType": "float32",
         "type": "float"
        },
        {
         "name": "Price+1",
         "rawType": "float32",
         "type": "float"
        },
        {
         "name": "Price+2",
         "rawType": "float32",
         "type": "float"
        },
        {
         "name": "Price+3",
         "rawType": "float32",
         "type": "float"
        },
        {
         "name": "Price+4",
         "rawType": "float32",
         "type": "float"
        },
        {
         "name": "Price+5",
         "rawType": "float32",
         "type": "float"
        },
        {
         "name": "Price+6",
         "rawType": "float32",
         "type": "float"
        },
        {
         "name": "Price+7",
         "rawType": "float32",
         "type": "float"
        }
       ],
       "ref": "374b0999-19c3-4bd9-acc4-4c0914f399fd",
       "rows": [
        [
         "2013-10-08 00:00:00",
         "25.0",
         "121.795",
         "120.65533",
         "121.33866",
         "118.67466",
         "108.58483",
         "125.455",
         "123.65499"
        ],
        [
         "2013-10-09 00:00:00",
         "25.0",
         "123.033",
         "121.795",
         "120.65533",
         "121.33866",
         "118.67466",
         "108.58483",
         "125.455"
        ],
        [
         "2013-10-10 00:00:00",
         "25.0",
         "124.049",
         "123.033",
         "121.795",
         "120.65533",
         "121.33866",
         "118.67466",
         "108.58483"
        ],
        [
         "2013-10-11 00:00:00",
         "25.0",
         "125.96116",
         "124.049",
         "123.033",
         "121.795",
         "120.65533",
         "121.33866",
         "118.67466"
        ],
        [
         "2013-10-12 00:00:00",
         "25.0",
         "125.27966",
         "125.96116",
         "124.049",
         "123.033",
         "121.795",
         "120.65533",
         "121.33866"
        ]
       ],
       "shape": {
        "columns": 8,
        "rows": 5
       }
      },
      "text/html": [
       "<div>\n",
       "<style scoped>\n",
       "    .dataframe tbody tr th:only-of-type {\n",
       "        vertical-align: middle;\n",
       "    }\n",
       "\n",
       "    .dataframe tbody tr th {\n",
       "        vertical-align: top;\n",
       "    }\n",
       "\n",
       "    .dataframe thead th {\n",
       "        text-align: right;\n",
       "    }\n",
       "</style>\n",
       "<table border=\"1\" class=\"dataframe\">\n",
       "  <thead>\n",
       "    <tr style=\"text-align: right;\">\n",
       "      <th></th>\n",
       "      <th>block_reward</th>\n",
       "      <th>Price+1</th>\n",
       "      <th>Price+2</th>\n",
       "      <th>Price+3</th>\n",
       "      <th>Price+4</th>\n",
       "      <th>Price+5</th>\n",
       "      <th>Price+6</th>\n",
       "      <th>Price+7</th>\n",
       "    </tr>\n",
       "    <tr>\n",
       "      <th>Date</th>\n",
       "      <th></th>\n",
       "      <th></th>\n",
       "      <th></th>\n",
       "      <th></th>\n",
       "      <th></th>\n",
       "      <th></th>\n",
       "      <th></th>\n",
       "      <th></th>\n",
       "    </tr>\n",
       "  </thead>\n",
       "  <tbody>\n",
       "    <tr>\n",
       "      <th>2013-10-08</th>\n",
       "      <td>25.0</td>\n",
       "      <td>121.794998</td>\n",
       "      <td>120.655327</td>\n",
       "      <td>121.338661</td>\n",
       "      <td>118.674660</td>\n",
       "      <td>108.584831</td>\n",
       "      <td>125.455002</td>\n",
       "      <td>123.654991</td>\n",
       "    </tr>\n",
       "    <tr>\n",
       "      <th>2013-10-09</th>\n",
       "      <td>25.0</td>\n",
       "      <td>123.032997</td>\n",
       "      <td>121.794998</td>\n",
       "      <td>120.655327</td>\n",
       "      <td>121.338661</td>\n",
       "      <td>118.674660</td>\n",
       "      <td>108.584831</td>\n",
       "      <td>125.455002</td>\n",
       "    </tr>\n",
       "    <tr>\n",
       "      <th>2013-10-10</th>\n",
       "      <td>25.0</td>\n",
       "      <td>124.049004</td>\n",
       "      <td>123.032997</td>\n",
       "      <td>121.794998</td>\n",
       "      <td>120.655327</td>\n",
       "      <td>121.338661</td>\n",
       "      <td>118.674660</td>\n",
       "      <td>108.584831</td>\n",
       "    </tr>\n",
       "    <tr>\n",
       "      <th>2013-10-11</th>\n",
       "      <td>25.0</td>\n",
       "      <td>125.961159</td>\n",
       "      <td>124.049004</td>\n",
       "      <td>123.032997</td>\n",
       "      <td>121.794998</td>\n",
       "      <td>120.655327</td>\n",
       "      <td>121.338661</td>\n",
       "      <td>118.674660</td>\n",
       "    </tr>\n",
       "    <tr>\n",
       "      <th>2013-10-12</th>\n",
       "      <td>25.0</td>\n",
       "      <td>125.279663</td>\n",
       "      <td>125.961159</td>\n",
       "      <td>124.049004</td>\n",
       "      <td>123.032997</td>\n",
       "      <td>121.794998</td>\n",
       "      <td>120.655327</td>\n",
       "      <td>121.338661</td>\n",
       "    </tr>\n",
       "  </tbody>\n",
       "</table>\n",
       "</div>"
      ],
      "text/plain": [
       "            block_reward     Price+1     Price+2     Price+3     Price+4  \\\n",
       "Date                                                                       \n",
       "2013-10-08          25.0  121.794998  120.655327  121.338661  118.674660   \n",
       "2013-10-09          25.0  123.032997  121.794998  120.655327  121.338661   \n",
       "2013-10-10          25.0  124.049004  123.032997  121.794998  120.655327   \n",
       "2013-10-11          25.0  125.961159  124.049004  123.032997  121.794998   \n",
       "2013-10-12          25.0  125.279663  125.961159  124.049004  123.032997   \n",
       "\n",
       "               Price+5     Price+6     Price+7  \n",
       "Date                                            \n",
       "2013-10-08  108.584831  125.455002  123.654991  \n",
       "2013-10-09  118.674660  108.584831  125.455002  \n",
       "2013-10-10  121.338661  118.674660  108.584831  \n",
       "2013-10-11  120.655327  121.338661  118.674660  \n",
       "2013-10-12  121.794998  120.655327  121.338661  "
      ]
     },
     "execution_count": 96,
     "metadata": {},
     "output_type": "execute_result"
    }
   ],
   "source": [
    "# Create X (windows) and Y (horizons) features\n",
    "X = bitcoin_prices_windowed.dropna().drop('Price', axis=1).astype(np.float32)\n",
    "y = bitcoin_prices_windowed.dropna()['Price'].astype(np.float32)\n",
    "X.head()"
   ]
  },
  {
   "cell_type": "code",
   "execution_count": 97,
   "id": "ac7a5466",
   "metadata": {},
   "outputs": [
    {
     "data": {
      "application/vnd.microsoft.datawrangler.viewer.v0+json": {
       "columns": [
        {
         "name": "Date",
         "rawType": "datetime64[ns]",
         "type": "datetime"
        },
        {
         "name": "Price",
         "rawType": "float32",
         "type": "float"
        }
       ],
       "ref": "fc5c934b-5d07-4539-a9be-bd27dd087e5b",
       "rows": [
        [
         "2013-10-08 00:00:00",
         "123.033"
        ],
        [
         "2013-10-09 00:00:00",
         "124.049"
        ],
        [
         "2013-10-10 00:00:00",
         "125.96116"
        ],
        [
         "2013-10-11 00:00:00",
         "125.27966"
        ],
        [
         "2013-10-12 00:00:00",
         "125.9275"
        ]
       ],
       "shape": {
        "columns": 1,
        "rows": 5
       }
      },
      "text/plain": [
       "Date\n",
       "2013-10-08    123.032997\n",
       "2013-10-09    124.049004\n",
       "2013-10-10    125.961159\n",
       "2013-10-11    125.279663\n",
       "2013-10-12    125.927498\n",
       "Name: Price, dtype: float32"
      ]
     },
     "execution_count": 97,
     "metadata": {},
     "output_type": "execute_result"
    }
   ],
   "source": [
    "y.head()"
   ]
  },
  {
   "cell_type": "code",
   "execution_count": 98,
   "id": "d05edde9",
   "metadata": {},
   "outputs": [],
   "source": [
    "# Make train and test sets using indexing\n",
    "split_size = int(len(X) * 0.8)\n",
    "X_train, y_train = X[:split_size], y[:split_size]\n",
    "X_test, y_test = X[split_size:], y[split_size:]"
   ]
  },
  {
   "cell_type": "markdown",
   "id": "5088ee33",
   "metadata": {},
   "source": [
    "## Model 6: Dense (multivariate time series)"
   ]
  },
  {
   "cell_type": "code",
   "execution_count": 99,
   "id": "711f27de",
   "metadata": {},
   "outputs": [
    {
     "name": "stdout",
     "output_type": "stream",
     "text": [
      "Epoch 1/100\n",
      "13/18 [====================>.........] - ETA: 0s - loss: 1366.9335INFO:tensorflow:Assets written to: model_experiments\\model_6_dense_multivariate\\assets\n"
     ]
    },
    {
     "name": "stderr",
     "output_type": "stream",
     "text": [
      "INFO:tensorflow:Assets written to: model_experiments\\model_6_dense_multivariate\\assets\n"
     ]
    },
    {
     "name": "stdout",
     "output_type": "stream",
     "text": [
      "18/18 [==============================] - 1s 51ms/step - loss: 1179.6625 - val_loss: 1300.6200\n",
      "Epoch 2/100\n",
      "14/18 [======================>.......] - ETA: 0s - loss: 279.3412INFO:tensorflow:Assets written to: model_experiments\\model_6_dense_multivariate\\assets\n"
     ]
    },
    {
     "name": "stderr",
     "output_type": "stream",
     "text": [
      "INFO:tensorflow:Assets written to: model_experiments\\model_6_dense_multivariate\\assets\n"
     ]
    },
    {
     "name": "stdout",
     "output_type": "stream",
     "text": [
      "18/18 [==============================] - 1s 44ms/step - loss: 277.5049 - val_loss: 1072.3870\n",
      "Epoch 3/100\n",
      "18/18 [==============================] - 0s 6ms/step - loss: 193.9977 - val_loss: 1208.2516\n",
      "Epoch 4/100\n",
      "14/18 [======================>.......] - ETA: 0s - loss: 180.1977INFO:tensorflow:Assets written to: model_experiments\\model_6_dense_multivariate\\assets\n"
     ]
    },
    {
     "name": "stderr",
     "output_type": "stream",
     "text": [
      "INFO:tensorflow:Assets written to: model_experiments\\model_6_dense_multivariate\\assets\n"
     ]
    },
    {
     "name": "stdout",
     "output_type": "stream",
     "text": [
      "18/18 [==============================] - 1s 38ms/step - loss: 173.6933 - val_loss: 951.4869\n",
      "Epoch 5/100\n",
      "13/18 [====================>.........] - ETA: 0s - loss: 154.9160INFO:tensorflow:Assets written to: model_experiments\\model_6_dense_multivariate\\assets\n"
     ]
    },
    {
     "name": "stderr",
     "output_type": "stream",
     "text": [
      "INFO:tensorflow:Assets written to: model_experiments\\model_6_dense_multivariate\\assets\n"
     ]
    },
    {
     "name": "stdout",
     "output_type": "stream",
     "text": [
      "18/18 [==============================] - 1s 64ms/step - loss: 150.4595 - val_loss: 801.9962\n",
      "Epoch 6/100\n",
      "13/18 [====================>.........] - ETA: 0s - loss: 134.5329INFO:tensorflow:Assets written to: model_experiments\\model_6_dense_multivariate\\assets\n"
     ]
    },
    {
     "name": "stderr",
     "output_type": "stream",
     "text": [
      "INFO:tensorflow:Assets written to: model_experiments\\model_6_dense_multivariate\\assets\n"
     ]
    },
    {
     "name": "stdout",
     "output_type": "stream",
     "text": [
      "18/18 [==============================] - 1s 39ms/step - loss: 135.9027 - val_loss: 734.1060\n",
      "Epoch 7/100\n",
      "18/18 [==============================] - 0s 7ms/step - loss: 129.5992 - val_loss: 823.0670\n",
      "Epoch 8/100\n",
      "15/18 [========================>.....] - ETA: 0s - loss: 126.5934INFO:tensorflow:Assets written to: model_experiments\\model_6_dense_multivariate\\assets\n"
     ]
    },
    {
     "name": "stderr",
     "output_type": "stream",
     "text": [
      "INFO:tensorflow:Assets written to: model_experiments\\model_6_dense_multivariate\\assets\n"
     ]
    },
    {
     "name": "stdout",
     "output_type": "stream",
     "text": [
      "18/18 [==============================] - 1s 44ms/step - loss: 127.2985 - val_loss: 640.6957\n",
      "Epoch 9/100\n",
      "18/18 [==============================] - 0s 7ms/step - loss: 120.0917 - val_loss: 796.1938\n",
      "Epoch 10/100\n",
      "18/18 [==============================] - 0s 6ms/step - loss: 131.8065 - val_loss: 675.2334\n",
      "Epoch 11/100\n",
      "18/18 [==============================] - 0s 6ms/step - loss: 122.5109 - val_loss: 864.2612\n",
      "Epoch 12/100\n",
      "18/18 [==============================] - 0s 6ms/step - loss: 142.8744 - val_loss: 988.8859\n",
      "Epoch 13/100\n",
      "16/18 [=========================>....] - ETA: 0s - loss: 135.7889INFO:tensorflow:Assets written to: model_experiments\\model_6_dense_multivariate\\assets\n"
     ]
    },
    {
     "name": "stderr",
     "output_type": "stream",
     "text": [
      "INFO:tensorflow:Assets written to: model_experiments\\model_6_dense_multivariate\\assets\n"
     ]
    },
    {
     "name": "stdout",
     "output_type": "stream",
     "text": [
      "18/18 [==============================] - 1s 39ms/step - loss: 136.6538 - val_loss: 590.1800\n",
      "Epoch 14/100\n",
      " 8/18 [============>.................] - ETA: 0s - loss: 111.2958INFO:tensorflow:Assets written to: model_experiments\\model_6_dense_multivariate\\assets\n"
     ]
    },
    {
     "name": "stderr",
     "output_type": "stream",
     "text": [
      "INFO:tensorflow:Assets written to: model_experiments\\model_6_dense_multivariate\\assets\n"
     ]
    },
    {
     "name": "stdout",
     "output_type": "stream",
     "text": [
      "18/18 [==============================] - 1s 42ms/step - loss: 113.4811 - val_loss: 588.8090\n",
      "Epoch 15/100\n",
      "18/18 [==============================] - 0s 7ms/step - loss: 111.9555 - val_loss: 593.5563\n",
      "Epoch 16/100\n",
      "13/18 [====================>.........] - ETA: 0s - loss: 111.1818INFO:tensorflow:Assets written to: model_experiments\\model_6_dense_multivariate\\assets\n"
     ]
    },
    {
     "name": "stderr",
     "output_type": "stream",
     "text": [
      "INFO:tensorflow:Assets written to: model_experiments\\model_6_dense_multivariate\\assets\n"
     ]
    },
    {
     "name": "stdout",
     "output_type": "stream",
     "text": [
      "18/18 [==============================] - 1s 38ms/step - loss: 110.6206 - val_loss: 584.1122\n",
      "Epoch 17/100\n",
      "18/18 [==============================] - 0s 6ms/step - loss: 115.6197 - val_loss: 652.2092\n",
      "Epoch 18/100\n",
      "18/18 [==============================] - 0s 7ms/step - loss: 114.9945 - val_loss: 592.3343\n",
      "Epoch 19/100\n",
      "18/18 [==============================] - 0s 7ms/step - loss: 114.2909 - val_loss: 599.1219\n",
      "Epoch 20/100\n",
      "16/18 [=========================>....] - ETA: 0s - loss: 108.3330INFO:tensorflow:Assets written to: model_experiments\\model_6_dense_multivariate\\assets\n"
     ]
    },
    {
     "name": "stderr",
     "output_type": "stream",
     "text": [
      "INFO:tensorflow:Assets written to: model_experiments\\model_6_dense_multivariate\\assets\n"
     ]
    },
    {
     "name": "stdout",
     "output_type": "stream",
     "text": [
      "18/18 [==============================] - 1s 44ms/step - loss: 109.2311 - val_loss: 575.8736\n",
      "Epoch 21/100\n",
      "18/18 [==============================] - 0s 6ms/step - loss: 116.0286 - val_loss: 705.2635\n",
      "Epoch 22/100\n",
      "18/18 [==============================] - 0s 7ms/step - loss: 117.4877 - val_loss: 609.1259\n",
      "Epoch 23/100\n",
      "18/18 [==============================] - 0s 6ms/step - loss: 109.1196 - val_loss: 619.3621\n",
      "Epoch 24/100\n",
      "18/18 [==============================] - 0s 6ms/step - loss: 109.9676 - val_loss: 653.4756\n",
      "Epoch 25/100\n",
      "15/18 [========================>.....] - ETA: 0s - loss: 109.2266INFO:tensorflow:Assets written to: model_experiments\\model_6_dense_multivariate\\assets\n"
     ]
    },
    {
     "name": "stderr",
     "output_type": "stream",
     "text": [
      "INFO:tensorflow:Assets written to: model_experiments\\model_6_dense_multivariate\\assets\n"
     ]
    },
    {
     "name": "stdout",
     "output_type": "stream",
     "text": [
      "18/18 [==============================] - 1s 38ms/step - loss: 106.7477 - val_loss: 572.6187\n",
      "Epoch 26/100\n",
      "18/18 [==============================] - 0s 6ms/step - loss: 106.9009 - val_loss: 585.9241\n",
      "Epoch 27/100\n",
      "18/18 [==============================] - 0s 6ms/step - loss: 105.5584 - val_loss: 588.1370\n",
      "Epoch 28/100\n",
      "15/18 [========================>.....] - ETA: 0s - loss: 105.3541INFO:tensorflow:Assets written to: model_experiments\\model_6_dense_multivariate\\assets\n"
     ]
    },
    {
     "name": "stderr",
     "output_type": "stream",
     "text": [
      "INFO:tensorflow:Assets written to: model_experiments\\model_6_dense_multivariate\\assets\n"
     ]
    },
    {
     "name": "stdout",
     "output_type": "stream",
     "text": [
      "18/18 [==============================] - 1s 42ms/step - loss: 105.9922 - val_loss: 572.4946\n",
      "Epoch 29/100\n",
      "18/18 [==============================] - 0s 7ms/step - loss: 105.4752 - val_loss: 586.4230\n",
      "Epoch 30/100\n",
      "18/18 [==============================] - 0s 6ms/step - loss: 117.3711 - val_loss: 582.6304\n",
      "Epoch 31/100\n",
      "18/18 [==============================] - 0s 7ms/step - loss: 105.4986 - val_loss: 576.9310\n",
      "Epoch 32/100\n",
      "18/18 [==============================] - 0s 7ms/step - loss: 106.9654 - val_loss: 583.6071\n",
      "Epoch 33/100\n",
      "18/18 [==============================] - 0s 6ms/step - loss: 109.0075 - val_loss: 572.7100\n",
      "Epoch 34/100\n",
      "18/18 [==============================] - 0s 6ms/step - loss: 107.2031 - val_loss: 631.9904\n",
      "Epoch 35/100\n",
      "18/18 [==============================] - 0s 5ms/step - loss: 106.8890 - val_loss: 603.0560\n",
      "Epoch 36/100\n",
      "18/18 [==============================] - 0s 6ms/step - loss: 106.3176 - val_loss: 580.0932\n",
      "Epoch 37/100\n",
      "16/18 [=========================>....] - ETA: 0s - loss: 114.3546INFO:tensorflow:Assets written to: model_experiments\\model_6_dense_multivariate\\assets\n"
     ]
    },
    {
     "name": "stderr",
     "output_type": "stream",
     "text": [
      "INFO:tensorflow:Assets written to: model_experiments\\model_6_dense_multivariate\\assets\n"
     ]
    },
    {
     "name": "stdout",
     "output_type": "stream",
     "text": [
      "18/18 [==============================] - 1s 39ms/step - loss: 113.8129 - val_loss: 566.5849\n",
      "Epoch 38/100\n",
      "18/18 [==============================] - 0s 7ms/step - loss: 109.8504 - val_loss: 572.5542\n",
      "Epoch 39/100\n",
      "18/18 [==============================] - 0s 6ms/step - loss: 106.5971 - val_loss: 568.7246\n",
      "Epoch 40/100\n",
      "18/18 [==============================] - 0s 7ms/step - loss: 104.8811 - val_loss: 582.9760\n",
      "Epoch 41/100\n",
      "18/18 [==============================] - 0s 7ms/step - loss: 108.7246 - val_loss: 568.5804\n",
      "Epoch 42/100\n",
      "18/18 [==============================] - 0s 7ms/step - loss: 110.2371 - val_loss: 588.8271\n",
      "Epoch 43/100\n",
      "18/18 [==============================] - 0s 7ms/step - loss: 106.1409 - val_loss: 717.4249\n",
      "Epoch 44/100\n",
      "14/18 [======================>.......] - ETA: 0s - loss: 111.6230INFO:tensorflow:Assets written to: model_experiments\\model_6_dense_multivariate\\assets\n"
     ]
    },
    {
     "name": "stderr",
     "output_type": "stream",
     "text": [
      "INFO:tensorflow:Assets written to: model_experiments\\model_6_dense_multivariate\\assets\n"
     ]
    },
    {
     "name": "stdout",
     "output_type": "stream",
     "text": [
      "18/18 [==============================] - 1s 36ms/step - loss: 112.3106 - val_loss: 565.9647\n",
      "Epoch 45/100\n",
      "18/18 [==============================] - 0s 6ms/step - loss: 107.9610 - val_loss: 570.5912\n",
      "Epoch 46/100\n",
      "18/18 [==============================] - 0s 6ms/step - loss: 110.1310 - val_loss: 741.0803\n",
      "Epoch 47/100\n",
      "18/18 [==============================] - 0s 6ms/step - loss: 120.5014 - val_loss: 595.5904\n",
      "Epoch 48/100\n",
      "18/18 [==============================] - 0s 7ms/step - loss: 109.9509 - val_loss: 596.6554\n",
      "Epoch 49/100\n",
      "18/18 [==============================] - 0s 6ms/step - loss: 113.2706 - val_loss: 877.4705\n",
      "Epoch 50/100\n",
      "18/18 [==============================] - 0s 6ms/step - loss: 129.5717 - val_loss: 724.8091\n",
      "Epoch 51/100\n",
      "18/18 [==============================] - 0s 6ms/step - loss: 115.0866 - val_loss: 593.0822\n",
      "Epoch 52/100\n",
      "18/18 [==============================] - 0s 7ms/step - loss: 111.0973 - val_loss: 567.5728\n",
      "Epoch 53/100\n",
      "18/18 [==============================] - 0s 7ms/step - loss: 110.4045 - val_loss: 566.9249\n",
      "Epoch 54/100\n",
      "15/18 [========================>.....] - ETA: 0s - loss: 106.6426INFO:tensorflow:Assets written to: model_experiments\\model_6_dense_multivariate\\assets\n"
     ]
    },
    {
     "name": "stderr",
     "output_type": "stream",
     "text": [
      "INFO:tensorflow:Assets written to: model_experiments\\model_6_dense_multivariate\\assets\n"
     ]
    },
    {
     "name": "stdout",
     "output_type": "stream",
     "text": [
      "18/18 [==============================] - 1s 38ms/step - loss: 105.3216 - val_loss: 565.8334\n",
      "Epoch 55/100\n",
      "18/18 [==============================] - 0s 6ms/step - loss: 109.9467 - val_loss: 625.9894\n",
      "Epoch 56/100\n",
      "18/18 [==============================] - 0s 6ms/step - loss: 112.4280 - val_loss: 799.3447\n",
      "Epoch 57/100\n",
      "18/18 [==============================] - 0s 6ms/step - loss: 111.1818 - val_loss: 651.4065\n",
      "Epoch 58/100\n",
      "18/18 [==============================] - 0s 6ms/step - loss: 105.7972 - val_loss: 569.8910\n",
      "Epoch 59/100\n",
      "18/18 [==============================] - 0s 6ms/step - loss: 103.8360 - val_loss: 588.0858\n",
      "Epoch 60/100\n",
      "18/18 [==============================] - 0s 6ms/step - loss: 107.0566 - val_loss: 569.2447\n",
      "Epoch 61/100\n",
      "18/18 [==============================] - 0s 6ms/step - loss: 107.7141 - val_loss: 570.5379\n",
      "Epoch 62/100\n",
      "18/18 [==============================] - 0s 6ms/step - loss: 104.4025 - val_loss: 579.2227\n",
      "Epoch 63/100\n",
      "18/18 [==============================] - 0s 6ms/step - loss: 105.2597 - val_loss: 621.0382\n",
      "Epoch 64/100\n",
      "18/18 [==============================] - 0s 6ms/step - loss: 113.7837 - val_loss: 572.4183\n",
      "Epoch 65/100\n",
      "18/18 [==============================] - 0s 6ms/step - loss: 105.1743 - val_loss: 574.7344\n",
      "Epoch 66/100\n",
      "18/18 [==============================] - 0s 6ms/step - loss: 106.3400 - val_loss: 574.6240\n",
      "Epoch 67/100\n",
      "18/18 [==============================] - 0s 6ms/step - loss: 105.2402 - val_loss: 661.8896\n",
      "Epoch 68/100\n",
      "18/18 [==============================] - 0s 6ms/step - loss: 105.2492 - val_loss: 567.5919\n",
      "Epoch 69/100\n",
      "18/18 [==============================] - 0s 8ms/step - loss: 106.1829 - val_loss: 608.6219\n",
      "Epoch 70/100\n",
      "18/18 [==============================] - 0s 6ms/step - loss: 116.2158 - val_loss: 585.1523\n",
      "Epoch 71/100\n",
      "18/18 [==============================] - 0s 6ms/step - loss: 108.6956 - val_loss: 570.5869\n",
      "Epoch 72/100\n",
      "18/18 [==============================] - 0s 6ms/step - loss: 112.8596 - val_loss: 672.6993\n",
      "Epoch 73/100\n",
      "18/18 [==============================] - 0s 6ms/step - loss: 111.4468 - val_loss: 690.6202\n",
      "Epoch 74/100\n",
      "18/18 [==============================] - 0s 6ms/step - loss: 108.7400 - val_loss: 622.3415\n",
      "Epoch 75/100\n",
      "18/18 [==============================] - 0s 15ms/step - loss: 107.8409 - val_loss: 574.5593\n",
      "Epoch 76/100\n",
      "18/18 [==============================] - 0s 12ms/step - loss: 107.1774 - val_loss: 603.3892\n",
      "Epoch 77/100\n",
      "18/18 [==============================] - 0s 6ms/step - loss: 112.4522 - val_loss: 571.4897\n",
      "Epoch 78/100\n",
      "17/18 [===========================>..] - ETA: 0s - loss: 106.6856INFO:tensorflow:Assets written to: model_experiments\\model_6_dense_multivariate\\assets\n"
     ]
    },
    {
     "name": "stderr",
     "output_type": "stream",
     "text": [
      "INFO:tensorflow:Assets written to: model_experiments\\model_6_dense_multivariate\\assets\n"
     ]
    },
    {
     "name": "stdout",
     "output_type": "stream",
     "text": [
      "18/18 [==============================] - 1s 37ms/step - loss: 105.7189 - val_loss: 565.0009\n",
      "Epoch 79/100\n",
      "18/18 [==============================] - 0s 6ms/step - loss: 106.1509 - val_loss: 637.6981\n",
      "Epoch 80/100\n",
      "18/18 [==============================] - 0s 6ms/step - loss: 111.1866 - val_loss: 604.9925\n",
      "Epoch 81/100\n",
      "18/18 [==============================] - 0s 6ms/step - loss: 104.3528 - val_loss: 576.2415\n",
      "Epoch 82/100\n",
      "18/18 [==============================] - 0s 6ms/step - loss: 124.1889 - val_loss: 579.0472\n",
      "Epoch 83/100\n",
      "18/18 [==============================] - 0s 6ms/step - loss: 116.4369 - val_loss: 827.7245\n",
      "Epoch 84/100\n",
      "18/18 [==============================] - 0s 6ms/step - loss: 120.4577 - val_loss: 569.9417\n",
      "Epoch 85/100\n",
      "18/18 [==============================] - 0s 7ms/step - loss: 103.9049 - val_loss: 591.0974\n",
      "Epoch 86/100\n",
      "18/18 [==============================] - 0s 6ms/step - loss: 104.1425 - val_loss: 589.4045\n",
      "Epoch 87/100\n",
      "18/18 [==============================] - 0s 6ms/step - loss: 105.2749 - val_loss: 581.5331\n",
      "Epoch 88/100\n",
      "18/18 [==============================] - 0s 6ms/step - loss: 106.1107 - val_loss: 623.4660\n",
      "Epoch 89/100\n",
      "18/18 [==============================] - 0s 6ms/step - loss: 106.4498 - val_loss: 583.8380\n",
      "Epoch 90/100\n",
      "18/18 [==============================] - 0s 6ms/step - loss: 103.9116 - val_loss: 570.5585\n",
      "Epoch 91/100\n",
      "18/18 [==============================] - 0s 9ms/step - loss: 107.2512 - val_loss: 599.6919\n",
      "Epoch 92/100\n",
      "18/18 [==============================] - 0s 11ms/step - loss: 109.7346 - val_loss: 743.5004\n",
      "Epoch 93/100\n",
      "18/18 [==============================] - 0s 12ms/step - loss: 111.4953 - val_loss: 672.0583\n",
      "Epoch 94/100\n",
      "18/18 [==============================] - 0s 10ms/step - loss: 113.9263 - val_loss: 583.8837\n",
      "Epoch 95/100\n",
      "18/18 [==============================] - 0s 10ms/step - loss: 106.5108 - val_loss: 568.7206\n",
      "Epoch 96/100\n",
      "18/18 [==============================] - 0s 10ms/step - loss: 108.6656 - val_loss: 569.7808\n",
      "Epoch 97/100\n",
      "18/18 [==============================] - 0s 8ms/step - loss: 103.6555 - val_loss: 571.5212\n",
      "Epoch 98/100\n",
      "18/18 [==============================] - 0s 9ms/step - loss: 104.2444 - val_loss: 576.8343\n",
      "Epoch 99/100\n",
      "18/18 [==============================] - 0s 9ms/step - loss: 108.2477 - val_loss: 597.0243\n",
      "Epoch 100/100\n",
      "18/18 [==============================] - 0s 9ms/step - loss: 112.6661 - val_loss: 568.4014\n"
     ]
    },
    {
     "data": {
      "text/plain": [
       "<keras.callbacks.History at 0x1a04ac78670>"
      ]
     },
     "execution_count": 99,
     "metadata": {},
     "output_type": "execute_result"
    }
   ],
   "source": [
    "tf.random.set_seed(42)\n",
    "\n",
    "# Make multivariate time series model\n",
    "model_6 = tf.keras.Sequential([\n",
    "    layers.Dense(128, activation='relu'),\n",
    "    layers.Dense(128, activation='relu'),\n",
    "    layers.Dense(HORIZON)\n",
    "], name='model_6_dense_multivariate')\n",
    "\n",
    "# Compile\n",
    "model_6.compile(loss='mae',\n",
    "                optimizer=tf.keras.optimizers.Adam())\n",
    "# Fit\n",
    "model_6.fit(X_train, y_train,\n",
    "            epochs=100,\n",
    "            batch_size=128,\n",
    "            verbose=1,\n",
    "            validation_data=(X_test, y_test),\n",
    "            callbacks=[create_model_checkpoint(model_name=model_6.name)])"
   ]
  },
  {
   "cell_type": "code",
   "execution_count": 100,
   "id": "fbbd0cd9",
   "metadata": {},
   "outputs": [
    {
     "name": "stdout",
     "output_type": "stream",
     "text": [
      "18/18 [==============================] - 0s 3ms/step - loss: 568.2736\n"
     ]
    },
    {
     "data": {
      "text/plain": [
       "568.2735595703125"
      ]
     },
     "execution_count": 100,
     "metadata": {},
     "output_type": "execute_result"
    }
   ],
   "source": [
    "# Evaluate multivariate model\n",
    "model_6.evaluate(X_test, y_test)"
   ]
  },
  {
   "cell_type": "code",
   "execution_count": 101,
   "id": "6a6e0019",
   "metadata": {},
   "outputs": [
    {
     "name": "stdout",
     "output_type": "stream",
     "text": [
      "18/18 [==============================] - 0s 4ms/step - loss: 564.8447\n"
     ]
    },
    {
     "data": {
      "text/plain": [
       "564.8446655273438"
      ]
     },
     "execution_count": 101,
     "metadata": {},
     "output_type": "execute_result"
    }
   ],
   "source": [
    "# Load in and evaluate best performing model\n",
    "model_6 = tf.keras.models.load_model('model_experiments/model_6_dense_multivariate')\n",
    "model_6.evaluate(X_test, y_test)"
   ]
  },
  {
   "cell_type": "code",
   "execution_count": 102,
   "id": "30153aba",
   "metadata": {},
   "outputs": [
    {
     "name": "stdout",
     "output_type": "stream",
     "text": [
      "18/18 [==============================] - 0s 4ms/step\n"
     ]
    },
    {
     "data": {
      "text/plain": [
       "<tf.Tensor: shape=(10,), dtype=float32, numpy=\n",
       "array([8790.642, 8765.866, 9049.08 , 8725.102, 8741.707, 8744.698,\n",
       "       8638.555, 8516.109, 8445.691, 8522.806], dtype=float32)>"
      ]
     },
     "execution_count": 102,
     "metadata": {},
     "output_type": "execute_result"
    }
   ],
   "source": [
    "# Make predictions with multivariate model\n",
    "model_6_preds = tf.squeeze(model_6.predict(X_test))\n",
    "model_6_preds[:10]"
   ]
  },
  {
   "cell_type": "code",
   "execution_count": 103,
   "id": "d425ce79",
   "metadata": {},
   "outputs": [
    {
     "data": {
      "text/plain": [
       "{'mae': 564.84467,\n",
       " 'mse': 1142701.5,\n",
       " 'rmse': 1068.9722,\n",
       " 'mape': 2.5606744,\n",
       " 'mase': 0.99227566}"
      ]
     },
     "execution_count": 103,
     "metadata": {},
     "output_type": "execute_result"
    }
   ],
   "source": [
    "# Evaluate predictions to get eval metrics\n",
    "model_6_results = evaluate_preds(y_true=y_test,\n",
    "                                 y_pred=model_6_preds)\n",
    "model_6_results"
   ]
  },
  {
   "cell_type": "code",
   "execution_count": 104,
   "id": "da85c3f3",
   "metadata": {},
   "outputs": [
    {
     "data": {
      "text/plain": [
       "{'mae': 570.9852,\n",
       " 'mse': 1180975.6,\n",
       " 'rmse': 1086.727,\n",
       " 'mape': 2.5477512,\n",
       " 'mase': 0.996569}"
      ]
     },
     "execution_count": 104,
     "metadata": {},
     "output_type": "execute_result"
    }
   ],
   "source": [
    "model_1_results"
   ]
  },
  {
   "cell_type": "code",
   "execution_count": 105,
   "id": "efd3378b",
   "metadata": {},
   "outputs": [
    {
     "data": {
      "text/plain": [
       "{'mae': 567.9802,\n",
       " 'mse': 1147547.0,\n",
       " 'rmse': 1071.2362,\n",
       " 'mape': 2.516525,\n",
       " 'mase': 0.99957}"
      ]
     },
     "execution_count": 105,
     "metadata": {},
     "output_type": "execute_result"
    }
   ],
   "source": [
    "naive_results"
   ]
  },
  {
   "cell_type": "markdown",
   "id": "4d75bb2c",
   "metadata": {},
   "source": [
    "## Model 7: N-BEATS algorithm\n",
    "\n",
    "Let's now try build the biggest baddest (though maybe not the baddest, as in, it perform really well...) time series forecasting model we have built so far.\n",
    "\n",
    "More specifically, we are going to be replicating the algorithm in the following paper: https://arxiv.org/pdf/1905.10437\n",
    "\n",
    "* This will allow us to practice replicating a paper with TensorFlow code\n",
    "* We will see how to use TensorFlow layer subclassing (to make our own custom layers)\n",
    "* Get experience using the Functional API to create a custom architecture\n",
    "* Potentially get state of the art results on our problem"
   ]
  },
  {
   "cell_type": "markdown",
   "id": "2c0b3ef1",
   "metadata": {},
   "source": [
    "### Building and testing the N-BEATS block layer\n",
    "\n",
    "Because the N-BEATS block layer doesn't exist in TensorFlow, we have got to create it.\n",
    "\n",
    "To create custom layers"
   ]
  },
  {
   "cell_type": "code",
   "execution_count": 106,
   "id": "4a9e913c",
   "metadata": {},
   "outputs": [],
   "source": [
    "# Create NBeatsBlock custom layer\n",
    "class NBeatsBlock(tf.keras.layers.Layer):\n",
    "\n",
    "    def __init__(self,\n",
    "                 input_size: int,\n",
    "                 theta_size:int,\n",
    "                 horizon: int,\n",
    "                 n_neurons: int,\n",
    "                 n_layers: int,\n",
    "                 **kwargs):\n",
    "        super().__init__(**kwargs)\n",
    "        self.input_size = input_size\n",
    "        self.theta_size = theta_size\n",
    "        self.horizon = horizon\n",
    "        self.n_neurons = n_neurons\n",
    "        self.n_layers = n_layers\n",
    "\n",
    "        # Block contains stack of 4 fully connected layers wach has ReLU activation\n",
    "        self.hidden = [tf.keras.layers.Dense(n_neurons, activation='relu') for _ in range(n_layers)]\n",
    "        # Output of block is a theta layer with linear activation\n",
    "        self.theta_layer = tf.keras.layers.Dense(theta_size, activation='linear', name='theta')\n",
    "\n",
    "    def call(self, inputs):\n",
    "        x = inputs\n",
    "        for layer in self.hidden:\n",
    "            x = layer(x)\n",
    "        theta = self.theta_layer(x)\n",
    "        # Output the backcast and the forecast from theta\n",
    "        backcast, forecast = theta[:, :self.input_size], theta[:, -self.horizon]\n",
    "        return backcast, forecast"
   ]
  },
  {
   "cell_type": "markdown",
   "id": "a7189576",
   "metadata": {},
   "source": [
    "Let's test our NBeatsBlock class.\n",
    "\n",
    "To do this we will make some dummy inputs and outputs."
   ]
  },
  {
   "cell_type": "code",
   "execution_count": 107,
   "id": "c5f0dc0c",
   "metadata": {},
   "outputs": [],
   "source": [
    "# Set up dummy NBeatsBlock layer to represent inputs and outputs\n",
    "dummy_nbeats_block_layer = NBeatsBlock(input_size=WINDOW_SIZE,\n",
    "                                       theta_size=WINDOW_SIZE+HORIZON, # backcast + forecast,\n",
    "                                       horizon=HORIZON,\n",
    "                                       n_neurons=128,\n",
    "                                       n_layers=4)"
   ]
  },
  {
   "cell_type": "code",
   "execution_count": 108,
   "id": "dc89eb8f",
   "metadata": {},
   "outputs": [
    {
     "data": {
      "text/plain": [
       "<tf.Tensor: shape=(1, 7), dtype=int32, numpy=array([[1, 2, 3, 4, 5, 6, 7]])>"
      ]
     },
     "execution_count": 108,
     "metadata": {},
     "output_type": "execute_result"
    }
   ],
   "source": [
    "# Create dummy inputs (have to be same size as input_size)\n",
    "dummy_inputs = tf.expand_dims(tf.range(WINDOW_SIZE) + 1, axis=0) # input shape to the model has to reflect dense layer input requirements (ndim=2)\n",
    "dummy_inputs"
   ]
  },
  {
   "cell_type": "code",
   "execution_count": 109,
   "id": "5c7919a4",
   "metadata": {},
   "outputs": [
    {
     "name": "stdout",
     "output_type": "stream",
     "text": [
      "Backcast: [ 0.3799287  -0.64578766  0.04181283  0.14669321 -0.23197159 -0.539173\n",
      " -0.5018561 ]\n",
      "Forecast: -0.15157203376293182\n"
     ]
    }
   ],
   "source": [
    "# Pass dummy inputs to dummy NBeatsBlock layer\n",
    "backcast, forecast = dummy_nbeats_block_layer(dummy_inputs)\n",
    "# These are the activation outputs of the theta layer (they will be random due to no training of the model)\n",
    "print(f'Backcast: {tf.squeeze(backcast.numpy())}')\n",
    "print(f'Forecast: {tf.squeeze(forecast.numpy())}')"
   ]
  },
  {
   "cell_type": "markdown",
   "id": "7e2b80fe",
   "metadata": {},
   "source": [
    "### Preparing data for N-BEATS algorithm using `tf.data`\n",
    "\n",
    "To make our input data load as fast as possible we are going to be adhering to the performant data pipeline steps."
   ]
  },
  {
   "cell_type": "code",
   "execution_count": 110,
   "id": "c29c83bb",
   "metadata": {},
   "outputs": [],
   "source": [
    "HORIZON = 1\n",
    "WINDOW_SIZE = 7"
   ]
  },
  {
   "cell_type": "code",
   "execution_count": 111,
   "id": "3221ee13",
   "metadata": {},
   "outputs": [
    {
     "data": {
      "application/vnd.microsoft.datawrangler.viewer.v0+json": {
       "columns": [
        {
         "name": "Date",
         "rawType": "datetime64[ns]",
         "type": "datetime"
        },
        {
         "name": "Price",
         "rawType": "float64",
         "type": "float"
        }
       ],
       "ref": "96e465bf-d88c-48b2-9a24-1c97d4fc4fe1",
       "rows": [
        [
         "2013-10-01 00:00:00",
         "123.65499"
        ],
        [
         "2013-10-02 00:00:00",
         "125.455"
        ],
        [
         "2013-10-03 00:00:00",
         "108.58483"
        ],
        [
         "2013-10-04 00:00:00",
         "118.67466"
        ],
        [
         "2013-10-05 00:00:00",
         "121.33866"
        ]
       ],
       "shape": {
        "columns": 1,
        "rows": 5
       }
      },
      "text/html": [
       "<div>\n",
       "<style scoped>\n",
       "    .dataframe tbody tr th:only-of-type {\n",
       "        vertical-align: middle;\n",
       "    }\n",
       "\n",
       "    .dataframe tbody tr th {\n",
       "        vertical-align: top;\n",
       "    }\n",
       "\n",
       "    .dataframe thead th {\n",
       "        text-align: right;\n",
       "    }\n",
       "</style>\n",
       "<table border=\"1\" class=\"dataframe\">\n",
       "  <thead>\n",
       "    <tr style=\"text-align: right;\">\n",
       "      <th></th>\n",
       "      <th>Price</th>\n",
       "    </tr>\n",
       "    <tr>\n",
       "      <th>Date</th>\n",
       "      <th></th>\n",
       "    </tr>\n",
       "  </thead>\n",
       "  <tbody>\n",
       "    <tr>\n",
       "      <th>2013-10-01</th>\n",
       "      <td>123.65499</td>\n",
       "    </tr>\n",
       "    <tr>\n",
       "      <th>2013-10-02</th>\n",
       "      <td>125.45500</td>\n",
       "    </tr>\n",
       "    <tr>\n",
       "      <th>2013-10-03</th>\n",
       "      <td>108.58483</td>\n",
       "    </tr>\n",
       "    <tr>\n",
       "      <th>2013-10-04</th>\n",
       "      <td>118.67466</td>\n",
       "    </tr>\n",
       "    <tr>\n",
       "      <th>2013-10-05</th>\n",
       "      <td>121.33866</td>\n",
       "    </tr>\n",
       "  </tbody>\n",
       "</table>\n",
       "</div>"
      ],
      "text/plain": [
       "                Price\n",
       "Date                 \n",
       "2013-10-01  123.65499\n",
       "2013-10-02  125.45500\n",
       "2013-10-03  108.58483\n",
       "2013-10-04  118.67466\n",
       "2013-10-05  121.33866"
      ]
     },
     "execution_count": 111,
     "metadata": {},
     "output_type": "execute_result"
    }
   ],
   "source": [
    "# Create N-BEATS data inputs (N-BEATS works with univariate time series)\n",
    "bitcoin_prices.head()"
   ]
  },
  {
   "cell_type": "code",
   "execution_count": 112,
   "id": "dc7e96b9",
   "metadata": {},
   "outputs": [
    {
     "data": {
      "application/vnd.microsoft.datawrangler.viewer.v0+json": {
       "columns": [
        {
         "name": "Date",
         "rawType": "datetime64[ns]",
         "type": "datetime"
        },
        {
         "name": "Price",
         "rawType": "float64",
         "type": "float"
        },
        {
         "name": "Price+1",
         "rawType": "float64",
         "type": "float"
        },
        {
         "name": "Price+2",
         "rawType": "float64",
         "type": "float"
        },
        {
         "name": "Price+3",
         "rawType": "float64",
         "type": "float"
        },
        {
         "name": "Price+4",
         "rawType": "float64",
         "type": "float"
        },
        {
         "name": "Price+5",
         "rawType": "float64",
         "type": "float"
        },
        {
         "name": "Price+6",
         "rawType": "float64",
         "type": "float"
        },
        {
         "name": "Price+7",
         "rawType": "float64",
         "type": "float"
        }
       ],
       "ref": "ad4e7629-0c9b-4e5e-90cd-dcdc601aa84c",
       "rows": [
        [
         "2013-10-01 00:00:00",
         "123.65499",
         null,
         null,
         null,
         null,
         null,
         null,
         null
        ],
        [
         "2013-10-02 00:00:00",
         "125.455",
         "123.65499",
         null,
         null,
         null,
         null,
         null,
         null
        ],
        [
         "2013-10-03 00:00:00",
         "108.58483",
         "125.455",
         "123.65499",
         null,
         null,
         null,
         null,
         null
        ],
        [
         "2013-10-04 00:00:00",
         "118.67466",
         "108.58483",
         "125.455",
         "123.65499",
         null,
         null,
         null,
         null
        ],
        [
         "2013-10-05 00:00:00",
         "121.33866",
         "118.67466",
         "108.58483",
         "125.455",
         "123.65499",
         null,
         null,
         null
        ]
       ],
       "shape": {
        "columns": 8,
        "rows": 5
       }
      },
      "text/html": [
       "<div>\n",
       "<style scoped>\n",
       "    .dataframe tbody tr th:only-of-type {\n",
       "        vertical-align: middle;\n",
       "    }\n",
       "\n",
       "    .dataframe tbody tr th {\n",
       "        vertical-align: top;\n",
       "    }\n",
       "\n",
       "    .dataframe thead th {\n",
       "        text-align: right;\n",
       "    }\n",
       "</style>\n",
       "<table border=\"1\" class=\"dataframe\">\n",
       "  <thead>\n",
       "    <tr style=\"text-align: right;\">\n",
       "      <th></th>\n",
       "      <th>Price</th>\n",
       "      <th>Price+1</th>\n",
       "      <th>Price+2</th>\n",
       "      <th>Price+3</th>\n",
       "      <th>Price+4</th>\n",
       "      <th>Price+5</th>\n",
       "      <th>Price+6</th>\n",
       "      <th>Price+7</th>\n",
       "    </tr>\n",
       "    <tr>\n",
       "      <th>Date</th>\n",
       "      <th></th>\n",
       "      <th></th>\n",
       "      <th></th>\n",
       "      <th></th>\n",
       "      <th></th>\n",
       "      <th></th>\n",
       "      <th></th>\n",
       "      <th></th>\n",
       "    </tr>\n",
       "  </thead>\n",
       "  <tbody>\n",
       "    <tr>\n",
       "      <th>2013-10-01</th>\n",
       "      <td>123.65499</td>\n",
       "      <td>NaN</td>\n",
       "      <td>NaN</td>\n",
       "      <td>NaN</td>\n",
       "      <td>NaN</td>\n",
       "      <td>NaN</td>\n",
       "      <td>NaN</td>\n",
       "      <td>NaN</td>\n",
       "    </tr>\n",
       "    <tr>\n",
       "      <th>2013-10-02</th>\n",
       "      <td>125.45500</td>\n",
       "      <td>123.65499</td>\n",
       "      <td>NaN</td>\n",
       "      <td>NaN</td>\n",
       "      <td>NaN</td>\n",
       "      <td>NaN</td>\n",
       "      <td>NaN</td>\n",
       "      <td>NaN</td>\n",
       "    </tr>\n",
       "    <tr>\n",
       "      <th>2013-10-03</th>\n",
       "      <td>108.58483</td>\n",
       "      <td>125.45500</td>\n",
       "      <td>123.65499</td>\n",
       "      <td>NaN</td>\n",
       "      <td>NaN</td>\n",
       "      <td>NaN</td>\n",
       "      <td>NaN</td>\n",
       "      <td>NaN</td>\n",
       "    </tr>\n",
       "    <tr>\n",
       "      <th>2013-10-04</th>\n",
       "      <td>118.67466</td>\n",
       "      <td>108.58483</td>\n",
       "      <td>125.45500</td>\n",
       "      <td>123.65499</td>\n",
       "      <td>NaN</td>\n",
       "      <td>NaN</td>\n",
       "      <td>NaN</td>\n",
       "      <td>NaN</td>\n",
       "    </tr>\n",
       "    <tr>\n",
       "      <th>2013-10-05</th>\n",
       "      <td>121.33866</td>\n",
       "      <td>118.67466</td>\n",
       "      <td>108.58483</td>\n",
       "      <td>125.45500</td>\n",
       "      <td>123.65499</td>\n",
       "      <td>NaN</td>\n",
       "      <td>NaN</td>\n",
       "      <td>NaN</td>\n",
       "    </tr>\n",
       "  </tbody>\n",
       "</table>\n",
       "</div>"
      ],
      "text/plain": [
       "                Price    Price+1    Price+2    Price+3    Price+4  Price+5  \\\n",
       "Date                                                                         \n",
       "2013-10-01  123.65499        NaN        NaN        NaN        NaN      NaN   \n",
       "2013-10-02  125.45500  123.65499        NaN        NaN        NaN      NaN   \n",
       "2013-10-03  108.58483  125.45500  123.65499        NaN        NaN      NaN   \n",
       "2013-10-04  118.67466  108.58483  125.45500  123.65499        NaN      NaN   \n",
       "2013-10-05  121.33866  118.67466  108.58483  125.45500  123.65499      NaN   \n",
       "\n",
       "            Price+6  Price+7  \n",
       "Date                          \n",
       "2013-10-01      NaN      NaN  \n",
       "2013-10-02      NaN      NaN  \n",
       "2013-10-03      NaN      NaN  \n",
       "2013-10-04      NaN      NaN  \n",
       "2013-10-05      NaN      NaN  "
      ]
     },
     "execution_count": 112,
     "metadata": {},
     "output_type": "execute_result"
    }
   ],
   "source": [
    "# Add windowed columns\n",
    "bitcoin_prices_nbeats = bitcoin_prices.copy()\n",
    "for i in range(WINDOW_SIZE):\n",
    "    bitcoin_prices_nbeats[f'Price+{i+1}'] = bitcoin_prices_nbeats['Price'].shift(periods=i+1)\n",
    "bitcoin_prices_nbeats.head()"
   ]
  },
  {
   "cell_type": "code",
   "execution_count": 113,
   "id": "bde64c9c",
   "metadata": {},
   "outputs": [
    {
     "data": {
      "text/plain": [
       "(2224, 2224, 556, 556)"
      ]
     },
     "execution_count": 113,
     "metadata": {},
     "output_type": "execute_result"
    }
   ],
   "source": [
    "# Make features and labels\n",
    "X = bitcoin_prices_nbeats.dropna().drop('Price', axis=1)\n",
    "y = bitcoin_prices_nbeats.dropna()['Price']\n",
    "\n",
    "# Make train and test sets\n",
    "split_size = int(len(X) * 0.8)\n",
    "X_train, y_train = X[:split_size], y[:split_size]\n",
    "X_test, y_test = X[split_size:], y[split_size:]\n",
    "len(X_train), len(y_train), len(X_test), len(y_test)"
   ]
  },
  {
   "cell_type": "code",
   "execution_count": 114,
   "id": "14ab2df3",
   "metadata": {},
   "outputs": [
    {
     "data": {
      "text/plain": [
       "(<PrefetchDataset element_spec=(TensorSpec(shape=(None, 7), dtype=tf.float64, name=None), TensorSpec(shape=(None,), dtype=tf.float64, name=None))>,\n",
       " <PrefetchDataset element_spec=(TensorSpec(shape=(None, 7), dtype=tf.float64, name=None), TensorSpec(shape=(None,), dtype=tf.float64, name=None))>)"
      ]
     },
     "execution_count": 114,
     "metadata": {},
     "output_type": "execute_result"
    }
   ],
   "source": [
    "# Time to make our dataset performant using tf.data API\n",
    "train_features_dataset = tf.data.Dataset.from_tensor_slices(X_train)\n",
    "train_labels_dataset = tf.data.Dataset.from_tensor_slices(y_train)\n",
    "\n",
    "test_features_dataset = tf.data.Dataset.from_tensor_slices(X_test)\n",
    "test_labels_dataset = tf.data.Dataset.from_tensor_slices(y_test)\n",
    "\n",
    "# Combine labels and features by zipping together -> (features, labels)\n",
    "train_dataset = tf.data.Dataset.zip((train_features_dataset, train_labels_dataset))\n",
    "test_dataset = tf.data.Dataset.zip((test_features_dataset, test_labels_dataset))\n",
    "\n",
    "# Batch and prefetch\n",
    "BATCH_SIZE = 1024\n",
    "train_dataset = train_dataset.batch(BATCH_SIZE).prefetch(tf.data.AUTOTUNE)\n",
    "test_dataset = test_dataset.batch(BATCH_SIZE).prefetch(tf.data.AUTOTUNE)\n",
    "\n",
    "train_dataset, test_dataset"
   ]
  }
 ],
 "metadata": {
  "kernelspec": {
   "display_name": "tf3",
   "language": "python",
   "name": "python3"
  },
  "language_info": {
   "codemirror_mode": {
    "name": "ipython",
    "version": 3
   },
   "file_extension": ".py",
   "mimetype": "text/x-python",
   "name": "python",
   "nbconvert_exporter": "python",
   "pygments_lexer": "ipython3",
   "version": "3.10.18"
  }
 },
 "nbformat": 4,
 "nbformat_minor": 5
}

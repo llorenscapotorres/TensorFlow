{
 "cells": [
  {
   "cell_type": "markdown",
   "id": "197107bd",
   "metadata": {},
   "source": [
    "# Time Series Forecasting Fundamentals with TensorFlow + Milestone Project: BitPredict\n",
    "\n",
    "Let's write some TensorFlow code to predict the price of Bitcoin based on historical price of Bitcoin."
   ]
  },
  {
   "cell_type": "markdown",
   "id": "d842b633",
   "metadata": {},
   "source": [
    "## Importing time series with pandas"
   ]
  },
  {
   "cell_type": "code",
   "execution_count": 1,
   "id": "912c0b37",
   "metadata": {},
   "outputs": [
    {
     "data": {
      "application/vnd.microsoft.datawrangler.viewer.v0+json": {
       "columns": [
        {
         "name": "Date",
         "rawType": "datetime64[ns]",
         "type": "datetime"
        },
        {
         "name": "Currency",
         "rawType": "object",
         "type": "string"
        },
        {
         "name": "Closing Price (USD)",
         "rawType": "float64",
         "type": "float"
        },
        {
         "name": "24h Open (USD)",
         "rawType": "float64",
         "type": "float"
        },
        {
         "name": "24h High (USD)",
         "rawType": "float64",
         "type": "float"
        },
        {
         "name": "24h Low (USD)",
         "rawType": "float64",
         "type": "float"
        }
       ],
       "ref": "df066463-176d-4f0e-b5b4-a71970f42c95",
       "rows": [
        [
         "2013-10-01 00:00:00",
         "BTC",
         "123.65499",
         "124.30466",
         "124.75166",
         "122.56349"
        ],
        [
         "2013-10-02 00:00:00",
         "BTC",
         "125.455",
         "123.65499",
         "125.7585",
         "123.63383"
        ],
        [
         "2013-10-03 00:00:00",
         "BTC",
         "108.58483",
         "125.455",
         "125.66566",
         "83.32833"
        ],
        [
         "2013-10-04 00:00:00",
         "BTC",
         "118.67466",
         "108.58483",
         "118.675",
         "107.05816"
        ],
        [
         "2013-10-05 00:00:00",
         "BTC",
         "121.33866",
         "118.67466",
         "121.93633",
         "118.00566"
        ]
       ],
       "shape": {
        "columns": 5,
        "rows": 5
       }
      },
      "text/html": [
       "<div>\n",
       "<style scoped>\n",
       "    .dataframe tbody tr th:only-of-type {\n",
       "        vertical-align: middle;\n",
       "    }\n",
       "\n",
       "    .dataframe tbody tr th {\n",
       "        vertical-align: top;\n",
       "    }\n",
       "\n",
       "    .dataframe thead th {\n",
       "        text-align: right;\n",
       "    }\n",
       "</style>\n",
       "<table border=\"1\" class=\"dataframe\">\n",
       "  <thead>\n",
       "    <tr style=\"text-align: right;\">\n",
       "      <th></th>\n",
       "      <th>Currency</th>\n",
       "      <th>Closing Price (USD)</th>\n",
       "      <th>24h Open (USD)</th>\n",
       "      <th>24h High (USD)</th>\n",
       "      <th>24h Low (USD)</th>\n",
       "    </tr>\n",
       "    <tr>\n",
       "      <th>Date</th>\n",
       "      <th></th>\n",
       "      <th></th>\n",
       "      <th></th>\n",
       "      <th></th>\n",
       "      <th></th>\n",
       "    </tr>\n",
       "  </thead>\n",
       "  <tbody>\n",
       "    <tr>\n",
       "      <th>2013-10-01</th>\n",
       "      <td>BTC</td>\n",
       "      <td>123.65499</td>\n",
       "      <td>124.30466</td>\n",
       "      <td>124.75166</td>\n",
       "      <td>122.56349</td>\n",
       "    </tr>\n",
       "    <tr>\n",
       "      <th>2013-10-02</th>\n",
       "      <td>BTC</td>\n",
       "      <td>125.45500</td>\n",
       "      <td>123.65499</td>\n",
       "      <td>125.75850</td>\n",
       "      <td>123.63383</td>\n",
       "    </tr>\n",
       "    <tr>\n",
       "      <th>2013-10-03</th>\n",
       "      <td>BTC</td>\n",
       "      <td>108.58483</td>\n",
       "      <td>125.45500</td>\n",
       "      <td>125.66566</td>\n",
       "      <td>83.32833</td>\n",
       "    </tr>\n",
       "    <tr>\n",
       "      <th>2013-10-04</th>\n",
       "      <td>BTC</td>\n",
       "      <td>118.67466</td>\n",
       "      <td>108.58483</td>\n",
       "      <td>118.67500</td>\n",
       "      <td>107.05816</td>\n",
       "    </tr>\n",
       "    <tr>\n",
       "      <th>2013-10-05</th>\n",
       "      <td>BTC</td>\n",
       "      <td>121.33866</td>\n",
       "      <td>118.67466</td>\n",
       "      <td>121.93633</td>\n",
       "      <td>118.00566</td>\n",
       "    </tr>\n",
       "  </tbody>\n",
       "</table>\n",
       "</div>"
      ],
      "text/plain": [
       "           Currency  Closing Price (USD)  24h Open (USD)  24h High (USD)  \\\n",
       "Date                                                                       \n",
       "2013-10-01      BTC            123.65499       124.30466       124.75166   \n",
       "2013-10-02      BTC            125.45500       123.65499       125.75850   \n",
       "2013-10-03      BTC            108.58483       125.45500       125.66566   \n",
       "2013-10-04      BTC            118.67466       108.58483       118.67500   \n",
       "2013-10-05      BTC            121.33866       118.67466       121.93633   \n",
       "\n",
       "            24h Low (USD)  \n",
       "Date                       \n",
       "2013-10-01      122.56349  \n",
       "2013-10-02      123.63383  \n",
       "2013-10-03       83.32833  \n",
       "2013-10-04      107.05816  \n",
       "2013-10-05      118.00566  "
      ]
     },
     "execution_count": 1,
     "metadata": {},
     "output_type": "execute_result"
    }
   ],
   "source": [
    "# Import with pandas\n",
    "import pandas as pd\n",
    "# Let's read in our Bitcoin data and parse the dates\n",
    "df = pd.read_csv('./bitcoin_price.csv',\n",
    "                 parse_dates=['Date'],\n",
    "                 index_col=['Date']) # parse the date column and tell pandas column 1 is a datetime\n",
    "\n",
    "df.head()"
   ]
  },
  {
   "cell_type": "code",
   "execution_count": 2,
   "id": "756c4c8b",
   "metadata": {},
   "outputs": [
    {
     "data": {
      "application/vnd.microsoft.datawrangler.viewer.v0+json": {
       "columns": [
        {
         "name": "Date",
         "rawType": "datetime64[ns]",
         "type": "datetime"
        },
        {
         "name": "Currency",
         "rawType": "object",
         "type": "string"
        },
        {
         "name": "Closing Price (USD)",
         "rawType": "float64",
         "type": "float"
        },
        {
         "name": "24h Open (USD)",
         "rawType": "float64",
         "type": "float"
        },
        {
         "name": "24h High (USD)",
         "rawType": "float64",
         "type": "float"
        },
        {
         "name": "24h Low (USD)",
         "rawType": "float64",
         "type": "float"
        }
       ],
       "ref": "6aa17d85-e83a-4d56-adf8-afebd6c2f514",
       "rows": [
        [
         "2021-05-14 00:00:00",
         "BTC",
         "49764.1320815975",
         "49596.7788914698",
         "51448.7985760232",
         "46294.7201795113"
        ],
        [
         "2021-05-15 00:00:00",
         "BTC",
         "50032.6931367648",
         "49717.3543531654",
         "51578.3125446899",
         "48944.3465360214"
        ],
        [
         "2021-05-16 00:00:00",
         "BTC",
         "47885.6252547166",
         "49926.035067459",
         "50690.8029495356",
         "47005.1022924768"
        ],
        [
         "2021-05-17 00:00:00",
         "BTC",
         "45604.6157536131",
         "46805.5378519185",
         "49670.4141738148",
         "43868.6389692715"
        ],
        [
         "2021-05-18 00:00:00",
         "BTC",
         "43144.4712908603",
         "46439.3365698047",
         "46622.8534374849",
         "42102.3464296188"
        ]
       ],
       "shape": {
        "columns": 5,
        "rows": 5
       }
      },
      "text/html": [
       "<div>\n",
       "<style scoped>\n",
       "    .dataframe tbody tr th:only-of-type {\n",
       "        vertical-align: middle;\n",
       "    }\n",
       "\n",
       "    .dataframe tbody tr th {\n",
       "        vertical-align: top;\n",
       "    }\n",
       "\n",
       "    .dataframe thead th {\n",
       "        text-align: right;\n",
       "    }\n",
       "</style>\n",
       "<table border=\"1\" class=\"dataframe\">\n",
       "  <thead>\n",
       "    <tr style=\"text-align: right;\">\n",
       "      <th></th>\n",
       "      <th>Currency</th>\n",
       "      <th>Closing Price (USD)</th>\n",
       "      <th>24h Open (USD)</th>\n",
       "      <th>24h High (USD)</th>\n",
       "      <th>24h Low (USD)</th>\n",
       "    </tr>\n",
       "    <tr>\n",
       "      <th>Date</th>\n",
       "      <th></th>\n",
       "      <th></th>\n",
       "      <th></th>\n",
       "      <th></th>\n",
       "      <th></th>\n",
       "    </tr>\n",
       "  </thead>\n",
       "  <tbody>\n",
       "    <tr>\n",
       "      <th>2021-05-14</th>\n",
       "      <td>BTC</td>\n",
       "      <td>49764.132082</td>\n",
       "      <td>49596.778891</td>\n",
       "      <td>51448.798576</td>\n",
       "      <td>46294.720180</td>\n",
       "    </tr>\n",
       "    <tr>\n",
       "      <th>2021-05-15</th>\n",
       "      <td>BTC</td>\n",
       "      <td>50032.693137</td>\n",
       "      <td>49717.354353</td>\n",
       "      <td>51578.312545</td>\n",
       "      <td>48944.346536</td>\n",
       "    </tr>\n",
       "    <tr>\n",
       "      <th>2021-05-16</th>\n",
       "      <td>BTC</td>\n",
       "      <td>47885.625255</td>\n",
       "      <td>49926.035067</td>\n",
       "      <td>50690.802950</td>\n",
       "      <td>47005.102292</td>\n",
       "    </tr>\n",
       "    <tr>\n",
       "      <th>2021-05-17</th>\n",
       "      <td>BTC</td>\n",
       "      <td>45604.615754</td>\n",
       "      <td>46805.537852</td>\n",
       "      <td>49670.414174</td>\n",
       "      <td>43868.638969</td>\n",
       "    </tr>\n",
       "    <tr>\n",
       "      <th>2021-05-18</th>\n",
       "      <td>BTC</td>\n",
       "      <td>43144.471291</td>\n",
       "      <td>46439.336570</td>\n",
       "      <td>46622.853437</td>\n",
       "      <td>42102.346430</td>\n",
       "    </tr>\n",
       "  </tbody>\n",
       "</table>\n",
       "</div>"
      ],
      "text/plain": [
       "           Currency  Closing Price (USD)  24h Open (USD)  24h High (USD)  \\\n",
       "Date                                                                       \n",
       "2021-05-14      BTC         49764.132082    49596.778891    51448.798576   \n",
       "2021-05-15      BTC         50032.693137    49717.354353    51578.312545   \n",
       "2021-05-16      BTC         47885.625255    49926.035067    50690.802950   \n",
       "2021-05-17      BTC         45604.615754    46805.537852    49670.414174   \n",
       "2021-05-18      BTC         43144.471291    46439.336570    46622.853437   \n",
       "\n",
       "            24h Low (USD)  \n",
       "Date                       \n",
       "2021-05-14   46294.720180  \n",
       "2021-05-15   48944.346536  \n",
       "2021-05-16   47005.102292  \n",
       "2021-05-17   43868.638969  \n",
       "2021-05-18   42102.346430  "
      ]
     },
     "execution_count": 2,
     "metadata": {},
     "output_type": "execute_result"
    }
   ],
   "source": [
    "df.tail()"
   ]
  },
  {
   "cell_type": "code",
   "execution_count": 3,
   "id": "9fca5567",
   "metadata": {},
   "outputs": [
    {
     "name": "stdout",
     "output_type": "stream",
     "text": [
      "<class 'pandas.core.frame.DataFrame'>\n",
      "DatetimeIndex: 2787 entries, 2013-10-01 to 2021-05-18\n",
      "Data columns (total 5 columns):\n",
      " #   Column               Non-Null Count  Dtype  \n",
      "---  ------               --------------  -----  \n",
      " 0   Currency             2787 non-null   object \n",
      " 1   Closing Price (USD)  2787 non-null   float64\n",
      " 2   24h Open (USD)       2787 non-null   float64\n",
      " 3   24h High (USD)       2787 non-null   float64\n",
      " 4   24h Low (USD)        2787 non-null   float64\n",
      "dtypes: float64(4), object(1)\n",
      "memory usage: 130.6+ KB\n"
     ]
    }
   ],
   "source": [
    "df.info()"
   ]
  },
  {
   "cell_type": "code",
   "execution_count": 4,
   "id": "67661981",
   "metadata": {},
   "outputs": [
    {
     "data": {
      "text/plain": [
       "2787"
      ]
     },
     "execution_count": 4,
     "metadata": {},
     "output_type": "execute_result"
    }
   ],
   "source": [
    "# How many samples do we have?\n",
    "len(df)"
   ]
  },
  {
   "cell_type": "markdown",
   "id": "7733d08d",
   "metadata": {},
   "source": [
    "We have collected the historical price of Bitcoin for the past ~8 years but there's 2787 samples.\n",
    "\n",
    "Typically deep learning models usually like lots and lots and lots of samples (where lots and lots and lots can be thousands to tens of thousands to millions).\n",
    "\n",
    "A smaller number of samples is something you will often run into with time series of ata problems.\n",
    "\n",
    "**Note:** The **seasonality** of a time series dataset is referred as the nmber of samples per year. So for our Bitcoin data, it has seasonality of daily or value of 365 because we collect one sample per day meaning we will get 365 samples per year."
   ]
  },
  {
   "cell_type": "code",
   "execution_count": 5,
   "id": "5f48b757",
   "metadata": {},
   "outputs": [
    {
     "data": {
      "application/vnd.microsoft.datawrangler.viewer.v0+json": {
       "columns": [
        {
         "name": "Date",
         "rawType": "datetime64[ns]",
         "type": "datetime"
        },
        {
         "name": "Price",
         "rawType": "float64",
         "type": "float"
        }
       ],
       "ref": "57596456-b432-4233-8478-09d64ecc48d6",
       "rows": [
        [
         "2013-10-01 00:00:00",
         "123.65499"
        ],
        [
         "2013-10-02 00:00:00",
         "125.455"
        ],
        [
         "2013-10-03 00:00:00",
         "108.58483"
        ],
        [
         "2013-10-04 00:00:00",
         "118.67466"
        ],
        [
         "2013-10-05 00:00:00",
         "121.33866"
        ]
       ],
       "shape": {
        "columns": 1,
        "rows": 5
       }
      },
      "text/html": [
       "<div>\n",
       "<style scoped>\n",
       "    .dataframe tbody tr th:only-of-type {\n",
       "        vertical-align: middle;\n",
       "    }\n",
       "\n",
       "    .dataframe tbody tr th {\n",
       "        vertical-align: top;\n",
       "    }\n",
       "\n",
       "    .dataframe thead th {\n",
       "        text-align: right;\n",
       "    }\n",
       "</style>\n",
       "<table border=\"1\" class=\"dataframe\">\n",
       "  <thead>\n",
       "    <tr style=\"text-align: right;\">\n",
       "      <th></th>\n",
       "      <th>Price</th>\n",
       "    </tr>\n",
       "    <tr>\n",
       "      <th>Date</th>\n",
       "      <th></th>\n",
       "    </tr>\n",
       "  </thead>\n",
       "  <tbody>\n",
       "    <tr>\n",
       "      <th>2013-10-01</th>\n",
       "      <td>123.65499</td>\n",
       "    </tr>\n",
       "    <tr>\n",
       "      <th>2013-10-02</th>\n",
       "      <td>125.45500</td>\n",
       "    </tr>\n",
       "    <tr>\n",
       "      <th>2013-10-03</th>\n",
       "      <td>108.58483</td>\n",
       "    </tr>\n",
       "    <tr>\n",
       "      <th>2013-10-04</th>\n",
       "      <td>118.67466</td>\n",
       "    </tr>\n",
       "    <tr>\n",
       "      <th>2013-10-05</th>\n",
       "      <td>121.33866</td>\n",
       "    </tr>\n",
       "  </tbody>\n",
       "</table>\n",
       "</div>"
      ],
      "text/plain": [
       "                Price\n",
       "Date                 \n",
       "2013-10-01  123.65499\n",
       "2013-10-02  125.45500\n",
       "2013-10-03  108.58483\n",
       "2013-10-04  118.67466\n",
       "2013-10-05  121.33866"
      ]
     },
     "execution_count": 5,
     "metadata": {},
     "output_type": "execute_result"
    }
   ],
   "source": [
    "# Only want closing price for each day\n",
    "bitcoin_prices = pd.DataFrame(df['Closing Price (USD)']).rename(columns={'Closing Price (USD)': 'Price'})\n",
    "bitcoin_prices.head()"
   ]
  },
  {
   "cell_type": "code",
   "execution_count": 6,
   "id": "f8096130",
   "metadata": {},
   "outputs": [
    {
     "data": {
      "image/png": "[encoded data removed]",
      "text/plain": [
       "<Figure size 1000x700 with 1 Axes>"
      ]
     },
     "metadata": {},
     "output_type": "display_data"
    }
   ],
   "source": [
    "import matplotlib.pyplot as plt\n",
    "bitcoin_prices.plot(figsize=(10, 7))\n",
    "plt.ylabel('BTC Price')\n",
    "plt.title('Price of Bitcoin from 1 Oct 2013 to 18 May 2021', fontsize=16)\n",
    "plt.legend(fontsize=14)\n",
    "plt.show()"
   ]
  },
  {
   "cell_type": "markdown",
   "id": "719f1176",
   "metadata": {},
   "source": [
    "## Importing time series data with Pyhton's CSV module"
   ]
  },
  {
   "cell_type": "code",
   "execution_count": 7,
   "id": "1564be6a",
   "metadata": {},
   "outputs": [
    {
     "data": {
      "text/plain": [
       "([datetime.datetime(2013, 10, 1, 0, 0),\n",
       "  datetime.datetime(2013, 10, 2, 0, 0),\n",
       "  datetime.datetime(2013, 10, 3, 0, 0),\n",
       "  datetime.datetime(2013, 10, 4, 0, 0),\n",
       "  datetime.datetime(2013, 10, 5, 0, 0),\n",
       "  datetime.datetime(2013, 10, 6, 0, 0),\n",
       "  datetime.datetime(2013, 10, 7, 0, 0),\n",
       "  datetime.datetime(2013, 10, 8, 0, 0),\n",
       "  datetime.datetime(2013, 10, 9, 0, 0),\n",
       "  datetime.datetime(2013, 10, 10, 0, 0)],\n",
       " [123.65499,\n",
       "  125.455,\n",
       "  108.58483,\n",
       "  118.67466,\n",
       "  121.33866,\n",
       "  120.65533,\n",
       "  121.795,\n",
       "  123.033,\n",
       "  124.049,\n",
       "  125.96116])"
      ]
     },
     "execution_count": 7,
     "metadata": {},
     "output_type": "execute_result"
    }
   ],
   "source": [
    "# Importing and formatting historical Bitcoin data with Python\n",
    "import csv\n",
    "from datetime import datetime\n",
    "\n",
    "timesteps = []\n",
    "btc_price = []\n",
    "with open(\"bitcoin_price.csv\", \"r\") as f:\n",
    "    csv_reader = csv.reader(f, delimiter=\",\")\n",
    "    next(csv_reader) # Skip the header\n",
    "    for line in csv_reader:\n",
    "        timesteps.append(datetime.strptime(line[1], \"%Y-%m-%d\")) # get the dates as dates (not strings)\n",
    "        btc_price.append(float(line[2])) # get the bitcoin price as float\n",
    "\n",
    "# View first 10 of each\n",
    "timesteps[:10], btc_price[:10]"
   ]
  },
  {
   "cell_type": "code",
   "execution_count": 8,
   "id": "b66fb40d",
   "metadata": {},
   "outputs": [
    {
     "data": {
      "image/png": "[encoded data removed]",
      "text/plain": [
       "<Figure size 1000x700 with 1 Axes>"
      ]
     },
     "metadata": {},
     "output_type": "display_data"
    }
   ],
   "source": [
    "# Plot from CSV\n",
    "import matplotlib.pyplot as plt\n",
    "import numpy as np\n",
    "\n",
    "plt.figure(figsize=(10, 7))\n",
    "plt.plot(timesteps, btc_price)\n",
    "plt.ylabel('BTC Price')\n",
    "plt.title('Price of Bitcoin from 1 Oct 2013 to 18 May 2021', fontsize=16)\n",
    "plt.xlabel('Date')\n",
    "plt.show()"
   ]
  },
  {
   "cell_type": "markdown",
   "id": "cde748e6",
   "metadata": {},
   "source": [
    "## Format data part 1: Create train and test sets of our time series data"
   ]
  },
  {
   "cell_type": "markdown",
   "id": "719aa139",
   "metadata": {},
   "source": [
    "### Creating train and test sets with time series data (the wrong way)"
   ]
  },
  {
   "cell_type": "code",
   "execution_count": 9,
   "id": "65ba12b5",
   "metadata": {},
   "outputs": [
    {
     "data": {
      "text/plain": [
       "(array(['2013-10-01T00:00:00.000000000', '2013-10-02T00:00:00.000000000',\n",
       "        '2013-10-03T00:00:00.000000000', '2013-10-04T00:00:00.000000000',\n",
       "        '2013-10-05T00:00:00.000000000', '2013-10-06T00:00:00.000000000',\n",
       "        '2013-10-07T00:00:00.000000000', '2013-10-08T00:00:00.000000000',\n",
       "        '2013-10-09T00:00:00.000000000', '2013-10-10T00:00:00.000000000'],\n",
       "       dtype='datetime64[ns]'),\n",
       " array([123.65499, 125.455  , 108.58483, 118.67466, 121.33866, 120.65533,\n",
       "        121.795  , 123.033  , 124.049  , 125.96116]))"
      ]
     },
     "execution_count": 9,
     "metadata": {},
     "output_type": "execute_result"
    }
   ],
   "source": [
    "# Get bitcoin date array\n",
    "timesteps = bitcoin_prices.index.to_numpy()\n",
    "prices = bitcoin_prices['Price'].to_numpy()\n",
    "\n",
    "timesteps[:10], prices[:10]"
   ]
  },
  {
   "cell_type": "code",
   "execution_count": 10,
   "id": "acd8af70",
   "metadata": {},
   "outputs": [
    {
     "data": {
      "text/plain": [
       "((2229,), (558,), (2229,), (558,))"
      ]
     },
     "execution_count": 10,
     "metadata": {},
     "output_type": "execute_result"
    }
   ],
   "source": [
    "# Wrong way to make train/test sets for time series data\n",
    "from sklearn.model_selection import train_test_split\n",
    "\n",
    "X_train, X_test, y_train, y_test = train_test_split(timesteps, # dates\n",
    "                                                    prices, # BTC price\n",
    "                                                    test_size=0.2,\n",
    "                                                    random_state=42)\n",
    "\n",
    "X_train.shape, X_test.shape, y_train.shape, y_test.shape"
   ]
  },
  {
   "cell_type": "code",
   "execution_count": 11,
   "id": "1c2db7b5",
   "metadata": {},
   "outputs": [
    {
     "data": {
      "image/png": "[encoded data removed]",
      "text/plain": [
       "<Figure size 1000x700 with 1 Axes>"
      ]
     },
     "metadata": {},
     "output_type": "display_data"
    }
   ],
   "source": [
    "# Let's plot wrong train and test splits\n",
    "plt.figure(figsize=(10, 7))\n",
    "plt.scatter(X_train, y_train, s=5, label='Train data')\n",
    "plt.scatter(X_test, y_test, s=5, label='Test data')\n",
    "plt.xlabel('Data')\n",
    "plt.ylabel('BTC Price')\n",
    "plt.legend(fontsize=14)\n",
    "plt.show()"
   ]
  },
  {
   "cell_type": "markdown",
   "id": "d9c27238",
   "metadata": {},
   "source": [
    "### Create train and test sets for time series (the right way)"
   ]
  },
  {
   "cell_type": "code",
   "execution_count": 12,
   "id": "ba8ec97e",
   "metadata": {},
   "outputs": [
    {
     "data": {
      "text/plain": [
       "(2229, 558, 2229, 558)"
      ]
     },
     "execution_count": 12,
     "metadata": {},
     "output_type": "execute_result"
    }
   ],
   "source": [
    "# Create train and test splits the right way for time series data\n",
    "split_size = int(0.8 * len(prices)) # 80% train, 20% test\n",
    "\n",
    "# Create train data splits (everything before the splits)\n",
    "X_train, y_train = timesteps[:split_size], prices[:split_size]\n",
    "\n",
    "# Create test data splits (everything beyond the split)\n",
    "X_test, y_test = timesteps[split_size:], prices[split_size:]\n",
    "\n",
    "len(X_train), len(X_test), len(y_train), len(y_test)"
   ]
  },
  {
   "cell_type": "code",
   "execution_count": 13,
   "id": "d7b4d4cd",
   "metadata": {},
   "outputs": [
    {
     "data": {
      "image/png": "[encoded data removed]",
      "text/plain": [
       "<Figure size 1000x700 with 1 Axes>"
      ]
     },
     "metadata": {},
     "output_type": "display_data"
    }
   ],
   "source": [
    "# Plto with the correctly splits\n",
    "plt.figure(figsize=(10, 7))\n",
    "plt.scatter(X_train, y_train, s=5, label='Train data')\n",
    "plt.scatter(X_test, y_test, s=5, label='Test data')\n",
    "plt.xlabel('Data')\n",
    "plt.ylabel('BTC Price')\n",
    "plt.legend(fontsize=14)\n",
    "plt.show()"
   ]
  },
  {
   "cell_type": "markdown",
   "id": "864cc198",
   "metadata": {},
   "source": [
    "## Create a plotting function"
   ]
  },
  {
   "cell_type": "code",
   "execution_count": 14,
   "id": "4289393c",
   "metadata": {},
   "outputs": [],
   "source": [
    "# Create a function to plot time series data\n",
    "def plot_time_series(timesteps, values, format=\".\", start=0, end=None, label=None):\n",
    "    \"\"\"\n",
    "    Plots timesteps (a series of points in time) against values (a series of values across timesteps).\n",
    "\n",
    "    Parameters:\n",
    "    -----------\n",
    "    timesteps: array of timestep values\n",
    "    values: array of values across time\n",
    "    format: style of plot, default \".\"\n",
    "    start: where to start the plot (setting a value will index from start of timesteps and values)\n",
    "    end: where to end the plot\n",
    "    label: label to show on plot about values\n",
    "    \"\"\"\n",
    "    # Plot the series\n",
    "    plt.plot(timesteps[start:end], values[start:end], format, label=label)\n",
    "    plt.xlabel(\"Time\")\n",
    "    plt.ylabel(\"BTC Price\")\n",
    "    if label:\n",
    "        plt.legend(fontsize=14)\n",
    "    plt.grid(True)"
   ]
  },
  {
   "cell_type": "code",
   "execution_count": 15,
   "id": "8a5a9712",
   "metadata": {},
   "outputs": [
    {
     "data": {
      "image/png": "[encoded data removed]",
      "text/plain": [
       "<Figure size 1000x700 with 1 Axes>"
      ]
     },
     "metadata": {},
     "output_type": "display_data"
    }
   ],
   "source": [
    "# Test out plotting function\n",
    "plt.figure(figsize=(10, 7))\n",
    "plot_time_series(timesteps=X_train, values=y_train, label=\"Train data\")\n",
    "plot_time_series(timesteps=X_test, values=y_test, label=\"Test data\")"
   ]
  },
  {
   "cell_type": "markdown",
   "id": "d35ca8ea",
   "metadata": {},
   "source": [
    "## Modelling Experiments\n",
    "\n",
    "We have got some Bitcoin historical data, to model it, let's run a series of modelling experiments and see which model performs best.\n",
    "\n",
    "Terms to be familiar with:\n",
    "\n",
    "* **Horizon** = number of timesteps into the future we are going to predict\n",
    "* **Window size** = number of timesteps we are going to use to predict **horizon**\n",
    "\n",
    "Modelling experiments we are running:\n",
    "\n",
    "1. Naïve model (baseline)\n",
    "2. Dense Model, horizon = 1, window = 7\n",
    "3. Dense Model, horizon = 1, window = 30\n",
    "4. Dense Model, horizon = 7, window = 30\n",
    "5. Conv1D\n",
    "6. LSTM\n",
    "7. Dense Model, horizon = 1, window = 7 (but with multivariate data)\n",
    "8. N-BEATs Algorithm\n",
    "9. Ensemble (multiple models optimized stacked together)\n",
    "10. Future prediction model\n",
    "11. Dense Model (but with turkey data introduced) "
   ]
  },
  {
   "cell_type": "markdown",
   "id": "fc58f85b",
   "metadata": {},
   "source": [
    "## Model 0: Naive forecast (baseline)\n",
    "\n",
    "The formula looks like this:\n",
    "\n",
    "$$\\hat{y}_{t} = y_{t-1}$$\n",
    "\n",
    "In English:\n",
    "\n",
    "> The prediction at timestep t (y-hat) is equal to the value at timestep t-1 (previous step) - this is for horizon of 1."
   ]
  },
  {
   "cell_type": "code",
   "execution_count": 16,
   "id": "66850391",
   "metadata": {},
   "outputs": [
    {
     "data": {
      "text/plain": [
       "(array([9226.48582088, 8794.35864452, 8798.04205463, 9081.18687849,\n",
       "        8711.53433917, 8760.89271814, 8749.52059102, 8656.97092235,\n",
       "        8500.64355816, 8469.2608989 ]),\n",
       " array([57107.12067189, 58788.20967893, 58102.19142623, 55715.54665129,\n",
       "        56573.5554719 , 52147.82118698, 49764.1320816 , 50032.69313676,\n",
       "        47885.62525472, 45604.61575361]))"
      ]
     },
     "execution_count": 16,
     "metadata": {},
     "output_type": "execute_result"
    }
   ],
   "source": [
    "# Create a naive forecast\n",
    "naive_forecast = y_test[:-1]\n",
    "\n",
    "naive_forecast[:10], naive_forecast[-10:]"
   ]
  },
  {
   "cell_type": "code",
   "execution_count": 17,
   "id": "f978017f",
   "metadata": {},
   "outputs": [
    {
     "data": {
      "image/png": "[encoded data removed]",
      "text/plain": [
       "<Figure size 1000x700 with 1 Axes>"
      ]
     },
     "metadata": {},
     "output_type": "display_data"
    }
   ],
   "source": [
    "# Plot naive forecast\n",
    "plt.figure(figsize=(10, 7))\n",
    "plot_time_series(timesteps=X_train, values=y_train, label=\"Train data\")\n",
    "plot_time_series(timesteps=X_test, values=y_test, label=\"Test data\")\n",
    "plot_time_series(timesteps=X_test[1:], values=naive_forecast, format=\"-\", label=\"Naive Forecast\")"
   ]
  },
  {
   "cell_type": "markdown",
   "id": "aa45efec",
   "metadata": {},
   "source": [
    "## Evaluating a time series model\n",
    "\n",
    "Let's look into some evaluation metrics for time series forecasting.\n",
    "\n",
    "What are we doing? We are predicting a number, so that means we have a form of a regression problem.\n",
    "\n",
    "Because we are working on a regression problem, we will need some regression-like metrics.\n",
    "\n",
    "A few common regression metrics which can also be used for time series forecasting:\n",
    "\n",
    "* MAE - mean absolute error\n",
    "* MSE - mean squared error\n",
    "* RMSE - root mean square error\n",
    "* MAPE - mean absolute percentage error\n",
    "* MASE - mean absolute scaled error\n",
    "\n",
    "For all the above metrics, **lower is better**.\n",
    "\n",
    "The main thing we are evaluating here is: **how do our model's forecast (y_pred) compare against the actual values (y_true or ground truth values)?** "
   ]
  },
  {
   "cell_type": "code",
   "execution_count": 18,
   "id": "42bb23f5",
   "metadata": {},
   "outputs": [],
   "source": [
    "import tensorflow as tf"
   ]
  },
  {
   "cell_type": "code",
   "execution_count": 19,
   "id": "ae9e9f59",
   "metadata": {},
   "outputs": [],
   "source": [
    "# MASE implementation\n",
    "def mean_absolute_scaled_error(y_true, y_pred):\n",
    "    \"\"\"\n",
    "    Implement MASE (assuming no seasonality of data).\n",
    "    \"\"\"\n",
    "    mae = tf.reduce_mean(tf.abs(y_true - y_pred))\n",
    "\n",
    "    # Find MAE of naive forecast (no seasonality)\n",
    "    mae_naive_no_season = tf.reduce_mean(tf.abs(y_true[1:] - y_true[:-1])) # our seasonality is 1 day (hence the shift of 1)\n",
    "\n",
    "    return mae / mae_naive_no_season"
   ]
  },
  {
   "cell_type": "code",
   "execution_count": 20,
   "id": "0d85bb57",
   "metadata": {},
   "outputs": [
    {
     "data": {
      "text/plain": [
       "0.9995699939182624"
      ]
     },
     "execution_count": 20,
     "metadata": {},
     "output_type": "execute_result"
    }
   ],
   "source": [
    "mean_absolute_scaled_error(y_true=y_test[1:], y_pred=naive_forecast).numpy()"
   ]
  },
  {
   "cell_type": "code",
   "execution_count": 21,
   "id": "a06fe4df",
   "metadata": {},
   "outputs": [],
   "source": [
    "# Create a function to take in model predictions and truth values and return evaluation metrics\n",
    "def evaluate_preds(y_true, y_pred):\n",
    "    # Make sure float32 datatype (for metric calculation)\n",
    "    y_true = tf.cast(y_true, dtype=tf.float32)\n",
    "    y_pred = tf.cast(y_pred, dtype=tf.float32)\n",
    "\n",
    "    # Calculate various evaluation metrics\n",
    "    mae = tf.keras.metrics.mean_absolute_error(y_true, y_pred)\n",
    "    mse = tf.keras.metrics.mean_squared_error(y_true, y_pred)\n",
    "    rmse = tf.sqrt(mse)\n",
    "    mape = tf.keras.metrics.mean_absolute_percentage_error(y_true, y_pred)\n",
    "    mase = mean_absolute_scaled_error(y_true, y_pred)\n",
    "\n",
    "    return {\n",
    "        \"mae\": mae.numpy(),\n",
    "        \"mse\": mse.numpy(),\n",
    "        \"rmse\": rmse.numpy(),\n",
    "        \"mape\": mape.numpy(),\n",
    "        \"mase\": mase.numpy()\n",
    "    }"
   ]
  },
  {
   "cell_type": "code",
   "execution_count": 22,
   "id": "5702372e",
   "metadata": {},
   "outputs": [
    {
     "data": {
      "text/plain": [
       "{'mae': 567.9802,\n",
       " 'mse': 1147547.0,\n",
       " 'rmse': 1071.2362,\n",
       " 'mape': 2.516525,\n",
       " 'mase': 0.99957}"
      ]
     },
     "execution_count": 22,
     "metadata": {},
     "output_type": "execute_result"
    }
   ],
   "source": [
    "# Let's now see if it works\n",
    "naive_results = evaluate_preds(y_true=y_test[1:],\n",
    "                               y_pred=naive_forecast)\n",
    "naive_results"
   ]
  },
  {
   "cell_type": "code",
   "execution_count": 23,
   "id": "5990a758",
   "metadata": {},
   "outputs": [
    {
     "data": {
      "text/plain": [
       "<tf.Tensor: shape=(), dtype=float64, numpy=20056.632963737222>"
      ]
     },
     "execution_count": 23,
     "metadata": {},
     "output_type": "execute_result"
    }
   ],
   "source": [
    "tf.reduce_mean(y_test)"
   ]
  },
  {
   "cell_type": "code",
   "execution_count": 24,
   "id": "10a3612b",
   "metadata": {},
   "outputs": [
    {
     "data": {
      "text/plain": [
       "(<tf.Tensor: shape=(), dtype=float64, numpy=4944.7023359837>,\n",
       " <tf.Tensor: shape=(), dtype=float64, numpy=63346.7890351052>)"
      ]
     },
     "execution_count": 24,
     "metadata": {},
     "output_type": "execute_result"
    }
   ],
   "source": [
    "tf.reduce_min(y_test), tf.reduce_max(y_test)"
   ]
  },
  {
   "cell_type": "markdown",
   "id": "86f95069",
   "metadata": {},
   "source": [
    "## Others Models for Time Series Forecasting\n",
    "\n",
    "In this notebook we are going to use only neural networks for time series forecasting, but there are a plenty of models used in the industry or as a baseline model you can use."
   ]
  },
  {
   "attachments": {
    "image.png": {
     "image/png": "[encoded data removed]"
    }
   },
   "cell_type": "markdown",
   "id": "c393aa09",
   "metadata": {},
   "source": [
    "![image.png](attachment:image.png)"
   ]
  },
  {
   "cell_type": "markdown",
   "id": "21c7fa33",
   "metadata": {},
   "source": [
    "## Format Data Part 2: Windowing our dataset\n",
    "\n",
    "Why do we window?\n",
    "\n",
    "We window our time series dataset to turn our data into a supervised learning problem.\n",
    "\n",
    "```\n",
    "Windowing for one week\n",
    "[0, 1, 2, 3, 4, 5, 6] --> [7]\n",
    "[1, 2, 3, 4, 5, 6, 7] --> [8]\n",
    "[2, 3, 4, 5, 6, 7, 8] --> [9]\n",
    "```"
   ]
  },
  {
   "cell_type": "code",
   "execution_count": 25,
   "id": "8b6f42f1",
   "metadata": {},
   "outputs": [
    {
     "data": {
      "text/plain": [
       "2229"
      ]
     },
     "execution_count": 25,
     "metadata": {},
     "output_type": "execute_result"
    }
   ],
   "source": [
    "len(y_train)"
   ]
  },
  {
   "cell_type": "code",
   "execution_count": 26,
   "id": "1b9651aa",
   "metadata": {},
   "outputs": [
    {
     "name": "stdout",
     "output_type": "stream",
     "text": [
      "We want to use: [123.65499, 125.455, 108.58483, 118.67466, 121.33866, 120.65533, 121.795] to predict this: 123.033\n"
     ]
    }
   ],
   "source": [
    "# What we want to do with our Bitcoin data\n",
    "print(f\"We want to use: {btc_price[:7]} to predict this: {btc_price[7]}\")"
   ]
  },
  {
   "cell_type": "code",
   "execution_count": 27,
   "id": "17089829",
   "metadata": {},
   "outputs": [],
   "source": [
    "# Let's setup global variables for window and horizon size\n",
    "HORIZON = 1 # predict next 1 day\n",
    "WINDOW_SIZE = 7 # use the past week of Bitcoin data to make the prediction"
   ]
  },
  {
   "cell_type": "code",
   "execution_count": 28,
   "id": "4e6e7d48",
   "metadata": {},
   "outputs": [],
   "source": [
    "# Create function to label window data\n",
    "def get_labelled_windows(x, horizon=HORIZON):\n",
    "    \"\"\"\n",
    "    Creates labels for windowed dataset.\n",
    "\n",
    "    E.g. if horizon = 1 --> Input: [0, 1, 2, 3, 4, 5, 6, 7] --> Output: ([0, 1, 2, 3, 4, 5, 6, 7], [7])\n",
    "    \"\"\"\n",
    "    return x[:, :-horizon], x[:, -horizon:]"
   ]
  },
  {
   "cell_type": "code",
   "execution_count": 29,
   "id": "6dcfa33b",
   "metadata": {},
   "outputs": [
    {
     "name": "stdout",
     "output_type": "stream",
     "text": [
      "Window: [0 1 2 3 4 5 6] -> Label: 7\n"
     ]
    }
   ],
   "source": [
    "# Test out the window labelling function\n",
    "test_window, test_label = get_labelled_windows(tf.expand_dims(tf.range(8), axis = 0))\n",
    "print(f\"Window: {tf.squeeze(test_window).numpy()} -> Label: {tf.squeeze(test_label).numpy()}\")"
   ]
  },
  {
   "cell_type": "markdown",
   "id": "0d51bd96",
   "metadata": {},
   "source": [
    "We have got a way to label our windowed data.\n",
    "\n",
    "However, this only works on a small scale.\n",
    "\n",
    "We need a way to do the above across our entire time series.\n",
    "\n",
    "We could do this with Python for loops, however, for large time series, that'd be quite slow.\n",
    "\n",
    "To speed things up, we will leverage NumPy's array indexing.\n",
    "\n",
    "Our function will:\n",
    "1. Create a window step of specific window size.\n",
    "2. It will numpy indexing to create a 2D array of multiple window steps, for example:\n",
    "```\n",
    "[\n",
    "    [0, 1, 2, 3, 4, 5, 6],\n",
    "    [1, 2, 3, 4, 5, 6, 7],\n",
    "    [2, 3, 4, 5, 6, 7, 8]\n",
    "]\n",
    "```\n",
    "3. Uses the 2D array of multiple window steps (from 2.) to index on a target series.\n",
    "4. Uses our `get_labelled_windows()` function we created above to turn the window steps into windows with specified horizon."
   ]
  },
  {
   "cell_type": "code",
   "execution_count": 30,
   "id": "83361e19",
   "metadata": {},
   "outputs": [],
   "source": [
    "import numpy as np\n",
    "\n",
    "# Create function to view NumPy arrays as windows\n",
    "def make_windows(x, window_size=WINDOW_SIZE, horizon=HORIZON):\n",
    "    \"\"\"\n",
    "    Turns a 1D into a 2D array of sequential labelled windows of window_size with horizon size labels.\n",
    "    \"\"\"\n",
    "    # 1. Create a window of specific window_size (add the horzion on the end for labelling later)\n",
    "    window_step = np.expand_dims(np.arange(window_size + horizon), axis=0)\n",
    "\n",
    "    # 2. Create a 2D array of multiple window steps (minus 1 to account for 0 indexing)\n",
    "    window_indexes = window_step + np.expand_dims(np.arange(len(x) - (window_size + horizon - 1)), axis=0).T # create 2D array of windows of size window_siz\n",
    "\n",
    "    # 3. Index on the target array (a time series) with 2D array of multiple window steps\n",
    "    windowed_array = x[window_indexes]\n",
    "\n",
    "    # 4. Get the labelled windows\n",
    "    windows, labels = get_labelled_windows(windowed_array, horizon=horizon)\n",
    "\n",
    "    return windows, labels"
   ]
  },
  {
   "cell_type": "code",
   "execution_count": 31,
   "id": "232bacdc",
   "metadata": {},
   "outputs": [
    {
     "data": {
      "text/plain": [
       "(2780, 2780)"
      ]
     },
     "execution_count": 31,
     "metadata": {},
     "output_type": "execute_result"
    }
   ],
   "source": [
    "full_windows, full_labels = make_windows(prices, window_size=WINDOW_SIZE, horizon=HORIZON)\n",
    "len(full_windows), len(full_labels)"
   ]
  },
  {
   "cell_type": "code",
   "execution_count": 32,
   "id": "cdbdb2e9",
   "metadata": {},
   "outputs": [
    {
     "name": "stdout",
     "output_type": "stream",
     "text": [
      "Window: [123.65499 125.455   108.58483 118.67466 121.33866 120.65533 121.795  ] -> Label: [123.033]\n",
      "Window: [125.455   108.58483 118.67466 121.33866 120.65533 121.795   123.033  ] -> Label: [124.049]\n",
      "Window: [108.58483 118.67466 121.33866 120.65533 121.795   123.033   124.049  ] -> Label: [125.96116]\n"
     ]
    }
   ],
   "source": [
    "# View the first 3 windows/labels\n",
    "for i in range(3):\n",
    "    print(f'Window: {full_windows[i]} -> Label: {full_labels[i]}')"
   ]
  },
  {
   "cell_type": "code",
   "execution_count": 33,
   "id": "59151d16",
   "metadata": {},
   "outputs": [
    {
     "name": "stdout",
     "output_type": "stream",
     "text": [
      "Window: [58788.20967893 58102.19142623 55715.54665129 56573.5554719\n",
      " 52147.82118698 49764.1320816  50032.69313676] -> Label: [47885.62525472]\n",
      "Window: [58102.19142623 55715.54665129 56573.5554719  52147.82118698\n",
      " 49764.1320816  50032.69313676 47885.62525472] -> Label: [45604.61575361]\n",
      "Window: [55715.54665129 56573.5554719  52147.82118698 49764.1320816\n",
      " 50032.69313676 47885.62525472 45604.61575361] -> Label: [43144.47129086]\n"
     ]
    }
   ],
   "source": [
    "# View the last 3 windows/labels\n",
    "for i in range(3):\n",
    "    print(f'Window: {full_windows[i-3]} -> Label: {full_labels[i-3]}')"
   ]
  },
  {
   "cell_type": "markdown",
   "id": "1b663e8c",
   "metadata": {},
   "source": [
    "## Turning windows into training and test sets"
   ]
  },
  {
   "cell_type": "code",
   "execution_count": 34,
   "id": "9f0fcf2b",
   "metadata": {},
   "outputs": [],
   "source": [
    "# Make the train/test splits\n",
    "def make_train_test_splits(windows, labels, test_split=0.2):\n",
    "    \"\"\"\n",
    "    Splits matching pairs of windows and labels into train an test splits.\n",
    "    \"\"\"\n",
    "    splits_size = int(len(windows) * (1 - test_split)) # this will default 80% train / 20% test\n",
    "    train_windows = windows[:split_size]\n",
    "    train_labels = labels[:split_size]\n",
    "    test_windows = windows[split_size:]\n",
    "    test_labels = labels[split_size:]\n",
    "    return train_windows, test_windows, train_labels, test_labels"
   ]
  },
  {
   "cell_type": "code",
   "execution_count": 35,
   "id": "bef31773",
   "metadata": {},
   "outputs": [
    {
     "data": {
      "text/plain": [
       "(2229, 551, 2229, 551)"
      ]
     },
     "execution_count": 35,
     "metadata": {},
     "output_type": "execute_result"
    }
   ],
   "source": [
    "train_windows, test_windows, train_labels, test_labels = make_train_test_splits(full_windows, full_labels)\n",
    "len(train_windows), len(test_windows), len(train_labels), len(test_labels)"
   ]
  },
  {
   "cell_type": "code",
   "execution_count": 36,
   "id": "d76eb571",
   "metadata": {},
   "outputs": [
    {
     "data": {
      "text/plain": [
       "True"
      ]
     },
     "execution_count": 36,
     "metadata": {},
     "output_type": "execute_result"
    }
   ],
   "source": [
    "np.array_equal(np.squeeze(train_labels[:-HORIZON-6]), y_train[WINDOW_SIZE:])"
   ]
  },
  {
   "cell_type": "markdown",
   "id": "31d4b47c",
   "metadata": {},
   "source": [
    "## Make a modelling checkpoint callback\n",
    "\n",
    "Because our model's performance will fluctuate from experiment to experiment, we're going to write a model checkpoint so we can compare apples to apples.\n",
    "\n",
    "More specifically, we want to compare each of our model's best performances against the other model's best performances.\n",
    "\n",
    "For example if our model performs the best on epoch 55 (but we are training for 100 epochs), we want to load and evaluate the model saved on epoch 55.\n",
    "\n",
    "We can create modelling checkpoint callback using the following: https://www.tensorflow.org/api_docs/python/tf/keras/callbacks/ModelCheckpoint"
   ]
  },
  {
   "cell_type": "code",
   "execution_count": 37,
   "id": "5fe80ecc",
   "metadata": {},
   "outputs": [],
   "source": [
    "import os\n",
    "\n",
    "# Create a function to implement a ModelCheckpoint callback with a specific filename\n",
    "def create_model_checkpoint(model_name, save_path='model_experiments'):\n",
    "    return tf.keras.callbacks.ModelCheckpoint(filepath=os.path.join(save_path, model_name),\n",
    "                                              monitor='val_loss',\n",
    "                                              verbose=0, # only output a limited amount of text\n",
    "                                              save_best_only=True)"
   ]
  },
  {
   "cell_type": "markdown",
   "id": "4f378620",
   "metadata": {},
   "source": [
    "## Model 1: Dense Model (window = 7, horizon = 1)\n",
    "\n",
    "Our first deep model is going to be a simple dense model:\n",
    "\n",
    "* A single dense layer with 128 hidden units and ReLU\n",
    "* An output layer with linear activation (no activation)\n",
    "* Adam optimization and MAE loss function\n",
    "* Batch size of 128 (previously we have used 32)\n",
    "* 100 epochs\n",
    "\n",
    "Why these values?\n",
    "\n",
    "I picked them out of experimentation."
   ]
  },
  {
   "cell_type": "code",
   "execution_count": 38,
   "id": "2ee5065e",
   "metadata": {},
   "outputs": [
    {
     "name": "stdout",
     "output_type": "stream",
     "text": [
      "Epoch 1/100\n",
      "15/18 [========================>.....] - ETA: 0s - loss: 3007.6030 - mae: 3007.6030 - mse: 23878268.0000INFO:tensorflow:Assets written to: model_experiments\\model_1_dense\\assets\n",
      "18/18 [==============================] - 7s 113ms/step - loss: 2807.4443 - mae: 2807.4443 - mse: 21335928.0000 - val_loss: 6438.1670 - val_mae: 6438.1670 - val_mse: 74703040.0000\n",
      "Epoch 2/100\n",
      "15/18 [========================>.....] - ETA: 0s - loss: 505.2983 - mae: 505.2983 - mse: 873952.4375INFO:tensorflow:Assets written to: model_experiments\\model_1_dense\\assets\n",
      "18/18 [==============================] - 1s 78ms/step - loss: 492.3800 - mae: 492.3800 - mse: 844542.8750 - val_loss: 1609.7737 - val_mae: 1609.7737 - val_mse: 7495296.0000\n",
      "Epoch 3/100\n",
      "15/18 [========================>.....] - ETA: 0s - loss: 248.3150 - mae: 248.3150 - mse: 260506.7500INFO:tensorflow:Assets written to: model_experiments\\model_1_dense\\assets\n",
      "18/18 [==============================] - 1s 70ms/step - loss: 240.4376 - mae: 240.4376 - mse: 243798.6562 - val_loss: 1122.9175 - val_mae: 1122.9175 - val_mse: 4179742.2500\n",
      "Epoch 4/100\n",
      "18/18 [==============================] - 0s 13ms/step - loss: 210.9481 - mae: 210.9481 - mse: 216597.1875 - val_loss: 1142.4010 - val_mae: 1142.4010 - val_mse: 4033730.2500\n",
      "Epoch 5/100\n",
      "15/18 [========================>.....] - ETA: 0s - loss: 190.9962 - mae: 190.9962 - mse: 192860.8125INFO:tensorflow:Assets written to: model_experiments\\model_1_dense\\assets\n",
      "18/18 [==============================] - 1s 77ms/step - loss: 190.5978 - mae: 190.5978 - mse: 191091.5938 - val_loss: 1070.5228 - val_mae: 1070.5228 - val_mse: 3714451.0000\n",
      "Epoch 6/100\n",
      "18/18 [==============================] - ETA: 0s - loss: 184.5848 - mae: 184.5848 - mse: 180298.4375INFO:tensorflow:Assets written to: model_experiments\\model_1_dense\\assets\n",
      "18/18 [==============================] - 1s 63ms/step - loss: 184.5848 - mae: 184.5848 - mse: 180298.4375 - val_loss: 1042.0894 - val_mae: 1042.0894 - val_mse: 3552123.7500\n",
      "Epoch 7/100\n",
      " 9/18 [==============>...............] - ETA: 0s - loss: 178.7495 - mae: 178.7495 - mse: 188888.0156INFO:tensorflow:Assets written to: model_experiments\\model_1_dense\\assets\n",
      "18/18 [==============================] - 1s 54ms/step - loss: 180.6338 - mae: 180.6338 - mse: 173098.2500 - val_loss: 1024.4264 - val_mae: 1024.4264 - val_mse: 3347321.2500\n",
      "Epoch 8/100\n",
      "10/18 [===============>..............] - ETA: 0s - loss: 177.2588 - mae: 177.2588 - mse: 180141.8906INFO:tensorflow:Assets written to: model_experiments\\model_1_dense\\assets\n",
      "18/18 [==============================] - 1s 59ms/step - loss: 170.4509 - mae: 170.4509 - mse: 157256.5469 - val_loss: 948.9117 - val_mae: 948.9117 - val_mse: 2918705.7500\n",
      "Epoch 9/100\n",
      "18/18 [==============================] - 0s 8ms/step - loss: 162.4091 - mae: 162.4091 - mse: 143187.6875 - val_loss: 959.8422 - val_mae: 959.8422 - val_mse: 2843016.2500\n",
      "Epoch 10/100\n",
      "10/18 [===============>..............] - ETA: 0s - loss: 156.9324 - mae: 156.9324 - mse: 136954.8594INFO:tensorflow:Assets written to: model_experiments\\model_1_dense\\assets\n",
      "18/18 [==============================] - 1s 56ms/step - loss: 158.4938 - mae: 158.4938 - mse: 135612.6875 - val_loss: 896.4576 - val_mae: 896.4576 - val_mse: 2612665.5000\n",
      "Epoch 11/100\n",
      "12/18 [===================>..........] - ETA: 0s - loss: 150.8679 - mae: 150.8679 - mse: 126129.1875INFO:tensorflow:Assets written to: model_experiments\\model_1_dense\\assets\n",
      "18/18 [==============================] - 1s 52ms/step - loss: 155.5089 - mae: 155.5089 - mse: 131237.2969 - val_loss: 872.4309 - val_mae: 872.4309 - val_mse: 2485535.7500\n",
      "Epoch 12/100\n",
      "10/18 [===============>..............] - ETA: 0s - loss: 156.4857 - mae: 156.4857 - mse: 143026.6719INFO:tensorflow:Assets written to: model_experiments\\model_1_dense\\assets\n",
      "18/18 [==============================] - 1s 56ms/step - loss: 153.2372 - mae: 153.2372 - mse: 127020.5938 - val_loss: 863.6993 - val_mae: 863.6994 - val_mse: 2390003.0000\n",
      "Epoch 13/100\n",
      "11/18 [=================>............] - ETA: 0s - loss: 135.4547 - mae: 135.4547 - mse: 102621.7188INFO:tensorflow:Assets written to: model_experiments\\model_1_dense\\assets\n",
      "18/18 [==============================] - 1s 45ms/step - loss: 147.9485 - mae: 147.9485 - mse: 120695.7422 - val_loss: 829.2704 - val_mae: 829.2704 - val_mse: 2250408.0000\n",
      "Epoch 14/100\n",
      "18/18 [==============================] - 0s 9ms/step - loss: 143.3815 - mae: 143.3815 - mse: 113956.3438 - val_loss: 855.1992 - val_mae: 855.1992 - val_mse: 2243154.5000\n",
      "Epoch 15/100\n",
      "11/18 [=================>............] - ETA: 0s - loss: 142.3257 - mae: 142.3257 - mse: 110843.4531INFO:tensorflow:Assets written to: model_experiments\\model_1_dense\\assets\n",
      "18/18 [==============================] - 1s 56ms/step - loss: 141.0014 - mae: 141.0014 - mse: 110142.7812 - val_loss: 773.9477 - val_mae: 773.9477 - val_mse: 2029386.7500\n",
      "Epoch 16/100\n",
      "18/18 [==============================] - ETA: 0s - loss: 146.9044 - mae: 146.9044 - mse: 112963.1484INFO:tensorflow:Assets written to: model_experiments\\model_1_dense\\assets\n",
      "18/18 [==============================] - 1s 61ms/step - loss: 146.9044 - mae: 146.9044 - mse: 112963.1484 - val_loss: 764.9567 - val_mae: 764.9567 - val_mse: 1984476.7500\n",
      "Epoch 17/100\n",
      "16/18 [=========================>....] - ETA: 0s - loss: 135.3975 - mae: 135.3975 - mse: 103321.4688INFO:tensorflow:Assets written to: model_experiments\\model_1_dense\\assets\n",
      "18/18 [==============================] - 1s 67ms/step - loss: 135.8626 - mae: 135.8626 - mse: 101663.5703 - val_loss: 751.4016 - val_mae: 751.4016 - val_mse: 1912765.5000\n",
      "Epoch 18/100\n",
      "18/18 [==============================] - ETA: 0s - loss: 135.3094 - mae: 135.3094 - mse: 100092.0703INFO:tensorflow:Assets written to: model_experiments\\model_1_dense\\assets\n",
      "18/18 [==============================] - 1s 65ms/step - loss: 135.3094 - mae: 135.3094 - mse: 100092.0703 - val_loss: 729.2620 - val_mae: 729.2620 - val_mse: 1803951.6250\n",
      "Epoch 19/100\n",
      "11/18 [=================>............] - ETA: 0s - loss: 126.0761 - mae: 126.0761 - mse: 75523.1172INFO:tensorflow:Assets written to: model_experiments\\model_1_dense\\assets\n",
      "18/18 [==============================] - 1s 57ms/step - loss: 129.8217 - mae: 129.8217 - mse: 94443.1953 - val_loss: 715.0552 - val_mae: 715.0552 - val_mse: 1715648.8750\n",
      "Epoch 20/100\n",
      "18/18 [==============================] - 0s 10ms/step - loss: 126.7883 - mae: 126.7883 - mse: 91704.7969 - val_loss: 743.2709 - val_mae: 743.2709 - val_mse: 1738341.2500\n",
      "Epoch 21/100\n",
      "10/18 [===============>..............] - ETA: 0s - loss: 123.4723 - mae: 123.4723 - mse: 90663.0156INFO:tensorflow:Assets written to: model_experiments\\model_1_dense\\assets\n",
      "18/18 [==============================] - 1s 66ms/step - loss: 125.9571 - mae: 125.9571 - mse: 90005.8125 - val_loss: 699.3680 - val_mae: 699.3680 - val_mse: 1615511.5000\n",
      "Epoch 22/100\n",
      "18/18 [==============================] - 0s 11ms/step - loss: 123.0892 - mae: 123.0892 - mse: 86985.1172 - val_loss: 739.1141 - val_mae: 739.1141 - val_mse: 1682619.2500\n",
      "Epoch 23/100\n",
      "16/18 [=========================>....] - ETA: 0s - loss: 129.8164 - mae: 129.8164 - mse: 89187.2734INFO:tensorflow:Assets written to: model_experiments\\model_1_dense\\assets\n",
      "18/18 [==============================] - 1s 69ms/step - loss: 125.8425 - mae: 125.8425 - mse: 84540.9688 - val_loss: 683.3503 - val_mae: 683.3503 - val_mse: 1533396.6250\n",
      "Epoch 24/100\n",
      "18/18 [==============================] - 0s 12ms/step - loss: 121.0948 - mae: 121.0948 - mse: 83776.5234 - val_loss: 737.6667 - val_mae: 737.6667 - val_mse: 1650137.6250\n",
      "Epoch 25/100\n",
      "18/18 [==============================] - 0s 11ms/step - loss: 124.0677 - mae: 124.0677 - mse: 86366.6641 - val_loss: 727.2962 - val_mae: 727.2962 - val_mse: 1611720.1250\n",
      "Epoch 26/100\n",
      "16/18 [=========================>....] - ETA: 0s - loss: 125.2083 - mae: 125.2083 - mse: 87821.0547INFO:tensorflow:Assets written to: model_experiments\\model_1_dense\\assets\n",
      "18/18 [==============================] - 1s 83ms/step - loss: 122.2713 - mae: 122.2713 - mse: 83727.6172 - val_loss: 662.4329 - val_mae: 662.4329 - val_mse: 1445129.7500\n",
      "Epoch 27/100\n",
      "18/18 [==============================] - 0s 10ms/step - loss: 117.5753 - mae: 117.5753 - mse: 81607.6328 - val_loss: 773.9440 - val_mae: 773.9440 - val_mse: 1735369.0000\n",
      "Epoch 28/100\n",
      "18/18 [==============================] - 0s 9ms/step - loss: 126.0044 - mae: 126.0044 - mse: 84609.3047 - val_loss: 895.9127 - val_mae: 895.9127 - val_mse: 2133582.5000\n",
      "Epoch 29/100\n",
      "18/18 [==============================] - 0s 10ms/step - loss: 128.8980 - mae: 128.8980 - mse: 89064.3125 - val_loss: 770.4963 - val_mae: 770.4963 - val_mse: 1717290.7500\n",
      "Epoch 30/100\n",
      "18/18 [==============================] - 0s 9ms/step - loss: 121.9728 - mae: 121.9728 - mse: 81776.3672 - val_loss: 684.6910 - val_mae: 684.6910 - val_mse: 1472297.0000\n",
      "Epoch 31/100\n",
      "16/18 [=========================>....] - ETA: 0s - loss: 117.2950 - mae: 117.2950 - mse: 77911.4609INFO:tensorflow:Assets written to: model_experiments\\model_1_dense\\assets\n",
      "18/18 [==============================] - 1s 59ms/step - loss: 115.7103 - mae: 115.7103 - mse: 75508.6953 - val_loss: 626.6623 - val_mae: 626.6623 - val_mse: 1366781.5000\n",
      "Epoch 32/100\n",
      "18/18 [==============================] - 0s 10ms/step - loss: 113.6391 - mae: 113.6391 - mse: 76298.3828 - val_loss: 660.9445 - val_mae: 660.9445 - val_mse: 1405692.2500\n",
      "Epoch 33/100\n",
      "11/18 [=================>............] - ETA: 0s - loss: 109.5368 - mae: 109.5368 - mse: 67512.9297INFO:tensorflow:Assets written to: model_experiments\\model_1_dense\\assets\n",
      "18/18 [==============================] - 1s 56ms/step - loss: 118.1268 - mae: 118.1268 - mse: 78555.9531 - val_loss: 615.3984 - val_mae: 615.3984 - val_mse: 1326788.7500\n",
      "Epoch 34/100\n",
      "18/18 [==============================] - 0s 10ms/step - loss: 121.4722 - mae: 121.4722 - mse: 82137.3828 - val_loss: 693.6336 - val_mae: 693.6336 - val_mse: 1538823.0000\n",
      "Epoch 35/100\n",
      "18/18 [==============================] - 0s 8ms/step - loss: 120.6985 - mae: 120.6985 - mse: 79474.4297 - val_loss: 740.2025 - val_mae: 740.2025 - val_mse: 1686380.3750\n",
      "Epoch 36/100\n",
      "11/18 [=================>............] - ETA: 0s - loss: 114.3003 - mae: 114.3003 - mse: 76791.7344INFO:tensorflow:Assets written to: model_experiments\\model_1_dense\\assets\n",
      "18/18 [==============================] - 1s 49ms/step - loss: 115.7745 - mae: 115.7745 - mse: 76691.3125 - val_loss: 605.6143 - val_mae: 605.6143 - val_mse: 1292889.0000\n",
      "Epoch 37/100\n",
      "18/18 [==============================] - 0s 9ms/step - loss: 113.6631 - mae: 113.6631 - mse: 76142.6016 - val_loss: 611.3668 - val_mae: 611.3668 - val_mse: 1284165.7500\n",
      "Epoch 38/100\n",
      "18/18 [==============================] - 0s 10ms/step - loss: 110.7654 - mae: 110.7654 - mse: 73291.8047 - val_loss: 605.8682 - val_mae: 605.8682 - val_mse: 1271330.3750\n",
      "Epoch 39/100\n",
      "18/18 [==============================] - 0s 9ms/step - loss: 111.7917 - mae: 111.7917 - mse: 73595.0938 - val_loss: 605.9613 - val_mae: 605.9613 - val_mse: 1288613.7500\n",
      "Epoch 40/100\n",
      "10/18 [===============>..............] - ETA: 0s - loss: 104.7905 - mae: 104.7905 - mse: 61169.8359INFO:tensorflow:Assets written to: model_experiments\\model_1_dense\\assets\n",
      "18/18 [==============================] - 1s 60ms/step - loss: 110.7427 - mae: 110.7427 - mse: 72828.7656 - val_loss: 597.4733 - val_mae: 597.4733 - val_mse: 1263172.1250\n",
      "Epoch 41/100\n",
      "18/18 [==============================] - 0s 10ms/step - loss: 111.0507 - mae: 111.0507 - mse: 72993.4297 - val_loss: 632.8614 - val_mae: 632.8614 - val_mse: 1347659.1250\n",
      "Epoch 42/100\n",
      "18/18 [==============================] - 0s 11ms/step - loss: 110.7940 - mae: 110.7940 - mse: 73065.2812 - val_loss: 601.6586 - val_mae: 601.6586 - val_mse: 1252614.6250\n",
      "Epoch 43/100\n",
      "18/18 [==============================] - 0s 8ms/step - loss: 118.9107 - mae: 118.9107 - mse: 77774.9609 - val_loss: 611.7997 - val_mae: 611.7997 - val_mse: 1293084.8750\n",
      "Epoch 44/100\n",
      "17/18 [===========================>..] - ETA: 0s - loss: 112.7255 - mae: 112.7255 - mse: 74989.5703INFO:tensorflow:Assets written to: model_experiments\\model_1_dense\\assets\n",
      "18/18 [==============================] - 1s 52ms/step - loss: 111.9430 - mae: 111.9430 - mse: 73716.5859 - val_loss: 584.4413 - val_mae: 584.4413 - val_mse: 1221276.1250\n",
      "Epoch 45/100\n",
      "18/18 [==============================] - 0s 9ms/step - loss: 108.9203 - mae: 108.9203 - mse: 71594.2344 - val_loss: 592.7023 - val_mae: 592.7023 - val_mse: 1229935.7500\n",
      "Epoch 46/100\n",
      "18/18 [==============================] - 0s 11ms/step - loss: 112.1777 - mae: 112.1777 - mse: 73617.0234 - val_loss: 616.2115 - val_mae: 616.2115 - val_mse: 1277685.1250\n",
      "Epoch 47/100\n",
      "18/18 [==============================] - 0s 10ms/step - loss: 111.1783 - mae: 111.1783 - mse: 71457.2031 - val_loss: 609.7386 - val_mae: 609.7386 - val_mse: 1281227.1250\n",
      "Epoch 48/100\n",
      "13/18 [====================>.........] - ETA: 0s - loss: 113.6147 - mae: 113.6147 - mse: 73708.5312INFO:tensorflow:Assets written to: model_experiments\\model_1_dense\\assets\n",
      "18/18 [==============================] - 1s 53ms/step - loss: 111.2184 - mae: 111.2184 - mse: 74412.2266 - val_loss: 581.2723 - val_mae: 581.2723 - val_mse: 1210515.2500\n",
      "Epoch 49/100\n",
      "18/18 [==============================] - 0s 13ms/step - loss: 111.3340 - mae: 111.3340 - mse: 74271.1562 - val_loss: 703.1437 - val_mae: 703.1437 - val_mse: 1487675.0000\n",
      "Epoch 50/100\n",
      "12/18 [===================>..........] - ETA: 0s - loss: 113.5063 - mae: 113.5063 - mse: 69977.8672INFO:tensorflow:Assets written to: model_experiments\\model_1_dense\\assets\n",
      "18/18 [==============================] - 1s 54ms/step - loss: 112.5777 - mae: 112.5777 - mse: 74768.3203 - val_loss: 581.0179 - val_mae: 581.0179 - val_mse: 1212898.0000\n",
      "Epoch 51/100\n",
      "10/18 [===============>..............] - ETA: 0s - loss: 113.2721 - mae: 113.2721 - mse: 74779.8125INFO:tensorflow:Assets written to: model_experiments\\model_1_dense\\assets\n",
      "18/18 [==============================] - 1s 52ms/step - loss: 108.8770 - mae: 108.8770 - mse: 70644.6172 - val_loss: 580.9590 - val_mae: 580.9590 - val_mse: 1211773.8750\n",
      "Epoch 52/100\n",
      "18/18 [==============================] - 0s 12ms/step - loss: 111.0413 - mae: 111.0413 - mse: 71460.0234 - val_loss: 583.1484 - val_mae: 583.1484 - val_mse: 1216631.8750\n",
      "Epoch 53/100\n",
      "18/18 [==============================] - 0s 12ms/step - loss: 109.1569 - mae: 109.1569 - mse: 71049.7891 - val_loss: 593.6042 - val_mae: 593.6042 - val_mse: 1224434.2500\n",
      "Epoch 54/100\n",
      "18/18 [==============================] - 0s 8ms/step - loss: 110.8111 - mae: 110.8111 - mse: 70572.1641 - val_loss: 624.2637 - val_mae: 624.2637 - val_mse: 1303961.1250\n",
      "Epoch 55/100\n",
      "18/18 [==============================] - 0s 9ms/step - loss: 117.8865 - mae: 117.8865 - mse: 75118.3672 - val_loss: 619.4327 - val_mae: 619.4327 - val_mse: 1292081.5000\n",
      "Epoch 56/100\n",
      "18/18 [==============================] - 0s 9ms/step - loss: 110.5113 - mae: 110.5113 - mse: 71379.2734 - val_loss: 730.9308 - val_mae: 730.9308 - val_mse: 1600759.6250\n",
      "Epoch 57/100\n",
      "18/18 [==============================] - 0s 10ms/step - loss: 115.2848 - mae: 115.2848 - mse: 75364.1094 - val_loss: 603.0205 - val_mae: 603.0205 - val_mse: 1255271.5000\n",
      "Epoch 58/100\n",
      "11/18 [=================>............] - ETA: 0s - loss: 114.5757 - mae: 114.5757 - mse: 69663.2969INFO:tensorflow:Assets written to: model_experiments\\model_1_dense\\assets\n",
      "18/18 [==============================] - 1s 54ms/step - loss: 116.4605 - mae: 116.4605 - mse: 74863.6797 - val_loss: 573.5865 - val_mae: 573.5865 - val_mse: 1188458.0000\n",
      "Epoch 59/100\n",
      "18/18 [==============================] - 0s 12ms/step - loss: 107.3841 - mae: 107.3841 - mse: 70175.3828 - val_loss: 575.6939 - val_mae: 575.6939 - val_mse: 1194556.5000\n",
      "Epoch 60/100\n",
      "18/18 [==============================] - 0s 8ms/step - loss: 119.5981 - mae: 119.5981 - mse: 76319.5156 - val_loss: 650.5268 - val_mae: 650.5268 - val_mse: 1361786.2500\n",
      "Epoch 61/100\n",
      "18/18 [==============================] - 0s 8ms/step - loss: 117.0958 - mae: 117.0958 - mse: 74355.7969 - val_loss: 605.0378 - val_mae: 605.0378 - val_mse: 1242137.2500\n",
      "Epoch 62/100\n",
      "18/18 [==============================] - 0s 10ms/step - loss: 116.9237 - mae: 116.9237 - mse: 76782.3984 - val_loss: 688.1694 - val_mae: 688.1694 - val_mse: 1438519.5000\n",
      "Epoch 63/100\n",
      "18/18 [==============================] - 0s 9ms/step - loss: 129.1900 - mae: 129.1900 - mse: 85956.3438 - val_loss: 625.7414 - val_mae: 625.7414 - val_mse: 1288330.6250\n",
      "Epoch 64/100\n",
      " 9/18 [==============>...............] - ETA: 0s - loss: 112.2079 - mae: 112.2079 - mse: 70752.9688INFO:tensorflow:Assets written to: model_experiments\\model_1_dense\\assets\n",
      "18/18 [==============================] - 1s 52ms/step - loss: 114.1913 - mae: 114.1913 - mse: 72677.8594 - val_loss: 573.1454 - val_mae: 573.1454 - val_mse: 1179967.7500\n",
      "Epoch 65/100\n",
      "17/18 [===========================>..] - ETA: 0s - loss: 107.9953 - mae: 107.9953 - mse: 70837.6016 INFO:tensorflow:Assets written to: model_experiments\\model_1_dense\\assets\n",
      "18/18 [==============================] - 1s 54ms/step - loss: 107.5824 - mae: 107.5824 - mse: 70132.9141 - val_loss: 570.3752 - val_mae: 570.3752 - val_mse: 1177099.8750\n",
      "Epoch 66/100\n",
      "18/18 [==============================] - 0s 10ms/step - loss: 106.8610 - mae: 106.8610 - mse: 68905.4766 - val_loss: 603.1896 - val_mae: 603.1896 - val_mse: 1236205.8750\n",
      "Epoch 67/100\n",
      "18/18 [==============================] - 0s 12ms/step - loss: 107.7154 - mae: 107.7154 - mse: 70397.5547 - val_loss: 572.5164 - val_mae: 572.5164 - val_mse: 1176844.0000\n",
      "Epoch 68/100\n",
      "18/18 [==============================] - ETA: 0s - loss: 111.2493 - mae: 111.2493 - mse: 70877.1406INFO:tensorflow:Assets written to: model_experiments\\model_1_dense\\assets\n",
      "18/18 [==============================] - 1s 53ms/step - loss: 111.2493 - mae: 111.2493 - mse: 70877.1406 - val_loss: 569.3273 - val_mae: 569.3273 - val_mse: 1174065.7500\n",
      "Epoch 69/100\n",
      "18/18 [==============================] - 0s 9ms/step - loss: 108.6499 - mae: 108.6499 - mse: 69694.9219 - val_loss: 569.9406 - val_mae: 569.9406 - val_mse: 1173075.1250\n",
      "Epoch 70/100\n",
      "18/18 [==============================] - 0s 12ms/step - loss: 109.2112 - mae: 109.2112 - mse: 70685.4766 - val_loss: 577.9375 - val_mae: 577.9375 - val_mse: 1183141.0000\n",
      "Epoch 71/100\n",
      "10/18 [===============>..............] - ETA: 0s - loss: 112.8099 - mae: 112.8099 - mse: 76510.0703INFO:tensorflow:Assets written to: model_experiments\\model_1_dense\\assets\n",
      "18/18 [==============================] - 1s 52ms/step - loss: 107.7041 - mae: 107.7041 - mse: 70074.1797 - val_loss: 568.2616 - val_mae: 568.2616 - val_mse: 1170129.8750\n",
      "Epoch 72/100\n",
      "16/18 [=========================>....] - ETA: 0s - loss: 109.7413 - mae: 109.7413 - mse: 73362.1562INFO:tensorflow:Assets written to: model_experiments\\model_1_dense\\assets\n",
      "18/18 [==============================] - 1s 71ms/step - loss: 108.1146 - mae: 108.1146 - mse: 70728.7969 - val_loss: 568.0743 - val_mae: 568.0743 - val_mse: 1169538.3750\n",
      "Epoch 73/100\n",
      "18/18 [==============================] - 0s 13ms/step - loss: 108.8906 - mae: 108.8906 - mse: 71137.9219 - val_loss: 588.6816 - val_mae: 588.6816 - val_mse: 1201203.3750\n",
      "Epoch 74/100\n",
      "18/18 [==============================] - 0s 10ms/step - loss: 110.0667 - mae: 110.0667 - mse: 71703.9844 - val_loss: 651.6681 - val_mae: 651.6681 - val_mse: 1342013.5000\n",
      "Epoch 75/100\n",
      "18/18 [==============================] - 0s 9ms/step - loss: 110.7212 - mae: 110.7212 - mse: 71312.9922 - val_loss: 665.4297 - val_mae: 665.4297 - val_mse: 1392177.0000\n",
      "Epoch 76/100\n",
      "18/18 [==============================] - 0s 13ms/step - loss: 110.3475 - mae: 110.3475 - mse: 71043.8984 - val_loss: 568.4965 - val_mae: 568.4965 - val_mse: 1167492.3750\n",
      "Epoch 77/100\n",
      "18/18 [==============================] - 0s 9ms/step - loss: 111.8391 - mae: 111.8391 - mse: 70857.5547 - val_loss: 611.4874 - val_mae: 611.4874 - val_mse: 1251802.3750\n",
      "Epoch 78/100\n",
      "18/18 [==============================] - 0s 10ms/step - loss: 108.2353 - mae: 108.2353 - mse: 69834.7344 - val_loss: 569.0107 - val_mae: 569.0107 - val_mse: 1170443.3750\n",
      "Epoch 79/100\n",
      "16/18 [=========================>....] - ETA: 0s - loss: 110.6714 - mae: 110.6714 - mse: 66598.7812INFO:tensorflow:Assets written to: model_experiments\\model_1_dense\\assets\n",
      "18/18 [==============================] - 1s 55ms/step - loss: 111.9489 - mae: 111.9489 - mse: 71467.0938 - val_loss: 567.8335 - val_mae: 567.8335 - val_mse: 1165863.7500\n",
      "Epoch 80/100\n",
      "18/18 [==============================] - 0s 10ms/step - loss: 106.9592 - mae: 106.9592 - mse: 68280.7969 - val_loss: 634.0437 - val_mae: 634.0437 - val_mse: 1300801.0000\n",
      "Epoch 81/100\n",
      "18/18 [==============================] - 0s 9ms/step - loss: 112.2242 - mae: 112.2242 - mse: 74463.7734 - val_loss: 634.5938 - val_mae: 634.5938 - val_mse: 1311727.8750\n",
      "Epoch 82/100\n",
      "18/18 [==============================] - 0s 9ms/step - loss: 111.0524 - mae: 111.0524 - mse: 72216.7344 - val_loss: 572.6711 - val_mae: 572.6711 - val_mse: 1179580.5000\n",
      "Epoch 83/100\n",
      "18/18 [==============================] - 0s 10ms/step - loss: 107.9301 - mae: 107.9301 - mse: 69031.0156 - val_loss: 630.1810 - val_mae: 630.1810 - val_mse: 1291723.7500\n",
      "Epoch 84/100\n",
      "18/18 [==============================] - 0s 8ms/step - loss: 110.6993 - mae: 110.6993 - mse: 70656.0312 - val_loss: 572.2280 - val_mae: 572.2280 - val_mse: 1170977.3750\n",
      "Epoch 85/100\n",
      "18/18 [==============================] - 0s 9ms/step - loss: 106.2600 - mae: 106.2600 - mse: 69393.7422 - val_loss: 573.8897 - val_mae: 573.8897 - val_mse: 1172778.0000\n",
      "Epoch 86/100\n",
      "18/18 [==============================] - 0s 14ms/step - loss: 108.0961 - mae: 108.0961 - mse: 70682.1250 - val_loss: 588.6031 - val_mae: 588.6031 - val_mse: 1199593.0000\n",
      "Epoch 87/100\n",
      "16/18 [=========================>....] - ETA: 0s - loss: 104.5557 - mae: 104.5557 - mse: 69037.7656INFO:tensorflow:Assets written to: model_experiments\\model_1_dense\\assets\n",
      "18/18 [==============================] - 1s 47ms/step - loss: 106.1972 - mae: 106.1972 - mse: 69109.1875 - val_loss: 566.8762 - val_mae: 566.8762 - val_mse: 1163052.6250\n",
      "Epoch 88/100\n",
      "18/18 [==============================] - 0s 14ms/step - loss: 107.0062 - mae: 107.0062 - mse: 68658.4453 - val_loss: 618.7761 - val_mae: 618.7761 - val_mse: 1274458.1250\n",
      "Epoch 89/100\n",
      "18/18 [==============================] - 0s 10ms/step - loss: 107.1477 - mae: 107.1477 - mse: 70252.0234 - val_loss: 645.6984 - val_mae: 645.6984 - val_mse: 1325919.5000\n",
      "Epoch 90/100\n",
      "18/18 [==============================] - 0s 13ms/step - loss: 113.3851 - mae: 113.3851 - mse: 72096.1797 - val_loss: 609.5443 - val_mae: 609.5443 - val_mse: 1243910.6250\n",
      "Epoch 91/100\n",
      "18/18 [==============================] - 0s 10ms/step - loss: 109.3189 - mae: 109.3189 - mse: 69901.3281 - val_loss: 594.3898 - val_mae: 594.3898 - val_mse: 1223606.1250\n",
      "Epoch 92/100\n",
      "18/18 [==============================] - 0s 11ms/step - loss: 111.7443 - mae: 111.7443 - mse: 70717.1953 - val_loss: 656.1307 - val_mae: 656.1307 - val_mse: 1363729.2500\n",
      "Epoch 93/100\n",
      "18/18 [==============================] - 0s 10ms/step - loss: 109.6030 - mae: 109.6030 - mse: 70124.4844 - val_loss: 575.2219 - val_mae: 575.2219 - val_mse: 1182733.0000\n",
      "Epoch 94/100\n",
      "18/18 [==============================] - 0s 9ms/step - loss: 109.7614 - mae: 109.7614 - mse: 71883.1797 - val_loss: 608.5852 - val_mae: 608.5852 - val_mse: 1240234.2500\n",
      "Epoch 95/100\n",
      "18/18 [==============================] - 0s 12ms/step - loss: 108.2789 - mae: 108.2789 - mse: 68083.9297 - val_loss: 656.3303 - val_mae: 656.3303 - val_mse: 1350955.6250\n",
      "Epoch 96/100\n",
      "18/18 [==============================] - 0s 6ms/step - loss: 113.9222 - mae: 113.9222 - mse: 72028.7734 - val_loss: 591.7417 - val_mae: 591.7417 - val_mse: 1218296.1250\n",
      "Epoch 97/100\n",
      "18/18 [==============================] - 0s 9ms/step - loss: 108.6854 - mae: 108.6854 - mse: 71071.6641 - val_loss: 601.6489 - val_mae: 601.6489 - val_mse: 1226180.1250\n",
      "Epoch 98/100\n",
      "18/18 [==============================] - 0s 9ms/step - loss: 106.9308 - mae: 106.9308 - mse: 69639.0312 - val_loss: 601.0942 - val_mae: 601.0942 - val_mse: 1236364.1250\n",
      "Epoch 99/100\n",
      "18/18 [==============================] - 0s 9ms/step - loss: 108.3434 - mae: 108.3434 - mse: 70729.1719 - val_loss: 590.9846 - val_mae: 590.9846 - val_mse: 1200550.0000\n",
      "Epoch 100/100\n",
      "18/18 [==============================] - 0s 9ms/step - loss: 109.1690 - mae: 109.1690 - mse: 70559.9141 - val_loss: 576.4996 - val_mae: 576.4996 - val_mse: 1184611.6250\n"
     ]
    },
    {
     "data": {
      "text/plain": [
       "<keras.callbacks.History at 0x2ab18e954e0>"
      ]
     },
     "execution_count": 38,
     "metadata": {},
     "output_type": "execute_result"
    }
   ],
   "source": [
    "import tensorflow as tf\n",
    "from tensorflow.keras import layers # type: ignore\n",
    "\n",
    "# Set random seed for as reporducible results as possible\n",
    "tf.random.set_seed(42)\n",
    "\n",
    "# 1. Construct the model\n",
    "model_1 = tf.keras.Sequential([\n",
    "    layers.Dense(128, activation='relu'),\n",
    "    layers.Dense(HORIZON, activation='linear')\n",
    "], name='model_1_dense') # name our model so we can save it\n",
    "\n",
    "# 2. Compile\n",
    "model_1.compile(loss='mae',\n",
    "                optimizer=tf.keras.optimizers.Adam(),\n",
    "                metrics=['mae', 'mse'])\n",
    "\n",
    "# Fit the model\n",
    "model_1.fit(x=train_windows,\n",
    "            y=train_labels,\n",
    "            epochs=100,\n",
    "            verbose=1,\n",
    "            batch_size=128,\n",
    "            validation_data=(test_windows, test_labels),\n",
    "            callbacks=[create_model_checkpoint(model_name=model_1.name)])"
   ]
  },
  {
   "cell_type": "code",
   "execution_count": 39,
   "id": "b35cc5f8",
   "metadata": {},
   "outputs": [
    {
     "name": "stdout",
     "output_type": "stream",
     "text": [
      "18/18 [==============================] - 0s 3ms/step - loss: 576.5372 - mae: 576.5372 - mse: 1184827.1250\n"
     ]
    },
    {
     "data": {
      "text/plain": [
       "[576.5371704101562, 576.5371704101562, 1184827.125]"
      ]
     },
     "execution_count": 39,
     "metadata": {},
     "output_type": "execute_result"
    }
   ],
   "source": [
    "# Evaluate model on test data (last performance - not the best)\n",
    "model_1.evaluate(test_windows, test_labels)"
   ]
  },
  {
   "cell_type": "code",
   "execution_count": 40,
   "id": "3b474323",
   "metadata": {},
   "outputs": [
    {
     "name": "stdout",
     "output_type": "stream",
     "text": [
      "18/18 [==============================] - 0s 4ms/step - loss: 566.9755 - mae: 566.9755 - mse: 1163613.6250\n"
     ]
    },
    {
     "data": {
      "text/plain": [
       "[566.9755249023438, 566.9755249023438, 1163613.625]"
      ]
     },
     "execution_count": 40,
     "metadata": {},
     "output_type": "execute_result"
    }
   ],
   "source": [
    "# Load in saved best performing model_1 and evaluate it on test data\n",
    "model_1 = tf.keras.models.load_model('model_experiments/model_1_dense/')\n",
    "model_1.evaluate(test_windows, test_labels)"
   ]
  },
  {
   "cell_type": "markdown",
   "id": "1a1a02c1",
   "metadata": {},
   "source": [
    "## Making forecasts with a model (on the test dataset)\n",
    "\n",
    "To make 'forecasts' on the dataset (note: these won't be actual forecasts, they're only pseudo forecasts actual forecasts are into the future), let's write a function to:\n",
    "\n",
    "1. Take in a train model\n",
    "2. Takes in some input data (same kind of data the model was trained on)\n",
    "3. Passes the input data to the model's `predict()` method\n",
    "4. Returns the predictions"
   ]
  },
  {
   "cell_type": "code",
   "execution_count": 41,
   "id": "9470b21a",
   "metadata": {},
   "outputs": [],
   "source": [
    "def make_preds(model, input_data):\n",
    "    \"\"\"\n",
    "    Uses model to make predictions input_data.\n",
    "    \"\"\"\n",
    "    forecast = model.predict(input_data)\n",
    "    return tf.squeeze(forecast) # return 1D array of predictions"
   ]
  },
  {
   "cell_type": "code",
   "execution_count": 42,
   "id": "93f5b9b5",
   "metadata": {},
   "outputs": [
    {
     "name": "stdout",
     "output_type": "stream",
     "text": [
      "18/18 [==============================] - 0s 3ms/step\n"
     ]
    },
    {
     "data": {
      "text/plain": [
       "(551,\n",
       " <tf.Tensor: shape=(10,), dtype=float32, numpy=\n",
       " array([8755.79  , 8689.334 , 8539.744 , 8480.148 , 8538.441 , 8269.41  ,\n",
       "        8138.7686, 8079.8555, 7685.589 , 7307.7607], dtype=float32)>)"
      ]
     },
     "execution_count": 42,
     "metadata": {},
     "output_type": "execute_result"
    }
   ],
   "source": [
    "# Make predictions using model_1 on the test dataset and view results\n",
    "model_1_preds = make_preds(model_1, test_windows)\n",
    "len(model_1_preds), model_1_preds[:10]"
   ]
  },
  {
   "cell_type": "code",
   "execution_count": 43,
   "id": "67e72b08",
   "metadata": {},
   "outputs": [
    {
     "data": {
      "text/plain": [
       "{'mae': 566.97546,\n",
       " 'mse': 1163613.8,\n",
       " 'rmse': 1078.7092,\n",
       " 'mape': 2.523096,\n",
       " 'mase': 0.9895705}"
      ]
     },
     "execution_count": 43,
     "metadata": {},
     "output_type": "execute_result"
    }
   ],
   "source": [
    "# Evaluate preds\n",
    "model_1_results = evaluate_preds(y_true=tf.squeeze(test_labels),\n",
    "                                 y_pred=model_1_preds)\n",
    "model_1_results"
   ]
  },
  {
   "cell_type": "code",
   "execution_count": 44,
   "id": "9b6b48ce",
   "metadata": {},
   "outputs": [
    {
     "data": {
      "text/plain": [
       "{'mae': 567.9802,\n",
       " 'mse': 1147547.0,\n",
       " 'rmse': 1071.2362,\n",
       " 'mape': 2.516525,\n",
       " 'mase': 0.99957}"
      ]
     },
     "execution_count": 44,
     "metadata": {},
     "output_type": "execute_result"
    }
   ],
   "source": [
    "naive_results"
   ]
  },
  {
   "cell_type": "code",
   "execution_count": 45,
   "id": "886ffc00",
   "metadata": {},
   "outputs": [
    {
     "data": {
      "image/png": "[encoded data removed]",
      "text/plain": [
       "<Figure size 1000x700 with 1 Axes>"
      ]
     },
     "metadata": {},
     "output_type": "display_data"
    }
   ],
   "source": [
    "# Let's plot our model 1 predictions\n",
    "offset = 300\n",
    "plt.figure(figsize=(10, 7))\n",
    "# Account for the test_window offset and index into test_labels to ensure correct plotting\n",
    "plot_time_series(timesteps=X_test[-len(test_windows):], values=test_labels[:, 0], start=offset, label='Test Data')\n",
    "\n",
    "plot_time_series(timesteps=X_test[-len(test_windows):], values=model_1_preds, start=offset, format='-', label='Model 1 Preds')"
   ]
  },
  {
   "cell_type": "markdown",
   "id": "e2cae249",
   "metadata": {},
   "source": [
    "## Model 2: Dense (window = 30, horizon = 1)"
   ]
  },
  {
   "cell_type": "code",
   "execution_count": 46,
   "id": "1984ac3e",
   "metadata": {},
   "outputs": [],
   "source": [
    "HORIZON = 1 # predict one step at a time (one day of Bitcoin prices)\n",
    "WINDOW_SIZE = 30 # use 30 timesteps in past"
   ]
  },
  {
   "cell_type": "code",
   "execution_count": 47,
   "id": "55f9ad76",
   "metadata": {},
   "outputs": [
    {
     "data": {
      "text/plain": [
       "(2757, 2757)"
      ]
     },
     "execution_count": 47,
     "metadata": {},
     "output_type": "execute_result"
    }
   ],
   "source": [
    "# Make window data with appropriate horizon and window sizes\n",
    "full_windows, full_labels = make_windows(prices, window_size=WINDOW_SIZE, horizon=HORIZON)\n",
    "len(full_windows), len(full_labels)"
   ]
  },
  {
   "cell_type": "code",
   "execution_count": 48,
   "id": "9db41bdc",
   "metadata": {},
   "outputs": [
    {
     "data": {
      "text/plain": [
       "(2229, 528, 2229, 528)"
      ]
     },
     "execution_count": 48,
     "metadata": {},
     "output_type": "execute_result"
    }
   ],
   "source": [
    "# Make train and testing windows\n",
    "train_windows, test_windows, train_labels, test_labels = make_train_test_splits(windows=full_windows,\n",
    "                                                                                labels=full_labels,\n",
    "                                                                                test_split=0.2)\n",
    "len(train_windows), len(test_windows), len(train_labels), len(test_labels)"
   ]
  },
  {
   "cell_type": "code",
   "execution_count": 49,
   "id": "6d9d578d",
   "metadata": {},
   "outputs": [
    {
     "name": "stdout",
     "output_type": "stream",
     "text": [
      "INFO:tensorflow:Assets written to: model_experiments\\model_2_dense\\assets\n",
      "INFO:tensorflow:Assets written to: model_experiments\\model_2_dense\\assets\n",
      "INFO:tensorflow:Assets written to: model_experiments\\model_2_dense\\assets\n",
      "INFO:tensorflow:Assets written to: model_experiments\\model_2_dense\\assets\n",
      "INFO:tensorflow:Assets written to: model_experiments\\model_2_dense\\assets\n",
      "INFO:tensorflow:Assets written to: model_experiments\\model_2_dense\\assets\n",
      "INFO:tensorflow:Assets written to: model_experiments\\model_2_dense\\assets\n",
      "INFO:tensorflow:Assets written to: model_experiments\\model_2_dense\\assets\n",
      "INFO:tensorflow:Assets written to: model_experiments\\model_2_dense\\assets\n",
      "INFO:tensorflow:Assets written to: model_experiments\\model_2_dense\\assets\n",
      "INFO:tensorflow:Assets written to: model_experiments\\model_2_dense\\assets\n",
      "INFO:tensorflow:Assets written to: model_experiments\\model_2_dense\\assets\n",
      "INFO:tensorflow:Assets written to: model_experiments\\model_2_dense\\assets\n",
      "INFO:tensorflow:Assets written to: model_experiments\\model_2_dense\\assets\n",
      "INFO:tensorflow:Assets written to: model_experiments\\model_2_dense\\assets\n",
      "INFO:tensorflow:Assets written to: model_experiments\\model_2_dense\\assets\n",
      "INFO:tensorflow:Assets written to: model_experiments\\model_2_dense\\assets\n",
      "INFO:tensorflow:Assets written to: model_experiments\\model_2_dense\\assets\n",
      "INFO:tensorflow:Assets written to: model_experiments\\model_2_dense\\assets\n",
      "INFO:tensorflow:Assets written to: model_experiments\\model_2_dense\\assets\n",
      "INFO:tensorflow:Assets written to: model_experiments\\model_2_dense\\assets\n",
      "INFO:tensorflow:Assets written to: model_experiments\\model_2_dense\\assets\n",
      "INFO:tensorflow:Assets written to: model_experiments\\model_2_dense\\assets\n",
      "INFO:tensorflow:Assets written to: model_experiments\\model_2_dense\\assets\n",
      "INFO:tensorflow:Assets written to: model_experiments\\model_2_dense\\assets\n",
      "INFO:tensorflow:Assets written to: model_experiments\\model_2_dense\\assets\n",
      "INFO:tensorflow:Assets written to: model_experiments\\model_2_dense\\assets\n",
      "INFO:tensorflow:Assets written to: model_experiments\\model_2_dense\\assets\n",
      "INFO:tensorflow:Assets written to: model_experiments\\model_2_dense\\assets\n",
      "INFO:tensorflow:Assets written to: model_experiments\\model_2_dense\\assets\n"
     ]
    },
    {
     "data": {
      "text/plain": [
       "<keras.callbacks.History at 0x2ad23ab6500>"
      ]
     },
     "execution_count": 49,
     "metadata": {},
     "output_type": "execute_result"
    }
   ],
   "source": [
    "tf.random.set_seed(42)\n",
    "\n",
    "# Create model\n",
    "model_2 = tf.keras.Sequential([\n",
    "    layers.Dense(128, activation='relu'),\n",
    "    layers.Dense(HORIZON)\n",
    "], name='model_2_dense')\n",
    "\n",
    "# Compile model\n",
    "model_2.compile(loss='mae',\n",
    "                optimizer=tf.keras.optimizers.Adam())\n",
    "\n",
    "# Fit\n",
    "model_2.fit(train_windows,\n",
    "            train_labels,\n",
    "            epochs=100,\n",
    "            batch_size=128,\n",
    "            verbose=0,\n",
    "            validation_data=(test_windows, test_labels),\n",
    "            callbacks=[create_model_checkpoint(model_name=model_2.name)])"
   ]
  },
  {
   "cell_type": "code",
   "execution_count": 50,
   "id": "8105caa5",
   "metadata": {},
   "outputs": [
    {
     "name": "stdout",
     "output_type": "stream",
     "text": [
      " 1/17 [>.............................] - ETA: 0s - loss: 170.8877"
     ]
    },
    {
     "name": "stdout",
     "output_type": "stream",
     "text": [
      "17/17 [==============================] - 0s 4ms/step - loss: 688.2444\n"
     ]
    },
    {
     "data": {
      "text/plain": [
       "688.2444458007812"
      ]
     },
     "execution_count": 50,
     "metadata": {},
     "output_type": "execute_result"
    }
   ],
   "source": [
    "# Evaluate model 2 on test data\n",
    "model_2.evaluate(test_windows, test_labels)"
   ]
  },
  {
   "cell_type": "code",
   "execution_count": 51,
   "id": "576cc0b8",
   "metadata": {},
   "outputs": [
    {
     "name": "stdout",
     "output_type": "stream",
     "text": [
      "17/17 [==============================] - 0s 4ms/step - loss: 641.7051\n"
     ]
    },
    {
     "data": {
      "text/plain": [
       "641.705078125"
      ]
     },
     "execution_count": 51,
     "metadata": {},
     "output_type": "execute_result"
    }
   ],
   "source": [
    "# Load in the best performing model\n",
    "model_2 = tf.keras.models.load_model('model_experiments/model_2_dense/')\n",
    "model_2.evaluate(test_windows, test_labels)"
   ]
  },
  {
   "cell_type": "code",
   "execution_count": 52,
   "id": "16830931",
   "metadata": {},
   "outputs": [
    {
     "name": "stdout",
     "output_type": "stream",
     "text": [
      "17/17 [==============================] - 0s 3ms/step\n"
     ]
    }
   ],
   "source": [
    "# Get forecast predictions\n",
    "model_2_preds = make_preds(model_2,\n",
    "                           input_data=test_windows)"
   ]
  },
  {
   "cell_type": "code",
   "execution_count": 53,
   "id": "4a35b2c8",
   "metadata": {},
   "outputs": [
    {
     "data": {
      "text/plain": [
       "(TensorShape([528]), TensorShape([528]))"
      ]
     },
     "execution_count": 53,
     "metadata": {},
     "output_type": "execute_result"
    }
   ],
   "source": [
    "tf.squeeze(test_labels).shape, model_2_preds.shape"
   ]
  },
  {
   "cell_type": "code",
   "execution_count": 54,
   "id": "81997755",
   "metadata": {},
   "outputs": [
    {
     "data": {
      "text/plain": [
       "{'mae': 641.70514,\n",
       " 'mse': 1343459.6,\n",
       " 'rmse': 1159.077,\n",
       " 'mape': 2.8012884,\n",
       " 'mase': 1.0861355}"
      ]
     },
     "execution_count": 54,
     "metadata": {},
     "output_type": "execute_result"
    }
   ],
   "source": [
    "# Evaluate results for model 2 predictions\n",
    "model_2_results = evaluate_preds(y_true=tf.squeeze(test_labels),\n",
    "                                 y_pred=model_2_preds)\n",
    "model_2_results"
   ]
  },
  {
   "cell_type": "code",
   "execution_count": 55,
   "id": "982bdaa0",
   "metadata": {},
   "outputs": [
    {
     "data": {
      "text/plain": [
       "{'mae': 566.97546,\n",
       " 'mse': 1163613.8,\n",
       " 'rmse': 1078.7092,\n",
       " 'mape': 2.523096,\n",
       " 'mase': 0.9895705}"
      ]
     },
     "execution_count": 55,
     "metadata": {},
     "output_type": "execute_result"
    }
   ],
   "source": [
    "model_1_results"
   ]
  },
  {
   "cell_type": "code",
   "execution_count": 56,
   "id": "a1f9ba91",
   "metadata": {},
   "outputs": [
    {
     "data": {
      "image/png": "[encoded data removed]",
      "text/plain": [
       "<Figure size 1000x700 with 1 Axes>"
      ]
     },
     "metadata": {},
     "output_type": "display_data"
    }
   ],
   "source": [
    "offset = 300\n",
    "plt.figure(figsize=(10, 7))\n",
    "# Account for test_window offset when plotting\n",
    "plot_time_series(timesteps=X_test[-len(test_windows):], values=test_labels[:, 0], start=offset, label='Test Data')\n",
    "plot_time_series(timesteps=X_test[-len(test_windows):], values=model_2_preds, start=offset, format='-', label='model_2_preds')"
   ]
  },
  {
   "cell_type": "markdown",
   "id": "c0113fea",
   "metadata": {},
   "source": [
    "## Model 3: Dense (window = 30, horizon = 7)\n",
    "\n"
   ]
  },
  {
   "cell_type": "code",
   "execution_count": 57,
   "id": "887cc5e4",
   "metadata": {},
   "outputs": [
    {
     "data": {
      "text/plain": [
       "(2751, 2751)"
      ]
     },
     "execution_count": 57,
     "metadata": {},
     "output_type": "execute_result"
    }
   ],
   "source": [
    "HORIZON = 7\n",
    "WINDOW_SIZE = 30\n",
    "\n",
    "full_windows, full_labels = make_windows(prices, window_size=WINDOW_SIZE, horizon=HORIZON)\n",
    "len(full_windows), len(full_labels)"
   ]
  },
  {
   "cell_type": "code",
   "execution_count": 58,
   "id": "6e79caa1",
   "metadata": {},
   "outputs": [
    {
     "data": {
      "text/plain": [
       "(2229, 522, 2229, 522)"
      ]
     },
     "execution_count": 58,
     "metadata": {},
     "output_type": "execute_result"
    }
   ],
   "source": [
    "train_windows, test_windows, train_labels, test_labels = make_train_test_splits(windows=full_windows,\n",
    "                                                                                labels=full_labels,\n",
    "                                                                                test_split=0.2)\n",
    "len(train_windows), len(test_windows), len(train_labels), len(test_labels)"
   ]
  },
  {
   "cell_type": "code",
   "execution_count": 59,
   "id": "23124476",
   "metadata": {},
   "outputs": [
    {
     "name": "stdout",
     "output_type": "stream",
     "text": [
      "INFO:tensorflow:Assets written to: model_experiments\\model_3_dense\\assets\n",
      "INFO:tensorflow:Assets written to: model_experiments\\model_3_dense\\assets\n",
      "INFO:tensorflow:Assets written to: model_experiments\\model_3_dense\\assets\n",
      "INFO:tensorflow:Assets written to: model_experiments\\model_3_dense\\assets\n",
      "INFO:tensorflow:Assets written to: model_experiments\\model_3_dense\\assets\n",
      "INFO:tensorflow:Assets written to: model_experiments\\model_3_dense\\assets\n",
      "INFO:tensorflow:Assets written to: model_experiments\\model_3_dense\\assets\n",
      "INFO:tensorflow:Assets written to: model_experiments\\model_3_dense\\assets\n",
      "INFO:tensorflow:Assets written to: model_experiments\\model_3_dense\\assets\n",
      "INFO:tensorflow:Assets written to: model_experiments\\model_3_dense\\assets\n",
      "INFO:tensorflow:Assets written to: model_experiments\\model_3_dense\\assets\n",
      "INFO:tensorflow:Assets written to: model_experiments\\model_3_dense\\assets\n",
      "INFO:tensorflow:Assets written to: model_experiments\\model_3_dense\\assets\n",
      "INFO:tensorflow:Assets written to: model_experiments\\model_3_dense\\assets\n",
      "INFO:tensorflow:Assets written to: model_experiments\\model_3_dense\\assets\n",
      "INFO:tensorflow:Assets written to: model_experiments\\model_3_dense\\assets\n",
      "INFO:tensorflow:Assets written to: model_experiments\\model_3_dense\\assets\n",
      "INFO:tensorflow:Assets written to: model_experiments\\model_3_dense\\assets\n",
      "INFO:tensorflow:Assets written to: model_experiments\\model_3_dense\\assets\n",
      "INFO:tensorflow:Assets written to: model_experiments\\model_3_dense\\assets\n",
      "INFO:tensorflow:Assets written to: model_experiments\\model_3_dense\\assets\n",
      "INFO:tensorflow:Assets written to: model_experiments\\model_3_dense\\assets\n",
      "INFO:tensorflow:Assets written to: model_experiments\\model_3_dense\\assets\n",
      "INFO:tensorflow:Assets written to: model_experiments\\model_3_dense\\assets\n"
     ]
    },
    {
     "data": {
      "text/plain": [
       "<keras.callbacks.History at 0x2ad330aae00>"
      ]
     },
     "execution_count": 59,
     "metadata": {},
     "output_type": "execute_result"
    }
   ],
   "source": [
    "tf.random.set_seed(42)\n",
    "\n",
    "# Create model\n",
    "model_3 = tf.keras.Sequential([\n",
    "    layers.Dense(128, activation='relu'),\n",
    "    layers.Dense(HORIZON)\n",
    "], name='model_3_dense')\n",
    "\n",
    "# Compile\n",
    "model_3.compile(loss='mae',\n",
    "                optimizer=tf.keras.optimizers.Adam())\n",
    "\n",
    "# Fit\n",
    "model_3.fit(train_windows,\n",
    "            train_labels,\n",
    "            batch_size=128,\n",
    "            epochs=100,\n",
    "            verbose=0,\n",
    "            validation_data=(test_windows, test_labels),\n",
    "            callbacks=[create_model_checkpoint(model_name=model_3.name)])"
   ]
  },
  {
   "cell_type": "code",
   "execution_count": 60,
   "id": "4c40baa7",
   "metadata": {},
   "outputs": [
    {
     "name": "stdout",
     "output_type": "stream",
     "text": [
      " 1/17 [>.............................] - ETA: 0s - loss: 267.8717"
     ]
    },
    {
     "name": "stdout",
     "output_type": "stream",
     "text": [
      "17/17 [==============================] - 0s 4ms/step - loss: 1309.0227\n"
     ]
    },
    {
     "data": {
      "text/plain": [
       "1309.022705078125"
      ]
     },
     "execution_count": 60,
     "metadata": {},
     "output_type": "execute_result"
    }
   ],
   "source": [
    "# Evaluate the model on the test data\n",
    "model_3.evaluate(test_windows, test_labels)"
   ]
  },
  {
   "cell_type": "code",
   "execution_count": 61,
   "id": "7a7a83c6",
   "metadata": {},
   "outputs": [
    {
     "name": "stdout",
     "output_type": "stream",
     "text": [
      "17/17 [==============================] - 0s 4ms/step - loss: 1309.0227\n"
     ]
    },
    {
     "data": {
      "text/plain": [
       "1309.022705078125"
      ]
     },
     "execution_count": 61,
     "metadata": {},
     "output_type": "execute_result"
    }
   ],
   "source": [
    "# Load best version of model_3 and evaluate\n",
    "model_3 = tf.keras.models.load_model('model_experiments/model_3_dense/')\n",
    "model_3.evaluate(test_windows, test_labels)"
   ]
  },
  {
   "cell_type": "code",
   "execution_count": 62,
   "id": "796cb207",
   "metadata": {},
   "outputs": [
    {
     "name": "stdout",
     "output_type": "stream",
     "text": [
      "17/17 [==============================] - 0s 3ms/step\n"
     ]
    },
    {
     "data": {
      "text/plain": [
       "TensorShape([522, 7])"
      ]
     },
     "execution_count": 62,
     "metadata": {},
     "output_type": "execute_result"
    }
   ],
   "source": [
    "# Make predictions with model_3\n",
    "model_3_preds = make_preds(model_3,\n",
    "                           input_data=test_windows)\n",
    "model_3_preds.shape"
   ]
  },
  {
   "cell_type": "code",
   "execution_count": 63,
   "id": "51f272aa",
   "metadata": {},
   "outputs": [
    {
     "data": {
      "text/plain": [
       "(TensorShape([522, 7]), TensorShape([528]))"
      ]
     },
     "execution_count": 63,
     "metadata": {},
     "output_type": "execute_result"
    }
   ],
   "source": [
    "model_3_preds.shape, model_2_preds.shape"
   ]
  },
  {
   "cell_type": "code",
   "execution_count": 64,
   "id": "ccec3843",
   "metadata": {},
   "outputs": [
    {
     "data": {
      "text/plain": [
       "{'mae': array([ 147.9675  ,  208.67746 ,  325.95654 ,  233.97133 ,  240.78893 ,\n",
       "         271.306   ,  217.86008 ,  239.34738 ,  230.71541 ,  211.75781 ,\n",
       "         345.84354 ,  595.94476 ,  153.05518 ,  104.136856,  190.28215 ,\n",
       "          84.04667 ,  106.089355,   88.46254 ,  107.6905  ,  113.28425 ,\n",
       "         118.530624,  106.408134,  116.092636,  109.13581 ,  206.37926 ,\n",
       "         278.06815 ,  435.2982  ,  624.0811  ,  591.8168  ,  625.7668  ,\n",
       "         656.66956 ,  486.46274 ,  299.39105 ,  327.90863 ,  485.54715 ,\n",
       "         559.3037  ,  558.17706 ,  584.7802  ,  683.76215 ,  282.52652 ,\n",
       "         114.00795 ,  170.2931  ,  310.43695 ,  513.0446  ,  287.8937  ,\n",
       "         228.07715 ,  271.64816 ,  362.87473 ,  500.51715 ,  700.01495 ,\n",
       "         850.172   ,  915.38617 ,  737.5495  ,  427.7355  ,  234.2613  ,\n",
       "         188.2698  ,  229.48703 ,  306.8245  ,  413.5057  ,  560.5384  ,\n",
       "         760.9132  ,  595.73114 ,  581.5474  ,  521.7401  ,  290.34933 ,\n",
       "         287.90918 ,  300.64496 ,  252.46945 ,  429.23257 ,  378.702   ,\n",
       "         567.59375 ,  309.76312 ,  202.76506 ,  196.82883 ,  240.82645 ,\n",
       "         238.60086 ,  344.64285 ,  416.14117 ,  570.17035 ,  883.23663 ,\n",
       "         809.858   ,  658.7581  ,  206.87695 ,  193.11482 ,  267.47852 ,\n",
       "         318.76773 ,  412.02798 ,  373.73053 ,  469.5019  ,  531.29504 ,\n",
       "        1037.4579  , 1528.1613  , 2075.789   , 1853.8538  , 1896.7698  ,\n",
       "        2195.7173  , 2485.9773  , 1058.4735  ,  538.5936  ,  451.12906 ,\n",
       "         533.48505 ,  446.65533 ,  553.47784 ,  501.42557 ,  291.68277 ,\n",
       "         358.03278 ,  318.36685 ,  360.1442  ,  227.06529 ,  204.30748 ,\n",
       "         295.33307 ,  270.04666 ,  290.29303 ,  362.1245  ,  697.3485  ,\n",
       "         602.7824  ,  456.04172 ,  496.05817 ,  390.3994  ,  162.04959 ,\n",
       "         207.31229 ,  194.1831  ,  275.2329  ,  320.7646  ,  476.9211  ,\n",
       "         335.15738 ,  191.09431 ,  231.46477 ,  271.90933 ,  266.40778 ,\n",
       "         270.3941  ,  396.04828 ,  237.81535 ,  275.02692 ,  296.29535 ,\n",
       "         305.40527 ,  470.71896 ,  631.76764 ,  809.4289  ,  650.0775  ,\n",
       "         715.9269  ,  951.8499  , 1000.2094  , 1022.8102  , 1167.2438  ,\n",
       "         588.3458  ,  334.94922 ,  416.04102 ,  406.75125 ,  384.083   ,\n",
       "         470.11215 ,  431.58063 ,  426.19965 ,  607.72253 ,  903.8651  ,\n",
       "         708.9044  ,  286.92926 ,  572.4537  ,  757.19464 ,  499.40402 ,\n",
       "         190.64857 ,  210.54701 ,  268.52847 ,  350.3245  ,  458.68918 ,\n",
       "         472.07602 ,  429.81723 ,  282.94266 ,  222.41365 ,  399.95132 ,\n",
       "         434.91754 ,  675.36554 ,  879.91504 ,  764.18274 ,  452.42578 ,\n",
       "         370.7238  ,  212.96889 ,  228.59807 ,  369.5385  ,  142.57213 ,\n",
       "         166.92662 ,  157.15793 ,  164.87486 ,  168.69783 ,  174.21512 ,\n",
       "         216.22908 ,  257.45132 ,  393.96457 ,   85.97698 ,   80.46024 ,\n",
       "         119.69964 ,  112.16825 ,  132.37416 ,  174.54143 ,  153.36635 ,\n",
       "         138.81613 ,  134.86482 ,  206.61119 ,  148.27148 ,  230.55803 ,\n",
       "         400.90094 ,  157.03459 ,  143.67049 ,   83.77776 ,  162.31139 ,\n",
       "         113.81264 ,   95.87374 ,   77.69894 ,  117.74791 ,  194.79799 ,\n",
       "         199.92062 ,  148.39426 ,  269.0311  ,  122.081055,  100.48968 ,\n",
       "         114.20717 ,   37.302177,   76.450615,   44.931084,   62.01214 ,\n",
       "          41.476982,   85.6974  ,  131.66602 ,  213.74539 ,  264.58203 ,\n",
       "         339.16586 ,  426.08496 ,  723.3737  ,  806.8662  ,  897.6564  ,\n",
       "        1003.22797 , 1247.0292  , 1465.5732  , 1413.3412  ,  563.3199  ,\n",
       "         362.23312 ,  257.2793  ,  227.75    ,  268.20563 ,  361.71973 ,\n",
       "         244.1914  ,  391.78305 ,  343.7903  ,  162.089   ,  194.86092 ,\n",
       "         184.63449 ,  191.74289 ,  158.70564 ,  291.40695 ,  358.93246 ,\n",
       "         427.55957 ,  353.72308 ,  229.71623 ,  212.25027 ,  138.83482 ,\n",
       "         274.56403 ,  347.00613 ,  162.65764 ,  177.57199 ,  115.45954 ,\n",
       "         151.88756 ,  228.08553 ,  184.03041 ,  250.44447 ,  279.65094 ,\n",
       "         407.39523 ,  395.07367 ,  537.6173  ,  764.2358  ,  954.19696 ,\n",
       "        1358.6788  , 1214.2513  ,  617.1476  ,  352.48047 ,  286.48535 ,\n",
       "         308.68442 ,  201.59557 ,  458.38226 ,  439.5685  ,  442.178   ,\n",
       "         403.9922  ,  457.43582 ,  526.3086  ,  340.40305 ,  131.6603  ,\n",
       "         197.98633 ,  250.97781 ,  234.48299 ,  342.3488  ,  233.05428 ,\n",
       "         208.93582 ,  236.59682 ,  413.50684 ,  212.12541 ,   77.31878 ,\n",
       "          57.425922,  119.54046 ,  189.64857 ,  140.70703 ,  111.11175 ,\n",
       "         128.4301  ,  224.21024 ,  371.0551  ,  453.01395 ,  518.9863  ,\n",
       "         692.3754  ,  805.8905  ,  686.9157  ,  539.0241  ,  208.36272 ,\n",
       "         154.51451 ,  201.78781 ,  205.24094 ,  472.7772  ,  673.2376  ,\n",
       "         910.371   , 1227.3894  , 1367.6691  , 1314.2506  , 1346.2832  ,\n",
       "         485.73996 ,  240.08762 ,  250.41713 ,  316.80093 ,  418.20883 ,\n",
       "         492.25336 ,  248.30553 ,  356.6271  ,  683.8096  ,  733.9134  ,\n",
       "         778.9622  ,  943.0639  , 1242.5271  , 1352.965   , 1344.4911  ,\n",
       "         441.93903 ,  511.22516 ,  670.76074 ,  486.36313 ,  609.708   ,\n",
       "        1112.1868  , 1027.6301  ,  941.435   , 1195.6204  , 1554.094   ,\n",
       "        1937.7659  , 1649.7928  , 1041.933   ,  770.00085 ,  662.97546 ,\n",
       "         600.1342  ,  836.62585 ,  884.1719  ,  910.56726 ,  972.05023 ,\n",
       "         981.4679  , 1205.3898  , 1815.6191  , 1587.485   , 1429.296   ,\n",
       "         405.03152 ,  221.1635  ,  222.15039 ,  707.2461  ,  409.1479  ,\n",
       "         390.798   ,  515.1911  ,  486.4534  ,  518.4085  , 1024.1783  ,\n",
       "        1827.601   , 2704.6821  , 2904.906   , 3192.4956  , 3436.8635  ,\n",
       "        3670.4377  , 2538.6055  ,  992.97296 ,  612.6339  ,  923.0137  ,\n",
       "        1178.1163  , 1571.6191  , 1995.4266  , 2805.752   , 3459.5564  ,\n",
       "        3286.6108  , 2520.194   , 2538.0183  , 2739.863   , 3352.219   ,\n",
       "        3024.2495  , 3855.4026  , 5218.482   , 4454.9272  , 4168.3584  ,\n",
       "        4975.3125  , 3338.241   , 2369.2673  , 2252.6272  , 3880.2817  ,\n",
       "        4809.6963  , 4720.732   ,  967.6239  , 1326.0447  , 1082.2177  ,\n",
       "        2916.3528  , 2265.053   , 2345.4531  , 3300.9583  , 3627.1917  ,\n",
       "        4000.4211  , 3295.1694  ,  992.9325  , 1266.2695  , 1641.5809  ,\n",
       "        2147.5164  , 1846.5385  , 2720.7441  , 4001.9238  , 2813.8508  ,\n",
       "        2055.0156  , 2518.091   , 3379.928   , 5057.9404  , 5180.8203  ,\n",
       "        4661.227   , 5959.905   , 7163.4946  , 6256.0435  , 7709.861   ,\n",
       "        4324.65    , 1171.226   , 2029.1139  , 1471.5123  , 2129.4075  ,\n",
       "        2634.0017  , 3323.4136  , 3594.9487  , 4104.965   , 2912.0122  ,\n",
       "        3358.6987  , 5747.547   , 7432.535   , 9974.302   , 9537.036   ,\n",
       "        4137.2437  , 2541.0798  , 2094.3599  , 2578.631   , 3285.356   ,\n",
       "        5062.245   , 3174.9036  , 3198.2183  , 3553.2886  , 4298.7764  ,\n",
       "        5017.6953  , 6555.6353  , 7052.387   , 6643.7036  , 5096.301   ,\n",
       "        3091.4006  , 1963.9548  , 1754.4358  , 1175.4163  , 2686.307   ,\n",
       "        1024.61    , 1546.6691  , 2413.9392  , 3659.3247  , 3994.0295  ,\n",
       "        4354.7964  , 4728.2993  , 1542.5039  , 2260.8777  , 3685.4219  ,\n",
       "        4898.477   , 4651.396   , 3114.4175  , 3545.8074  , 2331.1267  ,\n",
       "        1314.9531  ,  858.44977 ,  445.572   ,  800.91125 ,  824.5474  ,\n",
       "        1099.9994  , 1432.4889  , 2210.4705  , 3380.648   , 3924.8113  ,\n",
       "        4266.4937  , 2963.4683  , 2556.529   , 2870.826   , 3230.414   ,\n",
       "        4917.3125  , 6087.886   , 7174.019   , 6976.3604  , 4887.2275  ,\n",
       "        3620.649   , 3717.7656  , 2448.1277  , 2287.1528  , 3382.2578  ,\n",
       "        4577.8306  , 6314.1274  , 3709.7065  , 1881.6361  , 2298.0251  ,\n",
       "        2985.405   , 1421.6267  , 1187.9799  , 1880.5345  , 1436.5748  ,\n",
       "        3008.8442  , 1502.8778  , 2067.4219  , 3344.2996  , 5327.101   ,\n",
       "        7154.923   , 7399.8525  ], dtype=float32),\n",
       " 'mse': array([2.41482871e+04, 5.37080898e+04, 1.20015922e+05, 6.89246719e+04,\n",
       "        1.21179383e+05, 1.28310445e+05, 9.44870547e+04, 1.16230891e+05,\n",
       "        1.05883195e+05, 7.68312891e+04, 1.36532766e+05, 3.79492281e+05,\n",
       "        3.38308945e+04, 1.54850459e+04, 4.19845039e+04, 9.37966895e+03,\n",
       "        1.69923145e+04, 1.23832637e+04, 1.46702168e+04, 2.21816523e+04,\n",
       "        2.08765254e+04, 1.87427539e+04, 1.60675625e+04, 2.51825508e+04,\n",
       "        7.17742656e+04, 1.52973891e+05, 3.02469750e+05, 5.01202594e+05,\n",
       "        4.49022438e+05, 4.67473781e+05, 4.58548844e+05, 2.50730250e+05,\n",
       "        1.63025953e+05, 1.79156922e+05, 3.87251594e+05, 4.60463750e+05,\n",
       "        4.26987062e+05, 4.10353594e+05, 4.86052188e+05, 8.95812344e+04,\n",
       "        1.70110332e+04, 3.93194805e+04, 1.27217125e+05, 2.81850469e+05,\n",
       "        1.14021891e+05, 7.46903984e+04, 1.02940039e+05, 1.62989844e+05,\n",
       "        4.55549719e+05, 6.89061375e+05, 8.63196875e+05, 9.03636938e+05,\n",
       "        5.64552438e+05, 1.99206734e+05, 7.56692266e+04, 5.59244023e+04,\n",
       "        7.73902891e+04, 1.25203641e+05, 2.33817719e+05, 3.98586562e+05,\n",
       "        6.51541000e+05, 4.44467219e+05, 3.90898312e+05, 3.28453281e+05,\n",
       "        1.13653664e+05, 8.88734141e+04, 1.15248930e+05, 9.46656250e+04,\n",
       "        2.41363094e+05, 1.91525766e+05, 3.63835719e+05, 1.12017336e+05,\n",
       "        4.93045430e+04, 6.15472305e+04, 6.43367891e+04, 1.37707969e+05,\n",
       "        1.85038391e+05, 2.95460438e+05, 3.98457969e+05, 9.12016125e+05,\n",
       "        7.22761125e+05, 4.47936219e+05, 6.47040586e+04, 6.98362109e+04,\n",
       "        1.12813016e+05, 1.61594516e+05, 2.00581750e+05, 2.00691031e+05,\n",
       "        3.13905156e+05, 3.33002094e+05, 1.99070725e+06, 3.66989425e+06,\n",
       "        5.70363150e+06, 4.84171450e+06, 4.96698150e+06, 5.65048100e+06,\n",
       "        6.25324550e+06, 1.28016975e+06, 4.26100094e+05, 3.05849281e+05,\n",
       "        3.27069312e+05, 2.36193031e+05, 3.35826656e+05, 2.82427188e+05,\n",
       "        1.03990695e+05, 1.75816109e+05, 1.49756031e+05, 1.41621234e+05,\n",
       "        6.40990078e+04, 6.47205430e+04, 1.73124125e+05, 1.49678266e+05,\n",
       "        1.51553859e+05, 1.74243156e+05, 5.29788188e+05, 4.23023156e+05,\n",
       "        2.56766531e+05, 2.91032156e+05, 2.41658891e+05, 3.54182070e+04,\n",
       "        5.20207578e+04, 4.80957148e+04, 8.83727266e+04, 1.44106391e+05,\n",
       "        2.50943000e+05, 1.28124461e+05, 4.40851797e+04, 8.66253594e+04,\n",
       "        9.65446172e+04, 1.24323391e+05, 9.50188906e+04, 2.03137375e+05,\n",
       "        1.17068242e+05, 9.79250469e+04, 1.04557055e+05, 1.08068234e+05,\n",
       "        2.98326812e+05, 4.67742344e+05, 8.73792125e+05, 7.84367625e+05,\n",
       "        9.08876500e+05, 1.22446925e+06, 1.28227512e+06, 1.22380088e+06,\n",
       "        1.38078688e+06, 3.90215219e+05, 2.49515141e+05, 3.60463906e+05,\n",
       "        2.32494219e+05, 2.24855141e+05, 2.64531844e+05, 2.52541859e+05,\n",
       "        2.43306594e+05, 5.71875125e+05, 9.86036188e+05, 6.23789062e+05,\n",
       "        1.20317062e+05, 4.09565406e+05, 6.33250562e+05, 2.93265469e+05,\n",
       "        4.65970430e+04, 6.58083750e+04, 8.65660000e+04, 1.73026641e+05,\n",
       "        2.84751750e+05, 2.44494641e+05, 2.35657234e+05, 1.00864039e+05,\n",
       "        7.46309219e+04, 2.27234609e+05, 2.90262844e+05, 6.69738438e+05,\n",
       "        8.76769125e+05, 6.94124125e+05, 2.92117812e+05, 1.91024391e+05,\n",
       "        1.27771234e+05, 1.13965875e+05, 1.53834531e+05, 2.26255840e+04,\n",
       "        5.45343320e+04, 3.43340664e+04, 4.20874141e+04, 3.88452305e+04,\n",
       "        5.30379453e+04, 7.47024688e+04, 7.72554844e+04, 1.75730969e+05,\n",
       "        1.50906660e+04, 1.19103623e+04, 1.83210312e+04, 2.47306426e+04,\n",
       "        3.66383750e+04, 5.30335273e+04, 3.63065977e+04, 3.60061445e+04,\n",
       "        3.58800977e+04, 8.04467734e+04, 4.74248477e+04, 6.93565781e+04,\n",
       "        1.77660641e+05, 4.17012695e+04, 3.29836602e+04, 1.12175693e+04,\n",
       "        4.06500586e+04, 1.58563525e+04, 1.82975273e+04, 8.62646289e+03,\n",
       "        2.72761230e+04, 5.49048750e+04, 6.22600117e+04, 2.75257031e+04,\n",
       "        7.76900547e+04, 2.91156191e+04, 1.69228203e+04, 1.62412871e+04,\n",
       "        1.92375415e+03, 7.97014600e+03, 3.23404077e+03, 5.43576025e+03,\n",
       "        3.15954419e+03, 1.48329893e+04, 3.44148984e+04, 8.35239844e+04,\n",
       "        1.08943859e+05, 1.72839531e+05, 2.40569375e+05, 9.12233562e+05,\n",
       "        1.08401312e+06, 1.36488825e+06, 1.55414638e+06, 1.96716775e+06,\n",
       "        2.46141125e+06, 2.06448712e+06, 4.00197281e+05, 1.77907516e+05,\n",
       "        1.22840914e+05, 9.13826797e+04, 7.78167656e+04, 1.87260891e+05,\n",
       "        7.18449375e+04, 1.79636891e+05, 1.27756500e+05, 3.62423633e+04,\n",
       "        5.42911797e+04, 7.14360625e+04, 6.04447227e+04, 3.32443516e+04,\n",
       "        1.38123859e+05, 2.06048266e+05, 2.27178750e+05, 1.73354078e+05,\n",
       "        7.25725469e+04, 7.91664453e+04, 4.17288242e+04, 8.80139297e+04,\n",
       "        1.39031406e+05, 4.39167773e+04, 3.79935039e+04, 2.92004238e+04,\n",
       "        2.75359902e+04, 6.93162500e+04, 6.18651992e+04, 1.08524352e+05,\n",
       "        1.08581953e+05, 2.28454609e+05, 2.03963625e+05, 4.33875312e+05,\n",
       "        8.11228688e+05, 1.18783425e+06, 2.01193412e+06, 1.56094538e+06,\n",
       "        4.23897844e+05, 1.59925734e+05, 1.09928391e+05, 1.31900859e+05,\n",
       "        5.97348672e+04, 2.58696484e+05, 2.54106953e+05, 2.64014719e+05,\n",
       "        2.44155891e+05, 2.35437359e+05, 2.91379344e+05, 1.45474438e+05,\n",
       "        2.21442676e+04, 7.19049531e+04, 9.60749922e+04, 7.60902969e+04,\n",
       "        1.62056719e+05, 9.15482969e+04, 5.78605938e+04, 5.68300078e+04,\n",
       "        1.78416578e+05, 5.51378438e+04, 7.79763037e+03, 3.69613940e+03,\n",
       "        2.13126660e+04, 4.50504297e+04, 3.49313789e+04, 1.51793076e+04,\n",
       "        3.59212969e+04, 8.53050859e+04, 2.42102234e+05, 3.51658250e+05,\n",
       "        4.27700656e+05, 6.30939688e+05, 7.23210125e+05, 5.19058031e+05,\n",
       "        2.96880656e+05, 6.08034922e+04, 4.02967891e+04, 4.57016328e+04,\n",
       "        7.12625234e+04, 5.75198562e+05, 9.12239000e+05, 1.46339875e+06,\n",
       "        2.04312000e+06, 2.19344125e+06, 1.90213275e+06, 1.86962462e+06,\n",
       "        2.96686594e+05, 8.29695859e+04, 1.05004477e+05, 1.66891609e+05,\n",
       "        2.20777250e+05, 2.96356969e+05, 7.84731016e+04, 1.93874406e+05,\n",
       "        8.70651938e+05, 1.13237450e+06, 1.14154762e+06, 1.37307212e+06,\n",
       "        1.95777062e+06, 2.09869300e+06, 1.93044912e+06, 3.43533656e+05,\n",
       "        3.71689031e+05, 6.12993688e+05, 2.99163188e+05, 4.90523938e+05,\n",
       "        1.66368688e+06, 1.67120975e+06, 1.54619962e+06, 2.09627562e+06,\n",
       "        3.12068675e+06, 4.26568000e+06, 2.90958250e+06, 1.28635912e+06,\n",
       "        7.54115125e+05, 4.74457250e+05, 7.85353875e+05, 1.28219600e+06,\n",
       "        1.25225825e+06, 1.32762500e+06, 1.51762225e+06, 1.34312225e+06,\n",
       "        1.97240225e+06, 3.68303650e+06, 2.79833200e+06, 2.08319688e+06,\n",
       "        2.23794828e+05, 1.17140422e+05, 1.14634305e+05, 5.88902062e+05,\n",
       "        1.89789984e+05, 2.09057469e+05, 3.57781969e+05, 2.90319812e+05,\n",
       "        3.48712594e+05, 2.09310862e+06, 5.90344650e+06, 1.04739250e+07,\n",
       "        1.22980230e+07, 1.31916020e+07, 1.39368090e+07, 1.41393730e+07,\n",
       "        6.56203700e+06, 1.14107950e+06, 6.08948875e+05, 1.41144688e+06,\n",
       "        1.98112112e+06, 4.34429300e+06, 6.04328250e+06, 1.04475290e+07,\n",
       "        1.40070880e+07, 1.24877780e+07, 9.80676200e+06, 1.08964230e+07,\n",
       "        1.04177650e+07, 1.47446070e+07, 1.40383270e+07, 2.39189580e+07,\n",
       "        3.89789680e+07, 2.96170300e+07, 2.22157440e+07, 3.00545640e+07,\n",
       "        1.64847660e+07, 7.12243600e+06, 8.44124500e+06, 2.03023660e+07,\n",
       "        2.61414020e+07, 2.37279140e+07, 1.45173038e+06, 2.68588625e+06,\n",
       "        1.63289625e+06, 1.21732770e+07, 8.59985600e+06, 1.12166460e+07,\n",
       "        1.55834700e+07, 1.74271100e+07, 1.79603060e+07, 1.20473700e+07,\n",
       "        2.22551425e+06, 3.38948325e+06, 4.55550250e+06, 7.08677050e+06,\n",
       "        4.20980950e+06, 8.45746000e+06, 1.74664900e+07, 9.70091400e+06,\n",
       "        6.54387950e+06, 1.01701190e+07, 1.45031600e+07, 3.52088960e+07,\n",
       "        3.86448720e+07, 3.96338480e+07, 5.11514680e+07, 6.32417560e+07,\n",
       "        4.42731760e+07, 6.14918840e+07, 2.01043240e+07, 1.76848862e+06,\n",
       "        7.22334700e+06, 3.97637275e+06, 7.47326350e+06, 1.10431770e+07,\n",
       "        1.66492970e+07, 1.84551460e+07, 1.98100900e+07, 1.02916390e+07,\n",
       "        1.29857430e+07, 4.82465840e+07, 7.03784640e+07, 1.08032808e+08,\n",
       "        9.50406240e+07, 1.95977420e+07, 8.32819900e+06, 6.14398850e+06,\n",
       "        1.02563550e+07, 1.26943140e+07, 2.76421540e+07, 1.22256870e+07,\n",
       "        1.55942050e+07, 2.08934500e+07, 2.70906380e+07, 3.79921880e+07,\n",
       "        5.57254000e+07, 6.12855680e+07, 5.13121560e+07, 2.85575480e+07,\n",
       "        1.16787180e+07, 5.72409050e+06, 5.22992700e+06, 2.76311625e+06,\n",
       "        8.05630950e+06, 1.73358312e+06, 3.58791825e+06, 9.90304800e+06,\n",
       "        1.87420260e+07, 2.03986700e+07, 2.28493460e+07, 2.47907240e+07,\n",
       "        3.14489075e+06, 6.98306400e+06, 1.69189720e+07, 2.88205580e+07,\n",
       "        2.39987020e+07, 1.14368270e+07, 1.29721300e+07, 6.17027500e+06,\n",
       "        1.95680562e+06, 1.16337700e+06, 6.47898812e+05, 9.06386688e+05,\n",
       "        1.19989675e+06, 2.03354462e+06, 2.59847475e+06, 8.12200450e+06,\n",
       "        1.65099380e+07, 2.04105720e+07, 2.13672000e+07, 1.04628470e+07,\n",
       "        8.34130000e+06, 9.29408500e+06, 1.63424240e+07, 3.24009600e+07,\n",
       "        4.58596560e+07, 5.89009000e+07, 5.28234480e+07, 3.00999740e+07,\n",
       "        1.81147500e+07, 1.82402960e+07, 8.69645200e+06, 6.36356750e+06,\n",
       "        1.65182930e+07, 2.41167560e+07, 4.30196680e+07, 1.65380450e+07,\n",
       "        4.53489200e+06, 6.15234950e+06, 9.86329600e+06, 2.63673200e+06,\n",
       "        3.46130250e+06, 5.32013500e+06, 3.96531050e+06, 1.11621740e+07,\n",
       "        4.07549675e+06, 7.89157500e+06, 1.52651680e+07, 4.30813520e+07,\n",
       "        6.65946800e+07, 7.32834400e+07], dtype=float32),\n",
       " 'rmse': array([  155.39719 ,   231.75006 ,   346.43314 ,   262.53506 ,\n",
       "          348.10828 ,   358.20447 ,   307.38745 ,   340.9265  ,\n",
       "          325.39697 ,   277.18457 ,   369.50342 ,   616.0294  ,\n",
       "          183.93176 ,   124.43893 ,   204.9012  ,    96.84869 ,\n",
       "          130.35457 ,   111.28011 ,   121.12067 ,   148.93506 ,\n",
       "          144.4871  ,   136.90417 ,   126.75789 ,   158.69011 ,\n",
       "          267.9072  ,   391.11877 ,   549.9725  ,   707.9566  ,\n",
       "          670.0914  ,   683.7205  ,   677.16235 ,   500.7297  ,\n",
       "          403.76474 ,   423.26932 ,   622.2954  ,   678.57477 ,\n",
       "          653.44244 ,   640.58844 ,   697.17444 ,   299.30124 ,\n",
       "          130.42635 ,   198.29141 ,   356.67508 ,   530.89594 ,\n",
       "          337.67126 ,   273.29544 ,   320.8427  ,   403.72    ,\n",
       "          674.9442  ,   830.09717 ,   929.08386 ,   950.5982  ,\n",
       "          751.36707 ,   446.3258  ,   275.08038 ,   236.4834  ,\n",
       "          278.1911  ,   353.84125 ,   483.547   ,   631.3371  ,\n",
       "          807.1809  ,   666.6837  ,   625.21857 ,   573.1084  ,\n",
       "          337.12558 ,   298.11646 ,   339.48334 ,   307.6778  ,\n",
       "          491.28717 ,   437.63657 ,   603.1879  ,   334.6899  ,\n",
       "          222.04626 ,   248.08714 ,   253.64697 ,   371.09024 ,\n",
       "          430.1609  ,   543.5627  ,   631.2353  ,   954.99536 ,\n",
       "          850.15356 ,   669.28033 ,   254.36992 ,   264.2654  ,\n",
       "          335.87646 ,   401.98822 ,   447.86353 ,   447.98553 ,\n",
       "          560.2724  ,   577.0633  ,  1410.9242  ,  1915.6968  ,\n",
       "         2388.2275  ,  2200.3896  ,  2228.6726  ,  2377.074   ,\n",
       "         2500.649   ,  1131.4458  ,   652.7634  ,   553.03644 ,\n",
       "          571.8997  ,   485.99695 ,   579.5055  ,   531.4388  ,\n",
       "          322.4759  ,   419.30432 ,   386.98325 ,   376.32596 ,\n",
       "          253.17781 ,   254.40233 ,   416.08188 ,   386.88275 ,\n",
       "          389.2992  ,   417.4244  ,   727.8655  ,   650.4023  ,\n",
       "          506.72134 ,   539.47394 ,   491.5881  ,   188.19725 ,\n",
       "          228.0806  ,   219.30736 ,   297.2755  ,   379.61346 ,\n",
       "          500.9421  ,   357.94476 ,   209.9647  ,   294.32187 ,\n",
       "          310.71628 ,   352.5952  ,   308.25134 ,   450.70764 ,\n",
       "          342.15237 ,   312.92978 ,   323.3528  ,   328.73734 ,\n",
       "          546.193   ,   683.9169  ,   934.7685  ,   885.6453  ,\n",
       "          953.35016 ,  1106.5574  ,  1132.3759  ,  1106.2554  ,\n",
       "         1175.0688  ,   624.67206 ,   499.5149  ,   600.3865  ,\n",
       "          482.17654 ,   474.18893 ,   514.3266  ,   502.53543 ,\n",
       "          493.26117 ,   756.22424 ,   992.9935  ,   789.80316 ,\n",
       "          346.8675  ,   639.97296 ,   795.7704  ,   541.5399  ,\n",
       "          215.86348 ,   256.53143 ,   294.221   ,   415.9647  ,\n",
       "          533.62134 ,   494.464   ,   485.4454  ,   317.591   ,\n",
       "          273.1866  ,   476.6913  ,   538.7605  ,   818.3755  ,\n",
       "          936.3595  ,   833.1411  ,   540.47925 ,   437.06335 ,\n",
       "          357.45102 ,   337.58832 ,   392.21744 ,   150.41803 ,\n",
       "          233.52586 ,   185.29454 ,   205.15218 ,   197.09193 ,\n",
       "          230.29968 ,   273.31754 ,   277.9487  ,   419.20276 ,\n",
       "          122.84407 ,   109.134605,   135.35521 ,   157.2598  ,\n",
       "          191.41153 ,   230.2901  ,   190.54291 ,   189.75285 ,\n",
       "          189.42043 ,   283.6314  ,   217.77246 ,   263.35638 ,\n",
       "          421.4981  ,   204.2089  ,   181.61404 ,   105.913025,\n",
       "          201.61859 ,   125.92201 ,   135.26836 ,    92.87875 ,\n",
       "          165.15485 ,   234.31789 ,   249.51956 ,   165.90872 ,\n",
       "          278.72937 ,   170.633   ,   130.08774 ,   127.44131 ,\n",
       "           43.860622,    89.27567 ,    56.868626,    73.72761 ,\n",
       "           56.209824,   121.79076 ,   185.51253 ,   289.00516 ,\n",
       "          330.06644 ,   415.73975 ,   490.47873 ,   955.1092  ,\n",
       "         1041.1594  ,  1168.2843  ,  1246.654   ,  1402.5575  ,\n",
       "         1568.8885  ,  1436.8323  ,   632.61145 ,   421.79086 ,\n",
       "          350.4867  ,   302.2957  ,   278.95657 ,   432.7365  ,\n",
       "          268.03906 ,   423.83594 ,   357.43042 ,   190.37427 ,\n",
       "          233.00467 ,   267.27527 ,   245.85509 ,   182.33034 ,\n",
       "          371.65018 ,   453.92538 ,   476.63272 ,   416.3581  ,\n",
       "          269.3929  ,   281.36533 ,   204.27634 ,   296.67142 ,\n",
       "          372.86917 ,   209.5633  ,   194.91922 ,   170.88132 ,\n",
       "          165.93971 ,   263.2798  ,   248.72716 ,   329.43033 ,\n",
       "          329.51776 ,   477.96924 ,   451.62332 ,   658.69214 ,\n",
       "          900.6823  ,  1089.878   ,  1418.4266  ,  1249.3779  ,\n",
       "          651.0744  ,   399.90714 ,   331.5545  ,   363.18158 ,\n",
       "          244.40717 ,   508.62213 ,   504.0902  ,   513.8236  ,\n",
       "          494.12134 ,   485.21887 ,   539.79565 ,   381.4111  ,\n",
       "          148.8095  ,   268.15097 ,   309.95966 ,   275.8447  ,\n",
       "          402.56268 ,   302.5695  ,   240.54228 ,   238.39046 ,\n",
       "          422.39386 ,   234.81448 ,    88.30419 ,    60.795883,\n",
       "          145.98857 ,   212.25087 ,   186.89938 ,   123.20433 ,\n",
       "          189.52914 ,   292.07034 ,   492.03885 ,   593.0078  ,\n",
       "          653.9883  ,   794.3171  ,   850.4176  ,   720.4568  ,\n",
       "          544.86755 ,   246.58363 ,   200.7406  ,   213.7794  ,\n",
       "          266.9504  ,   758.41846 ,   955.112   ,  1209.7102  ,\n",
       "         1429.3774  ,  1481.0271  ,  1379.1782  ,  1367.3422  ,\n",
       "          544.68945 ,   288.0444  ,   324.04395 ,   408.52368 ,\n",
       "          469.8694  ,   544.3868  ,   280.1305  ,   440.3117  ,\n",
       "          933.0873  ,  1064.1309  ,  1068.4324  ,  1171.7816  ,\n",
       "         1399.2035  ,  1448.6866  ,  1389.406   ,   586.11743 ,\n",
       "          609.663   ,   782.93915 ,   546.9581  ,   700.37415 ,\n",
       "         1289.8398  ,  1292.7528  ,  1243.4628  ,  1447.852   ,\n",
       "         1766.5465  ,  2065.3523  ,  1705.7499  ,  1134.1777  ,\n",
       "          868.398   ,   688.80853 ,   886.2019  ,  1132.341   ,\n",
       "         1119.0435  ,  1152.2261  ,  1231.9181  ,  1158.9315  ,\n",
       "         1404.4224  ,  1919.1238  ,  1672.8215  ,  1443.3284  ,\n",
       "          473.06958 ,   342.2578  ,   338.57687 ,   767.39954 ,\n",
       "          435.64893 ,   457.22803 ,   598.14874 ,   538.81335 ,\n",
       "          590.5189  ,  1446.7579  ,  2429.701   ,  3236.3445  ,\n",
       "         3506.8538  ,  3632.0244  ,  3733.2036  ,  3760.2358  ,\n",
       "         2561.6472  ,  1068.2133  ,   780.35175 ,  1188.0432  ,\n",
       "         1407.5231  ,  2084.2966  ,  2458.3088  ,  3232.2637  ,\n",
       "         3742.6045  ,  3533.805   ,  3131.575   ,  3300.973   ,\n",
       "         3227.6562  ,  3839.8706  ,  3746.7754  ,  4890.701   ,\n",
       "         6243.314   ,  5442.153   ,  4713.358   ,  5482.204   ,\n",
       "         4060.1436  ,  2668.7893  ,  2905.382   ,  4505.8145  ,\n",
       "         5112.866   ,  4871.1304  ,  1204.8777  ,  1638.8673  ,\n",
       "         1277.8483  ,  3489.0225  ,  2932.551   ,  3349.1262  ,\n",
       "         3947.5903  ,  4174.579   ,  4237.96    ,  3470.9321  ,\n",
       "         1491.8158  ,  1841.0549  ,  2134.3623  ,  2662.0989  ,\n",
       "         2051.782   ,  2908.1711  ,  4179.293   ,  3114.629   ,\n",
       "         2558.1008  ,  3189.0623  ,  3808.3015  ,  5933.7085  ,\n",
       "         6216.5     ,  6295.542   ,  7152.0254  ,  7952.4688  ,\n",
       "         6653.809   ,  7841.6763  ,  4483.7847  ,  1329.8453  ,\n",
       "         2687.6284  ,  1994.0844  ,  2733.727   ,  3323.1274  ,\n",
       "         4080.355   ,  4295.9453  ,  4450.8525  ,  3208.0583  ,\n",
       "         3603.5735  ,  6945.976   ,  8389.1875  , 10393.883   ,\n",
       "         9748.878   ,  4426.9336  ,  2885.8618  ,  2478.707   ,\n",
       "         3202.5544  ,  3562.908   ,  5257.5806  ,  3496.525   ,\n",
       "         3948.9497  ,  4570.9355  ,  5204.8667  ,  6163.7803  ,\n",
       "         7464.945   ,  7828.51    ,  7163.2505  ,  5343.9263  ,\n",
       "         3417.4138  ,  2392.507   ,  2286.9033  ,  1662.2623  ,\n",
       "         2838.3638  ,  1316.656   ,  1894.18    ,  3146.911   ,\n",
       "         4329.206   ,  4516.489   ,  4780.0986  ,  4979.0283  ,\n",
       "         1773.3839  ,  2642.5488  ,  4113.2676  ,  5368.478   ,\n",
       "         4898.847   ,  3381.838   ,  3601.6843  ,  2484.0037  ,\n",
       "         1398.8586  ,  1078.5995  ,   804.92163 ,   952.0434  ,\n",
       "         1095.398   ,  1426.024   ,  1611.9785  ,  2849.913   ,\n",
       "         4063.2424  ,  4517.806   ,  4622.467   ,  3234.6326  ,\n",
       "         2888.1309  ,  3048.62    ,  4042.5764  ,  5692.184   ,\n",
       "         6771.9756  ,  7674.692   ,  7267.974   ,  5486.344   ,\n",
       "         4256.1426  ,  4270.8657  ,  2948.9746  ,  2522.611   ,\n",
       "         4064.2703  ,  4910.8813  ,  6558.938   ,  4066.6995  ,\n",
       "         2129.5286  ,  2480.393   ,  3140.5884  ,  1623.8016  ,\n",
       "         1860.4576  ,  2306.5417  ,  1991.3087  ,  3340.984   ,\n",
       "         2018.7859  ,  2809.1946  ,  3907.0664  ,  6563.6387  ,\n",
       "         8160.556   ,  8560.575   ], dtype=float32),\n",
       " 'mape': array([ 2.021188  ,  2.8931615 ,  4.543863  ,  3.3051734 ,  3.5320137 ,\n",
       "         3.9447074 ,  3.1729107 ,  3.5010848 ,  3.3495593 ,  3.0586264 ,\n",
       "         4.818252  ,  8.21952   ,  2.1181116 ,  1.4399405 ,  2.6323562 ,\n",
       "         1.1624212 ,  1.4577674 ,  1.2123582 ,  1.4826097 ,  1.5576518 ,\n",
       "         1.6415255 ,  1.4769793 ,  1.6106255 ,  1.5389268 ,  2.8124595 ,\n",
       "         3.6115906 ,  5.5869536 ,  7.988743  ,  7.4686036 ,  7.8381486 ,\n",
       "         8.183488  ,  6.0270267 ,  3.5814643 ,  3.857059  ,  5.619239  ,\n",
       "         6.4031935 ,  6.3271365 ,  6.6359444 ,  7.7719393 ,  3.207918  ,\n",
       "         1.3116444 ,  1.9672483 ,  3.6365538 ,  6.0286336 ,  3.4045584 ,\n",
       "         2.6760225 ,  3.1559832 ,  4.1092334 ,  5.4099383 ,  7.546179  ,\n",
       "         9.13971   ,  9.800031  ,  7.876702  ,  4.561379  ,  2.4751956 ,\n",
       "         1.9945366 ,  2.4015234 ,  3.1798892 ,  4.212906  ,  5.684673  ,\n",
       "         7.6401815 ,  5.8945265 ,  5.731811  ,  5.0955553 ,  2.828548  ,\n",
       "         2.8396173 ,  2.9510384 ,  2.5480306 ,  4.360813  ,  3.8791947 ,\n",
       "         5.8266    ,  3.19019   ,  2.066793  ,  1.9868424 ,  2.4979699 ,\n",
       "         2.6027884 ,  3.7721746 ,  4.6551785 ,  6.3977427 , 10.06202   ,\n",
       "         9.245633  ,  7.5389957 ,  2.3846862 ,  2.1909215 ,  2.986303  ,\n",
       "         3.5388737 ,  4.632737  ,  4.4240294 ,  5.6798005 ,  6.464337  ,\n",
       "        15.093514  , 23.732302  , 33.96074   , 32.450344  , 35.15255   ,\n",
       "        40.742702  , 46.212486  , 19.832024  , 10.235661  ,  8.069122  ,\n",
       "         9.393879  ,  7.3480344 ,  8.898273  ,  7.8272066 ,  4.611348  ,\n",
       "         5.6690173 ,  5.049311  ,  5.5794787 ,  3.5285316 ,  3.25469   ,\n",
       "         4.767241  ,  4.353835  ,  4.627693  ,  5.505666  , 10.383409  ,\n",
       "         8.765757  ,  6.522449  ,  7.0394235 ,  5.415392  ,  2.2712219 ,\n",
       "         2.9593148 ,  2.7166312 ,  3.9172451 ,  4.6302977 ,  6.92076   ,\n",
       "         4.876982  ,  2.751499  ,  3.2456768 ,  3.836912  ,  3.720295  ,\n",
       "         3.813531  ,  5.5394793 ,  3.2402325 ,  3.7882895 ,  4.0686107 ,\n",
       "         4.1560283 ,  6.207403  ,  8.27312   , 10.126554  ,  7.7292333 ,\n",
       "         8.297619  , 10.977844  , 11.372846  , 11.544169  , 13.139847  ,\n",
       "         6.5242686 ,  3.5273829 ,  4.2882595 ,  4.2294717 ,  4.001288  ,\n",
       "         4.9885263 ,  4.5423965 ,  4.6523623 ,  6.8332477 , 10.064036  ,\n",
       "         7.9160438 ,  3.1264026 ,  5.9758296 ,  7.8712544 ,  5.1736803 ,\n",
       "         2.0187924 ,  2.197453  ,  2.8245075 ,  3.8062577 ,  5.034783  ,\n",
       "         5.204931  ,  4.775564  ,  3.1018918 ,  2.4152827 ,  4.306239  ,\n",
       "         4.6000476 ,  6.9409266 ,  9.106316  ,  7.8421397 ,  4.592788  ,\n",
       "         3.7642865 ,  2.130244  ,  2.2909908 ,  3.8217015 ,  1.4667377 ,\n",
       "         1.7001524 ,  1.6405301 ,  1.698989  ,  1.741758  ,  1.8363042 ,\n",
       "         2.2936616 ,  2.733537  ,  4.187017  ,  0.9109906 ,  0.85626173,\n",
       "         1.2765002 ,  1.1879689 ,  1.3916337 ,  1.8356478 ,  1.6128259 ,\n",
       "         1.4574773 ,  1.4177904 ,  2.1728895 ,  1.5649961 ,  2.5195432 ,\n",
       "         4.382293  ,  1.7240938 ,  1.5780503 ,  0.9162969 ,  1.7731156 ,\n",
       "         1.2465024 ,  1.0406512 ,  0.84374386,  1.2677131 ,  2.0989034 ,\n",
       "         2.1462164 ,  1.5988661 ,  2.8935323 ,  1.306175  ,  1.07709   ,\n",
       "         1.2363981 ,  0.4038592 ,  0.82867193,  0.48876858,  0.6758862 ,\n",
       "         0.45214304,  0.92376035,  1.4039936 ,  2.2549224 ,  2.7819986 ,\n",
       "         3.5376515 ,  4.4012036 ,  7.0331054 ,  7.646583  ,  8.240442  ,\n",
       "         9.086643  , 11.23014   , 12.99731   , 12.512236  ,  4.9485803 ,\n",
       "         3.1721425 ,  2.2248745 ,  1.9571792 ,  2.3224888 ,  3.1936514 ,\n",
       "         2.1045623 ,  3.3453453 ,  2.9360716 ,  1.392839  ,  1.6842093 ,\n",
       "         1.6041818 ,  1.6589295 ,  1.3657632 ,  2.4645839 ,  2.9695387 ,\n",
       "         3.5579941 ,  2.933407  ,  1.9080689 ,  1.7589239 ,  1.1445414 ,\n",
       "         2.3434813 ,  2.9849012 ,  1.4116626 ,  1.5439594 ,  1.0125065 ,\n",
       "         1.3252194 ,  1.9880338 ,  1.611202  ,  2.1385877 ,  2.3920991 ,\n",
       "         3.522957  ,  3.5202157 ,  5.0080633 ,  7.263434  ,  9.170069  ,\n",
       "        13.140035  , 11.835337  ,  6.040599  ,  3.4634612 ,  2.7718036 ,\n",
       "         2.9767551 ,  1.9342886 ,  4.3455815 ,  4.1047897 ,  4.0905275 ,\n",
       "         3.705002  ,  4.1957984 ,  4.822624  ,  3.1077766 ,  1.2167665 ,\n",
       "         1.8861334 ,  2.3848052 ,  2.2239914 ,  3.2536144 ,  2.2271156 ,\n",
       "         1.9610254 ,  2.2144482 ,  3.8446193 ,  1.9714935 ,  0.7230765 ,\n",
       "         0.53686905,  1.1239241 ,  1.7836812 ,  1.3266178 ,  1.0461652 ,\n",
       "         1.1938792 ,  2.0626729 ,  3.352911  ,  4.0496492 ,  4.572748  ,\n",
       "         6.086146  ,  7.0813074 ,  6.0020585 ,  4.7079096 ,  1.8115679 ,\n",
       "         1.3405269 ,  1.7543164 ,  1.7640203 ,  3.7975233 ,  5.296409  ,\n",
       "         7.077714  ,  9.530596  , 10.580661  , 10.101009  , 10.212231  ,\n",
       "         3.6555064 ,  1.8011835 ,  1.8540297 ,  2.3287709 ,  3.0646863 ,\n",
       "         3.5948951 ,  1.8228623 ,  2.5680032 ,  4.701314  ,  4.86837   ,\n",
       "         5.151733  ,  6.1899934 ,  8.147043  ,  8.831356  ,  8.696987  ,\n",
       "         2.7974856 ,  3.2693107 ,  4.188701  ,  3.0381289 ,  3.7491236 ,\n",
       "         6.6669574 ,  5.980588  ,  5.3556595 ,  6.6945286 ,  8.603135  ,\n",
       "        10.638798  ,  8.998299  ,  5.599658  ,  4.11168   ,  3.594064  ,\n",
       "         3.4369078 ,  4.794771  ,  5.0477114 ,  5.167405  ,  5.5434012 ,\n",
       "         5.5420303 ,  6.353736  ,  9.5539465 ,  8.300571  ,  7.4592233 ,\n",
       "         2.1121144 ,  1.1493542 ,  1.1757276 ,  3.7786267 ,  2.2001748 ,\n",
       "         2.1089327 ,  2.7803998 ,  2.616993  ,  2.7402427 ,  5.1037126 ,\n",
       "         8.677439  , 12.558     , 12.948365  , 14.001921  , 14.914274  ,\n",
       "        15.831521  , 10.875809  ,  4.223676  ,  2.5562522 ,  3.7512534 ,\n",
       "         4.693303  ,  6.017867  ,  7.5616293 , 10.380045  , 12.575383  ,\n",
       "        11.694206  ,  8.469481  ,  8.145291  ,  8.767275  , 10.418405  ,\n",
       "         8.92781   , 10.724521  , 14.000966  , 11.502166  , 10.797899  ,\n",
       "        12.824728  ,  8.471441  ,  6.1669393 ,  6.2936826 , 10.83304   ,\n",
       "        13.407095  , 13.188569  ,  2.7088902 ,  3.568269  ,  2.97069   ,\n",
       "         8.615689  ,  6.8458633 ,  7.3180547 , 10.21429   , 11.293833  ,\n",
       "        12.439669  , 10.414124  ,  3.085598  ,  3.8380833 ,  4.8635297 ,\n",
       "         6.3924804 ,  5.5296745 ,  7.978625  , 11.440425  ,  7.852664  ,\n",
       "         5.581031  ,  6.6323    ,  8.861707  , 12.5742035 , 12.228279  ,\n",
       "        10.43158   , 13.162492  , 15.607707  , 13.4967375 , 16.370531  ,\n",
       "         9.080205  ,  2.4533513 ,  4.067287  ,  2.9051929 ,  4.1205363 ,\n",
       "         4.936739  ,  6.1055856 ,  6.5350695 ,  7.5640297 ,  5.59702   ,\n",
       "         6.5632453 , 11.908403  , 15.564177  , 21.111734  , 20.262463  ,\n",
       "         8.833312  ,  5.4260025 ,  4.4389057 ,  5.2477007 ,  6.699977  ,\n",
       "        10.229771  ,  6.340905  ,  6.171728  ,  6.636428  ,  7.844676  ,\n",
       "         8.947067  , 11.446655  , 12.105445  , 11.388447  ,  8.7321    ,\n",
       "         5.2524514 ,  3.3161812 ,  2.9497662 ,  2.0609274 ,  4.6625085 ,\n",
       "         1.8160869 ,  2.7467868 ,  4.421579  ,  6.7814374 ,  7.4201665 ,\n",
       "         8.086391  ,  8.778687  ,  2.857794  ,  4.041541  ,  6.4430223 ,\n",
       "         8.468083  ,  7.9947286 ,  5.3322153 ,  6.068445  ,  3.9763532 ,\n",
       "         2.247018  ,  1.4772788 ,  0.78095615,  1.3899229 ,  1.4104576 ,\n",
       "         1.8795801 ,  2.4356604 ,  3.646769  ,  5.506518  ,  6.329122  ,\n",
       "         6.8698235 ,  4.7605085 ,  4.1362596 ,  4.733001  ,  5.6091614 ,\n",
       "         8.683817  , 11.02035   , 13.287495  , 13.155061  ,  9.548341  ,\n",
       "         7.1254716 ,  7.3034062 ,  4.8220525 ,  4.3808403 ,  6.177721  ,\n",
       "         8.291801  , 11.310608  ,  6.5537176 ,  3.3278306 ,  4.060734  ,\n",
       "         5.241891  ,  2.5346732 ,  2.1478999 ,  3.299566  ,  2.5434418 ,\n",
       "         5.2266827 ,  2.7016006 ,  3.8954458 ,  6.374113  , 10.615468  ,\n",
       "        14.621231  , 15.816219  ], dtype=float32),\n",
       " 'mase': 2.2381577}"
      ]
     },
     "execution_count": 64,
     "metadata": {},
     "output_type": "execute_result"
    }
   ],
   "source": [
    "# Evaluate model_3 results\n",
    "model_3_results = evaluate_preds(y_true=tf.squeeze(test_labels),\n",
    "                                 y_pred=model_3_preds)\n",
    "model_3_results"
   ]
  },
  {
   "cell_type": "markdown",
   "id": "eb20aaac",
   "metadata": {},
   "source": [
    "## Make our evaluation function work for larger horizons"
   ]
  },
  {
   "cell_type": "code",
   "execution_count": 65,
   "id": "c1d76057",
   "metadata": {},
   "outputs": [],
   "source": [
    "# Create a function to take in model predictions and truth values and return evaluation metrics\n",
    "def evaluate_preds(y_true, y_pred):\n",
    "    # Make sure float32 datatype (for metric calculation)\n",
    "    y_true = tf.cast(y_true, dtype=tf.float32)\n",
    "    y_pred = tf.cast(y_pred, dtype=tf.float32)\n",
    "\n",
    "    # Calculate various evaluation metrics\n",
    "    mae = tf.keras.metrics.mean_absolute_error(y_true, y_pred)\n",
    "    mse = tf.keras.metrics.mean_squared_error(y_true, y_pred)\n",
    "    rmse = tf.sqrt(mse)\n",
    "    mape = tf.keras.metrics.mean_absolute_percentage_error(y_true, y_pred)\n",
    "    mase = mean_absolute_scaled_error(y_true, y_pred)\n",
    "\n",
    "    # Account for different sized metrics (for longer horizons, we want to reduce metrics to a single value)\n",
    "    if mae.ndim > 0:\n",
    "        mae = tf.reduce_mean(mae)\n",
    "        mse = tf.reduce_mean(mse)\n",
    "        rmse = tf.reduce_mean(rmse)\n",
    "        mape = tf.reduce_mean(mape)\n",
    "        mase = tf.reduce_mean(mase)\n",
    "\n",
    "    return {\n",
    "        \"mae\": mae.numpy(),\n",
    "        \"mse\": mse.numpy(),\n",
    "        \"rmse\": rmse.numpy(),\n",
    "        \"mape\": mape.numpy(),\n",
    "        \"mase\": mase.numpy()\n",
    "    }"
   ]
  },
  {
   "cell_type": "code",
   "execution_count": 66,
   "id": "379adf2b",
   "metadata": {},
   "outputs": [
    {
     "data": {
      "text/plain": [
       "{'mae': 1309.0226,\n",
       " 'mse': 5709838.0,\n",
       " 'rmse': 1504.8513,\n",
       " 'mape': 5.6242304,\n",
       " 'mase': 2.2381577}"
      ]
     },
     "execution_count": 66,
     "metadata": {},
     "output_type": "execute_result"
    }
   ],
   "source": [
    "# Get model_3 results aggregated to single values\n",
    "model_3_results = evaluate_preds(y_true=tf.squeeze(test_labels),\n",
    "                                 y_pred=model_3_preds)\n",
    "model_3_results"
   ]
  },
  {
   "cell_type": "markdown",
   "id": "919753cb",
   "metadata": {},
   "source": [
    "We have made and evaluated predictions with `model_3`, let's visualize visualize visualize!"
   ]
  },
  {
   "cell_type": "code",
   "execution_count": 67,
   "id": "58191ef7",
   "metadata": {},
   "outputs": [
    {
     "data": {
      "image/png": "[encoded data removed]",
      "text/plain": [
       "<Figure size 1000x700 with 1 Axes>"
      ]
     },
     "metadata": {},
     "output_type": "display_data"
    }
   ],
   "source": [
    "offset = 300\n",
    "plt.figure(figsize=(10, 7))\n",
    "plot_time_series(timesteps=X_test[-len(test_windows):], values=test_labels[:, 0], start=offset, label='Test Data')\n",
    "plot_time_series(timesteps=X_test[-len(test_windows):], values=tf.reduce_mean(model_3_preds, axis=1), format='-', start=offset, label='model_3_pred')"
   ]
  },
  {
   "cell_type": "markdown",
   "id": "f7318035",
   "metadata": {},
   "source": [
    "## Which of our models is performing the best so far?\n",
    "\n",
    "So we have trained a few models, now let's compare them and see how they have gone..."
   ]
  },
  {
   "cell_type": "code",
   "execution_count": 68,
   "id": "ef3b7b5b",
   "metadata": {},
   "outputs": [
    {
     "data": {
      "text/plain": [
       "<Axes: >"
      ]
     },
     "execution_count": 68,
     "metadata": {},
     "output_type": "execute_result"
    },
    {
     "data": {
      "image/png": "[encoded data removed]",
      "text/plain": [
       "<Figure size 1000x700 with 1 Axes>"
      ]
     },
     "metadata": {},
     "output_type": "display_data"
    }
   ],
   "source": [
    "pd.DataFrame({'naive': naive_results['mae'],\n",
    "              'horizon_1_window_7': model_1_results['mae'],\n",
    "              'horizon_1_window_30': model_2_results['mae'],\n",
    "              'horizon_7_window_30': model_3_results['mae']}, index=['mae']).plot(figsize=(10, 7), kind='bar')"
   ]
  },
  {
   "cell_type": "markdown",
   "id": "485fb523",
   "metadata": {},
   "source": [
    "## Model 4: Conv1D"
   ]
  },
  {
   "cell_type": "code",
   "execution_count": 69,
   "id": "5a19444d",
   "metadata": {},
   "outputs": [],
   "source": [
    "HORIZON = 1 # predict next day of Bitcoin prices\n",
    "WINDOW_SIZE = 7 # use previous week worth data"
   ]
  },
  {
   "cell_type": "code",
   "execution_count": 70,
   "id": "38fa46f3",
   "metadata": {},
   "outputs": [
    {
     "data": {
      "text/plain": [
       "(2780, 2780)"
      ]
     },
     "execution_count": 70,
     "metadata": {},
     "output_type": "execute_result"
    }
   ],
   "source": [
    "# Create windowed data\n",
    "full_windows, full_labels = make_windows(prices, window_size=WINDOW_SIZE, horizon=HORIZON)\n",
    "len(full_windows), len(full_labels)"
   ]
  },
  {
   "cell_type": "code",
   "execution_count": 71,
   "id": "5b7987b0",
   "metadata": {},
   "outputs": [
    {
     "data": {
      "text/plain": [
       "(2229, 2229, 551, 551)"
      ]
     },
     "execution_count": 71,
     "metadata": {},
     "output_type": "execute_result"
    }
   ],
   "source": [
    "# Create train/test sets\n",
    "train_windows, test_windows, train_labels, test_labels = make_train_test_splits(full_windows, full_labels)\n",
    "len(train_windows), len(train_labels), len(test_windows), len(test_labels)"
   ]
  },
  {
   "cell_type": "markdown",
   "id": "9bae52ae",
   "metadata": {},
   "source": [
    "To use the Conv1D layer, we need an input shape of: `(batch_size, timesteps, input_dim)`... However, our data isn't in that shape yet."
   ]
  },
  {
   "cell_type": "code",
   "execution_count": 72,
   "id": "bd72e3eb",
   "metadata": {},
   "outputs": [
    {
     "data": {
      "text/plain": [
       "(7,)"
      ]
     },
     "execution_count": 72,
     "metadata": {},
     "output_type": "execute_result"
    }
   ],
   "source": [
    "# Check data input shape\n",
    "train_windows[0].shape # returns (WINDOW_SIZE, )"
   ]
  },
  {
   "cell_type": "code",
   "execution_count": 73,
   "id": "70cb4513",
   "metadata": {},
   "outputs": [
    {
     "data": {
      "text/plain": [
       "<tf.Tensor: shape=(7,), dtype=float64, numpy=\n",
       "array([123.65499, 125.455  , 108.58483, 118.67466, 121.33866, 120.65533,\n",
       "       121.795  ])>"
      ]
     },
     "execution_count": 73,
     "metadata": {},
     "output_type": "execute_result"
    }
   ],
   "source": [
    "# Before we pass our data to the Conv1D layer, we have to reshape it in order to make sure it works \n",
    "x = tf.constant(train_windows[0])\n",
    "x"
   ]
  },
  {
   "cell_type": "code",
   "execution_count": 74,
   "id": "ba3f47a1",
   "metadata": {},
   "outputs": [],
   "source": [
    "expand_dims_layer = layers.Lambda(lambda x: tf.expand_dims(x, axis=1)) # add an extra dimension to our layer"
   ]
  },
  {
   "cell_type": "code",
   "execution_count": 75,
   "id": "18649f7e",
   "metadata": {},
   "outputs": [
    {
     "name": "stdout",
     "output_type": "stream",
     "text": [
      "Original shape: (7,)\n",
      "Expanded shape: (7, 1)\n",
      "Original values with expanded shape:\n",
      " [[123.65499]\n",
      " [125.455  ]\n",
      " [108.58483]\n",
      " [118.67466]\n",
      " [121.33866]\n",
      " [120.65533]\n",
      " [121.795  ]]\n"
     ]
    }
   ],
   "source": [
    "# Test out our lambda layer\n",
    "print(f'Original shape: {x.shape}') # (WINDOW_SIZE)\n",
    "print(f'Expanded shape: {expand_dims_layer(x).shape}')\n",
    "print(f'Original values with expanded shape:\\n {expand_dims_layer(x)}')"
   ]
  },
  {
   "cell_type": "code",
   "execution_count": 76,
   "id": "5a803a7f",
   "metadata": {},
   "outputs": [
    {
     "name": "stderr",
     "output_type": "stream",
     "text": [
      "WARNING:absl:Found untraced functions such as _jit_compiled_convolution_op while saving (showing 1 of 1). These functions will not be directly callable after loading.\n"
     ]
    },
    {
     "name": "stdout",
     "output_type": "stream",
     "text": [
      "INFO:tensorflow:Assets written to: model_experiments\\model_4_conv1D\\assets\n"
     ]
    },
    {
     "name": "stderr",
     "output_type": "stream",
     "text": [
      "INFO:tensorflow:Assets written to: model_experiments\\model_4_conv1D\\assets\n",
      "WARNING:absl:Found untraced functions such as _jit_compiled_convolution_op while saving (showing 1 of 1). These functions will not be directly callable after loading.\n"
     ]
    },
    {
     "name": "stdout",
     "output_type": "stream",
     "text": [
      "INFO:tensorflow:Assets written to: model_experiments\\model_4_conv1D\\assets\n"
     ]
    },
    {
     "name": "stderr",
     "output_type": "stream",
     "text": [
      "INFO:tensorflow:Assets written to: model_experiments\\model_4_conv1D\\assets\n",
      "WARNING:absl:Found untraced functions such as _jit_compiled_convolution_op while saving (showing 1 of 1). These functions will not be directly callable after loading.\n"
     ]
    },
    {
     "name": "stdout",
     "output_type": "stream",
     "text": [
      "INFO:tensorflow:Assets written to: model_experiments\\model_4_conv1D\\assets\n"
     ]
    },
    {
     "name": "stderr",
     "output_type": "stream",
     "text": [
      "INFO:tensorflow:Assets written to: model_experiments\\model_4_conv1D\\assets\n",
      "WARNING:absl:Found untraced functions such as _jit_compiled_convolution_op while saving (showing 1 of 1). These functions will not be directly callable after loading.\n"
     ]
    },
    {
     "name": "stdout",
     "output_type": "stream",
     "text": [
      "INFO:tensorflow:Assets written to: model_experiments\\model_4_conv1D\\assets\n"
     ]
    },
    {
     "name": "stderr",
     "output_type": "stream",
     "text": [
      "INFO:tensorflow:Assets written to: model_experiments\\model_4_conv1D\\assets\n",
      "WARNING:absl:Found untraced functions such as _jit_compiled_convolution_op while saving (showing 1 of 1). These functions will not be directly callable after loading.\n"
     ]
    },
    {
     "name": "stdout",
     "output_type": "stream",
     "text": [
      "INFO:tensorflow:Assets written to: model_experiments\\model_4_conv1D\\assets\n"
     ]
    },
    {
     "name": "stderr",
     "output_type": "stream",
     "text": [
      "INFO:tensorflow:Assets written to: model_experiments\\model_4_conv1D\\assets\n",
      "WARNING:absl:Found untraced functions such as _jit_compiled_convolution_op while saving (showing 1 of 1). These functions will not be directly callable after loading.\n"
     ]
    },
    {
     "name": "stdout",
     "output_type": "stream",
     "text": [
      "INFO:tensorflow:Assets written to: model_experiments\\model_4_conv1D\\assets\n"
     ]
    },
    {
     "name": "stderr",
     "output_type": "stream",
     "text": [
      "INFO:tensorflow:Assets written to: model_experiments\\model_4_conv1D\\assets\n",
      "WARNING:absl:Found untraced functions such as _jit_compiled_convolution_op while saving (showing 1 of 1). These functions will not be directly callable after loading.\n"
     ]
    },
    {
     "name": "stdout",
     "output_type": "stream",
     "text": [
      "INFO:tensorflow:Assets written to: model_experiments\\model_4_conv1D\\assets\n"
     ]
    },
    {
     "name": "stderr",
     "output_type": "stream",
     "text": [
      "INFO:tensorflow:Assets written to: model_experiments\\model_4_conv1D\\assets\n",
      "WARNING:absl:Found untraced functions such as _jit_compiled_convolution_op while saving (showing 1 of 1). These functions will not be directly callable after loading.\n"
     ]
    },
    {
     "name": "stdout",
     "output_type": "stream",
     "text": [
      "INFO:tensorflow:Assets written to: model_experiments\\model_4_conv1D\\assets\n"
     ]
    },
    {
     "name": "stderr",
     "output_type": "stream",
     "text": [
      "INFO:tensorflow:Assets written to: model_experiments\\model_4_conv1D\\assets\n",
      "WARNING:absl:Found untraced functions such as _jit_compiled_convolution_op while saving (showing 1 of 1). These functions will not be directly callable after loading.\n"
     ]
    },
    {
     "name": "stdout",
     "output_type": "stream",
     "text": [
      "INFO:tensorflow:Assets written to: model_experiments\\model_4_conv1D\\assets\n"
     ]
    },
    {
     "name": "stderr",
     "output_type": "stream",
     "text": [
      "INFO:tensorflow:Assets written to: model_experiments\\model_4_conv1D\\assets\n",
      "WARNING:absl:Found untraced functions such as _jit_compiled_convolution_op while saving (showing 1 of 1). These functions will not be directly callable after loading.\n"
     ]
    },
    {
     "name": "stdout",
     "output_type": "stream",
     "text": [
      "INFO:tensorflow:Assets written to: model_experiments\\model_4_conv1D\\assets\n"
     ]
    },
    {
     "name": "stderr",
     "output_type": "stream",
     "text": [
      "INFO:tensorflow:Assets written to: model_experiments\\model_4_conv1D\\assets\n",
      "WARNING:absl:Found untraced functions such as _jit_compiled_convolution_op while saving (showing 1 of 1). These functions will not be directly callable after loading.\n"
     ]
    },
    {
     "name": "stdout",
     "output_type": "stream",
     "text": [
      "INFO:tensorflow:Assets written to: model_experiments\\model_4_conv1D\\assets\n"
     ]
    },
    {
     "name": "stderr",
     "output_type": "stream",
     "text": [
      "INFO:tensorflow:Assets written to: model_experiments\\model_4_conv1D\\assets\n",
      "WARNING:absl:Found untraced functions such as _jit_compiled_convolution_op while saving (showing 1 of 1). These functions will not be directly callable after loading.\n"
     ]
    },
    {
     "name": "stdout",
     "output_type": "stream",
     "text": [
      "INFO:tensorflow:Assets written to: model_experiments\\model_4_conv1D\\assets\n"
     ]
    },
    {
     "name": "stderr",
     "output_type": "stream",
     "text": [
      "INFO:tensorflow:Assets written to: model_experiments\\model_4_conv1D\\assets\n",
      "WARNING:absl:Found untraced functions such as _jit_compiled_convolution_op while saving (showing 1 of 1). These functions will not be directly callable after loading.\n"
     ]
    },
    {
     "name": "stdout",
     "output_type": "stream",
     "text": [
      "INFO:tensorflow:Assets written to: model_experiments\\model_4_conv1D\\assets\n"
     ]
    },
    {
     "name": "stderr",
     "output_type": "stream",
     "text": [
      "INFO:tensorflow:Assets written to: model_experiments\\model_4_conv1D\\assets\n",
      "WARNING:absl:Found untraced functions such as _jit_compiled_convolution_op while saving (showing 1 of 1). These functions will not be directly callable after loading.\n"
     ]
    },
    {
     "name": "stdout",
     "output_type": "stream",
     "text": [
      "INFO:tensorflow:Assets written to: model_experiments\\model_4_conv1D\\assets\n"
     ]
    },
    {
     "name": "stderr",
     "output_type": "stream",
     "text": [
      "INFO:tensorflow:Assets written to: model_experiments\\model_4_conv1D\\assets\n",
      "WARNING:absl:Found untraced functions such as _jit_compiled_convolution_op while saving (showing 1 of 1). These functions will not be directly callable after loading.\n"
     ]
    },
    {
     "name": "stdout",
     "output_type": "stream",
     "text": [
      "INFO:tensorflow:Assets written to: model_experiments\\model_4_conv1D\\assets\n"
     ]
    },
    {
     "name": "stderr",
     "output_type": "stream",
     "text": [
      "INFO:tensorflow:Assets written to: model_experiments\\model_4_conv1D\\assets\n",
      "WARNING:absl:Found untraced functions such as _jit_compiled_convolution_op while saving (showing 1 of 1). These functions will not be directly callable after loading.\n"
     ]
    },
    {
     "name": "stdout",
     "output_type": "stream",
     "text": [
      "INFO:tensorflow:Assets written to: model_experiments\\model_4_conv1D\\assets\n"
     ]
    },
    {
     "name": "stderr",
     "output_type": "stream",
     "text": [
      "INFO:tensorflow:Assets written to: model_experiments\\model_4_conv1D\\assets\n",
      "WARNING:absl:Found untraced functions such as _jit_compiled_convolution_op while saving (showing 1 of 1). These functions will not be directly callable after loading.\n"
     ]
    },
    {
     "name": "stdout",
     "output_type": "stream",
     "text": [
      "INFO:tensorflow:Assets written to: model_experiments\\model_4_conv1D\\assets\n"
     ]
    },
    {
     "name": "stderr",
     "output_type": "stream",
     "text": [
      "INFO:tensorflow:Assets written to: model_experiments\\model_4_conv1D\\assets\n",
      "WARNING:absl:Found untraced functions such as _jit_compiled_convolution_op while saving (showing 1 of 1). These functions will not be directly callable after loading.\n"
     ]
    },
    {
     "name": "stdout",
     "output_type": "stream",
     "text": [
      "INFO:tensorflow:Assets written to: model_experiments\\model_4_conv1D\\assets\n"
     ]
    },
    {
     "name": "stderr",
     "output_type": "stream",
     "text": [
      "INFO:tensorflow:Assets written to: model_experiments\\model_4_conv1D\\assets\n",
      "WARNING:absl:Found untraced functions such as _jit_compiled_convolution_op while saving (showing 1 of 1). These functions will not be directly callable after loading.\n"
     ]
    },
    {
     "name": "stdout",
     "output_type": "stream",
     "text": [
      "INFO:tensorflow:Assets written to: model_experiments\\model_4_conv1D\\assets\n"
     ]
    },
    {
     "name": "stderr",
     "output_type": "stream",
     "text": [
      "INFO:tensorflow:Assets written to: model_experiments\\model_4_conv1D\\assets\n",
      "WARNING:absl:Found untraced functions such as _jit_compiled_convolution_op while saving (showing 1 of 1). These functions will not be directly callable after loading.\n"
     ]
    },
    {
     "name": "stdout",
     "output_type": "stream",
     "text": [
      "INFO:tensorflow:Assets written to: model_experiments\\model_4_conv1D\\assets\n"
     ]
    },
    {
     "name": "stderr",
     "output_type": "stream",
     "text": [
      "INFO:tensorflow:Assets written to: model_experiments\\model_4_conv1D\\assets\n",
      "WARNING:absl:Found untraced functions such as _jit_compiled_convolution_op while saving (showing 1 of 1). These functions will not be directly callable after loading.\n"
     ]
    },
    {
     "name": "stdout",
     "output_type": "stream",
     "text": [
      "INFO:tensorflow:Assets written to: model_experiments\\model_4_conv1D\\assets\n"
     ]
    },
    {
     "name": "stderr",
     "output_type": "stream",
     "text": [
      "INFO:tensorflow:Assets written to: model_experiments\\model_4_conv1D\\assets\n",
      "WARNING:absl:Found untraced functions such as _jit_compiled_convolution_op while saving (showing 1 of 1). These functions will not be directly callable after loading.\n"
     ]
    },
    {
     "name": "stdout",
     "output_type": "stream",
     "text": [
      "INFO:tensorflow:Assets written to: model_experiments\\model_4_conv1D\\assets\n"
     ]
    },
    {
     "name": "stderr",
     "output_type": "stream",
     "text": [
      "INFO:tensorflow:Assets written to: model_experiments\\model_4_conv1D\\assets\n",
      "WARNING:absl:Found untraced functions such as _jit_compiled_convolution_op while saving (showing 1 of 1). These functions will not be directly callable after loading.\n"
     ]
    },
    {
     "name": "stdout",
     "output_type": "stream",
     "text": [
      "INFO:tensorflow:Assets written to: model_experiments\\model_4_conv1D\\assets\n"
     ]
    },
    {
     "name": "stderr",
     "output_type": "stream",
     "text": [
      "INFO:tensorflow:Assets written to: model_experiments\\model_4_conv1D\\assets\n",
      "WARNING:absl:Found untraced functions such as _jit_compiled_convolution_op while saving (showing 1 of 1). These functions will not be directly callable after loading.\n"
     ]
    },
    {
     "name": "stdout",
     "output_type": "stream",
     "text": [
      "INFO:tensorflow:Assets written to: model_experiments\\model_4_conv1D\\assets\n"
     ]
    },
    {
     "name": "stderr",
     "output_type": "stream",
     "text": [
      "INFO:tensorflow:Assets written to: model_experiments\\model_4_conv1D\\assets\n",
      "WARNING:absl:Found untraced functions such as _jit_compiled_convolution_op while saving (showing 1 of 1). These functions will not be directly callable after loading.\n"
     ]
    },
    {
     "name": "stdout",
     "output_type": "stream",
     "text": [
      "INFO:tensorflow:Assets written to: model_experiments\\model_4_conv1D\\assets\n"
     ]
    },
    {
     "name": "stderr",
     "output_type": "stream",
     "text": [
      "INFO:tensorflow:Assets written to: model_experiments\\model_4_conv1D\\assets\n",
      "WARNING:absl:Found untraced functions such as _jit_compiled_convolution_op while saving (showing 1 of 1). These functions will not be directly callable after loading.\n"
     ]
    },
    {
     "name": "stdout",
     "output_type": "stream",
     "text": [
      "INFO:tensorflow:Assets written to: model_experiments\\model_4_conv1D\\assets\n"
     ]
    },
    {
     "name": "stderr",
     "output_type": "stream",
     "text": [
      "INFO:tensorflow:Assets written to: model_experiments\\model_4_conv1D\\assets\n",
      "WARNING:absl:Found untraced functions such as _jit_compiled_convolution_op while saving (showing 1 of 1). These functions will not be directly callable after loading.\n"
     ]
    },
    {
     "name": "stdout",
     "output_type": "stream",
     "text": [
      "INFO:tensorflow:Assets written to: model_experiments\\model_4_conv1D\\assets\n"
     ]
    },
    {
     "name": "stderr",
     "output_type": "stream",
     "text": [
      "INFO:tensorflow:Assets written to: model_experiments\\model_4_conv1D\\assets\n",
      "WARNING:absl:Found untraced functions such as _jit_compiled_convolution_op while saving (showing 1 of 1). These functions will not be directly callable after loading.\n"
     ]
    },
    {
     "name": "stdout",
     "output_type": "stream",
     "text": [
      "INFO:tensorflow:Assets written to: model_experiments\\model_4_conv1D\\assets\n"
     ]
    },
    {
     "name": "stderr",
     "output_type": "stream",
     "text": [
      "INFO:tensorflow:Assets written to: model_experiments\\model_4_conv1D\\assets\n",
      "WARNING:absl:Found untraced functions such as _jit_compiled_convolution_op while saving (showing 1 of 1). These functions will not be directly callable after loading.\n"
     ]
    },
    {
     "name": "stdout",
     "output_type": "stream",
     "text": [
      "INFO:tensorflow:Assets written to: model_experiments\\model_4_conv1D\\assets\n"
     ]
    },
    {
     "name": "stderr",
     "output_type": "stream",
     "text": [
      "INFO:tensorflow:Assets written to: model_experiments\\model_4_conv1D\\assets\n",
      "WARNING:absl:Found untraced functions such as _jit_compiled_convolution_op while saving (showing 1 of 1). These functions will not be directly callable after loading.\n"
     ]
    },
    {
     "name": "stdout",
     "output_type": "stream",
     "text": [
      "INFO:tensorflow:Assets written to: model_experiments\\model_4_conv1D\\assets\n"
     ]
    },
    {
     "name": "stderr",
     "output_type": "stream",
     "text": [
      "INFO:tensorflow:Assets written to: model_experiments\\model_4_conv1D\\assets\n",
      "WARNING:absl:Found untraced functions such as _jit_compiled_convolution_op while saving (showing 1 of 1). These functions will not be directly callable after loading.\n"
     ]
    },
    {
     "name": "stdout",
     "output_type": "stream",
     "text": [
      "INFO:tensorflow:Assets written to: model_experiments\\model_4_conv1D\\assets\n"
     ]
    },
    {
     "name": "stderr",
     "output_type": "stream",
     "text": [
      "INFO:tensorflow:Assets written to: model_experiments\\model_4_conv1D\\assets\n",
      "WARNING:absl:Found untraced functions such as _jit_compiled_convolution_op while saving (showing 1 of 1). These functions will not be directly callable after loading.\n"
     ]
    },
    {
     "name": "stdout",
     "output_type": "stream",
     "text": [
      "INFO:tensorflow:Assets written to: model_experiments\\model_4_conv1D\\assets\n"
     ]
    },
    {
     "name": "stderr",
     "output_type": "stream",
     "text": [
      "INFO:tensorflow:Assets written to: model_experiments\\model_4_conv1D\\assets\n",
      "WARNING:absl:Found untraced functions such as _jit_compiled_convolution_op while saving (showing 1 of 1). These functions will not be directly callable after loading.\n"
     ]
    },
    {
     "name": "stdout",
     "output_type": "stream",
     "text": [
      "INFO:tensorflow:Assets written to: model_experiments\\model_4_conv1D\\assets\n"
     ]
    },
    {
     "name": "stderr",
     "output_type": "stream",
     "text": [
      "INFO:tensorflow:Assets written to: model_experiments\\model_4_conv1D\\assets\n",
      "WARNING:absl:Found untraced functions such as _jit_compiled_convolution_op while saving (showing 1 of 1). These functions will not be directly callable after loading.\n"
     ]
    },
    {
     "name": "stdout",
     "output_type": "stream",
     "text": [
      "INFO:tensorflow:Assets written to: model_experiments\\model_4_conv1D\\assets\n"
     ]
    },
    {
     "name": "stderr",
     "output_type": "stream",
     "text": [
      "INFO:tensorflow:Assets written to: model_experiments\\model_4_conv1D\\assets\n",
      "WARNING:absl:Found untraced functions such as _jit_compiled_convolution_op while saving (showing 1 of 1). These functions will not be directly callable after loading.\n"
     ]
    },
    {
     "name": "stdout",
     "output_type": "stream",
     "text": [
      "INFO:tensorflow:Assets written to: model_experiments\\model_4_conv1D\\assets\n"
     ]
    },
    {
     "name": "stderr",
     "output_type": "stream",
     "text": [
      "INFO:tensorflow:Assets written to: model_experiments\\model_4_conv1D\\assets\n",
      "WARNING:absl:Found untraced functions such as _jit_compiled_convolution_op while saving (showing 1 of 1). These functions will not be directly callable after loading.\n"
     ]
    },
    {
     "name": "stdout",
     "output_type": "stream",
     "text": [
      "INFO:tensorflow:Assets written to: model_experiments\\model_4_conv1D\\assets\n"
     ]
    },
    {
     "name": "stderr",
     "output_type": "stream",
     "text": [
      "INFO:tensorflow:Assets written to: model_experiments\\model_4_conv1D\\assets\n",
      "WARNING:absl:Found untraced functions such as _jit_compiled_convolution_op while saving (showing 1 of 1). These functions will not be directly callable after loading.\n"
     ]
    },
    {
     "name": "stdout",
     "output_type": "stream",
     "text": [
      "INFO:tensorflow:Assets written to: model_experiments\\model_4_conv1D\\assets\n"
     ]
    },
    {
     "name": "stderr",
     "output_type": "stream",
     "text": [
      "INFO:tensorflow:Assets written to: model_experiments\\model_4_conv1D\\assets\n",
      "WARNING:absl:Found untraced functions such as _jit_compiled_convolution_op while saving (showing 1 of 1). These functions will not be directly callable after loading.\n"
     ]
    },
    {
     "name": "stdout",
     "output_type": "stream",
     "text": [
      "INFO:tensorflow:Assets written to: model_experiments\\model_4_conv1D\\assets\n"
     ]
    },
    {
     "name": "stderr",
     "output_type": "stream",
     "text": [
      "INFO:tensorflow:Assets written to: model_experiments\\model_4_conv1D\\assets\n",
      "WARNING:absl:Found untraced functions such as _jit_compiled_convolution_op while saving (showing 1 of 1). These functions will not be directly callable after loading.\n"
     ]
    },
    {
     "name": "stdout",
     "output_type": "stream",
     "text": [
      "INFO:tensorflow:Assets written to: model_experiments\\model_4_conv1D\\assets\n"
     ]
    },
    {
     "name": "stderr",
     "output_type": "stream",
     "text": [
      "INFO:tensorflow:Assets written to: model_experiments\\model_4_conv1D\\assets\n",
      "WARNING:absl:Found untraced functions such as _jit_compiled_convolution_op while saving (showing 1 of 1). These functions will not be directly callable after loading.\n"
     ]
    },
    {
     "name": "stdout",
     "output_type": "stream",
     "text": [
      "INFO:tensorflow:Assets written to: model_experiments\\model_4_conv1D\\assets\n"
     ]
    },
    {
     "name": "stderr",
     "output_type": "stream",
     "text": [
      "INFO:tensorflow:Assets written to: model_experiments\\model_4_conv1D\\assets\n",
      "WARNING:absl:Found untraced functions such as _jit_compiled_convolution_op while saving (showing 1 of 1). These functions will not be directly callable after loading.\n"
     ]
    },
    {
     "name": "stdout",
     "output_type": "stream",
     "text": [
      "INFO:tensorflow:Assets written to: model_experiments\\model_4_conv1D\\assets\n"
     ]
    },
    {
     "name": "stderr",
     "output_type": "stream",
     "text": [
      "INFO:tensorflow:Assets written to: model_experiments\\model_4_conv1D\\assets\n"
     ]
    },
    {
     "data": {
      "text/plain": [
       "<keras.callbacks.History at 0x2ad2db35450>"
      ]
     },
     "execution_count": 76,
     "metadata": {},
     "output_type": "execute_result"
    }
   ],
   "source": [
    "tf.random.set_seed(42)\n",
    "\n",
    "# Create Conv1D model\n",
    "model_4 = tf.keras.Sequential([\n",
    "    layers.Lambda(lambda x: tf.expand_dims(x, axis=1)),\n",
    "    layers.Conv1D(filters=128, kernel_size=5, strides=1, padding='causal', activation='relu'),\n",
    "    layers.Dense(HORIZON)\n",
    "], name='model_4_conv1D')\n",
    "\n",
    "# Compile model\n",
    "model_4.compile(loss='mae',\n",
    "                optimizer=tf.keras.optimizers.Adam())\n",
    "\n",
    "# Fit model\n",
    "model_4.fit(train_windows,\n",
    "            train_labels,\n",
    "            batch_size=128,\n",
    "            epochs=100,\n",
    "            verbose=0,\n",
    "            validation_data=(test_windows, test_labels),\n",
    "            callbacks=[create_model_checkpoint(model_name=model_4.name)])"
   ]
  },
  {
   "cell_type": "code",
   "execution_count": 77,
   "id": "04870920",
   "metadata": {},
   "outputs": [
    {
     "name": "stdout",
     "output_type": "stream",
     "text": [
      "Model: \"model_4_conv1D\"\n",
      "_________________________________________________________________\n",
      " Layer (type)                Output Shape              Param #   \n",
      "=================================================================\n",
      " lambda_1 (Lambda)           (None, 1, 7)              0         \n",
      "                                                                 \n",
      " conv1d (Conv1D)             (None, 1, 128)            4608      \n",
      "                                                                 \n",
      " dense_6 (Dense)             (None, 1, 1)              129       \n",
      "                                                                 \n",
      "=================================================================\n",
      "Total params: 4,737\n",
      "Trainable params: 4,737\n",
      "Non-trainable params: 0\n",
      "_________________________________________________________________\n"
     ]
    }
   ],
   "source": [
    "model_4.summary()"
   ]
  },
  {
   "cell_type": "code",
   "execution_count": 78,
   "id": "f7fcad34",
   "metadata": {},
   "outputs": [
    {
     "name": "stdout",
     "output_type": "stream",
     "text": [
      "18/18 [==============================] - 0s 5ms/step - loss: 586.0214\n"
     ]
    },
    {
     "data": {
      "text/plain": [
       "586.0214233398438"
      ]
     },
     "execution_count": 78,
     "metadata": {},
     "output_type": "execute_result"
    }
   ],
   "source": [
    "# Evaluate model\n",
    "model_4.evaluate(test_windows, test_labels)"
   ]
  },
  {
   "cell_type": "code",
   "execution_count": 79,
   "id": "9315ab0d",
   "metadata": {},
   "outputs": [
    {
     "name": "stdout",
     "output_type": "stream",
     "text": [
      "18/18 [==============================] - 0s 5ms/step - loss: 578.2124\n"
     ]
    },
    {
     "data": {
      "text/plain": [
       "578.21240234375"
      ]
     },
     "execution_count": 79,
     "metadata": {},
     "output_type": "execute_result"
    }
   ],
   "source": [
    "# Load back in best performing Conv1D and re-evaluate\n",
    "model_4 = tf.keras.models.load_model('model_experiments/model_4_conv1D')\n",
    "model_4.evaluate(test_windows, test_labels)"
   ]
  },
  {
   "cell_type": "code",
   "execution_count": 80,
   "id": "33cdffb2",
   "metadata": {},
   "outputs": [
    {
     "name": "stdout",
     "output_type": "stream",
     "text": [
      "18/18 [==============================] - 0s 4ms/step\n"
     ]
    },
    {
     "data": {
      "text/plain": [
       "<tf.Tensor: shape=(5,), dtype=float32, numpy=array([8753.166, 8738.107, 8554.174, 8492.198, 8551.09 ], dtype=float32)>"
      ]
     },
     "execution_count": 80,
     "metadata": {},
     "output_type": "execute_result"
    }
   ],
   "source": [
    "# Make predictions\n",
    "model_4_preds = make_preds(model_4, test_windows)\n",
    "model_4_preds[:5]"
   ]
  },
  {
   "cell_type": "code",
   "execution_count": 81,
   "id": "c6126ee6",
   "metadata": {},
   "outputs": [
    {
     "data": {
      "text/plain": [
       "{'mae': 578.21234,\n",
       " 'mse': 1204201.9,\n",
       " 'rmse': 1097.3613,\n",
       " 'mape': 2.605137,\n",
       " 'mase': 1.0091828}"
      ]
     },
     "execution_count": 81,
     "metadata": {},
     "output_type": "execute_result"
    }
   ],
   "source": [
    "# Evaluate predictions\n",
    "model_4_results = evaluate_preds(y_true=tf.squeeze(test_labels),\n",
    "                                 y_pred=model_4_preds)\n",
    "model_4_results"
   ]
  },
  {
   "cell_type": "code",
   "execution_count": 82,
   "id": "d4aaf90b",
   "metadata": {},
   "outputs": [
    {
     "data": {
      "text/plain": [
       "{'mae': 566.97546,\n",
       " 'mse': 1163613.8,\n",
       " 'rmse': 1078.7092,\n",
       " 'mape': 2.523096,\n",
       " 'mase': 0.9895705}"
      ]
     },
     "execution_count": 82,
     "metadata": {},
     "output_type": "execute_result"
    }
   ],
   "source": [
    "model_1_results"
   ]
  },
  {
   "cell_type": "markdown",
   "id": "a35ec103",
   "metadata": {},
   "source": [
    "## Model 5: RNN (LSTM)\n",
    "\n",
    "Let's build an RNN model for our time series data."
   ]
  },
  {
   "cell_type": "code",
   "execution_count": 83,
   "id": "1b1b5dcc",
   "metadata": {},
   "outputs": [
    {
     "name": "stdout",
     "output_type": "stream",
     "text": [
      "WARNING:tensorflow:Layer lstm will not use cuDNN kernels since it doesn't meet the criteria. It will use a generic GPU kernel as fallback when running on GPU.\n"
     ]
    },
    {
     "name": "stderr",
     "output_type": "stream",
     "text": [
      "WARNING:tensorflow:Layer lstm will not use cuDNN kernels since it doesn't meet the criteria. It will use a generic GPU kernel as fallback when running on GPU.\n"
     ]
    },
    {
     "name": "stdout",
     "output_type": "stream",
     "text": [
      "Epoch 1/100\n",
      "18/18 [==============================] - ETA: 0s - loss: 2214.6589INFO:tensorflow:Assets written to: model_experiments\\model_5_LSTM\\assets\n"
     ]
    },
    {
     "name": "stderr",
     "output_type": "stream",
     "text": [
      "INFO:tensorflow:Assets written to: model_experiments\\model_5_LSTM\\assets\n"
     ]
    },
    {
     "name": "stdout",
     "output_type": "stream",
     "text": [
      "18/18 [==============================] - 6s 200ms/step - loss: 2214.6589 - val_loss: 7571.9546\n",
      "Epoch 2/100\n",
      "18/18 [==============================] - ETA: 0s - loss: 547.0884INFO:tensorflow:Assets written to: model_experiments\\model_5_LSTM\\assets\n"
     ]
    },
    {
     "name": "stderr",
     "output_type": "stream",
     "text": [
      "INFO:tensorflow:Assets written to: model_experiments\\model_5_LSTM\\assets\n"
     ]
    },
    {
     "name": "stdout",
     "output_type": "stream",
     "text": [
      "18/18 [==============================] - 3s 199ms/step - loss: 547.0884 - val_loss: 1550.0397\n",
      "Epoch 3/100\n",
      "16/18 [=========================>....] - ETA: 0s - loss: 230.7926INFO:tensorflow:Assets written to: model_experiments\\model_5_LSTM\\assets\n"
     ]
    },
    {
     "name": "stderr",
     "output_type": "stream",
     "text": [
      "INFO:tensorflow:Assets written to: model_experiments\\model_5_LSTM\\assets\n"
     ]
    },
    {
     "name": "stdout",
     "output_type": "stream",
     "text": [
      "18/18 [==============================] - 3s 179ms/step - loss: 229.1160 - val_loss: 1303.3694\n",
      "Epoch 4/100\n",
      "16/18 [=========================>....] - ETA: 0s - loss: 189.8620INFO:tensorflow:Assets written to: model_experiments\\model_5_LSTM\\assets\n"
     ]
    },
    {
     "name": "stderr",
     "output_type": "stream",
     "text": [
      "INFO:tensorflow:Assets written to: model_experiments\\model_5_LSTM\\assets\n"
     ]
    },
    {
     "name": "stdout",
     "output_type": "stream",
     "text": [
      "18/18 [==============================] - 3s 182ms/step - loss: 185.9652 - val_loss: 1014.9633\n",
      "Epoch 5/100\n",
      "15/18 [========================>.....] - ETA: 0s - loss: 179.8538INFO:tensorflow:Assets written to: model_experiments\\model_5_LSTM\\assets\n"
     ]
    },
    {
     "name": "stderr",
     "output_type": "stream",
     "text": [
      "INFO:tensorflow:Assets written to: model_experiments\\model_5_LSTM\\assets\n"
     ]
    },
    {
     "name": "stdout",
     "output_type": "stream",
     "text": [
      "18/18 [==============================] - 3s 172ms/step - loss: 180.0000 - val_loss: 1001.2408\n",
      "Epoch 6/100\n",
      "18/18 [==============================] - ETA: 0s - loss: 178.2549INFO:tensorflow:Assets written to: model_experiments\\model_5_LSTM\\assets\n"
     ]
    },
    {
     "name": "stderr",
     "output_type": "stream",
     "text": [
      "INFO:tensorflow:Assets written to: model_experiments\\model_5_LSTM\\assets\n"
     ]
    },
    {
     "name": "stdout",
     "output_type": "stream",
     "text": [
      "18/18 [==============================] - 3s 186ms/step - loss: 178.2549 - val_loss: 997.1327\n",
      "Epoch 7/100\n",
      "18/18 [==============================] - 0s 19ms/step - loss: 177.1268 - val_loss: 1010.7662\n",
      "Epoch 8/100\n",
      "18/18 [==============================] - 0s 16ms/step - loss: 175.0091 - val_loss: 1025.1851\n",
      "Epoch 9/100\n",
      "18/18 [==============================] - 0s 18ms/step - loss: 173.9925 - val_loss: 1040.1066\n",
      "Epoch 10/100\n",
      "18/18 [==============================] - 0s 15ms/step - loss: 173.7023 - val_loss: 1030.3086\n",
      "Epoch 11/100\n",
      "15/18 [========================>.....] - ETA: 0s - loss: 169.0267INFO:tensorflow:Assets written to: model_experiments\\model_5_LSTM\\assets\n"
     ]
    },
    {
     "name": "stderr",
     "output_type": "stream",
     "text": [
      "INFO:tensorflow:Assets written to: model_experiments\\model_5_LSTM\\assets\n"
     ]
    },
    {
     "name": "stdout",
     "output_type": "stream",
     "text": [
      "18/18 [==============================] - 4s 208ms/step - loss: 171.9313 - val_loss: 966.1266\n",
      "Epoch 12/100\n",
      "17/18 [===========================>..] - ETA: 0s - loss: 172.9351INFO:tensorflow:Assets written to: model_experiments\\model_5_LSTM\\assets\n"
     ]
    },
    {
     "name": "stderr",
     "output_type": "stream",
     "text": [
      "INFO:tensorflow:Assets written to: model_experiments\\model_5_LSTM\\assets\n"
     ]
    },
    {
     "name": "stdout",
     "output_type": "stream",
     "text": [
      "18/18 [==============================] - 3s 179ms/step - loss: 172.0306 - val_loss: 959.6086\n",
      "Epoch 13/100\n",
      "18/18 [==============================] - 0s 16ms/step - loss: 168.5881 - val_loss: 962.4062\n",
      "Epoch 14/100\n",
      "16/18 [=========================>....] - ETA: 0s - loss: 171.4305INFO:tensorflow:Assets written to: model_experiments\\model_5_LSTM\\assets\n"
     ]
    },
    {
     "name": "stderr",
     "output_type": "stream",
     "text": [
      "INFO:tensorflow:Assets written to: model_experiments\\model_5_LSTM\\assets\n"
     ]
    },
    {
     "name": "stdout",
     "output_type": "stream",
     "text": [
      "18/18 [==============================] - 3s 190ms/step - loss: 167.4743 - val_loss: 944.7144\n",
      "Epoch 15/100\n",
      "15/18 [========================>.....] - ETA: 0s - loss: 163.5307INFO:tensorflow:Assets written to: model_experiments\\model_5_LSTM\\assets\n"
     ]
    },
    {
     "name": "stderr",
     "output_type": "stream",
     "text": [
      "INFO:tensorflow:Assets written to: model_experiments\\model_5_LSTM\\assets\n"
     ]
    },
    {
     "name": "stdout",
     "output_type": "stream",
     "text": [
      "18/18 [==============================] - 3s 179ms/step - loss: 165.6496 - val_loss: 942.0847\n",
      "Epoch 16/100\n",
      "18/18 [==============================] - 0s 18ms/step - loss: 165.3907 - val_loss: 944.4250\n",
      "Epoch 17/100\n",
      "18/18 [==============================] - ETA: 0s - loss: 162.7425INFO:tensorflow:Assets written to: model_experiments\\model_5_LSTM\\assets\n"
     ]
    },
    {
     "name": "stderr",
     "output_type": "stream",
     "text": [
      "INFO:tensorflow:Assets written to: model_experiments\\model_5_LSTM\\assets\n"
     ]
    },
    {
     "name": "stdout",
     "output_type": "stream",
     "text": [
      "18/18 [==============================] - 3s 194ms/step - loss: 162.7425 - val_loss: 911.1096\n",
      "Epoch 18/100\n",
      "18/18 [==============================] - 0s 15ms/step - loss: 162.6054 - val_loss: 920.2055\n",
      "Epoch 19/100\n",
      "18/18 [==============================] - 0s 16ms/step - loss: 159.5847 - val_loss: 957.3450\n",
      "Epoch 20/100\n",
      "17/18 [===========================>..] - ETA: 0s - loss: 161.7847INFO:tensorflow:Assets written to: model_experiments\\model_5_LSTM\\assets\n"
     ]
    },
    {
     "name": "stderr",
     "output_type": "stream",
     "text": [
      "INFO:tensorflow:Assets written to: model_experiments\\model_5_LSTM\\assets\n"
     ]
    },
    {
     "name": "stdout",
     "output_type": "stream",
     "text": [
      "18/18 [==============================] - 3s 180ms/step - loss: 160.9173 - val_loss: 897.1970\n",
      "Epoch 21/100\n",
      "18/18 [==============================] - ETA: 0s - loss: 158.7041INFO:tensorflow:Assets written to: model_experiments\\model_5_LSTM\\assets\n"
     ]
    },
    {
     "name": "stderr",
     "output_type": "stream",
     "text": [
      "INFO:tensorflow:Assets written to: model_experiments\\model_5_LSTM\\assets\n"
     ]
    },
    {
     "name": "stdout",
     "output_type": "stream",
     "text": [
      "18/18 [==============================] - 3s 179ms/step - loss: 158.7041 - val_loss: 875.0640\n",
      "Epoch 22/100\n",
      "18/18 [==============================] - 0s 17ms/step - loss: 155.3286 - val_loss: 919.1288\n",
      "Epoch 23/100\n",
      "18/18 [==============================] - 0s 18ms/step - loss: 155.0617 - val_loss: 927.4318\n",
      "Epoch 24/100\n",
      "18/18 [==============================] - 0s 15ms/step - loss: 152.1544 - val_loss: 884.3112\n",
      "Epoch 25/100\n",
      "16/18 [=========================>....] - ETA: 0s - loss: 151.6595INFO:tensorflow:Assets written to: model_experiments\\model_5_LSTM\\assets\n"
     ]
    },
    {
     "name": "stderr",
     "output_type": "stream",
     "text": [
      "INFO:tensorflow:Assets written to: model_experiments\\model_5_LSTM\\assets\n"
     ]
    },
    {
     "name": "stdout",
     "output_type": "stream",
     "text": [
      "18/18 [==============================] - 3s 202ms/step - loss: 151.3498 - val_loss: 846.4467\n",
      "Epoch 26/100\n",
      "17/18 [===========================>..] - ETA: 0s - loss: 149.7241INFO:tensorflow:Assets written to: model_experiments\\model_5_LSTM\\assets\n"
     ]
    },
    {
     "name": "stderr",
     "output_type": "stream",
     "text": [
      "INFO:tensorflow:Assets written to: model_experiments\\model_5_LSTM\\assets\n"
     ]
    },
    {
     "name": "stdout",
     "output_type": "stream",
     "text": [
      "18/18 [==============================] - 3s 180ms/step - loss: 149.3944 - val_loss: 833.2096\n",
      "Epoch 27/100\n",
      "18/18 [==============================] - 0s 15ms/step - loss: 148.7130 - val_loss: 925.4672\n",
      "Epoch 28/100\n",
      "14/18 [======================>.......] - ETA: 0s - loss: 152.5515INFO:tensorflow:Assets written to: model_experiments\\model_5_LSTM\\assets\n"
     ]
    },
    {
     "name": "stderr",
     "output_type": "stream",
     "text": [
      "INFO:tensorflow:Assets written to: model_experiments\\model_5_LSTM\\assets\n"
     ]
    },
    {
     "name": "stdout",
     "output_type": "stream",
     "text": [
      "18/18 [==============================] - 3s 179ms/step - loss: 147.3306 - val_loss: 827.2457\n",
      "Epoch 29/100\n",
      "18/18 [==============================] - 0s 16ms/step - loss: 144.6616 - val_loss: 838.1605\n",
      "Epoch 30/100\n",
      "18/18 [==============================] - 0s 15ms/step - loss: 143.1928 - val_loss: 830.2493\n",
      "Epoch 31/100\n",
      "16/18 [=========================>....] - ETA: 0s - loss: 144.6188INFO:tensorflow:Assets written to: model_experiments\\model_5_LSTM\\assets\n"
     ]
    },
    {
     "name": "stderr",
     "output_type": "stream",
     "text": [
      "INFO:tensorflow:Assets written to: model_experiments\\model_5_LSTM\\assets\n"
     ]
    },
    {
     "name": "stdout",
     "output_type": "stream",
     "text": [
      "18/18 [==============================] - 3s 175ms/step - loss: 142.5954 - val_loss: 795.6827\n",
      "Epoch 32/100\n",
      "14/18 [======================>.......] - ETA: 0s - loss: 140.2422INFO:tensorflow:Assets written to: model_experiments\\model_5_LSTM\\assets\n"
     ]
    },
    {
     "name": "stderr",
     "output_type": "stream",
     "text": [
      "INFO:tensorflow:Assets written to: model_experiments\\model_5_LSTM\\assets\n"
     ]
    },
    {
     "name": "stdout",
     "output_type": "stream",
     "text": [
      "18/18 [==============================] - 3s 200ms/step - loss: 142.1559 - val_loss: 783.9941\n",
      "Epoch 33/100\n",
      "18/18 [==============================] - 0s 16ms/step - loss: 141.5332 - val_loss: 805.4509\n",
      "Epoch 34/100\n",
      "15/18 [========================>.....] - ETA: 0s - loss: 141.0897INFO:tensorflow:Assets written to: model_experiments\\model_5_LSTM\\assets\n"
     ]
    },
    {
     "name": "stderr",
     "output_type": "stream",
     "text": [
      "INFO:tensorflow:Assets written to: model_experiments\\model_5_LSTM\\assets\n"
     ]
    },
    {
     "name": "stdout",
     "output_type": "stream",
     "text": [
      "18/18 [==============================] - 3s 184ms/step - loss: 141.2101 - val_loss: 767.0162\n",
      "Epoch 35/100\n",
      "18/18 [==============================] - 0s 16ms/step - loss: 138.4447 - val_loss: 786.2592\n",
      "Epoch 36/100\n",
      "16/18 [=========================>....] - ETA: 0s - loss: 137.3651INFO:tensorflow:Assets written to: model_experiments\\model_5_LSTM\\assets\n"
     ]
    },
    {
     "name": "stderr",
     "output_type": "stream",
     "text": [
      "INFO:tensorflow:Assets written to: model_experiments\\model_5_LSTM\\assets\n"
     ]
    },
    {
     "name": "stdout",
     "output_type": "stream",
     "text": [
      "18/18 [==============================] - 3s 176ms/step - loss: 136.4774 - val_loss: 756.6456\n",
      "Epoch 37/100\n",
      "14/18 [======================>.......] - ETA: 0s - loss: 133.9083INFO:tensorflow:Assets written to: model_experiments\\model_5_LSTM\\assets\n"
     ]
    },
    {
     "name": "stderr",
     "output_type": "stream",
     "text": [
      "INFO:tensorflow:Assets written to: model_experiments\\model_5_LSTM\\assets\n"
     ]
    },
    {
     "name": "stdout",
     "output_type": "stream",
     "text": [
      "18/18 [==============================] - 3s 178ms/step - loss: 134.2899 - val_loss: 747.8972\n",
      "Epoch 38/100\n",
      "18/18 [==============================] - ETA: 0s - loss: 133.4206INFO:tensorflow:Assets written to: model_experiments\\model_5_LSTM\\assets\n"
     ]
    },
    {
     "name": "stderr",
     "output_type": "stream",
     "text": [
      "INFO:tensorflow:Assets written to: model_experiments\\model_5_LSTM\\assets\n"
     ]
    },
    {
     "name": "stdout",
     "output_type": "stream",
     "text": [
      "18/18 [==============================] - 3s 177ms/step - loss: 133.4206 - val_loss: 747.8810\n",
      "Epoch 39/100\n",
      "18/18 [==============================] - 0s 17ms/step - loss: 133.2406 - val_loss: 756.0589\n",
      "Epoch 40/100\n",
      "16/18 [=========================>....] - ETA: 0s - loss: 132.0268INFO:tensorflow:Assets written to: model_experiments\\model_5_LSTM\\assets\n"
     ]
    },
    {
     "name": "stderr",
     "output_type": "stream",
     "text": [
      "INFO:tensorflow:Assets written to: model_experiments\\model_5_LSTM\\assets\n"
     ]
    },
    {
     "name": "stdout",
     "output_type": "stream",
     "text": [
      "18/18 [==============================] - 4s 209ms/step - loss: 132.9444 - val_loss: 729.5729\n",
      "Epoch 41/100\n",
      "15/18 [========================>.....] - ETA: 0s - loss: 132.1165INFO:tensorflow:Assets written to: model_experiments\\model_5_LSTM\\assets\n"
     ]
    },
    {
     "name": "stderr",
     "output_type": "stream",
     "text": [
      "INFO:tensorflow:Assets written to: model_experiments\\model_5_LSTM\\assets\n"
     ]
    },
    {
     "name": "stdout",
     "output_type": "stream",
     "text": [
      "18/18 [==============================] - 3s 187ms/step - loss: 131.5977 - val_loss: 724.7239\n",
      "Epoch 42/100\n",
      "18/18 [==============================] - 0s 16ms/step - loss: 129.9438 - val_loss: 729.1937\n",
      "Epoch 43/100\n",
      "18/18 [==============================] - ETA: 0s - loss: 130.3452INFO:tensorflow:Assets written to: model_experiments\\model_5_LSTM\\assets\n"
     ]
    },
    {
     "name": "stderr",
     "output_type": "stream",
     "text": [
      "INFO:tensorflow:Assets written to: model_experiments\\model_5_LSTM\\assets\n"
     ]
    },
    {
     "name": "stdout",
     "output_type": "stream",
     "text": [
      "18/18 [==============================] - 3s 190ms/step - loss: 130.3452 - val_loss: 718.6833\n",
      "Epoch 44/100\n",
      "18/18 [==============================] - 0s 17ms/step - loss: 128.8243 - val_loss: 721.9016\n",
      "Epoch 45/100\n",
      "18/18 [==============================] - 0s 16ms/step - loss: 126.9097 - val_loss: 748.7893\n",
      "Epoch 46/100\n",
      "16/18 [=========================>....] - ETA: 0s - loss: 126.8144INFO:tensorflow:Assets written to: model_experiments\\model_5_LSTM\\assets\n"
     ]
    },
    {
     "name": "stderr",
     "output_type": "stream",
     "text": [
      "INFO:tensorflow:Assets written to: model_experiments\\model_5_LSTM\\assets\n"
     ]
    },
    {
     "name": "stdout",
     "output_type": "stream",
     "text": [
      "18/18 [==============================] - 4s 213ms/step - loss: 126.5583 - val_loss: 696.9644\n",
      "Epoch 47/100\n",
      "17/18 [===========================>..] - ETA: 0s - loss: 126.0602INFO:tensorflow:Assets written to: model_experiments\\model_5_LSTM\\assets\n"
     ]
    },
    {
     "name": "stderr",
     "output_type": "stream",
     "text": [
      "INFO:tensorflow:Assets written to: model_experiments\\model_5_LSTM\\assets\n"
     ]
    },
    {
     "name": "stdout",
     "output_type": "stream",
     "text": [
      "18/18 [==============================] - 3s 174ms/step - loss: 125.6809 - val_loss: 690.9360\n",
      "Epoch 48/100\n",
      "18/18 [==============================] - 0s 14ms/step - loss: 125.3855 - val_loss: 768.2563\n",
      "Epoch 49/100\n",
      "16/18 [=========================>....] - ETA: 0s - loss: 128.7673INFO:tensorflow:Assets written to: model_experiments\\model_5_LSTM\\assets\n"
     ]
    },
    {
     "name": "stderr",
     "output_type": "stream",
     "text": [
      "INFO:tensorflow:Assets written to: model_experiments\\model_5_LSTM\\assets\n"
     ]
    },
    {
     "name": "stdout",
     "output_type": "stream",
     "text": [
      "18/18 [==============================] - 3s 178ms/step - loss: 126.2641 - val_loss: 681.1973\n",
      "Epoch 50/100\n",
      "18/18 [==============================] - 0s 18ms/step - loss: 124.4345 - val_loss: 700.1489\n",
      "Epoch 51/100\n",
      "14/18 [======================>.......] - ETA: 0s - loss: 131.6512INFO:tensorflow:Assets written to: model_experiments\\model_5_LSTM\\assets\n"
     ]
    },
    {
     "name": "stderr",
     "output_type": "stream",
     "text": [
      "INFO:tensorflow:Assets written to: model_experiments\\model_5_LSTM\\assets\n"
     ]
    },
    {
     "name": "stdout",
     "output_type": "stream",
     "text": [
      "18/18 [==============================] - 3s 168ms/step - loss: 127.5007 - val_loss: 680.0333\n",
      "Epoch 52/100\n",
      "18/18 [==============================] - 0s 16ms/step - loss: 126.4622 - val_loss: 754.8337\n",
      "Epoch 53/100\n",
      "15/18 [========================>.....] - ETA: 0s - loss: 129.3116INFO:tensorflow:Assets written to: model_experiments\\model_5_LSTM\\assets\n"
     ]
    },
    {
     "name": "stderr",
     "output_type": "stream",
     "text": [
      "INFO:tensorflow:Assets written to: model_experiments\\model_5_LSTM\\assets\n"
     ]
    },
    {
     "name": "stdout",
     "output_type": "stream",
     "text": [
      "18/18 [==============================] - 3s 203ms/step - loss: 129.6346 - val_loss: 674.7343\n",
      "Epoch 54/100\n",
      "18/18 [==============================] - 0s 19ms/step - loss: 124.4407 - val_loss: 743.9241\n",
      "Epoch 55/100\n",
      "18/18 [==============================] - 0s 19ms/step - loss: 127.9816 - val_loss: 678.4252\n",
      "Epoch 56/100\n",
      "18/18 [==============================] - 0s 16ms/step - loss: 120.9675 - val_loss: 709.1327\n",
      "Epoch 57/100\n",
      "18/18 [==============================] - ETA: 0s - loss: 125.3913INFO:tensorflow:Assets written to: model_experiments\\model_5_LSTM\\assets\n"
     ]
    },
    {
     "name": "stderr",
     "output_type": "stream",
     "text": [
      "INFO:tensorflow:Assets written to: model_experiments\\model_5_LSTM\\assets\n"
     ]
    },
    {
     "name": "stdout",
     "output_type": "stream",
     "text": [
      "18/18 [==============================] - 3s 184ms/step - loss: 125.3913 - val_loss: 664.4943\n",
      "Epoch 58/100\n",
      "15/18 [========================>.....] - ETA: 0s - loss: 118.9541INFO:tensorflow:Assets written to: model_experiments\\model_5_LSTM\\assets\n"
     ]
    },
    {
     "name": "stderr",
     "output_type": "stream",
     "text": [
      "INFO:tensorflow:Assets written to: model_experiments\\model_5_LSTM\\assets\n"
     ]
    },
    {
     "name": "stdout",
     "output_type": "stream",
     "text": [
      "18/18 [==============================] - 3s 186ms/step - loss: 118.9610 - val_loss: 656.9501\n",
      "Epoch 59/100\n",
      "17/18 [===========================>..] - ETA: 0s - loss: 120.3601INFO:tensorflow:Assets written to: model_experiments\\model_5_LSTM\\assets\n"
     ]
    },
    {
     "name": "stderr",
     "output_type": "stream",
     "text": [
      "INFO:tensorflow:Assets written to: model_experiments\\model_5_LSTM\\assets\n"
     ]
    },
    {
     "name": "stdout",
     "output_type": "stream",
     "text": [
      "18/18 [==============================] - 3s 196ms/step - loss: 120.5020 - val_loss: 650.6586\n",
      "Epoch 60/100\n",
      "18/18 [==============================] - ETA: 0s - loss: 120.4005INFO:tensorflow:Assets written to: model_experiments\\model_5_LSTM\\assets\n"
     ]
    },
    {
     "name": "stderr",
     "output_type": "stream",
     "text": [
      "INFO:tensorflow:Assets written to: model_experiments\\model_5_LSTM\\assets\n"
     ]
    },
    {
     "name": "stdout",
     "output_type": "stream",
     "text": [
      "18/18 [==============================] - 3s 200ms/step - loss: 120.4005 - val_loss: 646.1663\n",
      "Epoch 61/100\n",
      "18/18 [==============================] - 0s 14ms/step - loss: 120.4535 - val_loss: 646.3849\n",
      "Epoch 62/100\n",
      "18/18 [==============================] - ETA: 0s - loss: 120.7506INFO:tensorflow:Assets written to: model_experiments\\model_5_LSTM\\assets\n"
     ]
    },
    {
     "name": "stderr",
     "output_type": "stream",
     "text": [
      "INFO:tensorflow:Assets written to: model_experiments\\model_5_LSTM\\assets\n"
     ]
    },
    {
     "name": "stdout",
     "output_type": "stream",
     "text": [
      "18/18 [==============================] - 3s 177ms/step - loss: 120.7506 - val_loss: 642.7656\n",
      "Epoch 63/100\n",
      "16/18 [=========================>....] - ETA: 0s - loss: 120.4515INFO:tensorflow:Assets written to: model_experiments\\model_5_LSTM\\assets\n"
     ]
    },
    {
     "name": "stderr",
     "output_type": "stream",
     "text": [
      "INFO:tensorflow:Assets written to: model_experiments\\model_5_LSTM\\assets\n"
     ]
    },
    {
     "name": "stdout",
     "output_type": "stream",
     "text": [
      "18/18 [==============================] - 3s 182ms/step - loss: 119.8441 - val_loss: 641.2574\n",
      "Epoch 64/100\n",
      "18/18 [==============================] - 0s 15ms/step - loss: 118.3438 - val_loss: 656.6464\n",
      "Epoch 65/100\n",
      "16/18 [=========================>....] - ETA: 0s - loss: 121.0649INFO:tensorflow:Assets written to: model_experiments\\model_5_LSTM\\assets\n"
     ]
    },
    {
     "name": "stderr",
     "output_type": "stream",
     "text": [
      "INFO:tensorflow:Assets written to: model_experiments\\model_5_LSTM\\assets\n"
     ]
    },
    {
     "name": "stdout",
     "output_type": "stream",
     "text": [
      "18/18 [==============================] - 3s 180ms/step - loss: 118.4998 - val_loss: 636.1230\n",
      "Epoch 66/100\n",
      "18/18 [==============================] - 0s 20ms/step - loss: 116.6917 - val_loss: 637.9792\n",
      "Epoch 67/100\n",
      "14/18 [======================>.......] - ETA: 0s - loss: 111.8585INFO:tensorflow:Assets written to: model_experiments\\model_5_LSTM\\assets\n"
     ]
    },
    {
     "name": "stderr",
     "output_type": "stream",
     "text": [
      "INFO:tensorflow:Assets written to: model_experiments\\model_5_LSTM\\assets\n"
     ]
    },
    {
     "name": "stdout",
     "output_type": "stream",
     "text": [
      "18/18 [==============================] - 3s 181ms/step - loss: 117.5349 - val_loss: 630.9152\n",
      "Epoch 68/100\n",
      "18/18 [==============================] - 0s 18ms/step - loss: 117.0495 - val_loss: 638.7302\n",
      "Epoch 69/100\n",
      "18/18 [==============================] - 0s 16ms/step - loss: 116.7897 - val_loss: 645.6668\n",
      "Epoch 70/100\n",
      "18/18 [==============================] - 0s 18ms/step - loss: 116.9805 - val_loss: 688.6741\n",
      "Epoch 71/100\n",
      "18/18 [==============================] - 0s 14ms/step - loss: 117.4227 - val_loss: 631.3867\n",
      "Epoch 72/100\n",
      "17/18 [===========================>..] - ETA: 0s - loss: 117.4773INFO:tensorflow:Assets written to: model_experiments\\model_5_LSTM\\assets\n"
     ]
    },
    {
     "name": "stderr",
     "output_type": "stream",
     "text": [
      "INFO:tensorflow:Assets written to: model_experiments\\model_5_LSTM\\assets\n"
     ]
    },
    {
     "name": "stdout",
     "output_type": "stream",
     "text": [
      "18/18 [==============================] - 3s 182ms/step - loss: 116.8006 - val_loss: 622.7015\n",
      "Epoch 73/100\n",
      "18/18 [==============================] - 0s 18ms/step - loss: 120.0672 - val_loss: 624.4980\n",
      "Epoch 74/100\n",
      "18/18 [==============================] - 0s 15ms/step - loss: 116.7603 - val_loss: 657.8236\n",
      "Epoch 75/100\n",
      "18/18 [==============================] - 0s 18ms/step - loss: 116.2476 - val_loss: 628.1149\n",
      "Epoch 76/100\n",
      "14/18 [======================>.......] - ETA: 0s - loss: 111.1192INFO:tensorflow:Assets written to: model_experiments\\model_5_LSTM\\assets\n"
     ]
    },
    {
     "name": "stderr",
     "output_type": "stream",
     "text": [
      "INFO:tensorflow:Assets written to: model_experiments\\model_5_LSTM\\assets\n"
     ]
    },
    {
     "name": "stdout",
     "output_type": "stream",
     "text": [
      "18/18 [==============================] - 3s 188ms/step - loss: 114.4503 - val_loss: 618.3867\n",
      "Epoch 77/100\n",
      "14/18 [======================>.......] - ETA: 0s - loss: 114.5003INFO:tensorflow:Assets written to: model_experiments\\model_5_LSTM\\assets\n"
     ]
    },
    {
     "name": "stderr",
     "output_type": "stream",
     "text": [
      "INFO:tensorflow:Assets written to: model_experiments\\model_5_LSTM\\assets\n"
     ]
    },
    {
     "name": "stdout",
     "output_type": "stream",
     "text": [
      "18/18 [==============================] - 3s 191ms/step - loss: 115.1015 - val_loss: 616.1687\n",
      "Epoch 78/100\n",
      "16/18 [=========================>....] - ETA: 0s - loss: 115.5593INFO:tensorflow:Assets written to: model_experiments\\model_5_LSTM\\assets\n"
     ]
    },
    {
     "name": "stderr",
     "output_type": "stream",
     "text": [
      "INFO:tensorflow:Assets written to: model_experiments\\model_5_LSTM\\assets\n"
     ]
    },
    {
     "name": "stdout",
     "output_type": "stream",
     "text": [
      "18/18 [==============================] - 4s 212ms/step - loss: 114.2513 - val_loss: 614.6785\n",
      "Epoch 79/100\n",
      "18/18 [==============================] - 0s 18ms/step - loss: 114.1263 - val_loss: 645.5064\n",
      "Epoch 80/100\n",
      "18/18 [==============================] - 0s 13ms/step - loss: 121.3505 - val_loss: 618.9252\n",
      "Epoch 81/100\n",
      "18/18 [==============================] - 0s 14ms/step - loss: 120.6632 - val_loss: 717.7155\n",
      "Epoch 82/100\n",
      "16/18 [=========================>....] - ETA: 0s - loss: 118.2907INFO:tensorflow:Assets written to: model_experiments\\model_5_LSTM\\assets\n"
     ]
    },
    {
     "name": "stderr",
     "output_type": "stream",
     "text": [
      "INFO:tensorflow:Assets written to: model_experiments\\model_5_LSTM\\assets\n"
     ]
    },
    {
     "name": "stdout",
     "output_type": "stream",
     "text": [
      "18/18 [==============================] - 3s 182ms/step - loss: 119.3084 - val_loss: 612.3681\n",
      "Epoch 83/100\n",
      "18/18 [==============================] - 0s 17ms/step - loss: 113.6715 - val_loss: 645.4924\n",
      "Epoch 84/100\n",
      "17/18 [===========================>..] - ETA: 0s - loss: 117.1608INFO:tensorflow:Assets written to: model_experiments\\model_5_LSTM\\assets\n"
     ]
    },
    {
     "name": "stderr",
     "output_type": "stream",
     "text": [
      "INFO:tensorflow:Assets written to: model_experiments\\model_5_LSTM\\assets\n"
     ]
    },
    {
     "name": "stdout",
     "output_type": "stream",
     "text": [
      "18/18 [==============================] - 2s 144ms/step - loss: 116.5364 - val_loss: 610.5254\n",
      "Epoch 85/100\n",
      "18/18 [==============================] - 0s 17ms/step - loss: 114.4863 - val_loss: 618.0215\n",
      "Epoch 86/100\n",
      "16/18 [=========================>....] - ETA: 0s - loss: 113.5300INFO:tensorflow:Assets written to: model_experiments\\model_5_LSTM\\assets\n"
     ]
    },
    {
     "name": "stderr",
     "output_type": "stream",
     "text": [
      "INFO:tensorflow:Assets written to: model_experiments\\model_5_LSTM\\assets\n"
     ]
    },
    {
     "name": "stdout",
     "output_type": "stream",
     "text": [
      "18/18 [==============================] - 3s 179ms/step - loss: 114.4595 - val_loss: 607.3377\n",
      "Epoch 87/100\n",
      "18/18 [==============================] - 0s 17ms/step - loss: 114.2127 - val_loss: 627.2189\n",
      "Epoch 88/100\n",
      "18/18 [==============================] - 0s 16ms/step - loss: 113.3301 - val_loss: 612.5842\n",
      "Epoch 89/100\n",
      "18/18 [==============================] - 0s 20ms/step - loss: 113.3251 - val_loss: 648.1962\n",
      "Epoch 90/100\n",
      "18/18 [==============================] - 0s 13ms/step - loss: 117.3428 - val_loss: 630.4667\n",
      "Epoch 91/100\n",
      "18/18 [==============================] - 0s 15ms/step - loss: 113.1080 - val_loss: 618.0806\n",
      "Epoch 92/100\n",
      "15/18 [========================>.....] - ETA: 0s - loss: 110.4738INFO:tensorflow:Assets written to: model_experiments\\model_5_LSTM\\assets\n"
     ]
    },
    {
     "name": "stderr",
     "output_type": "stream",
     "text": [
      "INFO:tensorflow:Assets written to: model_experiments\\model_5_LSTM\\assets\n"
     ]
    },
    {
     "name": "stdout",
     "output_type": "stream",
     "text": [
      "18/18 [==============================] - 4s 206ms/step - loss: 111.6869 - val_loss: 600.8514\n",
      "Epoch 93/100\n",
      "18/18 [==============================] - 0s 16ms/step - loss: 113.6728 - val_loss: 610.4079\n",
      "Epoch 94/100\n",
      "18/18 [==============================] - 0s 18ms/step - loss: 113.4581 - val_loss: 617.0652\n",
      "Epoch 95/100\n",
      "18/18 [==============================] - 0s 17ms/step - loss: 116.7576 - val_loss: 604.7648\n",
      "Epoch 96/100\n",
      "15/18 [========================>.....] - ETA: 0s - loss: 112.8024INFO:tensorflow:Assets written to: model_experiments\\model_5_LSTM\\assets\n"
     ]
    },
    {
     "name": "stderr",
     "output_type": "stream",
     "text": [
      "INFO:tensorflow:Assets written to: model_experiments\\model_5_LSTM\\assets\n"
     ]
    },
    {
     "name": "stdout",
     "output_type": "stream",
     "text": [
      "18/18 [==============================] - 3s 177ms/step - loss: 113.0043 - val_loss: 598.6398\n",
      "Epoch 97/100\n",
      "18/18 [==============================] - 0s 16ms/step - loss: 111.8152 - val_loss: 608.0979\n",
      "Epoch 98/100\n",
      "18/18 [==============================] - 0s 14ms/step - loss: 112.5108 - val_loss: 649.5052\n",
      "Epoch 99/100\n",
      "18/18 [==============================] - 0s 19ms/step - loss: 113.1874 - val_loss: 626.2362\n",
      "Epoch 100/100\n",
      "18/18 [==============================] - 0s 15ms/step - loss: 113.3597 - val_loss: 669.7613\n"
     ]
    },
    {
     "data": {
      "text/plain": [
       "<keras.callbacks.History at 0x2acfb787940>"
      ]
     },
     "execution_count": 83,
     "metadata": {},
     "output_type": "execute_result"
    }
   ],
   "source": [
    "tf.random.set_seed(42)\n",
    "\n",
    "# Let's build an LSTM model with the Functional API\n",
    "inputs = layers.Input(shape=(WINDOW_SIZE))\n",
    "x = layers.Lambda(lambda x: tf.expand_dims(x, axis=1))(inputs)\n",
    "# x = layers.LSTM(128, return_sequences=True)(x)\n",
    "x = layers.LSTM(128, activation='relu')(x)\n",
    "# x = layers.Dense(32, activation='relu')(x)\n",
    "output = layers.Dense(HORIZON)(x)\n",
    "model_5 = tf.keras.Model(inputs=inputs, outputs=output, name='model_5_LSTM')\n",
    "\n",
    "# Compile\n",
    "model_5.compile(loss='mae',\n",
    "                optimizer=tf.keras.optimizers.Adam())\n",
    "\n",
    "# Fit\n",
    "model_5.fit(train_windows,\n",
    "            train_labels,\n",
    "            epochs=100,\n",
    "            verbose=1,\n",
    "            batch_size=128,\n",
    "            validation_data=(test_windows, test_labels),\n",
    "            callbacks=[create_model_checkpoint(model_name=model_5.name)])"
   ]
  },
  {
   "cell_type": "code",
   "execution_count": 84,
   "id": "4fa206e2",
   "metadata": {},
   "outputs": [
    {
     "name": "stdout",
     "output_type": "stream",
     "text": [
      "WARNING:tensorflow:Layer lstm will not use cuDNN kernels since it doesn't meet the criteria. It will use a generic GPU kernel as fallback when running on GPU.\n"
     ]
    },
    {
     "name": "stderr",
     "output_type": "stream",
     "text": [
      "WARNING:tensorflow:Layer lstm will not use cuDNN kernels since it doesn't meet the criteria. It will use a generic GPU kernel as fallback when running on GPU.\n"
     ]
    },
    {
     "name": "stdout",
     "output_type": "stream",
     "text": [
      "18/18 [==============================] - 0s 5ms/step - loss: 598.6396\n"
     ]
    },
    {
     "data": {
      "text/plain": [
       "598.6396484375"
      ]
     },
     "execution_count": 84,
     "metadata": {},
     "output_type": "execute_result"
    }
   ],
   "source": [
    "# Load in best version of model 5 and evaluate on the test data\n",
    "model_5 = tf.keras.models.load_model('model_experiments/model_5_LSTM')\n",
    "model_5.evaluate(test_windows, test_labels)"
   ]
  },
  {
   "cell_type": "code",
   "execution_count": 85,
   "id": "fffd443b",
   "metadata": {},
   "outputs": [
    {
     "name": "stdout",
     "output_type": "stream",
     "text": [
      "18/18 [==============================] - 0s 4ms/step\n"
     ]
    }
   ],
   "source": [
    "# Make predictions with our LSTM model\n",
    "model_5_preds = make_preds(model_5, test_windows)"
   ]
  },
  {
   "cell_type": "code",
   "execution_count": 86,
   "id": "2d0b5984",
   "metadata": {},
   "outputs": [],
   "source": [
    "# Evaluate model 5 predictions\n",
    "model_5_results = evaluate_preds(y_true=tf.squeeze(test_labels),\n",
    "                                 y_pred=model_5_preds)"
   ]
  },
  {
   "cell_type": "code",
   "execution_count": 87,
   "id": "4d3fdfe4",
   "metadata": {},
   "outputs": [
    {
     "data": {
      "text/plain": [
       "{'mae': 598.6397,\n",
       " 'mse': 1274305.5,\n",
       " 'rmse': 1128.8514,\n",
       " 'mape': 2.68835,\n",
       " 'mase': 1.0448357}"
      ]
     },
     "execution_count": 87,
     "metadata": {},
     "output_type": "execute_result"
    }
   ],
   "source": [
    "model_5_results"
   ]
  },
  {
   "cell_type": "code",
   "execution_count": 88,
   "id": "c140368e",
   "metadata": {},
   "outputs": [
    {
     "data": {
      "text/plain": [
       "{'mae': 567.9802,\n",
       " 'mse': 1147547.0,\n",
       " 'rmse': 1071.2362,\n",
       " 'mape': 2.516525,\n",
       " 'mase': 0.99957}"
      ]
     },
     "execution_count": 88,
     "metadata": {},
     "output_type": "execute_result"
    }
   ],
   "source": [
    "naive_results"
   ]
  },
  {
   "cell_type": "markdown",
   "id": "a6b67d33",
   "metadata": {},
   "source": [
    "**Note:** Because neural networks are such powerful algorithms, they can be used for almost any problem, however, that doesn't mean they'll achieve performant or usable results."
   ]
  },
  {
   "cell_type": "markdown",
   "id": "061fd3b4",
   "metadata": {},
   "source": [
    "## Make a multivariate time series dataset\n",
    "\n",
    "Before we add feature to our time series, what is a feature we can use?\n",
    "\n",
    "One feature we could add is whether or not Elon Musk tweeted on that day...\n",
    "\n",
    "* day 1 - 0\n",
    "* day 2 - 1\n",
    "* day 3 - 0\n",
    "\n",
    "What's a better feature to use?\n",
    "\n",
    "How about the bitcoin halving events..."
   ]
  },
  {
   "cell_type": "code",
   "execution_count": 89,
   "id": "024b7514",
   "metadata": {},
   "outputs": [
    {
     "data": {
      "application/vnd.microsoft.datawrangler.viewer.v0+json": {
       "columns": [
        {
         "name": "Date",
         "rawType": "datetime64[ns]",
         "type": "datetime"
        },
        {
         "name": "Price",
         "rawType": "float64",
         "type": "float"
        }
       ],
       "ref": "110864ca-be13-4bae-a4c5-11204740b903",
       "rows": [
        [
         "2013-10-01 00:00:00",
         "123.65499"
        ],
        [
         "2013-10-02 00:00:00",
         "125.455"
        ],
        [
         "2013-10-03 00:00:00",
         "108.58483"
        ],
        [
         "2013-10-04 00:00:00",
         "118.67466"
        ],
        [
         "2013-10-05 00:00:00",
         "121.33866"
        ]
       ],
       "shape": {
        "columns": 1,
        "rows": 5
       }
      },
      "text/html": [
       "<div>\n",
       "<style scoped>\n",
       "    .dataframe tbody tr th:only-of-type {\n",
       "        vertical-align: middle;\n",
       "    }\n",
       "\n",
       "    .dataframe tbody tr th {\n",
       "        vertical-align: top;\n",
       "    }\n",
       "\n",
       "    .dataframe thead th {\n",
       "        text-align: right;\n",
       "    }\n",
       "</style>\n",
       "<table border=\"1\" class=\"dataframe\">\n",
       "  <thead>\n",
       "    <tr style=\"text-align: right;\">\n",
       "      <th></th>\n",
       "      <th>Price</th>\n",
       "    </tr>\n",
       "    <tr>\n",
       "      <th>Date</th>\n",
       "      <th></th>\n",
       "    </tr>\n",
       "  </thead>\n",
       "  <tbody>\n",
       "    <tr>\n",
       "      <th>2013-10-01</th>\n",
       "      <td>123.65499</td>\n",
       "    </tr>\n",
       "    <tr>\n",
       "      <th>2013-10-02</th>\n",
       "      <td>125.45500</td>\n",
       "    </tr>\n",
       "    <tr>\n",
       "      <th>2013-10-03</th>\n",
       "      <td>108.58483</td>\n",
       "    </tr>\n",
       "    <tr>\n",
       "      <th>2013-10-04</th>\n",
       "      <td>118.67466</td>\n",
       "    </tr>\n",
       "    <tr>\n",
       "      <th>2013-10-05</th>\n",
       "      <td>121.33866</td>\n",
       "    </tr>\n",
       "  </tbody>\n",
       "</table>\n",
       "</div>"
      ],
      "text/plain": [
       "                Price\n",
       "Date                 \n",
       "2013-10-01  123.65499\n",
       "2013-10-02  125.45500\n",
       "2013-10-03  108.58483\n",
       "2013-10-04  118.67466\n",
       "2013-10-05  121.33866"
      ]
     },
     "execution_count": 89,
     "metadata": {},
     "output_type": "execute_result"
    }
   ],
   "source": [
    "# Let's make a multivariate time series dataset\n",
    "bitcoin_prices.head()"
   ]
  },
  {
   "cell_type": "code",
   "execution_count": 90,
   "id": "283d1236",
   "metadata": {},
   "outputs": [],
   "source": [
    "# Let's add the bitcoin halving events to our dataset\n",
    "block_reward_1 = 50 # 3 January 2009 - this block reward isn't in our dataset\n",
    "block_reward_2 = 25 # 8 November 2012\n",
    "block_reward_3 = 12.5 # 9 July 2016\n",
    "block_reward_4 = 6.25 # 18 May 2020\n",
    "\n",
    "# Block reward dates\n",
    "block_reward_2_datetime = np.datetime64('2012-11-28')\n",
    "block_reward_3_datetime = np.datetime64('2016-07-09')\n",
    "block_reward_4_datetime = np.datetime64('2020-05-18')"
   ]
  },
  {
   "cell_type": "code",
   "execution_count": 91,
   "id": "7be9bcc5",
   "metadata": {},
   "outputs": [
    {
     "data": {
      "text/plain": [
       "(1012, 2421)"
      ]
     },
     "execution_count": 91,
     "metadata": {},
     "output_type": "execute_result"
    }
   ],
   "source": [
    "# Create date ranges of where specific block_reward values should be\n",
    "block_reward_2_days = (block_reward_3_datetime - bitcoin_prices.index[0]).days\n",
    "block_reward_3_days = (block_reward_4_datetime - bitcoin_prices.index[0]).days\n",
    "block_reward_2_days, block_reward_3_days"
   ]
  },
  {
   "cell_type": "code",
   "execution_count": 92,
   "id": "aac64c85",
   "metadata": {},
   "outputs": [],
   "source": [
    "# Add in a block_reward column\n",
    "bitcoin_prices_block = bitcoin_prices.copy()\n",
    "bitcoin_prices_block['block_reward'] = None\n",
    "\n",
    "# Add in block_reward values as a feature to our dataframe\n",
    "bitcoin_prices_block.iloc[:block_reward_2_days, -1] = block_reward_2\n",
    "bitcoin_prices_block.iloc[block_reward_2_days:block_reward_3_days, -1] = block_reward_3\n",
    "bitcoin_prices_block.iloc[block_reward_3_days:, -1] = block_reward_4"
   ]
  },
  {
   "cell_type": "code",
   "execution_count": 93,
   "id": "fd384ff5",
   "metadata": {},
   "outputs": [
    {
     "data": {
      "image/png": "[encoded data removed]",
      "text/plain": [
       "<Figure size 1000x700 with 1 Axes>"
      ]
     },
     "metadata": {},
     "output_type": "display_data"
    }
   ],
   "source": [
    "# Plot the block reward vs price over time\n",
    "from sklearn.preprocessing import minmax_scale\n",
    "scaled_price_block_df = pd.DataFrame(minmax_scale(bitcoin_prices_block[['Price', 'block_reward']]),\n",
    "                                     columns=bitcoin_prices_block.columns,\n",
    "                                     index=bitcoin_prices_block.index)\n",
    "scaled_price_block_df.plot(figsize=(10, 7));"
   ]
  },
  {
   "cell_type": "markdown",
   "id": "7f4ca624",
   "metadata": {},
   "source": [
    "## Making a window dataset with pandas\n",
    "\n",
    "Previously, we have turned our univariate time series into windowed dataset using the helper functions above.\n",
    "\n",
    "However, since we have got multivariate data, these functions won't work.\n",
    "\n",
    "Not to worry, we can use the ``pandas.DataFrame.shift()`` method to window our multivariate data."
   ]
  },
  {
   "cell_type": "code",
   "execution_count": 94,
   "id": "9f9d829a",
   "metadata": {},
   "outputs": [],
   "source": [
    "# Setup dataset hyperparameters\n",
    "HORIZON = 1\n",
    "WINDOW_SIZE = 7"
   ]
  },
  {
   "cell_type": "code",
   "execution_count": 95,
   "id": "5daec40e",
   "metadata": {},
   "outputs": [
    {
     "data": {
      "application/vnd.microsoft.datawrangler.viewer.v0+json": {
       "columns": [
        {
         "name": "Date",
         "rawType": "datetime64[ns]",
         "type": "datetime"
        },
        {
         "name": "Price",
         "rawType": "float64",
         "type": "float"
        },
        {
         "name": "block_reward",
         "rawType": "object",
         "type": "unknown"
        },
        {
         "name": "Price+1",
         "rawType": "float64",
         "type": "float"
        },
        {
         "name": "Price+2",
         "rawType": "float64",
         "type": "float"
        },
        {
         "name": "Price+3",
         "rawType": "float64",
         "type": "float"
        },
        {
         "name": "Price+4",
         "rawType": "float64",
         "type": "float"
        },
        {
         "name": "Price+5",
         "rawType": "float64",
         "type": "float"
        },
        {
         "name": "Price+6",
         "rawType": "float64",
         "type": "float"
        },
        {
         "name": "Price+7",
         "rawType": "float64",
         "type": "float"
        }
       ],
       "ref": "cbe746c4-403b-4218-afa4-2d510a365b97",
       "rows": [
        [
         "2013-10-01 00:00:00",
         "123.65499",
         "25",
         null,
         null,
         null,
         null,
         null,
         null,
         null
        ],
        [
         "2013-10-02 00:00:00",
         "125.455",
         "25",
         "123.65499",
         null,
         null,
         null,
         null,
         null,
         null
        ],
        [
         "2013-10-03 00:00:00",
         "108.58483",
         "25",
         "125.455",
         "123.65499",
         null,
         null,
         null,
         null,
         null
        ],
        [
         "2013-10-04 00:00:00",
         "118.67466",
         "25",
         "108.58483",
         "125.455",
         "123.65499",
         null,
         null,
         null,
         null
        ],
        [
         "2013-10-05 00:00:00",
         "121.33866",
         "25",
         "118.67466",
         "108.58483",
         "125.455",
         "123.65499",
         null,
         null,
         null
        ],
        [
         "2013-10-06 00:00:00",
         "120.65533",
         "25",
         "121.33866",
         "118.67466",
         "108.58483",
         "125.455",
         "123.65499",
         null,
         null
        ],
        [
         "2013-10-07 00:00:00",
         "121.795",
         "25",
         "120.65533",
         "121.33866",
         "118.67466",
         "108.58483",
         "125.455",
         "123.65499",
         null
        ],
        [
         "2013-10-08 00:00:00",
         "123.033",
         "25",
         "121.795",
         "120.65533",
         "121.33866",
         "118.67466",
         "108.58483",
         "125.455",
         "123.65499"
        ],
        [
         "2013-10-09 00:00:00",
         "124.049",
         "25",
         "123.033",
         "121.795",
         "120.65533",
         "121.33866",
         "118.67466",
         "108.58483",
         "125.455"
        ],
        [
         "2013-10-10 00:00:00",
         "125.96116",
         "25",
         "124.049",
         "123.033",
         "121.795",
         "120.65533",
         "121.33866",
         "118.67466",
         "108.58483"
        ]
       ],
       "shape": {
        "columns": 9,
        "rows": 10
       }
      },
      "text/html": [
       "<div>\n",
       "<style scoped>\n",
       "    .dataframe tbody tr th:only-of-type {\n",
       "        vertical-align: middle;\n",
       "    }\n",
       "\n",
       "    .dataframe tbody tr th {\n",
       "        vertical-align: top;\n",
       "    }\n",
       "\n",
       "    .dataframe thead th {\n",
       "        text-align: right;\n",
       "    }\n",
       "</style>\n",
       "<table border=\"1\" class=\"dataframe\">\n",
       "  <thead>\n",
       "    <tr style=\"text-align: right;\">\n",
       "      <th></th>\n",
       "      <th>Price</th>\n",
       "      <th>block_reward</th>\n",
       "      <th>Price+1</th>\n",
       "      <th>Price+2</th>\n",
       "      <th>Price+3</th>\n",
       "      <th>Price+4</th>\n",
       "      <th>Price+5</th>\n",
       "      <th>Price+6</th>\n",
       "      <th>Price+7</th>\n",
       "    </tr>\n",
       "    <tr>\n",
       "      <th>Date</th>\n",
       "      <th></th>\n",
       "      <th></th>\n",
       "      <th></th>\n",
       "      <th></th>\n",
       "      <th></th>\n",
       "      <th></th>\n",
       "      <th></th>\n",
       "      <th></th>\n",
       "      <th></th>\n",
       "    </tr>\n",
       "  </thead>\n",
       "  <tbody>\n",
       "    <tr>\n",
       "      <th>2013-10-01</th>\n",
       "      <td>123.65499</td>\n",
       "      <td>25</td>\n",
       "      <td>NaN</td>\n",
       "      <td>NaN</td>\n",
       "      <td>NaN</td>\n",
       "      <td>NaN</td>\n",
       "      <td>NaN</td>\n",
       "      <td>NaN</td>\n",
       "      <td>NaN</td>\n",
       "    </tr>\n",
       "    <tr>\n",
       "      <th>2013-10-02</th>\n",
       "      <td>125.45500</td>\n",
       "      <td>25</td>\n",
       "      <td>123.65499</td>\n",
       "      <td>NaN</td>\n",
       "      <td>NaN</td>\n",
       "      <td>NaN</td>\n",
       "      <td>NaN</td>\n",
       "      <td>NaN</td>\n",
       "      <td>NaN</td>\n",
       "    </tr>\n",
       "    <tr>\n",
       "      <th>2013-10-03</th>\n",
       "      <td>108.58483</td>\n",
       "      <td>25</td>\n",
       "      <td>125.45500</td>\n",
       "      <td>123.65499</td>\n",
       "      <td>NaN</td>\n",
       "      <td>NaN</td>\n",
       "      <td>NaN</td>\n",
       "      <td>NaN</td>\n",
       "      <td>NaN</td>\n",
       "    </tr>\n",
       "    <tr>\n",
       "      <th>2013-10-04</th>\n",
       "      <td>118.67466</td>\n",
       "      <td>25</td>\n",
       "      <td>108.58483</td>\n",
       "      <td>125.45500</td>\n",
       "      <td>123.65499</td>\n",
       "      <td>NaN</td>\n",
       "      <td>NaN</td>\n",
       "      <td>NaN</td>\n",
       "      <td>NaN</td>\n",
       "    </tr>\n",
       "    <tr>\n",
       "      <th>2013-10-05</th>\n",
       "      <td>121.33866</td>\n",
       "      <td>25</td>\n",
       "      <td>118.67466</td>\n",
       "      <td>108.58483</td>\n",
       "      <td>125.45500</td>\n",
       "      <td>123.65499</td>\n",
       "      <td>NaN</td>\n",
       "      <td>NaN</td>\n",
       "      <td>NaN</td>\n",
       "    </tr>\n",
       "    <tr>\n",
       "      <th>2013-10-06</th>\n",
       "      <td>120.65533</td>\n",
       "      <td>25</td>\n",
       "      <td>121.33866</td>\n",
       "      <td>118.67466</td>\n",
       "      <td>108.58483</td>\n",
       "      <td>125.45500</td>\n",
       "      <td>123.65499</td>\n",
       "      <td>NaN</td>\n",
       "      <td>NaN</td>\n",
       "    </tr>\n",
       "    <tr>\n",
       "      <th>2013-10-07</th>\n",
       "      <td>121.79500</td>\n",
       "      <td>25</td>\n",
       "      <td>120.65533</td>\n",
       "      <td>121.33866</td>\n",
       "      <td>118.67466</td>\n",
       "      <td>108.58483</td>\n",
       "      <td>125.45500</td>\n",
       "      <td>123.65499</td>\n",
       "      <td>NaN</td>\n",
       "    </tr>\n",
       "    <tr>\n",
       "      <th>2013-10-08</th>\n",
       "      <td>123.03300</td>\n",
       "      <td>25</td>\n",
       "      <td>121.79500</td>\n",
       "      <td>120.65533</td>\n",
       "      <td>121.33866</td>\n",
       "      <td>118.67466</td>\n",
       "      <td>108.58483</td>\n",
       "      <td>125.45500</td>\n",
       "      <td>123.65499</td>\n",
       "    </tr>\n",
       "    <tr>\n",
       "      <th>2013-10-09</th>\n",
       "      <td>124.04900</td>\n",
       "      <td>25</td>\n",
       "      <td>123.03300</td>\n",
       "      <td>121.79500</td>\n",
       "      <td>120.65533</td>\n",
       "      <td>121.33866</td>\n",
       "      <td>118.67466</td>\n",
       "      <td>108.58483</td>\n",
       "      <td>125.45500</td>\n",
       "    </tr>\n",
       "    <tr>\n",
       "      <th>2013-10-10</th>\n",
       "      <td>125.96116</td>\n",
       "      <td>25</td>\n",
       "      <td>124.04900</td>\n",
       "      <td>123.03300</td>\n",
       "      <td>121.79500</td>\n",
       "      <td>120.65533</td>\n",
       "      <td>121.33866</td>\n",
       "      <td>118.67466</td>\n",
       "      <td>108.58483</td>\n",
       "    </tr>\n",
       "  </tbody>\n",
       "</table>\n",
       "</div>"
      ],
      "text/plain": [
       "                Price block_reward    Price+1    Price+2    Price+3  \\\n",
       "Date                                                                  \n",
       "2013-10-01  123.65499           25        NaN        NaN        NaN   \n",
       "2013-10-02  125.45500           25  123.65499        NaN        NaN   \n",
       "2013-10-03  108.58483           25  125.45500  123.65499        NaN   \n",
       "2013-10-04  118.67466           25  108.58483  125.45500  123.65499   \n",
       "2013-10-05  121.33866           25  118.67466  108.58483  125.45500   \n",
       "2013-10-06  120.65533           25  121.33866  118.67466  108.58483   \n",
       "2013-10-07  121.79500           25  120.65533  121.33866  118.67466   \n",
       "2013-10-08  123.03300           25  121.79500  120.65533  121.33866   \n",
       "2013-10-09  124.04900           25  123.03300  121.79500  120.65533   \n",
       "2013-10-10  125.96116           25  124.04900  123.03300  121.79500   \n",
       "\n",
       "              Price+4    Price+5    Price+6    Price+7  \n",
       "Date                                                    \n",
       "2013-10-01        NaN        NaN        NaN        NaN  \n",
       "2013-10-02        NaN        NaN        NaN        NaN  \n",
       "2013-10-03        NaN        NaN        NaN        NaN  \n",
       "2013-10-04        NaN        NaN        NaN        NaN  \n",
       "2013-10-05  123.65499        NaN        NaN        NaN  \n",
       "2013-10-06  125.45500  123.65499        NaN        NaN  \n",
       "2013-10-07  108.58483  125.45500  123.65499        NaN  \n",
       "2013-10-08  118.67466  108.58483  125.45500  123.65499  \n",
       "2013-10-09  121.33866  118.67466  108.58483  125.45500  \n",
       "2013-10-10  120.65533  121.33866  118.67466  108.58483  "
      ]
     },
     "execution_count": 95,
     "metadata": {},
     "output_type": "execute_result"
    }
   ],
   "source": [
    "# Make a copy of the Bitcoin historical data with block reward feature\n",
    "bitcoin_prices_windowed = bitcoin_prices_block.copy()\n",
    "\n",
    "# Add windowed columns\n",
    "for i in range(WINDOW_SIZE): # shift values for each step in WINDOW_SIZE\n",
    "    bitcoin_prices_windowed[f'Price+{i+1}'] = bitcoin_prices_windowed['Price'].shift(periods=i+1)\n",
    "bitcoin_prices_windowed.head(10)"
   ]
  },
  {
   "cell_type": "markdown",
   "id": "fe3e9a27",
   "metadata": {},
   "source": [
    "What we have done is created a way to window our dataset directly from a pandas dataframe.\n",
    "\n",
    "```\n",
    "[0, 1, 2, 3, 4, 5, 6, block_reward] -> [7]\n",
    "[1, 2, 3, 4, 5, 6, 7, block_reward] -> [8]\n",
    "[2, 3, 4, 5, 6, 7, 8, block_reward] -> [9]\n",
    "```"
   ]
  },
  {
   "cell_type": "code",
   "execution_count": 96,
   "id": "3f86d831",
   "metadata": {},
   "outputs": [
    {
     "data": {
      "application/vnd.microsoft.datawrangler.viewer.v0+json": {
       "columns": [
        {
         "name": "Date",
         "rawType": "datetime64[ns]",
         "type": "datetime"
        },
        {
         "name": "block_reward",
         "rawType": "float32",
         "type": "float"
        },
        {
         "name": "Price+1",
         "rawType": "float32",
         "type": "float"
        },
        {
         "name": "Price+2",
         "rawType": "float32",
         "type": "float"
        },
        {
         "name": "Price+3",
         "rawType": "float32",
         "type": "float"
        },
        {
         "name": "Price+4",
         "rawType": "float32",
         "type": "float"
        },
        {
         "name": "Price+5",
         "rawType": "float32",
         "type": "float"
        },
        {
         "name": "Price+6",
         "rawType": "float32",
         "type": "float"
        },
        {
         "name": "Price+7",
         "rawType": "float32",
         "type": "float"
        }
       ],
       "ref": "023deefd-46df-4559-b031-56327fc5f28b",
       "rows": [
        [
         "2013-10-08 00:00:00",
         "25.0",
         "121.795",
         "120.65533",
         "121.33866",
         "118.67466",
         "108.58483",
         "125.455",
         "123.65499"
        ],
        [
         "2013-10-09 00:00:00",
         "25.0",
         "123.033",
         "121.795",
         "120.65533",
         "121.33866",
         "118.67466",
         "108.58483",
         "125.455"
        ],
        [
         "2013-10-10 00:00:00",
         "25.0",
         "124.049",
         "123.033",
         "121.795",
         "120.65533",
         "121.33866",
         "118.67466",
         "108.58483"
        ],
        [
         "2013-10-11 00:00:00",
         "25.0",
         "125.96116",
         "124.049",
         "123.033",
         "121.795",
         "120.65533",
         "121.33866",
         "118.67466"
        ],
        [
         "2013-10-12 00:00:00",
         "25.0",
         "125.27966",
         "125.96116",
         "124.049",
         "123.033",
         "121.795",
         "120.65533",
         "121.33866"
        ]
       ],
       "shape": {
        "columns": 8,
        "rows": 5
       }
      },
      "text/html": [
       "<div>\n",
       "<style scoped>\n",
       "    .dataframe tbody tr th:only-of-type {\n",
       "        vertical-align: middle;\n",
       "    }\n",
       "\n",
       "    .dataframe tbody tr th {\n",
       "        vertical-align: top;\n",
       "    }\n",
       "\n",
       "    .dataframe thead th {\n",
       "        text-align: right;\n",
       "    }\n",
       "</style>\n",
       "<table border=\"1\" class=\"dataframe\">\n",
       "  <thead>\n",
       "    <tr style=\"text-align: right;\">\n",
       "      <th></th>\n",
       "      <th>block_reward</th>\n",
       "      <th>Price+1</th>\n",
       "      <th>Price+2</th>\n",
       "      <th>Price+3</th>\n",
       "      <th>Price+4</th>\n",
       "      <th>Price+5</th>\n",
       "      <th>Price+6</th>\n",
       "      <th>Price+7</th>\n",
       "    </tr>\n",
       "    <tr>\n",
       "      <th>Date</th>\n",
       "      <th></th>\n",
       "      <th></th>\n",
       "      <th></th>\n",
       "      <th></th>\n",
       "      <th></th>\n",
       "      <th></th>\n",
       "      <th></th>\n",
       "      <th></th>\n",
       "    </tr>\n",
       "  </thead>\n",
       "  <tbody>\n",
       "    <tr>\n",
       "      <th>2013-10-08</th>\n",
       "      <td>25.0</td>\n",
       "      <td>121.794998</td>\n",
       "      <td>120.655327</td>\n",
       "      <td>121.338661</td>\n",
       "      <td>118.674660</td>\n",
       "      <td>108.584831</td>\n",
       "      <td>125.455002</td>\n",
       "      <td>123.654991</td>\n",
       "    </tr>\n",
       "    <tr>\n",
       "      <th>2013-10-09</th>\n",
       "      <td>25.0</td>\n",
       "      <td>123.032997</td>\n",
       "      <td>121.794998</td>\n",
       "      <td>120.655327</td>\n",
       "      <td>121.338661</td>\n",
       "      <td>118.674660</td>\n",
       "      <td>108.584831</td>\n",
       "      <td>125.455002</td>\n",
       "    </tr>\n",
       "    <tr>\n",
       "      <th>2013-10-10</th>\n",
       "      <td>25.0</td>\n",
       "      <td>124.049004</td>\n",
       "      <td>123.032997</td>\n",
       "      <td>121.794998</td>\n",
       "      <td>120.655327</td>\n",
       "      <td>121.338661</td>\n",
       "      <td>118.674660</td>\n",
       "      <td>108.584831</td>\n",
       "    </tr>\n",
       "    <tr>\n",
       "      <th>2013-10-11</th>\n",
       "      <td>25.0</td>\n",
       "      <td>125.961159</td>\n",
       "      <td>124.049004</td>\n",
       "      <td>123.032997</td>\n",
       "      <td>121.794998</td>\n",
       "      <td>120.655327</td>\n",
       "      <td>121.338661</td>\n",
       "      <td>118.674660</td>\n",
       "    </tr>\n",
       "    <tr>\n",
       "      <th>2013-10-12</th>\n",
       "      <td>25.0</td>\n",
       "      <td>125.279663</td>\n",
       "      <td>125.961159</td>\n",
       "      <td>124.049004</td>\n",
       "      <td>123.032997</td>\n",
       "      <td>121.794998</td>\n",
       "      <td>120.655327</td>\n",
       "      <td>121.338661</td>\n",
       "    </tr>\n",
       "  </tbody>\n",
       "</table>\n",
       "</div>"
      ],
      "text/plain": [
       "            block_reward     Price+1     Price+2     Price+3     Price+4  \\\n",
       "Date                                                                       \n",
       "2013-10-08          25.0  121.794998  120.655327  121.338661  118.674660   \n",
       "2013-10-09          25.0  123.032997  121.794998  120.655327  121.338661   \n",
       "2013-10-10          25.0  124.049004  123.032997  121.794998  120.655327   \n",
       "2013-10-11          25.0  125.961159  124.049004  123.032997  121.794998   \n",
       "2013-10-12          25.0  125.279663  125.961159  124.049004  123.032997   \n",
       "\n",
       "               Price+5     Price+6     Price+7  \n",
       "Date                                            \n",
       "2013-10-08  108.584831  125.455002  123.654991  \n",
       "2013-10-09  118.674660  108.584831  125.455002  \n",
       "2013-10-10  121.338661  118.674660  108.584831  \n",
       "2013-10-11  120.655327  121.338661  118.674660  \n",
       "2013-10-12  121.794998  120.655327  121.338661  "
      ]
     },
     "execution_count": 96,
     "metadata": {},
     "output_type": "execute_result"
    }
   ],
   "source": [
    "# Create X (windows) and Y (horizons) features\n",
    "X = bitcoin_prices_windowed.dropna().drop('Price', axis=1).astype(np.float32)\n",
    "y = bitcoin_prices_windowed.dropna()['Price'].astype(np.float32)\n",
    "X.head()"
   ]
  },
  {
   "cell_type": "code",
   "execution_count": 97,
   "id": "ac7a5466",
   "metadata": {},
   "outputs": [
    {
     "data": {
      "application/vnd.microsoft.datawrangler.viewer.v0+json": {
       "columns": [
        {
         "name": "Date",
         "rawType": "datetime64[ns]",
         "type": "datetime"
        },
        {
         "name": "Price",
         "rawType": "float32",
         "type": "float"
        }
       ],
       "ref": "0345d9ac-133f-4a92-803d-1041ab1b4b57",
       "rows": [
        [
         "2013-10-08 00:00:00",
         "123.033"
        ],
        [
         "2013-10-09 00:00:00",
         "124.049"
        ],
        [
         "2013-10-10 00:00:00",
         "125.96116"
        ],
        [
         "2013-10-11 00:00:00",
         "125.27966"
        ],
        [
         "2013-10-12 00:00:00",
         "125.9275"
        ]
       ],
       "shape": {
        "columns": 1,
        "rows": 5
       }
      },
      "text/plain": [
       "Date\n",
       "2013-10-08    123.032997\n",
       "2013-10-09    124.049004\n",
       "2013-10-10    125.961159\n",
       "2013-10-11    125.279663\n",
       "2013-10-12    125.927498\n",
       "Name: Price, dtype: float32"
      ]
     },
     "execution_count": 97,
     "metadata": {},
     "output_type": "execute_result"
    }
   ],
   "source": [
    "y.head()"
   ]
  },
  {
   "cell_type": "code",
   "execution_count": 99,
   "id": "d05edde9",
   "metadata": {},
   "outputs": [],
   "source": [
    "# Make train and test sets using indexing\n",
    "split_size = int(len(X) * 0.8)\n",
    "X_train, y_train = X[:split_size], y[:split_size]\n",
    "X_test, y_test = X[split_size:], y[split_size:]"
   ]
  },
  {
   "cell_type": "markdown",
   "id": "5088ee33",
   "metadata": {},
   "source": [
    "## Model 6: Dense (multivariate time series)"
   ]
  },
  {
   "cell_type": "code",
   "execution_count": 108,
   "id": "711f27de",
   "metadata": {},
   "outputs": [
    {
     "name": "stdout",
     "output_type": "stream",
     "text": [
      "Epoch 1/100\n",
      " 1/18 [>.............................] - ETA: 4s - loss: 3644.1929INFO:tensorflow:Assets written to: model_experiments\\model_6_dense_multivariate\\assets\n"
     ]
    },
    {
     "name": "stderr",
     "output_type": "stream",
     "text": [
      "INFO:tensorflow:Assets written to: model_experiments\\model_6_dense_multivariate\\assets\n"
     ]
    },
    {
     "name": "stdout",
     "output_type": "stream",
     "text": [
      "18/18 [==============================] - 1s 45ms/step - loss: 1008.0607 - val_loss: 2116.8784\n",
      "Epoch 2/100\n",
      " 9/18 [==============>...............] - ETA: 0s - loss: 284.6047INFO:tensorflow:Assets written to: model_experiments\\model_6_dense_multivariate\\assets\n"
     ]
    },
    {
     "name": "stderr",
     "output_type": "stream",
     "text": [
      "INFO:tensorflow:Assets written to: model_experiments\\model_6_dense_multivariate\\assets\n"
     ]
    },
    {
     "name": "stdout",
     "output_type": "stream",
     "text": [
      "18/18 [==============================] - 0s 29ms/step - loss: 264.7957 - val_loss: 1422.9905\n",
      "Epoch 3/100\n",
      "18/18 [==============================] - ETA: 0s - loss: 187.4001INFO:tensorflow:Assets written to: model_experiments\\model_6_dense_multivariate\\assets\n"
     ]
    },
    {
     "name": "stderr",
     "output_type": "stream",
     "text": [
      "INFO:tensorflow:Assets written to: model_experiments\\model_6_dense_multivariate\\assets\n"
     ]
    },
    {
     "name": "stdout",
     "output_type": "stream",
     "text": [
      "18/18 [==============================] - 0s 25ms/step - loss: 187.4001 - val_loss: 975.6854\n",
      "Epoch 4/100\n",
      "11/18 [=================>............] - ETA: 0s - loss: 179.1775INFO:tensorflow:Assets written to: model_experiments\\model_6_dense_multivariate\\assets\n"
     ]
    },
    {
     "name": "stderr",
     "output_type": "stream",
     "text": [
      "INFO:tensorflow:Assets written to: model_experiments\\model_6_dense_multivariate\\assets\n"
     ]
    },
    {
     "name": "stdout",
     "output_type": "stream",
     "text": [
      "18/18 [==============================] - 0s 26ms/step - loss: 166.2116 - val_loss: 906.5200\n",
      "Epoch 5/100\n",
      "12/18 [===================>..........] - ETA: 0s - loss: 155.1088INFO:tensorflow:Assets written to: model_experiments\\model_6_dense_multivariate\\assets\n"
     ]
    },
    {
     "name": "stderr",
     "output_type": "stream",
     "text": [
      "INFO:tensorflow:Assets written to: model_experiments\\model_6_dense_multivariate\\assets\n"
     ]
    },
    {
     "name": "stdout",
     "output_type": "stream",
     "text": [
      "18/18 [==============================] - 0s 25ms/step - loss: 152.4086 - val_loss: 813.1294\n",
      "Epoch 6/100\n",
      "16/18 [=========================>....] - ETA: 0s - loss: 137.4802INFO:tensorflow:Assets written to: model_experiments\\model_6_dense_multivariate\\assets\n"
     ]
    },
    {
     "name": "stderr",
     "output_type": "stream",
     "text": [
      "INFO:tensorflow:Assets written to: model_experiments\\model_6_dense_multivariate\\assets\n"
     ]
    },
    {
     "name": "stdout",
     "output_type": "stream",
     "text": [
      "18/18 [==============================] - 0s 24ms/step - loss: 139.2563 - val_loss: 726.1871\n",
      "Epoch 7/100\n",
      "18/18 [==============================] - 0s 7ms/step - loss: 135.2156 - val_loss: 824.8456\n",
      "Epoch 8/100\n",
      " 1/18 [>.............................] - ETA: 0s - loss: 137.6121INFO:tensorflow:Assets written to: model_experiments\\model_6_dense_multivariate\\assets\n"
     ]
    },
    {
     "name": "stderr",
     "output_type": "stream",
     "text": [
      "INFO:tensorflow:Assets written to: model_experiments\\model_6_dense_multivariate\\assets\n"
     ]
    },
    {
     "name": "stdout",
     "output_type": "stream",
     "text": [
      "18/18 [==============================] - 0s 25ms/step - loss: 131.7460 - val_loss: 699.9590\n",
      "Epoch 9/100\n",
      "18/18 [==============================] - 0s 6ms/step - loss: 131.9136 - val_loss: 736.3862\n",
      "Epoch 10/100\n",
      "18/18 [==============================] - 0s 6ms/step - loss: 143.7406 - val_loss: 897.0395\n",
      "Epoch 11/100\n",
      "18/18 [==============================] - 0s 5ms/step - loss: 134.8341 - val_loss: 1150.0817\n",
      "Epoch 12/100\n",
      "18/18 [==============================] - 0s 6ms/step - loss: 152.7022 - val_loss: 754.6198\n",
      "Epoch 13/100\n",
      "18/18 [==============================] - 0s 5ms/step - loss: 133.4452 - val_loss: 925.0897\n",
      "Epoch 14/100\n",
      "18/18 [==============================] - 0s 6ms/step - loss: 137.8263 - val_loss: 740.0980\n",
      "Epoch 15/100\n",
      " 1/18 [>.............................] - ETA: 0s - loss: 132.4926INFO:tensorflow:Assets written to: model_experiments\\model_6_dense_multivariate\\assets\n"
     ]
    },
    {
     "name": "stderr",
     "output_type": "stream",
     "text": [
      "INFO:tensorflow:Assets written to: model_experiments\\model_6_dense_multivariate\\assets\n"
     ]
    },
    {
     "name": "stdout",
     "output_type": "stream",
     "text": [
      "18/18 [==============================] - 0s 23ms/step - loss: 125.3405 - val_loss: 612.4800\n",
      "Epoch 16/100\n",
      "18/18 [==============================] - 0s 5ms/step - loss: 117.5157 - val_loss: 625.3221\n",
      "Epoch 17/100\n",
      "18/18 [==============================] - 0s 4ms/step - loss: 117.0870 - val_loss: 634.7174\n",
      "Epoch 18/100\n",
      "18/18 [==============================] - 0s 4ms/step - loss: 127.7784 - val_loss: 701.7437\n",
      "Epoch 19/100\n",
      " 1/18 [>.............................] - ETA: 0s - loss: 92.3837INFO:tensorflow:Assets written to: model_experiments\\model_6_dense_multivariate\\assets\n"
     ]
    },
    {
     "name": "stderr",
     "output_type": "stream",
     "text": [
      "INFO:tensorflow:Assets written to: model_experiments\\model_6_dense_multivariate\\assets\n"
     ]
    },
    {
     "name": "stdout",
     "output_type": "stream",
     "text": [
      "18/18 [==============================] - 0s 25ms/step - loss: 129.9434 - val_loss: 590.6401\n",
      "Epoch 20/100\n",
      "18/18 [==============================] - 0s 4ms/step - loss: 112.6087 - val_loss: 638.5494\n",
      "Epoch 21/100\n",
      "18/18 [==============================] - 0s 4ms/step - loss: 115.9891 - val_loss: 664.3752\n",
      "Epoch 22/100\n",
      " 1/18 [>.............................] - ETA: 0s - loss: 168.5844INFO:tensorflow:Assets written to: model_experiments\\model_6_dense_multivariate\\assets\n"
     ]
    },
    {
     "name": "stderr",
     "output_type": "stream",
     "text": [
      "INFO:tensorflow:Assets written to: model_experiments\\model_6_dense_multivariate\\assets\n"
     ]
    },
    {
     "name": "stdout",
     "output_type": "stream",
     "text": [
      "18/18 [==============================] - 0s 26ms/step - loss: 118.9118 - val_loss: 582.1528\n",
      "Epoch 23/100\n",
      " 1/18 [>.............................] - ETA: 0s - loss: 119.5538INFO:tensorflow:Assets written to: model_experiments\\model_6_dense_multivariate\\assets\n"
     ]
    },
    {
     "name": "stderr",
     "output_type": "stream",
     "text": [
      "INFO:tensorflow:Assets written to: model_experiments\\model_6_dense_multivariate\\assets\n"
     ]
    },
    {
     "name": "stdout",
     "output_type": "stream",
     "text": [
      "18/18 [==============================] - 0s 23ms/step - loss: 111.0918 - val_loss: 580.0325\n",
      "Epoch 24/100\n",
      "18/18 [==============================] - 0s 5ms/step - loss: 113.6977 - val_loss: 596.4102\n",
      "Epoch 25/100\n",
      "18/18 [==============================] - 0s 4ms/step - loss: 110.8106 - val_loss: 621.9274\n",
      "Epoch 26/100\n",
      "18/18 [==============================] - 0s 4ms/step - loss: 109.5957 - val_loss: 605.0729\n",
      "Epoch 27/100\n",
      " 1/18 [>.............................] - ETA: 0s - loss: 152.3378INFO:tensorflow:Assets written to: model_experiments\\model_6_dense_multivariate\\assets\n"
     ]
    },
    {
     "name": "stderr",
     "output_type": "stream",
     "text": [
      "INFO:tensorflow:Assets written to: model_experiments\\model_6_dense_multivariate\\assets\n"
     ]
    },
    {
     "name": "stdout",
     "output_type": "stream",
     "text": [
      "18/18 [==============================] - 0s 25ms/step - loss: 108.3571 - val_loss: 570.9351\n",
      "Epoch 28/100\n",
      "18/18 [==============================] - 0s 6ms/step - loss: 109.4418 - val_loss: 607.1990\n",
      "Epoch 29/100\n",
      "18/18 [==============================] - 0s 4ms/step - loss: 108.1794 - val_loss: 688.8306\n",
      "Epoch 30/100\n",
      "18/18 [==============================] - 0s 4ms/step - loss: 118.1288 - val_loss: 779.1321\n",
      "Epoch 31/100\n",
      " 1/18 [>.............................] - ETA: 0s - loss: 137.3012INFO:tensorflow:Assets written to: model_experiments\\model_6_dense_multivariate\\assets\n"
     ]
    },
    {
     "name": "stderr",
     "output_type": "stream",
     "text": [
      "INFO:tensorflow:Assets written to: model_experiments\\model_6_dense_multivariate\\assets\n"
     ]
    },
    {
     "name": "stdout",
     "output_type": "stream",
     "text": [
      "18/18 [==============================] - 0s 25ms/step - loss: 125.4369 - val_loss: 568.7553\n",
      "Epoch 32/100\n",
      "18/18 [==============================] - 0s 4ms/step - loss: 107.7252 - val_loss: 577.9448\n",
      "Epoch 33/100\n",
      " 1/18 [>.............................] - ETA: 0s - loss: 134.7830INFO:tensorflow:Assets written to: model_experiments\\model_6_dense_multivariate\\assets\n"
     ]
    },
    {
     "name": "stderr",
     "output_type": "stream",
     "text": [
      "INFO:tensorflow:Assets written to: model_experiments\\model_6_dense_multivariate\\assets\n"
     ]
    },
    {
     "name": "stdout",
     "output_type": "stream",
     "text": [
      "18/18 [==============================] - 0s 24ms/step - loss: 108.6156 - val_loss: 565.2463\n",
      "Epoch 34/100\n",
      "18/18 [==============================] - 0s 4ms/step - loss: 108.5037 - val_loss: 649.5484\n",
      "Epoch 35/100\n",
      "18/18 [==============================] - 0s 4ms/step - loss: 110.5886 - val_loss: 643.5400\n",
      "Epoch 36/100\n",
      "18/18 [==============================] - 0s 4ms/step - loss: 115.8835 - val_loss: 568.2042\n",
      "Epoch 37/100\n",
      "18/18 [==============================] - 0s 4ms/step - loss: 117.6460 - val_loss: 585.7019\n",
      "Epoch 38/100\n",
      "18/18 [==============================] - 0s 4ms/step - loss: 110.4695 - val_loss: 628.7299\n",
      "Epoch 39/100\n",
      "18/18 [==============================] - 0s 4ms/step - loss: 121.1757 - val_loss: 599.9424\n",
      "Epoch 40/100\n",
      "18/18 [==============================] - 0s 4ms/step - loss: 111.1013 - val_loss: 585.9279\n",
      "Epoch 41/100\n",
      "18/18 [==============================] - 0s 4ms/step - loss: 110.2436 - val_loss: 596.4244\n",
      "Epoch 42/100\n",
      "18/18 [==============================] - 0s 4ms/step - loss: 108.7633 - val_loss: 570.9570\n",
      "Epoch 43/100\n",
      "18/18 [==============================] - 0s 4ms/step - loss: 107.1600 - val_loss: 693.0764\n",
      "Epoch 44/100\n",
      "18/18 [==============================] - 0s 5ms/step - loss: 112.1036 - val_loss: 590.4133\n",
      "Epoch 45/100\n",
      "18/18 [==============================] - 0s 4ms/step - loss: 108.3623 - val_loss: 671.9155\n",
      "Epoch 46/100\n",
      "18/18 [==============================] - 0s 5ms/step - loss: 113.8846 - val_loss: 798.4464\n",
      "Epoch 47/100\n",
      "18/18 [==============================] - 0s 4ms/step - loss: 120.6205 - val_loss: 626.3976\n",
      "Epoch 48/100\n",
      "18/18 [==============================] - 0s 4ms/step - loss: 107.2451 - val_loss: 568.4876\n",
      "Epoch 49/100\n",
      "18/18 [==============================] - 0s 5ms/step - loss: 107.1232 - val_loss: 568.3606\n",
      "Epoch 50/100\n",
      "18/18 [==============================] - 0s 3ms/step - loss: 113.7284 - val_loss: 596.1751\n",
      "Epoch 51/100\n",
      "18/18 [==============================] - 0s 4ms/step - loss: 108.8839 - val_loss: 566.6339\n",
      "Epoch 52/100\n",
      "18/18 [==============================] - 0s 4ms/step - loss: 116.7252 - val_loss: 712.5925\n",
      "Epoch 53/100\n",
      "18/18 [==============================] - 0s 4ms/step - loss: 118.1849 - val_loss: 668.1500\n",
      "Epoch 54/100\n",
      "18/18 [==============================] - 0s 4ms/step - loss: 114.5361 - val_loss: 673.6103\n",
      "Epoch 55/100\n",
      "18/18 [==============================] - 0s 5ms/step - loss: 121.5319 - val_loss: 720.5254\n",
      "Epoch 56/100\n",
      "18/18 [==============================] - 0s 3ms/step - loss: 120.4193 - val_loss: 883.1622\n",
      "Epoch 57/100\n",
      "18/18 [==============================] - 0s 3ms/step - loss: 118.6680 - val_loss: 624.0876\n",
      "Epoch 58/100\n",
      "18/18 [==============================] - 0s 3ms/step - loss: 108.6668 - val_loss: 587.1893\n",
      "Epoch 59/100\n",
      "18/18 [==============================] - 0s 3ms/step - loss: 107.3409 - val_loss: 651.3839\n",
      "Epoch 60/100\n",
      "18/18 [==============================] - 0s 3ms/step - loss: 114.7158 - val_loss: 571.5102\n",
      "Epoch 61/100\n",
      "18/18 [==============================] - 0s 3ms/step - loss: 113.7352 - val_loss: 581.2648\n",
      "Epoch 62/100\n",
      "18/18 [==============================] - 0s 3ms/step - loss: 104.9072 - val_loss: 616.2885\n",
      "Epoch 63/100\n",
      "18/18 [==============================] - 0s 3ms/step - loss: 105.9376 - val_loss: 567.8562\n",
      "Epoch 64/100\n",
      "18/18 [==============================] - 0s 3ms/step - loss: 106.8218 - val_loss: 602.8394\n",
      "Epoch 65/100\n",
      "18/18 [==============================] - 0s 3ms/step - loss: 111.6840 - val_loss: 673.9997\n",
      "Epoch 66/100\n",
      "18/18 [==============================] - 0s 3ms/step - loss: 109.6708 - val_loss: 566.7072\n",
      "Epoch 67/100\n",
      "18/18 [==============================] - 0s 3ms/step - loss: 109.6169 - val_loss: 637.2732\n",
      "Epoch 68/100\n",
      "18/18 [==============================] - 0s 3ms/step - loss: 109.9570 - val_loss: 567.7456\n",
      "Epoch 69/100\n",
      "18/18 [==============================] - 0s 4ms/step - loss: 109.2225 - val_loss: 763.0785\n",
      "Epoch 70/100\n",
      "18/18 [==============================] - 0s 4ms/step - loss: 137.5273 - val_loss: 653.8167\n",
      "Epoch 71/100\n",
      "18/18 [==============================] - 0s 3ms/step - loss: 110.0766 - val_loss: 608.6936\n",
      "Epoch 72/100\n",
      "18/18 [==============================] - 0s 4ms/step - loss: 108.3145 - val_loss: 620.4844\n",
      "Epoch 73/100\n",
      "18/18 [==============================] - 0s 3ms/step - loss: 106.7229 - val_loss: 582.9532\n",
      "Epoch 74/100\n",
      "18/18 [==============================] - 0s 3ms/step - loss: 106.5544 - val_loss: 566.7725\n",
      "Epoch 75/100\n",
      "18/18 [==============================] - 0s 3ms/step - loss: 111.1251 - val_loss: 570.1676\n",
      "Epoch 76/100\n",
      "18/18 [==============================] - 0s 3ms/step - loss: 113.0929 - val_loss: 724.3299\n",
      "Epoch 77/100\n",
      "18/18 [==============================] - 0s 3ms/step - loss: 121.8532 - val_loss: 573.0571\n",
      "Epoch 78/100\n",
      "18/18 [==============================] - 0s 3ms/step - loss: 114.3699 - val_loss: 718.4118\n",
      "Epoch 79/100\n",
      "18/18 [==============================] - 0s 3ms/step - loss: 114.9706 - val_loss: 594.7120\n",
      "Epoch 80/100\n",
      "18/18 [==============================] - 0s 3ms/step - loss: 115.8319 - val_loss: 682.9124\n",
      "Epoch 81/100\n",
      "18/18 [==============================] - 0s 3ms/step - loss: 112.1630 - val_loss: 703.3631\n",
      "Epoch 82/100\n",
      "18/18 [==============================] - 0s 3ms/step - loss: 118.7144 - val_loss: 971.5502\n",
      "Epoch 83/100\n",
      "18/18 [==============================] - 0s 3ms/step - loss: 142.6234 - val_loss: 808.0386\n",
      "Epoch 84/100\n",
      "18/18 [==============================] - 0s 3ms/step - loss: 126.0696 - val_loss: 583.5353\n",
      "Epoch 85/100\n",
      "18/18 [==============================] - 0s 3ms/step - loss: 112.5447 - val_loss: 631.6268\n",
      "Epoch 86/100\n",
      "18/18 [==============================] - 0s 3ms/step - loss: 105.7051 - val_loss: 589.2563\n",
      "Epoch 87/100\n",
      "18/18 [==============================] - 0s 3ms/step - loss: 106.3904 - val_loss: 587.3948\n",
      "Epoch 88/100\n",
      "18/18 [==============================] - 0s 3ms/step - loss: 106.9298 - val_loss: 606.3161\n",
      "Epoch 89/100\n",
      " 1/18 [>.............................] - ETA: 0s - loss: 111.0719INFO:tensorflow:Assets written to: model_experiments\\model_6_dense_multivariate\\assets\n"
     ]
    },
    {
     "name": "stderr",
     "output_type": "stream",
     "text": [
      "INFO:tensorflow:Assets written to: model_experiments\\model_6_dense_multivariate\\assets\n"
     ]
    },
    {
     "name": "stdout",
     "output_type": "stream",
     "text": [
      "18/18 [==============================] - 1s 38ms/step - loss: 109.5409 - val_loss: 564.6418\n",
      "Epoch 90/100\n",
      "18/18 [==============================] - 0s 4ms/step - loss: 104.9887 - val_loss: 566.2560\n",
      "Epoch 91/100\n",
      "18/18 [==============================] - 0s 4ms/step - loss: 108.5374 - val_loss: 598.3392\n",
      "Epoch 92/100\n",
      "18/18 [==============================] - 0s 4ms/step - loss: 110.3947 - val_loss: 589.2977\n",
      "Epoch 93/100\n",
      "18/18 [==============================] - 0s 4ms/step - loss: 105.2830 - val_loss: 570.6599\n",
      "Epoch 94/100\n",
      "18/18 [==============================] - 0s 6ms/step - loss: 105.1840 - val_loss: 575.4191\n",
      "Epoch 95/100\n",
      "18/18 [==============================] - 0s 4ms/step - loss: 107.1367 - val_loss: 567.8596\n",
      "Epoch 96/100\n",
      "18/18 [==============================] - 0s 4ms/step - loss: 110.8397 - val_loss: 584.4102\n",
      "Epoch 97/100\n",
      "18/18 [==============================] - 0s 4ms/step - loss: 105.8733 - val_loss: 577.9321\n",
      "Epoch 98/100\n",
      "18/18 [==============================] - 0s 4ms/step - loss: 105.9177 - val_loss: 574.6212\n",
      "Epoch 99/100\n",
      "18/18 [==============================] - 0s 4ms/step - loss: 106.8408 - val_loss: 591.6021\n",
      "Epoch 100/100\n",
      "18/18 [==============================] - 0s 4ms/step - loss: 111.1989 - val_loss: 570.2993\n"
     ]
    },
    {
     "data": {
      "text/plain": [
       "<keras.callbacks.History at 0x2ad4cf9b7f0>"
      ]
     },
     "execution_count": 108,
     "metadata": {},
     "output_type": "execute_result"
    }
   ],
   "source": [
    "tf.random.set_seed(42)\n",
    "\n",
    "# Make multivariate time series model\n",
    "model_6 = tf.keras.Sequential([\n",
    "    layers.Dense(128, activation='relu'),\n",
    "    layers.Dense(128, activation='relu'),\n",
    "    layers.Dense(HORIZON)\n",
    "], name='model_6_dense_multivariate')\n",
    "\n",
    "# Compile\n",
    "model_6.compile(loss='mae',\n",
    "                optimizer=tf.keras.optimizers.Adam())\n",
    "# Fit\n",
    "model_6.fit(X_train, y_train,\n",
    "            epochs=100,\n",
    "            batch_size=128,\n",
    "            verbose=1,\n",
    "            validation_data=(X_test, y_test),\n",
    "            callbacks=[create_model_checkpoint(model_name=model_6.name)])"
   ]
  },
  {
   "cell_type": "code",
   "execution_count": 109,
   "id": "fbbd0cd9",
   "metadata": {},
   "outputs": [
    {
     "name": "stdout",
     "output_type": "stream",
     "text": [
      "18/18 [==============================] - 0s 1ms/step - loss: 570.0193\n"
     ]
    },
    {
     "data": {
      "text/plain": [
       "570.0193481445312"
      ]
     },
     "execution_count": 109,
     "metadata": {},
     "output_type": "execute_result"
    }
   ],
   "source": [
    "# Evaluate multivariate model\n",
    "model_6.evaluate(X_test, y_test)"
   ]
  },
  {
   "cell_type": "code",
   "execution_count": 110,
   "id": "6a6e0019",
   "metadata": {},
   "outputs": [
    {
     "name": "stdout",
     "output_type": "stream",
     "text": [
      "18/18 [==============================] - 0s 2ms/step - loss: 564.5936\n"
     ]
    },
    {
     "data": {
      "text/plain": [
       "564.5936279296875"
      ]
     },
     "execution_count": 110,
     "metadata": {},
     "output_type": "execute_result"
    }
   ],
   "source": [
    "# Load in and evaluate best performing model\n",
    "model_6 = tf.keras.models.load_model('model_experiments/model_6_dense_multivariate')\n",
    "model_6.evaluate(X_test, y_test)"
   ]
  },
  {
   "cell_type": "code",
   "execution_count": 111,
   "id": "30153aba",
   "metadata": {},
   "outputs": [
    {
     "name": "stdout",
     "output_type": "stream",
     "text": [
      "18/18 [==============================] - 0s 951us/step\n"
     ]
    },
    {
     "data": {
      "text/plain": [
       "<tf.Tensor: shape=(10,), dtype=float32, numpy=\n",
       "array([8811.184, 8752.913, 9008.71 , 8759.599, 8738.358, 8699.173,\n",
       "       8664.053, 8510.092, 8430.997, 8508.571], dtype=float32)>"
      ]
     },
     "execution_count": 111,
     "metadata": {},
     "output_type": "execute_result"
    }
   ],
   "source": [
    "# Make predictions with multivariate model\n",
    "model_6_preds = tf.squeeze(model_6.predict(X_test))\n",
    "model_6_preds[:10]"
   ]
  },
  {
   "cell_type": "code",
   "execution_count": 112,
   "id": "d425ce79",
   "metadata": {},
   "outputs": [
    {
     "data": {
      "text/plain": [
       "{'mae': 564.5936,\n",
       " 'mse': 1151488.9,\n",
       " 'rmse': 1073.0745,\n",
       " 'mape': 2.5553346,\n",
       " 'mase': 0.99183464}"
      ]
     },
     "execution_count": 112,
     "metadata": {},
     "output_type": "execute_result"
    }
   ],
   "source": [
    "# Evaluate predictions to get eval metrics\n",
    "model_6_results = evaluate_preds(y_true=y_test,\n",
    "                                 y_pred=model_6_preds)\n",
    "model_6_results"
   ]
  },
  {
   "cell_type": "code",
   "execution_count": 113,
   "id": "da85c3f3",
   "metadata": {},
   "outputs": [
    {
     "data": {
      "text/plain": [
       "{'mae': 566.97546,\n",
       " 'mse': 1163613.8,\n",
       " 'rmse': 1078.7092,\n",
       " 'mape': 2.523096,\n",
       " 'mase': 0.9895705}"
      ]
     },
     "execution_count": 113,
     "metadata": {},
     "output_type": "execute_result"
    }
   ],
   "source": [
    "model_1_results"
   ]
  },
  {
   "cell_type": "code",
   "execution_count": 114,
   "id": "efd3378b",
   "metadata": {},
   "outputs": [
    {
     "data": {
      "text/plain": [
       "{'mae': 567.9802,\n",
       " 'mse': 1147547.0,\n",
       " 'rmse': 1071.2362,\n",
       " 'mape': 2.516525,\n",
       " 'mase': 0.99957}"
      ]
     },
     "execution_count": 114,
     "metadata": {},
     "output_type": "execute_result"
    }
   ],
   "source": [
    "naive_results"
   ]
  }
 ],
 "metadata": {
  "kernelspec": {
   "display_name": "tf3",
   "language": "python",
   "name": "python3"
  },
  "language_info": {
   "codemirror_mode": {
    "name": "ipython",
    "version": 3
   },
   "file_extension": ".py",
   "mimetype": "text/x-python",
   "name": "python",
   "nbconvert_exporter": "python",
   "pygments_lexer": "ipython3",
   "version": "3.10.18"
  }
 },
 "nbformat": 4,
 "nbformat_minor": 5
}

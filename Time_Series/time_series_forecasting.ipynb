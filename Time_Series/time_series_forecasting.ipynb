{
 "cells": [
  {
   "cell_type": "markdown",
   "id": "197107bd",
   "metadata": {},
   "source": [
    "# Time Series Forecasting Fundamentals with TensorFlow + Milestone Project: BitPredict\n",
    "\n",
    "Let's write some TensorFlow code to predict the price of Bitcoin based on historical price of Bitcoin."
   ]
  },
  {
   "cell_type": "markdown",
   "id": "d842b633",
   "metadata": {},
   "source": [
    "## Importing time series with pandas"
   ]
  },
  {
   "cell_type": "code",
   "execution_count": 1,
   "id": "912c0b37",
   "metadata": {},
   "outputs": [
    {
     "data": {
      "application/vnd.microsoft.datawrangler.viewer.v0+json": {
       "columns": [
        {
         "name": "Date",
         "rawType": "datetime64[ns]",
         "type": "datetime"
        },
        {
         "name": "Currency",
         "rawType": "object",
         "type": "string"
        },
        {
         "name": "Closing Price (USD)",
         "rawType": "float64",
         "type": "float"
        },
        {
         "name": "24h Open (USD)",
         "rawType": "float64",
         "type": "float"
        },
        {
         "name": "24h High (USD)",
         "rawType": "float64",
         "type": "float"
        },
        {
         "name": "24h Low (USD)",
         "rawType": "float64",
         "type": "float"
        }
       ],
       "ref": "ae88b686-e4bd-4dcf-832f-bd1332858297",
       "rows": [
        [
         "2013-10-01 00:00:00",
         "BTC",
         "123.65499",
         "124.30466",
         "124.75166",
         "122.56349"
        ],
        [
         "2013-10-02 00:00:00",
         "BTC",
         "125.455",
         "123.65499",
         "125.7585",
         "123.63383"
        ],
        [
         "2013-10-03 00:00:00",
         "BTC",
         "108.58483",
         "125.455",
         "125.66566",
         "83.32833"
        ],
        [
         "2013-10-04 00:00:00",
         "BTC",
         "118.67466",
         "108.58483",
         "118.675",
         "107.05816"
        ],
        [
         "2013-10-05 00:00:00",
         "BTC",
         "121.33866",
         "118.67466",
         "121.93633",
         "118.00566"
        ]
       ],
       "shape": {
        "columns": 5,
        "rows": 5
       }
      },
      "text/html": [
       "<div>\n",
       "<style scoped>\n",
       "    .dataframe tbody tr th:only-of-type {\n",
       "        vertical-align: middle;\n",
       "    }\n",
       "\n",
       "    .dataframe tbody tr th {\n",
       "        vertical-align: top;\n",
       "    }\n",
       "\n",
       "    .dataframe thead th {\n",
       "        text-align: right;\n",
       "    }\n",
       "</style>\n",
       "<table border=\"1\" class=\"dataframe\">\n",
       "  <thead>\n",
       "    <tr style=\"text-align: right;\">\n",
       "      <th></th>\n",
       "      <th>Currency</th>\n",
       "      <th>Closing Price (USD)</th>\n",
       "      <th>24h Open (USD)</th>\n",
       "      <th>24h High (USD)</th>\n",
       "      <th>24h Low (USD)</th>\n",
       "    </tr>\n",
       "    <tr>\n",
       "      <th>Date</th>\n",
       "      <th></th>\n",
       "      <th></th>\n",
       "      <th></th>\n",
       "      <th></th>\n",
       "      <th></th>\n",
       "    </tr>\n",
       "  </thead>\n",
       "  <tbody>\n",
       "    <tr>\n",
       "      <th>2013-10-01</th>\n",
       "      <td>BTC</td>\n",
       "      <td>123.65499</td>\n",
       "      <td>124.30466</td>\n",
       "      <td>124.75166</td>\n",
       "      <td>122.56349</td>\n",
       "    </tr>\n",
       "    <tr>\n",
       "      <th>2013-10-02</th>\n",
       "      <td>BTC</td>\n",
       "      <td>125.45500</td>\n",
       "      <td>123.65499</td>\n",
       "      <td>125.75850</td>\n",
       "      <td>123.63383</td>\n",
       "    </tr>\n",
       "    <tr>\n",
       "      <th>2013-10-03</th>\n",
       "      <td>BTC</td>\n",
       "      <td>108.58483</td>\n",
       "      <td>125.45500</td>\n",
       "      <td>125.66566</td>\n",
       "      <td>83.32833</td>\n",
       "    </tr>\n",
       "    <tr>\n",
       "      <th>2013-10-04</th>\n",
       "      <td>BTC</td>\n",
       "      <td>118.67466</td>\n",
       "      <td>108.58483</td>\n",
       "      <td>118.67500</td>\n",
       "      <td>107.05816</td>\n",
       "    </tr>\n",
       "    <tr>\n",
       "      <th>2013-10-05</th>\n",
       "      <td>BTC</td>\n",
       "      <td>121.33866</td>\n",
       "      <td>118.67466</td>\n",
       "      <td>121.93633</td>\n",
       "      <td>118.00566</td>\n",
       "    </tr>\n",
       "  </tbody>\n",
       "</table>\n",
       "</div>"
      ],
      "text/plain": [
       "           Currency  Closing Price (USD)  24h Open (USD)  24h High (USD)  \\\n",
       "Date                                                                       \n",
       "2013-10-01      BTC            123.65499       124.30466       124.75166   \n",
       "2013-10-02      BTC            125.45500       123.65499       125.75850   \n",
       "2013-10-03      BTC            108.58483       125.45500       125.66566   \n",
       "2013-10-04      BTC            118.67466       108.58483       118.67500   \n",
       "2013-10-05      BTC            121.33866       118.67466       121.93633   \n",
       "\n",
       "            24h Low (USD)  \n",
       "Date                       \n",
       "2013-10-01      122.56349  \n",
       "2013-10-02      123.63383  \n",
       "2013-10-03       83.32833  \n",
       "2013-10-04      107.05816  \n",
       "2013-10-05      118.00566  "
      ]
     },
     "execution_count": 1,
     "metadata": {},
     "output_type": "execute_result"
    }
   ],
   "source": [
    "# Import with pandas\n",
    "import pandas as pd\n",
    "# Let's read in our Bitcoin data and parse the dates\n",
    "df = pd.read_csv('./bitcoin_price.csv',\n",
    "                 parse_dates=['Date'],\n",
    "                 index_col=['Date']) # parse the date column and tell pandas column 1 is a datetime\n",
    "\n",
    "df.head()"
   ]
  },
  {
   "cell_type": "code",
   "execution_count": 2,
   "id": "756c4c8b",
   "metadata": {},
   "outputs": [
    {
     "data": {
      "application/vnd.microsoft.datawrangler.viewer.v0+json": {
       "columns": [
        {
         "name": "Date",
         "rawType": "datetime64[ns]",
         "type": "datetime"
        },
        {
         "name": "Currency",
         "rawType": "object",
         "type": "string"
        },
        {
         "name": "Closing Price (USD)",
         "rawType": "float64",
         "type": "float"
        },
        {
         "name": "24h Open (USD)",
         "rawType": "float64",
         "type": "float"
        },
        {
         "name": "24h High (USD)",
         "rawType": "float64",
         "type": "float"
        },
        {
         "name": "24h Low (USD)",
         "rawType": "float64",
         "type": "float"
        }
       ],
       "ref": "df9377cb-42fe-4fad-b88f-5a9131267e89",
       "rows": [
        [
         "2021-05-14 00:00:00",
         "BTC",
         "49764.1320815975",
         "49596.7788914698",
         "51448.7985760232",
         "46294.7201795113"
        ],
        [
         "2021-05-15 00:00:00",
         "BTC",
         "50032.6931367648",
         "49717.3543531654",
         "51578.3125446899",
         "48944.3465360214"
        ],
        [
         "2021-05-16 00:00:00",
         "BTC",
         "47885.6252547166",
         "49926.035067459",
         "50690.8029495356",
         "47005.1022924768"
        ],
        [
         "2021-05-17 00:00:00",
         "BTC",
         "45604.6157536131",
         "46805.5378519185",
         "49670.4141738148",
         "43868.6389692715"
        ],
        [
         "2021-05-18 00:00:00",
         "BTC",
         "43144.4712908603",
         "46439.3365698047",
         "46622.8534374849",
         "42102.3464296188"
        ]
       ],
       "shape": {
        "columns": 5,
        "rows": 5
       }
      },
      "text/html": [
       "<div>\n",
       "<style scoped>\n",
       "    .dataframe tbody tr th:only-of-type {\n",
       "        vertical-align: middle;\n",
       "    }\n",
       "\n",
       "    .dataframe tbody tr th {\n",
       "        vertical-align: top;\n",
       "    }\n",
       "\n",
       "    .dataframe thead th {\n",
       "        text-align: right;\n",
       "    }\n",
       "</style>\n",
       "<table border=\"1\" class=\"dataframe\">\n",
       "  <thead>\n",
       "    <tr style=\"text-align: right;\">\n",
       "      <th></th>\n",
       "      <th>Currency</th>\n",
       "      <th>Closing Price (USD)</th>\n",
       "      <th>24h Open (USD)</th>\n",
       "      <th>24h High (USD)</th>\n",
       "      <th>24h Low (USD)</th>\n",
       "    </tr>\n",
       "    <tr>\n",
       "      <th>Date</th>\n",
       "      <th></th>\n",
       "      <th></th>\n",
       "      <th></th>\n",
       "      <th></th>\n",
       "      <th></th>\n",
       "    </tr>\n",
       "  </thead>\n",
       "  <tbody>\n",
       "    <tr>\n",
       "      <th>2021-05-14</th>\n",
       "      <td>BTC</td>\n",
       "      <td>49764.132082</td>\n",
       "      <td>49596.778891</td>\n",
       "      <td>51448.798576</td>\n",
       "      <td>46294.720180</td>\n",
       "    </tr>\n",
       "    <tr>\n",
       "      <th>2021-05-15</th>\n",
       "      <td>BTC</td>\n",
       "      <td>50032.693137</td>\n",
       "      <td>49717.354353</td>\n",
       "      <td>51578.312545</td>\n",
       "      <td>48944.346536</td>\n",
       "    </tr>\n",
       "    <tr>\n",
       "      <th>2021-05-16</th>\n",
       "      <td>BTC</td>\n",
       "      <td>47885.625255</td>\n",
       "      <td>49926.035067</td>\n",
       "      <td>50690.802950</td>\n",
       "      <td>47005.102292</td>\n",
       "    </tr>\n",
       "    <tr>\n",
       "      <th>2021-05-17</th>\n",
       "      <td>BTC</td>\n",
       "      <td>45604.615754</td>\n",
       "      <td>46805.537852</td>\n",
       "      <td>49670.414174</td>\n",
       "      <td>43868.638969</td>\n",
       "    </tr>\n",
       "    <tr>\n",
       "      <th>2021-05-18</th>\n",
       "      <td>BTC</td>\n",
       "      <td>43144.471291</td>\n",
       "      <td>46439.336570</td>\n",
       "      <td>46622.853437</td>\n",
       "      <td>42102.346430</td>\n",
       "    </tr>\n",
       "  </tbody>\n",
       "</table>\n",
       "</div>"
      ],
      "text/plain": [
       "           Currency  Closing Price (USD)  24h Open (USD)  24h High (USD)  \\\n",
       "Date                                                                       \n",
       "2021-05-14      BTC         49764.132082    49596.778891    51448.798576   \n",
       "2021-05-15      BTC         50032.693137    49717.354353    51578.312545   \n",
       "2021-05-16      BTC         47885.625255    49926.035067    50690.802950   \n",
       "2021-05-17      BTC         45604.615754    46805.537852    49670.414174   \n",
       "2021-05-18      BTC         43144.471291    46439.336570    46622.853437   \n",
       "\n",
       "            24h Low (USD)  \n",
       "Date                       \n",
       "2021-05-14   46294.720180  \n",
       "2021-05-15   48944.346536  \n",
       "2021-05-16   47005.102292  \n",
       "2021-05-17   43868.638969  \n",
       "2021-05-18   42102.346430  "
      ]
     },
     "execution_count": 2,
     "metadata": {},
     "output_type": "execute_result"
    }
   ],
   "source": [
    "df.tail()"
   ]
  },
  {
   "cell_type": "code",
   "execution_count": 3,
   "id": "9fca5567",
   "metadata": {},
   "outputs": [
    {
     "name": "stdout",
     "output_type": "stream",
     "text": [
      "<class 'pandas.core.frame.DataFrame'>\n",
      "DatetimeIndex: 2787 entries, 2013-10-01 to 2021-05-18\n",
      "Data columns (total 5 columns):\n",
      " #   Column               Non-Null Count  Dtype  \n",
      "---  ------               --------------  -----  \n",
      " 0   Currency             2787 non-null   object \n",
      " 1   Closing Price (USD)  2787 non-null   float64\n",
      " 2   24h Open (USD)       2787 non-null   float64\n",
      " 3   24h High (USD)       2787 non-null   float64\n",
      " 4   24h Low (USD)        2787 non-null   float64\n",
      "dtypes: float64(4), object(1)\n",
      "memory usage: 130.6+ KB\n"
     ]
    }
   ],
   "source": [
    "df.info()"
   ]
  },
  {
   "cell_type": "code",
   "execution_count": 4,
   "id": "67661981",
   "metadata": {},
   "outputs": [
    {
     "data": {
      "text/plain": [
       "2787"
      ]
     },
     "execution_count": 4,
     "metadata": {},
     "output_type": "execute_result"
    }
   ],
   "source": [
    "# How many samples do we have?\n",
    "len(df)"
   ]
  },
  {
   "cell_type": "markdown",
   "id": "7733d08d",
   "metadata": {},
   "source": [
    "We have collected the historical price of Bitcoin for the past ~8 years but there's 2787 samples.\n",
    "\n",
    "Typically deep learning models usually like lots and lots and lots of samples (where lots and lots and lots can be thousands to tens of thousands to millions).\n",
    "\n",
    "A smaller number of samples is something you will often run into with time series of ata problems.\n",
    "\n",
    "**Note:** The **seasonality** of a time series dataset is referred as the nmber of samples per year. So for our Bitcoin data, it has seasonality of daily or value of 365 because we collect one sample per day meaning we will get 365 samples per year."
   ]
  },
  {
   "cell_type": "code",
   "execution_count": 5,
   "id": "5f48b757",
   "metadata": {},
   "outputs": [
    {
     "data": {
      "application/vnd.microsoft.datawrangler.viewer.v0+json": {
       "columns": [
        {
         "name": "Date",
         "rawType": "datetime64[ns]",
         "type": "datetime"
        },
        {
         "name": "Price",
         "rawType": "float64",
         "type": "float"
        }
       ],
       "ref": "c92ba653-6c77-411d-ba0f-d7f400f51a34",
       "rows": [
        [
         "2013-10-01 00:00:00",
         "123.65499"
        ],
        [
         "2013-10-02 00:00:00",
         "125.455"
        ],
        [
         "2013-10-03 00:00:00",
         "108.58483"
        ],
        [
         "2013-10-04 00:00:00",
         "118.67466"
        ],
        [
         "2013-10-05 00:00:00",
         "121.33866"
        ]
       ],
       "shape": {
        "columns": 1,
        "rows": 5
       }
      },
      "text/html": [
       "<div>\n",
       "<style scoped>\n",
       "    .dataframe tbody tr th:only-of-type {\n",
       "        vertical-align: middle;\n",
       "    }\n",
       "\n",
       "    .dataframe tbody tr th {\n",
       "        vertical-align: top;\n",
       "    }\n",
       "\n",
       "    .dataframe thead th {\n",
       "        text-align: right;\n",
       "    }\n",
       "</style>\n",
       "<table border=\"1\" class=\"dataframe\">\n",
       "  <thead>\n",
       "    <tr style=\"text-align: right;\">\n",
       "      <th></th>\n",
       "      <th>Price</th>\n",
       "    </tr>\n",
       "    <tr>\n",
       "      <th>Date</th>\n",
       "      <th></th>\n",
       "    </tr>\n",
       "  </thead>\n",
       "  <tbody>\n",
       "    <tr>\n",
       "      <th>2013-10-01</th>\n",
       "      <td>123.65499</td>\n",
       "    </tr>\n",
       "    <tr>\n",
       "      <th>2013-10-02</th>\n",
       "      <td>125.45500</td>\n",
       "    </tr>\n",
       "    <tr>\n",
       "      <th>2013-10-03</th>\n",
       "      <td>108.58483</td>\n",
       "    </tr>\n",
       "    <tr>\n",
       "      <th>2013-10-04</th>\n",
       "      <td>118.67466</td>\n",
       "    </tr>\n",
       "    <tr>\n",
       "      <th>2013-10-05</th>\n",
       "      <td>121.33866</td>\n",
       "    </tr>\n",
       "  </tbody>\n",
       "</table>\n",
       "</div>"
      ],
      "text/plain": [
       "                Price\n",
       "Date                 \n",
       "2013-10-01  123.65499\n",
       "2013-10-02  125.45500\n",
       "2013-10-03  108.58483\n",
       "2013-10-04  118.67466\n",
       "2013-10-05  121.33866"
      ]
     },
     "execution_count": 5,
     "metadata": {},
     "output_type": "execute_result"
    }
   ],
   "source": [
    "# Only want closing price for each day\n",
    "bitcoin_prices = pd.DataFrame(df['Closing Price (USD)']).rename(columns={'Closing Price (USD)': 'Price'})\n",
    "bitcoin_prices.head()"
   ]
  },
  {
   "cell_type": "code",
   "execution_count": 6,
   "id": "f8096130",
   "metadata": {},
   "outputs": [
    {
     "data": {
      "image/png": "[encoded data removed]",
      "text/plain": [
       "<Figure size 1000x700 with 1 Axes>"
      ]
     },
     "metadata": {},
     "output_type": "display_data"
    }
   ],
   "source": [
    "import matplotlib.pyplot as plt\n",
    "bitcoin_prices.plot(figsize=(10, 7))\n",
    "plt.ylabel('BTC Price')\n",
    "plt.title('Price of Bitcoin from 1 Oct 2013 to 18 May 2021', fontsize=16)\n",
    "plt.legend(fontsize=14)\n",
    "plt.show()"
   ]
  },
  {
   "cell_type": "markdown",
   "id": "719f1176",
   "metadata": {},
   "source": [
    "## Importing time series data with Pyhton's CSV module"
   ]
  },
  {
   "cell_type": "code",
   "execution_count": 7,
   "id": "1564be6a",
   "metadata": {},
   "outputs": [
    {
     "data": {
      "text/plain": [
       "([datetime.datetime(2013, 10, 1, 0, 0),\n",
       "  datetime.datetime(2013, 10, 2, 0, 0),\n",
       "  datetime.datetime(2013, 10, 3, 0, 0),\n",
       "  datetime.datetime(2013, 10, 4, 0, 0),\n",
       "  datetime.datetime(2013, 10, 5, 0, 0),\n",
       "  datetime.datetime(2013, 10, 6, 0, 0),\n",
       "  datetime.datetime(2013, 10, 7, 0, 0),\n",
       "  datetime.datetime(2013, 10, 8, 0, 0),\n",
       "  datetime.datetime(2013, 10, 9, 0, 0),\n",
       "  datetime.datetime(2013, 10, 10, 0, 0)],\n",
       " [123.65499,\n",
       "  125.455,\n",
       "  108.58483,\n",
       "  118.67466,\n",
       "  121.33866,\n",
       "  120.65533,\n",
       "  121.795,\n",
       "  123.033,\n",
       "  124.049,\n",
       "  125.96116])"
      ]
     },
     "execution_count": 7,
     "metadata": {},
     "output_type": "execute_result"
    }
   ],
   "source": [
    "# Importing and formatting historical Bitcoin data with Python\n",
    "import csv\n",
    "from datetime import datetime\n",
    "\n",
    "timesteps = []\n",
    "btc_price = []\n",
    "with open(\"bitcoin_price.csv\", \"r\") as f:\n",
    "    csv_reader = csv.reader(f, delimiter=\",\")\n",
    "    next(csv_reader) # Skip the header\n",
    "    for line in csv_reader:\n",
    "        timesteps.append(datetime.strptime(line[1], \"%Y-%m-%d\")) # get the dates as dates (not strings)\n",
    "        btc_price.append(float(line[2])) # get the bitcoin price as float\n",
    "\n",
    "# View first 10 of each\n",
    "timesteps[:10], btc_price[:10]"
   ]
  },
  {
   "cell_type": "code",
   "execution_count": 8,
   "id": "b66fb40d",
   "metadata": {},
   "outputs": [
    {
     "data": {
      "image/png": "[encoded data removed]",
      "text/plain": [
       "<Figure size 1000x700 with 1 Axes>"
      ]
     },
     "metadata": {},
     "output_type": "display_data"
    }
   ],
   "source": [
    "# Plot from CSV\n",
    "import matplotlib.pyplot as plt\n",
    "import numpy as np\n",
    "\n",
    "plt.figure(figsize=(10, 7))\n",
    "plt.plot(timesteps, btc_price)\n",
    "plt.ylabel('BTC Price')\n",
    "plt.title('Price of Bitcoin from 1 Oct 2013 to 18 May 2021', fontsize=16)\n",
    "plt.xlabel('Date')\n",
    "plt.show()"
   ]
  },
  {
   "cell_type": "markdown",
   "id": "cde748e6",
   "metadata": {},
   "source": [
    "## Format data part 1: Create train and test sets of our time series data"
   ]
  },
  {
   "cell_type": "markdown",
   "id": "719aa139",
   "metadata": {},
   "source": [
    "### Creating train and test sets with time series data (the wrong way)"
   ]
  },
  {
   "cell_type": "code",
   "execution_count": 9,
   "id": "65ba12b5",
   "metadata": {},
   "outputs": [
    {
     "data": {
      "text/plain": [
       "(array(['2013-10-01T00:00:00.000000000', '2013-10-02T00:00:00.000000000',\n",
       "        '2013-10-03T00:00:00.000000000', '2013-10-04T00:00:00.000000000',\n",
       "        '2013-10-05T00:00:00.000000000', '2013-10-06T00:00:00.000000000',\n",
       "        '2013-10-07T00:00:00.000000000', '2013-10-08T00:00:00.000000000',\n",
       "        '2013-10-09T00:00:00.000000000', '2013-10-10T00:00:00.000000000'],\n",
       "       dtype='datetime64[ns]'),\n",
       " array([123.65499, 125.455  , 108.58483, 118.67466, 121.33866, 120.65533,\n",
       "        121.795  , 123.033  , 124.049  , 125.96116]))"
      ]
     },
     "execution_count": 9,
     "metadata": {},
     "output_type": "execute_result"
    }
   ],
   "source": [
    "# Get bitcoin date array\n",
    "timesteps = bitcoin_prices.index.to_numpy()\n",
    "prices = bitcoin_prices['Price'].to_numpy()\n",
    "\n",
    "timesteps[:10], prices[:10]"
   ]
  },
  {
   "cell_type": "code",
   "execution_count": 10,
   "id": "acd8af70",
   "metadata": {},
   "outputs": [
    {
     "data": {
      "text/plain": [
       "((2229,), (558,), (2229,), (558,))"
      ]
     },
     "execution_count": 10,
     "metadata": {},
     "output_type": "execute_result"
    }
   ],
   "source": [
    "# Wrong way to make train/test sets for time series data\n",
    "from sklearn.model_selection import train_test_split\n",
    "\n",
    "X_train, X_test, y_train, y_test = train_test_split(timesteps, # dates\n",
    "                                                    prices, # BTC price\n",
    "                                                    test_size=0.2,\n",
    "                                                    random_state=42)\n",
    "\n",
    "X_train.shape, X_test.shape, y_train.shape, y_test.shape"
   ]
  },
  {
   "cell_type": "code",
   "execution_count": 11,
   "id": "1c2db7b5",
   "metadata": {},
   "outputs": [
    {
     "data": {
      "image/png": "[encoded data removed]",
      "text/plain": [
       "<Figure size 1000x700 with 1 Axes>"
      ]
     },
     "metadata": {},
     "output_type": "display_data"
    }
   ],
   "source": [
    "# Let's plot wrong train and test splits\n",
    "plt.figure(figsize=(10, 7))\n",
    "plt.scatter(X_train, y_train, s=5, label='Train data')\n",
    "plt.scatter(X_test, y_test, s=5, label='Test data')\n",
    "plt.xlabel('Data')\n",
    "plt.ylabel('BTC Price')\n",
    "plt.legend(fontsize=14)\n",
    "plt.show()"
   ]
  },
  {
   "cell_type": "markdown",
   "id": "d9c27238",
   "metadata": {},
   "source": [
    "### Create train and test sets for time series (the right way)"
   ]
  },
  {
   "cell_type": "code",
   "execution_count": 12,
   "id": "ba8ec97e",
   "metadata": {},
   "outputs": [
    {
     "data": {
      "text/plain": [
       "(2229, 558, 2229, 558)"
      ]
     },
     "execution_count": 12,
     "metadata": {},
     "output_type": "execute_result"
    }
   ],
   "source": [
    "# Create train and test splits the right way for time series data\n",
    "split_size = int(0.8 * len(prices)) # 80% train, 20% test\n",
    "\n",
    "# Create train data splits (everything before the splits)\n",
    "X_train, y_train = timesteps[:split_size], prices[:split_size]\n",
    "\n",
    "# Create test data splits (everything beyond the split)\n",
    "X_test, y_test = timesteps[split_size:], prices[split_size:]\n",
    "\n",
    "len(X_train), len(X_test), len(y_train), len(y_test)"
   ]
  },
  {
   "cell_type": "code",
   "execution_count": 13,
   "id": "d7b4d4cd",
   "metadata": {},
   "outputs": [
    {
     "data": {
      "image/png": "[encoded data removed]",
      "text/plain": [
       "<Figure size 1000x700 with 1 Axes>"
      ]
     },
     "metadata": {},
     "output_type": "display_data"
    }
   ],
   "source": [
    "# Plto with the correctly splits\n",
    "plt.figure(figsize=(10, 7))\n",
    "plt.scatter(X_train, y_train, s=5, label='Train data')\n",
    "plt.scatter(X_test, y_test, s=5, label='Test data')\n",
    "plt.xlabel('Data')\n",
    "plt.ylabel('BTC Price')\n",
    "plt.legend(fontsize=14)\n",
    "plt.show()"
   ]
  },
  {
   "cell_type": "markdown",
   "id": "864cc198",
   "metadata": {},
   "source": [
    "## Create a plotting function"
   ]
  },
  {
   "cell_type": "code",
   "execution_count": 14,
   "id": "4289393c",
   "metadata": {},
   "outputs": [],
   "source": [
    "# Create a function to plot time series data\n",
    "def plot_time_series(timesteps, values, format=\".\", start=0, end=None, label=None):\n",
    "    \"\"\"\n",
    "    Plots timesteps (a series of points in time) against values (a series of values across timesteps).\n",
    "\n",
    "    Parameters:\n",
    "    -----------\n",
    "    timesteps: array of timestep values\n",
    "    values: array of values across time\n",
    "    format: style of plot, default \".\"\n",
    "    start: where to start the plot (setting a value will index from start of timesteps and values)\n",
    "    end: where to end the plot\n",
    "    label: label to show on plot about values\n",
    "    \"\"\"\n",
    "    # Plot the series\n",
    "    plt.plot(timesteps[start:end], values[start:end], format, label=label)\n",
    "    plt.xlabel(\"Time\")\n",
    "    plt.ylabel(\"BTC Price\")\n",
    "    if label:\n",
    "        plt.legend(fontsize=14)\n",
    "    plt.grid(True)"
   ]
  },
  {
   "cell_type": "code",
   "execution_count": 15,
   "id": "8a5a9712",
   "metadata": {},
   "outputs": [
    {
     "data": {
      "image/png": "[encoded data removed]",
      "text/plain": [
       "<Figure size 1000x700 with 1 Axes>"
      ]
     },
     "metadata": {},
     "output_type": "display_data"
    }
   ],
   "source": [
    "# Test out plotting function\n",
    "plt.figure(figsize=(10, 7))\n",
    "plot_time_series(timesteps=X_train, values=y_train, label=\"Train data\")\n",
    "plot_time_series(timesteps=X_test, values=y_test, label=\"Test data\")"
   ]
  },
  {
   "cell_type": "markdown",
   "id": "d35ca8ea",
   "metadata": {},
   "source": [
    "## Modelling Experiments\n",
    "\n",
    "We have got some Bitcoin historical data, to model it, let's run a series of modelling experiments and see which model performs best.\n",
    "\n",
    "Terms to be familiar with:\n",
    "\n",
    "* **Horizon** = number of timesteps into the future we are going to predict\n",
    "* **Window size** = number of timesteps we are going to use to predict **horizon**\n",
    "\n",
    "Modelling experiments we are running:\n",
    "\n",
    "1. Naïve model (baseline)\n",
    "2. Dense Model, horizon = 1, window = 7\n",
    "3. Dense Model, horizon = 1, window = 30\n",
    "4. Dense Model, horizon = 7, window = 30\n",
    "5. Conv1D\n",
    "6. LSTM\n",
    "7. Dense Model, horizon = 1, window = 7 (but with multivariate data)\n",
    "8. N-BEATs Algorithm\n",
    "9. Ensemble (multiple models optimized stacked together)\n",
    "10. Future prediction model\n",
    "11. Dense Model (but with turkey data introduced) "
   ]
  },
  {
   "cell_type": "markdown",
   "id": "fc58f85b",
   "metadata": {},
   "source": [
    "## Model 0: Naive forecast (baseline)\n",
    "\n",
    "The formula looks like this:\n",
    "\n",
    "$$\\hat{y}_{t} = y_{t-1}$$\n",
    "\n",
    "In English:\n",
    "\n",
    "> The prediction at timestep t (y-hat) is equal to the value at timestep t-1 (previous step) - this is for horizon of 1."
   ]
  },
  {
   "cell_type": "code",
   "execution_count": 16,
   "id": "66850391",
   "metadata": {},
   "outputs": [
    {
     "data": {
      "text/plain": [
       "(array([9226.48582088, 8794.35864452, 8798.04205463, 9081.18687849,\n",
       "        8711.53433917, 8760.89271814, 8749.52059102, 8656.97092235,\n",
       "        8500.64355816, 8469.2608989 ]),\n",
       " array([57107.12067189, 58788.20967893, 58102.19142623, 55715.54665129,\n",
       "        56573.5554719 , 52147.82118698, 49764.1320816 , 50032.69313676,\n",
       "        47885.62525472, 45604.61575361]))"
      ]
     },
     "execution_count": 16,
     "metadata": {},
     "output_type": "execute_result"
    }
   ],
   "source": [
    "# Create a naive forecast\n",
    "naive_forecast = y_test[:-1]\n",
    "\n",
    "naive_forecast[:10], naive_forecast[-10:]"
   ]
  },
  {
   "cell_type": "code",
   "execution_count": 17,
   "id": "f978017f",
   "metadata": {},
   "outputs": [
    {
     "data": {
      "image/png": "[encoded data removed]",
      "text/plain": [
       "<Figure size 1000x700 with 1 Axes>"
      ]
     },
     "metadata": {},
     "output_type": "display_data"
    }
   ],
   "source": [
    "# Plot naive forecast\n",
    "plt.figure(figsize=(10, 7))\n",
    "plot_time_series(timesteps=X_train, values=y_train, label=\"Train data\")\n",
    "plot_time_series(timesteps=X_test, values=y_test, label=\"Test data\")\n",
    "plot_time_series(timesteps=X_test[1:], values=naive_forecast, format=\"-\", label=\"Naive Forecast\")"
   ]
  },
  {
   "cell_type": "markdown",
   "id": "aa45efec",
   "metadata": {},
   "source": [
    "## Evaluating a time series model\n",
    "\n",
    "Let's look into some evaluation metrics for time series forecasting.\n",
    "\n",
    "What are we doing? We are predicting a number, so that means we have a form of a regression problem.\n",
    "\n",
    "Because we are working on a regression problem, we will need some regression-like metrics.\n",
    "\n",
    "A few common regression metrics which can also be used for time series forecasting:\n",
    "\n",
    "* MAE - mean absolute error\n",
    "* MSE - mean squared error\n",
    "* RMSE - root mean square error\n",
    "* MAPE - mean absolute percentage error\n",
    "* MASE - mean absolute scaled error\n",
    "\n",
    "For all the above metrics, **lower is better**.\n",
    "\n",
    "The main thing we are evaluating here is: **how do our model's forecast (y_pred) compare against the actual values (y_true or ground truth values)?** "
   ]
  },
  {
   "cell_type": "code",
   "execution_count": 18,
   "id": "42bb23f5",
   "metadata": {},
   "outputs": [],
   "source": [
    "import tensorflow as tf"
   ]
  },
  {
   "cell_type": "code",
   "execution_count": 19,
   "id": "ae9e9f59",
   "metadata": {},
   "outputs": [],
   "source": [
    "# MASE implementation\n",
    "def mean_absolute_scaled_error(y_true, y_pred):\n",
    "    \"\"\"\n",
    "    Implement MASE (assuming no seasonality of data).\n",
    "    \"\"\"\n",
    "    mae = tf.reduce_mean(tf.abs(y_true - y_pred))\n",
    "\n",
    "    # Find MAE of naive forecast (no seasonality)\n",
    "    mae_naive_no_season = tf.reduce_mean(tf.abs(y_true[1:] - y_true[:-1])) # our seasonality is 1 day (hence the shift of 1)\n",
    "\n",
    "    return mae / mae_naive_no_season"
   ]
  },
  {
   "cell_type": "code",
   "execution_count": 20,
   "id": "0d85bb57",
   "metadata": {},
   "outputs": [
    {
     "data": {
      "text/plain": [
       "0.9995699939182624"
      ]
     },
     "execution_count": 20,
     "metadata": {},
     "output_type": "execute_result"
    }
   ],
   "source": [
    "mean_absolute_scaled_error(y_true=y_test[1:], y_pred=naive_forecast).numpy()"
   ]
  },
  {
   "cell_type": "code",
   "execution_count": 21,
   "id": "a06fe4df",
   "metadata": {},
   "outputs": [],
   "source": [
    "# Create a function to take in model predictions and truth values and return evaluation metrics\n",
    "def evaluate_preds(y_true, y_pred):\n",
    "    # Make sure float32 datatype (for metric calculation)\n",
    "    y_true = tf.cast(y_true, dtype=tf.float32)\n",
    "    y_pred = tf.cast(y_pred, dtype=tf.float32)\n",
    "\n",
    "    # Calculate various evaluation metrics\n",
    "    mae = tf.keras.metrics.mean_absolute_error(y_true, y_pred)\n",
    "    mse = tf.keras.metrics.mean_squared_error(y_true, y_pred)\n",
    "    rmse = tf.sqrt(mse)\n",
    "    mape = tf.keras.metrics.mean_absolute_percentage_error(y_true, y_pred)\n",
    "    mase = mean_absolute_scaled_error(y_true, y_pred)\n",
    "\n",
    "    return {\n",
    "        \"mae\": mae.numpy(),\n",
    "        \"mse\": mse.numpy(),\n",
    "        \"rmse\": rmse.numpy(),\n",
    "        \"mape\": mape.numpy(),\n",
    "        \"mase\": mase.numpy()\n",
    "    }"
   ]
  },
  {
   "cell_type": "code",
   "execution_count": 22,
   "id": "5702372e",
   "metadata": {},
   "outputs": [
    {
     "data": {
      "text/plain": [
       "{'mae': 567.9802,\n",
       " 'mse': 1147547.0,\n",
       " 'rmse': 1071.2362,\n",
       " 'mape': 2.516525,\n",
       " 'mase': 0.99957}"
      ]
     },
     "execution_count": 22,
     "metadata": {},
     "output_type": "execute_result"
    }
   ],
   "source": [
    "# Let's now see if it works\n",
    "naive_results = evaluate_preds(y_true=y_test[1:],\n",
    "                               y_pred=naive_forecast)\n",
    "naive_results"
   ]
  },
  {
   "cell_type": "code",
   "execution_count": 23,
   "id": "5990a758",
   "metadata": {},
   "outputs": [
    {
     "data": {
      "text/plain": [
       "<tf.Tensor: shape=(), dtype=float64, numpy=20056.632963737222>"
      ]
     },
     "execution_count": 23,
     "metadata": {},
     "output_type": "execute_result"
    }
   ],
   "source": [
    "tf.reduce_mean(y_test)"
   ]
  },
  {
   "cell_type": "code",
   "execution_count": 24,
   "id": "10a3612b",
   "metadata": {},
   "outputs": [
    {
     "data": {
      "text/plain": [
       "(<tf.Tensor: shape=(), dtype=float64, numpy=4944.7023359837>,\n",
       " <tf.Tensor: shape=(), dtype=float64, numpy=63346.7890351052>)"
      ]
     },
     "execution_count": 24,
     "metadata": {},
     "output_type": "execute_result"
    }
   ],
   "source": [
    "tf.reduce_min(y_test), tf.reduce_max(y_test)"
   ]
  },
  {
   "cell_type": "markdown",
   "id": "86f95069",
   "metadata": {},
   "source": [
    "## Others Models for Time Series Forecasting\n",
    "\n",
    "In this notebook we are going to use only neural networks for time series forecasting, but there are a plenty of models used in the industry or as a baseline model you can use."
   ]
  },
  {
   "attachments": {
    "image.png": {
     "image/png": "[encoded data removed]"
    }
   },
   "cell_type": "markdown",
   "id": "c393aa09",
   "metadata": {},
   "source": [
    "![image.png](attachment:image.png)"
   ]
  },
  {
   "cell_type": "markdown",
   "id": "21c7fa33",
   "metadata": {},
   "source": [
    "## Format Data Part 2: Windowing our dataset\n",
    "\n",
    "Why do we window?\n",
    "\n",
    "We window our time series dataset to turn our data into a supervised learning problem.\n",
    "\n",
    "```\n",
    "Windowing for one week\n",
    "[0, 1, 2, 3, 4, 5, 6] --> [7]\n",
    "[1, 2, 3, 4, 5, 6, 7] --> [8]\n",
    "[2, 3, 4, 5, 6, 7, 8] --> [9]\n",
    "```"
   ]
  },
  {
   "cell_type": "code",
   "execution_count": 25,
   "id": "8b6f42f1",
   "metadata": {},
   "outputs": [
    {
     "data": {
      "text/plain": [
       "2229"
      ]
     },
     "execution_count": 25,
     "metadata": {},
     "output_type": "execute_result"
    }
   ],
   "source": [
    "len(y_train)"
   ]
  },
  {
   "cell_type": "code",
   "execution_count": 26,
   "id": "1b9651aa",
   "metadata": {},
   "outputs": [
    {
     "name": "stdout",
     "output_type": "stream",
     "text": [
      "We want to use: [123.65499, 125.455, 108.58483, 118.67466, 121.33866, 120.65533, 121.795] to predict this: 123.033\n"
     ]
    }
   ],
   "source": [
    "# What we want to do with our Bitcoin data\n",
    "print(f\"We want to use: {btc_price[:7]} to predict this: {btc_price[7]}\")"
   ]
  },
  {
   "cell_type": "code",
   "execution_count": 27,
   "id": "17089829",
   "metadata": {},
   "outputs": [],
   "source": [
    "# Let's setup global variables for window and horizon size\n",
    "HORIZON = 1 # predict next 1 day\n",
    "WINDOW_SIZE = 7 # use the past week of Bitcoin data to make the prediction"
   ]
  },
  {
   "cell_type": "code",
   "execution_count": 28,
   "id": "4e6e7d48",
   "metadata": {},
   "outputs": [],
   "source": [
    "# Create function to label window data\n",
    "def get_labelled_windows(x, horizon=HORIZON):\n",
    "    \"\"\"\n",
    "    Creates labels for windowed dataset.\n",
    "\n",
    "    E.g. if horizon = 1 --> Input: [0, 1, 2, 3, 4, 5, 6, 7] --> Output: ([0, 1, 2, 3, 4, 5, 6, 7], [7])\n",
    "    \"\"\"\n",
    "    return x[:, :-horizon], x[:, -horizon:]"
   ]
  },
  {
   "cell_type": "code",
   "execution_count": 29,
   "id": "6dcfa33b",
   "metadata": {},
   "outputs": [
    {
     "name": "stdout",
     "output_type": "stream",
     "text": [
      "Window: [0 1 2 3 4 5 6] -> Label: 7\n"
     ]
    }
   ],
   "source": [
    "# Test out the window labelling function\n",
    "test_window, test_label = get_labelled_windows(tf.expand_dims(tf.range(8), axis = 0))\n",
    "print(f\"Window: {tf.squeeze(test_window).numpy()} -> Label: {tf.squeeze(test_label).numpy()}\")"
   ]
  },
  {
   "cell_type": "markdown",
   "id": "0d51bd96",
   "metadata": {},
   "source": [
    "We have got a way to label our windowed data.\n",
    "\n",
    "However, this only works on a small scale.\n",
    "\n",
    "We need a way to do the above across our entire time series.\n",
    "\n",
    "We could do this with Python for loops, however, for large time series, that'd be quite slow.\n",
    "\n",
    "To speed things up, we will leverage NumPy's array indexing.\n",
    "\n",
    "Our function will:\n",
    "1. Create a window step of specific window size.\n",
    "2. It will numpy indexing to create a 2D array of multiple window steps, for example:\n",
    "```\n",
    "[\n",
    "    [0, 1, 2, 3, 4, 5, 6],\n",
    "    [1, 2, 3, 4, 5, 6, 7],\n",
    "    [2, 3, 4, 5, 6, 7, 8]\n",
    "]\n",
    "```\n",
    "3. Uses the 2D array of multiple window steps (from 2.) to index on a target series.\n",
    "4. Uses our `get_labelled_windows()` function we created above to turn the window steps into windows with specified horizon."
   ]
  },
  {
   "cell_type": "code",
   "execution_count": 30,
   "id": "83361e19",
   "metadata": {},
   "outputs": [],
   "source": [
    "import numpy as np\n",
    "\n",
    "# Create function to view NumPy arrays as windows\n",
    "def make_windows(x, window_size=WINDOW_SIZE, horizon=HORIZON):\n",
    "    \"\"\"\n",
    "    Turns a 1D into a 2D array of sequential labelled windows of window_size with horizon size labels.\n",
    "    \"\"\"\n",
    "    # 1. Create a window of specific window_size (add the horzion on the end for labelling later)\n",
    "    window_step = np.expand_dims(np.arange(window_size + horizon), axis=0)\n",
    "\n",
    "    # 2. Create a 2D array of multiple window steps (minus 1 to account for 0 indexing)\n",
    "    window_indexes = window_step + np.expand_dims(np.arange(len(x) - (window_size + horizon - 1)), axis=0).T # create 2D array of windows of size window_siz\n",
    "\n",
    "    # 3. Index on the target array (a time series) with 2D array of multiple window steps\n",
    "    windowed_array = x[window_indexes]\n",
    "\n",
    "    # 4. Get the labelled windows\n",
    "    windows, labels = get_labelled_windows(windowed_array, horizon=horizon)\n",
    "\n",
    "    return windows, labels"
   ]
  },
  {
   "cell_type": "code",
   "execution_count": 31,
   "id": "232bacdc",
   "metadata": {},
   "outputs": [
    {
     "data": {
      "text/plain": [
       "(2780, 2780)"
      ]
     },
     "execution_count": 31,
     "metadata": {},
     "output_type": "execute_result"
    }
   ],
   "source": [
    "full_windows, full_labels = make_windows(prices, window_size=WINDOW_SIZE, horizon=HORIZON)\n",
    "len(full_windows), len(full_labels)"
   ]
  },
  {
   "cell_type": "code",
   "execution_count": 32,
   "id": "cdbdb2e9",
   "metadata": {},
   "outputs": [
    {
     "name": "stdout",
     "output_type": "stream",
     "text": [
      "Window: [123.65499 125.455   108.58483 118.67466 121.33866 120.65533 121.795  ] -> Label: [123.033]\n",
      "Window: [125.455   108.58483 118.67466 121.33866 120.65533 121.795   123.033  ] -> Label: [124.049]\n",
      "Window: [108.58483 118.67466 121.33866 120.65533 121.795   123.033   124.049  ] -> Label: [125.96116]\n"
     ]
    }
   ],
   "source": [
    "# View the first 3 windows/labels\n",
    "for i in range(3):\n",
    "    print(f'Window: {full_windows[i]} -> Label: {full_labels[i]}')"
   ]
  },
  {
   "cell_type": "code",
   "execution_count": 33,
   "id": "59151d16",
   "metadata": {},
   "outputs": [
    {
     "name": "stdout",
     "output_type": "stream",
     "text": [
      "Window: [58788.20967893 58102.19142623 55715.54665129 56573.5554719\n",
      " 52147.82118698 49764.1320816  50032.69313676] -> Label: [47885.62525472]\n",
      "Window: [58102.19142623 55715.54665129 56573.5554719  52147.82118698\n",
      " 49764.1320816  50032.69313676 47885.62525472] -> Label: [45604.61575361]\n",
      "Window: [55715.54665129 56573.5554719  52147.82118698 49764.1320816\n",
      " 50032.69313676 47885.62525472 45604.61575361] -> Label: [43144.47129086]\n"
     ]
    }
   ],
   "source": [
    "# View the last 3 windows/labels\n",
    "for i in range(3):\n",
    "    print(f'Window: {full_windows[i-3]} -> Label: {full_labels[i-3]}')"
   ]
  },
  {
   "cell_type": "markdown",
   "id": "1b663e8c",
   "metadata": {},
   "source": [
    "## Turning windows into training and test sets"
   ]
  },
  {
   "cell_type": "code",
   "execution_count": 34,
   "id": "9f0fcf2b",
   "metadata": {},
   "outputs": [],
   "source": [
    "# Make the train/test splits\n",
    "def make_train_test_splits(windows, labels, test_split=0.2):\n",
    "    \"\"\"\n",
    "    Splits matching pairs of windows and labels into train an test splits.\n",
    "    \"\"\"\n",
    "    splits_size = int(len(windows) * (1 - test_split)) # this will default 80% train / 20% test\n",
    "    train_windows = windows[:split_size]\n",
    "    train_labels = labels[:split_size]\n",
    "    test_windows = windows[split_size:]\n",
    "    test_labels = labels[split_size:]\n",
    "    return train_windows, test_windows, train_labels, test_labels"
   ]
  },
  {
   "cell_type": "code",
   "execution_count": 35,
   "id": "bef31773",
   "metadata": {},
   "outputs": [
    {
     "data": {
      "text/plain": [
       "(2229, 551, 2229, 551)"
      ]
     },
     "execution_count": 35,
     "metadata": {},
     "output_type": "execute_result"
    }
   ],
   "source": [
    "train_windows, test_windows, train_labels, test_labels = make_train_test_splits(full_windows, full_labels)\n",
    "len(train_windows), len(test_windows), len(train_labels), len(test_labels)"
   ]
  },
  {
   "cell_type": "code",
   "execution_count": 36,
   "id": "d76eb571",
   "metadata": {},
   "outputs": [
    {
     "data": {
      "text/plain": [
       "True"
      ]
     },
     "execution_count": 36,
     "metadata": {},
     "output_type": "execute_result"
    }
   ],
   "source": [
    "np.array_equal(np.squeeze(train_labels[:-HORIZON-6]), y_train[WINDOW_SIZE:])"
   ]
  },
  {
   "cell_type": "markdown",
   "id": "31d4b47c",
   "metadata": {},
   "source": [
    "## Make a modelling checkpoint callback\n",
    "\n",
    "Because our model's performance will fluctuate from experiment to experiment, we're going to write a model checkpoint so we can compare apples to apples.\n",
    "\n",
    "More specifically, we want to compare each of our model's best performances against the other model's best performances.\n",
    "\n",
    "For example if our model performs the best on epoch 55 (but we are training for 100 epochs), we want to load and evaluate the model saved on epoch 55.\n",
    "\n",
    "We can create modelling checkpoint callback using the following: https://www.tensorflow.org/api_docs/python/tf/keras/callbacks/ModelCheckpoint"
   ]
  },
  {
   "cell_type": "code",
   "execution_count": 37,
   "id": "5fe80ecc",
   "metadata": {},
   "outputs": [],
   "source": [
    "import os\n",
    "\n",
    "# Create a function to implement a ModelCheckpoint callback with a specific filename\n",
    "def create_model_checkpoint(model_name, save_path='model_experiments'):\n",
    "    return tf.keras.callbacks.ModelCheckpoint(filepath=os.path.join(save_path, model_name),\n",
    "                                              monitor='val_loss',\n",
    "                                              verbose=0, # only output a limited amount of text\n",
    "                                              save_best_only=True)"
   ]
  },
  {
   "cell_type": "markdown",
   "id": "4f378620",
   "metadata": {},
   "source": [
    "## Model 1: Dense Model (window = 7, horizon = 1)\n",
    "\n",
    "Our first deep model is going to be a simple dense model:\n",
    "\n",
    "* A single dense layer with 128 hidden units and ReLU\n",
    "* An output layer with linear activation (no activation)\n",
    "* Adam optimization and MAE loss function\n",
    "* Batch size of 128 (previously we have used 32)\n",
    "* 100 epochs\n",
    "\n",
    "Why these values?\n",
    "\n",
    "I picked them out of experimentation."
   ]
  },
  {
   "cell_type": "code",
   "execution_count": 38,
   "id": "2ee5065e",
   "metadata": {},
   "outputs": [
    {
     "name": "stdout",
     "output_type": "stream",
     "text": [
      "Epoch 1/100\n",
      "10/18 [===============>..............] - ETA: 0s - loss: 1619.6194 - mae: 1619.6194 - mse: 7288831.0000   INFO:tensorflow:Assets written to: model_experiments\\model_1_dense\\assets\n",
      "18/18 [==============================] - 5s 84ms/step - loss: 1078.1106 - mae: 1078.1106 - mse: 4371994.5000 - val_loss: 2947.3828 - val_mae: 2947.3828 - val_mse: 18611072.0000\n",
      "Epoch 2/100\n",
      "18/18 [==============================] - ETA: 0s - loss: 268.2770 - mae: 268.2770 - mse: 289301.5938INFO:tensorflow:Assets written to: model_experiments\\model_1_dense\\assets\n",
      "18/18 [==============================] - 1s 61ms/step - loss: 268.2770 - mae: 268.2770 - mse: 289301.5938 - val_loss: 955.7018 - val_mae: 955.7018 - val_mse: 2835958.5000\n",
      "Epoch 3/100\n",
      " 9/18 [==============>...............] - ETA: 0s - loss: 180.8332 - mae: 180.8332 - mse: 179685.4688INFO:tensorflow:Assets written to: model_experiments\\model_1_dense\\assets\n",
      "18/18 [==============================] - 1s 54ms/step - loss: 170.6111 - mae: 170.6111 - mse: 150483.3125 - val_loss: 890.1728 - val_mae: 890.1728 - val_mse: 2540538.5000\n",
      "Epoch 4/100\n",
      " 9/18 [==============>...............] - ETA: 0s - loss: 159.9756 - mae: 159.9756 - mse: 134315.8438INFO:tensorflow:Assets written to: model_experiments\\model_1_dense\\assets\n",
      "18/18 [==============================] - 1s 67ms/step - loss: 155.8270 - mae: 155.8270 - mse: 129477.9609 - val_loss: 829.6341 - val_mae: 829.6341 - val_mse: 2268265.0000\n",
      "Epoch 5/100\n",
      "18/18 [==============================] - 0s 12ms/step - loss: 147.9121 - mae: 147.9121 - mse: 117958.4141 - val_loss: 861.0193 - val_mae: 861.0193 - val_mse: 2236632.7500\n",
      "Epoch 6/100\n",
      " 9/18 [==============>...............] - ETA: 0s - loss: 140.4514 - mae: 140.4514 - mse: 110043.0000INFO:tensorflow:Assets written to: model_experiments\\model_1_dense\\assets\n",
      "18/18 [==============================] - 1s 51ms/step - loss: 142.8653 - mae: 142.8653 - mse: 112112.9766 - val_loss: 785.0432 - val_mae: 785.0432 - val_mse: 2010946.0000\n",
      "Epoch 7/100\n",
      "10/18 [===============>..............] - ETA: 0s - loss: 132.9384 - mae: 132.9384 - mse: 105394.5234INFO:tensorflow:Assets written to: model_experiments\\model_1_dense\\assets\n",
      "18/18 [==============================] - 1s 53ms/step - loss: 139.5450 - mae: 139.5450 - mse: 108066.0859 - val_loss: 770.7104 - val_mae: 770.7104 - val_mse: 1908067.0000\n",
      "Epoch 8/100\n",
      "15/18 [========================>.....] - ETA: 0s - loss: 136.3178 - mae: 136.3178 - mse: 106855.7266INFO:tensorflow:Assets written to: model_experiments\\model_1_dense\\assets\n",
      "18/18 [==============================] - 1s 56ms/step - loss: 135.7405 - mae: 135.7405 - mse: 103571.8750 - val_loss: 765.7928 - val_mae: 765.7928 - val_mse: 1848099.2500\n",
      "Epoch 9/100\n",
      "18/18 [==============================] - 0s 11ms/step - loss: 132.9250 - mae: 132.9250 - mse: 100125.3828 - val_loss: 812.4116 - val_mae: 812.4116 - val_mse: 1948638.8750\n",
      "Epoch 10/100\n",
      " 9/18 [==============>...............] - ETA: 0s - loss: 134.2801 - mae: 134.2801 - mse: 100371.0156INFO:tensorflow:Assets written to: model_experiments\\model_1_dense\\assets\n",
      "18/18 [==============================] - 1s 55ms/step - loss: 133.0519 - mae: 133.0519 - mse: 98321.7422 - val_loss: 714.3332 - val_mae: 714.3333 - val_mse: 1684377.3750\n",
      "Epoch 11/100\n",
      "18/18 [==============================] - 0s 10ms/step - loss: 130.5312 - mae: 130.5312 - mse: 94682.3359 - val_loss: 726.9888 - val_mae: 726.9888 - val_mse: 1675507.5000\n",
      "Epoch 12/100\n",
      "18/18 [==============================] - ETA: 0s - loss: 131.0768 - mae: 131.0768 - mse: 95156.3984 INFO:tensorflow:Assets written to: model_experiments\\model_1_dense\\assets\n",
      "18/18 [==============================] - 1s 56ms/step - loss: 131.0768 - mae: 131.0768 - mse: 95156.3984 - val_loss: 705.9638 - val_mae: 705.9638 - val_mse: 1612539.1250\n",
      "Epoch 13/100\n",
      "11/18 [=================>............] - ETA: 0s - loss: 116.6964 - mae: 116.6964 - mse: 75709.5078INFO:tensorflow:Assets written to: model_experiments\\model_1_dense\\assets\n",
      "18/18 [==============================] - 1s 50ms/step - loss: 126.7277 - mae: 126.7277 - mse: 92529.4453 - val_loss: 678.4224 - val_mae: 678.4224 - val_mse: 1547684.5000\n",
      "Epoch 14/100\n",
      "11/18 [=================>............] - ETA: 0s - loss: 125.4219 - mae: 125.4219 - mse: 91170.4062 INFO:tensorflow:Assets written to: model_experiments\\model_1_dense\\assets\n",
      "18/18 [==============================] - 1s 57ms/step - loss: 123.7936 - mae: 123.7936 - mse: 89562.6250 - val_loss: 667.8089 - val_mae: 667.8089 - val_mse: 1516178.0000\n",
      "Epoch 15/100\n",
      "18/18 [==============================] - 0s 11ms/step - loss: 124.3047 - mae: 124.3047 - mse: 89900.4375 - val_loss: 679.1912 - val_mae: 679.1912 - val_mse: 1556656.7500\n",
      "Epoch 16/100\n",
      "12/18 [===================>..........] - ETA: 0s - loss: 134.5426 - mae: 134.5426 - mse: 92997.8203 INFO:tensorflow:Assets written to: model_experiments\\model_1_dense\\assets\n",
      "18/18 [==============================] - 1s 54ms/step - loss: 133.3697 - mae: 133.3697 - mse: 95404.5469 - val_loss: 657.5430 - val_mae: 657.5430 - val_mse: 1480976.2500\n",
      "Epoch 17/100\n",
      " 9/18 [==============>...............] - ETA: 0s - loss: 127.7496 - mae: 127.7496 - mse: 81148.4375INFO:tensorflow:Assets written to: model_experiments\\model_1_dense\\assets\n",
      "18/18 [==============================] - 1s 54ms/step - loss: 128.7659 - mae: 128.7659 - mse: 89108.2891 - val_loss: 651.2852 - val_mae: 651.2852 - val_mse: 1446517.5000\n",
      "Epoch 18/100\n",
      "18/18 [==============================] - 0s 11ms/step - loss: 120.2697 - mae: 120.2697 - mse: 84476.1484 - val_loss: 659.0547 - val_mae: 659.0547 - val_mse: 1449103.8750\n",
      "Epoch 19/100\n",
      "18/18 [==============================] - ETA: 0s - loss: 119.5933 - mae: 119.5933 - mse: 84720.4922INFO:tensorflow:Assets written to: model_experiments\\model_1_dense\\assets\n",
      "18/18 [==============================] - 1s 57ms/step - loss: 119.5933 - mae: 119.5933 - mse: 84720.4922 - val_loss: 649.9409 - val_mae: 649.9409 - val_mse: 1446910.7500\n",
      "Epoch 20/100\n",
      "11/18 [=================>............] - ETA: 0s - loss: 121.3727 - mae: 121.3727 - mse: 82524.2188 INFO:tensorflow:Assets written to: model_experiments\\model_1_dense\\assets\n",
      "18/18 [==============================] - 1s 57ms/step - loss: 123.0477 - mae: 123.0477 - mse: 85656.4219 - val_loss: 637.4696 - val_mae: 637.4696 - val_mse: 1399644.7500\n",
      "Epoch 21/100\n",
      "18/18 [==============================] - 0s 11ms/step - loss: 120.6774 - mae: 120.6774 - mse: 84035.1406 - val_loss: 645.9159 - val_mae: 645.9159 - val_mse: 1404226.2500\n",
      "Epoch 22/100\n",
      "18/18 [==============================] - 0s 10ms/step - loss: 119.0967 - mae: 119.0967 - mse: 83292.8203 - val_loss: 677.2086 - val_mae: 677.2086 - val_mse: 1465531.0000\n",
      "Epoch 23/100\n",
      "18/18 [==============================] - 0s 11ms/step - loss: 123.5642 - mae: 123.5642 - mse: 81280.1250 - val_loss: 654.5471 - val_mae: 654.5471 - val_mse: 1411015.5000\n",
      "Epoch 24/100\n",
      "18/18 [==============================] - 0s 10ms/step - loss: 120.1397 - mae: 120.1397 - mse: 81537.0469 - val_loss: 718.6681 - val_mae: 718.6681 - val_mse: 1565384.0000\n",
      "Epoch 25/100\n",
      "18/18 [==============================] - 0s 12ms/step - loss: 121.0424 - mae: 121.0424 - mse: 83431.6094 - val_loss: 689.4660 - val_mae: 689.4660 - val_mse: 1488110.3750\n",
      "Epoch 26/100\n",
      "18/18 [==============================] - ETA: 0s - loss: 122.5195 - mae: 122.5195 - mse: 84309.6719INFO:tensorflow:Assets written to: model_experiments\\model_1_dense\\assets\n",
      "18/18 [==============================] - 1s 53ms/step - loss: 122.5195 - mae: 122.5195 - mse: 84309.6719 - val_loss: 632.9181 - val_mae: 632.9181 - val_mse: 1362424.6250\n",
      "Epoch 27/100\n",
      "18/18 [==============================] - 0s 11ms/step - loss: 115.5706 - mae: 115.5706 - mse: 79541.7031 - val_loss: 650.0913 - val_mae: 650.0913 - val_mse: 1390533.5000\n",
      "Epoch 28/100\n",
      "18/18 [==============================] - 0s 10ms/step - loss: 116.2991 - mae: 116.2991 - mse: 79442.6172 - val_loss: 652.8793 - val_mae: 652.8793 - val_mse: 1392133.1250\n",
      "Epoch 29/100\n",
      " 1/18 [>.............................] - ETA: 0s - loss: 114.7357 - mae: 114.7357 - mse: 47765.9453INFO:tensorflow:Assets written to: model_experiments\\model_1_dense\\assets\n",
      "18/18 [==============================] - 1s 50ms/step - loss: 115.5861 - mae: 115.5861 - mse: 79123.8438 - val_loss: 621.6686 - val_mae: 621.6686 - val_mse: 1343228.5000\n",
      "Epoch 30/100\n",
      "18/18 [==============================] - 0s 13ms/step - loss: 117.1126 - mae: 117.1126 - mse: 79071.2656 - val_loss: 664.2781 - val_mae: 664.2781 - val_mse: 1410170.3750\n",
      "Epoch 31/100\n",
      " 8/18 [============>.................] - ETA: 0s - loss: 138.3820 - mae: 138.3820 - mse: 95280.1641 INFO:tensorflow:Assets written to: model_experiments\\model_1_dense\\assets\n",
      "18/18 [==============================] - 1s 71ms/step - loss: 122.4365 - mae: 122.4365 - mse: 81750.7578 - val_loss: 618.5660 - val_mae: 618.5660 - val_mse: 1320123.8750\n",
      "Epoch 32/100\n",
      "18/18 [==============================] - 0s 19ms/step - loss: 115.1277 - mae: 115.1277 - mse: 78328.9141 - val_loss: 671.8481 - val_mae: 671.8481 - val_mse: 1423254.1250\n",
      "Epoch 33/100\n",
      "18/18 [==============================] - 0s 11ms/step - loss: 119.8392 - mae: 119.8392 - mse: 80186.4297 - val_loss: 673.3586 - val_mae: 673.3586 - val_mse: 1483643.7500\n",
      "Epoch 34/100\n",
      "18/18 [==============================] - 0s 11ms/step - loss: 128.4478 - mae: 128.4478 - mse: 88463.2656 - val_loss: 701.5013 - val_mae: 701.5013 - val_mse: 1564950.5000\n",
      "Epoch 35/100\n",
      "18/18 [==============================] - 0s 11ms/step - loss: 120.9288 - mae: 120.9288 - mse: 80022.3984 - val_loss: 672.6753 - val_mae: 672.6753 - val_mse: 1481389.6250\n",
      "Epoch 36/100\n",
      "18/18 [==============================] - 0s 11ms/step - loss: 116.3760 - mae: 116.3760 - mse: 79159.7031 - val_loss: 634.5612 - val_mae: 634.5612 - val_mse: 1330219.0000\n",
      "Epoch 37/100\n",
      "18/18 [==============================] - ETA: 0s - loss: 117.5968 - mae: 117.5968 - mse: 79202.7734INFO:tensorflow:Assets written to: model_experiments\\model_1_dense\\assets\n",
      "18/18 [==============================] - 1s 56ms/step - loss: 117.5968 - mae: 117.5968 - mse: 79202.7734 - val_loss: 616.1561 - val_mae: 616.1561 - val_mse: 1295663.1250\n",
      "Epoch 38/100\n",
      "18/18 [==============================] - 0s 11ms/step - loss: 112.0599 - mae: 112.0599 - mse: 74634.6875 - val_loss: 651.7485 - val_mae: 651.7485 - val_mse: 1358494.7500\n",
      "Epoch 39/100\n",
      "18/18 [==============================] - 0s 11ms/step - loss: 113.7521 - mae: 113.7521 - mse: 76214.3906 - val_loss: 626.7706 - val_mae: 626.7706 - val_mse: 1348757.3750\n",
      "Epoch 40/100\n",
      "18/18 [==============================] - 0s 10ms/step - loss: 111.9904 - mae: 111.9904 - mse: 74701.8438 - val_loss: 634.1402 - val_mae: 634.1402 - val_mse: 1370257.5000\n",
      "Epoch 41/100\n",
      "16/18 [=========================>....] - ETA: 0s - loss: 113.8234 - mae: 113.8234 - mse: 76310.5078INFO:tensorflow:Assets written to: model_experiments\\model_1_dense\\assets\n",
      "18/18 [==============================] - 1s 56ms/step - loss: 113.3586 - mae: 113.3586 - mse: 74385.3906 - val_loss: 610.0236 - val_mae: 610.0236 - val_mse: 1307477.8750\n",
      "Epoch 42/100\n",
      "18/18 [==============================] - 0s 12ms/step - loss: 113.5549 - mae: 113.5549 - mse: 76697.2969 - val_loss: 649.2874 - val_mae: 649.2874 - val_mse: 1348953.6250\n",
      "Epoch 43/100\n",
      "18/18 [==============================] - 0s 11ms/step - loss: 119.4596 - mae: 119.4596 - mse: 79200.8359 - val_loss: 630.4194 - val_mae: 630.4194 - val_mse: 1350429.2500\n",
      "Epoch 44/100\n",
      "18/18 [==============================] - 0s 10ms/step - loss: 111.6479 - mae: 111.6479 - mse: 74778.0000 - val_loss: 616.7801 - val_mae: 616.7801 - val_mse: 1282913.1250\n",
      "Epoch 45/100\n",
      "16/18 [=========================>....] - ETA: 0s - loss: 113.2049 - mae: 113.2049 - mse: 75704.8906INFO:tensorflow:Assets written to: model_experiments\\model_1_dense\\assets\n",
      "18/18 [==============================] - 1s 55ms/step - loss: 112.8913 - mae: 112.8913 - mse: 74581.7266 - val_loss: 596.0128 - val_mae: 596.0128 - val_mse: 1255755.5000\n",
      "Epoch 46/100\n",
      "18/18 [==============================] - ETA: 0s - loss: 111.1786 - mae: 111.1786 - mse: 74374.8281INFO:tensorflow:Assets written to: model_experiments\\model_1_dense\\assets\n",
      "18/18 [==============================] - 1s 56ms/step - loss: 111.1786 - mae: 111.1786 - mse: 74374.8281 - val_loss: 595.4613 - val_mae: 595.4613 - val_mse: 1259015.0000\n",
      "Epoch 47/100\n",
      "18/18 [==============================] - 0s 13ms/step - loss: 110.8652 - mae: 110.8652 - mse: 73576.5000 - val_loss: 616.7443 - val_mae: 616.7443 - val_mse: 1319057.5000\n",
      "Epoch 48/100\n",
      "18/18 [==============================] - 0s 12ms/step - loss: 109.9836 - mae: 109.9836 - mse: 74472.4141 - val_loss: 623.1735 - val_mae: 623.1735 - val_mse: 1292221.5000\n",
      "Epoch 49/100\n",
      "18/18 [==============================] - 0s 12ms/step - loss: 109.1311 - mae: 109.1311 - mse: 72867.1016 - val_loss: 673.6883 - val_mae: 673.6883 - val_mse: 1392950.6250\n",
      "Epoch 50/100\n",
      "18/18 [==============================] - 0s 12ms/step - loss: 114.1055 - mae: 114.1055 - mse: 76564.1875 - val_loss: 664.7602 - val_mae: 664.7602 - val_mse: 1442789.5000\n",
      "Epoch 51/100\n",
      "17/18 [===========================>..] - ETA: 0s - loss: 115.4072 - mae: 115.4072 - mse: 75242.3750INFO:tensorflow:Assets written to: model_experiments\\model_1_dense\\assets\n",
      "18/18 [==============================] - 1s 65ms/step - loss: 115.0122 - mae: 115.0122 - mse: 74287.6172 - val_loss: 592.9595 - val_mae: 592.9595 - val_mse: 1249811.5000\n",
      "Epoch 52/100\n",
      "18/18 [==============================] - 0s 11ms/step - loss: 110.1197 - mae: 110.1197 - mse: 72494.8828 - val_loss: 612.3437 - val_mae: 612.3437 - val_mse: 1302179.7500\n",
      "Epoch 53/100\n",
      "18/18 [==============================] - 0s 12ms/step - loss: 111.1312 - mae: 111.1312 - mse: 73570.5703 - val_loss: 712.1665 - val_mae: 712.1665 - val_mse: 1486173.2500\n",
      "Epoch 54/100\n",
      "18/18 [==============================] - 0s 10ms/step - loss: 116.0622 - mae: 116.0622 - mse: 74071.2891 - val_loss: 645.4426 - val_mae: 645.4426 - val_mse: 1384572.5000\n",
      "Epoch 55/100\n",
      "18/18 [==============================] - 0s 9ms/step - loss: 118.9281 - mae: 118.9281 - mse: 76984.6484 - val_loss: 683.8428 - val_mae: 683.8428 - val_mse: 1488220.6250\n",
      "Epoch 56/100\n",
      "18/18 [==============================] - 0s 10ms/step - loss: 113.5851 - mae: 113.5851 - mse: 73447.8203 - val_loss: 673.6447 - val_mae: 673.6447 - val_mse: 1460547.1250\n",
      "Epoch 57/100\n",
      "13/18 [====================>.........] - ETA: 0s - loss: 120.2537 - mae: 120.2537 - mse: 79833.3672INFO:tensorflow:Assets written to: model_experiments\\model_1_dense\\assets\n",
      "18/18 [==============================] - 1s 51ms/step - loss: 116.4950 - mae: 116.4950 - mse: 76995.1641 - val_loss: 592.1181 - val_mae: 592.1181 - val_mse: 1233339.0000\n",
      "Epoch 58/100\n",
      "18/18 [==============================] - 0s 12ms/step - loss: 109.7197 - mae: 109.7197 - mse: 71835.8984 - val_loss: 640.7200 - val_mae: 640.7200 - val_mse: 1312926.1250\n",
      "Epoch 59/100\n",
      "18/18 [==============================] - 0s 14ms/step - loss: 110.7117 - mae: 110.7117 - mse: 72572.8281 - val_loss: 617.3243 - val_mae: 617.3243 - val_mse: 1308362.3750\n",
      "Epoch 60/100\n",
      "18/18 [==============================] - 0s 9ms/step - loss: 118.2780 - mae: 118.2780 - mse: 75552.6406 - val_loss: 596.0865 - val_mae: 596.0865 - val_mse: 1257447.6250\n",
      "Epoch 61/100\n",
      "18/18 [==============================] - 0s 10ms/step - loss: 121.3211 - mae: 121.3211 - mse: 77079.4297 - val_loss: 664.6409 - val_mae: 664.6409 - val_mse: 1360190.3750\n",
      "Epoch 62/100\n",
      "18/18 [==============================] - 0s 12ms/step - loss: 119.5216 - mae: 119.5216 - mse: 79392.6875 - val_loss: 656.9399 - val_mae: 656.9399 - val_mse: 1343362.7500\n",
      "Epoch 63/100\n",
      "18/18 [==============================] - 0s 10ms/step - loss: 124.7676 - mae: 124.7676 - mse: 81218.0391 - val_loss: 753.5955 - val_mae: 753.5955 - val_mse: 1599269.7500\n",
      "Epoch 64/100\n",
      "10/18 [===============>..............] - ETA: 0s - loss: 117.8648 - mae: 117.8648 - mse: 68275.2578INFO:tensorflow:Assets written to: model_experiments\\model_1_dense\\assets\n",
      "18/18 [==============================] - 1s 53ms/step - loss: 117.5424 - mae: 117.5424 - mse: 73833.2344 - val_loss: 582.6418 - val_mae: 582.6418 - val_mse: 1219648.0000\n",
      "Epoch 65/100\n",
      "17/18 [===========================>..] - ETA: 0s - loss: 108.2906 - mae: 108.2906 - mse: 72149.1562INFO:tensorflow:Assets written to: model_experiments\\model_1_dense\\assets\n",
      "18/18 [==============================] - 1s 53ms/step - loss: 108.0201 - mae: 108.0201 - mse: 71588.5078 - val_loss: 582.1827 - val_mae: 582.1827 - val_mse: 1218051.8750\n",
      "Epoch 66/100\n",
      "18/18 [==============================] - 0s 12ms/step - loss: 107.5360 - mae: 107.5360 - mse: 70215.1562 - val_loss: 672.9379 - val_mae: 672.9379 - val_mse: 1380178.2500\n",
      "Epoch 67/100\n",
      "18/18 [==============================] - 0s 11ms/step - loss: 110.1645 - mae: 110.1645 - mse: 72524.0234 - val_loss: 582.8079 - val_mae: 582.8079 - val_mse: 1211002.6250\n",
      "Epoch 68/100\n",
      "18/18 [==============================] - 0s 9ms/step - loss: 108.9065 - mae: 108.9065 - mse: 70561.6406 - val_loss: 600.2556 - val_mae: 600.2556 - val_mse: 1261019.8750\n",
      "Epoch 69/100\n",
      "18/18 [==============================] - 0s 10ms/step - loss: 108.8654 - mae: 108.8654 - mse: 71074.6953 - val_loss: 600.7532 - val_mae: 600.7532 - val_mse: 1233222.2500\n",
      "Epoch 70/100\n",
      "18/18 [==============================] - 0s 9ms/step - loss: 116.7365 - mae: 116.7365 - mse: 77194.6875 - val_loss: 635.0353 - val_mae: 635.0353 - val_mse: 1296422.6250\n",
      "Epoch 71/100\n",
      "18/18 [==============================] - 0s 7ms/step - loss: 113.7828 - mae: 113.7828 - mse: 73742.2969 - val_loss: 596.8685 - val_mae: 596.8685 - val_mse: 1225849.2500\n",
      "Epoch 72/100\n",
      "18/18 [==============================] - 0s 10ms/step - loss: 111.2800 - mae: 111.2800 - mse: 72988.1562 - val_loss: 648.6594 - val_mae: 648.6594 - val_mse: 1378179.6250\n",
      "Epoch 73/100\n",
      "18/18 [==============================] - 0s 9ms/step - loss: 114.3977 - mae: 114.3977 - mse: 75526.7188 - val_loss: 608.2084 - val_mae: 608.2084 - val_mse: 1242778.5000\n",
      "Epoch 74/100\n",
      "18/18 [==============================] - 0s 11ms/step - loss: 117.5641 - mae: 117.5641 - mse: 76824.8594 - val_loss: 737.0870 - val_mae: 737.0870 - val_mse: 1548717.8750\n",
      "Epoch 75/100\n",
      "18/18 [==============================] - 0s 9ms/step - loss: 115.2795 - mae: 115.2795 - mse: 74626.5234 - val_loss: 622.9560 - val_mae: 622.9560 - val_mse: 1312854.7500\n",
      "Epoch 76/100\n",
      "18/18 [==============================] - 0s 10ms/step - loss: 112.9588 - mae: 112.9588 - mse: 74663.4141 - val_loss: 612.7665 - val_mae: 612.7665 - val_mse: 1287592.3750\n",
      "Epoch 77/100\n",
      "18/18 [==============================] - 0s 9ms/step - loss: 107.5040 - mae: 107.5040 - mse: 70175.3438 - val_loss: 583.7440 - val_mae: 583.7440 - val_mse: 1220576.5000\n",
      "Epoch 78/100\n",
      "18/18 [==============================] - 0s 9ms/step - loss: 108.0279 - mae: 108.0279 - mse: 71801.7344 - val_loss: 585.7961 - val_mae: 585.7961 - val_mse: 1204989.6250\n",
      "Epoch 79/100\n",
      "18/18 [==============================] - 0s 9ms/step - loss: 109.4566 - mae: 109.4566 - mse: 71587.1406 - val_loss: 606.0686 - val_mae: 606.0686 - val_mse: 1237424.3750\n",
      "Epoch 80/100\n",
      "18/18 [==============================] - 0s 10ms/step - loss: 109.5755 - mae: 109.5755 - mse: 70001.7812 - val_loss: 657.5020 - val_mae: 657.5020 - val_mse: 1339148.3750\n",
      "Epoch 81/100\n",
      "18/18 [==============================] - 0s 10ms/step - loss: 112.5834 - mae: 112.5834 - mse: 74778.0547 - val_loss: 649.4830 - val_mae: 649.4830 - val_mse: 1375425.8750\n",
      "Epoch 82/100\n",
      "12/18 [===================>..........] - ETA: 0s - loss: 106.9706 - mae: 106.9706 - mse: 65698.8672INFO:tensorflow:Assets written to: model_experiments\\model_1_dense\\assets\n",
      "18/18 [==============================] - 1s 53ms/step - loss: 108.2888 - mae: 108.2888 - mse: 71118.3984 - val_loss: 580.2010 - val_mae: 580.2010 - val_mse: 1198381.5000\n",
      "Epoch 83/100\n",
      "18/18 [==============================] - 0s 13ms/step - loss: 108.6580 - mae: 108.6580 - mse: 71248.1875 - val_loss: 657.0625 - val_mae: 657.0625 - val_mse: 1339537.8750\n",
      "Epoch 84/100\n",
      "18/18 [==============================] - 0s 10ms/step - loss: 113.5023 - mae: 113.5023 - mse: 73783.3125 - val_loss: 595.9561 - val_mae: 595.9561 - val_mse: 1220205.6250\n",
      "Epoch 85/100\n",
      "18/18 [==============================] - 0s 10ms/step - loss: 107.3512 - mae: 107.3512 - mse: 70496.6797 - val_loss: 586.4700 - val_mae: 586.4700 - val_mse: 1201018.6250\n",
      "Epoch 86/100\n",
      "18/18 [==============================] - ETA: 0s - loss: 107.7024 - mae: 107.7024 - mse: 70607.2812INFO:tensorflow:Assets written to: model_experiments\\model_1_dense\\assets\n",
      "18/18 [==============================] - 1s 50ms/step - loss: 107.7024 - mae: 107.7024 - mse: 70607.2812 - val_loss: 577.6780 - val_mae: 577.6780 - val_mse: 1189439.1250\n",
      "Epoch 87/100\n",
      "18/18 [==============================] - 0s 12ms/step - loss: 108.3950 - mae: 108.3950 - mse: 71150.4219 - val_loss: 588.1688 - val_mae: 588.1688 - val_mse: 1227914.2500\n",
      "Epoch 88/100\n",
      "18/18 [==============================] - 0s 10ms/step - loss: 106.6932 - mae: 106.6932 - mse: 69725.8984 - val_loss: 654.3089 - val_mae: 654.3089 - val_mse: 1387879.7500\n",
      "Epoch 89/100\n",
      "18/18 [==============================] - 0s 11ms/step - loss: 106.6478 - mae: 106.6478 - mse: 70392.9062 - val_loss: 585.5506 - val_mae: 585.5506 - val_mse: 1202805.1250\n",
      "Epoch 90/100\n",
      "18/18 [==============================] - 0s 13ms/step - loss: 109.1136 - mae: 109.1136 - mse: 71017.8047 - val_loss: 584.6116 - val_mae: 584.6116 - val_mse: 1199853.1250\n",
      "Epoch 91/100\n",
      "18/18 [==============================] - 0s 13ms/step - loss: 106.9129 - mae: 106.9129 - mse: 68827.8203 - val_loss: 614.3309 - val_mae: 614.3309 - val_mse: 1286300.3750\n",
      "Epoch 92/100\n",
      "18/18 [==============================] - 0s 11ms/step - loss: 110.1083 - mae: 110.1083 - mse: 69690.7578 - val_loss: 657.7746 - val_mae: 657.7746 - val_mse: 1395637.8750\n",
      "Epoch 93/100\n",
      "18/18 [==============================] - 0s 13ms/step - loss: 108.9751 - mae: 108.9751 - mse: 71003.5547 - val_loss: 585.1332 - val_mae: 585.1332 - val_mse: 1218718.8750\n",
      "Epoch 94/100\n",
      "18/18 [==============================] - 0s 9ms/step - loss: 108.8328 - mae: 108.8328 - mse: 71700.8984 - val_loss: 611.1570 - val_mae: 611.1570 - val_mse: 1240527.0000\n",
      "Epoch 95/100\n",
      "18/18 [==============================] - 0s 10ms/step - loss: 106.1004 - mae: 106.1004 - mse: 68283.0938 - val_loss: 605.1516 - val_mae: 605.1516 - val_mse: 1229102.5000\n",
      "Epoch 96/100\n",
      "18/18 [==============================] - 0s 10ms/step - loss: 115.2697 - mae: 115.2697 - mse: 71770.0391 - val_loss: 589.1304 - val_mae: 589.1304 - val_mse: 1227695.3750\n",
      "Epoch 97/100\n",
      "12/18 [===================>..........] - ETA: 0s - loss: 104.2686 - mae: 104.2686 - mse: 72313.8984INFO:tensorflow:Assets written to: model_experiments\\model_1_dense\\assets\n",
      "18/18 [==============================] - 1s 55ms/step - loss: 106.1369 - mae: 106.1369 - mse: 70050.9375 - val_loss: 574.7033 - val_mae: 574.7033 - val_mse: 1187823.7500\n",
      "Epoch 98/100\n",
      "18/18 [==============================] - 0s 11ms/step - loss: 107.0460 - mae: 107.0460 - mse: 69141.5000 - val_loss: 588.2928 - val_mae: 588.2928 - val_mse: 1225270.7500\n",
      "Epoch 99/100\n",
      "18/18 [==============================] - 0s 11ms/step - loss: 107.2790 - mae: 107.2790 - mse: 70364.3359 - val_loss: 614.7908 - val_mae: 614.7908 - val_mse: 1248404.5000\n",
      "Epoch 100/100\n",
      "18/18 [==============================] - 0s 9ms/step - loss: 108.0998 - mae: 108.0998 - mse: 70040.2734 - val_loss: 580.6755 - val_mae: 580.6755 - val_mse: 1207095.7500\n"
     ]
    },
    {
     "data": {
      "text/plain": [
       "<keras.callbacks.History at 0x1964a535510>"
      ]
     },
     "execution_count": 38,
     "metadata": {},
     "output_type": "execute_result"
    }
   ],
   "source": [
    "import tensorflow as tf\n",
    "from tensorflow.keras import layers # type: ignore\n",
    "\n",
    "# Set random seed for as reporducible results as possible\n",
    "tf.random.set_seed(42)\n",
    "\n",
    "# 1. Construct the model\n",
    "model_1 = tf.keras.Sequential([\n",
    "    layers.Dense(128, activation='relu'),\n",
    "    layers.Dense(HORIZON, activation='linear')\n",
    "], name='model_1_dense') # name our model so we can save it\n",
    "\n",
    "# 2. Compile\n",
    "model_1.compile(loss='mae',\n",
    "                optimizer=tf.keras.optimizers.Adam(),\n",
    "                metrics=['mae', 'mse'])\n",
    "\n",
    "# Fit the model\n",
    "model_1.fit(x=train_windows,\n",
    "            y=train_labels,\n",
    "            epochs=100,\n",
    "            verbose=1,\n",
    "            batch_size=128,\n",
    "            validation_data=(test_windows, test_labels),\n",
    "            callbacks=[create_model_checkpoint(model_name=model_1.name)])"
   ]
  },
  {
   "cell_type": "code",
   "execution_count": 39,
   "id": "b35cc5f8",
   "metadata": {},
   "outputs": [
    {
     "name": "stdout",
     "output_type": "stream",
     "text": [
      "18/18 [==============================] - 0s 5ms/step - loss: 580.7095 - mae: 580.7095 - mse: 1207232.7500\n"
     ]
    },
    {
     "data": {
      "text/plain": [
       "[580.70947265625, 580.70947265625, 1207232.75]"
      ]
     },
     "execution_count": 39,
     "metadata": {},
     "output_type": "execute_result"
    }
   ],
   "source": [
    "# Evaluate model on test data (last performance - not the best)\n",
    "model_1.evaluate(test_windows, test_labels)"
   ]
  },
  {
   "cell_type": "code",
   "execution_count": 40,
   "id": "3b474323",
   "metadata": {},
   "outputs": [
    {
     "name": "stdout",
     "output_type": "stream",
     "text": [
      "18/18 [==============================] - 0s 5ms/step - loss: 574.7403 - mae: 574.7403 - mse: 1188002.7500\n"
     ]
    },
    {
     "data": {
      "text/plain": [
       "[574.7402954101562, 574.7402954101562, 1188002.75]"
      ]
     },
     "execution_count": 40,
     "metadata": {},
     "output_type": "execute_result"
    }
   ],
   "source": [
    "# Load in saved best performing model_1 and evaluate it on test data\n",
    "model_1 = tf.keras.models.load_model('model_experiments/model_1_dense/')\n",
    "model_1.evaluate(test_windows, test_labels)"
   ]
  },
  {
   "cell_type": "markdown",
   "id": "1a1a02c1",
   "metadata": {},
   "source": [
    "## Making forecasts with a model (on the test dataset)\n",
    "\n",
    "To make 'forecasts' on the dataset (note: these won't be actual forecasts, they're only pseudo forecasts actual forecasts are into the future), let's write a function to:\n",
    "\n",
    "1. Take in a train model\n",
    "2. Takes in some input data (same kind of data the model was trained on)\n",
    "3. Passes the input data to the model's `predict()` method\n",
    "4. Returns the predictions"
   ]
  },
  {
   "cell_type": "code",
   "execution_count": 41,
   "id": "9470b21a",
   "metadata": {},
   "outputs": [],
   "source": [
    "def make_preds(model, input_data):\n",
    "    \"\"\"\n",
    "    Uses model to make predictions input_data.\n",
    "    \"\"\"\n",
    "    forecast = model.predict(input_data)\n",
    "    return tf.squeeze(forecast) # return 1D array of predictions"
   ]
  },
  {
   "cell_type": "code",
   "execution_count": 42,
   "id": "93f5b9b5",
   "metadata": {},
   "outputs": [
    {
     "name": "stdout",
     "output_type": "stream",
     "text": [
      "18/18 [==============================] - 0s 3ms/step\n"
     ]
    },
    {
     "data": {
      "text/plain": [
       "(551,\n",
       " <tf.Tensor: shape=(10,), dtype=float32, numpy=\n",
       " array([8705.506 , 8681.034 , 8503.554 , 8452.63  , 8510.1045, 8263.829 ,\n",
       "        8112.288 , 8055.868 , 7709.8433, 7313.3667], dtype=float32)>)"
      ]
     },
     "execution_count": 42,
     "metadata": {},
     "output_type": "execute_result"
    }
   ],
   "source": [
    "# Make predictions using model_1 on the test dataset and view results\n",
    "model_1_preds = make_preds(model_1, test_windows)\n",
    "len(model_1_preds), model_1_preds[:10]"
   ]
  },
  {
   "cell_type": "code",
   "execution_count": 43,
   "id": "67e72b08",
   "metadata": {},
   "outputs": [
    {
     "data": {
      "text/plain": [
       "{'mae': 574.7403,\n",
       " 'mse': 1188002.9,\n",
       " 'rmse': 1089.9554,\n",
       " 'mape': 2.5618834,\n",
       " 'mase': 1.0031228}"
      ]
     },
     "execution_count": 43,
     "metadata": {},
     "output_type": "execute_result"
    }
   ],
   "source": [
    "# Evaluate preds\n",
    "model_1_results = evaluate_preds(y_true=tf.squeeze(test_labels),\n",
    "                                 y_pred=model_1_preds)\n",
    "model_1_results"
   ]
  },
  {
   "cell_type": "code",
   "execution_count": 44,
   "id": "9b6b48ce",
   "metadata": {},
   "outputs": [
    {
     "data": {
      "text/plain": [
       "{'mae': 567.9802,\n",
       " 'mse': 1147547.0,\n",
       " 'rmse': 1071.2362,\n",
       " 'mape': 2.516525,\n",
       " 'mase': 0.99957}"
      ]
     },
     "execution_count": 44,
     "metadata": {},
     "output_type": "execute_result"
    }
   ],
   "source": [
    "naive_results"
   ]
  },
  {
   "cell_type": "code",
   "execution_count": 45,
   "id": "886ffc00",
   "metadata": {},
   "outputs": [
    {
     "data": {
      "image/png": "[encoded data removed]",
      "text/plain": [
       "<Figure size 1000x700 with 1 Axes>"
      ]
     },
     "metadata": {},
     "output_type": "display_data"
    }
   ],
   "source": [
    "# Let's plot our model 1 predictions\n",
    "offset = 300\n",
    "plt.figure(figsize=(10, 7))\n",
    "# Account for the test_window offset and index into test_labels to ensure correct plotting\n",
    "plot_time_series(timesteps=X_test[-len(test_windows):], values=test_labels[:, 0], start=offset, label='Test Data')\n",
    "\n",
    "plot_time_series(timesteps=X_test[-len(test_windows):], values=model_1_preds, start=offset, format='-', label='Model 1 Preds')"
   ]
  },
  {
   "cell_type": "markdown",
   "id": "e2cae249",
   "metadata": {},
   "source": [
    "## Model 2: Dense (window = 30, horizon = 1)"
   ]
  },
  {
   "cell_type": "code",
   "execution_count": 46,
   "id": "1984ac3e",
   "metadata": {},
   "outputs": [],
   "source": [
    "HORIZON = 1 # predict one step at a time (one day of Bitcoin prices)\n",
    "WINDOW_SIZE = 30 # use 30 timesteps in past"
   ]
  },
  {
   "cell_type": "code",
   "execution_count": 47,
   "id": "55f9ad76",
   "metadata": {},
   "outputs": [
    {
     "data": {
      "text/plain": [
       "(2757, 2757)"
      ]
     },
     "execution_count": 47,
     "metadata": {},
     "output_type": "execute_result"
    }
   ],
   "source": [
    "# Make window data with appropriate horizon and window sizes\n",
    "full_windows, full_labels = make_windows(prices, window_size=WINDOW_SIZE, horizon=HORIZON)\n",
    "len(full_windows), len(full_labels)"
   ]
  },
  {
   "cell_type": "code",
   "execution_count": 48,
   "id": "9db41bdc",
   "metadata": {},
   "outputs": [
    {
     "data": {
      "text/plain": [
       "(2229, 528, 2229, 528)"
      ]
     },
     "execution_count": 48,
     "metadata": {},
     "output_type": "execute_result"
    }
   ],
   "source": [
    "# Make train and testing windows\n",
    "train_windows, test_windows, train_labels, test_labels = make_train_test_splits(windows=full_windows,\n",
    "                                                                                labels=full_labels,\n",
    "                                                                                test_split=0.2)\n",
    "len(train_windows), len(test_windows), len(train_labels), len(test_labels)"
   ]
  },
  {
   "cell_type": "code",
   "execution_count": 49,
   "id": "6d9d578d",
   "metadata": {},
   "outputs": [
    {
     "name": "stdout",
     "output_type": "stream",
     "text": [
      "INFO:tensorflow:Assets written to: model_experiments\\model_2_dense\\assets\n",
      "INFO:tensorflow:Assets written to: model_experiments\\model_2_dense\\assets\n",
      "INFO:tensorflow:Assets written to: model_experiments\\model_2_dense\\assets\n",
      "INFO:tensorflow:Assets written to: model_experiments\\model_2_dense\\assets\n",
      "INFO:tensorflow:Assets written to: model_experiments\\model_2_dense\\assets\n",
      "INFO:tensorflow:Assets written to: model_experiments\\model_2_dense\\assets\n",
      "INFO:tensorflow:Assets written to: model_experiments\\model_2_dense\\assets\n",
      "INFO:tensorflow:Assets written to: model_experiments\\model_2_dense\\assets\n",
      "INFO:tensorflow:Assets written to: model_experiments\\model_2_dense\\assets\n",
      "INFO:tensorflow:Assets written to: model_experiments\\model_2_dense\\assets\n",
      "INFO:tensorflow:Assets written to: model_experiments\\model_2_dense\\assets\n",
      "INFO:tensorflow:Assets written to: model_experiments\\model_2_dense\\assets\n",
      "INFO:tensorflow:Assets written to: model_experiments\\model_2_dense\\assets\n",
      "INFO:tensorflow:Assets written to: model_experiments\\model_2_dense\\assets\n",
      "INFO:tensorflow:Assets written to: model_experiments\\model_2_dense\\assets\n",
      "INFO:tensorflow:Assets written to: model_experiments\\model_2_dense\\assets\n",
      "INFO:tensorflow:Assets written to: model_experiments\\model_2_dense\\assets\n",
      "INFO:tensorflow:Assets written to: model_experiments\\model_2_dense\\assets\n",
      "INFO:tensorflow:Assets written to: model_experiments\\model_2_dense\\assets\n",
      "INFO:tensorflow:Assets written to: model_experiments\\model_2_dense\\assets\n",
      "INFO:tensorflow:Assets written to: model_experiments\\model_2_dense\\assets\n",
      "INFO:tensorflow:Assets written to: model_experiments\\model_2_dense\\assets\n",
      "INFO:tensorflow:Assets written to: model_experiments\\model_2_dense\\assets\n",
      "INFO:tensorflow:Assets written to: model_experiments\\model_2_dense\\assets\n",
      "INFO:tensorflow:Assets written to: model_experiments\\model_2_dense\\assets\n",
      "INFO:tensorflow:Assets written to: model_experiments\\model_2_dense\\assets\n",
      "INFO:tensorflow:Assets written to: model_experiments\\model_2_dense\\assets\n",
      "INFO:tensorflow:Assets written to: model_experiments\\model_2_dense\\assets\n",
      "INFO:tensorflow:Assets written to: model_experiments\\model_2_dense\\assets\n",
      "INFO:tensorflow:Assets written to: model_experiments\\model_2_dense\\assets\n",
      "INFO:tensorflow:Assets written to: model_experiments\\model_2_dense\\assets\n",
      "INFO:tensorflow:Assets written to: model_experiments\\model_2_dense\\assets\n",
      "INFO:tensorflow:Assets written to: model_experiments\\model_2_dense\\assets\n",
      "INFO:tensorflow:Assets written to: model_experiments\\model_2_dense\\assets\n",
      "INFO:tensorflow:Assets written to: model_experiments\\model_2_dense\\assets\n",
      "INFO:tensorflow:Assets written to: model_experiments\\model_2_dense\\assets\n"
     ]
    },
    {
     "data": {
      "text/plain": [
       "<keras.callbacks.History at 0x19810684130>"
      ]
     },
     "execution_count": 49,
     "metadata": {},
     "output_type": "execute_result"
    }
   ],
   "source": [
    "tf.random.set_seed(42)\n",
    "\n",
    "# Create model\n",
    "model_2 = tf.keras.Sequential([\n",
    "    layers.Dense(128, activation='relu'),\n",
    "    layers.Dense(HORIZON)\n",
    "], name='model_2_dense')\n",
    "\n",
    "# Compile model\n",
    "model_2.compile(loss='mae',\n",
    "                optimizer=tf.keras.optimizers.Adam())\n",
    "\n",
    "# Fit\n",
    "model_2.fit(train_windows,\n",
    "            train_labels,\n",
    "            epochs=100,\n",
    "            batch_size=128,\n",
    "            verbose=0,\n",
    "            validation_data=(test_windows, test_labels),\n",
    "            callbacks=[create_model_checkpoint(model_name=model_2.name)])"
   ]
  },
  {
   "cell_type": "code",
   "execution_count": 50,
   "id": "8105caa5",
   "metadata": {},
   "outputs": [
    {
     "name": "stdout",
     "output_type": "stream",
     "text": [
      "17/17 [==============================] - 0s 4ms/step - loss: 634.8851\n"
     ]
    },
    {
     "data": {
      "text/plain": [
       "634.8851318359375"
      ]
     },
     "execution_count": 50,
     "metadata": {},
     "output_type": "execute_result"
    }
   ],
   "source": [
    "# Evaluate model 2 on test data\n",
    "model_2.evaluate(test_windows, test_labels)"
   ]
  },
  {
   "cell_type": "code",
   "execution_count": 51,
   "id": "576cc0b8",
   "metadata": {},
   "outputs": [
    {
     "name": "stdout",
     "output_type": "stream",
     "text": [
      "17/17 [==============================] - 0s 4ms/step - loss: 619.6102\n"
     ]
    },
    {
     "data": {
      "text/plain": [
       "619.6102294921875"
      ]
     },
     "execution_count": 51,
     "metadata": {},
     "output_type": "execute_result"
    }
   ],
   "source": [
    "# Load in the best performing model\n",
    "model_2 = tf.keras.models.load_model('model_experiments/model_2_dense/')\n",
    "model_2.evaluate(test_windows, test_labels)"
   ]
  },
  {
   "cell_type": "code",
   "execution_count": 52,
   "id": "16830931",
   "metadata": {},
   "outputs": [
    {
     "name": "stdout",
     "output_type": "stream",
     "text": [
      "17/17 [==============================] - 0s 2ms/step\n"
     ]
    }
   ],
   "source": [
    "# Get forecast predictions\n",
    "model_2_preds = make_preds(model_2,\n",
    "                           input_data=test_windows)"
   ]
  },
  {
   "cell_type": "code",
   "execution_count": 53,
   "id": "4a35b2c8",
   "metadata": {},
   "outputs": [
    {
     "data": {
      "text/plain": [
       "(TensorShape([528]), TensorShape([528]))"
      ]
     },
     "execution_count": 53,
     "metadata": {},
     "output_type": "execute_result"
    }
   ],
   "source": [
    "tf.squeeze(test_labels).shape, model_2_preds.shape"
   ]
  },
  {
   "cell_type": "code",
   "execution_count": 54,
   "id": "81997755",
   "metadata": {},
   "outputs": [
    {
     "data": {
      "text/plain": [
       "{'mae': 619.6102,\n",
       " 'mse': 1301687.1,\n",
       " 'rmse': 1140.915,\n",
       " 'mape': 2.756586,\n",
       " 'mase': 1.0487381}"
      ]
     },
     "execution_count": 54,
     "metadata": {},
     "output_type": "execute_result"
    }
   ],
   "source": [
    "# Evaluate results for model 2 predictions\n",
    "model_2_results = evaluate_preds(y_true=tf.squeeze(test_labels),\n",
    "                                 y_pred=model_2_preds)\n",
    "model_2_results"
   ]
  },
  {
   "cell_type": "code",
   "execution_count": 55,
   "id": "982bdaa0",
   "metadata": {},
   "outputs": [
    {
     "data": {
      "text/plain": [
       "{'mae': 574.7403,\n",
       " 'mse': 1188002.9,\n",
       " 'rmse': 1089.9554,\n",
       " 'mape': 2.5618834,\n",
       " 'mase': 1.0031228}"
      ]
     },
     "execution_count": 55,
     "metadata": {},
     "output_type": "execute_result"
    }
   ],
   "source": [
    "model_1_results"
   ]
  },
  {
   "cell_type": "code",
   "execution_count": 56,
   "id": "a1f9ba91",
   "metadata": {},
   "outputs": [
    {
     "data": {
      "image/png": "[encoded data removed]",
      "text/plain": [
       "<Figure size 1000x700 with 1 Axes>"
      ]
     },
     "metadata": {},
     "output_type": "display_data"
    }
   ],
   "source": [
    "offset = 300\n",
    "plt.figure(figsize=(10, 7))\n",
    "# Account for test_window offset when plotting\n",
    "plot_time_series(timesteps=X_test[-len(test_windows):], values=test_labels[:, 0], start=offset, label='Test Data')\n",
    "plot_time_series(timesteps=X_test[-len(test_windows):], values=model_2_preds, start=offset, format='-', label='model_2_preds')"
   ]
  },
  {
   "cell_type": "markdown",
   "id": "c0113fea",
   "metadata": {},
   "source": [
    "## Model 3: Dense (window = 30, horizon = 7)\n",
    "\n"
   ]
  },
  {
   "cell_type": "code",
   "execution_count": 57,
   "id": "887cc5e4",
   "metadata": {},
   "outputs": [
    {
     "data": {
      "text/plain": [
       "(2751, 2751)"
      ]
     },
     "execution_count": 57,
     "metadata": {},
     "output_type": "execute_result"
    }
   ],
   "source": [
    "HORIZON = 7\n",
    "WINDOW_SIZE = 30\n",
    "\n",
    "full_windows, full_labels = make_windows(prices, window_size=WINDOW_SIZE, horizon=HORIZON)\n",
    "len(full_windows), len(full_labels)"
   ]
  },
  {
   "cell_type": "code",
   "execution_count": 58,
   "id": "6e79caa1",
   "metadata": {},
   "outputs": [
    {
     "data": {
      "text/plain": [
       "(2229, 522, 2229, 522)"
      ]
     },
     "execution_count": 58,
     "metadata": {},
     "output_type": "execute_result"
    }
   ],
   "source": [
    "train_windows, test_windows, train_labels, test_labels = make_train_test_splits(windows=full_windows,\n",
    "                                                                                labels=full_labels,\n",
    "                                                                                test_split=0.2)\n",
    "len(train_windows), len(test_windows), len(train_labels), len(test_labels)"
   ]
  },
  {
   "cell_type": "code",
   "execution_count": 59,
   "id": "23124476",
   "metadata": {},
   "outputs": [
    {
     "name": "stdout",
     "output_type": "stream",
     "text": [
      "INFO:tensorflow:Assets written to: model_experiments\\model_3_dense\\assets\n",
      "INFO:tensorflow:Assets written to: model_experiments\\model_3_dense\\assets\n",
      "INFO:tensorflow:Assets written to: model_experiments\\model_3_dense\\assets\n",
      "INFO:tensorflow:Assets written to: model_experiments\\model_3_dense\\assets\n",
      "INFO:tensorflow:Assets written to: model_experiments\\model_3_dense\\assets\n",
      "INFO:tensorflow:Assets written to: model_experiments\\model_3_dense\\assets\n",
      "INFO:tensorflow:Assets written to: model_experiments\\model_3_dense\\assets\n",
      "INFO:tensorflow:Assets written to: model_experiments\\model_3_dense\\assets\n",
      "INFO:tensorflow:Assets written to: model_experiments\\model_3_dense\\assets\n",
      "INFO:tensorflow:Assets written to: model_experiments\\model_3_dense\\assets\n",
      "INFO:tensorflow:Assets written to: model_experiments\\model_3_dense\\assets\n",
      "INFO:tensorflow:Assets written to: model_experiments\\model_3_dense\\assets\n",
      "INFO:tensorflow:Assets written to: model_experiments\\model_3_dense\\assets\n",
      "INFO:tensorflow:Assets written to: model_experiments\\model_3_dense\\assets\n",
      "INFO:tensorflow:Assets written to: model_experiments\\model_3_dense\\assets\n",
      "INFO:tensorflow:Assets written to: model_experiments\\model_3_dense\\assets\n",
      "INFO:tensorflow:Assets written to: model_experiments\\model_3_dense\\assets\n",
      "INFO:tensorflow:Assets written to: model_experiments\\model_3_dense\\assets\n",
      "INFO:tensorflow:Assets written to: model_experiments\\model_3_dense\\assets\n",
      "INFO:tensorflow:Assets written to: model_experiments\\model_3_dense\\assets\n"
     ]
    },
    {
     "data": {
      "text/plain": [
       "<keras.callbacks.History at 0x1968348e7d0>"
      ]
     },
     "execution_count": 59,
     "metadata": {},
     "output_type": "execute_result"
    }
   ],
   "source": [
    "tf.random.set_seed(42)\n",
    "\n",
    "# Create model\n",
    "model_3 = tf.keras.Sequential([\n",
    "    layers.Dense(128, activation='relu'),\n",
    "    layers.Dense(HORIZON)\n",
    "], name='model_3_dense')\n",
    "\n",
    "# Compile\n",
    "model_3.compile(loss='mae',\n",
    "                optimizer=tf.keras.optimizers.Adam())\n",
    "\n",
    "# Fit\n",
    "model_3.fit(train_windows,\n",
    "            train_labels,\n",
    "            batch_size=128,\n",
    "            epochs=100,\n",
    "            verbose=0,\n",
    "            validation_data=(test_windows, test_labels),\n",
    "            callbacks=[create_model_checkpoint(model_name=model_3.name)])"
   ]
  },
  {
   "cell_type": "code",
   "execution_count": 60,
   "id": "4c40baa7",
   "metadata": {},
   "outputs": [
    {
     "name": "stdout",
     "output_type": "stream",
     "text": [
      "17/17 [==============================] - 0s 6ms/step - loss: 1296.7920\n"
     ]
    },
    {
     "data": {
      "text/plain": [
       "1296.7919921875"
      ]
     },
     "execution_count": 60,
     "metadata": {},
     "output_type": "execute_result"
    }
   ],
   "source": [
    "# Evaluate the model on the test data\n",
    "model_3.evaluate(test_windows, test_labels)"
   ]
  },
  {
   "cell_type": "code",
   "execution_count": 61,
   "id": "7a7a83c6",
   "metadata": {},
   "outputs": [
    {
     "name": "stdout",
     "output_type": "stream",
     "text": [
      "17/17 [==============================] - 0s 4ms/step - loss: 1279.1266\n"
     ]
    },
    {
     "data": {
      "text/plain": [
       "1279.1265869140625"
      ]
     },
     "execution_count": 61,
     "metadata": {},
     "output_type": "execute_result"
    }
   ],
   "source": [
    "# Load best version of model_3 and evaluate\n",
    "model_3 = tf.keras.models.load_model('model_experiments/model_3_dense/')\n",
    "model_3.evaluate(test_windows, test_labels)"
   ]
  },
  {
   "cell_type": "code",
   "execution_count": 62,
   "id": "796cb207",
   "metadata": {},
   "outputs": [
    {
     "name": "stdout",
     "output_type": "stream",
     "text": [
      "17/17 [==============================] - 0s 2ms/step\n"
     ]
    },
    {
     "data": {
      "text/plain": [
       "TensorShape([522, 7])"
      ]
     },
     "execution_count": 62,
     "metadata": {},
     "output_type": "execute_result"
    }
   ],
   "source": [
    "# Make predictions with model_3\n",
    "model_3_preds = make_preds(model_3,\n",
    "                           input_data=test_windows)\n",
    "model_3_preds.shape"
   ]
  },
  {
   "cell_type": "code",
   "execution_count": 63,
   "id": "51f272aa",
   "metadata": {},
   "outputs": [
    {
     "data": {
      "text/plain": [
       "(TensorShape([522, 7]), TensorShape([528]))"
      ]
     },
     "execution_count": 63,
     "metadata": {},
     "output_type": "execute_result"
    }
   ],
   "source": [
    "model_3_preds.shape, model_2_preds.shape"
   ]
  },
  {
   "cell_type": "code",
   "execution_count": 64,
   "id": "ccec3843",
   "metadata": {},
   "outputs": [
    {
     "data": {
      "text/plain": [
       "{'mae': array([  170.77547 ,   270.23502 ,   353.824   ,   296.6582  ,\n",
       "          308.35547 ,   214.60295 ,   244.41985 ,   296.33008 ,\n",
       "          221.73508 ,   214.68172 ,   240.35051 ,   464.83008 ,\n",
       "           89.8065  ,    64.50488 ,    73.49958 ,    80.73668 ,\n",
       "          104.14286 ,    86.62263 ,   148.45312 ,   116.88337 ,\n",
       "          157.27881 ,    83.45961 ,   131.50426 ,   167.72775 ,\n",
       "          159.76172 ,   249.27316 ,   381.60233 ,   543.58685 ,\n",
       "          519.87897 ,   523.10187 ,   551.3784  ,   341.44107 ,\n",
       "          206.79631 ,   242.42543 ,   331.7961  ,   391.70236 ,\n",
       "          465.07666 ,   480.20346 ,   472.32108 ,   156.32938 ,\n",
       "          201.96986 ,   328.26492 ,   412.39117 ,   586.0579  ,\n",
       "          440.3496  ,   349.6893  ,   296.81152 ,   295.13937 ,\n",
       "          395.45074 ,   527.8708  ,   700.621   ,   733.9259  ,\n",
       "          581.9644  ,   355.6063  ,   121.77832 ,   165.2006  ,\n",
       "          134.00266 ,   215.67522 ,   357.69644 ,   389.22684 ,\n",
       "          575.3954  ,   415.50168 ,   331.92035 ,   233.80525 ,\n",
       "          271.49078 ,   276.21582 ,   315.56738 ,   329.15652 ,\n",
       "          534.05206 ,   655.50726 ,   768.5396  ,   540.19934 ,\n",
       "          295.46457 ,   185.27107 ,   389.3973  ,   387.50027 ,\n",
       "          464.99707 ,   476.1165  ,   699.75726 ,   968.0085  ,\n",
       "         1015.3312  ,   853.70325 ,   412.88434 ,   189.95131 ,\n",
       "          221.57115 ,   205.51912 ,   424.74088 ,   415.9412  ,\n",
       "          494.42404 ,   595.4569  ,  1075.4236  ,  1773.4894  ,\n",
       "         2243.3308  ,  2111.4473  ,  2084.6204  ,  2232.4368  ,\n",
       "         2639.3972  ,  1243.7643  ,   689.9252  ,   424.2551  ,\n",
       "          443.35352 ,   657.78436 ,   564.91754 ,   598.86224 ,\n",
       "          208.63176 ,   243.31508 ,   410.8893  ,   283.71625 ,\n",
       "          393.14877 ,   397.77164 ,   434.48178 ,   341.41483 ,\n",
       "          338.2094  ,   332.36176 ,   657.84503 ,   644.6841  ,\n",
       "          546.91656 ,   334.47906 ,   229.10889 ,   321.55972 ,\n",
       "          245.71037 ,   329.4539  ,   243.81445 ,   272.24664 ,\n",
       "          504.36832 ,   488.03146 ,   225.03117 ,   196.07303 ,\n",
       "          203.2733  ,   293.6778  ,   233.4218  ,   238.01416 ,\n",
       "          152.38602 ,   178.49379 ,   233.48576 ,   263.1416  ,\n",
       "          391.97818 ,   526.95624 ,   676.9494  ,   567.0197  ,\n",
       "          634.85156 ,   752.59143 ,   943.90875 ,   933.33606 ,\n",
       "         1010.79    ,   434.06363 ,   234.03377 ,   291.2366  ,\n",
       "          362.66937 ,   461.73074 ,   512.03766 ,   530.21844 ,\n",
       "          467.4721  ,   681.5206  ,  1027.5867  ,   902.34235 ,\n",
       "          311.7119  ,   504.02316 ,   616.875   ,   329.65582 ,\n",
       "          262.36996 ,   244.48996 ,   224.77596 ,   311.6487  ,\n",
       "          449.49136 ,   585.389   ,   518.49835 ,   272.7779  ,\n",
       "          238.77678 ,   313.97183 ,   392.26715 ,   597.2553  ,\n",
       "          774.79645 ,   678.1911  ,   332.6197  ,   231.40959 ,\n",
       "          203.50056 ,   225.53543 ,   499.5198  ,   202.38672 ,\n",
       "           92.19503 ,   175.07129 ,   216.22656 ,   177.50754 ,\n",
       "          323.1695  ,   273.59906 ,   508.7479  ,   554.47125 ,\n",
       "          169.90193 ,   177.93513 ,   184.27902 ,   202.0752  ,\n",
       "          109.33747 ,   191.5007  ,   211.20926 ,   236.92215 ,\n",
       "          144.77734 ,   242.16713 ,   204.01828 ,   342.56363 ,\n",
       "          527.8343  ,   336.25113 ,   301.0236  ,   173.58762 ,\n",
       "          130.5325  ,    86.495674,    44.234097,   114.34291 ,\n",
       "          143.72697 ,   124.64774 ,   187.34389 ,   131.61942 ,\n",
       "          145.42662 ,    76.42829 ,    74.579796,   233.63281 ,\n",
       "          207.54897 ,   137.0265  ,   126.814735,   148.57088 ,\n",
       "          105.16992 ,   155.1469  ,   100.93736 ,   127.453964,\n",
       "          201.98381 ,   267.93332 ,   333.70773 ,   590.61945 ,\n",
       "          673.3898  ,   772.65344 ,   881.33136 ,  1083.4081  ,\n",
       "         1264.2432  ,  1279.9255  ,   383.57812 ,   186.23619 ,\n",
       "          278.84375 ,   225.42703 ,   261.8189  ,   413.95395 ,\n",
       "          244.04549 ,   224.524   ,   254.54143 ,   191.24232 ,\n",
       "          356.51437 ,   310.1402  ,   295.25293 ,   334.34082 ,\n",
       "          313.13617 ,   191.98283 ,   260.4375  ,   206.89537 ,\n",
       "          238.31961 ,   220.3065  ,   217.26814 ,   374.23773 ,\n",
       "          518.6522  ,   309.00055 ,   347.33762 ,   260.7295  ,\n",
       "          345.33453 ,   287.63922 ,   324.8718  ,   150.0399  ,\n",
       "          263.37582 ,   335.44824 ,   441.84055 ,   617.5247  ,\n",
       "          850.2422  ,  1077.969   ,  1571.9778  ,  1389.7863  ,\n",
       "          922.8001  ,   499.31586 ,    92.08817 ,   137.16978 ,\n",
       "          123.11286 ,   228.69197 ,   281.9068  ,   236.53307 ,\n",
       "          331.458   ,   296.7634  ,   293.81332 ,   238.27274 ,\n",
       "          192.30217 ,   416.05316 ,   394.74554 ,   344.5978  ,\n",
       "          460.7553  ,   341.05887 ,   166.34904 ,   213.7631  ,\n",
       "          340.58023 ,   200.62752 ,   153.3824  ,   245.13686 ,\n",
       "          225.00139 ,   333.19113 ,   242.14774 ,   267.63434 ,\n",
       "          130.25795 ,   151.33455 ,   217.15346 ,   324.21234 ,\n",
       "          455.54562 ,   542.4796  ,   619.9378  ,   546.27765 ,\n",
       "          352.4612  ,   151.25098 ,   165.62904 ,   311.95953 ,\n",
       "          218.20842 ,   344.6472  ,   588.7692  ,   803.35254 ,\n",
       "         1028.6036  ,  1130.1768  ,  1123.0851  ,  1074.0685  ,\n",
       "          254.5039  ,   220.04102 ,   227.27846 ,   246.03014 ,\n",
       "          207.12807 ,   305.10406 ,   204.21205 ,   179.50768 ,\n",
       "          335.04352 ,   649.7164  ,   601.94073 ,   863.4312  ,\n",
       "          973.1606  ,  1090.287   ,   989.0407  ,   298.63547 ,\n",
       "          358.72098 ,   378.04367 ,   399.4993  ,   534.38605 ,\n",
       "          711.6747  ,   817.96875 ,   799.0505  ,   986.5936  ,\n",
       "         1174.891   ,  1708.8289  ,  1455.7578  ,   865.90344 ,\n",
       "          473.07953 ,   523.6442  ,   674.9696  ,  1067.9032  ,\n",
       "         1191.5851  ,   872.16797 ,  1129.1658  ,  1074.8173  ,\n",
       "          797.8496  ,  1334.8627  ,  1301.6183  ,   961.9515  ,\n",
       "          296.62082 ,   314.40738 ,   547.8747  ,   801.3613  ,\n",
       "          721.18805 ,   522.46454 ,   533.47266 ,   593.83624 ,\n",
       "          408.55106 ,   860.5561  ,  1546.3909  ,  2384.2095  ,\n",
       "         2717.9722  ,  2868.5527  ,  3036.3716  ,  3317.2495  ,\n",
       "         2215.326   ,   728.1415  ,   164.98381 ,   740.2701  ,\n",
       "         1095.1252  ,  1350.569   ,  1740.0482  ,  2516.399   ,\n",
       "         2940.8745  ,  2817.4824  ,  2102.7476  ,  2417.6147  ,\n",
       "         2696.066   ,  3318.623   ,  3066.2493  ,  3874.8806  ,\n",
       "         4830.2534  ,  4596.0713  ,  4325.1436  ,  4631.3013  ,\n",
       "         3651.4011  ,  2881.0403  ,  2280.4536  ,  3853.673   ,\n",
       "         5049.96    ,  4514.29    ,  1509.2756  ,  1054.5358  ,\n",
       "          829.9235  ,  3197.9487  ,  3425.8594  ,  2819.5378  ,\n",
       "         2958.9934  ,  3419.4048  ,  3673.7007  ,  3227.8083  ,\n",
       "          761.28156 ,   958.49445 ,  1271.3934  ,  1515.6241  ,\n",
       "         2444.2874  ,  2681.633   ,  4424.0015  ,  3456.4421  ,\n",
       "         2364.4993  ,  2563.274   ,  2925.3577  ,  4571.309   ,\n",
       "         4923.1104  ,  4403.6675  ,  5541.8945  ,  6447.1665  ,\n",
       "         5879.6157  ,  7166.568   ,  3916.0786  ,  1440.8287  ,\n",
       "         1007.774   ,  1371.2037  ,  2037.5881  ,  2746.149   ,\n",
       "         3281.9817  ,  3747.395   ,  4121.386   ,  2866.7734  ,\n",
       "         3614.0222  ,  5551.4595  ,  6940.2725  , 10158.218   ,\n",
       "         8861.991   ,  5184.187   ,  2560.1501  ,  2108.1077  ,\n",
       "         2136.3997  ,  2449.8176  ,  4682.3633  ,  2774.6067  ,\n",
       "         3475.986   ,  2947.1936  ,  4453.579   ,  5130.6807  ,\n",
       "         6443.779   ,  6542.687   ,  7032.809   ,  4584.111   ,\n",
       "         2851.0586  ,  1589.8711  ,  1452.2639  ,  2275.7974  ,\n",
       "         3525.0698  ,  2404.4124  ,  1732.1602  ,  2753.4246  ,\n",
       "         4032.188   ,  4689.359   ,  4929.611   ,  4455.401   ,\n",
       "         1869.0514  ,  1870.2812  ,  2976.3042  ,  3751.067   ,\n",
       "         4007.0916  ,  2500.2634  ,  3084.8767  ,  1950.0586  ,\n",
       "         1578.7806  ,   888.27454 ,  1109.3856  ,  1031.4833  ,\n",
       "          272.8655  ,   832.4503  ,  1363.3231  ,  1644.1975  ,\n",
       "         2659.3772  ,  3050.0386  ,  3148.4387  ,  2276.191   ,\n",
       "         2510.7522  ,  2964.8025  ,  3591.9023  ,  6013.931   ,\n",
       "         7687.3154  ,  8302.829   ,  8211.212   ,  6204.9023  ,\n",
       "         4675.1733  ,  4126.71    ,  3093.6567  ,  2216.6172  ,\n",
       "         2977.826   ,  3957.1501  ,  5390.737   ,  3352.409   ,\n",
       "         2312.534   ,  1914.9258  ,  1993.25    ,  1077.6361  ,\n",
       "         1131.053   ,  1196.7819  ,  1205.9498  ,  1608.4939  ,\n",
       "         1431.1022  ,  2548.3325  ,  3325.496   ,  5391.0034  ,\n",
       "         8379.348   ,  8040.2607  ], dtype=float32),\n",
       " 'mse': array([4.98451758e+04, 9.82352266e+04, 1.39227031e+05, 1.31272922e+05,\n",
       "        1.87349703e+05, 1.09814039e+05, 1.05138633e+05, 1.19058523e+05,\n",
       "        8.41488047e+04, 9.73505781e+04, 7.45069453e+04, 2.27911641e+05,\n",
       "        1.27497832e+04, 5.38728125e+03, 1.29043730e+04, 8.91882129e+03,\n",
       "        1.43193594e+04, 1.51532363e+04, 2.84393652e+04, 1.80981680e+04,\n",
       "        4.54634023e+04, 1.08604688e+04, 3.04949883e+04, 4.12930859e+04,\n",
       "        3.47986172e+04, 8.87973047e+04, 2.09717969e+05, 3.85269281e+05,\n",
       "        3.56281688e+05, 3.45853781e+05, 3.32651656e+05, 1.27148930e+05,\n",
       "        7.92987266e+04, 1.01246234e+05, 1.83251516e+05, 2.53231156e+05,\n",
       "        2.79776250e+05, 2.67587312e+05, 2.43414031e+05, 3.75199180e+04,\n",
       "        5.63283477e+04, 1.70312156e+05, 2.11668109e+05, 3.87497156e+05,\n",
       "        2.24361391e+05, 1.42854969e+05, 1.07313289e+05, 1.04132422e+05,\n",
       "        2.16660906e+05, 3.73973969e+05, 6.16071062e+05, 5.89763500e+05,\n",
       "        3.67918531e+05, 1.52172875e+05, 1.87630801e+04, 3.58761328e+04,\n",
       "        2.36220488e+04, 5.49462891e+04, 1.32549156e+05, 1.88035234e+05,\n",
       "        3.79691594e+05, 2.25582219e+05, 1.70455734e+05, 7.93556719e+04,\n",
       "        8.23211406e+04, 1.29210078e+05, 1.45532453e+05, 1.74011234e+05,\n",
       "        3.90043344e+05, 5.22334344e+05, 6.27680188e+05, 3.54425031e+05,\n",
       "        1.04192859e+05, 4.07149805e+04, 1.97713016e+05, 2.70129781e+05,\n",
       "        3.95559031e+05, 3.86441062e+05, 7.21765312e+05, 1.08554612e+06,\n",
       "        1.10468300e+06, 7.43002812e+05, 1.76044219e+05, 5.59344180e+04,\n",
       "        5.95287305e+04, 6.10856055e+04, 1.99103672e+05, 3.08343531e+05,\n",
       "        3.68678844e+05, 5.07974188e+05, 2.22002850e+06, 4.71013250e+06,\n",
       "        6.63519450e+06, 6.09783550e+06, 5.72905500e+06, 5.85168900e+06,\n",
       "        7.01068350e+06, 1.69612862e+06, 6.24435000e+05, 2.20393172e+05,\n",
       "        2.57775625e+05, 5.92038562e+05, 3.97650344e+05, 4.33879312e+05,\n",
       "        8.21041797e+04, 7.94736484e+04, 2.47624781e+05, 1.03441648e+05,\n",
       "        2.31233266e+05, 2.41068641e+05, 2.59091203e+05, 1.81934000e+05,\n",
       "        1.97312266e+05, 1.31522250e+05, 4.67382438e+05, 4.63464250e+05,\n",
       "        3.49866938e+05, 1.58973391e+05, 7.03231719e+04, 1.31502656e+05,\n",
       "        8.23256641e+04, 1.67151078e+05, 9.42494453e+04, 9.11181953e+04,\n",
       "        2.96648688e+05, 2.65233844e+05, 7.19673594e+04, 4.29976523e+04,\n",
       "        4.86395703e+04, 1.00606336e+05, 6.43464180e+04, 7.61648750e+04,\n",
       "        3.28993828e+04, 4.45973047e+04, 7.35957656e+04, 1.02380078e+05,\n",
       "        1.78844469e+05, 3.21606594e+05, 6.11700875e+05, 6.03606500e+05,\n",
       "        6.80363062e+05, 8.69126188e+05, 1.16228238e+06, 1.00169169e+06,\n",
       "        1.03552344e+06, 2.03766391e+05, 1.38477578e+05, 1.21052867e+05,\n",
       "        1.98237203e+05, 2.45916500e+05, 3.41621156e+05, 3.30176344e+05,\n",
       "        2.71890062e+05, 6.90109562e+05, 1.24986200e+06, 9.13927625e+05,\n",
       "        1.72688531e+05, 3.39453562e+05, 3.98904906e+05, 1.36103453e+05,\n",
       "        1.51509234e+05, 1.12540977e+05, 7.62056719e+04, 1.46587703e+05,\n",
       "        3.29065156e+05, 4.58726531e+05, 3.03932688e+05, 9.02710859e+04,\n",
       "        8.98219297e+04, 1.23932234e+05, 1.88787969e+05, 4.77279688e+05,\n",
       "        7.55858938e+05, 5.41742125e+05, 2.01145000e+05, 1.32405734e+05,\n",
       "        6.97288594e+04, 9.11405078e+04, 2.80629406e+05, 5.69867852e+04,\n",
       "        1.55475596e+04, 4.68984453e+04, 7.51319453e+04, 4.77191836e+04,\n",
       "        1.60349750e+05, 1.09435797e+05, 3.12139844e+05, 3.24283906e+05,\n",
       "        4.43134570e+04, 6.06459648e+04, 4.39308633e+04, 6.93428672e+04,\n",
       "        1.46180215e+04, 4.07168242e+04, 6.36625664e+04, 7.06275156e+04,\n",
       "        4.23129766e+04, 9.80881016e+04, 5.56974297e+04, 1.75698578e+05,\n",
       "        2.85474156e+05, 1.18724195e+05, 1.11795570e+05, 4.23455625e+04,\n",
       "        1.95415137e+04, 1.72855195e+04, 2.38040381e+03, 1.84487168e+04,\n",
       "        2.91721836e+04, 2.05772598e+04, 4.45842422e+04, 2.91138457e+04,\n",
       "        4.76366445e+04, 1.23623955e+04, 9.32936230e+03, 6.52924297e+04,\n",
       "        5.98243242e+04, 2.65982539e+04, 2.27087988e+04, 2.88354082e+04,\n",
       "        1.65109980e+04, 2.66730000e+04, 1.33781074e+04, 2.26288027e+04,\n",
       "        5.55993438e+04, 7.97937969e+04, 1.35922109e+05, 6.16652000e+05,\n",
       "        8.29203312e+05, 1.04796588e+06, 1.15508475e+06, 1.58743300e+06,\n",
       "        1.84333200e+06, 1.71189688e+06, 2.29191000e+05, 8.02493047e+04,\n",
       "        9.48598984e+04, 5.58981641e+04, 9.05442422e+04, 2.24229094e+05,\n",
       "        7.78111094e+04, 5.52936523e+04, 7.25762656e+04, 5.20947070e+04,\n",
       "        1.80940797e+05, 1.28912125e+05, 1.00913500e+05, 1.45107750e+05,\n",
       "        1.27571297e+05, 6.05140664e+04, 1.11768008e+05, 8.28322891e+04,\n",
       "        1.13574797e+05, 7.51170703e+04, 6.39483086e+04, 1.92889219e+05,\n",
       "        2.98402531e+05, 1.55489672e+05, 1.49084594e+05, 8.97803750e+04,\n",
       "        1.51885844e+05, 9.98020391e+04, 1.29091766e+05, 5.04985703e+04,\n",
       "        8.30988516e+04, 1.95969344e+05, 3.39376938e+05, 7.07735500e+05,\n",
       "        1.22380175e+06, 1.47553225e+06, 2.69057875e+06, 1.97509888e+06,\n",
       "        9.22343438e+05, 2.85339656e+05, 1.08206436e+04, 2.67735352e+04,\n",
       "        2.33843340e+04, 8.66692969e+04, 1.24162289e+05, 1.01716898e+05,\n",
       "        1.41093594e+05, 1.27971336e+05, 1.09937711e+05, 8.68736016e+04,\n",
       "        9.04842109e+04, 2.66302094e+05, 2.15384719e+05, 1.56602984e+05,\n",
       "        2.48363297e+05, 1.37390328e+05, 4.27067266e+04, 5.85557305e+04,\n",
       "        1.36453656e+05, 5.05028320e+04, 6.67765781e+04, 9.82314922e+04,\n",
       "        7.27487109e+04, 1.22786828e+05, 6.25184180e+04, 8.47172656e+04,\n",
       "        2.55942500e+04, 2.69278613e+04, 8.31928984e+04, 1.64141516e+05,\n",
       "        2.49926469e+05, 4.03294781e+05, 4.74227594e+05, 3.34535219e+05,\n",
       "        1.62902547e+05, 3.76230625e+04, 3.69650547e+04, 1.08194086e+05,\n",
       "        6.20484609e+04, 2.94841906e+05, 6.54751938e+05, 9.99288812e+05,\n",
       "        1.49273725e+06, 1.57333825e+06, 1.41974538e+06, 1.17309438e+06,\n",
       "        1.46546828e+05, 5.85866836e+04, 6.90491406e+04, 8.07145859e+04,\n",
       "        6.33292500e+04, 1.08543727e+05, 6.88774922e+04, 4.61204453e+04,\n",
       "        3.27066656e+05, 8.98716688e+05, 6.94085375e+05, 1.03331888e+06,\n",
       "        1.29146012e+06, 1.38343425e+06, 1.01706094e+06, 1.29743242e+05,\n",
       "        2.16770703e+05, 2.21506750e+05, 1.96828891e+05, 3.85555562e+05,\n",
       "        8.12783688e+05, 1.08977288e+06, 1.00303019e+06, 1.16997900e+06,\n",
       "        1.80874862e+06, 3.25566175e+06, 2.29387450e+06, 8.83432125e+05,\n",
       "        2.67408969e+05, 5.29042812e+05, 1.02828194e+06, 1.76188738e+06,\n",
       "        1.96882938e+06, 1.17660325e+06, 1.79197738e+06, 1.82375925e+06,\n",
       "        7.81927062e+05, 2.19954150e+06, 1.81017825e+06, 1.06182012e+06,\n",
       "        1.76247250e+05, 2.32394750e+05, 4.93473000e+05, 7.95944688e+05,\n",
       "        7.81205375e+05, 4.70264500e+05, 3.40846781e+05, 4.56053406e+05,\n",
       "        2.75059094e+05, 1.29981738e+06, 4.63956650e+06, 8.32320250e+06,\n",
       "        1.06077070e+07, 1.12745670e+07, 1.13563070e+07, 1.15053850e+07,\n",
       "        5.18729850e+06, 6.60693312e+05, 4.94695547e+04, 7.71956938e+05,\n",
       "        1.63818725e+06, 2.74724650e+06, 4.22975150e+06, 8.49280100e+06,\n",
       "        1.03334620e+07, 9.29936500e+06, 7.09748900e+06, 9.62382700e+06,\n",
       "        1.00928610e+07, 1.40057210e+07, 1.39162770e+07, 2.22396600e+07,\n",
       "        3.25146280e+07, 3.11670940e+07, 2.38969280e+07, 2.79830540e+07,\n",
       "        1.91674840e+07, 1.05762870e+07, 8.13007750e+06, 2.00104220e+07,\n",
       "        2.86858460e+07, 2.23914140e+07, 2.67115250e+06, 1.32386288e+06,\n",
       "        1.06678788e+06, 1.42363170e+07, 1.50514010e+07, 1.20435750e+07,\n",
       "        1.23218560e+07, 1.49697220e+07, 1.51396190e+07, 1.27303950e+07,\n",
       "        7.88206188e+05, 1.22725938e+06, 3.15803400e+06, 4.37722700e+06,\n",
       "        7.53707550e+06, 8.29676800e+06, 2.15261280e+07, 1.35801140e+07,\n",
       "        8.47113500e+06, 7.77751350e+06, 1.12819830e+07, 2.57434880e+07,\n",
       "        3.59001160e+07, 3.16131700e+07, 4.30720960e+07, 5.35392600e+07,\n",
       "        4.04179920e+07, 5.23340040e+07, 1.69489600e+07, 2.44102475e+06,\n",
       "        1.49724075e+06, 3.16144775e+06, 6.08750900e+06, 1.29182150e+07,\n",
       "        1.41547100e+07, 1.92460440e+07, 1.98515740e+07, 1.01509650e+07,\n",
       "        1.71125760e+07, 4.47888000e+07, 6.14670080e+07, 1.11890960e+08,\n",
       "        8.11191440e+07, 2.91606040e+07, 9.38792200e+06, 6.86461100e+06,\n",
       "        5.79751650e+06, 7.18833850e+06, 2.34169420e+07, 9.18111100e+06,\n",
       "        1.44931020e+07, 1.27165190e+07, 2.79560180e+07, 3.55165720e+07,\n",
       "        5.22902760e+07, 5.27655120e+07, 5.51627720e+07, 2.47392000e+07,\n",
       "        1.12582610e+07, 4.03337425e+06, 2.65378650e+06, 6.43907550e+06,\n",
       "        1.35180000e+07, 1.05835530e+07, 6.05501700e+06, 1.56414640e+07,\n",
       "        2.57064840e+07, 2.72752380e+07, 2.75515040e+07, 2.16373020e+07,\n",
       "        5.16611650e+06, 4.76470950e+06, 1.05553580e+07, 1.67309020e+07,\n",
       "        1.84321320e+07, 8.76466600e+06, 1.13981630e+07, 4.16460625e+06,\n",
       "        3.14062650e+06, 1.47371688e+06, 1.86224375e+06, 1.34009175e+06,\n",
       "        9.99534141e+04, 9.91921312e+05, 2.88768575e+06, 3.68033775e+06,\n",
       "        1.13748220e+07, 1.32377280e+07, 1.33769470e+07, 7.42736550e+06,\n",
       "        9.57385400e+06, 1.26380240e+07, 2.42164480e+07, 4.87387160e+07,\n",
       "        7.12850560e+07, 7.87156560e+07, 7.43431600e+07, 4.54656320e+07,\n",
       "        2.69276260e+07, 2.19610060e+07, 1.32492150e+07, 6.17389200e+06,\n",
       "        1.02839630e+07, 1.80703420e+07, 3.09094520e+07, 1.34629090e+07,\n",
       "        6.92029200e+06, 4.59176700e+06, 4.78553500e+06, 1.63238438e+06,\n",
       "        1.66329188e+06, 3.58075200e+06, 2.92871625e+06, 3.64452250e+06,\n",
       "        4.46183150e+06, 1.26174010e+07, 2.15947020e+07, 4.74075320e+07,\n",
       "        8.88088320e+07, 8.70095280e+07], dtype=float32),\n",
       " 'rmse': array([  223.26033 ,   313.425   ,   373.13138 ,   362.31604 ,\n",
       "          432.8391  ,   331.38202 ,   324.2509  ,   345.04858 ,\n",
       "          290.08414 ,   312.01053 ,   272.9596  ,   477.4009  ,\n",
       "          112.91494 ,    73.3981  ,   113.59741 ,    94.439514,\n",
       "          119.66352 ,   123.09848 ,   168.63974 ,   134.52943 ,\n",
       "          213.22148 ,   104.21357 ,   174.62814 ,   203.207   ,\n",
       "          186.54388 ,   297.98877 ,   457.94974 ,   620.7006  ,\n",
       "          596.8934  ,   588.0933  ,   576.7596  ,   356.57947 ,\n",
       "          281.60028 ,   318.19214 ,   428.07886 ,   503.22076 ,\n",
       "          528.9388  ,   517.2884  ,   493.37006 ,   193.70059 ,\n",
       "          237.33594 ,   412.68893 ,   460.074   ,   622.4927  ,\n",
       "          473.66803 ,   377.9616  ,   327.58707 ,   322.69556 ,\n",
       "          465.46848 ,   611.5341  ,   784.9019  ,   767.96063 ,\n",
       "          606.56287 ,   390.0934  ,   136.9784  ,   189.40996 ,\n",
       "          153.69466 ,   234.40625 ,   364.073   ,   433.6303  ,\n",
       "          616.19116 ,   474.95496 ,   412.86285 ,   281.7014  ,\n",
       "          286.9166  ,   359.45804 ,   381.48715 ,   417.14655 ,\n",
       "          624.5345  ,   722.727   ,   792.2627  ,   595.33606 ,\n",
       "          322.78918 ,   201.77954 ,   444.64932 ,   519.7401  ,\n",
       "          628.9348  ,   621.6438  ,   849.5677  ,  1041.8954  ,\n",
       "         1051.039   ,   861.9761  ,   419.57623 ,   236.50458 ,\n",
       "          243.98509 ,   247.15501 ,   446.21033 ,   555.28687 ,\n",
       "          607.1893  ,   712.7231  ,  1489.9761  ,  2170.284   ,\n",
       "         2575.8872  ,  2469.3796  ,  2393.5444  ,  2419.0264  ,\n",
       "         2647.7695  ,  1302.355   ,   790.212   ,   469.4605  ,\n",
       "          507.7161  ,   769.4404  ,   630.5952  ,   658.6951  ,\n",
       "          286.53827 ,   281.9107  ,   497.6191  ,   321.62344 ,\n",
       "          480.8672  ,   490.9874  ,   509.01    ,   426.53723 ,\n",
       "          444.19846 ,   362.65994 ,   683.65375 ,   680.78204 ,\n",
       "          591.4955  ,   398.71466 ,   265.18515 ,   362.63293 ,\n",
       "          286.9245  ,   408.84116 ,   307.00073 ,   301.8579  ,\n",
       "          544.65466 ,   515.0086  ,   268.26733 ,   207.35875 ,\n",
       "          220.54381 ,   317.185   ,   253.66595 ,   275.97983 ,\n",
       "          181.38187 ,   211.18074 ,   271.2854  ,   319.96887 ,\n",
       "          422.90005 ,   567.1037  ,   782.1131  ,   776.92114 ,\n",
       "          824.84125 ,   932.26935 ,  1078.092   ,  1000.84546 ,\n",
       "         1017.6067  ,   451.4049  ,   372.12576 ,   347.9265  ,\n",
       "          445.23837 ,   495.8997  ,   584.48364 ,   574.60974 ,\n",
       "          521.4308  ,   830.72833 ,  1117.9723  ,   955.9956  ,\n",
       "          415.55807 ,   582.6264  ,   631.5892  ,   368.922   ,\n",
       "          389.24188 ,   335.47128 ,   276.05374 ,   382.86774 ,\n",
       "          573.64197 ,   677.2935  ,   551.3009  ,   300.45145 ,\n",
       "          299.70306 ,   352.0401  ,   434.49738 ,   690.8543  ,\n",
       "          869.4015  ,   736.0313  ,   448.4919  ,   363.87598 ,\n",
       "          264.06223 ,   301.89487 ,   529.7446  ,   238.71906 ,\n",
       "          124.68985 ,   216.56049 ,   274.10205 ,   218.4472  ,\n",
       "          400.43695 ,   330.81082 ,   558.69476 ,   569.4593  ,\n",
       "          210.50761 ,   246.264   ,   209.59691 ,   263.33035 ,\n",
       "          120.90501 ,   201.7841  ,   252.31442 ,   265.7584  ,\n",
       "          205.70119 ,   313.1902  ,   236.00304 ,   419.16412 ,\n",
       "          534.2978  ,   344.56378 ,   334.35843 ,   205.78038 ,\n",
       "          139.79095 ,   131.47441 ,    48.789383,   135.82605 ,\n",
       "          170.79866 ,   143.44775 ,   211.14981 ,   170.62779 ,\n",
       "          218.2582  ,   111.18631 ,    96.58862 ,   255.52383 ,\n",
       "          244.59012 ,   163.08972 ,   150.69438 ,   169.80992 ,\n",
       "          128.49513 ,   163.3187  ,   115.663765,   150.42873 ,\n",
       "          235.79514 ,   282.47797 ,   368.67615 ,   785.2719  ,\n",
       "          910.606   ,  1023.702   ,  1074.7487  ,  1259.9337  ,\n",
       "         1357.6936  ,  1308.3948  ,   478.73895 ,   283.28308 ,\n",
       "          307.99335 ,   236.42792 ,   300.9057  ,   473.52835 ,\n",
       "          278.94644 ,   235.14603 ,   269.39984 ,   228.24265 ,\n",
       "          425.37137 ,   359.04333 ,   317.66885 ,   380.9301  ,\n",
       "          357.17123 ,   245.99606 ,   334.31723 ,   287.806   ,\n",
       "          337.0086  ,   274.07492 ,   252.88002 ,   439.19153 ,\n",
       "          546.2623  ,   394.32178 ,   386.11475 ,   299.63373 ,\n",
       "          389.72534 ,   315.9146  ,   359.29343 ,   224.71887 ,\n",
       "          288.2687  ,   442.68423 ,   582.56067 ,   841.27014 ,\n",
       "         1106.2557  ,  1214.7148  ,  1640.2983  ,  1405.3821  ,\n",
       "          960.3871  ,   534.17194 ,   104.02232 ,   163.6262  ,\n",
       "          152.91937 ,   294.39648 ,   352.3667  ,   318.93088 ,\n",
       "          375.62427 ,   357.7308  ,   331.56854 ,   294.7433  ,\n",
       "          300.80594 ,   516.0447  ,   464.09558 ,   395.73096 ,\n",
       "          498.3606  ,   370.66202 ,   206.65605 ,   241.98291 ,\n",
       "          369.39633 ,   224.72835 ,   258.41162 ,   313.41904 ,\n",
       "          269.7197  ,   350.40952 ,   250.03683 ,   291.06232 ,\n",
       "          159.98203 ,   164.0971  ,   288.4318  ,   405.14383 ,\n",
       "          499.92645 ,   635.05493 ,   688.64185 ,   578.3902  ,\n",
       "          403.61188 ,   193.96664 ,   192.26297 ,   328.92868 ,\n",
       "          249.09528 ,   542.99347 ,   809.1674  ,   999.64435 ,\n",
       "         1221.7762  ,  1254.3278  ,  1191.5306  ,  1083.0948  ,\n",
       "          382.81436 ,   242.04686 ,   262.77203 ,   284.10312 ,\n",
       "          251.65303 ,   329.45975 ,   262.44522 ,   214.75671 ,\n",
       "          571.8974  ,   948.0067  ,   833.11786 ,  1016.52295 ,\n",
       "         1136.4243  ,  1176.1948  ,  1008.4944  ,   360.19888 ,\n",
       "          465.58643 ,   470.64502 ,   443.65402 ,   620.9312  ,\n",
       "          901.54517 ,  1043.9219  ,  1001.5139  ,  1081.6556  ,\n",
       "         1344.8972  ,  1804.3452  ,  1514.5542  ,   939.9107  ,\n",
       "          517.11597 ,   727.3533  ,  1014.04236 ,  1327.3611  ,\n",
       "         1403.1498  ,  1084.7134  ,  1338.6476  ,  1350.4663  ,\n",
       "          884.2664  ,  1483.0851  ,  1345.4286  ,  1030.4465  ,\n",
       "          419.8181  ,   482.0734  ,   702.4763  ,   892.1573  ,\n",
       "          883.8582  ,   685.75836 ,   583.82086 ,   675.31726 ,\n",
       "          524.46075 ,  1140.0953  ,  2153.9653  ,  2884.996   ,\n",
       "         3256.9475  ,  3357.7622  ,  3369.912   ,  3391.959   ,\n",
       "         2277.564   ,   812.83044 ,   222.41753 ,   878.6108  ,\n",
       "         1279.9169  ,  1657.4819  ,  2056.636   ,  2914.241   ,\n",
       "         3214.5703  ,  3049.486   ,  2664.1113  ,  3102.2292  ,\n",
       "         3176.9263  ,  3742.4219  ,  3730.4526  ,  4715.8945  ,\n",
       "         5702.1597  ,  5582.7495  ,  4888.448   ,  5289.901   ,\n",
       "         4378.0684  ,  3252.1204  ,  2851.329   ,  4473.301   ,\n",
       "         5355.917   ,  4731.9565  ,  1634.3661  ,  1150.5924  ,\n",
       "         1032.8542  ,  3773.1045  ,  3879.6135  ,  3470.3855  ,\n",
       "         3510.25    ,  3869.0725  ,  3890.9663  ,  3567.9678  ,\n",
       "          887.80975 ,  1107.8174  ,  1777.0858  ,  2092.1824  ,\n",
       "         2745.3733  ,  2880.4111  ,  4639.6255  ,  3685.1206  ,\n",
       "         2910.5215  ,  2788.8193  ,  3358.8662  ,  5073.804   ,\n",
       "         5991.6704  ,  5622.559   ,  6562.9336  ,  7317.0527  ,\n",
       "         6357.5146  ,  7234.2246  ,  4116.9116  ,  1562.3779  ,\n",
       "         1223.6179  ,  1778.046   ,  2467.2878  ,  3594.192   ,\n",
       "         3762.2747  ,  4387.0312  ,  4455.5107  ,  3186.0579  ,\n",
       "         4136.735   ,  6692.4434  ,  7840.09    , 10577.853   ,\n",
       "         9006.616   ,  5400.0557  ,  3063.9717  ,  2620.0403  ,\n",
       "         2407.8032  ,  2681.1077  ,  4839.1055  ,  3030.0347  ,\n",
       "         3806.9807  ,  3566.0227  ,  5287.345   ,  5959.578   ,\n",
       "         7231.2017  ,  7263.9873  ,  7427.1646  ,  4973.8516  ,\n",
       "         3355.3333  ,  2008.3262  ,  1629.0447  ,  2537.5332  ,\n",
       "         3676.683   ,  3253.2373  ,  2460.6943  ,  3954.929   ,\n",
       "         5070.1562  ,  5222.57    ,  5248.9526  ,  4651.5913  ,\n",
       "         2272.9092  ,  2182.8215  ,  3248.9011  ,  4090.3425  ,\n",
       "         4293.2656  ,  2960.5178  ,  3376.1167  ,  2040.7367  ,\n",
       "         1772.1813  ,  1213.9674  ,  1364.6405  ,  1157.6233  ,\n",
       "          316.15408 ,   995.95245 ,  1699.3192  ,  1918.4205  ,\n",
       "         3372.658   ,  3638.369   ,  3657.451   ,  2725.3193  ,\n",
       "         3094.1646  ,  3554.9998  ,  4921.021   ,  6981.312   ,\n",
       "         8443.048   ,  8872.185   ,  8622.248   ,  6742.821   ,\n",
       "         5189.1836  ,  4686.2573  ,  3639.947   ,  2484.7317  ,\n",
       "         3206.8618  ,  4250.9224  ,  5559.627   ,  3669.1836  ,\n",
       "         2630.6448  ,  2142.8408  ,  2187.5864  ,  1277.648   ,\n",
       "         1289.6868  ,  1892.2875  ,  1711.3492  ,  1909.0632  ,\n",
       "         2112.3047  ,  3552.0981  ,  4647.01    ,  6885.3125  ,\n",
       "         9423.844   ,  9327.89    ], dtype=float32),\n",
       " 'mape': array([ 2.357651  ,  3.7555861 ,  4.928476  ,  4.204363  ,  4.5186667 ,\n",
       "         3.1603224 ,  3.5504322 ,  4.2806635 ,  3.2071867 ,  3.1082182 ,\n",
       "         3.39917   ,  6.409318  ,  1.2409568 ,  0.89700866,  1.0195662 ,\n",
       "         1.1199217 ,  1.4361511 ,  1.1970403 ,  2.054626  ,  1.6097145 ,\n",
       "         2.2010474 ,  1.1675487 ,  1.844342  ,  2.3458016 ,  2.2009692 ,\n",
       "         3.327142  ,  4.932922  ,  6.9557614 ,  6.559787  ,  6.5358443 ,\n",
       "         6.865234  ,  4.235367  ,  2.4836016 ,  2.8777008 ,  3.8382437 ,\n",
       "         4.460414  ,  5.285952  ,  5.466288  ,  5.3642144 ,  1.7677335 ,\n",
       "         2.3289557 ,  3.8295012 ,  4.824399  ,  6.8989143 ,  5.1878343 ,\n",
       "         4.113194  ,  3.4865565 ,  3.421557  ,  4.3572536 ,  5.713513  ,\n",
       "         7.5148306 ,  7.8544817 ,  6.2090507 ,  3.7869234 ,  1.2969757 ,\n",
       "         1.7687294 ,  1.4279141 ,  2.2617908 ,  3.7017941 ,  3.9628527 ,\n",
       "         5.7744946 ,  4.1076007 ,  3.2502193 ,  2.277306  ,  2.6663115 ,\n",
       "         2.767003  ,  3.1741183 ,  3.3277433 ,  5.429696  ,  6.6981325 ,\n",
       "         7.8765593 ,  5.577521  ,  3.044757  ,  1.8867582 ,  4.0620947 ,\n",
       "         4.200834  ,  5.147541  ,  5.3427706 ,  7.9277596 , 11.016563  ,\n",
       "        11.564376  ,  9.767378  ,  4.7276835 ,  2.1880608 ,  2.5091264 ,\n",
       "         2.3110867 ,  4.834268  ,  5.000431  ,  6.0065866 ,  7.355107  ,\n",
       "        15.729068  , 27.334738  , 36.688007  , 36.777203  , 38.388424  ,\n",
       "        41.440495  , 49.03089   , 23.204382  , 13.021034  ,  7.4661627 ,\n",
       "         7.668253  , 10.622903  ,  9.00646   ,  9.267601  ,  3.2036245 ,\n",
       "         3.8044612 ,  6.482212  ,  4.41818   ,  6.245908  ,  6.360098  ,\n",
       "         6.88806   ,  5.468783  ,  5.3902245 ,  5.1021714 ,  9.803642  ,\n",
       "         9.417204  ,  7.863135  ,  4.7491393 ,  3.182815  ,  4.4914017 ,\n",
       "         3.4392238 ,  4.571062  ,  3.5107527 ,  3.9211512 ,  7.328807  ,\n",
       "         7.0829325 ,  3.2759926 ,  2.7875078 ,  2.8968751 ,  4.1564264 ,\n",
       "         3.3332114 ,  3.3320744 ,  2.1299307 ,  2.4757812 ,  3.2833724 ,\n",
       "         3.6680195 ,  5.210621  ,  6.905602  ,  8.469005  ,  6.736779  ,\n",
       "         7.3822727 ,  8.607595  , 10.718032  , 10.551459  , 11.381187  ,\n",
       "         4.825487  ,  2.4517868 ,  3.0620222 ,  3.7888348 ,  4.905303  ,\n",
       "         5.4316425 ,  5.701284  ,  5.113512  ,  7.6418123 , 11.42613   ,\n",
       "        10.014825  ,  3.4516306 ,  5.2471657 ,  6.4262166 ,  3.4168215 ,\n",
       "         2.820551  ,  2.6268504 ,  2.4083629 ,  3.3866227 ,  4.9435673 ,\n",
       "         6.4864984 ,  5.7426977 ,  3.021133  ,  2.6437492 ,  3.4149091 ,\n",
       "         4.212629  ,  6.1788025 ,  7.979981  ,  6.9632688 ,  3.3564289 ,\n",
       "         2.312861  ,  2.0683994 ,  2.2744858 ,  5.1591015 ,  2.0751932 ,\n",
       "         0.948021  ,  1.8300523 ,  2.2729564 ,  1.8690413 ,  3.4301784 ,\n",
       "         2.9077377 ,  5.4027505 ,  5.8936234 ,  1.7981102 ,  1.9024104 ,\n",
       "         1.9650718 ,  2.1607127 ,  1.164076  ,  2.0383744 ,  2.2486734 ,\n",
       "         2.5218716 ,  1.5195941 ,  2.598458  ,  2.1963289 ,  3.739782  ,\n",
       "         5.7572775 ,  3.6679502 ,  3.3053663 ,  1.9064858 ,  1.428037  ,\n",
       "         0.9452643 ,  0.4829521 ,  1.2500257 ,  1.5718302 ,  1.3468453 ,\n",
       "         2.0226252 ,  1.4154754 ,  1.5528919 ,  0.82325375,  0.80047894,\n",
       "         2.5286918 ,  2.2547705 ,  1.489607  ,  1.3790667 ,  1.615462  ,\n",
       "         1.1447972 ,  1.6863327 ,  1.0888015 ,  1.359279  ,  2.1353796 ,\n",
       "         2.8226206 ,  3.4608922 ,  5.738862  ,  6.3447437 ,  7.076101  ,\n",
       "         8.008678  ,  9.711264  , 11.207605  , 11.32408   ,  3.3577065 ,\n",
       "         1.6152474 ,  2.4549344 ,  1.9644569 ,  2.2994893 ,  3.6452103 ,\n",
       "         2.128275  ,  1.9267479 ,  2.1815186 ,  1.650584  ,  3.0823302 ,\n",
       "         2.675679  ,  2.537331  ,  2.8726761 ,  2.6864302 ,  1.60156   ,\n",
       "         2.1530352 ,  1.7052054 ,  1.9919274 ,  1.8511703 ,  1.8275675 ,\n",
       "         3.1961944 ,  4.4596252 ,  2.6823597 ,  3.0269694 ,  2.2718463 ,\n",
       "         3.0058646 ,  2.5072086 ,  2.835453  ,  1.3054808 ,  2.2668698 ,\n",
       "         2.9561179 ,  3.9962583 ,  5.8435593 ,  8.195924  , 10.3416815 ,\n",
       "        15.201815  , 13.51538   ,  9.029924  ,  4.9006457 ,  0.8987927 ,\n",
       "         1.3314856 ,  1.1960553 ,  2.16613   ,  2.626628  ,  2.180537  ,\n",
       "         3.0715244 ,  2.7440274 ,  2.683096  ,  2.2024622 ,  1.8139675 ,\n",
       "         3.9499302 ,  3.7433083 ,  3.266437  ,  4.3697367 ,  3.2331448 ,\n",
       "         1.5773488 ,  2.0025735 ,  3.1653638 ,  1.8679066 ,  1.4395633 ,\n",
       "         2.306942  ,  2.1148863 ,  3.1243653 ,  2.2770288 ,  2.5214643 ,\n",
       "         1.2275741 ,  1.4068147 ,  1.9636872 ,  2.9099908 ,  4.0580425 ,\n",
       "         4.7671533 ,  5.4324617 ,  4.7733827 ,  3.0675633 ,  1.3191305 ,\n",
       "         1.4462157 ,  2.7259817 ,  1.906931  ,  2.7850838 ,  4.6620913 ,\n",
       "         6.3006015 ,  7.9679356 ,  8.717883  ,  8.624068  ,  8.155692  ,\n",
       "         1.8995981 ,  1.666468  ,  1.7097007 ,  1.8316027 ,  1.5229276 ,\n",
       "         2.2330585 ,  1.5140098 ,  1.29674   ,  2.2646933 ,  4.308434  ,\n",
       "         4.006984  ,  5.713189  ,  6.361538  ,  7.1132965 ,  6.408114  ,\n",
       "         1.9137079 ,  2.3406613 ,  2.3652732 ,  2.4973364 ,  3.2837298 ,\n",
       "         4.240242  ,  4.754793  ,  4.576723  ,  5.623955  ,  6.5137706 ,\n",
       "         9.394657  ,  7.9402246 ,  4.660109  ,  2.537182  ,  2.9042108 ,\n",
       "         3.8760514 ,  6.0746837 ,  6.7640996 ,  4.964784  ,  6.404842  ,\n",
       "         6.1248345 ,  4.2905755 ,  6.9923854 ,  6.8150773 ,  5.011756  ,\n",
       "         1.5425501 ,  1.6612365 ,  2.9204047 ,  4.290403  ,  3.9062896 ,\n",
       "         2.8260086 ,  2.8770404 ,  3.2038398 ,  2.2041922 ,  4.340926  ,\n",
       "         7.2912207 , 11.05275   , 12.131862  , 12.514803  , 13.125207  ,\n",
       "        14.312397  ,  9.483375  ,  3.099136  ,  0.6885442 ,  3.0390968 ,\n",
       "         4.3934855 ,  5.2418084 ,  6.6300406 ,  9.299164  , 10.6738615 ,\n",
       "        10.020204  ,  7.050433  ,  7.7780075 ,  8.631067  , 10.333632  ,\n",
       "         9.071441  , 10.858878  , 12.989972  , 11.875277  , 11.179544  ,\n",
       "        11.865432  ,  9.282186  ,  7.4005713 ,  6.3484035 , 10.759374  ,\n",
       "        14.075917  , 12.63708   ,  4.189865  ,  2.851632  ,  2.2702365 ,\n",
       "         9.42866   , 10.176936  ,  8.619852  ,  9.149383  , 10.614184  ,\n",
       "        11.418897  , 10.240592  ,  2.383102  ,  2.9356284 ,  3.7540073 ,\n",
       "         4.452694  ,  7.2502427 ,  7.865425  , 12.655124  ,  9.690849  ,\n",
       "         6.4191976 ,  6.8926463 ,  7.6587    , 11.467493  , 11.589372  ,\n",
       "         9.963269  , 12.277792  , 13.979827  , 12.648582  , 15.237214  ,\n",
       "         8.22095   ,  3.013451  ,  2.030571  ,  2.7166436 ,  3.9285746 ,\n",
       "         5.1229024 ,  6.06572   ,  6.817688  ,  7.611031  ,  5.4849377 ,\n",
       "         7.095065  , 11.50275   , 14.532222  , 21.50251   , 18.810799  ,\n",
       "        11.048607  ,  5.4988537 ,  4.513855  ,  4.422233  ,  5.006788  ,\n",
       "         9.46426   ,  5.5540805 ,  6.7856407 ,  5.5449595 ,  8.151586  ,\n",
       "         9.221844  , 11.277613  , 11.2388115 , 12.076427  ,  7.8298025 ,\n",
       "         4.835276  ,  2.681443  ,  2.4668798 ,  3.9554245 ,  6.12471   ,\n",
       "         4.277437  ,  3.118749  ,  5.0832086 ,  7.505288  ,  8.695944  ,\n",
       "         9.127966  ,  8.265387  ,  3.4866352 ,  3.4125118 ,  5.2291117 ,\n",
       "         6.4846168 ,  6.8867087 ,  4.265926  ,  5.2696285 ,  3.3287709 ,\n",
       "         2.6990235 ,  1.5421312 ,  1.9258863 ,  1.7903838 ,  0.47228327,\n",
       "         1.4384428 ,  2.3566718 ,  2.7615662 ,  4.3183465 ,  4.9103403 ,\n",
       "         5.047201  ,  3.6379628 ,  4.121671  ,  4.993845  ,  6.292151  ,\n",
       "        10.62752   , 13.889234  , 15.377367  , 15.503489  , 12.071748  ,\n",
       "         9.156539  ,  8.107905  ,  6.082993  ,  4.300373  ,  5.5426497 ,\n",
       "         7.1940293 ,  9.675644  ,  5.935854  ,  4.1123934 ,  3.4518025 ,\n",
       "         3.49708   ,  1.9255847 ,  2.0214746 ,  2.1623719 ,  2.160782  ,\n",
       "         2.788542  ,  2.5910256 ,  4.8353148 ,  6.499802  , 10.79266   ,\n",
       "        17.087582  , 17.197891  ], dtype=float32),\n",
       " 'mase': 2.1870415}"
      ]
     },
     "execution_count": 64,
     "metadata": {},
     "output_type": "execute_result"
    }
   ],
   "source": [
    "# Evaluate model_3 results\n",
    "model_3_results = evaluate_preds(y_true=tf.squeeze(test_labels),\n",
    "                                 y_pred=model_3_preds)\n",
    "model_3_results"
   ]
  },
  {
   "cell_type": "markdown",
   "id": "eb20aaac",
   "metadata": {},
   "source": [
    "## Make our evaluation function work for larger horizons"
   ]
  },
  {
   "cell_type": "code",
   "execution_count": 65,
   "id": "c1d76057",
   "metadata": {},
   "outputs": [],
   "source": [
    "# Create a function to take in model predictions and truth values and return evaluation metrics\n",
    "def evaluate_preds(y_true, y_pred):\n",
    "    # Make sure float32 datatype (for metric calculation)\n",
    "    y_true = tf.cast(y_true, dtype=tf.float32)\n",
    "    y_pred = tf.cast(y_pred, dtype=tf.float32)\n",
    "\n",
    "    # Calculate various evaluation metrics\n",
    "    mae = tf.keras.metrics.mean_absolute_error(y_true, y_pred)\n",
    "    mse = tf.keras.metrics.mean_squared_error(y_true, y_pred)\n",
    "    rmse = tf.sqrt(mse)\n",
    "    mape = tf.keras.metrics.mean_absolute_percentage_error(y_true, y_pred)\n",
    "    mase = mean_absolute_scaled_error(y_true, y_pred)\n",
    "\n",
    "    # Account for different sized metrics (for longer horizons, we want to reduce metrics to a single value)\n",
    "    if mae.ndim > 0:\n",
    "        mae = tf.reduce_mean(mae)\n",
    "        mse = tf.reduce_mean(mse)\n",
    "        rmse = tf.reduce_mean(rmse)\n",
    "        mape = tf.reduce_mean(mape)\n",
    "        mase = tf.reduce_mean(mase)\n",
    "\n",
    "    return {\n",
    "        \"mae\": mae.numpy(),\n",
    "        \"mse\": mse.numpy(),\n",
    "        \"rmse\": rmse.numpy(),\n",
    "        \"mape\": mape.numpy(),\n",
    "        \"mase\": mase.numpy()\n",
    "    }"
   ]
  },
  {
   "cell_type": "code",
   "execution_count": 66,
   "id": "379adf2b",
   "metadata": {},
   "outputs": [
    {
     "data": {
      "text/plain": [
       "{'mae': 1279.1266,\n",
       " 'mse': 5630458.0,\n",
       " 'rmse': 1468.2236,\n",
       " 'mape': 5.5300546,\n",
       " 'mase': 2.1870415}"
      ]
     },
     "execution_count": 66,
     "metadata": {},
     "output_type": "execute_result"
    }
   ],
   "source": [
    "# Get model_3 results aggregated to single values\n",
    "model_3_results = evaluate_preds(y_true=tf.squeeze(test_labels),\n",
    "                                 y_pred=model_3_preds)\n",
    "model_3_results"
   ]
  },
  {
   "cell_type": "markdown",
   "id": "919753cb",
   "metadata": {},
   "source": [
    "We have made and evaluated predictions with `model_3`, let's visualize visualize visualize!"
   ]
  },
  {
   "cell_type": "code",
   "execution_count": 67,
   "id": "58191ef7",
   "metadata": {},
   "outputs": [
    {
     "data": {
      "image/png": "[encoded data removed]",
      "text/plain": [
       "<Figure size 1000x700 with 1 Axes>"
      ]
     },
     "metadata": {},
     "output_type": "display_data"
    }
   ],
   "source": [
    "offset = 300\n",
    "plt.figure(figsize=(10, 7))\n",
    "plot_time_series(timesteps=X_test[-len(test_windows):], values=test_labels[:, 0], start=offset, label='Test Data')\n",
    "plot_time_series(timesteps=X_test[-len(test_windows):], values=tf.reduce_mean(model_3_preds, axis=1), format='-', start=offset, label='model_3_pred')"
   ]
  },
  {
   "cell_type": "markdown",
   "id": "f7318035",
   "metadata": {},
   "source": [
    "## Which of our models is performing the best so far?\n",
    "\n",
    "So we have trained a few models, now let's compare them and see how they have gone..."
   ]
  },
  {
   "cell_type": "code",
   "execution_count": 68,
   "id": "ef3b7b5b",
   "metadata": {},
   "outputs": [
    {
     "data": {
      "text/plain": [
       "<Axes: >"
      ]
     },
     "execution_count": 68,
     "metadata": {},
     "output_type": "execute_result"
    },
    {
     "data": {
      "image/png": "[encoded data removed]",
      "text/plain": [
       "<Figure size 1000x700 with 1 Axes>"
      ]
     },
     "metadata": {},
     "output_type": "display_data"
    }
   ],
   "source": [
    "pd.DataFrame({'naive': naive_results['mae'],\n",
    "              'horizon_1_window_7': model_1_results['mae'],\n",
    "              'horizon_1_window_30': model_2_results['mae'],\n",
    "              'horizon_7_window_30': model_3_results['mae']}, index=['mae']).plot(figsize=(10, 7), kind='bar')"
   ]
  },
  {
   "cell_type": "markdown",
   "id": "485fb523",
   "metadata": {},
   "source": [
    "## Model 4: Conv1D"
   ]
  },
  {
   "cell_type": "code",
   "execution_count": 69,
   "id": "5a19444d",
   "metadata": {},
   "outputs": [],
   "source": [
    "HORIZON = 1 # predict next day of Bitcoin prices\n",
    "WINDOW_SIZE = 7 # use previous week worth data"
   ]
  },
  {
   "cell_type": "code",
   "execution_count": 70,
   "id": "38fa46f3",
   "metadata": {},
   "outputs": [
    {
     "data": {
      "text/plain": [
       "(2780, 2780)"
      ]
     },
     "execution_count": 70,
     "metadata": {},
     "output_type": "execute_result"
    }
   ],
   "source": [
    "# Create windowed data\n",
    "full_windows, full_labels = make_windows(prices, window_size=WINDOW_SIZE, horizon=HORIZON)\n",
    "len(full_windows), len(full_labels)"
   ]
  },
  {
   "cell_type": "code",
   "execution_count": 71,
   "id": "5b7987b0",
   "metadata": {},
   "outputs": [
    {
     "data": {
      "text/plain": [
       "(2229, 2229, 551, 551)"
      ]
     },
     "execution_count": 71,
     "metadata": {},
     "output_type": "execute_result"
    }
   ],
   "source": [
    "# Create train/test sets\n",
    "train_windows, test_windows, train_labels, test_labels = make_train_test_splits(full_windows, full_labels)\n",
    "len(train_windows), len(train_labels), len(test_windows), len(test_labels)"
   ]
  },
  {
   "cell_type": "markdown",
   "id": "9bae52ae",
   "metadata": {},
   "source": [
    "To use the Conv1D layer, we need an input shape of: `(batch_size, timesteps, input_dim)`... However, our data isn't in that shape yet."
   ]
  },
  {
   "cell_type": "code",
   "execution_count": 72,
   "id": "bd72e3eb",
   "metadata": {},
   "outputs": [
    {
     "data": {
      "text/plain": [
       "(7,)"
      ]
     },
     "execution_count": 72,
     "metadata": {},
     "output_type": "execute_result"
    }
   ],
   "source": [
    "# Check data input shape\n",
    "train_windows[0].shape # returns (WINDOW_SIZE, )"
   ]
  },
  {
   "cell_type": "code",
   "execution_count": 73,
   "id": "70cb4513",
   "metadata": {},
   "outputs": [
    {
     "data": {
      "text/plain": [
       "<tf.Tensor: shape=(7,), dtype=float64, numpy=\n",
       "array([123.65499, 125.455  , 108.58483, 118.67466, 121.33866, 120.65533,\n",
       "       121.795  ])>"
      ]
     },
     "execution_count": 73,
     "metadata": {},
     "output_type": "execute_result"
    }
   ],
   "source": [
    "# Before we pass our data to the Conv1D layer, we have to reshape it in order to make sure it works \n",
    "x = tf.constant(train_windows[0])\n",
    "x"
   ]
  },
  {
   "cell_type": "code",
   "execution_count": 74,
   "id": "ba3f47a1",
   "metadata": {},
   "outputs": [],
   "source": [
    "expand_dims_layer = layers.Lambda(lambda x: tf.expand_dims(x, axis=1)) # add an extra dimension to our layer"
   ]
  },
  {
   "cell_type": "code",
   "execution_count": 75,
   "id": "18649f7e",
   "metadata": {},
   "outputs": [
    {
     "name": "stdout",
     "output_type": "stream",
     "text": [
      "Original shape: (7,)\n",
      "Expanded shape: (7, 1)\n",
      "Original values with expanded shape:\n",
      " [[123.65499]\n",
      " [125.455  ]\n",
      " [108.58483]\n",
      " [118.67466]\n",
      " [121.33866]\n",
      " [120.65533]\n",
      " [121.795  ]]\n"
     ]
    }
   ],
   "source": [
    "# Test out our lambda layer\n",
    "print(f'Original shape: {x.shape}') # (WINDOW_SIZE)\n",
    "print(f'Expanded shape: {expand_dims_layer(x).shape}')\n",
    "print(f'Original values with expanded shape:\\n {expand_dims_layer(x)}')"
   ]
  },
  {
   "cell_type": "code",
   "execution_count": 76,
   "id": "5a803a7f",
   "metadata": {},
   "outputs": [
    {
     "name": "stderr",
     "output_type": "stream",
     "text": [
      "WARNING:absl:Found untraced functions such as _jit_compiled_convolution_op while saving (showing 1 of 1). These functions will not be directly callable after loading.\n"
     ]
    },
    {
     "name": "stdout",
     "output_type": "stream",
     "text": [
      "INFO:tensorflow:Assets written to: model_experiments\\model_4_conv1D\\assets\n"
     ]
    },
    {
     "name": "stderr",
     "output_type": "stream",
     "text": [
      "INFO:tensorflow:Assets written to: model_experiments\\model_4_conv1D\\assets\n",
      "WARNING:absl:Found untraced functions such as _jit_compiled_convolution_op while saving (showing 1 of 1). These functions will not be directly callable after loading.\n"
     ]
    },
    {
     "name": "stdout",
     "output_type": "stream",
     "text": [
      "INFO:tensorflow:Assets written to: model_experiments\\model_4_conv1D\\assets\n"
     ]
    },
    {
     "name": "stderr",
     "output_type": "stream",
     "text": [
      "INFO:tensorflow:Assets written to: model_experiments\\model_4_conv1D\\assets\n",
      "WARNING:absl:Found untraced functions such as _jit_compiled_convolution_op while saving (showing 1 of 1). These functions will not be directly callable after loading.\n"
     ]
    },
    {
     "name": "stdout",
     "output_type": "stream",
     "text": [
      "INFO:tensorflow:Assets written to: model_experiments\\model_4_conv1D\\assets\n"
     ]
    },
    {
     "name": "stderr",
     "output_type": "stream",
     "text": [
      "INFO:tensorflow:Assets written to: model_experiments\\model_4_conv1D\\assets\n",
      "WARNING:absl:Found untraced functions such as _jit_compiled_convolution_op while saving (showing 1 of 1). These functions will not be directly callable after loading.\n"
     ]
    },
    {
     "name": "stdout",
     "output_type": "stream",
     "text": [
      "INFO:tensorflow:Assets written to: model_experiments\\model_4_conv1D\\assets\n"
     ]
    },
    {
     "name": "stderr",
     "output_type": "stream",
     "text": [
      "INFO:tensorflow:Assets written to: model_experiments\\model_4_conv1D\\assets\n",
      "WARNING:absl:Found untraced functions such as _jit_compiled_convolution_op while saving (showing 1 of 1). These functions will not be directly callable after loading.\n"
     ]
    },
    {
     "name": "stdout",
     "output_type": "stream",
     "text": [
      "INFO:tensorflow:Assets written to: model_experiments\\model_4_conv1D\\assets\n"
     ]
    },
    {
     "name": "stderr",
     "output_type": "stream",
     "text": [
      "INFO:tensorflow:Assets written to: model_experiments\\model_4_conv1D\\assets\n",
      "WARNING:absl:Found untraced functions such as _jit_compiled_convolution_op while saving (showing 1 of 1). These functions will not be directly callable after loading.\n"
     ]
    },
    {
     "name": "stdout",
     "output_type": "stream",
     "text": [
      "INFO:tensorflow:Assets written to: model_experiments\\model_4_conv1D\\assets\n"
     ]
    },
    {
     "name": "stderr",
     "output_type": "stream",
     "text": [
      "INFO:tensorflow:Assets written to: model_experiments\\model_4_conv1D\\assets\n",
      "WARNING:absl:Found untraced functions such as _jit_compiled_convolution_op while saving (showing 1 of 1). These functions will not be directly callable after loading.\n"
     ]
    },
    {
     "name": "stdout",
     "output_type": "stream",
     "text": [
      "INFO:tensorflow:Assets written to: model_experiments\\model_4_conv1D\\assets\n"
     ]
    },
    {
     "name": "stderr",
     "output_type": "stream",
     "text": [
      "INFO:tensorflow:Assets written to: model_experiments\\model_4_conv1D\\assets\n",
      "WARNING:absl:Found untraced functions such as _jit_compiled_convolution_op while saving (showing 1 of 1). These functions will not be directly callable after loading.\n"
     ]
    },
    {
     "name": "stdout",
     "output_type": "stream",
     "text": [
      "INFO:tensorflow:Assets written to: model_experiments\\model_4_conv1D\\assets\n"
     ]
    },
    {
     "name": "stderr",
     "output_type": "stream",
     "text": [
      "INFO:tensorflow:Assets written to: model_experiments\\model_4_conv1D\\assets\n",
      "WARNING:absl:Found untraced functions such as _jit_compiled_convolution_op while saving (showing 1 of 1). These functions will not be directly callable after loading.\n"
     ]
    },
    {
     "name": "stdout",
     "output_type": "stream",
     "text": [
      "INFO:tensorflow:Assets written to: model_experiments\\model_4_conv1D\\assets\n"
     ]
    },
    {
     "name": "stderr",
     "output_type": "stream",
     "text": [
      "INFO:tensorflow:Assets written to: model_experiments\\model_4_conv1D\\assets\n",
      "WARNING:absl:Found untraced functions such as _jit_compiled_convolution_op while saving (showing 1 of 1). These functions will not be directly callable after loading.\n"
     ]
    },
    {
     "name": "stdout",
     "output_type": "stream",
     "text": [
      "INFO:tensorflow:Assets written to: model_experiments\\model_4_conv1D\\assets\n"
     ]
    },
    {
     "name": "stderr",
     "output_type": "stream",
     "text": [
      "INFO:tensorflow:Assets written to: model_experiments\\model_4_conv1D\\assets\n",
      "WARNING:absl:Found untraced functions such as _jit_compiled_convolution_op while saving (showing 1 of 1). These functions will not be directly callable after loading.\n"
     ]
    },
    {
     "name": "stdout",
     "output_type": "stream",
     "text": [
      "INFO:tensorflow:Assets written to: model_experiments\\model_4_conv1D\\assets\n"
     ]
    },
    {
     "name": "stderr",
     "output_type": "stream",
     "text": [
      "INFO:tensorflow:Assets written to: model_experiments\\model_4_conv1D\\assets\n",
      "WARNING:absl:Found untraced functions such as _jit_compiled_convolution_op while saving (showing 1 of 1). These functions will not be directly callable after loading.\n"
     ]
    },
    {
     "name": "stdout",
     "output_type": "stream",
     "text": [
      "INFO:tensorflow:Assets written to: model_experiments\\model_4_conv1D\\assets\n"
     ]
    },
    {
     "name": "stderr",
     "output_type": "stream",
     "text": [
      "INFO:tensorflow:Assets written to: model_experiments\\model_4_conv1D\\assets\n",
      "WARNING:absl:Found untraced functions such as _jit_compiled_convolution_op while saving (showing 1 of 1). These functions will not be directly callable after loading.\n"
     ]
    },
    {
     "name": "stdout",
     "output_type": "stream",
     "text": [
      "INFO:tensorflow:Assets written to: model_experiments\\model_4_conv1D\\assets\n"
     ]
    },
    {
     "name": "stderr",
     "output_type": "stream",
     "text": [
      "INFO:tensorflow:Assets written to: model_experiments\\model_4_conv1D\\assets\n",
      "WARNING:absl:Found untraced functions such as _jit_compiled_convolution_op while saving (showing 1 of 1). These functions will not be directly callable after loading.\n"
     ]
    },
    {
     "name": "stdout",
     "output_type": "stream",
     "text": [
      "INFO:tensorflow:Assets written to: model_experiments\\model_4_conv1D\\assets\n"
     ]
    },
    {
     "name": "stderr",
     "output_type": "stream",
     "text": [
      "INFO:tensorflow:Assets written to: model_experiments\\model_4_conv1D\\assets\n",
      "WARNING:absl:Found untraced functions such as _jit_compiled_convolution_op while saving (showing 1 of 1). These functions will not be directly callable after loading.\n"
     ]
    },
    {
     "name": "stdout",
     "output_type": "stream",
     "text": [
      "INFO:tensorflow:Assets written to: model_experiments\\model_4_conv1D\\assets\n"
     ]
    },
    {
     "name": "stderr",
     "output_type": "stream",
     "text": [
      "INFO:tensorflow:Assets written to: model_experiments\\model_4_conv1D\\assets\n",
      "WARNING:absl:Found untraced functions such as _jit_compiled_convolution_op while saving (showing 1 of 1). These functions will not be directly callable after loading.\n"
     ]
    },
    {
     "name": "stdout",
     "output_type": "stream",
     "text": [
      "INFO:tensorflow:Assets written to: model_experiments\\model_4_conv1D\\assets\n"
     ]
    },
    {
     "name": "stderr",
     "output_type": "stream",
     "text": [
      "INFO:tensorflow:Assets written to: model_experiments\\model_4_conv1D\\assets\n",
      "WARNING:absl:Found untraced functions such as _jit_compiled_convolution_op while saving (showing 1 of 1). These functions will not be directly callable after loading.\n"
     ]
    },
    {
     "name": "stdout",
     "output_type": "stream",
     "text": [
      "INFO:tensorflow:Assets written to: model_experiments\\model_4_conv1D\\assets\n"
     ]
    },
    {
     "name": "stderr",
     "output_type": "stream",
     "text": [
      "INFO:tensorflow:Assets written to: model_experiments\\model_4_conv1D\\assets\n",
      "WARNING:absl:Found untraced functions such as _jit_compiled_convolution_op while saving (showing 1 of 1). These functions will not be directly callable after loading.\n"
     ]
    },
    {
     "name": "stdout",
     "output_type": "stream",
     "text": [
      "INFO:tensorflow:Assets written to: model_experiments\\model_4_conv1D\\assets\n"
     ]
    },
    {
     "name": "stderr",
     "output_type": "stream",
     "text": [
      "INFO:tensorflow:Assets written to: model_experiments\\model_4_conv1D\\assets\n",
      "WARNING:absl:Found untraced functions such as _jit_compiled_convolution_op while saving (showing 1 of 1). These functions will not be directly callable after loading.\n"
     ]
    },
    {
     "name": "stdout",
     "output_type": "stream",
     "text": [
      "INFO:tensorflow:Assets written to: model_experiments\\model_4_conv1D\\assets\n"
     ]
    },
    {
     "name": "stderr",
     "output_type": "stream",
     "text": [
      "INFO:tensorflow:Assets written to: model_experiments\\model_4_conv1D\\assets\n",
      "WARNING:absl:Found untraced functions such as _jit_compiled_convolution_op while saving (showing 1 of 1). These functions will not be directly callable after loading.\n"
     ]
    },
    {
     "name": "stdout",
     "output_type": "stream",
     "text": [
      "INFO:tensorflow:Assets written to: model_experiments\\model_4_conv1D\\assets\n"
     ]
    },
    {
     "name": "stderr",
     "output_type": "stream",
     "text": [
      "INFO:tensorflow:Assets written to: model_experiments\\model_4_conv1D\\assets\n",
      "WARNING:absl:Found untraced functions such as _jit_compiled_convolution_op while saving (showing 1 of 1). These functions will not be directly callable after loading.\n"
     ]
    },
    {
     "name": "stdout",
     "output_type": "stream",
     "text": [
      "INFO:tensorflow:Assets written to: model_experiments\\model_4_conv1D\\assets\n"
     ]
    },
    {
     "name": "stderr",
     "output_type": "stream",
     "text": [
      "INFO:tensorflow:Assets written to: model_experiments\\model_4_conv1D\\assets\n",
      "WARNING:absl:Found untraced functions such as _jit_compiled_convolution_op while saving (showing 1 of 1). These functions will not be directly callable after loading.\n"
     ]
    },
    {
     "name": "stdout",
     "output_type": "stream",
     "text": [
      "INFO:tensorflow:Assets written to: model_experiments\\model_4_conv1D\\assets\n"
     ]
    },
    {
     "name": "stderr",
     "output_type": "stream",
     "text": [
      "INFO:tensorflow:Assets written to: model_experiments\\model_4_conv1D\\assets\n",
      "WARNING:absl:Found untraced functions such as _jit_compiled_convolution_op while saving (showing 1 of 1). These functions will not be directly callable after loading.\n"
     ]
    },
    {
     "name": "stdout",
     "output_type": "stream",
     "text": [
      "INFO:tensorflow:Assets written to: model_experiments\\model_4_conv1D\\assets\n"
     ]
    },
    {
     "name": "stderr",
     "output_type": "stream",
     "text": [
      "INFO:tensorflow:Assets written to: model_experiments\\model_4_conv1D\\assets\n",
      "WARNING:absl:Found untraced functions such as _jit_compiled_convolution_op while saving (showing 1 of 1). These functions will not be directly callable after loading.\n"
     ]
    },
    {
     "name": "stdout",
     "output_type": "stream",
     "text": [
      "INFO:tensorflow:Assets written to: model_experiments\\model_4_conv1D\\assets\n"
     ]
    },
    {
     "name": "stderr",
     "output_type": "stream",
     "text": [
      "INFO:tensorflow:Assets written to: model_experiments\\model_4_conv1D\\assets\n",
      "WARNING:absl:Found untraced functions such as _jit_compiled_convolution_op while saving (showing 1 of 1). These functions will not be directly callable after loading.\n"
     ]
    },
    {
     "name": "stdout",
     "output_type": "stream",
     "text": [
      "INFO:tensorflow:Assets written to: model_experiments\\model_4_conv1D\\assets\n"
     ]
    },
    {
     "name": "stderr",
     "output_type": "stream",
     "text": [
      "INFO:tensorflow:Assets written to: model_experiments\\model_4_conv1D\\assets\n",
      "WARNING:absl:Found untraced functions such as _jit_compiled_convolution_op while saving (showing 1 of 1). These functions will not be directly callable after loading.\n"
     ]
    },
    {
     "name": "stdout",
     "output_type": "stream",
     "text": [
      "INFO:tensorflow:Assets written to: model_experiments\\model_4_conv1D\\assets\n"
     ]
    },
    {
     "name": "stderr",
     "output_type": "stream",
     "text": [
      "INFO:tensorflow:Assets written to: model_experiments\\model_4_conv1D\\assets\n",
      "WARNING:absl:Found untraced functions such as _jit_compiled_convolution_op while saving (showing 1 of 1). These functions will not be directly callable after loading.\n"
     ]
    },
    {
     "name": "stdout",
     "output_type": "stream",
     "text": [
      "INFO:tensorflow:Assets written to: model_experiments\\model_4_conv1D\\assets\n"
     ]
    },
    {
     "name": "stderr",
     "output_type": "stream",
     "text": [
      "INFO:tensorflow:Assets written to: model_experiments\\model_4_conv1D\\assets\n",
      "WARNING:absl:Found untraced functions such as _jit_compiled_convolution_op while saving (showing 1 of 1). These functions will not be directly callable after loading.\n"
     ]
    },
    {
     "name": "stdout",
     "output_type": "stream",
     "text": [
      "INFO:tensorflow:Assets written to: model_experiments\\model_4_conv1D\\assets\n"
     ]
    },
    {
     "name": "stderr",
     "output_type": "stream",
     "text": [
      "INFO:tensorflow:Assets written to: model_experiments\\model_4_conv1D\\assets\n",
      "WARNING:absl:Found untraced functions such as _jit_compiled_convolution_op while saving (showing 1 of 1). These functions will not be directly callable after loading.\n"
     ]
    },
    {
     "name": "stdout",
     "output_type": "stream",
     "text": [
      "INFO:tensorflow:Assets written to: model_experiments\\model_4_conv1D\\assets\n"
     ]
    },
    {
     "name": "stderr",
     "output_type": "stream",
     "text": [
      "INFO:tensorflow:Assets written to: model_experiments\\model_4_conv1D\\assets\n",
      "WARNING:absl:Found untraced functions such as _jit_compiled_convolution_op while saving (showing 1 of 1). These functions will not be directly callable after loading.\n"
     ]
    },
    {
     "name": "stdout",
     "output_type": "stream",
     "text": [
      "INFO:tensorflow:Assets written to: model_experiments\\model_4_conv1D\\assets\n"
     ]
    },
    {
     "name": "stderr",
     "output_type": "stream",
     "text": [
      "INFO:tensorflow:Assets written to: model_experiments\\model_4_conv1D\\assets\n",
      "WARNING:absl:Found untraced functions such as _jit_compiled_convolution_op while saving (showing 1 of 1). These functions will not be directly callable after loading.\n"
     ]
    },
    {
     "name": "stdout",
     "output_type": "stream",
     "text": [
      "INFO:tensorflow:Assets written to: model_experiments\\model_4_conv1D\\assets\n"
     ]
    },
    {
     "name": "stderr",
     "output_type": "stream",
     "text": [
      "INFO:tensorflow:Assets written to: model_experiments\\model_4_conv1D\\assets\n",
      "WARNING:absl:Found untraced functions such as _jit_compiled_convolution_op while saving (showing 1 of 1). These functions will not be directly callable after loading.\n"
     ]
    },
    {
     "name": "stdout",
     "output_type": "stream",
     "text": [
      "INFO:tensorflow:Assets written to: model_experiments\\model_4_conv1D\\assets\n"
     ]
    },
    {
     "name": "stderr",
     "output_type": "stream",
     "text": [
      "INFO:tensorflow:Assets written to: model_experiments\\model_4_conv1D\\assets\n",
      "WARNING:absl:Found untraced functions such as _jit_compiled_convolution_op while saving (showing 1 of 1). These functions will not be directly callable after loading.\n"
     ]
    },
    {
     "name": "stdout",
     "output_type": "stream",
     "text": [
      "INFO:tensorflow:Assets written to: model_experiments\\model_4_conv1D\\assets\n"
     ]
    },
    {
     "name": "stderr",
     "output_type": "stream",
     "text": [
      "INFO:tensorflow:Assets written to: model_experiments\\model_4_conv1D\\assets\n",
      "WARNING:absl:Found untraced functions such as _jit_compiled_convolution_op while saving (showing 1 of 1). These functions will not be directly callable after loading.\n"
     ]
    },
    {
     "name": "stdout",
     "output_type": "stream",
     "text": [
      "INFO:tensorflow:Assets written to: model_experiments\\model_4_conv1D\\assets\n"
     ]
    },
    {
     "name": "stderr",
     "output_type": "stream",
     "text": [
      "INFO:tensorflow:Assets written to: model_experiments\\model_4_conv1D\\assets\n",
      "WARNING:absl:Found untraced functions such as _jit_compiled_convolution_op while saving (showing 1 of 1). These functions will not be directly callable after loading.\n"
     ]
    },
    {
     "name": "stdout",
     "output_type": "stream",
     "text": [
      "INFO:tensorflow:Assets written to: model_experiments\\model_4_conv1D\\assets\n"
     ]
    },
    {
     "name": "stderr",
     "output_type": "stream",
     "text": [
      "INFO:tensorflow:Assets written to: model_experiments\\model_4_conv1D\\assets\n"
     ]
    },
    {
     "data": {
      "text/plain": [
       "<keras.callbacks.History at 0x19830c93820>"
      ]
     },
     "execution_count": 76,
     "metadata": {},
     "output_type": "execute_result"
    }
   ],
   "source": [
    "tf.random.set_seed(42)\n",
    "\n",
    "# Create Conv1D model\n",
    "model_4 = tf.keras.Sequential([\n",
    "    layers.Lambda(lambda x: tf.expand_dims(x, axis=1)),\n",
    "    layers.Conv1D(filters=128, kernel_size=5, strides=1, padding='causal', activation='relu'),\n",
    "    layers.Dense(HORIZON)\n",
    "], name='model_4_conv1D')\n",
    "\n",
    "# Compile model\n",
    "model_4.compile(loss='mae',\n",
    "                optimizer=tf.keras.optimizers.Adam())\n",
    "\n",
    "# Fit model\n",
    "model_4.fit(train_windows,\n",
    "            train_labels,\n",
    "            batch_size=128,\n",
    "            epochs=100,\n",
    "            verbose=0,\n",
    "            validation_data=(test_windows, test_labels),\n",
    "            callbacks=[create_model_checkpoint(model_name=model_4.name)])"
   ]
  },
  {
   "cell_type": "code",
   "execution_count": 77,
   "id": "04870920",
   "metadata": {},
   "outputs": [
    {
     "name": "stdout",
     "output_type": "stream",
     "text": [
      "Model: \"model_4_conv1D\"\n",
      "_________________________________________________________________\n",
      " Layer (type)                Output Shape              Param #   \n",
      "=================================================================\n",
      " lambda_1 (Lambda)           (None, 1, 7)              0         \n",
      "                                                                 \n",
      " conv1d (Conv1D)             (None, 1, 128)            4608      \n",
      "                                                                 \n",
      " dense_6 (Dense)             (None, 1, 1)              129       \n",
      "                                                                 \n",
      "=================================================================\n",
      "Total params: 4,737\n",
      "Trainable params: 4,737\n",
      "Non-trainable params: 0\n",
      "_________________________________________________________________\n"
     ]
    }
   ],
   "source": [
    "model_4.summary()"
   ]
  },
  {
   "cell_type": "code",
   "execution_count": 78,
   "id": "f7fcad34",
   "metadata": {},
   "outputs": [
    {
     "name": "stdout",
     "output_type": "stream",
     "text": [
      "18/18 [==============================] - 0s 8ms/step - loss: 606.2174\n"
     ]
    },
    {
     "data": {
      "text/plain": [
       "606.2174072265625"
      ]
     },
     "execution_count": 78,
     "metadata": {},
     "output_type": "execute_result"
    }
   ],
   "source": [
    "# Evaluate model\n",
    "model_4.evaluate(test_windows, test_labels)"
   ]
  },
  {
   "cell_type": "code",
   "execution_count": 79,
   "id": "9315ab0d",
   "metadata": {},
   "outputs": [
    {
     "name": "stdout",
     "output_type": "stream",
     "text": [
      "18/18 [==============================] - 0s 5ms/step - loss: 580.0549\n"
     ]
    },
    {
     "data": {
      "text/plain": [
       "580.0548706054688"
      ]
     },
     "execution_count": 79,
     "metadata": {},
     "output_type": "execute_result"
    }
   ],
   "source": [
    "# Load back in best performing Conv1D and re-evaluate\n",
    "model_4 = tf.keras.models.load_model('model_experiments/model_4_conv1D')\n",
    "model_4.evaluate(test_windows, test_labels)"
   ]
  },
  {
   "cell_type": "code",
   "execution_count": 80,
   "id": "33cdffb2",
   "metadata": {},
   "outputs": [
    {
     "name": "stdout",
     "output_type": "stream",
     "text": [
      "18/18 [==============================] - 0s 5ms/step\n"
     ]
    },
    {
     "data": {
      "text/plain": [
       "<tf.Tensor: shape=(5,), dtype=float32, numpy=array([8760.579, 8694.66 , 8532.897, 8487.464, 8520.76 ], dtype=float32)>"
      ]
     },
     "execution_count": 80,
     "metadata": {},
     "output_type": "execute_result"
    }
   ],
   "source": [
    "# Make predictions\n",
    "model_4_preds = make_preds(model_4, test_windows)\n",
    "model_4_preds[:5]"
   ]
  },
  {
   "cell_type": "code",
   "execution_count": 81,
   "id": "c6126ee6",
   "metadata": {},
   "outputs": [
    {
     "data": {
      "text/plain": [
       "{'mae': 580.0549,\n",
       " 'mse': 1209732.4,\n",
       " 'rmse': 1099.8783,\n",
       " 'mape': 2.5877762,\n",
       " 'mase': 1.0123986}"
      ]
     },
     "execution_count": 81,
     "metadata": {},
     "output_type": "execute_result"
    }
   ],
   "source": [
    "# Evaluate predictions\n",
    "model_4_results = evaluate_preds(y_true=tf.squeeze(test_labels),\n",
    "                                 y_pred=model_4_preds)\n",
    "model_4_results"
   ]
  },
  {
   "cell_type": "code",
   "execution_count": 82,
   "id": "d4aaf90b",
   "metadata": {},
   "outputs": [
    {
     "data": {
      "text/plain": [
       "{'mae': 574.7403,\n",
       " 'mse': 1188002.9,\n",
       " 'rmse': 1089.9554,\n",
       " 'mape': 2.5618834,\n",
       " 'mase': 1.0031228}"
      ]
     },
     "execution_count": 82,
     "metadata": {},
     "output_type": "execute_result"
    }
   ],
   "source": [
    "model_1_results"
   ]
  },
  {
   "cell_type": "markdown",
   "id": "a35ec103",
   "metadata": {},
   "source": [
    "## Model 5: RNN (LSTM)\n",
    "\n",
    "Let's build an RNN model for our time series data."
   ]
  },
  {
   "cell_type": "code",
   "execution_count": 83,
   "id": "1b1b5dcc",
   "metadata": {},
   "outputs": [
    {
     "name": "stdout",
     "output_type": "stream",
     "text": [
      "WARNING:tensorflow:Layer lstm will not use cuDNN kernels since it doesn't meet the criteria. It will use a generic GPU kernel as fallback when running on GPU.\n"
     ]
    },
    {
     "name": "stderr",
     "output_type": "stream",
     "text": [
      "WARNING:tensorflow:Layer lstm will not use cuDNN kernels since it doesn't meet the criteria. It will use a generic GPU kernel as fallback when running on GPU.\n"
     ]
    },
    {
     "name": "stdout",
     "output_type": "stream",
     "text": [
      "Epoch 1/100\n",
      "17/18 [===========================>..] - ETA: 0s - loss: 2363.2395INFO:tensorflow:Assets written to: model_experiments\\model_5_LSTM\\assets\n"
     ]
    },
    {
     "name": "stderr",
     "output_type": "stream",
     "text": [
      "INFO:tensorflow:Assets written to: model_experiments\\model_5_LSTM\\assets\n"
     ]
    },
    {
     "name": "stdout",
     "output_type": "stream",
     "text": [
      "18/18 [==============================] - 6s 218ms/step - loss: 2353.2170 - val_loss: 9978.8613\n",
      "Epoch 2/100\n",
      "17/18 [===========================>..] - ETA: 0s - loss: 794.4825INFO:tensorflow:Assets written to: model_experiments\\model_5_LSTM\\assets\n"
     ]
    },
    {
     "name": "stderr",
     "output_type": "stream",
     "text": [
      "INFO:tensorflow:Assets written to: model_experiments\\model_5_LSTM\\assets\n"
     ]
    },
    {
     "name": "stdout",
     "output_type": "stream",
     "text": [
      "18/18 [==============================] - 3s 177ms/step - loss: 780.8487 - val_loss: 1423.7509\n",
      "Epoch 3/100\n",
      "18/18 [==============================] - 0s 16ms/step - loss: 254.1721 - val_loss: 1427.5345\n",
      "Epoch 4/100\n",
      "15/18 [========================>.....] - ETA: 0s - loss: 201.6899INFO:tensorflow:Assets written to: model_experiments\\model_5_LSTM\\assets\n"
     ]
    },
    {
     "name": "stderr",
     "output_type": "stream",
     "text": [
      "INFO:tensorflow:Assets written to: model_experiments\\model_5_LSTM\\assets\n"
     ]
    },
    {
     "name": "stdout",
     "output_type": "stream",
     "text": [
      "18/18 [==============================] - 3s 174ms/step - loss: 195.8100 - val_loss: 1052.9501\n",
      "Epoch 5/100\n",
      "15/18 [========================>.....] - ETA: 0s - loss: 187.5209INFO:tensorflow:Assets written to: model_experiments\\model_5_LSTM\\assets\n"
     ]
    },
    {
     "name": "stderr",
     "output_type": "stream",
     "text": [
      "INFO:tensorflow:Assets written to: model_experiments\\model_5_LSTM\\assets\n"
     ]
    },
    {
     "name": "stdout",
     "output_type": "stream",
     "text": [
      "18/18 [==============================] - 3s 194ms/step - loss: 187.8471 - val_loss: 1038.0267\n",
      "Epoch 6/100\n",
      "18/18 [==============================] - ETA: 0s - loss: 185.2354INFO:tensorflow:Assets written to: model_experiments\\model_5_LSTM\\assets\n"
     ]
    },
    {
     "name": "stderr",
     "output_type": "stream",
     "text": [
      "INFO:tensorflow:Assets written to: model_experiments\\model_5_LSTM\\assets\n"
     ]
    },
    {
     "name": "stdout",
     "output_type": "stream",
     "text": [
      "18/18 [==============================] - 3s 201ms/step - loss: 185.2354 - val_loss: 1030.5146\n",
      "Epoch 7/100\n",
      "18/18 [==============================] - 0s 20ms/step - loss: 183.7704 - val_loss: 1051.7043\n",
      "Epoch 8/100\n",
      "18/18 [==============================] - 0s 16ms/step - loss: 181.1779 - val_loss: 1052.8646\n",
      "Epoch 9/100\n",
      "18/18 [==============================] - 0s 14ms/step - loss: 179.7665 - val_loss: 1075.9847\n",
      "Epoch 10/100\n",
      "18/18 [==============================] - 0s 16ms/step - loss: 179.2101 - val_loss: 1073.5948\n",
      "Epoch 11/100\n",
      "17/18 [===========================>..] - ETA: 0s - loss: 178.8947INFO:tensorflow:Assets written to: model_experiments\\model_5_LSTM\\assets\n"
     ]
    },
    {
     "name": "stderr",
     "output_type": "stream",
     "text": [
      "INFO:tensorflow:Assets written to: model_experiments\\model_5_LSTM\\assets\n"
     ]
    },
    {
     "name": "stdout",
     "output_type": "stream",
     "text": [
      "18/18 [==============================] - 3s 173ms/step - loss: 177.9902 - val_loss: 993.0792\n",
      "Epoch 12/100\n",
      "15/18 [========================>.....] - ETA: 0s - loss: 178.7952INFO:tensorflow:Assets written to: model_experiments\\model_5_LSTM\\assets\n"
     ]
    },
    {
     "name": "stderr",
     "output_type": "stream",
     "text": [
      "INFO:tensorflow:Assets written to: model_experiments\\model_5_LSTM\\assets\n"
     ]
    },
    {
     "name": "stdout",
     "output_type": "stream",
     "text": [
      "18/18 [==============================] - 3s 182ms/step - loss: 176.8562 - val_loss: 984.8208\n",
      "Epoch 13/100\n",
      "17/18 [===========================>..] - ETA: 0s - loss: 173.3674INFO:tensorflow:Assets written to: model_experiments\\model_5_LSTM\\assets\n"
     ]
    },
    {
     "name": "stderr",
     "output_type": "stream",
     "text": [
      "INFO:tensorflow:Assets written to: model_experiments\\model_5_LSTM\\assets\n"
     ]
    },
    {
     "name": "stdout",
     "output_type": "stream",
     "text": [
      "18/18 [==============================] - 3s 182ms/step - loss: 173.3692 - val_loss: 979.2298\n",
      "Epoch 14/100\n",
      "18/18 [==============================] - 0s 20ms/step - loss: 172.0294 - val_loss: 988.4464\n",
      "Epoch 15/100\n",
      "18/18 [==============================] - 0s 17ms/step - loss: 170.0691 - val_loss: 982.2413\n",
      "Epoch 16/100\n",
      "15/18 [========================>.....] - ETA: 0s - loss: 167.8233INFO:tensorflow:Assets written to: model_experiments\\model_5_LSTM\\assets\n"
     ]
    },
    {
     "name": "stderr",
     "output_type": "stream",
     "text": [
      "INFO:tensorflow:Assets written to: model_experiments\\model_5_LSTM\\assets\n"
     ]
    },
    {
     "name": "stdout",
     "output_type": "stream",
     "text": [
      "18/18 [==============================] - 3s 204ms/step - loss: 168.2856 - val_loss: 959.0252\n",
      "Epoch 17/100\n",
      "17/18 [===========================>..] - ETA: 0s - loss: 164.5813INFO:tensorflow:Assets written to: model_experiments\\model_5_LSTM\\assets\n"
     ]
    },
    {
     "name": "stderr",
     "output_type": "stream",
     "text": [
      "INFO:tensorflow:Assets written to: model_experiments\\model_5_LSTM\\assets\n"
     ]
    },
    {
     "name": "stdout",
     "output_type": "stream",
     "text": [
      "18/18 [==============================] - 3s 183ms/step - loss: 165.4910 - val_loss: 924.8217\n",
      "Epoch 18/100\n",
      "18/18 [==============================] - 0s 20ms/step - loss: 165.2429 - val_loss: 938.0199\n",
      "Epoch 19/100\n",
      "18/18 [==============================] - 0s 19ms/step - loss: 161.7330 - val_loss: 975.8560\n",
      "Epoch 20/100\n",
      "15/18 [========================>.....] - ETA: 0s - loss: 162.8283INFO:tensorflow:Assets written to: model_experiments\\model_5_LSTM\\assets\n"
     ]
    },
    {
     "name": "stderr",
     "output_type": "stream",
     "text": [
      "INFO:tensorflow:Assets written to: model_experiments\\model_5_LSTM\\assets\n"
     ]
    },
    {
     "name": "stdout",
     "output_type": "stream",
     "text": [
      "18/18 [==============================] - 3s 179ms/step - loss: 162.7845 - val_loss: 899.9973\n",
      "Epoch 21/100\n",
      "15/18 [========================>.....] - ETA: 0s - loss: 158.3717INFO:tensorflow:Assets written to: model_experiments\\model_5_LSTM\\assets\n"
     ]
    },
    {
     "name": "stderr",
     "output_type": "stream",
     "text": [
      "INFO:tensorflow:Assets written to: model_experiments\\model_5_LSTM\\assets\n"
     ]
    },
    {
     "name": "stdout",
     "output_type": "stream",
     "text": [
      "18/18 [==============================] - 3s 179ms/step - loss: 161.2772 - val_loss: 883.3069\n",
      "Epoch 22/100\n",
      "18/18 [==============================] - 0s 17ms/step - loss: 157.0986 - val_loss: 955.0759\n",
      "Epoch 23/100\n",
      "18/18 [==============================] - 0s 18ms/step - loss: 157.3392 - val_loss: 951.1849\n",
      "Epoch 24/100\n",
      "17/18 [===========================>..] - ETA: 0s - loss: 152.7212INFO:tensorflow:Assets written to: model_experiments\\model_5_LSTM\\assets\n"
     ]
    },
    {
     "name": "stderr",
     "output_type": "stream",
     "text": [
      "INFO:tensorflow:Assets written to: model_experiments\\model_5_LSTM\\assets\n"
     ]
    },
    {
     "name": "stdout",
     "output_type": "stream",
     "text": [
      "18/18 [==============================] - 3s 199ms/step - loss: 153.5524 - val_loss: 868.2255\n",
      "Epoch 25/100\n",
      "16/18 [=========================>....] - ETA: 0s - loss: 151.8271INFO:tensorflow:Assets written to: model_experiments\\model_5_LSTM\\assets\n"
     ]
    },
    {
     "name": "stderr",
     "output_type": "stream",
     "text": [
      "INFO:tensorflow:Assets written to: model_experiments\\model_5_LSTM\\assets\n"
     ]
    },
    {
     "name": "stdout",
     "output_type": "stream",
     "text": [
      "18/18 [==============================] - 3s 178ms/step - loss: 151.9138 - val_loss: 844.4711\n",
      "Epoch 26/100\n",
      "14/18 [======================>.......] - ETA: 0s - loss: 153.4843INFO:tensorflow:Assets written to: model_experiments\\model_5_LSTM\\assets\n"
     ]
    },
    {
     "name": "stderr",
     "output_type": "stream",
     "text": [
      "INFO:tensorflow:Assets written to: model_experiments\\model_5_LSTM\\assets\n"
     ]
    },
    {
     "name": "stdout",
     "output_type": "stream",
     "text": [
      "18/18 [==============================] - 3s 173ms/step - loss: 148.6306 - val_loss: 837.6831\n",
      "Epoch 27/100\n",
      "18/18 [==============================] - 0s 20ms/step - loss: 147.7047 - val_loss: 905.6413\n",
      "Epoch 28/100\n",
      "16/18 [=========================>....] - ETA: 0s - loss: 149.4968INFO:tensorflow:Assets written to: model_experiments\\model_5_LSTM\\assets\n"
     ]
    },
    {
     "name": "stderr",
     "output_type": "stream",
     "text": [
      "INFO:tensorflow:Assets written to: model_experiments\\model_5_LSTM\\assets\n"
     ]
    },
    {
     "name": "stdout",
     "output_type": "stream",
     "text": [
      "18/18 [==============================] - 3s 178ms/step - loss: 147.6013 - val_loss: 820.1588\n",
      "Epoch 29/100\n",
      "18/18 [==============================] - 0s 20ms/step - loss: 143.8309 - val_loss: 841.2886\n",
      "Epoch 30/100\n",
      "18/18 [==============================] - 0s 18ms/step - loss: 141.2817 - val_loss: 829.5850\n",
      "Epoch 31/100\n",
      "16/18 [=========================>....] - ETA: 0s - loss: 142.7965INFO:tensorflow:Assets written to: model_experiments\\model_5_LSTM\\assets\n"
     ]
    },
    {
     "name": "stderr",
     "output_type": "stream",
     "text": [
      "INFO:tensorflow:Assets written to: model_experiments\\model_5_LSTM\\assets\n"
     ]
    },
    {
     "name": "stdout",
     "output_type": "stream",
     "text": [
      "18/18 [==============================] - 3s 194ms/step - loss: 140.9170 - val_loss: 784.4219\n",
      "Epoch 32/100\n",
      "18/18 [==============================] - ETA: 0s - loss: 140.0253INFO:tensorflow:Assets written to: model_experiments\\model_5_LSTM\\assets\n"
     ]
    },
    {
     "name": "stderr",
     "output_type": "stream",
     "text": [
      "INFO:tensorflow:Assets written to: model_experiments\\model_5_LSTM\\assets\n"
     ]
    },
    {
     "name": "stdout",
     "output_type": "stream",
     "text": [
      "18/18 [==============================] - 3s 179ms/step - loss: 140.0253 - val_loss: 769.2048\n",
      "Epoch 33/100\n",
      "17/18 [===========================>..] - ETA: 0s - loss: 137.9684INFO:tensorflow:Assets written to: model_experiments\\model_5_LSTM\\assets\n"
     ]
    },
    {
     "name": "stderr",
     "output_type": "stream",
     "text": [
      "INFO:tensorflow:Assets written to: model_experiments\\model_5_LSTM\\assets\n"
     ]
    },
    {
     "name": "stdout",
     "output_type": "stream",
     "text": [
      "18/18 [==============================] - 3s 177ms/step - loss: 138.4201 - val_loss: 768.9231\n",
      "Epoch 34/100\n",
      "14/18 [======================>.......] - ETA: 0s - loss: 138.3120INFO:tensorflow:Assets written to: model_experiments\\model_5_LSTM\\assets\n"
     ]
    },
    {
     "name": "stderr",
     "output_type": "stream",
     "text": [
      "INFO:tensorflow:Assets written to: model_experiments\\model_5_LSTM\\assets\n"
     ]
    },
    {
     "name": "stdout",
     "output_type": "stream",
     "text": [
      "18/18 [==============================] - 3s 180ms/step - loss: 139.4247 - val_loss: 749.9172\n",
      "Epoch 35/100\n",
      "18/18 [==============================] - 0s 16ms/step - loss: 135.0596 - val_loss: 755.0364\n",
      "Epoch 36/100\n",
      "15/18 [========================>.....] - ETA: 0s - loss: 133.6353INFO:tensorflow:Assets written to: model_experiments\\model_5_LSTM\\assets\n"
     ]
    },
    {
     "name": "stderr",
     "output_type": "stream",
     "text": [
      "INFO:tensorflow:Assets written to: model_experiments\\model_5_LSTM\\assets\n"
     ]
    },
    {
     "name": "stdout",
     "output_type": "stream",
     "text": [
      "18/18 [==============================] - 3s 199ms/step - loss: 133.0611 - val_loss: 739.3204\n",
      "Epoch 37/100\n",
      "14/18 [======================>.......] - ETA: 0s - loss: 130.3801INFO:tensorflow:Assets written to: model_experiments\\model_5_LSTM\\assets\n"
     ]
    },
    {
     "name": "stderr",
     "output_type": "stream",
     "text": [
      "INFO:tensorflow:Assets written to: model_experiments\\model_5_LSTM\\assets\n"
     ]
    },
    {
     "name": "stdout",
     "output_type": "stream",
     "text": [
      "18/18 [==============================] - 3s 185ms/step - loss: 130.5853 - val_loss: 733.6887\n",
      "Epoch 38/100\n",
      "18/18 [==============================] - ETA: 0s - loss: 130.3719INFO:tensorflow:Assets written to: model_experiments\\model_5_LSTM\\assets\n"
     ]
    },
    {
     "name": "stderr",
     "output_type": "stream",
     "text": [
      "INFO:tensorflow:Assets written to: model_experiments\\model_5_LSTM\\assets\n"
     ]
    },
    {
     "name": "stdout",
     "output_type": "stream",
     "text": [
      "18/18 [==============================] - 3s 179ms/step - loss: 130.3719 - val_loss: 730.8275\n",
      "Epoch 39/100\n",
      "14/18 [======================>.......] - ETA: 0s - loss: 131.8271INFO:tensorflow:Assets written to: model_experiments\\model_5_LSTM\\assets\n"
     ]
    },
    {
     "name": "stderr",
     "output_type": "stream",
     "text": [
      "INFO:tensorflow:Assets written to: model_experiments\\model_5_LSTM\\assets\n"
     ]
    },
    {
     "name": "stdout",
     "output_type": "stream",
     "text": [
      "18/18 [==============================] - 3s 181ms/step - loss: 129.1285 - val_loss: 716.9666\n",
      "Epoch 40/100\n",
      "17/18 [===========================>..] - ETA: 0s - loss: 126.9152INFO:tensorflow:Assets written to: model_experiments\\model_5_LSTM\\assets\n"
     ]
    },
    {
     "name": "stderr",
     "output_type": "stream",
     "text": [
      "INFO:tensorflow:Assets written to: model_experiments\\model_5_LSTM\\assets\n"
     ]
    },
    {
     "name": "stdout",
     "output_type": "stream",
     "text": [
      "18/18 [==============================] - 3s 195ms/step - loss: 127.7870 - val_loss: 700.0472\n",
      "Epoch 41/100\n",
      "16/18 [=========================>....] - ETA: 0s - loss: 129.9295INFO:tensorflow:Assets written to: model_experiments\\model_5_LSTM\\assets\n"
     ]
    },
    {
     "name": "stderr",
     "output_type": "stream",
     "text": [
      "INFO:tensorflow:Assets written to: model_experiments\\model_5_LSTM\\assets\n"
     ]
    },
    {
     "name": "stdout",
     "output_type": "stream",
     "text": [
      "18/18 [==============================] - 3s 181ms/step - loss: 128.5414 - val_loss: 697.4109\n",
      "Epoch 42/100\n",
      "18/18 [==============================] - 0s 19ms/step - loss: 124.9796 - val_loss: 721.7646\n",
      "Epoch 43/100\n",
      "18/18 [==============================] - 0s 16ms/step - loss: 127.3077 - val_loss: 705.0413\n",
      "Epoch 44/100\n",
      "18/18 [==============================] - 0s 18ms/step - loss: 124.2187 - val_loss: 724.3934\n",
      "Epoch 45/100\n",
      "18/18 [==============================] - 0s 16ms/step - loss: 122.2544 - val_loss: 697.8249\n",
      "Epoch 46/100\n",
      "16/18 [=========================>....] - ETA: 0s - loss: 122.1855INFO:tensorflow:Assets written to: model_experiments\\model_5_LSTM\\assets\n"
     ]
    },
    {
     "name": "stderr",
     "output_type": "stream",
     "text": [
      "INFO:tensorflow:Assets written to: model_experiments\\model_5_LSTM\\assets\n"
     ]
    },
    {
     "name": "stdout",
     "output_type": "stream",
     "text": [
      "18/18 [==============================] - 3s 176ms/step - loss: 121.2508 - val_loss: 665.9257\n",
      "Epoch 47/100\n",
      "18/18 [==============================] - ETA: 0s - loss: 119.9143INFO:tensorflow:Assets written to: model_experiments\\model_5_LSTM\\assets\n"
     ]
    },
    {
     "name": "stderr",
     "output_type": "stream",
     "text": [
      "INFO:tensorflow:Assets written to: model_experiments\\model_5_LSTM\\assets\n"
     ]
    },
    {
     "name": "stdout",
     "output_type": "stream",
     "text": [
      "18/18 [==============================] - 3s 177ms/step - loss: 119.9143 - val_loss: 658.3815\n",
      "Epoch 48/100\n",
      "18/18 [==============================] - 0s 17ms/step - loss: 119.7999 - val_loss: 714.4982\n",
      "Epoch 49/100\n",
      "18/18 [==============================] - 0s 17ms/step - loss: 120.2195 - val_loss: 667.9547\n",
      "Epoch 50/100\n",
      "18/18 [==============================] - 0s 15ms/step - loss: 120.4110 - val_loss: 682.1719\n",
      "Epoch 51/100\n",
      "17/18 [===========================>..] - ETA: 0s - loss: 123.3259INFO:tensorflow:Assets written to: model_experiments\\model_5_LSTM\\assets\n"
     ]
    },
    {
     "name": "stderr",
     "output_type": "stream",
     "text": [
      "INFO:tensorflow:Assets written to: model_experiments\\model_5_LSTM\\assets\n"
     ]
    },
    {
     "name": "stdout",
     "output_type": "stream",
     "text": [
      "18/18 [==============================] - 3s 181ms/step - loss: 123.4460 - val_loss: 652.6201\n",
      "Epoch 52/100\n",
      "18/18 [==============================] - 0s 16ms/step - loss: 124.8733 - val_loss: 780.7615\n",
      "Epoch 53/100\n",
      "18/18 [==============================] - 0s 19ms/step - loss: 129.6599 - val_loss: 677.5961\n",
      "Epoch 54/100\n",
      "18/18 [==============================] - 0s 20ms/step - loss: 122.9248 - val_loss: 673.5544\n",
      "Epoch 55/100\n",
      "15/18 [========================>.....] - ETA: 0s - loss: 127.2473INFO:tensorflow:Assets written to: model_experiments\\model_5_LSTM\\assets\n"
     ]
    },
    {
     "name": "stderr",
     "output_type": "stream",
     "text": [
      "INFO:tensorflow:Assets written to: model_experiments\\model_5_LSTM\\assets\n"
     ]
    },
    {
     "name": "stdout",
     "output_type": "stream",
     "text": [
      "18/18 [==============================] - 3s 204ms/step - loss: 128.4583 - val_loss: 643.7278\n",
      "Epoch 56/100\n",
      "15/18 [========================>.....] - ETA: 0s - loss: 115.2614INFO:tensorflow:Assets written to: model_experiments\\model_5_LSTM\\assets\n"
     ]
    },
    {
     "name": "stderr",
     "output_type": "stream",
     "text": [
      "INFO:tensorflow:Assets written to: model_experiments\\model_5_LSTM\\assets\n"
     ]
    },
    {
     "name": "stdout",
     "output_type": "stream",
     "text": [
      "18/18 [==============================] - 3s 174ms/step - loss: 116.0954 - val_loss: 630.0506\n",
      "Epoch 57/100\n",
      "14/18 [======================>.......] - ETA: 0s - loss: 117.7600INFO:tensorflow:Assets written to: model_experiments\\model_5_LSTM\\assets\n"
     ]
    },
    {
     "name": "stderr",
     "output_type": "stream",
     "text": [
      "INFO:tensorflow:Assets written to: model_experiments\\model_5_LSTM\\assets\n"
     ]
    },
    {
     "name": "stdout",
     "output_type": "stream",
     "text": [
      "18/18 [==============================] - 3s 178ms/step - loss: 118.2181 - val_loss: 627.7542\n",
      "Epoch 58/100\n",
      "18/18 [==============================] - 0s 21ms/step - loss: 117.6585 - val_loss: 640.9935\n",
      "Epoch 59/100\n",
      "18/18 [==============================] - 0s 17ms/step - loss: 118.0910 - val_loss: 628.3494\n",
      "Epoch 60/100\n",
      "16/18 [=========================>....] - ETA: 0s - loss: 113.7030INFO:tensorflow:Assets written to: model_experiments\\model_5_LSTM\\assets\n"
     ]
    },
    {
     "name": "stderr",
     "output_type": "stream",
     "text": [
      "INFO:tensorflow:Assets written to: model_experiments\\model_5_LSTM\\assets\n"
     ]
    },
    {
     "name": "stdout",
     "output_type": "stream",
     "text": [
      "18/18 [==============================] - 3s 178ms/step - loss: 116.1590 - val_loss: 617.3557\n",
      "Epoch 61/100\n",
      "18/18 [==============================] - 0s 17ms/step - loss: 116.2255 - val_loss: 619.2275\n",
      "Epoch 62/100\n",
      "18/18 [==============================] - 0s 16ms/step - loss: 118.5725 - val_loss: 633.4217\n",
      "Epoch 63/100\n",
      "18/18 [==============================] - ETA: 0s - loss: 114.6399INFO:tensorflow:Assets written to: model_experiments\\model_5_LSTM\\assets\n"
     ]
    },
    {
     "name": "stderr",
     "output_type": "stream",
     "text": [
      "INFO:tensorflow:Assets written to: model_experiments\\model_5_LSTM\\assets\n"
     ]
    },
    {
     "name": "stdout",
     "output_type": "stream",
     "text": [
      "18/18 [==============================] - 4s 206ms/step - loss: 114.6399 - val_loss: 612.6099\n",
      "Epoch 64/100\n",
      "18/18 [==============================] - 0s 18ms/step - loss: 115.6224 - val_loss: 623.1411\n",
      "Epoch 65/100\n",
      "15/18 [========================>.....] - ETA: 0s - loss: 115.9229INFO:tensorflow:Assets written to: model_experiments\\model_5_LSTM\\assets\n"
     ]
    },
    {
     "name": "stderr",
     "output_type": "stream",
     "text": [
      "INFO:tensorflow:Assets written to: model_experiments\\model_5_LSTM\\assets\n"
     ]
    },
    {
     "name": "stdout",
     "output_type": "stream",
     "text": [
      "18/18 [==============================] - 3s 178ms/step - loss: 114.4983 - val_loss: 610.9725\n",
      "Epoch 66/100\n",
      "15/18 [========================>.....] - ETA: 0s - loss: 112.6854INFO:tensorflow:Assets written to: model_experiments\\model_5_LSTM\\assets\n"
     ]
    },
    {
     "name": "stderr",
     "output_type": "stream",
     "text": [
      "INFO:tensorflow:Assets written to: model_experiments\\model_5_LSTM\\assets\n"
     ]
    },
    {
     "name": "stdout",
     "output_type": "stream",
     "text": [
      "18/18 [==============================] - 3s 179ms/step - loss: 112.8983 - val_loss: 610.8202\n",
      "Epoch 67/100\n",
      "15/18 [========================>.....] - ETA: 0s - loss: 107.7694INFO:tensorflow:Assets written to: model_experiments\\model_5_LSTM\\assets\n"
     ]
    },
    {
     "name": "stderr",
     "output_type": "stream",
     "text": [
      "INFO:tensorflow:Assets written to: model_experiments\\model_5_LSTM\\assets\n"
     ]
    },
    {
     "name": "stdout",
     "output_type": "stream",
     "text": [
      "18/18 [==============================] - 3s 204ms/step - loss: 113.6906 - val_loss: 610.7535\n",
      "Epoch 68/100\n",
      "18/18 [==============================] - 0s 16ms/step - loss: 113.8229 - val_loss: 614.9684\n",
      "Epoch 69/100\n",
      "18/18 [==============================] - 0s 19ms/step - loss: 112.2312 - val_loss: 612.7652\n",
      "Epoch 70/100\n",
      "16/18 [=========================>....] - ETA: 0s - loss: 114.2972INFO:tensorflow:Assets written to: model_experiments\\model_5_LSTM\\assets\n"
     ]
    },
    {
     "name": "stderr",
     "output_type": "stream",
     "text": [
      "INFO:tensorflow:Assets written to: model_experiments\\model_5_LSTM\\assets\n"
     ]
    },
    {
     "name": "stdout",
     "output_type": "stream",
     "text": [
      "18/18 [==============================] - 2s 143ms/step - loss: 113.5774 - val_loss: 610.2594\n",
      "Epoch 71/100\n",
      "14/18 [======================>.......] - ETA: 0s - loss: 114.1998INFO:tensorflow:Assets written to: model_experiments\\model_5_LSTM\\assets\n"
     ]
    },
    {
     "name": "stderr",
     "output_type": "stream",
     "text": [
      "INFO:tensorflow:Assets written to: model_experiments\\model_5_LSTM\\assets\n"
     ]
    },
    {
     "name": "stdout",
     "output_type": "stream",
     "text": [
      "18/18 [==============================] - 3s 183ms/step - loss: 112.2212 - val_loss: 608.9881\n",
      "Epoch 72/100\n",
      "14/18 [======================>.......] - ETA: 0s - loss: 114.1380INFO:tensorflow:Assets written to: model_experiments\\model_5_LSTM\\assets\n"
     ]
    },
    {
     "name": "stderr",
     "output_type": "stream",
     "text": [
      "INFO:tensorflow:Assets written to: model_experiments\\model_5_LSTM\\assets\n"
     ]
    },
    {
     "name": "stdout",
     "output_type": "stream",
     "text": [
      "18/18 [==============================] - 3s 178ms/step - loss: 112.7837 - val_loss: 599.8865\n",
      "Epoch 73/100\n",
      "18/18 [==============================] - 0s 16ms/step - loss: 116.1698 - val_loss: 608.3500\n",
      "Epoch 74/100\n",
      "18/18 [==============================] - 0s 19ms/step - loss: 112.7129 - val_loss: 601.3339\n",
      "Epoch 75/100\n",
      "14/18 [======================>.......] - ETA: 0s - loss: 117.5618INFO:tensorflow:Assets written to: model_experiments\\model_5_LSTM\\assets\n"
     ]
    },
    {
     "name": "stderr",
     "output_type": "stream",
     "text": [
      "INFO:tensorflow:Assets written to: model_experiments\\model_5_LSTM\\assets\n"
     ]
    },
    {
     "name": "stdout",
     "output_type": "stream",
     "text": [
      "18/18 [==============================] - 4s 210ms/step - loss: 112.1151 - val_loss: 595.9929\n",
      "Epoch 76/100\n",
      "18/18 [==============================] - 0s 17ms/step - loss: 112.2107 - val_loss: 606.0887\n",
      "Epoch 77/100\n",
      "18/18 [==============================] - 0s 16ms/step - loss: 111.2461 - val_loss: 599.5865\n",
      "Epoch 78/100\n",
      "16/18 [=========================>....] - ETA: 0s - loss: 114.6324INFO:tensorflow:Assets written to: model_experiments\\model_5_LSTM\\assets\n"
     ]
    },
    {
     "name": "stderr",
     "output_type": "stream",
     "text": [
      "INFO:tensorflow:Assets written to: model_experiments\\model_5_LSTM\\assets\n"
     ]
    },
    {
     "name": "stdout",
     "output_type": "stream",
     "text": [
      "18/18 [==============================] - 3s 172ms/step - loss: 113.0933 - val_loss: 593.9587\n",
      "Epoch 79/100\n",
      "18/18 [==============================] - 0s 16ms/step - loss: 111.4452 - val_loss: 614.8777\n",
      "Epoch 80/100\n",
      "18/18 [==============================] - 0s 19ms/step - loss: 116.0656 - val_loss: 643.4434\n",
      "Epoch 81/100\n",
      "18/18 [==============================] - 0s 17ms/step - loss: 118.1089 - val_loss: 675.4789\n",
      "Epoch 82/100\n",
      "18/18 [==============================] - 0s 20ms/step - loss: 115.0878 - val_loss: 613.9156\n",
      "Epoch 83/100\n",
      "18/18 [==============================] - 0s 20ms/step - loss: 112.3885 - val_loss: 600.7984\n",
      "Epoch 84/100\n",
      "18/18 [==============================] - 0s 19ms/step - loss: 111.6513 - val_loss: 605.2372\n",
      "Epoch 85/100\n",
      "18/18 [==============================] - 0s 19ms/step - loss: 111.3167 - val_loss: 610.4017\n",
      "Epoch 86/100\n",
      "16/18 [=========================>....] - ETA: 0s - loss: 111.3969INFO:tensorflow:Assets written to: model_experiments\\model_5_LSTM\\assets\n"
     ]
    },
    {
     "name": "stderr",
     "output_type": "stream",
     "text": [
      "INFO:tensorflow:Assets written to: model_experiments\\model_5_LSTM\\assets\n"
     ]
    },
    {
     "name": "stdout",
     "output_type": "stream",
     "text": [
      "18/18 [==============================] - 2s 145ms/step - loss: 113.1985 - val_loss: 589.3297\n",
      "Epoch 87/100\n",
      "18/18 [==============================] - 0s 18ms/step - loss: 113.7798 - val_loss: 637.1178\n",
      "Epoch 88/100\n",
      "18/18 [==============================] - 0s 16ms/step - loss: 111.5142 - val_loss: 601.6480\n",
      "Epoch 89/100\n",
      "18/18 [==============================] - 0s 15ms/step - loss: 111.9658 - val_loss: 666.4091\n",
      "Epoch 90/100\n",
      "18/18 [==============================] - 0s 17ms/step - loss: 114.9246 - val_loss: 600.3305\n",
      "Epoch 91/100\n",
      "18/18 [==============================] - 0s 17ms/step - loss: 112.2130 - val_loss: 613.6273\n",
      "Epoch 92/100\n",
      "18/18 [==============================] - 0s 16ms/step - loss: 110.5237 - val_loss: 614.8899\n",
      "Epoch 93/100\n",
      "18/18 [==============================] - 0s 16ms/step - loss: 112.2791 - val_loss: 603.7563\n",
      "Epoch 94/100\n",
      "18/18 [==============================] - 0s 20ms/step - loss: 111.5849 - val_loss: 621.8508\n",
      "Epoch 95/100\n",
      "14/18 [======================>.......] - ETA: 0s - loss: 117.9605INFO:tensorflow:Assets written to: model_experiments\\model_5_LSTM\\assets\n"
     ]
    },
    {
     "name": "stderr",
     "output_type": "stream",
     "text": [
      "INFO:tensorflow:Assets written to: model_experiments\\model_5_LSTM\\assets\n"
     ]
    },
    {
     "name": "stdout",
     "output_type": "stream",
     "text": [
      "18/18 [==============================] - 3s 176ms/step - loss: 117.0715 - val_loss: 587.5286\n",
      "Epoch 96/100\n",
      "15/18 [========================>.....] - ETA: 0s - loss: 111.6495INFO:tensorflow:Assets written to: model_experiments\\model_5_LSTM\\assets\n"
     ]
    },
    {
     "name": "stderr",
     "output_type": "stream",
     "text": [
      "INFO:tensorflow:Assets written to: model_experiments\\model_5_LSTM\\assets\n"
     ]
    },
    {
     "name": "stdout",
     "output_type": "stream",
     "text": [
      "18/18 [==============================] - 3s 185ms/step - loss: 111.4090 - val_loss: 583.2150\n",
      "Epoch 97/100\n",
      "18/18 [==============================] - 0s 19ms/step - loss: 110.1846 - val_loss: 597.5945\n",
      "Epoch 98/100\n",
      "18/18 [==============================] - 0s 19ms/step - loss: 110.2399 - val_loss: 629.7456\n",
      "Epoch 99/100\n",
      "18/18 [==============================] - 0s 17ms/step - loss: 110.5816 - val_loss: 592.2360\n",
      "Epoch 100/100\n",
      "18/18 [==============================] - 0s 15ms/step - loss: 110.2001 - val_loss: 671.4951\n"
     ]
    },
    {
     "data": {
      "text/plain": [
       "<keras.callbacks.History at 0x19828f4a950>"
      ]
     },
     "execution_count": 83,
     "metadata": {},
     "output_type": "execute_result"
    }
   ],
   "source": [
    "tf.random.set_seed(42)\n",
    "\n",
    "# Let's build an LSTM model with the Functional API\n",
    "inputs = layers.Input(shape=(WINDOW_SIZE))\n",
    "x = layers.Lambda(lambda x: tf.expand_dims(x, axis=1))(inputs)\n",
    "# x = layers.LSTM(128, return_sequences=True)(x)\n",
    "x = layers.LSTM(128, activation='relu')(x)\n",
    "# x = layers.Dense(32, activation='relu')(x)\n",
    "output = layers.Dense(HORIZON)(x)\n",
    "model_5 = tf.keras.Model(inputs=inputs, outputs=output, name='model_5_LSTM')\n",
    "\n",
    "# Compile\n",
    "model_5.compile(loss='mae',\n",
    "                optimizer=tf.keras.optimizers.Adam())\n",
    "\n",
    "# Fit\n",
    "model_5.fit(train_windows,\n",
    "            train_labels,\n",
    "            epochs=100,\n",
    "            verbose=1,\n",
    "            batch_size=128,\n",
    "            validation_data=(test_windows, test_labels),\n",
    "            callbacks=[create_model_checkpoint(model_name=model_5.name)])"
   ]
  },
  {
   "cell_type": "code",
   "execution_count": 84,
   "id": "4fa206e2",
   "metadata": {},
   "outputs": [
    {
     "name": "stdout",
     "output_type": "stream",
     "text": [
      "WARNING:tensorflow:Layer lstm will not use cuDNN kernels since it doesn't meet the criteria. It will use a generic GPU kernel as fallback when running on GPU.\n"
     ]
    },
    {
     "name": "stderr",
     "output_type": "stream",
     "text": [
      "WARNING:tensorflow:Layer lstm will not use cuDNN kernels since it doesn't meet the criteria. It will use a generic GPU kernel as fallback when running on GPU.\n"
     ]
    },
    {
     "name": "stdout",
     "output_type": "stream",
     "text": [
      "18/18 [==============================] - 0s 5ms/step - loss: 583.2150\n"
     ]
    },
    {
     "data": {
      "text/plain": [
       "583.2149658203125"
      ]
     },
     "execution_count": 84,
     "metadata": {},
     "output_type": "execute_result"
    }
   ],
   "source": [
    "# Load in best version of model 5 and evaluate on the test data\n",
    "model_5 = tf.keras.models.load_model('model_experiments/model_5_LSTM')\n",
    "model_5.evaluate(test_windows, test_labels)"
   ]
  },
  {
   "cell_type": "code",
   "execution_count": 85,
   "id": "fffd443b",
   "metadata": {},
   "outputs": [
    {
     "name": "stdout",
     "output_type": "stream",
     "text": [
      "18/18 [==============================] - 0s 5ms/step\n"
     ]
    }
   ],
   "source": [
    "# Make predictions with our LSTM model\n",
    "model_5_preds = make_preds(model_5, test_windows)"
   ]
  },
  {
   "cell_type": "code",
   "execution_count": 86,
   "id": "2d0b5984",
   "metadata": {},
   "outputs": [],
   "source": [
    "# Evaluate model 5 predictions\n",
    "model_5_results = evaluate_preds(y_true=tf.squeeze(test_labels),\n",
    "                                 y_pred=model_5_preds)"
   ]
  },
  {
   "cell_type": "code",
   "execution_count": 87,
   "id": "4d3fdfe4",
   "metadata": {},
   "outputs": [
    {
     "data": {
      "text/plain": [
       "{'mae': 583.21497,\n",
       " 'mse': 1216523.5,\n",
       " 'rmse': 1102.9612,\n",
       " 'mape': 2.6081018,\n",
       " 'mase': 1.0179142}"
      ]
     },
     "execution_count": 87,
     "metadata": {},
     "output_type": "execute_result"
    }
   ],
   "source": [
    "model_5_results"
   ]
  },
  {
   "cell_type": "code",
   "execution_count": 88,
   "id": "c140368e",
   "metadata": {},
   "outputs": [
    {
     "data": {
      "text/plain": [
       "{'mae': 567.9802,\n",
       " 'mse': 1147547.0,\n",
       " 'rmse': 1071.2362,\n",
       " 'mape': 2.516525,\n",
       " 'mase': 0.99957}"
      ]
     },
     "execution_count": 88,
     "metadata": {},
     "output_type": "execute_result"
    }
   ],
   "source": [
    "naive_results"
   ]
  },
  {
   "cell_type": "markdown",
   "id": "a6b67d33",
   "metadata": {},
   "source": [
    "**Note:** Because neural networks are such powerful algorithms, they can be used for almost any problem, however, that doesn't mean they'll achieve performant or usable results."
   ]
  },
  {
   "cell_type": "markdown",
   "id": "061fd3b4",
   "metadata": {},
   "source": [
    "## Make a multivariate time series dataset\n",
    "\n",
    "Before we add feature to our time series, what is a feature we can use?\n",
    "\n",
    "One feature we could add is whether or not Elon Musk tweeted on that day...\n",
    "\n",
    "* day 1 - 0\n",
    "* day 2 - 1\n",
    "* day 3 - 0\n",
    "\n",
    "What's a better feature to use?\n",
    "\n",
    "How about the bitcoin halving events..."
   ]
  },
  {
   "cell_type": "code",
   "execution_count": 89,
   "id": "024b7514",
   "metadata": {},
   "outputs": [
    {
     "data": {
      "application/vnd.microsoft.datawrangler.viewer.v0+json": {
       "columns": [
        {
         "name": "Date",
         "rawType": "datetime64[ns]",
         "type": "datetime"
        },
        {
         "name": "Price",
         "rawType": "float64",
         "type": "float"
        }
       ],
       "ref": "78b9b5da-5e99-42e9-be2a-b72e57557b9f",
       "rows": [
        [
         "2013-10-01 00:00:00",
         "123.65499"
        ],
        [
         "2013-10-02 00:00:00",
         "125.455"
        ],
        [
         "2013-10-03 00:00:00",
         "108.58483"
        ],
        [
         "2013-10-04 00:00:00",
         "118.67466"
        ],
        [
         "2013-10-05 00:00:00",
         "121.33866"
        ]
       ],
       "shape": {
        "columns": 1,
        "rows": 5
       }
      },
      "text/html": [
       "<div>\n",
       "<style scoped>\n",
       "    .dataframe tbody tr th:only-of-type {\n",
       "        vertical-align: middle;\n",
       "    }\n",
       "\n",
       "    .dataframe tbody tr th {\n",
       "        vertical-align: top;\n",
       "    }\n",
       "\n",
       "    .dataframe thead th {\n",
       "        text-align: right;\n",
       "    }\n",
       "</style>\n",
       "<table border=\"1\" class=\"dataframe\">\n",
       "  <thead>\n",
       "    <tr style=\"text-align: right;\">\n",
       "      <th></th>\n",
       "      <th>Price</th>\n",
       "    </tr>\n",
       "    <tr>\n",
       "      <th>Date</th>\n",
       "      <th></th>\n",
       "    </tr>\n",
       "  </thead>\n",
       "  <tbody>\n",
       "    <tr>\n",
       "      <th>2013-10-01</th>\n",
       "      <td>123.65499</td>\n",
       "    </tr>\n",
       "    <tr>\n",
       "      <th>2013-10-02</th>\n",
       "      <td>125.45500</td>\n",
       "    </tr>\n",
       "    <tr>\n",
       "      <th>2013-10-03</th>\n",
       "      <td>108.58483</td>\n",
       "    </tr>\n",
       "    <tr>\n",
       "      <th>2013-10-04</th>\n",
       "      <td>118.67466</td>\n",
       "    </tr>\n",
       "    <tr>\n",
       "      <th>2013-10-05</th>\n",
       "      <td>121.33866</td>\n",
       "    </tr>\n",
       "  </tbody>\n",
       "</table>\n",
       "</div>"
      ],
      "text/plain": [
       "                Price\n",
       "Date                 \n",
       "2013-10-01  123.65499\n",
       "2013-10-02  125.45500\n",
       "2013-10-03  108.58483\n",
       "2013-10-04  118.67466\n",
       "2013-10-05  121.33866"
      ]
     },
     "execution_count": 89,
     "metadata": {},
     "output_type": "execute_result"
    }
   ],
   "source": [
    "# Let's make a multivariate time series dataset\n",
    "bitcoin_prices.head()"
   ]
  },
  {
   "cell_type": "code",
   "execution_count": 90,
   "id": "283d1236",
   "metadata": {},
   "outputs": [],
   "source": [
    "# Let's add the bitcoin halving events to our dataset\n",
    "block_reward_1 = 50 # 3 January 2009 - this block reward isn't in our dataset\n",
    "block_reward_2 = 25 # 8 November 2012\n",
    "block_reward_3 = 12.5 # 9 July 2016\n",
    "block_reward_4 = 6.25 # 18 May 2020\n",
    "\n",
    "# Block reward dates\n",
    "block_reward_2_datetime = np.datetime64('2012-11-28')\n",
    "block_reward_3_datetime = np.datetime64('2016-07-09')\n",
    "block_reward_4_datetime = np.datetime64('2020-05-18')"
   ]
  },
  {
   "cell_type": "code",
   "execution_count": 91,
   "id": "7be9bcc5",
   "metadata": {},
   "outputs": [
    {
     "data": {
      "text/plain": [
       "(1012, 2421)"
      ]
     },
     "execution_count": 91,
     "metadata": {},
     "output_type": "execute_result"
    }
   ],
   "source": [
    "# Create date ranges of where specific block_reward values should be\n",
    "block_reward_2_days = (block_reward_3_datetime - bitcoin_prices.index[0]).days\n",
    "block_reward_3_days = (block_reward_4_datetime - bitcoin_prices.index[0]).days\n",
    "block_reward_2_days, block_reward_3_days"
   ]
  },
  {
   "cell_type": "code",
   "execution_count": 92,
   "id": "aac64c85",
   "metadata": {},
   "outputs": [],
   "source": [
    "# Add in a block_reward column\n",
    "bitcoin_prices_block = bitcoin_prices.copy()\n",
    "bitcoin_prices_block['block_reward'] = None\n",
    "\n",
    "# Add in block_reward values as a feature to our dataframe\n",
    "bitcoin_prices_block.iloc[:block_reward_2_days, -1] = block_reward_2\n",
    "bitcoin_prices_block.iloc[block_reward_2_days:block_reward_3_days, -1] = block_reward_3\n",
    "bitcoin_prices_block.iloc[block_reward_3_days:, -1] = block_reward_4"
   ]
  },
  {
   "cell_type": "code",
   "execution_count": 93,
   "id": "fd384ff5",
   "metadata": {},
   "outputs": [
    {
     "data": {
      "image/png": "[encoded data removed]",
      "text/plain": [
       "<Figure size 1000x700 with 1 Axes>"
      ]
     },
     "metadata": {},
     "output_type": "display_data"
    }
   ],
   "source": [
    "# Plot the block reward vs price over time\n",
    "from sklearn.preprocessing import minmax_scale\n",
    "scaled_price_block_df = pd.DataFrame(minmax_scale(bitcoin_prices_block[['Price', 'block_reward']]),\n",
    "                                     columns=bitcoin_prices_block.columns,\n",
    "                                     index=bitcoin_prices_block.index)\n",
    "scaled_price_block_df.plot(figsize=(10, 7));"
   ]
  },
  {
   "cell_type": "markdown",
   "id": "7f4ca624",
   "metadata": {},
   "source": [
    "## Making a window dataset with pandas\n",
    "\n",
    "Previously, we have turned our univariate time series into windowed dataset using the helper functions above.\n",
    "\n",
    "However, since we have got multivariate data, these functions won't work.\n",
    "\n",
    "Not to worry, we can use the ``pandas.DataFrame.shift()`` method to window our multivariate data."
   ]
  },
  {
   "cell_type": "code",
   "execution_count": 94,
   "id": "9f9d829a",
   "metadata": {},
   "outputs": [],
   "source": [
    "# Setup dataset hyperparameters\n",
    "HORIZON = 1\n",
    "WINDOW_SIZE = 7"
   ]
  },
  {
   "cell_type": "code",
   "execution_count": 95,
   "id": "5daec40e",
   "metadata": {},
   "outputs": [
    {
     "data": {
      "application/vnd.microsoft.datawrangler.viewer.v0+json": {
       "columns": [
        {
         "name": "Date",
         "rawType": "datetime64[ns]",
         "type": "datetime"
        },
        {
         "name": "Price",
         "rawType": "float64",
         "type": "float"
        },
        {
         "name": "block_reward",
         "rawType": "object",
         "type": "unknown"
        },
        {
         "name": "Price+1",
         "rawType": "float64",
         "type": "float"
        },
        {
         "name": "Price+2",
         "rawType": "float64",
         "type": "float"
        },
        {
         "name": "Price+3",
         "rawType": "float64",
         "type": "float"
        },
        {
         "name": "Price+4",
         "rawType": "float64",
         "type": "float"
        },
        {
         "name": "Price+5",
         "rawType": "float64",
         "type": "float"
        },
        {
         "name": "Price+6",
         "rawType": "float64",
         "type": "float"
        },
        {
         "name": "Price+7",
         "rawType": "float64",
         "type": "float"
        }
       ],
       "ref": "96d8db9d-6eac-4084-8745-aa7ca8263d55",
       "rows": [
        [
         "2013-10-01 00:00:00",
         "123.65499",
         "25",
         null,
         null,
         null,
         null,
         null,
         null,
         null
        ],
        [
         "2013-10-02 00:00:00",
         "125.455",
         "25",
         "123.65499",
         null,
         null,
         null,
         null,
         null,
         null
        ],
        [
         "2013-10-03 00:00:00",
         "108.58483",
         "25",
         "125.455",
         "123.65499",
         null,
         null,
         null,
         null,
         null
        ],
        [
         "2013-10-04 00:00:00",
         "118.67466",
         "25",
         "108.58483",
         "125.455",
         "123.65499",
         null,
         null,
         null,
         null
        ],
        [
         "2013-10-05 00:00:00",
         "121.33866",
         "25",
         "118.67466",
         "108.58483",
         "125.455",
         "123.65499",
         null,
         null,
         null
        ],
        [
         "2013-10-06 00:00:00",
         "120.65533",
         "25",
         "121.33866",
         "118.67466",
         "108.58483",
         "125.455",
         "123.65499",
         null,
         null
        ],
        [
         "2013-10-07 00:00:00",
         "121.795",
         "25",
         "120.65533",
         "121.33866",
         "118.67466",
         "108.58483",
         "125.455",
         "123.65499",
         null
        ],
        [
         "2013-10-08 00:00:00",
         "123.033",
         "25",
         "121.795",
         "120.65533",
         "121.33866",
         "118.67466",
         "108.58483",
         "125.455",
         "123.65499"
        ],
        [
         "2013-10-09 00:00:00",
         "124.049",
         "25",
         "123.033",
         "121.795",
         "120.65533",
         "121.33866",
         "118.67466",
         "108.58483",
         "125.455"
        ],
        [
         "2013-10-10 00:00:00",
         "125.96116",
         "25",
         "124.049",
         "123.033",
         "121.795",
         "120.65533",
         "121.33866",
         "118.67466",
         "108.58483"
        ]
       ],
       "shape": {
        "columns": 9,
        "rows": 10
       }
      },
      "text/html": [
       "<div>\n",
       "<style scoped>\n",
       "    .dataframe tbody tr th:only-of-type {\n",
       "        vertical-align: middle;\n",
       "    }\n",
       "\n",
       "    .dataframe tbody tr th {\n",
       "        vertical-align: top;\n",
       "    }\n",
       "\n",
       "    .dataframe thead th {\n",
       "        text-align: right;\n",
       "    }\n",
       "</style>\n",
       "<table border=\"1\" class=\"dataframe\">\n",
       "  <thead>\n",
       "    <tr style=\"text-align: right;\">\n",
       "      <th></th>\n",
       "      <th>Price</th>\n",
       "      <th>block_reward</th>\n",
       "      <th>Price+1</th>\n",
       "      <th>Price+2</th>\n",
       "      <th>Price+3</th>\n",
       "      <th>Price+4</th>\n",
       "      <th>Price+5</th>\n",
       "      <th>Price+6</th>\n",
       "      <th>Price+7</th>\n",
       "    </tr>\n",
       "    <tr>\n",
       "      <th>Date</th>\n",
       "      <th></th>\n",
       "      <th></th>\n",
       "      <th></th>\n",
       "      <th></th>\n",
       "      <th></th>\n",
       "      <th></th>\n",
       "      <th></th>\n",
       "      <th></th>\n",
       "      <th></th>\n",
       "    </tr>\n",
       "  </thead>\n",
       "  <tbody>\n",
       "    <tr>\n",
       "      <th>2013-10-01</th>\n",
       "      <td>123.65499</td>\n",
       "      <td>25</td>\n",
       "      <td>NaN</td>\n",
       "      <td>NaN</td>\n",
       "      <td>NaN</td>\n",
       "      <td>NaN</td>\n",
       "      <td>NaN</td>\n",
       "      <td>NaN</td>\n",
       "      <td>NaN</td>\n",
       "    </tr>\n",
       "    <tr>\n",
       "      <th>2013-10-02</th>\n",
       "      <td>125.45500</td>\n",
       "      <td>25</td>\n",
       "      <td>123.65499</td>\n",
       "      <td>NaN</td>\n",
       "      <td>NaN</td>\n",
       "      <td>NaN</td>\n",
       "      <td>NaN</td>\n",
       "      <td>NaN</td>\n",
       "      <td>NaN</td>\n",
       "    </tr>\n",
       "    <tr>\n",
       "      <th>2013-10-03</th>\n",
       "      <td>108.58483</td>\n",
       "      <td>25</td>\n",
       "      <td>125.45500</td>\n",
       "      <td>123.65499</td>\n",
       "      <td>NaN</td>\n",
       "      <td>NaN</td>\n",
       "      <td>NaN</td>\n",
       "      <td>NaN</td>\n",
       "      <td>NaN</td>\n",
       "    </tr>\n",
       "    <tr>\n",
       "      <th>2013-10-04</th>\n",
       "      <td>118.67466</td>\n",
       "      <td>25</td>\n",
       "      <td>108.58483</td>\n",
       "      <td>125.45500</td>\n",
       "      <td>123.65499</td>\n",
       "      <td>NaN</td>\n",
       "      <td>NaN</td>\n",
       "      <td>NaN</td>\n",
       "      <td>NaN</td>\n",
       "    </tr>\n",
       "    <tr>\n",
       "      <th>2013-10-05</th>\n",
       "      <td>121.33866</td>\n",
       "      <td>25</td>\n",
       "      <td>118.67466</td>\n",
       "      <td>108.58483</td>\n",
       "      <td>125.45500</td>\n",
       "      <td>123.65499</td>\n",
       "      <td>NaN</td>\n",
       "      <td>NaN</td>\n",
       "      <td>NaN</td>\n",
       "    </tr>\n",
       "    <tr>\n",
       "      <th>2013-10-06</th>\n",
       "      <td>120.65533</td>\n",
       "      <td>25</td>\n",
       "      <td>121.33866</td>\n",
       "      <td>118.67466</td>\n",
       "      <td>108.58483</td>\n",
       "      <td>125.45500</td>\n",
       "      <td>123.65499</td>\n",
       "      <td>NaN</td>\n",
       "      <td>NaN</td>\n",
       "    </tr>\n",
       "    <tr>\n",
       "      <th>2013-10-07</th>\n",
       "      <td>121.79500</td>\n",
       "      <td>25</td>\n",
       "      <td>120.65533</td>\n",
       "      <td>121.33866</td>\n",
       "      <td>118.67466</td>\n",
       "      <td>108.58483</td>\n",
       "      <td>125.45500</td>\n",
       "      <td>123.65499</td>\n",
       "      <td>NaN</td>\n",
       "    </tr>\n",
       "    <tr>\n",
       "      <th>2013-10-08</th>\n",
       "      <td>123.03300</td>\n",
       "      <td>25</td>\n",
       "      <td>121.79500</td>\n",
       "      <td>120.65533</td>\n",
       "      <td>121.33866</td>\n",
       "      <td>118.67466</td>\n",
       "      <td>108.58483</td>\n",
       "      <td>125.45500</td>\n",
       "      <td>123.65499</td>\n",
       "    </tr>\n",
       "    <tr>\n",
       "      <th>2013-10-09</th>\n",
       "      <td>124.04900</td>\n",
       "      <td>25</td>\n",
       "      <td>123.03300</td>\n",
       "      <td>121.79500</td>\n",
       "      <td>120.65533</td>\n",
       "      <td>121.33866</td>\n",
       "      <td>118.67466</td>\n",
       "      <td>108.58483</td>\n",
       "      <td>125.45500</td>\n",
       "    </tr>\n",
       "    <tr>\n",
       "      <th>2013-10-10</th>\n",
       "      <td>125.96116</td>\n",
       "      <td>25</td>\n",
       "      <td>124.04900</td>\n",
       "      <td>123.03300</td>\n",
       "      <td>121.79500</td>\n",
       "      <td>120.65533</td>\n",
       "      <td>121.33866</td>\n",
       "      <td>118.67466</td>\n",
       "      <td>108.58483</td>\n",
       "    </tr>\n",
       "  </tbody>\n",
       "</table>\n",
       "</div>"
      ],
      "text/plain": [
       "                Price block_reward    Price+1    Price+2    Price+3  \\\n",
       "Date                                                                  \n",
       "2013-10-01  123.65499           25        NaN        NaN        NaN   \n",
       "2013-10-02  125.45500           25  123.65499        NaN        NaN   \n",
       "2013-10-03  108.58483           25  125.45500  123.65499        NaN   \n",
       "2013-10-04  118.67466           25  108.58483  125.45500  123.65499   \n",
       "2013-10-05  121.33866           25  118.67466  108.58483  125.45500   \n",
       "2013-10-06  120.65533           25  121.33866  118.67466  108.58483   \n",
       "2013-10-07  121.79500           25  120.65533  121.33866  118.67466   \n",
       "2013-10-08  123.03300           25  121.79500  120.65533  121.33866   \n",
       "2013-10-09  124.04900           25  123.03300  121.79500  120.65533   \n",
       "2013-10-10  125.96116           25  124.04900  123.03300  121.79500   \n",
       "\n",
       "              Price+4    Price+5    Price+6    Price+7  \n",
       "Date                                                    \n",
       "2013-10-01        NaN        NaN        NaN        NaN  \n",
       "2013-10-02        NaN        NaN        NaN        NaN  \n",
       "2013-10-03        NaN        NaN        NaN        NaN  \n",
       "2013-10-04        NaN        NaN        NaN        NaN  \n",
       "2013-10-05  123.65499        NaN        NaN        NaN  \n",
       "2013-10-06  125.45500  123.65499        NaN        NaN  \n",
       "2013-10-07  108.58483  125.45500  123.65499        NaN  \n",
       "2013-10-08  118.67466  108.58483  125.45500  123.65499  \n",
       "2013-10-09  121.33866  118.67466  108.58483  125.45500  \n",
       "2013-10-10  120.65533  121.33866  118.67466  108.58483  "
      ]
     },
     "execution_count": 95,
     "metadata": {},
     "output_type": "execute_result"
    }
   ],
   "source": [
    "# Make a copy of the Bitcoin historical data with block reward feature\n",
    "bitcoin_prices_windowed = bitcoin_prices_block.copy()\n",
    "\n",
    "# Add windowed columns\n",
    "for i in range(WINDOW_SIZE): # shift values for each step in WINDOW_SIZE\n",
    "    bitcoin_prices_windowed[f'Price+{i+1}'] = bitcoin_prices_windowed['Price'].shift(periods=i+1)\n",
    "bitcoin_prices_windowed.head(10)"
   ]
  },
  {
   "cell_type": "markdown",
   "id": "fe3e9a27",
   "metadata": {},
   "source": [
    "What we have done is created a way to window our dataset directly from a pandas dataframe.\n",
    "\n",
    "```\n",
    "[0, 1, 2, 3, 4, 5, 6, block_reward] -> [7]\n",
    "[1, 2, 3, 4, 5, 6, 7, block_reward] -> [8]\n",
    "[2, 3, 4, 5, 6, 7, 8, block_reward] -> [9]\n",
    "```"
   ]
  },
  {
   "cell_type": "code",
   "execution_count": 96,
   "id": "3f86d831",
   "metadata": {},
   "outputs": [
    {
     "data": {
      "application/vnd.microsoft.datawrangler.viewer.v0+json": {
       "columns": [
        {
         "name": "Date",
         "rawType": "datetime64[ns]",
         "type": "datetime"
        },
        {
         "name": "block_reward",
         "rawType": "float32",
         "type": "float"
        },
        {
         "name": "Price+1",
         "rawType": "float32",
         "type": "float"
        },
        {
         "name": "Price+2",
         "rawType": "float32",
         "type": "float"
        },
        {
         "name": "Price+3",
         "rawType": "float32",
         "type": "float"
        },
        {
         "name": "Price+4",
         "rawType": "float32",
         "type": "float"
        },
        {
         "name": "Price+5",
         "rawType": "float32",
         "type": "float"
        },
        {
         "name": "Price+6",
         "rawType": "float32",
         "type": "float"
        },
        {
         "name": "Price+7",
         "rawType": "float32",
         "type": "float"
        }
       ],
       "ref": "9abc243c-8f1d-4939-893f-0966d73bd97a",
       "rows": [
        [
         "2013-10-08 00:00:00",
         "25.0",
         "121.795",
         "120.65533",
         "121.33866",
         "118.67466",
         "108.58483",
         "125.455",
         "123.65499"
        ],
        [
         "2013-10-09 00:00:00",
         "25.0",
         "123.033",
         "121.795",
         "120.65533",
         "121.33866",
         "118.67466",
         "108.58483",
         "125.455"
        ],
        [
         "2013-10-10 00:00:00",
         "25.0",
         "124.049",
         "123.033",
         "121.795",
         "120.65533",
         "121.33866",
         "118.67466",
         "108.58483"
        ],
        [
         "2013-10-11 00:00:00",
         "25.0",
         "125.96116",
         "124.049",
         "123.033",
         "121.795",
         "120.65533",
         "121.33866",
         "118.67466"
        ],
        [
         "2013-10-12 00:00:00",
         "25.0",
         "125.27966",
         "125.96116",
         "124.049",
         "123.033",
         "121.795",
         "120.65533",
         "121.33866"
        ]
       ],
       "shape": {
        "columns": 8,
        "rows": 5
       }
      },
      "text/html": [
       "<div>\n",
       "<style scoped>\n",
       "    .dataframe tbody tr th:only-of-type {\n",
       "        vertical-align: middle;\n",
       "    }\n",
       "\n",
       "    .dataframe tbody tr th {\n",
       "        vertical-align: top;\n",
       "    }\n",
       "\n",
       "    .dataframe thead th {\n",
       "        text-align: right;\n",
       "    }\n",
       "</style>\n",
       "<table border=\"1\" class=\"dataframe\">\n",
       "  <thead>\n",
       "    <tr style=\"text-align: right;\">\n",
       "      <th></th>\n",
       "      <th>block_reward</th>\n",
       "      <th>Price+1</th>\n",
       "      <th>Price+2</th>\n",
       "      <th>Price+3</th>\n",
       "      <th>Price+4</th>\n",
       "      <th>Price+5</th>\n",
       "      <th>Price+6</th>\n",
       "      <th>Price+7</th>\n",
       "    </tr>\n",
       "    <tr>\n",
       "      <th>Date</th>\n",
       "      <th></th>\n",
       "      <th></th>\n",
       "      <th></th>\n",
       "      <th></th>\n",
       "      <th></th>\n",
       "      <th></th>\n",
       "      <th></th>\n",
       "      <th></th>\n",
       "    </tr>\n",
       "  </thead>\n",
       "  <tbody>\n",
       "    <tr>\n",
       "      <th>2013-10-08</th>\n",
       "      <td>25.0</td>\n",
       "      <td>121.794998</td>\n",
       "      <td>120.655327</td>\n",
       "      <td>121.338661</td>\n",
       "      <td>118.674660</td>\n",
       "      <td>108.584831</td>\n",
       "      <td>125.455002</td>\n",
       "      <td>123.654991</td>\n",
       "    </tr>\n",
       "    <tr>\n",
       "      <th>2013-10-09</th>\n",
       "      <td>25.0</td>\n",
       "      <td>123.032997</td>\n",
       "      <td>121.794998</td>\n",
       "      <td>120.655327</td>\n",
       "      <td>121.338661</td>\n",
       "      <td>118.674660</td>\n",
       "      <td>108.584831</td>\n",
       "      <td>125.455002</td>\n",
       "    </tr>\n",
       "    <tr>\n",
       "      <th>2013-10-10</th>\n",
       "      <td>25.0</td>\n",
       "      <td>124.049004</td>\n",
       "      <td>123.032997</td>\n",
       "      <td>121.794998</td>\n",
       "      <td>120.655327</td>\n",
       "      <td>121.338661</td>\n",
       "      <td>118.674660</td>\n",
       "      <td>108.584831</td>\n",
       "    </tr>\n",
       "    <tr>\n",
       "      <th>2013-10-11</th>\n",
       "      <td>25.0</td>\n",
       "      <td>125.961159</td>\n",
       "      <td>124.049004</td>\n",
       "      <td>123.032997</td>\n",
       "      <td>121.794998</td>\n",
       "      <td>120.655327</td>\n",
       "      <td>121.338661</td>\n",
       "      <td>118.674660</td>\n",
       "    </tr>\n",
       "    <tr>\n",
       "      <th>2013-10-12</th>\n",
       "      <td>25.0</td>\n",
       "      <td>125.279663</td>\n",
       "      <td>125.961159</td>\n",
       "      <td>124.049004</td>\n",
       "      <td>123.032997</td>\n",
       "      <td>121.794998</td>\n",
       "      <td>120.655327</td>\n",
       "      <td>121.338661</td>\n",
       "    </tr>\n",
       "  </tbody>\n",
       "</table>\n",
       "</div>"
      ],
      "text/plain": [
       "            block_reward     Price+1     Price+2     Price+3     Price+4  \\\n",
       "Date                                                                       \n",
       "2013-10-08          25.0  121.794998  120.655327  121.338661  118.674660   \n",
       "2013-10-09          25.0  123.032997  121.794998  120.655327  121.338661   \n",
       "2013-10-10          25.0  124.049004  123.032997  121.794998  120.655327   \n",
       "2013-10-11          25.0  125.961159  124.049004  123.032997  121.794998   \n",
       "2013-10-12          25.0  125.279663  125.961159  124.049004  123.032997   \n",
       "\n",
       "               Price+5     Price+6     Price+7  \n",
       "Date                                            \n",
       "2013-10-08  108.584831  125.455002  123.654991  \n",
       "2013-10-09  118.674660  108.584831  125.455002  \n",
       "2013-10-10  121.338661  118.674660  108.584831  \n",
       "2013-10-11  120.655327  121.338661  118.674660  \n",
       "2013-10-12  121.794998  120.655327  121.338661  "
      ]
     },
     "execution_count": 96,
     "metadata": {},
     "output_type": "execute_result"
    }
   ],
   "source": [
    "# Create X (windows) and Y (horizons) features\n",
    "X = bitcoin_prices_windowed.dropna().drop('Price', axis=1).astype(np.float32)\n",
    "y = bitcoin_prices_windowed.dropna()['Price'].astype(np.float32)\n",
    "X.head()"
   ]
  },
  {
   "cell_type": "code",
   "execution_count": 97,
   "id": "ac7a5466",
   "metadata": {},
   "outputs": [
    {
     "data": {
      "application/vnd.microsoft.datawrangler.viewer.v0+json": {
       "columns": [
        {
         "name": "Date",
         "rawType": "datetime64[ns]",
         "type": "datetime"
        },
        {
         "name": "Price",
         "rawType": "float32",
         "type": "float"
        }
       ],
       "ref": "649795e4-5dad-44cb-ae00-200013050131",
       "rows": [
        [
         "2013-10-08 00:00:00",
         "123.033"
        ],
        [
         "2013-10-09 00:00:00",
         "124.049"
        ],
        [
         "2013-10-10 00:00:00",
         "125.96116"
        ],
        [
         "2013-10-11 00:00:00",
         "125.27966"
        ],
        [
         "2013-10-12 00:00:00",
         "125.9275"
        ]
       ],
       "shape": {
        "columns": 1,
        "rows": 5
       }
      },
      "text/plain": [
       "Date\n",
       "2013-10-08    123.032997\n",
       "2013-10-09    124.049004\n",
       "2013-10-10    125.961159\n",
       "2013-10-11    125.279663\n",
       "2013-10-12    125.927498\n",
       "Name: Price, dtype: float32"
      ]
     },
     "execution_count": 97,
     "metadata": {},
     "output_type": "execute_result"
    }
   ],
   "source": [
    "y.head()"
   ]
  },
  {
   "cell_type": "code",
   "execution_count": 98,
   "id": "d05edde9",
   "metadata": {},
   "outputs": [],
   "source": [
    "# Make train and test sets using indexing\n",
    "split_size = int(len(X) * 0.8)\n",
    "X_train, y_train = X[:split_size], y[:split_size]\n",
    "X_test, y_test = X[split_size:], y[split_size:]"
   ]
  },
  {
   "cell_type": "markdown",
   "id": "5088ee33",
   "metadata": {},
   "source": [
    "## Model 6: Dense (multivariate time series)"
   ]
  },
  {
   "cell_type": "code",
   "execution_count": 99,
   "id": "711f27de",
   "metadata": {},
   "outputs": [
    {
     "name": "stdout",
     "output_type": "stream",
     "text": [
      "Epoch 1/100\n",
      "17/18 [===========================>..] - ETA: 0s - loss: 1081.9404INFO:tensorflow:Assets written to: model_experiments\\model_6_dense_multivariate\\assets\n"
     ]
    },
    {
     "name": "stderr",
     "output_type": "stream",
     "text": [
      "INFO:tensorflow:Assets written to: model_experiments\\model_6_dense_multivariate\\assets\n"
     ]
    },
    {
     "name": "stdout",
     "output_type": "stream",
     "text": [
      "18/18 [==============================] - 2s 86ms/step - loss: 1063.1427 - val_loss: 2250.3718\n",
      "Epoch 2/100\n",
      "12/18 [===================>..........] - ETA: 0s - loss: 292.2192INFO:tensorflow:Assets written to: model_experiments\\model_6_dense_multivariate\\assets\n"
     ]
    },
    {
     "name": "stderr",
     "output_type": "stream",
     "text": [
      "INFO:tensorflow:Assets written to: model_experiments\\model_6_dense_multivariate\\assets\n"
     ]
    },
    {
     "name": "stdout",
     "output_type": "stream",
     "text": [
      "18/18 [==============================] - 1s 73ms/step - loss: 267.1121 - val_loss: 1529.2604\n",
      "Epoch 3/100\n",
      "16/18 [=========================>....] - ETA: 0s - loss: 189.3062INFO:tensorflow:Assets written to: model_experiments\\model_6_dense_multivariate\\assets\n"
     ]
    },
    {
     "name": "stderr",
     "output_type": "stream",
     "text": [
      "INFO:tensorflow:Assets written to: model_experiments\\model_6_dense_multivariate\\assets\n"
     ]
    },
    {
     "name": "stdout",
     "output_type": "stream",
     "text": [
      "18/18 [==============================] - 1s 71ms/step - loss: 187.2692 - val_loss: 913.6190\n",
      "Epoch 4/100\n",
      "16/18 [=========================>....] - ETA: 0s - loss: 159.0683INFO:tensorflow:Assets written to: model_experiments\\model_6_dense_multivariate\\assets\n"
     ]
    },
    {
     "name": "stderr",
     "output_type": "stream",
     "text": [
      "INFO:tensorflow:Assets written to: model_experiments\\model_6_dense_multivariate\\assets\n"
     ]
    },
    {
     "name": "stdout",
     "output_type": "stream",
     "text": [
      "18/18 [==============================] - 1s 71ms/step - loss: 158.5319 - val_loss: 837.2911\n",
      "Epoch 5/100\n",
      "11/18 [=================>............] - ETA: 0s - loss: 150.3372INFO:tensorflow:Assets written to: model_experiments\\model_6_dense_multivariate\\assets\n"
     ]
    },
    {
     "name": "stderr",
     "output_type": "stream",
     "text": [
      "INFO:tensorflow:Assets written to: model_experiments\\model_6_dense_multivariate\\assets\n"
     ]
    },
    {
     "name": "stdout",
     "output_type": "stream",
     "text": [
      "18/18 [==============================] - 1s 74ms/step - loss: 144.0149 - val_loss: 756.1848\n",
      "Epoch 6/100\n",
      "18/18 [==============================] - ETA: 0s - loss: 131.6804INFO:tensorflow:Assets written to: model_experiments\\model_6_dense_multivariate\\assets\n"
     ]
    },
    {
     "name": "stderr",
     "output_type": "stream",
     "text": [
      "INFO:tensorflow:Assets written to: model_experiments\\model_6_dense_multivariate\\assets\n"
     ]
    },
    {
     "name": "stdout",
     "output_type": "stream",
     "text": [
      "18/18 [==============================] - 1s 74ms/step - loss: 131.6804 - val_loss: 694.0518\n",
      "Epoch 7/100\n",
      "18/18 [==============================] - 0s 11ms/step - loss: 125.8546 - val_loss: 806.0066\n",
      "Epoch 8/100\n",
      "16/18 [=========================>....] - ETA: 0s - loss: 124.6409INFO:tensorflow:Assets written to: model_experiments\\model_6_dense_multivariate\\assets\n"
     ]
    },
    {
     "name": "stderr",
     "output_type": "stream",
     "text": [
      "INFO:tensorflow:Assets written to: model_experiments\\model_6_dense_multivariate\\assets\n"
     ]
    },
    {
     "name": "stdout",
     "output_type": "stream",
     "text": [
      "18/18 [==============================] - 2s 93ms/step - loss: 124.5272 - val_loss: 639.3010\n",
      "Epoch 9/100\n",
      "18/18 [==============================] - 0s 11ms/step - loss: 120.4427 - val_loss: 830.4634\n",
      "Epoch 10/100\n",
      "18/18 [==============================] - 0s 11ms/step - loss: 146.3700 - val_loss: 898.4483\n",
      "Epoch 11/100\n",
      "18/18 [==============================] - 0s 11ms/step - loss: 131.6702 - val_loss: 987.4445\n",
      "Epoch 12/100\n",
      "18/18 [==============================] - 0s 10ms/step - loss: 143.8803 - val_loss: 647.1688\n",
      "Epoch 13/100\n",
      "18/18 [==============================] - 0s 9ms/step - loss: 128.2528 - val_loss: 666.1536\n",
      "Epoch 14/100\n",
      " 9/18 [==============>...............] - ETA: 0s - loss: 120.5349INFO:tensorflow:Assets written to: model_experiments\\model_6_dense_multivariate\\assets\n"
     ]
    },
    {
     "name": "stderr",
     "output_type": "stream",
     "text": [
      "INFO:tensorflow:Assets written to: model_experiments\\model_6_dense_multivariate\\assets\n"
     ]
    },
    {
     "name": "stdout",
     "output_type": "stream",
     "text": [
      "18/18 [==============================] - 1s 73ms/step - loss: 120.0430 - val_loss: 624.1850\n",
      "Epoch 15/100\n",
      "18/18 [==============================] - 0s 12ms/step - loss: 121.7233 - val_loss: 635.0311\n",
      "Epoch 16/100\n",
      "18/18 [==============================] - ETA: 0s - loss: 113.9415INFO:tensorflow:Assets written to: model_experiments\\model_6_dense_multivariate\\assets\n"
     ]
    },
    {
     "name": "stderr",
     "output_type": "stream",
     "text": [
      "INFO:tensorflow:Assets written to: model_experiments\\model_6_dense_multivariate\\assets\n"
     ]
    },
    {
     "name": "stdout",
     "output_type": "stream",
     "text": [
      "18/18 [==============================] - 1s 75ms/step - loss: 113.9415 - val_loss: 611.2146\n",
      "Epoch 17/100\n",
      "18/18 [==============================] - 0s 11ms/step - loss: 114.7823 - val_loss: 619.7835\n",
      "Epoch 18/100\n",
      "18/18 [==============================] - 0s 11ms/step - loss: 125.9551 - val_loss: 688.5208\n",
      "Epoch 19/100\n",
      "18/18 [==============================] - 0s 12ms/step - loss: 116.8741 - val_loss: 612.2800\n",
      "Epoch 20/100\n",
      "16/18 [=========================>....] - ETA: 0s - loss: 112.3032INFO:tensorflow:Assets written to: model_experiments\\model_6_dense_multivariate\\assets\n"
     ]
    },
    {
     "name": "stderr",
     "output_type": "stream",
     "text": [
      "INFO:tensorflow:Assets written to: model_experiments\\model_6_dense_multivariate\\assets\n"
     ]
    },
    {
     "name": "stdout",
     "output_type": "stream",
     "text": [
      "18/18 [==============================] - 2s 92ms/step - loss: 113.1891 - val_loss: 588.8643\n",
      "Epoch 21/100\n",
      "18/18 [==============================] - 0s 11ms/step - loss: 112.2108 - val_loss: 611.6594\n",
      "Epoch 22/100\n",
      "18/18 [==============================] - 0s 11ms/step - loss: 112.8928 - val_loss: 590.4236\n",
      "Epoch 23/100\n",
      "18/18 [==============================] - 0s 11ms/step - loss: 116.9825 - val_loss: 616.5699\n",
      "Epoch 24/100\n",
      "18/18 [==============================] - ETA: 0s - loss: 113.9036INFO:tensorflow:Assets written to: model_experiments\\model_6_dense_multivariate\\assets\n"
     ]
    },
    {
     "name": "stderr",
     "output_type": "stream",
     "text": [
      "INFO:tensorflow:Assets written to: model_experiments\\model_6_dense_multivariate\\assets\n"
     ]
    },
    {
     "name": "stdout",
     "output_type": "stream",
     "text": [
      "18/18 [==============================] - 1s 77ms/step - loss: 113.9036 - val_loss: 582.8904\n",
      "Epoch 25/100\n",
      "18/18 [==============================] - 0s 12ms/step - loss: 108.2482 - val_loss: 598.3898\n",
      "Epoch 26/100\n",
      "18/18 [==============================] - 0s 12ms/step - loss: 109.2616 - val_loss: 588.8163\n",
      "Epoch 27/100\n",
      "18/18 [==============================] - 0s 11ms/step - loss: 107.9494 - val_loss: 593.1508\n",
      "Epoch 28/100\n",
      "17/18 [===========================>..] - ETA: 0s - loss: 108.8204INFO:tensorflow:Assets written to: model_experiments\\model_6_dense_multivariate\\assets\n"
     ]
    },
    {
     "name": "stderr",
     "output_type": "stream",
     "text": [
      "INFO:tensorflow:Assets written to: model_experiments\\model_6_dense_multivariate\\assets\n"
     ]
    },
    {
     "name": "stdout",
     "output_type": "stream",
     "text": [
      "18/18 [==============================] - 1s 77ms/step - loss: 108.4949 - val_loss: 581.2281\n",
      "Epoch 29/100\n",
      "18/18 [==============================] - 0s 10ms/step - loss: 106.5256 - val_loss: 600.1125\n",
      "Epoch 30/100\n",
      "18/18 [==============================] - 0s 10ms/step - loss: 115.1499 - val_loss: 666.4466\n",
      "Epoch 31/100\n",
      "17/18 [===========================>..] - ETA: 0s - loss: 117.1872INFO:tensorflow:Assets written to: model_experiments\\model_6_dense_multivariate\\assets\n"
     ]
    },
    {
     "name": "stderr",
     "output_type": "stream",
     "text": [
      "INFO:tensorflow:Assets written to: model_experiments\\model_6_dense_multivariate\\assets\n"
     ]
    },
    {
     "name": "stdout",
     "output_type": "stream",
     "text": [
      "18/18 [==============================] - 1s 67ms/step - loss: 117.7746 - val_loss: 577.7484\n",
      "Epoch 32/100\n",
      " 9/18 [==============>...............] - ETA: 0s - loss: 111.7127INFO:tensorflow:Assets written to: model_experiments\\model_6_dense_multivariate\\assets\n"
     ]
    },
    {
     "name": "stderr",
     "output_type": "stream",
     "text": [
      "INFO:tensorflow:Assets written to: model_experiments\\model_6_dense_multivariate\\assets\n"
     ]
    },
    {
     "name": "stdout",
     "output_type": "stream",
     "text": [
      "18/18 [==============================] - 1s 69ms/step - loss: 108.4041 - val_loss: 576.2807\n",
      "Epoch 33/100\n",
      "18/18 [==============================] - 0s 9ms/step - loss: 108.1151 - val_loss: 586.6290\n",
      "Epoch 34/100\n",
      "18/18 [==============================] - 0s 9ms/step - loss: 108.2020 - val_loss: 749.3000\n",
      "Epoch 35/100\n",
      "18/18 [==============================] - 0s 9ms/step - loss: 113.0428 - val_loss: 676.6415\n",
      "Epoch 36/100\n",
      "18/18 [==============================] - 0s 9ms/step - loss: 111.7978 - val_loss: 667.0977\n",
      "Epoch 37/100\n",
      "18/18 [==============================] - 0s 10ms/step - loss: 123.0013 - val_loss: 589.2368\n",
      "Epoch 38/100\n",
      "18/18 [==============================] - 0s 9ms/step - loss: 109.9239 - val_loss: 614.0624\n",
      "Epoch 39/100\n",
      "18/18 [==============================] - 0s 9ms/step - loss: 116.5954 - val_loss: 632.4178\n",
      "Epoch 40/100\n",
      "11/18 [=================>............] - ETA: 0s - loss: 111.4555INFO:tensorflow:Assets written to: model_experiments\\model_6_dense_multivariate\\assets\n"
     ]
    },
    {
     "name": "stderr",
     "output_type": "stream",
     "text": [
      "INFO:tensorflow:Assets written to: model_experiments\\model_6_dense_multivariate\\assets\n"
     ]
    },
    {
     "name": "stdout",
     "output_type": "stream",
     "text": [
      "18/18 [==============================] - 2s 104ms/step - loss: 110.6504 - val_loss: 571.8644\n",
      "Epoch 41/100\n",
      "18/18 [==============================] - 0s 13ms/step - loss: 108.9166 - val_loss: 615.5186\n",
      "Epoch 42/100\n",
      "18/18 [==============================] - 0s 13ms/step - loss: 110.5796 - val_loss: 574.1542\n",
      "Epoch 43/100\n",
      "18/18 [==============================] - 0s 11ms/step - loss: 113.8581 - val_loss: 663.8368\n",
      "Epoch 44/100\n",
      "18/18 [==============================] - 0s 13ms/step - loss: 119.0275 - val_loss: 601.0172\n",
      "Epoch 45/100\n",
      "18/18 [==============================] - 0s 16ms/step - loss: 114.9528 - val_loss: 634.5798\n",
      "Epoch 46/100\n",
      "18/18 [==============================] - 0s 17ms/step - loss: 117.9585 - val_loss: 608.0122\n",
      "Epoch 47/100\n",
      "18/18 [==============================] - 0s 12ms/step - loss: 115.6078 - val_loss: 646.7017\n",
      "Epoch 48/100\n",
      "18/18 [==============================] - 0s 11ms/step - loss: 107.0689 - val_loss: 573.6922\n",
      "Epoch 49/100\n",
      "18/18 [==============================] - 0s 12ms/step - loss: 109.1045 - val_loss: 703.7177\n",
      "Epoch 50/100\n",
      "18/18 [==============================] - 0s 12ms/step - loss: 118.2592 - val_loss: 608.1301\n",
      "Epoch 51/100\n",
      "18/18 [==============================] - 0s 13ms/step - loss: 108.0721 - val_loss: 575.3016\n",
      "Epoch 52/100\n",
      "18/18 [==============================] - 0s 11ms/step - loss: 114.2331 - val_loss: 584.5925\n",
      "Epoch 53/100\n",
      "18/18 [==============================] - 0s 12ms/step - loss: 113.1393 - val_loss: 577.3266\n",
      "Epoch 54/100\n",
      "18/18 [==============================] - 0s 12ms/step - loss: 104.4260 - val_loss: 580.0848\n",
      "Epoch 55/100\n",
      "18/18 [==============================] - 0s 11ms/step - loss: 110.2498 - val_loss: 591.8598\n",
      "Epoch 56/100\n",
      "18/18 [==============================] - 0s 12ms/step - loss: 106.4637 - val_loss: 686.6458\n",
      "Epoch 57/100\n",
      "18/18 [==============================] - 0s 12ms/step - loss: 106.8067 - val_loss: 576.5615\n",
      "Epoch 58/100\n",
      "18/18 [==============================] - 0s 11ms/step - loss: 105.9076 - val_loss: 576.2184\n",
      "Epoch 59/100\n",
      "17/18 [===========================>..] - ETA: 0s - loss: 103.6146INFO:tensorflow:Assets written to: model_experiments\\model_6_dense_multivariate\\assets\n"
     ]
    },
    {
     "name": "stderr",
     "output_type": "stream",
     "text": [
      "INFO:tensorflow:Assets written to: model_experiments\\model_6_dense_multivariate\\assets\n"
     ]
    },
    {
     "name": "stdout",
     "output_type": "stream",
     "text": [
      "18/18 [==============================] - 1s 80ms/step - loss: 104.6948 - val_loss: 571.4966\n",
      "Epoch 60/100\n",
      "18/18 [==============================] - 0s 12ms/step - loss: 105.7699 - val_loss: 594.8399\n",
      "Epoch 61/100\n",
      "18/18 [==============================] - 0s 12ms/step - loss: 112.7991 - val_loss: 585.0884\n",
      "Epoch 62/100\n",
      "18/18 [==============================] - 0s 12ms/step - loss: 105.8211 - val_loss: 596.8423\n",
      "Epoch 63/100\n",
      "18/18 [==============================] - 0s 12ms/step - loss: 106.1464 - val_loss: 602.5328\n",
      "Epoch 64/100\n",
      "18/18 [==============================] - 0s 11ms/step - loss: 109.4038 - val_loss: 667.8193\n",
      "Epoch 65/100\n",
      "18/18 [==============================] - 0s 14ms/step - loss: 110.2003 - val_loss: 672.9788\n",
      "Epoch 66/100\n",
      "18/18 [==============================] - 0s 12ms/step - loss: 109.6428 - val_loss: 572.5742\n",
      "Epoch 67/100\n",
      "18/18 [==============================] - 0s 13ms/step - loss: 110.0104 - val_loss: 648.6059\n",
      "Epoch 68/100\n",
      "18/18 [==============================] - 0s 12ms/step - loss: 105.7233 - val_loss: 597.3821\n",
      "Epoch 69/100\n",
      "18/18 [==============================] - 0s 12ms/step - loss: 107.3367 - val_loss: 647.5026\n",
      "Epoch 70/100\n",
      "18/18 [==============================] - 0s 13ms/step - loss: 125.7623 - val_loss: 666.3995\n",
      "Epoch 71/100\n",
      "18/18 [==============================] - 0s 12ms/step - loss: 113.6106 - val_loss: 579.8129\n",
      "Epoch 72/100\n",
      "18/18 [==============================] - 0s 13ms/step - loss: 111.2685 - val_loss: 599.3369\n",
      "Epoch 73/100\n",
      "18/18 [==============================] - 0s 16ms/step - loss: 105.6041 - val_loss: 615.0283\n",
      "Epoch 74/100\n",
      "18/18 [==============================] - 0s 16ms/step - loss: 105.6057 - val_loss: 586.2491\n",
      "Epoch 75/100\n",
      "18/18 [==============================] - 0s 13ms/step - loss: 105.8794 - val_loss: 576.6349\n",
      "Epoch 76/100\n",
      "18/18 [==============================] - 0s 12ms/step - loss: 110.7287 - val_loss: 600.4750\n",
      "Epoch 77/100\n",
      "18/18 [==============================] - 0s 12ms/step - loss: 113.2344 - val_loss: 585.8851\n",
      "Epoch 78/100\n",
      "18/18 [==============================] - 0s 12ms/step - loss: 108.1753 - val_loss: 580.7323\n",
      "Epoch 79/100\n",
      "18/18 [==============================] - 0s 13ms/step - loss: 106.4645 - val_loss: 705.8346\n",
      "Epoch 80/100\n",
      "18/18 [==============================] - 0s 14ms/step - loss: 117.0820 - val_loss: 667.7662\n",
      "Epoch 81/100\n",
      "18/18 [==============================] - 0s 14ms/step - loss: 107.5941 - val_loss: 733.4656\n",
      "Epoch 82/100\n",
      "18/18 [==============================] - 0s 12ms/step - loss: 124.7188 - val_loss: 776.9846\n",
      "Epoch 83/100\n",
      "18/18 [==============================] - 0s 13ms/step - loss: 135.6941 - val_loss: 828.5425\n",
      "Epoch 84/100\n",
      "18/18 [==============================] - 0s 13ms/step - loss: 124.0141 - val_loss: 578.7591\n",
      "Epoch 85/100\n",
      "18/18 [==============================] - 0s 13ms/step - loss: 108.4357 - val_loss: 576.8702\n",
      "Epoch 86/100\n",
      "18/18 [==============================] - 0s 12ms/step - loss: 107.8207 - val_loss: 592.5332\n",
      "Epoch 87/100\n",
      "18/18 [==============================] - 0s 12ms/step - loss: 106.7432 - val_loss: 597.5826\n",
      "Epoch 88/100\n",
      "18/18 [==============================] - 0s 13ms/step - loss: 106.6167 - val_loss: 699.6664\n",
      "Epoch 89/100\n",
      "18/18 [==============================] - 0s 13ms/step - loss: 110.4701 - val_loss: 665.8281\n",
      "Epoch 90/100\n",
      "18/18 [==============================] - 0s 13ms/step - loss: 108.0736 - val_loss: 586.0681\n",
      "Epoch 91/100\n",
      "18/18 [==============================] - 0s 12ms/step - loss: 106.6465 - val_loss: 601.2841\n",
      "Epoch 92/100\n",
      "18/18 [==============================] - 0s 12ms/step - loss: 109.4288 - val_loss: 631.9349\n",
      "Epoch 93/100\n",
      "18/18 [==============================] - 0s 13ms/step - loss: 105.0155 - val_loss: 597.9612\n",
      "Epoch 94/100\n",
      "18/18 [==============================] - 0s 12ms/step - loss: 105.0017 - val_loss: 603.5734\n",
      "Epoch 95/100\n",
      "18/18 [==============================] - 0s 12ms/step - loss: 104.9505 - val_loss: 577.2758\n",
      "Epoch 96/100\n",
      "18/18 [==============================] - 0s 12ms/step - loss: 109.8611 - val_loss: 599.4257\n",
      "Epoch 97/100\n",
      "18/18 [==============================] - 0s 12ms/step - loss: 105.0719 - val_loss: 578.7057\n",
      "Epoch 98/100\n",
      "18/18 [==============================] - 0s 13ms/step - loss: 105.4070 - val_loss: 575.5317\n",
      "Epoch 99/100\n",
      "18/18 [==============================] - 0s 11ms/step - loss: 109.5976 - val_loss: 661.4840\n",
      "Epoch 100/100\n",
      "18/18 [==============================] - 0s 11ms/step - loss: 121.9130 - val_loss: 577.7432\n"
     ]
    },
    {
     "data": {
      "text/plain": [
       "<keras.callbacks.History at 0x19844a635b0>"
      ]
     },
     "execution_count": 99,
     "metadata": {},
     "output_type": "execute_result"
    }
   ],
   "source": [
    "tf.random.set_seed(42)\n",
    "\n",
    "# Make multivariate time series model\n",
    "model_6 = tf.keras.Sequential([\n",
    "    layers.Dense(128, activation='relu'),\n",
    "    layers.Dense(128, activation='relu'),\n",
    "    layers.Dense(HORIZON)\n",
    "], name='model_6_dense_multivariate')\n",
    "\n",
    "# Compile\n",
    "model_6.compile(loss='mae',\n",
    "                optimizer=tf.keras.optimizers.Adam())\n",
    "# Fit\n",
    "model_6.fit(X_train, y_train,\n",
    "            epochs=100,\n",
    "            batch_size=128,\n",
    "            verbose=1,\n",
    "            validation_data=(X_test, y_test),\n",
    "            callbacks=[create_model_checkpoint(model_name=model_6.name)])"
   ]
  },
  {
   "cell_type": "code",
   "execution_count": 100,
   "id": "fbbd0cd9",
   "metadata": {},
   "outputs": [
    {
     "name": "stdout",
     "output_type": "stream",
     "text": [
      "18/18 [==============================] - 0s 6ms/step - loss: 577.3615\n"
     ]
    },
    {
     "data": {
      "text/plain": [
       "577.3614501953125"
      ]
     },
     "execution_count": 100,
     "metadata": {},
     "output_type": "execute_result"
    }
   ],
   "source": [
    "# Evaluate multivariate model\n",
    "model_6.evaluate(X_test, y_test)"
   ]
  },
  {
   "cell_type": "code",
   "execution_count": 101,
   "id": "6a6e0019",
   "metadata": {},
   "outputs": [
    {
     "name": "stdout",
     "output_type": "stream",
     "text": [
      "18/18 [==============================] - 0s 5ms/step - loss: 571.4774\n"
     ]
    },
    {
     "data": {
      "text/plain": [
       "571.4774169921875"
      ]
     },
     "execution_count": 101,
     "metadata": {},
     "output_type": "execute_result"
    }
   ],
   "source": [
    "# Load in and evaluate best performing model\n",
    "model_6 = tf.keras.models.load_model('model_experiments/model_6_dense_multivariate')\n",
    "model_6.evaluate(X_test, y_test)"
   ]
  },
  {
   "cell_type": "code",
   "execution_count": 102,
   "id": "30153aba",
   "metadata": {},
   "outputs": [
    {
     "name": "stdout",
     "output_type": "stream",
     "text": [
      "18/18 [==============================] - 0s 3ms/step\n"
     ]
    },
    {
     "data": {
      "text/plain": [
       "<tf.Tensor: shape=(10,), dtype=float32, numpy=\n",
       "array([8808.877, 8748.863, 9019.877, 8725.32 , 8712.388, 8738.797,\n",
       "       8645.153, 8507.276, 8433.166, 8512.26 ], dtype=float32)>"
      ]
     },
     "execution_count": 102,
     "metadata": {},
     "output_type": "execute_result"
    }
   ],
   "source": [
    "# Make predictions with multivariate model\n",
    "model_6_preds = tf.squeeze(model_6.predict(X_test))\n",
    "model_6_preds[:10]"
   ]
  },
  {
   "cell_type": "code",
   "execution_count": 103,
   "id": "d425ce79",
   "metadata": {},
   "outputs": [
    {
     "data": {
      "text/plain": [
       "{'mae': 571.4774,\n",
       " 'mse': 1174012.8,\n",
       " 'rmse': 1083.5187,\n",
       " 'mape': 2.586357,\n",
       " 'mase': 1.0039276}"
      ]
     },
     "execution_count": 103,
     "metadata": {},
     "output_type": "execute_result"
    }
   ],
   "source": [
    "# Evaluate predictions to get eval metrics\n",
    "model_6_results = evaluate_preds(y_true=y_test,\n",
    "                                 y_pred=model_6_preds)\n",
    "model_6_results"
   ]
  },
  {
   "cell_type": "code",
   "execution_count": 104,
   "id": "da85c3f3",
   "metadata": {},
   "outputs": [
    {
     "data": {
      "text/plain": [
       "{'mae': 574.7403,\n",
       " 'mse': 1188002.9,\n",
       " 'rmse': 1089.9554,\n",
       " 'mape': 2.5618834,\n",
       " 'mase': 1.0031228}"
      ]
     },
     "execution_count": 104,
     "metadata": {},
     "output_type": "execute_result"
    }
   ],
   "source": [
    "model_1_results"
   ]
  },
  {
   "cell_type": "code",
   "execution_count": 105,
   "id": "efd3378b",
   "metadata": {},
   "outputs": [
    {
     "data": {
      "text/plain": [
       "{'mae': 567.9802,\n",
       " 'mse': 1147547.0,\n",
       " 'rmse': 1071.2362,\n",
       " 'mape': 2.516525,\n",
       " 'mase': 0.99957}"
      ]
     },
     "execution_count": 105,
     "metadata": {},
     "output_type": "execute_result"
    }
   ],
   "source": [
    "naive_results"
   ]
  },
  {
   "cell_type": "markdown",
   "id": "4d75bb2c",
   "metadata": {},
   "source": [
    "## Model 7: N-BEATS algorithm\n",
    "\n",
    "Let's now try build the biggest baddest (though maybe not the baddest, as in, it perform really well...) time series forecasting model we have built so far.\n",
    "\n",
    "More specifically, we are going to be replicating the algorithm in the following paper: https://arxiv.org/pdf/1905.10437\n",
    "\n",
    "* This will allow us to practice replicating a paper with TensorFlow code\n",
    "* We will see how to use TensorFlow layer subclassing (to make our own custom layers)\n",
    "* Get experience using the Functional API to create a custom architecture\n",
    "* Potentially get state of the art results on our problem"
   ]
  },
  {
   "cell_type": "markdown",
   "id": "2c0b3ef1",
   "metadata": {},
   "source": [
    "### Building and testing the N-BEATS block layer\n",
    "\n",
    "Because the N-BEATS block layer doesn't exist in TensorFlow, we have got to create it.\n",
    "\n",
    "To create custom layers"
   ]
  },
  {
   "cell_type": "code",
   "execution_count": 106,
   "id": "4a9e913c",
   "metadata": {},
   "outputs": [],
   "source": [
    "# Create NBeatsBlock custom layer\n",
    "class NBeatsBlock(tf.keras.layers.Layer):\n",
    "\n",
    "    def __init__(self,\n",
    "                 input_size: int,\n",
    "                 theta_size:int,\n",
    "                 horizon: int,\n",
    "                 n_neurons: int,\n",
    "                 n_layers: int,\n",
    "                 **kwargs):\n",
    "        super().__init__(**kwargs)\n",
    "        self.input_size = input_size\n",
    "        self.theta_size = theta_size\n",
    "        self.horizon = horizon\n",
    "        self.n_neurons = n_neurons\n",
    "        self.n_layers = n_layers\n",
    "\n",
    "        # Block contains stack of 4 fully connected layers wach has ReLU activation\n",
    "        self.hidden = [tf.keras.layers.Dense(n_neurons, activation='relu') for _ in range(n_layers)]\n",
    "        # Output of block is a theta layer with linear activation\n",
    "        self.theta_layer = tf.keras.layers.Dense(theta_size, activation='linear', name='theta')\n",
    "\n",
    "    def call(self, inputs):\n",
    "        x = inputs\n",
    "        for layer in self.hidden:\n",
    "            x = layer(x)\n",
    "        theta = self.theta_layer(x)\n",
    "        # Output the backcast and the forecast from theta\n",
    "        backcast, forecast = theta[:, :self.input_size], theta[:, -self.horizon]\n",
    "        return backcast, forecast"
   ]
  },
  {
   "cell_type": "markdown",
   "id": "a7189576",
   "metadata": {},
   "source": [
    "Let's test our NBeatsBlock class.\n",
    "\n",
    "To do this we will make some dummy inputs and outputs."
   ]
  },
  {
   "cell_type": "code",
   "execution_count": 107,
   "id": "c5f0dc0c",
   "metadata": {},
   "outputs": [],
   "source": [
    "# Set up dummy NBeatsBlock layer to represent inputs and outputs\n",
    "dummy_nbeats_block_layer = NBeatsBlock(input_size=WINDOW_SIZE,\n",
    "                                       theta_size=WINDOW_SIZE+HORIZON, # backcast + forecast,\n",
    "                                       horizon=HORIZON,\n",
    "                                       n_neurons=128,\n",
    "                                       n_layers=4)"
   ]
  },
  {
   "cell_type": "code",
   "execution_count": 108,
   "id": "dc89eb8f",
   "metadata": {},
   "outputs": [
    {
     "data": {
      "text/plain": [
       "<tf.Tensor: shape=(1, 7), dtype=int32, numpy=array([[1, 2, 3, 4, 5, 6, 7]])>"
      ]
     },
     "execution_count": 108,
     "metadata": {},
     "output_type": "execute_result"
    }
   ],
   "source": [
    "# Create dummy inputs (have to be same size as input_size)\n",
    "dummy_inputs = tf.expand_dims(tf.range(WINDOW_SIZE) + 1, axis=0) # input shape to the model has to reflect dense layer input requirements (ndim=2)\n",
    "dummy_inputs"
   ]
  },
  {
   "cell_type": "code",
   "execution_count": 109,
   "id": "5c7919a4",
   "metadata": {},
   "outputs": [
    {
     "name": "stdout",
     "output_type": "stream",
     "text": [
      "Backcast: [ 0.05870431 -0.18966693 -0.01256808  0.00917907  0.02672067 -0.36318147\n",
      " -0.22457974]\n",
      "Forecast: 0.3092181086540222\n"
     ]
    }
   ],
   "source": [
    "# Pass dummy inputs to dummy NBeatsBlock layer\n",
    "backcast, forecast = dummy_nbeats_block_layer(dummy_inputs)\n",
    "# These are the activation outputs of the theta layer (they will be random due to no training of the model)\n",
    "print(f'Backcast: {tf.squeeze(backcast.numpy())}')\n",
    "print(f'Forecast: {tf.squeeze(forecast.numpy())}')"
   ]
  },
  {
   "cell_type": "markdown",
   "id": "7e2b80fe",
   "metadata": {},
   "source": [
    "### Preparing data for N-BEATS algorithm using `tf.data`\n",
    "\n",
    "To make our input data load as fast as possible we are going to be adhering to the performant data pipeline steps."
   ]
  },
  {
   "cell_type": "code",
   "execution_count": 110,
   "id": "c29c83bb",
   "metadata": {},
   "outputs": [],
   "source": [
    "HORIZON = 1\n",
    "WINDOW_SIZE = 7"
   ]
  },
  {
   "cell_type": "code",
   "execution_count": 111,
   "id": "3221ee13",
   "metadata": {},
   "outputs": [
    {
     "data": {
      "application/vnd.microsoft.datawrangler.viewer.v0+json": {
       "columns": [
        {
         "name": "Date",
         "rawType": "datetime64[ns]",
         "type": "datetime"
        },
        {
         "name": "Price",
         "rawType": "float64",
         "type": "float"
        }
       ],
       "ref": "c3c7bf1f-57df-4978-9b82-d5fd881b0e27",
       "rows": [
        [
         "2013-10-01 00:00:00",
         "123.65499"
        ],
        [
         "2013-10-02 00:00:00",
         "125.455"
        ],
        [
         "2013-10-03 00:00:00",
         "108.58483"
        ],
        [
         "2013-10-04 00:00:00",
         "118.67466"
        ],
        [
         "2013-10-05 00:00:00",
         "121.33866"
        ]
       ],
       "shape": {
        "columns": 1,
        "rows": 5
       }
      },
      "text/html": [
       "<div>\n",
       "<style scoped>\n",
       "    .dataframe tbody tr th:only-of-type {\n",
       "        vertical-align: middle;\n",
       "    }\n",
       "\n",
       "    .dataframe tbody tr th {\n",
       "        vertical-align: top;\n",
       "    }\n",
       "\n",
       "    .dataframe thead th {\n",
       "        text-align: right;\n",
       "    }\n",
       "</style>\n",
       "<table border=\"1\" class=\"dataframe\">\n",
       "  <thead>\n",
       "    <tr style=\"text-align: right;\">\n",
       "      <th></th>\n",
       "      <th>Price</th>\n",
       "    </tr>\n",
       "    <tr>\n",
       "      <th>Date</th>\n",
       "      <th></th>\n",
       "    </tr>\n",
       "  </thead>\n",
       "  <tbody>\n",
       "    <tr>\n",
       "      <th>2013-10-01</th>\n",
       "      <td>123.65499</td>\n",
       "    </tr>\n",
       "    <tr>\n",
       "      <th>2013-10-02</th>\n",
       "      <td>125.45500</td>\n",
       "    </tr>\n",
       "    <tr>\n",
       "      <th>2013-10-03</th>\n",
       "      <td>108.58483</td>\n",
       "    </tr>\n",
       "    <tr>\n",
       "      <th>2013-10-04</th>\n",
       "      <td>118.67466</td>\n",
       "    </tr>\n",
       "    <tr>\n",
       "      <th>2013-10-05</th>\n",
       "      <td>121.33866</td>\n",
       "    </tr>\n",
       "  </tbody>\n",
       "</table>\n",
       "</div>"
      ],
      "text/plain": [
       "                Price\n",
       "Date                 \n",
       "2013-10-01  123.65499\n",
       "2013-10-02  125.45500\n",
       "2013-10-03  108.58483\n",
       "2013-10-04  118.67466\n",
       "2013-10-05  121.33866"
      ]
     },
     "execution_count": 111,
     "metadata": {},
     "output_type": "execute_result"
    }
   ],
   "source": [
    "# Create N-BEATS data inputs (N-BEATS works with univariate time series)\n",
    "bitcoin_prices.head()"
   ]
  },
  {
   "cell_type": "code",
   "execution_count": 112,
   "id": "dc7e96b9",
   "metadata": {},
   "outputs": [
    {
     "data": {
      "application/vnd.microsoft.datawrangler.viewer.v0+json": {
       "columns": [
        {
         "name": "Date",
         "rawType": "datetime64[ns]",
         "type": "datetime"
        },
        {
         "name": "Price",
         "rawType": "float64",
         "type": "float"
        },
        {
         "name": "Price+1",
         "rawType": "float64",
         "type": "float"
        },
        {
         "name": "Price+2",
         "rawType": "float64",
         "type": "float"
        },
        {
         "name": "Price+3",
         "rawType": "float64",
         "type": "float"
        },
        {
         "name": "Price+4",
         "rawType": "float64",
         "type": "float"
        },
        {
         "name": "Price+5",
         "rawType": "float64",
         "type": "float"
        },
        {
         "name": "Price+6",
         "rawType": "float64",
         "type": "float"
        },
        {
         "name": "Price+7",
         "rawType": "float64",
         "type": "float"
        }
       ],
       "ref": "b11c5e34-93a9-4e1b-8653-ea01ef107ecf",
       "rows": [
        [
         "2013-10-01 00:00:00",
         "123.65499",
         null,
         null,
         null,
         null,
         null,
         null,
         null
        ],
        [
         "2013-10-02 00:00:00",
         "125.455",
         "123.65499",
         null,
         null,
         null,
         null,
         null,
         null
        ],
        [
         "2013-10-03 00:00:00",
         "108.58483",
         "125.455",
         "123.65499",
         null,
         null,
         null,
         null,
         null
        ],
        [
         "2013-10-04 00:00:00",
         "118.67466",
         "108.58483",
         "125.455",
         "123.65499",
         null,
         null,
         null,
         null
        ],
        [
         "2013-10-05 00:00:00",
         "121.33866",
         "118.67466",
         "108.58483",
         "125.455",
         "123.65499",
         null,
         null,
         null
        ]
       ],
       "shape": {
        "columns": 8,
        "rows": 5
       }
      },
      "text/html": [
       "<div>\n",
       "<style scoped>\n",
       "    .dataframe tbody tr th:only-of-type {\n",
       "        vertical-align: middle;\n",
       "    }\n",
       "\n",
       "    .dataframe tbody tr th {\n",
       "        vertical-align: top;\n",
       "    }\n",
       "\n",
       "    .dataframe thead th {\n",
       "        text-align: right;\n",
       "    }\n",
       "</style>\n",
       "<table border=\"1\" class=\"dataframe\">\n",
       "  <thead>\n",
       "    <tr style=\"text-align: right;\">\n",
       "      <th></th>\n",
       "      <th>Price</th>\n",
       "      <th>Price+1</th>\n",
       "      <th>Price+2</th>\n",
       "      <th>Price+3</th>\n",
       "      <th>Price+4</th>\n",
       "      <th>Price+5</th>\n",
       "      <th>Price+6</th>\n",
       "      <th>Price+7</th>\n",
       "    </tr>\n",
       "    <tr>\n",
       "      <th>Date</th>\n",
       "      <th></th>\n",
       "      <th></th>\n",
       "      <th></th>\n",
       "      <th></th>\n",
       "      <th></th>\n",
       "      <th></th>\n",
       "      <th></th>\n",
       "      <th></th>\n",
       "    </tr>\n",
       "  </thead>\n",
       "  <tbody>\n",
       "    <tr>\n",
       "      <th>2013-10-01</th>\n",
       "      <td>123.65499</td>\n",
       "      <td>NaN</td>\n",
       "      <td>NaN</td>\n",
       "      <td>NaN</td>\n",
       "      <td>NaN</td>\n",
       "      <td>NaN</td>\n",
       "      <td>NaN</td>\n",
       "      <td>NaN</td>\n",
       "    </tr>\n",
       "    <tr>\n",
       "      <th>2013-10-02</th>\n",
       "      <td>125.45500</td>\n",
       "      <td>123.65499</td>\n",
       "      <td>NaN</td>\n",
       "      <td>NaN</td>\n",
       "      <td>NaN</td>\n",
       "      <td>NaN</td>\n",
       "      <td>NaN</td>\n",
       "      <td>NaN</td>\n",
       "    </tr>\n",
       "    <tr>\n",
       "      <th>2013-10-03</th>\n",
       "      <td>108.58483</td>\n",
       "      <td>125.45500</td>\n",
       "      <td>123.65499</td>\n",
       "      <td>NaN</td>\n",
       "      <td>NaN</td>\n",
       "      <td>NaN</td>\n",
       "      <td>NaN</td>\n",
       "      <td>NaN</td>\n",
       "    </tr>\n",
       "    <tr>\n",
       "      <th>2013-10-04</th>\n",
       "      <td>118.67466</td>\n",
       "      <td>108.58483</td>\n",
       "      <td>125.45500</td>\n",
       "      <td>123.65499</td>\n",
       "      <td>NaN</td>\n",
       "      <td>NaN</td>\n",
       "      <td>NaN</td>\n",
       "      <td>NaN</td>\n",
       "    </tr>\n",
       "    <tr>\n",
       "      <th>2013-10-05</th>\n",
       "      <td>121.33866</td>\n",
       "      <td>118.67466</td>\n",
       "      <td>108.58483</td>\n",
       "      <td>125.45500</td>\n",
       "      <td>123.65499</td>\n",
       "      <td>NaN</td>\n",
       "      <td>NaN</td>\n",
       "      <td>NaN</td>\n",
       "    </tr>\n",
       "  </tbody>\n",
       "</table>\n",
       "</div>"
      ],
      "text/plain": [
       "                Price    Price+1    Price+2    Price+3    Price+4  Price+5  \\\n",
       "Date                                                                         \n",
       "2013-10-01  123.65499        NaN        NaN        NaN        NaN      NaN   \n",
       "2013-10-02  125.45500  123.65499        NaN        NaN        NaN      NaN   \n",
       "2013-10-03  108.58483  125.45500  123.65499        NaN        NaN      NaN   \n",
       "2013-10-04  118.67466  108.58483  125.45500  123.65499        NaN      NaN   \n",
       "2013-10-05  121.33866  118.67466  108.58483  125.45500  123.65499      NaN   \n",
       "\n",
       "            Price+6  Price+7  \n",
       "Date                          \n",
       "2013-10-01      NaN      NaN  \n",
       "2013-10-02      NaN      NaN  \n",
       "2013-10-03      NaN      NaN  \n",
       "2013-10-04      NaN      NaN  \n",
       "2013-10-05      NaN      NaN  "
      ]
     },
     "execution_count": 112,
     "metadata": {},
     "output_type": "execute_result"
    }
   ],
   "source": [
    "# Add windowed columns\n",
    "bitcoin_prices_nbeats = bitcoin_prices.copy()\n",
    "for i in range(WINDOW_SIZE):\n",
    "    bitcoin_prices_nbeats[f'Price+{i+1}'] = bitcoin_prices_nbeats['Price'].shift(periods=i+1)\n",
    "bitcoin_prices_nbeats.head()"
   ]
  },
  {
   "cell_type": "code",
   "execution_count": 113,
   "id": "bde64c9c",
   "metadata": {},
   "outputs": [
    {
     "data": {
      "text/plain": [
       "(2224, 2224, 556, 556)"
      ]
     },
     "execution_count": 113,
     "metadata": {},
     "output_type": "execute_result"
    }
   ],
   "source": [
    "# Make features and labels\n",
    "X = bitcoin_prices_nbeats.dropna().drop('Price', axis=1)\n",
    "y = bitcoin_prices_nbeats.dropna()['Price']\n",
    "\n",
    "# Make train and test sets\n",
    "split_size = int(len(X) * 0.8)\n",
    "X_train, y_train = X[:split_size], y[:split_size]\n",
    "X_test, y_test = X[split_size:], y[split_size:]\n",
    "len(X_train), len(y_train), len(X_test), len(y_test)"
   ]
  },
  {
   "cell_type": "code",
   "execution_count": 114,
   "id": "14ab2df3",
   "metadata": {},
   "outputs": [
    {
     "data": {
      "text/plain": [
       "(<PrefetchDataset element_spec=(TensorSpec(shape=(None, 7), dtype=tf.float64, name=None), TensorSpec(shape=(None,), dtype=tf.float64, name=None))>,\n",
       " <PrefetchDataset element_spec=(TensorSpec(shape=(None, 7), dtype=tf.float64, name=None), TensorSpec(shape=(None,), dtype=tf.float64, name=None))>)"
      ]
     },
     "execution_count": 114,
     "metadata": {},
     "output_type": "execute_result"
    }
   ],
   "source": [
    "# Time to make our dataset performant using tf.data API\n",
    "train_features_dataset = tf.data.Dataset.from_tensor_slices(X_train)\n",
    "train_labels_dataset = tf.data.Dataset.from_tensor_slices(y_train)\n",
    "\n",
    "test_features_dataset = tf.data.Dataset.from_tensor_slices(X_test)\n",
    "test_labels_dataset = tf.data.Dataset.from_tensor_slices(y_test)\n",
    "\n",
    "# Combine labels and features by zipping together -> (features, labels)\n",
    "train_dataset = tf.data.Dataset.zip((train_features_dataset, train_labels_dataset))\n",
    "test_dataset = tf.data.Dataset.zip((test_features_dataset, test_labels_dataset))\n",
    "\n",
    "# Batch and prefetch\n",
    "BATCH_SIZE = 1024\n",
    "train_dataset = train_dataset.batch(BATCH_SIZE).prefetch(tf.data.AUTOTUNE)\n",
    "test_dataset = test_dataset.batch(BATCH_SIZE).prefetch(tf.data.AUTOTUNE)\n",
    " \n",
    "train_dataset, test_dataset "
   ]
  },
  {
   "cell_type": "markdown",
   "id": "1928661c",
   "metadata": {},
   "source": [
    "### Setting up hyperparameters for N-BEATS algorithm\n",
    "\n",
    "The N-BEATS algorithm has a fair few nunmber of parameters."
   ]
  },
  {
   "cell_type": "code",
   "execution_count": 115,
   "id": "cbd2045f",
   "metadata": {},
   "outputs": [
    {
     "data": {
      "text/plain": [
       "(7, 8)"
      ]
     },
     "execution_count": 115,
     "metadata": {},
     "output_type": "execute_result"
    }
   ],
   "source": [
    "# Values from N-BEATS paper\n",
    "N_EPOCHS = 5000\n",
    "N_NEURONS = 512\n",
    "N_LAYERS = 4\n",
    "N_STACKS = 30\n",
    "\n",
    "INPUT_SIZE = WINDOW_SIZE * HORIZON\n",
    "THETA_SIZE = INPUT_SIZE + HORIZON\n",
    "\n",
    "INPUT_SIZE, THETA_SIZE"
   ]
  },
  {
   "cell_type": "markdown",
   "id": "992afae5",
   "metadata": {},
   "source": [
    "### Getting ready for residual connections\n",
    "\n",
    "Before we can craft our N-BEATS model, we need two layers for the residual connections (substract and add).\n",
    "\n",
    "The N-BEATS algorithm uses double residual stacking to help train its deeper architecture."
   ]
  },
  {
   "cell_type": "code",
   "execution_count": 117,
   "id": "74ad56f6",
   "metadata": {},
   "outputs": [
    {
     "name": "stdout",
     "output_type": "stream",
     "text": [
      "Input tensors: [10 11 12 13 14 15 16 17 18 19] & [0 1 2 3 4 5 6 7 8 9]\n",
      "Substracted tensors: [10 10 10 10 10 10 10 10 10 10]\n",
      "Added tensor: [10 12 14 16 18 20 22 24 26 28]\n"
     ]
    }
   ],
   "source": [
    "# Make tensors\n",
    "tensor_1 = tf.range(10) + 10\n",
    "tensor_2 = tf.range(10)\n",
    "\n",
    "# Substract\n",
    "substracted = layers.subtract([tensor_1, tensor_2])\n",
    "\n",
    "# Add\n",
    "added = layers.add([tensor_1, tensor_2])\n",
    "\n",
    "# Get outputs\n",
    "print(f'Input tensors: {tensor_1.numpy()} & {tensor_2.numpy()}')\n",
    "print(f'Substracted tensors: {substracted.numpy()}')\n",
    "print(f'Added tensor: {added.numpy()}')"
   ]
  },
  {
   "cell_type": "markdown",
   "id": "2c4c351c",
   "metadata": {},
   "source": [
    "### Building, compiling and fitting the N-BEATS algorithm\n",
    "\n",
    "1. Setup an instance of the N-BEATS block layer using `NBeatsBlock` (this will be the initial block used for the network, the rest will be created as part of stacks)\n",
    "2. Create an input layer for the N-BEATS stack (we will be using the Keras Functional API)\n",
    "3. Make the initial backcast and forecasts for the model with the layer created in (1)\n",
    "4. Use for loop to create stacks of block layers\n",
    "5. Use the `NBeatsBlock` class within the for loop in (4) to create block which return backcasts and block-level forecasts\n",
    "6. Create the double residual stacking using subtract and add layers\n",
    "7. Put the model inputs and outputs together using `tf.keras.Model()`\n",
    "8. Compile the model with MAE loss (the paper uses multiple losses but we will use MAE to keep it inline with our models) and Adam optimizer with default setting as per section 5.2 of N-BEATS paper\n",
    "9. Fit the N-BEATS model for 5000 epochs and since it's fitting for so many epochs, we will use a couple of callbacks:\n",
    "    * Early Stopping - because the model will be training for so long, we will stop it early if it stops improving\n",
    "    * Reduce LR on Plateau - if a model stops improving, try lowering the learning to reduce the amount it updates its weights each time (take smaller steps towards best performance)"
   ]
  },
  {
   "cell_type": "code",
   "execution_count": 122,
   "id": "24336f5c",
   "metadata": {},
   "outputs": [
    {
     "name": "stdout",
     "output_type": "stream",
     "text": [
      "\n",
      "Epoch 898: ReduceLROnPlateau reducing learning rate to 0.00010000000474974513.\n",
      "\n",
      "Epoch 998: ReduceLROnPlateau reducing learning rate to 1.0000000474974514e-05.\n",
      "CPU times: total: 2min 36s\n",
      "Wall time: 2min 31s\n"
     ]
    },
    {
     "data": {
      "text/plain": [
       "<keras.callbacks.History at 0x1984e11d9c0>"
      ]
     },
     "execution_count": 122,
     "metadata": {},
     "output_type": "execute_result"
    }
   ],
   "source": [
    "%%time\n",
    "\n",
    "tf.random.set_seed(42)\n",
    "\n",
    "# 1. Setup and instance of NBeatsBlock\n",
    "nbeats_block_layer = NBeatsBlock(input_size=INPUT_SIZE,\n",
    "                                    theta_size=THETA_SIZE,\n",
    "                                    horizon=HORIZON,\n",
    "                                    n_neurons=N_NEURONS,\n",
    "                                    n_layers=N_LAYERS,\n",
    "                                    name='InitialBlock')\n",
    "\n",
    "# 2. Create input to stack\n",
    "stack_input = layers.Input(shape=(INPUT_SIZE), name='stack_input')\n",
    "\n",
    "# 3. Create initial backcast and forecast input (backwards prediction + horizon prediction)\n",
    "residuals, forecast = nbeats_block_layer(stack_input)\n",
    "\n",
    "# 4. Create stacks of block layers\n",
    "for i, _ in enumerate(range(N_STACKS-1)): # first stack is already created in (3)\n",
    "\n",
    "    # 5. Use the NBeatsBlock to calculate the backcast as well as the forecast\n",
    "    backcast, block_forecast = NBeatsBlock(\n",
    "        input_size=INPUT_SIZE,\n",
    "        theta_size=THETA_SIZE,\n",
    "        horizon=HORIZON,\n",
    "        n_neurons=N_NEURONS,\n",
    "        n_layers=N_LAYERS,\n",
    "        name=f'NBetasBlock_{i}'\n",
    "    )(residuals) # pass in the residuals\n",
    "\n",
    "    # 6. Create the double residual stacking\n",
    "    residuals = layers.subtract([residuals, backcast], name=f'subtract_{i}')\n",
    "    forecast = layers.add([forecast, block_forecast], name=f'add_{i}')\n",
    "\n",
    "# 7. Put the stack model together\n",
    "model_7 = tf.keras.Model(inputs=stack_input, outputs=forecast, name='model_7_NBEATS')\n",
    "\n",
    "# 8. Compile model with MAE loss\n",
    "model_7.compile(loss='mae',\n",
    "                optimizer=tf.keras.optimizers.Adam())\n",
    "\n",
    "# 9. Fit the model with EarlyStopping and ReduceLROnPlateau callbacks\n",
    "model_7.fit(train_dataset,\n",
    "            epochs=N_EPOCHS,\n",
    "            validation_data=test_dataset,\n",
    "            verbose=0,\n",
    "            callbacks=[tf.keras.callbacks.EarlyStopping(monitor='val_loss',\n",
    "                                                        patience=200,\n",
    "                                                        restore_best_weights=True),\n",
    "                        tf.keras.callbacks.ReduceLROnPlateau(monitor='val_loss',\n",
    "                                                                patience=100,\n",
    "                                                                verbose=1)])"
   ]
  },
  {
   "cell_type": "code",
   "execution_count": 123,
   "id": "459a9ab8",
   "metadata": {},
   "outputs": [
    {
     "name": "stdout",
     "output_type": "stream",
     "text": [
      "1/1 [==============================] - 0s 95ms/step - loss: 574.6303\n"
     ]
    },
    {
     "data": {
      "text/plain": [
       "574.6303100585938"
      ]
     },
     "execution_count": 123,
     "metadata": {},
     "output_type": "execute_result"
    }
   ],
   "source": [
    "# Evaluate N-Beats model on the test dataset\n",
    "model_7.evaluate(test_dataset)"
   ]
  },
  {
   "cell_type": "code",
   "execution_count": 124,
   "id": "69622747",
   "metadata": {},
   "outputs": [
    {
     "name": "stdout",
     "output_type": "stream",
     "text": [
      "1/1 [==============================] - 1s 794ms/step\n"
     ]
    },
    {
     "data": {
      "text/plain": [
       "<tf.Tensor: shape=(10,), dtype=float32, numpy=\n",
       "array([8853.743 , 8766.348 , 9005.944 , 8774.86  , 8718.355 , 8714.1455,\n",
       "       8659.737 , 8512.341 , 8441.083 , 8503.058 ], dtype=float32)>"
      ]
     },
     "execution_count": 124,
     "metadata": {},
     "output_type": "execute_result"
    }
   ],
   "source": [
    "# Make predictions with N-BEATS model\n",
    "model_7_preds = make_preds(model_7, test_dataset)\n",
    "model_7_preds[:10]"
   ]
  },
  {
   "cell_type": "code",
   "execution_count": 126,
   "id": "f93843f9",
   "metadata": {},
   "outputs": [
    {
     "data": {
      "text/plain": [
       "{'mae': 574.6303,\n",
       " 'mse': 1180644.4,\n",
       " 'rmse': 1086.5746,\n",
       " 'mape': 2.6114616,\n",
       " 'mase': 1.0094663}"
      ]
     },
     "execution_count": 126,
     "metadata": {},
     "output_type": "execute_result"
    }
   ],
   "source": [
    "# Evaluate N-BEATS model preds\n",
    "model_7_results = evaluate_preds(y_true=y_test,\n",
    "                                 y_pred=model_7_preds)\n",
    "model_7_results"
   ]
  },
  {
   "cell_type": "code",
   "execution_count": 127,
   "id": "3154c98f",
   "metadata": {},
   "outputs": [
    {
     "data": {
      "text/plain": [
       "{'mae': 574.7403,\n",
       " 'mse': 1188002.9,\n",
       " 'rmse': 1089.9554,\n",
       " 'mape': 2.5618834,\n",
       " 'mase': 1.0031228}"
      ]
     },
     "execution_count": 127,
     "metadata": {},
     "output_type": "execute_result"
    }
   ],
   "source": [
    "model_1_results"
   ]
  },
  {
   "cell_type": "code",
   "execution_count": 128,
   "id": "1431c045",
   "metadata": {},
   "outputs": [
    {
     "data": {
      "text/plain": [
       "{'mae': 567.9802,\n",
       " 'mse': 1147547.0,\n",
       " 'rmse': 1071.2362,\n",
       " 'mape': 2.516525,\n",
       " 'mase': 0.99957}"
      ]
     },
     "execution_count": 128,
     "metadata": {},
     "output_type": "execute_result"
    }
   ],
   "source": [
    "naive_results"
   ]
  }
 ],
 "metadata": {
  "kernelspec": {
   "display_name": "tf3",
   "language": "python",
   "name": "python3"
  },
  "language_info": {
   "codemirror_mode": {
    "name": "ipython",
    "version": 3
   },
   "file_extension": ".py",
   "mimetype": "text/x-python",
   "name": "python",
   "nbconvert_exporter": "python",
   "pygments_lexer": "ipython3",
   "version": "3.10.18"
  }
 },
 "nbformat": 4,
 "nbformat_minor": 5
}

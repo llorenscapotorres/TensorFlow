{
 "cells": [
  {
   "cell_type": "markdown",
   "id": "197107bd",
   "metadata": {},
   "source": [
    "# Time Series Forecasting Fundamentals with TensorFlow + Milestone Project: BitPredict\n",
    "\n",
    "Let's write some TensorFlow code to predict the price of Bitcoin based on historical price of Bitcoin."
   ]
  },
  {
   "cell_type": "markdown",
   "id": "d842b633",
   "metadata": {},
   "source": [
    "## Importing time series with pandas"
   ]
  },
  {
   "cell_type": "code",
   "execution_count": 1,
   "id": "912c0b37",
   "metadata": {},
   "outputs": [
    {
     "data": {
      "application/vnd.microsoft.datawrangler.viewer.v0+json": {
       "columns": [
        {
         "name": "Date",
         "rawType": "datetime64[ns]",
         "type": "datetime"
        },
        {
         "name": "Currency",
         "rawType": "object",
         "type": "string"
        },
        {
         "name": "Closing Price (USD)",
         "rawType": "float64",
         "type": "float"
        },
        {
         "name": "24h Open (USD)",
         "rawType": "float64",
         "type": "float"
        },
        {
         "name": "24h High (USD)",
         "rawType": "float64",
         "type": "float"
        },
        {
         "name": "24h Low (USD)",
         "rawType": "float64",
         "type": "float"
        }
       ],
       "ref": "2d209cfe-0997-4988-9799-17f282c72129",
       "rows": [
        [
         "2013-10-01 00:00:00",
         "BTC",
         "123.65499",
         "124.30466",
         "124.75166",
         "122.56349"
        ],
        [
         "2013-10-02 00:00:00",
         "BTC",
         "125.455",
         "123.65499",
         "125.7585",
         "123.63383"
        ],
        [
         "2013-10-03 00:00:00",
         "BTC",
         "108.58483",
         "125.455",
         "125.66566",
         "83.32833"
        ],
        [
         "2013-10-04 00:00:00",
         "BTC",
         "118.67466",
         "108.58483",
         "118.675",
         "107.05816"
        ],
        [
         "2013-10-05 00:00:00",
         "BTC",
         "121.33866",
         "118.67466",
         "121.93633",
         "118.00566"
        ]
       ],
       "shape": {
        "columns": 5,
        "rows": 5
       }
      },
      "text/html": [
       "<div>\n",
       "<style scoped>\n",
       "    .dataframe tbody tr th:only-of-type {\n",
       "        vertical-align: middle;\n",
       "    }\n",
       "\n",
       "    .dataframe tbody tr th {\n",
       "        vertical-align: top;\n",
       "    }\n",
       "\n",
       "    .dataframe thead th {\n",
       "        text-align: right;\n",
       "    }\n",
       "</style>\n",
       "<table border=\"1\" class=\"dataframe\">\n",
       "  <thead>\n",
       "    <tr style=\"text-align: right;\">\n",
       "      <th></th>\n",
       "      <th>Currency</th>\n",
       "      <th>Closing Price (USD)</th>\n",
       "      <th>24h Open (USD)</th>\n",
       "      <th>24h High (USD)</th>\n",
       "      <th>24h Low (USD)</th>\n",
       "    </tr>\n",
       "    <tr>\n",
       "      <th>Date</th>\n",
       "      <th></th>\n",
       "      <th></th>\n",
       "      <th></th>\n",
       "      <th></th>\n",
       "      <th></th>\n",
       "    </tr>\n",
       "  </thead>\n",
       "  <tbody>\n",
       "    <tr>\n",
       "      <th>2013-10-01</th>\n",
       "      <td>BTC</td>\n",
       "      <td>123.65499</td>\n",
       "      <td>124.30466</td>\n",
       "      <td>124.75166</td>\n",
       "      <td>122.56349</td>\n",
       "    </tr>\n",
       "    <tr>\n",
       "      <th>2013-10-02</th>\n",
       "      <td>BTC</td>\n",
       "      <td>125.45500</td>\n",
       "      <td>123.65499</td>\n",
       "      <td>125.75850</td>\n",
       "      <td>123.63383</td>\n",
       "    </tr>\n",
       "    <tr>\n",
       "      <th>2013-10-03</th>\n",
       "      <td>BTC</td>\n",
       "      <td>108.58483</td>\n",
       "      <td>125.45500</td>\n",
       "      <td>125.66566</td>\n",
       "      <td>83.32833</td>\n",
       "    </tr>\n",
       "    <tr>\n",
       "      <th>2013-10-04</th>\n",
       "      <td>BTC</td>\n",
       "      <td>118.67466</td>\n",
       "      <td>108.58483</td>\n",
       "      <td>118.67500</td>\n",
       "      <td>107.05816</td>\n",
       "    </tr>\n",
       "    <tr>\n",
       "      <th>2013-10-05</th>\n",
       "      <td>BTC</td>\n",
       "      <td>121.33866</td>\n",
       "      <td>118.67466</td>\n",
       "      <td>121.93633</td>\n",
       "      <td>118.00566</td>\n",
       "    </tr>\n",
       "  </tbody>\n",
       "</table>\n",
       "</div>"
      ],
      "text/plain": [
       "           Currency  Closing Price (USD)  24h Open (USD)  24h High (USD)  \\\n",
       "Date                                                                       \n",
       "2013-10-01      BTC            123.65499       124.30466       124.75166   \n",
       "2013-10-02      BTC            125.45500       123.65499       125.75850   \n",
       "2013-10-03      BTC            108.58483       125.45500       125.66566   \n",
       "2013-10-04      BTC            118.67466       108.58483       118.67500   \n",
       "2013-10-05      BTC            121.33866       118.67466       121.93633   \n",
       "\n",
       "            24h Low (USD)  \n",
       "Date                       \n",
       "2013-10-01      122.56349  \n",
       "2013-10-02      123.63383  \n",
       "2013-10-03       83.32833  \n",
       "2013-10-04      107.05816  \n",
       "2013-10-05      118.00566  "
      ]
     },
     "execution_count": 1,
     "metadata": {},
     "output_type": "execute_result"
    }
   ],
   "source": [
    "# Import with pandas\n",
    "import pandas as pd\n",
    "# Let's read in our Bitcoin data and parse the dates\n",
    "df = pd.read_csv('./bitcoin_price.csv',\n",
    "                 parse_dates=['Date'],\n",
    "                 index_col=['Date']) # parse the date column and tell pandas column 1 is a datetime\n",
    "\n",
    "df.head()"
   ]
  },
  {
   "cell_type": "code",
   "execution_count": 2,
   "id": "756c4c8b",
   "metadata": {},
   "outputs": [
    {
     "data": {
      "application/vnd.microsoft.datawrangler.viewer.v0+json": {
       "columns": [
        {
         "name": "Date",
         "rawType": "datetime64[ns]",
         "type": "datetime"
        },
        {
         "name": "Currency",
         "rawType": "object",
         "type": "string"
        },
        {
         "name": "Closing Price (USD)",
         "rawType": "float64",
         "type": "float"
        },
        {
         "name": "24h Open (USD)",
         "rawType": "float64",
         "type": "float"
        },
        {
         "name": "24h High (USD)",
         "rawType": "float64",
         "type": "float"
        },
        {
         "name": "24h Low (USD)",
         "rawType": "float64",
         "type": "float"
        }
       ],
       "ref": "c6258d54-a230-49c7-86bb-9eb829be57d8",
       "rows": [
        [
         "2021-05-14 00:00:00",
         "BTC",
         "49764.1320815975",
         "49596.7788914698",
         "51448.7985760232",
         "46294.7201795113"
        ],
        [
         "2021-05-15 00:00:00",
         "BTC",
         "50032.6931367648",
         "49717.3543531654",
         "51578.3125446899",
         "48944.3465360214"
        ],
        [
         "2021-05-16 00:00:00",
         "BTC",
         "47885.6252547166",
         "49926.035067459",
         "50690.8029495356",
         "47005.1022924768"
        ],
        [
         "2021-05-17 00:00:00",
         "BTC",
         "45604.6157536131",
         "46805.5378519185",
         "49670.4141738148",
         "43868.6389692715"
        ],
        [
         "2021-05-18 00:00:00",
         "BTC",
         "43144.4712908603",
         "46439.3365698047",
         "46622.8534374849",
         "42102.3464296188"
        ]
       ],
       "shape": {
        "columns": 5,
        "rows": 5
       }
      },
      "text/html": [
       "<div>\n",
       "<style scoped>\n",
       "    .dataframe tbody tr th:only-of-type {\n",
       "        vertical-align: middle;\n",
       "    }\n",
       "\n",
       "    .dataframe tbody tr th {\n",
       "        vertical-align: top;\n",
       "    }\n",
       "\n",
       "    .dataframe thead th {\n",
       "        text-align: right;\n",
       "    }\n",
       "</style>\n",
       "<table border=\"1\" class=\"dataframe\">\n",
       "  <thead>\n",
       "    <tr style=\"text-align: right;\">\n",
       "      <th></th>\n",
       "      <th>Currency</th>\n",
       "      <th>Closing Price (USD)</th>\n",
       "      <th>24h Open (USD)</th>\n",
       "      <th>24h High (USD)</th>\n",
       "      <th>24h Low (USD)</th>\n",
       "    </tr>\n",
       "    <tr>\n",
       "      <th>Date</th>\n",
       "      <th></th>\n",
       "      <th></th>\n",
       "      <th></th>\n",
       "      <th></th>\n",
       "      <th></th>\n",
       "    </tr>\n",
       "  </thead>\n",
       "  <tbody>\n",
       "    <tr>\n",
       "      <th>2021-05-14</th>\n",
       "      <td>BTC</td>\n",
       "      <td>49764.132082</td>\n",
       "      <td>49596.778891</td>\n",
       "      <td>51448.798576</td>\n",
       "      <td>46294.720180</td>\n",
       "    </tr>\n",
       "    <tr>\n",
       "      <th>2021-05-15</th>\n",
       "      <td>BTC</td>\n",
       "      <td>50032.693137</td>\n",
       "      <td>49717.354353</td>\n",
       "      <td>51578.312545</td>\n",
       "      <td>48944.346536</td>\n",
       "    </tr>\n",
       "    <tr>\n",
       "      <th>2021-05-16</th>\n",
       "      <td>BTC</td>\n",
       "      <td>47885.625255</td>\n",
       "      <td>49926.035067</td>\n",
       "      <td>50690.802950</td>\n",
       "      <td>47005.102292</td>\n",
       "    </tr>\n",
       "    <tr>\n",
       "      <th>2021-05-17</th>\n",
       "      <td>BTC</td>\n",
       "      <td>45604.615754</td>\n",
       "      <td>46805.537852</td>\n",
       "      <td>49670.414174</td>\n",
       "      <td>43868.638969</td>\n",
       "    </tr>\n",
       "    <tr>\n",
       "      <th>2021-05-18</th>\n",
       "      <td>BTC</td>\n",
       "      <td>43144.471291</td>\n",
       "      <td>46439.336570</td>\n",
       "      <td>46622.853437</td>\n",
       "      <td>42102.346430</td>\n",
       "    </tr>\n",
       "  </tbody>\n",
       "</table>\n",
       "</div>"
      ],
      "text/plain": [
       "           Currency  Closing Price (USD)  24h Open (USD)  24h High (USD)  \\\n",
       "Date                                                                       \n",
       "2021-05-14      BTC         49764.132082    49596.778891    51448.798576   \n",
       "2021-05-15      BTC         50032.693137    49717.354353    51578.312545   \n",
       "2021-05-16      BTC         47885.625255    49926.035067    50690.802950   \n",
       "2021-05-17      BTC         45604.615754    46805.537852    49670.414174   \n",
       "2021-05-18      BTC         43144.471291    46439.336570    46622.853437   \n",
       "\n",
       "            24h Low (USD)  \n",
       "Date                       \n",
       "2021-05-14   46294.720180  \n",
       "2021-05-15   48944.346536  \n",
       "2021-05-16   47005.102292  \n",
       "2021-05-17   43868.638969  \n",
       "2021-05-18   42102.346430  "
      ]
     },
     "execution_count": 2,
     "metadata": {},
     "output_type": "execute_result"
    }
   ],
   "source": [
    "df.tail()"
   ]
  },
  {
   "cell_type": "code",
   "execution_count": 3,
   "id": "9fca5567",
   "metadata": {},
   "outputs": [
    {
     "name": "stdout",
     "output_type": "stream",
     "text": [
      "<class 'pandas.core.frame.DataFrame'>\n",
      "DatetimeIndex: 2787 entries, 2013-10-01 to 2021-05-18\n",
      "Data columns (total 5 columns):\n",
      " #   Column               Non-Null Count  Dtype  \n",
      "---  ------               --------------  -----  \n",
      " 0   Currency             2787 non-null   object \n",
      " 1   Closing Price (USD)  2787 non-null   float64\n",
      " 2   24h Open (USD)       2787 non-null   float64\n",
      " 3   24h High (USD)       2787 non-null   float64\n",
      " 4   24h Low (USD)        2787 non-null   float64\n",
      "dtypes: float64(4), object(1)\n",
      "memory usage: 130.6+ KB\n"
     ]
    }
   ],
   "source": [
    "df.info()"
   ]
  },
  {
   "cell_type": "code",
   "execution_count": 4,
   "id": "67661981",
   "metadata": {},
   "outputs": [
    {
     "data": {
      "text/plain": [
       "2787"
      ]
     },
     "execution_count": 4,
     "metadata": {},
     "output_type": "execute_result"
    }
   ],
   "source": [
    "# How many samples do we have?\n",
    "len(df)"
   ]
  },
  {
   "cell_type": "markdown",
   "id": "7733d08d",
   "metadata": {},
   "source": [
    "We have collected the historical price of Bitcoin for the past ~8 years but there's 2787 samples.\n",
    "\n",
    "Typically deep learning models usually like lots and lots and lots of samples (where lots and lots and lots can be thousands to tens of thousands to millions).\n",
    "\n",
    "A smaller number of samples is something you will often run into with time series of ata problems.\n",
    "\n",
    "**Note:** The **seasonality** of a time series dataset is referred as the nmber of samples per year. So for our Bitcoin data, it has seasonality of daily or value of 365 because we collect one sample per day meaning we will get 365 samples per year."
   ]
  },
  {
   "cell_type": "code",
   "execution_count": 5,
   "id": "5f48b757",
   "metadata": {},
   "outputs": [
    {
     "data": {
      "application/vnd.microsoft.datawrangler.viewer.v0+json": {
       "columns": [
        {
         "name": "Date",
         "rawType": "datetime64[ns]",
         "type": "datetime"
        },
        {
         "name": "Price",
         "rawType": "float64",
         "type": "float"
        }
       ],
       "ref": "b5f63dd3-8cde-4d7c-9229-5ed7d922ee16",
       "rows": [
        [
         "2013-10-01 00:00:00",
         "123.65499"
        ],
        [
         "2013-10-02 00:00:00",
         "125.455"
        ],
        [
         "2013-10-03 00:00:00",
         "108.58483"
        ],
        [
         "2013-10-04 00:00:00",
         "118.67466"
        ],
        [
         "2013-10-05 00:00:00",
         "121.33866"
        ]
       ],
       "shape": {
        "columns": 1,
        "rows": 5
       }
      },
      "text/html": [
       "<div>\n",
       "<style scoped>\n",
       "    .dataframe tbody tr th:only-of-type {\n",
       "        vertical-align: middle;\n",
       "    }\n",
       "\n",
       "    .dataframe tbody tr th {\n",
       "        vertical-align: top;\n",
       "    }\n",
       "\n",
       "    .dataframe thead th {\n",
       "        text-align: right;\n",
       "    }\n",
       "</style>\n",
       "<table border=\"1\" class=\"dataframe\">\n",
       "  <thead>\n",
       "    <tr style=\"text-align: right;\">\n",
       "      <th></th>\n",
       "      <th>Price</th>\n",
       "    </tr>\n",
       "    <tr>\n",
       "      <th>Date</th>\n",
       "      <th></th>\n",
       "    </tr>\n",
       "  </thead>\n",
       "  <tbody>\n",
       "    <tr>\n",
       "      <th>2013-10-01</th>\n",
       "      <td>123.65499</td>\n",
       "    </tr>\n",
       "    <tr>\n",
       "      <th>2013-10-02</th>\n",
       "      <td>125.45500</td>\n",
       "    </tr>\n",
       "    <tr>\n",
       "      <th>2013-10-03</th>\n",
       "      <td>108.58483</td>\n",
       "    </tr>\n",
       "    <tr>\n",
       "      <th>2013-10-04</th>\n",
       "      <td>118.67466</td>\n",
       "    </tr>\n",
       "    <tr>\n",
       "      <th>2013-10-05</th>\n",
       "      <td>121.33866</td>\n",
       "    </tr>\n",
       "  </tbody>\n",
       "</table>\n",
       "</div>"
      ],
      "text/plain": [
       "                Price\n",
       "Date                 \n",
       "2013-10-01  123.65499\n",
       "2013-10-02  125.45500\n",
       "2013-10-03  108.58483\n",
       "2013-10-04  118.67466\n",
       "2013-10-05  121.33866"
      ]
     },
     "execution_count": 5,
     "metadata": {},
     "output_type": "execute_result"
    }
   ],
   "source": [
    "# Only want closing price for each day\n",
    "bitcoin_prices = pd.DataFrame(df['Closing Price (USD)']).rename(columns={'Closing Price (USD)': 'Price'})\n",
    "bitcoin_prices.head()"
   ]
  },
  {
   "cell_type": "code",
   "execution_count": 6,
   "id": "f8096130",
   "metadata": {},
   "outputs": [
    {
     "data": {
      "image/png": "[encoded data removed]",
      "text/plain": [
       "<Figure size 1000x700 with 1 Axes>"
      ]
     },
     "metadata": {},
     "output_type": "display_data"
    }
   ],
   "source": [
    "import matplotlib.pyplot as plt\n",
    "bitcoin_prices.plot(figsize=(10, 7))\n",
    "plt.ylabel('BTC Price')\n",
    "plt.title('Price of Bitcoin from 1 Oct 2013 to 18 May 2021', fontsize=16)\n",
    "plt.legend(fontsize=14)\n",
    "plt.show()"
   ]
  },
  {
   "cell_type": "markdown",
   "id": "719f1176",
   "metadata": {},
   "source": [
    "## Importing time series data with Pyhton's CSV module"
   ]
  },
  {
   "cell_type": "code",
   "execution_count": 7,
   "id": "1564be6a",
   "metadata": {},
   "outputs": [
    {
     "data": {
      "text/plain": [
       "([datetime.datetime(2013, 10, 1, 0, 0),\n",
       "  datetime.datetime(2013, 10, 2, 0, 0),\n",
       "  datetime.datetime(2013, 10, 3, 0, 0),\n",
       "  datetime.datetime(2013, 10, 4, 0, 0),\n",
       "  datetime.datetime(2013, 10, 5, 0, 0),\n",
       "  datetime.datetime(2013, 10, 6, 0, 0),\n",
       "  datetime.datetime(2013, 10, 7, 0, 0),\n",
       "  datetime.datetime(2013, 10, 8, 0, 0),\n",
       "  datetime.datetime(2013, 10, 9, 0, 0),\n",
       "  datetime.datetime(2013, 10, 10, 0, 0)],\n",
       " [123.65499,\n",
       "  125.455,\n",
       "  108.58483,\n",
       "  118.67466,\n",
       "  121.33866,\n",
       "  120.65533,\n",
       "  121.795,\n",
       "  123.033,\n",
       "  124.049,\n",
       "  125.96116])"
      ]
     },
     "execution_count": 7,
     "metadata": {},
     "output_type": "execute_result"
    }
   ],
   "source": [
    "# Importing and formatting historical Bitcoin data with Python\n",
    "import csv\n",
    "from datetime import datetime\n",
    "\n",
    "timesteps = []\n",
    "btc_price = []\n",
    "with open(\"bitcoin_price.csv\", \"r\") as f:\n",
    "    csv_reader = csv.reader(f, delimiter=\",\")\n",
    "    next(csv_reader) # Skip the header\n",
    "    for line in csv_reader:\n",
    "        timesteps.append(datetime.strptime(line[1], \"%Y-%m-%d\")) # get the dates as dates (not strings)\n",
    "        btc_price.append(float(line[2])) # get the bitcoin price as float\n",
    "\n",
    "# View first 10 of each\n",
    "timesteps[:10], btc_price[:10]"
   ]
  },
  {
   "cell_type": "code",
   "execution_count": 8,
   "id": "b66fb40d",
   "metadata": {},
   "outputs": [
    {
     "data": {
      "image/png": "[encoded data removed]",
      "text/plain": [
       "<Figure size 1000x700 with 1 Axes>"
      ]
     },
     "metadata": {},
     "output_type": "display_data"
    }
   ],
   "source": [
    "# Plot from CSV\n",
    "import matplotlib.pyplot as plt\n",
    "import numpy as np\n",
    "\n",
    "plt.figure(figsize=(10, 7))\n",
    "plt.plot(timesteps, btc_price)\n",
    "plt.ylabel('BTC Price')\n",
    "plt.title('Price of Bitcoin from 1 Oct 2013 to 18 May 2021', fontsize=16)\n",
    "plt.xlabel('Date')\n",
    "plt.show()"
   ]
  },
  {
   "cell_type": "markdown",
   "id": "cde748e6",
   "metadata": {},
   "source": [
    "## Format data part 1: Create train and test sets of our time series data"
   ]
  },
  {
   "cell_type": "markdown",
   "id": "719aa139",
   "metadata": {},
   "source": [
    "### Creating train and test sets with time series data (the wrong way)"
   ]
  },
  {
   "cell_type": "code",
   "execution_count": 9,
   "id": "65ba12b5",
   "metadata": {},
   "outputs": [
    {
     "data": {
      "text/plain": [
       "(array(['2013-10-01T00:00:00.000000000', '2013-10-02T00:00:00.000000000',\n",
       "        '2013-10-03T00:00:00.000000000', '2013-10-04T00:00:00.000000000',\n",
       "        '2013-10-05T00:00:00.000000000', '2013-10-06T00:00:00.000000000',\n",
       "        '2013-10-07T00:00:00.000000000', '2013-10-08T00:00:00.000000000',\n",
       "        '2013-10-09T00:00:00.000000000', '2013-10-10T00:00:00.000000000'],\n",
       "       dtype='datetime64[ns]'),\n",
       " array([123.65499, 125.455  , 108.58483, 118.67466, 121.33866, 120.65533,\n",
       "        121.795  , 123.033  , 124.049  , 125.96116]))"
      ]
     },
     "execution_count": 9,
     "metadata": {},
     "output_type": "execute_result"
    }
   ],
   "source": [
    "# Get bitcoin date array\n",
    "timesteps = bitcoin_prices.index.to_numpy()\n",
    "prices = bitcoin_prices['Price'].to_numpy()\n",
    "\n",
    "timesteps[:10], prices[:10]"
   ]
  },
  {
   "cell_type": "code",
   "execution_count": 10,
   "id": "acd8af70",
   "metadata": {},
   "outputs": [
    {
     "data": {
      "text/plain": [
       "((2229,), (558,), (2229,), (558,))"
      ]
     },
     "execution_count": 10,
     "metadata": {},
     "output_type": "execute_result"
    }
   ],
   "source": [
    "# Wrong way to make train/test sets for time series data\n",
    "from sklearn.model_selection import train_test_split\n",
    "\n",
    "X_train, X_test, y_train, y_test = train_test_split(timesteps, # dates\n",
    "                                                    prices, # BTC price\n",
    "                                                    test_size=0.2,\n",
    "                                                    random_state=42)\n",
    "\n",
    "X_train.shape, X_test.shape, y_train.shape, y_test.shape"
   ]
  },
  {
   "cell_type": "code",
   "execution_count": 11,
   "id": "1c2db7b5",
   "metadata": {},
   "outputs": [
    {
     "data": {
      "image/png": "[encoded data removed]",
      "text/plain": [
       "<Figure size 1000x700 with 1 Axes>"
      ]
     },
     "metadata": {},
     "output_type": "display_data"
    }
   ],
   "source": [
    "# Let's plot wrong train and test splits\n",
    "plt.figure(figsize=(10, 7))\n",
    "plt.scatter(X_train, y_train, s=5, label='Train data')\n",
    "plt.scatter(X_test, y_test, s=5, label='Test data')\n",
    "plt.xlabel('Data')\n",
    "plt.ylabel('BTC Price')\n",
    "plt.legend(fontsize=14)\n",
    "plt.show()"
   ]
  },
  {
   "cell_type": "markdown",
   "id": "d9c27238",
   "metadata": {},
   "source": [
    "### Create train and test sets for time series (the right way)"
   ]
  },
  {
   "cell_type": "code",
   "execution_count": 12,
   "id": "ba8ec97e",
   "metadata": {},
   "outputs": [
    {
     "data": {
      "text/plain": [
       "(2229, 558, 2229, 558)"
      ]
     },
     "execution_count": 12,
     "metadata": {},
     "output_type": "execute_result"
    }
   ],
   "source": [
    "# Create train and test splits the right way for time series data\n",
    "split_size = int(0.8 * len(prices)) # 80% train, 20% test\n",
    "\n",
    "# Create train data splits (everything before the splits)\n",
    "X_train, y_train = timesteps[:split_size], prices[:split_size]\n",
    "\n",
    "# Create test data splits (everything beyond the split)\n",
    "X_test, y_test = timesteps[split_size:], prices[split_size:]\n",
    "\n",
    "len(X_train), len(X_test), len(y_train), len(y_test)"
   ]
  },
  {
   "cell_type": "code",
   "execution_count": 13,
   "id": "d7b4d4cd",
   "metadata": {},
   "outputs": [
    {
     "data": {
      "image/png": "[encoded data removed]",
      "text/plain": [
       "<Figure size 1000x700 with 1 Axes>"
      ]
     },
     "metadata": {},
     "output_type": "display_data"
    }
   ],
   "source": [
    "# Plto with the correctly splits\n",
    "plt.figure(figsize=(10, 7))\n",
    "plt.scatter(X_train, y_train, s=5, label='Train data')\n",
    "plt.scatter(X_test, y_test, s=5, label='Test data')\n",
    "plt.xlabel('Data')\n",
    "plt.ylabel('BTC Price')\n",
    "plt.legend(fontsize=14)\n",
    "plt.show()"
   ]
  },
  {
   "cell_type": "markdown",
   "id": "864cc198",
   "metadata": {},
   "source": [
    "## Create a plotting function"
   ]
  },
  {
   "cell_type": "code",
   "execution_count": 14,
   "id": "4289393c",
   "metadata": {},
   "outputs": [],
   "source": [
    "# Create a function to plot time series data\n",
    "def plot_time_series(timesteps, values, format=\".\", start=0, end=None, label=None):\n",
    "    \"\"\"\n",
    "    Plots timesteps (a series of points in time) against values (a series of values across timesteps).\n",
    "\n",
    "    Parameters:\n",
    "    -----------\n",
    "    timesteps: array of timestep values\n",
    "    values: array of values across time\n",
    "    format: style of plot, default \".\"\n",
    "    start: where to start the plot (setting a value will index from start of timesteps and values)\n",
    "    end: where to end the plot\n",
    "    label: label to show on plot about values\n",
    "    \"\"\"\n",
    "    # Plot the series\n",
    "    plt.plot(timesteps[start:end], values[start:end], format, label=label)\n",
    "    plt.xlabel(\"Time\")\n",
    "    plt.ylabel(\"BTC Price\")\n",
    "    if label:\n",
    "        plt.legend(fontsize=14)\n",
    "    plt.grid(True)"
   ]
  },
  {
   "cell_type": "code",
   "execution_count": 15,
   "id": "8a5a9712",
   "metadata": {},
   "outputs": [
    {
     "data": {
      "image/png": "[encoded data removed]",
      "text/plain": [
       "<Figure size 1000x700 with 1 Axes>"
      ]
     },
     "metadata": {},
     "output_type": "display_data"
    }
   ],
   "source": [
    "# Test out plotting function\n",
    "plt.figure(figsize=(10, 7))\n",
    "plot_time_series(timesteps=X_train, values=y_train, label=\"Train data\")\n",
    "plot_time_series(timesteps=X_test, values=y_test, label=\"Test data\")"
   ]
  },
  {
   "cell_type": "markdown",
   "id": "d35ca8ea",
   "metadata": {},
   "source": [
    "## Modelling Experiments\n",
    "\n",
    "We have got some Bitcoin historical data, to model it, let's run a series of modelling experiments and see which model performs best.\n",
    "\n",
    "Terms to be familiar with:\n",
    "\n",
    "* **Horizon** = number of timesteps into the future we are going to predict\n",
    "* **Window size** = number of timesteps we are going to use to predict **horizon**\n",
    "\n",
    "Modelling experiments we are running:\n",
    "\n",
    "1. Naïve model (baseline)\n",
    "2. Dense Model, horizon = 1, window = 7\n",
    "3. Dense Model, horizon = 1, window = 30\n",
    "4. Dense Model, horizon = 7, window = 30\n",
    "5. Conv1D\n",
    "6. LSTM\n",
    "7. Dense Model, horizon = 1, window = 7 (but with multivariate data)\n",
    "8. N-BEATs Algorithm\n",
    "9. Ensemble (multiple models optimized stacked together)\n",
    "10. Future prediction model\n",
    "11. Dense Model (but with turkey data introduced) "
   ]
  },
  {
   "cell_type": "markdown",
   "id": "fc58f85b",
   "metadata": {},
   "source": [
    "## Model 0: Naive forecast (baseline)\n",
    "\n",
    "The formula looks like this:\n",
    "\n",
    "$$\\hat{y}_{t} = y_{t-1}$$\n",
    "\n",
    "In English:\n",
    "\n",
    "> The prediction at timestep t (y-hat) is equal to the value at timestep t-1 (previous step) - this is for horizon of 1."
   ]
  },
  {
   "cell_type": "code",
   "execution_count": 16,
   "id": "66850391",
   "metadata": {},
   "outputs": [
    {
     "data": {
      "text/plain": [
       "(array([9226.48582088, 8794.35864452, 8798.04205463, 9081.18687849,\n",
       "        8711.53433917, 8760.89271814, 8749.52059102, 8656.97092235,\n",
       "        8500.64355816, 8469.2608989 ]),\n",
       " array([57107.12067189, 58788.20967893, 58102.19142623, 55715.54665129,\n",
       "        56573.5554719 , 52147.82118698, 49764.1320816 , 50032.69313676,\n",
       "        47885.62525472, 45604.61575361]))"
      ]
     },
     "execution_count": 16,
     "metadata": {},
     "output_type": "execute_result"
    }
   ],
   "source": [
    "# Create a naive forecast\n",
    "naive_forecast = y_test[:-1]\n",
    "\n",
    "naive_forecast[:10], naive_forecast[-10:]"
   ]
  },
  {
   "cell_type": "code",
   "execution_count": 17,
   "id": "f978017f",
   "metadata": {},
   "outputs": [
    {
     "data": {
      "image/png": "[encoded data removed]",
      "text/plain": [
       "<Figure size 1000x700 with 1 Axes>"
      ]
     },
     "metadata": {},
     "output_type": "display_data"
    }
   ],
   "source": [
    "# Plot naive forecast\n",
    "plt.figure(figsize=(10, 7))\n",
    "plot_time_series(timesteps=X_train, values=y_train, label=\"Train data\")\n",
    "plot_time_series(timesteps=X_test, values=y_test, label=\"Test data\")\n",
    "plot_time_series(timesteps=X_test[1:], values=naive_forecast, format=\"-\", label=\"Naive Forecast\")"
   ]
  },
  {
   "cell_type": "markdown",
   "id": "aa45efec",
   "metadata": {},
   "source": [
    "## Evaluating a time series model\n",
    "\n",
    "Let's look into some evaluation metrics for time series forecasting.\n",
    "\n",
    "What are we doing? We are predicting a number, so that means we have a form of a regression problem.\n",
    "\n",
    "Because we are working on a regression problem, we will need some regression-like metrics.\n",
    "\n",
    "A few common regression metrics which can also be used for time series forecasting:\n",
    "\n",
    "* MAE - mean absolute error\n",
    "* MSE - mean squared error\n",
    "* RMSE - root mean square error\n",
    "* MAPE - mean absolute percentage error\n",
    "* MASE - mean absolute scaled error\n",
    "\n",
    "For all the above metrics, **lower is better**.\n",
    "\n",
    "The main thing we are evaluating here is: **how do our model's forecast (y_pred) compare against the actual values (y_true or ground truth values)?** "
   ]
  },
  {
   "cell_type": "code",
   "execution_count": 18,
   "id": "42bb23f5",
   "metadata": {},
   "outputs": [],
   "source": [
    "import tensorflow as tf"
   ]
  },
  {
   "cell_type": "code",
   "execution_count": 19,
   "id": "ae9e9f59",
   "metadata": {},
   "outputs": [],
   "source": [
    "# MASE implementation\n",
    "def mean_absolute_scaled_error(y_true, y_pred):\n",
    "    \"\"\"\n",
    "    Implement MASE (assuming no seasonality of data).\n",
    "    \"\"\"\n",
    "    mae = tf.reduce_mean(tf.abs(y_true - y_pred))\n",
    "\n",
    "    # Find MAE of naive forecast (no seasonality)\n",
    "    mae_naive_no_season = tf.reduce_mean(tf.abs(y_true[1:] - y_true[:-1])) # our seasonality is 1 day (hence the shift of 1)\n",
    "\n",
    "    return mae / mae_naive_no_season"
   ]
  },
  {
   "cell_type": "code",
   "execution_count": 20,
   "id": "0d85bb57",
   "metadata": {},
   "outputs": [
    {
     "data": {
      "text/plain": [
       "0.9995699939182624"
      ]
     },
     "execution_count": 20,
     "metadata": {},
     "output_type": "execute_result"
    }
   ],
   "source": [
    "mean_absolute_scaled_error(y_true=y_test[1:], y_pred=naive_forecast).numpy()"
   ]
  },
  {
   "cell_type": "code",
   "execution_count": 21,
   "id": "a06fe4df",
   "metadata": {},
   "outputs": [],
   "source": [
    "# Create a function to take in model predictions and truth values and return evaluation metrics\n",
    "def evaluate_preds(y_true, y_pred):\n",
    "    # Make sure float32 datatype (for metric calculation)\n",
    "    y_true = tf.cast(y_true, dtype=tf.float32)\n",
    "    y_pred = tf.cast(y_pred, dtype=tf.float32)\n",
    "\n",
    "    # Calculate various evaluation metrics\n",
    "    mae = tf.keras.metrics.mean_absolute_error(y_true, y_pred)\n",
    "    mse = tf.keras.metrics.mean_squared_error(y_true, y_pred)\n",
    "    rmse = tf.sqrt(mse)\n",
    "    mape = tf.keras.metrics.mean_absolute_percentage_error(y_true, y_pred)\n",
    "    mase = mean_absolute_scaled_error(y_true, y_pred)\n",
    "\n",
    "    return {\n",
    "        \"mae\": mae.numpy(),\n",
    "        \"mse\": mse.numpy(),\n",
    "        \"rmse\": rmse.numpy(),\n",
    "        \"mape\": mape.numpy(),\n",
    "        \"mase\": mase.numpy()\n",
    "    }"
   ]
  },
  {
   "cell_type": "code",
   "execution_count": 22,
   "id": "5702372e",
   "metadata": {},
   "outputs": [
    {
     "data": {
      "text/plain": [
       "{'mae': 567.9802,\n",
       " 'mse': 1147547.0,\n",
       " 'rmse': 1071.2362,\n",
       " 'mape': 2.516525,\n",
       " 'mase': 0.99957}"
      ]
     },
     "execution_count": 22,
     "metadata": {},
     "output_type": "execute_result"
    }
   ],
   "source": [
    "# Let's now see if it works\n",
    "naive_results = evaluate_preds(y_true=y_test[1:],\n",
    "                               y_pred=naive_forecast)\n",
    "naive_results"
   ]
  },
  {
   "cell_type": "code",
   "execution_count": 23,
   "id": "5990a758",
   "metadata": {},
   "outputs": [
    {
     "data": {
      "text/plain": [
       "<tf.Tensor: shape=(), dtype=float64, numpy=20056.632963737222>"
      ]
     },
     "execution_count": 23,
     "metadata": {},
     "output_type": "execute_result"
    }
   ],
   "source": [
    "tf.reduce_mean(y_test)"
   ]
  },
  {
   "cell_type": "code",
   "execution_count": 24,
   "id": "10a3612b",
   "metadata": {},
   "outputs": [
    {
     "data": {
      "text/plain": [
       "(<tf.Tensor: shape=(), dtype=float64, numpy=4944.7023359837>,\n",
       " <tf.Tensor: shape=(), dtype=float64, numpy=63346.7890351052>)"
      ]
     },
     "execution_count": 24,
     "metadata": {},
     "output_type": "execute_result"
    }
   ],
   "source": [
    "tf.reduce_min(y_test), tf.reduce_max(y_test)"
   ]
  },
  {
   "cell_type": "markdown",
   "id": "86f95069",
   "metadata": {},
   "source": [
    "## Others Models for Time Series Forecasting\n",
    "\n",
    "In this notebook we are going to use only neural networks for time series forecasting, but there are a plenty of models used in the industry or as a baseline model you can use."
   ]
  },
  {
   "attachments": {
    "image.png": {
     "image/png": "[encoded data removed]"
    }
   },
   "cell_type": "markdown",
   "id": "c393aa09",
   "metadata": {},
   "source": [
    "![image.png](attachment:image.png)"
   ]
  },
  {
   "cell_type": "markdown",
   "id": "21c7fa33",
   "metadata": {},
   "source": [
    "## Format Data Part 2: Windowing our dataset\n",
    "\n",
    "Why do we window?\n",
    "\n",
    "We window our time series dataset to turn our data into a supervised learning problem.\n",
    "\n",
    "```\n",
    "Windowing for one week\n",
    "[0, 1, 2, 3, 4, 5, 6] --> [7]\n",
    "[1, 2, 3, 4, 5, 6, 7] --> [8]\n",
    "[2, 3, 4, 5, 6, 7, 8] --> [9]\n",
    "```"
   ]
  },
  {
   "cell_type": "code",
   "execution_count": 25,
   "id": "8b6f42f1",
   "metadata": {},
   "outputs": [
    {
     "data": {
      "text/plain": [
       "2229"
      ]
     },
     "execution_count": 25,
     "metadata": {},
     "output_type": "execute_result"
    }
   ],
   "source": [
    "len(y_train)"
   ]
  },
  {
   "cell_type": "code",
   "execution_count": 26,
   "id": "1b9651aa",
   "metadata": {},
   "outputs": [
    {
     "name": "stdout",
     "output_type": "stream",
     "text": [
      "We want to use: [123.65499, 125.455, 108.58483, 118.67466, 121.33866, 120.65533, 121.795] to predict this: 123.033\n"
     ]
    }
   ],
   "source": [
    "# What we want to do with our Bitcoin data\n",
    "print(f\"We want to use: {btc_price[:7]} to predict this: {btc_price[7]}\")"
   ]
  },
  {
   "cell_type": "code",
   "execution_count": 27,
   "id": "17089829",
   "metadata": {},
   "outputs": [],
   "source": [
    "# Let's setup global variables for window and horizon size\n",
    "HORIZON = 1 # predict next 1 day\n",
    "WINDOW_SIZE = 7 # use the past week of Bitcoin data to make the prediction"
   ]
  },
  {
   "cell_type": "code",
   "execution_count": 28,
   "id": "4e6e7d48",
   "metadata": {},
   "outputs": [],
   "source": [
    "# Create function to label window data\n",
    "def get_labelled_windows(x, horizon=HORIZON):\n",
    "    \"\"\"\n",
    "    Creates labels for windowed dataset.\n",
    "\n",
    "    E.g. if horizon = 1 --> Input: [0, 1, 2, 3, 4, 5, 6, 7] --> Output: ([0, 1, 2, 3, 4, 5, 6, 7], [7])\n",
    "    \"\"\"\n",
    "    return x[:, :-horizon], x[:, -horizon:]"
   ]
  },
  {
   "cell_type": "code",
   "execution_count": 29,
   "id": "6dcfa33b",
   "metadata": {},
   "outputs": [
    {
     "name": "stdout",
     "output_type": "stream",
     "text": [
      "Window: [0 1 2 3 4 5 6] -> Label: 7\n"
     ]
    }
   ],
   "source": [
    "# Test out the window labelling function\n",
    "test_window, test_label = get_labelled_windows(tf.expand_dims(tf.range(8), axis = 0))\n",
    "print(f\"Window: {tf.squeeze(test_window).numpy()} -> Label: {tf.squeeze(test_label).numpy()}\")"
   ]
  },
  {
   "cell_type": "markdown",
   "id": "0d51bd96",
   "metadata": {},
   "source": [
    "We have got a way to label our windowed data.\n",
    "\n",
    "However, this only works on a small scale.\n",
    "\n",
    "We need a way to do the above across our entire time series.\n",
    "\n",
    "We could do this with Python for loops, however, for large time series, that'd be quite slow.\n",
    "\n",
    "To speed things up, we will leverage NumPy's array indexing.\n",
    "\n",
    "Our function will:\n",
    "1. Create a window step of specific window size.\n",
    "2. It will numpy indexing to create a 2D array of multiple window steps, for example:\n",
    "```\n",
    "[\n",
    "    [0, 1, 2, 3, 4, 5, 6],\n",
    "    [1, 2, 3, 4, 5, 6, 7],\n",
    "    [2, 3, 4, 5, 6, 7, 8]\n",
    "]\n",
    "```\n",
    "3. Uses the 2D array of multiple window steps (from 2.) to index on a target series.\n",
    "4. Uses our `get_labelled_windows()` function we created above to turn the window steps into windows with specified horizon."
   ]
  },
  {
   "cell_type": "code",
   "execution_count": 30,
   "id": "83361e19",
   "metadata": {},
   "outputs": [],
   "source": [
    "import numpy as np\n",
    "\n",
    "# Create function to view NumPy arrays as windows\n",
    "def make_windows(x, window_size=WINDOW_SIZE, horizon=HORIZON):\n",
    "    \"\"\"\n",
    "    Turns a 1D into a 2D array of sequential labelled windows of window_size with horizon size labels.\n",
    "    \"\"\"\n",
    "    # 1. Create a window of specific window_size (add the horzion on the end for labelling later)\n",
    "    window_step = np.expand_dims(np.arange(window_size + horizon), axis=0)\n",
    "\n",
    "    # 2. Create a 2D array of multiple window steps (minus 1 to account for 0 indexing)\n",
    "    window_indexes = window_step + np.expand_dims(np.arange(len(x) - (window_size + horizon - 1)), axis=0).T # create 2D array of windows of size window_siz\n",
    "\n",
    "    # 3. Index on the target array (a time series) with 2D array of multiple window steps\n",
    "    windowed_array = x[window_indexes]\n",
    "\n",
    "    # 4. Get the labelled windows\n",
    "    windows, labels = get_labelled_windows(windowed_array, horizon=horizon)\n",
    "\n",
    "    return windows, labels"
   ]
  },
  {
   "cell_type": "code",
   "execution_count": 31,
   "id": "232bacdc",
   "metadata": {},
   "outputs": [
    {
     "data": {
      "text/plain": [
       "(2780, 2780)"
      ]
     },
     "execution_count": 31,
     "metadata": {},
     "output_type": "execute_result"
    }
   ],
   "source": [
    "full_windows, full_labels = make_windows(prices, window_size=WINDOW_SIZE, horizon=HORIZON)\n",
    "len(full_windows), len(full_labels)"
   ]
  },
  {
   "cell_type": "code",
   "execution_count": 32,
   "id": "cdbdb2e9",
   "metadata": {},
   "outputs": [
    {
     "name": "stdout",
     "output_type": "stream",
     "text": [
      "Window: [123.65499 125.455   108.58483 118.67466 121.33866 120.65533 121.795  ] -> Label: [123.033]\n",
      "Window: [125.455   108.58483 118.67466 121.33866 120.65533 121.795   123.033  ] -> Label: [124.049]\n",
      "Window: [108.58483 118.67466 121.33866 120.65533 121.795   123.033   124.049  ] -> Label: [125.96116]\n"
     ]
    }
   ],
   "source": [
    "# View the first 3 windows/labels\n",
    "for i in range(3):\n",
    "    print(f'Window: {full_windows[i]} -> Label: {full_labels[i]}')"
   ]
  },
  {
   "cell_type": "code",
   "execution_count": 33,
   "id": "59151d16",
   "metadata": {},
   "outputs": [
    {
     "name": "stdout",
     "output_type": "stream",
     "text": [
      "Window: [58788.20967893 58102.19142623 55715.54665129 56573.5554719\n",
      " 52147.82118698 49764.1320816  50032.69313676] -> Label: [47885.62525472]\n",
      "Window: [58102.19142623 55715.54665129 56573.5554719  52147.82118698\n",
      " 49764.1320816  50032.69313676 47885.62525472] -> Label: [45604.61575361]\n",
      "Window: [55715.54665129 56573.5554719  52147.82118698 49764.1320816\n",
      " 50032.69313676 47885.62525472 45604.61575361] -> Label: [43144.47129086]\n"
     ]
    }
   ],
   "source": [
    "# View the last 3 windows/labels\n",
    "for i in range(3):\n",
    "    print(f'Window: {full_windows[i-3]} -> Label: {full_labels[i-3]}')"
   ]
  },
  {
   "cell_type": "markdown",
   "id": "1b663e8c",
   "metadata": {},
   "source": [
    "## Turning windows into training and test sets"
   ]
  },
  {
   "cell_type": "code",
   "execution_count": 34,
   "id": "9f0fcf2b",
   "metadata": {},
   "outputs": [],
   "source": [
    "# Make the train/test splits\n",
    "def make_train_test_splits(windows, labels, test_split=0.2):\n",
    "    \"\"\"\n",
    "    Splits matching pairs of windows and labels into train an test splits.\n",
    "    \"\"\"\n",
    "    splits_size = int(len(windows) * (1 - test_split)) # this will default 80% train / 20% test\n",
    "    train_windows = windows[:split_size]\n",
    "    train_labels = labels[:split_size]\n",
    "    test_windows = windows[split_size:]\n",
    "    test_labels = labels[split_size:]\n",
    "    return train_windows, test_windows, train_labels, test_labels"
   ]
  },
  {
   "cell_type": "code",
   "execution_count": 35,
   "id": "bef31773",
   "metadata": {},
   "outputs": [
    {
     "data": {
      "text/plain": [
       "(2229, 551, 2229, 551)"
      ]
     },
     "execution_count": 35,
     "metadata": {},
     "output_type": "execute_result"
    }
   ],
   "source": [
    "train_windows, test_windows, train_labels, test_labels = make_train_test_splits(full_windows, full_labels)\n",
    "len(train_windows), len(test_windows), len(train_labels), len(test_labels)"
   ]
  },
  {
   "cell_type": "code",
   "execution_count": 36,
   "id": "d76eb571",
   "metadata": {},
   "outputs": [
    {
     "data": {
      "text/plain": [
       "True"
      ]
     },
     "execution_count": 36,
     "metadata": {},
     "output_type": "execute_result"
    }
   ],
   "source": [
    "np.array_equal(np.squeeze(train_labels[:-HORIZON-6]), y_train[WINDOW_SIZE:])"
   ]
  },
  {
   "cell_type": "markdown",
   "id": "31d4b47c",
   "metadata": {},
   "source": [
    "## Make a modelling checkpoint callback\n",
    "\n",
    "Because our model's performance will fluctuate from experiment to experiment, we're going to write a model checkpoint so we can compare apples to apples.\n",
    "\n",
    "More specifically, we want to compare each of our model's best performances against the other model's best performances.\n",
    "\n",
    "For example if our model performs the best on epoch 55 (but we are training for 100 epochs), we want to load and evaluate the model saved on epoch 55.\n",
    "\n",
    "We can create modelling checkpoint callback using the following: https://www.tensorflow.org/api_docs/python/tf/keras/callbacks/ModelCheckpoint"
   ]
  },
  {
   "cell_type": "code",
   "execution_count": 37,
   "id": "5fe80ecc",
   "metadata": {},
   "outputs": [],
   "source": [
    "import os\n",
    "\n",
    "# Create a function to implement a ModelCheckpoint callback with a specific filename\n",
    "def create_model_checkpoint(model_name, save_path='model_experiments'):\n",
    "    return tf.keras.callbacks.ModelCheckpoint(filepath=os.path.join(save_path, model_name),\n",
    "                                              monitor='val_loss',\n",
    "                                              verbose=0, # only output a limited amount of text\n",
    "                                              save_best_only=True)"
   ]
  },
  {
   "cell_type": "markdown",
   "id": "4f378620",
   "metadata": {},
   "source": [
    "## Model 1: Dense Model (window = 7, horizon = 1)\n",
    "\n",
    "Our first deep model is going to be a simple dense model:\n",
    "\n",
    "* A single dense layer with 128 hidden units and ReLU\n",
    "* An output layer with linear activation (no activation)\n",
    "* Adam optimization and MAE loss function\n",
    "* Batch size of 128 (previously we have used 32)\n",
    "* 100 epochs\n",
    "\n",
    "Why these values?\n",
    "\n",
    "I picked them out of experimentation."
   ]
  },
  {
   "cell_type": "code",
   "execution_count": 38,
   "id": "2ee5065e",
   "metadata": {},
   "outputs": [
    {
     "name": "stdout",
     "output_type": "stream",
     "text": [
      "Epoch 1/100\n"
     ]
    },
    {
     "name": "stdout",
     "output_type": "stream",
     "text": [
      "16/18 [=========================>....] - ETA: 0s - loss: 1404.3801 - mae: 1404.3801 - mse: 6757902.5000   INFO:tensorflow:Assets written to: model_experiments\\model_1_dense\\assets\n",
      "18/18 [==============================] - 6s 87ms/step - loss: 1315.4698 - mae: 1315.4698 - mse: 6235108.0000 - val_loss: 2460.9028 - val_mae: 2460.9028 - val_mse: 13563155.0000\n",
      "Epoch 2/100\n",
      "11/18 [=================>............] - ETA: 0s - loss: 326.0810 - mae: 326.0810 - mse: 393903.4688INFO:tensorflow:Assets written to: model_experiments\\model_1_dense\\assets\n",
      "18/18 [==============================] - 1s 53ms/step - loss: 279.0747 - mae: 279.0747 - mse: 304771.6250 - val_loss: 1037.0361 - val_mae: 1037.0361 - val_mse: 2898961.2500\n",
      "Epoch 3/100\n",
      "18/18 [==============================] - ETA: 0s - loss: 156.5213 - mae: 156.5213 - mse: 131333.6719INFO:tensorflow:Assets written to: model_experiments\\model_1_dense\\assets\n",
      "18/18 [==============================] - 1s 63ms/step - loss: 156.5213 - mae: 156.5213 - mse: 131333.6719 - val_loss: 828.3250 - val_mae: 828.3250 - val_mse: 2243055.7500\n",
      "Epoch 4/100\n",
      " 1/18 [>.............................] - ETA: 0s - loss: 154.9383 - mae: 154.9383 - mse: 102600.4531INFO:tensorflow:Assets written to: model_experiments\\model_1_dense\\assets\n",
      "18/18 [==============================] - 1s 49ms/step - loss: 150.2142 - mae: 150.2142 - mse: 122564.4531 - val_loss: 804.7054 - val_mae: 804.7054 - val_mse: 2209179.7500\n",
      "Epoch 5/100\n",
      "18/18 [==============================] - 0s 10ms/step - loss: 143.2687 - mae: 143.2687 - mse: 113799.7891 - val_loss: 824.0258 - val_mae: 824.0258 - val_mse: 2142551.0000\n",
      "Epoch 6/100\n",
      "13/18 [====================>.........] - ETA: 0s - loss: 138.4964 - mae: 138.4964 - mse: 103611.5703INFO:tensorflow:Assets written to: model_experiments\\model_1_dense\\assets\n",
      "18/18 [==============================] - 1s 52ms/step - loss: 139.7011 - mae: 139.7011 - mse: 109529.0703 - val_loss: 776.4252 - val_mae: 776.4252 - val_mse: 2045977.1250\n",
      "Epoch 7/100\n",
      "18/18 [==============================] - 0s 9ms/step - loss: 140.7681 - mae: 140.7681 - mse: 108546.5312 - val_loss: 786.0379 - val_mae: 786.0379 - val_mse: 1974889.8750\n",
      "Epoch 8/100\n",
      "11/18 [=================>............] - ETA: 0s - loss: 139.3620 - mae: 139.3620 - mse: 116872.2031INFO:tensorflow:Assets written to: model_experiments\\model_1_dense\\assets\n",
      "18/18 [==============================] - 1s 51ms/step - loss: 135.8697 - mae: 135.8697 - mse: 104049.1250 - val_loss: 754.7189 - val_mae: 754.7189 - val_mse: 1878123.3750\n",
      "Epoch 9/100\n",
      "18/18 [==============================] - 0s 11ms/step - loss: 132.5915 - mae: 132.5915 - mse: 100139.1953 - val_loss: 766.7232 - val_mae: 766.7232 - val_mse: 1864812.2500\n",
      "Epoch 10/100\n",
      "11/18 [=================>............] - ETA: 0s - loss: 126.4550 - mae: 126.4550 - mse: 90778.8047INFO:tensorflow:Assets written to: model_experiments\\model_1_dense\\assets\n",
      "18/18 [==============================] - 1s 54ms/step - loss: 130.5239 - mae: 130.5239 - mse: 95998.1797 - val_loss: 727.4595 - val_mae: 727.4595 - val_mse: 1751822.3750\n",
      "Epoch 11/100\n",
      "18/18 [==============================] - 0s 10ms/step - loss: 130.1461 - mae: 130.1461 - mse: 95331.2891 - val_loss: 740.9722 - val_mae: 740.9722 - val_mse: 1745563.6250\n",
      "Epoch 12/100\n",
      "10/18 [===============>..............] - ETA: 0s - loss: 134.7355 - mae: 134.7355 - mse: 105835.0469INFO:tensorflow:Assets written to: model_experiments\\model_1_dense\\assets\n",
      "18/18 [==============================] - 1s 56ms/step - loss: 133.1446 - mae: 133.1446 - mse: 95662.8125 - val_loss: 711.2250 - val_mae: 711.2250 - val_mse: 1654020.1250\n",
      "Epoch 13/100\n",
      "15/18 [========================>.....] - ETA: 0s - loss: 129.2569 - mae: 129.2569 - mse: 93961.8281INFO:tensorflow:Assets written to: model_experiments\\model_1_dense\\assets\n",
      "18/18 [==============================] - 1s 59ms/step - loss: 126.7856 - mae: 126.7856 - mse: 92131.2969 - val_loss: 695.1571 - val_mae: 695.1571 - val_mse: 1605050.6250\n",
      "Epoch 14/100\n",
      "17/18 [===========================>..] - ETA: 0s - loss: 124.2738 - mae: 124.2738 - mse: 89620.7656INFO:tensorflow:Assets written to: model_experiments\\model_1_dense\\assets\n",
      "18/18 [==============================] - 1s 51ms/step - loss: 123.1894 - mae: 123.1894 - mse: 88508.7734 - val_loss: 682.5706 - val_mae: 682.5706 - val_mse: 1559542.8750\n",
      "Epoch 15/100\n",
      "11/18 [=================>............] - ETA: 0s - loss: 123.7523 - mae: 123.7523 - mse: 88728.5000 INFO:tensorflow:Assets written to: model_experiments\\model_1_dense\\assets\n",
      "18/18 [==============================] - 1s 53ms/step - loss: 122.1076 - mae: 122.1076 - mse: 87345.7188 - val_loss: 672.7789 - val_mae: 672.7789 - val_mse: 1525520.5000\n",
      "Epoch 16/100\n",
      "18/18 [==============================] - 0s 10ms/step - loss: 131.8575 - mae: 131.8575 - mse: 92865.6484 - val_loss: 679.3306 - val_mae: 679.3306 - val_mse: 1580183.5000\n",
      "Epoch 17/100\n",
      "10/18 [===============>..............] - ETA: 0s - loss: 128.2230 - mae: 128.2230 - mse: 83590.2734INFO:tensorflow:Assets written to: model_experiments\\model_1_dense\\assets\n",
      "18/18 [==============================] - 1s 51ms/step - loss: 127.3132 - mae: 127.3132 - mse: 87490.6016 - val_loss: 663.0981 - val_mae: 663.0981 - val_mse: 1520849.7500\n",
      "Epoch 18/100\n",
      "18/18 [==============================] - 0s 7ms/step - loss: 124.8382 - mae: 124.8382 - mse: 86579.9609 - val_loss: 665.2670 - val_mae: 665.2670 - val_mse: 1522021.1250\n",
      "Epoch 19/100\n",
      "10/18 [===============>..............] - ETA: 0s - loss: 115.8619 - mae: 115.8619 - mse: 68287.9609INFO:tensorflow:Assets written to: model_experiments\\model_1_dense\\assets\n",
      "18/18 [==============================] - 1s 58ms/step - loss: 119.9864 - mae: 119.9864 - mse: 83039.6016 - val_loss: 647.4134 - val_mae: 647.4134 - val_mse: 1426847.2500\n",
      "Epoch 20/100\n",
      "18/18 [==============================] - 0s 13ms/step - loss: 117.9499 - mae: 117.9499 - mse: 81965.1953 - val_loss: 696.0702 - val_mae: 696.0702 - val_mse: 1525928.0000\n",
      "Epoch 21/100\n",
      "10/18 [===============>..............] - ETA: 0s - loss: 116.4746 - mae: 116.4746 - mse: 81515.9453INFO:tensorflow:Assets written to: model_experiments\\model_1_dense\\assets\n",
      "18/18 [==============================] - 1s 51ms/step - loss: 117.9385 - mae: 117.9385 - mse: 82455.7812 - val_loss: 636.3639 - val_mae: 636.3639 - val_mse: 1391758.2500\n",
      "Epoch 22/100\n",
      "18/18 [==============================] - 0s 13ms/step - loss: 116.2328 - mae: 116.2328 - mse: 80079.2812 - val_loss: 664.2164 - val_mae: 664.2164 - val_mse: 1440320.1250\n",
      "Epoch 23/100\n",
      "18/18 [==============================] - 0s 11ms/step - loss: 119.4623 - mae: 119.4623 - mse: 78504.7891 - val_loss: 673.4442 - val_mae: 673.4442 - val_mse: 1456828.3750\n",
      "Epoch 24/100\n",
      "18/18 [==============================] - 0s 10ms/step - loss: 117.9410 - mae: 117.9410 - mse: 78238.7812 - val_loss: 703.8766 - val_mae: 703.8766 - val_mse: 1527656.1250\n",
      "Epoch 25/100\n",
      "18/18 [==============================] - 0s 10ms/step - loss: 120.4155 - mae: 120.4155 - mse: 82644.9609 - val_loss: 679.6407 - val_mae: 679.6407 - val_mse: 1465394.5000\n",
      "Epoch 26/100\n",
      "16/18 [=========================>....] - ETA: 0s - loss: 126.9383 - mae: 126.9383 - mse: 88813.3594INFO:tensorflow:Assets written to: model_experiments\\model_1_dense\\assets\n",
      "18/18 [==============================] - 1s 46ms/step - loss: 123.8466 - mae: 123.8466 - mse: 84146.1484 - val_loss: 635.4058 - val_mae: 635.4058 - val_mse: 1359842.5000\n",
      "Epoch 27/100\n",
      "18/18 [==============================] - 0s 10ms/step - loss: 112.8883 - mae: 112.8883 - mse: 77447.5938 - val_loss: 654.7254 - val_mae: 654.7254 - val_mse: 1399334.7500\n",
      "Epoch 28/100\n",
      "18/18 [==============================] - 0s 7ms/step - loss: 118.7981 - mae: 118.7981 - mse: 80264.8125 - val_loss: 747.8862 - val_mae: 747.8862 - val_mse: 1631529.1250\n",
      "Epoch 29/100\n",
      "11/18 [=================>............] - ETA: 0s - loss: 125.7006 - mae: 125.7006 - mse: 93478.2969INFO:tensorflow:Assets written to: model_experiments\\model_1_dense\\assets\n",
      "18/18 [==============================] - 1s 50ms/step - loss: 117.4136 - mae: 117.4136 - mse: 79852.1094 - val_loss: 627.7908 - val_mae: 627.7908 - val_mse: 1333260.2500\n",
      "Epoch 30/100\n",
      "17/18 [===========================>..] - ETA: 0s - loss: 112.9134 - mae: 112.9134 - mse: 77793.7500INFO:tensorflow:Assets written to: model_experiments\\model_1_dense\\assets\n",
      "18/18 [==============================] - 1s 68ms/step - loss: 112.5644 - mae: 112.5644 - mse: 76940.4062 - val_loss: 624.5823 - val_mae: 624.5823 - val_mse: 1323268.0000\n",
      "Epoch 31/100\n",
      "18/18 [==============================] - 0s 13ms/step - loss: 113.7914 - mae: 113.7914 - mse: 75699.1562 - val_loss: 627.0209 - val_mae: 627.0209 - val_mse: 1359057.3750\n",
      "Epoch 32/100\n",
      "18/18 [==============================] - 0s 10ms/step - loss: 112.9992 - mae: 112.9992 - mse: 76713.6328 - val_loss: 633.9318 - val_mae: 633.9318 - val_mse: 1338232.6250\n",
      "Epoch 33/100\n",
      "18/18 [==============================] - 0s 10ms/step - loss: 117.5786 - mae: 117.5786 - mse: 78563.5859 - val_loss: 660.0646 - val_mae: 660.0646 - val_mse: 1438936.7500\n",
      "Epoch 34/100\n",
      "18/18 [==============================] - 0s 10ms/step - loss: 124.2182 - mae: 124.2182 - mse: 84924.0547 - val_loss: 684.7111 - val_mae: 684.7111 - val_mse: 1505380.8750\n",
      "Epoch 35/100\n",
      "18/18 [==============================] - 0s 8ms/step - loss: 119.2341 - mae: 119.2341 - mse: 78687.6016 - val_loss: 679.8595 - val_mae: 679.8595 - val_mse: 1488848.6250\n",
      "Epoch 36/100\n",
      "18/18 [==============================] - ETA: 0s - loss: 113.5540 - mae: 113.5540 - mse: 76707.9531INFO:tensorflow:Assets written to: model_experiments\\model_1_dense\\assets\n",
      "18/18 [==============================] - 1s 51ms/step - loss: 113.5540 - mae: 113.5540 - mse: 76707.9531 - val_loss: 599.7883 - val_mae: 599.7883 - val_mse: 1264701.5000\n",
      "Epoch 37/100\n",
      "18/18 [==============================] - 0s 9ms/step - loss: 114.6016 - mae: 114.6016 - mse: 77134.4531 - val_loss: 607.0739 - val_mae: 607.0739 - val_mse: 1273892.8750\n",
      "Epoch 38/100\n",
      "18/18 [==============================] - 0s 9ms/step - loss: 110.2356 - mae: 110.2356 - mse: 74073.1641 - val_loss: 599.8282 - val_mae: 599.8282 - val_mse: 1259333.0000\n",
      "Epoch 39/100\n",
      "18/18 [==============================] - 0s 16ms/step - loss: 111.9413 - mae: 111.9413 - mse: 74178.5547 - val_loss: 603.3036 - val_mae: 603.3036 - val_mse: 1282907.5000\n",
      "Epoch 40/100\n",
      "10/18 [===============>..............] - ETA: 0s - loss: 104.4981 - mae: 104.4981 - mse: 60606.3125INFO:tensorflow:Assets written to: model_experiments\\model_1_dense\\assets\n",
      "18/18 [==============================] - 1s 50ms/step - loss: 111.4542 - mae: 111.4542 - mse: 74038.6641 - val_loss: 594.7261 - val_mae: 594.7261 - val_mse: 1261479.7500\n",
      "Epoch 41/100\n",
      "18/18 [==============================] - 0s 11ms/step - loss: 110.0126 - mae: 110.0126 - mse: 72719.5156 - val_loss: 605.1377 - val_mae: 605.1377 - val_mse: 1283964.0000\n",
      "Epoch 42/100\n",
      "18/18 [==============================] - 0s 10ms/step - loss: 109.9965 - mae: 109.9965 - mse: 73760.6484 - val_loss: 598.9636 - val_mae: 598.9636 - val_mse: 1250293.5000\n",
      "Epoch 43/100\n",
      "18/18 [==============================] - 0s 10ms/step - loss: 116.7155 - mae: 116.7155 - mse: 76171.6719 - val_loss: 674.9554 - val_mae: 674.9554 - val_mse: 1454304.1250\n",
      "Epoch 44/100\n",
      "18/18 [==============================] - 0s 10ms/step - loss: 112.4418 - mae: 112.4418 - mse: 75393.0078 - val_loss: 596.1042 - val_mae: 596.1042 - val_mse: 1241854.6250\n",
      "Epoch 45/100\n",
      "18/18 [==============================] - 0s 10ms/step - loss: 109.5058 - mae: 109.5058 - mse: 72926.5391 - val_loss: 598.1254 - val_mae: 598.1254 - val_mse: 1243624.8750\n",
      "Epoch 46/100\n",
      "18/18 [==============================] - 0s 13ms/step - loss: 111.9473 - mae: 111.9473 - mse: 74595.4375 - val_loss: 651.9531 - val_mae: 651.9531 - val_mse: 1354149.5000\n",
      "Epoch 47/100\n",
      "12/18 [===================>..........] - ETA: 0s - loss: 114.9236 - mae: 114.9236 - mse: 75855.7734INFO:tensorflow:Assets written to: model_experiments\\model_1_dense\\assets\n",
      "18/18 [==============================] - 1s 50ms/step - loss: 113.1674 - mae: 113.1674 - mse: 72888.4453 - val_loss: 591.8151 - val_mae: 591.8151 - val_mse: 1245805.1250\n",
      "Epoch 48/100\n",
      "10/18 [===============>..............] - ETA: 0s - loss: 113.1871 - mae: 113.1871 - mse: 75354.4297INFO:tensorflow:Assets written to: model_experiments\\model_1_dense\\assets\n",
      "18/18 [==============================] - 1s 54ms/step - loss: 111.3067 - mae: 111.3067 - mse: 75767.9688 - val_loss: 580.7780 - val_mae: 580.7780 - val_mse: 1218642.0000\n",
      "Epoch 49/100\n",
      "18/18 [==============================] - 0s 9ms/step - loss: 112.1175 - mae: 112.1175 - mse: 75535.9922 - val_loss: 744.0771 - val_mae: 744.0771 - val_mse: 1596075.5000\n",
      "Epoch 50/100\n",
      "18/18 [==============================] - 0s 9ms/step - loss: 120.3010 - mae: 120.3010 - mse: 80120.3438 - val_loss: 582.6931 - val_mae: 582.6931 - val_mse: 1223923.7500\n",
      "Epoch 51/100\n",
      "18/18 [==============================] - 0s 10ms/step - loss: 113.2083 - mae: 113.2083 - mse: 74240.3359 - val_loss: 624.9768 - val_mae: 624.9768 - val_mse: 1311566.2500\n",
      "Epoch 52/100\n",
      "18/18 [==============================] - 0s 10ms/step - loss: 109.0252 - mae: 109.0252 - mse: 72291.2109 - val_loss: 582.7348 - val_mae: 582.7348 - val_mse: 1222358.5000\n",
      "Epoch 53/100\n",
      "18/18 [==============================] - 0s 9ms/step - loss: 108.1216 - mae: 108.1216 - mse: 70989.3516 - val_loss: 611.4454 - val_mae: 611.4454 - val_mse: 1261546.7500\n",
      "Epoch 54/100\n",
      "18/18 [==============================] - 0s 9ms/step - loss: 111.5452 - mae: 111.5452 - mse: 71672.7500 - val_loss: 635.2283 - val_mae: 635.2283 - val_mse: 1332059.6250\n",
      "Epoch 55/100\n",
      "18/18 [==============================] - 0s 10ms/step - loss: 117.7557 - mae: 117.7557 - mse: 75955.7578 - val_loss: 622.6159 - val_mae: 622.6159 - val_mse: 1301282.0000\n",
      "Epoch 56/100\n",
      "18/18 [==============================] - 0s 7ms/step - loss: 109.8891 - mae: 109.8891 - mse: 71660.0391 - val_loss: 699.4178 - val_mae: 699.4178 - val_mse: 1506134.8750\n",
      "Epoch 57/100\n",
      " 1/18 [>.............................] - ETA: 0s - loss: 85.6085 - mae: 85.6085 - mse: 26403.1367INFO:tensorflow:Assets written to: model_experiments\\model_1_dense\\assets\n",
      "18/18 [==============================] - 1s 47ms/step - loss: 114.2043 - mae: 114.2043 - mse: 75651.4453 - val_loss: 579.6672 - val_mae: 579.6672 - val_mse: 1210404.8750\n",
      "Epoch 58/100\n",
      "18/18 [==============================] - 0s 11ms/step - loss: 113.5476 - mae: 113.5476 - mse: 73152.3359 - val_loss: 619.8584 - val_mae: 619.8584 - val_mse: 1275881.7500\n",
      "Epoch 59/100\n",
      "18/18 [==============================] - 0s 7ms/step - loss: 108.5216 - mae: 108.5216 - mse: 71334.5938 - val_loss: 589.3466 - val_mae: 589.3466 - val_mse: 1228751.6250\n",
      "Epoch 60/100\n",
      " 1/18 [>.............................] - ETA: 0s - loss: 118.6322 - mae: 118.6322 - mse: 68787.4062INFO:tensorflow:Assets written to: model_experiments\\model_1_dense\\assets\n",
      "18/18 [==============================] - 1s 48ms/step - loss: 113.0896 - mae: 113.0896 - mse: 72936.2656 - val_loss: 574.5878 - val_mae: 574.5878 - val_mse: 1194743.0000\n",
      "Epoch 61/100\n",
      "18/18 [==============================] - 0s 10ms/step - loss: 117.4635 - mae: 117.4635 - mse: 74835.5625 - val_loss: 632.0023 - val_mae: 632.0023 - val_mse: 1301792.5000\n",
      "Epoch 62/100\n",
      "18/18 [==============================] - 0s 9ms/step - loss: 117.4979 - mae: 117.4979 - mse: 77385.0234 - val_loss: 660.9309 - val_mae: 660.9309 - val_mse: 1366083.1250\n",
      "Epoch 63/100\n",
      "18/18 [==============================] - 0s 9ms/step - loss: 122.2716 - mae: 122.2716 - mse: 79314.9844 - val_loss: 704.9739 - val_mae: 704.9739 - val_mse: 1477975.1250\n",
      "Epoch 64/100\n",
      "18/18 [==============================] - 0s 10ms/step - loss: 114.5420 - mae: 114.5420 - mse: 72643.4844 - val_loss: 576.9458 - val_mae: 576.9458 - val_mse: 1199377.1250\n",
      "Epoch 65/100\n",
      "18/18 [==============================] - 0s 10ms/step - loss: 108.1173 - mae: 108.1173 - mse: 70885.6094 - val_loss: 582.3894 - val_mae: 582.3894 - val_mse: 1209889.7500\n",
      "Epoch 66/100\n",
      "18/18 [==============================] - 0s 11ms/step - loss: 107.1840 - mae: 107.1840 - mse: 70062.6094 - val_loss: 649.3906 - val_mae: 649.3906 - val_mse: 1337065.7500\n",
      "Epoch 67/100\n",
      "18/18 [==============================] - 0s 8ms/step - loss: 110.3092 - mae: 110.3092 - mse: 72075.3594 - val_loss: 590.9361 - val_mae: 590.9361 - val_mse: 1211268.5000\n",
      "Epoch 68/100\n",
      "18/18 [==============================] - 0s 9ms/step - loss: 107.5569 - mae: 107.5569 - mse: 69052.8516 - val_loss: 577.6843 - val_mae: 577.6843 - val_mse: 1197734.6250\n",
      "Epoch 69/100\n",
      "18/18 [==============================] - 0s 11ms/step - loss: 107.5426 - mae: 107.5426 - mse: 70122.9141 - val_loss: 577.9778 - val_mae: 577.9778 - val_mse: 1189007.7500\n",
      "Epoch 70/100\n",
      " 1/18 [>.............................] - ETA: 0s - loss: 113.9155 - mae: 113.9155 - mse: 61328.8164INFO:tensorflow:Assets written to: model_experiments\\model_1_dense\\assets\n",
      "18/18 [==============================] - 1s 48ms/step - loss: 109.8254 - mae: 109.8254 - mse: 71796.2188 - val_loss: 573.8917 - val_mae: 573.8917 - val_mse: 1181892.2500\n",
      "Epoch 71/100\n",
      "18/18 [==============================] - 0s 11ms/step - loss: 107.8773 - mae: 107.8773 - mse: 70532.1094 - val_loss: 608.5972 - val_mae: 608.5972 - val_mse: 1259183.8750\n",
      "Epoch 72/100\n",
      "18/18 [==============================] - 0s 12ms/step - loss: 106.9146 - mae: 106.9146 - mse: 70901.5156 - val_loss: 580.6021 - val_mae: 580.6021 - val_mse: 1189022.6250\n",
      "Epoch 73/100\n",
      "18/18 [==============================] - 0s 10ms/step - loss: 109.9769 - mae: 109.9769 - mse: 72252.0469 - val_loss: 614.6222 - val_mae: 614.6222 - val_mse: 1255128.5000\n",
      "Epoch 74/100\n",
      "18/18 [==============================] - 0s 10ms/step - loss: 111.0218 - mae: 111.0218 - mse: 72190.7109 - val_loss: 628.1871 - val_mae: 628.1871 - val_mse: 1285434.2500\n",
      "Epoch 75/100\n",
      "18/18 [==============================] - 0s 9ms/step - loss: 112.3007 - mae: 112.3007 - mse: 71807.2969 - val_loss: 686.3162 - val_mae: 686.3162 - val_mse: 1453542.7500\n",
      "Epoch 76/100\n",
      "18/18 [==============================] - ETA: 0s - loss: 110.3281 - mae: 110.3281 - mse: 71459.1094INFO:tensorflow:Assets written to: model_experiments\\model_1_dense\\assets\n",
      "18/18 [==============================] - 1s 52ms/step - loss: 110.3281 - mae: 110.3281 - mse: 71459.1094 - val_loss: 573.3583 - val_mae: 573.3583 - val_mse: 1178771.0000\n",
      "Epoch 77/100\n",
      "18/18 [==============================] - 0s 10ms/step - loss: 110.2396 - mae: 110.2396 - mse: 70060.6406 - val_loss: 585.7421 - val_mae: 585.7421 - val_mse: 1196068.7500\n",
      "Epoch 78/100\n",
      "16/18 [=========================>....] - ETA: 0s - loss: 108.1076 - mae: 108.1076 - mse: 70185.0859INFO:tensorflow:Assets written to: model_experiments\\model_1_dense\\assets\n",
      "18/18 [==============================] - 1s 56ms/step - loss: 106.4174 - mae: 106.4174 - mse: 69105.4688 - val_loss: 573.2896 - val_mae: 573.2896 - val_mse: 1181754.1250\n",
      "Epoch 79/100\n",
      "18/18 [==============================] - 0s 10ms/step - loss: 109.1962 - mae: 109.1962 - mse: 71308.4141 - val_loss: 592.5164 - val_mae: 592.5164 - val_mse: 1206308.6250\n",
      "Epoch 80/100\n",
      "18/18 [==============================] - 0s 9ms/step - loss: 107.8086 - mae: 107.8086 - mse: 68289.7891 - val_loss: 609.4437 - val_mae: 609.4437 - val_mse: 1240179.7500\n",
      "Epoch 81/100\n",
      "18/18 [==============================] - 0s 9ms/step - loss: 111.1657 - mae: 111.1657 - mse: 73577.5156 - val_loss: 671.5278 - val_mae: 671.5278 - val_mse: 1410472.2500\n",
      "Epoch 82/100\n",
      "11/18 [=================>............] - ETA: 0s - loss: 108.7894 - mae: 108.7894 - mse: 68749.9922 INFO:tensorflow:Assets written to: model_experiments\\model_1_dense\\assets\n",
      "18/18 [==============================] - 1s 53ms/step - loss: 109.4867 - mae: 109.4867 - mse: 71229.2188 - val_loss: 571.3153 - val_mae: 571.3153 - val_mse: 1173378.6250\n",
      "Epoch 83/100\n",
      "18/18 [==============================] - 0s 10ms/step - loss: 106.6599 - mae: 106.6599 - mse: 68985.9766 - val_loss: 631.5068 - val_mae: 631.5068 - val_mse: 1287094.3750\n",
      "Epoch 84/100\n",
      "18/18 [==============================] - 0s 9ms/step - loss: 111.2012 - mae: 111.2012 - mse: 71423.3438 - val_loss: 575.6065 - val_mae: 575.6065 - val_mse: 1177799.7500\n",
      "Epoch 85/100\n",
      "18/18 [==============================] - 0s 10ms/step - loss: 106.0359 - mae: 106.0359 - mse: 69641.1484 - val_loss: 606.3312 - val_mae: 606.3312 - val_mse: 1230366.5000\n",
      "Epoch 86/100\n",
      "18/18 [==============================] - 0s 10ms/step - loss: 106.7696 - mae: 106.7696 - mse: 69515.6406 - val_loss: 580.3825 - val_mae: 580.3825 - val_mse: 1184127.8750\n",
      "Epoch 87/100\n",
      "18/18 [==============================] - 0s 9ms/step - loss: 106.5212 - mae: 106.5212 - mse: 69568.7109 - val_loss: 571.5063 - val_mae: 571.5063 - val_mse: 1169248.0000\n",
      "Epoch 88/100\n",
      "18/18 [==============================] - 0s 9ms/step - loss: 106.1681 - mae: 106.1681 - mse: 68608.7188 - val_loss: 655.4268 - val_mae: 655.4268 - val_mse: 1372125.5000\n",
      "Epoch 89/100\n",
      "18/18 [==============================] - 0s 9ms/step - loss: 106.7488 - mae: 106.7488 - mse: 70245.9922 - val_loss: 611.0958 - val_mae: 611.0958 - val_mse: 1237434.8750\n",
      "Epoch 90/100\n",
      "18/18 [==============================] - 0s 6ms/step - loss: 109.9099 - mae: 109.9099 - mse: 70910.6016 - val_loss: 580.0325 - val_mae: 580.0325 - val_mse: 1179194.3750\n",
      "Epoch 91/100\n",
      "18/18 [==============================] - 0s 9ms/step - loss: 107.1241 - mae: 107.1241 - mse: 68424.0234 - val_loss: 628.4198 - val_mae: 628.4198 - val_mse: 1302870.7500\n",
      "Epoch 92/100\n",
      "18/18 [==============================] - 0s 9ms/step - loss: 110.3585 - mae: 110.3585 - mse: 69488.6484 - val_loss: 641.0916 - val_mae: 641.0916 - val_mse: 1333077.7500\n",
      "Epoch 93/100\n",
      "11/18 [=================>............] - ETA: 0s - loss: 108.4725 - mae: 108.4725 - mse: 62318.0586INFO:tensorflow:Assets written to: model_experiments\\model_1_dense\\assets\n",
      "18/18 [==============================] - 1s 53ms/step - loss: 109.3312 - mae: 109.3312 - mse: 70486.1094 - val_loss: 569.4982 - val_mae: 569.4982 - val_mse: 1165469.7500\n",
      "Epoch 94/100\n",
      "18/18 [==============================] - 0s 12ms/step - loss: 108.1235 - mae: 108.1235 - mse: 70257.2109 - val_loss: 615.2701 - val_mae: 615.2701 - val_mse: 1244841.1250\n",
      "Epoch 95/100\n",
      "18/18 [==============================] - 0s 9ms/step - loss: 105.2390 - mae: 105.2390 - mse: 67747.3828 - val_loss: 590.7316 - val_mae: 590.7316 - val_mse: 1196290.5000\n",
      "Epoch 96/100\n",
      "18/18 [==============================] - 0s 6ms/step - loss: 112.8316 - mae: 112.8316 - mse: 69882.5312 - val_loss: 623.0452 - val_mae: 623.0452 - val_mse: 1290952.0000\n",
      "Epoch 97/100\n",
      "18/18 [==============================] - 0s 10ms/step - loss: 107.0490 - mae: 107.0490 - mse: 70257.3984 - val_loss: 574.3162 - val_mae: 574.3162 - val_mse: 1169433.3750\n",
      "Epoch 98/100\n",
      "18/18 [==============================] - 0s 9ms/step - loss: 106.6866 - mae: 106.6866 - mse: 69029.4609 - val_loss: 592.1361 - val_mae: 592.1361 - val_mse: 1219872.2500\n",
      "Epoch 99/100\n",
      "18/18 [==============================] - 0s 10ms/step - loss: 108.0871 - mae: 108.0871 - mse: 70709.0391 - val_loss: 611.3484 - val_mae: 611.3484 - val_mse: 1234770.8750\n",
      "Epoch 100/100\n",
      "18/18 [==============================] - 0s 9ms/step - loss: 109.6446 - mae: 109.6446 - mse: 70572.5938 - val_loss: 574.9922 - val_mae: 574.9922 - val_mse: 1177755.0000\n"
     ]
    },
    {
     "data": {
      "text/plain": [
       "<keras.callbacks.History at 0x28984989210>"
      ]
     },
     "execution_count": 38,
     "metadata": {},
     "output_type": "execute_result"
    }
   ],
   "source": [
    "import tensorflow as tf\n",
    "from tensorflow.keras import layers # type: ignore\n",
    "\n",
    "# Set random seed for as reporducible results as possible\n",
    "tf.random.set_seed(42)\n",
    "\n",
    "# 1. Construct the model\n",
    "model_1 = tf.keras.Sequential([\n",
    "    layers.Dense(128, activation='relu'),\n",
    "    layers.Dense(HORIZON, activation='linear')\n",
    "], name='model_1_dense') # name our model so we can save it\n",
    "\n",
    "# 2. Compile\n",
    "model_1.compile(loss='mae',\n",
    "                optimizer=tf.keras.optimizers.Adam(),\n",
    "                metrics=['mae', 'mse'])\n",
    "\n",
    "# Fit the model\n",
    "model_1.fit(x=train_windows,\n",
    "            y=train_labels,\n",
    "            epochs=100,\n",
    "            verbose=1,\n",
    "            batch_size=128,\n",
    "            validation_data=(test_windows, test_labels),\n",
    "            callbacks=[create_model_checkpoint(model_name=model_1.name)])"
   ]
  },
  {
   "cell_type": "code",
   "execution_count": 39,
   "id": "b35cc5f8",
   "metadata": {},
   "outputs": [
    {
     "name": "stdout",
     "output_type": "stream",
     "text": [
      "18/18 [==============================] - 0s 4ms/step - loss: 575.0152 - mae: 575.0152 - mse: 1177824.2500\n"
     ]
    },
    {
     "data": {
      "text/plain": [
       "[575.0151977539062, 575.0151977539062, 1177824.25]"
      ]
     },
     "execution_count": 39,
     "metadata": {},
     "output_type": "execute_result"
    }
   ],
   "source": [
    "# Evaluate model on test data (last performance - not the best)\n",
    "model_1.evaluate(test_windows, test_labels)"
   ]
  },
  {
   "cell_type": "code",
   "execution_count": 40,
   "id": "3b474323",
   "metadata": {},
   "outputs": [
    {
     "name": "stdout",
     "output_type": "stream",
     "text": [
      "18/18 [==============================] - 0s 4ms/step - loss: 569.5185 - mae: 569.5185 - mse: 1165525.6250\n"
     ]
    },
    {
     "data": {
      "text/plain": [
       "[569.5184936523438, 569.5184936523438, 1165525.625]"
      ]
     },
     "execution_count": 40,
     "metadata": {},
     "output_type": "execute_result"
    }
   ],
   "source": [
    "# Load in saved best performing model_1 and evaluate it on test data\n",
    "model_1 = tf.keras.models.load_model('model_experiments/model_1_dense/')\n",
    "model_1.evaluate(test_windows, test_labels)"
   ]
  },
  {
   "cell_type": "markdown",
   "id": "1a1a02c1",
   "metadata": {},
   "source": [
    "## Making forecasts with a model (on the test dataset)\n",
    "\n",
    "To make 'forecasts' on the dataset (note: these won't be actual forecasts, they're only pseudo forecasts actual forecasts are into the future), let's write a function to:\n",
    "\n",
    "1. Take in a train model\n",
    "2. Takes in some input data (same kind of data the model was trained on)\n",
    "3. Passes the input data to the model's `predict()` method\n",
    "4. Returns the predictions"
   ]
  },
  {
   "cell_type": "code",
   "execution_count": 41,
   "id": "9470b21a",
   "metadata": {},
   "outputs": [],
   "source": [
    "def make_preds(model, input_data):\n",
    "    \"\"\"\n",
    "    Uses model to make predictions input_data.\n",
    "    \"\"\"\n",
    "    forecast = model.predict(input_data)\n",
    "    return tf.squeeze(forecast) # return 1D array of predictions"
   ]
  },
  {
   "cell_type": "code",
   "execution_count": 42,
   "id": "93f5b9b5",
   "metadata": {},
   "outputs": [
    {
     "name": "stdout",
     "output_type": "stream",
     "text": [
      "18/18 [==============================] - 0s 3ms/step\n"
     ]
    },
    {
     "data": {
      "text/plain": [
       "(551,\n",
       " <tf.Tensor: shape=(10,), dtype=float32, numpy=\n",
       " array([8724.354, 8682.124, 8500.506, 8451.265, 8513.843, 8247.308,\n",
       "        8105.406, 8057.294, 7679.812, 7295.408], dtype=float32)>)"
      ]
     },
     "execution_count": 42,
     "metadata": {},
     "output_type": "execute_result"
    }
   ],
   "source": [
    "# Make predictions using model_1 on the test dataset and view results\n",
    "model_1_preds = make_preds(model_1, test_windows)\n",
    "len(model_1_preds), model_1_preds[:10]"
   ]
  },
  {
   "cell_type": "code",
   "execution_count": 43,
   "id": "67e72b08",
   "metadata": {},
   "outputs": [
    {
     "data": {
      "text/plain": [
       "{'mae': 569.51855,\n",
       " 'mse': 1165525.6,\n",
       " 'rmse': 1079.5951,\n",
       " 'mape': 2.5527081,\n",
       " 'mase': 0.9940091}"
      ]
     },
     "execution_count": 43,
     "metadata": {},
     "output_type": "execute_result"
    }
   ],
   "source": [
    "# Evaluate preds\n",
    "model_1_results = evaluate_preds(y_true=tf.squeeze(test_labels),\n",
    "                                 y_pred=model_1_preds)\n",
    "model_1_results"
   ]
  },
  {
   "cell_type": "code",
   "execution_count": 44,
   "id": "9b6b48ce",
   "metadata": {},
   "outputs": [
    {
     "data": {
      "text/plain": [
       "{'mae': 567.9802,\n",
       " 'mse': 1147547.0,\n",
       " 'rmse': 1071.2362,\n",
       " 'mape': 2.516525,\n",
       " 'mase': 0.99957}"
      ]
     },
     "execution_count": 44,
     "metadata": {},
     "output_type": "execute_result"
    }
   ],
   "source": [
    "naive_results"
   ]
  },
  {
   "cell_type": "code",
   "execution_count": 45,
   "id": "886ffc00",
   "metadata": {},
   "outputs": [
    {
     "data": {
      "image/png": "[encoded data removed]",
      "text/plain": [
       "<Figure size 1000x700 with 1 Axes>"
      ]
     },
     "metadata": {},
     "output_type": "display_data"
    }
   ],
   "source": [
    "# Let's plot our model 1 predictions\n",
    "offset = 300\n",
    "plt.figure(figsize=(10, 7))\n",
    "# Account for the test_window offset and index into test_labels to ensure correct plotting\n",
    "plot_time_series(timesteps=X_test[-len(test_windows):], values=test_labels[:, 0], start=offset, label='Test Data')\n",
    "\n",
    "plot_time_series(timesteps=X_test[-len(test_windows):], values=model_1_preds, start=offset, format='-', label='Model 1 Preds')"
   ]
  },
  {
   "cell_type": "markdown",
   "id": "e2cae249",
   "metadata": {},
   "source": [
    "## Model 2: Dense (window = 30, horizon = 1)"
   ]
  },
  {
   "cell_type": "code",
   "execution_count": 46,
   "id": "1984ac3e",
   "metadata": {},
   "outputs": [],
   "source": [
    "HORIZON = 1 # predict one step at a time (one day of Bitcoin prices)\n",
    "WINDOW_SIZE = 30 # use 30 timesteps in past"
   ]
  },
  {
   "cell_type": "code",
   "execution_count": 47,
   "id": "55f9ad76",
   "metadata": {},
   "outputs": [
    {
     "data": {
      "text/plain": [
       "(2757, 2757)"
      ]
     },
     "execution_count": 47,
     "metadata": {},
     "output_type": "execute_result"
    }
   ],
   "source": [
    "# Make window data with appropriate horizon and window sizes\n",
    "full_windows, full_labels = make_windows(prices, window_size=WINDOW_SIZE, horizon=HORIZON)\n",
    "len(full_windows), len(full_labels)"
   ]
  },
  {
   "cell_type": "code",
   "execution_count": 48,
   "id": "9db41bdc",
   "metadata": {},
   "outputs": [
    {
     "data": {
      "text/plain": [
       "(2229, 528, 2229, 528)"
      ]
     },
     "execution_count": 48,
     "metadata": {},
     "output_type": "execute_result"
    }
   ],
   "source": [
    "# Make train and testing windows\n",
    "train_windows, test_windows, train_labels, test_labels = make_train_test_splits(windows=full_windows,\n",
    "                                                                                labels=full_labels,\n",
    "                                                                                test_split=0.2)\n",
    "len(train_windows), len(test_windows), len(train_labels), len(test_labels)"
   ]
  },
  {
   "cell_type": "code",
   "execution_count": 49,
   "id": "6d9d578d",
   "metadata": {},
   "outputs": [
    {
     "name": "stdout",
     "output_type": "stream",
     "text": [
      "INFO:tensorflow:Assets written to: model_experiments\\model_2_dense\\assets\n",
      "INFO:tensorflow:Assets written to: model_experiments\\model_2_dense\\assets\n",
      "INFO:tensorflow:Assets written to: model_experiments\\model_2_dense\\assets\n",
      "INFO:tensorflow:Assets written to: model_experiments\\model_2_dense\\assets\n",
      "INFO:tensorflow:Assets written to: model_experiments\\model_2_dense\\assets\n",
      "INFO:tensorflow:Assets written to: model_experiments\\model_2_dense\\assets\n",
      "INFO:tensorflow:Assets written to: model_experiments\\model_2_dense\\assets\n",
      "INFO:tensorflow:Assets written to: model_experiments\\model_2_dense\\assets\n",
      "INFO:tensorflow:Assets written to: model_experiments\\model_2_dense\\assets\n",
      "INFO:tensorflow:Assets written to: model_experiments\\model_2_dense\\assets\n",
      "INFO:tensorflow:Assets written to: model_experiments\\model_2_dense\\assets\n",
      "INFO:tensorflow:Assets written to: model_experiments\\model_2_dense\\assets\n",
      "INFO:tensorflow:Assets written to: model_experiments\\model_2_dense\\assets\n",
      "INFO:tensorflow:Assets written to: model_experiments\\model_2_dense\\assets\n",
      "INFO:tensorflow:Assets written to: model_experiments\\model_2_dense\\assets\n",
      "INFO:tensorflow:Assets written to: model_experiments\\model_2_dense\\assets\n",
      "INFO:tensorflow:Assets written to: model_experiments\\model_2_dense\\assets\n",
      "INFO:tensorflow:Assets written to: model_experiments\\model_2_dense\\assets\n",
      "INFO:tensorflow:Assets written to: model_experiments\\model_2_dense\\assets\n",
      "INFO:tensorflow:Assets written to: model_experiments\\model_2_dense\\assets\n",
      "INFO:tensorflow:Assets written to: model_experiments\\model_2_dense\\assets\n",
      "INFO:tensorflow:Assets written to: model_experiments\\model_2_dense\\assets\n",
      "INFO:tensorflow:Assets written to: model_experiments\\model_2_dense\\assets\n"
     ]
    },
    {
     "data": {
      "text/plain": [
       "<keras.callbacks.History at 0x28bad9cfb50>"
      ]
     },
     "execution_count": 49,
     "metadata": {},
     "output_type": "execute_result"
    }
   ],
   "source": [
    "tf.random.set_seed(42)\n",
    "\n",
    "# Create model\n",
    "model_2 = tf.keras.Sequential([\n",
    "    layers.Dense(128, activation='relu'),\n",
    "    layers.Dense(HORIZON)\n",
    "], name='model_2_dense')\n",
    "\n",
    "# Compile model\n",
    "model_2.compile(loss='mae',\n",
    "                optimizer=tf.keras.optimizers.Adam())\n",
    "\n",
    "# Fit\n",
    "model_2.fit(train_windows,\n",
    "            train_labels,\n",
    "            epochs=100,\n",
    "            batch_size=128,\n",
    "            verbose=0,\n",
    "            validation_data=(test_windows, test_labels),\n",
    "            callbacks=[create_model_checkpoint(model_name=model_2.name)])"
   ]
  },
  {
   "cell_type": "code",
   "execution_count": 50,
   "id": "8105caa5",
   "metadata": {},
   "outputs": [
    {
     "name": "stdout",
     "output_type": "stream",
     "text": [
      "17/17 [==============================] - 0s 5ms/step - loss: 771.4651\n"
     ]
    },
    {
     "data": {
      "text/plain": [
       "771.465087890625"
      ]
     },
     "execution_count": 50,
     "metadata": {},
     "output_type": "execute_result"
    }
   ],
   "source": [
    "# Evaluate model 2 on test data\n",
    "model_2.evaluate(test_windows, test_labels)"
   ]
  },
  {
   "cell_type": "code",
   "execution_count": 51,
   "id": "576cc0b8",
   "metadata": {},
   "outputs": [
    {
     "name": "stdout",
     "output_type": "stream",
     "text": [
      "17/17 [==============================] - 0s 3ms/step - loss: 631.5695\n"
     ]
    },
    {
     "data": {
      "text/plain": [
       "631.5695190429688"
      ]
     },
     "execution_count": 51,
     "metadata": {},
     "output_type": "execute_result"
    }
   ],
   "source": [
    "# Load in the best performing model\n",
    "model_2 = tf.keras.models.load_model('model_experiments/model_2_dense/')\n",
    "model_2.evaluate(test_windows, test_labels)"
   ]
  },
  {
   "cell_type": "code",
   "execution_count": 52,
   "id": "16830931",
   "metadata": {},
   "outputs": [
    {
     "name": "stdout",
     "output_type": "stream",
     "text": [
      "17/17 [==============================] - 0s 3ms/step\n"
     ]
    }
   ],
   "source": [
    "# Get forecast predictions\n",
    "model_2_preds = make_preds(model_2,\n",
    "                           input_data=test_windows)"
   ]
  },
  {
   "cell_type": "code",
   "execution_count": 53,
   "id": "4a35b2c8",
   "metadata": {},
   "outputs": [
    {
     "data": {
      "text/plain": [
       "(TensorShape([528]), TensorShape([528]))"
      ]
     },
     "execution_count": 53,
     "metadata": {},
     "output_type": "execute_result"
    }
   ],
   "source": [
    "tf.squeeze(test_labels).shape, model_2_preds.shape"
   ]
  },
  {
   "cell_type": "code",
   "execution_count": 54,
   "id": "81997755",
   "metadata": {},
   "outputs": [
    {
     "data": {
      "text/plain": [
       "{'mae': 631.56946,\n",
       " 'mse': 1307907.4,\n",
       " 'rmse': 1143.6378,\n",
       " 'mape': 2.775868,\n",
       " 'mase': 1.0689801}"
      ]
     },
     "execution_count": 54,
     "metadata": {},
     "output_type": "execute_result"
    }
   ],
   "source": [
    "# Evaluate results for model 2 predictions\n",
    "model_2_results = evaluate_preds(y_true=tf.squeeze(test_labels),\n",
    "                                 y_pred=model_2_preds)\n",
    "model_2_results"
   ]
  },
  {
   "cell_type": "code",
   "execution_count": 55,
   "id": "982bdaa0",
   "metadata": {},
   "outputs": [
    {
     "data": {
      "text/plain": [
       "{'mae': 569.51855,\n",
       " 'mse': 1165525.6,\n",
       " 'rmse': 1079.5951,\n",
       " 'mape': 2.5527081,\n",
       " 'mase': 0.9940091}"
      ]
     },
     "execution_count": 55,
     "metadata": {},
     "output_type": "execute_result"
    }
   ],
   "source": [
    "model_1_results"
   ]
  },
  {
   "cell_type": "code",
   "execution_count": 56,
   "id": "a1f9ba91",
   "metadata": {},
   "outputs": [
    {
     "data": {
      "image/png": "[encoded data removed]",
      "text/plain": [
       "<Figure size 1000x700 with 1 Axes>"
      ]
     },
     "metadata": {},
     "output_type": "display_data"
    }
   ],
   "source": [
    "offset = 300\n",
    "plt.figure(figsize=(10, 7))\n",
    "# Account for test_window offset when plotting\n",
    "plot_time_series(timesteps=X_test[-len(test_windows):], values=test_labels[:, 0], start=offset, label='Test Data')\n",
    "plot_time_series(timesteps=X_test[-len(test_windows):], values=model_2_preds, start=offset, format='-', label='model_2_preds')"
   ]
  },
  {
   "cell_type": "markdown",
   "id": "c0113fea",
   "metadata": {},
   "source": [
    "## Model 3: Dense (window = 30, horizon = 7)\n",
    "\n"
   ]
  },
  {
   "cell_type": "code",
   "execution_count": 57,
   "id": "887cc5e4",
   "metadata": {},
   "outputs": [
    {
     "data": {
      "text/plain": [
       "(2751, 2751)"
      ]
     },
     "execution_count": 57,
     "metadata": {},
     "output_type": "execute_result"
    }
   ],
   "source": [
    "HORIZON = 7\n",
    "WINDOW_SIZE = 30\n",
    "\n",
    "full_windows, full_labels = make_windows(prices, window_size=WINDOW_SIZE, horizon=HORIZON)\n",
    "len(full_windows), len(full_labels)"
   ]
  },
  {
   "cell_type": "code",
   "execution_count": 58,
   "id": "6e79caa1",
   "metadata": {},
   "outputs": [
    {
     "data": {
      "text/plain": [
       "(2229, 522, 2229, 522)"
      ]
     },
     "execution_count": 58,
     "metadata": {},
     "output_type": "execute_result"
    }
   ],
   "source": [
    "train_windows, test_windows, train_labels, test_labels = make_train_test_splits(windows=full_windows,\n",
    "                                                                                labels=full_labels,\n",
    "                                                                                test_split=0.2)\n",
    "len(train_windows), len(test_windows), len(train_labels), len(test_labels)"
   ]
  },
  {
   "cell_type": "code",
   "execution_count": 59,
   "id": "23124476",
   "metadata": {},
   "outputs": [
    {
     "name": "stdout",
     "output_type": "stream",
     "text": [
      "INFO:tensorflow:Assets written to: model_experiments\\model_3_dense\\assets\n",
      "INFO:tensorflow:Assets written to: model_experiments\\model_3_dense\\assets\n",
      "INFO:tensorflow:Assets written to: model_experiments\\model_3_dense\\assets\n",
      "INFO:tensorflow:Assets written to: model_experiments\\model_3_dense\\assets\n",
      "INFO:tensorflow:Assets written to: model_experiments\\model_3_dense\\assets\n",
      "INFO:tensorflow:Assets written to: model_experiments\\model_3_dense\\assets\n",
      "INFO:tensorflow:Assets written to: model_experiments\\model_3_dense\\assets\n",
      "INFO:tensorflow:Assets written to: model_experiments\\model_3_dense\\assets\n",
      "INFO:tensorflow:Assets written to: model_experiments\\model_3_dense\\assets\n",
      "INFO:tensorflow:Assets written to: model_experiments\\model_3_dense\\assets\n",
      "INFO:tensorflow:Assets written to: model_experiments\\model_3_dense\\assets\n",
      "INFO:tensorflow:Assets written to: model_experiments\\model_3_dense\\assets\n",
      "INFO:tensorflow:Assets written to: model_experiments\\model_3_dense\\assets\n",
      "INFO:tensorflow:Assets written to: model_experiments\\model_3_dense\\assets\n",
      "INFO:tensorflow:Assets written to: model_experiments\\model_3_dense\\assets\n",
      "INFO:tensorflow:Assets written to: model_experiments\\model_3_dense\\assets\n",
      "INFO:tensorflow:Assets written to: model_experiments\\model_3_dense\\assets\n",
      "INFO:tensorflow:Assets written to: model_experiments\\model_3_dense\\assets\n",
      "INFO:tensorflow:Assets written to: model_experiments\\model_3_dense\\assets\n"
     ]
    },
    {
     "data": {
      "text/plain": [
       "<keras.callbacks.History at 0x28bab2b2440>"
      ]
     },
     "execution_count": 59,
     "metadata": {},
     "output_type": "execute_result"
    }
   ],
   "source": [
    "tf.random.set_seed(42)\n",
    "\n",
    "# Create model\n",
    "model_3 = tf.keras.Sequential([\n",
    "    layers.Dense(128, activation='relu'),\n",
    "    layers.Dense(HORIZON)\n",
    "], name='model_3_dense')\n",
    "\n",
    "# Compile\n",
    "model_3.compile(loss='mae',\n",
    "                optimizer=tf.keras.optimizers.Adam())\n",
    "\n",
    "# Fit\n",
    "model_3.fit(train_windows,\n",
    "            train_labels,\n",
    "            batch_size=128,\n",
    "            epochs=100,\n",
    "            verbose=0,\n",
    "            validation_data=(test_windows, test_labels),\n",
    "            callbacks=[create_model_checkpoint(model_name=model_3.name)])"
   ]
  },
  {
   "cell_type": "code",
   "execution_count": 60,
   "id": "4c40baa7",
   "metadata": {},
   "outputs": [
    {
     "name": "stdout",
     "output_type": "stream",
     "text": [
      "17/17 [==============================] - 0s 4ms/step - loss: 1288.1688\n"
     ]
    },
    {
     "data": {
      "text/plain": [
       "1288.1688232421875"
      ]
     },
     "execution_count": 60,
     "metadata": {},
     "output_type": "execute_result"
    }
   ],
   "source": [
    "# Evaluate the model on the test data\n",
    "model_3.evaluate(test_windows, test_labels)"
   ]
  },
  {
   "cell_type": "code",
   "execution_count": 61,
   "id": "7a7a83c6",
   "metadata": {},
   "outputs": [
    {
     "name": "stdout",
     "output_type": "stream",
     "text": [
      "17/17 [==============================] - 0s 4ms/step - loss: 1286.3143\n"
     ]
    },
    {
     "data": {
      "text/plain": [
       "1286.3143310546875"
      ]
     },
     "execution_count": 61,
     "metadata": {},
     "output_type": "execute_result"
    }
   ],
   "source": [
    "# Load best version of model_3 and evaluate\n",
    "model_3 = tf.keras.models.load_model('model_experiments/model_3_dense/')\n",
    "model_3.evaluate(test_windows, test_labels)"
   ]
  },
  {
   "cell_type": "code",
   "execution_count": 62,
   "id": "796cb207",
   "metadata": {},
   "outputs": [
    {
     "name": "stdout",
     "output_type": "stream",
     "text": [
      "17/17 [==============================] - 0s 2ms/step\n"
     ]
    },
    {
     "data": {
      "text/plain": [
       "TensorShape([522, 7])"
      ]
     },
     "execution_count": 62,
     "metadata": {},
     "output_type": "execute_result"
    }
   ],
   "source": [
    "# Make predictions with model_3\n",
    "model_3_preds = make_preds(model_3,\n",
    "                           input_data=test_windows)\n",
    "model_3_preds.shape"
   ]
  },
  {
   "cell_type": "code",
   "execution_count": 63,
   "id": "51f272aa",
   "metadata": {},
   "outputs": [
    {
     "data": {
      "text/plain": [
       "(TensorShape([522, 7]), TensorShape([528]))"
      ]
     },
     "execution_count": 63,
     "metadata": {},
     "output_type": "execute_result"
    }
   ],
   "source": [
    "model_3_preds.shape, model_2_preds.shape"
   ]
  },
  {
   "cell_type": "code",
   "execution_count": 64,
   "id": "ccec3843",
   "metadata": {},
   "outputs": [
    {
     "data": {
      "text/plain": [
       "{'mae': array([  241.29604 ,   403.1603  ,   425.25726 ,   453.1263  ,\n",
       "          398.1396  ,   331.97964 ,   295.28683 ,   370.61734 ,\n",
       "          304.5385  ,   237.1446  ,   103.46993 ,   373.96826 ,\n",
       "          111.5904  ,   100.18282 ,   109.978935,   144.26918 ,\n",
       "          188.59207 ,   118.4128  ,   127.065636,   126.22496 ,\n",
       "          135.09389 ,   117.28139 ,   208.28244 ,   283.14963 ,\n",
       "          229.31375 ,   234.89383 ,   303.611   ,   524.84784 ,\n",
       "          435.58398 ,   404.0574  ,   502.5298  ,   304.57358 ,\n",
       "          182.45076 ,   289.22412 ,   328.65024 ,   370.051   ,\n",
       "          437.23096 ,   440.62027 ,   456.4915  ,   143.7433  ,\n",
       "          157.75056 ,   264.68207 ,   503.92703 ,   596.2204  ,\n",
       "          420.63644 ,   373.91254 ,   362.7143  ,   365.15903 ,\n",
       "          394.3835  ,   435.61008 ,   701.07855 ,   676.0378  ,\n",
       "          506.98187 ,   230.8051  ,   147.6116  ,   264.92328 ,\n",
       "          252.3326  ,   239.8658  ,   278.3994  ,   347.73172 ,\n",
       "          511.84793 ,   407.4107  ,   330.97098 ,   281.6059  ,\n",
       "          188.7864  ,   214.06404 ,   267.00766 ,   269.21918 ,\n",
       "          553.4388  ,   632.39246 ,   806.23425 ,   604.8372  ,\n",
       "          460.14844 ,   228.0198  ,   440.4439  ,   409.1243  ,\n",
       "          378.357   ,   537.35657 ,   688.19867 ,  1037.3029  ,\n",
       "         1010.3786  ,   960.11804 ,   460.76675 ,   175.4926  ,\n",
       "          224.6423  ,   212.00781 ,   272.28717 ,   327.7851  ,\n",
       "          511.10443 ,   560.5206  ,  1192.3324  ,  1768.2291  ,\n",
       "         2133.033   ,  2112.9363  ,  2120.0486  ,  2356.683   ,\n",
       "         2552.3433  ,  1267.4241  ,   676.10895 ,   373.36398 ,\n",
       "          442.73306 ,   693.7961  ,   627.7091  ,   582.00195 ,\n",
       "          365.13736 ,   271.5655  ,   238.93498 ,   294.794   ,\n",
       "          290.711   ,   205.90562 ,   374.15164 ,   346.57394 ,\n",
       "          454.1785  ,   372.95697 ,   751.2592  ,   567.9652  ,\n",
       "          409.2426  ,   595.1766  ,   347.96436 ,   259.5727  ,\n",
       "          282.57297 ,   314.12033 ,   303.38373 ,   427.82407 ,\n",
       "          602.10895 ,   832.30615 ,   228.10574 ,   136.59807 ,\n",
       "          198.95773 ,   182.2152  ,   178.46213 ,   318.74854 ,\n",
       "          206.75105 ,   267.5482  ,   237.88791 ,   261.87222 ,\n",
       "          345.8104  ,   519.6506  ,   604.53723 ,   480.5812  ,\n",
       "          555.1522  ,   638.4525  ,   783.39435 ,   929.211   ,\n",
       "          961.56903 ,   398.02692 ,   341.95493 ,   371.97293 ,\n",
       "          402.15262 ,   349.83176 ,   470.4153  ,   499.5555  ,\n",
       "          465.73004 ,   703.7013  ,   926.49347 ,   969.2419  ,\n",
       "          327.3813  ,   444.02386 ,   648.3743  ,   307.56808 ,\n",
       "          141.48228 ,   160.47838 ,   241.28711 ,   409.85254 ,\n",
       "          600.63617 ,   736.9489  ,   615.73175 ,   263.56516 ,\n",
       "          312.91617 ,   325.97574 ,   307.80832 ,   407.75488 ,\n",
       "          614.44824 ,   631.3803  ,   282.21527 ,   244.59766 ,\n",
       "          224.94963 ,   202.06584 ,   545.1593  ,   258.30414 ,\n",
       "          208.65723 ,   227.9806  ,   150.09543 ,   282.71973 ,\n",
       "          368.68442 ,   468.78766 ,   464.631   ,   486.05664 ,\n",
       "          270.1098  ,   289.2595  ,   305.0389  ,   167.3969  ,\n",
       "          278.55273 ,   272.55942 ,   337.99762 ,   301.66016 ,\n",
       "          181.70676 ,   241.50041 ,   249.01033 ,   494.04117 ,\n",
       "          486.47488 ,   512.31055 ,   302.40738 ,   312.93832 ,\n",
       "           79.45424 ,    88.50697 ,   152.4241  ,   213.8683  ,\n",
       "          197.08022 ,   192.43611 ,   147.23605 ,   142.43137 ,\n",
       "           69.97377 ,   133.16699 ,   177.71346 ,   357.5064  ,\n",
       "          331.98926 ,   225.71693 ,   222.73814 ,   247.95271 ,\n",
       "          252.53906 ,   195.01492 ,   218.81459 ,   191.62625 ,\n",
       "          160.96053 ,   180.51912 ,   247.02498 ,   480.61942 ,\n",
       "          565.5876  ,   664.83856 ,   807.3305  ,   980.2704  ,\n",
       "         1191.5016  ,  1210.385   ,   351.26562 ,   229.9541  ,\n",
       "          224.13742 ,   279.74023 ,   243.22127 ,   396.7913  ,\n",
       "          184.16281 ,   137.9894  ,   170.48619 ,   145.1776  ,\n",
       "          423.87305 ,   325.73953 ,   427.84137 ,   205.73885 ,\n",
       "          406.30035 ,   218.79674 ,   145.93234 ,   205.3284  ,\n",
       "          181.71094 ,   273.76578 ,   256.75613 ,   680.7563  ,\n",
       "          477.09067 ,   358.4184  ,   408.03098 ,   293.7122  ,\n",
       "          301.398   ,   294.8489  ,   389.91742 ,   230.7147  ,\n",
       "          210.12291 ,   228.8457  ,   377.1141  ,   625.6745  ,\n",
       "          949.787   ,  1215.2792  ,  1597.1556  ,  1547.8083  ,\n",
       "         1065.6956  ,   661.00323 ,   101.572685,   162.63072 ,\n",
       "          201.0201  ,   264.8029  ,   224.56027 ,   272.01953 ,\n",
       "          270.29242 ,   256.51645 ,   352.28027 ,   168.10365 ,\n",
       "          204.05482 ,   480.67465 ,   525.03503 ,   594.57324 ,\n",
       "          526.1917  ,   457.04938 ,   262.73758 ,   144.79395 ,\n",
       "          258.14914 ,    51.223774,   132.0293  ,   351.5145  ,\n",
       "          394.79883 ,   410.85953 ,   408.8732  ,   468.56027 ,\n",
       "          318.10226 ,   202.46875 ,   205.71443 ,   278.56137 ,\n",
       "          327.91168 ,   376.61996 ,   532.0773  ,   436.53754 ,\n",
       "          284.52817 ,   111.96205 ,   191.00586 ,   353.6557  ,\n",
       "          285.64703 ,   393.99066 ,   543.9669  ,   714.7358  ,\n",
       "          899.8393  ,  1069.5343  ,   973.7935  ,  1042.8715  ,\n",
       "          228.06236 ,   229.93178 ,   235.74777 ,   247.93484 ,\n",
       "          252.04422 ,   245.96289 ,   271.34625 ,   178.26633 ,\n",
       "          386.4438  ,   600.01984 ,   645.995   ,   814.3115  ,\n",
       "         1002.2398  ,  1186.497   ,  1077.8522  ,   456.8711  ,\n",
       "          515.08997 ,   427.90332 ,   318.1193  ,   487.2352  ,\n",
       "          590.25555 ,   762.02216 ,   906.44574 ,  1028.2675  ,\n",
       "         1313.592   ,  1595.7631  ,  1405.2333  ,   990.6069  ,\n",
       "          697.7386  ,   379.50586 ,   709.3024  ,   921.8622  ,\n",
       "         1251.5145  ,  1024.9481  ,  1154.5608  ,  1074.2589  ,\n",
       "          818.83734 ,  1328.0365  ,  1323.9395  ,  1134.7068  ,\n",
       "          125.958145,   233.34543 ,   466.09235 ,   862.0151  ,\n",
       "          737.1124  ,   726.68    ,   719.3683  ,   719.9208  ,\n",
       "          512.2129  ,   745.25616 ,  1424.569   ,  2100.8655  ,\n",
       "         2435.601   ,  2969.3054  ,  3111.4626  ,  3311.902   ,\n",
       "         2270.5984  ,   731.22375 ,   422.57562 ,  1071.115   ,\n",
       "         1149.5547  ,  1366.9562  ,  1698.4531  ,  2361.3152  ,\n",
       "         2914.1118  ,  3112.7122  ,  2351.074   ,  2549.2493  ,\n",
       "         2692.468   ,  3220.9458  ,  3115.3972  ,  3892.357   ,\n",
       "         4914.8584  ,  4310.7246  ,  4209.9297  ,  4551.2476  ,\n",
       "         2959.4465  ,  2640.7756  ,  2251.7175  ,  3906.7126  ,\n",
       "         5335.845   ,  4831.4297  ,  1586.653   ,   666.1468  ,\n",
       "          877.4068  ,  2638.524   ,  3092.181   ,  3142.5168  ,\n",
       "         3360.4314  ,  3417.7693  ,  4704.2646  ,  3936.7007  ,\n",
       "         1003.1099  ,  1365.6191  ,  1460.2754  ,  1589.2366  ,\n",
       "         1435.1484  ,  1993.5165  ,  3679.4363  ,  2910.6602  ,\n",
       "         2305.4153  ,  2589.611   ,  3129.7778  ,  4637.2163  ,\n",
       "         4810.1807  ,  4200.585   ,  5467.19    ,  6043.182   ,\n",
       "         6103.939   ,  7078.4478  ,  3227.6646  ,  1568.3303  ,\n",
       "         2545.1992  ,  1463.2461  ,  2630.3599  ,  2750.9934  ,\n",
       "         3200.629   ,  3462.5708  ,  3267.8315  ,  2631.5586  ,\n",
       "         3144.4019  ,  5349.9766  ,  7384.868   ,  9694.2295  ,\n",
       "        10260.768   ,  5430.8804  ,  3299.0286  ,  2432.154   ,\n",
       "         1909.3147  ,  2020.8873  ,  3535.4888  ,  2159.7769  ,\n",
       "         3724.692   ,  2728.582   ,  4121.2046  ,  4954.855   ,\n",
       "         6327.0205  ,  6331.2505  ,  6087.6353  ,  3663.5613  ,\n",
       "         1898.7595  ,  1500.8398  ,  1356.466   ,  2817.3918  ,\n",
       "         3096.193   ,  1298.7355  ,  1219.7494  ,  3121.0642  ,\n",
       "         3899.3052  ,  4974.081   ,  5643.641   ,  5608.892   ,\n",
       "         2939.428   ,  2006.947   ,  2519.096   ,  4485.496   ,\n",
       "         3225.8047  ,  2178.9353  ,  1964.2059  ,  1181.4303  ,\n",
       "          791.6133  ,   938.4492  ,  1359.5017  ,  1758.3561  ,\n",
       "         1212.5636  ,  1365.2578  ,  1324.0072  ,  1733.5262  ,\n",
       "         2086.399   ,  2633.2517  ,  2722.2612  ,  2027.0413  ,\n",
       "         1810.6439  ,  2419.115   ,  3891.1077  ,  5509.3564  ,\n",
       "         8456.569   ,  9135.928   ,  8768.808   ,  6979.1553  ,\n",
       "         5525.4204  ,  4957.4927  ,  3506.9202  ,  1921.0267  ,\n",
       "         2817.819   ,  3886.7722  ,  5213.4956  ,  3537.3152  ,\n",
       "         1385.3694  ,  1445.0452  ,  1829.8811  ,  1206.2952  ,\n",
       "         2242.6401  ,  1311.0916  ,  1751.1122  ,  1233.6686  ,\n",
       "         1479.8967  ,  2327.6028  ,  3705.702   ,  6524.1025  ,\n",
       "         7479.1704  ,  8921.434   ], dtype=float32),\n",
       " 'mse': array([7.93838281e+04, 1.76886531e+05, 1.86500172e+05, 2.25264609e+05,\n",
       "        2.19159594e+05, 1.74590953e+05, 1.46572016e+05, 1.90606406e+05,\n",
       "        1.60604703e+05, 1.10960898e+05, 3.67155703e+04, 1.50004531e+05,\n",
       "        1.82907090e+04, 1.30924346e+04, 1.82125723e+04, 3.88505977e+04,\n",
       "        4.50937930e+04, 1.58806494e+04, 2.02369863e+04, 1.95682656e+04,\n",
       "        2.97269023e+04, 2.13535059e+04, 7.28022344e+04, 1.09228820e+05,\n",
       "        7.09116406e+04, 1.00179086e+05, 1.70926484e+05, 3.68465438e+05,\n",
       "        2.72199281e+05, 2.25393750e+05, 2.72506781e+05, 1.07753250e+05,\n",
       "        8.28833672e+04, 1.12988383e+05, 1.84854953e+05, 1.92942172e+05,\n",
       "        2.84659281e+05, 2.16964344e+05, 2.18124656e+05, 2.69541152e+04,\n",
       "        3.46744844e+04, 1.00020195e+05, 2.89310562e+05, 3.80369562e+05,\n",
       "        2.05292281e+05, 1.96512391e+05, 1.65758750e+05, 1.59756078e+05,\n",
       "        2.19647625e+05, 2.44314172e+05, 5.81974938e+05, 5.12390219e+05,\n",
       "        2.72936781e+05, 6.26196875e+04, 3.53130938e+04, 8.27864297e+04,\n",
       "        8.43506328e+04, 7.96093672e+04, 1.05295961e+05, 1.55182984e+05,\n",
       "        2.98881531e+05, 2.47242969e+05, 1.63904031e+05, 1.00027805e+05,\n",
       "        4.60952422e+04, 7.34064141e+04, 9.12387422e+04, 1.34596172e+05,\n",
       "        3.98874656e+05, 4.80595094e+05, 7.27930125e+05, 4.10986469e+05,\n",
       "        2.49611500e+05, 6.51679648e+04, 2.16342422e+05, 2.78859906e+05,\n",
       "        2.79640938e+05, 4.63202562e+05, 6.31942438e+05, 1.23107562e+06,\n",
       "        1.10717062e+06, 9.48858312e+05, 2.17956391e+05, 3.99122461e+04,\n",
       "        6.82793672e+04, 8.18325078e+04, 1.09504859e+05, 2.09525641e+05,\n",
       "        4.05258062e+05, 4.51467500e+05, 2.46402350e+06, 4.35156350e+06,\n",
       "        6.00855600e+06, 5.91984000e+06, 5.88468900e+06, 6.41179500e+06,\n",
       "        6.62027550e+06, 1.70290800e+06, 5.67316625e+05, 1.93142266e+05,\n",
       "        2.99872781e+05, 5.59263500e+05, 5.16359031e+05, 4.03192219e+05,\n",
       "        1.55790375e+05, 9.41505547e+04, 1.52219391e+05, 1.26127859e+05,\n",
       "        1.10040500e+05, 9.53854219e+04, 2.28485156e+05, 2.08620266e+05,\n",
       "        2.71105844e+05, 1.86282281e+05, 6.28527875e+05, 3.86097469e+05,\n",
       "        2.41748766e+05, 4.22304781e+05, 1.88556359e+05, 8.31212344e+04,\n",
       "        1.11046961e+05, 1.47425656e+05, 1.38618625e+05, 2.35570781e+05,\n",
       "        4.34344594e+05, 7.55412500e+05, 8.44427500e+04, 2.81649531e+04,\n",
       "        5.62295820e+04, 4.34539336e+04, 5.35281914e+04, 1.26325555e+05,\n",
       "        7.00352500e+04, 9.46971172e+04, 8.52456797e+04, 9.74988516e+04,\n",
       "        1.50714891e+05, 2.96670812e+05, 5.63820875e+05, 5.49246562e+05,\n",
       "        6.14755875e+05, 6.96324562e+05, 8.58199188e+05, 9.81579375e+05,\n",
       "        9.28672125e+05, 2.07979281e+05, 2.85411125e+05, 2.78521188e+05,\n",
       "        1.95334203e+05, 1.60202078e+05, 2.73085594e+05, 2.67747812e+05,\n",
       "        2.95918969e+05, 7.81165312e+05, 1.09357388e+06, 1.08743238e+06,\n",
       "        1.47224844e+05, 2.25076031e+05, 4.42122656e+05, 1.18526961e+05,\n",
       "        2.62072988e+04, 3.87585820e+04, 8.94145859e+04, 2.21691734e+05,\n",
       "        4.28697688e+05, 5.98979062e+05, 4.12290562e+05, 1.18652789e+05,\n",
       "        1.14591180e+05, 1.43683125e+05, 1.14924695e+05, 2.56016422e+05,\n",
       "        4.92030594e+05, 4.79754438e+05, 1.51016875e+05, 1.20497375e+05,\n",
       "        8.09996953e+04, 7.39990938e+04, 3.27362594e+05, 7.77037891e+04,\n",
       "        5.18392422e+04, 7.99126172e+04, 4.02426914e+04, 1.49217641e+05,\n",
       "        1.99388281e+05, 2.73168031e+05, 2.62020656e+05, 2.42577719e+05,\n",
       "        8.53181094e+04, 9.28578594e+04, 1.15798258e+05, 3.67743828e+04,\n",
       "        1.06823234e+05, 9.50353750e+04, 1.24298570e+05, 1.08331305e+05,\n",
       "        4.48566328e+04, 8.22103359e+04, 7.44256875e+04, 2.89894969e+05,\n",
       "        2.77340781e+05, 2.68857812e+05, 1.12201766e+05, 1.04269945e+05,\n",
       "        1.30274209e+04, 1.64478242e+04, 3.26338750e+04, 7.12126797e+04,\n",
       "        4.51681211e+04, 4.41379805e+04, 3.23879062e+04, 2.71612051e+04,\n",
       "        1.08889756e+04, 2.50627363e+04, 3.88365820e+04, 1.32517062e+05,\n",
       "        1.15983352e+05, 5.47998047e+04, 5.68872852e+04, 6.72700547e+04,\n",
       "        7.05127031e+04, 5.38486367e+04, 5.66080508e+04, 3.98566562e+04,\n",
       "        3.05626387e+04, 3.87190000e+04, 8.79659453e+04, 5.38265062e+05,\n",
       "        7.48492500e+05, 8.92045500e+05, 1.07502362e+06, 1.27429125e+06,\n",
       "        1.69320688e+06, 1.51953062e+06, 1.84149453e+05, 8.58791719e+04,\n",
       "        5.57683867e+04, 9.80691641e+04, 7.80786406e+04, 2.14860109e+05,\n",
       "        4.95856328e+04, 2.49815781e+04, 3.94333711e+04, 3.76101016e+04,\n",
       "        2.28218750e+05, 1.49624188e+05, 2.19645469e+05, 9.21316328e+04,\n",
       "        1.94051594e+05, 1.17719211e+05, 3.86386875e+04, 8.39776719e+04,\n",
       "        5.56105234e+04, 9.49925781e+04, 9.54964844e+04, 4.90942062e+05,\n",
       "        2.64053562e+05, 1.60410922e+05, 2.31710734e+05, 1.09902086e+05,\n",
       "        1.46785141e+05, 1.09894453e+05, 1.76287359e+05, 5.94863555e+04,\n",
       "        6.46108516e+04, 1.15291023e+05, 2.45998203e+05, 7.93167688e+05,\n",
       "        1.28147312e+06, 1.85962762e+06, 2.76685250e+06, 2.45723450e+06,\n",
       "        1.20203275e+06, 4.53349562e+05, 1.75537090e+04, 3.26291855e+04,\n",
       "        4.98582148e+04, 1.17594258e+05, 8.87340234e+04, 1.31550953e+05,\n",
       "        8.32791953e+04, 8.29506797e+04, 1.51408500e+05, 3.65170352e+04,\n",
       "        4.88114766e+04, 2.78146281e+05, 3.40404938e+05, 4.14062344e+05,\n",
       "        3.04584531e+05, 2.38856891e+05, 8.53636406e+04, 5.06596914e+04,\n",
       "        7.23188594e+04, 3.89794189e+03, 2.42406719e+04, 1.38124469e+05,\n",
       "        1.80080969e+05, 1.93523219e+05, 1.84905203e+05, 2.23396625e+05,\n",
       "        1.27471016e+05, 5.30209297e+04, 8.60850391e+04, 1.21779977e+05,\n",
       "        1.47185719e+05, 2.08510031e+05, 3.33118938e+05, 2.23829578e+05,\n",
       "        1.05841805e+05, 1.95139570e+04, 5.49876602e+04, 1.42948422e+05,\n",
       "        9.94046641e+04, 3.23206406e+05, 5.64633750e+05, 8.93599375e+05,\n",
       "        1.22800288e+06, 1.42618788e+06, 1.09878412e+06, 1.16073325e+06,\n",
       "        1.21633430e+05, 6.13110586e+04, 6.69231484e+04, 8.35716719e+04,\n",
       "        8.38554609e+04, 8.14390469e+04, 7.88475859e+04, 6.10582461e+04,\n",
       "        4.42125406e+05, 8.40129688e+05, 6.86171625e+05, 1.00753312e+06,\n",
       "        1.36352288e+06, 1.58690200e+06, 1.28927800e+06, 3.69944188e+05,\n",
       "        3.33436188e+05, 2.17800500e+05, 1.35769031e+05, 3.96300844e+05,\n",
       "        6.53967188e+05, 1.11847250e+06, 1.26535475e+06, 1.54020062e+06,\n",
       "        2.30800075e+06, 2.94364200e+06, 2.14784775e+06, 1.17119712e+06,\n",
       "        5.82100312e+05, 2.73806938e+05, 8.65400438e+05, 1.44493462e+06,\n",
       "        2.15056825e+06, 1.60911512e+06, 1.98565738e+06, 1.90648300e+06,\n",
       "        8.30739312e+05, 2.03135312e+06, 1.94582512e+06, 1.33541438e+06,\n",
       "        2.52113301e+04, 8.60287656e+04, 2.51861672e+05, 8.21779438e+05,\n",
       "        7.22192625e+05, 6.88647688e+05, 7.30800125e+05, 6.52769375e+05,\n",
       "        4.48733562e+05, 1.24774362e+06, 4.09552275e+06, 7.33987150e+06,\n",
       "        9.27178900e+06, 1.21543150e+07, 1.17681030e+07, 1.15162010e+07,\n",
       "        5.25597600e+06, 6.69643812e+05, 3.02299938e+05, 1.47585488e+06,\n",
       "        1.83502175e+06, 2.88246925e+06, 4.43204650e+06, 7.65565200e+06,\n",
       "        1.06142970e+07, 1.13096530e+07, 9.44234900e+06, 1.16342730e+07,\n",
       "        1.04853330e+07, 1.41470990e+07, 1.56712930e+07, 2.48486980e+07,\n",
       "        3.63840360e+07, 2.85382180e+07, 2.41841740e+07, 2.59390760e+07,\n",
       "        1.23761710e+07, 7.71542700e+06, 8.35225550e+06, 2.12562020e+07,\n",
       "        3.20421180e+07, 2.49495940e+07, 3.22760925e+06, 9.06542812e+05,\n",
       "        9.52654062e+05, 9.67641400e+06, 1.30926970e+07, 1.41795340e+07,\n",
       "        1.52773230e+07, 1.40515740e+07, 2.34456780e+07, 1.66459180e+07,\n",
       "        1.12014888e+06, 2.70656400e+06, 4.33715800e+06, 3.40370650e+06,\n",
       "        2.63879325e+06, 4.79844450e+06, 1.50723520e+07, 1.14376300e+07,\n",
       "        9.34929000e+06, 1.07291360e+07, 1.35030470e+07, 3.05934140e+07,\n",
       "        3.85160960e+07, 3.09732700e+07, 4.37275600e+07, 4.76191160e+07,\n",
       "        4.21047080e+07, 5.20643400e+07, 1.21199220e+07, 3.86683775e+06,\n",
       "        9.42943500e+06, 4.15722775e+06, 1.12695520e+07, 1.24759150e+07,\n",
       "        1.46859680e+07, 1.75274860e+07, 1.35132790e+07, 8.82513300e+06,\n",
       "        1.37558510e+07, 3.96039720e+07, 6.63111280e+07, 1.01297320e+08,\n",
       "        1.07548216e+08, 3.26822760e+07, 1.32841180e+07, 7.63588700e+06,\n",
       "        4.84187850e+06, 6.70897600e+06, 1.40082420e+07, 6.05672900e+06,\n",
       "        1.91179480e+07, 1.18019460e+07, 3.05801120e+07, 3.42497040e+07,\n",
       "        5.19802800e+07, 5.18869440e+07, 4.08706440e+07, 1.56948170e+07,\n",
       "        4.97629050e+06, 2.70043600e+06, 2.28185525e+06, 9.41477000e+06,\n",
       "        1.05124480e+07, 3.54933425e+06, 2.73876825e+06, 1.39583830e+07,\n",
       "        2.14418020e+07, 3.16889800e+07, 3.72515920e+07, 3.33338740e+07,\n",
       "        1.05510430e+07, 5.33729500e+06, 8.80148900e+06, 2.38980780e+07,\n",
       "        1.28404960e+07, 5.97664100e+06, 4.24812500e+06, 1.55894088e+06,\n",
       "        7.78894312e+05, 1.66719888e+06, 2.34223200e+06, 4.65109950e+06,\n",
       "        2.24725600e+06, 2.64091975e+06, 2.44100125e+06, 4.78790050e+06,\n",
       "        7.90917600e+06, 9.81071100e+06, 9.70728000e+06, 6.11700450e+06,\n",
       "        5.71685200e+06, 8.36122350e+06, 2.39236760e+07, 4.09627960e+07,\n",
       "        8.26480400e+07, 9.47697760e+07, 8.49068800e+07, 5.97741560e+07,\n",
       "        3.63739640e+07, 3.06098700e+07, 1.70864460e+07, 6.23559750e+06,\n",
       "        9.93244600e+06, 1.78064100e+07, 2.96740120e+07, 1.52152370e+07,\n",
       "        3.12619000e+06, 2.34432150e+06, 4.11487350e+06, 2.59821875e+06,\n",
       "        6.37826650e+06, 3.51662850e+06, 5.53985750e+06, 2.13497650e+06,\n",
       "        3.48641525e+06, 9.76215300e+06, 2.00609560e+07, 5.51549160e+07,\n",
       "        6.86641440e+07, 9.74931040e+07], dtype=float32),\n",
       " 'rmse': array([  281.75134 ,   420.5788  ,   431.85666 ,   474.62048 ,\n",
       "          468.14484 ,   417.84082 ,   382.84726 ,   436.58493 ,\n",
       "          400.75516 ,   333.10794 ,   191.61308 ,   387.30417 ,\n",
       "          135.24315 ,   114.42217 ,   134.95396 ,   197.10555 ,\n",
       "          212.35298 ,   126.01845 ,   142.25676 ,   139.88661 ,\n",
       "          172.41492 ,   146.12839 ,   269.81888 ,   330.49783 ,\n",
       "          266.2924  ,   316.5108  ,   413.43256 ,   607.01355 ,\n",
       "          521.7272  ,   474.7565  ,   522.0218  ,   328.2579  ,\n",
       "          287.8947  ,   336.13745 ,   429.9476  ,   439.25183 ,\n",
       "          533.53467 ,   465.7943  ,   467.03818 ,   164.17708 ,\n",
       "          186.21086 ,   316.2597  ,   537.876   ,   616.7411  ,\n",
       "          453.09192 ,   443.29718 ,   407.1348  ,   399.69498 ,\n",
       "          468.66577 ,   494.28146 ,   762.8728  ,   715.81433 ,\n",
       "          522.43353 ,   250.23926 ,   187.91779 ,   287.72632 ,\n",
       "          290.4318  ,   282.1513  ,   324.4934  ,   393.9327  ,\n",
       "          546.70056 ,   497.23532 ,   404.85062 ,   316.27173 ,\n",
       "          214.69803 ,   270.9362  ,   302.0575  ,   366.8735  ,\n",
       "          631.56525 ,   693.24963 ,   853.18823 ,   641.0823  ,\n",
       "          499.61136 ,   255.28017 ,   465.12625 ,   528.07184 ,\n",
       "          528.81085 ,   680.58984 ,   794.94806 ,  1109.5385  ,\n",
       "         1052.2218  ,   974.09357 ,   466.858   ,   199.78049 ,\n",
       "          261.3032  ,   286.0638  ,   330.9152  ,   457.7397  ,\n",
       "          636.5988  ,   671.91327 ,  1569.7208  ,  2086.04    ,\n",
       "         2451.2356  ,  2433.072   ,  2425.838   ,  2532.1523  ,\n",
       "         2572.9895  ,  1304.9552  ,   753.2042  ,   439.47952 ,\n",
       "          547.6064  ,   747.83923 ,   718.58124 ,   634.9742  ,\n",
       "          394.70288 ,   306.83963 ,   390.153   ,   355.14484 ,\n",
       "          331.7235  ,   308.8453  ,   478.0012  ,   456.74966 ,\n",
       "          520.6782  ,   431.6043  ,   792.7975  ,   621.36743 ,\n",
       "          491.67953 ,   649.8498  ,   434.23074 ,   288.30753 ,\n",
       "          333.2371  ,   383.9605  ,   372.31522 ,   485.35635 ,\n",
       "          659.0482  ,   869.14465 ,   290.59033 ,   167.82417 ,\n",
       "          237.12778 ,   208.45607 ,   231.3616  ,   355.42307 ,\n",
       "          264.64172 ,   307.72897 ,   291.96863 ,   312.24805 ,\n",
       "          388.22015 ,   544.6749  ,   750.88007 ,   741.1117  ,\n",
       "          784.06366 ,   834.46063 ,   926.3904  ,   990.7469  ,\n",
       "          963.67633 ,   456.04745 ,   534.23883 ,   527.7511  ,\n",
       "          441.96628 ,   400.2525  ,   522.5759  ,   517.44354 ,\n",
       "          543.9843  ,   883.8356  ,  1045.7408  ,  1042.8002  ,\n",
       "          383.6989  ,   474.42178 ,   664.92303 ,   344.27744 ,\n",
       "          161.88669 ,   196.872   ,   299.0227  ,   470.84152 ,\n",
       "          654.75006 ,   773.9374  ,   642.0986  ,   344.46014 ,\n",
       "          338.51318 ,   379.05557 ,   339.00543 ,   505.98065 ,\n",
       "          701.4489  ,   692.64307 ,   388.6089  ,   347.12732 ,\n",
       "          284.60443 ,   272.02774 ,   572.1561  ,   278.754   ,\n",
       "          227.68233 ,   282.6882  ,   200.6058  ,   386.287   ,\n",
       "          446.52914 ,   522.6548  ,   511.87952 ,   492.5218  ,\n",
       "          292.09262 ,   304.72586 ,   340.2914  ,   191.76648 ,\n",
       "          326.83823 ,   308.27808 ,   352.56003 ,   329.1372  ,\n",
       "          211.79384 ,   286.72345 ,   272.81073 ,   538.41895 ,\n",
       "          526.63153 ,   518.515   ,   334.96533 ,   322.90857 ,\n",
       "          114.137726,   128.24907 ,   180.64848 ,   266.85703 ,\n",
       "          212.52792 ,   210.09041 ,   179.9664  ,   164.80656 ,\n",
       "          104.35025 ,   158.31215 ,   197.06999 ,   364.02893 ,\n",
       "          340.5633  ,   234.09358 ,   238.51056 ,   259.36472 ,\n",
       "          265.5423  ,   232.05309 ,   237.92445 ,   199.64131 ,\n",
       "          174.82173 ,   196.77144 ,   296.59055 ,   733.6655  ,\n",
       "          865.1546  ,   944.4816  ,  1036.8335  ,  1128.8451  ,\n",
       "         1301.2328  ,  1232.6924  ,   429.12637 ,   293.05148 ,\n",
       "          236.15332 ,   313.15997 ,   279.42554 ,   463.53006 ,\n",
       "          222.67831 ,   158.05562 ,   198.57837 ,   193.93324 ,\n",
       "          477.72244 ,   386.81284 ,   468.66348 ,   303.53192 ,\n",
       "          440.51288 ,   343.10233 ,   196.56726 ,   289.789   ,\n",
       "          235.81883 ,   308.20865 ,   309.02505 ,   700.67255 ,\n",
       "          513.8614  ,   400.5133  ,   481.3634  ,   331.51483 ,\n",
       "          383.1255  ,   331.50333 ,   419.86588 ,   243.89824 ,\n",
       "          254.18665 ,   339.54532 ,   495.98206 ,   890.5996  ,\n",
       "         1132.0216  ,  1363.6816  ,  1663.3859  ,  1567.5569  ,\n",
       "         1096.3726  ,   673.3124  ,   132.4904  ,   180.6355  ,\n",
       "          223.28952 ,   342.9202  ,   297.88257 ,   362.69952 ,\n",
       "          288.58133 ,   288.0116  ,   389.11246 ,   191.0943  ,\n",
       "          220.9332  ,   527.39575 ,   583.4423  ,   643.47675 ,\n",
       "          551.8918  ,   488.72986 ,   292.17056 ,   225.07709 ,\n",
       "          268.92166 ,    62.4335  ,   155.69417 ,   371.651   ,\n",
       "          424.3595  ,   439.91272 ,   430.00604 ,   472.64853 ,\n",
       "          357.03082 ,   230.26274 ,   293.4025  ,   348.96988 ,\n",
       "          383.64792 ,   456.629   ,   577.16455 ,   473.1063  ,\n",
       "          325.33337 ,   139.69237 ,   234.49448 ,   378.0852  ,\n",
       "          315.28503 ,   568.51245 ,   751.42114 ,   945.30383 ,\n",
       "         1108.153   ,  1194.2311  ,  1048.229   ,  1077.3733  ,\n",
       "          348.75986 ,   247.6107  ,   258.69507 ,   289.08765 ,\n",
       "          289.57806 ,   285.37527 ,   280.79813 ,   247.09967 ,\n",
       "          664.9251  ,   916.5859  ,   828.3548  ,  1003.7595  ,\n",
       "         1167.6998  ,  1259.723   ,  1135.4637  ,   608.23035 ,\n",
       "          577.43933 ,   466.691   ,   368.46848 ,   629.5243  ,\n",
       "          808.6824  ,  1057.5786  ,  1124.8799  ,  1241.0482  ,\n",
       "         1519.2106  ,  1715.7045  ,  1465.5537  ,  1082.2186  ,\n",
       "          762.95496 ,   523.2656  ,   930.26904 ,  1202.0543  ,\n",
       "         1466.4816  ,  1268.509   ,  1409.1335  ,  1380.7545  ,\n",
       "          911.44904 ,  1425.2555  ,  1394.9283  ,  1155.6013  ,\n",
       "          158.78076 ,   293.3066  ,   501.85822 ,   906.5205  ,\n",
       "          849.81915 ,   829.84796 ,   854.86847 ,   807.94147 ,\n",
       "          669.8758  ,  1117.0244  ,  2023.7397  ,  2709.2197  ,\n",
       "         3044.9612  ,  3486.304   ,  3430.4668  ,  3393.553   ,\n",
       "         2292.5916  ,   818.3177  ,   549.8181  ,  1214.8477  ,\n",
       "         1354.6298  ,  1697.7837  ,  2105.2427  ,  2766.8848  ,\n",
       "         3257.959   ,  3362.9827  ,  3072.8406  ,  3410.905   ,\n",
       "         3238.1064  ,  3761.263   ,  3958.6982  ,  4984.8467  ,\n",
       "         6031.918   ,  5342.117   ,  4917.7407  ,  5093.042   ,\n",
       "         3517.9783  ,  2777.6658  ,  2890.0269  ,  4610.445   ,\n",
       "         5660.5757  ,  4994.9565  ,  1796.5548  ,   952.1254  ,\n",
       "          976.04    ,  3110.6936  ,  3618.3833  ,  3765.5723  ,\n",
       "         3908.6216  ,  3748.5427  ,  4842.0737  ,  4079.941   ,\n",
       "         1058.3708  ,  1645.1638  ,  2082.5845  ,  1844.9137  ,\n",
       "         1624.4363  ,  2190.5352  ,  3882.3127  ,  3381.9565  ,\n",
       "         3057.661   ,  3275.536   ,  3674.6492  ,  5531.1313  ,\n",
       "         6206.134   ,  5565.3633  ,  6612.6816  ,  6900.6606  ,\n",
       "         6488.814   ,  7215.562   ,  3481.3677  ,  1966.4276  ,\n",
       "         3070.7385  ,  2038.9281  ,  3357.0154  ,  3532.1262  ,\n",
       "         3832.2275  ,  4186.584   ,  3676.041   ,  2970.7124  ,\n",
       "         3708.8882  ,  6293.169   ,  8143.1646  , 10064.657   ,\n",
       "        10370.546   ,  5716.8413  ,  3644.7383  ,  2763.3108  ,\n",
       "         2200.4268  ,  2590.169   ,  3742.7585  ,  2461.0422  ,\n",
       "         4372.4077  ,  3435.396   ,  5529.9287  ,  5852.3247  ,\n",
       "         7209.735   ,  7203.2593  ,  6393.015   ,  3961.6685  ,\n",
       "         2230.76    ,  1643.3003  ,  1510.581   ,  3068.3499  ,\n",
       "         3242.2905  ,  1883.9677  ,  1654.9224  ,  3736.0918  ,\n",
       "         4630.5293  ,  5629.2964  ,  6103.408   ,  5773.5493  ,\n",
       "         3248.2368  ,  2310.2585  ,  2966.7302  ,  4888.566   ,\n",
       "         3583.3638  ,  2444.7168  ,  2061.098   ,  1248.5756  ,\n",
       "          882.54987 ,  1291.2006  ,  1530.4352  ,  2156.6409  ,\n",
       "         1499.0851  ,  1625.0907  ,  1562.3704  ,  2188.1272  ,\n",
       "         2812.3257  ,  3132.2056  ,  3115.6506  ,  2473.2578  ,\n",
       "         2390.994   ,  2891.5781  ,  4891.1836  ,  6400.2183  ,\n",
       "         9091.097   ,  9734.977   ,  9214.493   ,  7731.3745  ,\n",
       "         6031.083   ,  5532.6187  ,  4133.575   ,  2497.1177  ,\n",
       "         3151.5784  ,  4219.764   ,  5447.3857  ,  3900.6714  ,\n",
       "         1768.1035  ,  1531.1177  ,  2028.5151  ,  1611.899   ,\n",
       "         2525.523   ,  1875.2676  ,  2353.6902  ,  1461.1559  ,\n",
       "         1867.1945  ,  3124.4443  ,  4478.946   ,  7426.6357  ,\n",
       "         8286.383   ,  9873.859   ], dtype=float32),\n",
       " 'mape': array([ 3.3288498 ,  5.5798235 ,  5.914909  ,  6.38201   ,  5.765253  ,\n",
       "         4.825944  ,  4.2988997 ,  5.3712683 ,  4.43267   ,  3.4655447 ,\n",
       "         1.5163733 ,  5.1572876 ,  1.555807  ,  1.3897902 ,  1.5259328 ,\n",
       "         2.0028865 ,  2.615362  ,  1.6344669 ,  1.7586731 ,  1.7481784 ,\n",
       "         1.8959942 ,  1.6423551 ,  2.9273365 ,  3.9617312 ,  3.1849403 ,\n",
       "         3.1024358 ,  3.9217663 ,  6.7061863 ,  5.469398  ,  5.038355  ,\n",
       "         6.2569866 ,  3.7668962 ,  2.1875587 ,  3.4566278 ,  3.799963  ,\n",
       "         4.24316   ,  4.941816  ,  5.0178924 ,  5.190964  ,  1.6361054 ,\n",
       "         1.8174274 ,  3.084389  ,  5.8827515 ,  7.0076084 ,  4.958349  ,\n",
       "         4.4195437 ,  4.252542  ,  4.2041464 ,  4.3312836 ,  4.731797  ,\n",
       "         7.5393624 ,  7.227405  ,  5.411642  ,  2.4607885 ,  1.5585492 ,\n",
       "         2.8332715 ,  2.6938157 ,  2.5320385 ,  2.8746789 ,  3.5365365 ,\n",
       "         5.138869  ,  4.014585  ,  3.2422338 ,  2.7507598 ,  1.8503567 ,\n",
       "         2.1461253 ,  2.6765432 ,  2.733102  ,  5.6174574 ,  6.458746  ,\n",
       "         8.27861   ,  6.228676  ,  4.7449493 ,  2.330826  ,  4.5809216 ,\n",
       "         4.421219  ,  4.1999    ,  6.0155935 ,  7.76879   , 11.804273  ,\n",
       "        11.531056  , 10.996149  ,  5.2762485 ,  2.0116022 ,  2.5617535 ,\n",
       "         2.3612027 ,  3.1304095 ,  3.96383   ,  6.250678  ,  6.9121532 ,\n",
       "        17.192139  , 26.903015  , 34.887363  , 36.590736  , 38.97403   ,\n",
       "        43.6381    , 47.521255  , 23.544893  , 12.683084  ,  6.5133557 ,\n",
       "         7.4061117 , 11.373544  ,  9.895498  ,  9.008337  ,  5.7257223 ,\n",
       "         4.224929  ,  3.9016583 ,  4.5075307 ,  4.579374  ,  3.3198516 ,\n",
       "         5.983228  ,  5.5726953 ,  7.2205553 ,  5.6134844 , 11.186828  ,\n",
       "         8.280173  ,  5.822772  ,  8.403206  ,  4.800405  ,  3.634578  ,\n",
       "         4.0478764 ,  4.454532  ,  4.3643603 ,  6.1696787 ,  8.764185  ,\n",
       "        12.08963   ,  3.3211584 ,  1.9702245 ,  2.8232179 ,  2.6235547 ,\n",
       "         2.5010412 ,  4.4605675 ,  2.8613462 ,  3.687938  ,  3.3769636 ,\n",
       "         3.6844578 ,  4.5909705 ,  6.8301344 ,  7.505078  ,  5.622881  ,\n",
       "         6.3846393 ,  7.2350206 ,  8.850403  , 10.50931   , 10.830713  ,\n",
       "         4.3959165 ,  3.5903096 ,  3.846132  ,  4.2348204 ,  3.682286  ,\n",
       "         5.003527  ,  5.3798923 ,  5.1233945 ,  7.919489  , 10.345182  ,\n",
       "        10.7813    ,  3.6132429 ,  4.6683116 ,  6.748446  ,  3.1843762 ,\n",
       "         1.4951005 ,  1.705307  ,  2.598844  ,  4.445838  ,  6.5726767 ,\n",
       "         8.132692  ,  6.818337  ,  2.9110658 ,  3.4336917 ,  3.5496163 ,\n",
       "         3.3222866 ,  4.196534  ,  6.31534   ,  6.476275  ,  2.842279  ,\n",
       "         2.462084  ,  2.2992148 ,  2.0366821 ,  5.6403136 ,  2.6563737 ,\n",
       "         2.1434057 ,  2.3759093 ,  1.5824841 ,  2.9940577 ,  3.909684  ,\n",
       "         4.977544  ,  4.9423413 ,  5.164441  ,  2.8634984 ,  3.0779731 ,\n",
       "         3.2541864 ,  1.7896786 ,  2.9773912 ,  2.908345  ,  3.6057353 ,\n",
       "         3.2292955 ,  1.9312303 ,  2.6173527 ,  2.684591  ,  5.3926196 ,\n",
       "         5.319475  ,  5.5965304 ,  3.3163574 ,  3.4341936 ,  0.87115896,\n",
       "         0.97290576,  1.6695334 ,  2.3492758 ,  2.1500473 ,  2.090035  ,\n",
       "         1.6056881 ,  1.5406914 ,  0.74718475,  1.4376373 ,  1.9168699 ,\n",
       "         3.8687308 ,  3.5969946 ,  2.4512887 ,  2.4231837 ,  2.6985648 ,\n",
       "         2.7518203 ,  2.1253526 ,  2.3783255 ,  2.0509748 ,  1.7159114 ,\n",
       "         1.9063953 ,  2.5528789 ,  4.6006894 ,  5.2450233 ,  6.0291443 ,\n",
       "         7.285673  ,  8.797348  , 10.537064  , 10.712447  ,  3.0748982 ,\n",
       "         2.0094194 ,  1.982528  ,  2.4386292 ,  2.1399457 ,  3.4984074 ,\n",
       "         1.6063796 ,  1.1905574 ,  1.4541087 ,  1.2560772 ,  3.6622696 ,\n",
       "         2.814715  ,  3.684295  ,  1.7867059 ,  3.4760845 ,  1.7978117 ,\n",
       "         1.2044517 ,  1.6986841 ,  1.5053436 ,  2.3177414 ,  2.184912  ,\n",
       "         5.8036165 ,  4.1059237 ,  3.0997987 ,  3.5569117 ,  2.5609796 ,\n",
       "         2.6430504 ,  2.5743096 ,  3.4053109 ,  1.9976066 ,  1.8271655 ,\n",
       "         2.0470903 ,  3.4249291 ,  5.9625497 ,  9.062435  , 11.663766  ,\n",
       "        15.442146  , 15.062149  , 10.424338  ,  6.4714985 ,  0.99310774,\n",
       "         1.5813258 ,  1.9453909 ,  2.4960902 ,  2.0860765 ,  2.5031896 ,\n",
       "         2.5048275 ,  2.36769   ,  3.218635  ,  1.5438573 ,  1.8930631 ,\n",
       "         4.532701  ,  4.964218  ,  5.6299024 ,  4.984225  ,  4.3353314 ,\n",
       "         2.486675  ,  1.3740025 ,  2.4025846 ,  0.47655195,  1.2354261 ,\n",
       "         3.296936  ,  3.7098997 ,  3.861093  ,  3.8490243 ,  4.4087915 ,\n",
       "         2.9926598 ,  1.8932644 ,  1.861861  ,  2.5079262 ,  2.9242775 ,\n",
       "         3.3090003 ,  4.6676235 ,  3.8097079 ,  2.4770195 ,  0.9731515 ,\n",
       "         1.670409  ,  3.095687  ,  2.4875846 ,  3.219695  ,  4.3368344 ,\n",
       "         5.5656614 ,  6.940238  ,  8.246385  ,  7.4644814 ,  7.900051  ,\n",
       "         1.6967919 ,  1.7426828 ,  1.7728809 ,  1.8558654 ,  1.8529047 ,\n",
       "         1.7966475 ,  1.9953357 ,  1.2841611 ,  2.6103354 ,  3.9621525 ,\n",
       "         4.316703  ,  5.354867  ,  6.5514216 ,  7.7494516 ,  6.9634256 ,\n",
       "         2.8982952 ,  3.3035061 ,  2.6890635 ,  2.0135765 ,  2.9784348 ,\n",
       "         3.4934077 ,  4.400492  ,  5.2019277 ,  5.7952332 ,  7.2648325 ,\n",
       "         8.751033  ,  7.6586843 ,  5.324616  ,  3.7335687 ,  2.1044402 ,\n",
       "         4.0306864 ,  5.2659802 ,  7.1034007 ,  5.8333197 ,  6.56777   ,\n",
       "         6.134207  ,  4.361904  ,  6.979622  ,  6.9236236 ,  5.9169283 ,\n",
       "         0.65778494,  1.2323155 ,  2.4723415 ,  4.602868  ,  3.982744  ,\n",
       "         3.9271586 ,  3.8922918 ,  3.884565  ,  2.7525165 ,  3.7269268 ,\n",
       "         6.7146792 ,  9.6298275 , 10.778674  , 12.938185  , 13.465706  ,\n",
       "        14.283703  ,  9.732616  ,  3.110904  ,  1.7636362 ,  4.4219184 ,\n",
       "         4.6285    ,  5.290643  ,  6.434474  ,  8.716269  , 10.54715   ,\n",
       "        11.071453  ,  7.85053   ,  8.148541  ,  8.592422  ,  9.976297  ,\n",
       "         9.154951  , 10.801302  , 13.112619  , 11.123962  , 10.821242  ,\n",
       "        11.703879  ,  7.5371003 ,  6.907422  ,  6.2885056 , 10.925787  ,\n",
       "        14.873052  , 13.499729  ,  4.430559  ,  1.7803245 ,  2.3891692 ,\n",
       "         7.779456  ,  9.216607  ,  9.580941  , 10.363817  , 10.573715  ,\n",
       "        14.581154  , 12.424306  ,  3.1097674 ,  4.174614  ,  4.309266  ,\n",
       "         4.8125105 ,  4.3264008 ,  5.9040623 , 10.499781  ,  8.088361  ,\n",
       "         6.221475  ,  6.866512  ,  8.171999  , 11.496396  , 11.202278  ,\n",
       "         9.4443865 , 12.062538  , 13.096465  , 13.188696  , 15.023586  ,\n",
       "         6.752707  ,  3.257621  ,  5.1273584 ,  2.8991802 ,  5.0679293 ,\n",
       "         5.140141  ,  5.9167027 ,  6.282184  ,  6.002179  ,  5.0218134 ,\n",
       "         6.2371545 , 11.033303  , 15.401756  , 20.506897  , 21.752422  ,\n",
       "        11.587195  ,  7.05311   ,  5.1824684 ,  3.9144197 ,  4.0924945 ,\n",
       "         7.133802  ,  4.305354  ,  7.2180405 ,  5.1384115 ,  7.421726  ,\n",
       "         8.882029  , 11.046312  , 10.837286  , 10.466298  ,  6.2577596 ,\n",
       "         3.217445  ,  2.5604534 ,  2.3092742 ,  4.8890047 ,  5.3842773 ,\n",
       "         2.315447  ,  2.1871583 ,  5.674321  ,  7.219827  ,  9.246027  ,\n",
       "        10.47126   , 10.391766  ,  5.4427786 ,  3.6912541 ,  4.4016542 ,\n",
       "         7.760489  ,  5.525428  ,  3.732794  ,  3.3580155 ,  2.0145967 ,\n",
       "         1.3595155 ,  1.6345482 ,  2.3570335 ,  3.0587456 ,  2.100252  ,\n",
       "         2.350061  ,  2.280657  ,  2.9076118 ,  3.3735433 ,  4.2354355 ,\n",
       "         4.365738  ,  3.23818   ,  2.987525  ,  4.1026173 ,  6.7639046 ,\n",
       "         9.732144  , 15.234714  , 16.908245  , 16.558086  , 13.614933  ,\n",
       "        10.795936  ,  9.723341  ,  6.9092503 ,  3.7925818 ,  5.233719  ,\n",
       "         7.0734954 ,  9.334288  ,  6.246806  ,  2.451836  ,  2.5704076 ,\n",
       "         3.238727  ,  2.1756957 ,  4.0080366 ,  2.346688  ,  3.161143  ,\n",
       "         2.14287   ,  2.6809323 ,  4.419999  ,  7.125939  , 12.8497305 ,\n",
       "        15.212597  , 18.918776  ], dtype=float32),\n",
       " 'mase': 2.199331}"
      ]
     },
     "execution_count": 64,
     "metadata": {},
     "output_type": "execute_result"
    }
   ],
   "source": [
    "# Evaluate model_3 results\n",
    "model_3_results = evaluate_preds(y_true=tf.squeeze(test_labels),\n",
    "                                 y_pred=model_3_preds)\n",
    "model_3_results"
   ]
  },
  {
   "cell_type": "markdown",
   "id": "eb20aaac",
   "metadata": {},
   "source": [
    "## Make our evaluation function work for larger horizons"
   ]
  },
  {
   "cell_type": "code",
   "execution_count": 65,
   "id": "c1d76057",
   "metadata": {},
   "outputs": [],
   "source": [
    "# Create a function to take in model predictions and truth values and return evaluation metrics\n",
    "def evaluate_preds(y_true, y_pred):\n",
    "    # Make sure float32 datatype (for metric calculation)\n",
    "    y_true = tf.cast(y_true, dtype=tf.float32)\n",
    "    y_pred = tf.cast(y_pred, dtype=tf.float32)\n",
    "\n",
    "    # Calculate various evaluation metrics\n",
    "    mae = tf.keras.metrics.mean_absolute_error(y_true, y_pred)\n",
    "    mse = tf.keras.metrics.mean_squared_error(y_true, y_pred)\n",
    "    rmse = tf.sqrt(mse)\n",
    "    mape = tf.keras.metrics.mean_absolute_percentage_error(y_true, y_pred)\n",
    "    mase = mean_absolute_scaled_error(y_true, y_pred)\n",
    "\n",
    "    # Account for different sized metrics (for longer horizons, we want to reduce metrics to a single value)\n",
    "    if mae.ndim > 0:\n",
    "        mae = tf.reduce_mean(mae)\n",
    "        mse = tf.reduce_mean(mse)\n",
    "        rmse = tf.reduce_mean(rmse)\n",
    "        mape = tf.reduce_mean(mape)\n",
    "        mase = tf.reduce_mean(mase)\n",
    "\n",
    "    return {\n",
    "        \"mae\": mae.numpy(),\n",
    "        \"mse\": mse.numpy(),\n",
    "        \"rmse\": rmse.numpy(),\n",
    "        \"mape\": mape.numpy(),\n",
    "        \"mase\": mase.numpy()\n",
    "    }"
   ]
  },
  {
   "cell_type": "code",
   "execution_count": 66,
   "id": "379adf2b",
   "metadata": {},
   "outputs": [
    {
     "data": {
      "text/plain": [
       "{'mae': 1286.3143,\n",
       " 'mse': 5714266.5,\n",
       " 'rmse': 1478.3596,\n",
       " 'mape': 5.629533,\n",
       " 'mase': 2.199331}"
      ]
     },
     "execution_count": 66,
     "metadata": {},
     "output_type": "execute_result"
    }
   ],
   "source": [
    "# Get model_3 results aggregated to single values\n",
    "model_3_results = evaluate_preds(y_true=tf.squeeze(test_labels),\n",
    "                                 y_pred=model_3_preds)\n",
    "model_3_results"
   ]
  },
  {
   "cell_type": "markdown",
   "id": "919753cb",
   "metadata": {},
   "source": [
    "We have made and evaluated predictions with `model_3`, let's visualize visualize visualize!"
   ]
  },
  {
   "cell_type": "code",
   "execution_count": 67,
   "id": "58191ef7",
   "metadata": {},
   "outputs": [
    {
     "data": {
      "image/png": "[encoded data removed]",
      "text/plain": [
       "<Figure size 1000x700 with 1 Axes>"
      ]
     },
     "metadata": {},
     "output_type": "display_data"
    }
   ],
   "source": [
    "offset = 300\n",
    "plt.figure(figsize=(10, 7))\n",
    "plot_time_series(timesteps=X_test[-len(test_windows):], values=test_labels[:, 0], start=offset, label='Test Data')\n",
    "plot_time_series(timesteps=X_test[-len(test_windows):], values=tf.reduce_mean(model_3_preds, axis=1), format='-', start=offset, label='model_3_pred')"
   ]
  },
  {
   "cell_type": "markdown",
   "id": "f7318035",
   "metadata": {},
   "source": [
    "## Which of our models is performing the best so far?\n",
    "\n",
    "So we have trained a few models, now let's compare them and see how they have gone..."
   ]
  },
  {
   "cell_type": "code",
   "execution_count": 68,
   "id": "ef3b7b5b",
   "metadata": {},
   "outputs": [
    {
     "data": {
      "text/plain": [
       "<Axes: >"
      ]
     },
     "execution_count": 68,
     "metadata": {},
     "output_type": "execute_result"
    },
    {
     "data": {
      "image/png": "[encoded data removed]",
      "text/plain": [
       "<Figure size 1000x700 with 1 Axes>"
      ]
     },
     "metadata": {},
     "output_type": "display_data"
    }
   ],
   "source": [
    "pd.DataFrame({'naive': naive_results['mae'],\n",
    "              'horizon_1_window_7': model_1_results['mae'],\n",
    "              'horizon_1_window_30': model_2_results['mae'],\n",
    "              'horizon_7_window_30': model_3_results['mae']}, index=['mae']).plot(figsize=(10, 7), kind='bar')"
   ]
  },
  {
   "cell_type": "markdown",
   "id": "485fb523",
   "metadata": {},
   "source": [
    "## Model 4: Conv1D"
   ]
  },
  {
   "cell_type": "code",
   "execution_count": 69,
   "id": "5a19444d",
   "metadata": {},
   "outputs": [],
   "source": [
    "HORIZON = 1 # predict next day of Bitcoin prices\n",
    "WINDOW_SIZE = 7 # use previous week worth data"
   ]
  },
  {
   "cell_type": "code",
   "execution_count": 70,
   "id": "38fa46f3",
   "metadata": {},
   "outputs": [
    {
     "data": {
      "text/plain": [
       "(2780, 2780)"
      ]
     },
     "execution_count": 70,
     "metadata": {},
     "output_type": "execute_result"
    }
   ],
   "source": [
    "# Create windowed data\n",
    "full_windows, full_labels = make_windows(prices, window_size=WINDOW_SIZE, horizon=HORIZON)\n",
    "len(full_windows), len(full_labels)"
   ]
  },
  {
   "cell_type": "code",
   "execution_count": 71,
   "id": "5b7987b0",
   "metadata": {},
   "outputs": [
    {
     "data": {
      "text/plain": [
       "(2229, 2229, 551, 551)"
      ]
     },
     "execution_count": 71,
     "metadata": {},
     "output_type": "execute_result"
    }
   ],
   "source": [
    "# Create train/test sets\n",
    "train_windows, test_windows, train_labels, test_labels = make_train_test_splits(full_windows, full_labels)\n",
    "len(train_windows), len(train_labels), len(test_windows), len(test_labels)"
   ]
  },
  {
   "cell_type": "markdown",
   "id": "9bae52ae",
   "metadata": {},
   "source": [
    "To use the Conv1D layer, we need an input shape of: `(batch_size, timesteps, input_dim)`... However, our data isn't in that shape yet."
   ]
  },
  {
   "cell_type": "code",
   "execution_count": 72,
   "id": "bd72e3eb",
   "metadata": {},
   "outputs": [
    {
     "data": {
      "text/plain": [
       "(7,)"
      ]
     },
     "execution_count": 72,
     "metadata": {},
     "output_type": "execute_result"
    }
   ],
   "source": [
    "# Check data input shape\n",
    "train_windows[0].shape # returns (WINDOW_SIZE, )"
   ]
  },
  {
   "cell_type": "code",
   "execution_count": 73,
   "id": "70cb4513",
   "metadata": {},
   "outputs": [
    {
     "data": {
      "text/plain": [
       "<tf.Tensor: shape=(7,), dtype=float64, numpy=\n",
       "array([123.65499, 125.455  , 108.58483, 118.67466, 121.33866, 120.65533,\n",
       "       121.795  ])>"
      ]
     },
     "execution_count": 73,
     "metadata": {},
     "output_type": "execute_result"
    }
   ],
   "source": [
    "# Before we pass our data to the Conv1D layer, we have to reshape it in order to make sure it works \n",
    "x = tf.constant(train_windows[0])\n",
    "x"
   ]
  },
  {
   "cell_type": "code",
   "execution_count": 74,
   "id": "ba3f47a1",
   "metadata": {},
   "outputs": [],
   "source": [
    "expand_dims_layer = layers.Lambda(lambda x: tf.expand_dims(x, axis=1)) # add an extra dimension to our layer"
   ]
  },
  {
   "cell_type": "code",
   "execution_count": 75,
   "id": "18649f7e",
   "metadata": {},
   "outputs": [
    {
     "name": "stdout",
     "output_type": "stream",
     "text": [
      "Original shape: (7,)\n",
      "Expanded shape: (7, 1)\n",
      "Original values with expanded shape:\n",
      " [[123.65499]\n",
      " [125.455  ]\n",
      " [108.58483]\n",
      " [118.67466]\n",
      " [121.33866]\n",
      " [120.65533]\n",
      " [121.795  ]]\n"
     ]
    }
   ],
   "source": [
    "# Test out our lambda layer\n",
    "print(f'Original shape: {x.shape}') # (WINDOW_SIZE)\n",
    "print(f'Expanded shape: {expand_dims_layer(x).shape}')\n",
    "print(f'Original values with expanded shape:\\n {expand_dims_layer(x)}')"
   ]
  },
  {
   "cell_type": "code",
   "execution_count": 76,
   "id": "5a803a7f",
   "metadata": {},
   "outputs": [
    {
     "name": "stderr",
     "output_type": "stream",
     "text": [
      "WARNING:absl:Found untraced functions such as _jit_compiled_convolution_op while saving (showing 1 of 1). These functions will not be directly callable after loading.\n"
     ]
    },
    {
     "name": "stdout",
     "output_type": "stream",
     "text": [
      "INFO:tensorflow:Assets written to: model_experiments\\model_4_conv1D\\assets\n"
     ]
    },
    {
     "name": "stderr",
     "output_type": "stream",
     "text": [
      "INFO:tensorflow:Assets written to: model_experiments\\model_4_conv1D\\assets\n",
      "WARNING:absl:Found untraced functions such as _jit_compiled_convolution_op while saving (showing 1 of 1). These functions will not be directly callable after loading.\n"
     ]
    },
    {
     "name": "stdout",
     "output_type": "stream",
     "text": [
      "INFO:tensorflow:Assets written to: model_experiments\\model_4_conv1D\\assets\n"
     ]
    },
    {
     "name": "stderr",
     "output_type": "stream",
     "text": [
      "INFO:tensorflow:Assets written to: model_experiments\\model_4_conv1D\\assets\n",
      "WARNING:absl:Found untraced functions such as _jit_compiled_convolution_op while saving (showing 1 of 1). These functions will not be directly callable after loading.\n"
     ]
    },
    {
     "name": "stdout",
     "output_type": "stream",
     "text": [
      "INFO:tensorflow:Assets written to: model_experiments\\model_4_conv1D\\assets\n"
     ]
    },
    {
     "name": "stderr",
     "output_type": "stream",
     "text": [
      "INFO:tensorflow:Assets written to: model_experiments\\model_4_conv1D\\assets\n",
      "WARNING:absl:Found untraced functions such as _jit_compiled_convolution_op while saving (showing 1 of 1). These functions will not be directly callable after loading.\n"
     ]
    },
    {
     "name": "stdout",
     "output_type": "stream",
     "text": [
      "INFO:tensorflow:Assets written to: model_experiments\\model_4_conv1D\\assets\n"
     ]
    },
    {
     "name": "stderr",
     "output_type": "stream",
     "text": [
      "INFO:tensorflow:Assets written to: model_experiments\\model_4_conv1D\\assets\n",
      "WARNING:absl:Found untraced functions such as _jit_compiled_convolution_op while saving (showing 1 of 1). These functions will not be directly callable after loading.\n"
     ]
    },
    {
     "name": "stdout",
     "output_type": "stream",
     "text": [
      "INFO:tensorflow:Assets written to: model_experiments\\model_4_conv1D\\assets\n"
     ]
    },
    {
     "name": "stderr",
     "output_type": "stream",
     "text": [
      "INFO:tensorflow:Assets written to: model_experiments\\model_4_conv1D\\assets\n",
      "WARNING:absl:Found untraced functions such as _jit_compiled_convolution_op while saving (showing 1 of 1). These functions will not be directly callable after loading.\n"
     ]
    },
    {
     "name": "stdout",
     "output_type": "stream",
     "text": [
      "INFO:tensorflow:Assets written to: model_experiments\\model_4_conv1D\\assets\n"
     ]
    },
    {
     "name": "stderr",
     "output_type": "stream",
     "text": [
      "INFO:tensorflow:Assets written to: model_experiments\\model_4_conv1D\\assets\n",
      "WARNING:absl:Found untraced functions such as _jit_compiled_convolution_op while saving (showing 1 of 1). These functions will not be directly callable after loading.\n"
     ]
    },
    {
     "name": "stdout",
     "output_type": "stream",
     "text": [
      "INFO:tensorflow:Assets written to: model_experiments\\model_4_conv1D\\assets\n"
     ]
    },
    {
     "name": "stderr",
     "output_type": "stream",
     "text": [
      "INFO:tensorflow:Assets written to: model_experiments\\model_4_conv1D\\assets\n",
      "WARNING:absl:Found untraced functions such as _jit_compiled_convolution_op while saving (showing 1 of 1). These functions will not be directly callable after loading.\n"
     ]
    },
    {
     "name": "stdout",
     "output_type": "stream",
     "text": [
      "INFO:tensorflow:Assets written to: model_experiments\\model_4_conv1D\\assets\n"
     ]
    },
    {
     "name": "stderr",
     "output_type": "stream",
     "text": [
      "INFO:tensorflow:Assets written to: model_experiments\\model_4_conv1D\\assets\n",
      "WARNING:absl:Found untraced functions such as _jit_compiled_convolution_op while saving (showing 1 of 1). These functions will not be directly callable after loading.\n"
     ]
    },
    {
     "name": "stdout",
     "output_type": "stream",
     "text": [
      "INFO:tensorflow:Assets written to: model_experiments\\model_4_conv1D\\assets\n"
     ]
    },
    {
     "name": "stderr",
     "output_type": "stream",
     "text": [
      "INFO:tensorflow:Assets written to: model_experiments\\model_4_conv1D\\assets\n",
      "WARNING:absl:Found untraced functions such as _jit_compiled_convolution_op while saving (showing 1 of 1). These functions will not be directly callable after loading.\n"
     ]
    },
    {
     "name": "stdout",
     "output_type": "stream",
     "text": [
      "INFO:tensorflow:Assets written to: model_experiments\\model_4_conv1D\\assets\n"
     ]
    },
    {
     "name": "stderr",
     "output_type": "stream",
     "text": [
      "INFO:tensorflow:Assets written to: model_experiments\\model_4_conv1D\\assets\n",
      "WARNING:absl:Found untraced functions such as _jit_compiled_convolution_op while saving (showing 1 of 1). These functions will not be directly callable after loading.\n"
     ]
    },
    {
     "name": "stdout",
     "output_type": "stream",
     "text": [
      "INFO:tensorflow:Assets written to: model_experiments\\model_4_conv1D\\assets\n"
     ]
    },
    {
     "name": "stderr",
     "output_type": "stream",
     "text": [
      "INFO:tensorflow:Assets written to: model_experiments\\model_4_conv1D\\assets\n",
      "WARNING:absl:Found untraced functions such as _jit_compiled_convolution_op while saving (showing 1 of 1). These functions will not be directly callable after loading.\n"
     ]
    },
    {
     "name": "stdout",
     "output_type": "stream",
     "text": [
      "INFO:tensorflow:Assets written to: model_experiments\\model_4_conv1D\\assets\n"
     ]
    },
    {
     "name": "stderr",
     "output_type": "stream",
     "text": [
      "INFO:tensorflow:Assets written to: model_experiments\\model_4_conv1D\\assets\n",
      "WARNING:absl:Found untraced functions such as _jit_compiled_convolution_op while saving (showing 1 of 1). These functions will not be directly callable after loading.\n"
     ]
    },
    {
     "name": "stdout",
     "output_type": "stream",
     "text": [
      "INFO:tensorflow:Assets written to: model_experiments\\model_4_conv1D\\assets\n"
     ]
    },
    {
     "name": "stderr",
     "output_type": "stream",
     "text": [
      "INFO:tensorflow:Assets written to: model_experiments\\model_4_conv1D\\assets\n",
      "WARNING:absl:Found untraced functions such as _jit_compiled_convolution_op while saving (showing 1 of 1). These functions will not be directly callable after loading.\n"
     ]
    },
    {
     "name": "stdout",
     "output_type": "stream",
     "text": [
      "INFO:tensorflow:Assets written to: model_experiments\\model_4_conv1D\\assets\n"
     ]
    },
    {
     "name": "stderr",
     "output_type": "stream",
     "text": [
      "INFO:tensorflow:Assets written to: model_experiments\\model_4_conv1D\\assets\n",
      "WARNING:absl:Found untraced functions such as _jit_compiled_convolution_op while saving (showing 1 of 1). These functions will not be directly callable after loading.\n"
     ]
    },
    {
     "name": "stdout",
     "output_type": "stream",
     "text": [
      "INFO:tensorflow:Assets written to: model_experiments\\model_4_conv1D\\assets\n"
     ]
    },
    {
     "name": "stderr",
     "output_type": "stream",
     "text": [
      "INFO:tensorflow:Assets written to: model_experiments\\model_4_conv1D\\assets\n",
      "WARNING:absl:Found untraced functions such as _jit_compiled_convolution_op while saving (showing 1 of 1). These functions will not be directly callable after loading.\n"
     ]
    },
    {
     "name": "stdout",
     "output_type": "stream",
     "text": [
      "INFO:tensorflow:Assets written to: model_experiments\\model_4_conv1D\\assets\n"
     ]
    },
    {
     "name": "stderr",
     "output_type": "stream",
     "text": [
      "INFO:tensorflow:Assets written to: model_experiments\\model_4_conv1D\\assets\n",
      "WARNING:absl:Found untraced functions such as _jit_compiled_convolution_op while saving (showing 1 of 1). These functions will not be directly callable after loading.\n"
     ]
    },
    {
     "name": "stdout",
     "output_type": "stream",
     "text": [
      "INFO:tensorflow:Assets written to: model_experiments\\model_4_conv1D\\assets\n"
     ]
    },
    {
     "name": "stderr",
     "output_type": "stream",
     "text": [
      "INFO:tensorflow:Assets written to: model_experiments\\model_4_conv1D\\assets\n",
      "WARNING:absl:Found untraced functions such as _jit_compiled_convolution_op while saving (showing 1 of 1). These functions will not be directly callable after loading.\n"
     ]
    },
    {
     "name": "stdout",
     "output_type": "stream",
     "text": [
      "INFO:tensorflow:Assets written to: model_experiments\\model_4_conv1D\\assets\n"
     ]
    },
    {
     "name": "stderr",
     "output_type": "stream",
     "text": [
      "INFO:tensorflow:Assets written to: model_experiments\\model_4_conv1D\\assets\n",
      "WARNING:absl:Found untraced functions such as _jit_compiled_convolution_op while saving (showing 1 of 1). These functions will not be directly callable after loading.\n"
     ]
    },
    {
     "name": "stdout",
     "output_type": "stream",
     "text": [
      "INFO:tensorflow:Assets written to: model_experiments\\model_4_conv1D\\assets\n"
     ]
    },
    {
     "name": "stderr",
     "output_type": "stream",
     "text": [
      "INFO:tensorflow:Assets written to: model_experiments\\model_4_conv1D\\assets\n",
      "WARNING:absl:Found untraced functions such as _jit_compiled_convolution_op while saving (showing 1 of 1). These functions will not be directly callable after loading.\n"
     ]
    },
    {
     "name": "stdout",
     "output_type": "stream",
     "text": [
      "INFO:tensorflow:Assets written to: model_experiments\\model_4_conv1D\\assets\n"
     ]
    },
    {
     "name": "stderr",
     "output_type": "stream",
     "text": [
      "INFO:tensorflow:Assets written to: model_experiments\\model_4_conv1D\\assets\n",
      "WARNING:absl:Found untraced functions such as _jit_compiled_convolution_op while saving (showing 1 of 1). These functions will not be directly callable after loading.\n"
     ]
    },
    {
     "name": "stdout",
     "output_type": "stream",
     "text": [
      "INFO:tensorflow:Assets written to: model_experiments\\model_4_conv1D\\assets\n"
     ]
    },
    {
     "name": "stderr",
     "output_type": "stream",
     "text": [
      "INFO:tensorflow:Assets written to: model_experiments\\model_4_conv1D\\assets\n",
      "WARNING:absl:Found untraced functions such as _jit_compiled_convolution_op while saving (showing 1 of 1). These functions will not be directly callable after loading.\n"
     ]
    },
    {
     "name": "stdout",
     "output_type": "stream",
     "text": [
      "INFO:tensorflow:Assets written to: model_experiments\\model_4_conv1D\\assets\n"
     ]
    },
    {
     "name": "stderr",
     "output_type": "stream",
     "text": [
      "INFO:tensorflow:Assets written to: model_experiments\\model_4_conv1D\\assets\n",
      "WARNING:absl:Found untraced functions such as _jit_compiled_convolution_op while saving (showing 1 of 1). These functions will not be directly callable after loading.\n"
     ]
    },
    {
     "name": "stdout",
     "output_type": "stream",
     "text": [
      "INFO:tensorflow:Assets written to: model_experiments\\model_4_conv1D\\assets\n"
     ]
    },
    {
     "name": "stderr",
     "output_type": "stream",
     "text": [
      "INFO:tensorflow:Assets written to: model_experiments\\model_4_conv1D\\assets\n",
      "WARNING:absl:Found untraced functions such as _jit_compiled_convolution_op while saving (showing 1 of 1). These functions will not be directly callable after loading.\n"
     ]
    },
    {
     "name": "stdout",
     "output_type": "stream",
     "text": [
      "INFO:tensorflow:Assets written to: model_experiments\\model_4_conv1D\\assets\n"
     ]
    },
    {
     "name": "stderr",
     "output_type": "stream",
     "text": [
      "INFO:tensorflow:Assets written to: model_experiments\\model_4_conv1D\\assets\n",
      "WARNING:absl:Found untraced functions such as _jit_compiled_convolution_op while saving (showing 1 of 1). These functions will not be directly callable after loading.\n"
     ]
    },
    {
     "name": "stdout",
     "output_type": "stream",
     "text": [
      "INFO:tensorflow:Assets written to: model_experiments\\model_4_conv1D\\assets\n"
     ]
    },
    {
     "name": "stderr",
     "output_type": "stream",
     "text": [
      "INFO:tensorflow:Assets written to: model_experiments\\model_4_conv1D\\assets\n",
      "WARNING:absl:Found untraced functions such as _jit_compiled_convolution_op while saving (showing 1 of 1). These functions will not be directly callable after loading.\n"
     ]
    },
    {
     "name": "stdout",
     "output_type": "stream",
     "text": [
      "INFO:tensorflow:Assets written to: model_experiments\\model_4_conv1D\\assets\n"
     ]
    },
    {
     "name": "stderr",
     "output_type": "stream",
     "text": [
      "INFO:tensorflow:Assets written to: model_experiments\\model_4_conv1D\\assets\n",
      "WARNING:absl:Found untraced functions such as _jit_compiled_convolution_op while saving (showing 1 of 1). These functions will not be directly callable after loading.\n"
     ]
    },
    {
     "name": "stdout",
     "output_type": "stream",
     "text": [
      "INFO:tensorflow:Assets written to: model_experiments\\model_4_conv1D\\assets\n"
     ]
    },
    {
     "name": "stderr",
     "output_type": "stream",
     "text": [
      "INFO:tensorflow:Assets written to: model_experiments\\model_4_conv1D\\assets\n",
      "WARNING:absl:Found untraced functions such as _jit_compiled_convolution_op while saving (showing 1 of 1). These functions will not be directly callable after loading.\n"
     ]
    },
    {
     "name": "stdout",
     "output_type": "stream",
     "text": [
      "INFO:tensorflow:Assets written to: model_experiments\\model_4_conv1D\\assets\n"
     ]
    },
    {
     "name": "stderr",
     "output_type": "stream",
     "text": [
      "INFO:tensorflow:Assets written to: model_experiments\\model_4_conv1D\\assets\n",
      "WARNING:absl:Found untraced functions such as _jit_compiled_convolution_op while saving (showing 1 of 1). These functions will not be directly callable after loading.\n"
     ]
    },
    {
     "name": "stdout",
     "output_type": "stream",
     "text": [
      "INFO:tensorflow:Assets written to: model_experiments\\model_4_conv1D\\assets\n"
     ]
    },
    {
     "name": "stderr",
     "output_type": "stream",
     "text": [
      "INFO:tensorflow:Assets written to: model_experiments\\model_4_conv1D\\assets\n",
      "WARNING:absl:Found untraced functions such as _jit_compiled_convolution_op while saving (showing 1 of 1). These functions will not be directly callable after loading.\n"
     ]
    },
    {
     "name": "stdout",
     "output_type": "stream",
     "text": [
      "INFO:tensorflow:Assets written to: model_experiments\\model_4_conv1D\\assets\n"
     ]
    },
    {
     "name": "stderr",
     "output_type": "stream",
     "text": [
      "INFO:tensorflow:Assets written to: model_experiments\\model_4_conv1D\\assets\n",
      "WARNING:absl:Found untraced functions such as _jit_compiled_convolution_op while saving (showing 1 of 1). These functions will not be directly callable after loading.\n"
     ]
    },
    {
     "name": "stdout",
     "output_type": "stream",
     "text": [
      "INFO:tensorflow:Assets written to: model_experiments\\model_4_conv1D\\assets\n"
     ]
    },
    {
     "name": "stderr",
     "output_type": "stream",
     "text": [
      "INFO:tensorflow:Assets written to: model_experiments\\model_4_conv1D\\assets\n",
      "WARNING:absl:Found untraced functions such as _jit_compiled_convolution_op while saving (showing 1 of 1). These functions will not be directly callable after loading.\n"
     ]
    },
    {
     "name": "stdout",
     "output_type": "stream",
     "text": [
      "INFO:tensorflow:Assets written to: model_experiments\\model_4_conv1D\\assets\n"
     ]
    },
    {
     "name": "stderr",
     "output_type": "stream",
     "text": [
      "INFO:tensorflow:Assets written to: model_experiments\\model_4_conv1D\\assets\n",
      "WARNING:absl:Found untraced functions such as _jit_compiled_convolution_op while saving (showing 1 of 1). These functions will not be directly callable after loading.\n"
     ]
    },
    {
     "name": "stdout",
     "output_type": "stream",
     "text": [
      "INFO:tensorflow:Assets written to: model_experiments\\model_4_conv1D\\assets\n"
     ]
    },
    {
     "name": "stderr",
     "output_type": "stream",
     "text": [
      "INFO:tensorflow:Assets written to: model_experiments\\model_4_conv1D\\assets\n",
      "WARNING:absl:Found untraced functions such as _jit_compiled_convolution_op while saving (showing 1 of 1). These functions will not be directly callable after loading.\n"
     ]
    },
    {
     "name": "stdout",
     "output_type": "stream",
     "text": [
      "INFO:tensorflow:Assets written to: model_experiments\\model_4_conv1D\\assets\n"
     ]
    },
    {
     "name": "stderr",
     "output_type": "stream",
     "text": [
      "INFO:tensorflow:Assets written to: model_experiments\\model_4_conv1D\\assets\n",
      "WARNING:absl:Found untraced functions such as _jit_compiled_convolution_op while saving (showing 1 of 1). These functions will not be directly callable after loading.\n"
     ]
    },
    {
     "name": "stdout",
     "output_type": "stream",
     "text": [
      "INFO:tensorflow:Assets written to: model_experiments\\model_4_conv1D\\assets\n"
     ]
    },
    {
     "name": "stderr",
     "output_type": "stream",
     "text": [
      "INFO:tensorflow:Assets written to: model_experiments\\model_4_conv1D\\assets\n",
      "WARNING:absl:Found untraced functions such as _jit_compiled_convolution_op while saving (showing 1 of 1). These functions will not be directly callable after loading.\n"
     ]
    },
    {
     "name": "stdout",
     "output_type": "stream",
     "text": [
      "INFO:tensorflow:Assets written to: model_experiments\\model_4_conv1D\\assets\n"
     ]
    },
    {
     "name": "stderr",
     "output_type": "stream",
     "text": [
      "INFO:tensorflow:Assets written to: model_experiments\\model_4_conv1D\\assets\n"
     ]
    },
    {
     "data": {
      "text/plain": [
       "<keras.callbacks.History at 0x28ba2ef5420>"
      ]
     },
     "execution_count": 76,
     "metadata": {},
     "output_type": "execute_result"
    }
   ],
   "source": [
    "tf.random.set_seed(42)\n",
    "\n",
    "# Create Conv1D model\n",
    "model_4 = tf.keras.Sequential([\n",
    "    layers.Lambda(lambda x: tf.expand_dims(x, axis=1)),\n",
    "    layers.Conv1D(filters=128, kernel_size=5, strides=1, padding='causal', activation='relu'),\n",
    "    layers.Dense(HORIZON)\n",
    "], name='model_4_conv1D')\n",
    "\n",
    "# Compile model\n",
    "model_4.compile(loss='mae',\n",
    "                optimizer=tf.keras.optimizers.Adam())\n",
    "\n",
    "# Fit model\n",
    "model_4.fit(train_windows,\n",
    "            train_labels,\n",
    "            batch_size=128,\n",
    "            epochs=100,\n",
    "            verbose=0,\n",
    "            validation_data=(test_windows, test_labels),\n",
    "            callbacks=[create_model_checkpoint(model_name=model_4.name)])"
   ]
  },
  {
   "cell_type": "code",
   "execution_count": 77,
   "id": "04870920",
   "metadata": {},
   "outputs": [
    {
     "name": "stdout",
     "output_type": "stream",
     "text": [
      "Model: \"model_4_conv1D\"\n",
      "_________________________________________________________________\n",
      " Layer (type)                Output Shape              Param #   \n",
      "=================================================================\n",
      " lambda_1 (Lambda)           (None, 1, 7)              0         \n",
      "                                                                 \n",
      " conv1d (Conv1D)             (None, 1, 128)            4608      \n",
      "                                                                 \n",
      " dense_6 (Dense)             (None, 1, 1)              129       \n",
      "                                                                 \n",
      "=================================================================\n",
      "Total params: 4,737\n",
      "Trainable params: 4,737\n",
      "Non-trainable params: 0\n",
      "_________________________________________________________________\n"
     ]
    }
   ],
   "source": [
    "model_4.summary()"
   ]
  },
  {
   "cell_type": "code",
   "execution_count": 78,
   "id": "f7fcad34",
   "metadata": {},
   "outputs": [
    {
     "name": "stdout",
     "output_type": "stream",
     "text": [
      "18/18 [==============================] - 0s 4ms/step - loss: 749.0100\n"
     ]
    },
    {
     "data": {
      "text/plain": [
       "749.010009765625"
      ]
     },
     "execution_count": 78,
     "metadata": {},
     "output_type": "execute_result"
    }
   ],
   "source": [
    "# Evaluate model\n",
    "model_4.evaluate(test_windows, test_labels)"
   ]
  },
  {
   "cell_type": "code",
   "execution_count": 79,
   "id": "9315ab0d",
   "metadata": {},
   "outputs": [
    {
     "name": "stdout",
     "output_type": "stream",
     "text": [
      "18/18 [==============================] - 0s 4ms/step - loss: 584.0257\n"
     ]
    },
    {
     "data": {
      "text/plain": [
       "584.0256958007812"
      ]
     },
     "execution_count": 79,
     "metadata": {},
     "output_type": "execute_result"
    }
   ],
   "source": [
    "# Load back in best performing Conv1D and re-evaluate\n",
    "model_4 = tf.keras.models.load_model('model_experiments/model_4_conv1D')\n",
    "model_4.evaluate(test_windows, test_labels)"
   ]
  },
  {
   "cell_type": "code",
   "execution_count": 80,
   "id": "33cdffb2",
   "metadata": {},
   "outputs": [
    {
     "name": "stdout",
     "output_type": "stream",
     "text": [
      "18/18 [==============================] - 0s 4ms/step\n"
     ]
    },
    {
     "data": {
      "text/plain": [
       "<tf.Tensor: shape=(5,), dtype=float32, numpy=array([8751.066, 8689.482, 8512.373, 8479.391, 8506.349], dtype=float32)>"
      ]
     },
     "execution_count": 80,
     "metadata": {},
     "output_type": "execute_result"
    }
   ],
   "source": [
    "# Make predictions\n",
    "model_4_preds = make_preds(model_4, test_windows)\n",
    "model_4_preds[:5]"
   ]
  },
  {
   "cell_type": "code",
   "execution_count": 81,
   "id": "c6126ee6",
   "metadata": {},
   "outputs": [
    {
     "data": {
      "text/plain": [
       "{'mae': 584.0257,\n",
       " 'mse': 1220554.8,\n",
       " 'rmse': 1104.7872,\n",
       " 'mape': 2.6023712,\n",
       " 'mase': 1.0193292}"
      ]
     },
     "execution_count": 81,
     "metadata": {},
     "output_type": "execute_result"
    }
   ],
   "source": [
    "# Evaluate predictions\n",
    "model_4_results = evaluate_preds(y_true=tf.squeeze(test_labels),\n",
    "                                 y_pred=model_4_preds)\n",
    "model_4_results"
   ]
  },
  {
   "cell_type": "code",
   "execution_count": 82,
   "id": "d4aaf90b",
   "metadata": {},
   "outputs": [
    {
     "data": {
      "text/plain": [
       "{'mae': 569.51855,\n",
       " 'mse': 1165525.6,\n",
       " 'rmse': 1079.5951,\n",
       " 'mape': 2.5527081,\n",
       " 'mase': 0.9940091}"
      ]
     },
     "execution_count": 82,
     "metadata": {},
     "output_type": "execute_result"
    }
   ],
   "source": [
    "model_1_results"
   ]
  },
  {
   "cell_type": "markdown",
   "id": "a35ec103",
   "metadata": {},
   "source": [
    "## Model 5: RNN (LSTM)\n",
    "\n",
    "Let's build an RNN model for our time series data."
   ]
  },
  {
   "cell_type": "code",
   "execution_count": 83,
   "id": "1b1b5dcc",
   "metadata": {},
   "outputs": [
    {
     "name": "stdout",
     "output_type": "stream",
     "text": [
      "WARNING:tensorflow:Layer lstm will not use cuDNN kernels since it doesn't meet the criteria. It will use a generic GPU kernel as fallback when running on GPU.\n"
     ]
    },
    {
     "name": "stderr",
     "output_type": "stream",
     "text": [
      "WARNING:tensorflow:Layer lstm will not use cuDNN kernels since it doesn't meet the criteria. It will use a generic GPU kernel as fallback when running on GPU.\n"
     ]
    },
    {
     "name": "stdout",
     "output_type": "stream",
     "text": [
      "Epoch 1/100\n",
      "18/18 [==============================] - ETA: 0s - loss: 2859.2253INFO:tensorflow:Assets written to: model_experiments\\model_5_LSTM\\assets\n"
     ]
    },
    {
     "name": "stderr",
     "output_type": "stream",
     "text": [
      "INFO:tensorflow:Assets written to: model_experiments\\model_5_LSTM\\assets\n"
     ]
    },
    {
     "name": "stdout",
     "output_type": "stream",
     "text": [
      "18/18 [==============================] - 6s 221ms/step - loss: 2859.2253 - val_loss: 13659.0283\n",
      "Epoch 2/100\n",
      "16/18 [=========================>....] - ETA: 0s - loss: 1732.3408INFO:tensorflow:Assets written to: model_experiments\\model_5_LSTM\\assets\n"
     ]
    },
    {
     "name": "stderr",
     "output_type": "stream",
     "text": [
      "INFO:tensorflow:Assets written to: model_experiments\\model_5_LSTM\\assets\n"
     ]
    },
    {
     "name": "stdout",
     "output_type": "stream",
     "text": [
      "18/18 [==============================] - 3s 182ms/step - loss: 1670.1416 - val_loss: 6299.5088\n",
      "Epoch 3/100\n",
      "15/18 [========================>.....] - ETA: 0s - loss: 476.6322INFO:tensorflow:Assets written to: model_experiments\\model_5_LSTM\\assets\n"
     ]
    },
    {
     "name": "stderr",
     "output_type": "stream",
     "text": [
      "INFO:tensorflow:Assets written to: model_experiments\\model_5_LSTM\\assets\n"
     ]
    },
    {
     "name": "stdout",
     "output_type": "stream",
     "text": [
      "18/18 [==============================] - 3s 198ms/step - loss: 448.7393 - val_loss: 1540.3462\n",
      "Epoch 4/100\n",
      "15/18 [========================>.....] - ETA: 0s - loss: 228.6704INFO:tensorflow:Assets written to: model_experiments\\model_5_LSTM\\assets\n"
     ]
    },
    {
     "name": "stderr",
     "output_type": "stream",
     "text": [
      "INFO:tensorflow:Assets written to: model_experiments\\model_5_LSTM\\assets\n"
     ]
    },
    {
     "name": "stdout",
     "output_type": "stream",
     "text": [
      "18/18 [==============================] - 3s 179ms/step - loss: 222.8387 - val_loss: 1293.1372\n",
      "Epoch 5/100\n",
      "18/18 [==============================] - ETA: 0s - loss: 184.9345INFO:tensorflow:Assets written to: model_experiments\\model_5_LSTM\\assets\n"
     ]
    },
    {
     "name": "stderr",
     "output_type": "stream",
     "text": [
      "INFO:tensorflow:Assets written to: model_experiments\\model_5_LSTM\\assets\n"
     ]
    },
    {
     "name": "stdout",
     "output_type": "stream",
     "text": [
      "18/18 [==============================] - 3s 203ms/step - loss: 184.9345 - val_loss: 1026.6953\n",
      "Epoch 6/100\n",
      "15/18 [========================>.....] - ETA: 0s - loss: 183.5115INFO:tensorflow:Assets written to: model_experiments\\model_5_LSTM\\assets\n"
     ]
    },
    {
     "name": "stderr",
     "output_type": "stream",
     "text": [
      "INFO:tensorflow:Assets written to: model_experiments\\model_5_LSTM\\assets\n"
     ]
    },
    {
     "name": "stdout",
     "output_type": "stream",
     "text": [
      "18/18 [==============================] - 3s 184ms/step - loss: 182.6454 - val_loss: 1021.0405\n",
      "Epoch 7/100\n",
      "18/18 [==============================] - 0s 16ms/step - loss: 181.7798 - val_loss: 1053.9866\n",
      "Epoch 8/100\n",
      "18/18 [==============================] - 0s 18ms/step - loss: 180.0066 - val_loss: 1053.2771\n",
      "Epoch 9/100\n",
      "18/18 [==============================] - 0s 15ms/step - loss: 179.3973 - val_loss: 1042.8820\n",
      "Epoch 10/100\n",
      "14/18 [======================>.......] - ETA: 0s - loss: 176.6755INFO:tensorflow:Assets written to: model_experiments\\model_5_LSTM\\assets\n"
     ]
    },
    {
     "name": "stderr",
     "output_type": "stream",
     "text": [
      "INFO:tensorflow:Assets written to: model_experiments\\model_5_LSTM\\assets\n"
     ]
    },
    {
     "name": "stdout",
     "output_type": "stream",
     "text": [
      "18/18 [==============================] - 3s 194ms/step - loss: 177.7372 - val_loss: 964.8859\n",
      "Epoch 11/100\n",
      "15/18 [========================>.....] - ETA: 0s - loss: 158.5858INFO:tensorflow:Assets written to: model_experiments\\model_5_LSTM\\assets\n"
     ]
    },
    {
     "name": "stderr",
     "output_type": "stream",
     "text": [
      "INFO:tensorflow:Assets written to: model_experiments\\model_5_LSTM\\assets\n"
     ]
    },
    {
     "name": "stdout",
     "output_type": "stream",
     "text": [
      "18/18 [==============================] - 3s 183ms/step - loss: 161.9432 - val_loss: 881.8638\n",
      "Epoch 12/100\n",
      "18/18 [==============================] - 0s 18ms/step - loss: 174.0102 - val_loss: 1001.3437\n",
      "Epoch 13/100\n",
      "18/18 [==============================] - 0s 15ms/step - loss: 175.4433 - val_loss: 1004.5197\n",
      "Epoch 14/100\n",
      "18/18 [==============================] - 0s 15ms/step - loss: 175.0487 - val_loss: 981.4695\n",
      "Epoch 15/100\n",
      "18/18 [==============================] - 0s 15ms/step - loss: 173.5135 - val_loss: 981.4567\n",
      "Epoch 16/100\n",
      "18/18 [==============================] - 0s 16ms/step - loss: 173.0437 - val_loss: 971.8581\n",
      "Epoch 17/100\n",
      "18/18 [==============================] - 0s 19ms/step - loss: 171.1867 - val_loss: 958.6099\n",
      "Epoch 18/100\n",
      "18/18 [==============================] - 0s 19ms/step - loss: 171.6445 - val_loss: 961.2538\n",
      "Epoch 19/100\n",
      "18/18 [==============================] - 0s 14ms/step - loss: 168.4481 - val_loss: 988.7726\n",
      "Epoch 20/100\n",
      "18/18 [==============================] - 0s 15ms/step - loss: 166.8180 - val_loss: 937.8811\n",
      "Epoch 21/100\n",
      "18/18 [==============================] - 0s 16ms/step - loss: 168.6310 - val_loss: 936.0141\n",
      "Epoch 22/100\n",
      "18/18 [==============================] - 0s 17ms/step - loss: 166.9416 - val_loss: 947.1323\n",
      "Epoch 23/100\n",
      "18/18 [==============================] - 0s 16ms/step - loss: 163.4507 - val_loss: 958.0126\n",
      "Epoch 24/100\n",
      "18/18 [==============================] - 0s 15ms/step - loss: 159.9048 - val_loss: 979.5336\n",
      "Epoch 25/100\n",
      "18/18 [==============================] - 0s 16ms/step - loss: 159.1698 - val_loss: 882.6992\n",
      "Epoch 26/100\n",
      "16/18 [=========================>....] - ETA: 0s - loss: 158.9161INFO:tensorflow:Assets written to: model_experiments\\model_5_LSTM\\assets\n"
     ]
    },
    {
     "name": "stderr",
     "output_type": "stream",
     "text": [
      "INFO:tensorflow:Assets written to: model_experiments\\model_5_LSTM\\assets\n"
     ]
    },
    {
     "name": "stdout",
     "output_type": "stream",
     "text": [
      "18/18 [==============================] - 4s 206ms/step - loss: 156.9328 - val_loss: 870.3063\n",
      "Epoch 27/100\n",
      "18/18 [==============================] - 0s 15ms/step - loss: 155.6175 - val_loss: 984.3668\n",
      "Epoch 28/100\n",
      "18/18 [==============================] - 0s 16ms/step - loss: 153.5938 - val_loss: 882.9174\n",
      "Epoch 29/100\n",
      "18/18 [==============================] - 0s 18ms/step - loss: 150.4056 - val_loss: 895.5128\n",
      "Epoch 30/100\n",
      "17/18 [===========================>..] - ETA: 0s - loss: 149.3554INFO:tensorflow:Assets written to: model_experiments\\model_5_LSTM\\assets\n"
     ]
    },
    {
     "name": "stderr",
     "output_type": "stream",
     "text": [
      "INFO:tensorflow:Assets written to: model_experiments\\model_5_LSTM\\assets\n"
     ]
    },
    {
     "name": "stdout",
     "output_type": "stream",
     "text": [
      "18/18 [==============================] - 3s 179ms/step - loss: 149.2368 - val_loss: 870.2266\n",
      "Epoch 31/100\n",
      "11/18 [=================>............] - ETA: 0s - loss: 155.8830INFO:tensorflow:Assets written to: model_experiments\\model_5_LSTM\\assets\n"
     ]
    },
    {
     "name": "stderr",
     "output_type": "stream",
     "text": [
      "INFO:tensorflow:Assets written to: model_experiments\\model_5_LSTM\\assets\n"
     ]
    },
    {
     "name": "stdout",
     "output_type": "stream",
     "text": [
      "18/18 [==============================] - 3s 171ms/step - loss: 147.0536 - val_loss: 829.6015\n",
      "Epoch 32/100\n",
      "16/18 [=========================>....] - ETA: 0s - loss: 147.4702INFO:tensorflow:Assets written to: model_experiments\\model_5_LSTM\\assets\n"
     ]
    },
    {
     "name": "stderr",
     "output_type": "stream",
     "text": [
      "INFO:tensorflow:Assets written to: model_experiments\\model_5_LSTM\\assets\n"
     ]
    },
    {
     "name": "stdout",
     "output_type": "stream",
     "text": [
      "18/18 [==============================] - 3s 174ms/step - loss: 146.7583 - val_loss: 809.9799\n",
      "Epoch 33/100\n",
      "18/18 [==============================] - 0s 19ms/step - loss: 145.9000 - val_loss: 862.1931\n",
      "Epoch 34/100\n",
      "15/18 [========================>.....] - ETA: 0s - loss: 142.4591INFO:tensorflow:Assets written to: model_experiments\\model_5_LSTM\\assets\n"
     ]
    },
    {
     "name": "stderr",
     "output_type": "stream",
     "text": [
      "INFO:tensorflow:Assets written to: model_experiments\\model_5_LSTM\\assets\n"
     ]
    },
    {
     "name": "stdout",
     "output_type": "stream",
     "text": [
      "18/18 [==============================] - 3s 192ms/step - loss: 142.6438 - val_loss: 785.7659\n",
      "Epoch 35/100\n",
      "18/18 [==============================] - 0s 15ms/step - loss: 140.4740 - val_loss: 805.0469\n",
      "Epoch 36/100\n",
      "16/18 [=========================>....] - ETA: 0s - loss: 140.1890INFO:tensorflow:Assets written to: model_experiments\\model_5_LSTM\\assets\n"
     ]
    },
    {
     "name": "stderr",
     "output_type": "stream",
     "text": [
      "INFO:tensorflow:Assets written to: model_experiments\\model_5_LSTM\\assets\n"
     ]
    },
    {
     "name": "stdout",
     "output_type": "stream",
     "text": [
      "18/18 [==============================] - 5s 276ms/step - loss: 139.3927 - val_loss: 773.0226\n",
      "Epoch 37/100\n",
      "15/18 [========================>.....] - ETA: 0s - loss: 136.1649INFO:tensorflow:Assets written to: model_experiments\\model_5_LSTM\\assets\n"
     ]
    },
    {
     "name": "stderr",
     "output_type": "stream",
     "text": [
      "INFO:tensorflow:Assets written to: model_experiments\\model_5_LSTM\\assets\n"
     ]
    },
    {
     "name": "stdout",
     "output_type": "stream",
     "text": [
      "18/18 [==============================] - 4s 207ms/step - loss: 137.2731 - val_loss: 761.8310\n",
      "Epoch 38/100\n",
      "18/18 [==============================] - 0s 14ms/step - loss: 135.8969 - val_loss: 763.2434\n",
      "Epoch 39/100\n",
      "18/18 [==============================] - 0s 8ms/step - loss: 134.9670 - val_loss: 770.3553\n",
      "Epoch 40/100\n",
      "15/18 [========================>.....] - ETA: 0s - loss: 134.3108INFO:tensorflow:Assets written to: model_experiments\\model_5_LSTM\\assets\n"
     ]
    },
    {
     "name": "stderr",
     "output_type": "stream",
     "text": [
      "INFO:tensorflow:Assets written to: model_experiments\\model_5_LSTM\\assets\n"
     ]
    },
    {
     "name": "stdout",
     "output_type": "stream",
     "text": [
      "18/18 [==============================] - 3s 192ms/step - loss: 135.5526 - val_loss: 739.4477\n",
      "Epoch 41/100\n",
      "16/18 [=========================>....] - ETA: 0s - loss: 133.8572INFO:tensorflow:Assets written to: model_experiments\\model_5_LSTM\\assets\n"
     ]
    },
    {
     "name": "stderr",
     "output_type": "stream",
     "text": [
      "INFO:tensorflow:Assets written to: model_experiments\\model_5_LSTM\\assets\n"
     ]
    },
    {
     "name": "stdout",
     "output_type": "stream",
     "text": [
      "18/18 [==============================] - 4s 209ms/step - loss: 132.6458 - val_loss: 732.1957\n",
      "Epoch 42/100\n",
      "18/18 [==============================] - 0s 15ms/step - loss: 131.1509 - val_loss: 734.2094\n",
      "Epoch 43/100\n",
      "14/18 [======================>.......] - ETA: 0s - loss: 132.3195INFO:tensorflow:Assets written to: model_experiments\\model_5_LSTM\\assets\n"
     ]
    },
    {
     "name": "stderr",
     "output_type": "stream",
     "text": [
      "INFO:tensorflow:Assets written to: model_experiments\\model_5_LSTM\\assets\n"
     ]
    },
    {
     "name": "stdout",
     "output_type": "stream",
     "text": [
      "18/18 [==============================] - 4s 218ms/step - loss: 131.1598 - val_loss: 724.6707\n",
      "Epoch 44/100\n",
      "18/18 [==============================] - 0s 17ms/step - loss: 129.9820 - val_loss: 725.4900\n",
      "Epoch 45/100\n",
      "18/18 [==============================] - 0s 18ms/step - loss: 128.3775 - val_loss: 773.7762\n",
      "Epoch 46/100\n",
      "14/18 [======================>.......] - ETA: 0s - loss: 131.1995INFO:tensorflow:Assets written to: model_experiments\\model_5_LSTM\\assets\n"
     ]
    },
    {
     "name": "stderr",
     "output_type": "stream",
     "text": [
      "INFO:tensorflow:Assets written to: model_experiments\\model_5_LSTM\\assets\n"
     ]
    },
    {
     "name": "stdout",
     "output_type": "stream",
     "text": [
      "18/18 [==============================] - 4s 252ms/step - loss: 128.0237 - val_loss: 701.3091\n",
      "Epoch 47/100\n",
      "18/18 [==============================] - ETA: 0s - loss: 126.5713INFO:tensorflow:Assets written to: model_experiments\\model_5_LSTM\\assets\n"
     ]
    },
    {
     "name": "stderr",
     "output_type": "stream",
     "text": [
      "INFO:tensorflow:Assets written to: model_experiments\\model_5_LSTM\\assets\n"
     ]
    },
    {
     "name": "stdout",
     "output_type": "stream",
     "text": [
      "18/18 [==============================] - 4s 250ms/step - loss: 126.5713 - val_loss: 695.9896\n",
      "Epoch 48/100\n",
      "18/18 [==============================] - 0s 15ms/step - loss: 126.8509 - val_loss: 804.6047\n",
      "Epoch 49/100\n",
      "18/18 [==============================] - ETA: 0s - loss: 129.9854INFO:tensorflow:Assets written to: model_experiments\\model_5_LSTM\\assets\n"
     ]
    },
    {
     "name": "stderr",
     "output_type": "stream",
     "text": [
      "INFO:tensorflow:Assets written to: model_experiments\\model_5_LSTM\\assets\n"
     ]
    },
    {
     "name": "stdout",
     "output_type": "stream",
     "text": [
      "18/18 [==============================] - 3s 191ms/step - loss: 129.9854 - val_loss: 689.9764\n",
      "Epoch 50/100\n",
      "15/18 [========================>.....] - ETA: 0s - loss: 123.6442INFO:tensorflow:Assets written to: model_experiments\\model_5_LSTM\\assets\n"
     ]
    },
    {
     "name": "stderr",
     "output_type": "stream",
     "text": [
      "INFO:tensorflow:Assets written to: model_experiments\\model_5_LSTM\\assets\n"
     ]
    },
    {
     "name": "stdout",
     "output_type": "stream",
     "text": [
      "18/18 [==============================] - 3s 194ms/step - loss: 125.1654 - val_loss: 683.2146\n",
      "Epoch 51/100\n",
      "16/18 [=========================>....] - ETA: 0s - loss: 125.6250INFO:tensorflow:Assets written to: model_experiments\\model_5_LSTM\\assets\n"
     ]
    },
    {
     "name": "stderr",
     "output_type": "stream",
     "text": [
      "INFO:tensorflow:Assets written to: model_experiments\\model_5_LSTM\\assets\n"
     ]
    },
    {
     "name": "stdout",
     "output_type": "stream",
     "text": [
      "18/18 [==============================] - 3s 184ms/step - loss: 125.5290 - val_loss: 682.9537\n",
      "Epoch 52/100\n",
      "18/18 [==============================] - 0s 17ms/step - loss: 124.5722 - val_loss: 724.9874\n",
      "Epoch 53/100\n",
      "16/18 [=========================>....] - ETA: 0s - loss: 126.5450INFO:tensorflow:Assets written to: model_experiments\\model_5_LSTM\\assets\n"
     ]
    },
    {
     "name": "stderr",
     "output_type": "stream",
     "text": [
      "INFO:tensorflow:Assets written to: model_experiments\\model_5_LSTM\\assets\n"
     ]
    },
    {
     "name": "stdout",
     "output_type": "stream",
     "text": [
      "18/18 [==============================] - 4s 214ms/step - loss: 127.1464 - val_loss: 676.3336\n",
      "Epoch 54/100\n",
      "18/18 [==============================] - 0s 18ms/step - loss: 124.5272 - val_loss: 753.6724\n",
      "Epoch 55/100\n",
      "18/18 [==============================] - 0s 19ms/step - loss: 126.5401 - val_loss: 677.0193\n",
      "Epoch 56/100\n",
      "18/18 [==============================] - 0s 17ms/step - loss: 121.3641 - val_loss: 689.6448\n",
      "Epoch 57/100\n",
      "16/18 [=========================>....] - ETA: 0s - loss: 125.5705INFO:tensorflow:Assets written to: model_experiments\\model_5_LSTM\\assets\n"
     ]
    },
    {
     "name": "stderr",
     "output_type": "stream",
     "text": [
      "INFO:tensorflow:Assets written to: model_experiments\\model_5_LSTM\\assets\n"
     ]
    },
    {
     "name": "stdout",
     "output_type": "stream",
     "text": [
      "18/18 [==============================] - 3s 184ms/step - loss: 124.8905 - val_loss: 668.4129\n",
      "Epoch 58/100\n",
      "14/18 [======================>.......] - ETA: 0s - loss: 119.9258INFO:tensorflow:Assets written to: model_experiments\\model_5_LSTM\\assets\n"
     ]
    },
    {
     "name": "stderr",
     "output_type": "stream",
     "text": [
      "INFO:tensorflow:Assets written to: model_experiments\\model_5_LSTM\\assets\n"
     ]
    },
    {
     "name": "stdout",
     "output_type": "stream",
     "text": [
      "18/18 [==============================] - 3s 181ms/step - loss: 119.6444 - val_loss: 658.1183\n",
      "Epoch 59/100\n",
      "13/18 [====================>.........] - ETA: 0s - loss: 117.0202INFO:tensorflow:Assets written to: model_experiments\\model_5_LSTM\\assets\n"
     ]
    },
    {
     "name": "stderr",
     "output_type": "stream",
     "text": [
      "INFO:tensorflow:Assets written to: model_experiments\\model_5_LSTM\\assets\n"
     ]
    },
    {
     "name": "stdout",
     "output_type": "stream",
     "text": [
      "18/18 [==============================] - 3s 184ms/step - loss: 119.9203 - val_loss: 653.4091\n",
      "Epoch 60/100\n",
      "18/18 [==============================] - 0s 19ms/step - loss: 120.9177 - val_loss: 653.4386\n",
      "Epoch 61/100\n",
      "18/18 [==============================] - 0s 15ms/step - loss: 119.5868 - val_loss: 657.5253\n",
      "Epoch 62/100\n",
      "18/18 [==============================] - 0s 19ms/step - loss: 122.8030 - val_loss: 676.6046\n",
      "Epoch 63/100\n",
      "17/18 [===========================>..] - ETA: 0s - loss: 118.2953INFO:tensorflow:Assets written to: model_experiments\\model_5_LSTM\\assets\n"
     ]
    },
    {
     "name": "stderr",
     "output_type": "stream",
     "text": [
      "INFO:tensorflow:Assets written to: model_experiments\\model_5_LSTM\\assets\n"
     ]
    },
    {
     "name": "stdout",
     "output_type": "stream",
     "text": [
      "18/18 [==============================] - 3s 181ms/step - loss: 118.6940 - val_loss: 648.3829\n",
      "Epoch 64/100\n",
      "18/18 [==============================] - 0s 17ms/step - loss: 120.1680 - val_loss: 666.1371\n",
      "Epoch 65/100\n",
      "16/18 [=========================>....] - ETA: 0s - loss: 121.4259INFO:tensorflow:Assets written to: model_experiments\\model_5_LSTM\\assets\n"
     ]
    },
    {
     "name": "stderr",
     "output_type": "stream",
     "text": [
      "INFO:tensorflow:Assets written to: model_experiments\\model_5_LSTM\\assets\n"
     ]
    },
    {
     "name": "stdout",
     "output_type": "stream",
     "text": [
      "18/18 [==============================] - 4s 209ms/step - loss: 118.9733 - val_loss: 638.6989\n",
      "Epoch 66/100\n",
      "18/18 [==============================] - 0s 16ms/step - loss: 117.2617 - val_loss: 642.0629\n",
      "Epoch 67/100\n",
      "18/18 [==============================] - 0s 18ms/step - loss: 118.9860 - val_loss: 639.5652\n",
      "Epoch 68/100\n",
      "18/18 [==============================] - 0s 17ms/step - loss: 117.0094 - val_loss: 639.9643\n",
      "Epoch 69/100\n",
      "18/18 [==============================] - 0s 19ms/step - loss: 117.3642 - val_loss: 649.9040\n",
      "Epoch 70/100\n",
      "18/18 [==============================] - 0s 17ms/step - loss: 117.4706 - val_loss: 686.2043\n",
      "Epoch 71/100\n",
      "17/18 [===========================>..] - ETA: 0s - loss: 117.9530INFO:tensorflow:Assets written to: model_experiments\\model_5_LSTM\\assets\n"
     ]
    },
    {
     "name": "stderr",
     "output_type": "stream",
     "text": [
      "INFO:tensorflow:Assets written to: model_experiments\\model_5_LSTM\\assets\n"
     ]
    },
    {
     "name": "stdout",
     "output_type": "stream",
     "text": [
      "18/18 [==============================] - 3s 192ms/step - loss: 118.0715 - val_loss: 631.8089\n",
      "Epoch 72/100\n",
      "15/18 [========================>.....] - ETA: 0s - loss: 118.7159INFO:tensorflow:Assets written to: model_experiments\\model_5_LSTM\\assets\n"
     ]
    },
    {
     "name": "stderr",
     "output_type": "stream",
     "text": [
      "INFO:tensorflow:Assets written to: model_experiments\\model_5_LSTM\\assets\n"
     ]
    },
    {
     "name": "stdout",
     "output_type": "stream",
     "text": [
      "18/18 [==============================] - 3s 188ms/step - loss: 116.3407 - val_loss: 627.6149\n",
      "Epoch 73/100\n",
      "15/18 [========================>.....] - ETA: 0s - loss: 115.8764INFO:tensorflow:Assets written to: model_experiments\\model_5_LSTM\\assets\n"
     ]
    },
    {
     "name": "stderr",
     "output_type": "stream",
     "text": [
      "INFO:tensorflow:Assets written to: model_experiments\\model_5_LSTM\\assets\n"
     ]
    },
    {
     "name": "stdout",
     "output_type": "stream",
     "text": [
      "18/18 [==============================] - 4s 208ms/step - loss: 118.0268 - val_loss: 625.6641\n",
      "Epoch 74/100\n",
      "18/18 [==============================] - 0s 16ms/step - loss: 116.3905 - val_loss: 631.3609\n",
      "Epoch 75/100\n",
      "16/18 [=========================>....] - ETA: 0s - loss: 118.1101INFO:tensorflow:Assets written to: model_experiments\\model_5_LSTM\\assets\n"
     ]
    },
    {
     "name": "stderr",
     "output_type": "stream",
     "text": [
      "INFO:tensorflow:Assets written to: model_experiments\\model_5_LSTM\\assets\n"
     ]
    },
    {
     "name": "stdout",
     "output_type": "stream",
     "text": [
      "18/18 [==============================] - 3s 184ms/step - loss: 115.3634 - val_loss: 623.1778\n",
      "Epoch 76/100\n",
      "16/18 [=========================>....] - ETA: 0s - loss: 116.2892INFO:tensorflow:Assets written to: model_experiments\\model_5_LSTM\\assets\n"
     ]
    },
    {
     "name": "stderr",
     "output_type": "stream",
     "text": [
      "INFO:tensorflow:Assets written to: model_experiments\\model_5_LSTM\\assets\n"
     ]
    },
    {
     "name": "stdout",
     "output_type": "stream",
     "text": [
      "18/18 [==============================] - 3s 182ms/step - loss: 115.6474 - val_loss: 622.3444\n",
      "Epoch 77/100\n",
      "16/18 [=========================>....] - ETA: 0s - loss: 114.1479INFO:tensorflow:Assets written to: model_experiments\\model_5_LSTM\\assets\n"
     ]
    },
    {
     "name": "stderr",
     "output_type": "stream",
     "text": [
      "INFO:tensorflow:Assets written to: model_experiments\\model_5_LSTM\\assets\n"
     ]
    },
    {
     "name": "stdout",
     "output_type": "stream",
     "text": [
      "18/18 [==============================] - 3s 188ms/step - loss: 115.4468 - val_loss: 621.5304\n",
      "Epoch 78/100\n",
      "18/18 [==============================] - ETA: 0s - loss: 114.9934INFO:tensorflow:Assets written to: model_experiments\\model_5_LSTM\\assets\n"
     ]
    },
    {
     "name": "stderr",
     "output_type": "stream",
     "text": [
      "INFO:tensorflow:Assets written to: model_experiments\\model_5_LSTM\\assets\n"
     ]
    },
    {
     "name": "stdout",
     "output_type": "stream",
     "text": [
      "18/18 [==============================] - 4s 210ms/step - loss: 114.9934 - val_loss: 620.0623\n",
      "Epoch 79/100\n",
      "18/18 [==============================] - 0s 16ms/step - loss: 114.7929 - val_loss: 628.6604\n",
      "Epoch 80/100\n",
      "18/18 [==============================] - 0s 18ms/step - loss: 120.4430 - val_loss: 620.1730\n",
      "Epoch 81/100\n",
      "18/18 [==============================] - 0s 17ms/step - loss: 118.8856 - val_loss: 688.1185\n",
      "Epoch 82/100\n",
      "15/18 [========================>.....] - ETA: 0s - loss: 116.6861INFO:tensorflow:Assets written to: model_experiments\\model_5_LSTM\\assets\n"
     ]
    },
    {
     "name": "stderr",
     "output_type": "stream",
     "text": [
      "INFO:tensorflow:Assets written to: model_experiments\\model_5_LSTM\\assets\n"
     ]
    },
    {
     "name": "stdout",
     "output_type": "stream",
     "text": [
      "18/18 [==============================] - 3s 179ms/step - loss: 117.6228 - val_loss: 617.1086\n",
      "Epoch 83/100\n",
      "18/18 [==============================] - 0s 17ms/step - loss: 114.1800 - val_loss: 642.9391\n",
      "Epoch 84/100\n",
      "18/18 [==============================] - 0s 16ms/step - loss: 116.7973 - val_loss: 623.9979\n",
      "Epoch 85/100\n",
      "18/18 [==============================] - 0s 20ms/step - loss: 114.1445 - val_loss: 617.9706\n",
      "Epoch 86/100\n",
      "17/18 [===========================>..] - ETA: 0s - loss: 114.4995INFO:tensorflow:Assets written to: model_experiments\\model_5_LSTM\\assets\n"
     ]
    },
    {
     "name": "stderr",
     "output_type": "stream",
     "text": [
      "INFO:tensorflow:Assets written to: model_experiments\\model_5_LSTM\\assets\n"
     ]
    },
    {
     "name": "stdout",
     "output_type": "stream",
     "text": [
      "18/18 [==============================] - 3s 183ms/step - loss: 114.0229 - val_loss: 616.0381\n",
      "Epoch 87/100\n",
      "17/18 [===========================>..] - ETA: 0s - loss: 114.0723INFO:tensorflow:Assets written to: model_experiments\\model_5_LSTM\\assets\n"
     ]
    },
    {
     "name": "stderr",
     "output_type": "stream",
     "text": [
      "INFO:tensorflow:Assets written to: model_experiments\\model_5_LSTM\\assets\n"
     ]
    },
    {
     "name": "stdout",
     "output_type": "stream",
     "text": [
      "18/18 [==============================] - 3s 181ms/step - loss: 113.7816 - val_loss: 614.4343\n",
      "Epoch 88/100\n",
      "15/18 [========================>.....] - ETA: 0s - loss: 115.3709INFO:tensorflow:Assets written to: model_experiments\\model_5_LSTM\\assets\n"
     ]
    },
    {
     "name": "stderr",
     "output_type": "stream",
     "text": [
      "INFO:tensorflow:Assets written to: model_experiments\\model_5_LSTM\\assets\n"
     ]
    },
    {
     "name": "stdout",
     "output_type": "stream",
     "text": [
      "18/18 [==============================] - 4s 231ms/step - loss: 113.5693 - val_loss: 611.6481\n",
      "Epoch 89/100\n",
      "18/18 [==============================] - 0s 15ms/step - loss: 114.7536 - val_loss: 659.7756\n",
      "Epoch 90/100\n",
      "18/18 [==============================] - 0s 17ms/step - loss: 119.3343 - val_loss: 695.6659\n",
      "Epoch 91/100\n",
      "16/18 [=========================>....] - ETA: 0s - loss: 116.3420INFO:tensorflow:Assets written to: model_experiments\\model_5_LSTM\\assets\n"
     ]
    },
    {
     "name": "stderr",
     "output_type": "stream",
     "text": [
      "INFO:tensorflow:Assets written to: model_experiments\\model_5_LSTM\\assets\n"
     ]
    },
    {
     "name": "stdout",
     "output_type": "stream",
     "text": [
      "18/18 [==============================] - 3s 179ms/step - loss: 113.9586 - val_loss: 610.5268\n",
      "Epoch 92/100\n",
      "15/18 [========================>.....] - ETA: 0s - loss: 111.0051INFO:tensorflow:Assets written to: model_experiments\\model_5_LSTM\\assets\n"
     ]
    },
    {
     "name": "stderr",
     "output_type": "stream",
     "text": [
      "INFO:tensorflow:Assets written to: model_experiments\\model_5_LSTM\\assets\n"
     ]
    },
    {
     "name": "stdout",
     "output_type": "stream",
     "text": [
      "18/18 [==============================] - 4s 221ms/step - loss: 112.2599 - val_loss: 608.7070\n",
      "Epoch 93/100\n",
      "18/18 [==============================] - 0s 17ms/step - loss: 112.4757 - val_loss: 616.3334\n",
      "Epoch 94/100\n",
      "18/18 [==============================] - 0s 18ms/step - loss: 113.6202 - val_loss: 618.5188\n",
      "Epoch 95/100\n",
      "18/18 [==============================] - 0s 15ms/step - loss: 115.0076 - val_loss: 611.3702\n",
      "Epoch 96/100\n",
      "18/18 [==============================] - 0s 16ms/step - loss: 113.1696 - val_loss: 609.0550\n",
      "Epoch 97/100\n",
      "18/18 [==============================] - 0s 16ms/step - loss: 113.2083 - val_loss: 623.4622\n",
      "Epoch 98/100\n",
      "18/18 [==============================] - 0s 14ms/step - loss: 114.2550 - val_loss: 644.8803\n",
      "Epoch 99/100\n",
      "18/18 [==============================] - 0s 15ms/step - loss: 114.1044 - val_loss: 628.9752\n",
      "Epoch 100/100\n",
      "18/18 [==============================] - 0s 19ms/step - loss: 113.7178 - val_loss: 661.8785\n"
     ]
    },
    {
     "data": {
      "text/plain": [
       "<keras.callbacks.History at 0x28bb52ddb70>"
      ]
     },
     "execution_count": 83,
     "metadata": {},
     "output_type": "execute_result"
    }
   ],
   "source": [
    "tf.random.set_seed(42)\n",
    "\n",
    "# Let's build an LSTM model with the Functional API\n",
    "inputs = layers.Input(shape=(WINDOW_SIZE))\n",
    "x = layers.Lambda(lambda x: tf.expand_dims(x, axis=1))(inputs)\n",
    "# x = layers.LSTM(128, return_sequences=True)(x)\n",
    "x = layers.LSTM(128, activation='relu')(x)\n",
    "# x = layers.Dense(32, activation='relu')(x)\n",
    "output = layers.Dense(HORIZON)(x)\n",
    "model_5 = tf.keras.Model(inputs=inputs, outputs=output, name='model_5_LSTM')\n",
    "\n",
    "# Compile\n",
    "model_5.compile(loss='mae',\n",
    "                optimizer=tf.keras.optimizers.Adam())\n",
    "\n",
    "# Fit\n",
    "model_5.fit(train_windows,\n",
    "            train_labels,\n",
    "            epochs=100,\n",
    "            verbose=1,\n",
    "            batch_size=128,\n",
    "            validation_data=(test_windows, test_labels),\n",
    "            callbacks=[create_model_checkpoint(model_name=model_5.name)])"
   ]
  },
  {
   "cell_type": "code",
   "execution_count": 84,
   "id": "4fa206e2",
   "metadata": {},
   "outputs": [
    {
     "name": "stdout",
     "output_type": "stream",
     "text": [
      "WARNING:tensorflow:Layer lstm will not use cuDNN kernels since it doesn't meet the criteria. It will use a generic GPU kernel as fallback when running on GPU.\n"
     ]
    },
    {
     "name": "stderr",
     "output_type": "stream",
     "text": [
      "WARNING:tensorflow:Layer lstm will not use cuDNN kernels since it doesn't meet the criteria. It will use a generic GPU kernel as fallback when running on GPU.\n"
     ]
    },
    {
     "name": "stdout",
     "output_type": "stream",
     "text": [
      "18/18 [==============================] - 0s 4ms/step - loss: 608.7070\n"
     ]
    },
    {
     "data": {
      "text/plain": [
       "608.70703125"
      ]
     },
     "execution_count": 84,
     "metadata": {},
     "output_type": "execute_result"
    }
   ],
   "source": [
    "# Load in best version of model 5 and evaluate on the test data\n",
    "model_5 = tf.keras.models.load_model('model_experiments/model_5_LSTM')\n",
    "model_5.evaluate(test_windows, test_labels)"
   ]
  },
  {
   "cell_type": "code",
   "execution_count": 85,
   "id": "fffd443b",
   "metadata": {},
   "outputs": [
    {
     "name": "stdout",
     "output_type": "stream",
     "text": [
      "18/18 [==============================] - 0s 3ms/step\n"
     ]
    }
   ],
   "source": [
    "# Make predictions with our LSTM model\n",
    "model_5_preds = make_preds(model_5, test_windows)"
   ]
  },
  {
   "cell_type": "code",
   "execution_count": 86,
   "id": "2d0b5984",
   "metadata": {},
   "outputs": [],
   "source": [
    "# Evaluate model 5 predictions\n",
    "model_5_results = evaluate_preds(y_true=tf.squeeze(test_labels),\n",
    "                                 y_pred=model_5_preds)"
   ]
  },
  {
   "cell_type": "code",
   "execution_count": 87,
   "id": "4d3fdfe4",
   "metadata": {},
   "outputs": [
    {
     "data": {
      "text/plain": [
       "{'mae': 608.7071,\n",
       " 'mse': 1298969.2,\n",
       " 'rmse': 1139.7233,\n",
       " 'mape': 2.7447379,\n",
       " 'mase': 1.0624068}"
      ]
     },
     "execution_count": 87,
     "metadata": {},
     "output_type": "execute_result"
    }
   ],
   "source": [
    "model_5_results"
   ]
  },
  {
   "cell_type": "code",
   "execution_count": 88,
   "id": "c140368e",
   "metadata": {},
   "outputs": [
    {
     "data": {
      "text/plain": [
       "{'mae': 567.9802,\n",
       " 'mse': 1147547.0,\n",
       " 'rmse': 1071.2362,\n",
       " 'mape': 2.516525,\n",
       " 'mase': 0.99957}"
      ]
     },
     "execution_count": 88,
     "metadata": {},
     "output_type": "execute_result"
    }
   ],
   "source": [
    "naive_results"
   ]
  },
  {
   "cell_type": "markdown",
   "id": "a6b67d33",
   "metadata": {},
   "source": [
    "**Note:** Because neural networks are such powerful algorithms, they can be used for almost any problem, however, that doesn't mean they'll achieve performant or usable results."
   ]
  },
  {
   "cell_type": "markdown",
   "id": "061fd3b4",
   "metadata": {},
   "source": [
    "## Make a multivariate time series dataset\n",
    "\n",
    "Before we add feature to our time series, what is a feature we can use?\n",
    "\n",
    "One feature we could add is whether or not Elon Musk tweeted on that day...\n",
    "\n",
    "* day 1 - 0\n",
    "* day 2 - 1\n",
    "* day 3 - 0\n",
    "\n",
    "What's a better feature to use?\n",
    "\n",
    "How about the bitcoin halving events..."
   ]
  },
  {
   "cell_type": "code",
   "execution_count": 89,
   "id": "024b7514",
   "metadata": {},
   "outputs": [
    {
     "data": {
      "application/vnd.microsoft.datawrangler.viewer.v0+json": {
       "columns": [
        {
         "name": "Date",
         "rawType": "datetime64[ns]",
         "type": "datetime"
        },
        {
         "name": "Price",
         "rawType": "float64",
         "type": "float"
        }
       ],
       "ref": "5da1a5f9-7ebd-42d6-9fa2-a89e45f51109",
       "rows": [
        [
         "2013-10-01 00:00:00",
         "123.65499"
        ],
        [
         "2013-10-02 00:00:00",
         "125.455"
        ],
        [
         "2013-10-03 00:00:00",
         "108.58483"
        ],
        [
         "2013-10-04 00:00:00",
         "118.67466"
        ],
        [
         "2013-10-05 00:00:00",
         "121.33866"
        ]
       ],
       "shape": {
        "columns": 1,
        "rows": 5
       }
      },
      "text/html": [
       "<div>\n",
       "<style scoped>\n",
       "    .dataframe tbody tr th:only-of-type {\n",
       "        vertical-align: middle;\n",
       "    }\n",
       "\n",
       "    .dataframe tbody tr th {\n",
       "        vertical-align: top;\n",
       "    }\n",
       "\n",
       "    .dataframe thead th {\n",
       "        text-align: right;\n",
       "    }\n",
       "</style>\n",
       "<table border=\"1\" class=\"dataframe\">\n",
       "  <thead>\n",
       "    <tr style=\"text-align: right;\">\n",
       "      <th></th>\n",
       "      <th>Price</th>\n",
       "    </tr>\n",
       "    <tr>\n",
       "      <th>Date</th>\n",
       "      <th></th>\n",
       "    </tr>\n",
       "  </thead>\n",
       "  <tbody>\n",
       "    <tr>\n",
       "      <th>2013-10-01</th>\n",
       "      <td>123.65499</td>\n",
       "    </tr>\n",
       "    <tr>\n",
       "      <th>2013-10-02</th>\n",
       "      <td>125.45500</td>\n",
       "    </tr>\n",
       "    <tr>\n",
       "      <th>2013-10-03</th>\n",
       "      <td>108.58483</td>\n",
       "    </tr>\n",
       "    <tr>\n",
       "      <th>2013-10-04</th>\n",
       "      <td>118.67466</td>\n",
       "    </tr>\n",
       "    <tr>\n",
       "      <th>2013-10-05</th>\n",
       "      <td>121.33866</td>\n",
       "    </tr>\n",
       "  </tbody>\n",
       "</table>\n",
       "</div>"
      ],
      "text/plain": [
       "                Price\n",
       "Date                 \n",
       "2013-10-01  123.65499\n",
       "2013-10-02  125.45500\n",
       "2013-10-03  108.58483\n",
       "2013-10-04  118.67466\n",
       "2013-10-05  121.33866"
      ]
     },
     "execution_count": 89,
     "metadata": {},
     "output_type": "execute_result"
    }
   ],
   "source": [
    "# Let's make a multivariate time series dataset\n",
    "bitcoin_prices.head()"
   ]
  },
  {
   "cell_type": "code",
   "execution_count": 90,
   "id": "283d1236",
   "metadata": {},
   "outputs": [],
   "source": [
    "# Let's add the bitcoin halving events to our dataset\n",
    "block_reward_1 = 50 # 3 January 2009 - this block reward isn't in our dataset\n",
    "block_reward_2 = 25 # 8 November 2012\n",
    "block_reward_3 = 12.5 # 9 July 2016\n",
    "block_reward_4 = 6.25 # 18 May 2020\n",
    "\n",
    "# Block reward dates\n",
    "block_reward_2_datetime = np.datetime64('2012-11-28')\n",
    "block_reward_3_datetime = np.datetime64('2016-07-09')\n",
    "block_reward_4_datetime = np.datetime64('2020-05-18')"
   ]
  },
  {
   "cell_type": "code",
   "execution_count": 91,
   "id": "7be9bcc5",
   "metadata": {},
   "outputs": [
    {
     "data": {
      "text/plain": [
       "(1012, 2421)"
      ]
     },
     "execution_count": 91,
     "metadata": {},
     "output_type": "execute_result"
    }
   ],
   "source": [
    "# Create date ranges of where specific block_reward values should be\n",
    "block_reward_2_days = (block_reward_3_datetime - bitcoin_prices.index[0]).days\n",
    "block_reward_3_days = (block_reward_4_datetime - bitcoin_prices.index[0]).days\n",
    "block_reward_2_days, block_reward_3_days"
   ]
  },
  {
   "cell_type": "code",
   "execution_count": 92,
   "id": "aac64c85",
   "metadata": {},
   "outputs": [],
   "source": [
    "# Add in a block_reward column\n",
    "bitcoin_prices_block = bitcoin_prices.copy()\n",
    "bitcoin_prices_block['block_reward'] = None\n",
    "\n",
    "# Add in block_reward values as a feature to our dataframe\n",
    "bitcoin_prices_block.iloc[:block_reward_2_days, -1] = block_reward_2\n",
    "bitcoin_prices_block.iloc[block_reward_2_days:block_reward_3_days, -1] = block_reward_3\n",
    "bitcoin_prices_block.iloc[block_reward_3_days:, -1] = block_reward_4"
   ]
  },
  {
   "cell_type": "code",
   "execution_count": 93,
   "id": "fd384ff5",
   "metadata": {},
   "outputs": [
    {
     "data": {
      "image/png": "[encoded data removed]",
      "text/plain": [
       "<Figure size 1000x700 with 1 Axes>"
      ]
     },
     "metadata": {},
     "output_type": "display_data"
    }
   ],
   "source": [
    "# Plot the block reward vs price over time\n",
    "from sklearn.preprocessing import minmax_scale\n",
    "scaled_price_block_df = pd.DataFrame(minmax_scale(bitcoin_prices_block[['Price', 'block_reward']]),\n",
    "                                     columns=bitcoin_prices_block.columns,\n",
    "                                     index=bitcoin_prices_block.index)\n",
    "scaled_price_block_df.plot(figsize=(10, 7));"
   ]
  },
  {
   "cell_type": "markdown",
   "id": "7f4ca624",
   "metadata": {},
   "source": [
    "## Making a window dataset with pandas\n",
    "\n",
    "Previously, we have turned our univariate time series into windowed dataset using the helper functions above.\n",
    "\n",
    "However, since we have got multivariate data, these functions won't work.\n",
    "\n",
    "Not to worry, we can use the ``pandas.DataFrame.shift()`` method to window our multivariate data."
   ]
  },
  {
   "cell_type": "code",
   "execution_count": 94,
   "id": "9f9d829a",
   "metadata": {},
   "outputs": [],
   "source": [
    "# Setup dataset hyperparameters\n",
    "HORIZON = 1\n",
    "WINDOW_SIZE = 7"
   ]
  },
  {
   "cell_type": "code",
   "execution_count": 95,
   "id": "5daec40e",
   "metadata": {},
   "outputs": [
    {
     "data": {
      "application/vnd.microsoft.datawrangler.viewer.v0+json": {
       "columns": [
        {
         "name": "Date",
         "rawType": "datetime64[ns]",
         "type": "datetime"
        },
        {
         "name": "Price",
         "rawType": "float64",
         "type": "float"
        },
        {
         "name": "block_reward",
         "rawType": "object",
         "type": "unknown"
        },
        {
         "name": "Price+1",
         "rawType": "float64",
         "type": "float"
        },
        {
         "name": "Price+2",
         "rawType": "float64",
         "type": "float"
        },
        {
         "name": "Price+3",
         "rawType": "float64",
         "type": "float"
        },
        {
         "name": "Price+4",
         "rawType": "float64",
         "type": "float"
        },
        {
         "name": "Price+5",
         "rawType": "float64",
         "type": "float"
        },
        {
         "name": "Price+6",
         "rawType": "float64",
         "type": "float"
        },
        {
         "name": "Price+7",
         "rawType": "float64",
         "type": "float"
        }
       ],
       "ref": "b594a6ba-0d03-4da1-89c6-40ca03479a0f",
       "rows": [
        [
         "2013-10-01 00:00:00",
         "123.65499",
         "25",
         null,
         null,
         null,
         null,
         null,
         null,
         null
        ],
        [
         "2013-10-02 00:00:00",
         "125.455",
         "25",
         "123.65499",
         null,
         null,
         null,
         null,
         null,
         null
        ],
        [
         "2013-10-03 00:00:00",
         "108.58483",
         "25",
         "125.455",
         "123.65499",
         null,
         null,
         null,
         null,
         null
        ],
        [
         "2013-10-04 00:00:00",
         "118.67466",
         "25",
         "108.58483",
         "125.455",
         "123.65499",
         null,
         null,
         null,
         null
        ],
        [
         "2013-10-05 00:00:00",
         "121.33866",
         "25",
         "118.67466",
         "108.58483",
         "125.455",
         "123.65499",
         null,
         null,
         null
        ],
        [
         "2013-10-06 00:00:00",
         "120.65533",
         "25",
         "121.33866",
         "118.67466",
         "108.58483",
         "125.455",
         "123.65499",
         null,
         null
        ],
        [
         "2013-10-07 00:00:00",
         "121.795",
         "25",
         "120.65533",
         "121.33866",
         "118.67466",
         "108.58483",
         "125.455",
         "123.65499",
         null
        ],
        [
         "2013-10-08 00:00:00",
         "123.033",
         "25",
         "121.795",
         "120.65533",
         "121.33866",
         "118.67466",
         "108.58483",
         "125.455",
         "123.65499"
        ],
        [
         "2013-10-09 00:00:00",
         "124.049",
         "25",
         "123.033",
         "121.795",
         "120.65533",
         "121.33866",
         "118.67466",
         "108.58483",
         "125.455"
        ],
        [
         "2013-10-10 00:00:00",
         "125.96116",
         "25",
         "124.049",
         "123.033",
         "121.795",
         "120.65533",
         "121.33866",
         "118.67466",
         "108.58483"
        ]
       ],
       "shape": {
        "columns": 9,
        "rows": 10
       }
      },
      "text/html": [
       "<div>\n",
       "<style scoped>\n",
       "    .dataframe tbody tr th:only-of-type {\n",
       "        vertical-align: middle;\n",
       "    }\n",
       "\n",
       "    .dataframe tbody tr th {\n",
       "        vertical-align: top;\n",
       "    }\n",
       "\n",
       "    .dataframe thead th {\n",
       "        text-align: right;\n",
       "    }\n",
       "</style>\n",
       "<table border=\"1\" class=\"dataframe\">\n",
       "  <thead>\n",
       "    <tr style=\"text-align: right;\">\n",
       "      <th></th>\n",
       "      <th>Price</th>\n",
       "      <th>block_reward</th>\n",
       "      <th>Price+1</th>\n",
       "      <th>Price+2</th>\n",
       "      <th>Price+3</th>\n",
       "      <th>Price+4</th>\n",
       "      <th>Price+5</th>\n",
       "      <th>Price+6</th>\n",
       "      <th>Price+7</th>\n",
       "    </tr>\n",
       "    <tr>\n",
       "      <th>Date</th>\n",
       "      <th></th>\n",
       "      <th></th>\n",
       "      <th></th>\n",
       "      <th></th>\n",
       "      <th></th>\n",
       "      <th></th>\n",
       "      <th></th>\n",
       "      <th></th>\n",
       "      <th></th>\n",
       "    </tr>\n",
       "  </thead>\n",
       "  <tbody>\n",
       "    <tr>\n",
       "      <th>2013-10-01</th>\n",
       "      <td>123.65499</td>\n",
       "      <td>25</td>\n",
       "      <td>NaN</td>\n",
       "      <td>NaN</td>\n",
       "      <td>NaN</td>\n",
       "      <td>NaN</td>\n",
       "      <td>NaN</td>\n",
       "      <td>NaN</td>\n",
       "      <td>NaN</td>\n",
       "    </tr>\n",
       "    <tr>\n",
       "      <th>2013-10-02</th>\n",
       "      <td>125.45500</td>\n",
       "      <td>25</td>\n",
       "      <td>123.65499</td>\n",
       "      <td>NaN</td>\n",
       "      <td>NaN</td>\n",
       "      <td>NaN</td>\n",
       "      <td>NaN</td>\n",
       "      <td>NaN</td>\n",
       "      <td>NaN</td>\n",
       "    </tr>\n",
       "    <tr>\n",
       "      <th>2013-10-03</th>\n",
       "      <td>108.58483</td>\n",
       "      <td>25</td>\n",
       "      <td>125.45500</td>\n",
       "      <td>123.65499</td>\n",
       "      <td>NaN</td>\n",
       "      <td>NaN</td>\n",
       "      <td>NaN</td>\n",
       "      <td>NaN</td>\n",
       "      <td>NaN</td>\n",
       "    </tr>\n",
       "    <tr>\n",
       "      <th>2013-10-04</th>\n",
       "      <td>118.67466</td>\n",
       "      <td>25</td>\n",
       "      <td>108.58483</td>\n",
       "      <td>125.45500</td>\n",
       "      <td>123.65499</td>\n",
       "      <td>NaN</td>\n",
       "      <td>NaN</td>\n",
       "      <td>NaN</td>\n",
       "      <td>NaN</td>\n",
       "    </tr>\n",
       "    <tr>\n",
       "      <th>2013-10-05</th>\n",
       "      <td>121.33866</td>\n",
       "      <td>25</td>\n",
       "      <td>118.67466</td>\n",
       "      <td>108.58483</td>\n",
       "      <td>125.45500</td>\n",
       "      <td>123.65499</td>\n",
       "      <td>NaN</td>\n",
       "      <td>NaN</td>\n",
       "      <td>NaN</td>\n",
       "    </tr>\n",
       "    <tr>\n",
       "      <th>2013-10-06</th>\n",
       "      <td>120.65533</td>\n",
       "      <td>25</td>\n",
       "      <td>121.33866</td>\n",
       "      <td>118.67466</td>\n",
       "      <td>108.58483</td>\n",
       "      <td>125.45500</td>\n",
       "      <td>123.65499</td>\n",
       "      <td>NaN</td>\n",
       "      <td>NaN</td>\n",
       "    </tr>\n",
       "    <tr>\n",
       "      <th>2013-10-07</th>\n",
       "      <td>121.79500</td>\n",
       "      <td>25</td>\n",
       "      <td>120.65533</td>\n",
       "      <td>121.33866</td>\n",
       "      <td>118.67466</td>\n",
       "      <td>108.58483</td>\n",
       "      <td>125.45500</td>\n",
       "      <td>123.65499</td>\n",
       "      <td>NaN</td>\n",
       "    </tr>\n",
       "    <tr>\n",
       "      <th>2013-10-08</th>\n",
       "      <td>123.03300</td>\n",
       "      <td>25</td>\n",
       "      <td>121.79500</td>\n",
       "      <td>120.65533</td>\n",
       "      <td>121.33866</td>\n",
       "      <td>118.67466</td>\n",
       "      <td>108.58483</td>\n",
       "      <td>125.45500</td>\n",
       "      <td>123.65499</td>\n",
       "    </tr>\n",
       "    <tr>\n",
       "      <th>2013-10-09</th>\n",
       "      <td>124.04900</td>\n",
       "      <td>25</td>\n",
       "      <td>123.03300</td>\n",
       "      <td>121.79500</td>\n",
       "      <td>120.65533</td>\n",
       "      <td>121.33866</td>\n",
       "      <td>118.67466</td>\n",
       "      <td>108.58483</td>\n",
       "      <td>125.45500</td>\n",
       "    </tr>\n",
       "    <tr>\n",
       "      <th>2013-10-10</th>\n",
       "      <td>125.96116</td>\n",
       "      <td>25</td>\n",
       "      <td>124.04900</td>\n",
       "      <td>123.03300</td>\n",
       "      <td>121.79500</td>\n",
       "      <td>120.65533</td>\n",
       "      <td>121.33866</td>\n",
       "      <td>118.67466</td>\n",
       "      <td>108.58483</td>\n",
       "    </tr>\n",
       "  </tbody>\n",
       "</table>\n",
       "</div>"
      ],
      "text/plain": [
       "                Price block_reward    Price+1    Price+2    Price+3  \\\n",
       "Date                                                                  \n",
       "2013-10-01  123.65499           25        NaN        NaN        NaN   \n",
       "2013-10-02  125.45500           25  123.65499        NaN        NaN   \n",
       "2013-10-03  108.58483           25  125.45500  123.65499        NaN   \n",
       "2013-10-04  118.67466           25  108.58483  125.45500  123.65499   \n",
       "2013-10-05  121.33866           25  118.67466  108.58483  125.45500   \n",
       "2013-10-06  120.65533           25  121.33866  118.67466  108.58483   \n",
       "2013-10-07  121.79500           25  120.65533  121.33866  118.67466   \n",
       "2013-10-08  123.03300           25  121.79500  120.65533  121.33866   \n",
       "2013-10-09  124.04900           25  123.03300  121.79500  120.65533   \n",
       "2013-10-10  125.96116           25  124.04900  123.03300  121.79500   \n",
       "\n",
       "              Price+4    Price+5    Price+6    Price+7  \n",
       "Date                                                    \n",
       "2013-10-01        NaN        NaN        NaN        NaN  \n",
       "2013-10-02        NaN        NaN        NaN        NaN  \n",
       "2013-10-03        NaN        NaN        NaN        NaN  \n",
       "2013-10-04        NaN        NaN        NaN        NaN  \n",
       "2013-10-05  123.65499        NaN        NaN        NaN  \n",
       "2013-10-06  125.45500  123.65499        NaN        NaN  \n",
       "2013-10-07  108.58483  125.45500  123.65499        NaN  \n",
       "2013-10-08  118.67466  108.58483  125.45500  123.65499  \n",
       "2013-10-09  121.33866  118.67466  108.58483  125.45500  \n",
       "2013-10-10  120.65533  121.33866  118.67466  108.58483  "
      ]
     },
     "execution_count": 95,
     "metadata": {},
     "output_type": "execute_result"
    }
   ],
   "source": [
    "# Make a copy of the Bitcoin historical data with block reward feature\n",
    "bitcoin_prices_windowed = bitcoin_prices_block.copy()\n",
    "\n",
    "# Add windowed columns\n",
    "for i in range(WINDOW_SIZE): # shift values for each step in WINDOW_SIZE\n",
    "    bitcoin_prices_windowed[f'Price+{i+1}'] = bitcoin_prices_windowed['Price'].shift(periods=i+1)\n",
    "bitcoin_prices_windowed.head(10)"
   ]
  },
  {
   "cell_type": "markdown",
   "id": "fe3e9a27",
   "metadata": {},
   "source": [
    "What we have done is created a way to window our dataset directly from a pandas dataframe.\n",
    "\n",
    "```\n",
    "[0, 1, 2, 3, 4, 5, 6, block_reward] -> [7]\n",
    "[1, 2, 3, 4, 5, 6, 7, block_reward] -> [8]\n",
    "[2, 3, 4, 5, 6, 7, 8, block_reward] -> [9]\n",
    "```"
   ]
  },
  {
   "cell_type": "code",
   "execution_count": 96,
   "id": "3f86d831",
   "metadata": {},
   "outputs": [
    {
     "data": {
      "application/vnd.microsoft.datawrangler.viewer.v0+json": {
       "columns": [
        {
         "name": "Date",
         "rawType": "datetime64[ns]",
         "type": "datetime"
        },
        {
         "name": "block_reward",
         "rawType": "float32",
         "type": "float"
        },
        {
         "name": "Price+1",
         "rawType": "float32",
         "type": "float"
        },
        {
         "name": "Price+2",
         "rawType": "float32",
         "type": "float"
        },
        {
         "name": "Price+3",
         "rawType": "float32",
         "type": "float"
        },
        {
         "name": "Price+4",
         "rawType": "float32",
         "type": "float"
        },
        {
         "name": "Price+5",
         "rawType": "float32",
         "type": "float"
        },
        {
         "name": "Price+6",
         "rawType": "float32",
         "type": "float"
        },
        {
         "name": "Price+7",
         "rawType": "float32",
         "type": "float"
        }
       ],
       "ref": "4d09fa8a-a4a9-4fc4-b567-c7d67c9a918c",
       "rows": [
        [
         "2013-10-08 00:00:00",
         "25.0",
         "121.795",
         "120.65533",
         "121.33866",
         "118.67466",
         "108.58483",
         "125.455",
         "123.65499"
        ],
        [
         "2013-10-09 00:00:00",
         "25.0",
         "123.033",
         "121.795",
         "120.65533",
         "121.33866",
         "118.67466",
         "108.58483",
         "125.455"
        ],
        [
         "2013-10-10 00:00:00",
         "25.0",
         "124.049",
         "123.033",
         "121.795",
         "120.65533",
         "121.33866",
         "118.67466",
         "108.58483"
        ],
        [
         "2013-10-11 00:00:00",
         "25.0",
         "125.96116",
         "124.049",
         "123.033",
         "121.795",
         "120.65533",
         "121.33866",
         "118.67466"
        ],
        [
         "2013-10-12 00:00:00",
         "25.0",
         "125.27966",
         "125.96116",
         "124.049",
         "123.033",
         "121.795",
         "120.65533",
         "121.33866"
        ]
       ],
       "shape": {
        "columns": 8,
        "rows": 5
       }
      },
      "text/html": [
       "<div>\n",
       "<style scoped>\n",
       "    .dataframe tbody tr th:only-of-type {\n",
       "        vertical-align: middle;\n",
       "    }\n",
       "\n",
       "    .dataframe tbody tr th {\n",
       "        vertical-align: top;\n",
       "    }\n",
       "\n",
       "    .dataframe thead th {\n",
       "        text-align: right;\n",
       "    }\n",
       "</style>\n",
       "<table border=\"1\" class=\"dataframe\">\n",
       "  <thead>\n",
       "    <tr style=\"text-align: right;\">\n",
       "      <th></th>\n",
       "      <th>block_reward</th>\n",
       "      <th>Price+1</th>\n",
       "      <th>Price+2</th>\n",
       "      <th>Price+3</th>\n",
       "      <th>Price+4</th>\n",
       "      <th>Price+5</th>\n",
       "      <th>Price+6</th>\n",
       "      <th>Price+7</th>\n",
       "    </tr>\n",
       "    <tr>\n",
       "      <th>Date</th>\n",
       "      <th></th>\n",
       "      <th></th>\n",
       "      <th></th>\n",
       "      <th></th>\n",
       "      <th></th>\n",
       "      <th></th>\n",
       "      <th></th>\n",
       "      <th></th>\n",
       "    </tr>\n",
       "  </thead>\n",
       "  <tbody>\n",
       "    <tr>\n",
       "      <th>2013-10-08</th>\n",
       "      <td>25.0</td>\n",
       "      <td>121.794998</td>\n",
       "      <td>120.655327</td>\n",
       "      <td>121.338661</td>\n",
       "      <td>118.674660</td>\n",
       "      <td>108.584831</td>\n",
       "      <td>125.455002</td>\n",
       "      <td>123.654991</td>\n",
       "    </tr>\n",
       "    <tr>\n",
       "      <th>2013-10-09</th>\n",
       "      <td>25.0</td>\n",
       "      <td>123.032997</td>\n",
       "      <td>121.794998</td>\n",
       "      <td>120.655327</td>\n",
       "      <td>121.338661</td>\n",
       "      <td>118.674660</td>\n",
       "      <td>108.584831</td>\n",
       "      <td>125.455002</td>\n",
       "    </tr>\n",
       "    <tr>\n",
       "      <th>2013-10-10</th>\n",
       "      <td>25.0</td>\n",
       "      <td>124.049004</td>\n",
       "      <td>123.032997</td>\n",
       "      <td>121.794998</td>\n",
       "      <td>120.655327</td>\n",
       "      <td>121.338661</td>\n",
       "      <td>118.674660</td>\n",
       "      <td>108.584831</td>\n",
       "    </tr>\n",
       "    <tr>\n",
       "      <th>2013-10-11</th>\n",
       "      <td>25.0</td>\n",
       "      <td>125.961159</td>\n",
       "      <td>124.049004</td>\n",
       "      <td>123.032997</td>\n",
       "      <td>121.794998</td>\n",
       "      <td>120.655327</td>\n",
       "      <td>121.338661</td>\n",
       "      <td>118.674660</td>\n",
       "    </tr>\n",
       "    <tr>\n",
       "      <th>2013-10-12</th>\n",
       "      <td>25.0</td>\n",
       "      <td>125.279663</td>\n",
       "      <td>125.961159</td>\n",
       "      <td>124.049004</td>\n",
       "      <td>123.032997</td>\n",
       "      <td>121.794998</td>\n",
       "      <td>120.655327</td>\n",
       "      <td>121.338661</td>\n",
       "    </tr>\n",
       "  </tbody>\n",
       "</table>\n",
       "</div>"
      ],
      "text/plain": [
       "            block_reward     Price+1     Price+2     Price+3     Price+4  \\\n",
       "Date                                                                       \n",
       "2013-10-08          25.0  121.794998  120.655327  121.338661  118.674660   \n",
       "2013-10-09          25.0  123.032997  121.794998  120.655327  121.338661   \n",
       "2013-10-10          25.0  124.049004  123.032997  121.794998  120.655327   \n",
       "2013-10-11          25.0  125.961159  124.049004  123.032997  121.794998   \n",
       "2013-10-12          25.0  125.279663  125.961159  124.049004  123.032997   \n",
       "\n",
       "               Price+5     Price+6     Price+7  \n",
       "Date                                            \n",
       "2013-10-08  108.584831  125.455002  123.654991  \n",
       "2013-10-09  118.674660  108.584831  125.455002  \n",
       "2013-10-10  121.338661  118.674660  108.584831  \n",
       "2013-10-11  120.655327  121.338661  118.674660  \n",
       "2013-10-12  121.794998  120.655327  121.338661  "
      ]
     },
     "execution_count": 96,
     "metadata": {},
     "output_type": "execute_result"
    }
   ],
   "source": [
    "# Create X (windows) and Y (horizons) features\n",
    "X = bitcoin_prices_windowed.dropna().drop('Price', axis=1).astype(np.float32)\n",
    "y = bitcoin_prices_windowed.dropna()['Price'].astype(np.float32)\n",
    "X.head()"
   ]
  },
  {
   "cell_type": "code",
   "execution_count": 97,
   "id": "ac7a5466",
   "metadata": {},
   "outputs": [
    {
     "data": {
      "application/vnd.microsoft.datawrangler.viewer.v0+json": {
       "columns": [
        {
         "name": "Date",
         "rawType": "datetime64[ns]",
         "type": "datetime"
        },
        {
         "name": "Price",
         "rawType": "float32",
         "type": "float"
        }
       ],
       "ref": "bd5dadf0-af5a-454b-8845-6ff94ed281ad",
       "rows": [
        [
         "2013-10-08 00:00:00",
         "123.033"
        ],
        [
         "2013-10-09 00:00:00",
         "124.049"
        ],
        [
         "2013-10-10 00:00:00",
         "125.96116"
        ],
        [
         "2013-10-11 00:00:00",
         "125.27966"
        ],
        [
         "2013-10-12 00:00:00",
         "125.9275"
        ]
       ],
       "shape": {
        "columns": 1,
        "rows": 5
       }
      },
      "text/plain": [
       "Date\n",
       "2013-10-08    123.032997\n",
       "2013-10-09    124.049004\n",
       "2013-10-10    125.961159\n",
       "2013-10-11    125.279663\n",
       "2013-10-12    125.927498\n",
       "Name: Price, dtype: float32"
      ]
     },
     "execution_count": 97,
     "metadata": {},
     "output_type": "execute_result"
    }
   ],
   "source": [
    "y.head()"
   ]
  },
  {
   "cell_type": "code",
   "execution_count": 98,
   "id": "d05edde9",
   "metadata": {},
   "outputs": [],
   "source": [
    "# Make train and test sets using indexing\n",
    "split_size = int(len(X) * 0.8)\n",
    "X_train, y_train = X[:split_size], y[:split_size]\n",
    "X_test, y_test = X[split_size:], y[split_size:]"
   ]
  },
  {
   "cell_type": "markdown",
   "id": "5088ee33",
   "metadata": {},
   "source": [
    "## Model 6: Dense (multivariate time series)"
   ]
  },
  {
   "cell_type": "code",
   "execution_count": 99,
   "id": "711f27de",
   "metadata": {},
   "outputs": [
    {
     "name": "stdout",
     "output_type": "stream",
     "text": [
      "Epoch 1/100\n",
      "11/18 [=================>............] - ETA: 0s - loss: 1569.7363 INFO:tensorflow:Assets written to: model_experiments\\model_6_dense_multivariate\\assets\n"
     ]
    },
    {
     "name": "stderr",
     "output_type": "stream",
     "text": [
      "INFO:tensorflow:Assets written to: model_experiments\\model_6_dense_multivariate\\assets\n"
     ]
    },
    {
     "name": "stdout",
     "output_type": "stream",
     "text": [
      "18/18 [==============================] - 2s 84ms/step - loss: 1184.4952 - val_loss: 1088.4725\n",
      "Epoch 2/100\n",
      " 9/18 [==============>...............] - ETA: 0s - loss: 267.9379INFO:tensorflow:Assets written to: model_experiments\\model_6_dense_multivariate\\assets\n"
     ]
    },
    {
     "name": "stderr",
     "output_type": "stream",
     "text": [
      "INFO:tensorflow:Assets written to: model_experiments\\model_6_dense_multivariate\\assets\n"
     ]
    },
    {
     "name": "stdout",
     "output_type": "stream",
     "text": [
      "18/18 [==============================] - 1s 70ms/step - loss: 253.1954 - val_loss: 946.3515\n",
      "Epoch 3/100\n",
      "18/18 [==============================] - 0s 10ms/step - loss: 185.4033 - val_loss: 1207.0125\n",
      "Epoch 4/100\n",
      "11/18 [=================>............] - ETA: 0s - loss: 174.9849INFO:tensorflow:Assets written to: model_experiments\\model_6_dense_multivariate\\assets\n"
     ]
    },
    {
     "name": "stderr",
     "output_type": "stream",
     "text": [
      "INFO:tensorflow:Assets written to: model_experiments\\model_6_dense_multivariate\\assets\n"
     ]
    },
    {
     "name": "stdout",
     "output_type": "stream",
     "text": [
      "18/18 [==============================] - 1s 61ms/step - loss: 157.7658 - val_loss: 825.4808\n",
      "Epoch 5/100\n",
      " 9/18 [==============>...............] - ETA: 0s - loss: 152.1476INFO:tensorflow:Assets written to: model_experiments\\model_6_dense_multivariate\\assets\n"
     ]
    },
    {
     "name": "stderr",
     "output_type": "stream",
     "text": [
      "INFO:tensorflow:Assets written to: model_experiments\\model_6_dense_multivariate\\assets\n"
     ]
    },
    {
     "name": "stdout",
     "output_type": "stream",
     "text": [
      "18/18 [==============================] - 1s 65ms/step - loss: 140.7511 - val_loss: 767.9606\n",
      "Epoch 6/100\n",
      "11/18 [=================>............] - ETA: 0s - loss: 131.9472INFO:tensorflow:Assets written to: model_experiments\\model_6_dense_multivariate\\assets\n"
     ]
    },
    {
     "name": "stderr",
     "output_type": "stream",
     "text": [
      "INFO:tensorflow:Assets written to: model_experiments\\model_6_dense_multivariate\\assets\n"
     ]
    },
    {
     "name": "stdout",
     "output_type": "stream",
     "text": [
      "18/18 [==============================] - 1s 52ms/step - loss: 134.2630 - val_loss: 738.2864\n",
      "Epoch 7/100\n",
      " 9/18 [==============>...............] - ETA: 0s - loss: 139.4702INFO:tensorflow:Assets written to: model_experiments\\model_6_dense_multivariate\\assets\n"
     ]
    },
    {
     "name": "stderr",
     "output_type": "stream",
     "text": [
      "INFO:tensorflow:Assets written to: model_experiments\\model_6_dense_multivariate\\assets\n"
     ]
    },
    {
     "name": "stdout",
     "output_type": "stream",
     "text": [
      "18/18 [==============================] - 1s 62ms/step - loss: 128.5436 - val_loss: 702.8433\n",
      "Epoch 8/100\n",
      " 9/18 [==============>...............] - ETA: 0s - loss: 117.5375INFO:tensorflow:Assets written to: model_experiments\\model_6_dense_multivariate\\assets\n"
     ]
    },
    {
     "name": "stderr",
     "output_type": "stream",
     "text": [
      "INFO:tensorflow:Assets written to: model_experiments\\model_6_dense_multivariate\\assets\n"
     ]
    },
    {
     "name": "stdout",
     "output_type": "stream",
     "text": [
      "18/18 [==============================] - 1s 60ms/step - loss: 121.7013 - val_loss: 669.4865\n",
      "Epoch 9/100\n",
      "18/18 [==============================] - 0s 10ms/step - loss: 119.1274 - val_loss: 720.1637\n",
      "Epoch 10/100\n",
      "10/18 [===============>..............] - ETA: 0s - loss: 123.4323INFO:tensorflow:Assets written to: model_experiments\\model_6_dense_multivariate\\assets\n"
     ]
    },
    {
     "name": "stderr",
     "output_type": "stream",
     "text": [
      "INFO:tensorflow:Assets written to: model_experiments\\model_6_dense_multivariate\\assets\n"
     ]
    },
    {
     "name": "stdout",
     "output_type": "stream",
     "text": [
      "18/18 [==============================] - 1s 60ms/step - loss: 129.8635 - val_loss: 667.7339\n",
      "Epoch 11/100\n",
      "18/18 [==============================] - 0s 9ms/step - loss: 120.6955 - val_loss: 781.5903\n",
      "Epoch 12/100\n",
      "18/18 [==============================] - ETA: 0s - loss: 124.5564INFO:tensorflow:Assets written to: model_experiments\\model_6_dense_multivariate\\assets\n"
     ]
    },
    {
     "name": "stderr",
     "output_type": "stream",
     "text": [
      "INFO:tensorflow:Assets written to: model_experiments\\model_6_dense_multivariate\\assets\n"
     ]
    },
    {
     "name": "stdout",
     "output_type": "stream",
     "text": [
      "18/18 [==============================] - 1s 61ms/step - loss: 124.5564 - val_loss: 649.3356\n",
      "Epoch 13/100\n",
      "18/18 [==============================] - 0s 11ms/step - loss: 119.1209 - val_loss: 782.1046\n",
      "Epoch 14/100\n",
      "18/18 [==============================] - 0s 10ms/step - loss: 125.0486 - val_loss: 714.8867\n",
      "Epoch 15/100\n",
      "10/18 [===============>..............] - ETA: 0s - loss: 120.1861INFO:tensorflow:Assets written to: model_experiments\\model_6_dense_multivariate\\assets\n"
     ]
    },
    {
     "name": "stderr",
     "output_type": "stream",
     "text": [
      "INFO:tensorflow:Assets written to: model_experiments\\model_6_dense_multivariate\\assets\n"
     ]
    },
    {
     "name": "stdout",
     "output_type": "stream",
     "text": [
      "18/18 [==============================] - 1s 56ms/step - loss: 118.1208 - val_loss: 613.0934\n",
      "Epoch 16/100\n",
      "18/18 [==============================] - 0s 9ms/step - loss: 116.0785 - val_loss: 613.4006\n",
      "Epoch 17/100\n",
      "18/18 [==============================] - 0s 9ms/step - loss: 113.8101 - val_loss: 662.2026\n",
      "Epoch 18/100\n",
      "11/18 [=================>............] - ETA: 0s - loss: 116.6421INFO:tensorflow:Assets written to: model_experiments\\model_6_dense_multivariate\\assets\n"
     ]
    },
    {
     "name": "stderr",
     "output_type": "stream",
     "text": [
      "INFO:tensorflow:Assets written to: model_experiments\\model_6_dense_multivariate\\assets\n"
     ]
    },
    {
     "name": "stdout",
     "output_type": "stream",
     "text": [
      "18/18 [==============================] - 1s 61ms/step - loss: 110.8494 - val_loss: 600.9094\n",
      "Epoch 19/100\n",
      "10/18 [===============>..............] - ETA: 0s - loss: 104.0885INFO:tensorflow:Assets written to: model_experiments\\model_6_dense_multivariate\\assets\n"
     ]
    },
    {
     "name": "stderr",
     "output_type": "stream",
     "text": [
      "INFO:tensorflow:Assets written to: model_experiments\\model_6_dense_multivariate\\assets\n"
     ]
    },
    {
     "name": "stdout",
     "output_type": "stream",
     "text": [
      "18/18 [==============================] - 1s 57ms/step - loss: 113.6385 - val_loss: 598.5986\n",
      "Epoch 20/100\n",
      "18/18 [==============================] - 0s 7ms/step - loss: 108.5797 - val_loss: 633.9236\n",
      "Epoch 21/100\n",
      "18/18 [==============================] - 0s 9ms/step - loss: 117.5859 - val_loss: 764.8627\n",
      "Epoch 22/100\n",
      "18/18 [==============================] - 0s 9ms/step - loss: 122.3835 - val_loss: 656.7650\n",
      "Epoch 23/100\n",
      "12/18 [===================>..........] - ETA: 0s - loss: 108.1365INFO:tensorflow:Assets written to: model_experiments\\model_6_dense_multivariate\\assets\n"
     ]
    },
    {
     "name": "stderr",
     "output_type": "stream",
     "text": [
      "INFO:tensorflow:Assets written to: model_experiments\\model_6_dense_multivariate\\assets\n"
     ]
    },
    {
     "name": "stdout",
     "output_type": "stream",
     "text": [
      "18/18 [==============================] - 1s 59ms/step - loss: 111.4242 - val_loss: 595.7078\n",
      "Epoch 24/100\n",
      "11/18 [=================>............] - ETA: 0s - loss: 109.2594INFO:tensorflow:Assets written to: model_experiments\\model_6_dense_multivariate\\assets\n"
     ]
    },
    {
     "name": "stderr",
     "output_type": "stream",
     "text": [
      "INFO:tensorflow:Assets written to: model_experiments\\model_6_dense_multivariate\\assets\n"
     ]
    },
    {
     "name": "stdout",
     "output_type": "stream",
     "text": [
      "18/18 [==============================] - 1s 78ms/step - loss: 109.3565 - val_loss: 592.8791\n",
      "Epoch 25/100\n",
      "18/18 [==============================] - 0s 8ms/step - loss: 108.8547 - val_loss: 612.6655\n",
      "Epoch 26/100\n",
      "10/18 [===============>..............] - ETA: 0s - loss: 109.6796INFO:tensorflow:Assets written to: model_experiments\\model_6_dense_multivariate\\assets\n"
     ]
    },
    {
     "name": "stderr",
     "output_type": "stream",
     "text": [
      "INFO:tensorflow:Assets written to: model_experiments\\model_6_dense_multivariate\\assets\n"
     ]
    },
    {
     "name": "stdout",
     "output_type": "stream",
     "text": [
      "18/18 [==============================] - 1s 60ms/step - loss: 109.1027 - val_loss: 586.1697\n",
      "Epoch 27/100\n",
      "18/18 [==============================] - 0s 9ms/step - loss: 109.3627 - val_loss: 760.6909\n",
      "Epoch 28/100\n",
      "18/18 [==============================] - 0s 9ms/step - loss: 120.3456 - val_loss: 716.4592\n",
      "Epoch 29/100\n",
      "18/18 [==============================] - 0s 9ms/step - loss: 113.0153 - val_loss: 623.5656\n",
      "Epoch 30/100\n",
      "12/18 [===================>..........] - ETA: 0s - loss: 114.2645INFO:tensorflow:Assets written to: model_experiments\\model_6_dense_multivariate\\assets\n"
     ]
    },
    {
     "name": "stderr",
     "output_type": "stream",
     "text": [
      "INFO:tensorflow:Assets written to: model_experiments\\model_6_dense_multivariate\\assets\n"
     ]
    },
    {
     "name": "stdout",
     "output_type": "stream",
     "text": [
      "18/18 [==============================] - 1s 59ms/step - loss: 113.0107 - val_loss: 584.8182\n",
      "Epoch 31/100\n",
      "10/18 [===============>..............] - ETA: 0s - loss: 112.1095INFO:tensorflow:Assets written to: model_experiments\\model_6_dense_multivariate\\assets\n"
     ]
    },
    {
     "name": "stderr",
     "output_type": "stream",
     "text": [
      "INFO:tensorflow:Assets written to: model_experiments\\model_6_dense_multivariate\\assets\n"
     ]
    },
    {
     "name": "stdout",
     "output_type": "stream",
     "text": [
      "18/18 [==============================] - 1s 63ms/step - loss: 110.5512 - val_loss: 582.4077\n",
      "Epoch 32/100\n",
      "18/18 [==============================] - 0s 10ms/step - loss: 107.4779 - val_loss: 625.0775\n",
      "Epoch 33/100\n",
      "18/18 [==============================] - 0s 10ms/step - loss: 106.4307 - val_loss: 588.2190\n",
      "Epoch 34/100\n",
      "18/18 [==============================] - 0s 7ms/step - loss: 106.2173 - val_loss: 665.1392\n",
      "Epoch 35/100\n",
      "18/18 [==============================] - 0s 12ms/step - loss: 106.4017 - val_loss: 658.7993\n",
      "Epoch 36/100\n",
      "18/18 [==============================] - ETA: 0s - loss: 109.8265INFO:tensorflow:Assets written to: model_experiments\\model_6_dense_multivariate\\assets\n"
     ]
    },
    {
     "name": "stderr",
     "output_type": "stream",
     "text": [
      "INFO:tensorflow:Assets written to: model_experiments\\model_6_dense_multivariate\\assets\n"
     ]
    },
    {
     "name": "stdout",
     "output_type": "stream",
     "text": [
      "18/18 [==============================] - 1s 60ms/step - loss: 109.8265 - val_loss: 580.4611\n",
      "Epoch 37/100\n",
      "18/18 [==============================] - 0s 10ms/step - loss: 110.8615 - val_loss: 581.4225\n",
      "Epoch 38/100\n",
      "12/18 [===================>..........] - ETA: 0s - loss: 107.7492INFO:tensorflow:Assets written to: model_experiments\\model_6_dense_multivariate\\assets\n"
     ]
    },
    {
     "name": "stderr",
     "output_type": "stream",
     "text": [
      "INFO:tensorflow:Assets written to: model_experiments\\model_6_dense_multivariate\\assets\n"
     ]
    },
    {
     "name": "stdout",
     "output_type": "stream",
     "text": [
      "18/18 [==============================] - 1s 56ms/step - loss: 109.4612 - val_loss: 580.1354\n",
      "Epoch 39/100\n",
      "17/18 [===========================>..] - ETA: 0s - loss: 107.8433INFO:tensorflow:Assets written to: model_experiments\\model_6_dense_multivariate\\assets\n"
     ]
    },
    {
     "name": "stderr",
     "output_type": "stream",
     "text": [
      "INFO:tensorflow:Assets written to: model_experiments\\model_6_dense_multivariate\\assets\n"
     ]
    },
    {
     "name": "stdout",
     "output_type": "stream",
     "text": [
      "18/18 [==============================] - 1s 60ms/step - loss: 108.2096 - val_loss: 579.5896\n",
      "Epoch 40/100\n",
      "18/18 [==============================] - 0s 10ms/step - loss: 106.7467 - val_loss: 591.2000\n",
      "Epoch 41/100\n",
      "18/18 [==============================] - 0s 10ms/step - loss: 108.8859 - val_loss: 580.2364\n",
      "Epoch 42/100\n",
      "18/18 [==============================] - 0s 10ms/step - loss: 109.0782 - val_loss: 703.5905\n",
      "Epoch 43/100\n",
      "18/18 [==============================] - 0s 6ms/step - loss: 112.0732 - val_loss: 636.7496\n",
      "Epoch 44/100\n",
      "18/18 [==============================] - 0s 8ms/step - loss: 105.6343 - val_loss: 580.1552\n",
      "Epoch 45/100\n",
      "18/18 [==============================] - 0s 12ms/step - loss: 106.4063 - val_loss: 580.0437\n",
      "Epoch 46/100\n",
      " 1/18 [>.............................] - ETA: 0s - loss: 74.8245INFO:tensorflow:Assets written to: model_experiments\\model_6_dense_multivariate\\assets\n"
     ]
    },
    {
     "name": "stderr",
     "output_type": "stream",
     "text": [
      "INFO:tensorflow:Assets written to: model_experiments\\model_6_dense_multivariate\\assets\n"
     ]
    },
    {
     "name": "stdout",
     "output_type": "stream",
     "text": [
      "18/18 [==============================] - 1s 58ms/step - loss: 114.0356 - val_loss: 576.8331\n",
      "Epoch 47/100\n",
      "18/18 [==============================] - 0s 8ms/step - loss: 112.4842 - val_loss: 588.4374\n",
      "Epoch 48/100\n",
      "18/18 [==============================] - 0s 10ms/step - loss: 104.9893 - val_loss: 583.4062\n",
      "Epoch 49/100\n",
      "18/18 [==============================] - 0s 12ms/step - loss: 108.0208 - val_loss: 621.6286\n",
      "Epoch 50/100\n",
      "17/18 [===========================>..] - ETA: 0s - loss: 111.0286INFO:tensorflow:Assets written to: model_experiments\\model_6_dense_multivariate\\assets\n"
     ]
    },
    {
     "name": "stderr",
     "output_type": "stream",
     "text": [
      "INFO:tensorflow:Assets written to: model_experiments\\model_6_dense_multivariate\\assets\n"
     ]
    },
    {
     "name": "stdout",
     "output_type": "stream",
     "text": [
      "18/18 [==============================] - 1s 66ms/step - loss: 110.7282 - val_loss: 576.2504\n",
      "Epoch 51/100\n",
      "17/18 [===========================>..] - ETA: 0s - loss: 105.4155INFO:tensorflow:Assets written to: model_experiments\\model_6_dense_multivariate\\assets\n"
     ]
    },
    {
     "name": "stderr",
     "output_type": "stream",
     "text": [
      "INFO:tensorflow:Assets written to: model_experiments\\model_6_dense_multivariate\\assets\n"
     ]
    },
    {
     "name": "stdout",
     "output_type": "stream",
     "text": [
      "18/18 [==============================] - 1s 63ms/step - loss: 105.8017 - val_loss: 573.7808\n",
      "Epoch 52/100\n",
      "18/18 [==============================] - 0s 11ms/step - loss: 110.6105 - val_loss: 625.4026\n",
      "Epoch 53/100\n",
      "18/18 [==============================] - 0s 10ms/step - loss: 110.6326 - val_loss: 693.8770\n",
      "Epoch 54/100\n",
      "18/18 [==============================] - 0s 9ms/step - loss: 110.1117 - val_loss: 621.3721\n",
      "Epoch 55/100\n",
      "18/18 [==============================] - 0s 10ms/step - loss: 110.0434 - val_loss: 639.9207\n",
      "Epoch 56/100\n",
      "18/18 [==============================] - 0s 11ms/step - loss: 111.4458 - val_loss: 823.1360\n",
      "Epoch 57/100\n",
      "18/18 [==============================] - 0s 10ms/step - loss: 114.1450 - val_loss: 676.1965\n",
      "Epoch 58/100\n",
      "18/18 [==============================] - 0s 10ms/step - loss: 105.4690 - val_loss: 582.4333\n",
      "Epoch 59/100\n",
      "18/18 [==============================] - 0s 9ms/step - loss: 103.5973 - val_loss: 581.6969\n",
      "Epoch 60/100\n",
      "18/18 [==============================] - 0s 13ms/step - loss: 105.0248 - val_loss: 583.8854\n",
      "Epoch 61/100\n",
      "18/18 [==============================] - 0s 7ms/step - loss: 111.6808 - val_loss: 575.0475\n",
      "Epoch 62/100\n",
      "18/18 [==============================] - 0s 11ms/step - loss: 105.2435 - val_loss: 574.2724\n",
      "Epoch 63/100\n",
      "18/18 [==============================] - 0s 8ms/step - loss: 105.0243 - val_loss: 579.7614\n",
      "Epoch 64/100\n",
      "18/18 [==============================] - 0s 11ms/step - loss: 104.5875 - val_loss: 614.2173\n",
      "Epoch 65/100\n",
      "18/18 [==============================] - 0s 10ms/step - loss: 107.1829 - val_loss: 650.9330\n",
      "Epoch 66/100\n",
      "18/18 [==============================] - 0s 11ms/step - loss: 107.8145 - val_loss: 574.6281\n",
      "Epoch 67/100\n",
      "18/18 [==============================] - 0s 10ms/step - loss: 107.0942 - val_loss: 663.7189\n",
      "Epoch 68/100\n",
      "18/18 [==============================] - 0s 11ms/step - loss: 104.7221 - val_loss: 587.4283\n",
      "Epoch 69/100\n",
      "18/18 [==============================] - 0s 10ms/step - loss: 106.5008 - val_loss: 629.1765\n",
      "Epoch 70/100\n",
      "18/18 [==============================] - 0s 11ms/step - loss: 120.4796 - val_loss: 645.0369\n",
      "Epoch 71/100\n",
      "18/18 [==============================] - 0s 11ms/step - loss: 107.9855 - val_loss: 590.2386\n",
      "Epoch 72/100\n",
      "18/18 [==============================] - 0s 11ms/step - loss: 106.5114 - val_loss: 617.0522\n",
      "Epoch 73/100\n",
      "18/18 [==============================] - 0s 10ms/step - loss: 104.5191 - val_loss: 578.3545\n",
      "Epoch 74/100\n",
      "18/18 [==============================] - 0s 9ms/step - loss: 103.8838 - val_loss: 575.0579\n",
      "Epoch 75/100\n",
      "18/18 [==============================] - 0s 8ms/step - loss: 107.4406 - val_loss: 583.6013\n",
      "Epoch 76/100\n",
      "18/18 [==============================] - 0s 9ms/step - loss: 108.7953 - val_loss: 721.3538\n",
      "Epoch 77/100\n",
      "18/18 [==============================] - 0s 9ms/step - loss: 123.5633 - val_loss: 721.3651\n",
      "Epoch 78/100\n",
      "18/18 [==============================] - 0s 9ms/step - loss: 116.0410 - val_loss: 575.2072\n",
      "Epoch 79/100\n",
      "12/18 [===================>..........] - ETA: 0s - loss: 111.5769INFO:tensorflow:Assets written to: model_experiments\\model_6_dense_multivariate\\assets\n"
     ]
    },
    {
     "name": "stderr",
     "output_type": "stream",
     "text": [
      "INFO:tensorflow:Assets written to: model_experiments\\model_6_dense_multivariate\\assets\n"
     ]
    },
    {
     "name": "stdout",
     "output_type": "stream",
     "text": [
      "18/18 [==============================] - 1s 61ms/step - loss: 112.4504 - val_loss: 573.5080\n",
      "Epoch 80/100\n",
      "18/18 [==============================] - 0s 9ms/step - loss: 107.6343 - val_loss: 647.8589\n",
      "Epoch 81/100\n",
      "18/18 [==============================] - 0s 10ms/step - loss: 107.5608 - val_loss: 574.1027\n",
      "Epoch 82/100\n",
      "18/18 [==============================] - 0s 9ms/step - loss: 119.0314 - val_loss: 586.9606\n",
      "Epoch 83/100\n",
      "18/18 [==============================] - 0s 9ms/step - loss: 114.9973 - val_loss: 674.8830\n",
      "Epoch 84/100\n",
      "18/18 [==============================] - 0s 10ms/step - loss: 116.7164 - val_loss: 604.0117\n",
      "Epoch 85/100\n",
      "18/18 [==============================] - 0s 8ms/step - loss: 105.2902 - val_loss: 594.3168\n",
      "Epoch 86/100\n",
      "18/18 [==============================] - 0s 9ms/step - loss: 108.0221 - val_loss: 576.7224\n",
      "Epoch 87/100\n",
      "18/18 [==============================] - 0s 10ms/step - loss: 105.2864 - val_loss: 632.7744\n",
      "Epoch 88/100\n",
      "18/18 [==============================] - 0s 9ms/step - loss: 111.7143 - val_loss: 603.7615\n",
      "Epoch 89/100\n",
      "18/18 [==============================] - 0s 9ms/step - loss: 108.1826 - val_loss: 699.9196\n",
      "Epoch 90/100\n",
      "18/18 [==============================] - 0s 8ms/step - loss: 118.1406 - val_loss: 677.9700\n",
      "Epoch 91/100\n",
      "18/18 [==============================] - 0s 9ms/step - loss: 111.4789 - val_loss: 599.7188\n",
      "Epoch 92/100\n",
      "18/18 [==============================] - 0s 9ms/step - loss: 108.9438 - val_loss: 636.3983\n",
      "Epoch 93/100\n",
      "18/18 [==============================] - 0s 10ms/step - loss: 117.1690 - val_loss: 578.5593\n",
      "Epoch 94/100\n",
      "18/18 [==============================] - 0s 9ms/step - loss: 117.5937 - val_loss: 586.2021\n",
      "Epoch 95/100\n",
      "18/18 [==============================] - 0s 9ms/step - loss: 105.8776 - val_loss: 578.5280\n",
      "Epoch 96/100\n",
      "18/18 [==============================] - 0s 6ms/step - loss: 104.6563 - val_loss: 604.0961\n",
      "Epoch 97/100\n",
      "18/18 [==============================] - 0s 9ms/step - loss: 105.1733 - val_loss: 581.1725\n",
      "Epoch 98/100\n",
      "18/18 [==============================] - 0s 9ms/step - loss: 104.2188 - val_loss: 576.2838\n",
      "Epoch 99/100\n",
      "18/18 [==============================] - 0s 8ms/step - loss: 106.3178 - val_loss: 589.8858\n",
      "Epoch 100/100\n",
      "18/18 [==============================] - 0s 9ms/step - loss: 111.9626 - val_loss: 575.5861\n"
     ]
    },
    {
     "data": {
      "text/plain": [
       "<keras.callbacks.History at 0x28bc6a7a110>"
      ]
     },
     "execution_count": 99,
     "metadata": {},
     "output_type": "execute_result"
    }
   ],
   "source": [
    "tf.random.set_seed(42)\n",
    "\n",
    "# Make multivariate time series model\n",
    "model_6 = tf.keras.Sequential([\n",
    "    layers.Dense(128, activation='relu'),\n",
    "    layers.Dense(128, activation='relu'),\n",
    "    layers.Dense(HORIZON)\n",
    "], name='model_6_dense_multivariate')\n",
    "\n",
    "# Compile\n",
    "model_6.compile(loss='mae',\n",
    "                optimizer=tf.keras.optimizers.Adam())\n",
    "# Fit\n",
    "model_6.fit(X_train, y_train,\n",
    "            epochs=100,\n",
    "            batch_size=128,\n",
    "            verbose=1,\n",
    "            validation_data=(X_test, y_test),\n",
    "            callbacks=[create_model_checkpoint(model_name=model_6.name)])"
   ]
  },
  {
   "cell_type": "code",
   "execution_count": 100,
   "id": "fbbd0cd9",
   "metadata": {},
   "outputs": [
    {
     "name": "stdout",
     "output_type": "stream",
     "text": [
      "12/18 [===================>..........] - ETA: 0s - loss: 213.7869"
     ]
    },
    {
     "name": "stdout",
     "output_type": "stream",
     "text": [
      "18/18 [==============================] - 0s 5ms/step - loss: 575.2973\n"
     ]
    },
    {
     "data": {
      "text/plain": [
       "575.2973022460938"
      ]
     },
     "execution_count": 100,
     "metadata": {},
     "output_type": "execute_result"
    }
   ],
   "source": [
    "# Evaluate multivariate model\n",
    "model_6.evaluate(X_test, y_test)"
   ]
  },
  {
   "cell_type": "code",
   "execution_count": 101,
   "id": "6a6e0019",
   "metadata": {},
   "outputs": [
    {
     "name": "stdout",
     "output_type": "stream",
     "text": [
      "18/18 [==============================] - 0s 4ms/step - loss: 573.5096\n"
     ]
    },
    {
     "data": {
      "text/plain": [
       "573.5095825195312"
      ]
     },
     "execution_count": 101,
     "metadata": {},
     "output_type": "execute_result"
    }
   ],
   "source": [
    "# Load in and evaluate best performing model\n",
    "model_6 = tf.keras.models.load_model('model_experiments/model_6_dense_multivariate')\n",
    "model_6.evaluate(X_test, y_test)"
   ]
  },
  {
   "cell_type": "code",
   "execution_count": 102,
   "id": "30153aba",
   "metadata": {},
   "outputs": [
    {
     "name": "stdout",
     "output_type": "stream",
     "text": [
      "18/18 [==============================] - 0s 3ms/step\n"
     ]
    },
    {
     "data": {
      "text/plain": [
       "<tf.Tensor: shape=(10,), dtype=float32, numpy=\n",
       "array([8804.917, 8755.168, 9021.642, 8713.956, 8702.965, 8726.415,\n",
       "       8652.041, 8482.159, 8438.014, 8506.371], dtype=float32)>"
      ]
     },
     "execution_count": 102,
     "metadata": {},
     "output_type": "execute_result"
    }
   ],
   "source": [
    "# Make predictions with multivariate model\n",
    "model_6_preds = tf.squeeze(model_6.predict(X_test))\n",
    "model_6_preds[:10]"
   ]
  },
  {
   "cell_type": "code",
   "execution_count": 103,
   "id": "d425ce79",
   "metadata": {},
   "outputs": [
    {
     "data": {
      "text/plain": [
       "{'mae': 573.5096,\n",
       " 'mse': 1175878.9,\n",
       " 'rmse': 1084.3795,\n",
       " 'mape': 2.5914595,\n",
       " 'mase': 1.0074974}"
      ]
     },
     "execution_count": 103,
     "metadata": {},
     "output_type": "execute_result"
    }
   ],
   "source": [
    "# Evaluate predictions to get eval metrics\n",
    "model_6_results = evaluate_preds(y_true=y_test,\n",
    "                                 y_pred=model_6_preds)\n",
    "model_6_results"
   ]
  },
  {
   "cell_type": "code",
   "execution_count": 104,
   "id": "da85c3f3",
   "metadata": {},
   "outputs": [
    {
     "data": {
      "text/plain": [
       "{'mae': 569.51855,\n",
       " 'mse': 1165525.6,\n",
       " 'rmse': 1079.5951,\n",
       " 'mape': 2.5527081,\n",
       " 'mase': 0.9940091}"
      ]
     },
     "execution_count": 104,
     "metadata": {},
     "output_type": "execute_result"
    }
   ],
   "source": [
    "model_1_results"
   ]
  },
  {
   "cell_type": "code",
   "execution_count": 105,
   "id": "efd3378b",
   "metadata": {},
   "outputs": [
    {
     "data": {
      "text/plain": [
       "{'mae': 567.9802,\n",
       " 'mse': 1147547.0,\n",
       " 'rmse': 1071.2362,\n",
       " 'mape': 2.516525,\n",
       " 'mase': 0.99957}"
      ]
     },
     "execution_count": 105,
     "metadata": {},
     "output_type": "execute_result"
    }
   ],
   "source": [
    "naive_results"
   ]
  },
  {
   "cell_type": "markdown",
   "id": "4d75bb2c",
   "metadata": {},
   "source": [
    "## Model 7: N-BEATS algorithm\n",
    "\n",
    "Let's now try build the biggest baddest (though maybe not the baddest, as in, it perform really well...) time series forecasting model we have built so far.\n",
    "\n",
    "More specifically, we are going to be replicating the algorithm in the following paper: https://arxiv.org/pdf/1905.10437\n",
    "\n",
    "* This will allow us to practice replicating a paper with TensorFlow code\n",
    "* We will see how to use TensorFlow layer subclassing (to make our own custom layers)\n",
    "* Get experience using the Functional API to create a custom architecture\n",
    "* Potentially get state of the art results on our problem"
   ]
  },
  {
   "cell_type": "markdown",
   "id": "2c0b3ef1",
   "metadata": {},
   "source": [
    "### Building and testing the N-BEATS block layer\n",
    "\n",
    "Because the N-BEATS block layer doesn't exist in TensorFlow, we have got to create it.\n",
    "\n",
    "To create custom layers"
   ]
  },
  {
   "cell_type": "code",
   "execution_count": 107,
   "id": "4a9e913c",
   "metadata": {},
   "outputs": [],
   "source": [
    "# Create NBeatsBlock custom layer\n",
    "class NBeatsBlock(tf.keras.layers.Layer):\n",
    "\n",
    "    def __init__(self,\n",
    "                 input_size: int,\n",
    "                 theta_size:int,\n",
    "                 horizon: int,\n",
    "                 n_neurons: int,\n",
    "                 n_layers: int,\n",
    "                 **kwargs):\n",
    "        super().__init__(**kwargs)\n",
    "        self.input_size = input_size\n",
    "        self.theta_size = theta_size\n",
    "        self.horizon = horizon\n",
    "        self.n_neurons = n_neurons\n",
    "        self.n_layers = n_layers\n",
    "\n",
    "        # Block contains stack of 4 fully connected layers wach has ReLU activation\n",
    "        self.hidden = [tf.keras.layers.Dense(n_neurons, activation='relu') for _ in range(n_layers)]\n",
    "        # Output of block is a theta layer with linear activation\n",
    "        self.theta_layer = tf.keras.layers.Dense(theta_size, activation='linear', name='theta')\n",
    "\n",
    "    def call(self, inputs):\n",
    "        x = inputs\n",
    "        for layer in self.hidden:\n",
    "            x = layer(x)\n",
    "        theta = self.theta_layer(x)\n",
    "        # Output the backcast and the forecast from theta\n",
    "        backcast, forecast = theta[:, :self.input_size], theta[:, -self.horizon]\n",
    "        return backcast, forecast"
   ]
  }
 ],
 "metadata": {
  "kernelspec": {
   "display_name": "tf3",
   "language": "python",
   "name": "python3"
  },
  "language_info": {
   "codemirror_mode": {
    "name": "ipython",
    "version": 3
   },
   "file_extension": ".py",
   "mimetype": "text/x-python",
   "name": "python",
   "nbconvert_exporter": "python",
   "pygments_lexer": "ipython3",
   "version": "3.10.18"
  }
 },
 "nbformat": 4,
 "nbformat_minor": 5
}

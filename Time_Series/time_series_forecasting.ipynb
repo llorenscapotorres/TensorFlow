{
 "cells": [
  {
   "cell_type": "markdown",
   "id": "197107bd",
   "metadata": {},
   "source": [
    "# Time Series Forecasting Fundamentals with TensorFlow + Milestone Project: BitPredict\n",
    "\n",
    "Let's write some TensorFlow code to predict the price of Bitcoin based on historical price of Bitcoin."
   ]
  },
  {
   "cell_type": "markdown",
   "id": "d842b633",
   "metadata": {},
   "source": [
    "## Importing time series with pandas"
   ]
  },
  {
   "cell_type": "code",
   "execution_count": 1,
   "id": "912c0b37",
   "metadata": {},
   "outputs": [
    {
     "data": {
      "application/vnd.microsoft.datawrangler.viewer.v0+json": {
       "columns": [
        {
         "name": "Date",
         "rawType": "datetime64[ns]",
         "type": "datetime"
        },
        {
         "name": "Currency",
         "rawType": "object",
         "type": "string"
        },
        {
         "name": "Closing Price (USD)",
         "rawType": "float64",
         "type": "float"
        },
        {
         "name": "24h Open (USD)",
         "rawType": "float64",
         "type": "float"
        },
        {
         "name": "24h High (USD)",
         "rawType": "float64",
         "type": "float"
        },
        {
         "name": "24h Low (USD)",
         "rawType": "float64",
         "type": "float"
        }
       ],
       "ref": "2cc769d8-4eeb-44d8-bae0-9881eca4a2aa",
       "rows": [
        [
         "2013-10-01 00:00:00",
         "BTC",
         "123.65499",
         "124.30466",
         "124.75166",
         "122.56349"
        ],
        [
         "2013-10-02 00:00:00",
         "BTC",
         "125.455",
         "123.65499",
         "125.7585",
         "123.63383"
        ],
        [
         "2013-10-03 00:00:00",
         "BTC",
         "108.58483",
         "125.455",
         "125.66566",
         "83.32833"
        ],
        [
         "2013-10-04 00:00:00",
         "BTC",
         "118.67466",
         "108.58483",
         "118.675",
         "107.05816"
        ],
        [
         "2013-10-05 00:00:00",
         "BTC",
         "121.33866",
         "118.67466",
         "121.93633",
         "118.00566"
        ]
       ],
       "shape": {
        "columns": 5,
        "rows": 5
       }
      },
      "text/html": [
       "<div>\n",
       "<style scoped>\n",
       "    .dataframe tbody tr th:only-of-type {\n",
       "        vertical-align: middle;\n",
       "    }\n",
       "\n",
       "    .dataframe tbody tr th {\n",
       "        vertical-align: top;\n",
       "    }\n",
       "\n",
       "    .dataframe thead th {\n",
       "        text-align: right;\n",
       "    }\n",
       "</style>\n",
       "<table border=\"1\" class=\"dataframe\">\n",
       "  <thead>\n",
       "    <tr style=\"text-align: right;\">\n",
       "      <th></th>\n",
       "      <th>Currency</th>\n",
       "      <th>Closing Price (USD)</th>\n",
       "      <th>24h Open (USD)</th>\n",
       "      <th>24h High (USD)</th>\n",
       "      <th>24h Low (USD)</th>\n",
       "    </tr>\n",
       "    <tr>\n",
       "      <th>Date</th>\n",
       "      <th></th>\n",
       "      <th></th>\n",
       "      <th></th>\n",
       "      <th></th>\n",
       "      <th></th>\n",
       "    </tr>\n",
       "  </thead>\n",
       "  <tbody>\n",
       "    <tr>\n",
       "      <th>2013-10-01</th>\n",
       "      <td>BTC</td>\n",
       "      <td>123.65499</td>\n",
       "      <td>124.30466</td>\n",
       "      <td>124.75166</td>\n",
       "      <td>122.56349</td>\n",
       "    </tr>\n",
       "    <tr>\n",
       "      <th>2013-10-02</th>\n",
       "      <td>BTC</td>\n",
       "      <td>125.45500</td>\n",
       "      <td>123.65499</td>\n",
       "      <td>125.75850</td>\n",
       "      <td>123.63383</td>\n",
       "    </tr>\n",
       "    <tr>\n",
       "      <th>2013-10-03</th>\n",
       "      <td>BTC</td>\n",
       "      <td>108.58483</td>\n",
       "      <td>125.45500</td>\n",
       "      <td>125.66566</td>\n",
       "      <td>83.32833</td>\n",
       "    </tr>\n",
       "    <tr>\n",
       "      <th>2013-10-04</th>\n",
       "      <td>BTC</td>\n",
       "      <td>118.67466</td>\n",
       "      <td>108.58483</td>\n",
       "      <td>118.67500</td>\n",
       "      <td>107.05816</td>\n",
       "    </tr>\n",
       "    <tr>\n",
       "      <th>2013-10-05</th>\n",
       "      <td>BTC</td>\n",
       "      <td>121.33866</td>\n",
       "      <td>118.67466</td>\n",
       "      <td>121.93633</td>\n",
       "      <td>118.00566</td>\n",
       "    </tr>\n",
       "  </tbody>\n",
       "</table>\n",
       "</div>"
      ],
      "text/plain": [
       "           Currency  Closing Price (USD)  24h Open (USD)  24h High (USD)  \\\n",
       "Date                                                                       \n",
       "2013-10-01      BTC            123.65499       124.30466       124.75166   \n",
       "2013-10-02      BTC            125.45500       123.65499       125.75850   \n",
       "2013-10-03      BTC            108.58483       125.45500       125.66566   \n",
       "2013-10-04      BTC            118.67466       108.58483       118.67500   \n",
       "2013-10-05      BTC            121.33866       118.67466       121.93633   \n",
       "\n",
       "            24h Low (USD)  \n",
       "Date                       \n",
       "2013-10-01      122.56349  \n",
       "2013-10-02      123.63383  \n",
       "2013-10-03       83.32833  \n",
       "2013-10-04      107.05816  \n",
       "2013-10-05      118.00566  "
      ]
     },
     "execution_count": 1,
     "metadata": {},
     "output_type": "execute_result"
    }
   ],
   "source": [
    "# Import with pandas\n",
    "import pandas as pd\n",
    "# Let's read in our Bitcoin data and parse the dates\n",
    "df = pd.read_csv('./bitcoin_price.csv',\n",
    "                 parse_dates=['Date'],\n",
    "                 index_col=['Date']) # parse the date column and tell pandas column 1 is a datetime\n",
    "\n",
    "df.head()"
   ]
  },
  {
   "cell_type": "code",
   "execution_count": 2,
   "id": "756c4c8b",
   "metadata": {},
   "outputs": [
    {
     "data": {
      "application/vnd.microsoft.datawrangler.viewer.v0+json": {
       "columns": [
        {
         "name": "Date",
         "rawType": "datetime64[ns]",
         "type": "datetime"
        },
        {
         "name": "Currency",
         "rawType": "object",
         "type": "string"
        },
        {
         "name": "Closing Price (USD)",
         "rawType": "float64",
         "type": "float"
        },
        {
         "name": "24h Open (USD)",
         "rawType": "float64",
         "type": "float"
        },
        {
         "name": "24h High (USD)",
         "rawType": "float64",
         "type": "float"
        },
        {
         "name": "24h Low (USD)",
         "rawType": "float64",
         "type": "float"
        }
       ],
       "ref": "9c765f43-5dc9-4939-b886-a761f0e33210",
       "rows": [
        [
         "2021-05-14 00:00:00",
         "BTC",
         "49764.1320815975",
         "49596.7788914698",
         "51448.7985760232",
         "46294.7201795113"
        ],
        [
         "2021-05-15 00:00:00",
         "BTC",
         "50032.6931367648",
         "49717.3543531654",
         "51578.3125446899",
         "48944.3465360214"
        ],
        [
         "2021-05-16 00:00:00",
         "BTC",
         "47885.6252547166",
         "49926.035067459",
         "50690.8029495356",
         "47005.1022924768"
        ],
        [
         "2021-05-17 00:00:00",
         "BTC",
         "45604.6157536131",
         "46805.5378519185",
         "49670.4141738148",
         "43868.6389692715"
        ],
        [
         "2021-05-18 00:00:00",
         "BTC",
         "43144.4712908603",
         "46439.3365698047",
         "46622.8534374849",
         "42102.3464296188"
        ]
       ],
       "shape": {
        "columns": 5,
        "rows": 5
       }
      },
      "text/html": [
       "<div>\n",
       "<style scoped>\n",
       "    .dataframe tbody tr th:only-of-type {\n",
       "        vertical-align: middle;\n",
       "    }\n",
       "\n",
       "    .dataframe tbody tr th {\n",
       "        vertical-align: top;\n",
       "    }\n",
       "\n",
       "    .dataframe thead th {\n",
       "        text-align: right;\n",
       "    }\n",
       "</style>\n",
       "<table border=\"1\" class=\"dataframe\">\n",
       "  <thead>\n",
       "    <tr style=\"text-align: right;\">\n",
       "      <th></th>\n",
       "      <th>Currency</th>\n",
       "      <th>Closing Price (USD)</th>\n",
       "      <th>24h Open (USD)</th>\n",
       "      <th>24h High (USD)</th>\n",
       "      <th>24h Low (USD)</th>\n",
       "    </tr>\n",
       "    <tr>\n",
       "      <th>Date</th>\n",
       "      <th></th>\n",
       "      <th></th>\n",
       "      <th></th>\n",
       "      <th></th>\n",
       "      <th></th>\n",
       "    </tr>\n",
       "  </thead>\n",
       "  <tbody>\n",
       "    <tr>\n",
       "      <th>2021-05-14</th>\n",
       "      <td>BTC</td>\n",
       "      <td>49764.132082</td>\n",
       "      <td>49596.778891</td>\n",
       "      <td>51448.798576</td>\n",
       "      <td>46294.720180</td>\n",
       "    </tr>\n",
       "    <tr>\n",
       "      <th>2021-05-15</th>\n",
       "      <td>BTC</td>\n",
       "      <td>50032.693137</td>\n",
       "      <td>49717.354353</td>\n",
       "      <td>51578.312545</td>\n",
       "      <td>48944.346536</td>\n",
       "    </tr>\n",
       "    <tr>\n",
       "      <th>2021-05-16</th>\n",
       "      <td>BTC</td>\n",
       "      <td>47885.625255</td>\n",
       "      <td>49926.035067</td>\n",
       "      <td>50690.802950</td>\n",
       "      <td>47005.102292</td>\n",
       "    </tr>\n",
       "    <tr>\n",
       "      <th>2021-05-17</th>\n",
       "      <td>BTC</td>\n",
       "      <td>45604.615754</td>\n",
       "      <td>46805.537852</td>\n",
       "      <td>49670.414174</td>\n",
       "      <td>43868.638969</td>\n",
       "    </tr>\n",
       "    <tr>\n",
       "      <th>2021-05-18</th>\n",
       "      <td>BTC</td>\n",
       "      <td>43144.471291</td>\n",
       "      <td>46439.336570</td>\n",
       "      <td>46622.853437</td>\n",
       "      <td>42102.346430</td>\n",
       "    </tr>\n",
       "  </tbody>\n",
       "</table>\n",
       "</div>"
      ],
      "text/plain": [
       "           Currency  Closing Price (USD)  24h Open (USD)  24h High (USD)  \\\n",
       "Date                                                                       \n",
       "2021-05-14      BTC         49764.132082    49596.778891    51448.798576   \n",
       "2021-05-15      BTC         50032.693137    49717.354353    51578.312545   \n",
       "2021-05-16      BTC         47885.625255    49926.035067    50690.802950   \n",
       "2021-05-17      BTC         45604.615754    46805.537852    49670.414174   \n",
       "2021-05-18      BTC         43144.471291    46439.336570    46622.853437   \n",
       "\n",
       "            24h Low (USD)  \n",
       "Date                       \n",
       "2021-05-14   46294.720180  \n",
       "2021-05-15   48944.346536  \n",
       "2021-05-16   47005.102292  \n",
       "2021-05-17   43868.638969  \n",
       "2021-05-18   42102.346430  "
      ]
     },
     "execution_count": 2,
     "metadata": {},
     "output_type": "execute_result"
    }
   ],
   "source": [
    "df.tail()"
   ]
  },
  {
   "cell_type": "code",
   "execution_count": 3,
   "id": "9fca5567",
   "metadata": {},
   "outputs": [
    {
     "name": "stdout",
     "output_type": "stream",
     "text": [
      "<class 'pandas.core.frame.DataFrame'>\n",
      "DatetimeIndex: 2787 entries, 2013-10-01 to 2021-05-18\n",
      "Data columns (total 5 columns):\n",
      " #   Column               Non-Null Count  Dtype  \n",
      "---  ------               --------------  -----  \n",
      " 0   Currency             2787 non-null   object \n",
      " 1   Closing Price (USD)  2787 non-null   float64\n",
      " 2   24h Open (USD)       2787 non-null   float64\n",
      " 3   24h High (USD)       2787 non-null   float64\n",
      " 4   24h Low (USD)        2787 non-null   float64\n",
      "dtypes: float64(4), object(1)\n",
      "memory usage: 130.6+ KB\n"
     ]
    }
   ],
   "source": [
    "df.info()"
   ]
  },
  {
   "cell_type": "code",
   "execution_count": 4,
   "id": "67661981",
   "metadata": {},
   "outputs": [
    {
     "data": {
      "text/plain": [
       "2787"
      ]
     },
     "execution_count": 4,
     "metadata": {},
     "output_type": "execute_result"
    }
   ],
   "source": [
    "# How many samples do we have?\n",
    "len(df)"
   ]
  },
  {
   "cell_type": "markdown",
   "id": "7733d08d",
   "metadata": {},
   "source": [
    "We have collected the historical price of Bitcoin for the past ~8 years but there's 2787 samples.\n",
    "\n",
    "Typically deep learning models usually like lots and lots and lots of samples (where lots and lots and lots can be thousands to tens of thousands to millions).\n",
    "\n",
    "A smaller number of samples is something you will often run into with time series of ata problems.\n",
    "\n",
    "**Note:** The **seasonality** of a time series dataset is referred as the nmber of samples per year. So for our Bitcoin data, it has seasonality of daily or value of 365 because we collect one sample per day meaning we will get 365 samples per year."
   ]
  },
  {
   "cell_type": "code",
   "execution_count": 5,
   "id": "5f48b757",
   "metadata": {},
   "outputs": [
    {
     "data": {
      "application/vnd.microsoft.datawrangler.viewer.v0+json": {
       "columns": [
        {
         "name": "Date",
         "rawType": "datetime64[ns]",
         "type": "datetime"
        },
        {
         "name": "Price",
         "rawType": "float64",
         "type": "float"
        }
       ],
       "ref": "9653c29b-9586-4d83-92f2-b915af0a0929",
       "rows": [
        [
         "2013-10-01 00:00:00",
         "123.65499"
        ],
        [
         "2013-10-02 00:00:00",
         "125.455"
        ],
        [
         "2013-10-03 00:00:00",
         "108.58483"
        ],
        [
         "2013-10-04 00:00:00",
         "118.67466"
        ],
        [
         "2013-10-05 00:00:00",
         "121.33866"
        ]
       ],
       "shape": {
        "columns": 1,
        "rows": 5
       }
      },
      "text/html": [
       "<div>\n",
       "<style scoped>\n",
       "    .dataframe tbody tr th:only-of-type {\n",
       "        vertical-align: middle;\n",
       "    }\n",
       "\n",
       "    .dataframe tbody tr th {\n",
       "        vertical-align: top;\n",
       "    }\n",
       "\n",
       "    .dataframe thead th {\n",
       "        text-align: right;\n",
       "    }\n",
       "</style>\n",
       "<table border=\"1\" class=\"dataframe\">\n",
       "  <thead>\n",
       "    <tr style=\"text-align: right;\">\n",
       "      <th></th>\n",
       "      <th>Price</th>\n",
       "    </tr>\n",
       "    <tr>\n",
       "      <th>Date</th>\n",
       "      <th></th>\n",
       "    </tr>\n",
       "  </thead>\n",
       "  <tbody>\n",
       "    <tr>\n",
       "      <th>2013-10-01</th>\n",
       "      <td>123.65499</td>\n",
       "    </tr>\n",
       "    <tr>\n",
       "      <th>2013-10-02</th>\n",
       "      <td>125.45500</td>\n",
       "    </tr>\n",
       "    <tr>\n",
       "      <th>2013-10-03</th>\n",
       "      <td>108.58483</td>\n",
       "    </tr>\n",
       "    <tr>\n",
       "      <th>2013-10-04</th>\n",
       "      <td>118.67466</td>\n",
       "    </tr>\n",
       "    <tr>\n",
       "      <th>2013-10-05</th>\n",
       "      <td>121.33866</td>\n",
       "    </tr>\n",
       "  </tbody>\n",
       "</table>\n",
       "</div>"
      ],
      "text/plain": [
       "                Price\n",
       "Date                 \n",
       "2013-10-01  123.65499\n",
       "2013-10-02  125.45500\n",
       "2013-10-03  108.58483\n",
       "2013-10-04  118.67466\n",
       "2013-10-05  121.33866"
      ]
     },
     "execution_count": 5,
     "metadata": {},
     "output_type": "execute_result"
    }
   ],
   "source": [
    "# Only want closing price for each day\n",
    "bitcoin_prices = pd.DataFrame(df['Closing Price (USD)']).rename(columns={'Closing Price (USD)': 'Price'})\n",
    "bitcoin_prices.head()"
   ]
  },
  {
   "cell_type": "code",
   "execution_count": 6,
   "id": "f8096130",
   "metadata": {},
   "outputs": [
    {
     "data": {
      "image/png": "[encoded data removed]",
      "text/plain": [
       "<Figure size 1000x700 with 1 Axes>"
      ]
     },
     "metadata": {},
     "output_type": "display_data"
    }
   ],
   "source": [
    "import matplotlib.pyplot as plt\n",
    "bitcoin_prices.plot(figsize=(10, 7))\n",
    "plt.ylabel('BTC Price')\n",
    "plt.title('Price of Bitcoin from 1 Oct 2013 to 18 May 2021', fontsize=16)\n",
    "plt.legend(fontsize=14)\n",
    "plt.show()"
   ]
  },
  {
   "cell_type": "markdown",
   "id": "719f1176",
   "metadata": {},
   "source": [
    "## Importing time series data with Pyhton's CSV module"
   ]
  },
  {
   "cell_type": "code",
   "execution_count": 7,
   "id": "1564be6a",
   "metadata": {},
   "outputs": [
    {
     "data": {
      "text/plain": [
       "([datetime.datetime(2013, 10, 1, 0, 0),\n",
       "  datetime.datetime(2013, 10, 2, 0, 0),\n",
       "  datetime.datetime(2013, 10, 3, 0, 0),\n",
       "  datetime.datetime(2013, 10, 4, 0, 0),\n",
       "  datetime.datetime(2013, 10, 5, 0, 0),\n",
       "  datetime.datetime(2013, 10, 6, 0, 0),\n",
       "  datetime.datetime(2013, 10, 7, 0, 0),\n",
       "  datetime.datetime(2013, 10, 8, 0, 0),\n",
       "  datetime.datetime(2013, 10, 9, 0, 0),\n",
       "  datetime.datetime(2013, 10, 10, 0, 0)],\n",
       " [123.65499,\n",
       "  125.455,\n",
       "  108.58483,\n",
       "  118.67466,\n",
       "  121.33866,\n",
       "  120.65533,\n",
       "  121.795,\n",
       "  123.033,\n",
       "  124.049,\n",
       "  125.96116])"
      ]
     },
     "execution_count": 7,
     "metadata": {},
     "output_type": "execute_result"
    }
   ],
   "source": [
    "# Importing and formatting historical Bitcoin data with Python\n",
    "import csv\n",
    "from datetime import datetime\n",
    "\n",
    "timesteps = []\n",
    "btc_price = []\n",
    "with open(\"bitcoin_price.csv\", \"r\") as f:\n",
    "    csv_reader = csv.reader(f, delimiter=\",\")\n",
    "    next(csv_reader) # Skip the header\n",
    "    for line in csv_reader:\n",
    "        timesteps.append(datetime.strptime(line[1], \"%Y-%m-%d\")) # get the dates as dates (not strings)\n",
    "        btc_price.append(float(line[2])) # get the bitcoin price as float\n",
    "\n",
    "# View first 10 of each\n",
    "timesteps[:10], btc_price[:10]"
   ]
  },
  {
   "cell_type": "code",
   "execution_count": 8,
   "id": "b66fb40d",
   "metadata": {},
   "outputs": [
    {
     "data": {
      "image/png": "[encoded data removed]",
      "text/plain": [
       "<Figure size 1000x700 with 1 Axes>"
      ]
     },
     "metadata": {},
     "output_type": "display_data"
    }
   ],
   "source": [
    "# Plot from CSV\n",
    "import matplotlib.pyplot as plt\n",
    "import numpy as np\n",
    "\n",
    "plt.figure(figsize=(10, 7))\n",
    "plt.plot(timesteps, btc_price)\n",
    "plt.ylabel('BTC Price')\n",
    "plt.title('Price of Bitcoin from 1 Oct 2013 to 18 May 2021', fontsize=16)\n",
    "plt.xlabel('Date')\n",
    "plt.show()"
   ]
  },
  {
   "cell_type": "markdown",
   "id": "cde748e6",
   "metadata": {},
   "source": [
    "## Format data part 1: Create train and test sets of our time series data"
   ]
  },
  {
   "cell_type": "markdown",
   "id": "719aa139",
   "metadata": {},
   "source": [
    "### Creating train and test sets with time series data (the wrong way)"
   ]
  },
  {
   "cell_type": "code",
   "execution_count": 9,
   "id": "65ba12b5",
   "metadata": {},
   "outputs": [
    {
     "data": {
      "text/plain": [
       "(array(['2013-10-01T00:00:00.000000000', '2013-10-02T00:00:00.000000000',\n",
       "        '2013-10-03T00:00:00.000000000', '2013-10-04T00:00:00.000000000',\n",
       "        '2013-10-05T00:00:00.000000000', '2013-10-06T00:00:00.000000000',\n",
       "        '2013-10-07T00:00:00.000000000', '2013-10-08T00:00:00.000000000',\n",
       "        '2013-10-09T00:00:00.000000000', '2013-10-10T00:00:00.000000000'],\n",
       "       dtype='datetime64[ns]'),\n",
       " array([123.65499, 125.455  , 108.58483, 118.67466, 121.33866, 120.65533,\n",
       "        121.795  , 123.033  , 124.049  , 125.96116]))"
      ]
     },
     "execution_count": 9,
     "metadata": {},
     "output_type": "execute_result"
    }
   ],
   "source": [
    "# Get bitcoin date array\n",
    "timesteps = bitcoin_prices.index.to_numpy()\n",
    "prices = bitcoin_prices['Price'].to_numpy()\n",
    "\n",
    "timesteps[:10], prices[:10]"
   ]
  },
  {
   "cell_type": "code",
   "execution_count": 10,
   "id": "acd8af70",
   "metadata": {},
   "outputs": [
    {
     "data": {
      "text/plain": [
       "((2229,), (558,), (2229,), (558,))"
      ]
     },
     "execution_count": 10,
     "metadata": {},
     "output_type": "execute_result"
    }
   ],
   "source": [
    "# Wrong way to make train/test sets for time series data\n",
    "from sklearn.model_selection import train_test_split\n",
    "\n",
    "X_train, X_test, y_train, y_test = train_test_split(timesteps, # dates\n",
    "                                                    prices, # BTC price\n",
    "                                                    test_size=0.2,\n",
    "                                                    random_state=42)\n",
    "\n",
    "X_train.shape, X_test.shape, y_train.shape, y_test.shape"
   ]
  },
  {
   "cell_type": "code",
   "execution_count": 11,
   "id": "1c2db7b5",
   "metadata": {},
   "outputs": [
    {
     "data": {
      "image/png": "[encoded data removed]",
      "text/plain": [
       "<Figure size 1000x700 with 1 Axes>"
      ]
     },
     "metadata": {},
     "output_type": "display_data"
    }
   ],
   "source": [
    "# Let's plot wrong train and test splits\n",
    "plt.figure(figsize=(10, 7))\n",
    "plt.scatter(X_train, y_train, s=5, label='Train data')\n",
    "plt.scatter(X_test, y_test, s=5, label='Test data')\n",
    "plt.xlabel('Data')\n",
    "plt.ylabel('BTC Price')\n",
    "plt.legend(fontsize=14)\n",
    "plt.show()"
   ]
  },
  {
   "cell_type": "markdown",
   "id": "d9c27238",
   "metadata": {},
   "source": [
    "### Create train and test sets for time series (the right way)"
   ]
  },
  {
   "cell_type": "code",
   "execution_count": 12,
   "id": "ba8ec97e",
   "metadata": {},
   "outputs": [
    {
     "data": {
      "text/plain": [
       "(2229, 558, 2229, 558)"
      ]
     },
     "execution_count": 12,
     "metadata": {},
     "output_type": "execute_result"
    }
   ],
   "source": [
    "# Create train and test splits the right way for time series data\n",
    "split_size = int(0.8 * len(prices)) # 80% train, 20% test\n",
    "\n",
    "# Create train data splits (everything before the splits)\n",
    "X_train, y_train = timesteps[:split_size], prices[:split_size]\n",
    "\n",
    "# Create test data splits (everything beyond the split)\n",
    "X_test, y_test = timesteps[split_size:], prices[split_size:]\n",
    "\n",
    "len(X_train), len(X_test), len(y_train), len(y_test)"
   ]
  },
  {
   "cell_type": "code",
   "execution_count": 13,
   "id": "d7b4d4cd",
   "metadata": {},
   "outputs": [
    {
     "data": {
      "image/png": "[encoded data removed]",
      "text/plain": [
       "<Figure size 1000x700 with 1 Axes>"
      ]
     },
     "metadata": {},
     "output_type": "display_data"
    }
   ],
   "source": [
    "# Plto with the correctly splits\n",
    "plt.figure(figsize=(10, 7))\n",
    "plt.scatter(X_train, y_train, s=5, label='Train data')\n",
    "plt.scatter(X_test, y_test, s=5, label='Test data')\n",
    "plt.xlabel('Data')\n",
    "plt.ylabel('BTC Price')\n",
    "plt.legend(fontsize=14)\n",
    "plt.show()"
   ]
  },
  {
   "cell_type": "markdown",
   "id": "864cc198",
   "metadata": {},
   "source": [
    "## Create a plotting function"
   ]
  },
  {
   "cell_type": "code",
   "execution_count": 14,
   "id": "4289393c",
   "metadata": {},
   "outputs": [],
   "source": [
    "# Create a function to plot time series data\n",
    "def plot_time_series(timesteps, values, format=\".\", start=0, end=None, label=None):\n",
    "    \"\"\"\n",
    "    Plots timesteps (a series of points in time) against values (a series of values across timesteps).\n",
    "\n",
    "    Parameters:\n",
    "    -----------\n",
    "    timesteps: array of timestep values\n",
    "    values: array of values across time\n",
    "    format: style of plot, default \".\"\n",
    "    start: where to start the plot (setting a value will index from start of timesteps and values)\n",
    "    end: where to end the plot\n",
    "    label: label to show on plot about values\n",
    "    \"\"\"\n",
    "    # Plot the series\n",
    "    plt.plot(timesteps[start:end], values[start:end], format, label=label)\n",
    "    plt.xlabel(\"Time\")\n",
    "    plt.ylabel(\"BTC Price\")\n",
    "    if label:\n",
    "        plt.legend(fontsize=14)\n",
    "    plt.grid(True)"
   ]
  },
  {
   "cell_type": "code",
   "execution_count": 15,
   "id": "8a5a9712",
   "metadata": {},
   "outputs": [
    {
     "data": {
      "image/png": "[encoded data removed]",
      "text/plain": [
       "<Figure size 1000x700 with 1 Axes>"
      ]
     },
     "metadata": {},
     "output_type": "display_data"
    }
   ],
   "source": [
    "# Test out plotting function\n",
    "plt.figure(figsize=(10, 7))\n",
    "plot_time_series(timesteps=X_train, values=y_train, label=\"Train data\")\n",
    "plot_time_series(timesteps=X_test, values=y_test, label=\"Test data\")"
   ]
  },
  {
   "cell_type": "markdown",
   "id": "d35ca8ea",
   "metadata": {},
   "source": [
    "## Modelling Experiments\n",
    "\n",
    "We have got some Bitcoin historical data, to model it, let's run a series of modelling experiments and see which model performs best.\n",
    "\n",
    "Terms to be familiar with:\n",
    "\n",
    "* **Horizon** = number of timesteps into the future we are going to predict\n",
    "* **Window size** = number of timesteps we are going to use to predict **horizon**\n",
    "\n",
    "Modelling experiments we are running:\n",
    "\n",
    "1. Naïve model (baseline)\n",
    "2. Dense Model, horizon = 1, window = 7\n",
    "3. Dense Model, horizon = 1, window = 30\n",
    "4. Dense Model, horizon = 7, window = 30\n",
    "5. Conv1D\n",
    "6. LSTM\n",
    "7. Dense Model, horizon = 1, window = 7 (but with multivariate data)\n",
    "8. N-BEATs Algorithm\n",
    "9. Ensemble (multiple models optimized stacked together)\n",
    "10. Future prediction model\n",
    "11. Dense Model (but with turkey data introduced) "
   ]
  },
  {
   "cell_type": "markdown",
   "id": "fc58f85b",
   "metadata": {},
   "source": [
    "## Model 0: Naive forecast (baseline)\n",
    "\n",
    "The formula looks like this:\n",
    "\n",
    "$$\\hat{y}_{t} = y_{t-1}$$\n",
    "\n",
    "In English:\n",
    "\n",
    "> The prediction at timestep t (y-hat) is equal to the value at timestep t-1 (previous step) - this is for horizon of 1."
   ]
  },
  {
   "cell_type": "code",
   "execution_count": 16,
   "id": "66850391",
   "metadata": {},
   "outputs": [
    {
     "data": {
      "text/plain": [
       "(array([9226.48582088, 8794.35864452, 8798.04205463, 9081.18687849,\n",
       "        8711.53433917, 8760.89271814, 8749.52059102, 8656.97092235,\n",
       "        8500.64355816, 8469.2608989 ]),\n",
       " array([57107.12067189, 58788.20967893, 58102.19142623, 55715.54665129,\n",
       "        56573.5554719 , 52147.82118698, 49764.1320816 , 50032.69313676,\n",
       "        47885.62525472, 45604.61575361]))"
      ]
     },
     "execution_count": 16,
     "metadata": {},
     "output_type": "execute_result"
    }
   ],
   "source": [
    "# Create a naive forecast\n",
    "naive_forecast = y_test[:-1]\n",
    "\n",
    "naive_forecast[:10], naive_forecast[-10:]"
   ]
  },
  {
   "cell_type": "code",
   "execution_count": 17,
   "id": "f978017f",
   "metadata": {},
   "outputs": [
    {
     "data": {
      "image/png": "[encoded data removed]",
      "text/plain": [
       "<Figure size 1000x700 with 1 Axes>"
      ]
     },
     "metadata": {},
     "output_type": "display_data"
    }
   ],
   "source": [
    "# Plot naive forecast\n",
    "plt.figure(figsize=(10, 7))\n",
    "plot_time_series(timesteps=X_train, values=y_train, label=\"Train data\")\n",
    "plot_time_series(timesteps=X_test, values=y_test, label=\"Test data\")\n",
    "plot_time_series(timesteps=X_test[1:], values=naive_forecast, format=\"-\", label=\"Naive Forecast\")"
   ]
  },
  {
   "cell_type": "markdown",
   "id": "aa45efec",
   "metadata": {},
   "source": [
    "## Evaluating a time series model\n",
    "\n",
    "Let's look into some evaluation metrics for time series forecasting.\n",
    "\n",
    "What are we doing? We are predicting a number, so that means we have a form of a regression problem.\n",
    "\n",
    "Because we are working on a regression problem, we will need some regression-like metrics.\n",
    "\n",
    "A few common regression metrics which can also be used for time series forecasting:\n",
    "\n",
    "* MAE - mean absolute error\n",
    "* MSE - mean squared error\n",
    "* RMSE - root mean square error\n",
    "* MAPE - mean absolute percentage error\n",
    "* MASE - mean absolute scaled error\n",
    "\n",
    "For all the above metrics, **lower is better**.\n",
    "\n",
    "The main thing we are evaluating here is: **how do our model's forecast (y_pred) compare against the actual values (y_true or ground truth values)?** "
   ]
  },
  {
   "cell_type": "code",
   "execution_count": 18,
   "id": "42bb23f5",
   "metadata": {},
   "outputs": [],
   "source": [
    "import tensorflow as tf"
   ]
  },
  {
   "cell_type": "code",
   "execution_count": 19,
   "id": "ae9e9f59",
   "metadata": {},
   "outputs": [],
   "source": [
    "# MASE implementation\n",
    "def mean_absolute_scaled_error(y_true, y_pred):\n",
    "    \"\"\"\n",
    "    Implement MASE (assuming no seasonality of data).\n",
    "    \"\"\"\n",
    "    mae = tf.reduce_mean(tf.abs(y_true - y_pred))\n",
    "\n",
    "    # Find MAE of naive forecast (no seasonality)\n",
    "    mae_naive_no_season = tf.reduce_mean(tf.abs(y_true[1:] - y_true[:-1])) # our seasonality is 1 day (hence the shift of 1)\n",
    "\n",
    "    return mae / mae_naive_no_season"
   ]
  },
  {
   "cell_type": "code",
   "execution_count": 20,
   "id": "0d85bb57",
   "metadata": {},
   "outputs": [
    {
     "data": {
      "text/plain": [
       "0.9995699939182624"
      ]
     },
     "execution_count": 20,
     "metadata": {},
     "output_type": "execute_result"
    }
   ],
   "source": [
    "mean_absolute_scaled_error(y_true=y_test[1:], y_pred=naive_forecast).numpy()"
   ]
  },
  {
   "cell_type": "code",
   "execution_count": 21,
   "id": "a06fe4df",
   "metadata": {},
   "outputs": [],
   "source": [
    "# Create a function to take in model predictions and truth values and return evaluation metrics\n",
    "def evaluate_preds(y_true, y_pred):\n",
    "    # Make sure float32 datatype (for metric calculation)\n",
    "    y_true = tf.cast(y_true, dtype=tf.float32)\n",
    "    y_pred = tf.cast(y_pred, dtype=tf.float32)\n",
    "\n",
    "    # Calculate various evaluation metrics\n",
    "    mae = tf.keras.metrics.mean_absolute_error(y_true, y_pred)\n",
    "    mse = tf.keras.metrics.mean_squared_error(y_true, y_pred)\n",
    "    rmse = tf.sqrt(mse)\n",
    "    mape = tf.keras.metrics.mean_absolute_percentage_error(y_true, y_pred)\n",
    "    mase = mean_absolute_scaled_error(y_true, y_pred)\n",
    "\n",
    "    return {\n",
    "        \"mae\": mae.numpy(),\n",
    "        \"mse\": mse.numpy(),\n",
    "        \"rmse\": rmse.numpy(),\n",
    "        \"mape\": mape.numpy(),\n",
    "        \"mase\": mase.numpy()\n",
    "    }"
   ]
  },
  {
   "cell_type": "code",
   "execution_count": 22,
   "id": "5702372e",
   "metadata": {},
   "outputs": [
    {
     "data": {
      "text/plain": [
       "{'mae': 567.9802,\n",
       " 'mse': 1147547.0,\n",
       " 'rmse': 1071.2362,\n",
       " 'mape': 2.516525,\n",
       " 'mase': 0.99957}"
      ]
     },
     "execution_count": 22,
     "metadata": {},
     "output_type": "execute_result"
    }
   ],
   "source": [
    "# Let's now see if it works\n",
    "naive_results = evaluate_preds(y_true=y_test[1:],\n",
    "                               y_pred=naive_forecast)\n",
    "naive_results"
   ]
  },
  {
   "cell_type": "code",
   "execution_count": 23,
   "id": "5990a758",
   "metadata": {},
   "outputs": [
    {
     "data": {
      "text/plain": [
       "<tf.Tensor: shape=(), dtype=float64, numpy=20056.632963737222>"
      ]
     },
     "execution_count": 23,
     "metadata": {},
     "output_type": "execute_result"
    }
   ],
   "source": [
    "tf.reduce_mean(y_test)"
   ]
  },
  {
   "cell_type": "code",
   "execution_count": 24,
   "id": "10a3612b",
   "metadata": {},
   "outputs": [
    {
     "data": {
      "text/plain": [
       "(<tf.Tensor: shape=(), dtype=float64, numpy=4944.7023359837>,\n",
       " <tf.Tensor: shape=(), dtype=float64, numpy=63346.7890351052>)"
      ]
     },
     "execution_count": 24,
     "metadata": {},
     "output_type": "execute_result"
    }
   ],
   "source": [
    "tf.reduce_min(y_test), tf.reduce_max(y_test)"
   ]
  },
  {
   "cell_type": "markdown",
   "id": "86f95069",
   "metadata": {},
   "source": [
    "## Others Models for Time Series Forecasting\n",
    "\n",
    "In this notebook we are going to use only neural networks for time series forecasting, but there are a plenty of models used in the industry or as a baseline model you can use."
   ]
  },
  {
   "attachments": {
    "image.png": {
     "image/png": "[encoded data removed]"
    }
   },
   "cell_type": "markdown",
   "id": "c393aa09",
   "metadata": {},
   "source": [
    "![image.png](attachment:image.png)"
   ]
  },
  {
   "cell_type": "markdown",
   "id": "21c7fa33",
   "metadata": {},
   "source": [
    "## Format Data Part 2: Windowing our dataset\n",
    "\n",
    "Why do we window?\n",
    "\n",
    "We window our time series dataset to turn our data into a supervised learning problem.\n",
    "\n",
    "```\n",
    "Windowing for one week\n",
    "[0, 1, 2, 3, 4, 5, 6] --> [7]\n",
    "[1, 2, 3, 4, 5, 6, 7] --> [8]\n",
    "[2, 3, 4, 5, 6, 7, 8] --> [9]\n",
    "```"
   ]
  },
  {
   "cell_type": "code",
   "execution_count": 25,
   "id": "8b6f42f1",
   "metadata": {},
   "outputs": [
    {
     "data": {
      "text/plain": [
       "2229"
      ]
     },
     "execution_count": 25,
     "metadata": {},
     "output_type": "execute_result"
    }
   ],
   "source": [
    "len(y_train)"
   ]
  },
  {
   "cell_type": "code",
   "execution_count": 26,
   "id": "1b9651aa",
   "metadata": {},
   "outputs": [
    {
     "name": "stdout",
     "output_type": "stream",
     "text": [
      "We want to use: [123.65499, 125.455, 108.58483, 118.67466, 121.33866, 120.65533, 121.795] to predict this: 123.033\n"
     ]
    }
   ],
   "source": [
    "# What we want to do with our Bitcoin data\n",
    "print(f\"We want to use: {btc_price[:7]} to predict this: {btc_price[7]}\")"
   ]
  },
  {
   "cell_type": "code",
   "execution_count": 27,
   "id": "17089829",
   "metadata": {},
   "outputs": [],
   "source": [
    "# Let's setup global variables for window and horizon size\n",
    "HORIZON = 1 # predict next 1 day\n",
    "WINDOW_SIZE = 7 # use the past week of Bitcoin data to make the prediction"
   ]
  },
  {
   "cell_type": "code",
   "execution_count": 28,
   "id": "4e6e7d48",
   "metadata": {},
   "outputs": [],
   "source": [
    "# Create function to label window data\n",
    "def get_labelled_windows(x, horizon=HORIZON):\n",
    "    \"\"\"\n",
    "    Creates labels for windowed dataset.\n",
    "\n",
    "    E.g. if horizon = 1 --> Input: [0, 1, 2, 3, 4, 5, 6, 7] --> Output: ([0, 1, 2, 3, 4, 5, 6, 7], [7])\n",
    "    \"\"\"\n",
    "    return x[:, :-horizon], x[:, -horizon:]"
   ]
  },
  {
   "cell_type": "code",
   "execution_count": 29,
   "id": "6dcfa33b",
   "metadata": {},
   "outputs": [
    {
     "name": "stdout",
     "output_type": "stream",
     "text": [
      "Window: [0 1 2 3 4 5 6] -> Label: 7\n"
     ]
    }
   ],
   "source": [
    "# Test out the window labelling function\n",
    "test_window, test_label = get_labelled_windows(tf.expand_dims(tf.range(8), axis = 0))\n",
    "print(f\"Window: {tf.squeeze(test_window).numpy()} -> Label: {tf.squeeze(test_label).numpy()}\")"
   ]
  },
  {
   "cell_type": "markdown",
   "id": "0d51bd96",
   "metadata": {},
   "source": [
    "We have got a way to label our windowed data.\n",
    "\n",
    "However, this only works on a small scale.\n",
    "\n",
    "We need a way to do the above across our entire time series.\n",
    "\n",
    "We could do this with Python for loops, however, for large time series, that'd be quite slow.\n",
    "\n",
    "To speed things up, we will leverage NumPy's array indexing.\n",
    "\n",
    "Our function will:\n",
    "1. Create a window step of specific window size.\n",
    "2. It will numpy indexing to create a 2D array of multiple window steps, for example:\n",
    "```\n",
    "[\n",
    "    [0, 1, 2, 3, 4, 5, 6],\n",
    "    [1, 2, 3, 4, 5, 6, 7],\n",
    "    [2, 3, 4, 5, 6, 7, 8]\n",
    "]\n",
    "```\n",
    "3. Uses the 2D array of multiple window steps (from 2.) to index on a target series.\n",
    "4. Uses our `get_labelled_windows()` function we created above to turn the window steps into windows with specified horizon."
   ]
  },
  {
   "cell_type": "code",
   "execution_count": 30,
   "id": "83361e19",
   "metadata": {},
   "outputs": [],
   "source": [
    "import numpy as np\n",
    "\n",
    "# Create function to view NumPy arrays as windows\n",
    "def make_windows(x, window_size=WINDOW_SIZE, horizon=HORIZON):\n",
    "    \"\"\"\n",
    "    Turns a 1D into a 2D array of sequential labelled windows of window_size with horizon size labels.\n",
    "    \"\"\"\n",
    "    # 1. Create a window of specific window_size (add the horzion on the end for labelling later)\n",
    "    window_step = np.expand_dims(np.arange(window_size + horizon), axis=0)\n",
    "\n",
    "    # 2. Create a 2D array of multiple window steps (minus 1 to account for 0 indexing)\n",
    "    window_indexes = window_step + np.expand_dims(np.arange(len(x) - (window_size + horizon - 1)), axis=0).T # create 2D array of windows of size window_siz\n",
    "\n",
    "    # 3. Index on the target array (a time series) with 2D array of multiple window steps\n",
    "    windowed_array = x[window_indexes]\n",
    "\n",
    "    # 4. Get the labelled windows\n",
    "    windows, labels = get_labelled_windows(windowed_array, horizon=horizon)\n",
    "\n",
    "    return windows, labels"
   ]
  },
  {
   "cell_type": "code",
   "execution_count": 31,
   "id": "232bacdc",
   "metadata": {},
   "outputs": [
    {
     "data": {
      "text/plain": [
       "(2780, 2780)"
      ]
     },
     "execution_count": 31,
     "metadata": {},
     "output_type": "execute_result"
    }
   ],
   "source": [
    "full_windows, full_labels = make_windows(prices, window_size=WINDOW_SIZE, horizon=HORIZON)\n",
    "len(full_windows), len(full_labels)"
   ]
  },
  {
   "cell_type": "code",
   "execution_count": 32,
   "id": "cdbdb2e9",
   "metadata": {},
   "outputs": [
    {
     "name": "stdout",
     "output_type": "stream",
     "text": [
      "Window: [123.65499 125.455   108.58483 118.67466 121.33866 120.65533 121.795  ] -> Label: [123.033]\n",
      "Window: [125.455   108.58483 118.67466 121.33866 120.65533 121.795   123.033  ] -> Label: [124.049]\n",
      "Window: [108.58483 118.67466 121.33866 120.65533 121.795   123.033   124.049  ] -> Label: [125.96116]\n"
     ]
    }
   ],
   "source": [
    "# View the first 3 windows/labels\n",
    "for i in range(3):\n",
    "    print(f'Window: {full_windows[i]} -> Label: {full_labels[i]}')"
   ]
  },
  {
   "cell_type": "code",
   "execution_count": 33,
   "id": "59151d16",
   "metadata": {},
   "outputs": [
    {
     "name": "stdout",
     "output_type": "stream",
     "text": [
      "Window: [58788.20967893 58102.19142623 55715.54665129 56573.5554719\n",
      " 52147.82118698 49764.1320816  50032.69313676] -> Label: [47885.62525472]\n",
      "Window: [58102.19142623 55715.54665129 56573.5554719  52147.82118698\n",
      " 49764.1320816  50032.69313676 47885.62525472] -> Label: [45604.61575361]\n",
      "Window: [55715.54665129 56573.5554719  52147.82118698 49764.1320816\n",
      " 50032.69313676 47885.62525472 45604.61575361] -> Label: [43144.47129086]\n"
     ]
    }
   ],
   "source": [
    "# View the last 3 windows/labels\n",
    "for i in range(3):\n",
    "    print(f'Window: {full_windows[i-3]} -> Label: {full_labels[i-3]}')"
   ]
  },
  {
   "cell_type": "markdown",
   "id": "1b663e8c",
   "metadata": {},
   "source": [
    "## Turning windows into training and test sets"
   ]
  },
  {
   "cell_type": "code",
   "execution_count": 34,
   "id": "9f0fcf2b",
   "metadata": {},
   "outputs": [],
   "source": [
    "# Make the train/test splits\n",
    "def make_train_test_splits(windows, labels, test_split=0.2):\n",
    "    \"\"\"\n",
    "    Splits matching pairs of windows and labels into train an test splits.\n",
    "    \"\"\"\n",
    "    splits_size = int(len(windows) * (1 - test_split)) # this will default 80% train / 20% test\n",
    "    train_windows = windows[:split_size]\n",
    "    train_labels = labels[:split_size]\n",
    "    test_windows = windows[split_size:]\n",
    "    test_labels = labels[split_size:]\n",
    "    return train_windows, test_windows, train_labels, test_labels"
   ]
  },
  {
   "cell_type": "code",
   "execution_count": 35,
   "id": "bef31773",
   "metadata": {},
   "outputs": [
    {
     "data": {
      "text/plain": [
       "(2229, 551, 2229, 551)"
      ]
     },
     "execution_count": 35,
     "metadata": {},
     "output_type": "execute_result"
    }
   ],
   "source": [
    "train_windows, test_windows, train_labels, test_labels = make_train_test_splits(full_windows, full_labels)\n",
    "len(train_windows), len(test_windows), len(train_labels), len(test_labels)"
   ]
  },
  {
   "cell_type": "code",
   "execution_count": 36,
   "id": "d76eb571",
   "metadata": {},
   "outputs": [
    {
     "data": {
      "text/plain": [
       "True"
      ]
     },
     "execution_count": 36,
     "metadata": {},
     "output_type": "execute_result"
    }
   ],
   "source": [
    "np.array_equal(np.squeeze(train_labels[:-HORIZON-6]), y_train[WINDOW_SIZE:])"
   ]
  },
  {
   "cell_type": "markdown",
   "id": "31d4b47c",
   "metadata": {},
   "source": [
    "## Make a modelling checkpoint callback\n",
    "\n",
    "Because our model's performance will fluctuate from experiment to experiment, we're going to write a model checkpoint so we can compare apples to apples.\n",
    "\n",
    "More specifically, we want to compare each of our model's best performances against the other model's best performances.\n",
    "\n",
    "For example if our model performs the best on epoch 55 (but we are training for 100 epochs), we want to load and evaluate the model saved on epoch 55.\n",
    "\n",
    "We can create modelling checkpoint callback using the following: https://www.tensorflow.org/api_docs/python/tf/keras/callbacks/ModelCheckpoint"
   ]
  },
  {
   "cell_type": "code",
   "execution_count": 37,
   "id": "5fe80ecc",
   "metadata": {},
   "outputs": [],
   "source": [
    "import os\n",
    "\n",
    "# Create a function to implement a ModelCheckpoint callback with a specific filename\n",
    "def create_model_checkpoint(model_name, save_path='model_experiments'):\n",
    "    return tf.keras.callbacks.ModelCheckpoint(filepath=os.path.join(save_path, model_name),\n",
    "                                              monitor='val_loss',\n",
    "                                              verbose=0, # only output a limited amount of text\n",
    "                                              save_best_only=True)"
   ]
  },
  {
   "cell_type": "markdown",
   "id": "4f378620",
   "metadata": {},
   "source": [
    "## Model 1: Dense Model (window = 7, horizon = 1)\n",
    "\n",
    "Our first deep model is going to be a simple dense model:\n",
    "\n",
    "* A single dense layer with 128 hidden units and ReLU\n",
    "* An output layer with linear activation (no activation)\n",
    "* Adam optimization and MAE loss function\n",
    "* Batch size of 128 (previously we have used 32)\n",
    "* 100 epochs\n",
    "\n",
    "Why these values?\n",
    "\n",
    "I picked them out of experimentation."
   ]
  },
  {
   "cell_type": "code",
   "execution_count": 38,
   "id": "2ee5065e",
   "metadata": {},
   "outputs": [
    {
     "name": "stdout",
     "output_type": "stream",
     "text": [
      "Epoch 1/100\n",
      "14/18 [======================>.......] - ETA: 0s - loss: 2007.4636 - mae: 2007.4636 - mse: 11596089.0000  INFO:tensorflow:Assets written to: model_experiments\\model_1_dense\\assets\n",
      "18/18 [==============================] - 4s 49ms/step - loss: 1671.0160 - mae: 1671.0160 - mse: 9383953.0000 - val_loss: 2122.9333 - val_mae: 2122.9333 - val_mse: 10924822.0000\n",
      "Epoch 2/100\n",
      "15/18 [========================>.....] - ETA: 0s - loss: 374.0441 - mae: 374.0441 - mse: 517046.0312INFO:tensorflow:Assets written to: model_experiments\\model_1_dense\\assets\n",
      "18/18 [==============================] - 0s 28ms/step - loss: 360.2673 - mae: 360.2673 - mse: 480871.6250 - val_loss: 1956.1293 - val_mae: 1956.1293 - val_mse: 8571727.0000\n",
      "Epoch 3/100\n",
      "18/18 [==============================] - ETA: 0s - loss: 209.5579 - mae: 209.5579 - mse: 207381.0000INFO:tensorflow:Assets written to: model_experiments\\model_1_dense\\assets\n",
      "18/18 [==============================] - 0s 26ms/step - loss: 209.5579 - mae: 209.5579 - mse: 207381.0000 - val_loss: 1184.8860 - val_mae: 1184.8860 - val_mse: 3734868.5000\n",
      "Epoch 4/100\n",
      " 1/18 [>.............................] - ETA: 0s - loss: 204.0994 - mae: 204.0994 - mse: 158044.1406INFO:tensorflow:Assets written to: model_experiments\\model_1_dense\\assets\n",
      "18/18 [==============================] - 1s 37ms/step - loss: 168.9721 - mae: 168.9721 - mse: 147228.3125 - val_loss: 913.0955 - val_mae: 913.0955 - val_mse: 2711261.5000\n",
      "Epoch 5/100\n",
      "16/18 [=========================>....] - ETA: 0s - loss: 158.8875 - mae: 158.8875 - mse: 138914.3438INFO:tensorflow:Assets written to: model_experiments\\model_1_dense\\assets\n",
      "18/18 [==============================] - 0s 28ms/step - loss: 160.1985 - mae: 160.1985 - mse: 139484.2812 - val_loss: 876.3162 - val_mae: 876.3162 - val_mse: 2559281.5000\n",
      "Epoch 6/100\n",
      " 1/18 [>.............................] - ETA: 0s - loss: 147.3421 - mae: 147.3421 - mse: 80661.7969INFO:tensorflow:Assets written to: model_experiments\\model_1_dense\\assets\n",
      "18/18 [==============================] - 0s 29ms/step - loss: 153.6212 - mae: 153.6212 - mse: 128270.1719 - val_loss: 863.8726 - val_mae: 863.8726 - val_mse: 2438766.0000\n",
      "Epoch 7/100\n",
      "17/18 [===========================>..] - ETA: 0s - loss: 148.3674 - mae: 148.3674 - mse: 122503.0781INFO:tensorflow:Assets written to: model_experiments\\model_1_dense\\assets\n",
      "18/18 [==============================] - 0s 28ms/step - loss: 148.4586 - mae: 148.4586 - mse: 121771.1250 - val_loss: 839.1839 - val_mae: 839.1839 - val_mse: 2292723.0000\n",
      "Epoch 8/100\n",
      "18/18 [==============================] - ETA: 0s - loss: 143.8506 - mae: 143.8506 - mse: 114773.8594INFO:tensorflow:Assets written to: model_experiments\\model_1_dense\\assets\n",
      "18/18 [==============================] - 0s 28ms/step - loss: 143.8506 - mae: 143.8506 - mse: 114773.8594 - val_loss: 797.9274 - val_mae: 797.9274 - val_mse: 2134667.7500\n",
      "Epoch 9/100\n",
      "18/18 [==============================] - 0s 5ms/step - loss: 139.6107 - mae: 139.6107 - mse: 109519.4141 - val_loss: 811.3794 - val_mae: 811.3794 - val_mse: 2076402.0000\n",
      "Epoch 10/100\n",
      " 1/18 [>.............................] - ETA: 0s - loss: 149.2983 - mae: 149.2983 - mse: 111120.9531INFO:tensorflow:Assets written to: model_experiments\\model_1_dense\\assets\n",
      "18/18 [==============================] - 0s 28ms/step - loss: 135.5149 - mae: 135.5149 - mse: 101993.0234 - val_loss: 750.4004 - val_mae: 750.4004 - val_mse: 1889664.6250\n",
      "Epoch 11/100\n",
      "18/18 [==============================] - 0s 5ms/step - loss: 132.7375 - mae: 132.7375 - mse: 98228.3750 - val_loss: 752.1157 - val_mae: 752.1157 - val_mse: 1824833.2500\n",
      "Epoch 12/100\n",
      " 1/18 [>.............................] - ETA: 0s - loss: 101.9722 - mae: 101.9722 - mse: 55064.8438INFO:tensorflow:Assets written to: model_experiments\\model_1_dense\\assets\n",
      "18/18 [==============================] - 0s 28ms/step - loss: 130.8156 - mae: 130.8156 - mse: 95012.7578 - val_loss: 749.7445 - val_mae: 749.7445 - val_mse: 1777696.0000\n",
      "Epoch 13/100\n",
      "18/18 [==============================] - ETA: 0s - loss: 128.4979 - mae: 128.4979 - mse: 93085.3203INFO:tensorflow:Assets written to: model_experiments\\model_1_dense\\assets\n",
      "18/18 [==============================] - 1s 33ms/step - loss: 128.4979 - mae: 128.4979 - mse: 93085.3203 - val_loss: 704.8466 - val_mae: 704.8466 - val_mse: 1634342.0000\n",
      "Epoch 14/100\n",
      "12/18 [===================>..........] - ETA: 0s - loss: 128.7927 - mae: 128.7927 - mse: 91728.4766 INFO:tensorflow:Assets written to: model_experiments\\model_1_dense\\assets\n",
      "18/18 [==============================] - 1s 31ms/step - loss: 122.2427 - mae: 122.2427 - mse: 85573.4922 - val_loss: 679.1005 - val_mae: 679.1005 - val_mse: 1548143.2500\n",
      "Epoch 15/100\n",
      "18/18 [==============================] - ETA: 0s - loss: 122.3049 - mae: 122.3049 - mse: 85550.5703 INFO:tensorflow:Assets written to: model_experiments\\model_1_dense\\assets\n",
      "18/18 [==============================] - 0s 27ms/step - loss: 122.3049 - mae: 122.3049 - mse: 85550.5703 - val_loss: 668.0873 - val_mae: 668.0873 - val_mse: 1522664.6250\n",
      "Epoch 16/100\n",
      " 1/18 [>.............................] - ETA: 0s - loss: 134.7562 - mae: 134.7562 - mse: 159259.6406INFO:tensorflow:Assets written to: model_experiments\\model_1_dense\\assets\n",
      "18/18 [==============================] - 0s 27ms/step - loss: 128.8677 - mae: 128.8677 - mse: 88811.2656 - val_loss: 655.4606 - val_mae: 655.4606 - val_mse: 1473115.8750\n",
      "Epoch 17/100\n",
      "16/18 [=========================>....] - ETA: 0s - loss: 124.3877 - mae: 124.3877 - mse: 84998.1250INFO:tensorflow:Assets written to: model_experiments\\model_1_dense\\assets\n",
      "18/18 [==============================] - 0s 27ms/step - loss: 125.0321 - mae: 125.0321 - mse: 83736.2656 - val_loss: 641.2112 - val_mae: 641.2112 - val_mse: 1409609.8750\n",
      "Epoch 18/100\n",
      " 1/18 [>.............................] - ETA: 0s - loss: 82.5342 - mae: 82.5342 - mse: 37614.5859INFO:tensorflow:Assets written to: model_experiments\\model_1_dense\\assets\n",
      "18/18 [==============================] - 0s 28ms/step - loss: 116.2798 - mae: 116.2798 - mse: 78561.0156 - val_loss: 631.3899 - val_mae: 631.3899 - val_mse: 1377161.5000\n",
      "Epoch 19/100\n",
      "18/18 [==============================] - ETA: 0s - loss: 114.7673 - mae: 114.7673 - mse: 77819.6172INFO:tensorflow:Assets written to: model_experiments\\model_1_dense\\assets\n",
      "18/18 [==============================] - 0s 27ms/step - loss: 114.7673 - mae: 114.7673 - mse: 77819.6172 - val_loss: 625.1544 - val_mae: 625.1544 - val_mse: 1340116.2500\n",
      "Epoch 20/100\n",
      "18/18 [==============================] - 0s 5ms/step - loss: 114.1477 - mae: 114.1477 - mse: 75617.5547 - val_loss: 654.2160 - val_mae: 654.2160 - val_mse: 1393252.1250\n",
      "Epoch 21/100\n",
      "18/18 [==============================] - 0s 5ms/step - loss: 114.1386 - mae: 114.1386 - mse: 76296.3828 - val_loss: 630.9781 - val_mae: 630.9781 - val_mse: 1370662.7500\n",
      "Epoch 22/100\n",
      "18/18 [==============================] - 0s 5ms/step - loss: 112.2612 - mae: 112.2612 - mse: 74126.5625 - val_loss: 696.7863 - val_mae: 696.7863 - val_mse: 1491610.8750\n",
      "Epoch 23/100\n",
      "18/18 [==============================] - ETA: 0s - loss: 128.5496 - mae: 128.5496 - mse: 79292.7812INFO:tensorflow:Assets written to: model_experiments\\model_1_dense\\assets\n",
      "18/18 [==============================] - 1s 36ms/step - loss: 128.5496 - mae: 128.5496 - mse: 79292.7812 - val_loss: 611.5950 - val_mae: 611.5950 - val_mse: 1282099.7500\n",
      "Epoch 24/100\n",
      "18/18 [==============================] - 0s 6ms/step - loss: 112.0394 - mae: 112.0394 - mse: 72966.6953 - val_loss: 619.9072 - val_mae: 619.9072 - val_mse: 1296412.2500\n",
      "Epoch 25/100\n",
      "18/18 [==============================] - ETA: 0s - loss: 110.6646 - mae: 110.6646 - mse: 73815.0312INFO:tensorflow:Assets written to: model_experiments\\model_1_dense\\assets\n",
      "18/18 [==============================] - 0s 27ms/step - loss: 110.6646 - mae: 110.6646 - mse: 73815.0312 - val_loss: 597.2615 - val_mae: 597.2615 - val_mse: 1247607.0000\n",
      "Epoch 26/100\n",
      " 1/18 [>.............................] - ETA: 0s - loss: 110.0574 - mae: 110.0574 - mse: 50916.0156INFO:tensorflow:Assets written to: model_experiments\\model_1_dense\\assets\n",
      "18/18 [==============================] - 0s 27ms/step - loss: 109.6249 - mae: 109.6249 - mse: 72327.7578 - val_loss: 592.9812 - val_mae: 592.9812 - val_mse: 1245826.3750\n",
      "Epoch 27/100\n",
      "18/18 [==============================] - 0s 5ms/step - loss: 108.8635 - mae: 108.8635 - mse: 72395.6016 - val_loss: 620.9039 - val_mae: 620.9039 - val_mse: 1291554.1250\n",
      "Epoch 28/100\n",
      "18/18 [==============================] - 0s 5ms/step - loss: 110.2606 - mae: 110.2606 - mse: 71917.6094 - val_loss: 612.3546 - val_mae: 612.3546 - val_mse: 1270685.5000\n",
      "Epoch 29/100\n",
      " 1/18 [>.............................] - ETA: 0s - loss: 106.0054 - mae: 106.0054 - mse: 43920.6445INFO:tensorflow:Assets written to: model_experiments\\model_1_dense\\assets\n",
      "18/18 [==============================] - 0s 26ms/step - loss: 110.6353 - mae: 110.6353 - mse: 72424.5000 - val_loss: 583.3750 - val_mae: 583.3750 - val_mse: 1213904.3750\n",
      "Epoch 30/100\n",
      "18/18 [==============================] - 0s 5ms/step - loss: 107.9575 - mae: 107.9575 - mse: 71121.5547 - val_loss: 593.6973 - val_mae: 593.6973 - val_mse: 1228635.7500\n",
      "Epoch 31/100\n",
      "18/18 [==============================] - 0s 5ms/step - loss: 109.6428 - mae: 109.6428 - mse: 71347.2734 - val_loss: 621.5359 - val_mae: 621.5359 - val_mse: 1307925.1250\n",
      "Epoch 32/100\n",
      "18/18 [==============================] - 0s 6ms/step - loss: 113.3549 - mae: 113.3549 - mse: 75075.3047 - val_loss: 789.8563 - val_mae: 789.8563 - val_mse: 1749676.6250\n",
      "Epoch 33/100\n",
      "18/18 [==============================] - 0s 5ms/step - loss: 120.5193 - mae: 120.5193 - mse: 78850.3672 - val_loss: 621.0745 - val_mae: 621.0745 - val_mse: 1303545.7500\n",
      "Epoch 34/100\n",
      "18/18 [==============================] - 0s 4ms/step - loss: 118.1877 - mae: 118.1877 - mse: 79881.7031 - val_loss: 590.5386 - val_mae: 590.5386 - val_mse: 1231739.3750\n",
      "Epoch 35/100\n",
      " 1/18 [>.............................] - ETA: 0s - loss: 123.0813 - mae: 123.0813 - mse: 104642.1406INFO:tensorflow:Assets written to: model_experiments\\model_1_dense\\assets\n",
      "18/18 [==============================] - 0s 27ms/step - loss: 109.9541 - mae: 109.9541 - mse: 72352.6875 - val_loss: 579.3392 - val_mae: 579.3392 - val_mse: 1203239.8750\n",
      "Epoch 36/100\n",
      "18/18 [==============================] - ETA: 0s - loss: 110.3310 - mae: 110.3310 - mse: 72750.4219INFO:tensorflow:Assets written to: model_experiments\\model_1_dense\\assets\n",
      "18/18 [==============================] - 0s 27ms/step - loss: 110.3310 - mae: 110.3310 - mse: 72750.4219 - val_loss: 576.8497 - val_mae: 576.8497 - val_mse: 1195685.3750\n",
      "Epoch 37/100\n",
      "18/18 [==============================] - 0s 5ms/step - loss: 108.0115 - mae: 108.0115 - mse: 71252.6250 - val_loss: 583.0474 - val_mae: 583.0474 - val_mse: 1210335.2500\n",
      "Epoch 38/100\n",
      "18/18 [==============================] - 0s 5ms/step - loss: 108.7963 - mae: 108.7963 - mse: 71132.7578 - val_loss: 626.2598 - val_mae: 626.2598 - val_mse: 1294207.2500\n",
      "Epoch 39/100\n",
      "18/18 [==============================] - 0s 5ms/step - loss: 109.2521 - mae: 109.2521 - mse: 71263.2969 - val_loss: 642.4564 - val_mae: 642.4564 - val_mse: 1346243.3750\n",
      "Epoch 40/100\n",
      "18/18 [==============================] - 0s 4ms/step - loss: 108.6610 - mae: 108.6610 - mse: 70764.3594 - val_loss: 593.4857 - val_mae: 593.4857 - val_mse: 1233044.5000\n",
      "Epoch 41/100\n",
      "18/18 [==============================] - 0s 5ms/step - loss: 107.4561 - mae: 107.4561 - mse: 69401.7344 - val_loss: 582.0671 - val_mae: 582.0671 - val_mse: 1205809.5000\n",
      "Epoch 42/100\n",
      "18/18 [==============================] - 0s 5ms/step - loss: 107.5813 - mae: 107.5813 - mse: 70797.4766 - val_loss: 588.3716 - val_mae: 588.3716 - val_mse: 1219646.3750\n",
      "Epoch 43/100\n",
      "18/18 [==============================] - 0s 4ms/step - loss: 110.6068 - mae: 110.6068 - mse: 70652.5312 - val_loss: 581.8171 - val_mae: 581.8171 - val_mse: 1204195.7500\n",
      "Epoch 44/100\n",
      "18/18 [==============================] - 0s 5ms/step - loss: 112.9624 - mae: 112.9624 - mse: 73972.2109 - val_loss: 695.1597 - val_mae: 695.1597 - val_mse: 1460244.1250\n",
      "Epoch 45/100\n",
      " 1/18 [>.............................] - ETA: 0s - loss: 128.9907 - mae: 128.9907 - mse: 100809.8984INFO:tensorflow:Assets written to: model_experiments\\model_1_dense\\assets\n",
      "18/18 [==============================] - 0s 27ms/step - loss: 116.3395 - mae: 116.3395 - mse: 76082.7422 - val_loss: 575.9044 - val_mae: 575.9044 - val_mse: 1180793.0000\n",
      "Epoch 46/100\n",
      "16/18 [=========================>....] - ETA: 0s - loss: 109.0525 - mae: 109.0525 - mse: 73504.6875INFO:tensorflow:Assets written to: model_experiments\\model_1_dense\\assets\n",
      "18/18 [==============================] - 0s 28ms/step - loss: 107.8572 - mae: 107.8572 - mse: 70667.6250 - val_loss: 572.7715 - val_mae: 572.7715 - val_mse: 1175617.6250\n",
      "Epoch 47/100\n",
      "18/18 [==============================] - 0s 6ms/step - loss: 106.5761 - mae: 106.5761 - mse: 68803.0781 - val_loss: 580.4241 - val_mae: 580.4241 - val_mse: 1199534.6250\n",
      "Epoch 48/100\n",
      "18/18 [==============================] - 0s 6ms/step - loss: 106.0972 - mae: 106.0972 - mse: 69386.9062 - val_loss: 610.9896 - val_mae: 610.9896 - val_mse: 1255055.1250\n",
      "Epoch 49/100\n",
      "18/18 [==============================] - 0s 6ms/step - loss: 108.3747 - mae: 108.3747 - mse: 70997.6875 - val_loss: 679.4283 - val_mae: 679.4283 - val_mse: 1415754.1250\n",
      "Epoch 50/100\n",
      "16/18 [=========================>....] - ETA: 0s - loss: 111.2199 - mae: 111.2199 - mse: 72973.5391INFO:tensorflow:Assets written to: model_experiments\\model_1_dense\\assets\n",
      "18/18 [==============================] - 0s 27ms/step - loss: 111.6173 - mae: 111.6173 - mse: 73559.9297 - val_loss: 571.0423 - val_mae: 571.0423 - val_mse: 1174591.0000\n",
      "Epoch 51/100\n",
      "18/18 [==============================] - 0s 6ms/step - loss: 106.5528 - mae: 106.5528 - mse: 68767.6094 - val_loss: 578.5521 - val_mae: 578.5521 - val_mse: 1193581.8750\n",
      "Epoch 52/100\n",
      "18/18 [==============================] - 0s 5ms/step - loss: 106.7823 - mae: 106.7823 - mse: 68639.9531 - val_loss: 590.1729 - val_mae: 590.1729 - val_mse: 1219877.3750\n",
      "Epoch 53/100\n",
      "18/18 [==============================] - 0s 6ms/step - loss: 107.5534 - mae: 107.5534 - mse: 69424.9297 - val_loss: 580.2327 - val_mae: 580.2327 - val_mse: 1186285.2500\n",
      "Epoch 54/100\n",
      "18/18 [==============================] - 0s 6ms/step - loss: 107.2191 - mae: 107.2191 - mse: 68258.3438 - val_loss: 686.8264 - val_mae: 686.8264 - val_mse: 1451672.2500\n",
      "Epoch 55/100\n",
      "14/18 [======================>.......] - ETA: 0s - loss: 111.2692 - mae: 111.2692 - mse: 69819.3125INFO:tensorflow:Assets written to: model_experiments\\model_1_dense\\assets\n",
      "18/18 [==============================] - 0s 29ms/step - loss: 111.5532 - mae: 111.5532 - mse: 71501.9219 - val_loss: 570.7358 - val_mae: 570.7358 - val_mse: 1172786.6250\n",
      "Epoch 56/100\n",
      "18/18 [==============================] - 0s 5ms/step - loss: 106.1196 - mae: 106.1196 - mse: 69229.9453 - val_loss: 707.5276 - val_mae: 707.5276 - val_mse: 1508549.8750\n",
      "Epoch 57/100\n",
      "18/18 [==============================] - 0s 5ms/step - loss: 115.9588 - mae: 115.9588 - mse: 75625.1719 - val_loss: 615.8792 - val_mae: 615.8792 - val_mse: 1261769.6250\n",
      "Epoch 58/100\n",
      "18/18 [==============================] - 0s 5ms/step - loss: 108.0758 - mae: 108.0758 - mse: 69125.9297 - val_loss: 579.3354 - val_mae: 579.3354 - val_mse: 1184279.1250\n",
      "Epoch 59/100\n",
      "18/18 [==============================] - 0s 5ms/step - loss: 110.3552 - mae: 110.3552 - mse: 71283.9375 - val_loss: 609.8667 - val_mae: 609.8667 - val_mse: 1260610.3750\n",
      "Epoch 60/100\n",
      "18/18 [==============================] - 0s 5ms/step - loss: 114.0814 - mae: 114.0814 - mse: 72413.1562 - val_loss: 572.2689 - val_mae: 572.2689 - val_mse: 1170758.8750\n",
      "Epoch 61/100\n",
      "18/18 [==============================] - 0s 4ms/step - loss: 116.1929 - mae: 116.1929 - mse: 72426.4609 - val_loss: 657.7264 - val_mae: 657.7264 - val_mse: 1356568.0000\n",
      "Epoch 62/100\n",
      " 1/18 [>.............................] - ETA: 0s - loss: 153.4631 - mae: 153.4631 - mse: 184724.3125INFO:tensorflow:Assets written to: model_experiments\\model_1_dense\\assets\n",
      "18/18 [==============================] - 0s 27ms/step - loss: 112.0529 - mae: 112.0529 - mse: 72878.5391 - val_loss: 569.4309 - val_mae: 569.4309 - val_mse: 1167505.6250\n",
      "Epoch 63/100\n",
      "18/18 [==============================] - 0s 5ms/step - loss: 106.8221 - mae: 106.8221 - mse: 66679.4688 - val_loss: 571.0962 - val_mae: 571.0962 - val_mse: 1168942.2500\n",
      "Epoch 64/100\n",
      "18/18 [==============================] - 0s 5ms/step - loss: 111.5904 - mae: 111.5904 - mse: 72755.1172 - val_loss: 698.7673 - val_mae: 698.7673 - val_mse: 1481967.2500\n",
      "Epoch 65/100\n",
      "18/18 [==============================] - 0s 5ms/step - loss: 111.1545 - mae: 111.1545 - mse: 72848.3281 - val_loss: 570.1879 - val_mae: 570.1879 - val_mse: 1166169.7500\n",
      "Epoch 66/100\n",
      "18/18 [==============================] - 0s 4ms/step - loss: 107.1799 - mae: 107.1799 - mse: 67991.5547 - val_loss: 607.3826 - val_mae: 607.3826 - val_mse: 1238506.3750\n",
      "Epoch 67/100\n",
      " 1/18 [>.............................] - ETA: 0s - loss: 72.1199 - mae: 72.1199 - mse: 27454.3652INFO:tensorflow:Assets written to: model_experiments\\model_1_dense\\assets\n",
      "18/18 [==============================] - 0s 27ms/step - loss: 106.9471 - mae: 106.9471 - mse: 69722.0859 - val_loss: 568.6751 - val_mae: 568.6751 - val_mse: 1163688.0000\n",
      "Epoch 68/100\n",
      "18/18 [==============================] - 0s 6ms/step - loss: 113.7129 - mae: 113.7129 - mse: 72075.9531 - val_loss: 570.7437 - val_mae: 570.7437 - val_mse: 1169113.0000\n",
      "Epoch 69/100\n",
      "18/18 [==============================] - 0s 6ms/step - loss: 109.0380 - mae: 109.0380 - mse: 69897.7969 - val_loss: 572.3648 - val_mae: 572.3648 - val_mse: 1169780.0000\n",
      "Epoch 70/100\n",
      "18/18 [==============================] - 0s 5ms/step - loss: 108.0090 - mae: 108.0090 - mse: 69953.9062 - val_loss: 577.5337 - val_mae: 577.5337 - val_mse: 1177453.8750\n",
      "Epoch 71/100\n",
      "18/18 [==============================] - 0s 5ms/step - loss: 106.9025 - mae: 106.9025 - mse: 69673.3984 - val_loss: 584.5046 - val_mae: 584.5046 - val_mse: 1202580.8750\n",
      "Epoch 72/100\n",
      "18/18 [==============================] - 0s 5ms/step - loss: 107.4715 - mae: 107.4715 - mse: 70718.1562 - val_loss: 570.7841 - val_mae: 570.7841 - val_mse: 1170103.7500\n",
      "Epoch 73/100\n",
      "18/18 [==============================] - 0s 5ms/step - loss: 110.8312 - mae: 110.8312 - mse: 72114.8672 - val_loss: 602.7472 - val_mae: 602.7472 - val_mse: 1227138.3750\n",
      "Epoch 74/100\n",
      "18/18 [==============================] - 0s 5ms/step - loss: 109.1522 - mae: 109.1522 - mse: 70518.9375 - val_loss: 572.3651 - val_mae: 572.3651 - val_mse: 1173578.6250\n",
      "Epoch 75/100\n",
      "18/18 [==============================] - 0s 6ms/step - loss: 108.8444 - mae: 108.8444 - mse: 69503.2891 - val_loss: 630.2953 - val_mae: 630.2953 - val_mse: 1300840.6250\n",
      "Epoch 76/100\n",
      "15/18 [========================>.....] - ETA: 0s - loss: 106.9892 - mae: 106.9892 - mse: 70139.2109INFO:tensorflow:Assets written to: model_experiments\\model_1_dense\\assets\n",
      "18/18 [==============================] - 1s 40ms/step - loss: 106.9176 - mae: 106.9176 - mse: 68898.8438 - val_loss: 568.3574 - val_mae: 568.3574 - val_mse: 1162344.2500\n",
      "Epoch 77/100\n",
      "18/18 [==============================] - 0s 5ms/step - loss: 106.9669 - mae: 106.9669 - mse: 69974.4922 - val_loss: 571.5764 - val_mae: 571.5764 - val_mse: 1169994.6250\n",
      "Epoch 78/100\n",
      "18/18 [==============================] - 0s 6ms/step - loss: 106.0378 - mae: 106.0378 - mse: 69596.3281 - val_loss: 590.3336 - val_mae: 590.3336 - val_mse: 1201073.8750\n",
      "Epoch 79/100\n",
      "18/18 [==============================] - 0s 6ms/step - loss: 111.2360 - mae: 111.2360 - mse: 71089.6328 - val_loss: 580.7363 - val_mae: 580.7363 - val_mse: 1181363.1250\n",
      "Epoch 80/100\n",
      "18/18 [==============================] - 0s 5ms/step - loss: 105.7963 - mae: 105.7963 - mse: 67261.1797 - val_loss: 602.5571 - val_mae: 602.5571 - val_mse: 1225506.3750\n",
      "Epoch 81/100\n",
      "18/18 [==============================] - 0s 5ms/step - loss: 112.1368 - mae: 112.1368 - mse: 73428.4922 - val_loss: 732.8637 - val_mae: 732.8637 - val_mse: 1577051.7500\n",
      "Epoch 82/100\n",
      "18/18 [==============================] - 0s 5ms/step - loss: 111.8160 - mae: 111.8160 - mse: 72445.1641 - val_loss: 577.7138 - val_mae: 577.7138 - val_mse: 1175436.7500\n",
      "Epoch 83/100\n",
      "18/18 [==============================] - 0s 5ms/step - loss: 106.4684 - mae: 106.4684 - mse: 67850.4297 - val_loss: 583.9339 - val_mae: 583.9339 - val_mse: 1187849.0000\n",
      "Epoch 84/100\n",
      "18/18 [==============================] - 0s 5ms/step - loss: 105.1521 - mae: 105.1521 - mse: 68131.8047 - val_loss: 569.1369 - val_mae: 569.1369 - val_mse: 1164121.3750\n",
      "Epoch 85/100\n",
      "18/18 [==============================] - 0s 5ms/step - loss: 105.5193 - mae: 105.5193 - mse: 68921.9844 - val_loss: 603.4067 - val_mae: 603.4067 - val_mse: 1227248.1250\n",
      "Epoch 86/100\n",
      "18/18 [==============================] - 0s 6ms/step - loss: 107.7451 - mae: 107.7451 - mse: 69603.3828 - val_loss: 573.3514 - val_mae: 573.3514 - val_mse: 1166290.2500\n",
      "Epoch 87/100\n",
      " 1/18 [>.............................] - ETA: 0s - loss: 88.5852 - mae: 88.5852 - mse: 36276.6641INFO:tensorflow:Assets written to: model_experiments\\model_1_dense\\assets\n",
      "18/18 [==============================] - 1s 30ms/step - loss: 106.4677 - mae: 106.4677 - mse: 69145.4062 - val_loss: 566.7940 - val_mae: 566.7940 - val_mse: 1157975.7500\n",
      "Epoch 88/100\n",
      "18/18 [==============================] - 0s 5ms/step - loss: 106.1284 - mae: 106.1284 - mse: 67408.7500 - val_loss: 646.5687 - val_mae: 646.5687 - val_mse: 1337900.8750\n",
      "Epoch 89/100\n",
      "18/18 [==============================] - 0s 5ms/step - loss: 106.5859 - mae: 106.5859 - mse: 70003.5938 - val_loss: 629.3007 - val_mae: 629.3007 - val_mse: 1283335.2500\n",
      "Epoch 90/100\n",
      "18/18 [==============================] - 0s 5ms/step - loss: 112.2249 - mae: 112.2249 - mse: 72270.1484 - val_loss: 569.8820 - val_mae: 569.8820 - val_mse: 1164972.1250\n",
      "Epoch 91/100\n",
      "18/18 [==============================] - 0s 5ms/step - loss: 105.0228 - mae: 105.0228 - mse: 67989.9844 - val_loss: 568.4008 - val_mae: 568.4008 - val_mse: 1162656.5000\n",
      "Epoch 92/100\n",
      "18/18 [==============================] - 0s 6ms/step - loss: 109.1382 - mae: 109.1382 - mse: 69234.0078 - val_loss: 641.6913 - val_mae: 641.6913 - val_mse: 1327293.8750\n",
      "Epoch 93/100\n",
      "18/18 [==============================] - 0s 6ms/step - loss: 108.1626 - mae: 108.1626 - mse: 70219.0547 - val_loss: 567.6201 - val_mae: 567.6201 - val_mse: 1157079.7500\n",
      "Epoch 94/100\n",
      "18/18 [==============================] - 0s 5ms/step - loss: 105.5419 - mae: 105.5419 - mse: 68092.0625 - val_loss: 569.0316 - val_mae: 569.0316 - val_mse: 1158149.1250\n",
      "Epoch 95/100\n",
      "18/18 [==============================] - 0s 5ms/step - loss: 105.1358 - mae: 105.1358 - mse: 67981.2422 - val_loss: 592.3740 - val_mae: 592.3740 - val_mse: 1202859.0000\n",
      "Epoch 96/100\n",
      "18/18 [==============================] - 0s 5ms/step - loss: 112.5750 - mae: 112.5750 - mse: 68982.7188 - val_loss: 651.1226 - val_mae: 651.1226 - val_mse: 1349424.1250\n",
      "Epoch 97/100\n",
      "18/18 [==============================] - 0s 6ms/step - loss: 112.0990 - mae: 112.0990 - mse: 73155.5938 - val_loss: 619.6594 - val_mae: 619.6594 - val_mse: 1260973.2500\n",
      "Epoch 98/100\n",
      "18/18 [==============================] - 0s 5ms/step - loss: 107.0592 - mae: 107.0592 - mse: 69455.7734 - val_loss: 588.5501 - val_mae: 588.5501 - val_mse: 1208077.8750\n",
      "Epoch 99/100\n",
      "18/18 [==============================] - 0s 6ms/step - loss: 106.7484 - mae: 106.7484 - mse: 69083.4453 - val_loss: 598.3821 - val_mae: 598.3821 - val_mse: 1216130.5000\n",
      "Epoch 100/100\n",
      "18/18 [==============================] - 0s 5ms/step - loss: 105.3438 - mae: 105.3438 - mse: 68016.6328 - val_loss: 664.5278 - val_mae: 664.5278 - val_mse: 1381882.8750\n"
     ]
    },
    {
     "data": {
      "text/plain": [
       "<keras.callbacks.History at 0x2577b1354e0>"
      ]
     },
     "execution_count": 38,
     "metadata": {},
     "output_type": "execute_result"
    }
   ],
   "source": [
    "import tensorflow as tf\n",
    "from tensorflow.keras import layers # type: ignore\n",
    "\n",
    "# Set random seed for as reporducible results as possible\n",
    "tf.random.set_seed(42)\n",
    "\n",
    "# 1. Construct the model\n",
    "model_1 = tf.keras.Sequential([\n",
    "    layers.Dense(128, activation='relu'),\n",
    "    layers.Dense(HORIZON, activation='linear')\n",
    "], name='model_1_dense') # name our model so we can save it\n",
    "\n",
    "# 2. Compile\n",
    "model_1.compile(loss='mae',\n",
    "                optimizer=tf.keras.optimizers.Adam(),\n",
    "                metrics=['mae', 'mse'])\n",
    "\n",
    "# Fit the model\n",
    "model_1.fit(x=train_windows,\n",
    "            y=train_labels,\n",
    "            epochs=100,\n",
    "            verbose=1,\n",
    "            batch_size=128,\n",
    "            validation_data=(test_windows, test_labels),\n",
    "            callbacks=[create_model_checkpoint(model_name=model_1.name)])"
   ]
  },
  {
   "cell_type": "code",
   "execution_count": 39,
   "id": "b35cc5f8",
   "metadata": {},
   "outputs": [
    {
     "name": "stdout",
     "output_type": "stream",
     "text": [
      "18/18 [==============================] - 0s 2ms/step - loss: 664.4780 - mae: 664.4780 - mse: 1381651.5000\n"
     ]
    },
    {
     "data": {
      "text/plain": [
       "[664.4779663085938, 664.4779663085938, 1381651.5]"
      ]
     },
     "execution_count": 39,
     "metadata": {},
     "output_type": "execute_result"
    }
   ],
   "source": [
    "# Evaluate model on test data (last performance - not the best)\n",
    "model_1.evaluate(test_windows, test_labels)"
   ]
  },
  {
   "cell_type": "code",
   "execution_count": 40,
   "id": "3b474323",
   "metadata": {},
   "outputs": [
    {
     "name": "stdout",
     "output_type": "stream",
     "text": [
      "18/18 [==============================] - 0s 3ms/step - loss: 566.8652 - mae: 566.8652 - mse: 1158352.7500\n"
     ]
    },
    {
     "data": {
      "text/plain": [
       "[566.8651733398438, 566.8651733398438, 1158352.75]"
      ]
     },
     "execution_count": 40,
     "metadata": {},
     "output_type": "execute_result"
    }
   ],
   "source": [
    "# Load in saved best performing model_1 and evaluate it on test data\n",
    "model_1 = tf.keras.models.load_model('model_experiments/model_1_dense/')\n",
    "model_1.evaluate(test_windows, test_labels)"
   ]
  },
  {
   "cell_type": "markdown",
   "id": "1a1a02c1",
   "metadata": {},
   "source": [
    "## Making forecasts with a model (on the test dataset)\n",
    "\n",
    "To make 'forecasts' on the dataset (note: these won't be actual forecasts, they're only pseudo forecasts actual forecasts are into the future), let's write a function to:\n",
    "\n",
    "1. Take in a train model\n",
    "2. Takes in some input data (same kind of data the model was trained on)\n",
    "3. Passes the input data to the model's `predict()` method\n",
    "4. Returns the predictions"
   ]
  },
  {
   "cell_type": "code",
   "execution_count": 41,
   "id": "9470b21a",
   "metadata": {},
   "outputs": [],
   "source": [
    "def make_preds(model, input_data):\n",
    "    \"\"\"\n",
    "    Uses model to make predictions input_data.\n",
    "    \"\"\"\n",
    "    forecast = model.predict(input_data)\n",
    "    return tf.squeeze(forecast) # return 1D array of predictions"
   ]
  },
  {
   "cell_type": "code",
   "execution_count": 42,
   "id": "93f5b9b5",
   "metadata": {},
   "outputs": [
    {
     "name": "stdout",
     "output_type": "stream",
     "text": [
      "18/18 [==============================] - 0s 2ms/step\n"
     ]
    },
    {
     "data": {
      "text/plain": [
       "(551,\n",
       " <tf.Tensor: shape=(10,), dtype=float32, numpy=\n",
       " array([8751.374 , 8696.256 , 8528.427 , 8476.63  , 8548.22  , 8257.343 ,\n",
       "        8133.6235, 8080.1177, 7675.329 , 7302.0776], dtype=float32)>)"
      ]
     },
     "execution_count": 42,
     "metadata": {},
     "output_type": "execute_result"
    }
   ],
   "source": [
    "# Make predictions using model_1 on the test dataset and view results\n",
    "model_1_preds = make_preds(model_1, test_windows)\n",
    "len(model_1_preds), model_1_preds[:10]"
   ]
  },
  {
   "cell_type": "code",
   "execution_count": 43,
   "id": "67e72b08",
   "metadata": {},
   "outputs": [
    {
     "data": {
      "text/plain": [
       "{'mae': 566.8651,\n",
       " 'mse': 1158352.9,\n",
       " 'rmse': 1076.2681,\n",
       " 'mape': 2.526684,\n",
       " 'mase': 0.9893779}"
      ]
     },
     "execution_count": 43,
     "metadata": {},
     "output_type": "execute_result"
    }
   ],
   "source": [
    "# Evaluate preds\n",
    "model_1_results = evaluate_preds(y_true=tf.squeeze(test_labels),\n",
    "                                 y_pred=model_1_preds)\n",
    "model_1_results"
   ]
  },
  {
   "cell_type": "code",
   "execution_count": 44,
   "id": "9b6b48ce",
   "metadata": {},
   "outputs": [
    {
     "data": {
      "text/plain": [
       "{'mae': 567.9802,\n",
       " 'mse': 1147547.0,\n",
       " 'rmse': 1071.2362,\n",
       " 'mape': 2.516525,\n",
       " 'mase': 0.99957}"
      ]
     },
     "execution_count": 44,
     "metadata": {},
     "output_type": "execute_result"
    }
   ],
   "source": [
    "naive_results"
   ]
  },
  {
   "cell_type": "code",
   "execution_count": 45,
   "id": "886ffc00",
   "metadata": {},
   "outputs": [
    {
     "data": {
      "image/png": "[encoded data removed]",
      "text/plain": [
       "<Figure size 1000x700 with 1 Axes>"
      ]
     },
     "metadata": {},
     "output_type": "display_data"
    }
   ],
   "source": [
    "# Let's plot our model 1 predictions\n",
    "offset = 300\n",
    "plt.figure(figsize=(10, 7))\n",
    "# Account for the test_window offset and index into test_labels to ensure correct plotting\n",
    "plot_time_series(timesteps=X_test[-len(test_windows):], values=test_labels[:, 0], start=offset, label='Test Data')\n",
    "\n",
    "plot_time_series(timesteps=X_test[-len(test_windows):], values=model_1_preds, start=offset, format='-', label='Model 1 Preds')"
   ]
  },
  {
   "cell_type": "markdown",
   "id": "e2cae249",
   "metadata": {},
   "source": [
    "## Model 2: Dense (window = 30, horizon = 1)"
   ]
  },
  {
   "cell_type": "code",
   "execution_count": 46,
   "id": "1984ac3e",
   "metadata": {},
   "outputs": [],
   "source": [
    "HORIZON = 1 # predict one step at a time (one day of Bitcoin prices)\n",
    "WINDOW_SIZE = 30 # use 30 timesteps in past"
   ]
  },
  {
   "cell_type": "code",
   "execution_count": 47,
   "id": "55f9ad76",
   "metadata": {},
   "outputs": [
    {
     "data": {
      "text/plain": [
       "(2757, 2757)"
      ]
     },
     "execution_count": 47,
     "metadata": {},
     "output_type": "execute_result"
    }
   ],
   "source": [
    "# Make window data with appropriate horizon and window sizes\n",
    "full_windows, full_labels = make_windows(prices, window_size=WINDOW_SIZE, horizon=HORIZON)\n",
    "len(full_windows), len(full_labels)"
   ]
  },
  {
   "cell_type": "code",
   "execution_count": 48,
   "id": "9db41bdc",
   "metadata": {},
   "outputs": [
    {
     "data": {
      "text/plain": [
       "(2229, 528, 2229, 528)"
      ]
     },
     "execution_count": 48,
     "metadata": {},
     "output_type": "execute_result"
    }
   ],
   "source": [
    "# Make train and testing windows\n",
    "train_windows, test_windows, train_labels, test_labels = make_train_test_splits(windows=full_windows,\n",
    "                                                                                labels=full_labels,\n",
    "                                                                                test_split=0.2)\n",
    "len(train_windows), len(test_windows), len(train_labels), len(test_labels)"
   ]
  },
  {
   "cell_type": "code",
   "execution_count": 49,
   "id": "6d9d578d",
   "metadata": {},
   "outputs": [
    {
     "name": "stdout",
     "output_type": "stream",
     "text": [
      "INFO:tensorflow:Assets written to: model_experiments\\model_2_dense\\assets\n",
      "INFO:tensorflow:Assets written to: model_experiments\\model_2_dense\\assets\n",
      "INFO:tensorflow:Assets written to: model_experiments\\model_2_dense\\assets\n",
      "INFO:tensorflow:Assets written to: model_experiments\\model_2_dense\\assets\n",
      "INFO:tensorflow:Assets written to: model_experiments\\model_2_dense\\assets\n",
      "INFO:tensorflow:Assets written to: model_experiments\\model_2_dense\\assets\n",
      "INFO:tensorflow:Assets written to: model_experiments\\model_2_dense\\assets\n",
      "INFO:tensorflow:Assets written to: model_experiments\\model_2_dense\\assets\n",
      "INFO:tensorflow:Assets written to: model_experiments\\model_2_dense\\assets\n",
      "INFO:tensorflow:Assets written to: model_experiments\\model_2_dense\\assets\n",
      "INFO:tensorflow:Assets written to: model_experiments\\model_2_dense\\assets\n",
      "INFO:tensorflow:Assets written to: model_experiments\\model_2_dense\\assets\n",
      "INFO:tensorflow:Assets written to: model_experiments\\model_2_dense\\assets\n",
      "INFO:tensorflow:Assets written to: model_experiments\\model_2_dense\\assets\n",
      "INFO:tensorflow:Assets written to: model_experiments\\model_2_dense\\assets\n",
      "INFO:tensorflow:Assets written to: model_experiments\\model_2_dense\\assets\n",
      "INFO:tensorflow:Assets written to: model_experiments\\model_2_dense\\assets\n",
      "INFO:tensorflow:Assets written to: model_experiments\\model_2_dense\\assets\n",
      "INFO:tensorflow:Assets written to: model_experiments\\model_2_dense\\assets\n",
      "INFO:tensorflow:Assets written to: model_experiments\\model_2_dense\\assets\n",
      "INFO:tensorflow:Assets written to: model_experiments\\model_2_dense\\assets\n",
      "INFO:tensorflow:Assets written to: model_experiments\\model_2_dense\\assets\n",
      "INFO:tensorflow:Assets written to: model_experiments\\model_2_dense\\assets\n",
      "INFO:tensorflow:Assets written to: model_experiments\\model_2_dense\\assets\n",
      "INFO:tensorflow:Assets written to: model_experiments\\model_2_dense\\assets\n",
      "INFO:tensorflow:Assets written to: model_experiments\\model_2_dense\\assets\n",
      "INFO:tensorflow:Assets written to: model_experiments\\model_2_dense\\assets\n",
      "INFO:tensorflow:Assets written to: model_experiments\\model_2_dense\\assets\n",
      "INFO:tensorflow:Assets written to: model_experiments\\model_2_dense\\assets\n",
      "INFO:tensorflow:Assets written to: model_experiments\\model_2_dense\\assets\n",
      "INFO:tensorflow:Assets written to: model_experiments\\model_2_dense\\assets\n"
     ]
    },
    {
     "data": {
      "text/plain": [
       "<keras.callbacks.History at 0x2591a268b50>"
      ]
     },
     "execution_count": 49,
     "metadata": {},
     "output_type": "execute_result"
    }
   ],
   "source": [
    "tf.random.set_seed(42)\n",
    "\n",
    "# Create model\n",
    "model_2 = tf.keras.Sequential([\n",
    "    layers.Dense(128, activation='relu'),\n",
    "    layers.Dense(HORIZON)\n",
    "], name='model_2_dense')\n",
    "\n",
    "# Compile model\n",
    "model_2.compile(loss='mae',\n",
    "                optimizer=tf.keras.optimizers.Adam())\n",
    "\n",
    "# Fit\n",
    "model_2.fit(train_windows,\n",
    "            train_labels,\n",
    "            epochs=100,\n",
    "            batch_size=128,\n",
    "            verbose=0,\n",
    "            validation_data=(test_windows, test_labels),\n",
    "            callbacks=[create_model_checkpoint(model_name=model_2.name)])"
   ]
  },
  {
   "cell_type": "code",
   "execution_count": 50,
   "id": "8105caa5",
   "metadata": {},
   "outputs": [
    {
     "name": "stdout",
     "output_type": "stream",
     "text": [
      "17/17 [==============================] - 0s 3ms/step - loss: 679.6469\n"
     ]
    },
    {
     "data": {
      "text/plain": [
       "679.6469116210938"
      ]
     },
     "execution_count": 50,
     "metadata": {},
     "output_type": "execute_result"
    }
   ],
   "source": [
    "# Evaluate model 2 on test data\n",
    "model_2.evaluate(test_windows, test_labels)"
   ]
  },
  {
   "cell_type": "code",
   "execution_count": 51,
   "id": "576cc0b8",
   "metadata": {},
   "outputs": [
    {
     "name": "stdout",
     "output_type": "stream",
     "text": [
      "17/17 [==============================] - 0s 2ms/step - loss: 633.5253\n"
     ]
    },
    {
     "data": {
      "text/plain": [
       "633.5253295898438"
      ]
     },
     "execution_count": 51,
     "metadata": {},
     "output_type": "execute_result"
    }
   ],
   "source": [
    "# Load in the best performing model\n",
    "model_2 = tf.keras.models.load_model('model_experiments/model_2_dense/')\n",
    "model_2.evaluate(test_windows, test_labels)"
   ]
  },
  {
   "cell_type": "code",
   "execution_count": 52,
   "id": "16830931",
   "metadata": {},
   "outputs": [
    {
     "name": "stdout",
     "output_type": "stream",
     "text": [
      "17/17 [==============================] - 0s 2ms/step\n"
     ]
    }
   ],
   "source": [
    "# Get forecast predictions\n",
    "model_2_preds = make_preds(model_2,\n",
    "                           input_data=test_windows)"
   ]
  },
  {
   "cell_type": "code",
   "execution_count": 53,
   "id": "4a35b2c8",
   "metadata": {},
   "outputs": [
    {
     "data": {
      "text/plain": [
       "(TensorShape([528]), TensorShape([528]))"
      ]
     },
     "execution_count": 53,
     "metadata": {},
     "output_type": "execute_result"
    }
   ],
   "source": [
    "tf.squeeze(test_labels).shape, model_2_preds.shape"
   ]
  },
  {
   "cell_type": "code",
   "execution_count": 54,
   "id": "81997755",
   "metadata": {},
   "outputs": [
    {
     "data": {
      "text/plain": [
       "{'mae': 633.5252,\n",
       " 'mse': 1367126.5,\n",
       " 'rmse': 1169.2418,\n",
       " 'mape': 2.8145845,\n",
       " 'mase': 1.0722903}"
      ]
     },
     "execution_count": 54,
     "metadata": {},
     "output_type": "execute_result"
    }
   ],
   "source": [
    "# Evaluate results for model 2 predictions\n",
    "model_2_results = evaluate_preds(y_true=tf.squeeze(test_labels),\n",
    "                                 y_pred=model_2_preds)\n",
    "model_2_results"
   ]
  },
  {
   "cell_type": "code",
   "execution_count": 55,
   "id": "982bdaa0",
   "metadata": {},
   "outputs": [
    {
     "data": {
      "text/plain": [
       "{'mae': 566.8651,\n",
       " 'mse': 1158352.9,\n",
       " 'rmse': 1076.2681,\n",
       " 'mape': 2.526684,\n",
       " 'mase': 0.9893779}"
      ]
     },
     "execution_count": 55,
     "metadata": {},
     "output_type": "execute_result"
    }
   ],
   "source": [
    "model_1_results"
   ]
  },
  {
   "cell_type": "code",
   "execution_count": 56,
   "id": "a1f9ba91",
   "metadata": {},
   "outputs": [
    {
     "data": {
      "image/png": "[encoded data removed]",
      "text/plain": [
       "<Figure size 1000x700 with 1 Axes>"
      ]
     },
     "metadata": {},
     "output_type": "display_data"
    }
   ],
   "source": [
    "offset = 300\n",
    "plt.figure(figsize=(10, 7))\n",
    "# Account for test_window offset when plotting\n",
    "plot_time_series(timesteps=X_test[-len(test_windows):], values=test_labels[:, 0], start=offset, label='Test Data')\n",
    "plot_time_series(timesteps=X_test[-len(test_windows):], values=model_2_preds, start=offset, format='-', label='model_2_preds')"
   ]
  },
  {
   "cell_type": "markdown",
   "id": "c0113fea",
   "metadata": {},
   "source": [
    "## Model 3: Dense (window = 30, horizon = 7)\n",
    "\n"
   ]
  },
  {
   "cell_type": "code",
   "execution_count": 57,
   "id": "887cc5e4",
   "metadata": {},
   "outputs": [
    {
     "data": {
      "text/plain": [
       "(2751, 2751)"
      ]
     },
     "execution_count": 57,
     "metadata": {},
     "output_type": "execute_result"
    }
   ],
   "source": [
    "HORIZON = 7\n",
    "WINDOW_SIZE = 30\n",
    "\n",
    "full_windows, full_labels = make_windows(prices, window_size=WINDOW_SIZE, horizon=HORIZON)\n",
    "len(full_windows), len(full_labels)"
   ]
  },
  {
   "cell_type": "code",
   "execution_count": 58,
   "id": "6e79caa1",
   "metadata": {},
   "outputs": [
    {
     "data": {
      "text/plain": [
       "(2229, 522, 2229, 522)"
      ]
     },
     "execution_count": 58,
     "metadata": {},
     "output_type": "execute_result"
    }
   ],
   "source": [
    "train_windows, test_windows, train_labels, test_labels = make_train_test_splits(windows=full_windows,\n",
    "                                                                                labels=full_labels,\n",
    "                                                                                test_split=0.2)\n",
    "len(train_windows), len(test_windows), len(train_labels), len(test_labels)"
   ]
  },
  {
   "cell_type": "code",
   "execution_count": 59,
   "id": "23124476",
   "metadata": {},
   "outputs": [
    {
     "name": "stdout",
     "output_type": "stream",
     "text": [
      "INFO:tensorflow:Assets written to: model_experiments\\model_3_dense\\assets\n",
      "INFO:tensorflow:Assets written to: model_experiments\\model_3_dense\\assets\n",
      "INFO:tensorflow:Assets written to: model_experiments\\model_3_dense\\assets\n",
      "INFO:tensorflow:Assets written to: model_experiments\\model_3_dense\\assets\n",
      "INFO:tensorflow:Assets written to: model_experiments\\model_3_dense\\assets\n",
      "INFO:tensorflow:Assets written to: model_experiments\\model_3_dense\\assets\n",
      "INFO:tensorflow:Assets written to: model_experiments\\model_3_dense\\assets\n",
      "INFO:tensorflow:Assets written to: model_experiments\\model_3_dense\\assets\n",
      "INFO:tensorflow:Assets written to: model_experiments\\model_3_dense\\assets\n",
      "INFO:tensorflow:Assets written to: model_experiments\\model_3_dense\\assets\n",
      "INFO:tensorflow:Assets written to: model_experiments\\model_3_dense\\assets\n",
      "INFO:tensorflow:Assets written to: model_experiments\\model_3_dense\\assets\n",
      "INFO:tensorflow:Assets written to: model_experiments\\model_3_dense\\assets\n",
      "INFO:tensorflow:Assets written to: model_experiments\\model_3_dense\\assets\n",
      "INFO:tensorflow:Assets written to: model_experiments\\model_3_dense\\assets\n",
      "INFO:tensorflow:Assets written to: model_experiments\\model_3_dense\\assets\n",
      "INFO:tensorflow:Assets written to: model_experiments\\model_3_dense\\assets\n",
      "INFO:tensorflow:Assets written to: model_experiments\\model_3_dense\\assets\n",
      "INFO:tensorflow:Assets written to: model_experiments\\model_3_dense\\assets\n",
      "INFO:tensorflow:Assets written to: model_experiments\\model_3_dense\\assets\n"
     ]
    },
    {
     "data": {
      "text/plain": [
       "<keras.callbacks.History at 0x259280741c0>"
      ]
     },
     "execution_count": 59,
     "metadata": {},
     "output_type": "execute_result"
    }
   ],
   "source": [
    "tf.random.set_seed(42)\n",
    "\n",
    "# Create model\n",
    "model_3 = tf.keras.Sequential([\n",
    "    layers.Dense(128, activation='relu'),\n",
    "    layers.Dense(HORIZON)\n",
    "], name='model_3_dense')\n",
    "\n",
    "# Compile\n",
    "model_3.compile(loss='mae',\n",
    "                optimizer=tf.keras.optimizers.Adam())\n",
    "\n",
    "# Fit\n",
    "model_3.fit(train_windows,\n",
    "            train_labels,\n",
    "            batch_size=128,\n",
    "            epochs=100,\n",
    "            verbose=0,\n",
    "            validation_data=(test_windows, test_labels),\n",
    "            callbacks=[create_model_checkpoint(model_name=model_3.name)])"
   ]
  },
  {
   "cell_type": "code",
   "execution_count": 60,
   "id": "4c40baa7",
   "metadata": {},
   "outputs": [
    {
     "name": "stdout",
     "output_type": "stream",
     "text": [
      "17/17 [==============================] - 0s 2ms/step - loss: 1349.0002\n"
     ]
    },
    {
     "data": {
      "text/plain": [
       "1349.000244140625"
      ]
     },
     "execution_count": 60,
     "metadata": {},
     "output_type": "execute_result"
    }
   ],
   "source": [
    "# Evaluate the model on the test data\n",
    "model_3.evaluate(test_windows, test_labels)"
   ]
  },
  {
   "cell_type": "code",
   "execution_count": 61,
   "id": "7a7a83c6",
   "metadata": {},
   "outputs": [
    {
     "name": "stdout",
     "output_type": "stream",
     "text": [
      "17/17 [==============================] - 0s 2ms/step - loss: 1288.6310\n"
     ]
    },
    {
     "data": {
      "text/plain": [
       "1288.6309814453125"
      ]
     },
     "execution_count": 61,
     "metadata": {},
     "output_type": "execute_result"
    }
   ],
   "source": [
    "# Load best version of model_3 and evaluate\n",
    "model_3 = tf.keras.models.load_model('model_experiments/model_3_dense/')\n",
    "model_3.evaluate(test_windows, test_labels)"
   ]
  },
  {
   "cell_type": "code",
   "execution_count": 62,
   "id": "796cb207",
   "metadata": {},
   "outputs": [
    {
     "name": "stdout",
     "output_type": "stream",
     "text": [
      "17/17 [==============================] - 0s 2ms/step\n"
     ]
    },
    {
     "data": {
      "text/plain": [
       "TensorShape([522, 7])"
      ]
     },
     "execution_count": 62,
     "metadata": {},
     "output_type": "execute_result"
    }
   ],
   "source": [
    "# Make predictions with model_3\n",
    "model_3_preds = make_preds(model_3,\n",
    "                           input_data=test_windows)\n",
    "model_3_preds.shape"
   ]
  },
  {
   "cell_type": "code",
   "execution_count": 63,
   "id": "51f272aa",
   "metadata": {},
   "outputs": [
    {
     "data": {
      "text/plain": [
       "(TensorShape([522, 7]), TensorShape([528]))"
      ]
     },
     "execution_count": 63,
     "metadata": {},
     "output_type": "execute_result"
    }
   ],
   "source": [
    "model_3_preds.shape, model_2_preds.shape"
   ]
  },
  {
   "cell_type": "code",
   "execution_count": 64,
   "id": "ccec3843",
   "metadata": {},
   "outputs": [
    {
     "data": {
      "text/plain": [
       "{'mae': array([  139.82268 ,   312.45578 ,   368.03076 ,   328.42914 ,\n",
       "          356.07834 ,   318.58008 ,   259.9673  ,   312.30267 ,\n",
       "          281.66162 ,   291.16113 ,   210.50209 ,   442.66678 ,\n",
       "          102.36    ,    73.50655 ,    80.40639 ,   159.4949  ,\n",
       "          125.922295,    75.25342 ,   107.43694 ,   106.668175,\n",
       "          169.27303 ,   161.55496 ,   139.57715 ,   251.98766 ,\n",
       "          246.75217 ,   267.07687 ,   363.8386  ,   564.3376  ,\n",
       "          518.32306 ,   462.49594 ,   537.61725 ,   283.2256  ,\n",
       "          250.07213 ,   277.0803  ,   331.92926 ,   400.66763 ,\n",
       "          423.6273  ,   443.78082 ,   556.94476 ,   110.47168 ,\n",
       "          284.9153  ,   287.48856 ,   481.9438  ,   674.10406 ,\n",
       "          431.61063 ,   406.667   ,   362.5816  ,   388.5565  ,\n",
       "          392.8687  ,   539.5972  ,   661.68066 ,   716.6685  ,\n",
       "          527.2233  ,   223.08719 ,   186.66908 ,   293.31207 ,\n",
       "          252.35951 ,   213.24178 ,   332.19434 ,   394.77762 ,\n",
       "          604.35114 ,   466.35617 ,   392.57422 ,   204.64453 ,\n",
       "          176.12248 ,   243.33371 ,   275.53012 ,   421.53168 ,\n",
       "          538.6236  ,   677.06573 ,   831.5816  ,   546.4259  ,\n",
       "          312.80566 ,   216.10994 ,   352.5166  ,   344.7761  ,\n",
       "          456.96442 ,   506.84027 ,   760.5052  ,   988.41766 ,\n",
       "         1013.49274 ,   767.3326  ,   400.012   ,   218.56111 ,\n",
       "          253.29115 ,   191.1017  ,   270.4313  ,   382.85065 ,\n",
       "          482.30963 ,   645.11804 ,  1103.3102  ,  1734.4891  ,\n",
       "         2184.43    ,  2042.4338  ,  2063.016   ,  2288.158   ,\n",
       "         2617.2734  ,  1121.8813  ,   713.1781  ,   391.9919  ,\n",
       "          479.2022  ,   674.9455  ,   574.84424 ,   668.7489  ,\n",
       "          248.17801 ,   273.35043 ,   214.95619 ,   278.00766 ,\n",
       "          275.36655 ,   287.0267  ,   399.47955 ,   410.82895 ,\n",
       "          380.99023 ,   315.91043 ,   693.08386 ,   564.4459  ,\n",
       "          452.33588 ,   390.8233  ,   104.583145,   178.05553 ,\n",
       "          237.125   ,   302.68115 ,   278.9725  ,   450.24692 ,\n",
       "          523.33954 ,   498.66483 ,   269.99106 ,   158.37305 ,\n",
       "          260.46805 ,   229.44762 ,   200.92809 ,   326.5983  ,\n",
       "          205.13148 ,   239.44524 ,   273.9043  ,   289.4356  ,\n",
       "          351.74506 ,   604.8455  ,   707.59283 ,   521.6019  ,\n",
       "          591.1676  ,   788.9966  ,   833.685   ,   895.31134 ,\n",
       "         1056.1892  ,   373.54645 ,   267.25754 ,   420.42746 ,\n",
       "          354.75906 ,   384.83804 ,   467.8524  ,   510.22754 ,\n",
       "          497.85922 ,   756.5192  ,   965.0819  ,   909.58606 ,\n",
       "          315.02957 ,   352.36942 ,   617.99316 ,   372.2863  ,\n",
       "          161.31808 ,   221.12305 ,   346.53207 ,   575.69977 ,\n",
       "          580.5406  ,   673.1617  ,   603.4058  ,   321.16183 ,\n",
       "          293.82562 ,   302.87222 ,   318.93472 ,   556.71985 ,\n",
       "          729.8853  ,   732.7677  ,   371.39886 ,   267.7239  ,\n",
       "          256.1486  ,   266.29996 ,   531.08594 ,   130.67285 ,\n",
       "          131.40555 ,   199.93373 ,   220.9873  ,   141.02873 ,\n",
       "          320.75015 ,   209.94322 ,   522.34766 ,   592.5843  ,\n",
       "          234.47461 ,   262.7585  ,   254.8125  ,   130.63435 ,\n",
       "          246.84055 ,   291.79312 ,   163.39648 ,   215.17578 ,\n",
       "          153.30664 ,   200.08873 ,   211.4481  ,   297.9887  ,\n",
       "          507.86832 ,   328.45703 ,   295.81976 ,   192.55984 ,\n",
       "          115.04325 ,   133.90457 ,   119.43624 ,   126.87347 ,\n",
       "          182.9474  ,   131.8849  ,   107.84333 ,   134.17033 ,\n",
       "          169.84904 ,    84.335655,   152.67397 ,   215.11356 ,\n",
       "          229.11049 ,   174.06738 ,   130.96233 ,   151.9594  ,\n",
       "           93.922295,   204.8319  ,   180.44685 ,   182.98674 ,\n",
       "          161.41463 ,   264.55734 ,   324.11664 ,   557.9262  ,\n",
       "          658.8239  ,   756.6479  ,   866.3464  ,  1064.6222  ,\n",
       "         1236.3518  ,  1277.3097  ,   368.5512  ,   231.71764 ,\n",
       "          303.4128  ,   227.78432 ,   270.5657  ,   457.70676 ,\n",
       "          161.93387 ,   253.38756 ,   148.85854 ,   182.68666 ,\n",
       "          411.11844 ,   373.24887 ,   381.89774 ,   408.00125 ,\n",
       "          387.9855  ,   178.20006 ,   232.45898 ,   198.03947 ,\n",
       "          216.44797 ,   242.87291 ,   288.8386  ,   497.16183 ,\n",
       "          629.10156 ,   339.87387 ,   518.69617 ,   265.59457 ,\n",
       "          188.43303 ,   276.98453 ,   276.54047 ,   248.03752 ,\n",
       "          202.83635 ,   304.50754 ,   388.4866  ,   618.4704  ,\n",
       "          796.75726 ,  1049.3967  ,  1566.2375  ,  1347.1711  ,\n",
       "          916.4396  ,   516.33984 ,    99.81669 ,   182.04353 ,\n",
       "          185.87988 ,   289.8796  ,   287.29938 ,   230.6808  ,\n",
       "          329.0837  ,   287.8937  ,   386.92203 ,   185.98424 ,\n",
       "          212.36453 ,   307.118   ,   435.8164  ,   422.1875  ,\n",
       "          399.98883 ,   342.95914 ,   173.57674 ,   159.86649 ,\n",
       "          243.80482 ,   117.289345,   224.69447 ,   252.47322 ,\n",
       "          276.76102 ,   418.52316 ,   320.89008 ,   363.72992 ,\n",
       "          267.94614 ,   245.41531 ,   243.59291 ,   327.78027 ,\n",
       "          480.3591  ,   532.1669  ,   649.19543 ,   486.58078 ,\n",
       "          340.31656 ,   102.63658 ,   122.03753 ,   342.3647  ,\n",
       "          314.0975  ,   411.80582 ,   579.6378  ,   781.16516 ,\n",
       "         1005.5893  ,  1068.0206  ,  1071.3154  ,  1067.5476  ,\n",
       "          254.9036  ,   235.68275 ,   189.81418 ,   326.26926 ,\n",
       "          192.22768 ,   288.1313  ,   314.3531  ,   269.8531  ,\n",
       "          438.32074 ,   574.5321  ,   639.79535 ,   744.14874 ,\n",
       "          893.779   ,  1079.7152  ,   912.8444  ,   472.405   ,\n",
       "          516.5258  ,   362.26312 ,   236.32283 ,   440.4813  ,\n",
       "          793.19305 ,   784.24066 ,   826.1761  ,  1011.9196  ,\n",
       "         1094.3627  ,  1683.9237  ,  1349.8529  ,   827.65765 ,\n",
       "          502.78934 ,   453.45953 ,   833.6861  ,  1045.4779  ,\n",
       "         1226.5709  ,  1098.497   ,  1183.0616  ,  1101.1721  ,\n",
       "          870.08954 ,  1310.9406  ,  1093.8334  ,   956.4015  ,\n",
       "          309.76422 ,   187.94504 ,   656.7662  ,  1175.3275  ,\n",
       "          719.5773  ,   751.9771  ,   854.529   ,   647.9581  ,\n",
       "          485.8602  ,   832.96625 ,  1466.4269  ,  2115.6328  ,\n",
       "         2619.091   ,  2953.09    ,  3083.2454  ,  3316.1116  ,\n",
       "         2150.437   ,   507.5812  ,   475.01926 ,  1140.4381  ,\n",
       "         1097.4681  ,  1264.4012  ,  1563.4763  ,  2399.8457  ,\n",
       "         2871.186   ,  2788.2183  ,  2246.737   ,  2287.8257  ,\n",
       "         2449.855   ,  3046.9998  ,  2730.4004  ,  3717.2407  ,\n",
       "         4938.5547  ,  4524.9346  ,  4067.7961  ,  4704.0757  ,\n",
       "         3009.9722  ,  2899.9705  ,  2193.3025  ,  4265.5503  ,\n",
       "         5584.695   ,  5321.651   ,  1991.9716  ,  1118.8036  ,\n",
       "         1027.0223  ,  2315.9023  ,  2949.6624  ,  3153.313   ,\n",
       "         3648.5496  ,  4186.187   ,  4640.774   ,  4052.0645  ,\n",
       "         1265.2986  ,  1616.5592  ,  1439.9333  ,  1315.1501  ,\n",
       "         1557.6836  ,  2205.9     ,  3848.6794  ,  2837.6948  ,\n",
       "         2201.067   ,  2322.6238  ,  2969.7136  ,  4548.969   ,\n",
       "         5321.542   ,  4816.8486  ,  6219.9146  ,  6182.4663  ,\n",
       "         5295.95    ,  7404.8657  ,  3880.8125  ,  1251.6791  ,\n",
       "         1040.5139  ,  1622.4783  ,  2257.8728  ,  2429.3098  ,\n",
       "         2836.0122  ,  3685.034   ,  2954.7617  ,  2365.8074  ,\n",
       "         3157.234   ,  5665.663   ,  7790.7446  , 10584.232   ,\n",
       "        10528.179   ,  5028.0864  ,  2623.3281  ,  2103.2417  ,\n",
       "         2149.457   ,  2127.5508  ,  4288.965   ,  2139.8433  ,\n",
       "         2386.303   ,  2397.5352  ,  3413.4934  ,  4043.9492  ,\n",
       "         6858.93    ,  6156.5967  ,  6677.8667  ,  4285.6323  ,\n",
       "         2485.8303  ,  1690.207   ,  1784.8047  ,  2807.3064  ,\n",
       "         3368.7395  ,  2269.0999  ,  1956.279   ,  3620.6355  ,\n",
       "         4276.564   ,  4721.796   ,  5710.779   ,  5755.4136  ,\n",
       "         2751.807   ,  2118.2317  ,  2467.6206  ,  3597.5178  ,\n",
       "         3698.9075  ,  2241.816   ,  2869.7327  ,  1810.4514  ,\n",
       "          693.62274 ,  1074.5787  ,  1150.5938  ,  1234.3856  ,\n",
       "          829.9018  ,   944.6417  ,  1140.6384  ,  1553.2773  ,\n",
       "         2424.6272  ,  3440.9827  ,  2951.391   ,  1575.8549  ,\n",
       "         1726.1652  ,  2206.0542  ,  4279.2993  ,  5969.894   ,\n",
       "         7557.1304  ,  8701.819   ,  8288.769   ,  6047.755   ,\n",
       "         4973.903   ,  4230.344   ,  2984.6792  ,  1952.9459  ,\n",
       "         2902.7114  ,  3935.293   ,  5829.2974  ,  3544.6736  ,\n",
       "         1847.4113  ,  1960.597   ,  2165.8489  ,  1355.8928  ,\n",
       "         1479.1736  ,  1407.3561  ,  1349.3236  ,  2140.2612  ,\n",
       "         1331.726   ,  2502.4136  ,  3254.793   ,  6529.971   ,\n",
       "         8499.032   ,  8451.615   ], dtype=float32),\n",
       " 'mse': array([2.75629902e+04, 1.20634188e+05, 1.46044359e+05, 1.20633648e+05,\n",
       "        1.85252500e+05, 1.85262422e+05, 1.29596492e+05, 1.60513047e+05,\n",
       "        1.17348109e+05, 1.24475938e+05, 5.82779609e+04, 2.19453891e+05,\n",
       "        1.74676152e+04, 7.25371338e+03, 1.19584248e+04, 3.75941602e+04,\n",
       "        2.11288574e+04, 7.45548779e+03, 1.60180850e+04, 1.96230957e+04,\n",
       "        3.25999980e+04, 3.27403340e+04, 3.26217754e+04, 8.17596953e+04,\n",
       "        6.66829141e+04, 1.40851656e+05, 1.96675672e+05, 3.80493156e+05,\n",
       "        3.60466812e+05, 2.93521969e+05, 3.26535438e+05, 9.49703750e+04,\n",
       "        1.38242719e+05, 1.45748406e+05, 1.91767391e+05, 2.60230531e+05,\n",
       "        2.17946656e+05, 2.29798578e+05, 3.19699688e+05, 1.82904785e+04,\n",
       "        1.00690914e+05, 1.10057234e+05, 2.62716469e+05, 5.00951844e+05,\n",
       "        2.44574797e+05, 2.11508984e+05, 1.77211531e+05, 1.81269172e+05,\n",
       "        2.61880766e+05, 3.89447719e+05, 5.21277969e+05, 5.57180375e+05,\n",
       "        2.97664312e+05, 6.20766055e+04, 4.18585508e+04, 1.23793414e+05,\n",
       "        8.91884219e+04, 6.21065898e+04, 1.50508250e+05, 1.96334953e+05,\n",
       "        4.37270500e+05, 3.12556469e+05, 2.11952203e+05, 6.31250508e+04,\n",
       "        3.72622148e+04, 8.02818984e+04, 1.14820070e+05, 2.84011656e+05,\n",
       "        3.68201500e+05, 5.71565625e+05, 7.25504812e+05, 3.76729656e+05,\n",
       "        1.34971406e+05, 7.43406484e+04, 1.30865211e+05, 2.05456234e+05,\n",
       "        3.20715656e+05, 4.46385438e+05, 7.60327312e+05, 1.16789762e+06,\n",
       "        1.12320962e+06, 6.28864375e+05, 1.97095391e+05, 6.12491992e+04,\n",
       "        8.86116172e+04, 5.37042930e+04, 8.29138359e+04, 2.25515859e+05,\n",
       "        3.44742000e+05, 5.46203688e+05, 2.14352150e+06, 4.39682150e+06,\n",
       "        6.21784750e+06, 5.64614250e+06, 5.58275100e+06, 6.21603500e+06,\n",
       "        6.94616700e+06, 1.45400912e+06, 6.44701312e+05, 2.29232875e+05,\n",
       "        3.17193500e+05, 5.92719312e+05, 4.26758531e+05, 5.74993500e+05,\n",
       "        8.03305000e+04, 1.19518047e+05, 6.68665938e+04, 9.44585703e+04,\n",
       "        1.05836578e+05, 1.36614109e+05, 3.18979688e+05, 2.67978281e+05,\n",
       "        2.55026781e+05, 1.31103969e+05, 5.07443062e+05, 4.00465156e+05,\n",
       "        2.46354281e+05, 1.97248172e+05, 1.95693340e+04, 5.35647305e+04,\n",
       "        8.30169531e+04, 1.14431547e+05, 1.13296109e+05, 3.03557406e+05,\n",
       "        3.45007781e+05, 3.04783812e+05, 1.02947578e+05, 4.78581055e+04,\n",
       "        8.30892109e+04, 6.57198828e+04, 5.32945039e+04, 1.35026781e+05,\n",
       "        6.46839727e+04, 7.73248125e+04, 9.80298047e+04, 1.12920859e+05,\n",
       "        1.86929969e+05, 4.15654344e+05, 7.29263125e+05, 6.18546562e+05,\n",
       "        6.89125938e+05, 1.01359556e+06, 9.40146875e+05, 9.31616562e+05,\n",
       "        1.12563375e+06, 1.77352609e+05, 1.66938922e+05, 2.32823094e+05,\n",
       "        1.70320953e+05, 1.62446875e+05, 2.97303344e+05, 3.08293344e+05,\n",
       "        3.21815344e+05, 8.63151375e+05, 1.13225862e+06, 9.40269688e+05,\n",
       "        1.70266766e+05, 2.16147969e+05, 4.04018031e+05, 1.68966703e+05,\n",
       "        3.44049023e+04, 6.15801055e+04, 1.69962641e+05, 4.58810062e+05,\n",
       "        4.17335156e+05, 5.10962312e+05, 4.07284562e+05, 1.62938422e+05,\n",
       "        1.15849516e+05, 1.18281586e+05, 1.45499016e+05, 4.74746094e+05,\n",
       "        6.76502062e+05, 6.24612688e+05, 2.02827031e+05, 1.52546484e+05,\n",
       "        7.95347109e+04, 9.72581172e+04, 3.17517500e+05, 2.72451602e+04,\n",
       "        3.35719766e+04, 5.63642930e+04, 9.14422500e+04, 5.01130039e+04,\n",
       "        1.36732141e+05, 5.75684648e+04, 3.57535531e+05, 3.72602812e+05,\n",
       "        6.68384766e+04, 7.57351328e+04, 7.84946875e+04, 2.34991621e+04,\n",
       "        8.92015469e+04, 1.09336234e+05, 4.19269336e+04, 5.92493125e+04,\n",
       "        4.81379648e+04, 4.24790273e+04, 7.02756641e+04, 1.15882070e+05,\n",
       "        2.74104219e+05, 1.18404766e+05, 1.05110195e+05, 4.39079414e+04,\n",
       "        2.03324824e+04, 2.31772949e+04, 2.10084883e+04, 2.54685723e+04,\n",
       "        4.41381445e+04, 2.35758027e+04, 1.86780352e+04, 2.21682441e+04,\n",
       "        5.76970547e+04, 9.17945020e+03, 2.78495176e+04, 5.54142148e+04,\n",
       "        6.09406133e+04, 3.97869883e+04, 2.74994023e+04, 3.27952500e+04,\n",
       "        1.27962119e+04, 4.93346055e+04, 4.06713398e+04, 4.44289297e+04,\n",
       "        4.58112266e+04, 9.03744219e+04, 1.55886344e+05, 7.13800125e+05,\n",
       "        9.02410375e+05, 1.06381538e+06, 1.12372375e+06, 1.56393300e+06,\n",
       "        1.81368475e+06, 1.70157700e+06, 1.81382969e+05, 9.54588984e+04,\n",
       "        1.11546727e+05, 6.88389844e+04, 1.33125875e+05, 2.41733453e+05,\n",
       "        4.72369492e+04, 7.62907500e+04, 2.93249648e+04, 4.35111992e+04,\n",
       "        2.25663594e+05, 1.86238453e+05, 1.83260781e+05, 2.23435641e+05,\n",
       "        1.81201078e+05, 6.96342891e+04, 8.04566328e+04, 6.10234609e+04,\n",
       "        8.74552500e+04, 8.04017656e+04, 1.22676695e+05, 2.90717344e+05,\n",
       "        4.20536438e+05, 1.44968875e+05, 2.87464625e+05, 9.99887500e+04,\n",
       "        5.83742539e+04, 1.20197367e+05, 1.08824914e+05, 1.02717992e+05,\n",
       "        5.78501992e+04, 1.42813125e+05, 2.48400328e+05, 6.04342000e+05,\n",
       "        1.01269831e+06, 1.41254188e+06, 2.70648525e+06, 1.85797725e+06,\n",
       "        9.06503812e+05, 3.19537344e+05, 2.16624082e+04, 4.64398789e+04,\n",
       "        6.55426094e+04, 1.57106719e+05, 1.34259406e+05, 9.82047969e+04,\n",
       "        1.46165281e+05, 1.10188250e+05, 1.81936969e+05, 5.53833984e+04,\n",
       "        5.46448672e+04, 1.33181766e+05, 2.55992031e+05, 2.48519766e+05,\n",
       "        2.10269656e+05, 1.45797297e+05, 5.62844062e+04, 3.72679609e+04,\n",
       "        6.87706641e+04, 1.78230586e+04, 6.47485938e+04, 8.44638828e+04,\n",
       "        1.13464492e+05, 2.15672109e+05, 1.26775586e+05, 1.56253969e+05,\n",
       "        7.91633750e+04, 8.13381328e+04, 1.45124703e+05, 2.07477641e+05,\n",
       "        3.38070094e+05, 3.95481781e+05, 4.87686156e+05, 2.70000844e+05,\n",
       "        1.45121703e+05, 1.70205742e+04, 2.05724473e+04, 1.66653031e+05,\n",
       "        1.24556016e+05, 4.40380562e+05, 7.24365500e+05, 9.85182062e+05,\n",
       "        1.46269900e+06, 1.48638538e+06, 1.31147688e+06, 1.22449400e+06,\n",
       "        1.15582930e+05, 6.93798984e+04, 4.96638945e+04, 1.31379562e+05,\n",
       "        5.47046328e+04, 1.10203430e+05, 1.16999414e+05, 1.39235969e+05,\n",
       "        5.44594000e+05, 8.92454438e+05, 7.08341125e+05, 8.35585938e+05,\n",
       "        1.11904712e+06, 1.41595500e+06, 8.95535375e+05, 2.96572094e+05,\n",
       "        3.20624438e+05, 2.12978531e+05, 9.07590078e+04, 3.99937938e+05,\n",
       "        1.15291238e+06, 1.18744688e+06, 1.19426338e+06, 1.27304962e+06,\n",
       "        1.61314988e+06, 3.22990175e+06, 1.92537138e+06, 8.72773562e+05,\n",
       "        3.35653500e+05, 3.28372656e+05, 1.16754962e+06, 1.78231512e+06,\n",
       "        2.17054375e+06, 1.81434375e+06, 2.30206975e+06, 1.91360275e+06,\n",
       "        9.49360188e+05, 2.04544388e+06, 1.26827200e+06, 1.03348600e+06,\n",
       "        1.22230789e+05, 5.77125508e+04, 6.18251188e+05, 1.66724775e+06,\n",
       "        7.56766062e+05, 8.24090938e+05, 1.01891112e+06, 5.56286125e+05,\n",
       "        3.03888562e+05, 1.55975825e+06, 4.69694900e+06, 7.44864950e+06,\n",
       "        1.03311120e+07, 1.19939550e+07, 1.16697860e+07, 1.14373760e+07,\n",
       "        4.83477300e+06, 3.86606438e+05, 3.63485000e+05, 1.73793475e+06,\n",
       "        1.74921900e+06, 2.85629200e+06, 3.39933625e+06, 8.49076500e+06,\n",
       "        1.05518570e+07, 9.34325400e+06, 8.38341900e+06, 9.18890700e+06,\n",
       "        8.66250400e+06, 1.25078830e+07, 1.20872020e+07, 2.33114860e+07,\n",
       "        3.64333520e+07, 2.96345480e+07, 2.14788580e+07, 2.70321600e+07,\n",
       "        1.31581690e+07, 9.31818600e+06, 8.62057300e+06, 2.25775700e+07,\n",
       "        3.44761200e+07, 2.93738280e+07, 4.36235650e+06, 1.98960012e+06,\n",
       "        1.40054738e+06, 7.77937950e+06, 1.19574350e+07, 1.50206730e+07,\n",
       "        2.00607100e+07, 2.18434340e+07, 2.35908520e+07, 1.72361320e+07,\n",
       "        2.12592800e+06, 3.61339200e+06, 3.68263800e+06, 2.66505650e+06,\n",
       "        3.64906575e+06, 6.60335550e+06, 1.82602560e+07, 1.05161600e+07,\n",
       "        7.93742750e+06, 6.71253250e+06, 1.16579900e+07, 2.82986080e+07,\n",
       "        4.30654360e+07, 3.55073080e+07, 5.34735360e+07, 4.92359360e+07,\n",
       "        3.36725520e+07, 5.74176200e+07, 1.72453940e+07, 1.85236262e+06,\n",
       "        3.06472375e+06, 3.54103325e+06, 6.89898750e+06, 1.17277750e+07,\n",
       "        1.15974960e+07, 1.76130280e+07, 1.28432570e+07, 8.00647300e+06,\n",
       "        1.19996210e+07, 4.76919120e+07, 7.67898080e+07, 1.21378672e+08,\n",
       "        1.15771704e+08, 2.90264160e+07, 1.03564880e+07, 6.78928900e+06,\n",
       "        6.78503350e+06, 5.89973750e+06, 2.19059340e+07, 6.40229200e+06,\n",
       "        9.95877300e+06, 1.27782830e+07, 2.05125320e+07, 2.60467180e+07,\n",
       "        5.87599960e+07, 4.91274160e+07, 4.77177160e+07, 2.13999140e+07,\n",
       "        1.13034700e+07, 4.50100950e+06, 4.02843425e+06, 9.70166400e+06,\n",
       "        1.20796990e+07, 9.63504200e+06, 7.29576950e+06, 2.05700760e+07,\n",
       "        2.64022520e+07, 3.06170300e+07, 3.67704120e+07, 3.72296680e+07,\n",
       "        9.61944500e+06, 6.00650750e+06, 8.90663800e+06, 1.62340980e+07,\n",
       "        1.73594840e+07, 7.22008000e+06, 9.09728900e+06, 4.04902350e+06,\n",
       "        6.59963625e+05, 1.60492225e+06, 2.10914275e+06, 2.17746550e+06,\n",
       "        1.40237900e+06, 1.18275562e+06, 2.12472800e+06, 4.71493400e+06,\n",
       "        1.07691360e+07, 1.57924420e+07, 1.12552640e+07, 4.35416050e+06,\n",
       "        4.13391150e+06, 8.27664250e+06, 2.96252660e+07, 4.88697720e+07,\n",
       "        6.56331320e+07, 8.60593200e+07, 7.58719120e+07, 4.38057920e+07,\n",
       "        3.19437800e+07, 2.47097420e+07, 1.28832370e+07, 4.51631900e+06,\n",
       "        1.09970900e+07, 2.07386420e+07, 3.59500200e+07, 1.43589410e+07,\n",
       "        5.20686050e+06, 4.44350450e+06, 4.89863100e+06, 3.18537425e+06,\n",
       "        2.78441450e+06, 4.09147800e+06, 3.57279550e+06, 5.62739150e+06,\n",
       "        2.94674225e+06, 9.01780200e+06, 1.78690260e+07, 6.05453760e+07,\n",
       "        8.63796960e+07, 9.01222480e+07], dtype=float32),\n",
       " 'rmse': array([  166.02106 ,   347.3243  ,   382.1575  ,   347.32355 ,\n",
       "          430.40967 ,   430.4212  ,   359.99512 ,   400.64078 ,\n",
       "          342.5611  ,   352.81146 ,   241.4083  ,   468.45905 ,\n",
       "          132.1651  ,    85.16873 ,   109.354576,   193.89214 ,\n",
       "          145.35768 ,    86.34516 ,   126.56257 ,   140.08246 ,\n",
       "          180.55469 ,   180.9429  ,   180.61499 ,   285.93652 ,\n",
       "          258.23035 ,   375.3021  ,   443.4813  ,   616.84125 ,\n",
       "          600.38885 ,   541.7767  ,   571.4328  ,   308.17264 ,\n",
       "          371.81006 ,   381.77008 ,   437.91254 ,   510.12796 ,\n",
       "          466.84756 ,   479.3731  ,   565.4199  ,   135.2423  ,\n",
       "          317.3183  ,   331.74875 ,   512.5587  ,   707.7795  ,\n",
       "          494.54504 ,   459.90106 ,   420.965   ,   425.75717 ,\n",
       "          511.74286 ,   624.05743 ,   721.9958  ,   746.4451  ,\n",
       "          545.5862  ,   249.15176 ,   204.59363 ,   351.84286 ,\n",
       "          298.6443  ,   249.21193 ,   387.95392 ,   443.097   ,\n",
       "          661.26434 ,   559.0675  ,   460.38266 ,   251.247   ,\n",
       "          193.03424 ,   283.3406  ,   338.8511  ,   532.9274  ,\n",
       "          606.7961  ,   756.0196  ,   851.7657  ,   613.7831  ,\n",
       "          367.38455 ,   272.65482 ,   361.75296 ,   453.2728  ,\n",
       "          566.3176  ,   668.12085 ,   871.96747 ,  1080.6931  ,\n",
       "         1059.8158  ,   793.0097  ,   443.95425 ,   247.48575 ,\n",
       "          297.67703 ,   231.74187 ,   287.94763 ,   474.8851  ,\n",
       "          587.14734 ,   739.05597 ,  1464.077   ,  2096.8599  ,\n",
       "         2493.5613  ,  2376.1611  ,  2362.7844  ,  2493.1978  ,\n",
       "         2635.558   ,  1205.823   ,   802.9329  ,   478.78268 ,\n",
       "          563.19934 ,   769.8826  ,   653.2676  ,   758.28326 ,\n",
       "          283.42636 ,   345.7138  ,   258.58575 ,   307.34113 ,\n",
       "          325.32535 ,   369.61346 ,   564.78284 ,   517.6662  ,\n",
       "          505.00177 ,   362.08282 ,   712.3504  ,   632.8232  ,\n",
       "          496.34088 ,   444.12628 ,   139.89043 ,   231.44055 ,\n",
       "          288.12662 ,   338.2773  ,   336.59488 ,   550.96045 ,\n",
       "          587.3736  ,   552.07227 ,   320.85446 ,   218.76495 ,\n",
       "          288.25198 ,   256.3589  ,   230.85602 ,   367.4599  ,\n",
       "          254.33044 ,   278.0734  ,   313.0971  ,   336.037   ,\n",
       "          432.35397 ,   644.7126  ,   853.96906 ,   786.4773  ,\n",
       "          830.1361  ,  1006.77484 ,   969.6117  ,   965.2029  ,\n",
       "         1060.9589  ,   421.13254 ,   408.5816  ,   482.51746 ,\n",
       "          412.6996  ,   403.047   ,   545.2553  ,   555.2417  ,\n",
       "          567.2877  ,   929.0594  ,  1064.0764  ,   969.67505 ,\n",
       "          412.63394 ,   464.91718 ,   635.62415 ,   411.0556  ,\n",
       "          185.48558 ,   248.1534  ,   412.26526 ,   677.35516 ,\n",
       "          646.01483 ,   714.8163  ,   638.1885  ,   403.6563  ,\n",
       "          340.36673 ,   343.9209  ,   381.44333 ,   689.0182  ,\n",
       "          822.49744 ,   790.3244  ,   450.36322 ,   390.572   ,\n",
       "          282.01898 ,   311.86234 ,   563.4869  ,   165.06108 ,\n",
       "          183.22656 ,   237.41165 ,   302.3942  ,   223.85934 ,\n",
       "          369.7731  ,   239.93428 ,   597.94275 ,   610.412   ,\n",
       "          258.53137 ,   275.20016 ,   280.16904 ,   153.29436 ,\n",
       "          298.66626 ,   330.6603  ,   204.76068 ,   243.41182 ,\n",
       "          219.40366 ,   206.1044  ,   265.09558 ,   340.41455 ,\n",
       "          523.5496  ,   344.0999  ,   324.20703 ,   209.54222 ,\n",
       "          142.59201 ,   152.2409  ,   144.94305 ,   159.58876 ,\n",
       "          210.0908  ,   153.54413 ,   136.6676  ,   148.89005 ,\n",
       "          240.2021  ,    95.80945 ,   166.88174 ,   235.40224 ,\n",
       "          246.86153 ,   199.46675 ,   165.82944 ,   181.09459 ,\n",
       "          113.120346,   222.11394 ,   201.67137 ,   210.78171 ,\n",
       "          214.03557 ,   300.62338 ,   394.82443 ,   844.86694 ,\n",
       "          949.9528  ,  1031.4142  ,  1060.0583  ,  1250.573   ,\n",
       "         1346.7311  ,  1304.4451  ,   425.89078 ,   308.96423 ,\n",
       "          333.9861  ,   262.37183 ,   364.8642  ,   491.66397 ,\n",
       "          217.34062 ,   276.2078  ,   171.24533 ,   208.59338 ,\n",
       "          475.04062 ,   431.55353 ,   428.0897  ,   472.6898  ,\n",
       "          425.6772  ,   263.8831  ,   283.64877 ,   247.02927 ,\n",
       "          295.72833 ,   283.55203 ,   350.25232 ,   539.1821  ,\n",
       "          648.4878  ,   380.7478  ,   536.1573  ,   316.20996 ,\n",
       "          241.60764 ,   346.69492 ,   329.8862  ,   320.49646 ,\n",
       "          240.52068 ,   377.90625 ,   498.39777 ,   777.39435 ,\n",
       "         1006.3291  ,  1188.504   ,  1645.1399  ,  1363.0764  ,\n",
       "          952.1049  ,   565.2763  ,   147.18155 ,   215.49915 ,\n",
       "          256.0129  ,   396.3669  ,   366.41425 ,   313.37643 ,\n",
       "          382.31567 ,   331.94617 ,   426.5407  ,   235.33678 ,\n",
       "          233.76242 ,   364.94077 ,   505.95654 ,   498.51755 ,\n",
       "          458.5517  ,   381.8341  ,   237.24335 ,   193.04912 ,\n",
       "          262.2416  ,   133.50302 ,   254.45744 ,   290.6267  ,\n",
       "          336.8449  ,   464.40512 ,   356.0556  ,   395.28973 ,\n",
       "          281.35986 ,   285.1984  ,   380.95236 ,   455.49713 ,\n",
       "          581.4379  ,   628.8734  ,   698.3453  ,   519.6161  ,\n",
       "          380.94843 ,   130.46292 ,   143.43098 ,   408.2316  ,\n",
       "          352.92493 ,   663.61176 ,   851.0966  ,   992.56335 ,\n",
       "         1209.4209  ,  1219.1741  ,  1145.1973  ,  1106.5686  ,\n",
       "          339.97488 ,   263.40063 ,   222.85397 ,   362.46317 ,\n",
       "          233.89021 ,   331.96902 ,   342.05176 ,   373.14337 ,\n",
       "          737.9661  ,   944.69806 ,   841.63    ,   914.1039  ,\n",
       "         1057.8502  ,  1189.9391  ,   946.3273  ,   544.5843  ,\n",
       "          566.23706 ,   461.49597 ,   301.26236 ,   632.40643 ,\n",
       "         1073.7375  ,  1089.7003  ,  1092.8236  ,  1128.295   ,\n",
       "         1270.0984  ,  1797.1927  ,  1387.5775  ,   934.2235  ,\n",
       "          579.3561  ,   573.0381  ,  1080.5321  ,  1335.0337  ,\n",
       "         1473.2765  ,  1346.9757  ,  1517.2573  ,  1383.3303  ,\n",
       "          974.35114 ,  1430.1902  ,  1126.1758  ,  1016.6051  ,\n",
       "          349.6152  ,   240.23436 ,   786.2895  ,  1291.2195  ,\n",
       "          869.92303 ,   907.79456 ,  1009.41125 ,   745.84595 ,\n",
       "          551.26086 ,  1248.9028  ,  2167.2446  ,  2729.2214  ,\n",
       "         3214.2048  ,  3463.229   ,  3416.1067  ,  3381.919   ,\n",
       "         2198.8118  ,   621.77686 ,   602.89716 ,  1318.3075  ,\n",
       "         1322.5804  ,  1690.0568  ,  1843.7289  ,  2913.8918  ,\n",
       "         3248.362   ,  3056.6736  ,  2895.4136  ,  3031.3208  ,\n",
       "         2943.2131  ,  3536.6484  ,  3476.6653  ,  4828.197   ,\n",
       "         6036.0044  ,  5443.762   ,  4634.529   ,  5199.246   ,\n",
       "         3627.419   ,  3052.5703  ,  2936.0813  ,  4751.586   ,\n",
       "         5871.6367  ,  5419.7627  ,  2088.6255  ,  1410.5319  ,\n",
       "         1183.4473  ,  2789.1538  ,  3457.9524  ,  3875.6514  ,\n",
       "         4478.9185  ,  4673.696   ,  4857.0415  ,  4151.642   ,\n",
       "         1458.0563  ,  1900.8923  ,  1919.02    ,  1632.5     ,\n",
       "         1910.2528  ,  2569.6995  ,  4273.202   ,  3242.8628  ,\n",
       "         2817.344   ,  2590.8555  ,  3414.38    ,  5319.6436  ,\n",
       "         6562.426   ,  5958.801   ,  7312.56    ,  7016.8325  ,\n",
       "         5802.805   ,  7577.4414  ,  4152.7573  ,  1361.0153  ,\n",
       "         1750.6353  ,  1881.7633  ,  2626.5923  ,  3424.584   ,\n",
       "         3405.5095  ,  4196.7876  ,  3583.749   ,  2829.571   ,\n",
       "         3464.0469  ,  6905.933   ,  8762.9795  , 11017.199   ,\n",
       "        10759.726   ,  5387.6167  ,  3218.1497  ,  2605.6265  ,\n",
       "         2604.8096  ,  2428.9375  ,  4680.3774  ,  2530.2751  ,\n",
       "         3155.7524  ,  3574.6724  ,  4529.076   ,  5103.5986  ,\n",
       "         7665.507   ,  7009.095   ,  6907.801   ,  4626.004   ,\n",
       "         3362.0632  ,  2121.5583  ,  2007.096   ,  3114.7493  ,\n",
       "         3475.586   ,  3104.0364  ,  2701.068   ,  4535.4243  ,\n",
       "         5138.312   ,  5533.2656  ,  6063.861   ,  6101.612   ,\n",
       "         3101.523   ,  2450.8176  ,  2984.3992  ,  4029.156   ,\n",
       "         4166.471   ,  2687.0205  ,  3016.1711  ,  2012.2185  ,\n",
       "          812.3815  ,  1266.8552  ,  1452.2888  ,  1475.6238  ,\n",
       "         1184.2208  ,  1087.5457  ,  1457.6447  ,  2171.39    ,\n",
       "         3281.6362  ,  3973.9705  ,  3354.8865  ,  2086.6624  ,\n",
       "         2033.2023  ,  2876.9153  ,  5442.9097  ,  6990.6914  ,\n",
       "         8101.4277  ,  9276.816   ,  8710.448   ,  6618.594   ,\n",
       "         5651.883   ,  4970.889   ,  3589.3225  ,  2125.1633  ,\n",
       "         3316.186   ,  4553.9697  ,  5995.8335  ,  3789.3193  ,\n",
       "         2281.8545  ,  2107.9622  ,  2213.2852  ,  1784.7616  ,\n",
       "         1668.6565  ,  2022.7402  ,  1890.184   ,  2372.2124  ,\n",
       "         1716.6078  ,  3002.9656  ,  4227.177   ,  7781.091   ,\n",
       "         9294.067   ,  9493.273   ], dtype=float32),\n",
       " 'mape': array([ 1.9238164 ,  4.3327875 ,  5.122364  ,  4.6273527 ,  5.1683645 ,\n",
       "         4.6439114 ,  3.8001218 ,  4.5514646 ,  4.0770035 ,  4.186643  ,\n",
       "         3.004076  ,  6.1037097 ,  1.4233263 ,  1.0202454 ,  1.1129608 ,\n",
       "         2.2152905 ,  1.7421054 ,  1.038029  ,  1.4822776 ,  1.4631695 ,\n",
       "         2.3466563 ,  2.2542844 ,  1.9561092 ,  3.5225165 ,  3.3837113 ,\n",
       "         3.5261784 ,  4.7138314 ,  7.25599   ,  6.529657  ,  5.768146  ,\n",
       "         6.6877165 ,  3.5036602 ,  3.005861  ,  3.2588255 ,  3.8367767 ,\n",
       "         4.5645094 ,  4.838169  ,  5.0521355 ,  6.33379   ,  1.2518585 ,\n",
       "         3.2700624 ,  3.3439488 ,  5.6239734 ,  7.925464  ,  5.1007133 ,\n",
       "         4.7965794 ,  4.2598987 ,  4.477011  ,  4.301979  ,  5.8418965 ,\n",
       "         7.120901  ,  7.68302   ,  5.630157  ,  2.3788261 ,  1.9831676 ,\n",
       "         3.150856  ,  2.697125  ,  2.237748  ,  3.4081497 ,  4.0165844 ,\n",
       "         6.0616465 ,  4.599734  ,  3.8530679 ,  1.9909909 ,  1.7349789 ,\n",
       "         2.430774  ,  2.7801206 ,  4.263339  ,  5.4651175 ,  6.923746  ,\n",
       "         8.512199  ,  5.6426234 ,  3.23367   ,  2.1973996 ,  3.654904  ,\n",
       "         3.7290375 ,  5.0204225 ,  5.6943407 ,  8.575628  , 11.266492  ,\n",
       "        11.570241  ,  8.795665  ,  4.584137  ,  2.480383  ,  2.8563333 ,\n",
       "         2.1409209 ,  3.0483494 ,  4.572295  ,  5.8396153 ,  7.931573  ,\n",
       "        15.938902  , 26.618656  , 35.608738  , 35.49432   , 37.928066  ,\n",
       "        42.562656  , 48.692398  , 21.078297  , 13.407658  ,  6.907399  ,\n",
       "         8.047205  , 10.949562  ,  9.050916  , 10.287352  ,  3.893343  ,\n",
       "         4.136422  ,  3.4045906 ,  4.2836914 ,  4.3147774 ,  4.588232  ,\n",
       "         6.461578  ,  6.532172  ,  6.114354  ,  4.7459126 , 10.380235  ,\n",
       "         8.185252  ,  6.482248  ,  5.4969125 ,  1.4498887 ,  2.562758  ,\n",
       "         3.3775394 ,  4.248721  ,  4.013584  ,  6.495718  ,  7.576953  ,\n",
       "         7.24589   ,  3.929248  ,  2.2673073 ,  3.7393603 ,  3.2422144 ,\n",
       "         2.8354008 ,  4.571234  ,  2.8942106 ,  3.3661518 ,  3.8578343 ,\n",
       "         4.0481644 ,  4.648535  ,  7.9448276 ,  8.812341  ,  6.1214695 ,\n",
       "         6.806612  ,  8.9716    ,  9.4443655 , 10.113993  , 11.894007  ,\n",
       "         4.1288366 ,  2.813859  ,  4.4388585 ,  3.7359114 ,  4.1051693 ,\n",
       "         4.9791074 ,  5.537125  ,  5.486819  ,  8.490196  , 10.749533  ,\n",
       "        10.108623  ,  3.520878  ,  3.6500645 ,  6.4370112 ,  3.8620703 ,\n",
       "         1.7114427 ,  2.3566332 ,  3.7237883 ,  6.2447104 ,  6.3573456 ,\n",
       "         7.429821  ,  6.682799  ,  3.5503154 ,  3.2336574 ,  3.2905805 ,\n",
       "         3.4138863 ,  5.718087  ,  7.5173364 ,  7.532513  ,  3.7702951 ,\n",
       "         2.6849163 ,  2.6364017 ,  2.7144952 ,  5.491724  ,  1.3430685 ,\n",
       "         1.3422043 ,  2.086076  ,  2.3257642 ,  1.4995476 ,  3.3914573 ,\n",
       "         2.2307382 ,  5.558478  ,  6.2995424 ,  2.4822896 ,  2.7936745 ,\n",
       "         2.7135909 ,  1.3963431 ,  2.6303222 ,  3.1081648 ,  1.7424334 ,\n",
       "         2.2943552 ,  1.6100047 ,  2.1465616 ,  2.2811952 ,  3.255229  ,\n",
       "         5.5471687 ,  3.5885353 ,  3.2434485 ,  2.1110747 ,  1.2564058 ,\n",
       "         1.4664711 ,  1.3011566 ,  1.3896306 ,  1.9937214 ,  1.426956  ,\n",
       "         1.1718143 ,  1.4506716 ,  1.8151779 ,  0.9103012 ,  1.64637   ,\n",
       "         2.3264813 ,  2.48377   ,  1.8900176 ,  1.4258221 ,  1.6539948 ,\n",
       "         1.0228628 ,  2.2286425 ,  1.949     ,  1.9583716 ,  1.7021407 ,\n",
       "         2.7781918 ,  3.3443677 ,  5.349674  ,  6.15822   ,  6.9031196 ,\n",
       "         7.869081  ,  9.528553  , 10.939078  , 11.305936  ,  3.2360177 ,\n",
       "         2.019984  ,  2.677813  ,  2.000604  ,  2.395387  ,  4.0155864 ,\n",
       "         1.4223568 ,  2.1691797 ,  1.2838353 ,  1.5766406 ,  3.5551543 ,\n",
       "         3.2233264 ,  3.2842479 ,  3.5082908 ,  3.2979865 ,  1.4696891 ,\n",
       "         1.9270185 ,  1.6451972 ,  1.7981281 ,  2.0461857 ,  2.4337578 ,\n",
       "         4.2452974 ,  5.3990755 ,  2.938808  ,  4.5026627 ,  2.3182375 ,\n",
       "         1.6477039 ,  2.4226172 ,  2.414349  ,  2.1380565 ,  1.7394187 ,\n",
       "         2.669918  ,  3.5301156 ,  5.7956    ,  7.6603785 , 10.075844  ,\n",
       "        15.157183  , 13.101263  ,  8.967673  ,  5.0692616 ,  0.9632791 ,\n",
       "         1.7719531 ,  1.7839336 ,  2.7249277 ,  2.67436   ,  2.127947  ,\n",
       "         3.0306642 ,  2.6439514 ,  3.5375528 ,  1.6990343 ,  1.9700657 ,\n",
       "         2.9040563 ,  4.128725  ,  4.0085187 ,  3.797294  ,  3.2565079 ,\n",
       "         1.644162  ,  1.5063831 ,  2.2667532 ,  1.0939256 ,  2.1002114 ,\n",
       "         2.3680973 ,  2.6048958 ,  3.9341676 ,  3.017224  ,  3.4263082 ,\n",
       "         2.5103183 ,  2.2698135 ,  2.1868336 ,  2.9346342 ,  4.25491   ,\n",
       "         4.6750703 ,  5.6995726 ,  4.2514143 ,  2.9635777 ,  0.89275986,\n",
       "         1.067972  ,  3.0028286 ,  2.7373059 ,  3.3271205 ,  4.5655375 ,\n",
       "         6.1155024 ,  7.7804794 ,  8.214537  ,  8.219792  ,  8.087011  ,\n",
       "         1.9054873 ,  1.7937376 ,  1.4401395 ,  2.4363654 ,  1.412498  ,\n",
       "         2.1059875 ,  2.3181412 ,  1.937594  ,  2.9729307 ,  3.7679236 ,\n",
       "         4.2639284 ,  4.904525  ,  5.8344016 ,  7.029713  ,  5.911814  ,\n",
       "         3.0219865 ,  3.3302784 ,  2.2598474 ,  1.512234  ,  2.6835573 ,\n",
       "         4.7047143 ,  4.5292625 ,  4.7154093 ,  5.7793574 ,  6.0686417 ,\n",
       "         9.244805  ,  7.3706074 ,  4.444864  ,  2.688137  ,  2.499607  ,\n",
       "         4.726026  ,  5.9623065 ,  6.979925  ,  6.2417097 ,  6.7537894 ,\n",
       "         6.2702084 ,  4.630092  ,  6.881662  ,  5.7386475 ,  4.979481  ,\n",
       "         1.6248504 ,  0.9922923 ,  3.4861822 ,  6.28125   ,  3.8947244 ,\n",
       "         4.070503  ,  4.623339  ,  3.4898574 ,  2.5824893 ,  4.1491313 ,\n",
       "         6.860965  ,  9.699978  , 11.637939  , 12.86982   , 13.33476   ,\n",
       "        14.315055  ,  9.202926  ,  2.1561124 ,  1.9879898 ,  4.697908  ,\n",
       "         4.3938494 ,  4.85648   ,  5.969823  ,  8.817068  , 10.374083  ,\n",
       "         9.900131  ,  7.515554  ,  7.3264146 ,  7.8192115 ,  9.447585  ,\n",
       "         8.026908  , 10.293202  , 13.192741  , 11.732505  , 10.50251   ,\n",
       "        12.119431  ,  7.647394  ,  7.5750113 ,  6.141563  , 11.844321  ,\n",
       "        15.539037  , 14.824316  ,  5.5119653 ,  2.999388  ,  2.7930546 ,\n",
       "         6.837614  ,  8.796055  ,  9.649333  , 11.323957  , 12.974193  ,\n",
       "        14.40969   , 12.76216   ,  3.9204485 ,  4.9728675 ,  4.2713304 ,\n",
       "         3.9460354 ,  4.6969013 ,  6.472431  , 10.924625  ,  7.889236  ,\n",
       "         5.9471464 ,  6.2716737 ,  7.7742944 , 11.322471  , 12.501691  ,\n",
       "        10.976572  , 13.800608  , 13.409136  , 11.376045  , 15.716703  ,\n",
       "         8.125535  ,  2.6139667 ,  2.064433  ,  3.29467   ,  4.388667  ,\n",
       "         4.4980845 ,  5.247195  ,  6.724694  ,  5.412995  ,  4.545038  ,\n",
       "         6.172666  , 11.757932  , 16.302446  , 22.396072  , 22.366692  ,\n",
       "        10.727979  ,  5.6336274 ,  4.5127263 ,  4.401057  ,  4.362609  ,\n",
       "         8.643236  ,  4.265632  ,  4.5987825 ,  4.4137454 ,  6.153342  ,\n",
       "         7.213623  , 12.015186  , 10.527607  , 11.503891  ,  7.3352284 ,\n",
       "         4.178512  ,  2.8782942 ,  3.0208025 ,  4.8782167 ,  5.8505983 ,\n",
       "         4.025088  ,  3.5184197 ,  6.609367  ,  7.9370975 ,  8.799764  ,\n",
       "        10.577304  , 10.672184  ,  5.098602  ,  3.8445752 ,  4.306932  ,\n",
       "         6.2278    ,  6.3314157 ,  3.832053  ,  4.9128036 ,  3.0872192 ,\n",
       "         1.1871338 ,  1.8565661 ,  1.9974241 ,  2.1442294 ,  1.4417378 ,\n",
       "         1.6178066 ,  1.9607518 ,  2.5921264 ,  3.923781  ,  5.5514    ,\n",
       "         4.737867  ,  2.518119  ,  2.8317268 ,  3.7570179 ,  7.4438276 ,\n",
       "        10.55201   , 13.603966  , 16.098236  , 15.640044  , 11.769668  ,\n",
       "         9.761114  ,  8.338249  ,  5.888999  ,  3.781312  ,  5.3873215 ,\n",
       "         7.086363  , 10.460704  ,  6.277945  ,  3.2739081 ,  3.4997263 ,\n",
       "         3.829437  ,  2.4393106 ,  2.6246576 ,  2.5301206 ,  2.422743  ,\n",
       "         3.725532  ,  2.372436  ,  4.669225  ,  6.3181715 , 12.947598  ,\n",
       "        17.245796  , 17.967348  ], dtype=float32),\n",
       " 'mase': 2.2032921}"
      ]
     },
     "execution_count": 64,
     "metadata": {},
     "output_type": "execute_result"
    }
   ],
   "source": [
    "# Evaluate model_3 results\n",
    "model_3_results = evaluate_preds(y_true=tf.squeeze(test_labels),\n",
    "                                 y_pred=model_3_preds)\n",
    "model_3_results"
   ]
  },
  {
   "cell_type": "markdown",
   "id": "eb20aaac",
   "metadata": {},
   "source": [
    "## Make our evaluation function work for larger horizons"
   ]
  },
  {
   "cell_type": "code",
   "execution_count": 65,
   "id": "c1d76057",
   "metadata": {},
   "outputs": [],
   "source": [
    "# Create a function to take in model predictions and truth values and return evaluation metrics\n",
    "def evaluate_preds(y_true, y_pred):\n",
    "    # Make sure float32 datatype (for metric calculation)\n",
    "    y_true = tf.cast(y_true, dtype=tf.float32)\n",
    "    y_pred = tf.cast(y_pred, dtype=tf.float32)\n",
    "\n",
    "    # Calculate various evaluation metrics\n",
    "    mae = tf.keras.metrics.mean_absolute_error(y_true, y_pred)\n",
    "    mse = tf.keras.metrics.mean_squared_error(y_true, y_pred)\n",
    "    rmse = tf.sqrt(mse)\n",
    "    mape = tf.keras.metrics.mean_absolute_percentage_error(y_true, y_pred)\n",
    "    mase = mean_absolute_scaled_error(y_true, y_pred)\n",
    "\n",
    "    # Account for different sized metrics (for longer horizons, we want to reduce metrics to a single value)\n",
    "    if mae.ndim > 0:\n",
    "        mae = tf.reduce_mean(mae)\n",
    "        mse = tf.reduce_mean(mse)\n",
    "        rmse = tf.reduce_mean(rmse)\n",
    "        mape = tf.reduce_mean(mape)\n",
    "        mase = tf.reduce_mean(mase)\n",
    "\n",
    "    return {\n",
    "        \"mae\": mae.numpy(),\n",
    "        \"mse\": mse.numpy(),\n",
    "        \"rmse\": rmse.numpy(),\n",
    "        \"mape\": mape.numpy(),\n",
    "        \"mase\": mase.numpy()\n",
    "    }"
   ]
  },
  {
   "cell_type": "code",
   "execution_count": 66,
   "id": "379adf2b",
   "metadata": {},
   "outputs": [
    {
     "data": {
      "text/plain": [
       "{'mae': 1288.631,\n",
       " 'mse': 5836811.5,\n",
       " 'rmse': 1490.977,\n",
       " 'mape': 5.597107,\n",
       " 'mase': 2.2032921}"
      ]
     },
     "execution_count": 66,
     "metadata": {},
     "output_type": "execute_result"
    }
   ],
   "source": [
    "# Get model_3 results aggregated to single values\n",
    "model_3_results = evaluate_preds(y_true=tf.squeeze(test_labels),\n",
    "                                 y_pred=model_3_preds)\n",
    "model_3_results"
   ]
  },
  {
   "cell_type": "markdown",
   "id": "919753cb",
   "metadata": {},
   "source": [
    "We have made and evaluated predictions with `model_3`, let's visualize visualize visualize!"
   ]
  },
  {
   "cell_type": "code",
   "execution_count": 67,
   "id": "58191ef7",
   "metadata": {},
   "outputs": [
    {
     "data": {
      "image/png": "[encoded data removed]",
      "text/plain": [
       "<Figure size 1000x700 with 1 Axes>"
      ]
     },
     "metadata": {},
     "output_type": "display_data"
    }
   ],
   "source": [
    "offset = 300\n",
    "plt.figure(figsize=(10, 7))\n",
    "plot_time_series(timesteps=X_test[-len(test_windows):], values=test_labels[:, 0], start=offset, label='Test Data')\n",
    "plot_time_series(timesteps=X_test[-len(test_windows):], values=tf.reduce_mean(model_3_preds, axis=1), format='-', start=offset, label='model_3_pred')"
   ]
  },
  {
   "cell_type": "markdown",
   "id": "f7318035",
   "metadata": {},
   "source": [
    "## Which of our models is performing the best so far?\n",
    "\n",
    "So we have trained a few models, now let's compare them and see how they have gone..."
   ]
  },
  {
   "cell_type": "code",
   "execution_count": 68,
   "id": "ef3b7b5b",
   "metadata": {},
   "outputs": [
    {
     "data": {
      "text/plain": [
       "<Axes: >"
      ]
     },
     "execution_count": 68,
     "metadata": {},
     "output_type": "execute_result"
    },
    {
     "data": {
      "image/png": "[encoded data removed]",
      "text/plain": [
       "<Figure size 1000x700 with 1 Axes>"
      ]
     },
     "metadata": {},
     "output_type": "display_data"
    }
   ],
   "source": [
    "pd.DataFrame({'naive': naive_results['mae'],\n",
    "              'horizon_1_window_7': model_1_results['mae'],\n",
    "              'horizon_1_window_30': model_2_results['mae'],\n",
    "              'horizon_7_window_30': model_3_results['mae']}, index=['mae']).plot(figsize=(10, 7), kind='bar')"
   ]
  },
  {
   "cell_type": "markdown",
   "id": "485fb523",
   "metadata": {},
   "source": [
    "## Model 4: Conv1D"
   ]
  },
  {
   "cell_type": "code",
   "execution_count": 69,
   "id": "5a19444d",
   "metadata": {},
   "outputs": [],
   "source": [
    "HORIZON = 1 # predict next day of Bitcoin prices\n",
    "WINDOW_SIZE = 7 # use previous week worth data"
   ]
  },
  {
   "cell_type": "code",
   "execution_count": 70,
   "id": "38fa46f3",
   "metadata": {},
   "outputs": [
    {
     "data": {
      "text/plain": [
       "(2780, 2780)"
      ]
     },
     "execution_count": 70,
     "metadata": {},
     "output_type": "execute_result"
    }
   ],
   "source": [
    "# Create windowed data\n",
    "full_windows, full_labels = make_windows(prices, window_size=WINDOW_SIZE, horizon=HORIZON)\n",
    "len(full_windows), len(full_labels)"
   ]
  },
  {
   "cell_type": "code",
   "execution_count": 71,
   "id": "5b7987b0",
   "metadata": {},
   "outputs": [
    {
     "data": {
      "text/plain": [
       "(2229, 2229, 551, 551)"
      ]
     },
     "execution_count": 71,
     "metadata": {},
     "output_type": "execute_result"
    }
   ],
   "source": [
    "# Create train/test sets\n",
    "train_windows, test_windows, train_labels, test_labels = make_train_test_splits(full_windows, full_labels)\n",
    "len(train_windows), len(train_labels), len(test_windows), len(test_labels)"
   ]
  },
  {
   "cell_type": "markdown",
   "id": "9bae52ae",
   "metadata": {},
   "source": [
    "To use the Conv1D layer, we need an input shape of: `(batch_size, timesteps, input_dim)`... However, our data isn't in that shape yet."
   ]
  },
  {
   "cell_type": "code",
   "execution_count": 72,
   "id": "bd72e3eb",
   "metadata": {},
   "outputs": [
    {
     "data": {
      "text/plain": [
       "(7,)"
      ]
     },
     "execution_count": 72,
     "metadata": {},
     "output_type": "execute_result"
    }
   ],
   "source": [
    "# Check data input shape\n",
    "train_windows[0].shape # returns (WINDOW_SIZE, )"
   ]
  },
  {
   "cell_type": "code",
   "execution_count": 73,
   "id": "70cb4513",
   "metadata": {},
   "outputs": [
    {
     "data": {
      "text/plain": [
       "<tf.Tensor: shape=(7,), dtype=float64, numpy=\n",
       "array([123.65499, 125.455  , 108.58483, 118.67466, 121.33866, 120.65533,\n",
       "       121.795  ])>"
      ]
     },
     "execution_count": 73,
     "metadata": {},
     "output_type": "execute_result"
    }
   ],
   "source": [
    "# Before we pass our data to the Conv1D layer, we have to reshape it in order to make sure it works \n",
    "x = tf.constant(train_windows[0])\n",
    "x"
   ]
  },
  {
   "cell_type": "code",
   "execution_count": 74,
   "id": "ba3f47a1",
   "metadata": {},
   "outputs": [],
   "source": [
    "expand_dims_layer = layers.Lambda(lambda x: tf.expand_dims(x, axis=1)) # add an extra dimension to our layer"
   ]
  },
  {
   "cell_type": "code",
   "execution_count": 75,
   "id": "18649f7e",
   "metadata": {},
   "outputs": [
    {
     "name": "stdout",
     "output_type": "stream",
     "text": [
      "Original shape: (7,)\n",
      "Expanded shape: (7, 1)\n",
      "Original values with expanded shape:\n",
      " [[123.65499]\n",
      " [125.455  ]\n",
      " [108.58483]\n",
      " [118.67466]\n",
      " [121.33866]\n",
      " [120.65533]\n",
      " [121.795  ]]\n"
     ]
    }
   ],
   "source": [
    "# Test out our lambda layer\n",
    "print(f'Original shape: {x.shape}') # (WINDOW_SIZE)\n",
    "print(f'Expanded shape: {expand_dims_layer(x).shape}')\n",
    "print(f'Original values with expanded shape:\\n {expand_dims_layer(x)}')"
   ]
  },
  {
   "cell_type": "code",
   "execution_count": 76,
   "id": "5a803a7f",
   "metadata": {},
   "outputs": [
    {
     "name": "stderr",
     "output_type": "stream",
     "text": [
      "WARNING:absl:Found untraced functions such as _jit_compiled_convolution_op while saving (showing 1 of 1). These functions will not be directly callable after loading.\n"
     ]
    },
    {
     "name": "stdout",
     "output_type": "stream",
     "text": [
      "INFO:tensorflow:Assets written to: model_experiments\\model_4_conv1D\\assets\n"
     ]
    },
    {
     "name": "stderr",
     "output_type": "stream",
     "text": [
      "INFO:tensorflow:Assets written to: model_experiments\\model_4_conv1D\\assets\n",
      "WARNING:absl:Found untraced functions such as _jit_compiled_convolution_op while saving (showing 1 of 1). These functions will not be directly callable after loading.\n"
     ]
    },
    {
     "name": "stdout",
     "output_type": "stream",
     "text": [
      "INFO:tensorflow:Assets written to: model_experiments\\model_4_conv1D\\assets\n"
     ]
    },
    {
     "name": "stderr",
     "output_type": "stream",
     "text": [
      "INFO:tensorflow:Assets written to: model_experiments\\model_4_conv1D\\assets\n",
      "WARNING:absl:Found untraced functions such as _jit_compiled_convolution_op while saving (showing 1 of 1). These functions will not be directly callable after loading.\n"
     ]
    },
    {
     "name": "stdout",
     "output_type": "stream",
     "text": [
      "INFO:tensorflow:Assets written to: model_experiments\\model_4_conv1D\\assets\n"
     ]
    },
    {
     "name": "stderr",
     "output_type": "stream",
     "text": [
      "INFO:tensorflow:Assets written to: model_experiments\\model_4_conv1D\\assets\n",
      "WARNING:absl:Found untraced functions such as _jit_compiled_convolution_op while saving (showing 1 of 1). These functions will not be directly callable after loading.\n"
     ]
    },
    {
     "name": "stdout",
     "output_type": "stream",
     "text": [
      "INFO:tensorflow:Assets written to: model_experiments\\model_4_conv1D\\assets\n"
     ]
    },
    {
     "name": "stderr",
     "output_type": "stream",
     "text": [
      "INFO:tensorflow:Assets written to: model_experiments\\model_4_conv1D\\assets\n",
      "WARNING:absl:Found untraced functions such as _jit_compiled_convolution_op while saving (showing 1 of 1). These functions will not be directly callable after loading.\n"
     ]
    },
    {
     "name": "stdout",
     "output_type": "stream",
     "text": [
      "INFO:tensorflow:Assets written to: model_experiments\\model_4_conv1D\\assets\n"
     ]
    },
    {
     "name": "stderr",
     "output_type": "stream",
     "text": [
      "INFO:tensorflow:Assets written to: model_experiments\\model_4_conv1D\\assets\n",
      "WARNING:absl:Found untraced functions such as _jit_compiled_convolution_op while saving (showing 1 of 1). These functions will not be directly callable after loading.\n"
     ]
    },
    {
     "name": "stdout",
     "output_type": "stream",
     "text": [
      "INFO:tensorflow:Assets written to: model_experiments\\model_4_conv1D\\assets\n"
     ]
    },
    {
     "name": "stderr",
     "output_type": "stream",
     "text": [
      "INFO:tensorflow:Assets written to: model_experiments\\model_4_conv1D\\assets\n",
      "WARNING:absl:Found untraced functions such as _jit_compiled_convolution_op while saving (showing 1 of 1). These functions will not be directly callable after loading.\n"
     ]
    },
    {
     "name": "stdout",
     "output_type": "stream",
     "text": [
      "INFO:tensorflow:Assets written to: model_experiments\\model_4_conv1D\\assets\n"
     ]
    },
    {
     "name": "stderr",
     "output_type": "stream",
     "text": [
      "INFO:tensorflow:Assets written to: model_experiments\\model_4_conv1D\\assets\n",
      "WARNING:absl:Found untraced functions such as _jit_compiled_convolution_op while saving (showing 1 of 1). These functions will not be directly callable after loading.\n"
     ]
    },
    {
     "name": "stdout",
     "output_type": "stream",
     "text": [
      "INFO:tensorflow:Assets written to: model_experiments\\model_4_conv1D\\assets\n"
     ]
    },
    {
     "name": "stderr",
     "output_type": "stream",
     "text": [
      "INFO:tensorflow:Assets written to: model_experiments\\model_4_conv1D\\assets\n",
      "WARNING:absl:Found untraced functions such as _jit_compiled_convolution_op while saving (showing 1 of 1). These functions will not be directly callable after loading.\n"
     ]
    },
    {
     "name": "stdout",
     "output_type": "stream",
     "text": [
      "INFO:tensorflow:Assets written to: model_experiments\\model_4_conv1D\\assets\n"
     ]
    },
    {
     "name": "stderr",
     "output_type": "stream",
     "text": [
      "INFO:tensorflow:Assets written to: model_experiments\\model_4_conv1D\\assets\n",
      "WARNING:absl:Found untraced functions such as _jit_compiled_convolution_op while saving (showing 1 of 1). These functions will not be directly callable after loading.\n"
     ]
    },
    {
     "name": "stdout",
     "output_type": "stream",
     "text": [
      "INFO:tensorflow:Assets written to: model_experiments\\model_4_conv1D\\assets\n"
     ]
    },
    {
     "name": "stderr",
     "output_type": "stream",
     "text": [
      "INFO:tensorflow:Assets written to: model_experiments\\model_4_conv1D\\assets\n",
      "WARNING:absl:Found untraced functions such as _jit_compiled_convolution_op while saving (showing 1 of 1). These functions will not be directly callable after loading.\n"
     ]
    },
    {
     "name": "stdout",
     "output_type": "stream",
     "text": [
      "INFO:tensorflow:Assets written to: model_experiments\\model_4_conv1D\\assets\n"
     ]
    },
    {
     "name": "stderr",
     "output_type": "stream",
     "text": [
      "INFO:tensorflow:Assets written to: model_experiments\\model_4_conv1D\\assets\n",
      "WARNING:absl:Found untraced functions such as _jit_compiled_convolution_op while saving (showing 1 of 1). These functions will not be directly callable after loading.\n"
     ]
    },
    {
     "name": "stdout",
     "output_type": "stream",
     "text": [
      "INFO:tensorflow:Assets written to: model_experiments\\model_4_conv1D\\assets\n"
     ]
    },
    {
     "name": "stderr",
     "output_type": "stream",
     "text": [
      "INFO:tensorflow:Assets written to: model_experiments\\model_4_conv1D\\assets\n",
      "WARNING:absl:Found untraced functions such as _jit_compiled_convolution_op while saving (showing 1 of 1). These functions will not be directly callable after loading.\n"
     ]
    },
    {
     "name": "stdout",
     "output_type": "stream",
     "text": [
      "INFO:tensorflow:Assets written to: model_experiments\\model_4_conv1D\\assets\n"
     ]
    },
    {
     "name": "stderr",
     "output_type": "stream",
     "text": [
      "INFO:tensorflow:Assets written to: model_experiments\\model_4_conv1D\\assets\n",
      "WARNING:absl:Found untraced functions such as _jit_compiled_convolution_op while saving (showing 1 of 1). These functions will not be directly callable after loading.\n"
     ]
    },
    {
     "name": "stdout",
     "output_type": "stream",
     "text": [
      "INFO:tensorflow:Assets written to: model_experiments\\model_4_conv1D\\assets\n"
     ]
    },
    {
     "name": "stderr",
     "output_type": "stream",
     "text": [
      "INFO:tensorflow:Assets written to: model_experiments\\model_4_conv1D\\assets\n",
      "WARNING:absl:Found untraced functions such as _jit_compiled_convolution_op while saving (showing 1 of 1). These functions will not be directly callable after loading.\n"
     ]
    },
    {
     "name": "stdout",
     "output_type": "stream",
     "text": [
      "INFO:tensorflow:Assets written to: model_experiments\\model_4_conv1D\\assets\n"
     ]
    },
    {
     "name": "stderr",
     "output_type": "stream",
     "text": [
      "INFO:tensorflow:Assets written to: model_experiments\\model_4_conv1D\\assets\n",
      "WARNING:absl:Found untraced functions such as _jit_compiled_convolution_op while saving (showing 1 of 1). These functions will not be directly callable after loading.\n"
     ]
    },
    {
     "name": "stdout",
     "output_type": "stream",
     "text": [
      "INFO:tensorflow:Assets written to: model_experiments\\model_4_conv1D\\assets\n"
     ]
    },
    {
     "name": "stderr",
     "output_type": "stream",
     "text": [
      "INFO:tensorflow:Assets written to: model_experiments\\model_4_conv1D\\assets\n",
      "WARNING:absl:Found untraced functions such as _jit_compiled_convolution_op while saving (showing 1 of 1). These functions will not be directly callable after loading.\n"
     ]
    },
    {
     "name": "stdout",
     "output_type": "stream",
     "text": [
      "INFO:tensorflow:Assets written to: model_experiments\\model_4_conv1D\\assets\n"
     ]
    },
    {
     "name": "stderr",
     "output_type": "stream",
     "text": [
      "INFO:tensorflow:Assets written to: model_experiments\\model_4_conv1D\\assets\n",
      "WARNING:absl:Found untraced functions such as _jit_compiled_convolution_op while saving (showing 1 of 1). These functions will not be directly callable after loading.\n"
     ]
    },
    {
     "name": "stdout",
     "output_type": "stream",
     "text": [
      "INFO:tensorflow:Assets written to: model_experiments\\model_4_conv1D\\assets\n"
     ]
    },
    {
     "name": "stderr",
     "output_type": "stream",
     "text": [
      "INFO:tensorflow:Assets written to: model_experiments\\model_4_conv1D\\assets\n",
      "WARNING:absl:Found untraced functions such as _jit_compiled_convolution_op while saving (showing 1 of 1). These functions will not be directly callable after loading.\n"
     ]
    },
    {
     "name": "stdout",
     "output_type": "stream",
     "text": [
      "INFO:tensorflow:Assets written to: model_experiments\\model_4_conv1D\\assets\n"
     ]
    },
    {
     "name": "stderr",
     "output_type": "stream",
     "text": [
      "INFO:tensorflow:Assets written to: model_experiments\\model_4_conv1D\\assets\n",
      "WARNING:absl:Found untraced functions such as _jit_compiled_convolution_op while saving (showing 1 of 1). These functions will not be directly callable after loading.\n"
     ]
    },
    {
     "name": "stdout",
     "output_type": "stream",
     "text": [
      "INFO:tensorflow:Assets written to: model_experiments\\model_4_conv1D\\assets\n"
     ]
    },
    {
     "name": "stderr",
     "output_type": "stream",
     "text": [
      "INFO:tensorflow:Assets written to: model_experiments\\model_4_conv1D\\assets\n",
      "WARNING:absl:Found untraced functions such as _jit_compiled_convolution_op while saving (showing 1 of 1). These functions will not be directly callable after loading.\n"
     ]
    },
    {
     "name": "stdout",
     "output_type": "stream",
     "text": [
      "INFO:tensorflow:Assets written to: model_experiments\\model_4_conv1D\\assets\n"
     ]
    },
    {
     "name": "stderr",
     "output_type": "stream",
     "text": [
      "INFO:tensorflow:Assets written to: model_experiments\\model_4_conv1D\\assets\n",
      "WARNING:absl:Found untraced functions such as _jit_compiled_convolution_op while saving (showing 1 of 1). These functions will not be directly callable after loading.\n"
     ]
    },
    {
     "name": "stdout",
     "output_type": "stream",
     "text": [
      "INFO:tensorflow:Assets written to: model_experiments\\model_4_conv1D\\assets\n"
     ]
    },
    {
     "name": "stderr",
     "output_type": "stream",
     "text": [
      "INFO:tensorflow:Assets written to: model_experiments\\model_4_conv1D\\assets\n",
      "WARNING:absl:Found untraced functions such as _jit_compiled_convolution_op while saving (showing 1 of 1). These functions will not be directly callable after loading.\n"
     ]
    },
    {
     "name": "stdout",
     "output_type": "stream",
     "text": [
      "INFO:tensorflow:Assets written to: model_experiments\\model_4_conv1D\\assets\n"
     ]
    },
    {
     "name": "stderr",
     "output_type": "stream",
     "text": [
      "INFO:tensorflow:Assets written to: model_experiments\\model_4_conv1D\\assets\n",
      "WARNING:absl:Found untraced functions such as _jit_compiled_convolution_op while saving (showing 1 of 1). These functions will not be directly callable after loading.\n"
     ]
    },
    {
     "name": "stdout",
     "output_type": "stream",
     "text": [
      "INFO:tensorflow:Assets written to: model_experiments\\model_4_conv1D\\assets\n"
     ]
    },
    {
     "name": "stderr",
     "output_type": "stream",
     "text": [
      "INFO:tensorflow:Assets written to: model_experiments\\model_4_conv1D\\assets\n",
      "WARNING:absl:Found untraced functions such as _jit_compiled_convolution_op while saving (showing 1 of 1). These functions will not be directly callable after loading.\n"
     ]
    },
    {
     "name": "stdout",
     "output_type": "stream",
     "text": [
      "INFO:tensorflow:Assets written to: model_experiments\\model_4_conv1D\\assets\n"
     ]
    },
    {
     "name": "stderr",
     "output_type": "stream",
     "text": [
      "INFO:tensorflow:Assets written to: model_experiments\\model_4_conv1D\\assets\n",
      "WARNING:absl:Found untraced functions such as _jit_compiled_convolution_op while saving (showing 1 of 1). These functions will not be directly callable after loading.\n"
     ]
    },
    {
     "name": "stdout",
     "output_type": "stream",
     "text": [
      "INFO:tensorflow:Assets written to: model_experiments\\model_4_conv1D\\assets\n"
     ]
    },
    {
     "name": "stderr",
     "output_type": "stream",
     "text": [
      "INFO:tensorflow:Assets written to: model_experiments\\model_4_conv1D\\assets\n",
      "WARNING:absl:Found untraced functions such as _jit_compiled_convolution_op while saving (showing 1 of 1). These functions will not be directly callable after loading.\n"
     ]
    },
    {
     "name": "stdout",
     "output_type": "stream",
     "text": [
      "INFO:tensorflow:Assets written to: model_experiments\\model_4_conv1D\\assets\n"
     ]
    },
    {
     "name": "stderr",
     "output_type": "stream",
     "text": [
      "INFO:tensorflow:Assets written to: model_experiments\\model_4_conv1D\\assets\n",
      "WARNING:absl:Found untraced functions such as _jit_compiled_convolution_op while saving (showing 1 of 1). These functions will not be directly callable after loading.\n"
     ]
    },
    {
     "name": "stdout",
     "output_type": "stream",
     "text": [
      "INFO:tensorflow:Assets written to: model_experiments\\model_4_conv1D\\assets\n"
     ]
    },
    {
     "name": "stderr",
     "output_type": "stream",
     "text": [
      "INFO:tensorflow:Assets written to: model_experiments\\model_4_conv1D\\assets\n",
      "WARNING:absl:Found untraced functions such as _jit_compiled_convolution_op while saving (showing 1 of 1). These functions will not be directly callable after loading.\n"
     ]
    },
    {
     "name": "stdout",
     "output_type": "stream",
     "text": [
      "INFO:tensorflow:Assets written to: model_experiments\\model_4_conv1D\\assets\n"
     ]
    },
    {
     "name": "stderr",
     "output_type": "stream",
     "text": [
      "INFO:tensorflow:Assets written to: model_experiments\\model_4_conv1D\\assets\n",
      "WARNING:absl:Found untraced functions such as _jit_compiled_convolution_op while saving (showing 1 of 1). These functions will not be directly callable after loading.\n"
     ]
    },
    {
     "name": "stdout",
     "output_type": "stream",
     "text": [
      "INFO:tensorflow:Assets written to: model_experiments\\model_4_conv1D\\assets\n"
     ]
    },
    {
     "name": "stderr",
     "output_type": "stream",
     "text": [
      "INFO:tensorflow:Assets written to: model_experiments\\model_4_conv1D\\assets\n",
      "WARNING:absl:Found untraced functions such as _jit_compiled_convolution_op while saving (showing 1 of 1). These functions will not be directly callable after loading.\n"
     ]
    },
    {
     "name": "stdout",
     "output_type": "stream",
     "text": [
      "INFO:tensorflow:Assets written to: model_experiments\\model_4_conv1D\\assets\n"
     ]
    },
    {
     "name": "stderr",
     "output_type": "stream",
     "text": [
      "INFO:tensorflow:Assets written to: model_experiments\\model_4_conv1D\\assets\n",
      "WARNING:absl:Found untraced functions such as _jit_compiled_convolution_op while saving (showing 1 of 1). These functions will not be directly callable after loading.\n"
     ]
    },
    {
     "name": "stdout",
     "output_type": "stream",
     "text": [
      "INFO:tensorflow:Assets written to: model_experiments\\model_4_conv1D\\assets\n"
     ]
    },
    {
     "name": "stderr",
     "output_type": "stream",
     "text": [
      "INFO:tensorflow:Assets written to: model_experiments\\model_4_conv1D\\assets\n",
      "WARNING:absl:Found untraced functions such as _jit_compiled_convolution_op while saving (showing 1 of 1). These functions will not be directly callable after loading.\n"
     ]
    },
    {
     "name": "stdout",
     "output_type": "stream",
     "text": [
      "INFO:tensorflow:Assets written to: model_experiments\\model_4_conv1D\\assets\n"
     ]
    },
    {
     "name": "stderr",
     "output_type": "stream",
     "text": [
      "INFO:tensorflow:Assets written to: model_experiments\\model_4_conv1D\\assets\n",
      "WARNING:absl:Found untraced functions such as _jit_compiled_convolution_op while saving (showing 1 of 1). These functions will not be directly callable after loading.\n"
     ]
    },
    {
     "name": "stdout",
     "output_type": "stream",
     "text": [
      "INFO:tensorflow:Assets written to: model_experiments\\model_4_conv1D\\assets\n"
     ]
    },
    {
     "name": "stderr",
     "output_type": "stream",
     "text": [
      "INFO:tensorflow:Assets written to: model_experiments\\model_4_conv1D\\assets\n",
      "WARNING:absl:Found untraced functions such as _jit_compiled_convolution_op while saving (showing 1 of 1). These functions will not be directly callable after loading.\n"
     ]
    },
    {
     "name": "stdout",
     "output_type": "stream",
     "text": [
      "INFO:tensorflow:Assets written to: model_experiments\\model_4_conv1D\\assets\n"
     ]
    },
    {
     "name": "stderr",
     "output_type": "stream",
     "text": [
      "INFO:tensorflow:Assets written to: model_experiments\\model_4_conv1D\\assets\n",
      "WARNING:absl:Found untraced functions such as _jit_compiled_convolution_op while saving (showing 1 of 1). These functions will not be directly callable after loading.\n"
     ]
    },
    {
     "name": "stdout",
     "output_type": "stream",
     "text": [
      "INFO:tensorflow:Assets written to: model_experiments\\model_4_conv1D\\assets\n"
     ]
    },
    {
     "name": "stderr",
     "output_type": "stream",
     "text": [
      "INFO:tensorflow:Assets written to: model_experiments\\model_4_conv1D\\assets\n",
      "WARNING:absl:Found untraced functions such as _jit_compiled_convolution_op while saving (showing 1 of 1). These functions will not be directly callable after loading.\n"
     ]
    },
    {
     "name": "stdout",
     "output_type": "stream",
     "text": [
      "INFO:tensorflow:Assets written to: model_experiments\\model_4_conv1D\\assets\n"
     ]
    },
    {
     "name": "stderr",
     "output_type": "stream",
     "text": [
      "INFO:tensorflow:Assets written to: model_experiments\\model_4_conv1D\\assets\n"
     ]
    },
    {
     "data": {
      "text/plain": [
       "<keras.callbacks.History at 0x2593148fd60>"
      ]
     },
     "execution_count": 76,
     "metadata": {},
     "output_type": "execute_result"
    }
   ],
   "source": [
    "tf.random.set_seed(42)\n",
    "\n",
    "# Create Conv1D model\n",
    "model_4 = tf.keras.Sequential([\n",
    "    layers.Lambda(lambda x: tf.expand_dims(x, axis=1)),\n",
    "    layers.Conv1D(filters=128, kernel_size=5, strides=1, padding='causal', activation='relu'),\n",
    "    layers.Dense(HORIZON)\n",
    "], name='model_4_conv1D')\n",
    "\n",
    "# Compile model\n",
    "model_4.compile(loss='mae',\n",
    "                optimizer=tf.keras.optimizers.Adam())\n",
    "\n",
    "# Fit model\n",
    "model_4.fit(train_windows,\n",
    "            train_labels,\n",
    "            batch_size=128,\n",
    "            epochs=100,\n",
    "            verbose=0,\n",
    "            validation_data=(test_windows, test_labels),\n",
    "            callbacks=[create_model_checkpoint(model_name=model_4.name)])"
   ]
  },
  {
   "cell_type": "code",
   "execution_count": 77,
   "id": "04870920",
   "metadata": {},
   "outputs": [
    {
     "name": "stdout",
     "output_type": "stream",
     "text": [
      "Model: \"model_4_conv1D\"\n",
      "_________________________________________________________________\n",
      " Layer (type)                Output Shape              Param #   \n",
      "=================================================================\n",
      " lambda_1 (Lambda)           (None, 1, 7)              0         \n",
      "                                                                 \n",
      " conv1d (Conv1D)             (None, 1, 128)            4608      \n",
      "                                                                 \n",
      " dense_6 (Dense)             (None, 1, 1)              129       \n",
      "                                                                 \n",
      "=================================================================\n",
      "Total params: 4,737\n",
      "Trainable params: 4,737\n",
      "Non-trainable params: 0\n",
      "_________________________________________________________________\n"
     ]
    }
   ],
   "source": [
    "model_4.summary()"
   ]
  },
  {
   "cell_type": "code",
   "execution_count": 78,
   "id": "f7fcad34",
   "metadata": {},
   "outputs": [
    {
     "name": "stdout",
     "output_type": "stream",
     "text": [
      "18/18 [==============================] - 0s 3ms/step - loss: 769.8366\n"
     ]
    },
    {
     "data": {
      "text/plain": [
       "769.8366088867188"
      ]
     },
     "execution_count": 78,
     "metadata": {},
     "output_type": "execute_result"
    }
   ],
   "source": [
    "# Evaluate model\n",
    "model_4.evaluate(test_windows, test_labels)"
   ]
  },
  {
   "cell_type": "code",
   "execution_count": 79,
   "id": "9315ab0d",
   "metadata": {},
   "outputs": [
    {
     "name": "stdout",
     "output_type": "stream",
     "text": [
      "18/18 [==============================] - 0s 4ms/step - loss: 575.0770\n"
     ]
    },
    {
     "data": {
      "text/plain": [
       "575.0770263671875"
      ]
     },
     "execution_count": 79,
     "metadata": {},
     "output_type": "execute_result"
    }
   ],
   "source": [
    "# Load back in best performing Conv1D and re-evaluate\n",
    "model_4 = tf.keras.models.load_model('model_experiments/model_4_conv1D')\n",
    "model_4.evaluate(test_windows, test_labels)"
   ]
  },
  {
   "cell_type": "code",
   "execution_count": 80,
   "id": "33cdffb2",
   "metadata": {},
   "outputs": [
    {
     "name": "stdout",
     "output_type": "stream",
     "text": [
      "18/18 [==============================] - 0s 3ms/step\n"
     ]
    },
    {
     "data": {
      "text/plain": [
       "<tf.Tensor: shape=(5,), dtype=float32, numpy=array([8755.44 , 8723.471, 8557.506, 8491.258, 8540.598], dtype=float32)>"
      ]
     },
     "execution_count": 80,
     "metadata": {},
     "output_type": "execute_result"
    }
   ],
   "source": [
    "# Make predictions\n",
    "model_4_preds = make_preds(model_4, test_windows)\n",
    "model_4_preds[:5]"
   ]
  },
  {
   "cell_type": "code",
   "execution_count": 81,
   "id": "c6126ee6",
   "metadata": {},
   "outputs": [
    {
     "data": {
      "text/plain": [
       "{'mae': 575.077,\n",
       " 'mse': 1202839.4,\n",
       " 'rmse': 1096.7404,\n",
       " 'mape': 2.581293,\n",
       " 'mase': 1.0037106}"
      ]
     },
     "execution_count": 81,
     "metadata": {},
     "output_type": "execute_result"
    }
   ],
   "source": [
    "# Evaluate predictions\n",
    "model_4_results = evaluate_preds(y_true=tf.squeeze(test_labels),\n",
    "                                 y_pred=model_4_preds)\n",
    "model_4_results"
   ]
  },
  {
   "cell_type": "code",
   "execution_count": 82,
   "id": "d4aaf90b",
   "metadata": {},
   "outputs": [
    {
     "data": {
      "text/plain": [
       "{'mae': 566.8651,\n",
       " 'mse': 1158352.9,\n",
       " 'rmse': 1076.2681,\n",
       " 'mape': 2.526684,\n",
       " 'mase': 0.9893779}"
      ]
     },
     "execution_count": 82,
     "metadata": {},
     "output_type": "execute_result"
    }
   ],
   "source": [
    "model_1_results"
   ]
  },
  {
   "cell_type": "markdown",
   "id": "a35ec103",
   "metadata": {},
   "source": [
    "## Model 5: RNN (LSTM)\n",
    "\n",
    "Let's build an RNN model for our time series data."
   ]
  },
  {
   "cell_type": "code",
   "execution_count": 83,
   "id": "1b1b5dcc",
   "metadata": {},
   "outputs": [
    {
     "name": "stdout",
     "output_type": "stream",
     "text": [
      "WARNING:tensorflow:Layer lstm will not use cuDNN kernels since it doesn't meet the criteria. It will use a generic GPU kernel as fallback when running on GPU.\n"
     ]
    },
    {
     "name": "stderr",
     "output_type": "stream",
     "text": [
      "WARNING:tensorflow:Layer lstm will not use cuDNN kernels since it doesn't meet the criteria. It will use a generic GPU kernel as fallback when running on GPU.\n"
     ]
    },
    {
     "name": "stdout",
     "output_type": "stream",
     "text": [
      "Epoch 1/100\n",
      "10/18 [===============>..............] - ETA: 0s - loss: 2867.1724 INFO:tensorflow:Assets written to: model_experiments\\model_5_LSTM\\assets\n"
     ]
    },
    {
     "name": "stderr",
     "output_type": "stream",
     "text": [
      "INFO:tensorflow:Assets written to: model_experiments\\model_5_LSTM\\assets\n"
     ]
    },
    {
     "name": "stdout",
     "output_type": "stream",
     "text": [
      "18/18 [==============================] - 3s 118ms/step - loss: 2476.4272 - val_loss: 9337.8564\n",
      "Epoch 2/100\n",
      " 9/18 [==============>...............] - ETA: 0s - loss: 1113.7231INFO:tensorflow:Assets written to: model_experiments\\model_5_LSTM\\assets\n"
     ]
    },
    {
     "name": "stderr",
     "output_type": "stream",
     "text": [
      "INFO:tensorflow:Assets written to: model_experiments\\model_5_LSTM\\assets\n"
     ]
    },
    {
     "name": "stdout",
     "output_type": "stream",
     "text": [
      "18/18 [==============================] - 2s 95ms/step - loss: 750.2155 - val_loss: 1564.3768\n",
      "Epoch 3/100\n",
      "16/18 [=========================>....] - ETA: 0s - loss: 257.0339INFO:tensorflow:Assets written to: model_experiments\\model_5_LSTM\\assets\n"
     ]
    },
    {
     "name": "stderr",
     "output_type": "stream",
     "text": [
      "INFO:tensorflow:Assets written to: model_experiments\\model_5_LSTM\\assets\n"
     ]
    },
    {
     "name": "stdout",
     "output_type": "stream",
     "text": [
      "18/18 [==============================] - 2s 98ms/step - loss: 255.4787 - val_loss: 1445.3983\n",
      "Epoch 4/100\n",
      "10/18 [===============>..............] - ETA: 0s - loss: 196.2006INFO:tensorflow:Assets written to: model_experiments\\model_5_LSTM\\assets\n"
     ]
    },
    {
     "name": "stderr",
     "output_type": "stream",
     "text": [
      "INFO:tensorflow:Assets written to: model_experiments\\model_5_LSTM\\assets\n"
     ]
    },
    {
     "name": "stdout",
     "output_type": "stream",
     "text": [
      "18/18 [==============================] - 2s 108ms/step - loss: 196.7252 - val_loss: 1053.0072\n",
      "Epoch 5/100\n",
      "10/18 [===============>..............] - ETA: 0s - loss: 195.1452INFO:tensorflow:Assets written to: model_experiments\\model_5_LSTM\\assets\n"
     ]
    },
    {
     "name": "stderr",
     "output_type": "stream",
     "text": [
      "INFO:tensorflow:Assets written to: model_experiments\\model_5_LSTM\\assets\n"
     ]
    },
    {
     "name": "stdout",
     "output_type": "stream",
     "text": [
      "18/18 [==============================] - 2s 97ms/step - loss: 188.9978 - val_loss: 1041.4116\n",
      "Epoch 6/100\n",
      "11/18 [=================>............] - ETA: 0s - loss: 184.3232INFO:tensorflow:Assets written to: model_experiments\\model_5_LSTM\\assets\n"
     ]
    },
    {
     "name": "stderr",
     "output_type": "stream",
     "text": [
      "INFO:tensorflow:Assets written to: model_experiments\\model_5_LSTM\\assets\n"
     ]
    },
    {
     "name": "stdout",
     "output_type": "stream",
     "text": [
      "18/18 [==============================] - 2s 89ms/step - loss: 186.5742 - val_loss: 1041.0641\n",
      "Epoch 7/100\n",
      "18/18 [==============================] - 0s 10ms/step - loss: 183.7370 - val_loss: 1059.1130\n",
      "Epoch 8/100\n",
      "18/18 [==============================] - 0s 9ms/step - loss: 181.8279 - val_loss: 1056.1565\n",
      "Epoch 9/100\n",
      "18/18 [==============================] - 0s 8ms/step - loss: 180.4593 - val_loss: 1080.9586\n",
      "Epoch 10/100\n",
      "18/18 [==============================] - 0s 7ms/step - loss: 179.6720 - val_loss: 1068.9904\n",
      "Epoch 11/100\n",
      "11/18 [=================>............] - ETA: 0s - loss: 171.2132INFO:tensorflow:Assets written to: model_experiments\\model_5_LSTM\\assets\n"
     ]
    },
    {
     "name": "stderr",
     "output_type": "stream",
     "text": [
      "INFO:tensorflow:Assets written to: model_experiments\\model_5_LSTM\\assets\n"
     ]
    },
    {
     "name": "stdout",
     "output_type": "stream",
     "text": [
      "18/18 [==============================] - 2s 96ms/step - loss: 178.3844 - val_loss: 995.3033\n",
      "Epoch 12/100\n",
      " 9/18 [==============>...............] - ETA: 0s - loss: 180.0089INFO:tensorflow:Assets written to: model_experiments\\model_5_LSTM\\assets\n"
     ]
    },
    {
     "name": "stderr",
     "output_type": "stream",
     "text": [
      "INFO:tensorflow:Assets written to: model_experiments\\model_5_LSTM\\assets\n"
     ]
    },
    {
     "name": "stdout",
     "output_type": "stream",
     "text": [
      "18/18 [==============================] - 2s 90ms/step - loss: 177.3595 - val_loss: 993.3623\n",
      "Epoch 13/100\n",
      "18/18 [==============================] - ETA: 0s - loss: 174.1440INFO:tensorflow:Assets written to: model_experiments\\model_5_LSTM\\assets\n"
     ]
    },
    {
     "name": "stderr",
     "output_type": "stream",
     "text": [
      "INFO:tensorflow:Assets written to: model_experiments\\model_5_LSTM\\assets\n"
     ]
    },
    {
     "name": "stdout",
     "output_type": "stream",
     "text": [
      "18/18 [==============================] - 2s 111ms/step - loss: 174.1440 - val_loss: 975.7692\n",
      "Epoch 14/100\n",
      "18/18 [==============================] - 0s 8ms/step - loss: 172.9698 - val_loss: 976.1046\n",
      "Epoch 15/100\n",
      "18/18 [==============================] - 0s 7ms/step - loss: 170.4019 - val_loss: 980.9404\n",
      "Epoch 16/100\n",
      " 9/18 [==============>...............] - ETA: 0s - loss: 167.4079INFO:tensorflow:Assets written to: model_experiments\\model_5_LSTM\\assets\n"
     ]
    },
    {
     "name": "stderr",
     "output_type": "stream",
     "text": [
      "INFO:tensorflow:Assets written to: model_experiments\\model_5_LSTM\\assets\n"
     ]
    },
    {
     "name": "stdout",
     "output_type": "stream",
     "text": [
      "18/18 [==============================] - 2s 90ms/step - loss: 169.0825 - val_loss: 962.4605\n",
      "Epoch 17/100\n",
      "18/18 [==============================] - ETA: 0s - loss: 165.9154INFO:tensorflow:Assets written to: model_experiments\\model_5_LSTM\\assets\n"
     ]
    },
    {
     "name": "stderr",
     "output_type": "stream",
     "text": [
      "INFO:tensorflow:Assets written to: model_experiments\\model_5_LSTM\\assets\n"
     ]
    },
    {
     "name": "stdout",
     "output_type": "stream",
     "text": [
      "18/18 [==============================] - 2s 89ms/step - loss: 165.9154 - val_loss: 926.0602\n",
      "Epoch 18/100\n",
      "18/18 [==============================] - 0s 8ms/step - loss: 165.1650 - val_loss: 942.7075\n",
      "Epoch 19/100\n",
      "18/18 [==============================] - 0s 8ms/step - loss: 161.7956 - val_loss: 985.6288\n",
      "Epoch 20/100\n",
      "10/18 [===============>..............] - ETA: 0s - loss: 164.9405INFO:tensorflow:Assets written to: model_experiments\\model_5_LSTM\\assets\n"
     ]
    },
    {
     "name": "stderr",
     "output_type": "stream",
     "text": [
      "INFO:tensorflow:Assets written to: model_experiments\\model_5_LSTM\\assets\n"
     ]
    },
    {
     "name": "stdout",
     "output_type": "stream",
     "text": [
      "18/18 [==============================] - 2s 103ms/step - loss: 163.6461 - val_loss: 905.4728\n",
      "Epoch 21/100\n",
      "10/18 [===============>..............] - ETA: 0s - loss: 153.8813INFO:tensorflow:Assets written to: model_experiments\\model_5_LSTM\\assets\n"
     ]
    },
    {
     "name": "stderr",
     "output_type": "stream",
     "text": [
      "INFO:tensorflow:Assets written to: model_experiments\\model_5_LSTM\\assets\n"
     ]
    },
    {
     "name": "stdout",
     "output_type": "stream",
     "text": [
      "18/18 [==============================] - 2s 92ms/step - loss: 161.9459 - val_loss: 888.9398\n",
      "Epoch 22/100\n",
      "18/18 [==============================] - 0s 10ms/step - loss: 157.8252 - val_loss: 965.2179\n",
      "Epoch 23/100\n",
      "18/18 [==============================] - 0s 7ms/step - loss: 157.3631 - val_loss: 936.8988\n",
      "Epoch 24/100\n",
      "10/18 [===============>..............] - ETA: 0s - loss: 139.6196INFO:tensorflow:Assets written to: model_experiments\\model_5_LSTM\\assets\n"
     ]
    },
    {
     "name": "stderr",
     "output_type": "stream",
     "text": [
      "INFO:tensorflow:Assets written to: model_experiments\\model_5_LSTM\\assets\n"
     ]
    },
    {
     "name": "stdout",
     "output_type": "stream",
     "text": [
      "18/18 [==============================] - 2s 89ms/step - loss: 152.9363 - val_loss: 868.7258\n",
      "Epoch 25/100\n",
      "18/18 [==============================] - ETA: 0s - loss: 151.8883INFO:tensorflow:Assets written to: model_experiments\\model_5_LSTM\\assets\n"
     ]
    },
    {
     "name": "stderr",
     "output_type": "stream",
     "text": [
      "INFO:tensorflow:Assets written to: model_experiments\\model_5_LSTM\\assets\n"
     ]
    },
    {
     "name": "stdout",
     "output_type": "stream",
     "text": [
      "18/18 [==============================] - 2s 89ms/step - loss: 151.8883 - val_loss: 853.2348\n",
      "Epoch 26/100\n",
      "10/18 [===============>..............] - ETA: 0s - loss: 152.6125INFO:tensorflow:Assets written to: model_experiments\\model_5_LSTM\\assets\n"
     ]
    },
    {
     "name": "stderr",
     "output_type": "stream",
     "text": [
      "INFO:tensorflow:Assets written to: model_experiments\\model_5_LSTM\\assets\n"
     ]
    },
    {
     "name": "stdout",
     "output_type": "stream",
     "text": [
      "18/18 [==============================] - 2s 110ms/step - loss: 148.9370 - val_loss: 825.9835\n",
      "Epoch 27/100\n",
      "18/18 [==============================] - 0s 8ms/step - loss: 147.6644 - val_loss: 902.0925\n",
      "Epoch 28/100\n",
      "11/18 [=================>............] - ETA: 0s - loss: 152.6824INFO:tensorflow:Assets written to: model_experiments\\model_5_LSTM\\assets\n"
     ]
    },
    {
     "name": "stderr",
     "output_type": "stream",
     "text": [
      "INFO:tensorflow:Assets written to: model_experiments\\model_5_LSTM\\assets\n"
     ]
    },
    {
     "name": "stdout",
     "output_type": "stream",
     "text": [
      "18/18 [==============================] - 2s 91ms/step - loss: 146.6214 - val_loss: 816.2509\n",
      "Epoch 29/100\n",
      "18/18 [==============================] - 0s 9ms/step - loss: 143.4283 - val_loss: 853.5510\n",
      "Epoch 30/100\n",
      "18/18 [==============================] - 0s 7ms/step - loss: 141.1170 - val_loss: 818.5612\n",
      "Epoch 31/100\n",
      "11/18 [=================>............] - ETA: 0s - loss: 149.8061INFO:tensorflow:Assets written to: model_experiments\\model_5_LSTM\\assets\n"
     ]
    },
    {
     "name": "stderr",
     "output_type": "stream",
     "text": [
      "INFO:tensorflow:Assets written to: model_experiments\\model_5_LSTM\\assets\n"
     ]
    },
    {
     "name": "stdout",
     "output_type": "stream",
     "text": [
      "18/18 [==============================] - 2s 89ms/step - loss: 140.9607 - val_loss: 783.1019\n",
      "Epoch 32/100\n",
      "18/18 [==============================] - 0s 8ms/step - loss: 139.8139 - val_loss: 804.7023\n",
      "Epoch 33/100\n",
      "11/18 [=================>............] - ETA: 0s - loss: 132.0009INFO:tensorflow:Assets written to: model_experiments\\model_5_LSTM\\assets\n"
     ]
    },
    {
     "name": "stderr",
     "output_type": "stream",
     "text": [
      "INFO:tensorflow:Assets written to: model_experiments\\model_5_LSTM\\assets\n"
     ]
    },
    {
     "name": "stdout",
     "output_type": "stream",
     "text": [
      "18/18 [==============================] - 2s 91ms/step - loss: 139.9445 - val_loss: 759.9089\n",
      "Epoch 34/100\n",
      "10/18 [===============>..............] - ETA: 0s - loss: 142.8627INFO:tensorflow:Assets written to: model_experiments\\model_5_LSTM\\assets\n"
     ]
    },
    {
     "name": "stderr",
     "output_type": "stream",
     "text": [
      "INFO:tensorflow:Assets written to: model_experiments\\model_5_LSTM\\assets\n"
     ]
    },
    {
     "name": "stdout",
     "output_type": "stream",
     "text": [
      "18/18 [==============================] - 2s 110ms/step - loss: 140.2357 - val_loss: 747.1353\n",
      "Epoch 35/100\n",
      "18/18 [==============================] - 0s 9ms/step - loss: 134.7887 - val_loss: 750.0708\n",
      "Epoch 36/100\n",
      "11/18 [=================>............] - ETA: 0s - loss: 134.1655INFO:tensorflow:Assets written to: model_experiments\\model_5_LSTM\\assets\n"
     ]
    },
    {
     "name": "stderr",
     "output_type": "stream",
     "text": [
      "INFO:tensorflow:Assets written to: model_experiments\\model_5_LSTM\\assets\n"
     ]
    },
    {
     "name": "stdout",
     "output_type": "stream",
     "text": [
      "18/18 [==============================] - 2s 88ms/step - loss: 132.6360 - val_loss: 738.1000\n",
      "Epoch 37/100\n",
      "11/18 [=================>............] - ETA: 0s - loss: 131.6230INFO:tensorflow:Assets written to: model_experiments\\model_5_LSTM\\assets\n"
     ]
    },
    {
     "name": "stderr",
     "output_type": "stream",
     "text": [
      "INFO:tensorflow:Assets written to: model_experiments\\model_5_LSTM\\assets\n"
     ]
    },
    {
     "name": "stdout",
     "output_type": "stream",
     "text": [
      "18/18 [==============================] - 2s 89ms/step - loss: 130.2992 - val_loss: 721.7672\n",
      "Epoch 38/100\n",
      "18/18 [==============================] - 0s 8ms/step - loss: 129.5892 - val_loss: 724.1099\n",
      "Epoch 39/100\n",
      "17/18 [===========================>..] - ETA: 0s - loss: 129.4986INFO:tensorflow:Assets written to: model_experiments\\model_5_LSTM\\assets\n"
     ]
    },
    {
     "name": "stderr",
     "output_type": "stream",
     "text": [
      "INFO:tensorflow:Assets written to: model_experiments\\model_5_LSTM\\assets\n"
     ]
    },
    {
     "name": "stdout",
     "output_type": "stream",
     "text": [
      "18/18 [==============================] - 2s 92ms/step - loss: 128.6886 - val_loss: 711.4689\n",
      "Epoch 40/100\n",
      "18/18 [==============================] - ETA: 0s - loss: 127.8445INFO:tensorflow:Assets written to: model_experiments\\model_5_LSTM\\assets\n"
     ]
    },
    {
     "name": "stderr",
     "output_type": "stream",
     "text": [
      "INFO:tensorflow:Assets written to: model_experiments\\model_5_LSTM\\assets\n"
     ]
    },
    {
     "name": "stdout",
     "output_type": "stream",
     "text": [
      "18/18 [==============================] - 2s 92ms/step - loss: 127.8445 - val_loss: 698.6126\n",
      "Epoch 41/100\n",
      "10/18 [===============>..............] - ETA: 0s - loss: 122.2871INFO:tensorflow:Assets written to: model_experiments\\model_5_LSTM\\assets\n"
     ]
    },
    {
     "name": "stderr",
     "output_type": "stream",
     "text": [
      "INFO:tensorflow:Assets written to: model_experiments\\model_5_LSTM\\assets\n"
     ]
    },
    {
     "name": "stdout",
     "output_type": "stream",
     "text": [
      "18/18 [==============================] - 2s 111ms/step - loss: 127.6013 - val_loss: 692.9267\n",
      "Epoch 42/100\n",
      "18/18 [==============================] - 0s 8ms/step - loss: 124.9865 - val_loss: 721.5147\n",
      "Epoch 43/100\n",
      "10/18 [===============>..............] - ETA: 0s - loss: 133.8216INFO:tensorflow:Assets written to: model_experiments\\model_5_LSTM\\assets\n"
     ]
    },
    {
     "name": "stderr",
     "output_type": "stream",
     "text": [
      "INFO:tensorflow:Assets written to: model_experiments\\model_5_LSTM\\assets\n"
     ]
    },
    {
     "name": "stdout",
     "output_type": "stream",
     "text": [
      "18/18 [==============================] - 2s 91ms/step - loss: 126.2169 - val_loss: 684.5960\n",
      "Epoch 44/100\n",
      "18/18 [==============================] - 0s 8ms/step - loss: 123.5599 - val_loss: 714.5806\n",
      "Epoch 45/100\n",
      "18/18 [==============================] - 0s 7ms/step - loss: 122.0763 - val_loss: 688.0832\n",
      "Epoch 46/100\n",
      "11/18 [=================>............] - ETA: 0s - loss: 125.3876INFO:tensorflow:Assets written to: model_experiments\\model_5_LSTM\\assets\n"
     ]
    },
    {
     "name": "stderr",
     "output_type": "stream",
     "text": [
      "INFO:tensorflow:Assets written to: model_experiments\\model_5_LSTM\\assets\n"
     ]
    },
    {
     "name": "stdout",
     "output_type": "stream",
     "text": [
      "18/18 [==============================] - 2s 90ms/step - loss: 121.0193 - val_loss: 663.9243\n",
      "Epoch 47/100\n",
      "18/18 [==============================] - ETA: 0s - loss: 119.9541INFO:tensorflow:Assets written to: model_experiments\\model_5_LSTM\\assets\n"
     ]
    },
    {
     "name": "stderr",
     "output_type": "stream",
     "text": [
      "INFO:tensorflow:Assets written to: model_experiments\\model_5_LSTM\\assets\n"
     ]
    },
    {
     "name": "stdout",
     "output_type": "stream",
     "text": [
      "18/18 [==============================] - 2s 108ms/step - loss: 119.9541 - val_loss: 657.1132\n",
      "Epoch 48/100\n",
      "18/18 [==============================] - 0s 9ms/step - loss: 119.6449 - val_loss: 701.2161\n",
      "Epoch 49/100\n",
      "18/18 [==============================] - 0s 8ms/step - loss: 119.4822 - val_loss: 660.3532\n",
      "Epoch 50/100\n",
      "18/18 [==============================] - 0s 7ms/step - loss: 119.6549 - val_loss: 665.5387\n",
      "Epoch 51/100\n",
      "18/18 [==============================] - 0s 7ms/step - loss: 121.5040 - val_loss: 683.2632\n",
      "Epoch 52/100\n",
      "18/18 [==============================] - 0s 8ms/step - loss: 120.6483 - val_loss: 657.9478\n",
      "Epoch 53/100\n",
      "18/18 [==============================] - 0s 7ms/step - loss: 118.9259 - val_loss: 667.9984\n",
      "Epoch 54/100\n",
      "11/18 [=================>............] - ETA: 0s - loss: 110.4397INFO:tensorflow:Assets written to: model_experiments\\model_5_LSTM\\assets\n"
     ]
    },
    {
     "name": "stderr",
     "output_type": "stream",
     "text": [
      "INFO:tensorflow:Assets written to: model_experiments\\model_5_LSTM\\assets\n"
     ]
    },
    {
     "name": "stdout",
     "output_type": "stream",
     "text": [
      "18/18 [==============================] - 2s 88ms/step - loss: 116.8813 - val_loss: 631.1580\n",
      "Epoch 55/100\n",
      "18/18 [==============================] - 0s 8ms/step - loss: 116.9120 - val_loss: 636.0369\n",
      "Epoch 56/100\n",
      "18/18 [==============================] - 0s 7ms/step - loss: 116.6859 - val_loss: 633.2343\n",
      "Epoch 57/100\n",
      "11/18 [=================>............] - ETA: 0s - loss: 125.1825INFO:tensorflow:Assets written to: model_experiments\\model_5_LSTM\\assets\n"
     ]
    },
    {
     "name": "stderr",
     "output_type": "stream",
     "text": [
      "INFO:tensorflow:Assets written to: model_experiments\\model_5_LSTM\\assets\n"
     ]
    },
    {
     "name": "stdout",
     "output_type": "stream",
     "text": [
      "18/18 [==============================] - 2s 91ms/step - loss: 120.7014 - val_loss: 622.6933\n",
      "Epoch 58/100\n",
      "18/18 [==============================] - 0s 8ms/step - loss: 117.6345 - val_loss: 630.6768\n",
      "Epoch 59/100\n",
      "18/18 [==============================] - 0s 8ms/step - loss: 117.7598 - val_loss: 630.5123\n",
      "Epoch 60/100\n",
      "12/18 [===================>..........] - ETA: 0s - loss: 117.5094INFO:tensorflow:Assets written to: model_experiments\\model_5_LSTM\\assets\n"
     ]
    },
    {
     "name": "stderr",
     "output_type": "stream",
     "text": [
      "INFO:tensorflow:Assets written to: model_experiments\\model_5_LSTM\\assets\n"
     ]
    },
    {
     "name": "stdout",
     "output_type": "stream",
     "text": [
      "18/18 [==============================] - 1s 87ms/step - loss: 117.4985 - val_loss: 615.8352\n",
      "Epoch 61/100\n",
      "18/18 [==============================] - 0s 8ms/step - loss: 115.6554 - val_loss: 623.2418\n",
      "Epoch 62/100\n",
      "18/18 [==============================] - 0s 9ms/step - loss: 119.8480 - val_loss: 622.4718\n",
      "Epoch 63/100\n",
      " 9/18 [==============>...............] - ETA: 0s - loss: 122.4912INFO:tensorflow:Assets written to: model_experiments\\model_5_LSTM\\assets\n"
     ]
    },
    {
     "name": "stderr",
     "output_type": "stream",
     "text": [
      "INFO:tensorflow:Assets written to: model_experiments\\model_5_LSTM\\assets\n"
     ]
    },
    {
     "name": "stdout",
     "output_type": "stream",
     "text": [
      "18/18 [==============================] - 2s 105ms/step - loss: 116.2573 - val_loss: 613.8074\n",
      "Epoch 64/100\n",
      "17/18 [===========================>..] - ETA: 0s - loss: 115.9645INFO:tensorflow:Assets written to: model_experiments\\model_5_LSTM\\assets\n"
     ]
    },
    {
     "name": "stderr",
     "output_type": "stream",
     "text": [
      "INFO:tensorflow:Assets written to: model_experiments\\model_5_LSTM\\assets\n"
     ]
    },
    {
     "name": "stdout",
     "output_type": "stream",
     "text": [
      "18/18 [==============================] - 2s 97ms/step - loss: 115.5444 - val_loss: 608.4443\n",
      "Epoch 65/100\n",
      "18/18 [==============================] - 0s 14ms/step - loss: 114.8104 - val_loss: 611.1805\n",
      "Epoch 66/100\n",
      "18/18 [==============================] - 0s 13ms/step - loss: 112.7170 - val_loss: 614.0896\n",
      "Epoch 67/100\n",
      "15/18 [========================>.....] - ETA: 0s - loss: 108.3683INFO:tensorflow:Assets written to: model_experiments\\model_5_LSTM\\assets\n"
     ]
    },
    {
     "name": "stderr",
     "output_type": "stream",
     "text": [
      "INFO:tensorflow:Assets written to: model_experiments\\model_5_LSTM\\assets\n"
     ]
    },
    {
     "name": "stdout",
     "output_type": "stream",
     "text": [
      "18/18 [==============================] - 2s 93ms/step - loss: 114.1831 - val_loss: 603.5283\n",
      "Epoch 68/100\n",
      "18/18 [==============================] - 0s 9ms/step - loss: 114.9390 - val_loss: 617.3350\n",
      "Epoch 69/100\n",
      "18/18 [==============================] - 0s 8ms/step - loss: 112.1759 - val_loss: 607.8586\n",
      "Epoch 70/100\n",
      "18/18 [==============================] - 0s 8ms/step - loss: 113.5411 - val_loss: 620.1113\n",
      "Epoch 71/100\n",
      "18/18 [==============================] - 0s 7ms/step - loss: 114.3321 - val_loss: 660.2372\n",
      "Epoch 72/100\n",
      " 9/18 [==============>...............] - ETA: 0s - loss: 109.6802INFO:tensorflow:Assets written to: model_experiments\\model_5_LSTM\\assets\n"
     ]
    },
    {
     "name": "stderr",
     "output_type": "stream",
     "text": [
      "INFO:tensorflow:Assets written to: model_experiments\\model_5_LSTM\\assets\n"
     ]
    },
    {
     "name": "stdout",
     "output_type": "stream",
     "text": [
      "18/18 [==============================] - 2s 92ms/step - loss: 114.3427 - val_loss: 602.5284\n",
      "Epoch 73/100\n",
      "18/18 [==============================] - 0s 8ms/step - loss: 116.1181 - val_loss: 610.5844\n",
      "Epoch 74/100\n",
      "18/18 [==============================] - ETA: 0s - loss: 113.4539INFO:tensorflow:Assets written to: model_experiments\\model_5_LSTM\\assets\n"
     ]
    },
    {
     "name": "stderr",
     "output_type": "stream",
     "text": [
      "INFO:tensorflow:Assets written to: model_experiments\\model_5_LSTM\\assets\n"
     ]
    },
    {
     "name": "stdout",
     "output_type": "stream",
     "text": [
      "18/18 [==============================] - 2s 109ms/step - loss: 113.4539 - val_loss: 597.1469\n",
      "Epoch 75/100\n",
      "18/18 [==============================] - 0s 8ms/step - loss: 111.5197 - val_loss: 598.6583\n",
      "Epoch 76/100\n",
      "18/18 [==============================] - 0s 8ms/step - loss: 113.5349 - val_loss: 609.0567\n",
      "Epoch 77/100\n",
      "11/18 [=================>............] - ETA: 0s - loss: 113.1185INFO:tensorflow:Assets written to: model_experiments\\model_5_LSTM\\assets\n"
     ]
    },
    {
     "name": "stderr",
     "output_type": "stream",
     "text": [
      "INFO:tensorflow:Assets written to: model_experiments\\model_5_LSTM\\assets\n"
     ]
    },
    {
     "name": "stdout",
     "output_type": "stream",
     "text": [
      "18/18 [==============================] - 2s 89ms/step - loss: 110.7818 - val_loss: 593.3484\n",
      "Epoch 78/100\n",
      " 8/18 [============>.................] - ETA: 0s - loss: 110.0795INFO:tensorflow:Assets written to: model_experiments\\model_5_LSTM\\assets\n"
     ]
    },
    {
     "name": "stderr",
     "output_type": "stream",
     "text": [
      "INFO:tensorflow:Assets written to: model_experiments\\model_5_LSTM\\assets\n"
     ]
    },
    {
     "name": "stdout",
     "output_type": "stream",
     "text": [
      "18/18 [==============================] - 2s 91ms/step - loss: 111.6402 - val_loss: 592.8214\n",
      "Epoch 79/100\n",
      "18/18 [==============================] - 0s 8ms/step - loss: 111.2638 - val_loss: 624.5823\n",
      "Epoch 80/100\n",
      "18/18 [==============================] - 0s 7ms/step - loss: 118.0654 - val_loss: 639.8762\n",
      "Epoch 81/100\n",
      "18/18 [==============================] - 0s 8ms/step - loss: 125.4332 - val_loss: 783.3150\n",
      "Epoch 82/100\n",
      "18/18 [==============================] - 0s 8ms/step - loss: 125.8979 - val_loss: 662.4548\n",
      "Epoch 83/100\n",
      "18/18 [==============================] - 0s 8ms/step - loss: 114.3108 - val_loss: 601.5312\n",
      "Epoch 84/100\n",
      "18/18 [==============================] - 0s 8ms/step - loss: 111.2245 - val_loss: 604.0150\n",
      "Epoch 85/100\n",
      "18/18 [==============================] - 0s 8ms/step - loss: 110.5055 - val_loss: 622.2905\n",
      "Epoch 86/100\n",
      "11/18 [=================>............] - ETA: 0s - loss: 113.1114INFO:tensorflow:Assets written to: model_experiments\\model_5_LSTM\\assets\n"
     ]
    },
    {
     "name": "stderr",
     "output_type": "stream",
     "text": [
      "INFO:tensorflow:Assets written to: model_experiments\\model_5_LSTM\\assets\n"
     ]
    },
    {
     "name": "stdout",
     "output_type": "stream",
     "text": [
      "18/18 [==============================] - 2s 89ms/step - loss: 112.2787 - val_loss: 592.2248\n",
      "Epoch 87/100\n",
      "18/18 [==============================] - 0s 9ms/step - loss: 111.6385 - val_loss: 607.8486\n",
      "Epoch 88/100\n",
      "18/18 [==============================] - 0s 9ms/step - loss: 110.1739 - val_loss: 619.6050\n",
      "Epoch 89/100\n",
      "18/18 [==============================] - 0s 8ms/step - loss: 110.2875 - val_loss: 616.7593\n",
      "Epoch 90/100\n",
      "12/18 [===================>..........] - ETA: 0s - loss: 114.7898INFO:tensorflow:Assets written to: model_experiments\\model_5_LSTM\\assets\n"
     ]
    },
    {
     "name": "stderr",
     "output_type": "stream",
     "text": [
      "INFO:tensorflow:Assets written to: model_experiments\\model_5_LSTM\\assets\n"
     ]
    },
    {
     "name": "stdout",
     "output_type": "stream",
     "text": [
      "18/18 [==============================] - 2s 108ms/step - loss: 112.3979 - val_loss: 591.0695\n",
      "Epoch 91/100\n",
      "18/18 [==============================] - 0s 9ms/step - loss: 110.6472 - val_loss: 593.5904\n",
      "Epoch 92/100\n",
      "18/18 [==============================] - 0s 7ms/step - loss: 109.2272 - val_loss: 604.3835\n",
      "Epoch 93/100\n",
      "18/18 [==============================] - 0s 7ms/step - loss: 112.1762 - val_loss: 603.0797\n",
      "Epoch 94/100\n",
      "18/18 [==============================] - 0s 7ms/step - loss: 111.3715 - val_loss: 602.2738\n",
      "Epoch 95/100\n",
      "11/18 [=================>............] - ETA: 0s - loss: 111.4399INFO:tensorflow:Assets written to: model_experiments\\model_5_LSTM\\assets\n"
     ]
    },
    {
     "name": "stderr",
     "output_type": "stream",
     "text": [
      "INFO:tensorflow:Assets written to: model_experiments\\model_5_LSTM\\assets\n"
     ]
    },
    {
     "name": "stdout",
     "output_type": "stream",
     "text": [
      "18/18 [==============================] - 2s 89ms/step - loss: 112.9829 - val_loss: 585.7969\n",
      "Epoch 96/100\n",
      "17/18 [===========================>..] - ETA: 0s - loss: 110.6274INFO:tensorflow:Assets written to: model_experiments\\model_5_LSTM\\assets\n"
     ]
    },
    {
     "name": "stderr",
     "output_type": "stream",
     "text": [
      "INFO:tensorflow:Assets written to: model_experiments\\model_5_LSTM\\assets\n"
     ]
    },
    {
     "name": "stdout",
     "output_type": "stream",
     "text": [
      "18/18 [==============================] - 2s 89ms/step - loss: 110.3335 - val_loss: 584.6653\n",
      "Epoch 97/100\n",
      "18/18 [==============================] - 0s 7ms/step - loss: 109.5459 - val_loss: 598.7974\n",
      "Epoch 98/100\n",
      "18/18 [==============================] - 0s 7ms/step - loss: 109.3415 - val_loss: 637.7158\n",
      "Epoch 99/100\n",
      "18/18 [==============================] - 0s 9ms/step - loss: 110.5048 - val_loss: 585.7881\n",
      "Epoch 100/100\n",
      "18/18 [==============================] - 0s 7ms/step - loss: 109.7031 - val_loss: 689.4741\n"
     ]
    },
    {
     "data": {
      "text/plain": [
       "<keras.callbacks.History at 0x2592a387ca0>"
      ]
     },
     "execution_count": 83,
     "metadata": {},
     "output_type": "execute_result"
    }
   ],
   "source": [
    "tf.random.set_seed(42)\n",
    "\n",
    "# Let's build an LSTM model with the Functional API\n",
    "inputs = layers.Input(shape=(WINDOW_SIZE))\n",
    "x = layers.Lambda(lambda x: tf.expand_dims(x, axis=1))(inputs)\n",
    "# x = layers.LSTM(128, return_sequences=True)(x)\n",
    "x = layers.LSTM(128, activation='relu')(x)\n",
    "# x = layers.Dense(32, activation='relu')(x)\n",
    "output = layers.Dense(HORIZON)(x)\n",
    "model_5 = tf.keras.Model(inputs=inputs, outputs=output, name='model_5_LSTM')\n",
    "\n",
    "# Compile\n",
    "model_5.compile(loss='mae',\n",
    "                optimizer=tf.keras.optimizers.Adam())\n",
    "\n",
    "# Fit\n",
    "model_5.fit(train_windows,\n",
    "            train_labels,\n",
    "            epochs=100,\n",
    "            verbose=1,\n",
    "            batch_size=128,\n",
    "            validation_data=(test_windows, test_labels),\n",
    "            callbacks=[create_model_checkpoint(model_name=model_5.name)])"
   ]
  },
  {
   "cell_type": "code",
   "execution_count": 84,
   "id": "4fa206e2",
   "metadata": {},
   "outputs": [
    {
     "name": "stdout",
     "output_type": "stream",
     "text": [
      "WARNING:tensorflow:Layer lstm will not use cuDNN kernels since it doesn't meet the criteria. It will use a generic GPU kernel as fallback when running on GPU.\n"
     ]
    },
    {
     "name": "stderr",
     "output_type": "stream",
     "text": [
      "WARNING:tensorflow:Layer lstm will not use cuDNN kernels since it doesn't meet the criteria. It will use a generic GPU kernel as fallback when running on GPU.\n"
     ]
    },
    {
     "name": "stdout",
     "output_type": "stream",
     "text": [
      "18/18 [==============================] - 0s 4ms/step - loss: 584.6653\n"
     ]
    },
    {
     "data": {
      "text/plain": [
       "584.665283203125"
      ]
     },
     "execution_count": 84,
     "metadata": {},
     "output_type": "execute_result"
    }
   ],
   "source": [
    "# Load in best version of model 5 and evaluate on the test data\n",
    "model_5 = tf.keras.models.load_model('model_experiments/model_5_LSTM')\n",
    "model_5.evaluate(test_windows, test_labels)"
   ]
  },
  {
   "cell_type": "code",
   "execution_count": 85,
   "id": "fffd443b",
   "metadata": {},
   "outputs": [
    {
     "name": "stdout",
     "output_type": "stream",
     "text": [
      "18/18 [==============================] - 0s 2ms/step\n"
     ]
    }
   ],
   "source": [
    "# Make predictions with our LSTM model\n",
    "model_5_preds = make_preds(model_5, test_windows)"
   ]
  },
  {
   "cell_type": "code",
   "execution_count": 86,
   "id": "2d0b5984",
   "metadata": {},
   "outputs": [],
   "source": [
    "# Evaluate model 5 predictions\n",
    "model_5_results = evaluate_preds(y_true=tf.squeeze(test_labels),\n",
    "                                 y_pred=model_5_preds)"
   ]
  },
  {
   "cell_type": "code",
   "execution_count": 87,
   "id": "4d3fdfe4",
   "metadata": {},
   "outputs": [
    {
     "data": {
      "text/plain": [
       "{'mae': 584.6652,\n",
       " 'mse': 1214368.5,\n",
       " 'rmse': 1101.9839,\n",
       " 'mape': 2.6209452,\n",
       " 'mase': 1.0204453}"
      ]
     },
     "execution_count": 87,
     "metadata": {},
     "output_type": "execute_result"
    }
   ],
   "source": [
    "model_5_results"
   ]
  },
  {
   "cell_type": "code",
   "execution_count": 89,
   "id": "c140368e",
   "metadata": {},
   "outputs": [
    {
     "data": {
      "text/plain": [
       "{'mae': 567.9802,\n",
       " 'mse': 1147547.0,\n",
       " 'rmse': 1071.2362,\n",
       " 'mape': 2.516525,\n",
       " 'mase': 0.99957}"
      ]
     },
     "execution_count": 89,
     "metadata": {},
     "output_type": "execute_result"
    }
   ],
   "source": [
    "naive_results"
   ]
  },
  {
   "cell_type": "markdown",
   "id": "a6b67d33",
   "metadata": {},
   "source": [
    "**Note:** Because neural networks are such powerful algorithms, they can be used for almost any problem, however, that doesn't mean they'll achieve performant or usable results."
   ]
  },
  {
   "cell_type": "markdown",
   "id": "061fd3b4",
   "metadata": {},
   "source": [
    "## Make a multivariate time series dataset\n",
    "\n",
    "Before we add feature to our time series, what is a feature we can use?\n",
    "\n",
    "One feature we could add is whether or not Elon Musk tweeted on that day...\n",
    "\n",
    "* day 1 - 0\n",
    "* day 2 - 1\n",
    "* day 3 - 0\n",
    "\n",
    "What's a better feature to use?\n",
    "\n",
    "How about the bitcoin halving events..."
   ]
  },
  {
   "cell_type": "code",
   "execution_count": 90,
   "id": "024b7514",
   "metadata": {},
   "outputs": [
    {
     "data": {
      "application/vnd.microsoft.datawrangler.viewer.v0+json": {
       "columns": [
        {
         "name": "Date",
         "rawType": "datetime64[ns]",
         "type": "datetime"
        },
        {
         "name": "Price",
         "rawType": "float64",
         "type": "float"
        }
       ],
       "ref": "85015569-ceb5-437d-a181-9e5f7f1b4d3b",
       "rows": [
        [
         "2013-10-01 00:00:00",
         "123.65499"
        ],
        [
         "2013-10-02 00:00:00",
         "125.455"
        ],
        [
         "2013-10-03 00:00:00",
         "108.58483"
        ],
        [
         "2013-10-04 00:00:00",
         "118.67466"
        ],
        [
         "2013-10-05 00:00:00",
         "121.33866"
        ]
       ],
       "shape": {
        "columns": 1,
        "rows": 5
       }
      },
      "text/html": [
       "<div>\n",
       "<style scoped>\n",
       "    .dataframe tbody tr th:only-of-type {\n",
       "        vertical-align: middle;\n",
       "    }\n",
       "\n",
       "    .dataframe tbody tr th {\n",
       "        vertical-align: top;\n",
       "    }\n",
       "\n",
       "    .dataframe thead th {\n",
       "        text-align: right;\n",
       "    }\n",
       "</style>\n",
       "<table border=\"1\" class=\"dataframe\">\n",
       "  <thead>\n",
       "    <tr style=\"text-align: right;\">\n",
       "      <th></th>\n",
       "      <th>Price</th>\n",
       "    </tr>\n",
       "    <tr>\n",
       "      <th>Date</th>\n",
       "      <th></th>\n",
       "    </tr>\n",
       "  </thead>\n",
       "  <tbody>\n",
       "    <tr>\n",
       "      <th>2013-10-01</th>\n",
       "      <td>123.65499</td>\n",
       "    </tr>\n",
       "    <tr>\n",
       "      <th>2013-10-02</th>\n",
       "      <td>125.45500</td>\n",
       "    </tr>\n",
       "    <tr>\n",
       "      <th>2013-10-03</th>\n",
       "      <td>108.58483</td>\n",
       "    </tr>\n",
       "    <tr>\n",
       "      <th>2013-10-04</th>\n",
       "      <td>118.67466</td>\n",
       "    </tr>\n",
       "    <tr>\n",
       "      <th>2013-10-05</th>\n",
       "      <td>121.33866</td>\n",
       "    </tr>\n",
       "  </tbody>\n",
       "</table>\n",
       "</div>"
      ],
      "text/plain": [
       "                Price\n",
       "Date                 \n",
       "2013-10-01  123.65499\n",
       "2013-10-02  125.45500\n",
       "2013-10-03  108.58483\n",
       "2013-10-04  118.67466\n",
       "2013-10-05  121.33866"
      ]
     },
     "execution_count": 90,
     "metadata": {},
     "output_type": "execute_result"
    }
   ],
   "source": [
    "# Let's make a multivariate time series dataset\n",
    "bitcoin_prices.head()"
   ]
  },
  {
   "cell_type": "code",
   "execution_count": 91,
   "id": "283d1236",
   "metadata": {},
   "outputs": [],
   "source": [
    "# Let's add the bitcoin halving events to our dataset\n",
    "block_reward_1 = 50 # 3 January 2009 - this block reward isn't in our dataset\n",
    "block_reward_2 = 25 # 8 November 2012\n",
    "block_reward_3 = 12.5 # 9 July 2016\n",
    "block_reward_4 = 6.25 # 18 May 2020\n",
    "\n",
    "# Block reward dates\n",
    "block_reward_2_datetime = np.datetime64('2012-11-28')\n",
    "block_reward_3_datetime = np.datetime64('2016-07-09')\n",
    "block_reward_4_datetime = np.datetime64('2020-05-18')"
   ]
  },
  {
   "cell_type": "code",
   "execution_count": 94,
   "id": "7be9bcc5",
   "metadata": {},
   "outputs": [
    {
     "data": {
      "text/plain": [
       "(1012, 2421)"
      ]
     },
     "execution_count": 94,
     "metadata": {},
     "output_type": "execute_result"
    }
   ],
   "source": [
    "# Create date ranges of where specific block_reward values should be\n",
    "block_reward_2_days = (block_reward_3_datetime - bitcoin_prices.index[0]).days\n",
    "block_reward_3_days = (block_reward_4_datetime - bitcoin_prices.index[0]).days\n",
    "block_reward_2_days, block_reward_3_days"
   ]
  },
  {
   "cell_type": "code",
   "execution_count": 96,
   "id": "aac64c85",
   "metadata": {},
   "outputs": [],
   "source": [
    "# Add in a block_reward column\n",
    "bitcoin_prices_block = bitcoin_prices.copy()\n",
    "bitcoin_prices_block['block_reward'] = None\n",
    "\n",
    "# Add in block_reward values as a feature to our dataframe\n",
    "bitcoin_prices_block.iloc[:block_reward_2_days, -1] = block_reward_2\n",
    "bitcoin_prices_block.iloc[block_reward_2_days:block_reward_3_days, -1] = block_reward_3\n",
    "bitcoin_prices_block.iloc[block_reward_3_days:, -1] = block_reward_4"
   ]
  },
  {
   "cell_type": "code",
   "execution_count": 97,
   "id": "fd384ff5",
   "metadata": {},
   "outputs": [
    {
     "data": {
      "image/png": "[encoded data removed]",
      "text/plain": [
       "<Figure size 1000x700 with 1 Axes>"
      ]
     },
     "metadata": {},
     "output_type": "display_data"
    }
   ],
   "source": [
    "# Plot the block reward vs price over time\n",
    "from sklearn.preprocessing import minmax_scale\n",
    "scaled_price_block_df = pd.DataFrame(minmax_scale(bitcoin_prices_block[['Price', 'block_reward']]),\n",
    "                                     columns=bitcoin_prices_block.columns,\n",
    "                                     index=bitcoin_prices_block.index)\n",
    "scaled_price_block_df.plot(figsize=(10, 7));"
   ]
  }
 ],
 "metadata": {
  "kernelspec": {
   "display_name": "tf3",
   "language": "python",
   "name": "python3"
  },
  "language_info": {
   "codemirror_mode": {
    "name": "ipython",
    "version": 3
   },
   "file_extension": ".py",
   "mimetype": "text/x-python",
   "name": "python",
   "nbconvert_exporter": "python",
   "pygments_lexer": "ipython3",
   "version": "3.10.18"
  }
 },
 "nbformat": 4,
 "nbformat_minor": 5
}

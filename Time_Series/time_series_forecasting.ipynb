{
 "cells": [
  {
   "cell_type": "markdown",
   "id": "197107bd",
   "metadata": {},
   "source": [
    "# Time Series Forecasting Fundamentals with TensorFlow + Milestone Project: BitPredict\n",
    "\n",
    "Let's write some TensorFlow code to predict the price of Bitcoin based on historical price of Bitcoin."
   ]
  },
  {
   "cell_type": "markdown",
   "id": "d842b633",
   "metadata": {},
   "source": [
    "## Importing time series with pandas"
   ]
  },
  {
   "cell_type": "code",
   "execution_count": 1,
   "id": "912c0b37",
   "metadata": {},
   "outputs": [
    {
     "data": {
      "application/vnd.microsoft.datawrangler.viewer.v0+json": {
       "columns": [
        {
         "name": "Date",
         "rawType": "datetime64[ns]",
         "type": "datetime"
        },
        {
         "name": "Currency",
         "rawType": "object",
         "type": "string"
        },
        {
         "name": "Closing Price (USD)",
         "rawType": "float64",
         "type": "float"
        },
        {
         "name": "24h Open (USD)",
         "rawType": "float64",
         "type": "float"
        },
        {
         "name": "24h High (USD)",
         "rawType": "float64",
         "type": "float"
        },
        {
         "name": "24h Low (USD)",
         "rawType": "float64",
         "type": "float"
        }
       ],
       "ref": "5fb9d258-0d61-45b0-8824-8c37e22e11c1",
       "rows": [
        [
         "2013-10-01 00:00:00",
         "BTC",
         "123.65499",
         "124.30466",
         "124.75166",
         "122.56349"
        ],
        [
         "2013-10-02 00:00:00",
         "BTC",
         "125.455",
         "123.65499",
         "125.7585",
         "123.63383"
        ],
        [
         "2013-10-03 00:00:00",
         "BTC",
         "108.58483",
         "125.455",
         "125.66566",
         "83.32833"
        ],
        [
         "2013-10-04 00:00:00",
         "BTC",
         "118.67466",
         "108.58483",
         "118.675",
         "107.05816"
        ],
        [
         "2013-10-05 00:00:00",
         "BTC",
         "121.33866",
         "118.67466",
         "121.93633",
         "118.00566"
        ]
       ],
       "shape": {
        "columns": 5,
        "rows": 5
       }
      },
      "text/html": [
       "<div>\n",
       "<style scoped>\n",
       "    .dataframe tbody tr th:only-of-type {\n",
       "        vertical-align: middle;\n",
       "    }\n",
       "\n",
       "    .dataframe tbody tr th {\n",
       "        vertical-align: top;\n",
       "    }\n",
       "\n",
       "    .dataframe thead th {\n",
       "        text-align: right;\n",
       "    }\n",
       "</style>\n",
       "<table border=\"1\" class=\"dataframe\">\n",
       "  <thead>\n",
       "    <tr style=\"text-align: right;\">\n",
       "      <th></th>\n",
       "      <th>Currency</th>\n",
       "      <th>Closing Price (USD)</th>\n",
       "      <th>24h Open (USD)</th>\n",
       "      <th>24h High (USD)</th>\n",
       "      <th>24h Low (USD)</th>\n",
       "    </tr>\n",
       "    <tr>\n",
       "      <th>Date</th>\n",
       "      <th></th>\n",
       "      <th></th>\n",
       "      <th></th>\n",
       "      <th></th>\n",
       "      <th></th>\n",
       "    </tr>\n",
       "  </thead>\n",
       "  <tbody>\n",
       "    <tr>\n",
       "      <th>2013-10-01</th>\n",
       "      <td>BTC</td>\n",
       "      <td>123.65499</td>\n",
       "      <td>124.30466</td>\n",
       "      <td>124.75166</td>\n",
       "      <td>122.56349</td>\n",
       "    </tr>\n",
       "    <tr>\n",
       "      <th>2013-10-02</th>\n",
       "      <td>BTC</td>\n",
       "      <td>125.45500</td>\n",
       "      <td>123.65499</td>\n",
       "      <td>125.75850</td>\n",
       "      <td>123.63383</td>\n",
       "    </tr>\n",
       "    <tr>\n",
       "      <th>2013-10-03</th>\n",
       "      <td>BTC</td>\n",
       "      <td>108.58483</td>\n",
       "      <td>125.45500</td>\n",
       "      <td>125.66566</td>\n",
       "      <td>83.32833</td>\n",
       "    </tr>\n",
       "    <tr>\n",
       "      <th>2013-10-04</th>\n",
       "      <td>BTC</td>\n",
       "      <td>118.67466</td>\n",
       "      <td>108.58483</td>\n",
       "      <td>118.67500</td>\n",
       "      <td>107.05816</td>\n",
       "    </tr>\n",
       "    <tr>\n",
       "      <th>2013-10-05</th>\n",
       "      <td>BTC</td>\n",
       "      <td>121.33866</td>\n",
       "      <td>118.67466</td>\n",
       "      <td>121.93633</td>\n",
       "      <td>118.00566</td>\n",
       "    </tr>\n",
       "  </tbody>\n",
       "</table>\n",
       "</div>"
      ],
      "text/plain": [
       "           Currency  Closing Price (USD)  24h Open (USD)  24h High (USD)  \\\n",
       "Date                                                                       \n",
       "2013-10-01      BTC            123.65499       124.30466       124.75166   \n",
       "2013-10-02      BTC            125.45500       123.65499       125.75850   \n",
       "2013-10-03      BTC            108.58483       125.45500       125.66566   \n",
       "2013-10-04      BTC            118.67466       108.58483       118.67500   \n",
       "2013-10-05      BTC            121.33866       118.67466       121.93633   \n",
       "\n",
       "            24h Low (USD)  \n",
       "Date                       \n",
       "2013-10-01      122.56349  \n",
       "2013-10-02      123.63383  \n",
       "2013-10-03       83.32833  \n",
       "2013-10-04      107.05816  \n",
       "2013-10-05      118.00566  "
      ]
     },
     "execution_count": 1,
     "metadata": {},
     "output_type": "execute_result"
    }
   ],
   "source": [
    "# Import with pandas\n",
    "import pandas as pd\n",
    "# Let's read in our Bitcoin data and parse the dates\n",
    "df = pd.read_csv('./bitcoin_price.csv',\n",
    "                 parse_dates=['Date'],\n",
    "                 index_col=['Date']) # parse the date column and tell pandas column 1 is a datetime\n",
    "\n",
    "df.head()"
   ]
  },
  {
   "cell_type": "code",
   "execution_count": 2,
   "id": "756c4c8b",
   "metadata": {},
   "outputs": [
    {
     "data": {
      "application/vnd.microsoft.datawrangler.viewer.v0+json": {
       "columns": [
        {
         "name": "Date",
         "rawType": "datetime64[ns]",
         "type": "datetime"
        },
        {
         "name": "Currency",
         "rawType": "object",
         "type": "string"
        },
        {
         "name": "Closing Price (USD)",
         "rawType": "float64",
         "type": "float"
        },
        {
         "name": "24h Open (USD)",
         "rawType": "float64",
         "type": "float"
        },
        {
         "name": "24h High (USD)",
         "rawType": "float64",
         "type": "float"
        },
        {
         "name": "24h Low (USD)",
         "rawType": "float64",
         "type": "float"
        }
       ],
       "ref": "a5c158ed-e802-44c6-85db-f6426a9f0319",
       "rows": [
        [
         "2021-05-14 00:00:00",
         "BTC",
         "49764.1320815975",
         "49596.7788914698",
         "51448.7985760232",
         "46294.7201795113"
        ],
        [
         "2021-05-15 00:00:00",
         "BTC",
         "50032.6931367648",
         "49717.3543531654",
         "51578.3125446899",
         "48944.3465360214"
        ],
        [
         "2021-05-16 00:00:00",
         "BTC",
         "47885.6252547166",
         "49926.035067459",
         "50690.8029495356",
         "47005.1022924768"
        ],
        [
         "2021-05-17 00:00:00",
         "BTC",
         "45604.6157536131",
         "46805.5378519185",
         "49670.4141738148",
         "43868.6389692715"
        ],
        [
         "2021-05-18 00:00:00",
         "BTC",
         "43144.4712908603",
         "46439.3365698047",
         "46622.8534374849",
         "42102.3464296188"
        ]
       ],
       "shape": {
        "columns": 5,
        "rows": 5
       }
      },
      "text/html": [
       "<div>\n",
       "<style scoped>\n",
       "    .dataframe tbody tr th:only-of-type {\n",
       "        vertical-align: middle;\n",
       "    }\n",
       "\n",
       "    .dataframe tbody tr th {\n",
       "        vertical-align: top;\n",
       "    }\n",
       "\n",
       "    .dataframe thead th {\n",
       "        text-align: right;\n",
       "    }\n",
       "</style>\n",
       "<table border=\"1\" class=\"dataframe\">\n",
       "  <thead>\n",
       "    <tr style=\"text-align: right;\">\n",
       "      <th></th>\n",
       "      <th>Currency</th>\n",
       "      <th>Closing Price (USD)</th>\n",
       "      <th>24h Open (USD)</th>\n",
       "      <th>24h High (USD)</th>\n",
       "      <th>24h Low (USD)</th>\n",
       "    </tr>\n",
       "    <tr>\n",
       "      <th>Date</th>\n",
       "      <th></th>\n",
       "      <th></th>\n",
       "      <th></th>\n",
       "      <th></th>\n",
       "      <th></th>\n",
       "    </tr>\n",
       "  </thead>\n",
       "  <tbody>\n",
       "    <tr>\n",
       "      <th>2021-05-14</th>\n",
       "      <td>BTC</td>\n",
       "      <td>49764.132082</td>\n",
       "      <td>49596.778891</td>\n",
       "      <td>51448.798576</td>\n",
       "      <td>46294.720180</td>\n",
       "    </tr>\n",
       "    <tr>\n",
       "      <th>2021-05-15</th>\n",
       "      <td>BTC</td>\n",
       "      <td>50032.693137</td>\n",
       "      <td>49717.354353</td>\n",
       "      <td>51578.312545</td>\n",
       "      <td>48944.346536</td>\n",
       "    </tr>\n",
       "    <tr>\n",
       "      <th>2021-05-16</th>\n",
       "      <td>BTC</td>\n",
       "      <td>47885.625255</td>\n",
       "      <td>49926.035067</td>\n",
       "      <td>50690.802950</td>\n",
       "      <td>47005.102292</td>\n",
       "    </tr>\n",
       "    <tr>\n",
       "      <th>2021-05-17</th>\n",
       "      <td>BTC</td>\n",
       "      <td>45604.615754</td>\n",
       "      <td>46805.537852</td>\n",
       "      <td>49670.414174</td>\n",
       "      <td>43868.638969</td>\n",
       "    </tr>\n",
       "    <tr>\n",
       "      <th>2021-05-18</th>\n",
       "      <td>BTC</td>\n",
       "      <td>43144.471291</td>\n",
       "      <td>46439.336570</td>\n",
       "      <td>46622.853437</td>\n",
       "      <td>42102.346430</td>\n",
       "    </tr>\n",
       "  </tbody>\n",
       "</table>\n",
       "</div>"
      ],
      "text/plain": [
       "           Currency  Closing Price (USD)  24h Open (USD)  24h High (USD)  \\\n",
       "Date                                                                       \n",
       "2021-05-14      BTC         49764.132082    49596.778891    51448.798576   \n",
       "2021-05-15      BTC         50032.693137    49717.354353    51578.312545   \n",
       "2021-05-16      BTC         47885.625255    49926.035067    50690.802950   \n",
       "2021-05-17      BTC         45604.615754    46805.537852    49670.414174   \n",
       "2021-05-18      BTC         43144.471291    46439.336570    46622.853437   \n",
       "\n",
       "            24h Low (USD)  \n",
       "Date                       \n",
       "2021-05-14   46294.720180  \n",
       "2021-05-15   48944.346536  \n",
       "2021-05-16   47005.102292  \n",
       "2021-05-17   43868.638969  \n",
       "2021-05-18   42102.346430  "
      ]
     },
     "execution_count": 2,
     "metadata": {},
     "output_type": "execute_result"
    }
   ],
   "source": [
    "df.tail()"
   ]
  },
  {
   "cell_type": "code",
   "execution_count": 3,
   "id": "9fca5567",
   "metadata": {},
   "outputs": [
    {
     "name": "stdout",
     "output_type": "stream",
     "text": [
      "<class 'pandas.core.frame.DataFrame'>\n",
      "DatetimeIndex: 2787 entries, 2013-10-01 to 2021-05-18\n",
      "Data columns (total 5 columns):\n",
      " #   Column               Non-Null Count  Dtype  \n",
      "---  ------               --------------  -----  \n",
      " 0   Currency             2787 non-null   object \n",
      " 1   Closing Price (USD)  2787 non-null   float64\n",
      " 2   24h Open (USD)       2787 non-null   float64\n",
      " 3   24h High (USD)       2787 non-null   float64\n",
      " 4   24h Low (USD)        2787 non-null   float64\n",
      "dtypes: float64(4), object(1)\n",
      "memory usage: 130.6+ KB\n"
     ]
    }
   ],
   "source": [
    "df.info()"
   ]
  },
  {
   "cell_type": "code",
   "execution_count": 4,
   "id": "67661981",
   "metadata": {},
   "outputs": [
    {
     "data": {
      "text/plain": [
       "2787"
      ]
     },
     "execution_count": 4,
     "metadata": {},
     "output_type": "execute_result"
    }
   ],
   "source": [
    "# How many samples do we have?\n",
    "len(df)"
   ]
  },
  {
   "cell_type": "markdown",
   "id": "7733d08d",
   "metadata": {},
   "source": [
    "We have collected the historical price of Bitcoin for the past ~8 years but there's 2787 samples.\n",
    "\n",
    "Typically deep learning models usually like lots and lots and lots of samples (where lots and lots and lots can be thousands to tens of thousands to millions).\n",
    "\n",
    "A smaller number of samples is something you will often run into with time series of ata problems.\n",
    "\n",
    "**Note:** The **seasonality** of a time series dataset is referred as the nmber of samples per year. So for our Bitcoin data, it has seasonality of daily or value of 365 because we collect one sample per day meaning we will get 365 samples per year."
   ]
  },
  {
   "cell_type": "code",
   "execution_count": 5,
   "id": "5f48b757",
   "metadata": {},
   "outputs": [
    {
     "data": {
      "application/vnd.microsoft.datawrangler.viewer.v0+json": {
       "columns": [
        {
         "name": "Date",
         "rawType": "datetime64[ns]",
         "type": "datetime"
        },
        {
         "name": "Price",
         "rawType": "float64",
         "type": "float"
        }
       ],
       "ref": "e931a657-8571-48cf-b97a-839894e4ce5a",
       "rows": [
        [
         "2013-10-01 00:00:00",
         "123.65499"
        ],
        [
         "2013-10-02 00:00:00",
         "125.455"
        ],
        [
         "2013-10-03 00:00:00",
         "108.58483"
        ],
        [
         "2013-10-04 00:00:00",
         "118.67466"
        ],
        [
         "2013-10-05 00:00:00",
         "121.33866"
        ]
       ],
       "shape": {
        "columns": 1,
        "rows": 5
       }
      },
      "text/html": [
       "<div>\n",
       "<style scoped>\n",
       "    .dataframe tbody tr th:only-of-type {\n",
       "        vertical-align: middle;\n",
       "    }\n",
       "\n",
       "    .dataframe tbody tr th {\n",
       "        vertical-align: top;\n",
       "    }\n",
       "\n",
       "    .dataframe thead th {\n",
       "        text-align: right;\n",
       "    }\n",
       "</style>\n",
       "<table border=\"1\" class=\"dataframe\">\n",
       "  <thead>\n",
       "    <tr style=\"text-align: right;\">\n",
       "      <th></th>\n",
       "      <th>Price</th>\n",
       "    </tr>\n",
       "    <tr>\n",
       "      <th>Date</th>\n",
       "      <th></th>\n",
       "    </tr>\n",
       "  </thead>\n",
       "  <tbody>\n",
       "    <tr>\n",
       "      <th>2013-10-01</th>\n",
       "      <td>123.65499</td>\n",
       "    </tr>\n",
       "    <tr>\n",
       "      <th>2013-10-02</th>\n",
       "      <td>125.45500</td>\n",
       "    </tr>\n",
       "    <tr>\n",
       "      <th>2013-10-03</th>\n",
       "      <td>108.58483</td>\n",
       "    </tr>\n",
       "    <tr>\n",
       "      <th>2013-10-04</th>\n",
       "      <td>118.67466</td>\n",
       "    </tr>\n",
       "    <tr>\n",
       "      <th>2013-10-05</th>\n",
       "      <td>121.33866</td>\n",
       "    </tr>\n",
       "  </tbody>\n",
       "</table>\n",
       "</div>"
      ],
      "text/plain": [
       "                Price\n",
       "Date                 \n",
       "2013-10-01  123.65499\n",
       "2013-10-02  125.45500\n",
       "2013-10-03  108.58483\n",
       "2013-10-04  118.67466\n",
       "2013-10-05  121.33866"
      ]
     },
     "execution_count": 5,
     "metadata": {},
     "output_type": "execute_result"
    }
   ],
   "source": [
    "# Only want closing price for each day\n",
    "bitcoin_prices = pd.DataFrame(df['Closing Price (USD)']).rename(columns={'Closing Price (USD)': 'Price'})\n",
    "bitcoin_prices.head()"
   ]
  },
  {
   "cell_type": "code",
   "execution_count": 6,
   "id": "f8096130",
   "metadata": {},
   "outputs": [
    {
     "data": {
      "image/png": "[encoded data removed]",
      "text/plain": [
       "<Figure size 1000x700 with 1 Axes>"
      ]
     },
     "metadata": {},
     "output_type": "display_data"
    }
   ],
   "source": [
    "import matplotlib.pyplot as plt\n",
    "bitcoin_prices.plot(figsize=(10, 7))\n",
    "plt.ylabel('BTC Price')\n",
    "plt.title('Price of Bitcoin from 1 Oct 2013 to 18 May 2021', fontsize=16)\n",
    "plt.legend(fontsize=14)\n",
    "plt.show()"
   ]
  },
  {
   "cell_type": "markdown",
   "id": "719f1176",
   "metadata": {},
   "source": [
    "## Importing time series data with Pyhton's CSV module"
   ]
  },
  {
   "cell_type": "code",
   "execution_count": 7,
   "id": "1564be6a",
   "metadata": {},
   "outputs": [
    {
     "data": {
      "text/plain": [
       "([datetime.datetime(2013, 10, 1, 0, 0),\n",
       "  datetime.datetime(2013, 10, 2, 0, 0),\n",
       "  datetime.datetime(2013, 10, 3, 0, 0),\n",
       "  datetime.datetime(2013, 10, 4, 0, 0),\n",
       "  datetime.datetime(2013, 10, 5, 0, 0),\n",
       "  datetime.datetime(2013, 10, 6, 0, 0),\n",
       "  datetime.datetime(2013, 10, 7, 0, 0),\n",
       "  datetime.datetime(2013, 10, 8, 0, 0),\n",
       "  datetime.datetime(2013, 10, 9, 0, 0),\n",
       "  datetime.datetime(2013, 10, 10, 0, 0)],\n",
       " [123.65499,\n",
       "  125.455,\n",
       "  108.58483,\n",
       "  118.67466,\n",
       "  121.33866,\n",
       "  120.65533,\n",
       "  121.795,\n",
       "  123.033,\n",
       "  124.049,\n",
       "  125.96116])"
      ]
     },
     "execution_count": 7,
     "metadata": {},
     "output_type": "execute_result"
    }
   ],
   "source": [
    "# Importing and formatting historical Bitcoin data with Python\n",
    "import csv\n",
    "from datetime import datetime\n",
    "\n",
    "timesteps = []\n",
    "btc_price = []\n",
    "with open(\"bitcoin_price.csv\", \"r\") as f:\n",
    "    csv_reader = csv.reader(f, delimiter=\",\")\n",
    "    next(csv_reader) # Skip the header\n",
    "    for line in csv_reader:\n",
    "        timesteps.append(datetime.strptime(line[1], \"%Y-%m-%d\")) # get the dates as dates (not strings)\n",
    "        btc_price.append(float(line[2])) # get the bitcoin price as float\n",
    "\n",
    "# View first 10 of each\n",
    "timesteps[:10], btc_price[:10]"
   ]
  },
  {
   "cell_type": "code",
   "execution_count": 8,
   "id": "b66fb40d",
   "metadata": {},
   "outputs": [
    {
     "data": {
      "image/png": "[encoded data removed]",
      "text/plain": [
       "<Figure size 1000x700 with 1 Axes>"
      ]
     },
     "metadata": {},
     "output_type": "display_data"
    }
   ],
   "source": [
    "# Plot from CSV\n",
    "import matplotlib.pyplot as plt\n",
    "import numpy as np\n",
    "\n",
    "plt.figure(figsize=(10, 7))\n",
    "plt.plot(timesteps, btc_price)\n",
    "plt.ylabel('BTC Price')\n",
    "plt.title('Price of Bitcoin from 1 Oct 2013 to 18 May 2021', fontsize=16)\n",
    "plt.xlabel('Date')\n",
    "plt.show()"
   ]
  },
  {
   "cell_type": "markdown",
   "id": "cde748e6",
   "metadata": {},
   "source": [
    "## Format data part 1: Create train and test sets of our time series data"
   ]
  },
  {
   "cell_type": "markdown",
   "id": "719aa139",
   "metadata": {},
   "source": [
    "### Creating train and test sets with time series data (the wrong way)"
   ]
  },
  {
   "cell_type": "code",
   "execution_count": 9,
   "id": "65ba12b5",
   "metadata": {},
   "outputs": [
    {
     "data": {
      "text/plain": [
       "(array(['2013-10-01T00:00:00.000000000', '2013-10-02T00:00:00.000000000',\n",
       "        '2013-10-03T00:00:00.000000000', '2013-10-04T00:00:00.000000000',\n",
       "        '2013-10-05T00:00:00.000000000', '2013-10-06T00:00:00.000000000',\n",
       "        '2013-10-07T00:00:00.000000000', '2013-10-08T00:00:00.000000000',\n",
       "        '2013-10-09T00:00:00.000000000', '2013-10-10T00:00:00.000000000'],\n",
       "       dtype='datetime64[ns]'),\n",
       " array([123.65499, 125.455  , 108.58483, 118.67466, 121.33866, 120.65533,\n",
       "        121.795  , 123.033  , 124.049  , 125.96116]))"
      ]
     },
     "execution_count": 9,
     "metadata": {},
     "output_type": "execute_result"
    }
   ],
   "source": [
    "# Get bitcoin date array\n",
    "timesteps = bitcoin_prices.index.to_numpy()\n",
    "prices = bitcoin_prices['Price'].to_numpy()\n",
    "\n",
    "timesteps[:10], prices[:10]"
   ]
  },
  {
   "cell_type": "code",
   "execution_count": 10,
   "id": "acd8af70",
   "metadata": {},
   "outputs": [
    {
     "data": {
      "text/plain": [
       "((2229,), (558,), (2229,), (558,))"
      ]
     },
     "execution_count": 10,
     "metadata": {},
     "output_type": "execute_result"
    }
   ],
   "source": [
    "# Wrong way to make train/test sets for time series data\n",
    "from sklearn.model_selection import train_test_split\n",
    "\n",
    "X_train, X_test, y_train, y_test = train_test_split(timesteps, # dates\n",
    "                                                    prices, # BTC price\n",
    "                                                    test_size=0.2,\n",
    "                                                    random_state=42)\n",
    "\n",
    "X_train.shape, X_test.shape, y_train.shape, y_test.shape"
   ]
  },
  {
   "cell_type": "code",
   "execution_count": 11,
   "id": "1c2db7b5",
   "metadata": {},
   "outputs": [
    {
     "data": {
      "image/png": "[encoded data removed]",
      "text/plain": [
       "<Figure size 1000x700 with 1 Axes>"
      ]
     },
     "metadata": {},
     "output_type": "display_data"
    }
   ],
   "source": [
    "# Let's plot wrong train and test splits\n",
    "plt.figure(figsize=(10, 7))\n",
    "plt.scatter(X_train, y_train, s=5, label='Train data')\n",
    "plt.scatter(X_test, y_test, s=5, label='Test data')\n",
    "plt.xlabel('Data')\n",
    "plt.ylabel('BTC Price')\n",
    "plt.legend(fontsize=14)\n",
    "plt.show()"
   ]
  },
  {
   "cell_type": "markdown",
   "id": "d9c27238",
   "metadata": {},
   "source": [
    "### Create train and test sets for time series (the right way)"
   ]
  },
  {
   "cell_type": "code",
   "execution_count": 12,
   "id": "ba8ec97e",
   "metadata": {},
   "outputs": [
    {
     "data": {
      "text/plain": [
       "(2229, 558, 2229, 558)"
      ]
     },
     "execution_count": 12,
     "metadata": {},
     "output_type": "execute_result"
    }
   ],
   "source": [
    "# Create train and test splits the right way for time series data\n",
    "split_size = int(0.8 * len(prices)) # 80% train, 20% test\n",
    "\n",
    "# Create train data splits (everything before the splits)\n",
    "X_train, y_train = timesteps[:split_size], prices[:split_size]\n",
    "\n",
    "# Create test data splits (everything beyond the split)\n",
    "X_test, y_test = timesteps[split_size:], prices[split_size:]\n",
    "\n",
    "len(X_train), len(X_test), len(y_train), len(y_test)"
   ]
  },
  {
   "cell_type": "code",
   "execution_count": 13,
   "id": "d7b4d4cd",
   "metadata": {},
   "outputs": [
    {
     "data": {
      "image/png": "[encoded data removed]",
      "text/plain": [
       "<Figure size 1000x700 with 1 Axes>"
      ]
     },
     "metadata": {},
     "output_type": "display_data"
    }
   ],
   "source": [
    "# Plto with the correctly splits\n",
    "plt.figure(figsize=(10, 7))\n",
    "plt.scatter(X_train, y_train, s=5, label='Train data')\n",
    "plt.scatter(X_test, y_test, s=5, label='Test data')\n",
    "plt.xlabel('Data')\n",
    "plt.ylabel('BTC Price')\n",
    "plt.legend(fontsize=14)\n",
    "plt.show()"
   ]
  },
  {
   "cell_type": "markdown",
   "id": "864cc198",
   "metadata": {},
   "source": [
    "## Create a plotting function"
   ]
  },
  {
   "cell_type": "code",
   "execution_count": 14,
   "id": "4289393c",
   "metadata": {},
   "outputs": [],
   "source": [
    "# Create a function to plot time series data\n",
    "def plot_time_series(timesteps, values, format=\".\", start=0, end=None, label=None):\n",
    "    \"\"\"\n",
    "    Plots timesteps (a series of points in time) against values (a series of values across timesteps).\n",
    "\n",
    "    Parameters:\n",
    "    -----------\n",
    "    timesteps: array of timestep values\n",
    "    values: array of values across time\n",
    "    format: style of plot, default \".\"\n",
    "    start: where to start the plot (setting a value will index from start of timesteps and values)\n",
    "    end: where to end the plot\n",
    "    label: label to show on plot about values\n",
    "    \"\"\"\n",
    "    # Plot the series\n",
    "    plt.plot(timesteps[start:end], values[start:end], format, label=label)\n",
    "    plt.xlabel(\"Time\")\n",
    "    plt.ylabel(\"BTC Price\")\n",
    "    if label:\n",
    "        plt.legend(fontsize=14)\n",
    "    plt.grid(True)"
   ]
  },
  {
   "cell_type": "code",
   "execution_count": 15,
   "id": "8a5a9712",
   "metadata": {},
   "outputs": [
    {
     "data": {
      "image/png": "[encoded data removed]",
      "text/plain": [
       "<Figure size 1000x700 with 1 Axes>"
      ]
     },
     "metadata": {},
     "output_type": "display_data"
    }
   ],
   "source": [
    "# Test out plotting function\n",
    "plt.figure(figsize=(10, 7))\n",
    "plot_time_series(timesteps=X_train, values=y_train, label=\"Train data\")\n",
    "plot_time_series(timesteps=X_test, values=y_test, label=\"Test data\")"
   ]
  },
  {
   "cell_type": "markdown",
   "id": "d35ca8ea",
   "metadata": {},
   "source": [
    "## Modelling Experiments\n",
    "\n",
    "We have got some Bitcoin historical data, to model it, let's run a series of modelling experiments and see which model performs best.\n",
    "\n",
    "Terms to be familiar with:\n",
    "\n",
    "* **Horizon** = number of timesteps into the future we are going to predict\n",
    "* **Window size** = number of timesteps we are going to use to predict **horizon**\n",
    "\n",
    "Modelling experiments we are running:\n",
    "\n",
    "1. Naïve model (baseline)\n",
    "2. Dense Model, horizon = 1, window = 7\n",
    "3. Dense Model, horizon = 1, window = 30\n",
    "4. Dense Model, horizon = 7, window = 30\n",
    "5. Conv1D\n",
    "6. LSTM\n",
    "7. Dense Model, horizon = 1, window = 7 (but with multivariate data)\n",
    "8. N-BEATs Algorithm\n",
    "9. Ensemble (multiple models optimized stacked together)\n",
    "10. Future prediction model\n",
    "11. Dense Model (but with turkey data introduced) "
   ]
  },
  {
   "cell_type": "markdown",
   "id": "fc58f85b",
   "metadata": {},
   "source": [
    "## Model 0: Naive forecast (baseline)\n",
    "\n",
    "The formula looks like this:\n",
    "\n",
    "$$\\hat{y}_{t} = y_{t-1}$$\n",
    "\n",
    "In English:\n",
    "\n",
    "> The prediction at timestep t (y-hat) is equal to the value at timestep t-1 (previous step) - this is for horizon of 1."
   ]
  },
  {
   "cell_type": "code",
   "execution_count": 16,
   "id": "66850391",
   "metadata": {},
   "outputs": [
    {
     "data": {
      "text/plain": [
       "(array([9226.48582088, 8794.35864452, 8798.04205463, 9081.18687849,\n",
       "        8711.53433917, 8760.89271814, 8749.52059102, 8656.97092235,\n",
       "        8500.64355816, 8469.2608989 ]),\n",
       " array([57107.12067189, 58788.20967893, 58102.19142623, 55715.54665129,\n",
       "        56573.5554719 , 52147.82118698, 49764.1320816 , 50032.69313676,\n",
       "        47885.62525472, 45604.61575361]))"
      ]
     },
     "execution_count": 16,
     "metadata": {},
     "output_type": "execute_result"
    }
   ],
   "source": [
    "# Create a naive forecast\n",
    "naive_forecast = y_test[:-1]\n",
    "\n",
    "naive_forecast[:10], naive_forecast[-10:]"
   ]
  },
  {
   "cell_type": "code",
   "execution_count": 17,
   "id": "f978017f",
   "metadata": {},
   "outputs": [
    {
     "data": {
      "image/png": "[encoded data removed]",
      "text/plain": [
       "<Figure size 1000x700 with 1 Axes>"
      ]
     },
     "metadata": {},
     "output_type": "display_data"
    }
   ],
   "source": [
    "# Plot naive forecast\n",
    "plt.figure(figsize=(10, 7))\n",
    "plot_time_series(timesteps=X_train, values=y_train, label=\"Train data\")\n",
    "plot_time_series(timesteps=X_test, values=y_test, label=\"Test data\")\n",
    "plot_time_series(timesteps=X_test[1:], values=naive_forecast, format=\"-\", label=\"Naive Forecast\")"
   ]
  },
  {
   "cell_type": "markdown",
   "id": "aa45efec",
   "metadata": {},
   "source": [
    "## Evaluating a time series model\n",
    "\n",
    "Let's look into some evaluation metrics for time series forecasting.\n",
    "\n",
    "What are we doing? We are predicting a number, so that means we have a form of a regression problem.\n",
    "\n",
    "Because we are working on a regression problem, we will need some regression-like metrics.\n",
    "\n",
    "A few common regression metrics which can also be used for time series forecasting:\n",
    "\n",
    "* MAE - mean absolute error\n",
    "* MSE - mean squared error\n",
    "* RMSE - root mean square error\n",
    "* MAPE - mean absolute percentage error\n",
    "* MASE - mean absolute scaled error\n",
    "\n",
    "For all the above metrics, **lower is better**.\n",
    "\n",
    "The main thing we are evaluating here is: **how do our model's forecast (y_pred) compare against the actual values (y_true or ground truth values)?** "
   ]
  },
  {
   "cell_type": "code",
   "execution_count": 18,
   "id": "42bb23f5",
   "metadata": {},
   "outputs": [],
   "source": [
    "import tensorflow as tf"
   ]
  },
  {
   "cell_type": "code",
   "execution_count": 19,
   "id": "ae9e9f59",
   "metadata": {},
   "outputs": [],
   "source": [
    "# MASE implementation\n",
    "def mean_absolute_scaled_error(y_true, y_pred):\n",
    "    \"\"\"\n",
    "    Implement MASE (assuming no seasonality of data).\n",
    "    \"\"\"\n",
    "    mae = tf.reduce_mean(tf.abs(y_true - y_pred))\n",
    "\n",
    "    # Find MAE of naive forecast (no seasonality)\n",
    "    mae_naive_no_season = tf.reduce_mean(tf.abs(y_true[1:] - y_true[:-1])) # our seasonality is 1 day (hence the shift of 1)\n",
    "\n",
    "    return mae / mae_naive_no_season"
   ]
  },
  {
   "cell_type": "code",
   "execution_count": 20,
   "id": "0d85bb57",
   "metadata": {},
   "outputs": [
    {
     "data": {
      "text/plain": [
       "0.9995699939182624"
      ]
     },
     "execution_count": 20,
     "metadata": {},
     "output_type": "execute_result"
    }
   ],
   "source": [
    "mean_absolute_scaled_error(y_true=y_test[1:], y_pred=naive_forecast).numpy()"
   ]
  },
  {
   "cell_type": "code",
   "execution_count": 21,
   "id": "a06fe4df",
   "metadata": {},
   "outputs": [],
   "source": [
    "# Create a function to take in model predictions and truth values and return evaluation metrics\n",
    "def evaluate_preds(y_true, y_pred):\n",
    "    # Make sure float32 datatype (for metric calculation)\n",
    "    y_true = tf.cast(y_true, dtype=tf.float32)\n",
    "    y_pred = tf.cast(y_pred, dtype=tf.float32)\n",
    "\n",
    "    # Calculate various evaluation metrics\n",
    "    mae = tf.keras.metrics.mean_absolute_error(y_true, y_pred)\n",
    "    mse = tf.keras.metrics.mean_squared_error(y_true, y_pred)\n",
    "    rmse = tf.sqrt(mse)\n",
    "    mape = tf.keras.metrics.mean_absolute_percentage_error(y_true, y_pred)\n",
    "    mase = mean_absolute_scaled_error(y_true, y_pred)\n",
    "\n",
    "    return {\n",
    "        \"mae\": mae.numpy(),\n",
    "        \"mse\": mse.numpy(),\n",
    "        \"rmse\": rmse.numpy(),\n",
    "        \"mape\": mape.numpy(),\n",
    "        \"mase\": mase.numpy()\n",
    "    }"
   ]
  },
  {
   "cell_type": "code",
   "execution_count": 22,
   "id": "5702372e",
   "metadata": {},
   "outputs": [
    {
     "data": {
      "text/plain": [
       "{'mae': 567.9802,\n",
       " 'mse': 1147547.0,\n",
       " 'rmse': 1071.2362,\n",
       " 'mape': 2.516525,\n",
       " 'mase': 0.99957}"
      ]
     },
     "execution_count": 22,
     "metadata": {},
     "output_type": "execute_result"
    }
   ],
   "source": [
    "# Let's now see if it works\n",
    "naive_results = evaluate_preds(y_true=y_test[1:],\n",
    "                               y_pred=naive_forecast)\n",
    "naive_results"
   ]
  },
  {
   "cell_type": "code",
   "execution_count": 23,
   "id": "5990a758",
   "metadata": {},
   "outputs": [
    {
     "data": {
      "text/plain": [
       "<tf.Tensor: shape=(), dtype=float64, numpy=20056.632963737222>"
      ]
     },
     "execution_count": 23,
     "metadata": {},
     "output_type": "execute_result"
    }
   ],
   "source": [
    "tf.reduce_mean(y_test)"
   ]
  },
  {
   "cell_type": "code",
   "execution_count": 24,
   "id": "10a3612b",
   "metadata": {},
   "outputs": [
    {
     "data": {
      "text/plain": [
       "(<tf.Tensor: shape=(), dtype=float64, numpy=4944.7023359837>,\n",
       " <tf.Tensor: shape=(), dtype=float64, numpy=63346.7890351052>)"
      ]
     },
     "execution_count": 24,
     "metadata": {},
     "output_type": "execute_result"
    }
   ],
   "source": [
    "tf.reduce_min(y_test), tf.reduce_max(y_test)"
   ]
  },
  {
   "cell_type": "markdown",
   "id": "86f95069",
   "metadata": {},
   "source": [
    "## Others Models for Time Series Forecasting\n",
    "\n",
    "In this notebook we are going to use only neural networks for time series forecasting, but there are a plenty of models used in the industry or as a baseline model you can use."
   ]
  },
  {
   "attachments": {
    "image.png": {
     "image/png": "[encoded data removed]"
    }
   },
   "cell_type": "markdown",
   "id": "c393aa09",
   "metadata": {},
   "source": [
    "![image.png](attachment:image.png)"
   ]
  },
  {
   "cell_type": "markdown",
   "id": "21c7fa33",
   "metadata": {},
   "source": [
    "## Format Data Part 2: Windowing our dataset\n",
    "\n",
    "Why do we window?\n",
    "\n",
    "We window our time series dataset to turn our data into a supervised learning problem.\n",
    "\n",
    "```\n",
    "Windowing for one week\n",
    "[0, 1, 2, 3, 4, 5, 6] --> [7]\n",
    "[1, 2, 3, 4, 5, 6, 7] --> [8]\n",
    "[2, 3, 4, 5, 6, 7, 8] --> [9]\n",
    "```"
   ]
  },
  {
   "cell_type": "code",
   "execution_count": 25,
   "id": "8b6f42f1",
   "metadata": {},
   "outputs": [
    {
     "data": {
      "text/plain": [
       "2229"
      ]
     },
     "execution_count": 25,
     "metadata": {},
     "output_type": "execute_result"
    }
   ],
   "source": [
    "len(y_train)"
   ]
  },
  {
   "cell_type": "code",
   "execution_count": 26,
   "id": "1b9651aa",
   "metadata": {},
   "outputs": [
    {
     "name": "stdout",
     "output_type": "stream",
     "text": [
      "We want to use: [123.65499, 125.455, 108.58483, 118.67466, 121.33866, 120.65533, 121.795] to predict this: 123.033\n"
     ]
    }
   ],
   "source": [
    "# What we want to do with our Bitcoin data\n",
    "print(f\"We want to use: {btc_price[:7]} to predict this: {btc_price[7]}\")"
   ]
  },
  {
   "cell_type": "code",
   "execution_count": 27,
   "id": "17089829",
   "metadata": {},
   "outputs": [],
   "source": [
    "# Let's setup global variables for window and horizon size\n",
    "HORIZON = 1 # predict next 1 day\n",
    "WINDOW_SIZE = 7 # use the past week of Bitcoin data to make the prediction"
   ]
  },
  {
   "cell_type": "code",
   "execution_count": 28,
   "id": "4e6e7d48",
   "metadata": {},
   "outputs": [],
   "source": [
    "# Create function to label window data\n",
    "def get_labelled_windows(x, horizon=HORIZON):\n",
    "    \"\"\"\n",
    "    Creates labels for windowed dataset.\n",
    "\n",
    "    E.g. if horizon = 1 --> Input: [0, 1, 2, 3, 4, 5, 6, 7] --> Output: ([0, 1, 2, 3, 4, 5, 6, 7], [7])\n",
    "    \"\"\"\n",
    "    return x[:, :-horizon], x[:, -horizon:]"
   ]
  },
  {
   "cell_type": "code",
   "execution_count": 29,
   "id": "6dcfa33b",
   "metadata": {},
   "outputs": [
    {
     "name": "stdout",
     "output_type": "stream",
     "text": [
      "Window: [0 1 2 3 4 5 6] -> Label: 7\n"
     ]
    }
   ],
   "source": [
    "# Test out the window labelling function\n",
    "test_window, test_label = get_labelled_windows(tf.expand_dims(tf.range(8), axis = 0))\n",
    "print(f\"Window: {tf.squeeze(test_window).numpy()} -> Label: {tf.squeeze(test_label).numpy()}\")"
   ]
  },
  {
   "cell_type": "markdown",
   "id": "0d51bd96",
   "metadata": {},
   "source": [
    "We have got a way to label our windowed data.\n",
    "\n",
    "However, this only works on a small scale.\n",
    "\n",
    "We need a way to do the above across our entire time series.\n",
    "\n",
    "We could do this with Python for loops, however, for large time series, that'd be quite slow.\n",
    "\n",
    "To speed things up, we will leverage NumPy's array indexing.\n",
    "\n",
    "Our function will:\n",
    "1. Create a window step of specific window size.\n",
    "2. It will numpy indexing to create a 2D array of multiple window steps, for example:\n",
    "```\n",
    "[\n",
    "    [0, 1, 2, 3, 4, 5, 6],\n",
    "    [1, 2, 3, 4, 5, 6, 7],\n",
    "    [2, 3, 4, 5, 6, 7, 8]\n",
    "]\n",
    "```\n",
    "3. Uses the 2D array of multiple window steps (from 2.) to index on a target series.\n",
    "4. Uses our `get_labelled_windows()` function we created above to turn the window steps into windows with specified horizon."
   ]
  },
  {
   "cell_type": "code",
   "execution_count": 30,
   "id": "83361e19",
   "metadata": {},
   "outputs": [],
   "source": [
    "import numpy as np\n",
    "\n",
    "# Create function to view NumPy arrays as windows\n",
    "def make_windows(x, window_size=WINDOW_SIZE, horizon=HORIZON):\n",
    "    \"\"\"\n",
    "    Turns a 1D into a 2D array of sequential labelled windows of window_size with horizon size labels.\n",
    "    \"\"\"\n",
    "    # 1. Create a window of specific window_size (add the horzion on the end for labelling later)\n",
    "    window_step = np.expand_dims(np.arange(window_size + horizon), axis=0)\n",
    "\n",
    "    # 2. Create a 2D array of multiple window steps (minus 1 to account for 0 indexing)\n",
    "    window_indexes = window_step + np.expand_dims(np.arange(len(x) - (window_size + horizon - 1)), axis=0).T # create 2D array of windows of size window_siz\n",
    "\n",
    "    # 3. Index on the target array (a time series) with 2D array of multiple window steps\n",
    "    windowed_array = x[window_indexes]\n",
    "\n",
    "    # 4. Get the labelled windows\n",
    "    windows, labels = get_labelled_windows(windowed_array, horizon=horizon)\n",
    "\n",
    "    return windows, labels"
   ]
  },
  {
   "cell_type": "code",
   "execution_count": 31,
   "id": "232bacdc",
   "metadata": {},
   "outputs": [
    {
     "data": {
      "text/plain": [
       "(2780, 2780)"
      ]
     },
     "execution_count": 31,
     "metadata": {},
     "output_type": "execute_result"
    }
   ],
   "source": [
    "full_windows, full_labels = make_windows(prices, window_size=WINDOW_SIZE, horizon=HORIZON)\n",
    "len(full_windows), len(full_labels)"
   ]
  },
  {
   "cell_type": "code",
   "execution_count": 32,
   "id": "cdbdb2e9",
   "metadata": {},
   "outputs": [
    {
     "name": "stdout",
     "output_type": "stream",
     "text": [
      "Window: [123.65499 125.455   108.58483 118.67466 121.33866 120.65533 121.795  ] -> Label: [123.033]\n",
      "Window: [125.455   108.58483 118.67466 121.33866 120.65533 121.795   123.033  ] -> Label: [124.049]\n",
      "Window: [108.58483 118.67466 121.33866 120.65533 121.795   123.033   124.049  ] -> Label: [125.96116]\n"
     ]
    }
   ],
   "source": [
    "# View the first 3 windows/labels\n",
    "for i in range(3):\n",
    "    print(f'Window: {full_windows[i]} -> Label: {full_labels[i]}')"
   ]
  },
  {
   "cell_type": "code",
   "execution_count": 33,
   "id": "59151d16",
   "metadata": {},
   "outputs": [
    {
     "name": "stdout",
     "output_type": "stream",
     "text": [
      "Window: [58788.20967893 58102.19142623 55715.54665129 56573.5554719\n",
      " 52147.82118698 49764.1320816  50032.69313676] -> Label: [47885.62525472]\n",
      "Window: [58102.19142623 55715.54665129 56573.5554719  52147.82118698\n",
      " 49764.1320816  50032.69313676 47885.62525472] -> Label: [45604.61575361]\n",
      "Window: [55715.54665129 56573.5554719  52147.82118698 49764.1320816\n",
      " 50032.69313676 47885.62525472 45604.61575361] -> Label: [43144.47129086]\n"
     ]
    }
   ],
   "source": [
    "# View the last 3 windows/labels\n",
    "for i in range(3):\n",
    "    print(f'Window: {full_windows[i-3]} -> Label: {full_labels[i-3]}')"
   ]
  },
  {
   "cell_type": "markdown",
   "id": "1b663e8c",
   "metadata": {},
   "source": [
    "## Turning windows into training and test sets"
   ]
  },
  {
   "cell_type": "code",
   "execution_count": 34,
   "id": "9f0fcf2b",
   "metadata": {},
   "outputs": [],
   "source": [
    "# Make the train/test splits\n",
    "def make_train_test_splits(windows, labels, test_split=0.2):\n",
    "    \"\"\"\n",
    "    Splits matching pairs of windows and labels into train an test splits.\n",
    "    \"\"\"\n",
    "    splits_size = int(len(windows) * (1 - test_split)) # this will default 80% train / 20% test\n",
    "    train_windows = windows[:split_size]\n",
    "    train_labels = labels[:split_size]\n",
    "    test_windows = windows[split_size:]\n",
    "    test_labels = labels[split_size:]\n",
    "    return train_windows, test_windows, train_labels, test_labels"
   ]
  },
  {
   "cell_type": "code",
   "execution_count": 35,
   "id": "bef31773",
   "metadata": {},
   "outputs": [
    {
     "data": {
      "text/plain": [
       "(2229, 551, 2229, 551)"
      ]
     },
     "execution_count": 35,
     "metadata": {},
     "output_type": "execute_result"
    }
   ],
   "source": [
    "train_windows, test_windows, train_labels, test_labels = make_train_test_splits(full_windows, full_labels)\n",
    "len(train_windows), len(test_windows), len(train_labels), len(test_labels)"
   ]
  },
  {
   "cell_type": "code",
   "execution_count": 36,
   "id": "d76eb571",
   "metadata": {},
   "outputs": [
    {
     "data": {
      "text/plain": [
       "True"
      ]
     },
     "execution_count": 36,
     "metadata": {},
     "output_type": "execute_result"
    }
   ],
   "source": [
    "np.array_equal(np.squeeze(train_labels[:-HORIZON-6]), y_train[WINDOW_SIZE:])"
   ]
  },
  {
   "cell_type": "markdown",
   "id": "31d4b47c",
   "metadata": {},
   "source": [
    "## Make a modelling checkpoint callback\n",
    "\n",
    "Because our model's performance will fluctuate from experiment to experiment, we're going to write a model checkpoint so we can compare apples to apples.\n",
    "\n",
    "More specifically, we want to compare each of our model's best performances against the other model's best performances.\n",
    "\n",
    "For example if our model performs the best on epoch 55 (but we are training for 100 epochs), we want to load and evaluate the model saved on epoch 55.\n",
    "\n",
    "We can create modelling checkpoint callback using the following: https://www.tensorflow.org/api_docs/python/tf/keras/callbacks/ModelCheckpoint"
   ]
  },
  {
   "cell_type": "code",
   "execution_count": 37,
   "id": "5fe80ecc",
   "metadata": {},
   "outputs": [],
   "source": [
    "import os\n",
    "\n",
    "# Create a function to implement a ModelCheckpoint callback with a specific filename\n",
    "def create_model_checkpoint(model_name, save_path='model_experiments'):\n",
    "    return tf.keras.callbacks.ModelCheckpoint(filepath=os.path.join(save_path, model_name),\n",
    "                                              monitor='val_loss',\n",
    "                                              verbose=0, # only output a limited amount of text\n",
    "                                              save_best_only=True)"
   ]
  },
  {
   "cell_type": "markdown",
   "id": "4f378620",
   "metadata": {},
   "source": [
    "## Model 1: Dense Model (window = 7, horizon = 1)\n",
    "\n",
    "Our first deep model is going to be a simple dense model:\n",
    "\n",
    "* A single dense layer with 128 hidden units and ReLU\n",
    "* An output layer with linear activation (no activation)\n",
    "* Adam optimization and MAE loss function\n",
    "* Batch size of 128 (previously we have used 32)\n",
    "* 100 epochs\n",
    "\n",
    "Why these values?\n",
    "\n",
    "I picked them out of experimentation."
   ]
  },
  {
   "cell_type": "code",
   "execution_count": 38,
   "id": "2ee5065e",
   "metadata": {},
   "outputs": [
    {
     "name": "stdout",
     "output_type": "stream",
     "text": [
      "Epoch 1/100\n",
      "17/18 [===========================>..] - ETA: 0s - loss: 2097.6863 - mae: 2097.6863 - mse: 13688776.0000INFO:tensorflow:Assets written to: model_experiments\\model_1_dense\\assets\n",
      "18/18 [==============================] - 7s 96ms/step - loss: 2055.4746 - mae: 2055.4746 - mse: 13373038.0000 - val_loss: 1253.2137 - val_mae: 1253.2137 - val_mse: 5186966.0000\n",
      "Epoch 2/100\n",
      "18/18 [==============================] - 0s 14ms/step - loss: 406.6862 - mae: 406.6862 - mse: 626928.6250 - val_loss: 2147.9023 - val_mae: 2147.9023 - val_mse: 10800362.0000\n",
      "Epoch 3/100\n",
      "17/18 [===========================>..] - ETA: 0s - loss: 272.5115 - mae: 272.5115 - mse: 329454.2500INFO:tensorflow:Assets written to: model_experiments\\model_1_dense\\assets\n",
      "18/18 [==============================] - 1s 64ms/step - loss: 271.0952 - mae: 271.0952 - mse: 325698.4375 - val_loss: 1192.0273 - val_mae: 1192.0273 - val_mse: 4625422.0000\n",
      "Epoch 4/100\n",
      "10/18 [===============>..............] - ETA: 0s - loss: 213.1983 - mae: 213.1983 - mse: 237142.5312INFO:tensorflow:Assets written to: model_experiments\\model_1_dense\\assets\n",
      "18/18 [==============================] - 1s 70ms/step - loss: 213.8335 - mae: 213.8335 - mse: 233913.4531 - val_loss: 1166.8690 - val_mae: 1166.8690 - val_mse: 4459018.0000\n",
      "Epoch 5/100\n",
      " 8/18 [============>.................] - ETA: 0s - loss: 220.6254 - mae: 220.6254 - mse: 240981.7812INFO:tensorflow:Assets written to: model_experiments\\model_1_dense\\assets\n",
      "18/18 [==============================] - 1s 54ms/step - loss: 208.7576 - mae: 208.7576 - mse: 224182.4062 - val_loss: 1154.7324 - val_mae: 1154.7324 - val_mse: 4319257.0000\n",
      "Epoch 6/100\n",
      "10/18 [===============>..............] - ETA: 0s - loss: 195.3431 - mae: 195.3431 - mse: 204639.4531INFO:tensorflow:Assets written to: model_experiments\\model_1_dense\\assets\n",
      "18/18 [==============================] - 1s 58ms/step - loss: 201.6721 - mae: 201.6721 - mse: 212438.1250 - val_loss: 1135.2273 - val_mae: 1135.2273 - val_mse: 4159241.2500\n",
      "Epoch 7/100\n",
      "18/18 [==============================] - 0s 12ms/step - loss: 198.3418 - mae: 198.3418 - mse: 205047.8281 - val_loss: 1142.6162 - val_mae: 1142.6162 - val_mse: 4074442.0000\n",
      "Epoch 8/100\n",
      "10/18 [===============>..............] - ETA: 0s - loss: 201.8841 - mae: 201.8841 - mse: 231473.2188INFO:tensorflow:Assets written to: model_experiments\\model_1_dense\\assets\n",
      "18/18 [==============================] - 1s 57ms/step - loss: 193.8975 - mae: 193.8975 - mse: 196919.6719 - val_loss: 1079.2582 - val_mae: 1079.2582 - val_mse: 3796182.7500\n",
      "Epoch 9/100\n",
      "18/18 [==============================] - 0s 9ms/step - loss: 189.2638 - mae: 189.2638 - mse: 187953.3125 - val_loss: 1146.1147 - val_mae: 1146.1147 - val_mse: 3876097.7500\n",
      "Epoch 10/100\n",
      "12/18 [===================>..........] - ETA: 0s - loss: 178.3163 - mae: 178.3163 - mse: 165758.4219INFO:tensorflow:Assets written to: model_experiments\\model_1_dense\\assets\n",
      "18/18 [==============================] - 1s 55ms/step - loss: 184.3800 - mae: 184.3800 - mse: 175978.2031 - val_loss: 1012.0584 - val_mae: 1012.0584 - val_mse: 3343756.2500\n",
      "Epoch 11/100\n",
      " 9/18 [==============>...............] - ETA: 0s - loss: 175.4148 - mae: 175.4148 - mse: 156744.6875INFO:tensorflow:Assets written to: model_experiments\\model_1_dense\\assets\n",
      "18/18 [==============================] - 1s 57ms/step - loss: 180.3561 - mae: 180.3561 - mse: 171002.2500 - val_loss: 1000.6080 - val_mae: 1000.6080 - val_mse: 3207603.5000\n",
      "Epoch 12/100\n",
      "18/18 [==============================] - ETA: 0s - loss: 177.0085 - mae: 177.0085 - mse: 163578.5625INFO:tensorflow:Assets written to: model_experiments\\model_1_dense\\assets\n",
      "18/18 [==============================] - 1s 58ms/step - loss: 177.0085 - mae: 177.0085 - mse: 163578.5625 - val_loss: 979.6849 - val_mae: 979.6849 - val_mse: 3061168.0000\n",
      "Epoch 13/100\n",
      "18/18 [==============================] - 0s 9ms/step - loss: 170.4398 - mae: 170.4398 - mse: 154105.0156 - val_loss: 980.4429 - val_mae: 980.4429 - val_mse: 2973397.2500\n",
      "Epoch 14/100\n",
      "18/18 [==============================] - 0s 10ms/step - loss: 164.0121 - mae: 164.0121 - mse: 144699.8594 - val_loss: 992.6623 - val_mae: 992.6623 - val_mse: 2928708.0000\n",
      "Epoch 15/100\n",
      "18/18 [==============================] - ETA: 0s - loss: 161.2773 - mae: 161.2773 - mse: 139568.0469INFO:tensorflow:Assets written to: model_experiments\\model_1_dense\\assets\n",
      "18/18 [==============================] - 1s 58ms/step - loss: 161.2773 - mae: 161.2773 - mse: 139568.0469 - val_loss: 890.9593 - val_mae: 890.9593 - val_mse: 2601600.2500\n",
      "Epoch 16/100\n",
      "11/18 [=================>............] - ETA: 0s - loss: 162.0014 - mae: 162.0014 - mse: 128102.1484INFO:tensorflow:Assets written to: model_experiments\\model_1_dense\\assets\n",
      "18/18 [==============================] - 1s 58ms/step - loss: 163.1842 - mae: 163.1842 - mse: 138291.3594 - val_loss: 869.3243 - val_mae: 869.3243 - val_mse: 2489335.0000\n",
      "Epoch 17/100\n",
      " 9/18 [==============>...............] - ETA: 0s - loss: 142.9622 - mae: 142.9622 - mse: 101932.8672INFO:tensorflow:Assets written to: model_experiments\\model_1_dense\\assets\n",
      "18/18 [==============================] - 1s 59ms/step - loss: 153.2403 - mae: 153.2403 - mse: 127056.7969 - val_loss: 849.2928 - val_mae: 849.2928 - val_mse: 2382892.2500\n",
      "Epoch 18/100\n",
      "12/18 [===================>..........] - ETA: 0s - loss: 151.3910 - mae: 151.3910 - mse: 120090.0703INFO:tensorflow:Assets written to: model_experiments\\model_1_dense\\assets\n",
      "18/18 [==============================] - 1s 59ms/step - loss: 151.6077 - mae: 151.6077 - mse: 122484.9062 - val_loss: 832.2798 - val_mae: 832.2798 - val_mse: 2237613.2500\n",
      "Epoch 19/100\n",
      "18/18 [==============================] - ETA: 0s - loss: 144.6636 - mae: 144.6636 - mse: 115789.4922INFO:tensorflow:Assets written to: model_experiments\\model_1_dense\\assets\n",
      "18/18 [==============================] - 1s 56ms/step - loss: 144.6636 - mae: 144.6636 - mse: 115789.4922 - val_loss: 827.1256 - val_mae: 827.1256 - val_mse: 2156833.5000\n",
      "Epoch 20/100\n",
      "18/18 [==============================] - 0s 10ms/step - loss: 141.5410 - mae: 141.5410 - mse: 110953.3828 - val_loss: 827.6097 - val_mae: 827.6097 - val_mse: 2104572.7500\n",
      "Epoch 21/100\n",
      "10/18 [===============>..............] - ETA: 0s - loss: 137.6729 - mae: 137.6729 - mse: 107861.7734INFO:tensorflow:Assets written to: model_experiments\\model_1_dense\\assets\n",
      "18/18 [==============================] - 1s 62ms/step - loss: 140.3423 - mae: 140.3423 - mse: 107558.0781 - val_loss: 768.3517 - val_mae: 768.3517 - val_mse: 1936110.7500\n",
      "Epoch 22/100\n",
      "18/18 [==============================] - 0s 11ms/step - loss: 136.2673 - mae: 136.2673 - mse: 103167.2578 - val_loss: 797.8801 - val_mae: 797.8801 - val_mse: 1945435.7500\n",
      "Epoch 23/100\n",
      "18/18 [==============================] - ETA: 0s - loss: 140.7045 - mae: 140.7045 - mse: 100777.5547INFO:tensorflow:Assets written to: model_experiments\\model_1_dense\\assets\n",
      "18/18 [==============================] - 1s 67ms/step - loss: 140.7045 - mae: 140.7045 - mse: 100777.5547 - val_loss: 746.0809 - val_mae: 746.0809 - val_mse: 1796275.8750\n",
      "Epoch 24/100\n",
      "18/18 [==============================] - 0s 10ms/step - loss: 131.9337 - mae: 131.9337 - mse: 96487.0703 - val_loss: 815.0347 - val_mae: 815.0347 - val_mse: 1943962.5000\n",
      "Epoch 25/100\n",
      "18/18 [==============================] - 0s 13ms/step - loss: 134.6873 - mae: 134.6873 - mse: 99269.1719 - val_loss: 830.1509 - val_mae: 830.1509 - val_mse: 1979817.6250\n",
      "Epoch 26/100\n",
      "18/18 [==============================] - 0s 11ms/step - loss: 132.7894 - mae: 132.7894 - mse: 96503.8906 - val_loss: 804.6653 - val_mae: 804.6653 - val_mse: 1886064.3750\n",
      "Epoch 27/100\n",
      "18/18 [==============================] - 0s 10ms/step - loss: 133.0229 - mae: 133.0229 - mse: 98146.8828 - val_loss: 911.3145 - val_mae: 911.3145 - val_mse: 2243562.7500\n",
      "Epoch 28/100\n",
      "18/18 [==============================] - 0s 9ms/step - loss: 136.3601 - mae: 136.3601 - mse: 98681.0625 - val_loss: 818.2922 - val_mae: 818.2922 - val_mse: 1908215.3750\n",
      "Epoch 29/100\n",
      "18/18 [==============================] - 0s 7ms/step - loss: 131.7297 - mae: 131.7297 - mse: 93103.0312 - val_loss: 844.6820 - val_mae: 844.6820 - val_mse: 1989920.2500\n",
      "Epoch 30/100\n",
      "11/18 [=================>............] - ETA: 0s - loss: 133.8396 - mae: 133.8396 - mse: 93386.9453INFO:tensorflow:Assets written to: model_experiments\\model_1_dense\\assets\n",
      "18/18 [==============================] - 1s 61ms/step - loss: 129.9554 - mae: 129.9554 - mse: 91975.0156 - val_loss: 725.2175 - val_mae: 725.2175 - val_mse: 1622337.2500\n",
      "Epoch 31/100\n",
      "17/18 [===========================>..] - ETA: 0s - loss: 124.2790 - mae: 124.2790 - mse: 85173.1484INFO:tensorflow:Assets written to: model_experiments\\model_1_dense\\assets\n",
      "18/18 [==============================] - 1s 54ms/step - loss: 123.3699 - mae: 123.3699 - mse: 84193.5547 - val_loss: 664.6072 - val_mae: 664.6072 - val_mse: 1501003.6250\n",
      "Epoch 32/100\n",
      "18/18 [==============================] - 0s 10ms/step - loss: 121.7855 - mae: 121.7855 - mse: 84726.0391 - val_loss: 730.3681 - val_mae: 730.3681 - val_mse: 1619180.3750\n",
      "Epoch 33/100\n",
      "18/18 [==============================] - 0s 13ms/step - loss: 123.1000 - mae: 123.1000 - mse: 84780.5000 - val_loss: 670.0913 - val_mae: 670.0913 - val_mse: 1518830.6250\n",
      "Epoch 34/100\n",
      "18/18 [==============================] - 0s 10ms/step - loss: 130.6179 - mae: 130.6179 - mse: 90918.2891 - val_loss: 713.9827 - val_mae: 713.9827 - val_mse: 1656909.1250\n",
      "Epoch 35/100\n",
      "18/18 [==============================] - 0s 10ms/step - loss: 128.2854 - mae: 128.2854 - mse: 87292.6719 - val_loss: 755.8551 - val_mae: 755.8551 - val_mse: 1800240.3750\n",
      "Epoch 36/100\n",
      "13/18 [====================>.........] - ETA: 0s - loss: 122.0038 - mae: 122.0038 - mse: 84050.6562INFO:tensorflow:Assets written to: model_experiments\\model_1_dense\\assets\n",
      "18/18 [==============================] - 1s 54ms/step - loss: 123.0105 - mae: 123.0105 - mse: 84642.4766 - val_loss: 640.0637 - val_mae: 640.0637 - val_mse: 1406995.0000\n",
      "Epoch 37/100\n",
      "10/18 [===============>..............] - ETA: 0s - loss: 120.5105 - mae: 120.5105 - mse: 91426.7031INFO:tensorflow:Assets written to: model_experiments\\model_1_dense\\assets\n",
      "18/18 [==============================] - 1s 50ms/step - loss: 116.2698 - mae: 116.2698 - mse: 80363.5391 - val_loss: 634.1597 - val_mae: 634.1597 - val_mse: 1369498.5000\n",
      "Epoch 38/100\n",
      "18/18 [==============================] - 0s 7ms/step - loss: 116.7143 - mae: 116.7143 - mse: 79264.5781 - val_loss: 701.0688 - val_mae: 701.0688 - val_mse: 1522219.2500\n",
      "Epoch 39/100\n",
      " 9/18 [==============>...............] - ETA: 0s - loss: 119.3462 - mae: 119.3462 - mse: 76397.7656INFO:tensorflow:Assets written to: model_experiments\\model_1_dense\\assets\n",
      "18/18 [==============================] - 1s 55ms/step - loss: 118.4128 - mae: 118.4128 - mse: 81219.9375 - val_loss: 627.6215 - val_mae: 627.6215 - val_mse: 1361631.5000\n",
      "Epoch 40/100\n",
      "16/18 [=========================>....] - ETA: 0s - loss: 114.3272 - mae: 114.3272 - mse: 76583.2578INFO:tensorflow:Assets written to: model_experiments\\model_1_dense\\assets\n",
      "18/18 [==============================] - 1s 57ms/step - loss: 116.3885 - mae: 116.3885 - mse: 78625.5859 - val_loss: 625.5446 - val_mae: 625.5446 - val_mse: 1353274.5000\n",
      "Epoch 41/100\n",
      "18/18 [==============================] - 0s 12ms/step - loss: 115.8277 - mae: 115.8277 - mse: 78076.7266 - val_loss: 625.7510 - val_mae: 625.7510 - val_mse: 1351928.5000\n",
      "Epoch 42/100\n",
      "18/18 [==============================] - 0s 8ms/step - loss: 117.0250 - mae: 117.0250 - mse: 79899.7500 - val_loss: 708.0863 - val_mae: 708.0863 - val_mse: 1528616.2500\n",
      "Epoch 43/100\n",
      "11/18 [=================>............] - ETA: 0s - loss: 131.0089 - mae: 131.0089 - mse: 92949.7812INFO:tensorflow:Assets written to: model_experiments\\model_1_dense\\assets\n",
      "18/18 [==============================] - 1s 50ms/step - loss: 129.4388 - mae: 129.4388 - mse: 88885.5234 - val_loss: 619.9854 - val_mae: 619.9854 - val_mse: 1331810.8750\n",
      "Epoch 44/100\n",
      " 9/18 [==============>...............] - ETA: 0s - loss: 122.2977 - mae: 122.2977 - mse: 83157.0234INFO:tensorflow:Assets written to: model_experiments\\model_1_dense\\assets\n",
      "18/18 [==============================] - 1s 56ms/step - loss: 117.2209 - mae: 117.2209 - mse: 79317.6875 - val_loss: 612.2449 - val_mae: 612.2449 - val_mse: 1298751.1250\n",
      "Epoch 45/100\n",
      "18/18 [==============================] - 0s 9ms/step - loss: 113.6469 - mae: 113.6469 - mse: 76817.4922 - val_loss: 625.7467 - val_mae: 625.7467 - val_mse: 1323892.0000\n",
      "Epoch 46/100\n",
      "18/18 [==============================] - 0s 10ms/step - loss: 114.9290 - mae: 114.9290 - mse: 77892.6172 - val_loss: 649.0069 - val_mae: 649.0069 - val_mse: 1375553.0000\n",
      "Epoch 47/100\n",
      "18/18 [==============================] - 0s 10ms/step - loss: 117.0485 - mae: 117.0485 - mse: 77569.3438 - val_loss: 635.9719 - val_mae: 635.9719 - val_mse: 1369454.2500\n",
      "Epoch 48/100\n",
      " 7/18 [==========>...................] - ETA: 0s - loss: 117.2729 - mae: 117.2729 - mse: 72735.8203INFO:tensorflow:Assets written to: model_experiments\\model_1_dense\\assets\n",
      "18/18 [==============================] - 1s 55ms/step - loss: 115.9777 - mae: 115.9777 - mse: 80238.9609 - val_loss: 604.1927 - val_mae: 604.1927 - val_mse: 1275502.2500\n",
      "Epoch 49/100\n",
      "18/18 [==============================] - 0s 10ms/step - loss: 114.6637 - mae: 114.6637 - mse: 78025.6797 - val_loss: 752.9080 - val_mae: 752.9080 - val_mse: 1641117.1250\n",
      "Epoch 50/100\n",
      "18/18 [==============================] - 0s 10ms/step - loss: 120.3454 - mae: 120.3454 - mse: 82584.5625 - val_loss: 614.7018 - val_mae: 614.7018 - val_mse: 1307263.7500\n",
      "Epoch 51/100\n",
      "18/18 [==============================] - 0s 11ms/step - loss: 116.5057 - mae: 116.5057 - mse: 76630.3828 - val_loss: 620.0793 - val_mae: 620.0793 - val_mse: 1320969.6250\n",
      "Epoch 52/100\n",
      "18/18 [==============================] - 0s 11ms/step - loss: 113.2482 - mae: 113.2482 - mse: 76164.5859 - val_loss: 604.4956 - val_mae: 604.4956 - val_mse: 1278788.5000\n",
      "Epoch 53/100\n",
      "18/18 [==============================] - 0s 10ms/step - loss: 114.2667 - mae: 114.2667 - mse: 76539.7891 - val_loss: 714.9294 - val_mae: 714.9294 - val_mse: 1527668.6250\n",
      "Epoch 54/100\n",
      "18/18 [==============================] - 0s 11ms/step - loss: 117.5064 - mae: 117.5064 - mse: 76890.2969 - val_loss: 623.2289 - val_mae: 623.2289 - val_mse: 1325198.3750\n",
      "Epoch 55/100\n",
      "18/18 [==============================] - 0s 9ms/step - loss: 123.4255 - mae: 123.4255 - mse: 80949.7109 - val_loss: 616.7328 - val_mae: 616.7328 - val_mse: 1307647.3750\n",
      "Epoch 56/100\n",
      "18/18 [==============================] - 0s 10ms/step - loss: 114.3452 - mae: 114.3452 - mse: 75303.6719 - val_loss: 713.9431 - val_mae: 713.9431 - val_mse: 1581246.0000\n",
      "Epoch 57/100\n",
      "12/18 [===================>..........] - ETA: 0s - loss: 118.6269 - mae: 118.6269 - mse: 81745.6484INFO:tensorflow:Assets written to: model_experiments\\model_1_dense\\assets\n",
      "18/18 [==============================] - 1s 58ms/step - loss: 116.5683 - mae: 116.5683 - mse: 78484.2578 - val_loss: 596.4398 - val_mae: 596.4398 - val_mse: 1253503.7500\n",
      "Epoch 58/100\n",
      "18/18 [==============================] - 0s 10ms/step - loss: 116.3074 - mae: 116.3074 - mse: 76410.3281 - val_loss: 645.6534 - val_mae: 645.6534 - val_mse: 1353244.1250\n",
      "Epoch 59/100\n",
      "18/18 [==============================] - 0s 10ms/step - loss: 112.9242 - mae: 112.9242 - mse: 75544.0234 - val_loss: 605.3575 - val_mae: 605.3575 - val_mse: 1275350.6250\n",
      "Epoch 60/100\n",
      "12/18 [===================>..........] - ETA: 0s - loss: 114.6821 - mae: 114.6821 - mse: 72464.5859INFO:tensorflow:Assets written to: model_experiments\\model_1_dense\\assets\n",
      "18/18 [==============================] - 1s 68ms/step - loss: 117.0255 - mae: 117.0255 - mse: 76541.0312 - val_loss: 590.8091 - val_mae: 590.8091 - val_mse: 1234767.6250\n",
      "Epoch 61/100\n",
      "18/18 [==============================] - 0s 12ms/step - loss: 122.0903 - mae: 122.0903 - mse: 79083.8594 - val_loss: 677.9576 - val_mae: 677.9576 - val_mse: 1423945.2500\n",
      "Epoch 62/100\n",
      "18/18 [==============================] - 0s 11ms/step - loss: 123.1090 - mae: 123.1090 - mse: 83411.2969 - val_loss: 624.1284 - val_mae: 624.1284 - val_mse: 1300465.3750\n",
      "Epoch 63/100\n",
      "18/18 [==============================] - 0s 10ms/step - loss: 122.8726 - mae: 122.8726 - mse: 81128.2656 - val_loss: 706.2905 - val_mae: 706.2905 - val_mse: 1494459.6250\n",
      "Epoch 64/100\n",
      "11/18 [=================>............] - ETA: 0s - loss: 119.8387 - mae: 119.8387 - mse: 74815.7031INFO:tensorflow:Assets written to: model_experiments\\model_1_dense\\assets\n",
      "18/18 [==============================] - 1s 71ms/step - loss: 119.4740 - mae: 119.4740 - mse: 76350.3984 - val_loss: 589.4732 - val_mae: 589.4732 - val_mse: 1230923.7500\n",
      "Epoch 65/100\n",
      "18/18 [==============================] - 0s 11ms/step - loss: 110.3712 - mae: 110.3712 - mse: 74001.9219 - val_loss: 601.8101 - val_mae: 601.8101 - val_mse: 1248509.6250\n",
      "Epoch 66/100\n",
      "18/18 [==============================] - 0s 10ms/step - loss: 110.7362 - mae: 110.7362 - mse: 71907.8672 - val_loss: 605.7654 - val_mae: 605.7654 - val_mse: 1256427.0000\n",
      "Epoch 67/100\n",
      "14/18 [======================>.......] - ETA: 0s - loss: 105.3214 - mae: 105.3214 - mse: 65622.6719INFO:tensorflow:Assets written to: model_experiments\\model_1_dense\\assets\n",
      "18/18 [==============================] - 1s 53ms/step - loss: 110.7583 - mae: 110.7583 - mse: 74002.1406 - val_loss: 587.0449 - val_mae: 587.0449 - val_mse: 1217233.6250\n",
      "Epoch 68/100\n",
      "16/18 [=========================>....] - ETA: 0s - loss: 113.6336 - mae: 113.6336 - mse: 72123.0078INFO:tensorflow:Assets written to: model_experiments\\model_1_dense\\assets\n",
      "18/18 [==============================] - 1s 58ms/step - loss: 113.3509 - mae: 113.3509 - mse: 73747.9297 - val_loss: 583.6772 - val_mae: 583.6772 - val_mse: 1212785.1250\n",
      "Epoch 69/100\n",
      "18/18 [==============================] - 0s 12ms/step - loss: 112.3328 - mae: 112.3328 - mse: 73423.6953 - val_loss: 609.3497 - val_mae: 609.3497 - val_mse: 1261553.5000\n",
      "Epoch 70/100\n",
      "18/18 [==============================] - 0s 10ms/step - loss: 119.9865 - mae: 119.9865 - mse: 80877.5000 - val_loss: 651.1719 - val_mae: 651.1719 - val_mse: 1353470.0000\n",
      "Epoch 71/100\n",
      "18/18 [==============================] - 0s 9ms/step - loss: 120.4073 - mae: 120.4073 - mse: 78751.8438 - val_loss: 680.2344 - val_mae: 680.2344 - val_mse: 1422364.1250\n",
      "Epoch 72/100\n",
      "18/18 [==============================] - 0s 11ms/step - loss: 117.3624 - mae: 117.3624 - mse: 77245.1250 - val_loss: 603.2744 - val_mae: 603.2744 - val_mse: 1256452.1250\n",
      "Epoch 73/100\n",
      "18/18 [==============================] - 0s 10ms/step - loss: 112.9108 - mae: 112.9108 - mse: 75626.7656 - val_loss: 615.8556 - val_mae: 615.8556 - val_mse: 1274357.3750\n",
      "Epoch 74/100\n",
      "18/18 [==============================] - 0s 11ms/step - loss: 121.4360 - mae: 121.4360 - mse: 80274.1094 - val_loss: 672.5517 - val_mae: 672.5517 - val_mse: 1401849.3750\n",
      "Epoch 75/100\n",
      "18/18 [==============================] - 0s 11ms/step - loss: 115.6697 - mae: 115.6697 - mse: 75801.8906 - val_loss: 665.3784 - val_mae: 665.3784 - val_mse: 1408133.7500\n",
      "Epoch 76/100\n",
      "18/18 [==============================] - 0s 10ms/step - loss: 115.9636 - mae: 115.9636 - mse: 76750.2734 - val_loss: 609.0148 - val_mae: 609.0148 - val_mse: 1267191.6250\n",
      "Epoch 77/100\n",
      "18/18 [==============================] - 0s 11ms/step - loss: 112.8599 - mae: 112.8599 - mse: 73099.8359 - val_loss: 612.6022 - val_mae: 612.6022 - val_mse: 1264373.3750\n",
      "Epoch 78/100\n",
      "14/18 [======================>.......] - ETA: 0s - loss: 114.2792 - mae: 114.2792 - mse: 73475.9609INFO:tensorflow:Assets written to: model_experiments\\model_1_dense\\assets\n",
      "18/18 [==============================] - 1s 52ms/step - loss: 109.9881 - mae: 109.9881 - mse: 72214.7266 - val_loss: 581.6179 - val_mae: 581.6179 - val_mse: 1205297.7500\n",
      "Epoch 79/100\n",
      "18/18 [==============================] - 0s 10ms/step - loss: 112.9892 - mae: 112.9892 - mse: 74188.4141 - val_loss: 609.2692 - val_mae: 609.2692 - val_mse: 1256274.1250\n",
      "Epoch 80/100\n",
      "18/18 [==============================] - 0s 11ms/step - loss: 112.8751 - mae: 112.8751 - mse: 72111.0156 - val_loss: 662.6198 - val_mae: 662.6198 - val_mse: 1374478.0000\n",
      "Epoch 81/100\n",
      "18/18 [==============================] - 0s 10ms/step - loss: 113.4399 - mae: 113.4399 - mse: 76847.6641 - val_loss: 600.6543 - val_mae: 600.6543 - val_mse: 1245614.5000\n",
      "Epoch 82/100\n",
      "18/18 [==============================] - ETA: 0s - loss: 109.7254 - mae: 109.7254 - mse: 72624.0938INFO:tensorflow:Assets written to: model_experiments\\model_1_dense\\assets\n",
      "18/18 [==============================] - 1s 64ms/step - loss: 109.7254 - mae: 109.7254 - mse: 72624.0938 - val_loss: 577.0385 - val_mae: 577.0385 - val_mse: 1194442.8750\n",
      "Epoch 83/100\n",
      "18/18 [==============================] - 0s 10ms/step - loss: 109.1722 - mae: 109.1722 - mse: 71387.3359 - val_loss: 621.1944 - val_mae: 621.1944 - val_mse: 1280238.2500\n",
      "Epoch 84/100\n",
      "11/18 [=================>............] - ETA: 0s - loss: 113.4379 - mae: 113.4379 - mse: 80985.2031 INFO:tensorflow:Assets written to: model_experiments\\model_1_dense\\assets\n",
      "18/18 [==============================] - 1s 54ms/step - loss: 111.5072 - mae: 111.5072 - mse: 72772.1641 - val_loss: 576.5408 - val_mae: 576.5408 - val_mse: 1190560.0000\n",
      "Epoch 85/100\n",
      "18/18 [==============================] - 0s 11ms/step - loss: 109.4359 - mae: 109.4359 - mse: 72796.5156 - val_loss: 621.3770 - val_mae: 621.3770 - val_mse: 1279521.8750\n",
      "Epoch 86/100\n",
      "18/18 [==============================] - 0s 8ms/step - loss: 110.3940 - mae: 110.3940 - mse: 73039.2031 - val_loss: 589.7939 - val_mae: 589.7939 - val_mse: 1212022.2500\n",
      "Epoch 87/100\n",
      "18/18 [==============================] - 0s 10ms/step - loss: 109.5666 - mae: 109.5666 - mse: 72351.6094 - val_loss: 588.4812 - val_mae: 588.4812 - val_mse: 1216832.8750\n",
      "Epoch 88/100\n",
      "18/18 [==============================] - 0s 13ms/step - loss: 108.4021 - mae: 108.4021 - mse: 71088.8750 - val_loss: 631.6525 - val_mae: 631.6525 - val_mse: 1312373.2500\n",
      "Epoch 89/100\n",
      "18/18 [==============================] - 0s 10ms/step - loss: 108.6944 - mae: 108.6944 - mse: 72426.7969 - val_loss: 616.9383 - val_mae: 616.9383 - val_mse: 1267537.0000\n",
      "Epoch 90/100\n",
      "18/18 [==============================] - 0s 11ms/step - loss: 113.3676 - mae: 113.3676 - mse: 73944.4531 - val_loss: 586.0695 - val_mae: 586.0695 - val_mse: 1203151.2500\n",
      "Epoch 91/100\n",
      "18/18 [==============================] - 0s 9ms/step - loss: 108.5291 - mae: 108.5291 - mse: 70631.7578 - val_loss: 601.1534 - val_mae: 601.1534 - val_mse: 1240622.2500\n",
      "Epoch 92/100\n",
      "18/18 [==============================] - 0s 12ms/step - loss: 111.7185 - mae: 111.7185 - mse: 71856.0781 - val_loss: 635.9401 - val_mae: 635.9401 - val_mse: 1320084.6250\n",
      "Epoch 93/100\n",
      " 9/18 [==============>...............] - ETA: 0s - loss: 110.4743 - mae: 110.4743 - mse: 66931.0234INFO:tensorflow:Assets written to: model_experiments\\model_1_dense\\assets\n",
      "18/18 [==============================] - 1s 59ms/step - loss: 110.3969 - mae: 110.3969 - mse: 72569.8672 - val_loss: 573.1985 - val_mae: 573.1985 - val_mse: 1182045.6250\n",
      "Epoch 94/100\n",
      "18/18 [==============================] - 0s 13ms/step - loss: 110.9071 - mae: 110.9071 - mse: 73418.8750 - val_loss: 616.4640 - val_mae: 616.4640 - val_mse: 1264764.0000\n",
      "Epoch 95/100\n",
      "18/18 [==============================] - 0s 11ms/step - loss: 108.2193 - mae: 108.2193 - mse: 70086.6562 - val_loss: 599.9547 - val_mae: 599.9547 - val_mse: 1228500.5000\n",
      "Epoch 96/100\n",
      "18/18 [==============================] - 0s 10ms/step - loss: 115.9357 - mae: 115.9357 - mse: 72494.2969 - val_loss: 596.4731 - val_mae: 596.4731 - val_mse: 1227891.8750\n",
      "Epoch 97/100\n",
      "18/18 [==============================] - 0s 10ms/step - loss: 109.1109 - mae: 109.1109 - mse: 71870.6250 - val_loss: 621.2558 - val_mae: 621.2558 - val_mse: 1274622.5000\n",
      "Epoch 98/100\n",
      "18/18 [==============================] - 0s 10ms/step - loss: 108.6909 - mae: 108.6909 - mse: 71756.5938 - val_loss: 628.3489 - val_mae: 628.3489 - val_mse: 1299724.0000\n",
      "Epoch 99/100\n",
      "18/18 [==============================] - 0s 12ms/step - loss: 109.8144 - mae: 109.8144 - mse: 72187.3984 - val_loss: 619.0015 - val_mae: 619.0015 - val_mse: 1270007.7500\n",
      "Epoch 100/100\n",
      "18/18 [==============================] - 0s 11ms/step - loss: 110.8574 - mae: 110.8574 - mse: 73215.5859 - val_loss: 596.8445 - val_mae: 596.8445 - val_mse: 1227821.1250\n"
     ]
    },
    {
     "data": {
      "text/plain": [
       "<keras.callbacks.History at 0x1a025c5d2d0>"
      ]
     },
     "execution_count": 38,
     "metadata": {},
     "output_type": "execute_result"
    }
   ],
   "source": [
    "import tensorflow as tf\n",
    "from tensorflow.keras import layers # type: ignore\n",
    "\n",
    "# Set random seed for as reporducible results as possible\n",
    "tf.random.set_seed(42)\n",
    "\n",
    "# 1. Construct the model\n",
    "model_1 = tf.keras.Sequential([\n",
    "    layers.Dense(128, activation='relu'),\n",
    "    layers.Dense(HORIZON, activation='linear')\n",
    "], name='model_1_dense') # name our model so we can save it\n",
    "\n",
    "# 2. Compile\n",
    "model_1.compile(loss='mae',\n",
    "                optimizer=tf.keras.optimizers.Adam(),\n",
    "                metrics=['mae', 'mse'])\n",
    "\n",
    "# Fit the model\n",
    "model_1.fit(x=train_windows,\n",
    "            y=train_labels,\n",
    "            epochs=100,\n",
    "            verbose=1,\n",
    "            batch_size=128,\n",
    "            validation_data=(test_windows, test_labels),\n",
    "            callbacks=[create_model_checkpoint(model_name=model_1.name)])"
   ]
  },
  {
   "cell_type": "code",
   "execution_count": 39,
   "id": "b35cc5f8",
   "metadata": {},
   "outputs": [
    {
     "name": "stdout",
     "output_type": "stream",
     "text": [
      "18/18 [==============================] - 0s 3ms/step - loss: 596.8575 - mae: 596.8575 - mse: 1227920.7500\n"
     ]
    },
    {
     "data": {
      "text/plain": [
       "[596.8575439453125, 596.8575439453125, 1227920.75]"
      ]
     },
     "execution_count": 39,
     "metadata": {},
     "output_type": "execute_result"
    }
   ],
   "source": [
    "# Evaluate model on test data (last performance - not the best)\n",
    "model_1.evaluate(test_windows, test_labels)"
   ]
  },
  {
   "cell_type": "code",
   "execution_count": 40,
   "id": "3b474323",
   "metadata": {},
   "outputs": [
    {
     "name": "stdout",
     "output_type": "stream",
     "text": [
      "18/18 [==============================] - 0s 4ms/step - loss: 573.1654 - mae: 573.1654 - mse: 1181933.7500\n"
     ]
    },
    {
     "data": {
      "text/plain": [
       "[573.1654052734375, 573.1654052734375, 1181933.75]"
      ]
     },
     "execution_count": 40,
     "metadata": {},
     "output_type": "execute_result"
    }
   ],
   "source": [
    "# Load in saved best performing model_1 and evaluate it on test data\n",
    "model_1 = tf.keras.models.load_model('model_experiments/model_1_dense/')\n",
    "model_1.evaluate(test_windows, test_labels)"
   ]
  },
  {
   "cell_type": "markdown",
   "id": "1a1a02c1",
   "metadata": {},
   "source": [
    "## Making forecasts with a model (on the test dataset)\n",
    "\n",
    "To make 'forecasts' on the dataset (note: these won't be actual forecasts, they're only pseudo forecasts actual forecasts are into the future), let's write a function to:\n",
    "\n",
    "1. Take in a train model\n",
    "2. Takes in some input data (same kind of data the model was trained on)\n",
    "3. Passes the input data to the model's `predict()` method\n",
    "4. Returns the predictions"
   ]
  },
  {
   "cell_type": "code",
   "execution_count": 41,
   "id": "9470b21a",
   "metadata": {},
   "outputs": [],
   "source": [
    "def make_preds(model, input_data):\n",
    "    \"\"\"\n",
    "    Uses model to make predictions input_data.\n",
    "    \"\"\"\n",
    "    forecast = model.predict(input_data)\n",
    "    return tf.squeeze(forecast) # return 1D array of predictions"
   ]
  },
  {
   "cell_type": "code",
   "execution_count": 42,
   "id": "93f5b9b5",
   "metadata": {},
   "outputs": [
    {
     "name": "stdout",
     "output_type": "stream",
     "text": [
      "18/18 [==============================] - 0s 3ms/step\n"
     ]
    },
    {
     "data": {
      "text/plain": [
       "(551,\n",
       " <tf.Tensor: shape=(10,), dtype=float32, numpy=\n",
       " array([8711.032, 8710.117, 8564.141, 8469.896, 8530.212, 8294.942,\n",
       "        8157.367, 8055.725, 7717.744, 7341.635], dtype=float32)>)"
      ]
     },
     "execution_count": 42,
     "metadata": {},
     "output_type": "execute_result"
    }
   ],
   "source": [
    "# Make predictions using model_1 on the test dataset and view results\n",
    "model_1_preds = make_preds(model_1, test_windows)\n",
    "len(model_1_preds), model_1_preds[:10]"
   ]
  },
  {
   "cell_type": "code",
   "execution_count": 43,
   "id": "67e72b08",
   "metadata": {},
   "outputs": [
    {
     "data": {
      "text/plain": [
       "{'mae': 573.1654,\n",
       " 'mse': 1181933.6,\n",
       " 'rmse': 1087.1677,\n",
       " 'mape': 2.5733118,\n",
       " 'mase': 1.0003741}"
      ]
     },
     "execution_count": 43,
     "metadata": {},
     "output_type": "execute_result"
    }
   ],
   "source": [
    "# Evaluate preds\n",
    "model_1_results = evaluate_preds(y_true=tf.squeeze(test_labels),\n",
    "                                 y_pred=model_1_preds)\n",
    "model_1_results"
   ]
  },
  {
   "cell_type": "code",
   "execution_count": 44,
   "id": "9b6b48ce",
   "metadata": {},
   "outputs": [
    {
     "data": {
      "text/plain": [
       "{'mae': 567.9802,\n",
       " 'mse': 1147547.0,\n",
       " 'rmse': 1071.2362,\n",
       " 'mape': 2.516525,\n",
       " 'mase': 0.99957}"
      ]
     },
     "execution_count": 44,
     "metadata": {},
     "output_type": "execute_result"
    }
   ],
   "source": [
    "naive_results"
   ]
  },
  {
   "cell_type": "code",
   "execution_count": 45,
   "id": "886ffc00",
   "metadata": {},
   "outputs": [
    {
     "data": {
      "image/png": "[encoded data removed]",
      "text/plain": [
       "<Figure size 1000x700 with 1 Axes>"
      ]
     },
     "metadata": {},
     "output_type": "display_data"
    }
   ],
   "source": [
    "# Let's plot our model 1 predictions\n",
    "offset = 300\n",
    "plt.figure(figsize=(10, 7))\n",
    "# Account for the test_window offset and index into test_labels to ensure correct plotting\n",
    "plot_time_series(timesteps=X_test[-len(test_windows):], values=test_labels[:, 0], start=offset, label='Test Data')\n",
    "\n",
    "plot_time_series(timesteps=X_test[-len(test_windows):], values=model_1_preds, start=offset, format='-', label='Model 1 Preds')"
   ]
  },
  {
   "cell_type": "markdown",
   "id": "e2cae249",
   "metadata": {},
   "source": [
    "## Model 2: Dense (window = 30, horizon = 1)"
   ]
  },
  {
   "cell_type": "code",
   "execution_count": 46,
   "id": "1984ac3e",
   "metadata": {},
   "outputs": [],
   "source": [
    "HORIZON = 1 # predict one step at a time (one day of Bitcoin prices)\n",
    "WINDOW_SIZE = 30 # use 30 timesteps in past"
   ]
  },
  {
   "cell_type": "code",
   "execution_count": 47,
   "id": "55f9ad76",
   "metadata": {},
   "outputs": [
    {
     "data": {
      "text/plain": [
       "(2757, 2757)"
      ]
     },
     "execution_count": 47,
     "metadata": {},
     "output_type": "execute_result"
    }
   ],
   "source": [
    "# Make window data with appropriate horizon and window sizes\n",
    "full_windows, full_labels = make_windows(prices, window_size=WINDOW_SIZE, horizon=HORIZON)\n",
    "len(full_windows), len(full_labels)"
   ]
  },
  {
   "cell_type": "code",
   "execution_count": 48,
   "id": "9db41bdc",
   "metadata": {},
   "outputs": [
    {
     "data": {
      "text/plain": [
       "(2229, 528, 2229, 528)"
      ]
     },
     "execution_count": 48,
     "metadata": {},
     "output_type": "execute_result"
    }
   ],
   "source": [
    "# Make train and testing windows\n",
    "train_windows, test_windows, train_labels, test_labels = make_train_test_splits(windows=full_windows,\n",
    "                                                                                labels=full_labels,\n",
    "                                                                                test_split=0.2)\n",
    "len(train_windows), len(test_windows), len(train_labels), len(test_labels)"
   ]
  },
  {
   "cell_type": "code",
   "execution_count": 49,
   "id": "6d9d578d",
   "metadata": {},
   "outputs": [
    {
     "name": "stdout",
     "output_type": "stream",
     "text": [
      "INFO:tensorflow:Assets written to: model_experiments\\model_2_dense\\assets\n",
      "INFO:tensorflow:Assets written to: model_experiments\\model_2_dense\\assets\n",
      "INFO:tensorflow:Assets written to: model_experiments\\model_2_dense\\assets\n",
      "INFO:tensorflow:Assets written to: model_experiments\\model_2_dense\\assets\n",
      "INFO:tensorflow:Assets written to: model_experiments\\model_2_dense\\assets\n",
      "INFO:tensorflow:Assets written to: model_experiments\\model_2_dense\\assets\n",
      "INFO:tensorflow:Assets written to: model_experiments\\model_2_dense\\assets\n",
      "INFO:tensorflow:Assets written to: model_experiments\\model_2_dense\\assets\n",
      "INFO:tensorflow:Assets written to: model_experiments\\model_2_dense\\assets\n",
      "INFO:tensorflow:Assets written to: model_experiments\\model_2_dense\\assets\n",
      "INFO:tensorflow:Assets written to: model_experiments\\model_2_dense\\assets\n",
      "INFO:tensorflow:Assets written to: model_experiments\\model_2_dense\\assets\n",
      "INFO:tensorflow:Assets written to: model_experiments\\model_2_dense\\assets\n",
      "INFO:tensorflow:Assets written to: model_experiments\\model_2_dense\\assets\n",
      "INFO:tensorflow:Assets written to: model_experiments\\model_2_dense\\assets\n",
      "INFO:tensorflow:Assets written to: model_experiments\\model_2_dense\\assets\n",
      "INFO:tensorflow:Assets written to: model_experiments\\model_2_dense\\assets\n",
      "INFO:tensorflow:Assets written to: model_experiments\\model_2_dense\\assets\n",
      "INFO:tensorflow:Assets written to: model_experiments\\model_2_dense\\assets\n",
      "INFO:tensorflow:Assets written to: model_experiments\\model_2_dense\\assets\n",
      "INFO:tensorflow:Assets written to: model_experiments\\model_2_dense\\assets\n",
      "INFO:tensorflow:Assets written to: model_experiments\\model_2_dense\\assets\n",
      "INFO:tensorflow:Assets written to: model_experiments\\model_2_dense\\assets\n",
      "INFO:tensorflow:Assets written to: model_experiments\\model_2_dense\\assets\n",
      "INFO:tensorflow:Assets written to: model_experiments\\model_2_dense\\assets\n",
      "INFO:tensorflow:Assets written to: model_experiments\\model_2_dense\\assets\n",
      "INFO:tensorflow:Assets written to: model_experiments\\model_2_dense\\assets\n"
     ]
    },
    {
     "data": {
      "text/plain": [
       "<keras.callbacks.History at 0x1a212bd0d30>"
      ]
     },
     "execution_count": 49,
     "metadata": {},
     "output_type": "execute_result"
    }
   ],
   "source": [
    "tf.random.set_seed(42)\n",
    "\n",
    "# Create model\n",
    "model_2 = tf.keras.Sequential([\n",
    "    layers.Dense(128, activation='relu'),\n",
    "    layers.Dense(HORIZON)\n",
    "], name='model_2_dense')\n",
    "\n",
    "# Compile model\n",
    "model_2.compile(loss='mae',\n",
    "                optimizer=tf.keras.optimizers.Adam())\n",
    "\n",
    "# Fit\n",
    "model_2.fit(train_windows,\n",
    "            train_labels,\n",
    "            epochs=100,\n",
    "            batch_size=128,\n",
    "            verbose=0,\n",
    "            validation_data=(test_windows, test_labels),\n",
    "            callbacks=[create_model_checkpoint(model_name=model_2.name)])"
   ]
  },
  {
   "cell_type": "code",
   "execution_count": 50,
   "id": "8105caa5",
   "metadata": {},
   "outputs": [
    {
     "name": "stdout",
     "output_type": "stream",
     "text": [
      "17/17 [==============================] - 0s 4ms/step - loss: 635.9776\n"
     ]
    },
    {
     "data": {
      "text/plain": [
       "635.9776000976562"
      ]
     },
     "execution_count": 50,
     "metadata": {},
     "output_type": "execute_result"
    }
   ],
   "source": [
    "# Evaluate model 2 on test data\n",
    "model_2.evaluate(test_windows, test_labels)"
   ]
  },
  {
   "cell_type": "code",
   "execution_count": 51,
   "id": "576cc0b8",
   "metadata": {},
   "outputs": [
    {
     "name": "stdout",
     "output_type": "stream",
     "text": [
      "17/17 [==============================] - 0s 4ms/step - loss: 635.9776\n"
     ]
    },
    {
     "data": {
      "text/plain": [
       "635.9776000976562"
      ]
     },
     "execution_count": 51,
     "metadata": {},
     "output_type": "execute_result"
    }
   ],
   "source": [
    "# Load in the best performing model\n",
    "model_2 = tf.keras.models.load_model('model_experiments/model_2_dense/')\n",
    "model_2.evaluate(test_windows, test_labels)"
   ]
  },
  {
   "cell_type": "code",
   "execution_count": 52,
   "id": "16830931",
   "metadata": {},
   "outputs": [
    {
     "name": "stdout",
     "output_type": "stream",
     "text": [
      "17/17 [==============================] - 0s 4ms/step\n"
     ]
    }
   ],
   "source": [
    "# Get forecast predictions\n",
    "model_2_preds = make_preds(model_2,\n",
    "                           input_data=test_windows)"
   ]
  },
  {
   "cell_type": "code",
   "execution_count": 53,
   "id": "4a35b2c8",
   "metadata": {},
   "outputs": [
    {
     "data": {
      "text/plain": [
       "(TensorShape([528]), TensorShape([528]))"
      ]
     },
     "execution_count": 53,
     "metadata": {},
     "output_type": "execute_result"
    }
   ],
   "source": [
    "tf.squeeze(test_labels).shape, model_2_preds.shape"
   ]
  },
  {
   "cell_type": "code",
   "execution_count": 54,
   "id": "81997755",
   "metadata": {},
   "outputs": [
    {
     "data": {
      "text/plain": [
       "{'mae': 635.97766,\n",
       " 'mse': 1341728.5,\n",
       " 'rmse': 1158.3301,\n",
       " 'mape': 2.837038,\n",
       " 'mase': 1.0764413}"
      ]
     },
     "execution_count": 54,
     "metadata": {},
     "output_type": "execute_result"
    }
   ],
   "source": [
    "# Evaluate results for model 2 predictions\n",
    "model_2_results = evaluate_preds(y_true=tf.squeeze(test_labels),\n",
    "                                 y_pred=model_2_preds)\n",
    "model_2_results"
   ]
  },
  {
   "cell_type": "code",
   "execution_count": 55,
   "id": "982bdaa0",
   "metadata": {},
   "outputs": [
    {
     "data": {
      "text/plain": [
       "{'mae': 573.1654,\n",
       " 'mse': 1181933.6,\n",
       " 'rmse': 1087.1677,\n",
       " 'mape': 2.5733118,\n",
       " 'mase': 1.0003741}"
      ]
     },
     "execution_count": 55,
     "metadata": {},
     "output_type": "execute_result"
    }
   ],
   "source": [
    "model_1_results"
   ]
  },
  {
   "cell_type": "code",
   "execution_count": 56,
   "id": "a1f9ba91",
   "metadata": {},
   "outputs": [
    {
     "data": {
      "image/png": "[encoded data removed]",
      "text/plain": [
       "<Figure size 1000x700 with 1 Axes>"
      ]
     },
     "metadata": {},
     "output_type": "display_data"
    }
   ],
   "source": [
    "offset = 300\n",
    "plt.figure(figsize=(10, 7))\n",
    "# Account for test_window offset when plotting\n",
    "plot_time_series(timesteps=X_test[-len(test_windows):], values=test_labels[:, 0], start=offset, label='Test Data')\n",
    "plot_time_series(timesteps=X_test[-len(test_windows):], values=model_2_preds, start=offset, format='-', label='model_2_preds')"
   ]
  },
  {
   "cell_type": "markdown",
   "id": "c0113fea",
   "metadata": {},
   "source": [
    "## Model 3: Dense (window = 30, horizon = 7)\n",
    "\n"
   ]
  },
  {
   "cell_type": "code",
   "execution_count": 57,
   "id": "887cc5e4",
   "metadata": {},
   "outputs": [
    {
     "data": {
      "text/plain": [
       "(2751, 2751)"
      ]
     },
     "execution_count": 57,
     "metadata": {},
     "output_type": "execute_result"
    }
   ],
   "source": [
    "HORIZON = 7\n",
    "WINDOW_SIZE = 30\n",
    "\n",
    "full_windows, full_labels = make_windows(prices, window_size=WINDOW_SIZE, horizon=HORIZON)\n",
    "len(full_windows), len(full_labels)"
   ]
  },
  {
   "cell_type": "code",
   "execution_count": 58,
   "id": "6e79caa1",
   "metadata": {},
   "outputs": [
    {
     "data": {
      "text/plain": [
       "(2229, 522, 2229, 522)"
      ]
     },
     "execution_count": 58,
     "metadata": {},
     "output_type": "execute_result"
    }
   ],
   "source": [
    "train_windows, test_windows, train_labels, test_labels = make_train_test_splits(windows=full_windows,\n",
    "                                                                                labels=full_labels,\n",
    "                                                                                test_split=0.2)\n",
    "len(train_windows), len(test_windows), len(train_labels), len(test_labels)"
   ]
  },
  {
   "cell_type": "code",
   "execution_count": 59,
   "id": "23124476",
   "metadata": {},
   "outputs": [
    {
     "name": "stdout",
     "output_type": "stream",
     "text": [
      "INFO:tensorflow:Assets written to: model_experiments\\model_3_dense\\assets\n",
      "INFO:tensorflow:Assets written to: model_experiments\\model_3_dense\\assets\n",
      "INFO:tensorflow:Assets written to: model_experiments\\model_3_dense\\assets\n",
      "INFO:tensorflow:Assets written to: model_experiments\\model_3_dense\\assets\n",
      "INFO:tensorflow:Assets written to: model_experiments\\model_3_dense\\assets\n",
      "INFO:tensorflow:Assets written to: model_experiments\\model_3_dense\\assets\n",
      "INFO:tensorflow:Assets written to: model_experiments\\model_3_dense\\assets\n",
      "INFO:tensorflow:Assets written to: model_experiments\\model_3_dense\\assets\n",
      "INFO:tensorflow:Assets written to: model_experiments\\model_3_dense\\assets\n",
      "INFO:tensorflow:Assets written to: model_experiments\\model_3_dense\\assets\n",
      "INFO:tensorflow:Assets written to: model_experiments\\model_3_dense\\assets\n",
      "INFO:tensorflow:Assets written to: model_experiments\\model_3_dense\\assets\n",
      "INFO:tensorflow:Assets written to: model_experiments\\model_3_dense\\assets\n",
      "INFO:tensorflow:Assets written to: model_experiments\\model_3_dense\\assets\n",
      "INFO:tensorflow:Assets written to: model_experiments\\model_3_dense\\assets\n",
      "INFO:tensorflow:Assets written to: model_experiments\\model_3_dense\\assets\n",
      "INFO:tensorflow:Assets written to: model_experiments\\model_3_dense\\assets\n",
      "INFO:tensorflow:Assets written to: model_experiments\\model_3_dense\\assets\n",
      "INFO:tensorflow:Assets written to: model_experiments\\model_3_dense\\assets\n",
      "INFO:tensorflow:Assets written to: model_experiments\\model_3_dense\\assets\n",
      "INFO:tensorflow:Assets written to: model_experiments\\model_3_dense\\assets\n",
      "INFO:tensorflow:Assets written to: model_experiments\\model_3_dense\\assets\n"
     ]
    },
    {
     "data": {
      "text/plain": [
       "<keras.callbacks.History at 0x1a20a09a3e0>"
      ]
     },
     "execution_count": 59,
     "metadata": {},
     "output_type": "execute_result"
    }
   ],
   "source": [
    "tf.random.set_seed(42)\n",
    "\n",
    "# Create model\n",
    "model_3 = tf.keras.Sequential([\n",
    "    layers.Dense(128, activation='relu'),\n",
    "    layers.Dense(HORIZON)\n",
    "], name='model_3_dense')\n",
    "\n",
    "# Compile\n",
    "model_3.compile(loss='mae',\n",
    "                optimizer=tf.keras.optimizers.Adam())\n",
    "\n",
    "# Fit\n",
    "model_3.fit(train_windows,\n",
    "            train_labels,\n",
    "            batch_size=128,\n",
    "            epochs=100,\n",
    "            verbose=0,\n",
    "            validation_data=(test_windows, test_labels),\n",
    "            callbacks=[create_model_checkpoint(model_name=model_3.name)])"
   ]
  },
  {
   "cell_type": "code",
   "execution_count": 60,
   "id": "4c40baa7",
   "metadata": {},
   "outputs": [
    {
     "name": "stdout",
     "output_type": "stream",
     "text": [
      "17/17 [==============================] - 0s 5ms/step - loss: 1312.1306\n"
     ]
    },
    {
     "data": {
      "text/plain": [
       "1312.130615234375"
      ]
     },
     "execution_count": 60,
     "metadata": {},
     "output_type": "execute_result"
    }
   ],
   "source": [
    "# Evaluate the model on the test data\n",
    "model_3.evaluate(test_windows, test_labels)"
   ]
  },
  {
   "cell_type": "code",
   "execution_count": 61,
   "id": "7a7a83c6",
   "metadata": {},
   "outputs": [
    {
     "name": "stdout",
     "output_type": "stream",
     "text": [
      "17/17 [==============================] - 0s 3ms/step - loss: 1292.3884\n"
     ]
    },
    {
     "data": {
      "text/plain": [
       "1292.388427734375"
      ]
     },
     "execution_count": 61,
     "metadata": {},
     "output_type": "execute_result"
    }
   ],
   "source": [
    "# Load best version of model_3 and evaluate\n",
    "model_3 = tf.keras.models.load_model('model_experiments/model_3_dense/')\n",
    "model_3.evaluate(test_windows, test_labels)"
   ]
  },
  {
   "cell_type": "code",
   "execution_count": 62,
   "id": "796cb207",
   "metadata": {},
   "outputs": [
    {
     "name": "stdout",
     "output_type": "stream",
     "text": [
      "17/17 [==============================] - 0s 2ms/step\n"
     ]
    },
    {
     "data": {
      "text/plain": [
       "TensorShape([522, 7])"
      ]
     },
     "execution_count": 62,
     "metadata": {},
     "output_type": "execute_result"
    }
   ],
   "source": [
    "# Make predictions with model_3\n",
    "model_3_preds = make_preds(model_3,\n",
    "                           input_data=test_windows)\n",
    "model_3_preds.shape"
   ]
  },
  {
   "cell_type": "code",
   "execution_count": 63,
   "id": "51f272aa",
   "metadata": {},
   "outputs": [
    {
     "data": {
      "text/plain": [
       "(TensorShape([522, 7]), TensorShape([528]))"
      ]
     },
     "execution_count": 63,
     "metadata": {},
     "output_type": "execute_result"
    }
   ],
   "source": [
    "model_3_preds.shape, model_2_preds.shape"
   ]
  },
  {
   "cell_type": "code",
   "execution_count": 64,
   "id": "ccec3843",
   "metadata": {},
   "outputs": [
    {
     "data": {
      "text/plain": [
       "{'mae': array([ 122.774414,  234.12709 ,  292.62924 ,  266.96457 ,  260.6721  ,\n",
       "         237.59758 ,  239.35289 ,  216.63533 ,  219.96666 ,  242.13777 ,\n",
       "         307.56857 ,  568.7214  ,  181.37123 ,   63.890205,   93.28467 ,\n",
       "          49.82945 ,   74.48096 ,   76.405205,   72.865585,   77.04639 ,\n",
       "         103.90255 ,  126.52267 ,  109.25928 ,  144.27365 ,  158.41043 ,\n",
       "         298.72867 ,  400.72183 ,  604.4198  ,  625.5555  ,  538.749   ,\n",
       "         555.3143  ,  476.22232 ,  256.27994 ,  241.52344 ,  408.34793 ,\n",
       "         407.4139  ,  495.62173 ,  492.69107 ,  541.8203  ,  166.66951 ,\n",
       "         211.29102 ,  259.38168 ,  361.10855 ,  598.69    ,  420.03824 ,\n",
       "         275.73508 ,  297.27817 ,  363.36426 ,  457.15094 ,  527.8365  ,\n",
       "         754.76215 ,  855.1928  ,  661.3419  ,  295.71875 ,  135.63435 ,\n",
       "         174.59975 ,  178.17146 ,  208.93639 ,  337.25613 ,  469.21988 ,\n",
       "         649.3419  ,  502.93375 ,  431.63324 ,  356.51215 ,  250.8619  ,\n",
       "         244.06725 ,  260.2906  ,  311.59164 ,  535.26086 ,  593.39954 ,\n",
       "         689.23285 ,  491.87778 ,  288.5688  ,  155.14453 ,  357.4121  ,\n",
       "         309.3351  ,  336.17703 ,  479.74722 ,  639.36523 ,  869.3405  ,\n",
       "         832.7193  ,  698.0382  ,  247.61732 ,  192.47795 ,  208.4043  ,\n",
       "         275.12555 ,  384.23053 ,  392.94916 ,  460.97482 ,  560.9325  ,\n",
       "         997.352   , 1678.9152  , 2044.9958  , 1904.6836  , 1892.3027  ,\n",
       "        2204.0588  , 2528.9656  , 1263.7595  ,  582.34735 ,  467.45453 ,\n",
       "         535.39154 ,  553.6338  ,  556.4959  ,  559.18756 ,  268.0941  ,\n",
       "         216.3148  ,  344.3566  ,  458.4013  ,  285.90576 ,  282.27496 ,\n",
       "         300.15457 ,  306.64557 ,  345.4405  ,  327.503   ,  886.8463  ,\n",
       "         772.1836  ,  450.05777 ,  420.96094 ,  248.8623  ,  220.38637 ,\n",
       "         165.78027 ,  159.02357 ,  222.86906 ,  247.63338 ,  490.74908 ,\n",
       "         615.7701  ,  279.7424  ,  157.46477 ,  251.76674 ,  259.36914 ,\n",
       "         210.26465 ,  365.7237  ,  180.64168 ,  196.32101 ,  211.3976  ,\n",
       "         318.28836 ,  413.74213 ,  625.90424 ,  766.72266 ,  584.0827  ,\n",
       "         650.488   ,  794.83545 ,  924.2995  ,  969.60077 , 1097.9401  ,\n",
       "         476.67984 ,  250.86775 ,  382.62137 ,  373.37653 ,  390.7761  ,\n",
       "         434.6663  ,  491.68344 ,  436.75992 ,  645.9537  ,  957.4784  ,\n",
       "         896.7196  ,  286.8697  ,  446.35434 ,  745.3517  ,  463.4714  ,\n",
       "         205.75041 ,  124.68708 ,  234.40067 ,  393.8654  ,  468.9954  ,\n",
       "         505.97308 ,  535.5294  ,  277.0279  ,  240.7924  ,  242.56291 ,\n",
       "         352.28195 ,  622.4205  ,  898.74695 ,  872.8468  ,  477.86914 ,\n",
       "         293.01508 ,  175.05594 ,  183.45703 ,  349.17398 ,  117.16504 ,\n",
       "         179.96303 ,  145.82338 ,  230.04604 ,  168.08873 ,  204.9802  ,\n",
       "         307.75864 ,  386.5205  ,  444.19028 ,  118.90569 ,  118.0346  ,\n",
       "         143.1416  ,   74.489815,  163.20312 ,  140.66406 ,  141.21555 ,\n",
       "         184.31487 ,  184.3284  ,  228.92355 ,  174.13016 ,  312.44086 ,\n",
       "         364.4128  ,  230.27512 ,  127.06222 ,  115.34068 ,  111.483116,\n",
       "         222.50418 ,   91.08831 ,  120.91044 ,   98.36049 ,  113.773575,\n",
       "         156.71262 ,  165.53139 ,  240.58287 ,  138.70271 ,   62.629185,\n",
       "         174.05971 ,  108.98493 ,   62.852398,   36.654438,   41.635742,\n",
       "          59.234097,   83.29269 ,  119.92857 ,  136.7832  ,  210.464   ,\n",
       "         274.5388  ,  413.17633 ,  694.374   ,  736.2083  ,  822.1353  ,\n",
       "         939.3849  , 1153.4528  , 1357.3307  , 1370.123   ,  511.1402  ,\n",
       "         240.15988 ,  192.33846 ,  238.06557 ,  281.7754  ,  354.26813 ,\n",
       "         143.91057 ,  200.05678 ,  236.05441 ,  203.38184 ,  258.6504  ,\n",
       "         245.3623  ,  302.07687 ,  215.92717 ,  244.01994 ,  274.78098 ,\n",
       "         283.61313 ,  132.83217 ,  242.61803 ,  183.18039 ,  171.25461 ,\n",
       "         463.97238 ,  523.3369  ,  271.149   ,  228.14328 ,  214.30525 ,\n",
       "         230.28139 ,  170.9343  ,  154.60045 ,  239.96414 ,  215.08203 ,\n",
       "         362.1536  ,  482.7023  ,  596.63934 ,  786.54407 , 1008.69867 ,\n",
       "        1360.4542  , 1236.6752  ,  739.57587 ,  341.44476 ,  224.56013 ,\n",
       "         324.62067 ,  198.23967 ,  365.36566 ,  469.13226 ,  391.0236  ,\n",
       "         422.43723 ,  506.56543 ,  530.8417  ,  332.637   ,  152.8718  ,\n",
       "         293.09946 ,  254.0699  ,  324.09207 ,  339.1236  ,  235.97    ,\n",
       "         170.19783 ,  166.96526 ,  306.91086 ,  134.47127 ,  114.48884 ,\n",
       "         114.39872 ,  171.31096 ,  246.67648 ,  221.51646 ,  188.41978 ,\n",
       "         158.7592  ,  134.98158 ,  313.32352 ,  413.65137 ,  513.7867  ,\n",
       "         607.3634  ,  734.1749  ,  666.9181  ,  479.64774 ,  172.18848 ,\n",
       "          84.20745 ,  234.14258 ,  218.87682 ,  401.41937 ,  632.2472  ,\n",
       "         816.17633 , 1077.3734  , 1231.7424  , 1145.0876  , 1187.5697  ,\n",
       "         380.31418 ,  191.56264 ,  197.85938 ,  216.09904 ,  249.60965 ,\n",
       "         319.4898  ,  154.22852 ,  215.9382  ,  473.3062  ,  648.2673  ,\n",
       "         664.9159  ,  892.3464  , 1026.6896  , 1168.4359  , 1119.0039  ,\n",
       "         363.80356 ,  444.18875 ,  452.12848 ,  362.28336 ,  542.6405  ,\n",
       "         864.30597 ,  907.83484 ,  803.7895  , 1032.3127  , 1308.1702  ,\n",
       "        1768.4598  , 1537.651   ,  963.6417  ,  635.5126  ,  595.5039  ,\n",
       "         675.00696 ,  991.4132  , 1093.1582  ,  885.4874  , 1050.6819  ,\n",
       "        1064.0095  ,  842.4894  , 1443.541   , 1340.9277  , 1127.1819  ,\n",
       "         339.6978  ,  361.02148 ,  394.0078  ,  787.0558  ,  782.0126  ,\n",
       "         478.57367 ,  398.50223 ,  559.3306  ,  546.0167  ,  796.5801  ,\n",
       "        1659.1552  , 2461.3647  , 2721.631   , 3189.8552  , 3471.8083  ,\n",
       "        3474.2737  , 2300.3887  ,  846.7363  ,  447.685   ,  849.4188  ,\n",
       "        1242.8752  , 1419.7461  , 1845.1052  , 2342.4045  , 2932.9563  ,\n",
       "        3066.0415  , 2315.7566  , 2573.684   , 2688.23    , 3308.2825  ,\n",
       "        3076.0017  , 3927.3164  , 5171.1577  , 4594.2524  , 4175.3545  ,\n",
       "        4844.626   , 3736.9158  , 2427.3582  , 2060.7856  , 3547.5876  ,\n",
       "        5253.0547  , 4812.4233  , 1269.2383  , 1136.3705  ,  705.7874  ,\n",
       "        2548.309   , 2477.1462  , 2745.4565  , 3453.2942  , 3325.61    ,\n",
       "        3700.407   , 3692.4707  ,  833.4749  , 1072.7277  , 1187.6744  ,\n",
       "        1335.9388  , 2101.3489  , 2599.504   , 4197.8213  , 3724.969   ,\n",
       "        2124.6448  , 2577.9258  , 3024.9167  , 5131.3545  , 5867.263   ,\n",
       "        5023.2505  , 5887.407   , 6488.5635  , 6144.214   , 7310.6157  ,\n",
       "        3947.6511  , 1182.1456  , 1365.9052  , 1478.3047  , 2074.2896  ,\n",
       "        2850.7131  , 3121.197   , 3162.4543  , 3750.1624  , 2993.9102  ,\n",
       "        3464.4922  , 5249.329   , 7494.4194  , 9899.183   , 8941.942   ,\n",
       "        5126.302   , 2270.8276  , 2037.4291  , 2313.6433  , 3153.5278  ,\n",
       "        4319.642   , 2492.299   , 3640.6758  , 2555.5508  , 4402.9404  ,\n",
       "        5160.7856  , 6704.4453  , 7213.7188  , 6944.6284  , 5068.3447  ,\n",
       "        2696.4648  , 1634.6044  , 1852.467   , 1995.8756  , 4075.0793  ,\n",
       "        2110.1355  , 1279.0323  , 3132.1362  , 4087.3694  , 4619.7734  ,\n",
       "        4786.976   , 4714.2983  , 2170.0964  , 2043.9275  , 2808.6138  ,\n",
       "        4514.3423  , 4400.165   , 2912.904   , 3423.655   , 2797.47    ,\n",
       "         763.22656 ,  746.99835 ,  701.4821  ,  661.62726 ,  578.2874  ,\n",
       "         979.9476  , 1085.4816  , 2157.3064  , 3198.155   , 3597.7004  ,\n",
       "        3704.148   , 2684.9465  , 2344.996   , 2645.8198  , 3602.3215  ,\n",
       "        5242.9927  , 7055.5156  , 7945.6284  , 8141.3486  , 5909.7627  ,\n",
       "        4163.866   , 3877.615   , 2755.0386  , 2094.6836  , 3197.2512  ,\n",
       "        4350.1562  , 5535.202   , 4131.7773  , 1942.7081  , 2170.7366  ,\n",
       "        2955.2031  ,  680.98883 , 1328.3092  , 1476.7311  , 1591.5625  ,\n",
       "        2012.5084  , 1995.6033  , 2331.7834  , 3267.461   , 5437.607   ,\n",
       "        7677.949   , 7913.526   ], dtype=float32),\n",
       " 'mse': array([1.76484805e+04, 6.61703281e+04, 9.95332734e+04, 9.30796875e+04,\n",
       "        1.37819594e+05, 1.27908273e+05, 9.56461328e+04, 9.33831641e+04,\n",
       "        8.30538594e+04, 9.91370078e+04, 1.11706414e+05, 3.45242562e+05,\n",
       "        4.63854297e+04, 5.45421533e+03, 1.19380547e+04, 4.20517236e+03,\n",
       "        8.01491455e+03, 9.96564258e+03, 1.00910752e+04, 1.02035732e+04,\n",
       "        1.59021543e+04, 2.02379023e+04, 2.60888750e+04, 3.81083086e+04,\n",
       "        4.69801602e+04, 1.40774234e+05, 2.50516141e+05, 4.65081812e+05,\n",
       "        4.86410812e+05, 3.50253844e+05, 3.28066469e+05, 2.44569734e+05,\n",
       "        1.19850250e+05, 1.30181836e+05, 2.84592938e+05, 2.70141625e+05,\n",
       "        3.26935469e+05, 2.91507031e+05, 3.05277531e+05, 3.74382305e+04,\n",
       "        5.19270742e+04, 9.43312500e+04, 1.69905516e+05, 3.96377156e+05,\n",
       "        1.99551844e+05, 1.10450125e+05, 1.23217023e+05, 1.50180953e+05,\n",
       "        3.36903812e+05, 3.91287469e+05, 6.97373875e+05, 7.80051312e+05,\n",
       "        4.59650219e+05, 1.11989852e+05, 2.53516738e+04, 4.43329922e+04,\n",
       "        4.16000977e+04, 5.93027188e+04, 1.50066750e+05, 2.87422656e+05,\n",
       "        4.91518219e+05, 3.01194594e+05, 2.44174719e+05, 1.54381672e+05,\n",
       "        7.51756250e+04, 8.76163672e+04, 9.00988359e+04, 1.36772141e+05,\n",
       "        3.81283656e+05, 4.39045000e+05, 5.07627469e+05, 2.70123312e+05,\n",
       "        1.04685453e+05, 4.76063203e+04, 1.62601422e+05, 1.88104469e+05,\n",
       "        2.64307375e+05, 3.81240969e+05, 5.82410062e+05, 9.23262375e+05,\n",
       "        7.63363875e+05, 5.01566938e+05, 8.04979219e+04, 5.04027148e+04,\n",
       "        6.63575781e+04, 1.06939195e+05, 1.70061422e+05, 2.24007391e+05,\n",
       "        2.90869844e+05, 3.53209938e+05, 1.92587962e+06, 4.25397650e+06,\n",
       "        5.65681300e+06, 5.00431650e+06, 4.85065500e+06, 5.66003300e+06,\n",
       "        6.45462250e+06, 1.87622938e+06, 4.64743500e+05, 3.22504750e+05,\n",
       "        3.20537156e+05, 4.12794188e+05, 3.28279656e+05, 4.04769000e+05,\n",
       "        1.04392250e+05, 6.61780078e+04, 1.49986359e+05, 2.42650500e+05,\n",
       "        1.13211570e+05, 1.19751680e+05, 2.06433547e+05, 1.57173531e+05,\n",
       "        2.34067828e+05, 1.47915078e+05, 8.41469562e+05, 6.68951438e+05,\n",
       "        2.53950922e+05, 2.31044422e+05, 1.08883992e+05, 7.01780469e+04,\n",
       "        4.82350898e+04, 3.36154297e+04, 8.05369453e+04, 8.48023047e+04,\n",
       "        3.23121438e+05, 4.18339719e+05, 1.11738500e+05, 3.15552676e+04,\n",
       "        8.52561250e+04, 8.63139766e+04, 6.95718359e+04, 1.48572219e+05,\n",
       "        4.82193047e+04, 4.46435703e+04, 5.62882148e+04, 1.12358102e+05,\n",
       "        2.27490141e+05, 4.34209969e+05, 7.68231000e+05, 6.25309625e+05,\n",
       "        7.80829625e+05, 9.91334438e+05, 1.11255712e+06, 1.11619425e+06,\n",
       "        1.20824538e+06, 2.41378922e+05, 1.49874672e+05, 2.51555281e+05,\n",
       "        1.97579734e+05, 2.05691219e+05, 2.70874156e+05, 2.67025438e+05,\n",
       "        2.14457453e+05, 6.32993312e+05, 1.15521062e+06, 9.14459688e+05,\n",
       "        1.45675891e+05, 2.39914531e+05, 5.95191750e+05, 2.49721125e+05,\n",
       "        6.18477930e+04, 2.69432773e+04, 8.18406406e+04, 2.48815172e+05,\n",
       "        3.26258719e+05, 2.95711156e+05, 2.98414656e+05, 9.64557656e+04,\n",
       "        7.87721719e+04, 9.31100469e+04, 1.57560141e+05, 5.95627062e+05,\n",
       "        9.41359000e+05, 9.28307000e+05, 2.88060781e+05, 1.57795328e+05,\n",
       "        6.91008438e+04, 6.82586016e+04, 1.37081469e+05, 2.05328418e+04,\n",
       "        3.64719688e+04, 4.28723398e+04, 7.40364609e+04, 4.62906250e+04,\n",
       "        6.14806914e+04, 1.36271453e+05, 1.67669109e+05, 2.07555891e+05,\n",
       "        1.76829727e+04, 2.46129180e+04, 3.62200508e+04, 9.07449121e+03,\n",
       "        4.39816680e+04, 2.83103477e+04, 3.41580742e+04, 4.21232422e+04,\n",
       "        6.10705352e+04, 7.76543750e+04, 4.49009453e+04, 1.26843422e+05,\n",
       "        1.44751609e+05, 6.67911016e+04, 2.38919316e+04, 1.72200137e+04,\n",
       "        1.40565107e+04, 5.22336797e+04, 1.36231025e+04, 1.65879590e+04,\n",
       "        1.60402744e+04, 2.39683398e+04, 3.98660195e+04, 4.08144570e+04,\n",
       "        6.46855312e+04, 2.26775898e+04, 7.17514404e+03, 3.22766855e+04,\n",
       "        1.28598359e+04, 7.06729932e+03, 2.29558154e+03, 2.08830200e+03,\n",
       "        4.55239551e+03, 8.89196094e+03, 1.89849785e+04, 4.11368008e+04,\n",
       "        7.61754297e+04, 1.10988836e+05, 2.26572922e+05, 8.04410438e+05,\n",
       "        9.38570938e+05, 1.17595138e+06, 1.34041775e+06, 1.71488938e+06,\n",
       "        2.12733500e+06, 1.94339775e+06, 3.59662250e+05, 9.07456797e+04,\n",
       "        5.61933750e+04, 6.85665859e+04, 9.39044844e+04, 1.82846641e+05,\n",
       "        3.28543203e+04, 5.10308242e+04, 6.15297305e+04, 6.69383906e+04,\n",
       "        1.00007812e+05, 9.83991172e+04, 1.22355570e+05, 1.01634578e+05,\n",
       "        7.65587266e+04, 1.36883516e+05, 1.30576234e+05, 4.63141562e+04,\n",
       "        8.98104844e+04, 8.84999844e+04, 5.04971250e+04, 2.32355828e+05,\n",
       "        2.96578062e+05, 1.21427180e+05, 8.90192500e+04, 6.99717031e+04,\n",
       "        7.59224844e+04, 4.71095312e+04, 3.76815000e+04, 1.01751516e+05,\n",
       "        7.63560000e+04, 1.69848281e+05, 2.82495312e+05, 5.43465688e+05,\n",
       "        9.29898000e+05, 1.29913875e+06, 2.06240625e+06, 1.57225025e+06,\n",
       "        5.92571938e+05, 1.36038438e+05, 6.15417422e+04, 1.22417266e+05,\n",
       "        5.59040078e+04, 1.88245344e+05, 3.00130438e+05, 2.06372766e+05,\n",
       "        2.39921016e+05, 3.03530594e+05, 2.93691531e+05, 1.29857977e+05,\n",
       "        3.09032695e+04, 1.37954453e+05, 1.08530422e+05, 1.46239766e+05,\n",
       "        1.40644828e+05, 9.97490781e+04, 4.28686172e+04, 3.65901562e+04,\n",
       "        9.99249609e+04, 2.28401230e+04, 1.83038633e+04, 1.86656348e+04,\n",
       "        3.63157930e+04, 7.10458672e+04, 5.47308203e+04, 5.09108750e+04,\n",
       "        2.71785762e+04, 3.46022773e+04, 1.78775922e+05, 2.80696562e+05,\n",
       "        3.91895688e+05, 4.91709094e+05, 6.18118688e+05, 4.85558344e+05,\n",
       "        2.51641031e+05, 4.66779336e+04, 1.47312734e+04, 7.47038281e+04,\n",
       "        5.10647891e+04, 4.13841094e+05, 7.60587938e+05, 1.14098675e+06,\n",
       "        1.68142125e+06, 1.82840300e+06, 1.48526538e+06, 1.45898512e+06,\n",
       "        1.89254359e+05, 5.66439883e+04, 4.54347578e+04, 5.76889492e+04,\n",
       "        7.76075156e+04, 1.29856062e+05, 3.56472891e+04, 7.68444531e+04,\n",
       "        5.57682375e+05, 8.96124188e+05, 7.78978875e+05, 1.21085600e+06,\n",
       "        1.32719775e+06, 1.56276212e+06, 1.30558500e+06, 2.05387859e+05,\n",
       "        2.69696500e+05, 3.27840344e+05, 1.69363547e+05, 3.93007500e+05,\n",
       "        1.06290138e+06, 1.37493212e+06, 9.50419312e+05, 1.38139112e+06,\n",
       "        2.20732750e+06, 3.50657075e+06, 2.53689425e+06, 1.01276644e+06,\n",
       "        4.74737938e+05, 5.22720031e+05, 1.05948612e+06, 1.63451325e+06,\n",
       "        1.81526775e+06, 1.35603388e+06, 1.63693600e+06, 1.79262288e+06,\n",
       "        8.38419312e+05, 2.39857475e+06, 2.01799875e+06, 1.37490800e+06,\n",
       "        1.64812781e+05, 1.75396781e+05, 2.16633891e+05, 8.14932125e+05,\n",
       "        9.27599125e+05, 3.07784656e+05, 2.56262875e+05, 4.55012000e+05,\n",
       "        3.74169969e+05, 1.44908588e+06, 5.03648900e+06, 8.92468500e+06,\n",
       "        1.06215830e+07, 1.33174950e+07, 1.41758490e+07, 1.25173440e+07,\n",
       "        5.50279900e+06, 9.28086000e+05, 4.10280188e+05, 1.11711625e+06,\n",
       "        1.86185000e+06, 2.90002825e+06, 4.84559650e+06, 7.51108450e+06,\n",
       "        1.08357280e+07, 1.10862780e+07, 8.17834650e+06, 1.10525070e+07,\n",
       "        1.05611600e+07, 1.39523380e+07, 1.37140140e+07, 2.37178660e+07,\n",
       "        3.81037560e+07, 3.09740260e+07, 2.28431140e+07, 2.94653580e+07,\n",
       "        2.02540800e+07, 7.93936150e+06, 6.75355350e+06, 1.81471160e+07,\n",
       "        3.13610140e+07, 2.49937740e+07, 2.16558425e+06, 1.99687225e+06,\n",
       "        8.87499000e+05, 1.05706770e+07, 8.57287100e+06, 1.18730270e+07,\n",
       "        1.72365240e+07, 1.47202620e+07, 1.58890420e+07, 1.49483210e+07,\n",
       "        1.02446112e+06, 2.05677462e+06, 2.47772425e+06, 2.86958925e+06,\n",
       "        5.34630300e+06, 7.63512850e+06, 1.97050940e+07, 1.67825180e+07,\n",
       "        6.76090350e+06, 7.88045700e+06, 1.22298240e+07, 3.33004260e+07,\n",
       "        4.83165400e+07, 3.99246440e+07, 4.88491720e+07, 5.47811720e+07,\n",
       "        4.15342640e+07, 5.54966640e+07, 1.66236980e+07, 1.44122975e+06,\n",
       "        3.29783075e+06, 4.08840800e+06, 5.70475200e+06, 1.27643470e+07,\n",
       "        1.61556490e+07, 1.49406780e+07, 1.85487620e+07, 1.12494650e+07,\n",
       "        1.43380210e+07, 4.21377360e+07, 6.97799120e+07, 1.08885424e+08,\n",
       "        8.10611200e+07, 3.00692020e+07, 8.24339750e+06, 6.02341850e+06,\n",
       "        6.69729500e+06, 1.10804460e+07, 2.03347040e+07, 8.10842750e+06,\n",
       "        1.66262980e+07, 1.15817610e+07, 3.03542080e+07, 3.66088960e+07,\n",
       "        5.57917160e+07, 6.21463960e+07, 5.41867320e+07, 2.85867880e+07,\n",
       "        1.02670540e+07, 4.06813075e+06, 4.94060100e+06, 5.03135750e+06,\n",
       "        1.88386120e+07, 7.49982000e+06, 3.91173375e+06, 1.74971960e+07,\n",
       "        2.25132460e+07, 2.62960620e+07, 2.57582720e+07, 2.32323940e+07,\n",
       "        8.49593900e+06, 4.64143000e+06, 9.98434700e+06, 2.30469540e+07,\n",
       "        2.17331080e+07, 9.94288200e+06, 1.25172570e+07, 8.16539200e+06,\n",
       "        7.68049312e+05, 1.43778300e+06, 5.80829875e+05, 6.99466875e+05,\n",
       "        6.98144438e+05, 1.04054319e+06, 1.75048800e+06, 7.17982000e+06,\n",
       "        1.48201870e+07, 1.68561160e+07, 1.71275820e+07, 1.02728430e+07,\n",
       "        7.95831650e+06, 8.81064200e+06, 2.19987020e+07, 3.86632400e+07,\n",
       "        5.96813400e+07, 7.17887200e+07, 7.22784480e+07, 4.09891120e+07,\n",
       "        2.22837020e+07, 1.88067660e+07, 1.20935260e+07, 5.12768100e+06,\n",
       "        1.28833050e+07, 2.14268960e+07, 3.32238780e+07, 1.89586400e+07,\n",
       "        5.65924050e+06, 5.45500000e+06, 9.71393100e+06, 8.73945875e+05,\n",
       "        3.27157925e+06, 3.69231725e+06, 3.93693625e+06, 5.46708450e+06,\n",
       "        5.60676650e+06, 9.51412600e+06, 1.83210820e+07, 4.48861320e+07,\n",
       "        7.55304000e+07, 8.07319040e+07], dtype=float32),\n",
       " 'rmse': array([  132.84758 ,   257.23593 ,   315.48895 ,   305.08963 ,\n",
       "          371.2406  ,   357.64267 ,   309.2671  ,   305.58658 ,\n",
       "          288.19064 ,   314.8603  ,   334.2251  ,   587.5734  ,\n",
       "          215.37277 ,    73.85266 ,   109.2614  ,    64.8473  ,\n",
       "           89.526054,    99.828064,   100.454346,   101.01274 ,\n",
       "          126.103745,   142.25998 ,   161.52051 ,   195.21349 ,\n",
       "          216.74907 ,   375.1989  ,   500.51587 ,   681.96906 ,\n",
       "          697.4316  ,   591.82245 ,   572.7709  ,   494.53992 ,\n",
       "          346.19394 ,   360.8072  ,   533.47253 ,   519.7515  ,\n",
       "          571.7827  ,   539.9139  ,   552.5192  ,   193.48961 ,\n",
       "          227.87512 ,   307.1339  ,   412.19595 ,   629.5849  ,\n",
       "          446.71225 ,   332.34036 ,   351.02283 ,   387.53186 ,\n",
       "          580.43414 ,   625.5297  ,   835.0891  ,   883.20514 ,\n",
       "          677.9751  ,   334.64883 ,   159.22209 ,   210.55402 ,\n",
       "          203.96101 ,   243.5215  ,   387.3845  ,   536.1181  ,\n",
       "          701.0836  ,   548.81195 ,   494.14038 ,   392.91434 ,\n",
       "          274.18173 ,   296.0006  ,   300.16467 ,   369.82718 ,\n",
       "          617.4817  ,   662.6047  ,   712.4798  ,   519.7339  ,\n",
       "          323.5513  ,   218.18872 ,   403.23868 ,   433.7101  ,\n",
       "          514.10834 ,   617.44714 ,   763.15796 ,   960.8654  ,\n",
       "          873.707   ,   708.2139  ,   283.72156 ,   224.5055  ,\n",
       "          257.59964 ,   327.0156  ,   412.38504 ,   473.2942  ,\n",
       "          539.3235  ,   594.31464 ,  1387.7606  ,  2062.517   ,\n",
       "         2378.4055  ,  2237.033   ,  2202.4202  ,  2379.0823  ,\n",
       "         2540.595   ,  1369.7552  ,   681.72095 ,   567.895   ,\n",
       "          566.16    ,   642.4906  ,   572.9569  ,   636.2146  ,\n",
       "          323.0979  ,   257.25085 ,   387.2807  ,   492.59567 ,\n",
       "          336.46927 ,   346.05154 ,   454.34958 ,   396.45117 ,\n",
       "          483.80557 ,   384.5973  ,   917.31647 ,   817.89453 ,\n",
       "          503.93542 ,   480.6708  ,   329.97574 ,   264.91138 ,\n",
       "          219.62488 ,   183.34511 ,   283.7903  ,   291.20834 ,\n",
       "          568.4377  ,   646.7919  ,   334.27307 ,   177.63802 ,\n",
       "          291.9865  ,   293.7924  ,   263.76474 ,   385.45065 ,\n",
       "          219.58894 ,   211.29025 ,   237.25137 ,   335.1986  ,\n",
       "          476.95926 ,   658.9461  ,   876.48785 ,   790.7652  ,\n",
       "          883.6456  ,   995.6578  ,  1054.7782  ,  1056.5009  ,\n",
       "         1099.2021  ,   491.30328 ,   387.1365  ,   501.55286 ,\n",
       "          444.49942 ,   453.53195 ,   520.4557  ,   516.745   ,\n",
       "          463.09552 ,   795.60876 ,  1074.8073  ,   956.27386 ,\n",
       "          381.6751  ,   489.8107  ,   771.4867  ,   499.72104 ,\n",
       "          248.69217 ,   164.14407 ,   286.07803 ,   498.81375 ,\n",
       "          571.1906  ,   543.7933  ,   546.27344 ,   310.57327 ,\n",
       "          280.66382 ,   305.13937 ,   396.93848 ,   771.7688  ,\n",
       "          970.2366  ,   963.4869  ,   536.71295 ,   397.2346  ,\n",
       "          262.8704  ,   261.26346 ,   370.24515 ,   143.29285 ,\n",
       "          190.97635 ,   207.05637 ,   272.0964  ,   215.15256 ,\n",
       "          247.953   ,   369.14963 ,   409.47418 ,   455.583   ,\n",
       "          132.97734 ,   156.88504 ,   190.31566 ,    95.260124,\n",
       "          209.71806 ,   168.25679 ,   184.81903 ,   205.23947 ,\n",
       "          247.12453 ,   278.66534 ,   211.89844 ,   356.15085 ,\n",
       "          380.46237 ,   258.43973 ,   154.57014 ,   131.22505 ,\n",
       "          118.56016 ,   228.54689 ,   116.71805 ,   128.79425 ,\n",
       "          126.6502  ,   154.81712 ,   199.66476 ,   202.02588 ,\n",
       "          254.3335  ,   150.5908  ,    84.70622 ,   179.65714 ,\n",
       "          113.401215,    84.06723 ,    47.912228,    45.69794 ,\n",
       "           67.47144 ,    94.297195,   137.78598 ,   202.82208 ,\n",
       "          275.99896 ,   333.14987 ,   475.99677 ,   896.8893  ,\n",
       "          968.7987  ,  1084.413   ,  1157.764   ,  1309.5378  ,\n",
       "         1458.5387  ,  1394.058   ,   599.7185  ,   301.24023 ,\n",
       "          237.05142 ,   261.85223 ,   306.4384  ,   427.6057  ,\n",
       "          181.2576  ,   225.90002 ,   248.05186 ,   258.72455 ,\n",
       "          316.2401  ,   313.6863  ,   349.7936  ,   318.8018  ,\n",
       "          276.69247 ,   369.97772 ,   361.35333 ,   215.20724 ,\n",
       "          299.68396 ,   297.48947 ,   224.71565 ,   482.03302 ,\n",
       "          544.5898  ,   348.46402 ,   298.36093 ,   264.52164 ,\n",
       "          275.54034 ,   217.0473  ,   194.11723 ,   318.98514 ,\n",
       "          276.3259  ,   412.12653 ,   531.50287 ,   737.20123 ,\n",
       "          964.3122  ,  1139.7976  ,  1436.108   ,  1253.894   ,\n",
       "          769.7869  ,   368.8339  ,   248.07608 ,   349.88177 ,\n",
       "          236.44028 ,   433.8725  ,   547.8416  ,   454.28268 ,\n",
       "          489.81732 ,   550.9361  ,   541.93317 ,   360.35812 ,\n",
       "          175.79326 ,   371.4222  ,   329.43954 ,   382.4131  ,\n",
       "          375.02643 ,   315.83078 ,   207.04738 ,   191.28554 ,\n",
       "          316.1091  ,   151.12949 ,   135.29176 ,   136.62224 ,\n",
       "          190.56703 ,   266.5443  ,   233.9462  ,   225.63438 ,\n",
       "          164.85925 ,   186.01688 ,   422.819   ,   529.80804 ,\n",
       "          626.0157  ,   701.2197  ,   786.20526 ,   696.8201  ,\n",
       "          501.63834 ,   216.05077 ,   121.37246 ,   273.32    ,\n",
       "          225.97519 ,   643.3048  ,   872.11694 ,  1068.1698  ,\n",
       "         1296.6963  ,  1352.1846  ,  1218.7146  ,  1207.8845  ,\n",
       "          435.03375 ,   237.99997 ,   213.15431 ,   240.18524 ,\n",
       "          278.58127 ,   360.35547 ,   188.8049  ,   277.2083  ,\n",
       "          746.7813  ,   946.63837 ,   882.5978  ,  1100.389   ,\n",
       "         1152.0406  ,  1250.1049  ,  1142.622   ,   453.19736 ,\n",
       "          519.3231  ,   572.5734  ,   411.53802 ,   626.9031  ,\n",
       "         1030.9711  ,  1172.575   ,   974.8945  ,  1175.3259  ,\n",
       "         1485.7078  ,  1872.584   ,  1592.7631  ,  1006.363   ,\n",
       "          689.01227 ,   722.9938  ,  1029.3134  ,  1278.4808  ,\n",
       "         1347.3187  ,  1164.4886  ,  1279.428   ,  1338.8887  ,\n",
       "          915.6524  ,  1548.7333  ,  1420.5627  ,  1172.5647  ,\n",
       "          405.9714  ,   418.804   ,   465.43945 ,   902.7359  ,\n",
       "          963.11945 ,   554.7834  ,   506.22412 ,   674.5458  ,\n",
       "          611.69434 ,  1203.7798  ,  2244.2124  ,  2987.4211  ,\n",
       "         3259.077   ,  3649.3142  ,  3765.0828  ,  3537.9858  ,\n",
       "         2345.8044  ,   963.3722  ,   640.5312  ,  1056.9371  ,\n",
       "         1364.4962  ,  1702.9469  ,  2201.2715  ,  2740.6357  ,\n",
       "         3291.7666  ,  3329.6062  ,  2859.7808  ,  3324.531   ,\n",
       "         3249.7937  ,  3735.2827  ,  3703.2437  ,  4870.099   ,\n",
       "         6172.824   ,  5565.431   ,  4779.447   ,  5428.2     ,\n",
       "         4500.453   ,  2817.6873  ,  2598.76    ,  4259.943   ,\n",
       "         5600.0903  ,  4999.3774  ,  1471.5924  ,  1413.1073  ,\n",
       "          942.07166 ,  3251.2578  ,  2927.9465  ,  3445.7258  ,\n",
       "         4151.6895  ,  3836.6992  ,  3986.106   ,  3866.3057  ,\n",
       "         1012.1567  ,  1434.146   ,  1574.0789  ,  1693.9862  ,\n",
       "         2312.2073  ,  2763.1736  ,  4439.042   ,  4096.647   ,\n",
       "         2600.1736  ,  2807.215   ,  3497.1165  ,  5770.652   ,\n",
       "         6951.01    ,  6318.595   ,  6989.2183  ,  7401.43    ,\n",
       "         6444.708   ,  7449.6084  ,  4077.2168  ,  1200.5123  ,\n",
       "         1815.993   ,  2021.9812  ,  2388.4622  ,  3572.7227  ,\n",
       "         4019.409   ,  3865.3174  ,  4306.8276  ,  3354.0222  ,\n",
       "         3786.5579  ,  6491.3584  ,  8353.437   , 10434.818   ,\n",
       "         9003.395   ,  5483.539   ,  2871.1318  ,  2454.2654  ,\n",
       "         2587.913   ,  3328.7302  ,  4509.402   ,  2847.53    ,\n",
       "         4077.5356  ,  3403.1985  ,  5509.4653  ,  6050.5283  ,\n",
       "         7469.3853  ,  7883.2983  ,  7361.1636  ,  5346.661   ,\n",
       "         3204.2244  ,  2016.9607  ,  2222.7463  ,  2243.0688  ,\n",
       "         4340.347   ,  2738.5798  ,  1977.8103  ,  4182.965   ,\n",
       "         4744.8125  ,  5127.9688  ,  5075.2607  ,  4819.9995  ,\n",
       "         2914.7795  ,  2154.398   ,  3159.8018  ,  4800.7246  ,\n",
       "         4661.878   ,  3153.2336  ,  3537.9736  ,  2857.515   ,\n",
       "          876.3842  ,  1199.0759  ,   762.12195 ,   836.3414  ,\n",
       "          835.55035 ,  1020.0702  ,  1323.06    ,  2679.5186  ,\n",
       "         3849.6995  ,  4105.62    ,  4138.5483  ,  3205.1274  ,\n",
       "         2821.0488  ,  2968.2725  ,  4690.2773  ,  6217.977   ,\n",
       "         7725.37    ,  8472.822   ,  8501.673   ,  6402.274   ,\n",
       "         4720.5615  ,  4336.677   ,  3477.5747  ,  2264.4382  ,\n",
       "         3589.332   ,  4628.9194  ,  5764.0156  ,  4354.152   ,\n",
       "         2378.9158  ,  2335.594   ,  3116.718   ,   934.8507  ,\n",
       "         1808.7507  ,  1921.5403  ,  1984.1714  ,  2338.1797  ,\n",
       "         2367.861   ,  3084.4976  ,  4280.3135  ,  6699.7114  ,\n",
       "         8690.822   ,  8985.094   ], dtype=float32),\n",
       " 'mape': array([ 1.6855316 ,  3.2510514 ,  4.0799165 ,  3.7750673 ,  3.823703  ,\n",
       "         3.4931552 ,  3.4830127 ,  3.174248  ,  3.1829643 ,  3.4900107 ,\n",
       "         4.3165336 ,  7.8397913 ,  2.5152917 ,  0.8851802 ,  1.2901089 ,\n",
       "         0.68796   ,  1.0327337 ,  1.04734   ,  0.99650306,  1.054663  ,\n",
       "         1.4381241 ,  1.7607847 ,  1.538079  ,  2.0306666 ,  2.172169  ,\n",
       "         3.944566  ,  5.152877  ,  7.7410936 ,  7.9069004 ,  6.7421327 ,\n",
       "         6.918596  ,  5.896378  ,  3.0674863 ,  2.8303812 ,  4.7188854 ,\n",
       "         4.643482  ,  5.6266794 ,  5.594475  ,  6.161176  ,  1.8861489 ,\n",
       "         2.4268196 ,  3.0192235 ,  4.228582  ,  7.0392737 ,  4.943128  ,\n",
       "         3.261197  ,  3.5078652 ,  4.178312  ,  4.9803905 ,  5.6951585 ,\n",
       "         8.102326  ,  9.161797  ,  7.0613065 ,  3.1448882 ,  1.4350078 ,\n",
       "         1.8678927 ,  1.9005656 ,  2.1918108 ,  3.4465413 ,  4.753827  ,\n",
       "         6.513741  ,  4.983587  ,  4.2393217 ,  3.481799  ,  2.4534361 ,\n",
       "         2.4351907 ,  2.5952535 ,  3.1341038 ,  5.4405    ,  6.0716295 ,\n",
       "         7.067357  ,  5.0661345 ,  2.974652  ,  1.5611911 ,  3.7241824 ,\n",
       "         3.3654366 ,  3.7570648 ,  5.3672166 ,  7.2371206 ,  9.927259  ,\n",
       "         9.512561  ,  7.9928646 ,  2.8509047 ,  2.1852179 ,  2.3332558 ,\n",
       "         3.068473  ,  4.330515  ,  4.6207633 ,  5.5647316 ,  6.7871943 ,\n",
       "        14.597629  , 25.91354   , 33.596054  , 33.22675   , 34.991653  ,\n",
       "        40.868267  , 47.01023   , 23.75825   , 10.953678  ,  8.4833    ,\n",
       "         9.381603  ,  8.986064  ,  8.979258  ,  8.624495  ,  4.1674194 ,\n",
       "         3.3800178 ,  5.3971615 ,  6.9804354 ,  4.4708014 ,  4.481281  ,\n",
       "         4.8798604 ,  4.9071193 ,  5.5539627 ,  5.042208  , 13.223537  ,\n",
       "        11.277177  ,  6.4433017 ,  5.911704  ,  3.44069   ,  3.0735145 ,\n",
       "         2.343775  ,  2.2328713 ,  3.2109785 ,  3.5745356 ,  7.162212  ,\n",
       "         8.9132    ,  4.0772624 ,  2.238605  ,  3.5567415 ,  3.6612928 ,\n",
       "         2.9507885 ,  5.1359024 ,  2.5049376 ,  2.717721  ,  2.9472067 ,\n",
       "         4.3568316 ,  5.4568734 ,  8.216143  ,  9.602499  ,  6.949698  ,\n",
       "         7.514657  ,  9.062015  , 10.495578  , 10.940315  , 12.367576  ,\n",
       "         5.301798  ,  2.6365826 ,  3.9805055 ,  3.8881767 ,  4.145368  ,\n",
       "         4.6187143 ,  5.2497954 ,  4.775784  ,  7.2528296 , 10.6859255 ,\n",
       "         9.96344   ,  3.192712  ,  4.6656127 ,  7.7641077 ,  4.7990947 ,\n",
       "         2.179295  ,  1.3339709 ,  2.517665  ,  4.2883644 ,  5.165709  ,\n",
       "         5.59459   ,  5.9186707 ,  3.0680447 ,  2.640025  ,  2.611992  ,\n",
       "         3.7571542 ,  6.3809433 ,  9.2839    ,  8.94975   ,  4.8750615 ,\n",
       "         2.9516828 ,  1.7643524 ,  1.8415388 ,  3.6111903 ,  1.2032218 ,\n",
       "         1.8395301 ,  1.5336809 ,  2.4078732 ,  1.7557274 ,  2.1725807 ,\n",
       "         3.277713  ,  4.1017013 ,  4.7174935 ,  1.262003  ,  1.2610257 ,\n",
       "         1.5302716 ,  0.7976873 ,  1.7209411 ,  1.4868242 ,  1.4982643 ,\n",
       "         1.9563066 ,  1.9359859 ,  2.4288182 ,  1.8522474 ,  3.4131765 ,\n",
       "         3.9837592 ,  2.522926  ,  1.3962054 ,  1.2668545 ,  1.2177005 ,\n",
       "         2.433481  ,  0.9954746 ,  1.3196304 ,  1.0618026 ,  1.2207034 ,\n",
       "         1.6804948 ,  1.7752362 ,  2.5855293 ,  1.4897761 ,  0.67020094,\n",
       "         1.8838153 ,  1.1799409 ,  0.68483853,  0.3976149 ,  0.45265862,\n",
       "         0.64558476,  0.9051874 ,  1.2871119 ,  1.4384471 ,  2.2080586 ,\n",
       "         2.8640256 ,  4.266236  ,  6.768591  ,  6.9590406 ,  7.5319157 ,\n",
       "         8.518369  , 10.371881  , 12.028923  , 12.127125  ,  4.481256  ,\n",
       "         2.0964985 ,  1.6923473 ,  2.0709076 ,  2.470114  ,  3.1275012 ,\n",
       "         1.2559193 ,  1.713948  ,  2.0205882 ,  1.7601503 ,  2.2394266 ,\n",
       "         2.1217113 ,  2.6058083 ,  1.869462  ,  2.0880456 ,  2.2707381 ,\n",
       "         2.3452878 ,  1.0901083 ,  2.0146327 ,  1.5059562 ,  1.4239607 ,\n",
       "         3.9564002 ,  4.503054  ,  2.355504  ,  1.9966153 ,  1.8732309 ,\n",
       "         2.0156145 ,  1.4930612 ,  1.3534044 ,  2.0475268 ,  1.8354069 ,\n",
       "         3.1685736 ,  4.3029876 ,  5.5654697 ,  7.5240054 ,  9.6845665 ,\n",
       "        13.181099  , 12.035233  ,  7.2414203 ,  3.3507519 ,  2.1777158 ,\n",
       "         3.1415846 ,  1.903036  ,  3.4526992 ,  4.3763885 ,  3.6213021 ,\n",
       "         3.8834453 ,  4.63993   ,  4.860035  ,  3.0450153 ,  1.4160408 ,\n",
       "         2.785798  ,  2.4197886 ,  3.081703  ,  3.218653  ,  2.2548537 ,\n",
       "         1.6079602 ,  1.5656637 ,  2.853764  ,  1.2486609 ,  1.0663903 ,\n",
       "         1.0737414 ,  1.6097145 ,  2.318143  ,  2.084711  ,  1.7787378 ,\n",
       "         1.4873543 ,  1.2417438 ,  2.8289368 ,  3.7018955 ,  4.537509  ,\n",
       "         5.3362436 ,  6.4451003 ,  5.8292594 ,  4.1842675 ,  1.4958686 ,\n",
       "         0.7303834 ,  2.0533571 ,  1.8960774 ,  3.2300916 ,  4.996001  ,\n",
       "         6.3578396 ,  8.331438  ,  9.512622  ,  8.787411  ,  9.006893  ,\n",
       "         2.8619778 ,  1.4459615 ,  1.4850079 ,  1.5983244 ,  1.8389881 ,\n",
       "         2.3327458 ,  1.1399584 ,  1.5542345 ,  3.2172163 ,  4.2983513 ,\n",
       "         4.4230905 ,  5.865389  ,  6.7370944 ,  7.6289907 ,  7.246195  ,\n",
       "         2.3055182 ,  2.8489628 ,  2.8143005 ,  2.2667918 ,  3.341413  ,\n",
       "         5.1695857 ,  5.273021  ,  4.6210995 ,  5.863016  ,  7.2442436 ,\n",
       "         9.718128  ,  8.386375  ,  5.19491   ,  3.4008045 ,  3.2607257 ,\n",
       "         3.8829298 ,  5.6577063 ,  6.2332563 ,  5.064622  ,  5.9673486 ,\n",
       "         6.056701  ,  4.483349  ,  7.585024  ,  7.0088096 ,  5.873221  ,\n",
       "         1.7689934 ,  1.8960847 ,  2.093489  ,  4.2190204 ,  4.23584   ,\n",
       "         2.5872917 ,  2.1611533 ,  3.0277393 ,  2.9046247 ,  3.9495404 ,\n",
       "         7.8565545 , 11.40204   , 12.149263  , 13.975986  , 15.073328  ,\n",
       "        14.999747  ,  9.849066  ,  3.594737  ,  1.8593069 ,  3.455164  ,\n",
       "         5.0213556 ,  5.5170355 ,  7.016445  ,  8.647757  , 10.606534  ,\n",
       "        10.897319  ,  7.788397  ,  8.269529  ,  8.574688  , 10.301267  ,\n",
       "         9.116728  , 10.9598465 , 13.875611  , 11.87794   , 10.782288  ,\n",
       "        12.456252  ,  9.49596   ,  6.248341  ,  5.739943  ,  9.942084  ,\n",
       "        14.651892  , 13.460853  ,  3.542649  ,  3.0566049 ,  1.9250711 ,\n",
       "         7.576116  ,  7.4003325 ,  8.427884  , 10.69135   , 10.348405  ,\n",
       "        11.536009  , 11.669227  ,  2.5725029 ,  3.2541983 ,  3.5288367 ,\n",
       "         3.9985244 ,  6.273813  ,  7.656761  , 11.994251  , 10.418477  ,\n",
       "         5.771512  ,  6.931926  ,  7.906698  , 12.841278  , 13.878369  ,\n",
       "        11.396714  , 13.039504  , 14.055181  , 13.312653  , 15.52386   ,\n",
       "         8.30092   ,  2.4751046 ,  2.7372491 ,  2.926588  ,  4.074233  ,\n",
       "         5.3467216 ,  5.6944284 ,  5.733389  ,  6.893324  ,  5.6847563 ,\n",
       "         6.812588  , 10.915204  , 15.658598  , 21.000902  , 18.940367  ,\n",
       "        10.944051  ,  4.895943  ,  4.33635   ,  4.7827463 ,  6.4491353 ,\n",
       "         8.725112  ,  4.961618  ,  7.0839024 ,  4.7527037 ,  7.9948983 ,\n",
       "         9.247838  , 11.744247  , 12.403945  , 11.920337  ,  8.67478   ,\n",
       "         4.5618057 ,  2.7600965 ,  3.1331751 ,  3.468538  ,  7.0809984 ,\n",
       "         3.7392616 ,  2.312583  ,  5.7542605 ,  7.563803  ,  8.567873  ,\n",
       "         8.861162  ,  8.7234    ,  4.068136  ,  3.69214   ,  4.928095  ,\n",
       "         7.821943  ,  7.5572023 ,  4.9862485 ,  5.860843  ,  4.771512  ,\n",
       "         1.3037952 ,  1.303898  ,  1.2145998 ,  1.1518728 ,  1.006982  ,\n",
       "         1.6806059 ,  1.8544296 ,  3.5737216 ,  5.2083125 ,  5.806833  ,\n",
       "         5.949088  ,  4.292408  ,  3.8318634 ,  4.438396  ,  6.282936  ,\n",
       "         9.289204  , 12.74426   , 14.710143  , 15.356138  , 11.489533  ,\n",
       "         8.168941  ,  7.60741   ,  5.455311  ,  4.032228  ,  5.8884044 ,\n",
       "         7.8948812 ,  9.911649  ,  7.33124   ,  3.4195065 ,  3.836143  ,\n",
       "         5.1844044 ,  1.2253553 ,  2.3884985 ,  2.6133447 ,  2.8206599 ,\n",
       "         3.493911  ,  3.5589879 ,  4.37133   ,  6.335315  , 10.831803  ,\n",
       "        15.676329  , 16.860165  ], dtype=float32),\n",
       " 'mase': 2.2097163}"
      ]
     },
     "execution_count": 64,
     "metadata": {},
     "output_type": "execute_result"
    }
   ],
   "source": [
    "# Evaluate model_3 results\n",
    "model_3_results = evaluate_preds(y_true=tf.squeeze(test_labels),\n",
    "                                 y_pred=model_3_preds)\n",
    "model_3_results"
   ]
  },
  {
   "cell_type": "markdown",
   "id": "eb20aaac",
   "metadata": {},
   "source": [
    "## Make our evaluation function work for larger horizons"
   ]
  },
  {
   "cell_type": "code",
   "execution_count": 65,
   "id": "c1d76057",
   "metadata": {},
   "outputs": [],
   "source": [
    "# Create a function to take in model predictions and truth values and return evaluation metrics\n",
    "def evaluate_preds(y_true, y_pred):\n",
    "    # Make sure float32 datatype (for metric calculation)\n",
    "    y_true = tf.cast(y_true, dtype=tf.float32)\n",
    "    y_pred = tf.cast(y_pred, dtype=tf.float32)\n",
    "\n",
    "    # Calculate various evaluation metrics\n",
    "    mae = tf.keras.metrics.mean_absolute_error(y_true, y_pred)\n",
    "    mse = tf.keras.metrics.mean_squared_error(y_true, y_pred)\n",
    "    rmse = tf.sqrt(mse)\n",
    "    mape = tf.keras.metrics.mean_absolute_percentage_error(y_true, y_pred)\n",
    "    mase = mean_absolute_scaled_error(y_true, y_pred)\n",
    "\n",
    "    # Account for different sized metrics (for longer horizons, we want to reduce metrics to a single value)\n",
    "    if mae.ndim > 0:\n",
    "        mae = tf.reduce_mean(mae)\n",
    "        mse = tf.reduce_mean(mse)\n",
    "        rmse = tf.reduce_mean(rmse)\n",
    "        mape = tf.reduce_mean(mape)\n",
    "        mase = tf.reduce_mean(mase)\n",
    "\n",
    "    return {\n",
    "        \"mae\": mae.numpy(),\n",
    "        \"mse\": mse.numpy(),\n",
    "        \"rmse\": rmse.numpy(),\n",
    "        \"mape\": mape.numpy(),\n",
    "        \"mase\": mase.numpy()\n",
    "    }"
   ]
  },
  {
   "cell_type": "code",
   "execution_count": 66,
   "id": "379adf2b",
   "metadata": {},
   "outputs": [
    {
     "data": {
      "text/plain": [
       "{'mae': 1292.3883,\n",
       " 'mse': 5712912.5,\n",
       " 'rmse': 1480.361,\n",
       " 'mape': 5.5229454,\n",
       " 'mase': 2.2097163}"
      ]
     },
     "execution_count": 66,
     "metadata": {},
     "output_type": "execute_result"
    }
   ],
   "source": [
    "# Get model_3 results aggregated to single values\n",
    "model_3_results = evaluate_preds(y_true=tf.squeeze(test_labels),\n",
    "                                 y_pred=model_3_preds)\n",
    "model_3_results"
   ]
  },
  {
   "cell_type": "markdown",
   "id": "919753cb",
   "metadata": {},
   "source": [
    "We have made and evaluated predictions with `model_3`, let's visualize visualize visualize!"
   ]
  },
  {
   "cell_type": "code",
   "execution_count": 67,
   "id": "58191ef7",
   "metadata": {},
   "outputs": [
    {
     "data": {
      "image/png": "[encoded data removed]",
      "text/plain": [
       "<Figure size 1000x700 with 1 Axes>"
      ]
     },
     "metadata": {},
     "output_type": "display_data"
    }
   ],
   "source": [
    "offset = 300\n",
    "plt.figure(figsize=(10, 7))\n",
    "plot_time_series(timesteps=X_test[-len(test_windows):], values=test_labels[:, 0], start=offset, label='Test Data')\n",
    "plot_time_series(timesteps=X_test[-len(test_windows):], values=tf.reduce_mean(model_3_preds, axis=1), format='-', start=offset, label='model_3_pred')"
   ]
  },
  {
   "cell_type": "markdown",
   "id": "f7318035",
   "metadata": {},
   "source": [
    "## Which of our models is performing the best so far?\n",
    "\n",
    "So we have trained a few models, now let's compare them and see how they have gone..."
   ]
  },
  {
   "cell_type": "code",
   "execution_count": 68,
   "id": "ef3b7b5b",
   "metadata": {},
   "outputs": [
    {
     "data": {
      "text/plain": [
       "<Axes: >"
      ]
     },
     "execution_count": 68,
     "metadata": {},
     "output_type": "execute_result"
    },
    {
     "data": {
      "image/png": "[encoded data removed]",
      "text/plain": [
       "<Figure size 1000x700 with 1 Axes>"
      ]
     },
     "metadata": {},
     "output_type": "display_data"
    }
   ],
   "source": [
    "pd.DataFrame({'naive': naive_results['mae'],\n",
    "              'horizon_1_window_7': model_1_results['mae'],\n",
    "              'horizon_1_window_30': model_2_results['mae'],\n",
    "              'horizon_7_window_30': model_3_results['mae']}, index=['mae']).plot(figsize=(10, 7), kind='bar')"
   ]
  },
  {
   "cell_type": "markdown",
   "id": "485fb523",
   "metadata": {},
   "source": [
    "## Model 4: Conv1D"
   ]
  },
  {
   "cell_type": "code",
   "execution_count": 69,
   "id": "5a19444d",
   "metadata": {},
   "outputs": [],
   "source": [
    "HORIZON = 1 # predict next day of Bitcoin prices\n",
    "WINDOW_SIZE = 7 # use previous week worth data"
   ]
  },
  {
   "cell_type": "code",
   "execution_count": 70,
   "id": "38fa46f3",
   "metadata": {},
   "outputs": [
    {
     "data": {
      "text/plain": [
       "(2780, 2780)"
      ]
     },
     "execution_count": 70,
     "metadata": {},
     "output_type": "execute_result"
    }
   ],
   "source": [
    "# Create windowed data\n",
    "full_windows, full_labels = make_windows(prices, window_size=WINDOW_SIZE, horizon=HORIZON)\n",
    "len(full_windows), len(full_labels)"
   ]
  },
  {
   "cell_type": "code",
   "execution_count": 71,
   "id": "5b7987b0",
   "metadata": {},
   "outputs": [
    {
     "data": {
      "text/plain": [
       "(2229, 2229, 551, 551)"
      ]
     },
     "execution_count": 71,
     "metadata": {},
     "output_type": "execute_result"
    }
   ],
   "source": [
    "# Create train/test sets\n",
    "train_windows, test_windows, train_labels, test_labels = make_train_test_splits(full_windows, full_labels)\n",
    "len(train_windows), len(train_labels), len(test_windows), len(test_labels)"
   ]
  },
  {
   "cell_type": "markdown",
   "id": "9bae52ae",
   "metadata": {},
   "source": [
    "To use the Conv1D layer, we need an input shape of: `(batch_size, timesteps, input_dim)`... However, our data isn't in that shape yet."
   ]
  },
  {
   "cell_type": "code",
   "execution_count": 72,
   "id": "bd72e3eb",
   "metadata": {},
   "outputs": [
    {
     "data": {
      "text/plain": [
       "(7,)"
      ]
     },
     "execution_count": 72,
     "metadata": {},
     "output_type": "execute_result"
    }
   ],
   "source": [
    "# Check data input shape\n",
    "train_windows[0].shape # returns (WINDOW_SIZE, )"
   ]
  },
  {
   "cell_type": "code",
   "execution_count": 73,
   "id": "70cb4513",
   "metadata": {},
   "outputs": [
    {
     "data": {
      "text/plain": [
       "<tf.Tensor: shape=(7,), dtype=float64, numpy=\n",
       "array([123.65499, 125.455  , 108.58483, 118.67466, 121.33866, 120.65533,\n",
       "       121.795  ])>"
      ]
     },
     "execution_count": 73,
     "metadata": {},
     "output_type": "execute_result"
    }
   ],
   "source": [
    "# Before we pass our data to the Conv1D layer, we have to reshape it in order to make sure it works \n",
    "x = tf.constant(train_windows[0])\n",
    "x"
   ]
  },
  {
   "cell_type": "code",
   "execution_count": 74,
   "id": "ba3f47a1",
   "metadata": {},
   "outputs": [],
   "source": [
    "expand_dims_layer = layers.Lambda(lambda x: tf.expand_dims(x, axis=1)) # add an extra dimension to our layer"
   ]
  },
  {
   "cell_type": "code",
   "execution_count": 75,
   "id": "18649f7e",
   "metadata": {},
   "outputs": [
    {
     "name": "stdout",
     "output_type": "stream",
     "text": [
      "Original shape: (7,)\n",
      "Expanded shape: (7, 1)\n",
      "Original values with expanded shape:\n",
      " [[123.65499]\n",
      " [125.455  ]\n",
      " [108.58483]\n",
      " [118.67466]\n",
      " [121.33866]\n",
      " [120.65533]\n",
      " [121.795  ]]\n"
     ]
    }
   ],
   "source": [
    "# Test out our lambda layer\n",
    "print(f'Original shape: {x.shape}') # (WINDOW_SIZE)\n",
    "print(f'Expanded shape: {expand_dims_layer(x).shape}')\n",
    "print(f'Original values with expanded shape:\\n {expand_dims_layer(x)}')"
   ]
  },
  {
   "cell_type": "code",
   "execution_count": 76,
   "id": "5a803a7f",
   "metadata": {},
   "outputs": [
    {
     "name": "stderr",
     "output_type": "stream",
     "text": [
      "WARNING:absl:Found untraced functions such as _jit_compiled_convolution_op while saving (showing 1 of 1). These functions will not be directly callable after loading.\n"
     ]
    },
    {
     "name": "stdout",
     "output_type": "stream",
     "text": [
      "INFO:tensorflow:Assets written to: model_experiments\\model_4_conv1D\\assets\n"
     ]
    },
    {
     "name": "stderr",
     "output_type": "stream",
     "text": [
      "INFO:tensorflow:Assets written to: model_experiments\\model_4_conv1D\\assets\n",
      "WARNING:absl:Found untraced functions such as _jit_compiled_convolution_op while saving (showing 1 of 1). These functions will not be directly callable after loading.\n"
     ]
    },
    {
     "name": "stdout",
     "output_type": "stream",
     "text": [
      "INFO:tensorflow:Assets written to: model_experiments\\model_4_conv1D\\assets\n"
     ]
    },
    {
     "name": "stderr",
     "output_type": "stream",
     "text": [
      "INFO:tensorflow:Assets written to: model_experiments\\model_4_conv1D\\assets\n",
      "WARNING:absl:Found untraced functions such as _jit_compiled_convolution_op while saving (showing 1 of 1). These functions will not be directly callable after loading.\n"
     ]
    },
    {
     "name": "stdout",
     "output_type": "stream",
     "text": [
      "INFO:tensorflow:Assets written to: model_experiments\\model_4_conv1D\\assets\n"
     ]
    },
    {
     "name": "stderr",
     "output_type": "stream",
     "text": [
      "INFO:tensorflow:Assets written to: model_experiments\\model_4_conv1D\\assets\n",
      "WARNING:absl:Found untraced functions such as _jit_compiled_convolution_op while saving (showing 1 of 1). These functions will not be directly callable after loading.\n"
     ]
    },
    {
     "name": "stdout",
     "output_type": "stream",
     "text": [
      "INFO:tensorflow:Assets written to: model_experiments\\model_4_conv1D\\assets\n"
     ]
    },
    {
     "name": "stderr",
     "output_type": "stream",
     "text": [
      "INFO:tensorflow:Assets written to: model_experiments\\model_4_conv1D\\assets\n",
      "WARNING:absl:Found untraced functions such as _jit_compiled_convolution_op while saving (showing 1 of 1). These functions will not be directly callable after loading.\n"
     ]
    },
    {
     "name": "stdout",
     "output_type": "stream",
     "text": [
      "INFO:tensorflow:Assets written to: model_experiments\\model_4_conv1D\\assets\n"
     ]
    },
    {
     "name": "stderr",
     "output_type": "stream",
     "text": [
      "INFO:tensorflow:Assets written to: model_experiments\\model_4_conv1D\\assets\n",
      "WARNING:absl:Found untraced functions such as _jit_compiled_convolution_op while saving (showing 1 of 1). These functions will not be directly callable after loading.\n"
     ]
    },
    {
     "name": "stdout",
     "output_type": "stream",
     "text": [
      "INFO:tensorflow:Assets written to: model_experiments\\model_4_conv1D\\assets\n"
     ]
    },
    {
     "name": "stderr",
     "output_type": "stream",
     "text": [
      "INFO:tensorflow:Assets written to: model_experiments\\model_4_conv1D\\assets\n",
      "WARNING:absl:Found untraced functions such as _jit_compiled_convolution_op while saving (showing 1 of 1). These functions will not be directly callable after loading.\n"
     ]
    },
    {
     "name": "stdout",
     "output_type": "stream",
     "text": [
      "INFO:tensorflow:Assets written to: model_experiments\\model_4_conv1D\\assets\n"
     ]
    },
    {
     "name": "stderr",
     "output_type": "stream",
     "text": [
      "INFO:tensorflow:Assets written to: model_experiments\\model_4_conv1D\\assets\n",
      "WARNING:absl:Found untraced functions such as _jit_compiled_convolution_op while saving (showing 1 of 1). These functions will not be directly callable after loading.\n"
     ]
    },
    {
     "name": "stdout",
     "output_type": "stream",
     "text": [
      "INFO:tensorflow:Assets written to: model_experiments\\model_4_conv1D\\assets\n"
     ]
    },
    {
     "name": "stderr",
     "output_type": "stream",
     "text": [
      "INFO:tensorflow:Assets written to: model_experiments\\model_4_conv1D\\assets\n",
      "WARNING:absl:Found untraced functions such as _jit_compiled_convolution_op while saving (showing 1 of 1). These functions will not be directly callable after loading.\n"
     ]
    },
    {
     "name": "stdout",
     "output_type": "stream",
     "text": [
      "INFO:tensorflow:Assets written to: model_experiments\\model_4_conv1D\\assets\n"
     ]
    },
    {
     "name": "stderr",
     "output_type": "stream",
     "text": [
      "INFO:tensorflow:Assets written to: model_experiments\\model_4_conv1D\\assets\n",
      "WARNING:absl:Found untraced functions such as _jit_compiled_convolution_op while saving (showing 1 of 1). These functions will not be directly callable after loading.\n"
     ]
    },
    {
     "name": "stdout",
     "output_type": "stream",
     "text": [
      "INFO:tensorflow:Assets written to: model_experiments\\model_4_conv1D\\assets\n"
     ]
    },
    {
     "name": "stderr",
     "output_type": "stream",
     "text": [
      "INFO:tensorflow:Assets written to: model_experiments\\model_4_conv1D\\assets\n",
      "WARNING:absl:Found untraced functions such as _jit_compiled_convolution_op while saving (showing 1 of 1). These functions will not be directly callable after loading.\n"
     ]
    },
    {
     "name": "stdout",
     "output_type": "stream",
     "text": [
      "INFO:tensorflow:Assets written to: model_experiments\\model_4_conv1D\\assets\n"
     ]
    },
    {
     "name": "stderr",
     "output_type": "stream",
     "text": [
      "INFO:tensorflow:Assets written to: model_experiments\\model_4_conv1D\\assets\n",
      "WARNING:absl:Found untraced functions such as _jit_compiled_convolution_op while saving (showing 1 of 1). These functions will not be directly callable after loading.\n"
     ]
    },
    {
     "name": "stdout",
     "output_type": "stream",
     "text": [
      "INFO:tensorflow:Assets written to: model_experiments\\model_4_conv1D\\assets\n"
     ]
    },
    {
     "name": "stderr",
     "output_type": "stream",
     "text": [
      "INFO:tensorflow:Assets written to: model_experiments\\model_4_conv1D\\assets\n",
      "WARNING:absl:Found untraced functions such as _jit_compiled_convolution_op while saving (showing 1 of 1). These functions will not be directly callable after loading.\n"
     ]
    },
    {
     "name": "stdout",
     "output_type": "stream",
     "text": [
      "INFO:tensorflow:Assets written to: model_experiments\\model_4_conv1D\\assets\n"
     ]
    },
    {
     "name": "stderr",
     "output_type": "stream",
     "text": [
      "INFO:tensorflow:Assets written to: model_experiments\\model_4_conv1D\\assets\n",
      "WARNING:absl:Found untraced functions such as _jit_compiled_convolution_op while saving (showing 1 of 1). These functions will not be directly callable after loading.\n"
     ]
    },
    {
     "name": "stdout",
     "output_type": "stream",
     "text": [
      "INFO:tensorflow:Assets written to: model_experiments\\model_4_conv1D\\assets\n"
     ]
    },
    {
     "name": "stderr",
     "output_type": "stream",
     "text": [
      "INFO:tensorflow:Assets written to: model_experiments\\model_4_conv1D\\assets\n",
      "WARNING:absl:Found untraced functions such as _jit_compiled_convolution_op while saving (showing 1 of 1). These functions will not be directly callable after loading.\n"
     ]
    },
    {
     "name": "stdout",
     "output_type": "stream",
     "text": [
      "INFO:tensorflow:Assets written to: model_experiments\\model_4_conv1D\\assets\n"
     ]
    },
    {
     "name": "stderr",
     "output_type": "stream",
     "text": [
      "INFO:tensorflow:Assets written to: model_experiments\\model_4_conv1D\\assets\n",
      "WARNING:absl:Found untraced functions such as _jit_compiled_convolution_op while saving (showing 1 of 1). These functions will not be directly callable after loading.\n"
     ]
    },
    {
     "name": "stdout",
     "output_type": "stream",
     "text": [
      "INFO:tensorflow:Assets written to: model_experiments\\model_4_conv1D\\assets\n"
     ]
    },
    {
     "name": "stderr",
     "output_type": "stream",
     "text": [
      "INFO:tensorflow:Assets written to: model_experiments\\model_4_conv1D\\assets\n",
      "WARNING:absl:Found untraced functions such as _jit_compiled_convolution_op while saving (showing 1 of 1). These functions will not be directly callable after loading.\n"
     ]
    },
    {
     "name": "stdout",
     "output_type": "stream",
     "text": [
      "INFO:tensorflow:Assets written to: model_experiments\\model_4_conv1D\\assets\n"
     ]
    },
    {
     "name": "stderr",
     "output_type": "stream",
     "text": [
      "INFO:tensorflow:Assets written to: model_experiments\\model_4_conv1D\\assets\n",
      "WARNING:absl:Found untraced functions such as _jit_compiled_convolution_op while saving (showing 1 of 1). These functions will not be directly callable after loading.\n"
     ]
    },
    {
     "name": "stdout",
     "output_type": "stream",
     "text": [
      "INFO:tensorflow:Assets written to: model_experiments\\model_4_conv1D\\assets\n"
     ]
    },
    {
     "name": "stderr",
     "output_type": "stream",
     "text": [
      "INFO:tensorflow:Assets written to: model_experiments\\model_4_conv1D\\assets\n",
      "WARNING:absl:Found untraced functions such as _jit_compiled_convolution_op while saving (showing 1 of 1). These functions will not be directly callable after loading.\n"
     ]
    },
    {
     "name": "stdout",
     "output_type": "stream",
     "text": [
      "INFO:tensorflow:Assets written to: model_experiments\\model_4_conv1D\\assets\n"
     ]
    },
    {
     "name": "stderr",
     "output_type": "stream",
     "text": [
      "INFO:tensorflow:Assets written to: model_experiments\\model_4_conv1D\\assets\n",
      "WARNING:absl:Found untraced functions such as _jit_compiled_convolution_op while saving (showing 1 of 1). These functions will not be directly callable after loading.\n"
     ]
    },
    {
     "name": "stdout",
     "output_type": "stream",
     "text": [
      "INFO:tensorflow:Assets written to: model_experiments\\model_4_conv1D\\assets\n"
     ]
    },
    {
     "name": "stderr",
     "output_type": "stream",
     "text": [
      "INFO:tensorflow:Assets written to: model_experiments\\model_4_conv1D\\assets\n",
      "WARNING:absl:Found untraced functions such as _jit_compiled_convolution_op while saving (showing 1 of 1). These functions will not be directly callable after loading.\n"
     ]
    },
    {
     "name": "stdout",
     "output_type": "stream",
     "text": [
      "INFO:tensorflow:Assets written to: model_experiments\\model_4_conv1D\\assets\n"
     ]
    },
    {
     "name": "stderr",
     "output_type": "stream",
     "text": [
      "INFO:tensorflow:Assets written to: model_experiments\\model_4_conv1D\\assets\n",
      "WARNING:absl:Found untraced functions such as _jit_compiled_convolution_op while saving (showing 1 of 1). These functions will not be directly callable after loading.\n"
     ]
    },
    {
     "name": "stdout",
     "output_type": "stream",
     "text": [
      "INFO:tensorflow:Assets written to: model_experiments\\model_4_conv1D\\assets\n"
     ]
    },
    {
     "name": "stderr",
     "output_type": "stream",
     "text": [
      "INFO:tensorflow:Assets written to: model_experiments\\model_4_conv1D\\assets\n",
      "WARNING:absl:Found untraced functions such as _jit_compiled_convolution_op while saving (showing 1 of 1). These functions will not be directly callable after loading.\n"
     ]
    },
    {
     "name": "stdout",
     "output_type": "stream",
     "text": [
      "INFO:tensorflow:Assets written to: model_experiments\\model_4_conv1D\\assets\n"
     ]
    },
    {
     "name": "stderr",
     "output_type": "stream",
     "text": [
      "INFO:tensorflow:Assets written to: model_experiments\\model_4_conv1D\\assets\n",
      "WARNING:absl:Found untraced functions such as _jit_compiled_convolution_op while saving (showing 1 of 1). These functions will not be directly callable after loading.\n"
     ]
    },
    {
     "name": "stdout",
     "output_type": "stream",
     "text": [
      "INFO:tensorflow:Assets written to: model_experiments\\model_4_conv1D\\assets\n"
     ]
    },
    {
     "name": "stderr",
     "output_type": "stream",
     "text": [
      "INFO:tensorflow:Assets written to: model_experiments\\model_4_conv1D\\assets\n",
      "WARNING:absl:Found untraced functions such as _jit_compiled_convolution_op while saving (showing 1 of 1). These functions will not be directly callable after loading.\n"
     ]
    },
    {
     "name": "stdout",
     "output_type": "stream",
     "text": [
      "INFO:tensorflow:Assets written to: model_experiments\\model_4_conv1D\\assets\n"
     ]
    },
    {
     "name": "stderr",
     "output_type": "stream",
     "text": [
      "INFO:tensorflow:Assets written to: model_experiments\\model_4_conv1D\\assets\n",
      "WARNING:absl:Found untraced functions such as _jit_compiled_convolution_op while saving (showing 1 of 1). These functions will not be directly callable after loading.\n"
     ]
    },
    {
     "name": "stdout",
     "output_type": "stream",
     "text": [
      "INFO:tensorflow:Assets written to: model_experiments\\model_4_conv1D\\assets\n"
     ]
    },
    {
     "name": "stderr",
     "output_type": "stream",
     "text": [
      "INFO:tensorflow:Assets written to: model_experiments\\model_4_conv1D\\assets\n",
      "WARNING:absl:Found untraced functions such as _jit_compiled_convolution_op while saving (showing 1 of 1). These functions will not be directly callable after loading.\n"
     ]
    },
    {
     "name": "stdout",
     "output_type": "stream",
     "text": [
      "INFO:tensorflow:Assets written to: model_experiments\\model_4_conv1D\\assets\n"
     ]
    },
    {
     "name": "stderr",
     "output_type": "stream",
     "text": [
      "INFO:tensorflow:Assets written to: model_experiments\\model_4_conv1D\\assets\n",
      "WARNING:absl:Found untraced functions such as _jit_compiled_convolution_op while saving (showing 1 of 1). These functions will not be directly callable after loading.\n"
     ]
    },
    {
     "name": "stdout",
     "output_type": "stream",
     "text": [
      "INFO:tensorflow:Assets written to: model_experiments\\model_4_conv1D\\assets\n"
     ]
    },
    {
     "name": "stderr",
     "output_type": "stream",
     "text": [
      "INFO:tensorflow:Assets written to: model_experiments\\model_4_conv1D\\assets\n",
      "WARNING:absl:Found untraced functions such as _jit_compiled_convolution_op while saving (showing 1 of 1). These functions will not be directly callable after loading.\n"
     ]
    },
    {
     "name": "stdout",
     "output_type": "stream",
     "text": [
      "INFO:tensorflow:Assets written to: model_experiments\\model_4_conv1D\\assets\n"
     ]
    },
    {
     "name": "stderr",
     "output_type": "stream",
     "text": [
      "INFO:tensorflow:Assets written to: model_experiments\\model_4_conv1D\\assets\n",
      "WARNING:absl:Found untraced functions such as _jit_compiled_convolution_op while saving (showing 1 of 1). These functions will not be directly callable after loading.\n"
     ]
    },
    {
     "name": "stdout",
     "output_type": "stream",
     "text": [
      "INFO:tensorflow:Assets written to: model_experiments\\model_4_conv1D\\assets\n"
     ]
    },
    {
     "name": "stderr",
     "output_type": "stream",
     "text": [
      "INFO:tensorflow:Assets written to: model_experiments\\model_4_conv1D\\assets\n",
      "WARNING:absl:Found untraced functions such as _jit_compiled_convolution_op while saving (showing 1 of 1). These functions will not be directly callable after loading.\n"
     ]
    },
    {
     "name": "stdout",
     "output_type": "stream",
     "text": [
      "INFO:tensorflow:Assets written to: model_experiments\\model_4_conv1D\\assets\n"
     ]
    },
    {
     "name": "stderr",
     "output_type": "stream",
     "text": [
      "INFO:tensorflow:Assets written to: model_experiments\\model_4_conv1D\\assets\n",
      "WARNING:absl:Found untraced functions such as _jit_compiled_convolution_op while saving (showing 1 of 1). These functions will not be directly callable after loading.\n"
     ]
    },
    {
     "name": "stdout",
     "output_type": "stream",
     "text": [
      "INFO:tensorflow:Assets written to: model_experiments\\model_4_conv1D\\assets\n"
     ]
    },
    {
     "name": "stderr",
     "output_type": "stream",
     "text": [
      "INFO:tensorflow:Assets written to: model_experiments\\model_4_conv1D\\assets\n",
      "WARNING:absl:Found untraced functions such as _jit_compiled_convolution_op while saving (showing 1 of 1). These functions will not be directly callable after loading.\n"
     ]
    },
    {
     "name": "stdout",
     "output_type": "stream",
     "text": [
      "INFO:tensorflow:Assets written to: model_experiments\\model_4_conv1D\\assets\n"
     ]
    },
    {
     "name": "stderr",
     "output_type": "stream",
     "text": [
      "INFO:tensorflow:Assets written to: model_experiments\\model_4_conv1D\\assets\n",
      "WARNING:absl:Found untraced functions such as _jit_compiled_convolution_op while saving (showing 1 of 1). These functions will not be directly callable after loading.\n"
     ]
    },
    {
     "name": "stdout",
     "output_type": "stream",
     "text": [
      "INFO:tensorflow:Assets written to: model_experiments\\model_4_conv1D\\assets\n"
     ]
    },
    {
     "name": "stderr",
     "output_type": "stream",
     "text": [
      "INFO:tensorflow:Assets written to: model_experiments\\model_4_conv1D\\assets\n",
      "WARNING:absl:Found untraced functions such as _jit_compiled_convolution_op while saving (showing 1 of 1). These functions will not be directly callable after loading.\n"
     ]
    },
    {
     "name": "stdout",
     "output_type": "stream",
     "text": [
      "INFO:tensorflow:Assets written to: model_experiments\\model_4_conv1D\\assets\n"
     ]
    },
    {
     "name": "stderr",
     "output_type": "stream",
     "text": [
      "INFO:tensorflow:Assets written to: model_experiments\\model_4_conv1D\\assets\n",
      "WARNING:absl:Found untraced functions such as _jit_compiled_convolution_op while saving (showing 1 of 1). These functions will not be directly callable after loading.\n"
     ]
    },
    {
     "name": "stdout",
     "output_type": "stream",
     "text": [
      "INFO:tensorflow:Assets written to: model_experiments\\model_4_conv1D\\assets\n"
     ]
    },
    {
     "name": "stderr",
     "output_type": "stream",
     "text": [
      "INFO:tensorflow:Assets written to: model_experiments\\model_4_conv1D\\assets\n",
      "WARNING:absl:Found untraced functions such as _jit_compiled_convolution_op while saving (showing 1 of 1). These functions will not be directly callable after loading.\n"
     ]
    },
    {
     "name": "stdout",
     "output_type": "stream",
     "text": [
      "INFO:tensorflow:Assets written to: model_experiments\\model_4_conv1D\\assets\n"
     ]
    },
    {
     "name": "stderr",
     "output_type": "stream",
     "text": [
      "INFO:tensorflow:Assets written to: model_experiments\\model_4_conv1D\\assets\n",
      "WARNING:absl:Found untraced functions such as _jit_compiled_convolution_op while saving (showing 1 of 1). These functions will not be directly callable after loading.\n"
     ]
    },
    {
     "name": "stdout",
     "output_type": "stream",
     "text": [
      "INFO:tensorflow:Assets written to: model_experiments\\model_4_conv1D\\assets\n"
     ]
    },
    {
     "name": "stderr",
     "output_type": "stream",
     "text": [
      "INFO:tensorflow:Assets written to: model_experiments\\model_4_conv1D\\assets\n",
      "WARNING:absl:Found untraced functions such as _jit_compiled_convolution_op while saving (showing 1 of 1). These functions will not be directly callable after loading.\n"
     ]
    },
    {
     "name": "stdout",
     "output_type": "stream",
     "text": [
      "INFO:tensorflow:Assets written to: model_experiments\\model_4_conv1D\\assets\n"
     ]
    },
    {
     "name": "stderr",
     "output_type": "stream",
     "text": [
      "INFO:tensorflow:Assets written to: model_experiments\\model_4_conv1D\\assets\n",
      "WARNING:absl:Found untraced functions such as _jit_compiled_convolution_op while saving (showing 1 of 1). These functions will not be directly callable after loading.\n"
     ]
    },
    {
     "name": "stdout",
     "output_type": "stream",
     "text": [
      "INFO:tensorflow:Assets written to: model_experiments\\model_4_conv1D\\assets\n"
     ]
    },
    {
     "name": "stderr",
     "output_type": "stream",
     "text": [
      "INFO:tensorflow:Assets written to: model_experiments\\model_4_conv1D\\assets\n",
      "WARNING:absl:Found untraced functions such as _jit_compiled_convolution_op while saving (showing 1 of 1). These functions will not be directly callable after loading.\n"
     ]
    },
    {
     "name": "stdout",
     "output_type": "stream",
     "text": [
      "INFO:tensorflow:Assets written to: model_experiments\\model_4_conv1D\\assets\n"
     ]
    },
    {
     "name": "stderr",
     "output_type": "stream",
     "text": [
      "INFO:tensorflow:Assets written to: model_experiments\\model_4_conv1D\\assets\n",
      "WARNING:absl:Found untraced functions such as _jit_compiled_convolution_op while saving (showing 1 of 1). These functions will not be directly callable after loading.\n"
     ]
    },
    {
     "name": "stdout",
     "output_type": "stream",
     "text": [
      "INFO:tensorflow:Assets written to: model_experiments\\model_4_conv1D\\assets\n"
     ]
    },
    {
     "name": "stderr",
     "output_type": "stream",
     "text": [
      "INFO:tensorflow:Assets written to: model_experiments\\model_4_conv1D\\assets\n"
     ]
    },
    {
     "data": {
      "text/plain": [
       "<keras.callbacks.History at 0x1a227807640>"
      ]
     },
     "execution_count": 76,
     "metadata": {},
     "output_type": "execute_result"
    }
   ],
   "source": [
    "tf.random.set_seed(42)\n",
    "\n",
    "# Create Conv1D model\n",
    "model_4 = tf.keras.Sequential([\n",
    "    layers.Lambda(lambda x: tf.expand_dims(x, axis=1)),\n",
    "    layers.Conv1D(filters=128, kernel_size=5, strides=1, padding='causal', activation='relu'),\n",
    "    layers.Dense(HORIZON)\n",
    "], name='model_4_conv1D')\n",
    "\n",
    "# Compile model\n",
    "model_4.compile(loss='mae',\n",
    "                optimizer=tf.keras.optimizers.Adam())\n",
    "\n",
    "# Fit model\n",
    "model_4.fit(train_windows,\n",
    "            train_labels,\n",
    "            batch_size=128,\n",
    "            epochs=100,\n",
    "            verbose=0,\n",
    "            validation_data=(test_windows, test_labels),\n",
    "            callbacks=[create_model_checkpoint(model_name=model_4.name)])"
   ]
  },
  {
   "cell_type": "code",
   "execution_count": 77,
   "id": "04870920",
   "metadata": {},
   "outputs": [
    {
     "name": "stdout",
     "output_type": "stream",
     "text": [
      "Model: \"model_4_conv1D\"\n",
      "_________________________________________________________________\n",
      " Layer (type)                Output Shape              Param #   \n",
      "=================================================================\n",
      " lambda_1 (Lambda)           (None, 1, 7)              0         \n",
      "                                                                 \n",
      " conv1d (Conv1D)             (None, 1, 128)            4608      \n",
      "                                                                 \n",
      " dense_6 (Dense)             (None, 1, 1)              129       \n",
      "                                                                 \n",
      "=================================================================\n",
      "Total params: 4,737\n",
      "Trainable params: 4,737\n",
      "Non-trainable params: 0\n",
      "_________________________________________________________________\n"
     ]
    }
   ],
   "source": [
    "model_4.summary()"
   ]
  },
  {
   "cell_type": "code",
   "execution_count": 78,
   "id": "f7fcad34",
   "metadata": {},
   "outputs": [
    {
     "name": "stdout",
     "output_type": "stream",
     "text": [
      "18/18 [==============================] - 0s 5ms/step - loss: 687.0399\n"
     ]
    },
    {
     "data": {
      "text/plain": [
       "687.0398559570312"
      ]
     },
     "execution_count": 78,
     "metadata": {},
     "output_type": "execute_result"
    }
   ],
   "source": [
    "# Evaluate model\n",
    "model_4.evaluate(test_windows, test_labels)"
   ]
  },
  {
   "cell_type": "code",
   "execution_count": 79,
   "id": "9315ab0d",
   "metadata": {},
   "outputs": [
    {
     "name": "stdout",
     "output_type": "stream",
     "text": [
      "18/18 [==============================] - 0s 4ms/step - loss: 581.7145\n"
     ]
    },
    {
     "data": {
      "text/plain": [
       "581.7145385742188"
      ]
     },
     "execution_count": 79,
     "metadata": {},
     "output_type": "execute_result"
    }
   ],
   "source": [
    "# Load back in best performing Conv1D and re-evaluate\n",
    "model_4 = tf.keras.models.load_model('model_experiments/model_4_conv1D')\n",
    "model_4.evaluate(test_windows, test_labels)"
   ]
  },
  {
   "cell_type": "code",
   "execution_count": 80,
   "id": "33cdffb2",
   "metadata": {},
   "outputs": [
    {
     "name": "stdout",
     "output_type": "stream",
     "text": [
      "18/18 [==============================] - 0s 3ms/step\n"
     ]
    },
    {
     "data": {
      "text/plain": [
       "<tf.Tensor: shape=(5,), dtype=float32, numpy=\n",
       "array([8788.88  , 8705.275 , 8565.0205, 8507.887 , 8544.4795],\n",
       "      dtype=float32)>"
      ]
     },
     "execution_count": 80,
     "metadata": {},
     "output_type": "execute_result"
    }
   ],
   "source": [
    "# Make predictions\n",
    "model_4_preds = make_preds(model_4, test_windows)\n",
    "model_4_preds[:5]"
   ]
  },
  {
   "cell_type": "code",
   "execution_count": 81,
   "id": "c6126ee6",
   "metadata": {},
   "outputs": [
    {
     "data": {
      "text/plain": [
       "{'mae': 581.71454,\n",
       " 'mse': 1211750.2,\n",
       " 'rmse': 1100.7953,\n",
       " 'mape': 2.6143692,\n",
       " 'mase': 1.0152954}"
      ]
     },
     "execution_count": 81,
     "metadata": {},
     "output_type": "execute_result"
    }
   ],
   "source": [
    "# Evaluate predictions\n",
    "model_4_results = evaluate_preds(y_true=tf.squeeze(test_labels),\n",
    "                                 y_pred=model_4_preds)\n",
    "model_4_results"
   ]
  },
  {
   "cell_type": "code",
   "execution_count": 82,
   "id": "d4aaf90b",
   "metadata": {},
   "outputs": [
    {
     "data": {
      "text/plain": [
       "{'mae': 573.1654,\n",
       " 'mse': 1181933.6,\n",
       " 'rmse': 1087.1677,\n",
       " 'mape': 2.5733118,\n",
       " 'mase': 1.0003741}"
      ]
     },
     "execution_count": 82,
     "metadata": {},
     "output_type": "execute_result"
    }
   ],
   "source": [
    "model_1_results"
   ]
  },
  {
   "cell_type": "markdown",
   "id": "a35ec103",
   "metadata": {},
   "source": [
    "## Model 5: RNN (LSTM)\n",
    "\n",
    "Let's build an RNN model for our time series data."
   ]
  },
  {
   "cell_type": "code",
   "execution_count": 83,
   "id": "1b1b5dcc",
   "metadata": {},
   "outputs": [
    {
     "name": "stdout",
     "output_type": "stream",
     "text": [
      "WARNING:tensorflow:Layer lstm will not use cuDNN kernels since it doesn't meet the criteria. It will use a generic GPU kernel as fallback when running on GPU.\n"
     ]
    },
    {
     "name": "stderr",
     "output_type": "stream",
     "text": [
      "WARNING:tensorflow:Layer lstm will not use cuDNN kernels since it doesn't meet the criteria. It will use a generic GPU kernel as fallback when running on GPU.\n"
     ]
    },
    {
     "name": "stdout",
     "output_type": "stream",
     "text": [
      "Epoch 1/100\n",
      "16/18 [=========================>....] - ETA: 0s - loss: 2264.7539INFO:tensorflow:Assets written to: model_experiments\\model_5_LSTM\\assets\n"
     ]
    },
    {
     "name": "stderr",
     "output_type": "stream",
     "text": [
      "INFO:tensorflow:Assets written to: model_experiments\\model_5_LSTM\\assets\n"
     ]
    },
    {
     "name": "stdout",
     "output_type": "stream",
     "text": [
      "18/18 [==============================] - 5s 177ms/step - loss: 2197.5562 - val_loss: 6887.1670\n",
      "Epoch 2/100\n",
      "15/18 [========================>.....] - ETA: 0s - loss: 487.7328INFO:tensorflow:Assets written to: model_experiments\\model_5_LSTM\\assets\n"
     ]
    },
    {
     "name": "stderr",
     "output_type": "stream",
     "text": [
      "INFO:tensorflow:Assets written to: model_experiments\\model_5_LSTM\\assets\n"
     ]
    },
    {
     "name": "stdout",
     "output_type": "stream",
     "text": [
      "18/18 [==============================] - 3s 190ms/step - loss: 468.4406 - val_loss: 1679.9408\n",
      "Epoch 3/100\n",
      "16/18 [=========================>....] - ETA: 0s - loss: 229.3851INFO:tensorflow:Assets written to: model_experiments\\model_5_LSTM\\assets\n"
     ]
    },
    {
     "name": "stderr",
     "output_type": "stream",
     "text": [
      "INFO:tensorflow:Assets written to: model_experiments\\model_5_LSTM\\assets\n"
     ]
    },
    {
     "name": "stdout",
     "output_type": "stream",
     "text": [
      "18/18 [==============================] - 3s 187ms/step - loss: 227.7941 - val_loss: 1141.7743\n",
      "Epoch 4/100\n",
      "18/18 [==============================] - 0s 19ms/step - loss: 202.5422 - val_loss: 1195.9675\n",
      "Epoch 5/100\n",
      "18/18 [==============================] - ETA: 0s - loss: 192.3098INFO:tensorflow:Assets written to: model_experiments\\model_5_LSTM\\assets\n"
     ]
    },
    {
     "name": "stderr",
     "output_type": "stream",
     "text": [
      "INFO:tensorflow:Assets written to: model_experiments\\model_5_LSTM\\assets\n"
     ]
    },
    {
     "name": "stdout",
     "output_type": "stream",
     "text": [
      "18/18 [==============================] - 3s 177ms/step - loss: 192.3098 - val_loss: 1102.1150\n",
      "Epoch 6/100\n",
      "17/18 [===========================>..] - ETA: 0s - loss: 192.2805INFO:tensorflow:Assets written to: model_experiments\\model_5_LSTM\\assets\n"
     ]
    },
    {
     "name": "stderr",
     "output_type": "stream",
     "text": [
      "INFO:tensorflow:Assets written to: model_experiments\\model_5_LSTM\\assets\n"
     ]
    },
    {
     "name": "stdout",
     "output_type": "stream",
     "text": [
      "18/18 [==============================] - 3s 178ms/step - loss: 191.0654 - val_loss: 1070.8367\n",
      "Epoch 7/100\n",
      "18/18 [==============================] - 0s 19ms/step - loss: 190.2843 - val_loss: 1081.3644\n",
      "Epoch 8/100\n",
      "18/18 [==============================] - 0s 16ms/step - loss: 187.4804 - val_loss: 1071.1609\n",
      "Epoch 9/100\n",
      "18/18 [==============================] - 0s 17ms/step - loss: 186.0121 - val_loss: 1083.0278\n",
      "Epoch 10/100\n",
      "18/18 [==============================] - 0s 21ms/step - loss: 184.8534 - val_loss: 1098.8837\n",
      "Epoch 11/100\n",
      "16/18 [=========================>....] - ETA: 0s - loss: 182.2730INFO:tensorflow:Assets written to: model_experiments\\model_5_LSTM\\assets\n"
     ]
    },
    {
     "name": "stderr",
     "output_type": "stream",
     "text": [
      "INFO:tensorflow:Assets written to: model_experiments\\model_5_LSTM\\assets\n"
     ]
    },
    {
     "name": "stdout",
     "output_type": "stream",
     "text": [
      "18/18 [==============================] - 3s 194ms/step - loss: 183.9589 - val_loss: 1018.8217\n",
      "Epoch 12/100\n",
      "15/18 [========================>.....] - ETA: 0s - loss: 186.0612INFO:tensorflow:Assets written to: model_experiments\\model_5_LSTM\\assets\n"
     ]
    },
    {
     "name": "stderr",
     "output_type": "stream",
     "text": [
      "INFO:tensorflow:Assets written to: model_experiments\\model_5_LSTM\\assets\n"
     ]
    },
    {
     "name": "stdout",
     "output_type": "stream",
     "text": [
      "18/18 [==============================] - 3s 175ms/step - loss: 184.2207 - val_loss: 1009.3622\n",
      "Epoch 13/100\n",
      "18/18 [==============================] - 0s 16ms/step - loss: 178.6252 - val_loss: 1021.9716\n",
      "Epoch 14/100\n",
      "18/18 [==============================] - 0s 14ms/step - loss: 176.8386 - val_loss: 1017.2442\n",
      "Epoch 15/100\n",
      "18/18 [==============================] - 0s 15ms/step - loss: 174.4338 - val_loss: 1013.9680\n",
      "Epoch 16/100\n",
      "15/18 [========================>.....] - ETA: 0s - loss: 173.0173INFO:tensorflow:Assets written to: model_experiments\\model_5_LSTM\\assets\n"
     ]
    },
    {
     "name": "stderr",
     "output_type": "stream",
     "text": [
      "INFO:tensorflow:Assets written to: model_experiments\\model_5_LSTM\\assets\n"
     ]
    },
    {
     "name": "stdout",
     "output_type": "stream",
     "text": [
      "18/18 [==============================] - 3s 173ms/step - loss: 173.3928 - val_loss: 990.0753\n",
      "Epoch 17/100\n",
      "13/18 [====================>.........] - ETA: 0s - loss: 162.8727INFO:tensorflow:Assets written to: model_experiments\\model_5_LSTM\\assets\n"
     ]
    },
    {
     "name": "stderr",
     "output_type": "stream",
     "text": [
      "INFO:tensorflow:Assets written to: model_experiments\\model_5_LSTM\\assets\n"
     ]
    },
    {
     "name": "stdout",
     "output_type": "stream",
     "text": [
      "18/18 [==============================] - 3s 170ms/step - loss: 170.0878 - val_loss: 950.3317\n",
      "Epoch 18/100\n",
      "18/18 [==============================] - 0s 18ms/step - loss: 170.6574 - val_loss: 990.9158\n",
      "Epoch 19/100\n",
      "18/18 [==============================] - 0s 16ms/step - loss: 166.4054 - val_loss: 981.1545\n",
      "Epoch 20/100\n",
      "16/18 [=========================>....] - ETA: 0s - loss: 169.0215INFO:tensorflow:Assets written to: model_experiments\\model_5_LSTM\\assets\n"
     ]
    },
    {
     "name": "stderr",
     "output_type": "stream",
     "text": [
      "INFO:tensorflow:Assets written to: model_experiments\\model_5_LSTM\\assets\n"
     ]
    },
    {
     "name": "stdout",
     "output_type": "stream",
     "text": [
      "18/18 [==============================] - 3s 203ms/step - loss: 166.6109 - val_loss: 916.2006\n",
      "Epoch 21/100\n",
      "17/18 [===========================>..] - ETA: 0s - loss: 166.1518INFO:tensorflow:Assets written to: model_experiments\\model_5_LSTM\\assets\n"
     ]
    },
    {
     "name": "stderr",
     "output_type": "stream",
     "text": [
      "INFO:tensorflow:Assets written to: model_experiments\\model_5_LSTM\\assets\n"
     ]
    },
    {
     "name": "stdout",
     "output_type": "stream",
     "text": [
      "18/18 [==============================] - 3s 179ms/step - loss: 165.4100 - val_loss: 902.8391\n",
      "Epoch 22/100\n",
      "18/18 [==============================] - 0s 18ms/step - loss: 161.4781 - val_loss: 973.3305\n",
      "Epoch 23/100\n",
      "18/18 [==============================] - 0s 16ms/step - loss: 158.7808 - val_loss: 924.0884\n",
      "Epoch 24/100\n",
      "18/18 [==============================] - 0s 18ms/step - loss: 155.6846 - val_loss: 924.0681\n",
      "Epoch 25/100\n",
      "15/18 [========================>.....] - ETA: 0s - loss: 157.3055INFO:tensorflow:Assets written to: model_experiments\\model_5_LSTM\\assets\n"
     ]
    },
    {
     "name": "stderr",
     "output_type": "stream",
     "text": [
      "INFO:tensorflow:Assets written to: model_experiments\\model_5_LSTM\\assets\n"
     ]
    },
    {
     "name": "stdout",
     "output_type": "stream",
     "text": [
      "18/18 [==============================] - 3s 182ms/step - loss: 155.9144 - val_loss: 862.2434\n",
      "Epoch 26/100\n",
      "15/18 [========================>.....] - ETA: 0s - loss: 156.8637INFO:tensorflow:Assets written to: model_experiments\\model_5_LSTM\\assets\n"
     ]
    },
    {
     "name": "stderr",
     "output_type": "stream",
     "text": [
      "INFO:tensorflow:Assets written to: model_experiments\\model_5_LSTM\\assets\n"
     ]
    },
    {
     "name": "stdout",
     "output_type": "stream",
     "text": [
      "18/18 [==============================] - 3s 175ms/step - loss: 152.3857 - val_loss: 852.6719\n",
      "Epoch 27/100\n",
      "18/18 [==============================] - 0s 9ms/step - loss: 151.2865 - val_loss: 919.7150\n",
      "Epoch 28/100\n",
      "16/18 [=========================>....] - ETA: 0s - loss: 152.5706INFO:tensorflow:Assets written to: model_experiments\\model_5_LSTM\\assets\n"
     ]
    },
    {
     "name": "stderr",
     "output_type": "stream",
     "text": [
      "INFO:tensorflow:Assets written to: model_experiments\\model_5_LSTM\\assets\n"
     ]
    },
    {
     "name": "stdout",
     "output_type": "stream",
     "text": [
      "18/18 [==============================] - 3s 201ms/step - loss: 150.5990 - val_loss: 850.2632\n",
      "Epoch 29/100\n",
      "18/18 [==============================] - 0s 16ms/step - loss: 147.6862 - val_loss: 854.9177\n",
      "Epoch 30/100\n",
      "17/18 [===========================>..] - ETA: 0s - loss: 144.1356INFO:tensorflow:Assets written to: model_experiments\\model_5_LSTM\\assets\n"
     ]
    },
    {
     "name": "stderr",
     "output_type": "stream",
     "text": [
      "INFO:tensorflow:Assets written to: model_experiments\\model_5_LSTM\\assets\n"
     ]
    },
    {
     "name": "stdout",
     "output_type": "stream",
     "text": [
      "18/18 [==============================] - 3s 178ms/step - loss: 143.9078 - val_loss: 827.7586\n",
      "Epoch 31/100\n",
      "15/18 [========================>.....] - ETA: 0s - loss: 146.8879INFO:tensorflow:Assets written to: model_experiments\\model_5_LSTM\\assets\n"
     ]
    },
    {
     "name": "stderr",
     "output_type": "stream",
     "text": [
      "INFO:tensorflow:Assets written to: model_experiments\\model_5_LSTM\\assets\n"
     ]
    },
    {
     "name": "stdout",
     "output_type": "stream",
     "text": [
      "18/18 [==============================] - 3s 168ms/step - loss: 143.6869 - val_loss: 813.3762\n",
      "Epoch 32/100\n",
      "15/18 [========================>.....] - ETA: 0s - loss: 143.4053INFO:tensorflow:Assets written to: model_experiments\\model_5_LSTM\\assets\n"
     ]
    },
    {
     "name": "stderr",
     "output_type": "stream",
     "text": [
      "INFO:tensorflow:Assets written to: model_experiments\\model_5_LSTM\\assets\n"
     ]
    },
    {
     "name": "stdout",
     "output_type": "stream",
     "text": [
      "18/18 [==============================] - 3s 195ms/step - loss: 143.1783 - val_loss: 803.7282\n",
      "Epoch 33/100\n",
      "16/18 [=========================>....] - ETA: 0s - loss: 141.5407INFO:tensorflow:Assets written to: model_experiments\\model_5_LSTM\\assets\n"
     ]
    },
    {
     "name": "stderr",
     "output_type": "stream",
     "text": [
      "INFO:tensorflow:Assets written to: model_experiments\\model_5_LSTM\\assets\n"
     ]
    },
    {
     "name": "stdout",
     "output_type": "stream",
     "text": [
      "18/18 [==============================] - 3s 181ms/step - loss: 142.3191 - val_loss: 780.8693\n",
      "Epoch 34/100\n",
      "15/18 [========================>.....] - ETA: 0s - loss: 145.1946INFO:tensorflow:Assets written to: model_experiments\\model_5_LSTM\\assets\n"
     ]
    },
    {
     "name": "stderr",
     "output_type": "stream",
     "text": [
      "INFO:tensorflow:Assets written to: model_experiments\\model_5_LSTM\\assets\n"
     ]
    },
    {
     "name": "stdout",
     "output_type": "stream",
     "text": [
      "18/18 [==============================] - 3s 175ms/step - loss: 144.6860 - val_loss: 767.4164\n",
      "Epoch 35/100\n",
      "15/18 [========================>.....] - ETA: 0s - loss: 141.1476INFO:tensorflow:Assets written to: model_experiments\\model_5_LSTM\\assets\n"
     ]
    },
    {
     "name": "stderr",
     "output_type": "stream",
     "text": [
      "INFO:tensorflow:Assets written to: model_experiments\\model_5_LSTM\\assets\n"
     ]
    },
    {
     "name": "stdout",
     "output_type": "stream",
     "text": [
      "18/18 [==============================] - 3s 175ms/step - loss: 137.8975 - val_loss: 763.8836\n",
      "Epoch 36/100\n",
      "16/18 [=========================>....] - ETA: 0s - loss: 136.1933INFO:tensorflow:Assets written to: model_experiments\\model_5_LSTM\\assets\n"
     ]
    },
    {
     "name": "stderr",
     "output_type": "stream",
     "text": [
      "INFO:tensorflow:Assets written to: model_experiments\\model_5_LSTM\\assets\n"
     ]
    },
    {
     "name": "stdout",
     "output_type": "stream",
     "text": [
      "18/18 [==============================] - 3s 179ms/step - loss: 135.2731 - val_loss: 757.5222\n",
      "Epoch 37/100\n",
      "15/18 [========================>.....] - ETA: 0s - loss: 132.1826INFO:tensorflow:Assets written to: model_experiments\\model_5_LSTM\\assets\n"
     ]
    },
    {
     "name": "stderr",
     "output_type": "stream",
     "text": [
      "INFO:tensorflow:Assets written to: model_experiments\\model_5_LSTM\\assets\n"
     ]
    },
    {
     "name": "stdout",
     "output_type": "stream",
     "text": [
      "18/18 [==============================] - 3s 202ms/step - loss: 132.8549 - val_loss: 742.3683\n",
      "Epoch 38/100\n",
      "18/18 [==============================] - 0s 16ms/step - loss: 132.9636 - val_loss: 746.3994\n",
      "Epoch 39/100\n",
      "18/18 [==============================] - ETA: 0s - loss: 130.8912INFO:tensorflow:Assets written to: model_experiments\\model_5_LSTM\\assets\n"
     ]
    },
    {
     "name": "stderr",
     "output_type": "stream",
     "text": [
      "INFO:tensorflow:Assets written to: model_experiments\\model_5_LSTM\\assets\n"
     ]
    },
    {
     "name": "stdout",
     "output_type": "stream",
     "text": [
      "18/18 [==============================] - 3s 171ms/step - loss: 130.8912 - val_loss: 734.6983\n",
      "Epoch 40/100\n",
      "16/18 [=========================>....] - ETA: 0s - loss: 128.7329INFO:tensorflow:Assets written to: model_experiments\\model_5_LSTM\\assets\n"
     ]
    },
    {
     "name": "stderr",
     "output_type": "stream",
     "text": [
      "INFO:tensorflow:Assets written to: model_experiments\\model_5_LSTM\\assets\n"
     ]
    },
    {
     "name": "stdout",
     "output_type": "stream",
     "text": [
      "18/18 [==============================] - 3s 173ms/step - loss: 129.9379 - val_loss: 718.8307\n",
      "Epoch 41/100\n",
      "18/18 [==============================] - 0s 16ms/step - loss: 129.0356 - val_loss: 725.4771\n",
      "Epoch 42/100\n",
      "18/18 [==============================] - 0s 17ms/step - loss: 127.9323 - val_loss: 741.3429\n",
      "Epoch 43/100\n",
      "16/18 [=========================>....] - ETA: 0s - loss: 129.9179INFO:tensorflow:Assets written to: model_experiments\\model_5_LSTM\\assets\n"
     ]
    },
    {
     "name": "stderr",
     "output_type": "stream",
     "text": [
      "INFO:tensorflow:Assets written to: model_experiments\\model_5_LSTM\\assets\n"
     ]
    },
    {
     "name": "stdout",
     "output_type": "stream",
     "text": [
      "18/18 [==============================] - 3s 194ms/step - loss: 129.3776 - val_loss: 701.7931\n",
      "Epoch 44/100\n",
      "18/18 [==============================] - 0s 15ms/step - loss: 125.6876 - val_loss: 719.5473\n",
      "Epoch 45/100\n",
      "18/18 [==============================] - 0s 16ms/step - loss: 124.1202 - val_loss: 743.7419\n",
      "Epoch 46/100\n",
      "17/18 [===========================>..] - ETA: 0s - loss: 124.8385INFO:tensorflow:Assets written to: model_experiments\\model_5_LSTM\\assets\n"
     ]
    },
    {
     "name": "stderr",
     "output_type": "stream",
     "text": [
      "INFO:tensorflow:Assets written to: model_experiments\\model_5_LSTM\\assets\n"
     ]
    },
    {
     "name": "stdout",
     "output_type": "stream",
     "text": [
      "18/18 [==============================] - 3s 168ms/step - loss: 124.4640 - val_loss: 685.4977\n",
      "Epoch 47/100\n",
      "16/18 [=========================>....] - ETA: 0s - loss: 122.8836INFO:tensorflow:Assets written to: model_experiments\\model_5_LSTM\\assets\n"
     ]
    },
    {
     "name": "stderr",
     "output_type": "stream",
     "text": [
      "INFO:tensorflow:Assets written to: model_experiments\\model_5_LSTM\\assets\n"
     ]
    },
    {
     "name": "stdout",
     "output_type": "stream",
     "text": [
      "18/18 [==============================] - 3s 165ms/step - loss: 122.0383 - val_loss: 673.1662\n",
      "Epoch 48/100\n",
      "18/18 [==============================] - 0s 13ms/step - loss: 121.9020 - val_loss: 740.0864\n",
      "Epoch 49/100\n",
      "18/18 [==============================] - 0s 16ms/step - loss: 122.1660 - val_loss: 683.3593\n",
      "Epoch 50/100\n",
      "14/18 [======================>.......] - ETA: 0s - loss: 122.4835INFO:tensorflow:Assets written to: model_experiments\\model_5_LSTM\\assets\n"
     ]
    },
    {
     "name": "stderr",
     "output_type": "stream",
     "text": [
      "INFO:tensorflow:Assets written to: model_experiments\\model_5_LSTM\\assets\n"
     ]
    },
    {
     "name": "stdout",
     "output_type": "stream",
     "text": [
      "18/18 [==============================] - 3s 157ms/step - loss: 121.3119 - val_loss: 660.3976\n",
      "Epoch 51/100\n",
      "18/18 [==============================] - 0s 17ms/step - loss: 122.4492 - val_loss: 700.1847\n",
      "Epoch 52/100\n",
      "18/18 [==============================] - 0s 15ms/step - loss: 121.3470 - val_loss: 662.4507\n",
      "Epoch 53/100\n",
      "18/18 [==============================] - 0s 14ms/step - loss: 119.0261 - val_loss: 678.9399\n",
      "Epoch 54/100\n",
      "18/18 [==============================] - 0s 15ms/step - loss: 120.0972 - val_loss: 668.0750\n",
      "Epoch 55/100\n",
      "18/18 [==============================] - 0s 14ms/step - loss: 126.1474 - val_loss: 734.5295\n",
      "Epoch 56/100\n",
      "16/18 [=========================>....] - ETA: 0s - loss: 120.9440INFO:tensorflow:Assets written to: model_experiments\\model_5_LSTM\\assets\n"
     ]
    },
    {
     "name": "stderr",
     "output_type": "stream",
     "text": [
      "INFO:tensorflow:Assets written to: model_experiments\\model_5_LSTM\\assets\n"
     ]
    },
    {
     "name": "stdout",
     "output_type": "stream",
     "text": [
      "18/18 [==============================] - 3s 194ms/step - loss: 120.9767 - val_loss: 640.6575\n",
      "Epoch 57/100\n",
      "18/18 [==============================] - 0s 20ms/step - loss: 120.8747 - val_loss: 641.2745\n",
      "Epoch 58/100\n",
      "16/18 [=========================>....] - ETA: 0s - loss: 119.8311INFO:tensorflow:Assets written to: model_experiments\\model_5_LSTM\\assets\n"
     ]
    },
    {
     "name": "stderr",
     "output_type": "stream",
     "text": [
      "INFO:tensorflow:Assets written to: model_experiments\\model_5_LSTM\\assets\n"
     ]
    },
    {
     "name": "stdout",
     "output_type": "stream",
     "text": [
      "18/18 [==============================] - 3s 176ms/step - loss: 118.9814 - val_loss: 633.7614\n",
      "Epoch 59/100\n",
      "18/18 [==============================] - 0s 16ms/step - loss: 117.3875 - val_loss: 637.6543\n",
      "Epoch 60/100\n",
      "15/18 [========================>.....] - ETA: 0s - loss: 119.6978INFO:tensorflow:Assets written to: model_experiments\\model_5_LSTM\\assets\n"
     ]
    },
    {
     "name": "stderr",
     "output_type": "stream",
     "text": [
      "INFO:tensorflow:Assets written to: model_experiments\\model_5_LSTM\\assets\n"
     ]
    },
    {
     "name": "stdout",
     "output_type": "stream",
     "text": [
      "18/18 [==============================] - 3s 168ms/step - loss: 121.8579 - val_loss: 628.2527\n",
      "Epoch 61/100\n",
      "18/18 [==============================] - 0s 14ms/step - loss: 118.3549 - val_loss: 642.0088\n",
      "Epoch 62/100\n",
      "18/18 [==============================] - 0s 14ms/step - loss: 122.6709 - val_loss: 631.2089\n",
      "Epoch 63/100\n",
      "18/18 [==============================] - ETA: 0s - loss: 117.9110INFO:tensorflow:Assets written to: model_experiments\\model_5_LSTM\\assets\n"
     ]
    },
    {
     "name": "stderr",
     "output_type": "stream",
     "text": [
      "INFO:tensorflow:Assets written to: model_experiments\\model_5_LSTM\\assets\n"
     ]
    },
    {
     "name": "stdout",
     "output_type": "stream",
     "text": [
      "18/18 [==============================] - 3s 171ms/step - loss: 117.9110 - val_loss: 627.4367\n",
      "Epoch 64/100\n",
      "11/18 [=================>............] - ETA: 0s - loss: 116.3987INFO:tensorflow:Assets written to: model_experiments\\model_5_LSTM\\assets\n"
     ]
    },
    {
     "name": "stderr",
     "output_type": "stream",
     "text": [
      "INFO:tensorflow:Assets written to: model_experiments\\model_5_LSTM\\assets\n"
     ]
    },
    {
     "name": "stdout",
     "output_type": "stream",
     "text": [
      "18/18 [==============================] - 4s 215ms/step - loss: 120.0655 - val_loss: 622.6525\n",
      "Epoch 65/100\n",
      "15/18 [========================>.....] - ETA: 0s - loss: 117.5653INFO:tensorflow:Assets written to: model_experiments\\model_5_LSTM\\assets\n"
     ]
    },
    {
     "name": "stderr",
     "output_type": "stream",
     "text": [
      "INFO:tensorflow:Assets written to: model_experiments\\model_5_LSTM\\assets\n"
     ]
    },
    {
     "name": "stdout",
     "output_type": "stream",
     "text": [
      "18/18 [==============================] - 3s 179ms/step - loss: 116.6802 - val_loss: 619.3953\n",
      "Epoch 66/100\n",
      "18/18 [==============================] - 0s 10ms/step - loss: 114.8393 - val_loss: 633.4422\n",
      "Epoch 67/100\n",
      "18/18 [==============================] - 0s 18ms/step - loss: 116.4168 - val_loss: 633.8796\n",
      "Epoch 68/100\n",
      "16/18 [=========================>....] - ETA: 0s - loss: 118.3499INFO:tensorflow:Assets written to: model_experiments\\model_5_LSTM\\assets\n"
     ]
    },
    {
     "name": "stderr",
     "output_type": "stream",
     "text": [
      "INFO:tensorflow:Assets written to: model_experiments\\model_5_LSTM\\assets\n"
     ]
    },
    {
     "name": "stdout",
     "output_type": "stream",
     "text": [
      "18/18 [==============================] - 3s 191ms/step - loss: 117.9431 - val_loss: 616.9316\n",
      "Epoch 69/100\n",
      "18/18 [==============================] - 0s 15ms/step - loss: 113.5938 - val_loss: 631.8220\n",
      "Epoch 70/100\n",
      "18/18 [==============================] - 0s 17ms/step - loss: 115.1012 - val_loss: 649.6843\n",
      "Epoch 71/100\n",
      "18/18 [==============================] - 0s 17ms/step - loss: 115.2862 - val_loss: 652.8829\n",
      "Epoch 72/100\n",
      "18/18 [==============================] - 0s 15ms/step - loss: 114.5821 - val_loss: 618.1113\n",
      "Epoch 73/100\n",
      "17/18 [===========================>..] - ETA: 0s - loss: 116.5602INFO:tensorflow:Assets written to: model_experiments\\model_5_LSTM\\assets\n"
     ]
    },
    {
     "name": "stderr",
     "output_type": "stream",
     "text": [
      "INFO:tensorflow:Assets written to: model_experiments\\model_5_LSTM\\assets\n"
     ]
    },
    {
     "name": "stdout",
     "output_type": "stream",
     "text": [
      "18/18 [==============================] - 3s 171ms/step - loss: 115.7107 - val_loss: 615.9189\n",
      "Epoch 74/100\n",
      "18/18 [==============================] - ETA: 0s - loss: 115.1053INFO:tensorflow:Assets written to: model_experiments\\model_5_LSTM\\assets\n"
     ]
    },
    {
     "name": "stderr",
     "output_type": "stream",
     "text": [
      "INFO:tensorflow:Assets written to: model_experiments\\model_5_LSTM\\assets\n"
     ]
    },
    {
     "name": "stdout",
     "output_type": "stream",
     "text": [
      "18/18 [==============================] - 3s 177ms/step - loss: 115.1053 - val_loss: 615.0847\n",
      "Epoch 75/100\n",
      "17/18 [===========================>..] - ETA: 0s - loss: 113.5022INFO:tensorflow:Assets written to: model_experiments\\model_5_LSTM\\assets\n"
     ]
    },
    {
     "name": "stderr",
     "output_type": "stream",
     "text": [
      "INFO:tensorflow:Assets written to: model_experiments\\model_5_LSTM\\assets\n"
     ]
    },
    {
     "name": "stdout",
     "output_type": "stream",
     "text": [
      "18/18 [==============================] - 3s 193ms/step - loss: 112.9569 - val_loss: 612.8919\n",
      "Epoch 76/100\n",
      "18/18 [==============================] - 0s 18ms/step - loss: 114.6132 - val_loss: 622.6703\n",
      "Epoch 77/100\n",
      "15/18 [========================>.....] - ETA: 0s - loss: 110.3228INFO:tensorflow:Assets written to: model_experiments\\model_5_LSTM\\assets\n"
     ]
    },
    {
     "name": "stderr",
     "output_type": "stream",
     "text": [
      "INFO:tensorflow:Assets written to: model_experiments\\model_5_LSTM\\assets\n"
     ]
    },
    {
     "name": "stdout",
     "output_type": "stream",
     "text": [
      "18/18 [==============================] - 3s 181ms/step - loss: 112.2862 - val_loss: 602.5205\n",
      "Epoch 78/100\n",
      "18/18 [==============================] - 0s 19ms/step - loss: 112.2041 - val_loss: 611.4901\n",
      "Epoch 79/100\n",
      "18/18 [==============================] - 0s 16ms/step - loss: 113.2205 - val_loss: 612.5480\n",
      "Epoch 80/100\n",
      "18/18 [==============================] - 0s 16ms/step - loss: 117.9073 - val_loss: 679.9496\n",
      "Epoch 81/100\n",
      "18/18 [==============================] - 0s 16ms/step - loss: 120.7358 - val_loss: 651.3818\n",
      "Epoch 82/100\n",
      "18/18 [==============================] - 0s 14ms/step - loss: 113.8170 - val_loss: 621.0830\n",
      "Epoch 83/100\n",
      "16/18 [=========================>....] - ETA: 0s - loss: 113.7535INFO:tensorflow:Assets written to: model_experiments\\model_5_LSTM\\assets\n"
     ]
    },
    {
     "name": "stderr",
     "output_type": "stream",
     "text": [
      "INFO:tensorflow:Assets written to: model_experiments\\model_5_LSTM\\assets\n"
     ]
    },
    {
     "name": "stdout",
     "output_type": "stream",
     "text": [
      "18/18 [==============================] - 3s 194ms/step - loss: 114.3514 - val_loss: 600.6400\n",
      "Epoch 84/100\n",
      "18/18 [==============================] - 0s 16ms/step - loss: 112.2874 - val_loss: 603.6269\n",
      "Epoch 85/100\n",
      "18/18 [==============================] - 0s 20ms/step - loss: 111.5222 - val_loss: 639.1812\n",
      "Epoch 86/100\n",
      "14/18 [======================>.......] - ETA: 0s - loss: 111.3228INFO:tensorflow:Assets written to: model_experiments\\model_5_LSTM\\assets\n"
     ]
    },
    {
     "name": "stderr",
     "output_type": "stream",
     "text": [
      "INFO:tensorflow:Assets written to: model_experiments\\model_5_LSTM\\assets\n"
     ]
    },
    {
     "name": "stdout",
     "output_type": "stream",
     "text": [
      "18/18 [==============================] - 4s 207ms/step - loss: 112.7794 - val_loss: 598.1673\n",
      "Epoch 87/100\n",
      "15/18 [========================>.....] - ETA: 0s - loss: 107.2138INFO:tensorflow:Assets written to: model_experiments\\model_5_LSTM\\assets\n"
     ]
    },
    {
     "name": "stderr",
     "output_type": "stream",
     "text": [
      "INFO:tensorflow:Assets written to: model_experiments\\model_5_LSTM\\assets\n"
     ]
    },
    {
     "name": "stdout",
     "output_type": "stream",
     "text": [
      "18/18 [==============================] - 3s 195ms/step - loss: 110.7898 - val_loss: 597.3365\n",
      "Epoch 88/100\n",
      "18/18 [==============================] - 0s 16ms/step - loss: 111.7188 - val_loss: 600.5551\n",
      "Epoch 89/100\n",
      "18/18 [==============================] - 0s 16ms/step - loss: 111.1006 - val_loss: 619.0076\n",
      "Epoch 90/100\n",
      "18/18 [==============================] - 0s 21ms/step - loss: 111.5930 - val_loss: 602.7065\n",
      "Epoch 91/100\n",
      "18/18 [==============================] - 0s 14ms/step - loss: 114.1959 - val_loss: 606.1639\n",
      "Epoch 92/100\n",
      "14/18 [======================>.......] - ETA: 0s - loss: 109.7779INFO:tensorflow:Assets written to: model_experiments\\model_5_LSTM\\assets\n"
     ]
    },
    {
     "name": "stderr",
     "output_type": "stream",
     "text": [
      "INFO:tensorflow:Assets written to: model_experiments\\model_5_LSTM\\assets\n"
     ]
    },
    {
     "name": "stdout",
     "output_type": "stream",
     "text": [
      "18/18 [==============================] - 3s 167ms/step - loss: 111.2434 - val_loss: 592.7556\n",
      "Epoch 93/100\n",
      "18/18 [==============================] - 0s 20ms/step - loss: 111.6449 - val_loss: 623.5125\n",
      "Epoch 94/100\n",
      "18/18 [==============================] - 0s 14ms/step - loss: 112.3750 - val_loss: 622.4331\n",
      "Epoch 95/100\n",
      "18/18 [==============================] - 0s 15ms/step - loss: 117.0308 - val_loss: 596.2517\n",
      "Epoch 96/100\n",
      "16/18 [=========================>....] - ETA: 0s - loss: 113.9941INFO:tensorflow:Assets written to: model_experiments\\model_5_LSTM\\assets\n"
     ]
    },
    {
     "name": "stderr",
     "output_type": "stream",
     "text": [
      "INFO:tensorflow:Assets written to: model_experiments\\model_5_LSTM\\assets\n"
     ]
    },
    {
     "name": "stdout",
     "output_type": "stream",
     "text": [
      "18/18 [==============================] - 3s 173ms/step - loss: 113.8303 - val_loss: 590.3246\n",
      "Epoch 97/100\n",
      "18/18 [==============================] - 0s 19ms/step - loss: 111.6932 - val_loss: 644.7314\n",
      "Epoch 98/100\n",
      "18/18 [==============================] - 0s 17ms/step - loss: 110.6991 - val_loss: 639.3378\n",
      "Epoch 99/100\n",
      "18/18 [==============================] - 0s 15ms/step - loss: 111.6655 - val_loss: 594.2927\n",
      "Epoch 100/100\n",
      "18/18 [==============================] - 0s 13ms/step - loss: 111.1012 - val_loss: 661.9982\n"
     ]
    },
    {
     "data": {
      "text/plain": [
       "<keras.callbacks.History at 0x1a23fffd930>"
      ]
     },
     "execution_count": 83,
     "metadata": {},
     "output_type": "execute_result"
    }
   ],
   "source": [
    "tf.random.set_seed(42)\n",
    "\n",
    "# Let's build an LSTM model with the Functional API\n",
    "inputs = layers.Input(shape=(WINDOW_SIZE))\n",
    "x = layers.Lambda(lambda x: tf.expand_dims(x, axis=1))(inputs)\n",
    "# x = layers.LSTM(128, return_sequences=True)(x)\n",
    "x = layers.LSTM(128, activation='relu')(x)\n",
    "# x = layers.Dense(32, activation='relu')(x)\n",
    "output = layers.Dense(HORIZON)(x)\n",
    "model_5 = tf.keras.Model(inputs=inputs, outputs=output, name='model_5_LSTM')\n",
    "\n",
    "# Compile\n",
    "model_5.compile(loss='mae',\n",
    "                optimizer=tf.keras.optimizers.Adam())\n",
    "\n",
    "# Fit\n",
    "model_5.fit(train_windows,\n",
    "            train_labels,\n",
    "            epochs=100,\n",
    "            verbose=1,\n",
    "            batch_size=128,\n",
    "            validation_data=(test_windows, test_labels),\n",
    "            callbacks=[create_model_checkpoint(model_name=model_5.name)])"
   ]
  },
  {
   "cell_type": "code",
   "execution_count": 84,
   "id": "4fa206e2",
   "metadata": {},
   "outputs": [
    {
     "name": "stdout",
     "output_type": "stream",
     "text": [
      "WARNING:tensorflow:Layer lstm will not use cuDNN kernels since it doesn't meet the criteria. It will use a generic GPU kernel as fallback when running on GPU.\n"
     ]
    },
    {
     "name": "stderr",
     "output_type": "stream",
     "text": [
      "WARNING:tensorflow:Layer lstm will not use cuDNN kernels since it doesn't meet the criteria. It will use a generic GPU kernel as fallback when running on GPU.\n"
     ]
    },
    {
     "name": "stdout",
     "output_type": "stream",
     "text": [
      "18/18 [==============================] - 0s 4ms/step - loss: 590.3245\n"
     ]
    },
    {
     "data": {
      "text/plain": [
       "590.3245239257812"
      ]
     },
     "execution_count": 84,
     "metadata": {},
     "output_type": "execute_result"
    }
   ],
   "source": [
    "# Load in best version of model 5 and evaluate on the test data\n",
    "model_5 = tf.keras.models.load_model('model_experiments/model_5_LSTM')\n",
    "model_5.evaluate(test_windows, test_labels)"
   ]
  },
  {
   "cell_type": "code",
   "execution_count": 85,
   "id": "fffd443b",
   "metadata": {},
   "outputs": [
    {
     "name": "stdout",
     "output_type": "stream",
     "text": [
      "18/18 [==============================] - 0s 5ms/step\n"
     ]
    }
   ],
   "source": [
    "# Make predictions with our LSTM model\n",
    "model_5_preds = make_preds(model_5, test_windows)"
   ]
  },
  {
   "cell_type": "code",
   "execution_count": 86,
   "id": "2d0b5984",
   "metadata": {},
   "outputs": [],
   "source": [
    "# Evaluate model 5 predictions\n",
    "model_5_results = evaluate_preds(y_true=tf.squeeze(test_labels),\n",
    "                                 y_pred=model_5_preds)"
   ]
  },
  {
   "cell_type": "code",
   "execution_count": 87,
   "id": "4d3fdfe4",
   "metadata": {},
   "outputs": [
    {
     "data": {
      "text/plain": [
       "{'mae': 590.3246,\n",
       " 'mse': 1242094.5,\n",
       " 'rmse': 1114.4929,\n",
       " 'mape': 2.6422505,\n",
       " 'mase': 1.0303229}"
      ]
     },
     "execution_count": 87,
     "metadata": {},
     "output_type": "execute_result"
    }
   ],
   "source": [
    "model_5_results"
   ]
  },
  {
   "cell_type": "code",
   "execution_count": 88,
   "id": "c140368e",
   "metadata": {},
   "outputs": [
    {
     "data": {
      "text/plain": [
       "{'mae': 567.9802,\n",
       " 'mse': 1147547.0,\n",
       " 'rmse': 1071.2362,\n",
       " 'mape': 2.516525,\n",
       " 'mase': 0.99957}"
      ]
     },
     "execution_count": 88,
     "metadata": {},
     "output_type": "execute_result"
    }
   ],
   "source": [
    "naive_results"
   ]
  },
  {
   "cell_type": "markdown",
   "id": "a6b67d33",
   "metadata": {},
   "source": [
    "**Note:** Because neural networks are such powerful algorithms, they can be used for almost any problem, however, that doesn't mean they'll achieve performant or usable results."
   ]
  },
  {
   "cell_type": "markdown",
   "id": "061fd3b4",
   "metadata": {},
   "source": [
    "## Make a multivariate time series dataset\n",
    "\n",
    "Before we add feature to our time series, what is a feature we can use?\n",
    "\n",
    "One feature we could add is whether or not Elon Musk tweeted on that day...\n",
    "\n",
    "* day 1 - 0\n",
    "* day 2 - 1\n",
    "* day 3 - 0\n",
    "\n",
    "What's a better feature to use?\n",
    "\n",
    "How about the bitcoin halving events..."
   ]
  },
  {
   "cell_type": "code",
   "execution_count": 89,
   "id": "024b7514",
   "metadata": {},
   "outputs": [
    {
     "data": {
      "application/vnd.microsoft.datawrangler.viewer.v0+json": {
       "columns": [
        {
         "name": "Date",
         "rawType": "datetime64[ns]",
         "type": "datetime"
        },
        {
         "name": "Price",
         "rawType": "float64",
         "type": "float"
        }
       ],
       "ref": "1b965a5b-aedd-49f1-b9f8-eaae6eb5d4aa",
       "rows": [
        [
         "2013-10-01 00:00:00",
         "123.65499"
        ],
        [
         "2013-10-02 00:00:00",
         "125.455"
        ],
        [
         "2013-10-03 00:00:00",
         "108.58483"
        ],
        [
         "2013-10-04 00:00:00",
         "118.67466"
        ],
        [
         "2013-10-05 00:00:00",
         "121.33866"
        ]
       ],
       "shape": {
        "columns": 1,
        "rows": 5
       }
      },
      "text/html": [
       "<div>\n",
       "<style scoped>\n",
       "    .dataframe tbody tr th:only-of-type {\n",
       "        vertical-align: middle;\n",
       "    }\n",
       "\n",
       "    .dataframe tbody tr th {\n",
       "        vertical-align: top;\n",
       "    }\n",
       "\n",
       "    .dataframe thead th {\n",
       "        text-align: right;\n",
       "    }\n",
       "</style>\n",
       "<table border=\"1\" class=\"dataframe\">\n",
       "  <thead>\n",
       "    <tr style=\"text-align: right;\">\n",
       "      <th></th>\n",
       "      <th>Price</th>\n",
       "    </tr>\n",
       "    <tr>\n",
       "      <th>Date</th>\n",
       "      <th></th>\n",
       "    </tr>\n",
       "  </thead>\n",
       "  <tbody>\n",
       "    <tr>\n",
       "      <th>2013-10-01</th>\n",
       "      <td>123.65499</td>\n",
       "    </tr>\n",
       "    <tr>\n",
       "      <th>2013-10-02</th>\n",
       "      <td>125.45500</td>\n",
       "    </tr>\n",
       "    <tr>\n",
       "      <th>2013-10-03</th>\n",
       "      <td>108.58483</td>\n",
       "    </tr>\n",
       "    <tr>\n",
       "      <th>2013-10-04</th>\n",
       "      <td>118.67466</td>\n",
       "    </tr>\n",
       "    <tr>\n",
       "      <th>2013-10-05</th>\n",
       "      <td>121.33866</td>\n",
       "    </tr>\n",
       "  </tbody>\n",
       "</table>\n",
       "</div>"
      ],
      "text/plain": [
       "                Price\n",
       "Date                 \n",
       "2013-10-01  123.65499\n",
       "2013-10-02  125.45500\n",
       "2013-10-03  108.58483\n",
       "2013-10-04  118.67466\n",
       "2013-10-05  121.33866"
      ]
     },
     "execution_count": 89,
     "metadata": {},
     "output_type": "execute_result"
    }
   ],
   "source": [
    "# Let's make a multivariate time series dataset\n",
    "bitcoin_prices.head()"
   ]
  },
  {
   "cell_type": "code",
   "execution_count": 90,
   "id": "283d1236",
   "metadata": {},
   "outputs": [],
   "source": [
    "# Let's add the bitcoin halving events to our dataset\n",
    "block_reward_1 = 50 # 3 January 2009 - this block reward isn't in our dataset\n",
    "block_reward_2 = 25 # 8 November 2012\n",
    "block_reward_3 = 12.5 # 9 July 2016\n",
    "block_reward_4 = 6.25 # 18 May 2020\n",
    "\n",
    "# Block reward dates\n",
    "block_reward_2_datetime = np.datetime64('2012-11-28')\n",
    "block_reward_3_datetime = np.datetime64('2016-07-09')\n",
    "block_reward_4_datetime = np.datetime64('2020-05-18')"
   ]
  },
  {
   "cell_type": "code",
   "execution_count": 91,
   "id": "7be9bcc5",
   "metadata": {},
   "outputs": [
    {
     "data": {
      "text/plain": [
       "(1012, 2421)"
      ]
     },
     "execution_count": 91,
     "metadata": {},
     "output_type": "execute_result"
    }
   ],
   "source": [
    "# Create date ranges of where specific block_reward values should be\n",
    "block_reward_2_days = (block_reward_3_datetime - bitcoin_prices.index[0]).days\n",
    "block_reward_3_days = (block_reward_4_datetime - bitcoin_prices.index[0]).days\n",
    "block_reward_2_days, block_reward_3_days"
   ]
  },
  {
   "cell_type": "code",
   "execution_count": 92,
   "id": "aac64c85",
   "metadata": {},
   "outputs": [],
   "source": [
    "# Add in a block_reward column\n",
    "bitcoin_prices_block = bitcoin_prices.copy()\n",
    "bitcoin_prices_block['block_reward'] = None\n",
    "\n",
    "# Add in block_reward values as a feature to our dataframe\n",
    "bitcoin_prices_block.iloc[:block_reward_2_days, -1] = block_reward_2\n",
    "bitcoin_prices_block.iloc[block_reward_2_days:block_reward_3_days, -1] = block_reward_3\n",
    "bitcoin_prices_block.iloc[block_reward_3_days:, -1] = block_reward_4"
   ]
  },
  {
   "cell_type": "code",
   "execution_count": 93,
   "id": "fd384ff5",
   "metadata": {},
   "outputs": [
    {
     "data": {
      "image/png": "[encoded data removed]",
      "text/plain": [
       "<Figure size 1000x700 with 1 Axes>"
      ]
     },
     "metadata": {},
     "output_type": "display_data"
    }
   ],
   "source": [
    "# Plot the block reward vs price over time\n",
    "from sklearn.preprocessing import minmax_scale\n",
    "scaled_price_block_df = pd.DataFrame(minmax_scale(bitcoin_prices_block[['Price', 'block_reward']]),\n",
    "                                     columns=bitcoin_prices_block.columns,\n",
    "                                     index=bitcoin_prices_block.index)\n",
    "scaled_price_block_df.plot(figsize=(10, 7));"
   ]
  },
  {
   "cell_type": "markdown",
   "id": "7f4ca624",
   "metadata": {},
   "source": [
    "## Making a window dataset with pandas\n",
    "\n",
    "Previously, we have turned our univariate time series into windowed dataset using the helper functions above.\n",
    "\n",
    "However, since we have got multivariate data, these functions won't work.\n",
    "\n",
    "Not to worry, we can use the ``pandas.DataFrame.shift()`` method to window our multivariate data."
   ]
  },
  {
   "cell_type": "code",
   "execution_count": 94,
   "id": "9f9d829a",
   "metadata": {},
   "outputs": [],
   "source": [
    "# Setup dataset hyperparameters\n",
    "HORIZON = 1\n",
    "WINDOW_SIZE = 7"
   ]
  },
  {
   "cell_type": "code",
   "execution_count": 95,
   "id": "5daec40e",
   "metadata": {},
   "outputs": [
    {
     "data": {
      "application/vnd.microsoft.datawrangler.viewer.v0+json": {
       "columns": [
        {
         "name": "Date",
         "rawType": "datetime64[ns]",
         "type": "datetime"
        },
        {
         "name": "Price",
         "rawType": "float64",
         "type": "float"
        },
        {
         "name": "block_reward",
         "rawType": "object",
         "type": "unknown"
        },
        {
         "name": "Price+1",
         "rawType": "float64",
         "type": "float"
        },
        {
         "name": "Price+2",
         "rawType": "float64",
         "type": "float"
        },
        {
         "name": "Price+3",
         "rawType": "float64",
         "type": "float"
        },
        {
         "name": "Price+4",
         "rawType": "float64",
         "type": "float"
        },
        {
         "name": "Price+5",
         "rawType": "float64",
         "type": "float"
        },
        {
         "name": "Price+6",
         "rawType": "float64",
         "type": "float"
        },
        {
         "name": "Price+7",
         "rawType": "float64",
         "type": "float"
        }
       ],
       "ref": "06598695-7a08-40c4-a66a-4c703716abb8",
       "rows": [
        [
         "2013-10-01 00:00:00",
         "123.65499",
         "25",
         null,
         null,
         null,
         null,
         null,
         null,
         null
        ],
        [
         "2013-10-02 00:00:00",
         "125.455",
         "25",
         "123.65499",
         null,
         null,
         null,
         null,
         null,
         null
        ],
        [
         "2013-10-03 00:00:00",
         "108.58483",
         "25",
         "125.455",
         "123.65499",
         null,
         null,
         null,
         null,
         null
        ],
        [
         "2013-10-04 00:00:00",
         "118.67466",
         "25",
         "108.58483",
         "125.455",
         "123.65499",
         null,
         null,
         null,
         null
        ],
        [
         "2013-10-05 00:00:00",
         "121.33866",
         "25",
         "118.67466",
         "108.58483",
         "125.455",
         "123.65499",
         null,
         null,
         null
        ],
        [
         "2013-10-06 00:00:00",
         "120.65533",
         "25",
         "121.33866",
         "118.67466",
         "108.58483",
         "125.455",
         "123.65499",
         null,
         null
        ],
        [
         "2013-10-07 00:00:00",
         "121.795",
         "25",
         "120.65533",
         "121.33866",
         "118.67466",
         "108.58483",
         "125.455",
         "123.65499",
         null
        ],
        [
         "2013-10-08 00:00:00",
         "123.033",
         "25",
         "121.795",
         "120.65533",
         "121.33866",
         "118.67466",
         "108.58483",
         "125.455",
         "123.65499"
        ],
        [
         "2013-10-09 00:00:00",
         "124.049",
         "25",
         "123.033",
         "121.795",
         "120.65533",
         "121.33866",
         "118.67466",
         "108.58483",
         "125.455"
        ],
        [
         "2013-10-10 00:00:00",
         "125.96116",
         "25",
         "124.049",
         "123.033",
         "121.795",
         "120.65533",
         "121.33866",
         "118.67466",
         "108.58483"
        ]
       ],
       "shape": {
        "columns": 9,
        "rows": 10
       }
      },
      "text/html": [
       "<div>\n",
       "<style scoped>\n",
       "    .dataframe tbody tr th:only-of-type {\n",
       "        vertical-align: middle;\n",
       "    }\n",
       "\n",
       "    .dataframe tbody tr th {\n",
       "        vertical-align: top;\n",
       "    }\n",
       "\n",
       "    .dataframe thead th {\n",
       "        text-align: right;\n",
       "    }\n",
       "</style>\n",
       "<table border=\"1\" class=\"dataframe\">\n",
       "  <thead>\n",
       "    <tr style=\"text-align: right;\">\n",
       "      <th></th>\n",
       "      <th>Price</th>\n",
       "      <th>block_reward</th>\n",
       "      <th>Price+1</th>\n",
       "      <th>Price+2</th>\n",
       "      <th>Price+3</th>\n",
       "      <th>Price+4</th>\n",
       "      <th>Price+5</th>\n",
       "      <th>Price+6</th>\n",
       "      <th>Price+7</th>\n",
       "    </tr>\n",
       "    <tr>\n",
       "      <th>Date</th>\n",
       "      <th></th>\n",
       "      <th></th>\n",
       "      <th></th>\n",
       "      <th></th>\n",
       "      <th></th>\n",
       "      <th></th>\n",
       "      <th></th>\n",
       "      <th></th>\n",
       "      <th></th>\n",
       "    </tr>\n",
       "  </thead>\n",
       "  <tbody>\n",
       "    <tr>\n",
       "      <th>2013-10-01</th>\n",
       "      <td>123.65499</td>\n",
       "      <td>25</td>\n",
       "      <td>NaN</td>\n",
       "      <td>NaN</td>\n",
       "      <td>NaN</td>\n",
       "      <td>NaN</td>\n",
       "      <td>NaN</td>\n",
       "      <td>NaN</td>\n",
       "      <td>NaN</td>\n",
       "    </tr>\n",
       "    <tr>\n",
       "      <th>2013-10-02</th>\n",
       "      <td>125.45500</td>\n",
       "      <td>25</td>\n",
       "      <td>123.65499</td>\n",
       "      <td>NaN</td>\n",
       "      <td>NaN</td>\n",
       "      <td>NaN</td>\n",
       "      <td>NaN</td>\n",
       "      <td>NaN</td>\n",
       "      <td>NaN</td>\n",
       "    </tr>\n",
       "    <tr>\n",
       "      <th>2013-10-03</th>\n",
       "      <td>108.58483</td>\n",
       "      <td>25</td>\n",
       "      <td>125.45500</td>\n",
       "      <td>123.65499</td>\n",
       "      <td>NaN</td>\n",
       "      <td>NaN</td>\n",
       "      <td>NaN</td>\n",
       "      <td>NaN</td>\n",
       "      <td>NaN</td>\n",
       "    </tr>\n",
       "    <tr>\n",
       "      <th>2013-10-04</th>\n",
       "      <td>118.67466</td>\n",
       "      <td>25</td>\n",
       "      <td>108.58483</td>\n",
       "      <td>125.45500</td>\n",
       "      <td>123.65499</td>\n",
       "      <td>NaN</td>\n",
       "      <td>NaN</td>\n",
       "      <td>NaN</td>\n",
       "      <td>NaN</td>\n",
       "    </tr>\n",
       "    <tr>\n",
       "      <th>2013-10-05</th>\n",
       "      <td>121.33866</td>\n",
       "      <td>25</td>\n",
       "      <td>118.67466</td>\n",
       "      <td>108.58483</td>\n",
       "      <td>125.45500</td>\n",
       "      <td>123.65499</td>\n",
       "      <td>NaN</td>\n",
       "      <td>NaN</td>\n",
       "      <td>NaN</td>\n",
       "    </tr>\n",
       "    <tr>\n",
       "      <th>2013-10-06</th>\n",
       "      <td>120.65533</td>\n",
       "      <td>25</td>\n",
       "      <td>121.33866</td>\n",
       "      <td>118.67466</td>\n",
       "      <td>108.58483</td>\n",
       "      <td>125.45500</td>\n",
       "      <td>123.65499</td>\n",
       "      <td>NaN</td>\n",
       "      <td>NaN</td>\n",
       "    </tr>\n",
       "    <tr>\n",
       "      <th>2013-10-07</th>\n",
       "      <td>121.79500</td>\n",
       "      <td>25</td>\n",
       "      <td>120.65533</td>\n",
       "      <td>121.33866</td>\n",
       "      <td>118.67466</td>\n",
       "      <td>108.58483</td>\n",
       "      <td>125.45500</td>\n",
       "      <td>123.65499</td>\n",
       "      <td>NaN</td>\n",
       "    </tr>\n",
       "    <tr>\n",
       "      <th>2013-10-08</th>\n",
       "      <td>123.03300</td>\n",
       "      <td>25</td>\n",
       "      <td>121.79500</td>\n",
       "      <td>120.65533</td>\n",
       "      <td>121.33866</td>\n",
       "      <td>118.67466</td>\n",
       "      <td>108.58483</td>\n",
       "      <td>125.45500</td>\n",
       "      <td>123.65499</td>\n",
       "    </tr>\n",
       "    <tr>\n",
       "      <th>2013-10-09</th>\n",
       "      <td>124.04900</td>\n",
       "      <td>25</td>\n",
       "      <td>123.03300</td>\n",
       "      <td>121.79500</td>\n",
       "      <td>120.65533</td>\n",
       "      <td>121.33866</td>\n",
       "      <td>118.67466</td>\n",
       "      <td>108.58483</td>\n",
       "      <td>125.45500</td>\n",
       "    </tr>\n",
       "    <tr>\n",
       "      <th>2013-10-10</th>\n",
       "      <td>125.96116</td>\n",
       "      <td>25</td>\n",
       "      <td>124.04900</td>\n",
       "      <td>123.03300</td>\n",
       "      <td>121.79500</td>\n",
       "      <td>120.65533</td>\n",
       "      <td>121.33866</td>\n",
       "      <td>118.67466</td>\n",
       "      <td>108.58483</td>\n",
       "    </tr>\n",
       "  </tbody>\n",
       "</table>\n",
       "</div>"
      ],
      "text/plain": [
       "                Price block_reward    Price+1    Price+2    Price+3  \\\n",
       "Date                                                                  \n",
       "2013-10-01  123.65499           25        NaN        NaN        NaN   \n",
       "2013-10-02  125.45500           25  123.65499        NaN        NaN   \n",
       "2013-10-03  108.58483           25  125.45500  123.65499        NaN   \n",
       "2013-10-04  118.67466           25  108.58483  125.45500  123.65499   \n",
       "2013-10-05  121.33866           25  118.67466  108.58483  125.45500   \n",
       "2013-10-06  120.65533           25  121.33866  118.67466  108.58483   \n",
       "2013-10-07  121.79500           25  120.65533  121.33866  118.67466   \n",
       "2013-10-08  123.03300           25  121.79500  120.65533  121.33866   \n",
       "2013-10-09  124.04900           25  123.03300  121.79500  120.65533   \n",
       "2013-10-10  125.96116           25  124.04900  123.03300  121.79500   \n",
       "\n",
       "              Price+4    Price+5    Price+6    Price+7  \n",
       "Date                                                    \n",
       "2013-10-01        NaN        NaN        NaN        NaN  \n",
       "2013-10-02        NaN        NaN        NaN        NaN  \n",
       "2013-10-03        NaN        NaN        NaN        NaN  \n",
       "2013-10-04        NaN        NaN        NaN        NaN  \n",
       "2013-10-05  123.65499        NaN        NaN        NaN  \n",
       "2013-10-06  125.45500  123.65499        NaN        NaN  \n",
       "2013-10-07  108.58483  125.45500  123.65499        NaN  \n",
       "2013-10-08  118.67466  108.58483  125.45500  123.65499  \n",
       "2013-10-09  121.33866  118.67466  108.58483  125.45500  \n",
       "2013-10-10  120.65533  121.33866  118.67466  108.58483  "
      ]
     },
     "execution_count": 95,
     "metadata": {},
     "output_type": "execute_result"
    }
   ],
   "source": [
    "# Make a copy of the Bitcoin historical data with block reward feature\n",
    "bitcoin_prices_windowed = bitcoin_prices_block.copy()\n",
    "\n",
    "# Add windowed columns\n",
    "for i in range(WINDOW_SIZE): # shift values for each step in WINDOW_SIZE\n",
    "    bitcoin_prices_windowed[f'Price+{i+1}'] = bitcoin_prices_windowed['Price'].shift(periods=i+1)\n",
    "bitcoin_prices_windowed.head(10)"
   ]
  },
  {
   "cell_type": "markdown",
   "id": "fe3e9a27",
   "metadata": {},
   "source": [
    "What we have done is created a way to window our dataset directly from a pandas dataframe.\n",
    "\n",
    "```\n",
    "[0, 1, 2, 3, 4, 5, 6, block_reward] -> [7]\n",
    "[1, 2, 3, 4, 5, 6, 7, block_reward] -> [8]\n",
    "[2, 3, 4, 5, 6, 7, 8, block_reward] -> [9]\n",
    "```"
   ]
  },
  {
   "cell_type": "code",
   "execution_count": 96,
   "id": "3f86d831",
   "metadata": {},
   "outputs": [
    {
     "data": {
      "application/vnd.microsoft.datawrangler.viewer.v0+json": {
       "columns": [
        {
         "name": "Date",
         "rawType": "datetime64[ns]",
         "type": "datetime"
        },
        {
         "name": "block_reward",
         "rawType": "float32",
         "type": "float"
        },
        {
         "name": "Price+1",
         "rawType": "float32",
         "type": "float"
        },
        {
         "name": "Price+2",
         "rawType": "float32",
         "type": "float"
        },
        {
         "name": "Price+3",
         "rawType": "float32",
         "type": "float"
        },
        {
         "name": "Price+4",
         "rawType": "float32",
         "type": "float"
        },
        {
         "name": "Price+5",
         "rawType": "float32",
         "type": "float"
        },
        {
         "name": "Price+6",
         "rawType": "float32",
         "type": "float"
        },
        {
         "name": "Price+7",
         "rawType": "float32",
         "type": "float"
        }
       ],
       "ref": "ceec5015-64ca-4ca5-8643-f4c71b274ad9",
       "rows": [
        [
         "2013-10-08 00:00:00",
         "25.0",
         "121.795",
         "120.65533",
         "121.33866",
         "118.67466",
         "108.58483",
         "125.455",
         "123.65499"
        ],
        [
         "2013-10-09 00:00:00",
         "25.0",
         "123.033",
         "121.795",
         "120.65533",
         "121.33866",
         "118.67466",
         "108.58483",
         "125.455"
        ],
        [
         "2013-10-10 00:00:00",
         "25.0",
         "124.049",
         "123.033",
         "121.795",
         "120.65533",
         "121.33866",
         "118.67466",
         "108.58483"
        ],
        [
         "2013-10-11 00:00:00",
         "25.0",
         "125.96116",
         "124.049",
         "123.033",
         "121.795",
         "120.65533",
         "121.33866",
         "118.67466"
        ],
        [
         "2013-10-12 00:00:00",
         "25.0",
         "125.27966",
         "125.96116",
         "124.049",
         "123.033",
         "121.795",
         "120.65533",
         "121.33866"
        ]
       ],
       "shape": {
        "columns": 8,
        "rows": 5
       }
      },
      "text/html": [
       "<div>\n",
       "<style scoped>\n",
       "    .dataframe tbody tr th:only-of-type {\n",
       "        vertical-align: middle;\n",
       "    }\n",
       "\n",
       "    .dataframe tbody tr th {\n",
       "        vertical-align: top;\n",
       "    }\n",
       "\n",
       "    .dataframe thead th {\n",
       "        text-align: right;\n",
       "    }\n",
       "</style>\n",
       "<table border=\"1\" class=\"dataframe\">\n",
       "  <thead>\n",
       "    <tr style=\"text-align: right;\">\n",
       "      <th></th>\n",
       "      <th>block_reward</th>\n",
       "      <th>Price+1</th>\n",
       "      <th>Price+2</th>\n",
       "      <th>Price+3</th>\n",
       "      <th>Price+4</th>\n",
       "      <th>Price+5</th>\n",
       "      <th>Price+6</th>\n",
       "      <th>Price+7</th>\n",
       "    </tr>\n",
       "    <tr>\n",
       "      <th>Date</th>\n",
       "      <th></th>\n",
       "      <th></th>\n",
       "      <th></th>\n",
       "      <th></th>\n",
       "      <th></th>\n",
       "      <th></th>\n",
       "      <th></th>\n",
       "      <th></th>\n",
       "    </tr>\n",
       "  </thead>\n",
       "  <tbody>\n",
       "    <tr>\n",
       "      <th>2013-10-08</th>\n",
       "      <td>25.0</td>\n",
       "      <td>121.794998</td>\n",
       "      <td>120.655327</td>\n",
       "      <td>121.338661</td>\n",
       "      <td>118.674660</td>\n",
       "      <td>108.584831</td>\n",
       "      <td>125.455002</td>\n",
       "      <td>123.654991</td>\n",
       "    </tr>\n",
       "    <tr>\n",
       "      <th>2013-10-09</th>\n",
       "      <td>25.0</td>\n",
       "      <td>123.032997</td>\n",
       "      <td>121.794998</td>\n",
       "      <td>120.655327</td>\n",
       "      <td>121.338661</td>\n",
       "      <td>118.674660</td>\n",
       "      <td>108.584831</td>\n",
       "      <td>125.455002</td>\n",
       "    </tr>\n",
       "    <tr>\n",
       "      <th>2013-10-10</th>\n",
       "      <td>25.0</td>\n",
       "      <td>124.049004</td>\n",
       "      <td>123.032997</td>\n",
       "      <td>121.794998</td>\n",
       "      <td>120.655327</td>\n",
       "      <td>121.338661</td>\n",
       "      <td>118.674660</td>\n",
       "      <td>108.584831</td>\n",
       "    </tr>\n",
       "    <tr>\n",
       "      <th>2013-10-11</th>\n",
       "      <td>25.0</td>\n",
       "      <td>125.961159</td>\n",
       "      <td>124.049004</td>\n",
       "      <td>123.032997</td>\n",
       "      <td>121.794998</td>\n",
       "      <td>120.655327</td>\n",
       "      <td>121.338661</td>\n",
       "      <td>118.674660</td>\n",
       "    </tr>\n",
       "    <tr>\n",
       "      <th>2013-10-12</th>\n",
       "      <td>25.0</td>\n",
       "      <td>125.279663</td>\n",
       "      <td>125.961159</td>\n",
       "      <td>124.049004</td>\n",
       "      <td>123.032997</td>\n",
       "      <td>121.794998</td>\n",
       "      <td>120.655327</td>\n",
       "      <td>121.338661</td>\n",
       "    </tr>\n",
       "  </tbody>\n",
       "</table>\n",
       "</div>"
      ],
      "text/plain": [
       "            block_reward     Price+1     Price+2     Price+3     Price+4  \\\n",
       "Date                                                                       \n",
       "2013-10-08          25.0  121.794998  120.655327  121.338661  118.674660   \n",
       "2013-10-09          25.0  123.032997  121.794998  120.655327  121.338661   \n",
       "2013-10-10          25.0  124.049004  123.032997  121.794998  120.655327   \n",
       "2013-10-11          25.0  125.961159  124.049004  123.032997  121.794998   \n",
       "2013-10-12          25.0  125.279663  125.961159  124.049004  123.032997   \n",
       "\n",
       "               Price+5     Price+6     Price+7  \n",
       "Date                                            \n",
       "2013-10-08  108.584831  125.455002  123.654991  \n",
       "2013-10-09  118.674660  108.584831  125.455002  \n",
       "2013-10-10  121.338661  118.674660  108.584831  \n",
       "2013-10-11  120.655327  121.338661  118.674660  \n",
       "2013-10-12  121.794998  120.655327  121.338661  "
      ]
     },
     "execution_count": 96,
     "metadata": {},
     "output_type": "execute_result"
    }
   ],
   "source": [
    "# Create X (windows) and Y (horizons) features\n",
    "X = bitcoin_prices_windowed.dropna().drop('Price', axis=1).astype(np.float32)\n",
    "y = bitcoin_prices_windowed.dropna()['Price'].astype(np.float32)\n",
    "X.head()"
   ]
  },
  {
   "cell_type": "code",
   "execution_count": 97,
   "id": "ac7a5466",
   "metadata": {},
   "outputs": [
    {
     "data": {
      "application/vnd.microsoft.datawrangler.viewer.v0+json": {
       "columns": [
        {
         "name": "Date",
         "rawType": "datetime64[ns]",
         "type": "datetime"
        },
        {
         "name": "Price",
         "rawType": "float32",
         "type": "float"
        }
       ],
       "ref": "40b64633-1b94-4e79-8d78-c1c0745e16fe",
       "rows": [
        [
         "2013-10-08 00:00:00",
         "123.033"
        ],
        [
         "2013-10-09 00:00:00",
         "124.049"
        ],
        [
         "2013-10-10 00:00:00",
         "125.96116"
        ],
        [
         "2013-10-11 00:00:00",
         "125.27966"
        ],
        [
         "2013-10-12 00:00:00",
         "125.9275"
        ]
       ],
       "shape": {
        "columns": 1,
        "rows": 5
       }
      },
      "text/plain": [
       "Date\n",
       "2013-10-08    123.032997\n",
       "2013-10-09    124.049004\n",
       "2013-10-10    125.961159\n",
       "2013-10-11    125.279663\n",
       "2013-10-12    125.927498\n",
       "Name: Price, dtype: float32"
      ]
     },
     "execution_count": 97,
     "metadata": {},
     "output_type": "execute_result"
    }
   ],
   "source": [
    "y.head()"
   ]
  },
  {
   "cell_type": "code",
   "execution_count": 98,
   "id": "d05edde9",
   "metadata": {},
   "outputs": [],
   "source": [
    "# Make train and test sets using indexing\n",
    "split_size = int(len(X) * 0.8)\n",
    "X_train, y_train = X[:split_size], y[:split_size]\n",
    "X_test, y_test = X[split_size:], y[split_size:]"
   ]
  },
  {
   "cell_type": "markdown",
   "id": "5088ee33",
   "metadata": {},
   "source": [
    "## Model 6: Dense (multivariate time series)"
   ]
  },
  {
   "cell_type": "code",
   "execution_count": 99,
   "id": "711f27de",
   "metadata": {},
   "outputs": [
    {
     "name": "stdout",
     "output_type": "stream",
     "text": [
      "Epoch 1/100\n",
      "17/18 [===========================>..] - ETA: 0s - loss: 1060.7979INFO:tensorflow:Assets written to: model_experiments\\model_6_dense_multivariate\\assets\n"
     ]
    },
    {
     "name": "stderr",
     "output_type": "stream",
     "text": [
      "INFO:tensorflow:Assets written to: model_experiments\\model_6_dense_multivariate\\assets\n"
     ]
    },
    {
     "name": "stdout",
     "output_type": "stream",
     "text": [
      "18/18 [==============================] - 2s 74ms/step - loss: 1041.5654 - val_loss: 1909.9119\n",
      "Epoch 2/100\n",
      "10/18 [===============>..............] - ETA: 0s - loss: 286.7886INFO:tensorflow:Assets written to: model_experiments\\model_6_dense_multivariate\\assets\n"
     ]
    },
    {
     "name": "stderr",
     "output_type": "stream",
     "text": [
      "INFO:tensorflow:Assets written to: model_experiments\\model_6_dense_multivariate\\assets\n"
     ]
    },
    {
     "name": "stdout",
     "output_type": "stream",
     "text": [
      "18/18 [==============================] - 1s 60ms/step - loss: 262.9190 - val_loss: 1525.5157\n",
      "Epoch 3/100\n",
      " 1/18 [>.............................] - ETA: 0s - loss: 198.0925INFO:tensorflow:Assets written to: model_experiments\\model_6_dense_multivariate\\assets\n"
     ]
    },
    {
     "name": "stderr",
     "output_type": "stream",
     "text": [
      "INFO:tensorflow:Assets written to: model_experiments\\model_6_dense_multivariate\\assets\n"
     ]
    },
    {
     "name": "stdout",
     "output_type": "stream",
     "text": [
      "18/18 [==============================] - 1s 62ms/step - loss: 193.4762 - val_loss: 959.0023\n",
      "Epoch 4/100\n",
      "18/18 [==============================] - 0s 10ms/step - loss: 170.3303 - val_loss: 1117.1542\n",
      "Epoch 5/100\n",
      "17/18 [===========================>..] - ETA: 0s - loss: 163.4918INFO:tensorflow:Assets written to: model_experiments\\model_6_dense_multivariate\\assets\n"
     ]
    },
    {
     "name": "stderr",
     "output_type": "stream",
     "text": [
      "INFO:tensorflow:Assets written to: model_experiments\\model_6_dense_multivariate\\assets\n"
     ]
    },
    {
     "name": "stdout",
     "output_type": "stream",
     "text": [
      "18/18 [==============================] - 1s 66ms/step - loss: 161.9902 - val_loss: 850.0299\n",
      "Epoch 6/100\n",
      "17/18 [===========================>..] - ETA: 0s - loss: 146.1417INFO:tensorflow:Assets written to: model_experiments\\model_6_dense_multivariate\\assets\n"
     ]
    },
    {
     "name": "stderr",
     "output_type": "stream",
     "text": [
      "INFO:tensorflow:Assets written to: model_experiments\\model_6_dense_multivariate\\assets\n"
     ]
    },
    {
     "name": "stdout",
     "output_type": "stream",
     "text": [
      "18/18 [==============================] - 1s 65ms/step - loss: 148.0444 - val_loss: 812.8500\n",
      "Epoch 7/100\n",
      "18/18 [==============================] - 0s 11ms/step - loss: 140.0920 - val_loss: 826.0767\n",
      "Epoch 8/100\n",
      "14/18 [======================>.......] - ETA: 0s - loss: 136.9299INFO:tensorflow:Assets written to: model_experiments\\model_6_dense_multivariate\\assets\n"
     ]
    },
    {
     "name": "stderr",
     "output_type": "stream",
     "text": [
      "INFO:tensorflow:Assets written to: model_experiments\\model_6_dense_multivariate\\assets\n"
     ]
    },
    {
     "name": "stdout",
     "output_type": "stream",
     "text": [
      "18/18 [==============================] - 1s 63ms/step - loss: 136.0303 - val_loss: 732.9737\n",
      "Epoch 9/100\n",
      "18/18 [==============================] - 0s 10ms/step - loss: 135.0295 - val_loss: 880.2792\n",
      "Epoch 10/100\n",
      "11/18 [=================>............] - ETA: 0s - loss: 141.9038INFO:tensorflow:Assets written to: model_experiments\\model_6_dense_multivariate\\assets\n"
     ]
    },
    {
     "name": "stderr",
     "output_type": "stream",
     "text": [
      "INFO:tensorflow:Assets written to: model_experiments\\model_6_dense_multivariate\\assets\n"
     ]
    },
    {
     "name": "stdout",
     "output_type": "stream",
     "text": [
      "18/18 [==============================] - 1s 69ms/step - loss: 145.4875 - val_loss: 722.8346\n",
      "Epoch 11/100\n",
      "18/18 [==============================] - 0s 10ms/step - loss: 125.1115 - val_loss: 832.0842\n",
      "Epoch 12/100\n",
      "18/18 [==============================] - ETA: 0s - loss: 127.5826INFO:tensorflow:Assets written to: model_experiments\\model_6_dense_multivariate\\assets\n"
     ]
    },
    {
     "name": "stderr",
     "output_type": "stream",
     "text": [
      "INFO:tensorflow:Assets written to: model_experiments\\model_6_dense_multivariate\\assets\n"
     ]
    },
    {
     "name": "stdout",
     "output_type": "stream",
     "text": [
      "18/18 [==============================] - 1s 67ms/step - loss: 127.5826 - val_loss: 662.0577\n",
      "Epoch 13/100\n",
      "18/18 [==============================] - ETA: 0s - loss: 119.7386INFO:tensorflow:Assets written to: model_experiments\\model_6_dense_multivariate\\assets\n"
     ]
    },
    {
     "name": "stderr",
     "output_type": "stream",
     "text": [
      "INFO:tensorflow:Assets written to: model_experiments\\model_6_dense_multivariate\\assets\n"
     ]
    },
    {
     "name": "stdout",
     "output_type": "stream",
     "text": [
      "18/18 [==============================] - 1s 55ms/step - loss: 119.7386 - val_loss: 641.7468\n",
      "Epoch 14/100\n",
      "10/18 [===============>..............] - ETA: 0s - loss: 117.5202INFO:tensorflow:Assets written to: model_experiments\\model_6_dense_multivariate\\assets\n"
     ]
    },
    {
     "name": "stderr",
     "output_type": "stream",
     "text": [
      "INFO:tensorflow:Assets written to: model_experiments\\model_6_dense_multivariate\\assets\n"
     ]
    },
    {
     "name": "stdout",
     "output_type": "stream",
     "text": [
      "18/18 [==============================] - 1s 82ms/step - loss: 117.5477 - val_loss: 621.9203\n",
      "Epoch 15/100\n",
      "18/18 [==============================] - 0s 10ms/step - loss: 119.9113 - val_loss: 768.9819\n",
      "Epoch 16/100\n",
      "11/18 [=================>............] - ETA: 0s - loss: 121.5373INFO:tensorflow:Assets written to: model_experiments\\model_6_dense_multivariate\\assets\n"
     ]
    },
    {
     "name": "stderr",
     "output_type": "stream",
     "text": [
      "INFO:tensorflow:Assets written to: model_experiments\\model_6_dense_multivariate\\assets\n"
     ]
    },
    {
     "name": "stdout",
     "output_type": "stream",
     "text": [
      "18/18 [==============================] - 1s 60ms/step - loss: 120.3146 - val_loss: 613.4974\n",
      "Epoch 17/100\n",
      "18/18 [==============================] - 0s 8ms/step - loss: 114.2500 - val_loss: 640.3494\n",
      "Epoch 18/100\n",
      "10/18 [===============>..............] - ETA: 0s - loss: 131.9350INFO:tensorflow:Assets written to: model_experiments\\model_6_dense_multivariate\\assets\n"
     ]
    },
    {
     "name": "stderr",
     "output_type": "stream",
     "text": [
      "INFO:tensorflow:Assets written to: model_experiments\\model_6_dense_multivariate\\assets\n"
     ]
    },
    {
     "name": "stdout",
     "output_type": "stream",
     "text": [
      "18/18 [==============================] - 1s 60ms/step - loss: 123.5872 - val_loss: 598.4221\n",
      "Epoch 19/100\n",
      "18/18 [==============================] - 0s 10ms/step - loss: 118.8384 - val_loss: 607.2032\n",
      "Epoch 20/100\n",
      "10/18 [===============>..............] - ETA: 0s - loss: 118.8859INFO:tensorflow:Assets written to: model_experiments\\model_6_dense_multivariate\\assets\n"
     ]
    },
    {
     "name": "stderr",
     "output_type": "stream",
     "text": [
      "INFO:tensorflow:Assets written to: model_experiments\\model_6_dense_multivariate\\assets\n"
     ]
    },
    {
     "name": "stdout",
     "output_type": "stream",
     "text": [
      "18/18 [==============================] - 1s 61ms/step - loss: 114.1895 - val_loss: 597.6687\n",
      "Epoch 21/100\n",
      "18/18 [==============================] - 0s 9ms/step - loss: 114.3585 - val_loss: 648.4771\n",
      "Epoch 22/100\n",
      "18/18 [==============================] - 0s 9ms/step - loss: 114.4662 - val_loss: 607.7859\n",
      "Epoch 23/100\n",
      "10/18 [===============>..............] - ETA: 0s - loss: 117.4877INFO:tensorflow:Assets written to: model_experiments\\model_6_dense_multivariate\\assets\n"
     ]
    },
    {
     "name": "stderr",
     "output_type": "stream",
     "text": [
      "INFO:tensorflow:Assets written to: model_experiments\\model_6_dense_multivariate\\assets\n"
     ]
    },
    {
     "name": "stdout",
     "output_type": "stream",
     "text": [
      "18/18 [==============================] - 1s 55ms/step - loss: 118.6132 - val_loss: 589.5128\n",
      "Epoch 24/100\n",
      "18/18 [==============================] - 0s 12ms/step - loss: 116.1994 - val_loss: 633.0287\n",
      "Epoch 25/100\n",
      "18/18 [==============================] - 0s 9ms/step - loss: 111.4209 - val_loss: 604.6995\n",
      "Epoch 26/100\n",
      "11/18 [=================>............] - ETA: 0s - loss: 110.0258INFO:tensorflow:Assets written to: model_experiments\\model_6_dense_multivariate\\assets\n"
     ]
    },
    {
     "name": "stderr",
     "output_type": "stream",
     "text": [
      "INFO:tensorflow:Assets written to: model_experiments\\model_6_dense_multivariate\\assets\n"
     ]
    },
    {
     "name": "stdout",
     "output_type": "stream",
     "text": [
      "18/18 [==============================] - 1s 58ms/step - loss: 109.8596 - val_loss: 576.9836\n",
      "Epoch 27/100\n",
      "18/18 [==============================] - 0s 8ms/step - loss: 108.4929 - val_loss: 630.4791\n",
      "Epoch 28/100\n",
      "18/18 [==============================] - 0s 10ms/step - loss: 110.4727 - val_loss: 586.4128\n",
      "Epoch 29/100\n",
      "18/18 [==============================] - 0s 11ms/step - loss: 110.0852 - val_loss: 732.0968\n",
      "Epoch 30/100\n",
      "18/18 [==============================] - 0s 9ms/step - loss: 123.4822 - val_loss: 588.6793\n",
      "Epoch 31/100\n",
      "16/18 [=========================>....] - ETA: 0s - loss: 115.1974INFO:tensorflow:Assets written to: model_experiments\\model_6_dense_multivariate\\assets\n"
     ]
    },
    {
     "name": "stderr",
     "output_type": "stream",
     "text": [
      "INFO:tensorflow:Assets written to: model_experiments\\model_6_dense_multivariate\\assets\n"
     ]
    },
    {
     "name": "stdout",
     "output_type": "stream",
     "text": [
      "18/18 [==============================] - 1s 62ms/step - loss: 116.0536 - val_loss: 570.9374\n",
      "Epoch 32/100\n",
      "18/18 [==============================] - 0s 11ms/step - loss: 109.7344 - val_loss: 606.9713\n",
      "Epoch 33/100\n",
      "18/18 [==============================] - 0s 10ms/step - loss: 108.5613 - val_loss: 574.9385\n",
      "Epoch 34/100\n",
      "18/18 [==============================] - 0s 9ms/step - loss: 112.0098 - val_loss: 718.2776\n",
      "Epoch 35/100\n",
      "18/18 [==============================] - 0s 9ms/step - loss: 113.2499 - val_loss: 666.6895\n",
      "Epoch 36/100\n",
      "18/18 [==============================] - 0s 9ms/step - loss: 109.8523 - val_loss: 614.6822\n",
      "Epoch 37/100\n",
      "18/18 [==============================] - 0s 10ms/step - loss: 115.9033 - val_loss: 658.9009\n",
      "Epoch 38/100\n",
      "18/18 [==============================] - 0s 12ms/step - loss: 119.8157 - val_loss: 647.4052\n",
      "Epoch 39/100\n",
      "18/18 [==============================] - 0s 9ms/step - loss: 112.8252 - val_loss: 600.7695\n",
      "Epoch 40/100\n",
      "18/18 [==============================] - 0s 9ms/step - loss: 108.4125 - val_loss: 578.4556\n",
      "Epoch 41/100\n",
      "18/18 [==============================] - 0s 8ms/step - loss: 108.3314 - val_loss: 660.1490\n",
      "Epoch 42/100\n",
      "18/18 [==============================] - 0s 9ms/step - loss: 120.3441 - val_loss: 844.8932\n",
      "Epoch 43/100\n",
      "18/18 [==============================] - 0s 6ms/step - loss: 125.3305 - val_loss: 832.6423\n",
      "Epoch 44/100\n",
      "18/18 [==============================] - 0s 8ms/step - loss: 118.2031 - val_loss: 588.9905\n",
      "Epoch 45/100\n",
      "18/18 [==============================] - 0s 9ms/step - loss: 107.5923 - val_loss: 583.3164\n",
      "Epoch 46/100\n",
      "18/18 [==============================] - 0s 7ms/step - loss: 112.0941 - val_loss: 707.4275\n",
      "Epoch 47/100\n",
      "18/18 [==============================] - 0s 8ms/step - loss: 117.8749 - val_loss: 594.6540\n",
      "Epoch 48/100\n",
      "18/18 [==============================] - 0s 9ms/step - loss: 106.4285 - val_loss: 601.6610\n",
      "Epoch 49/100\n",
      "18/18 [==============================] - 0s 10ms/step - loss: 106.3707 - val_loss: 610.7564\n",
      "Epoch 50/100\n",
      "11/18 [=================>............] - ETA: 0s - loss: 108.4714INFO:tensorflow:Assets written to: model_experiments\\model_6_dense_multivariate\\assets\n"
     ]
    },
    {
     "name": "stderr",
     "output_type": "stream",
     "text": [
      "INFO:tensorflow:Assets written to: model_experiments\\model_6_dense_multivariate\\assets\n"
     ]
    },
    {
     "name": "stdout",
     "output_type": "stream",
     "text": [
      "18/18 [==============================] - 1s 60ms/step - loss: 112.0061 - val_loss: 569.7082\n",
      "Epoch 51/100\n",
      "12/18 [===================>..........] - ETA: 0s - loss: 102.4672INFO:tensorflow:Assets written to: model_experiments\\model_6_dense_multivariate\\assets\n"
     ]
    },
    {
     "name": "stderr",
     "output_type": "stream",
     "text": [
      "INFO:tensorflow:Assets written to: model_experiments\\model_6_dense_multivariate\\assets\n"
     ]
    },
    {
     "name": "stdout",
     "output_type": "stream",
     "text": [
      "18/18 [==============================] - 1s 60ms/step - loss: 106.5036 - val_loss: 568.9609\n",
      "Epoch 52/100\n",
      "18/18 [==============================] - 0s 10ms/step - loss: 117.9272 - val_loss: 596.6522\n",
      "Epoch 53/100\n",
      "11/18 [=================>............] - ETA: 0s - loss: 115.3084INFO:tensorflow:Assets written to: model_experiments\\model_6_dense_multivariate\\assets\n"
     ]
    },
    {
     "name": "stderr",
     "output_type": "stream",
     "text": [
      "INFO:tensorflow:Assets written to: model_experiments\\model_6_dense_multivariate\\assets\n"
     ]
    },
    {
     "name": "stdout",
     "output_type": "stream",
     "text": [
      "18/18 [==============================] - 1s 60ms/step - loss: 114.7385 - val_loss: 567.9235\n",
      "Epoch 54/100\n",
      "18/18 [==============================] - 0s 11ms/step - loss: 106.4969 - val_loss: 567.9815\n",
      "Epoch 55/100\n",
      "18/18 [==============================] - 0s 10ms/step - loss: 117.9458 - val_loss: 708.7374\n",
      "Epoch 56/100\n",
      "18/18 [==============================] - 0s 11ms/step - loss: 120.5259 - val_loss: 719.4026\n",
      "Epoch 57/100\n",
      "18/18 [==============================] - 0s 10ms/step - loss: 110.6441 - val_loss: 571.0922\n",
      "Epoch 58/100\n",
      "18/18 [==============================] - 0s 12ms/step - loss: 109.5170 - val_loss: 581.9861\n",
      "Epoch 59/100\n",
      "18/18 [==============================] - 0s 10ms/step - loss: 105.2220 - val_loss: 580.6379\n",
      "Epoch 60/100\n",
      "18/18 [==============================] - 0s 8ms/step - loss: 109.3734 - val_loss: 568.7606\n",
      "Epoch 61/100\n",
      "18/18 [==============================] - 0s 9ms/step - loss: 109.7311 - val_loss: 568.3754\n",
      "Epoch 62/100\n",
      "18/18 [==============================] - 0s 10ms/step - loss: 106.1278 - val_loss: 604.8712\n",
      "Epoch 63/100\n",
      "18/18 [==============================] - 0s 9ms/step - loss: 110.2353 - val_loss: 607.6502\n",
      "Epoch 64/100\n",
      "18/18 [==============================] - 0s 10ms/step - loss: 116.2518 - val_loss: 589.8802\n",
      "Epoch 65/100\n",
      "10/18 [===============>..............] - ETA: 0s - loss: 112.1112INFO:tensorflow:Assets written to: model_experiments\\model_6_dense_multivariate\\assets\n"
     ]
    },
    {
     "name": "stderr",
     "output_type": "stream",
     "text": [
      "INFO:tensorflow:Assets written to: model_experiments\\model_6_dense_multivariate\\assets\n"
     ]
    },
    {
     "name": "stdout",
     "output_type": "stream",
     "text": [
      "18/18 [==============================] - 1s 58ms/step - loss: 111.3685 - val_loss: 562.8168\n",
      "Epoch 66/100\n",
      "18/18 [==============================] - 0s 12ms/step - loss: 105.4906 - val_loss: 572.7291\n",
      "Epoch 67/100\n",
      "18/18 [==============================] - 0s 10ms/step - loss: 104.8434 - val_loss: 591.3212\n",
      "Epoch 68/100\n",
      "18/18 [==============================] - 0s 9ms/step - loss: 106.8014 - val_loss: 576.8941\n",
      "Epoch 69/100\n",
      "18/18 [==============================] - 0s 9ms/step - loss: 107.5532 - val_loss: 679.9724\n",
      "Epoch 70/100\n",
      "18/18 [==============================] - 0s 9ms/step - loss: 131.8129 - val_loss: 787.6453\n",
      "Epoch 71/100\n",
      "18/18 [==============================] - 0s 9ms/step - loss: 112.8704 - val_loss: 573.9058\n",
      "Epoch 72/100\n",
      "18/18 [==============================] - 0s 15ms/step - loss: 106.7839 - val_loss: 591.9821\n",
      "Epoch 73/100\n",
      "18/18 [==============================] - 0s 8ms/step - loss: 105.0187 - val_loss: 576.2198\n",
      "Epoch 74/100\n",
      "18/18 [==============================] - 0s 10ms/step - loss: 105.8748 - val_loss: 574.7401\n",
      "Epoch 75/100\n",
      "18/18 [==============================] - 0s 9ms/step - loss: 109.8521 - val_loss: 566.6549\n",
      "Epoch 76/100\n",
      "18/18 [==============================] - 0s 6ms/step - loss: 112.0885 - val_loss: 666.6877\n",
      "Epoch 77/100\n",
      "18/18 [==============================] - 0s 10ms/step - loss: 117.6679 - val_loss: 567.8542\n",
      "Epoch 78/100\n",
      "18/18 [==============================] - 0s 9ms/step - loss: 111.5930 - val_loss: 671.8630\n",
      "Epoch 79/100\n",
      "18/18 [==============================] - 0s 5ms/step - loss: 112.7362 - val_loss: 658.2496\n",
      "Epoch 80/100\n",
      "18/18 [==============================] - 0s 8ms/step - loss: 119.9851 - val_loss: 627.2289\n",
      "Epoch 81/100\n",
      "18/18 [==============================] - 0s 9ms/step - loss: 109.4388 - val_loss: 582.9897\n",
      "Epoch 82/100\n",
      "18/18 [==============================] - 0s 10ms/step - loss: 119.7445 - val_loss: 727.2278\n",
      "Epoch 83/100\n",
      "18/18 [==============================] - 0s 7ms/step - loss: 129.6447 - val_loss: 606.5494\n",
      "Epoch 84/100\n",
      "18/18 [==============================] - 0s 12ms/step - loss: 117.7143 - val_loss: 589.6918\n",
      "Epoch 85/100\n",
      "18/18 [==============================] - 0s 10ms/step - loss: 107.6725 - val_loss: 584.4168\n",
      "Epoch 86/100\n",
      "18/18 [==============================] - 0s 11ms/step - loss: 108.1749 - val_loss: 580.0598\n",
      "Epoch 87/100\n",
      "18/18 [==============================] - 0s 8ms/step - loss: 106.9934 - val_loss: 617.2596\n",
      "Epoch 88/100\n",
      "18/18 [==============================] - 0s 9ms/step - loss: 114.1451 - val_loss: 573.0936\n",
      "Epoch 89/100\n",
      "18/18 [==============================] - 0s 10ms/step - loss: 110.3008 - val_loss: 650.4860\n",
      "Epoch 90/100\n",
      "18/18 [==============================] - 0s 6ms/step - loss: 119.6333 - val_loss: 764.4216\n",
      "Epoch 91/100\n",
      "18/18 [==============================] - 0s 9ms/step - loss: 120.1428 - val_loss: 765.2642\n",
      "Epoch 92/100\n",
      "18/18 [==============================] - 0s 9ms/step - loss: 112.3456 - val_loss: 573.0682\n",
      "Epoch 93/100\n",
      "18/18 [==============================] - 0s 9ms/step - loss: 113.5674 - val_loss: 572.2883\n",
      "Epoch 94/100\n",
      "18/18 [==============================] - 0s 10ms/step - loss: 112.3362 - val_loss: 585.2786\n",
      "Epoch 95/100\n",
      "18/18 [==============================] - 0s 9ms/step - loss: 109.6547 - val_loss: 613.3290\n",
      "Epoch 96/100\n",
      "18/18 [==============================] - 0s 9ms/step - loss: 125.2854 - val_loss: 792.4874\n",
      "Epoch 97/100\n",
      "18/18 [==============================] - 0s 9ms/step - loss: 114.0334 - val_loss: 621.8348\n",
      "Epoch 98/100\n",
      "18/18 [==============================] - 0s 10ms/step - loss: 107.3288 - val_loss: 570.7100\n",
      "Epoch 99/100\n",
      "18/18 [==============================] - 0s 12ms/step - loss: 111.8475 - val_loss: 563.1049\n",
      "Epoch 100/100\n",
      "18/18 [==============================] - 0s 9ms/step - loss: 106.5814 - val_loss: 566.8871\n"
     ]
    },
    {
     "data": {
      "text/plain": [
       "<keras.callbacks.History at 0x1a24b043bb0>"
      ]
     },
     "execution_count": 99,
     "metadata": {},
     "output_type": "execute_result"
    }
   ],
   "source": [
    "tf.random.set_seed(42)\n",
    "\n",
    "# Make multivariate time series model\n",
    "model_6 = tf.keras.Sequential([\n",
    "    layers.Dense(128, activation='relu'),\n",
    "    layers.Dense(128, activation='relu'),\n",
    "    layers.Dense(HORIZON)\n",
    "], name='model_6_dense_multivariate')\n",
    "\n",
    "# Compile\n",
    "model_6.compile(loss='mae',\n",
    "                optimizer=tf.keras.optimizers.Adam())\n",
    "# Fit\n",
    "model_6.fit(X_train, y_train,\n",
    "            epochs=100,\n",
    "            batch_size=128,\n",
    "            verbose=1,\n",
    "            validation_data=(X_test, y_test),\n",
    "            callbacks=[create_model_checkpoint(model_name=model_6.name)])"
   ]
  },
  {
   "cell_type": "code",
   "execution_count": 100,
   "id": "fbbd0cd9",
   "metadata": {},
   "outputs": [
    {
     "name": "stdout",
     "output_type": "stream",
     "text": [
      "18/18 [==============================] - 0s 3ms/step - loss: 566.6116\n"
     ]
    },
    {
     "data": {
      "text/plain": [
       "566.611572265625"
      ]
     },
     "execution_count": 100,
     "metadata": {},
     "output_type": "execute_result"
    }
   ],
   "source": [
    "# Evaluate multivariate model\n",
    "model_6.evaluate(X_test, y_test)"
   ]
  },
  {
   "cell_type": "code",
   "execution_count": 101,
   "id": "6a6e0019",
   "metadata": {},
   "outputs": [
    {
     "name": "stdout",
     "output_type": "stream",
     "text": [
      "18/18 [==============================] - 0s 4ms/step - loss: 562.6423\n"
     ]
    },
    {
     "data": {
      "text/plain": [
       "562.6422729492188"
      ]
     },
     "execution_count": 101,
     "metadata": {},
     "output_type": "execute_result"
    }
   ],
   "source": [
    "# Load in and evaluate best performing model\n",
    "model_6 = tf.keras.models.load_model('model_experiments/model_6_dense_multivariate')\n",
    "model_6.evaluate(X_test, y_test)"
   ]
  },
  {
   "cell_type": "code",
   "execution_count": 102,
   "id": "30153aba",
   "metadata": {},
   "outputs": [
    {
     "name": "stdout",
     "output_type": "stream",
     "text": [
      "18/18 [==============================] - 0s 3ms/step\n"
     ]
    },
    {
     "data": {
      "text/plain": [
       "<tf.Tensor: shape=(10,), dtype=float32, numpy=\n",
       "array([8827.418, 8779.858, 9059.589, 8765.247, 8734.334, 8753.743,\n",
       "       8670.113, 8521.532, 8462.619, 8534.696], dtype=float32)>"
      ]
     },
     "execution_count": 102,
     "metadata": {},
     "output_type": "execute_result"
    }
   ],
   "source": [
    "# Make predictions with multivariate model\n",
    "model_6_preds = tf.squeeze(model_6.predict(X_test))\n",
    "model_6_preds[:10]"
   ]
  },
  {
   "cell_type": "code",
   "execution_count": 103,
   "id": "d425ce79",
   "metadata": {},
   "outputs": [
    {
     "data": {
      "text/plain": [
       "{'mae': 562.6423,\n",
       " 'mse': 1144545.1,\n",
       " 'rmse': 1069.8341,\n",
       " 'mape': 2.504505,\n",
       " 'mase': 0.98840666}"
      ]
     },
     "execution_count": 103,
     "metadata": {},
     "output_type": "execute_result"
    }
   ],
   "source": [
    "# Evaluate predictions to get eval metrics\n",
    "model_6_results = evaluate_preds(y_true=y_test,\n",
    "                                 y_pred=model_6_preds)\n",
    "model_6_results"
   ]
  },
  {
   "cell_type": "code",
   "execution_count": 104,
   "id": "da85c3f3",
   "metadata": {},
   "outputs": [
    {
     "data": {
      "text/plain": [
       "{'mae': 573.1654,\n",
       " 'mse': 1181933.6,\n",
       " 'rmse': 1087.1677,\n",
       " 'mape': 2.5733118,\n",
       " 'mase': 1.0003741}"
      ]
     },
     "execution_count": 104,
     "metadata": {},
     "output_type": "execute_result"
    }
   ],
   "source": [
    "model_1_results"
   ]
  },
  {
   "cell_type": "code",
   "execution_count": 105,
   "id": "efd3378b",
   "metadata": {},
   "outputs": [
    {
     "data": {
      "text/plain": [
       "{'mae': 567.9802,\n",
       " 'mse': 1147547.0,\n",
       " 'rmse': 1071.2362,\n",
       " 'mape': 2.516525,\n",
       " 'mase': 0.99957}"
      ]
     },
     "execution_count": 105,
     "metadata": {},
     "output_type": "execute_result"
    }
   ],
   "source": [
    "naive_results"
   ]
  },
  {
   "cell_type": "markdown",
   "id": "4d75bb2c",
   "metadata": {},
   "source": [
    "## Model 7: N-BEATS algorithm\n",
    "\n",
    "Let's now try build the biggest baddest (though maybe not the baddest, as in, it perform really well...) time series forecasting model we have built so far.\n",
    "\n",
    "More specifically, we are going to be replicating the algorithm in the following paper: https://arxiv.org/pdf/1905.10437\n",
    "\n",
    "* This will allow us to practice replicating a paper with TensorFlow code\n",
    "* We will see how to use TensorFlow layer subclassing (to make our own custom layers)\n",
    "* Get experience using the Functional API to create a custom architecture\n",
    "* Potentially get state of the art results on our problem"
   ]
  },
  {
   "cell_type": "markdown",
   "id": "2c0b3ef1",
   "metadata": {},
   "source": [
    "### Building and testing the N-BEATS block layer\n",
    "\n",
    "Because the N-BEATS block layer doesn't exist in TensorFlow, we have got to create it.\n",
    "\n",
    "To create custom layers"
   ]
  },
  {
   "cell_type": "code",
   "execution_count": 106,
   "id": "4a9e913c",
   "metadata": {},
   "outputs": [],
   "source": [
    "# Create NBeatsBlock custom layer\n",
    "class NBeatsBlock(tf.keras.layers.Layer):\n",
    "\n",
    "    def __init__(self,\n",
    "                 input_size: int,\n",
    "                 theta_size:int,\n",
    "                 horizon: int,\n",
    "                 n_neurons: int,\n",
    "                 n_layers: int,\n",
    "                 **kwargs):\n",
    "        super().__init__(**kwargs)\n",
    "        self.input_size = input_size\n",
    "        self.theta_size = theta_size\n",
    "        self.horizon = horizon\n",
    "        self.n_neurons = n_neurons\n",
    "        self.n_layers = n_layers\n",
    "\n",
    "        # Block contains stack of 4 fully connected layers wach has ReLU activation\n",
    "        self.hidden = [tf.keras.layers.Dense(n_neurons, activation='relu') for _ in range(n_layers)]\n",
    "        # Output of block is a theta layer with linear activation\n",
    "        self.theta_layer = tf.keras.layers.Dense(theta_size, activation='linear', name='theta')\n",
    "\n",
    "    def call(self, inputs):\n",
    "        x = inputs\n",
    "        for layer in self.hidden:\n",
    "            x = layer(x)\n",
    "        theta = self.theta_layer(x)\n",
    "        # Output the backcast and the forecast from theta\n",
    "        backcast, forecast = theta[:, :self.input_size], theta[:, -self.horizon]\n",
    "        return backcast, forecast"
   ]
  },
  {
   "cell_type": "markdown",
   "id": "a7189576",
   "metadata": {},
   "source": [
    "Let's test our NBeatsBlock class.\n",
    "\n",
    "To do this we will make some dummy inputs and outputs."
   ]
  },
  {
   "cell_type": "code",
   "execution_count": 107,
   "id": "c5f0dc0c",
   "metadata": {},
   "outputs": [],
   "source": [
    "# Set up dummy NBeatsBlock layer to represent inputs and outputs\n",
    "dummy_nbeats_block_layer = NBeatsBlock(input_size=WINDOW_SIZE,\n",
    "                                       theta_size=WINDOW_SIZE+HORIZON, # backcast + forecast,\n",
    "                                       horizon=HORIZON,\n",
    "                                       n_neurons=128,\n",
    "                                       n_layers=4)"
   ]
  },
  {
   "cell_type": "code",
   "execution_count": 108,
   "id": "dc89eb8f",
   "metadata": {},
   "outputs": [
    {
     "data": {
      "text/plain": [
       "<tf.Tensor: shape=(1, 7), dtype=int32, numpy=array([[1, 2, 3, 4, 5, 6, 7]])>"
      ]
     },
     "execution_count": 108,
     "metadata": {},
     "output_type": "execute_result"
    }
   ],
   "source": [
    "# Create dummy inputs (have to be same size as input_size)\n",
    "dummy_inputs = tf.expand_dims(tf.range(WINDOW_SIZE) + 1, axis=0) # input shape to the model has to reflect dense layer input requirements (ndim=2)\n",
    "dummy_inputs"
   ]
  },
  {
   "cell_type": "code",
   "execution_count": 109,
   "id": "5c7919a4",
   "metadata": {},
   "outputs": [
    {
     "name": "stdout",
     "output_type": "stream",
     "text": [
      "Backcast: [ 0.14970389  0.94769955 -0.9897017   0.26754853 -0.05600486  0.19943349\n",
      "  0.2711816 ]\n",
      "Forecast: -0.18218550086021423\n"
     ]
    }
   ],
   "source": [
    "# Pass dummy inputs to dummy NBeatsBlock layer\n",
    "backcast, forecast = dummy_nbeats_block_layer(dummy_inputs)\n",
    "# These are the activation outputs of the theta layer (they will be random due to no training of the model)\n",
    "print(f'Backcast: {tf.squeeze(backcast.numpy())}')\n",
    "print(f'Forecast: {tf.squeeze(forecast.numpy())}')"
   ]
  }
 ],
 "metadata": {
  "kernelspec": {
   "display_name": "tf3",
   "language": "python",
   "name": "python3"
  },
  "language_info": {
   "codemirror_mode": {
    "name": "ipython",
    "version": 3
   },
   "file_extension": ".py",
   "mimetype": "text/x-python",
   "name": "python",
   "nbconvert_exporter": "python",
   "pygments_lexer": "ipython3",
   "version": "3.10.18"
  }
 },
 "nbformat": 4,
 "nbformat_minor": 5
}

{
 "cells": [
  {
   "cell_type": "markdown",
   "id": "71a5a658",
   "metadata": {},
   "source": [
    "# Introduction to Convolutional Neural Networks and Computer Vision with TensorFlow\n",
    "\n",
    "Computer vision is the practice of writing algorithms which can discover patterns in visual data. Such as the camera of a self-driving car reconizing the car in front."
   ]
  },
  {
   "cell_type": "markdown",
   "id": "ba8e68df",
   "metadata": {},
   "source": [
    "## Get the data\n",
    "\n",
    "The images we are working with are frrom the Food101 dataset (101 different classes of food).\n",
    "\n",
    "However we have modified it to only use two classes (pizza and steak).\n",
    "\n",
    "**Note:** We start with a smaller dataset so we can experiment quickly and figure what works (or better yet what doesn't work) before scaling up."
   ]
  },
  {
   "cell_type": "code",
   "execution_count": 3,
   "id": "fe199a03",
   "metadata": {},
   "outputs": [],
   "source": [
    "import zipfile\n",
    "\n",
    "# Unzip the downloaded file\n",
    "zip_ref = zipfile.ZipFile('pizza_steak.zip')\n",
    "zip_ref.extractall()\n",
    "zip_ref.close()"
   ]
  }
 ],
 "metadata": {
  "kernelspec": {
   "display_name": "tf2",
   "language": "python",
   "name": "python3"
  },
  "language_info": {
   "codemirror_mode": {
    "name": "ipython",
    "version": 3
   },
   "file_extension": ".py",
   "mimetype": "text/x-python",
   "name": "python",
   "nbconvert_exporter": "python",
   "pygments_lexer": "ipython3",
   "version": "3.10.16"
  }
 },
 "nbformat": 4,
 "nbformat_minor": 5
}

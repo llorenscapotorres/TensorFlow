{
 "cells": [
  {
   "cell_type": "markdown",
   "id": "18a62888",
   "metadata": {},
   "source": [
    "# Introduction to Regression with Neural Networks in TensorFlow\n",
    "\n",
    "There are many definitions for a regression problem but in our case, we're going to simplify it: predicting a numerical variable based on some other combination of variables, even shorter... predicting a number."
   ]
  },
  {
   "cell_type": "code",
   "execution_count": 2,
   "id": "f794fc8a",
   "metadata": {},
   "outputs": [
    {
     "name": "stdout",
     "output_type": "stream",
     "text": [
      "2.10.0\n"
     ]
    }
   ],
   "source": [
    "import tensorflow as tf\n",
    "print(tf.__version__)"
   ]
  },
  {
   "cell_type": "markdown",
   "id": "4dd4686d",
   "metadata": {},
   "source": [
    "## Creating some data to view and fit"
   ]
  },
  {
   "cell_type": "code",
   "execution_count": 3,
   "id": "9930a154",
   "metadata": {},
   "outputs": [
    {
     "data": {
      "text/plain": [
       "<matplotlib.collections.PathCollection at 0x18d62572560>"
      ]
     },
     "execution_count": 3,
     "metadata": {},
     "output_type": "execute_result"
    },
    {
     "data": {
      "image/png": "[encoded data removed]",
      "text/plain": [
       "<Figure size 640x480 with 1 Axes>"
      ]
     },
     "metadata": {},
     "output_type": "display_data"
    }
   ],
   "source": [
    "import numpy as np\n",
    "import matplotlib.pyplot as plt\n",
    "\n",
    "# Create features\n",
    "X = np.array([-7.0, -4.0, -1.0, 2.0, 5.0, 8.0, 11.0, 14.0])\n",
    "\n",
    "# Create labels\n",
    "y = np.array([3.0, 6.0, 9.0, 12.0, 15.0, 18.0, 21.0, 24.0])\n",
    "\n",
    "# Visualize it\n",
    "plt.scatter(X, y)"
   ]
  },
  {
   "cell_type": "code",
   "execution_count": 4,
   "id": "887fa702",
   "metadata": {},
   "outputs": [
    {
     "data": {
      "text/plain": [
       "array([ True,  True,  True,  True,  True,  True,  True,  True])"
      ]
     },
     "execution_count": 4,
     "metadata": {},
     "output_type": "execute_result"
    }
   ],
   "source": [
    "# Relationship that have to learn our neural network\n",
    "y == X + 10"
   ]
  },
  {
   "cell_type": "markdown",
   "id": "b6785646",
   "metadata": {},
   "source": [
    "## Input and output shapes"
   ]
  },
  {
   "cell_type": "code",
   "execution_count": 5,
   "id": "5e57f711",
   "metadata": {},
   "outputs": [
    {
     "data": {
      "text/plain": [
       "(<tf.Tensor: shape=(3,), dtype=string, numpy=array([b'bedroom', b'bathroom', b'garage'], dtype=object)>,\n",
       " <tf.Tensor: shape=(1,), dtype=int32, numpy=array([939700])>)"
      ]
     },
     "execution_count": 5,
     "metadata": {},
     "output_type": "execute_result"
    }
   ],
   "source": [
    "# Create a demo tensor for our housing price prediction problem\n",
    "house_info = tf.constant([\"bedroom\", \"bathroom\", \"garage\"])\n",
    "house_price = tf.constant([939700])\n",
    "house_info, house_price"
   ]
  },
  {
   "cell_type": "code",
   "execution_count": 6,
   "id": "80922cd2",
   "metadata": {},
   "outputs": [
    {
     "data": {
      "text/plain": [
       "((), ())"
      ]
     },
     "execution_count": 6,
     "metadata": {},
     "output_type": "execute_result"
    }
   ],
   "source": [
    "input_shape = X[0].shape\n",
    "output_shape = y[0].shape\n",
    "input_shape, output_shape"
   ]
  },
  {
   "cell_type": "code",
   "execution_count": 7,
   "id": "7361e0e2",
   "metadata": {},
   "outputs": [
    {
     "data": {
      "text/plain": [
       "(<tf.Tensor: shape=(8,), dtype=float64, numpy=array([-7., -4., -1.,  2.,  5.,  8., 11., 14.])>,\n",
       " <tf.Tensor: shape=(8,), dtype=float64, numpy=array([ 3.,  6.,  9., 12., 15., 18., 21., 24.])>)"
      ]
     },
     "execution_count": 7,
     "metadata": {},
     "output_type": "execute_result"
    }
   ],
   "source": [
    "# Turn our NumPy arrays into tensors\n",
    "X = tf.constant(X)\n",
    "y = tf.constant(y)\n",
    "X, y"
   ]
  },
  {
   "cell_type": "code",
   "execution_count": 8,
   "id": "41e192dd",
   "metadata": {},
   "outputs": [
    {
     "data": {
      "text/plain": [
       "(TensorShape([]), TensorShape([]))"
      ]
     },
     "execution_count": 8,
     "metadata": {},
     "output_type": "execute_result"
    }
   ],
   "source": [
    "input_shape = X[0].shape\n",
    "output_shape = y[0].shape\n",
    "input_shape, output_shape"
   ]
  },
  {
   "cell_type": "markdown",
   "id": "5e45dd1f",
   "metadata": {},
   "source": [
    "## Steps in modelling with TensorFlow\n",
    "\n",
    "1. **Creating a model** - define the input and output layers, as well as the hidden layers of a deep learning model.\n",
    "2. **Compiling a model** - define the loss function (in other words, the function which tells our model how wrong it is) and the optimizer (tells out model how to improve the patterns its learning) and evaluation metrics (what we can use to interpret the performances of our model).\n",
    "3. **Fitting a model** - letting the model try to find patterns between X and y (features and labels)."
   ]
  },
  {
   "cell_type": "code",
   "execution_count": 9,
   "id": "bf114dbc",
   "metadata": {},
   "outputs": [
    {
     "name": "stdout",
     "output_type": "stream",
     "text": [
      "Epoch 1/5\n",
      "1/1 [==============================] - 1s 1s/step - loss: 10.5207 - mae: 10.5207\n",
      "Epoch 2/5\n",
      "1/1 [==============================] - 0s 4ms/step - loss: 10.3882 - mae: 10.3882\n",
      "Epoch 3/5\n",
      "1/1 [==============================] - 0s 3ms/step - loss: 10.2557 - mae: 10.2557\n",
      "Epoch 4/5\n",
      "1/1 [==============================] - 0s 4ms/step - loss: 10.1232 - mae: 10.1232\n",
      "Epoch 5/5\n",
      "1/1 [==============================] - 0s 3ms/step - loss: 9.9907 - mae: 9.9907\n"
     ]
    },
    {
     "data": {
      "text/plain": [
       "<keras.callbacks.History at 0x18d09adb670>"
      ]
     },
     "execution_count": 9,
     "metadata": {},
     "output_type": "execute_result"
    }
   ],
   "source": [
    "# Set random seed\n",
    "tf.random.set_seed(42)\n",
    "\n",
    "# 1. Create the model using the Sequential API\n",
    "model = tf.keras.Sequential([\n",
    "    tf.keras.layers.Dense(1)\n",
    "])\n",
    "\n",
    "# 2. Compile the model\n",
    "model.compile(loss=tf.keras.losses.mae,\n",
    "              optimizer=tf.keras.optimizers.SGD(),\n",
    "              metrics=[\"mae\"])\n",
    "\n",
    "# 3. Fit the model\n",
    "model.fit(tf.expand_dims(X, axis=-1), y, epochs=5)"
   ]
  },
  {
   "cell_type": "code",
   "execution_count": 10,
   "id": "204335d1",
   "metadata": {},
   "outputs": [
    {
     "data": {
      "text/plain": [
       "(<tf.Tensor: shape=(8,), dtype=float64, numpy=array([-7., -4., -1.,  2.,  5.,  8., 11., 14.])>,\n",
       " <tf.Tensor: shape=(8,), dtype=float64, numpy=array([ 3.,  6.,  9., 12., 15., 18., 21., 24.])>)"
      ]
     },
     "execution_count": 10,
     "metadata": {},
     "output_type": "execute_result"
    }
   ],
   "source": [
    "# Check out X and y\n",
    "X, y"
   ]
  },
  {
   "cell_type": "code",
   "execution_count": 11,
   "id": "3c94f08c",
   "metadata": {},
   "outputs": [
    {
     "name": "stdout",
     "output_type": "stream",
     "text": [
      "1/1 [==============================] - 0s 71ms/step\n"
     ]
    },
    {
     "data": {
      "text/plain": [
       "array([[17.495777]], dtype=float32)"
      ]
     },
     "execution_count": 11,
     "metadata": {},
     "output_type": "execute_result"
    }
   ],
   "source": [
    "# Try and make a prediction using our model\n",
    "y_pred = model.predict([17])\n",
    "y_pred"
   ]
  },
  {
   "cell_type": "markdown",
   "id": "f1cc3cf7",
   "metadata": {},
   "source": [
    "## Improve our model\n",
    "\n",
    "We can improve our model by altering the steps we took to create a model.\n",
    "\n",
    "1. **Creating a model** - here we might add more layers, increase the number of hidden units (also called neurons) within each of the hidden layers, change the activation function of each layer.\n",
    "2. **Compiling a model** - here we might change the optimization function or perhaps the **learning rate** of the optimization function.\n",
    "3. **Fitting model** - here we might fit a model for more **epochs** (leave it training for longer) or on more data (give the model more examples to learn from)."
   ]
  },
  {
   "cell_type": "code",
   "execution_count": 12,
   "id": "7363914c",
   "metadata": {},
   "outputs": [
    {
     "name": "stdout",
     "output_type": "stream",
     "text": [
      "Epoch 1/100\n",
      "1/1 [==============================] - 0s 188ms/step - loss: 10.8267 - mae: 10.8267\n",
      "Epoch 2/100\n",
      "1/1 [==============================] - 0s 3ms/step - loss: 10.6942 - mae: 10.6942\n",
      "Epoch 3/100\n",
      "1/1 [==============================] - 0s 3ms/step - loss: 10.5617 - mae: 10.5617\n",
      "Epoch 4/100\n",
      "1/1 [==============================] - 0s 3ms/step - loss: 10.4292 - mae: 10.4292\n",
      "Epoch 5/100\n",
      "1/1 [==============================] - 0s 4ms/step - loss: 10.2967 - mae: 10.2967\n",
      "Epoch 6/100\n",
      "1/1 [==============================] - 0s 4ms/step - loss: 10.1642 - mae: 10.1642\n",
      "Epoch 7/100\n",
      "1/1 [==============================] - 0s 2ms/step - loss: 10.0317 - mae: 10.0317\n",
      "Epoch 8/100\n",
      "1/1 [==============================] - 0s 3ms/step - loss: 9.8992 - mae: 9.8992\n",
      "Epoch 9/100\n",
      "1/1 [==============================] - 0s 3ms/step - loss: 9.7667 - mae: 9.7667\n",
      "Epoch 10/100\n",
      "1/1 [==============================] - 0s 2ms/step - loss: 9.6342 - mae: 9.6342\n",
      "Epoch 11/100\n",
      "1/1 [==============================] - 0s 3ms/step - loss: 9.5017 - mae: 9.5017\n",
      "Epoch 12/100\n",
      "1/1 [==============================] - 0s 3ms/step - loss: 9.3692 - mae: 9.3692\n",
      "Epoch 13/100\n",
      "1/1 [==============================] - 0s 3ms/step - loss: 9.2367 - mae: 9.2367\n",
      "Epoch 14/100\n",
      "1/1 [==============================] - 0s 3ms/step - loss: 9.1042 - mae: 9.1042\n",
      "Epoch 15/100\n",
      "1/1 [==============================] - 0s 3ms/step - loss: 8.9717 - mae: 8.9717\n",
      "Epoch 16/100\n",
      "1/1 [==============================] - 0s 4ms/step - loss: 8.8392 - mae: 8.8392\n",
      "Epoch 17/100\n",
      "1/1 [==============================] - 0s 3ms/step - loss: 8.7067 - mae: 8.7067\n",
      "Epoch 18/100\n",
      "1/1 [==============================] - 0s 3ms/step - loss: 8.5742 - mae: 8.5742\n",
      "Epoch 19/100\n",
      "1/1 [==============================] - 0s 3ms/step - loss: 8.4417 - mae: 8.4417\n",
      "Epoch 20/100\n",
      "1/1 [==============================] - 0s 3ms/step - loss: 8.3092 - mae: 8.3092\n",
      "Epoch 21/100\n",
      "1/1 [==============================] - 0s 3ms/step - loss: 8.1767 - mae: 8.1767\n",
      "Epoch 22/100\n",
      "1/1 [==============================] - 0s 3ms/step - loss: 8.0442 - mae: 8.0442\n",
      "Epoch 23/100\n",
      "1/1 [==============================] - 0s 4ms/step - loss: 7.9117 - mae: 7.9117\n",
      "Epoch 24/100\n",
      "1/1 [==============================] - 0s 4ms/step - loss: 7.7792 - mae: 7.7792\n",
      "Epoch 25/100\n",
      "1/1 [==============================] - 0s 4ms/step - loss: 7.6467 - mae: 7.6467\n",
      "Epoch 26/100\n",
      "1/1 [==============================] - 0s 3ms/step - loss: 7.5142 - mae: 7.5142\n",
      "Epoch 27/100\n",
      "1/1 [==============================] - 0s 3ms/step - loss: 7.3817 - mae: 7.3817\n",
      "Epoch 28/100\n",
      "1/1 [==============================] - 0s 3ms/step - loss: 7.2975 - mae: 7.2975\n",
      "Epoch 29/100\n",
      "1/1 [==============================] - 0s 3ms/step - loss: 7.2919 - mae: 7.2919\n",
      "Epoch 30/100\n",
      "1/1 [==============================] - 0s 2ms/step - loss: 7.2863 - mae: 7.2863\n",
      "Epoch 31/100\n",
      "1/1 [==============================] - 0s 3ms/step - loss: 7.2806 - mae: 7.2806\n",
      "Epoch 32/100\n",
      "1/1 [==============================] - 0s 3ms/step - loss: 7.2750 - mae: 7.2750\n",
      "Epoch 33/100\n",
      "1/1 [==============================] - 0s 3ms/step - loss: 7.2694 - mae: 7.2694\n",
      "Epoch 34/100\n",
      "1/1 [==============================] - 0s 3ms/step - loss: 7.2638 - mae: 7.2638\n",
      "Epoch 35/100\n",
      "1/1 [==============================] - 0s 2ms/step - loss: 7.2581 - mae: 7.2581\n",
      "Epoch 36/100\n",
      "1/1 [==============================] - 0s 3ms/step - loss: 7.2525 - mae: 7.2525\n",
      "Epoch 37/100\n",
      "1/1 [==============================] - 0s 3ms/step - loss: 7.2469 - mae: 7.2469\n",
      "Epoch 38/100\n",
      "1/1 [==============================] - 0s 3ms/step - loss: 7.2413 - mae: 7.2413\n",
      "Epoch 39/100\n",
      "1/1 [==============================] - 0s 3ms/step - loss: 7.2356 - mae: 7.2356\n",
      "Epoch 40/100\n",
      "1/1 [==============================] - 0s 3ms/step - loss: 7.2300 - mae: 7.2300\n",
      "Epoch 41/100\n",
      "1/1 [==============================] - 0s 3ms/step - loss: 7.2244 - mae: 7.2244\n",
      "Epoch 42/100\n",
      "1/1 [==============================] - 0s 3ms/step - loss: 7.2188 - mae: 7.2188\n",
      "Epoch 43/100\n",
      "1/1 [==============================] - 0s 3ms/step - loss: 7.2131 - mae: 7.2131\n",
      "Epoch 44/100\n",
      "1/1 [==============================] - 0s 3ms/step - loss: 7.2075 - mae: 7.2075\n",
      "Epoch 45/100\n",
      "1/1 [==============================] - 0s 3ms/step - loss: 7.2019 - mae: 7.2019\n",
      "Epoch 46/100\n",
      "1/1 [==============================] - 0s 3ms/step - loss: 7.1962 - mae: 7.1962\n",
      "Epoch 47/100\n",
      "1/1 [==============================] - 0s 2ms/step - loss: 7.1906 - mae: 7.1906\n",
      "Epoch 48/100\n",
      "1/1 [==============================] - 0s 2ms/step - loss: 7.1850 - mae: 7.1850\n",
      "Epoch 49/100\n",
      "1/1 [==============================] - 0s 3ms/step - loss: 7.1794 - mae: 7.1794\n",
      "Epoch 50/100\n",
      "1/1 [==============================] - 0s 2ms/step - loss: 7.1737 - mae: 7.1737\n",
      "Epoch 51/100\n",
      "1/1 [==============================] - 0s 3ms/step - loss: 7.1681 - mae: 7.1681\n",
      "Epoch 52/100\n",
      "1/1 [==============================] - 0s 3ms/step - loss: 7.1625 - mae: 7.1625\n",
      "Epoch 53/100\n",
      "1/1 [==============================] - 0s 3ms/step - loss: 7.1569 - mae: 7.1569\n",
      "Epoch 54/100\n",
      "1/1 [==============================] - 0s 3ms/step - loss: 7.1513 - mae: 7.1513\n",
      "Epoch 55/100\n",
      "1/1 [==============================] - 0s 2ms/step - loss: 7.1456 - mae: 7.1456\n",
      "Epoch 56/100\n",
      "1/1 [==============================] - 0s 3ms/step - loss: 7.1400 - mae: 7.1400\n",
      "Epoch 57/100\n",
      "1/1 [==============================] - 0s 3ms/step - loss: 7.1344 - mae: 7.1344\n",
      "Epoch 58/100\n",
      "1/1 [==============================] - 0s 3ms/step - loss: 7.1288 - mae: 7.1288\n",
      "Epoch 59/100\n",
      "1/1 [==============================] - 0s 3ms/step - loss: 7.1231 - mae: 7.1231\n",
      "Epoch 60/100\n",
      "1/1 [==============================] - 0s 3ms/step - loss: 7.1175 - mae: 7.1175\n",
      "Epoch 61/100\n",
      "1/1 [==============================] - 0s 2ms/step - loss: 7.1119 - mae: 7.1119\n",
      "Epoch 62/100\n",
      "1/1 [==============================] - 0s 3ms/step - loss: 7.1063 - mae: 7.1063\n",
      "Epoch 63/100\n",
      "1/1 [==============================] - 0s 3ms/step - loss: 7.1006 - mae: 7.1006\n",
      "Epoch 64/100\n",
      "1/1 [==============================] - 0s 3ms/step - loss: 7.0950 - mae: 7.0950\n",
      "Epoch 65/100\n",
      "1/1 [==============================] - 0s 2ms/step - loss: 7.0894 - mae: 7.0894\n",
      "Epoch 66/100\n",
      "1/1 [==============================] - 0s 3ms/step - loss: 7.0838 - mae: 7.0838\n",
      "Epoch 67/100\n",
      "1/1 [==============================] - 0s 2ms/step - loss: 7.0781 - mae: 7.0781\n",
      "Epoch 68/100\n",
      "1/1 [==============================] - 0s 3ms/step - loss: 7.0725 - mae: 7.0725\n",
      "Epoch 69/100\n",
      "1/1 [==============================] - 0s 3ms/step - loss: 7.0669 - mae: 7.0669\n",
      "Epoch 70/100\n",
      "1/1 [==============================] - 0s 3ms/step - loss: 7.0613 - mae: 7.0613\n",
      "Epoch 71/100\n",
      "1/1 [==============================] - 0s 3ms/step - loss: 7.0556 - mae: 7.0556\n",
      "Epoch 72/100\n",
      "1/1 [==============================] - 0s 3ms/step - loss: 7.0500 - mae: 7.0500\n",
      "Epoch 73/100\n",
      "1/1 [==============================] - 0s 3ms/step - loss: 7.0444 - mae: 7.0444\n",
      "Epoch 74/100\n",
      "1/1 [==============================] - 0s 3ms/step - loss: 7.0388 - mae: 7.0388\n",
      "Epoch 75/100\n",
      "1/1 [==============================] - 0s 2ms/step - loss: 7.0331 - mae: 7.0331\n",
      "Epoch 76/100\n",
      "1/1 [==============================] - 0s 3ms/step - loss: 7.0275 - mae: 7.0275\n",
      "Epoch 77/100\n",
      "1/1 [==============================] - 0s 4ms/step - loss: 7.0219 - mae: 7.0219\n",
      "Epoch 78/100\n",
      "1/1 [==============================] - 0s 3ms/step - loss: 7.0163 - mae: 7.0163\n",
      "Epoch 79/100\n",
      "1/1 [==============================] - 0s 3ms/step - loss: 7.0106 - mae: 7.0106\n",
      "Epoch 80/100\n",
      "1/1 [==============================] - 0s 3ms/step - loss: 7.0050 - mae: 7.0050\n",
      "Epoch 81/100\n",
      "1/1 [==============================] - 0s 3ms/step - loss: 6.9994 - mae: 6.9994\n",
      "Epoch 82/100\n",
      "1/1 [==============================] - 0s 3ms/step - loss: 6.9938 - mae: 6.9938\n",
      "Epoch 83/100\n",
      "1/1 [==============================] - 0s 3ms/step - loss: 6.9881 - mae: 6.9881\n",
      "Epoch 84/100\n",
      "1/1 [==============================] - 0s 3ms/step - loss: 6.9825 - mae: 6.9825\n",
      "Epoch 85/100\n",
      "1/1 [==============================] - 0s 2ms/step - loss: 6.9769 - mae: 6.9769\n",
      "Epoch 86/100\n",
      "1/1 [==============================] - 0s 3ms/step - loss: 6.9713 - mae: 6.9713\n",
      "Epoch 87/100\n",
      "1/1 [==============================] - 0s 3ms/step - loss: 6.9656 - mae: 6.9656\n",
      "Epoch 88/100\n",
      "1/1 [==============================] - 0s 4ms/step - loss: 6.9600 - mae: 6.9600\n",
      "Epoch 89/100\n",
      "1/1 [==============================] - 0s 3ms/step - loss: 6.9544 - mae: 6.9544\n",
      "Epoch 90/100\n",
      "1/1 [==============================] - 0s 3ms/step - loss: 6.9488 - mae: 6.9488\n",
      "Epoch 91/100\n",
      "1/1 [==============================] - 0s 3ms/step - loss: 6.9431 - mae: 6.9431\n",
      "Epoch 92/100\n",
      "1/1 [==============================] - 0s 3ms/step - loss: 6.9375 - mae: 6.9375\n",
      "Epoch 93/100\n",
      "1/1 [==============================] - 0s 3ms/step - loss: 6.9319 - mae: 6.9319\n",
      "Epoch 94/100\n",
      "1/1 [==============================] - 0s 4ms/step - loss: 6.9263 - mae: 6.9263\n",
      "Epoch 95/100\n",
      "1/1 [==============================] - 0s 2ms/step - loss: 6.9206 - mae: 6.9206\n",
      "Epoch 96/100\n",
      "1/1 [==============================] - 0s 2ms/step - loss: 6.9150 - mae: 6.9150\n",
      "Epoch 97/100\n",
      "1/1 [==============================] - 0s 5ms/step - loss: 6.9094 - mae: 6.9094\n",
      "Epoch 98/100\n",
      "1/1 [==============================] - 0s 3ms/step - loss: 6.9038 - mae: 6.9038\n",
      "Epoch 99/100\n",
      "1/1 [==============================] - 0s 5ms/step - loss: 6.8981 - mae: 6.8981\n",
      "Epoch 100/100\n",
      "1/1 [==============================] - 0s 2ms/step - loss: 6.8925 - mae: 6.8925\n"
     ]
    },
    {
     "data": {
      "text/plain": [
       "<keras.callbacks.History at 0x18d12fb42b0>"
      ]
     },
     "execution_count": 12,
     "metadata": {},
     "output_type": "execute_result"
    }
   ],
   "source": [
    "# Let's rebuild our model\n",
    "\n",
    "# 1. Create the model\n",
    "model = tf.keras.Sequential([\n",
    "    tf.keras.layers.Dense(1)\n",
    "])\n",
    "\n",
    "# 2. Compile the model\n",
    "model.compile(loss=tf.keras.losses.mae,\n",
    "              optimizer=tf.keras.optimizers.SGD(),\n",
    "              metrics=[\"mae\"])\n",
    "\n",
    "# 3. Fit the model\n",
    "model.fit(tf.expand_dims(X, axis=-1), y, epochs=100)"
   ]
  },
  {
   "cell_type": "code",
   "execution_count": 13,
   "id": "f09fcd10",
   "metadata": {},
   "outputs": [
    {
     "data": {
      "text/plain": [
       "(<tf.Tensor: shape=(8,), dtype=float64, numpy=array([-7., -4., -1.,  2.,  5.,  8., 11., 14.])>,\n",
       " <tf.Tensor: shape=(8,), dtype=float64, numpy=array([ 3.,  6.,  9., 12., 15., 18., 21., 24.])>)"
      ]
     },
     "execution_count": 13,
     "metadata": {},
     "output_type": "execute_result"
    }
   ],
   "source": [
    "# Remind ourselves of the data\n",
    "X, y"
   ]
  },
  {
   "cell_type": "code",
   "execution_count": 14,
   "id": "423b33f2",
   "metadata": {},
   "outputs": [
    {
     "name": "stdout",
     "output_type": "stream",
     "text": [
      "1/1 [==============================] - 0s 46ms/step\n"
     ]
    },
    {
     "data": {
      "text/plain": [
       "array([[29.86688]], dtype=float32)"
      ]
     },
     "execution_count": 14,
     "metadata": {},
     "output_type": "execute_result"
    }
   ],
   "source": [
    "# Let's see if our model prediction has improved...\n",
    "model.predict([17])"
   ]
  },
  {
   "cell_type": "code",
   "execution_count": 15,
   "id": "3c6aaedc",
   "metadata": {},
   "outputs": [
    {
     "name": "stdout",
     "output_type": "stream",
     "text": [
      "Epoch 1/100\n",
      "1/1 [==============================] - 0s 247ms/step - loss: 13.5792 - mae: 13.5792\n",
      "Epoch 2/100\n",
      "1/1 [==============================] - 0s 4ms/step - loss: 12.9810 - mae: 12.9810\n",
      "Epoch 3/100\n",
      "1/1 [==============================] - 0s 3ms/step - loss: 12.3803 - mae: 12.3803\n",
      "Epoch 4/100\n",
      "1/1 [==============================] - 0s 4ms/step - loss: 11.7754 - mae: 11.7754\n",
      "Epoch 5/100\n",
      "1/1 [==============================] - 0s 5ms/step - loss: 11.1644 - mae: 11.1644\n",
      "Epoch 6/100\n",
      "1/1 [==============================] - 0s 8ms/step - loss: 10.5439 - mae: 10.5439\n",
      "Epoch 7/100\n",
      "1/1 [==============================] - 0s 7ms/step - loss: 9.9106 - mae: 9.9106\n",
      "Epoch 8/100\n",
      "1/1 [==============================] - 0s 6ms/step - loss: 9.2594 - mae: 9.2594\n",
      "Epoch 9/100\n",
      "1/1 [==============================] - 0s 4ms/step - loss: 8.5866 - mae: 8.5866\n",
      "Epoch 10/100\n",
      "1/1 [==============================] - 0s 4ms/step - loss: 7.8889 - mae: 7.8889\n",
      "Epoch 11/100\n",
      "1/1 [==============================] - 0s 4ms/step - loss: 7.1614 - mae: 7.1614\n",
      "Epoch 12/100\n",
      "1/1 [==============================] - 0s 3ms/step - loss: 6.6936 - mae: 6.6936\n",
      "Epoch 13/100\n",
      "1/1 [==============================] - 0s 4ms/step - loss: 6.8454 - mae: 6.8454\n",
      "Epoch 14/100\n",
      "1/1 [==============================] - 0s 5ms/step - loss: 7.1261 - mae: 7.1261\n",
      "Epoch 15/100\n",
      "1/1 [==============================] - 0s 3ms/step - loss: 7.3580 - mae: 7.3580\n",
      "Epoch 16/100\n",
      "1/1 [==============================] - 0s 6ms/step - loss: 7.4627 - mae: 7.4627\n",
      "Epoch 17/100\n",
      "1/1 [==============================] - 0s 4ms/step - loss: 7.3699 - mae: 7.3699\n",
      "Epoch 18/100\n",
      "1/1 [==============================] - 0s 3ms/step - loss: 7.1253 - mae: 7.1253\n",
      "Epoch 19/100\n",
      "1/1 [==============================] - 0s 3ms/step - loss: 6.8447 - mae: 6.8447\n",
      "Epoch 20/100\n",
      "1/1 [==============================] - 0s 4ms/step - loss: 6.5969 - mae: 6.5969\n",
      "Epoch 21/100\n",
      "1/1 [==============================] - 0s 6ms/step - loss: 6.3336 - mae: 6.3336\n",
      "Epoch 22/100\n",
      "1/1 [==============================] - 0s 4ms/step - loss: 6.0625 - mae: 6.0625\n",
      "Epoch 23/100\n",
      "1/1 [==============================] - 0s 4ms/step - loss: 6.0221 - mae: 6.0221\n",
      "Epoch 24/100\n",
      "1/1 [==============================] - 0s 5ms/step - loss: 5.9770 - mae: 5.9770\n",
      "Epoch 25/100\n",
      "1/1 [==============================] - 0s 4ms/step - loss: 6.0596 - mae: 6.0596\n",
      "Epoch 26/100\n",
      "1/1 [==============================] - 0s 4ms/step - loss: 6.0855 - mae: 6.0855\n",
      "Epoch 27/100\n",
      "1/1 [==============================] - 0s 4ms/step - loss: 6.0091 - mae: 6.0091\n",
      "Epoch 28/100\n",
      "1/1 [==============================] - 0s 4ms/step - loss: 5.8452 - mae: 5.8452\n",
      "Epoch 29/100\n",
      "1/1 [==============================] - 0s 3ms/step - loss: 5.6023 - mae: 5.6023\n",
      "Epoch 30/100\n",
      "1/1 [==============================] - 0s 4ms/step - loss: 5.5006 - mae: 5.5006\n",
      "Epoch 31/100\n",
      "1/1 [==============================] - 0s 3ms/step - loss: 5.3957 - mae: 5.3957\n",
      "Epoch 32/100\n",
      "1/1 [==============================] - 0s 6ms/step - loss: 5.2874 - mae: 5.2874\n",
      "Epoch 33/100\n",
      "1/1 [==============================] - 0s 7ms/step - loss: 5.2537 - mae: 5.2537\n",
      "Epoch 34/100\n",
      "1/1 [==============================] - 0s 5ms/step - loss: 5.2161 - mae: 5.2161\n",
      "Epoch 35/100\n",
      "1/1 [==============================] - 0s 4ms/step - loss: 5.1373 - mae: 5.1373\n",
      "Epoch 36/100\n",
      "1/1 [==============================] - 0s 4ms/step - loss: 5.0209 - mae: 5.0209\n",
      "Epoch 37/100\n",
      "1/1 [==============================] - 0s 4ms/step - loss: 4.8706 - mae: 4.8706\n",
      "Epoch 38/100\n",
      "1/1 [==============================] - 0s 3ms/step - loss: 4.6950 - mae: 4.6950\n",
      "Epoch 39/100\n",
      "1/1 [==============================] - 0s 3ms/step - loss: 4.6003 - mae: 4.6003\n",
      "Epoch 40/100\n",
      "1/1 [==============================] - 0s 4ms/step - loss: 4.4978 - mae: 4.4978\n",
      "Epoch 41/100\n",
      "1/1 [==============================] - 0s 4ms/step - loss: 4.3874 - mae: 4.3874\n",
      "Epoch 42/100\n",
      "1/1 [==============================] - 0s 3ms/step - loss: 4.2689 - mae: 4.2689\n",
      "Epoch 43/100\n",
      "1/1 [==============================] - 0s 4ms/step - loss: 4.1423 - mae: 4.1423\n",
      "Epoch 44/100\n",
      "1/1 [==============================] - 0s 3ms/step - loss: 4.0072 - mae: 4.0072\n",
      "Epoch 45/100\n",
      "1/1 [==============================] - 0s 4ms/step - loss: 3.8636 - mae: 3.8636\n",
      "Epoch 46/100\n",
      "1/1 [==============================] - 0s 3ms/step - loss: 3.7110 - mae: 3.7110\n",
      "Epoch 47/100\n",
      "1/1 [==============================] - 0s 6ms/step - loss: 3.5494 - mae: 3.5494\n",
      "Epoch 48/100\n",
      "1/1 [==============================] - 0s 3ms/step - loss: 3.3784 - mae: 3.3784\n",
      "Epoch 49/100\n",
      "1/1 [==============================] - 0s 3ms/step - loss: 3.1978 - mae: 3.1978\n",
      "Epoch 50/100\n",
      "1/1 [==============================] - 0s 4ms/step - loss: 3.0072 - mae: 3.0072\n",
      "Epoch 51/100\n",
      "1/1 [==============================] - 0s 5ms/step - loss: 2.8394 - mae: 2.8394\n",
      "Epoch 52/100\n",
      "1/1 [==============================] - 0s 5ms/step - loss: 2.6389 - mae: 2.6389\n",
      "Epoch 53/100\n",
      "1/1 [==============================] - 0s 4ms/step - loss: 2.4147 - mae: 2.4147\n",
      "Epoch 54/100\n",
      "1/1 [==============================] - 0s 5ms/step - loss: 2.2072 - mae: 2.2072\n",
      "Epoch 55/100\n",
      "1/1 [==============================] - 0s 5ms/step - loss: 1.9866 - mae: 1.9866\n",
      "Epoch 56/100\n",
      "1/1 [==============================] - 0s 4ms/step - loss: 1.7771 - mae: 1.7771\n",
      "Epoch 57/100\n",
      "1/1 [==============================] - 0s 4ms/step - loss: 1.4924 - mae: 1.4924\n",
      "Epoch 58/100\n",
      "1/1 [==============================] - 0s 3ms/step - loss: 1.3032 - mae: 1.3032\n",
      "Epoch 59/100\n",
      "1/1 [==============================] - 0s 4ms/step - loss: 1.0613 - mae: 1.0613\n",
      "Epoch 60/100\n",
      "1/1 [==============================] - 0s 3ms/step - loss: 0.7385 - mae: 0.7385\n",
      "Epoch 61/100\n",
      "1/1 [==============================] - 0s 3ms/step - loss: 0.4695 - mae: 0.4695\n",
      "Epoch 62/100\n",
      "1/1 [==============================] - 0s 3ms/step - loss: 0.1692 - mae: 0.1692\n",
      "Epoch 63/100\n",
      "1/1 [==============================] - 0s 3ms/step - loss: 0.3329 - mae: 0.3329\n",
      "Epoch 64/100\n",
      "1/1 [==============================] - 0s 4ms/step - loss: 0.5458 - mae: 0.5458\n",
      "Epoch 65/100\n",
      "1/1 [==============================] - 0s 4ms/step - loss: 0.6239 - mae: 0.6239\n",
      "Epoch 66/100\n",
      "1/1 [==============================] - 0s 5ms/step - loss: 0.7746 - mae: 0.7746\n",
      "Epoch 67/100\n",
      "1/1 [==============================] - 0s 3ms/step - loss: 0.8027 - mae: 0.8027\n",
      "Epoch 68/100\n",
      "1/1 [==============================] - 0s 4ms/step - loss: 0.8409 - mae: 0.8409\n",
      "Epoch 69/100\n",
      "1/1 [==============================] - 0s 3ms/step - loss: 0.7775 - mae: 0.7775\n",
      "Epoch 70/100\n",
      "1/1 [==============================] - 0s 4ms/step - loss: 0.7102 - mae: 0.7102\n",
      "Epoch 71/100\n",
      "1/1 [==============================] - 0s 4ms/step - loss: 0.6633 - mae: 0.6633\n",
      "Epoch 72/100\n",
      "1/1 [==============================] - 0s 3ms/step - loss: 0.5264 - mae: 0.5264\n",
      "Epoch 73/100\n",
      "1/1 [==============================] - 0s 3ms/step - loss: 0.4147 - mae: 0.4147\n",
      "Epoch 74/100\n",
      "1/1 [==============================] - 0s 5ms/step - loss: 0.2060 - mae: 0.2060\n",
      "Epoch 75/100\n",
      "1/1 [==============================] - 0s 4ms/step - loss: 0.3498 - mae: 0.3498\n",
      "Epoch 76/100\n",
      "1/1 [==============================] - 0s 5ms/step - loss: 0.2753 - mae: 0.2753\n",
      "Epoch 77/100\n",
      "1/1 [==============================] - 0s 3ms/step - loss: 0.2647 - mae: 0.2647\n",
      "Epoch 78/100\n",
      "1/1 [==============================] - 0s 7ms/step - loss: 0.3456 - mae: 0.3456\n",
      "Epoch 79/100\n",
      "1/1 [==============================] - 0s 4ms/step - loss: 0.4145 - mae: 0.4145\n",
      "Epoch 80/100\n",
      "1/1 [==============================] - 0s 4ms/step - loss: 0.4025 - mae: 0.4025\n",
      "Epoch 81/100\n",
      "1/1 [==============================] - 0s 5ms/step - loss: 0.4060 - mae: 0.4060\n",
      "Epoch 82/100\n",
      "1/1 [==============================] - 0s 3ms/step - loss: 0.3577 - mae: 0.3577\n",
      "Epoch 83/100\n",
      "1/1 [==============================] - 0s 4ms/step - loss: 0.2783 - mae: 0.2783\n",
      "Epoch 84/100\n",
      "1/1 [==============================] - 0s 3ms/step - loss: 0.1930 - mae: 0.1930\n",
      "Epoch 85/100\n",
      "1/1 [==============================] - 0s 3ms/step - loss: 0.1452 - mae: 0.1452\n",
      "Epoch 86/100\n",
      "1/1 [==============================] - 0s 4ms/step - loss: 0.0814 - mae: 0.0814\n",
      "Epoch 87/100\n",
      "1/1 [==============================] - 0s 4ms/step - loss: 0.1521 - mae: 0.1521\n",
      "Epoch 88/100\n",
      "1/1 [==============================] - 0s 5ms/step - loss: 0.2331 - mae: 0.2331\n",
      "Epoch 89/100\n",
      "1/1 [==============================] - 0s 3ms/step - loss: 0.1847 - mae: 0.1847\n",
      "Epoch 90/100\n",
      "1/1 [==============================] - 0s 3ms/step - loss: 0.1500 - mae: 0.1500\n",
      "Epoch 91/100\n",
      "1/1 [==============================] - 0s 4ms/step - loss: 0.1532 - mae: 0.1532\n",
      "Epoch 92/100\n",
      "1/1 [==============================] - 0s 4ms/step - loss: 0.0059 - mae: 0.0059\n",
      "Epoch 93/100\n",
      "1/1 [==============================] - 0s 4ms/step - loss: 0.3105 - mae: 0.3105\n",
      "Epoch 94/100\n",
      "1/1 [==============================] - 0s 3ms/step - loss: 0.3586 - mae: 0.3586\n",
      "Epoch 95/100\n",
      "1/1 [==============================] - 0s 5ms/step - loss: 0.2576 - mae: 0.2576\n",
      "Epoch 96/100\n",
      "1/1 [==============================] - 0s 3ms/step - loss: 0.4402 - mae: 0.4402\n",
      "Epoch 97/100\n",
      "1/1 [==============================] - 0s 4ms/step - loss: 0.4993 - mae: 0.4993\n",
      "Epoch 98/100\n",
      "1/1 [==============================] - 0s 3ms/step - loss: 0.2926 - mae: 0.2926\n",
      "Epoch 99/100\n",
      "1/1 [==============================] - 0s 4ms/step - loss: 0.3240 - mae: 0.3240\n",
      "Epoch 100/100\n",
      "1/1 [==============================] - 0s 4ms/step - loss: 0.4880 - mae: 0.4880\n"
     ]
    },
    {
     "data": {
      "text/plain": [
       "<keras.callbacks.History at 0x18ee321d330>"
      ]
     },
     "execution_count": 15,
     "metadata": {},
     "output_type": "execute_result"
    }
   ],
   "source": [
    "# Let's see if we can make another to improve our model\n",
    "\n",
    "# 1. Create the model\n",
    "model = tf.keras.Sequential([\n",
    "    tf.keras.layers.Dense(50, activation=None),\n",
    "    tf.keras.layers.Dense(1)\n",
    "])\n",
    "\n",
    "# 2. Compile the model\n",
    "model.compile(loss=\"mae\", \n",
    "              optimizer=tf.keras.optimizers.Adam(learning_rate=0.01),\n",
    "              metrics=[\"mae\"])\n",
    "\n",
    "# 3. Fit the model\n",
    "model.fit(tf.expand_dims(X, axis=-1), y, epochs=100)"
   ]
  },
  {
   "cell_type": "code",
   "execution_count": 16,
   "id": "bda14250",
   "metadata": {},
   "outputs": [
    {
     "name": "stdout",
     "output_type": "stream",
     "text": [
      "1/1 [==============================] - 0s 51ms/step\n"
     ]
    },
    {
     "data": {
      "text/plain": [
       "array([[25.987635]], dtype=float32)"
      ]
     },
     "execution_count": 16,
     "metadata": {},
     "output_type": "execute_result"
    }
   ],
   "source": [
    "# Let's try to make a prediction\n",
    "model.predict([17.0])"
   ]
  },
  {
   "cell_type": "markdown",
   "id": "35f244a5",
   "metadata": {},
   "source": [
    "## Evaluating a model\n",
    "\n",
    "In practice, a typical workflow you'll go through when building neural networks is:\n",
    "\n",
    "```\n",
    "\n",
    "Build a model -> fit it -> evaluate it -> tweak a model -> repeat it"
   ]
  },
  {
   "cell_type": "markdown",
   "id": "b12b4dfd",
   "metadata": {},
   "source": [
    "When it comes to evaluation... there are 3 words you should memorize:\n",
    "\n",
    "> \"Visualize, visualize, visualize\"\n",
    "\n",
    "It's a good idea to visualize:\n",
    "* The data - what data are we working with? What does it look like?\n",
    "* The model itself - what does our model looke like?\n",
    "* The training of the model - how does a model perform while it learns?\n",
    "* The predictions of the model - how do the predictions of a model line up against the ground truth (the original labels)?"
   ]
  },
  {
   "cell_type": "code",
   "execution_count": 17,
   "id": "2361ae63",
   "metadata": {},
   "outputs": [
    {
     "data": {
      "text/plain": [
       "<tf.Tensor: shape=(50,), dtype=int32, numpy=\n",
       "array([-100,  -96,  -92,  -88,  -84,  -80,  -76,  -72,  -68,  -64,  -60,\n",
       "        -56,  -52,  -48,  -44,  -40,  -36,  -32,  -28,  -24,  -20,  -16,\n",
       "        -12,   -8,   -4,    0,    4,    8,   12,   16,   20,   24,   28,\n",
       "         32,   36,   40,   44,   48,   52,   56,   60,   64,   68,   72,\n",
       "         76,   80,   84,   88,   92,   96])>"
      ]
     },
     "execution_count": 17,
     "metadata": {},
     "output_type": "execute_result"
    }
   ],
   "source": [
    "# Make a bigger dataset\n",
    "X = tf.range(-100, 100, 4)\n",
    "X"
   ]
  },
  {
   "cell_type": "code",
   "execution_count": 18,
   "id": "baf6766b",
   "metadata": {},
   "outputs": [
    {
     "data": {
      "text/plain": [
       "<tf.Tensor: shape=(50,), dtype=int32, numpy=\n",
       "array([-90, -86, -82, -78, -74, -70, -66, -62, -58, -54, -50, -46, -42,\n",
       "       -38, -34, -30, -26, -22, -18, -14, -10,  -6,  -2,   2,   6,  10,\n",
       "        14,  18,  22,  26,  30,  34,  38,  42,  46,  50,  54,  58,  62,\n",
       "        66,  70,  74,  78,  82,  86,  90,  94,  98, 102, 106])>"
      ]
     },
     "execution_count": 18,
     "metadata": {},
     "output_type": "execute_result"
    }
   ],
   "source": [
    "y = X + 10\n",
    "y"
   ]
  },
  {
   "cell_type": "code",
   "execution_count": 19,
   "id": "8593bb08",
   "metadata": {},
   "outputs": [
    {
     "data": {
      "text/plain": [
       "<matplotlib.collections.PathCollection at 0x18ee3206050>"
      ]
     },
     "execution_count": 19,
     "metadata": {},
     "output_type": "execute_result"
    },
    {
     "data": {
      "image/png": "[encoded data removed]",
      "text/plain": [
       "<Figure size 640x480 with 1 Axes>"
      ]
     },
     "metadata": {},
     "output_type": "display_data"
    }
   ],
   "source": [
    "# Visualize the data\n",
    "plt.scatter(X, y)"
   ]
  },
  {
   "cell_type": "markdown",
   "id": "d732e326",
   "metadata": {},
   "source": [
    "### The 3 sets...\n",
    "\n",
    "* **Training set** - the model learns from this data, which is typically 70-80% of the total you have available.\n",
    "* **Validation set** - the model gets tuned on this data, which is typically 10-15% of the data available.\n",
    "* **Test set** - the model gets evaluated on this data to test what is learned, this set is typically 10-15% of the total data available."
   ]
  },
  {
   "cell_type": "code",
   "execution_count": 20,
   "id": "f0abfb52",
   "metadata": {},
   "outputs": [
    {
     "data": {
      "text/plain": [
       "50"
      ]
     },
     "execution_count": 20,
     "metadata": {},
     "output_type": "execute_result"
    }
   ],
   "source": [
    "# Check the length of how many samples we have\n",
    "len(X)"
   ]
  },
  {
   "cell_type": "code",
   "execution_count": 21,
   "id": "ac1856bc",
   "metadata": {},
   "outputs": [
    {
     "data": {
      "text/plain": [
       "(40, 10, 40, 10)"
      ]
     },
     "execution_count": 21,
     "metadata": {},
     "output_type": "execute_result"
    }
   ],
   "source": [
    "# Split the data into train and test sets\n",
    "X_train = X[:40]\n",
    "y_train = y[:40]\n",
    "\n",
    "X_test = X[40:]\n",
    "y_test = y[40:]\n",
    "\n",
    "len(X_train), len(X_test), len(y_train), len(y_test)"
   ]
  },
  {
   "cell_type": "markdown",
   "id": "356a6ff7",
   "metadata": {},
   "source": [
    "### Visualizing the data\n",
    "\n",
    "Now we have got our data in training and test sets... let's visualize it again!"
   ]
  },
  {
   "cell_type": "code",
   "execution_count": 22,
   "id": "7d5e1429",
   "metadata": {},
   "outputs": [
    {
     "data": {
      "image/png": "[encoded data removed]",
      "text/plain": [
       "<Figure size 1000x700 with 1 Axes>"
      ]
     },
     "metadata": {},
     "output_type": "display_data"
    }
   ],
   "source": [
    "plt.figure(figsize=(10, 7))\n",
    "# Plot training data in blue\n",
    "plt.scatter(X_train, y_train, c=\"blue\", label=\"Training data\")\n",
    "# Plot test set in green\n",
    "plt.scatter(X_test, y_test, c=\"green\", label=\"Testing data\")\n",
    "# Show a legend\n",
    "plt.legend()\n",
    "plt.show()"
   ]
  },
  {
   "cell_type": "code",
   "execution_count": 23,
   "id": "f923e564",
   "metadata": {},
   "outputs": [],
   "source": [
    "# Let's have a look at how to build a neural network for our data\n",
    "\n",
    "# 1. Create a model\n",
    "model = tf.keras.Sequential([\n",
    "    tf.keras.layers.Dense(1)\n",
    "])\n",
    "\n",
    "# 2. Compile the model\n",
    "model.compile(loss=tf.keras.losses.mae, \n",
    "              optimizer=tf.keras.optimizers.SGD(),\n",
    "              metrics=[\"mae\"])\n",
    "\n",
    "# 3. Fit the model\n",
    "# model.fit(tf.expand_dims(X_train, axis=-1), y_train, epochs=100)"
   ]
  },
  {
   "cell_type": "code",
   "execution_count": 24,
   "id": "85fd5f64",
   "metadata": {},
   "outputs": [],
   "source": [
    "# model.summary() --> This will raise an error because of there isn not input_shape"
   ]
  },
  {
   "cell_type": "markdown",
   "id": "9a15b004",
   "metadata": {},
   "source": [
    "### Visualizing the model"
   ]
  },
  {
   "cell_type": "code",
   "execution_count": 25,
   "id": "4f44e0e3",
   "metadata": {},
   "outputs": [],
   "source": [
    "# Let's create a model which builds automatically by defining the input_shape argument in the first layer\n",
    "tf.random.set_seed(42)\n",
    "\n",
    "# Create a model (same as above)\n",
    "model = tf.keras.Sequential([\n",
    "    tf.keras.layers.Dense(10, input_shape=[1], name=\"input_layer\"), # input_shape represents the number of variables/columns\n",
    "    tf.keras.layers.Dense(1, name=\"output_layer\")\n",
    "])\n",
    "\n",
    "# 2. Compile the model\n",
    "model.compile(loss=tf.keras.losses.mae,\n",
    "              optimizer=tf.keras.optimizers.SGD(),\n",
    "              metrics=[\"mae\"])"
   ]
  },
  {
   "cell_type": "code",
   "execution_count": 26,
   "id": "b0853ffa",
   "metadata": {},
   "outputs": [
    {
     "name": "stdout",
     "output_type": "stream",
     "text": [
      "Model: \"sequential_4\"\n",
      "_________________________________________________________________\n",
      " Layer (type)                Output Shape              Param #   \n",
      "=================================================================\n",
      " input_layer (Dense)         (None, 10)                20        \n",
      "                                                                 \n",
      " output_layer (Dense)        (None, 1)                 11        \n",
      "                                                                 \n",
      "=================================================================\n",
      "Total params: 31\n",
      "Trainable params: 31\n",
      "Non-trainable params: 0\n",
      "_________________________________________________________________\n"
     ]
    }
   ],
   "source": [
    "model.summary()"
   ]
  },
  {
   "cell_type": "markdown",
   "id": "184810b8",
   "metadata": {},
   "source": [
    "* Total params - total number of parameters in the model.\n",
    "* Trainable params - these are the parameters (patterns) the model can update as it trains.\n",
    "* Non-trainable params - these parameters are not updated during training (this is typically when you bring parameters from other models during **transfer learning**)"
   ]
  },
  {
   "cell_type": "code",
   "execution_count": 27,
   "id": "948867fd",
   "metadata": {},
   "outputs": [
    {
     "data": {
      "text/plain": [
       "<keras.callbacks.History at 0x18ee646e590>"
      ]
     },
     "execution_count": 27,
     "metadata": {},
     "output_type": "execute_result"
    }
   ],
   "source": [
    "# Let's fit our model to the training data\n",
    "model.fit(tf.expand_dims(X_train, axis=-1), y_train, epochs=100, verbose=0)"
   ]
  },
  {
   "cell_type": "code",
   "execution_count": 28,
   "id": "a4eae335",
   "metadata": {},
   "outputs": [
    {
     "data": {
      "image/png": "[encoded data removed]",
      "text/plain": [
       "<IPython.core.display.Image object>"
      ]
     },
     "execution_count": 28,
     "metadata": {},
     "output_type": "execute_result"
    }
   ],
   "source": [
    "from tensorflow.keras.utils import plot_model\n",
    "\n",
    "plot_model(model, show_shapes=True)"
   ]
  },
  {
   "cell_type": "markdown",
   "id": "1b363420",
   "metadata": {},
   "source": [
    "### Visualizing our model's predictions\n",
    "\n",
    "To visualize predictions, it's a good idea to plot them against the ground truth labels.\n",
    "\n",
    "Often you'll see this in the form of `y_test` or `y_true` versus `y_pred` (ground truth versus your model's predictions)."
   ]
  },
  {
   "cell_type": "code",
   "execution_count": 29,
   "id": "a5f650fd",
   "metadata": {},
   "outputs": [
    {
     "name": "stdout",
     "output_type": "stream",
     "text": [
      "1/1 [==============================] - 0s 44ms/step\n"
     ]
    },
    {
     "data": {
      "text/plain": [
       "array([[ 69.520645],\n",
       "       [ 74.04211 ],\n",
       "       [ 78.56356 ],\n",
       "       [ 83.08503 ],\n",
       "       [ 87.60649 ],\n",
       "       [ 92.12796 ],\n",
       "       [ 96.64942 ],\n",
       "       [101.17088 ],\n",
       "       [105.69234 ],\n",
       "       [110.2138  ]], dtype=float32)"
      ]
     },
     "execution_count": 29,
     "metadata": {},
     "output_type": "execute_result"
    }
   ],
   "source": [
    "# Make some predictions\n",
    "y_pred = model.predict(X_test)\n",
    "y_pred"
   ]
  },
  {
   "cell_type": "code",
   "execution_count": 30,
   "id": "d676f56a",
   "metadata": {},
   "outputs": [
    {
     "data": {
      "text/plain": [
       "<tf.Tensor: shape=(10,), dtype=int32, numpy=array([ 70,  74,  78,  82,  86,  90,  94,  98, 102, 106])>"
      ]
     },
     "execution_count": 30,
     "metadata": {},
     "output_type": "execute_result"
    }
   ],
   "source": [
    "y_test"
   ]
  },
  {
   "cell_type": "code",
   "execution_count": 31,
   "id": "f1f2fdd2",
   "metadata": {},
   "outputs": [],
   "source": [
    "# Let's create a plotting function\n",
    "def plot_predictions(train_data=X_train,\n",
    "                     train_labels=y_train,\n",
    "                     test_data=X_test,\n",
    "                     test_labels=y_test,\n",
    "                     predictions=y_pred):\n",
    "    \"\"\"\n",
    "    Plots training data, test data and compares predictions to ground truth\n",
    "    \"\"\"\n",
    "    plt.figure(figsize=(10, 7))\n",
    "    # Plot training data in blue\n",
    "    plt.scatter(train_data, train_labels, c=\"b\", label=\"Training data\")\n",
    "    # Plot testing data in green\n",
    "    plt.scatter(test_data, test_labels, c=\"g\", label=\"Testing data\")\n",
    "    # Plot model's predictions in red\n",
    "    plt.scatter(test_data, predictions, c=\"r\", label=\"Predictions\")\n",
    "    # Show the legend\n",
    "    plt.legend();\n"
   ]
  },
  {
   "cell_type": "code",
   "execution_count": 32,
   "id": "1e486bf3",
   "metadata": {},
   "outputs": [
    {
     "data": {
      "image/png": "[encoded data removed]",
      "text/plain": [
       "<Figure size 1000x700 with 1 Axes>"
      ]
     },
     "metadata": {},
     "output_type": "display_data"
    }
   ],
   "source": [
    "plot_predictions()"
   ]
  },
  {
   "cell_type": "markdown",
   "id": "bf24c5aa",
   "metadata": {},
   "source": [
    "### Evaluating our model's predictions with regression evaluation metrics\n",
    "\n",
    "Depending on the problem you're working on, there will be different evaluation metrics to evaluate your model's performance.\n",
    "\n",
    "Since we're working on a regression, two of the main metrics:\n",
    "* MAE - mean absolute error\n",
    "* MSE - mean square error"
   ]
  },
  {
   "cell_type": "code",
   "execution_count": 33,
   "id": "8b1b38f7",
   "metadata": {},
   "outputs": [
    {
     "name": "stdout",
     "output_type": "stream",
     "text": [
      "1/1 [==============================] - 0s 137ms/step - loss: 1.9631 - mae: 1.9631\n"
     ]
    },
    {
     "data": {
      "text/plain": [
       "[1.9630943536758423, 1.9630943536758423]"
      ]
     },
     "execution_count": 33,
     "metadata": {},
     "output_type": "execute_result"
    }
   ],
   "source": [
    "# Evaluate the model on the test\n",
    "model.evaluate(X_test, y_test)"
   ]
  },
  {
   "cell_type": "code",
   "execution_count": 34,
   "id": "845a035b",
   "metadata": {},
   "outputs": [
    {
     "data": {
      "text/plain": [
       "array([[ 69.520645],\n",
       "       [ 74.04211 ],\n",
       "       [ 78.56356 ],\n",
       "       [ 83.08503 ],\n",
       "       [ 87.60649 ],\n",
       "       [ 92.12796 ],\n",
       "       [ 96.64942 ],\n",
       "       [101.17088 ],\n",
       "       [105.69234 ],\n",
       "       [110.2138  ]], dtype=float32)"
      ]
     },
     "execution_count": 34,
     "metadata": {},
     "output_type": "execute_result"
    }
   ],
   "source": [
    "y_pred"
   ]
  },
  {
   "cell_type": "code",
   "execution_count": 35,
   "id": "c7fe1d13",
   "metadata": {},
   "outputs": [
    {
     "data": {
      "text/plain": [
       "<tf.Tensor: shape=(10,), dtype=int32, numpy=array([ 70,  74,  78,  82,  86,  90,  94,  98, 102, 106])>"
      ]
     },
     "execution_count": 35,
     "metadata": {},
     "output_type": "execute_result"
    }
   ],
   "source": [
    "y_test"
   ]
  },
  {
   "cell_type": "code",
   "execution_count": 36,
   "id": "d8f678d0",
   "metadata": {},
   "outputs": [
    {
     "data": {
      "text/plain": [
       "<tf.Tensor: shape=(), dtype=float32, numpy=1.9630944>"
      ]
     },
     "execution_count": 36,
     "metadata": {},
     "output_type": "execute_result"
    }
   ],
   "source": [
    "# Calculate the mean absolute error\n",
    "mae = tf.metrics.mean_absolute_error(y_test, tf.squeeze(y_pred))\n",
    "mae"
   ]
  },
  {
   "cell_type": "code",
   "execution_count": 37,
   "id": "8fa940c0",
   "metadata": {},
   "outputs": [
    {
     "data": {
      "text/plain": [
       "<tf.Tensor: shape=(), dtype=float32, numpy=5.729886>"
      ]
     },
     "execution_count": 37,
     "metadata": {},
     "output_type": "execute_result"
    }
   ],
   "source": [
    "mse = tf.metrics.mean_squared_error(y_test, tf.squeeze(y_pred))\n",
    "mse"
   ]
  },
  {
   "cell_type": "code",
   "execution_count": 38,
   "id": "84ecbecc",
   "metadata": {},
   "outputs": [],
   "source": [
    "# Make somre functions to reuse MAE and MSE\n",
    "def mae(y_true, y_pred):\n",
    "    return tf.metrics.mean_absolute_error(y_true, tf.squeeze(y_pred))\n",
    "\n",
    "def mse(y_true, y_pred):\n",
    "    return tf.metrics.mean_squared_error(y_true, tf.squeeze(y_pred))"
   ]
  },
  {
   "cell_type": "markdown",
   "id": "6859af77",
   "metadata": {},
   "source": [
    "### Running experiments to improve our model\n",
    "\n",
    "1. Get more data - get more examples for your model to train on (more opportunities to learn patterns or relationships between features and labels).\n",
    "2. Make your model larger (using a more complex model) - this might come in the form of more layers or more hidden units in each layer.\n",
    "3. Train for longer - give your model more of a chance to find patterns in the data.\n",
    "\n",
    "Let's do 3 modelling experiments:\n",
    "\n",
    "1. `model_1` - same as the original model, 1 layer, trained for 100 epochs.\n",
    "2. `model_2` - 2 layers, trained for 100 epochs.\n",
    "3. `model_3` - 2 layers, trained for 500 epochs.\n",
    "\n",
    "**Build `model_1`**"
   ]
  },
  {
   "cell_type": "code",
   "execution_count": 39,
   "id": "e13f19e4",
   "metadata": {},
   "outputs": [
    {
     "name": "stdout",
     "output_type": "stream",
     "text": [
      "Epoch 1/100\n",
      "2/2 [==============================] - 0s 2ms/step - loss: 11.2120 - mae: 11.2120\n",
      "Epoch 2/100\n",
      "2/2 [==============================] - 0s 3ms/step - loss: 8.9388 - mae: 8.9388\n",
      "Epoch 3/100\n",
      "2/2 [==============================] - 0s 5ms/step - loss: 12.6635 - mae: 12.6635\n",
      "Epoch 4/100\n",
      "2/2 [==============================] - 0s 3ms/step - loss: 8.7476 - mae: 8.7476\n",
      "Epoch 5/100\n",
      "2/2 [==============================] - 0s 2ms/step - loss: 10.9607 - mae: 10.9607\n",
      "Epoch 6/100\n",
      "2/2 [==============================] - 0s 3ms/step - loss: 10.1274 - mae: 10.1274\n",
      "Epoch 7/100\n",
      "2/2 [==============================] - 0s 3ms/step - loss: 9.1526 - mae: 9.1526\n",
      "Epoch 8/100\n",
      "2/2 [==============================] - 0s 3ms/step - loss: 9.1102 - mae: 9.1102\n",
      "Epoch 9/100\n",
      "2/2 [==============================] - 0s 3ms/step - loss: 15.1671 - mae: 15.1671\n",
      "Epoch 10/100\n",
      "2/2 [==============================] - 0s 2ms/step - loss: 7.8263 - mae: 7.8263\n",
      "Epoch 11/100\n",
      "2/2 [==============================] - 0s 2ms/step - loss: 10.3864 - mae: 10.3864\n",
      "Epoch 12/100\n",
      "2/2 [==============================] - 0s 2ms/step - loss: 18.4249 - mae: 18.4249\n",
      "Epoch 13/100\n",
      "2/2 [==============================] - 0s 2ms/step - loss: 9.7431 - mae: 9.7431\n",
      "Epoch 14/100\n",
      "2/2 [==============================] - 0s 3ms/step - loss: 15.6958 - mae: 15.6958\n",
      "Epoch 15/100\n",
      "2/2 [==============================] - 0s 3ms/step - loss: 11.6504 - mae: 11.6504\n",
      "Epoch 16/100\n",
      "2/2 [==============================] - 0s 3ms/step - loss: 8.4639 - mae: 8.4639\n",
      "Epoch 17/100\n",
      "2/2 [==============================] - 0s 2ms/step - loss: 13.4630 - mae: 13.4630\n",
      "Epoch 18/100\n",
      "2/2 [==============================] - 0s 3ms/step - loss: 11.2489 - mae: 11.2489\n",
      "Epoch 19/100\n",
      "2/2 [==============================] - 0s 2ms/step - loss: 18.2640 - mae: 18.2640\n",
      "Epoch 20/100\n",
      "2/2 [==============================] - 0s 3ms/step - loss: 14.9712 - mae: 14.9712\n",
      "Epoch 21/100\n",
      "2/2 [==============================] - 0s 3ms/step - loss: 10.8493 - mae: 10.8493\n",
      "Epoch 22/100\n",
      "2/2 [==============================] - 0s 4ms/step - loss: 8.6008 - mae: 8.6008\n",
      "Epoch 23/100\n",
      "2/2 [==============================] - 0s 2ms/step - loss: 9.7006 - mae: 9.7006\n",
      "Epoch 24/100\n",
      "2/2 [==============================] - 0s 4ms/step - loss: 10.9632 - mae: 10.9632\n",
      "Epoch 25/100\n",
      "2/2 [==============================] - 0s 2ms/step - loss: 9.1608 - mae: 9.1608\n",
      "Epoch 26/100\n",
      "2/2 [==============================] - 0s 6ms/step - loss: 13.2020 - mae: 13.2020\n",
      "Epoch 27/100\n",
      "2/2 [==============================] - 0s 3ms/step - loss: 10.6692 - mae: 10.6692\n",
      "Epoch 28/100\n",
      "2/2 [==============================] - 0s 3ms/step - loss: 12.8940 - mae: 12.8940\n",
      "Epoch 29/100\n",
      "2/2 [==============================] - 0s 3ms/step - loss: 9.5083 - mae: 9.5083\n",
      "Epoch 30/100\n",
      "2/2 [==============================] - 0s 2ms/step - loss: 16.4258 - mae: 16.4258\n",
      "Epoch 31/100\n",
      "2/2 [==============================] - 0s 2ms/step - loss: 23.5629 - mae: 23.5629\n",
      "Epoch 32/100\n",
      "2/2 [==============================] - 0s 3ms/step - loss: 7.6035 - mae: 7.6035\n",
      "Epoch 33/100\n",
      "2/2 [==============================] - 0s 3ms/step - loss: 9.2999 - mae: 9.2999\n",
      "Epoch 34/100\n",
      "2/2 [==============================] - 0s 2ms/step - loss: 13.6679 - mae: 13.6679\n",
      "Epoch 35/100\n",
      "2/2 [==============================] - 0s 3ms/step - loss: 11.1574 - mae: 11.1574\n",
      "Epoch 36/100\n",
      "2/2 [==============================] - 0s 2ms/step - loss: 13.3869 - mae: 13.3869\n",
      "Epoch 37/100\n",
      "2/2 [==============================] - 0s 2ms/step - loss: 9.4446 - mae: 9.4446\n",
      "Epoch 38/100\n",
      "2/2 [==============================] - 0s 3ms/step - loss: 10.0949 - mae: 10.0949\n",
      "Epoch 39/100\n",
      "2/2 [==============================] - 0s 3ms/step - loss: 8.9714 - mae: 8.9714\n",
      "Epoch 40/100\n",
      "2/2 [==============================] - 0s 2ms/step - loss: 9.5997 - mae: 9.5997\n",
      "Epoch 41/100\n",
      "2/2 [==============================] - 0s 3ms/step - loss: 10.5614 - mae: 10.5614\n",
      "Epoch 42/100\n",
      "2/2 [==============================] - 0s 2ms/step - loss: 10.6153 - mae: 10.6153\n",
      "Epoch 43/100\n",
      "2/2 [==============================] - 0s 3ms/step - loss: 7.2032 - mae: 7.2032\n",
      "Epoch 44/100\n",
      "2/2 [==============================] - 0s 3ms/step - loss: 8.0130 - mae: 8.0130\n",
      "Epoch 45/100\n",
      "2/2 [==============================] - 0s 4ms/step - loss: 9.8159 - mae: 9.8159\n",
      "Epoch 46/100\n",
      "2/2 [==============================] - 0s 3ms/step - loss: 8.8967 - mae: 8.8967\n",
      "Epoch 47/100\n",
      "2/2 [==============================] - 0s 3ms/step - loss: 7.5574 - mae: 7.5574\n",
      "Epoch 48/100\n",
      "2/2 [==============================] - 0s 3ms/step - loss: 8.5197 - mae: 8.5197\n",
      "Epoch 49/100\n",
      "2/2 [==============================] - 0s 5ms/step - loss: 10.0281 - mae: 10.0281\n",
      "Epoch 50/100\n",
      "2/2 [==============================] - 0s 3ms/step - loss: 8.9655 - mae: 8.9655\n",
      "Epoch 51/100\n",
      "2/2 [==============================] - 0s 3ms/step - loss: 10.7059 - mae: 10.7059\n",
      "Epoch 52/100\n",
      "2/2 [==============================] - 0s 2ms/step - loss: 15.2478 - mae: 15.2478\n",
      "Epoch 53/100\n",
      "2/2 [==============================] - 0s 4ms/step - loss: 14.2805 - mae: 14.2805\n",
      "Epoch 54/100\n",
      "2/2 [==============================] - 0s 4ms/step - loss: 21.5266 - mae: 21.5266\n",
      "Epoch 55/100\n",
      "2/2 [==============================] - 0s 3ms/step - loss: 16.0557 - mae: 16.0557\n",
      "Epoch 56/100\n",
      "2/2 [==============================] - 0s 3ms/step - loss: 10.2310 - mae: 10.2310\n",
      "Epoch 57/100\n",
      "2/2 [==============================] - 0s 3ms/step - loss: 9.7926 - mae: 9.7926\n",
      "Epoch 58/100\n",
      "2/2 [==============================] - 0s 4ms/step - loss: 9.0739 - mae: 9.0739\n",
      "Epoch 59/100\n",
      "2/2 [==============================] - 0s 4ms/step - loss: 8.2792 - mae: 8.2792\n",
      "Epoch 60/100\n",
      "2/2 [==============================] - 0s 3ms/step - loss: 9.3697 - mae: 9.3697\n",
      "Epoch 61/100\n",
      "2/2 [==============================] - 0s 4ms/step - loss: 11.2020 - mae: 11.2020\n",
      "Epoch 62/100\n",
      "2/2 [==============================] - 0s 2ms/step - loss: 12.0172 - mae: 12.0172\n",
      "Epoch 63/100\n",
      "2/2 [==============================] - 0s 3ms/step - loss: 7.2659 - mae: 7.2659\n",
      "Epoch 64/100\n",
      "2/2 [==============================] - 0s 4ms/step - loss: 12.4665 - mae: 12.4665\n",
      "Epoch 65/100\n",
      "2/2 [==============================] - 0s 3ms/step - loss: 10.5379 - mae: 10.5379\n",
      "Epoch 66/100\n",
      "2/2 [==============================] - 0s 4ms/step - loss: 15.5500 - mae: 15.5500\n",
      "Epoch 67/100\n",
      "2/2 [==============================] - 0s 2ms/step - loss: 9.9653 - mae: 9.9653\n",
      "Epoch 68/100\n",
      "2/2 [==============================] - 0s 2ms/step - loss: 8.6975 - mae: 8.6975\n",
      "Epoch 69/100\n",
      "2/2 [==============================] - 0s 2ms/step - loss: 13.4252 - mae: 13.4252\n",
      "Epoch 70/100\n",
      "2/2 [==============================] - 0s 3ms/step - loss: 7.4609 - mae: 7.4609\n",
      "Epoch 71/100\n",
      "2/2 [==============================] - 0s 5ms/step - loss: 12.2648 - mae: 12.2648\n",
      "Epoch 72/100\n",
      "2/2 [==============================] - 0s 2ms/step - loss: 8.4950 - mae: 8.4950\n",
      "Epoch 73/100\n",
      "2/2 [==============================] - 0s 3ms/step - loss: 6.8611 - mae: 6.8611\n",
      "Epoch 74/100\n",
      "2/2 [==============================] - 0s 2ms/step - loss: 11.1379 - mae: 11.1379\n",
      "Epoch 75/100\n",
      "2/2 [==============================] - 0s 4ms/step - loss: 9.3617 - mae: 9.3617\n",
      "Epoch 76/100\n",
      "2/2 [==============================] - 0s 3ms/step - loss: 10.8228 - mae: 10.8228\n",
      "Epoch 77/100\n",
      "2/2 [==============================] - 0s 2ms/step - loss: 14.6997 - mae: 14.6997\n",
      "Epoch 78/100\n",
      "2/2 [==============================] - 0s 2ms/step - loss: 11.1527 - mae: 11.1527\n",
      "Epoch 79/100\n",
      "2/2 [==============================] - 0s 2ms/step - loss: 14.7128 - mae: 14.7128\n",
      "Epoch 80/100\n",
      "2/2 [==============================] - 0s 2ms/step - loss: 8.9165 - mae: 8.9165\n",
      "Epoch 81/100\n",
      "2/2 [==============================] - 0s 3ms/step - loss: 10.7551 - mae: 10.7551\n",
      "Epoch 82/100\n",
      "2/2 [==============================] - 0s 3ms/step - loss: 8.3965 - mae: 8.3965\n",
      "Epoch 83/100\n",
      "2/2 [==============================] - 0s 7ms/step - loss: 9.2140 - mae: 9.2140\n",
      "Epoch 84/100\n",
      "2/2 [==============================] - 0s 3ms/step - loss: 8.9365 - mae: 8.9365\n",
      "Epoch 85/100\n",
      "2/2 [==============================] - 0s 3ms/step - loss: 13.1818 - mae: 13.1818\n",
      "Epoch 86/100\n",
      "2/2 [==============================] - 0s 3ms/step - loss: 13.7126 - mae: 13.7126\n",
      "Epoch 87/100\n",
      "2/2 [==============================] - 0s 2ms/step - loss: 13.1972 - mae: 13.1972\n",
      "Epoch 88/100\n",
      "2/2 [==============================] - 0s 2ms/step - loss: 11.5235 - mae: 11.5235\n",
      "Epoch 89/100\n",
      "2/2 [==============================] - 0s 4ms/step - loss: 7.8046 - mae: 7.8046\n",
      "Epoch 90/100\n",
      "2/2 [==============================] - 0s 3ms/step - loss: 10.9371 - mae: 10.9371\n",
      "Epoch 91/100\n",
      "2/2 [==============================] - 0s 4ms/step - loss: 6.7463 - mae: 6.7463\n",
      "Epoch 92/100\n",
      "2/2 [==============================] - 0s 4ms/step - loss: 10.1298 - mae: 10.1298\n",
      "Epoch 93/100\n",
      "2/2 [==============================] - 0s 4ms/step - loss: 7.6003 - mae: 7.6003\n",
      "Epoch 94/100\n",
      "2/2 [==============================] - 0s 5ms/step - loss: 9.2320 - mae: 9.2320\n",
      "Epoch 95/100\n",
      "2/2 [==============================] - 0s 3ms/step - loss: 10.8166 - mae: 10.8166\n",
      "Epoch 96/100\n",
      "2/2 [==============================] - 0s 3ms/step - loss: 10.3032 - mae: 10.3032\n",
      "Epoch 97/100\n",
      "2/2 [==============================] - 0s 3ms/step - loss: 7.6704 - mae: 7.6704\n",
      "Epoch 98/100\n",
      "2/2 [==============================] - 0s 4ms/step - loss: 8.6065 - mae: 8.6065\n",
      "Epoch 99/100\n",
      "2/2 [==============================] - 0s 4ms/step - loss: 9.3839 - mae: 9.3839\n",
      "Epoch 100/100\n",
      "2/2 [==============================] - 0s 4ms/step - loss: 8.8323 - mae: 8.8323\n"
     ]
    },
    {
     "data": {
      "text/plain": [
       "<keras.callbacks.History at 0x18ef9dec5e0>"
      ]
     },
     "execution_count": 39,
     "metadata": {},
     "output_type": "execute_result"
    }
   ],
   "source": [
    "# Set random seed\n",
    "tf.random.set_seed(42)\n",
    "\n",
    "# 1. Create the model\n",
    "model_1 = tf.keras.Sequential([\n",
    "    tf.keras.layers.Dense(1)\n",
    "])\n",
    "\n",
    "# 2. Compile the model\n",
    "model_1.compile(loss=tf.keras.losses.mae,\n",
    "                optimizer=tf.keras.optimizers.SGD(),\n",
    "                metrics=[\"mae\"])\n",
    "\n",
    "# 3. Fit the model\n",
    "model_1.fit(tf.expand_dims(X_train, axis=-1), y_train, epochs=100)"
   ]
  },
  {
   "cell_type": "code",
   "execution_count": 40,
   "id": "4255a849",
   "metadata": {},
   "outputs": [
    {
     "name": "stdout",
     "output_type": "stream",
     "text": [
      "WARNING:tensorflow:5 out of the last 5 calls to <function Model.make_predict_function.<locals>.predict_function at 0x0000018EE601F910> triggered tf.function retracing. Tracing is expensive and the excessive number of tracings could be due to (1) creating @tf.function repeatedly in a loop, (2) passing tensors with different shapes, (3) passing Python objects instead of tensors. For (1), please define your @tf.function outside of the loop. For (2), @tf.function has reduce_retracing=True option that can avoid unnecessary retracing. For (3), please refer to https://www.tensorflow.org/guide/function#controlling_retracing and https://www.tensorflow.org/api_docs/python/tf/function for  more details.\n",
      "1/1 [==============================] - 0s 31ms/step\n"
     ]
    },
    {
     "data": {
      "image/png": "[encoded data removed]",
      "text/plain": [
       "<Figure size 1000x700 with 1 Axes>"
      ]
     },
     "metadata": {},
     "output_type": "display_data"
    }
   ],
   "source": [
    "# Make and plot predictions for model_1\n",
    "y_preds_1 = model_1.predict(X_test)\n",
    "plot_predictions(predictions=y_preds_1)"
   ]
  },
  {
   "cell_type": "code",
   "execution_count": 41,
   "id": "ab691ec7",
   "metadata": {},
   "outputs": [
    {
     "data": {
      "text/plain": [
       "(<tf.Tensor: shape=(), dtype=float32, numpy=8.602164>,\n",
       " <tf.Tensor: shape=(), dtype=float32, numpy=80.48811>)"
      ]
     },
     "execution_count": 41,
     "metadata": {},
     "output_type": "execute_result"
    }
   ],
   "source": [
    "# Calculate model_1 evaluation metrics\n",
    "mae_1 = mae(y_test, y_preds_1)\n",
    "mse_1 = mse(y_test, y_preds_1)\n",
    "mae_1, mse_1"
   ]
  },
  {
   "cell_type": "markdown",
   "id": "1c436914",
   "metadata": {},
   "source": [
    "**Build `model_2`**\n",
    "\n",
    "* 2 dense layers, trained for 100 epochs"
   ]
  },
  {
   "cell_type": "code",
   "execution_count": 42,
   "id": "05e973d7",
   "metadata": {},
   "outputs": [
    {
     "name": "stdout",
     "output_type": "stream",
     "text": [
      "Epoch 1/100\n",
      "2/2 [==============================] - 0s 4ms/step - loss: 46.6306 - mse: 3328.2156\n",
      "Epoch 2/100\n",
      "2/2 [==============================] - 0s 4ms/step - loss: 26.5523 - mse: 907.7192\n",
      "Epoch 3/100\n",
      "2/2 [==============================] - 0s 4ms/step - loss: 31.4412 - mse: 1490.0201\n",
      "Epoch 4/100\n",
      "2/2 [==============================] - 0s 3ms/step - loss: 28.7586 - mse: 1227.4424\n",
      "Epoch 5/100\n",
      "2/2 [==============================] - 0s 3ms/step - loss: 15.5958 - mse: 316.0969\n",
      "Epoch 6/100\n",
      "2/2 [==============================] - 0s 4ms/step - loss: 12.3535 - mse: 193.9797\n",
      "Epoch 7/100\n",
      "2/2 [==============================] - 0s 3ms/step - loss: 11.6214 - mse: 165.3852\n",
      "Epoch 8/100\n",
      "2/2 [==============================] - 0s 3ms/step - loss: 12.0128 - mse: 195.9153\n",
      "Epoch 9/100\n",
      "2/2 [==============================] - 0s 3ms/step - loss: 37.4704 - mse: 2160.1917\n",
      "Epoch 10/100\n",
      "2/2 [==============================] - 0s 6ms/step - loss: 25.1250 - mse: 885.3057\n",
      "Epoch 11/100\n",
      "2/2 [==============================] - 0s 3ms/step - loss: 10.2405 - mse: 146.2065\n",
      "Epoch 12/100\n",
      "2/2 [==============================] - 0s 2ms/step - loss: 25.4230 - mse: 899.5941\n",
      "Epoch 13/100\n",
      "2/2 [==============================] - 0s 3ms/step - loss: 16.7973 - mse: 388.9019\n",
      "Epoch 14/100\n",
      "2/2 [==============================] - 0s 3ms/step - loss: 25.5620 - mse: 1017.3255\n",
      "Epoch 15/100\n",
      "2/2 [==============================] - 0s 4ms/step - loss: 17.4559 - mse: 421.3740\n",
      "Epoch 16/100\n",
      "2/2 [==============================] - 0s 3ms/step - loss: 10.0047 - mse: 124.4378\n",
      "Epoch 17/100\n",
      "2/2 [==============================] - 0s 3ms/step - loss: 18.4890 - mse: 456.5466\n",
      "Epoch 18/100\n",
      "2/2 [==============================] - 0s 5ms/step - loss: 11.3407 - mse: 198.5489\n",
      "Epoch 19/100\n",
      "2/2 [==============================] - 0s 2ms/step - loss: 13.9252 - mse: 301.9815\n",
      "Epoch 20/100\n",
      "2/2 [==============================] - 0s 3ms/step - loss: 11.1838 - mse: 146.0888\n",
      "Epoch 21/100\n",
      "2/2 [==============================] - 0s 4ms/step - loss: 17.2379 - mse: 420.5692\n",
      "Epoch 22/100\n",
      "2/2 [==============================] - 0s 3ms/step - loss: 15.4696 - mse: 329.6016\n",
      "Epoch 23/100\n",
      "2/2 [==============================] - 0s 4ms/step - loss: 9.2338 - mse: 118.4384\n",
      "Epoch 24/100\n",
      "2/2 [==============================] - 0s 3ms/step - loss: 17.2751 - mse: 409.1382\n",
      "Epoch 25/100\n",
      "2/2 [==============================] - 0s 3ms/step - loss: 15.9418 - mse: 334.0306\n",
      "Epoch 26/100\n",
      "2/2 [==============================] - 0s 3ms/step - loss: 20.9459 - mse: 650.0477\n",
      "Epoch 27/100\n",
      "2/2 [==============================] - 0s 4ms/step - loss: 25.9243 - mse: 1048.1816\n",
      "Epoch 28/100\n",
      "2/2 [==============================] - 0s 4ms/step - loss: 18.4398 - mse: 538.0947\n",
      "Epoch 29/100\n",
      "2/2 [==============================] - 0s 3ms/step - loss: 9.2335 - mse: 97.6479\n",
      "Epoch 30/100\n",
      "2/2 [==============================] - 0s 4ms/step - loss: 29.0403 - mse: 1505.3658\n",
      "Epoch 31/100\n",
      "2/2 [==============================] - 0s 4ms/step - loss: 52.5916 - mse: 4944.9824\n",
      "Epoch 32/100\n",
      "2/2 [==============================] - 0s 3ms/step - loss: 11.9012 - mse: 205.7408\n",
      "Epoch 33/100\n",
      "2/2 [==============================] - 0s 3ms/step - loss: 15.4904 - mse: 330.6265\n",
      "Epoch 34/100\n",
      "2/2 [==============================] - 0s 4ms/step - loss: 12.5894 - mse: 209.0012\n",
      "Epoch 35/100\n",
      "2/2 [==============================] - 0s 4ms/step - loss: 9.1852 - mse: 91.3394\n",
      "Epoch 36/100\n",
      "2/2 [==============================] - 0s 3ms/step - loss: 16.4779 - mse: 394.7247\n",
      "Epoch 37/100\n",
      "2/2 [==============================] - 0s 3ms/step - loss: 11.0825 - mse: 192.0816\n",
      "Epoch 38/100\n",
      "2/2 [==============================] - 0s 4ms/step - loss: 18.2110 - mse: 436.9622\n",
      "Epoch 39/100\n",
      "2/2 [==============================] - 0s 3ms/step - loss: 19.1419 - mse: 533.7083\n",
      "Epoch 40/100\n",
      "2/2 [==============================] - 0s 4ms/step - loss: 20.5076 - mse: 614.3926\n",
      "Epoch 41/100\n",
      "2/2 [==============================] - 0s 4ms/step - loss: 14.8020 - mse: 274.3105\n",
      "Epoch 42/100\n",
      "2/2 [==============================] - 0s 3ms/step - loss: 12.2017 - mse: 182.4188\n",
      "Epoch 43/100\n",
      "2/2 [==============================] - 0s 3ms/step - loss: 10.6887 - mse: 163.3575\n",
      "Epoch 44/100\n",
      "2/2 [==============================] - 0s 4ms/step - loss: 32.3014 - mse: 1716.2640\n",
      "Epoch 45/100\n",
      "2/2 [==============================] - 0s 3ms/step - loss: 12.4726 - mse: 202.3344\n",
      "Epoch 46/100\n",
      "2/2 [==============================] - 0s 3ms/step - loss: 17.5449 - mse: 461.2803\n",
      "Epoch 47/100\n",
      "2/2 [==============================] - 0s 3ms/step - loss: 15.7387 - mse: 338.6938\n",
      "Epoch 48/100\n",
      "2/2 [==============================] - 0s 3ms/step - loss: 8.3585 - mse: 112.4646\n",
      "Epoch 49/100\n",
      "2/2 [==============================] - 0s 3ms/step - loss: 13.9647 - mse: 268.4595\n",
      "Epoch 50/100\n",
      "2/2 [==============================] - 0s 5ms/step - loss: 12.8125 - mse: 214.9074\n",
      "Epoch 51/100\n",
      "2/2 [==============================] - 0s 6ms/step - loss: 14.8189 - mse: 308.5863\n",
      "Epoch 52/100\n",
      "2/2 [==============================] - 0s 3ms/step - loss: 18.7084 - mse: 528.3608\n",
      "Epoch 53/100\n",
      "2/2 [==============================] - 0s 3ms/step - loss: 24.1446 - mse: 826.9923\n",
      "Epoch 54/100\n",
      "2/2 [==============================] - 0s 4ms/step - loss: 23.2277 - mse: 808.5721\n",
      "Epoch 55/100\n",
      "2/2 [==============================] - 0s 3ms/step - loss: 24.0911 - mse: 873.5910\n",
      "Epoch 56/100\n",
      "2/2 [==============================] - 0s 4ms/step - loss: 11.1708 - mse: 170.9171\n",
      "Epoch 57/100\n",
      "2/2 [==============================] - 0s 4ms/step - loss: 13.1329 - mse: 215.0049\n",
      "Epoch 58/100\n",
      "2/2 [==============================] - 0s 4ms/step - loss: 9.8173 - mse: 106.4116\n",
      "Epoch 59/100\n",
      "2/2 [==============================] - 0s 3ms/step - loss: 13.3273 - mse: 250.8360\n",
      "Epoch 60/100\n",
      "2/2 [==============================] - 0s 3ms/step - loss: 10.8794 - mse: 139.8023\n",
      "Epoch 61/100\n",
      "2/2 [==============================] - 0s 6ms/step - loss: 13.4870 - mse: 242.7453\n",
      "Epoch 62/100\n",
      "2/2 [==============================] - 0s 4ms/step - loss: 17.5506 - mse: 470.1671\n",
      "Epoch 63/100\n",
      "2/2 [==============================] - 0s 3ms/step - loss: 9.1601 - mse: 87.5358\n",
      "Epoch 64/100\n",
      "2/2 [==============================] - 0s 5ms/step - loss: 18.4206 - mse: 493.2349\n",
      "Epoch 65/100\n",
      "2/2 [==============================] - 0s 3ms/step - loss: 10.1175 - mse: 115.0997\n",
      "Epoch 66/100\n",
      "2/2 [==============================] - 0s 3ms/step - loss: 24.3005 - mse: 891.6704\n",
      "Epoch 67/100\n",
      "2/2 [==============================] - 0s 6ms/step - loss: 10.8967 - mse: 143.3361\n",
      "Epoch 68/100\n",
      "2/2 [==============================] - 0s 5ms/step - loss: 10.7725 - mse: 160.0124\n",
      "Epoch 69/100\n",
      "2/2 [==============================] - 0s 3ms/step - loss: 23.2923 - mse: 784.3602\n",
      "Epoch 70/100\n",
      "2/2 [==============================] - 0s 3ms/step - loss: 8.7994 - mse: 143.6187\n",
      "Epoch 71/100\n",
      "2/2 [==============================] - 0s 6ms/step - loss: 15.9547 - mse: 346.6292\n",
      "Epoch 72/100\n",
      "2/2 [==============================] - 0s 5ms/step - loss: 8.1217 - mse: 109.6433\n",
      "Epoch 73/100\n",
      "2/2 [==============================] - 0s 4ms/step - loss: 9.4595 - mse: 153.5165\n",
      "Epoch 74/100\n",
      "2/2 [==============================] - 0s 7ms/step - loss: 28.1358 - mse: 1109.0964\n",
      "Epoch 75/100\n",
      "2/2 [==============================] - 0s 4ms/step - loss: 10.2083 - mse: 145.2748\n",
      "Epoch 76/100\n",
      "2/2 [==============================] - 0s 5ms/step - loss: 13.1603 - mse: 219.7325\n",
      "Epoch 77/100\n",
      "2/2 [==============================] - 0s 5ms/step - loss: 18.4544 - mse: 534.6406\n",
      "Epoch 78/100\n",
      "2/2 [==============================] - 0s 4ms/step - loss: 9.0149 - mse: 91.7993\n",
      "Epoch 79/100\n",
      "2/2 [==============================] - 0s 4ms/step - loss: 23.5095 - mse: 827.2902\n",
      "Epoch 80/100\n",
      "2/2 [==============================] - 0s 3ms/step - loss: 26.1995 - mse: 1055.2935\n",
      "Epoch 81/100\n",
      "2/2 [==============================] - 0s 4ms/step - loss: 11.4146 - mse: 159.5490\n",
      "Epoch 82/100\n",
      "2/2 [==============================] - 0s 6ms/step - loss: 12.4707 - mse: 227.1839\n",
      "Epoch 83/100\n",
      "2/2 [==============================] - 0s 4ms/step - loss: 17.1469 - mse: 382.4924\n",
      "Epoch 84/100\n",
      "2/2 [==============================] - 0s 4ms/step - loss: 6.5751 - mse: 64.0203\n",
      "Epoch 85/100\n",
      "2/2 [==============================] - 0s 4ms/step - loss: 20.3754 - mse: 580.7565\n",
      "Epoch 86/100\n",
      "2/2 [==============================] - 0s 5ms/step - loss: 10.1706 - mse: 116.2890\n",
      "Epoch 87/100\n",
      "2/2 [==============================] - 0s 3ms/step - loss: 24.4171 - mse: 834.4974\n",
      "Epoch 88/100\n",
      "2/2 [==============================] - 0s 3ms/step - loss: 19.0812 - mse: 516.8431\n",
      "Epoch 89/100\n",
      "2/2 [==============================] - 0s 3ms/step - loss: 7.1575 - mse: 69.9010\n",
      "Epoch 90/100\n",
      "2/2 [==============================] - 0s 3ms/step - loss: 18.2300 - mse: 492.8035\n",
      "Epoch 91/100\n",
      "2/2 [==============================] - 0s 4ms/step - loss: 13.2769 - mse: 254.9564\n",
      "Epoch 92/100\n",
      "2/2 [==============================] - 0s 3ms/step - loss: 14.8153 - mse: 309.4854\n",
      "Epoch 93/100\n",
      "2/2 [==============================] - 0s 3ms/step - loss: 11.6149 - mse: 251.0091\n",
      "Epoch 94/100\n",
      "2/2 [==============================] - 0s 4ms/step - loss: 16.1746 - mse: 369.4791\n",
      "Epoch 95/100\n",
      "2/2 [==============================] - 0s 4ms/step - loss: 15.5151 - mse: 320.5173\n",
      "Epoch 96/100\n",
      "2/2 [==============================] - 0s 4ms/step - loss: 15.0420 - mse: 322.7269\n",
      "Epoch 97/100\n",
      "2/2 [==============================] - 0s 7ms/step - loss: 10.8707 - mse: 188.1182\n",
      "Epoch 98/100\n",
      "2/2 [==============================] - 0s 5ms/step - loss: 14.3279 - mse: 285.1390\n",
      "Epoch 99/100\n",
      "2/2 [==============================] - 0s 5ms/step - loss: 13.3579 - mse: 251.0203\n",
      "Epoch 100/100\n",
      "2/2 [==============================] - 0s 5ms/step - loss: 19.9556 - mse: 582.3988\n"
     ]
    },
    {
     "data": {
      "text/plain": [
       "<keras.callbacks.History at 0x18ee644c280>"
      ]
     },
     "execution_count": 42,
     "metadata": {},
     "output_type": "execute_result"
    }
   ],
   "source": [
    "# Set the random seed\n",
    "tf.random.set_seed(42)\n",
    "\n",
    "# 1. Create the model\n",
    "model_2 = tf.keras.Sequential([\n",
    "    tf.keras.layers.Dense(10),\n",
    "    tf.keras.layers.Dense(1)\n",
    "])\n",
    "\n",
    "# 2. Compile the model\n",
    "model_2.compile(loss=tf.keras.losses.mae,\n",
    "                optimizer=tf.keras.optimizers.SGD(),\n",
    "                metrics=[\"mse\"])\n",
    "\n",
    "# 3. Fit the model\n",
    "model_2.fit(tf.expand_dims(X_train, axis=-1), y_train, epochs=100)"
   ]
  },
  {
   "cell_type": "code",
   "execution_count": 43,
   "id": "797754ea",
   "metadata": {},
   "outputs": [
    {
     "name": "stdout",
     "output_type": "stream",
     "text": [
      "WARNING:tensorflow:6 out of the last 6 calls to <function Model.make_predict_function.<locals>.predict_function at 0x0000018EF9E02D40> triggered tf.function retracing. Tracing is expensive and the excessive number of tracings could be due to (1) creating @tf.function repeatedly in a loop, (2) passing tensors with different shapes, (3) passing Python objects instead of tensors. For (1), please define your @tf.function outside of the loop. For (2), @tf.function has reduce_retracing=True option that can avoid unnecessary retracing. For (3), please refer to https://www.tensorflow.org/guide/function#controlling_retracing and https://www.tensorflow.org/api_docs/python/tf/function for  more details.\n",
      "1/1 [==============================] - 0s 35ms/step\n"
     ]
    },
    {
     "data": {
      "image/png": "[encoded data removed]",
      "text/plain": [
       "<Figure size 1000x700 with 1 Axes>"
      ]
     },
     "metadata": {},
     "output_type": "display_data"
    }
   ],
   "source": [
    "# Make and plot predictions of model_2\n",
    "y_preds_2 = model_2.predict(X_test)\n",
    "plot_predictions(predictions=y_preds_2)"
   ]
  },
  {
   "cell_type": "code",
   "execution_count": 44,
   "id": "893c58ca",
   "metadata": {},
   "outputs": [
    {
     "data": {
      "text/plain": [
       "(<tf.Tensor: shape=(), dtype=float32, numpy=29.91055>,\n",
       " <tf.Tensor: shape=(), dtype=float32, numpy=926.06525>)"
      ]
     },
     "execution_count": 44,
     "metadata": {},
     "output_type": "execute_result"
    }
   ],
   "source": [
    "# Calculate model_2 evaluation metrics\n",
    "mae_2 = mae(y_test, y_preds_2)\n",
    "mse_2 = mse(y_test, y_preds_2)\n",
    "mae_2, mse_2"
   ]
  },
  {
   "cell_type": "markdown",
   "id": "2d996188",
   "metadata": {},
   "source": [
    "**Build `model_3`**\n",
    "\n",
    "* 2 layers, trained for 500 epochs"
   ]
  },
  {
   "cell_type": "code",
   "execution_count": 45,
   "id": "a281ed04",
   "metadata": {},
   "outputs": [
    {
     "name": "stdout",
     "output_type": "stream",
     "text": [
      "Epoch 1/500\n",
      "2/2 [==============================] - 0s 3ms/step - loss: 26.4637 - mae: 26.4637\n",
      "Epoch 2/500\n",
      "2/2 [==============================] - 0s 4ms/step - loss: 24.4222 - mae: 24.4222\n",
      "Epoch 3/500\n",
      "2/2 [==============================] - 0s 3ms/step - loss: 29.3143 - mae: 29.3143\n",
      "Epoch 4/500\n",
      "2/2 [==============================] - 0s 3ms/step - loss: 15.9570 - mae: 15.9570\n",
      "Epoch 5/500\n",
      "2/2 [==============================] - 0s 3ms/step - loss: 21.9854 - mae: 21.9854\n",
      "Epoch 6/500\n",
      "2/2 [==============================] - 0s 4ms/step - loss: 11.4512 - mae: 11.4512\n",
      "Epoch 7/500\n",
      "2/2 [==============================] - 0s 2ms/step - loss: 12.5291 - mae: 12.5291\n",
      "Epoch 8/500\n",
      "2/2 [==============================] - 0s 2ms/step - loss: 11.0555 - mae: 11.0555\n",
      "Epoch 9/500\n",
      "2/2 [==============================] - 0s 3ms/step - loss: 39.5986 - mae: 39.5986\n",
      "Epoch 10/500\n",
      "2/2 [==============================] - 0s 4ms/step - loss: 27.1165 - mae: 27.1165\n",
      "Epoch 11/500\n",
      "2/2 [==============================] - 0s 3ms/step - loss: 11.0421 - mae: 11.0421\n",
      "Epoch 12/500\n",
      "2/2 [==============================] - 0s 3ms/step - loss: 24.4951 - mae: 24.4951\n",
      "Epoch 13/500\n",
      "2/2 [==============================] - 0s 4ms/step - loss: 19.2610 - mae: 19.2610\n",
      "Epoch 14/500\n",
      "2/2 [==============================] - 0s 4ms/step - loss: 23.4899 - mae: 23.4899\n",
      "Epoch 15/500\n",
      "2/2 [==============================] - 0s 2ms/step - loss: 15.2752 - mae: 15.2752\n",
      "Epoch 16/500\n",
      "2/2 [==============================] - 0s 3ms/step - loss: 11.3610 - mae: 11.3610\n",
      "Epoch 17/500\n",
      "2/2 [==============================] - 0s 3ms/step - loss: 23.2231 - mae: 23.2231\n",
      "Epoch 18/500\n",
      "2/2 [==============================] - 0s 4ms/step - loss: 11.7983 - mae: 11.7983\n",
      "Epoch 19/500\n",
      "2/2 [==============================] - 0s 5ms/step - loss: 16.5223 - mae: 16.5223\n",
      "Epoch 20/500\n",
      "2/2 [==============================] - 0s 3ms/step - loss: 8.2386 - mae: 8.2386\n",
      "Epoch 21/500\n",
      "2/2 [==============================] - 0s 5ms/step - loss: 14.4025 - mae: 14.4025\n",
      "Epoch 22/500\n",
      "2/2 [==============================] - 0s 5ms/step - loss: 12.8161 - mae: 12.8161\n",
      "Epoch 23/500\n",
      "2/2 [==============================] - 0s 4ms/step - loss: 15.4553 - mae: 15.4553\n",
      "Epoch 24/500\n",
      "2/2 [==============================] - 0s 6ms/step - loss: 15.2439 - mae: 15.2439\n",
      "Epoch 25/500\n",
      "2/2 [==============================] - 0s 4ms/step - loss: 14.3265 - mae: 14.3265\n",
      "Epoch 26/500\n",
      "2/2 [==============================] - 0s 4ms/step - loss: 19.3186 - mae: 19.3186\n",
      "Epoch 27/500\n",
      "2/2 [==============================] - 0s 3ms/step - loss: 11.4673 - mae: 11.4673\n",
      "Epoch 28/500\n",
      "2/2 [==============================] - 0s 3ms/step - loss: 29.1884 - mae: 29.1884\n",
      "Epoch 29/500\n",
      "2/2 [==============================] - 0s 4ms/step - loss: 9.2514 - mae: 9.2514\n",
      "Epoch 30/500\n",
      "2/2 [==============================] - 0s 3ms/step - loss: 29.9142 - mae: 29.9142\n",
      "Epoch 31/500\n",
      "2/2 [==============================] - 0s 3ms/step - loss: 54.3001 - mae: 54.3001\n",
      "Epoch 32/500\n",
      "2/2 [==============================] - 0s 4ms/step - loss: 9.5901 - mae: 9.5901\n",
      "Epoch 33/500\n",
      "2/2 [==============================] - 0s 3ms/step - loss: 12.1879 - mae: 12.1879\n",
      "Epoch 34/500\n",
      "2/2 [==============================] - 0s 4ms/step - loss: 23.9925 - mae: 23.9925\n",
      "Epoch 35/500\n",
      "2/2 [==============================] - 0s 4ms/step - loss: 12.6126 - mae: 12.6126\n",
      "Epoch 36/500\n",
      "2/2 [==============================] - 0s 4ms/step - loss: 21.5029 - mae: 21.5029\n",
      "Epoch 37/500\n",
      "2/2 [==============================] - 0s 4ms/step - loss: 11.3978 - mae: 11.3978\n",
      "Epoch 38/500\n",
      "2/2 [==============================] - 0s 5ms/step - loss: 13.5053 - mae: 13.5053\n",
      "Epoch 39/500\n",
      "2/2 [==============================] - 0s 4ms/step - loss: 10.8098 - mae: 10.8098\n",
      "Epoch 40/500\n",
      "2/2 [==============================] - 0s 3ms/step - loss: 16.6583 - mae: 16.6583\n",
      "Epoch 41/500\n",
      "2/2 [==============================] - 0s 4ms/step - loss: 11.0020 - mae: 11.0020\n",
      "Epoch 42/500\n",
      "2/2 [==============================] - 0s 4ms/step - loss: 9.3260 - mae: 9.3260\n",
      "Epoch 43/500\n",
      "2/2 [==============================] - 0s 3ms/step - loss: 9.6001 - mae: 9.6001\n",
      "Epoch 44/500\n",
      "2/2 [==============================] - 0s 3ms/step - loss: 28.1038 - mae: 28.1038\n",
      "Epoch 45/500\n",
      "2/2 [==============================] - 0s 3ms/step - loss: 11.3081 - mae: 11.3081\n",
      "Epoch 46/500\n",
      "2/2 [==============================] - 0s 3ms/step - loss: 14.1356 - mae: 14.1356\n",
      "Epoch 47/500\n",
      "2/2 [==============================] - 0s 3ms/step - loss: 13.4801 - mae: 13.4801\n",
      "Epoch 48/500\n",
      "2/2 [==============================] - 0s 4ms/step - loss: 17.3034 - mae: 17.3034\n",
      "Epoch 49/500\n",
      "2/2 [==============================] - 0s 4ms/step - loss: 9.5404 - mae: 9.5404\n",
      "Epoch 50/500\n",
      "2/2 [==============================] - 0s 3ms/step - loss: 13.7479 - mae: 13.7479\n",
      "Epoch 51/500\n",
      "2/2 [==============================] - 0s 3ms/step - loss: 11.5818 - mae: 11.5818\n",
      "Epoch 52/500\n",
      "2/2 [==============================] - 0s 5ms/step - loss: 30.3391 - mae: 30.3391\n",
      "Epoch 53/500\n",
      "2/2 [==============================] - 0s 4ms/step - loss: 14.2659 - mae: 14.2659\n",
      "Epoch 54/500\n",
      "2/2 [==============================] - 0s 6ms/step - loss: 23.5948 - mae: 23.5948\n",
      "Epoch 55/500\n",
      "2/2 [==============================] - 0s 6ms/step - loss: 24.5133 - mae: 24.5133\n",
      "Epoch 56/500\n",
      "2/2 [==============================] - 0s 4ms/step - loss: 11.3202 - mae: 11.3202\n",
      "Epoch 57/500\n",
      "2/2 [==============================] - 0s 4ms/step - loss: 13.3306 - mae: 13.3306\n",
      "Epoch 58/500\n",
      "2/2 [==============================] - 0s 3ms/step - loss: 9.9307 - mae: 9.9307\n",
      "Epoch 59/500\n",
      "2/2 [==============================] - 0s 2ms/step - loss: 13.8712 - mae: 13.8712\n",
      "Epoch 60/500\n",
      "2/2 [==============================] - 0s 3ms/step - loss: 9.9742 - mae: 9.9742\n",
      "Epoch 61/500\n",
      "2/2 [==============================] - 0s 5ms/step - loss: 14.9195 - mae: 14.9195\n",
      "Epoch 62/500\n",
      "2/2 [==============================] - 0s 4ms/step - loss: 11.8959 - mae: 11.8959\n",
      "Epoch 63/500\n",
      "2/2 [==============================] - 0s 3ms/step - loss: 10.2752 - mae: 10.2752\n",
      "Epoch 64/500\n",
      "2/2 [==============================] - 0s 2ms/step - loss: 23.7970 - mae: 23.7970\n",
      "Epoch 65/500\n",
      "2/2 [==============================] - 0s 2ms/step - loss: 10.4473 - mae: 10.4473\n",
      "Epoch 66/500\n",
      "2/2 [==============================] - 0s 3ms/step - loss: 20.8537 - mae: 20.8537\n",
      "Epoch 67/500\n",
      "2/2 [==============================] - 0s 2ms/step - loss: 10.4187 - mae: 10.4187\n",
      "Epoch 68/500\n",
      "2/2 [==============================] - 0s 3ms/step - loss: 14.1178 - mae: 14.1178\n",
      "Epoch 69/500\n",
      "2/2 [==============================] - 0s 3ms/step - loss: 10.4841 - mae: 10.4841\n",
      "Epoch 70/500\n",
      "2/2 [==============================] - 0s 3ms/step - loss: 12.5566 - mae: 12.5566\n",
      "Epoch 71/500\n",
      "2/2 [==============================] - 0s 5ms/step - loss: 12.9796 - mae: 12.9796\n",
      "Epoch 72/500\n",
      "2/2 [==============================] - 0s 3ms/step - loss: 19.2754 - mae: 19.2754\n",
      "Epoch 73/500\n",
      "2/2 [==============================] - 0s 3ms/step - loss: 11.1112 - mae: 11.1112\n",
      "Epoch 74/500\n",
      "2/2 [==============================] - 0s 4ms/step - loss: 21.3578 - mae: 21.3578\n",
      "Epoch 75/500\n",
      "2/2 [==============================] - 0s 4ms/step - loss: 9.4377 - mae: 9.4377\n",
      "Epoch 76/500\n",
      "2/2 [==============================] - 0s 4ms/step - loss: 12.2586 - mae: 12.2586\n",
      "Epoch 77/500\n",
      "2/2 [==============================] - 0s 3ms/step - loss: 16.2614 - mae: 16.2614\n",
      "Epoch 78/500\n",
      "2/2 [==============================] - 0s 4ms/step - loss: 9.0017 - mae: 9.0017\n",
      "Epoch 79/500\n",
      "2/2 [==============================] - 0s 5ms/step - loss: 23.4944 - mae: 23.4944\n",
      "Epoch 80/500\n",
      "2/2 [==============================] - 0s 6ms/step - loss: 26.1749 - mae: 26.1749\n",
      "Epoch 81/500\n",
      "2/2 [==============================] - 0s 5ms/step - loss: 11.4036 - mae: 11.4036\n",
      "Epoch 82/500\n",
      "2/2 [==============================] - 0s 6ms/step - loss: 12.4679 - mae: 12.4679\n",
      "Epoch 83/500\n",
      "2/2 [==============================] - 0s 6ms/step - loss: 17.1417 - mae: 17.1417\n",
      "Epoch 84/500\n",
      "2/2 [==============================] - 0s 2ms/step - loss: 6.5646 - mae: 6.5646\n",
      "Epoch 85/500\n",
      "2/2 [==============================] - 0s 4ms/step - loss: 20.3825 - mae: 20.3825\n",
      "Epoch 86/500\n",
      "2/2 [==============================] - 0s 4ms/step - loss: 10.1645 - mae: 10.1645\n",
      "Epoch 87/500\n",
      "2/2 [==============================] - 0s 3ms/step - loss: 24.4409 - mae: 24.4409\n",
      "Epoch 88/500\n",
      "2/2 [==============================] - 0s 3ms/step - loss: 19.1094 - mae: 19.1094\n",
      "Epoch 89/500\n",
      "2/2 [==============================] - 0s 3ms/step - loss: 7.1491 - mae: 7.1491\n",
      "Epoch 90/500\n",
      "2/2 [==============================] - 0s 3ms/step - loss: 18.2153 - mae: 18.2153\n",
      "Epoch 91/500\n",
      "2/2 [==============================] - 0s 4ms/step - loss: 13.2614 - mae: 13.2614\n",
      "Epoch 92/500\n",
      "2/2 [==============================] - 0s 3ms/step - loss: 14.7979 - mae: 14.7979\n",
      "Epoch 93/500\n",
      "2/2 [==============================] - 0s 4ms/step - loss: 11.0900 - mae: 11.0900\n",
      "Epoch 94/500\n",
      "2/2 [==============================] - 0s 3ms/step - loss: 16.6810 - mae: 16.6810\n",
      "Epoch 95/500\n",
      "2/2 [==============================] - 0s 6ms/step - loss: 16.0477 - mae: 16.0477\n",
      "Epoch 96/500\n",
      "2/2 [==============================] - 0s 4ms/step - loss: 10.5657 - mae: 10.5657\n",
      "Epoch 97/500\n",
      "2/2 [==============================] - 0s 3ms/step - loss: 21.2170 - mae: 21.2170\n",
      "Epoch 98/500\n",
      "2/2 [==============================] - 0s 3ms/step - loss: 10.4363 - mae: 10.4363\n",
      "Epoch 99/500\n",
      "2/2 [==============================] - 0s 3ms/step - loss: 14.5177 - mae: 14.5177\n",
      "Epoch 100/500\n",
      "2/2 [==============================] - 0s 6ms/step - loss: 17.6804 - mae: 17.6804\n",
      "Epoch 101/500\n",
      "2/2 [==============================] - 0s 3ms/step - loss: 11.2196 - mae: 11.2196\n",
      "Epoch 102/500\n",
      "2/2 [==============================] - 0s 2ms/step - loss: 16.9479 - mae: 16.9479\n",
      "Epoch 103/500\n",
      "2/2 [==============================] - 0s 3ms/step - loss: 7.7351 - mae: 7.7351\n",
      "Epoch 104/500\n",
      "2/2 [==============================] - 0s 3ms/step - loss: 22.3332 - mae: 22.3332\n",
      "Epoch 105/500\n",
      "2/2 [==============================] - 0s 3ms/step - loss: 20.1485 - mae: 20.1485\n",
      "Epoch 106/500\n",
      "2/2 [==============================] - 0s 3ms/step - loss: 10.0826 - mae: 10.0826\n",
      "Epoch 107/500\n",
      "2/2 [==============================] - 0s 3ms/step - loss: 24.8339 - mae: 24.8339\n",
      "Epoch 108/500\n",
      "2/2 [==============================] - 0s 3ms/step - loss: 14.8009 - mae: 14.8009\n",
      "Epoch 109/500\n",
      "2/2 [==============================] - 0s 4ms/step - loss: 8.9494 - mae: 8.9494\n",
      "Epoch 110/500\n",
      "2/2 [==============================] - 0s 3ms/step - loss: 9.2130 - mae: 9.2130\n",
      "Epoch 111/500\n",
      "2/2 [==============================] - 0s 2ms/step - loss: 12.8341 - mae: 12.8341\n",
      "Epoch 112/500\n",
      "2/2 [==============================] - 0s 4ms/step - loss: 15.7004 - mae: 15.7004\n",
      "Epoch 113/500\n",
      "2/2 [==============================] - 0s 3ms/step - loss: 11.1932 - mae: 11.1932\n",
      "Epoch 114/500\n",
      "2/2 [==============================] - 0s 4ms/step - loss: 24.9565 - mae: 24.9565\n",
      "Epoch 115/500\n",
      "2/2 [==============================] - 0s 3ms/step - loss: 13.5147 - mae: 13.5147\n",
      "Epoch 116/500\n",
      "2/2 [==============================] - 0s 3ms/step - loss: 14.4063 - mae: 14.4063\n",
      "Epoch 117/500\n",
      "2/2 [==============================] - 0s 3ms/step - loss: 9.9640 - mae: 9.9640\n",
      "Epoch 118/500\n",
      "2/2 [==============================] - 0s 4ms/step - loss: 11.0949 - mae: 11.0949\n",
      "Epoch 119/500\n",
      "2/2 [==============================] - 0s 3ms/step - loss: 8.1151 - mae: 8.1151\n",
      "Epoch 120/500\n",
      "2/2 [==============================] - 0s 3ms/step - loss: 30.9367 - mae: 30.9367\n",
      "Epoch 121/500\n",
      "2/2 [==============================] - 0s 2ms/step - loss: 8.1357 - mae: 8.1357\n",
      "Epoch 122/500\n",
      "2/2 [==============================] - 0s 3ms/step - loss: 29.3304 - mae: 29.3304\n",
      "Epoch 123/500\n",
      "2/2 [==============================] - 0s 2ms/step - loss: 34.1506 - mae: 34.1506\n",
      "Epoch 124/500\n",
      "2/2 [==============================] - 0s 2ms/step - loss: 20.5843 - mae: 20.5843\n",
      "Epoch 125/500\n",
      "2/2 [==============================] - 0s 3ms/step - loss: 9.1246 - mae: 9.1246\n",
      "Epoch 126/500\n",
      "2/2 [==============================] - 0s 5ms/step - loss: 9.2746 - mae: 9.2746\n",
      "Epoch 127/500\n",
      "2/2 [==============================] - 0s 3ms/step - loss: 11.3884 - mae: 11.3884\n",
      "Epoch 128/500\n",
      "2/2 [==============================] - 0s 3ms/step - loss: 17.2316 - mae: 17.2316\n",
      "Epoch 129/500\n",
      "2/2 [==============================] - 0s 3ms/step - loss: 9.0024 - mae: 9.0024\n",
      "Epoch 130/500\n",
      "2/2 [==============================] - 0s 4ms/step - loss: 24.0021 - mae: 24.0021\n",
      "Epoch 131/500\n",
      "2/2 [==============================] - 0s 4ms/step - loss: 9.7441 - mae: 9.7441\n",
      "Epoch 132/500\n",
      "2/2 [==============================] - 0s 4ms/step - loss: 18.2608 - mae: 18.2608\n",
      "Epoch 133/500\n",
      "2/2 [==============================] - 0s 2ms/step - loss: 7.5770 - mae: 7.5770\n",
      "Epoch 134/500\n",
      "2/2 [==============================] - 0s 2ms/step - loss: 18.5307 - mae: 18.5307\n",
      "Epoch 135/500\n",
      "2/2 [==============================] - 0s 3ms/step - loss: 10.5220 - mae: 10.5220\n",
      "Epoch 136/500\n",
      "2/2 [==============================] - 0s 3ms/step - loss: 18.2371 - mae: 18.2371\n",
      "Epoch 137/500\n",
      "2/2 [==============================] - 0s 4ms/step - loss: 23.1227 - mae: 23.1227\n",
      "Epoch 138/500\n",
      "2/2 [==============================] - 0s 3ms/step - loss: 9.1204 - mae: 9.1204\n",
      "Epoch 139/500\n",
      "2/2 [==============================] - 0s 3ms/step - loss: 8.9061 - mae: 8.9061\n",
      "Epoch 140/500\n",
      "2/2 [==============================] - 0s 4ms/step - loss: 16.4297 - mae: 16.4297\n",
      "Epoch 141/500\n",
      "2/2 [==============================] - 0s 3ms/step - loss: 8.4180 - mae: 8.4180\n",
      "Epoch 142/500\n",
      "2/2 [==============================] - 0s 4ms/step - loss: 36.8694 - mae: 36.8694\n",
      "Epoch 143/500\n",
      "2/2 [==============================] - 0s 3ms/step - loss: 25.5075 - mae: 25.5075\n",
      "Epoch 144/500\n",
      "2/2 [==============================] - 0s 3ms/step - loss: 9.5416 - mae: 9.5416\n",
      "Epoch 145/500\n",
      "2/2 [==============================] - 0s 3ms/step - loss: 26.6223 - mae: 26.6223\n",
      "Epoch 146/500\n",
      "2/2 [==============================] - 0s 3ms/step - loss: 8.7044 - mae: 8.7044\n",
      "Epoch 147/500\n",
      "2/2 [==============================] - 0s 4ms/step - loss: 15.6332 - mae: 15.6332\n",
      "Epoch 148/500\n",
      "2/2 [==============================] - 0s 3ms/step - loss: 18.3221 - mae: 18.3221\n",
      "Epoch 149/500\n",
      "2/2 [==============================] - 0s 4ms/step - loss: 8.1876 - mae: 8.1876\n",
      "Epoch 150/500\n",
      "2/2 [==============================] - 0s 5ms/step - loss: 7.4933 - mae: 7.4933\n",
      "Epoch 151/500\n",
      "2/2 [==============================] - 0s 7ms/step - loss: 18.3031 - mae: 18.3031\n",
      "Epoch 152/500\n",
      "2/2 [==============================] - 0s 3ms/step - loss: 10.2829 - mae: 10.2829\n",
      "Epoch 153/500\n",
      "2/2 [==============================] - 0s 2ms/step - loss: 29.6078 - mae: 29.6078\n",
      "Epoch 154/500\n",
      "2/2 [==============================] - 0s 3ms/step - loss: 10.5646 - mae: 10.5646\n",
      "Epoch 155/500\n",
      "2/2 [==============================] - 0s 3ms/step - loss: 15.4613 - mae: 15.4613\n",
      "Epoch 156/500\n",
      "2/2 [==============================] - 0s 5ms/step - loss: 17.0328 - mae: 17.0328\n",
      "Epoch 157/500\n",
      "2/2 [==============================] - 0s 3ms/step - loss: 32.7877 - mae: 32.7877\n",
      "Epoch 158/500\n",
      "2/2 [==============================] - 0s 7ms/step - loss: 10.6912 - mae: 10.6912\n",
      "Epoch 159/500\n",
      "2/2 [==============================] - 0s 4ms/step - loss: 8.9015 - mae: 8.9015\n",
      "Epoch 160/500\n",
      "2/2 [==============================] - 0s 5ms/step - loss: 22.1056 - mae: 22.1056\n",
      "Epoch 161/500\n",
      "2/2 [==============================] - 0s 3ms/step - loss: 11.6971 - mae: 11.6971\n",
      "Epoch 162/500\n",
      "2/2 [==============================] - 0s 6ms/step - loss: 21.5459 - mae: 21.5459\n",
      "Epoch 163/500\n",
      "2/2 [==============================] - 0s 3ms/step - loss: 19.2174 - mae: 19.2174\n",
      "Epoch 164/500\n",
      "2/2 [==============================] - 0s 3ms/step - loss: 10.9931 - mae: 10.9931\n",
      "Epoch 165/500\n",
      "2/2 [==============================] - 0s 3ms/step - loss: 9.6252 - mae: 9.6252\n",
      "Epoch 166/500\n",
      "2/2 [==============================] - 0s 4ms/step - loss: 21.6072 - mae: 21.6072\n",
      "Epoch 167/500\n",
      "2/2 [==============================] - 0s 6ms/step - loss: 26.2337 - mae: 26.2337\n",
      "Epoch 168/500\n",
      "2/2 [==============================] - 0s 5ms/step - loss: 9.8495 - mae: 9.8495\n",
      "Epoch 169/500\n",
      "2/2 [==============================] - 0s 3ms/step - loss: 22.5186 - mae: 22.5186\n",
      "Epoch 170/500\n",
      "2/2 [==============================] - 0s 5ms/step - loss: 10.1572 - mae: 10.1572\n",
      "Epoch 171/500\n",
      "2/2 [==============================] - 0s 5ms/step - loss: 18.0588 - mae: 18.0588\n",
      "Epoch 172/500\n",
      "2/2 [==============================] - 0s 3ms/step - loss: 28.8103 - mae: 28.8103\n",
      "Epoch 173/500\n",
      "2/2 [==============================] - 0s 6ms/step - loss: 16.5096 - mae: 16.5096\n",
      "Epoch 174/500\n",
      "2/2 [==============================] - 0s 3ms/step - loss: 11.2140 - mae: 11.2140\n",
      "Epoch 175/500\n",
      "2/2 [==============================] - 0s 4ms/step - loss: 27.5928 - mae: 27.5928\n",
      "Epoch 176/500\n",
      "2/2 [==============================] - 0s 3ms/step - loss: 8.2580 - mae: 8.2580\n",
      "Epoch 177/500\n",
      "2/2 [==============================] - 0s 2ms/step - loss: 9.2518 - mae: 9.2518\n",
      "Epoch 178/500\n",
      "2/2 [==============================] - 0s 2ms/step - loss: 18.1132 - mae: 18.1132\n",
      "Epoch 179/500\n",
      "2/2 [==============================] - 0s 5ms/step - loss: 10.6068 - mae: 10.6068\n",
      "Epoch 180/500\n",
      "2/2 [==============================] - 0s 5ms/step - loss: 7.8978 - mae: 7.8978\n",
      "Epoch 181/500\n",
      "2/2 [==============================] - 0s 5ms/step - loss: 17.3899 - mae: 17.3899\n",
      "Epoch 182/500\n",
      "2/2 [==============================] - 0s 2ms/step - loss: 10.9998 - mae: 10.9998\n",
      "Epoch 183/500\n",
      "2/2 [==============================] - 0s 6ms/step - loss: 11.6961 - mae: 11.6961\n",
      "Epoch 184/500\n",
      "2/2 [==============================] - 0s 4ms/step - loss: 30.3774 - mae: 30.3774\n",
      "Epoch 185/500\n",
      "2/2 [==============================] - 0s 6ms/step - loss: 8.1742 - mae: 8.1742\n",
      "Epoch 186/500\n",
      "2/2 [==============================] - 0s 3ms/step - loss: 22.6828 - mae: 22.6828\n",
      "Epoch 187/500\n",
      "2/2 [==============================] - 0s 6ms/step - loss: 19.2529 - mae: 19.2529\n",
      "Epoch 188/500\n",
      "2/2 [==============================] - 0s 3ms/step - loss: 13.6808 - mae: 13.6808\n",
      "Epoch 189/500\n",
      "2/2 [==============================] - 0s 7ms/step - loss: 15.0553 - mae: 15.0553\n",
      "Epoch 190/500\n",
      "2/2 [==============================] - 0s 5ms/step - loss: 20.5895 - mae: 20.5895\n",
      "Epoch 191/500\n",
      "2/2 [==============================] - 0s 3ms/step - loss: 22.2955 - mae: 22.2955\n",
      "Epoch 192/500\n",
      "2/2 [==============================] - 0s 2ms/step - loss: 10.0241 - mae: 10.0241\n",
      "Epoch 193/500\n",
      "2/2 [==============================] - 0s 3ms/step - loss: 28.5960 - mae: 28.5960\n",
      "Epoch 194/500\n",
      "2/2 [==============================] - 0s 3ms/step - loss: 7.0774 - mae: 7.0774\n",
      "Epoch 195/500\n",
      "2/2 [==============================] - 0s 5ms/step - loss: 7.0836 - mae: 7.0836\n",
      "Epoch 196/500\n",
      "2/2 [==============================] - 0s 3ms/step - loss: 22.0473 - mae: 22.0473\n",
      "Epoch 197/500\n",
      "2/2 [==============================] - 0s 2ms/step - loss: 20.7625 - mae: 20.7625\n",
      "Epoch 198/500\n",
      "2/2 [==============================] - 0s 2ms/step - loss: 12.4263 - mae: 12.4263\n",
      "Epoch 199/500\n",
      "2/2 [==============================] - 0s 5ms/step - loss: 17.8319 - mae: 17.8319\n",
      "Epoch 200/500\n",
      "2/2 [==============================] - 0s 3ms/step - loss: 13.6799 - mae: 13.6799\n",
      "Epoch 201/500\n",
      "2/2 [==============================] - 0s 2ms/step - loss: 5.5037 - mae: 5.5037\n",
      "Epoch 202/500\n",
      "2/2 [==============================] - 0s 5ms/step - loss: 13.6323 - mae: 13.6323\n",
      "Epoch 203/500\n",
      "2/2 [==============================] - 0s 3ms/step - loss: 9.4201 - mae: 9.4201\n",
      "Epoch 204/500\n",
      "2/2 [==============================] - 0s 3ms/step - loss: 20.8525 - mae: 20.8525\n",
      "Epoch 205/500\n",
      "2/2 [==============================] - 0s 4ms/step - loss: 9.5312 - mae: 9.5312\n",
      "Epoch 206/500\n",
      "2/2 [==============================] - 0s 3ms/step - loss: 11.1676 - mae: 11.1676\n",
      "Epoch 207/500\n",
      "2/2 [==============================] - 0s 6ms/step - loss: 17.7364 - mae: 17.7364\n",
      "Epoch 208/500\n",
      "2/2 [==============================] - 0s 3ms/step - loss: 14.4226 - mae: 14.4226\n",
      "Epoch 209/500\n",
      "2/2 [==============================] - 0s 4ms/step - loss: 16.7621 - mae: 16.7621\n",
      "Epoch 210/500\n",
      "2/2 [==============================] - 0s 3ms/step - loss: 18.2825 - mae: 18.2825\n",
      "Epoch 211/500\n",
      "2/2 [==============================] - 0s 6ms/step - loss: 9.9765 - mae: 9.9765\n",
      "Epoch 212/500\n",
      "2/2 [==============================] - 0s 4ms/step - loss: 18.7728 - mae: 18.7728\n",
      "Epoch 213/500\n",
      "2/2 [==============================] - 0s 3ms/step - loss: 14.9300 - mae: 14.9300\n",
      "Epoch 214/500\n",
      "2/2 [==============================] - 0s 2ms/step - loss: 14.5173 - mae: 14.5173\n",
      "Epoch 215/500\n",
      "2/2 [==============================] - 0s 6ms/step - loss: 23.1569 - mae: 23.1569\n",
      "Epoch 216/500\n",
      "2/2 [==============================] - 0s 3ms/step - loss: 13.6157 - mae: 13.6157\n",
      "Epoch 217/500\n",
      "2/2 [==============================] - 0s 2ms/step - loss: 10.0814 - mae: 10.0814\n",
      "Epoch 218/500\n",
      "2/2 [==============================] - 0s 5ms/step - loss: 12.3989 - mae: 12.3989\n",
      "Epoch 219/500\n",
      "2/2 [==============================] - 0s 4ms/step - loss: 5.8710 - mae: 5.8710\n",
      "Epoch 220/500\n",
      "2/2 [==============================] - 0s 3ms/step - loss: 10.2168 - mae: 10.2168\n",
      "Epoch 221/500\n",
      "2/2 [==============================] - 0s 5ms/step - loss: 28.9153 - mae: 28.9153\n",
      "Epoch 222/500\n",
      "2/2 [==============================] - 0s 3ms/step - loss: 28.1326 - mae: 28.1326\n",
      "Epoch 223/500\n",
      "2/2 [==============================] - 0s 5ms/step - loss: 10.0660 - mae: 10.0660\n",
      "Epoch 224/500\n",
      "2/2 [==============================] - 0s 2ms/step - loss: 14.6125 - mae: 14.6125\n",
      "Epoch 225/500\n",
      "2/2 [==============================] - 0s 5ms/step - loss: 16.6273 - mae: 16.6273\n",
      "Epoch 226/500\n",
      "2/2 [==============================] - 0s 4ms/step - loss: 15.8515 - mae: 15.8515\n",
      "Epoch 227/500\n",
      "2/2 [==============================] - 0s 3ms/step - loss: 16.0668 - mae: 16.0668\n",
      "Epoch 228/500\n",
      "2/2 [==============================] - 0s 4ms/step - loss: 13.8482 - mae: 13.8482\n",
      "Epoch 229/500\n",
      "2/2 [==============================] - 0s 3ms/step - loss: 17.9634 - mae: 17.9634\n",
      "Epoch 230/500\n",
      "2/2 [==============================] - 0s 3ms/step - loss: 15.5587 - mae: 15.5587\n",
      "Epoch 231/500\n",
      "2/2 [==============================] - 0s 2ms/step - loss: 21.0689 - mae: 21.0689\n",
      "Epoch 232/500\n",
      "2/2 [==============================] - 0s 5ms/step - loss: 25.5834 - mae: 25.5834\n",
      "Epoch 233/500\n",
      "2/2 [==============================] - 0s 3ms/step - loss: 16.5608 - mae: 16.5608\n",
      "Epoch 234/500\n",
      "2/2 [==============================] - 0s 2ms/step - loss: 7.3711 - mae: 7.3711\n",
      "Epoch 235/500\n",
      "2/2 [==============================] - 0s 4ms/step - loss: 17.2010 - mae: 17.2010\n",
      "Epoch 236/500\n",
      "2/2 [==============================] - 0s 3ms/step - loss: 7.2360 - mae: 7.2360\n",
      "Epoch 237/500\n",
      "2/2 [==============================] - 0s 3ms/step - loss: 9.3417 - mae: 9.3417\n",
      "Epoch 238/500\n",
      "2/2 [==============================] - 0s 3ms/step - loss: 8.1868 - mae: 8.1868\n",
      "Epoch 239/500\n",
      "2/2 [==============================] - 0s 6ms/step - loss: 17.2316 - mae: 17.2316\n",
      "Epoch 240/500\n",
      "2/2 [==============================] - 0s 4ms/step - loss: 8.9724 - mae: 8.9724\n",
      "Epoch 241/500\n",
      "2/2 [==============================] - 0s 5ms/step - loss: 13.3156 - mae: 13.3156\n",
      "Epoch 242/500\n",
      "2/2 [==============================] - 0s 4ms/step - loss: 8.8772 - mae: 8.8772\n",
      "Epoch 243/500\n",
      "2/2 [==============================] - 0s 3ms/step - loss: 18.9919 - mae: 18.9919\n",
      "Epoch 244/500\n",
      "2/2 [==============================] - 0s 4ms/step - loss: 14.0231 - mae: 14.0231\n",
      "Epoch 245/500\n",
      "2/2 [==============================] - 0s 4ms/step - loss: 14.6568 - mae: 14.6568\n",
      "Epoch 246/500\n",
      "2/2 [==============================] - 0s 4ms/step - loss: 15.7911 - mae: 15.7911\n",
      "Epoch 247/500\n",
      "2/2 [==============================] - 0s 4ms/step - loss: 17.6619 - mae: 17.6619\n",
      "Epoch 248/500\n",
      "2/2 [==============================] - 0s 4ms/step - loss: 13.2151 - mae: 13.2151\n",
      "Epoch 249/500\n",
      "2/2 [==============================] - 0s 2ms/step - loss: 14.5071 - mae: 14.5071\n",
      "Epoch 250/500\n",
      "2/2 [==============================] - 0s 6ms/step - loss: 23.2123 - mae: 23.2123\n",
      "Epoch 251/500\n",
      "2/2 [==============================] - 0s 6ms/step - loss: 9.3457 - mae: 9.3457\n",
      "Epoch 252/500\n",
      "2/2 [==============================] - 0s 4ms/step - loss: 36.7266 - mae: 36.7266\n",
      "Epoch 253/500\n",
      "2/2 [==============================] - 0s 6ms/step - loss: 21.8935 - mae: 21.8935\n",
      "Epoch 254/500\n",
      "2/2 [==============================] - 0s 4ms/step - loss: 7.3232 - mae: 7.3232\n",
      "Epoch 255/500\n",
      "2/2 [==============================] - 0s 2ms/step - loss: 24.7553 - mae: 24.7553\n",
      "Epoch 256/500\n",
      "2/2 [==============================] - 0s 12ms/step - loss: 12.4761 - mae: 12.4761\n",
      "Epoch 257/500\n",
      "2/2 [==============================] - 0s 5ms/step - loss: 10.6255 - mae: 10.6255\n",
      "Epoch 258/500\n",
      "2/2 [==============================] - 0s 2ms/step - loss: 14.2634 - mae: 14.2634\n",
      "Epoch 259/500\n",
      "2/2 [==============================] - 0s 4ms/step - loss: 11.2925 - mae: 11.2925\n",
      "Epoch 260/500\n",
      "2/2 [==============================] - 0s 4ms/step - loss: 31.7348 - mae: 31.7348\n",
      "Epoch 261/500\n",
      "2/2 [==============================] - 0s 3ms/step - loss: 11.2325 - mae: 11.2325\n",
      "Epoch 262/500\n",
      "2/2 [==============================] - 0s 5ms/step - loss: 10.0772 - mae: 10.0772\n",
      "Epoch 263/500\n",
      "2/2 [==============================] - 0s 3ms/step - loss: 8.9768 - mae: 8.9768\n",
      "Epoch 264/500\n",
      "2/2 [==============================] - 0s 4ms/step - loss: 21.5853 - mae: 21.5853\n",
      "Epoch 265/500\n",
      "2/2 [==============================] - 0s 6ms/step - loss: 11.4175 - mae: 11.4175\n",
      "Epoch 266/500\n",
      "2/2 [==============================] - 0s 7ms/step - loss: 13.2535 - mae: 13.2535\n",
      "Epoch 267/500\n",
      "2/2 [==============================] - 0s 6ms/step - loss: 11.0661 - mae: 11.0661\n",
      "Epoch 268/500\n",
      "2/2 [==============================] - 0s 4ms/step - loss: 21.7008 - mae: 21.7008\n",
      "Epoch 269/500\n",
      "2/2 [==============================] - 0s 4ms/step - loss: 32.9702 - mae: 32.9702\n",
      "Epoch 270/500\n",
      "2/2 [==============================] - 0s 3ms/step - loss: 9.7776 - mae: 9.7776\n",
      "Epoch 271/500\n",
      "2/2 [==============================] - 0s 4ms/step - loss: 7.7275 - mae: 7.7275\n",
      "Epoch 272/500\n",
      "2/2 [==============================] - 0s 3ms/step - loss: 28.5019 - mae: 28.5019\n",
      "Epoch 273/500\n",
      "2/2 [==============================] - 0s 3ms/step - loss: 7.4081 - mae: 7.4081\n",
      "Epoch 274/500\n",
      "2/2 [==============================] - 0s 3ms/step - loss: 6.3467 - mae: 6.3467\n",
      "Epoch 275/500\n",
      "2/2 [==============================] - 0s 2ms/step - loss: 37.1662 - mae: 37.1662\n",
      "Epoch 276/500\n",
      "2/2 [==============================] - 0s 4ms/step - loss: 8.3030 - mae: 8.3030\n",
      "Epoch 277/500\n",
      "2/2 [==============================] - 0s 4ms/step - loss: 27.9399 - mae: 27.9399\n",
      "Epoch 278/500\n",
      "2/2 [==============================] - 0s 5ms/step - loss: 10.6294 - mae: 10.6294\n",
      "Epoch 279/500\n",
      "2/2 [==============================] - 0s 6ms/step - loss: 16.0689 - mae: 16.0689\n",
      "Epoch 280/500\n",
      "2/2 [==============================] - 0s 4ms/step - loss: 21.1500 - mae: 21.1500\n",
      "Epoch 281/500\n",
      "2/2 [==============================] - 0s 7ms/step - loss: 24.0043 - mae: 24.0043\n",
      "Epoch 282/500\n",
      "2/2 [==============================] - 0s 3ms/step - loss: 8.3206 - mae: 8.3206\n",
      "Epoch 283/500\n",
      "2/2 [==============================] - 0s 11ms/step - loss: 8.4703 - mae: 8.4703\n",
      "Epoch 284/500\n",
      "2/2 [==============================] - 0s 6ms/step - loss: 26.8626 - mae: 26.8626\n",
      "Epoch 285/500\n",
      "2/2 [==============================] - 0s 5ms/step - loss: 14.3917 - mae: 14.3917\n",
      "Epoch 286/500\n",
      "2/2 [==============================] - 0s 2ms/step - loss: 4.5321 - mae: 4.5321\n",
      "Epoch 287/500\n",
      "2/2 [==============================] - 0s 3ms/step - loss: 12.9669 - mae: 12.9669\n",
      "Epoch 288/500\n",
      "2/2 [==============================] - 0s 3ms/step - loss: 24.7371 - mae: 24.7371\n",
      "Epoch 289/500\n",
      "2/2 [==============================] - 0s 3ms/step - loss: 9.6986 - mae: 9.6986\n",
      "Epoch 290/500\n",
      "2/2 [==============================] - 0s 3ms/step - loss: 11.7869 - mae: 11.7869\n",
      "Epoch 291/500\n",
      "2/2 [==============================] - 0s 5ms/step - loss: 10.1097 - mae: 10.1097\n",
      "Epoch 292/500\n",
      "2/2 [==============================] - 0s 3ms/step - loss: 16.7195 - mae: 16.7195\n",
      "Epoch 293/500\n",
      "2/2 [==============================] - 0s 2ms/step - loss: 17.5428 - mae: 17.5428\n",
      "Epoch 294/500\n",
      "2/2 [==============================] - 0s 3ms/step - loss: 30.0342 - mae: 30.0342\n",
      "Epoch 295/500\n",
      "2/2 [==============================] - 0s 2ms/step - loss: 8.0474 - mae: 8.0474\n",
      "Epoch 296/500\n",
      "2/2 [==============================] - 0s 3ms/step - loss: 16.2596 - mae: 16.2596\n",
      "Epoch 297/500\n",
      "2/2 [==============================] - 0s 3ms/step - loss: 14.4761 - mae: 14.4761\n",
      "Epoch 298/500\n",
      "2/2 [==============================] - 0s 6ms/step - loss: 26.9995 - mae: 26.9995\n",
      "Epoch 299/500\n",
      "2/2 [==============================] - 0s 4ms/step - loss: 11.0679 - mae: 11.0679\n",
      "Epoch 300/500\n",
      "2/2 [==============================] - 0s 4ms/step - loss: 7.6778 - mae: 7.6778\n",
      "Epoch 301/500\n",
      "2/2 [==============================] - 0s 5ms/step - loss: 21.9860 - mae: 21.9860\n",
      "Epoch 302/500\n",
      "2/2 [==============================] - 0s 3ms/step - loss: 7.5547 - mae: 7.5547\n",
      "Epoch 303/500\n",
      "2/2 [==============================] - 0s 3ms/step - loss: 18.5952 - mae: 18.5952\n",
      "Epoch 304/500\n",
      "2/2 [==============================] - 0s 3ms/step - loss: 12.3803 - mae: 12.3803\n",
      "Epoch 305/500\n",
      "2/2 [==============================] - 0s 3ms/step - loss: 7.5763 - mae: 7.5763\n",
      "Epoch 306/500\n",
      "2/2 [==============================] - 0s 2ms/step - loss: 21.7834 - mae: 21.7834\n",
      "Epoch 307/500\n",
      "2/2 [==============================] - 0s 2ms/step - loss: 8.2750 - mae: 8.2750\n",
      "Epoch 308/500\n",
      "2/2 [==============================] - 0s 2ms/step - loss: 20.9208 - mae: 20.9208\n",
      "Epoch 309/500\n",
      "2/2 [==============================] - 0s 3ms/step - loss: 19.2820 - mae: 19.2820\n",
      "Epoch 310/500\n",
      "2/2 [==============================] - 0s 5ms/step - loss: 6.0356 - mae: 6.0356\n",
      "Epoch 311/500\n",
      "2/2 [==============================] - 0s 2ms/step - loss: 7.8909 - mae: 7.8909\n",
      "Epoch 312/500\n",
      "2/2 [==============================] - 0s 4ms/step - loss: 30.5546 - mae: 30.5546\n",
      "Epoch 313/500\n",
      "2/2 [==============================] - 0s 4ms/step - loss: 5.2081 - mae: 5.2081\n",
      "Epoch 314/500\n",
      "2/2 [==============================] - 0s 2ms/step - loss: 12.7462 - mae: 12.7462\n",
      "Epoch 315/500\n",
      "2/2 [==============================] - 0s 2ms/step - loss: 13.0949 - mae: 13.0949\n",
      "Epoch 316/500\n",
      "2/2 [==============================] - 0s 3ms/step - loss: 4.7946 - mae: 4.7946\n",
      "Epoch 317/500\n",
      "2/2 [==============================] - 0s 4ms/step - loss: 27.7053 - mae: 27.7053\n",
      "Epoch 318/500\n",
      "2/2 [==============================] - 0s 4ms/step - loss: 11.4256 - mae: 11.4256\n",
      "Epoch 319/500\n",
      "2/2 [==============================] - 0s 4ms/step - loss: 7.3221 - mae: 7.3221\n",
      "Epoch 320/500\n",
      "2/2 [==============================] - 0s 6ms/step - loss: 16.3075 - mae: 16.3075\n",
      "Epoch 321/500\n",
      "2/2 [==============================] - 0s 5ms/step - loss: 5.9132 - mae: 5.9132\n",
      "Epoch 322/500\n",
      "2/2 [==============================] - 0s 4ms/step - loss: 13.6814 - mae: 13.6814\n",
      "Epoch 323/500\n",
      "2/2 [==============================] - 0s 11ms/step - loss: 17.9719 - mae: 17.9719\n",
      "Epoch 324/500\n",
      "2/2 [==============================] - 0s 6ms/step - loss: 16.0592 - mae: 16.0592\n",
      "Epoch 325/500\n",
      "2/2 [==============================] - 0s 4ms/step - loss: 17.8289 - mae: 17.8289\n",
      "Epoch 326/500\n",
      "2/2 [==============================] - 0s 5ms/step - loss: 23.4091 - mae: 23.4091\n",
      "Epoch 327/500\n",
      "2/2 [==============================] - 0s 4ms/step - loss: 9.5698 - mae: 9.5698\n",
      "Epoch 328/500\n",
      "2/2 [==============================] - 0s 2ms/step - loss: 10.2897 - mae: 10.2897\n",
      "Epoch 329/500\n",
      "2/2 [==============================] - 0s 5ms/step - loss: 15.9727 - mae: 15.9727\n",
      "Epoch 330/500\n",
      "2/2 [==============================] - 0s 2ms/step - loss: 14.3259 - mae: 14.3259\n",
      "Epoch 331/500\n",
      "2/2 [==============================] - 0s 4ms/step - loss: 25.7448 - mae: 25.7448\n",
      "Epoch 332/500\n",
      "2/2 [==============================] - 0s 5ms/step - loss: 17.0497 - mae: 17.0497\n",
      "Epoch 333/500\n",
      "2/2 [==============================] - 0s 4ms/step - loss: 10.6519 - mae: 10.6519\n",
      "Epoch 334/500\n",
      "2/2 [==============================] - 0s 4ms/step - loss: 7.0578 - mae: 7.0578\n",
      "Epoch 335/500\n",
      "2/2 [==============================] - 0s 3ms/step - loss: 13.0215 - mae: 13.0215\n",
      "Epoch 336/500\n",
      "2/2 [==============================] - 0s 3ms/step - loss: 32.3735 - mae: 32.3735\n",
      "Epoch 337/500\n",
      "2/2 [==============================] - 0s 3ms/step - loss: 10.6235 - mae: 10.6235\n",
      "Epoch 338/500\n",
      "2/2 [==============================] - 0s 3ms/step - loss: 20.0824 - mae: 20.0824\n",
      "Epoch 339/500\n",
      "2/2 [==============================] - 0s 2ms/step - loss: 33.9688 - mae: 33.9688\n",
      "Epoch 340/500\n",
      "2/2 [==============================] - 0s 3ms/step - loss: 8.6850 - mae: 8.6850\n",
      "Epoch 341/500\n",
      "2/2 [==============================] - 0s 3ms/step - loss: 21.6320 - mae: 21.6320\n",
      "Epoch 342/500\n",
      "2/2 [==============================] - 0s 4ms/step - loss: 13.9497 - mae: 13.9497\n",
      "Epoch 343/500\n",
      "2/2 [==============================] - 0s 3ms/step - loss: 11.8106 - mae: 11.8106\n",
      "Epoch 344/500\n",
      "2/2 [==============================] - 0s 3ms/step - loss: 11.3889 - mae: 11.3889\n",
      "Epoch 345/500\n",
      "2/2 [==============================] - 0s 3ms/step - loss: 30.5821 - mae: 30.5821\n",
      "Epoch 346/500\n",
      "2/2 [==============================] - 0s 3ms/step - loss: 9.3708 - mae: 9.3708\n",
      "Epoch 347/500\n",
      "2/2 [==============================] - 0s 5ms/step - loss: 26.1793 - mae: 26.1793\n",
      "Epoch 348/500\n",
      "2/2 [==============================] - 0s 4ms/step - loss: 11.7229 - mae: 11.7229\n",
      "Epoch 349/500\n",
      "2/2 [==============================] - 0s 2ms/step - loss: 12.8867 - mae: 12.8867\n",
      "Epoch 350/500\n",
      "2/2 [==============================] - 0s 3ms/step - loss: 15.3633 - mae: 15.3633\n",
      "Epoch 351/500\n",
      "2/2 [==============================] - 0s 4ms/step - loss: 32.7752 - mae: 32.7752\n",
      "Epoch 352/500\n",
      "2/2 [==============================] - 0s 2ms/step - loss: 13.8345 - mae: 13.8345\n",
      "Epoch 353/500\n",
      "2/2 [==============================] - 0s 3ms/step - loss: 15.8438 - mae: 15.8438\n",
      "Epoch 354/500\n",
      "2/2 [==============================] - 0s 3ms/step - loss: 18.9168 - mae: 18.9168\n",
      "Epoch 355/500\n",
      "2/2 [==============================] - 0s 3ms/step - loss: 34.6124 - mae: 34.6124\n",
      "Epoch 356/500\n",
      "2/2 [==============================] - 0s 4ms/step - loss: 8.3939 - mae: 8.3939\n",
      "Epoch 357/500\n",
      "2/2 [==============================] - 0s 4ms/step - loss: 22.0146 - mae: 22.0146\n",
      "Epoch 358/500\n",
      "2/2 [==============================] - 0s 3ms/step - loss: 20.1970 - mae: 20.1970\n",
      "Epoch 359/500\n",
      "2/2 [==============================] - 0s 3ms/step - loss: 11.0529 - mae: 11.0529\n",
      "Epoch 360/500\n",
      "2/2 [==============================] - 0s 8ms/step - loss: 20.2388 - mae: 20.2388\n",
      "Epoch 361/500\n",
      "2/2 [==============================] - 0s 3ms/step - loss: 11.1027 - mae: 11.1027\n",
      "Epoch 362/500\n",
      "2/2 [==============================] - 0s 3ms/step - loss: 6.8788 - mae: 6.8788\n",
      "Epoch 363/500\n",
      "2/2 [==============================] - 0s 3ms/step - loss: 24.0586 - mae: 24.0586\n",
      "Epoch 364/500\n",
      "2/2 [==============================] - 0s 6ms/step - loss: 29.8613 - mae: 29.8613\n",
      "Epoch 365/500\n",
      "2/2 [==============================] - 0s 2ms/step - loss: 8.4302 - mae: 8.4302\n",
      "Epoch 366/500\n",
      "2/2 [==============================] - 0s 4ms/step - loss: 6.1446 - mae: 6.1446\n",
      "Epoch 367/500\n",
      "2/2 [==============================] - 0s 5ms/step - loss: 34.9449 - mae: 34.9449\n",
      "Epoch 368/500\n",
      "2/2 [==============================] - 0s 6ms/step - loss: 7.4723 - mae: 7.4723\n",
      "Epoch 369/500\n",
      "2/2 [==============================] - 0s 5ms/step - loss: 9.2744 - mae: 9.2744\n",
      "Epoch 370/500\n",
      "2/2 [==============================] - 0s 3ms/step - loss: 10.9641 - mae: 10.9641\n",
      "Epoch 371/500\n",
      "2/2 [==============================] - 0s 3ms/step - loss: 9.0420 - mae: 9.0420\n",
      "Epoch 372/500\n",
      "2/2 [==============================] - 0s 5ms/step - loss: 7.7355 - mae: 7.7355\n",
      "Epoch 373/500\n",
      "2/2 [==============================] - 0s 3ms/step - loss: 25.0623 - mae: 25.0623\n",
      "Epoch 374/500\n",
      "2/2 [==============================] - 0s 3ms/step - loss: 13.2238 - mae: 13.2238\n",
      "Epoch 375/500\n",
      "2/2 [==============================] - 0s 6ms/step - loss: 11.8692 - mae: 11.8692\n",
      "Epoch 376/500\n",
      "2/2 [==============================] - 0s 3ms/step - loss: 14.1353 - mae: 14.1353\n",
      "Epoch 377/500\n",
      "2/2 [==============================] - 0s 3ms/step - loss: 15.7401 - mae: 15.7401\n",
      "Epoch 378/500\n",
      "2/2 [==============================] - 0s 5ms/step - loss: 17.0666 - mae: 17.0666\n",
      "Epoch 379/500\n",
      "2/2 [==============================] - 0s 3ms/step - loss: 19.3590 - mae: 19.3590\n",
      "Epoch 380/500\n",
      "2/2 [==============================] - 0s 3ms/step - loss: 15.7205 - mae: 15.7205\n",
      "Epoch 381/500\n",
      "2/2 [==============================] - 0s 3ms/step - loss: 11.4832 - mae: 11.4832\n",
      "Epoch 382/500\n",
      "2/2 [==============================] - 0s 2ms/step - loss: 16.3612 - mae: 16.3612\n",
      "Epoch 383/500\n",
      "2/2 [==============================] - 0s 2ms/step - loss: 22.1222 - mae: 22.1222\n",
      "Epoch 384/500\n",
      "2/2 [==============================] - 0s 3ms/step - loss: 7.7759 - mae: 7.7759\n",
      "Epoch 385/500\n",
      "2/2 [==============================] - 0s 4ms/step - loss: 10.6485 - mae: 10.6485\n",
      "Epoch 386/500\n",
      "2/2 [==============================] - 0s 5ms/step - loss: 19.1421 - mae: 19.1421\n",
      "Epoch 387/500\n",
      "2/2 [==============================] - 0s 4ms/step - loss: 26.3838 - mae: 26.3838\n",
      "Epoch 388/500\n",
      "2/2 [==============================] - 0s 6ms/step - loss: 10.0735 - mae: 10.0735\n",
      "Epoch 389/500\n",
      "2/2 [==============================] - 0s 3ms/step - loss: 5.1986 - mae: 5.1986\n",
      "Epoch 390/500\n",
      "2/2 [==============================] - 0s 3ms/step - loss: 18.7076 - mae: 18.7076\n",
      "Epoch 391/500\n",
      "2/2 [==============================] - 0s 3ms/step - loss: 9.3833 - mae: 9.3833\n",
      "Epoch 392/500\n",
      "2/2 [==============================] - 0s 4ms/step - loss: 14.4468 - mae: 14.4468\n",
      "Epoch 393/500\n",
      "2/2 [==============================] - 0s 3ms/step - loss: 12.1216 - mae: 12.1216\n",
      "Epoch 394/500\n",
      "2/2 [==============================] - 0s 3ms/step - loss: 14.1146 - mae: 14.1146\n",
      "Epoch 395/500\n",
      "2/2 [==============================] - 0s 6ms/step - loss: 28.4827 - mae: 28.4827\n",
      "Epoch 396/500\n",
      "2/2 [==============================] - 0s 4ms/step - loss: 8.4988 - mae: 8.4988\n",
      "Epoch 397/500\n",
      "2/2 [==============================] - 0s 5ms/step - loss: 10.9008 - mae: 10.9008\n",
      "Epoch 398/500\n",
      "2/2 [==============================] - 0s 3ms/step - loss: 7.5955 - mae: 7.5955\n",
      "Epoch 399/500\n",
      "2/2 [==============================] - 0s 3ms/step - loss: 16.0992 - mae: 16.0992\n",
      "Epoch 400/500\n",
      "2/2 [==============================] - 0s 3ms/step - loss: 6.9621 - mae: 6.9621\n",
      "Epoch 401/500\n",
      "2/2 [==============================] - 0s 2ms/step - loss: 8.6549 - mae: 8.6549\n",
      "Epoch 402/500\n",
      "2/2 [==============================] - 0s 3ms/step - loss: 14.0855 - mae: 14.0855\n",
      "Epoch 403/500\n",
      "2/2 [==============================] - 0s 3ms/step - loss: 12.5626 - mae: 12.5626\n",
      "Epoch 404/500\n",
      "2/2 [==============================] - 0s 4ms/step - loss: 23.3232 - mae: 23.3232\n",
      "Epoch 405/500\n",
      "2/2 [==============================] - 0s 3ms/step - loss: 17.2279 - mae: 17.2279\n",
      "Epoch 406/500\n",
      "2/2 [==============================] - 0s 3ms/step - loss: 6.7884 - mae: 6.7884\n",
      "Epoch 407/500\n",
      "2/2 [==============================] - 0s 2ms/step - loss: 11.7830 - mae: 11.7830\n",
      "Epoch 408/500\n",
      "2/2 [==============================] - 0s 4ms/step - loss: 6.4751 - mae: 6.4751\n",
      "Epoch 409/500\n",
      "2/2 [==============================] - 0s 4ms/step - loss: 27.7271 - mae: 27.7271\n",
      "Epoch 410/500\n",
      "2/2 [==============================] - 0s 3ms/step - loss: 10.7684 - mae: 10.7684\n",
      "Epoch 411/500\n",
      "2/2 [==============================] - 0s 3ms/step - loss: 14.8775 - mae: 14.8775\n",
      "Epoch 412/500\n",
      "2/2 [==============================] - 0s 3ms/step - loss: 21.7406 - mae: 21.7406\n",
      "Epoch 413/500\n",
      "2/2 [==============================] - 0s 4ms/step - loss: 12.6419 - mae: 12.6419\n",
      "Epoch 414/500\n",
      "2/2 [==============================] - 0s 4ms/step - loss: 6.0858 - mae: 6.0858\n",
      "Epoch 415/500\n",
      "2/2 [==============================] - 0s 3ms/step - loss: 13.2305 - mae: 13.2305\n",
      "Epoch 416/500\n",
      "2/2 [==============================] - 0s 5ms/step - loss: 27.4462 - mae: 27.4462\n",
      "Epoch 417/500\n",
      "2/2 [==============================] - 0s 4ms/step - loss: 10.5952 - mae: 10.5952\n",
      "Epoch 418/500\n",
      "2/2 [==============================] - 0s 3ms/step - loss: 12.8411 - mae: 12.8411\n",
      "Epoch 419/500\n",
      "2/2 [==============================] - 0s 3ms/step - loss: 15.9009 - mae: 15.9009\n",
      "Epoch 420/500\n",
      "2/2 [==============================] - 0s 4ms/step - loss: 24.7809 - mae: 24.7809\n",
      "Epoch 421/500\n",
      "2/2 [==============================] - 0s 4ms/step - loss: 17.3117 - mae: 17.3117\n",
      "Epoch 422/500\n",
      "2/2 [==============================] - 0s 4ms/step - loss: 7.8367 - mae: 7.8367\n",
      "Epoch 423/500\n",
      "2/2 [==============================] - 0s 3ms/step - loss: 25.4134 - mae: 25.4134\n",
      "Epoch 424/500\n",
      "2/2 [==============================] - 0s 3ms/step - loss: 15.0300 - mae: 15.0300\n",
      "Epoch 425/500\n",
      "2/2 [==============================] - 0s 5ms/step - loss: 7.1584 - mae: 7.1584\n",
      "Epoch 426/500\n",
      "2/2 [==============================] - 0s 2ms/step - loss: 20.2326 - mae: 20.2326\n",
      "Epoch 427/500\n",
      "2/2 [==============================] - 0s 3ms/step - loss: 6.3153 - mae: 6.3153\n",
      "Epoch 428/500\n",
      "2/2 [==============================] - 0s 9ms/step - loss: 12.7075 - mae: 12.7075\n",
      "Epoch 429/500\n",
      "2/2 [==============================] - 0s 6ms/step - loss: 12.1416 - mae: 12.1416\n",
      "Epoch 430/500\n",
      "2/2 [==============================] - 0s 5ms/step - loss: 11.1360 - mae: 11.1360\n",
      "Epoch 431/500\n",
      "2/2 [==============================] - 0s 4ms/step - loss: 10.0635 - mae: 10.0635\n",
      "Epoch 432/500\n",
      "2/2 [==============================] - 0s 4ms/step - loss: 13.4119 - mae: 13.4119\n",
      "Epoch 433/500\n",
      "2/2 [==============================] - 0s 3ms/step - loss: 11.3940 - mae: 11.3940\n",
      "Epoch 434/500\n",
      "2/2 [==============================] - 0s 4ms/step - loss: 30.4043 - mae: 30.4043\n",
      "Epoch 435/500\n",
      "2/2 [==============================] - 0s 4ms/step - loss: 10.5179 - mae: 10.5179\n",
      "Epoch 436/500\n",
      "2/2 [==============================] - 0s 3ms/step - loss: 28.8918 - mae: 28.8918\n",
      "Epoch 437/500\n",
      "2/2 [==============================] - 0s 4ms/step - loss: 8.6133 - mae: 8.6133\n",
      "Epoch 438/500\n",
      "2/2 [==============================] - 0s 4ms/step - loss: 12.7469 - mae: 12.7469\n",
      "Epoch 439/500\n",
      "2/2 [==============================] - 0s 4ms/step - loss: 33.6826 - mae: 33.6826\n",
      "Epoch 440/500\n",
      "2/2 [==============================] - 0s 3ms/step - loss: 15.1136 - mae: 15.1136\n",
      "Epoch 441/500\n",
      "2/2 [==============================] - 0s 5ms/step - loss: 17.4958 - mae: 17.4958\n",
      "Epoch 442/500\n",
      "2/2 [==============================] - 0s 6ms/step - loss: 22.3273 - mae: 22.3273\n",
      "Epoch 443/500\n",
      "2/2 [==============================] - 0s 4ms/step - loss: 23.5313 - mae: 23.5313\n",
      "Epoch 444/500\n",
      "2/2 [==============================] - 0s 3ms/step - loss: 10.9638 - mae: 10.9638\n",
      "Epoch 445/500\n",
      "2/2 [==============================] - 0s 5ms/step - loss: 14.9375 - mae: 14.9375\n",
      "Epoch 446/500\n",
      "2/2 [==============================] - 0s 3ms/step - loss: 18.0207 - mae: 18.0207\n",
      "Epoch 447/500\n",
      "2/2 [==============================] - 0s 5ms/step - loss: 5.4401 - mae: 5.4401\n",
      "Epoch 448/500\n",
      "2/2 [==============================] - 0s 3ms/step - loss: 10.0812 - mae: 10.0812\n",
      "Epoch 449/500\n",
      "2/2 [==============================] - 0s 4ms/step - loss: 14.0281 - mae: 14.0281\n",
      "Epoch 450/500\n",
      "2/2 [==============================] - 0s 5ms/step - loss: 16.8012 - mae: 16.8012\n",
      "Epoch 451/500\n",
      "2/2 [==============================] - 0s 9ms/step - loss: 14.3036 - mae: 14.3036\n",
      "Epoch 452/500\n",
      "2/2 [==============================] - 0s 7ms/step - loss: 30.6363 - mae: 30.6363\n",
      "Epoch 453/500\n",
      "2/2 [==============================] - 0s 3ms/step - loss: 7.6642 - mae: 7.6642\n",
      "Epoch 454/500\n",
      "2/2 [==============================] - 0s 6ms/step - loss: 28.1684 - mae: 28.1684\n",
      "Epoch 455/500\n",
      "2/2 [==============================] - 0s 3ms/step - loss: 7.9680 - mae: 7.9680\n",
      "Epoch 456/500\n",
      "2/2 [==============================] - 0s 5ms/step - loss: 10.4314 - mae: 10.4314\n",
      "Epoch 457/500\n",
      "2/2 [==============================] - 0s 3ms/step - loss: 15.0536 - mae: 15.0536\n",
      "Epoch 458/500\n",
      "2/2 [==============================] - 0s 9ms/step - loss: 16.5858 - mae: 16.5858\n",
      "Epoch 459/500\n",
      "2/2 [==============================] - 0s 5ms/step - loss: 26.8923 - mae: 26.8923\n",
      "Epoch 460/500\n",
      "2/2 [==============================] - 0s 3ms/step - loss: 12.3934 - mae: 12.3934\n",
      "Epoch 461/500\n",
      "2/2 [==============================] - 0s 2ms/step - loss: 12.5231 - mae: 12.5231\n",
      "Epoch 462/500\n",
      "2/2 [==============================] - 0s 3ms/step - loss: 13.3358 - mae: 13.3358\n",
      "Epoch 463/500\n",
      "2/2 [==============================] - 0s 2ms/step - loss: 29.5846 - mae: 29.5846\n",
      "Epoch 464/500\n",
      "2/2 [==============================] - 0s 5ms/step - loss: 3.4776 - mae: 3.4776\n",
      "Epoch 465/500\n",
      "2/2 [==============================] - 0s 4ms/step - loss: 12.5001 - mae: 12.5001\n",
      "Epoch 466/500\n",
      "2/2 [==============================] - 0s 4ms/step - loss: 17.4608 - mae: 17.4608\n",
      "Epoch 467/500\n",
      "2/2 [==============================] - 0s 4ms/step - loss: 24.1992 - mae: 24.1992\n",
      "Epoch 468/500\n",
      "2/2 [==============================] - 0s 4ms/step - loss: 6.5324 - mae: 6.5324\n",
      "Epoch 469/500\n",
      "2/2 [==============================] - 0s 3ms/step - loss: 28.0610 - mae: 28.0610\n",
      "Epoch 470/500\n",
      "2/2 [==============================] - 0s 3ms/step - loss: 14.8577 - mae: 14.8577\n",
      "Epoch 471/500\n",
      "2/2 [==============================] - 0s 3ms/step - loss: 11.6208 - mae: 11.6208\n",
      "Epoch 472/500\n",
      "2/2 [==============================] - 0s 3ms/step - loss: 15.6398 - mae: 15.6398\n",
      "Epoch 473/500\n",
      "2/2 [==============================] - 0s 5ms/step - loss: 15.7422 - mae: 15.7422\n",
      "Epoch 474/500\n",
      "2/2 [==============================] - 0s 4ms/step - loss: 19.7304 - mae: 19.7304\n",
      "Epoch 475/500\n",
      "2/2 [==============================] - 0s 6ms/step - loss: 6.1313 - mae: 6.1313\n",
      "Epoch 476/500\n",
      "2/2 [==============================] - 0s 4ms/step - loss: 12.6062 - mae: 12.6062\n",
      "Epoch 477/500\n",
      "2/2 [==============================] - 0s 2ms/step - loss: 28.5999 - mae: 28.5999\n",
      "Epoch 478/500\n",
      "2/2 [==============================] - 0s 6ms/step - loss: 6.7406 - mae: 6.7406\n",
      "Epoch 479/500\n",
      "2/2 [==============================] - 0s 4ms/step - loss: 5.7375 - mae: 5.7375\n",
      "Epoch 480/500\n",
      "2/2 [==============================] - 0s 3ms/step - loss: 17.7979 - mae: 17.7979\n",
      "Epoch 481/500\n",
      "2/2 [==============================] - 0s 4ms/step - loss: 11.1150 - mae: 11.1150\n",
      "Epoch 482/500\n",
      "2/2 [==============================] - 0s 4ms/step - loss: 18.7769 - mae: 18.7769\n",
      "Epoch 483/500\n",
      "2/2 [==============================] - 0s 2ms/step - loss: 25.2158 - mae: 25.2158\n",
      "Epoch 484/500\n",
      "2/2 [==============================] - 0s 2ms/step - loss: 23.8011 - mae: 23.8011\n",
      "Epoch 485/500\n",
      "2/2 [==============================] - 0s 10ms/step - loss: 5.7581 - mae: 5.7581\n",
      "Epoch 486/500\n",
      "2/2 [==============================] - 0s 7ms/step - loss: 19.7924 - mae: 19.7924\n",
      "Epoch 487/500\n",
      "2/2 [==============================] - 0s 5ms/step - loss: 14.0680 - mae: 14.0680\n",
      "Epoch 488/500\n",
      "2/2 [==============================] - 0s 4ms/step - loss: 30.6603 - mae: 30.6603\n",
      "Epoch 489/500\n",
      "2/2 [==============================] - 0s 4ms/step - loss: 12.0206 - mae: 12.0206\n",
      "Epoch 490/500\n",
      "2/2 [==============================] - 0s 2ms/step - loss: 12.7768 - mae: 12.7768\n",
      "Epoch 491/500\n",
      "2/2 [==============================] - 0s 5ms/step - loss: 23.6937 - mae: 23.6937\n",
      "Epoch 492/500\n",
      "2/2 [==============================] - 0s 4ms/step - loss: 20.3378 - mae: 20.3378\n",
      "Epoch 493/500\n",
      "2/2 [==============================] - 0s 3ms/step - loss: 4.9710 - mae: 4.9710\n",
      "Epoch 494/500\n",
      "2/2 [==============================] - 0s 5ms/step - loss: 12.6425 - mae: 12.6425\n",
      "Epoch 495/500\n",
      "2/2 [==============================] - 0s 5ms/step - loss: 13.4504 - mae: 13.4504\n",
      "Epoch 496/500\n",
      "2/2 [==============================] - 0s 4ms/step - loss: 12.7242 - mae: 12.7242\n",
      "Epoch 497/500\n",
      "2/2 [==============================] - 0s 4ms/step - loss: 17.7134 - mae: 17.7134\n",
      "Epoch 498/500\n",
      "2/2 [==============================] - 0s 5ms/step - loss: 23.3502 - mae: 23.3502\n",
      "Epoch 499/500\n",
      "2/2 [==============================] - 0s 2ms/step - loss: 9.1104 - mae: 9.1104\n",
      "Epoch 500/500\n",
      "2/2 [==============================] - 0s 2ms/step - loss: 14.3920 - mae: 14.3920\n"
     ]
    },
    {
     "data": {
      "text/plain": [
       "<keras.callbacks.History at 0x18ef9ece0e0>"
      ]
     },
     "execution_count": 45,
     "metadata": {},
     "output_type": "execute_result"
    }
   ],
   "source": [
    "# Set the random seed\n",
    "tf.random.set_seed(42)\n",
    "\n",
    "# 1. Create the model\n",
    "model_3 = tf.keras.Sequential([\n",
    "    tf.keras.layers.Dense(10),\n",
    "    tf.keras.layers.Dense(1)\n",
    "])\n",
    "\n",
    "# 2. Compile the model\n",
    "model_3.compile(loss=tf.keras.losses.mae,\n",
    "                optimizer=tf.keras.optimizers.SGD(),\n",
    "                metrics=[\"mae\"])\n",
    "\n",
    "# 3. Fit the model\n",
    "model_3.fit(tf.expand_dims(X_train, axis=-1), y_train, epochs=500)"
   ]
  },
  {
   "cell_type": "code",
   "execution_count": 46,
   "id": "c47f9144",
   "metadata": {},
   "outputs": [
    {
     "name": "stdout",
     "output_type": "stream",
     "text": [
      "1/1 [==============================] - 0s 37ms/step\n"
     ]
    },
    {
     "data": {
      "image/png": "[encoded data removed]",
      "text/plain": [
       "<Figure size 1000x700 with 1 Axes>"
      ]
     },
     "metadata": {},
     "output_type": "display_data"
    }
   ],
   "source": [
    "# Make and plot some predictions\n",
    "y_preds_3 = model_3.predict(X_test)\n",
    "plot_predictions(predictions=y_preds_3)"
   ]
  },
  {
   "cell_type": "code",
   "execution_count": 47,
   "id": "224413eb",
   "metadata": {},
   "outputs": [
    {
     "data": {
      "text/plain": [
       "(<tf.Tensor: shape=(), dtype=float32, numpy=67.94156>,\n",
       " <tf.Tensor: shape=(), dtype=float32, numpy=4700.4766>)"
      ]
     },
     "execution_count": 47,
     "metadata": {},
     "output_type": "execute_result"
    }
   ],
   "source": [
    "# Calculate model_3 evaluation metrics\n",
    "mae_3 = mae(y_test, y_preds_3)\n",
    "mse_3 = mse(y_test, y_preds_3)\n",
    "mae_3, mse_3"
   ]
  },
  {
   "cell_type": "markdown",
   "id": "a5183372",
   "metadata": {},
   "source": [
    "## Comparing the results of our experiments\n",
    "\n",
    "We've run a few experiments, let's compare the results."
   ]
  },
  {
   "cell_type": "code",
   "execution_count": 48,
   "id": "e2d0aed9",
   "metadata": {},
   "outputs": [
    {
     "data": {
      "text/html": [
       "<div>\n",
       "<style scoped>\n",
       "    .dataframe tbody tr th:only-of-type {\n",
       "        vertical-align: middle;\n",
       "    }\n",
       "\n",
       "    .dataframe tbody tr th {\n",
       "        vertical-align: top;\n",
       "    }\n",
       "\n",
       "    .dataframe thead th {\n",
       "        text-align: right;\n",
       "    }\n",
       "</style>\n",
       "<table border=\"1\" class=\"dataframe\">\n",
       "  <thead>\n",
       "    <tr style=\"text-align: right;\">\n",
       "      <th></th>\n",
       "      <th>model</th>\n",
       "      <th>mae</th>\n",
       "      <th>mse</th>\n",
       "    </tr>\n",
       "  </thead>\n",
       "  <tbody>\n",
       "    <tr>\n",
       "      <th>0</th>\n",
       "      <td>model_1</td>\n",
       "      <td>8.602164</td>\n",
       "      <td>80.488113</td>\n",
       "    </tr>\n",
       "    <tr>\n",
       "      <th>1</th>\n",
       "      <td>model_2</td>\n",
       "      <td>29.910549</td>\n",
       "      <td>926.065247</td>\n",
       "    </tr>\n",
       "    <tr>\n",
       "      <th>2</th>\n",
       "      <td>model_3</td>\n",
       "      <td>67.941559</td>\n",
       "      <td>4700.476562</td>\n",
       "    </tr>\n",
       "  </tbody>\n",
       "</table>\n",
       "</div>"
      ],
      "text/plain": [
       "     model        mae          mse\n",
       "0  model_1   8.602164    80.488113\n",
       "1  model_2  29.910549   926.065247\n",
       "2  model_3  67.941559  4700.476562"
      ]
     },
     "execution_count": 48,
     "metadata": {},
     "output_type": "execute_result"
    }
   ],
   "source": [
    "# Let's compare out model's results using a pandas DataFrame\n",
    "import pandas as pd\n",
    "\n",
    "model_results = [[\"model_1\", mae_1.numpy(), mse_1.numpy()],\n",
    "                 [\"model_2\", mae_2.numpy(), mse_2.numpy()],\n",
    "                 [\"model_3\", mae_3.numpy(), mse_3.numpy()]]\n",
    "\n",
    "all_results = pd.DataFrame(model_results, columns=[\"model\", \"mae\", \"mse\"])\n",
    "all_results"
   ]
  },
  {
   "cell_type": "markdown",
   "id": "969d3c4c",
   "metadata": {},
   "source": [
    "Looks like `model_1` performed the best..."
   ]
  },
  {
   "cell_type": "code",
   "execution_count": 49,
   "id": "32aa3d04",
   "metadata": {},
   "outputs": [
    {
     "name": "stdout",
     "output_type": "stream",
     "text": [
      "Model: \"sequential_5\"\n",
      "_________________________________________________________________\n",
      " Layer (type)                Output Shape              Param #   \n",
      "=================================================================\n",
      " dense_5 (Dense)             (None, 1)                 2         \n",
      "                                                                 \n",
      "=================================================================\n",
      "Total params: 2\n",
      "Trainable params: 2\n",
      "Non-trainable params: 0\n",
      "_________________________________________________________________\n"
     ]
    }
   ],
   "source": [
    "model_1.summary()"
   ]
  },
  {
   "cell_type": "markdown",
   "id": "f62ac3c9",
   "metadata": {},
   "source": [
    "## Tracking your experiments\n",
    "\n",
    "One really good habit in machine learning modelling is to track the results of your experiments.\n",
    "\n",
    "And when doing so, it can be tedious if you're running lots of experiments.\n",
    "\n",
    "Luckily, there are tools to help us!\n",
    "\n",
    "* TensorBoard - a component of the TensorFlow library to help track modelling experiments (we'll see this one later).\n",
    "* Weights and Biases - a tool for tracking all kinds of machine learning experiments (plugs straight into TensorBoard)."
   ]
  },
  {
   "cell_type": "markdown",
   "id": "ec2dc4d2",
   "metadata": {},
   "source": [
    "## Saving our models\n",
    "\n",
    "Saving our models allows us to use them outside of local jupyter notebooks (or wherever they were trained) such as in a web application or a mobile app.\n",
    "\n",
    "There are two main formats we can save our model's too:\n",
    "\n",
    "1. The SavedModel format\n",
    "2. The HDF5 format"
   ]
  },
  {
   "cell_type": "code",
   "execution_count": 50,
   "id": "2e3ffd45",
   "metadata": {},
   "outputs": [
    {
     "name": "stdout",
     "output_type": "stream",
     "text": [
      "INFO:tensorflow:Assets written to: best_model_SavedModel_format\\assets\n"
     ]
    }
   ],
   "source": [
    "# Save model\n",
    "model_2.save(\"best_model_SavedModel_format\")"
   ]
  },
  {
   "cell_type": "code",
   "execution_count": 51,
   "id": "590dea10",
   "metadata": {},
   "outputs": [],
   "source": [
    "# Save model using the HDF5 format\n",
    "model_2.save(\"best_model_HDF5_format.h5\")"
   ]
  },
  {
   "cell_type": "markdown",
   "id": "7a09051e",
   "metadata": {},
   "source": [
    "## Loading in a saved model"
   ]
  },
  {
   "cell_type": "code",
   "execution_count": null,
   "id": "c7040dea",
   "metadata": {},
   "outputs": [
    {
     "name": "stdout",
     "output_type": "stream",
     "text": [
      "Model: \"sequential_6\"\n",
      "_________________________________________________________________\n",
      " Layer (type)                Output Shape              Param #   \n",
      "=================================================================\n",
      " dense_6 (Dense)             (None, 10)                20        \n",
      "                                                                 \n",
      " dense_7 (Dense)             (None, 1)                 11        \n",
      "                                                                 \n",
      "=================================================================\n",
      "Total params: 31\n",
      "Trainable params: 31\n",
      "Non-trainable params: 0\n",
      "_________________________________________________________________\n"
     ]
    }
   ],
   "source": [
    "# Load in the SavedModel format model\n",
    "loaded_SavedModel_format = tf.keras.models.load_model(\"C:/Users/Usuario/Documents/ML_Projects/TensorFlow/Neural_Network_Regression/best_model_SavedModel_format\")\n",
    "loaded_SavedModel_format.summary()"
   ]
  },
  {
   "cell_type": "code",
   "execution_count": 54,
   "id": "0fe7b8e0",
   "metadata": {},
   "outputs": [
    {
     "name": "stdout",
     "output_type": "stream",
     "text": [
      "Model: \"sequential_6\"\n",
      "_________________________________________________________________\n",
      " Layer (type)                Output Shape              Param #   \n",
      "=================================================================\n",
      " dense_6 (Dense)             (None, 10)                20        \n",
      "                                                                 \n",
      " dense_7 (Dense)             (None, 1)                 11        \n",
      "                                                                 \n",
      "=================================================================\n",
      "Total params: 31\n",
      "Trainable params: 31\n",
      "Non-trainable params: 0\n",
      "_________________________________________________________________\n"
     ]
    }
   ],
   "source": [
    "model_2.summary()"
   ]
  },
  {
   "cell_type": "code",
   "execution_count": 55,
   "id": "85f7df15",
   "metadata": {},
   "outputs": [
    {
     "name": "stdout",
     "output_type": "stream",
     "text": [
      "1/1 [==============================] - 0s 32ms/step\n",
      "1/1 [==============================] - 0s 42ms/step\n"
     ]
    },
    {
     "data": {
      "text/plain": [
       "array([[ True],\n",
       "       [ True],\n",
       "       [ True],\n",
       "       [ True],\n",
       "       [ True],\n",
       "       [ True],\n",
       "       [ True],\n",
       "       [ True],\n",
       "       [ True],\n",
       "       [ True]])"
      ]
     },
     "execution_count": 55,
     "metadata": {},
     "output_type": "execute_result"
    }
   ],
   "source": [
    "# Compare model_2 predictions with SavedModel format model predictions\n",
    "model_2_preds = model_2.predict(X_test)\n",
    "loaded_SavedModel_format_preds = loaded_SavedModel_format.predict(X_test)\n",
    "model_2_preds == loaded_SavedModel_format_preds"
   ]
  },
  {
   "cell_type": "code",
   "execution_count": 59,
   "id": "7cc5eec0",
   "metadata": {},
   "outputs": [
    {
     "name": "stdout",
     "output_type": "stream",
     "text": [
      "Model: \"sequential_6\"\n",
      "_________________________________________________________________\n",
      " Layer (type)                Output Shape              Param #   \n",
      "=================================================================\n",
      " dense_6 (Dense)             (None, 10)                20        \n",
      "                                                                 \n",
      " dense_7 (Dense)             (None, 1)                 11        \n",
      "                                                                 \n",
      "=================================================================\n",
      "Total params: 31\n",
      "Trainable params: 31\n",
      "Non-trainable params: 0\n",
      "_________________________________________________________________\n"
     ]
    }
   ],
   "source": [
    "# Load in a model using the .h5 format\n",
    "loaded_h5_model = tf.keras.models.load_model(\"C:/Users/Usuario/Documents/ML_Projects/TensorFlow/Neural_Network_Regression/best_model_HDF5_format.h5\")\n",
    "loaded_h5_model.summary()"
   ]
  },
  {
   "cell_type": "code",
   "execution_count": 60,
   "id": "da0efca4",
   "metadata": {},
   "outputs": [
    {
     "name": "stdout",
     "output_type": "stream",
     "text": [
      "1/1 [==============================] - 0s 57ms/step\n"
     ]
    },
    {
     "data": {
      "text/plain": [
       "array([[ True],\n",
       "       [ True],\n",
       "       [ True],\n",
       "       [ True],\n",
       "       [ True],\n",
       "       [ True],\n",
       "       [ True],\n",
       "       [ True],\n",
       "       [ True],\n",
       "       [ True]])"
      ]
     },
     "execution_count": 60,
     "metadata": {},
     "output_type": "execute_result"
    }
   ],
   "source": [
    "model_2_preds == loaded_h5_model.predict(X_test)"
   ]
  },
  {
   "cell_type": "markdown",
   "id": "61075eba",
   "metadata": {},
   "source": [
    "# A larger example"
   ]
  },
  {
   "cell_type": "code",
   "execution_count": 1,
   "id": "44a21084",
   "metadata": {},
   "outputs": [],
   "source": [
    "# Import required libraries\n",
    "import tensorflow as tf\n",
    "import pandas as pd\n",
    "import matplotlib.pyplot as plt"
   ]
  },
  {
   "cell_type": "code",
   "execution_count": 2,
   "id": "dfab7fde",
   "metadata": {},
   "outputs": [
    {
     "data": {
      "text/html": [
       "<div>\n",
       "<style scoped>\n",
       "    .dataframe tbody tr th:only-of-type {\n",
       "        vertical-align: middle;\n",
       "    }\n",
       "\n",
       "    .dataframe tbody tr th {\n",
       "        vertical-align: top;\n",
       "    }\n",
       "\n",
       "    .dataframe thead th {\n",
       "        text-align: right;\n",
       "    }\n",
       "</style>\n",
       "<table border=\"1\" class=\"dataframe\">\n",
       "  <thead>\n",
       "    <tr style=\"text-align: right;\">\n",
       "      <th></th>\n",
       "      <th>age</th>\n",
       "      <th>sex</th>\n",
       "      <th>bmi</th>\n",
       "      <th>children</th>\n",
       "      <th>smoker</th>\n",
       "      <th>region</th>\n",
       "      <th>charges</th>\n",
       "    </tr>\n",
       "  </thead>\n",
       "  <tbody>\n",
       "    <tr>\n",
       "      <th>0</th>\n",
       "      <td>19</td>\n",
       "      <td>female</td>\n",
       "      <td>27.900</td>\n",
       "      <td>0</td>\n",
       "      <td>yes</td>\n",
       "      <td>southwest</td>\n",
       "      <td>16884.92400</td>\n",
       "    </tr>\n",
       "    <tr>\n",
       "      <th>1</th>\n",
       "      <td>18</td>\n",
       "      <td>male</td>\n",
       "      <td>33.770</td>\n",
       "      <td>1</td>\n",
       "      <td>no</td>\n",
       "      <td>southeast</td>\n",
       "      <td>1725.55230</td>\n",
       "    </tr>\n",
       "    <tr>\n",
       "      <th>2</th>\n",
       "      <td>28</td>\n",
       "      <td>male</td>\n",
       "      <td>33.000</td>\n",
       "      <td>3</td>\n",
       "      <td>no</td>\n",
       "      <td>southeast</td>\n",
       "      <td>4449.46200</td>\n",
       "    </tr>\n",
       "    <tr>\n",
       "      <th>3</th>\n",
       "      <td>33</td>\n",
       "      <td>male</td>\n",
       "      <td>22.705</td>\n",
       "      <td>0</td>\n",
       "      <td>no</td>\n",
       "      <td>northwest</td>\n",
       "      <td>21984.47061</td>\n",
       "    </tr>\n",
       "    <tr>\n",
       "      <th>4</th>\n",
       "      <td>32</td>\n",
       "      <td>male</td>\n",
       "      <td>28.880</td>\n",
       "      <td>0</td>\n",
       "      <td>no</td>\n",
       "      <td>northwest</td>\n",
       "      <td>3866.85520</td>\n",
       "    </tr>\n",
       "  </tbody>\n",
       "</table>\n",
       "</div>"
      ],
      "text/plain": [
       "   age     sex     bmi  children smoker     region      charges\n",
       "0   19  female  27.900         0    yes  southwest  16884.92400\n",
       "1   18    male  33.770         1     no  southeast   1725.55230\n",
       "2   28    male  33.000         3     no  southeast   4449.46200\n",
       "3   33    male  22.705         0     no  northwest  21984.47061\n",
       "4   32    male  28.880         0     no  northwest   3866.85520"
      ]
     },
     "execution_count": 2,
     "metadata": {},
     "output_type": "execute_result"
    }
   ],
   "source": [
    "# Read in the insurance dataset\n",
    "insurance = pd.read_csv(\"insurance.csv\")\n",
    "insurance.head()"
   ]
  },
  {
   "cell_type": "code",
   "execution_count": 3,
   "id": "211d759e",
   "metadata": {},
   "outputs": [
    {
     "data": {
      "text/plain": [
       "(0       yes\n",
       " 1        no\n",
       " 2        no\n",
       " 3        no\n",
       " 4        no\n",
       "        ... \n",
       " 1333     no\n",
       " 1334     no\n",
       " 1335     no\n",
       " 1336     no\n",
       " 1337    yes\n",
       " Name: smoker, Length: 1338, dtype: object,\n",
       " 0       19\n",
       " 1       18\n",
       " 2       28\n",
       " 3       33\n",
       " 4       32\n",
       "         ..\n",
       " 1333    50\n",
       " 1334    18\n",
       " 1335    18\n",
       " 1336    21\n",
       " 1337    61\n",
       " Name: age, Length: 1338, dtype: int64)"
      ]
     },
     "execution_count": 3,
     "metadata": {},
     "output_type": "execute_result"
    }
   ],
   "source": [
    "insurance[\"smoker\"], insurance[\"age\"]"
   ]
  },
  {
   "cell_type": "code",
   "execution_count": 4,
   "id": "f281407d",
   "metadata": {},
   "outputs": [
    {
     "data": {
      "text/html": [
       "<div>\n",
       "<style scoped>\n",
       "    .dataframe tbody tr th:only-of-type {\n",
       "        vertical-align: middle;\n",
       "    }\n",
       "\n",
       "    .dataframe tbody tr th {\n",
       "        vertical-align: top;\n",
       "    }\n",
       "\n",
       "    .dataframe thead th {\n",
       "        text-align: right;\n",
       "    }\n",
       "</style>\n",
       "<table border=\"1\" class=\"dataframe\">\n",
       "  <thead>\n",
       "    <tr style=\"text-align: right;\">\n",
       "      <th></th>\n",
       "      <th>age</th>\n",
       "      <th>bmi</th>\n",
       "      <th>children</th>\n",
       "      <th>charges</th>\n",
       "      <th>sex_female</th>\n",
       "      <th>sex_male</th>\n",
       "      <th>smoker_no</th>\n",
       "      <th>smoker_yes</th>\n",
       "      <th>region_northeast</th>\n",
       "      <th>region_northwest</th>\n",
       "      <th>region_southeast</th>\n",
       "      <th>region_southwest</th>\n",
       "    </tr>\n",
       "  </thead>\n",
       "  <tbody>\n",
       "    <tr>\n",
       "      <th>0</th>\n",
       "      <td>19</td>\n",
       "      <td>27.900</td>\n",
       "      <td>0</td>\n",
       "      <td>16884.92400</td>\n",
       "      <td>True</td>\n",
       "      <td>False</td>\n",
       "      <td>False</td>\n",
       "      <td>True</td>\n",
       "      <td>False</td>\n",
       "      <td>False</td>\n",
       "      <td>False</td>\n",
       "      <td>True</td>\n",
       "    </tr>\n",
       "    <tr>\n",
       "      <th>1</th>\n",
       "      <td>18</td>\n",
       "      <td>33.770</td>\n",
       "      <td>1</td>\n",
       "      <td>1725.55230</td>\n",
       "      <td>False</td>\n",
       "      <td>True</td>\n",
       "      <td>True</td>\n",
       "      <td>False</td>\n",
       "      <td>False</td>\n",
       "      <td>False</td>\n",
       "      <td>True</td>\n",
       "      <td>False</td>\n",
       "    </tr>\n",
       "    <tr>\n",
       "      <th>2</th>\n",
       "      <td>28</td>\n",
       "      <td>33.000</td>\n",
       "      <td>3</td>\n",
       "      <td>4449.46200</td>\n",
       "      <td>False</td>\n",
       "      <td>True</td>\n",
       "      <td>True</td>\n",
       "      <td>False</td>\n",
       "      <td>False</td>\n",
       "      <td>False</td>\n",
       "      <td>True</td>\n",
       "      <td>False</td>\n",
       "    </tr>\n",
       "    <tr>\n",
       "      <th>3</th>\n",
       "      <td>33</td>\n",
       "      <td>22.705</td>\n",
       "      <td>0</td>\n",
       "      <td>21984.47061</td>\n",
       "      <td>False</td>\n",
       "      <td>True</td>\n",
       "      <td>True</td>\n",
       "      <td>False</td>\n",
       "      <td>False</td>\n",
       "      <td>True</td>\n",
       "      <td>False</td>\n",
       "      <td>False</td>\n",
       "    </tr>\n",
       "    <tr>\n",
       "      <th>4</th>\n",
       "      <td>32</td>\n",
       "      <td>28.880</td>\n",
       "      <td>0</td>\n",
       "      <td>3866.85520</td>\n",
       "      <td>False</td>\n",
       "      <td>True</td>\n",
       "      <td>True</td>\n",
       "      <td>False</td>\n",
       "      <td>False</td>\n",
       "      <td>True</td>\n",
       "      <td>False</td>\n",
       "      <td>False</td>\n",
       "    </tr>\n",
       "  </tbody>\n",
       "</table>\n",
       "</div>"
      ],
      "text/plain": [
       "   age     bmi  children      charges  sex_female  sex_male  smoker_no  \\\n",
       "0   19  27.900         0  16884.92400        True     False      False   \n",
       "1   18  33.770         1   1725.55230       False      True       True   \n",
       "2   28  33.000         3   4449.46200       False      True       True   \n",
       "3   33  22.705         0  21984.47061       False      True       True   \n",
       "4   32  28.880         0   3866.85520       False      True       True   \n",
       "\n",
       "   smoker_yes  region_northeast  region_northwest  region_southeast  \\\n",
       "0        True             False             False             False   \n",
       "1       False             False             False              True   \n",
       "2       False             False             False              True   \n",
       "3       False             False              True             False   \n",
       "4       False             False              True             False   \n",
       "\n",
       "   region_southwest  \n",
       "0              True  \n",
       "1             False  \n",
       "2             False  \n",
       "3             False  \n",
       "4             False  "
      ]
     },
     "execution_count": 4,
     "metadata": {},
     "output_type": "execute_result"
    }
   ],
   "source": [
    "# Let's try one-hot encode our DataFrame so it's all numbers\n",
    "insurance_one_hot = pd.get_dummies(insurance)\n",
    "insurance_one_hot.head()"
   ]
  },
  {
   "cell_type": "code",
   "execution_count": 5,
   "id": "87104be5",
   "metadata": {},
   "outputs": [],
   "source": [
    "# Create X and y values (features and labels)\n",
    "X = insurance_one_hot.drop(\"charges\", axis=1)\n",
    "y = insurance_one_hot[\"charges\"]"
   ]
  },
  {
   "cell_type": "code",
   "execution_count": 6,
   "id": "e44afedf",
   "metadata": {},
   "outputs": [
    {
     "data": {
      "text/html": [
       "<div>\n",
       "<style scoped>\n",
       "    .dataframe tbody tr th:only-of-type {\n",
       "        vertical-align: middle;\n",
       "    }\n",
       "\n",
       "    .dataframe tbody tr th {\n",
       "        vertical-align: top;\n",
       "    }\n",
       "\n",
       "    .dataframe thead th {\n",
       "        text-align: right;\n",
       "    }\n",
       "</style>\n",
       "<table border=\"1\" class=\"dataframe\">\n",
       "  <thead>\n",
       "    <tr style=\"text-align: right;\">\n",
       "      <th></th>\n",
       "      <th>age</th>\n",
       "      <th>bmi</th>\n",
       "      <th>children</th>\n",
       "      <th>sex_female</th>\n",
       "      <th>sex_male</th>\n",
       "      <th>smoker_no</th>\n",
       "      <th>smoker_yes</th>\n",
       "      <th>region_northeast</th>\n",
       "      <th>region_northwest</th>\n",
       "      <th>region_southeast</th>\n",
       "      <th>region_southwest</th>\n",
       "    </tr>\n",
       "  </thead>\n",
       "  <tbody>\n",
       "    <tr>\n",
       "      <th>0</th>\n",
       "      <td>19</td>\n",
       "      <td>27.900</td>\n",
       "      <td>0</td>\n",
       "      <td>True</td>\n",
       "      <td>False</td>\n",
       "      <td>False</td>\n",
       "      <td>True</td>\n",
       "      <td>False</td>\n",
       "      <td>False</td>\n",
       "      <td>False</td>\n",
       "      <td>True</td>\n",
       "    </tr>\n",
       "    <tr>\n",
       "      <th>1</th>\n",
       "      <td>18</td>\n",
       "      <td>33.770</td>\n",
       "      <td>1</td>\n",
       "      <td>False</td>\n",
       "      <td>True</td>\n",
       "      <td>True</td>\n",
       "      <td>False</td>\n",
       "      <td>False</td>\n",
       "      <td>False</td>\n",
       "      <td>True</td>\n",
       "      <td>False</td>\n",
       "    </tr>\n",
       "    <tr>\n",
       "      <th>2</th>\n",
       "      <td>28</td>\n",
       "      <td>33.000</td>\n",
       "      <td>3</td>\n",
       "      <td>False</td>\n",
       "      <td>True</td>\n",
       "      <td>True</td>\n",
       "      <td>False</td>\n",
       "      <td>False</td>\n",
       "      <td>False</td>\n",
       "      <td>True</td>\n",
       "      <td>False</td>\n",
       "    </tr>\n",
       "    <tr>\n",
       "      <th>3</th>\n",
       "      <td>33</td>\n",
       "      <td>22.705</td>\n",
       "      <td>0</td>\n",
       "      <td>False</td>\n",
       "      <td>True</td>\n",
       "      <td>True</td>\n",
       "      <td>False</td>\n",
       "      <td>False</td>\n",
       "      <td>True</td>\n",
       "      <td>False</td>\n",
       "      <td>False</td>\n",
       "    </tr>\n",
       "    <tr>\n",
       "      <th>4</th>\n",
       "      <td>32</td>\n",
       "      <td>28.880</td>\n",
       "      <td>0</td>\n",
       "      <td>False</td>\n",
       "      <td>True</td>\n",
       "      <td>True</td>\n",
       "      <td>False</td>\n",
       "      <td>False</td>\n",
       "      <td>True</td>\n",
       "      <td>False</td>\n",
       "      <td>False</td>\n",
       "    </tr>\n",
       "  </tbody>\n",
       "</table>\n",
       "</div>"
      ],
      "text/plain": [
       "   age     bmi  children  sex_female  sex_male  smoker_no  smoker_yes  \\\n",
       "0   19  27.900         0        True     False      False        True   \n",
       "1   18  33.770         1       False      True       True       False   \n",
       "2   28  33.000         3       False      True       True       False   \n",
       "3   33  22.705         0       False      True       True       False   \n",
       "4   32  28.880         0       False      True       True       False   \n",
       "\n",
       "   region_northeast  region_northwest  region_southeast  region_southwest  \n",
       "0             False             False             False              True  \n",
       "1             False             False              True             False  \n",
       "2             False             False              True             False  \n",
       "3             False              True             False             False  \n",
       "4             False              True             False             False  "
      ]
     },
     "execution_count": 6,
     "metadata": {},
     "output_type": "execute_result"
    }
   ],
   "source": [
    "# View X\n",
    "X.head()"
   ]
  },
  {
   "cell_type": "code",
   "execution_count": 7,
   "id": "73781a36",
   "metadata": {},
   "outputs": [
    {
     "data": {
      "text/plain": [
       "0    16884.92400\n",
       "1     1725.55230\n",
       "2     4449.46200\n",
       "3    21984.47061\n",
       "4     3866.85520\n",
       "Name: charges, dtype: float64"
      ]
     },
     "execution_count": 7,
     "metadata": {},
     "output_type": "execute_result"
    }
   ],
   "source": [
    "# View y\n",
    "y.head()"
   ]
  },
  {
   "cell_type": "code",
   "execution_count": 8,
   "id": "14526621",
   "metadata": {},
   "outputs": [
    {
     "data": {
      "text/plain": [
       "(1338, 1070, 268)"
      ]
     },
     "execution_count": 8,
     "metadata": {},
     "output_type": "execute_result"
    }
   ],
   "source": [
    "# Create training and test stes\n",
    "from sklearn.model_selection import train_test_split\n",
    "X_train, X_test, y_train, y_test = train_test_split(X, y, test_size=0.2, random_state=42)\n",
    "len(X), len(X_train), len(X_test)"
   ]
  },
  {
   "cell_type": "code",
   "execution_count": 9,
   "id": "1d78ef31",
   "metadata": {},
   "outputs": [],
   "source": [
    "import numpy as np\n",
    "X_train = np.asarray(X_train).astype('float32')\n",
    "X_test = np.asarray(X_test).astype('float32')"
   ]
  },
  {
   "cell_type": "code",
   "execution_count": 10,
   "id": "fe3462aa",
   "metadata": {},
   "outputs": [
    {
     "name": "stdout",
     "output_type": "stream",
     "text": [
      "Epoch 1/100\n",
      "34/34 [==============================] - 3s 3ms/step - loss: 8669.8535 - mae: 8669.8535\n",
      "Epoch 2/100\n",
      "34/34 [==============================] - 0s 2ms/step - loss: 7884.6748 - mae: 7884.6748\n",
      "Epoch 3/100\n",
      "34/34 [==============================] - 0s 2ms/step - loss: 7531.4849 - mae: 7531.4849\n",
      "Epoch 4/100\n",
      "34/34 [==============================] - 0s 2ms/step - loss: 7690.9688 - mae: 7690.9688\n",
      "Epoch 5/100\n",
      "34/34 [==============================] - 0s 2ms/step - loss: 7682.1714 - mae: 7682.1714\n",
      "Epoch 6/100\n",
      "34/34 [==============================] - 0s 2ms/step - loss: 7593.1724 - mae: 7593.1724\n",
      "Epoch 7/100\n",
      "34/34 [==============================] - 0s 2ms/step - loss: 7592.4438 - mae: 7592.4438\n",
      "Epoch 8/100\n",
      "34/34 [==============================] - 0s 2ms/step - loss: 7728.6069 - mae: 7728.6069\n",
      "Epoch 9/100\n",
      "34/34 [==============================] - 0s 2ms/step - loss: 7584.9771 - mae: 7584.9771\n",
      "Epoch 10/100\n",
      "34/34 [==============================] - 0s 2ms/step - loss: 7732.2373 - mae: 7732.2373\n",
      "Epoch 11/100\n",
      "34/34 [==============================] - 0s 2ms/step - loss: 7604.7939 - mae: 7604.7939\n",
      "Epoch 12/100\n",
      "34/34 [==============================] - 0s 2ms/step - loss: 7698.4844 - mae: 7698.4844\n",
      "Epoch 13/100\n",
      "34/34 [==============================] - 0s 2ms/step - loss: 7698.2896 - mae: 7698.2896\n",
      "Epoch 14/100\n",
      "34/34 [==============================] - 0s 2ms/step - loss: 7660.8081 - mae: 7660.8081\n",
      "Epoch 15/100\n",
      "34/34 [==============================] - 0s 2ms/step - loss: 7673.0220 - mae: 7673.0220\n",
      "Epoch 16/100\n",
      "34/34 [==============================] - 0s 2ms/step - loss: 7685.0796 - mae: 7685.0796\n",
      "Epoch 17/100\n",
      "34/34 [==============================] - 0s 2ms/step - loss: 7560.5464 - mae: 7560.5464\n",
      "Epoch 18/100\n",
      "34/34 [==============================] - 0s 2ms/step - loss: 7811.5693 - mae: 7811.5693\n",
      "Epoch 19/100\n",
      "34/34 [==============================] - 0s 2ms/step - loss: 7546.5791 - mae: 7546.5791\n",
      "Epoch 20/100\n",
      "34/34 [==============================] - 0s 2ms/step - loss: 7882.7881 - mae: 7882.7881\n",
      "Epoch 21/100\n",
      "34/34 [==============================] - 0s 2ms/step - loss: 7520.7563 - mae: 7520.7563\n",
      "Epoch 22/100\n",
      "34/34 [==============================] - 0s 2ms/step - loss: 7766.4717 - mae: 7766.4717\n",
      "Epoch 23/100\n",
      "34/34 [==============================] - 0s 2ms/step - loss: 7671.9146 - mae: 7671.9146\n",
      "Epoch 24/100\n",
      "34/34 [==============================] - 0s 2ms/step - loss: 7541.5376 - mae: 7541.5376\n",
      "Epoch 25/100\n",
      "34/34 [==============================] - 0s 2ms/step - loss: 7619.6636 - mae: 7619.6636\n",
      "Epoch 26/100\n",
      "34/34 [==============================] - 0s 2ms/step - loss: 7700.3857 - mae: 7700.3857\n",
      "Epoch 27/100\n",
      "34/34 [==============================] - 0s 2ms/step - loss: 7699.7705 - mae: 7699.7705\n",
      "Epoch 28/100\n",
      "34/34 [==============================] - 0s 2ms/step - loss: 7449.0947 - mae: 7449.0947\n",
      "Epoch 29/100\n",
      "34/34 [==============================] - 0s 2ms/step - loss: 7597.8716 - mae: 7597.8716\n",
      "Epoch 30/100\n",
      "34/34 [==============================] - 0s 2ms/step - loss: 7660.7036 - mae: 7660.7036\n",
      "Epoch 31/100\n",
      "34/34 [==============================] - 0s 2ms/step - loss: 7694.4150 - mae: 7694.4150\n",
      "Epoch 32/100\n",
      "34/34 [==============================] - 0s 2ms/step - loss: 7167.3350 - mae: 7167.3350\n",
      "Epoch 33/100\n",
      "34/34 [==============================] - 0s 2ms/step - loss: 7451.2554 - mae: 7451.2554\n",
      "Epoch 34/100\n",
      "34/34 [==============================] - 0s 2ms/step - loss: 7426.8066 - mae: 7426.8066\n",
      "Epoch 35/100\n",
      "34/34 [==============================] - 0s 2ms/step - loss: 7564.7690 - mae: 7564.7690\n",
      "Epoch 36/100\n",
      "34/34 [==============================] - 0s 2ms/step - loss: 7451.0356 - mae: 7451.0356\n",
      "Epoch 37/100\n",
      "34/34 [==============================] - 0s 2ms/step - loss: 7431.4316 - mae: 7431.4316\n",
      "Epoch 38/100\n",
      "34/34 [==============================] - 0s 2ms/step - loss: 7399.3301 - mae: 7399.3301\n",
      "Epoch 39/100\n",
      "34/34 [==============================] - 0s 3ms/step - loss: 7516.3657 - mae: 7516.3657\n",
      "Epoch 40/100\n",
      "34/34 [==============================] - 0s 2ms/step - loss: 7481.2798 - mae: 7481.2798\n",
      "Epoch 41/100\n",
      "34/34 [==============================] - 0s 2ms/step - loss: 7752.1357 - mae: 7752.1357\n",
      "Epoch 42/100\n",
      "34/34 [==============================] - 0s 2ms/step - loss: 7806.9683 - mae: 7806.9683\n",
      "Epoch 43/100\n",
      "34/34 [==============================] - 0s 2ms/step - loss: 7782.8877 - mae: 7782.8877\n",
      "Epoch 44/100\n",
      "34/34 [==============================] - 0s 2ms/step - loss: 7486.1577 - mae: 7486.1577\n",
      "Epoch 45/100\n",
      "34/34 [==============================] - 0s 2ms/step - loss: 7532.6167 - mae: 7532.6167\n",
      "Epoch 46/100\n",
      "34/34 [==============================] - 0s 2ms/step - loss: 7405.8569 - mae: 7405.8569\n",
      "Epoch 47/100\n",
      "34/34 [==============================] - 0s 2ms/step - loss: 7515.5674 - mae: 7515.5674\n",
      "Epoch 48/100\n",
      "34/34 [==============================] - 0s 2ms/step - loss: 7359.9492 - mae: 7359.9492\n",
      "Epoch 49/100\n",
      "34/34 [==============================] - 0s 2ms/step - loss: 7535.5967 - mae: 7535.5967\n",
      "Epoch 50/100\n",
      "34/34 [==============================] - 0s 2ms/step - loss: 7534.0815 - mae: 7534.0815\n",
      "Epoch 51/100\n",
      "34/34 [==============================] - 0s 2ms/step - loss: 7424.7515 - mae: 7424.7515\n",
      "Epoch 52/100\n",
      "34/34 [==============================] - 0s 3ms/step - loss: 7385.1577 - mae: 7385.1577\n",
      "Epoch 53/100\n",
      "34/34 [==============================] - 0s 2ms/step - loss: 7517.1250 - mae: 7517.1250\n",
      "Epoch 54/100\n",
      "34/34 [==============================] - 0s 2ms/step - loss: 7265.5181 - mae: 7265.5181\n",
      "Epoch 55/100\n",
      "34/34 [==============================] - 0s 2ms/step - loss: 7319.8457 - mae: 7319.8457\n",
      "Epoch 56/100\n",
      "34/34 [==============================] - 0s 2ms/step - loss: 7398.1846 - mae: 7398.1846\n",
      "Epoch 57/100\n",
      "34/34 [==============================] - 0s 2ms/step - loss: 7358.4375 - mae: 7358.4375\n",
      "Epoch 58/100\n",
      "34/34 [==============================] - 0s 2ms/step - loss: 7550.6470 - mae: 7550.6470\n",
      "Epoch 59/100\n",
      "34/34 [==============================] - 0s 2ms/step - loss: 7387.9409 - mae: 7387.9409\n",
      "Epoch 60/100\n",
      "34/34 [==============================] - 0s 2ms/step - loss: 7467.1167 - mae: 7467.1167\n",
      "Epoch 61/100\n",
      "34/34 [==============================] - 0s 2ms/step - loss: 7316.1514 - mae: 7316.1514\n",
      "Epoch 62/100\n",
      "34/34 [==============================] - 0s 2ms/step - loss: 7409.0767 - mae: 7409.0767\n",
      "Epoch 63/100\n",
      "34/34 [==============================] - 0s 2ms/step - loss: 7415.9902 - mae: 7415.9902\n",
      "Epoch 64/100\n",
      "34/34 [==============================] - 0s 4ms/step - loss: 7274.8550 - mae: 7274.8550\n",
      "Epoch 65/100\n",
      "34/34 [==============================] - 0s 3ms/step - loss: 7424.9014 - mae: 7424.9014\n",
      "Epoch 66/100\n",
      "34/34 [==============================] - 0s 2ms/step - loss: 7307.2524 - mae: 7307.2524\n",
      "Epoch 67/100\n",
      "34/34 [==============================] - 0s 2ms/step - loss: 7306.8438 - mae: 7306.8438\n",
      "Epoch 68/100\n",
      "34/34 [==============================] - 0s 2ms/step - loss: 7595.9160 - mae: 7595.9160\n",
      "Epoch 69/100\n",
      "34/34 [==============================] - 0s 2ms/step - loss: 7552.0557 - mae: 7552.0557\n",
      "Epoch 70/100\n",
      "34/34 [==============================] - 0s 2ms/step - loss: 7590.8677 - mae: 7590.8677\n",
      "Epoch 71/100\n",
      "34/34 [==============================] - 0s 2ms/step - loss: 7267.9507 - mae: 7267.9507\n",
      "Epoch 72/100\n",
      "34/34 [==============================] - 0s 2ms/step - loss: 7251.2197 - mae: 7251.2197\n",
      "Epoch 73/100\n",
      "34/34 [==============================] - 0s 2ms/step - loss: 7343.1538 - mae: 7343.1538\n",
      "Epoch 74/100\n",
      "34/34 [==============================] - 0s 2ms/step - loss: 7318.7559 - mae: 7318.7559\n",
      "Epoch 75/100\n",
      "34/34 [==============================] - 0s 2ms/step - loss: 7242.7456 - mae: 7242.7456\n",
      "Epoch 76/100\n",
      "34/34 [==============================] - 0s 2ms/step - loss: 7332.4292 - mae: 7332.4292\n",
      "Epoch 77/100\n",
      "34/34 [==============================] - 0s 2ms/step - loss: 7455.0161 - mae: 7455.0161\n",
      "Epoch 78/100\n",
      "34/34 [==============================] - 0s 2ms/step - loss: 7216.0571 - mae: 7216.0571\n",
      "Epoch 79/100\n",
      "34/34 [==============================] - 0s 2ms/step - loss: 7362.1235 - mae: 7362.1235\n",
      "Epoch 80/100\n",
      "34/34 [==============================] - 0s 2ms/step - loss: 7383.7871 - mae: 7383.7871\n",
      "Epoch 81/100\n",
      "34/34 [==============================] - 0s 2ms/step - loss: 7263.1865 - mae: 7263.1865\n",
      "Epoch 82/100\n",
      "34/34 [==============================] - 0s 2ms/step - loss: 7204.8286 - mae: 7204.8286\n",
      "Epoch 83/100\n",
      "34/34 [==============================] - 0s 2ms/step - loss: 7385.9385 - mae: 7385.9385\n",
      "Epoch 84/100\n",
      "34/34 [==============================] - 0s 2ms/step - loss: 7384.1963 - mae: 7384.1963\n",
      "Epoch 85/100\n",
      "34/34 [==============================] - 0s 2ms/step - loss: 7448.0508 - mae: 7448.0508\n",
      "Epoch 86/100\n",
      "34/34 [==============================] - 0s 2ms/step - loss: 7420.1948 - mae: 7420.1948\n",
      "Epoch 87/100\n",
      "34/34 [==============================] - 0s 2ms/step - loss: 7168.2939 - mae: 7168.2939\n",
      "Epoch 88/100\n",
      "34/34 [==============================] - 0s 2ms/step - loss: 7204.2266 - mae: 7204.2266\n",
      "Epoch 89/100\n",
      "34/34 [==============================] - 0s 2ms/step - loss: 7398.9185 - mae: 7398.9185\n",
      "Epoch 90/100\n",
      "34/34 [==============================] - 0s 2ms/step - loss: 6965.6060 - mae: 6965.6060\n",
      "Epoch 91/100\n",
      "34/34 [==============================] - 0s 2ms/step - loss: 7226.3657 - mae: 7226.3657\n",
      "Epoch 92/100\n",
      "34/34 [==============================] - 0s 2ms/step - loss: 7226.7129 - mae: 7226.7129\n",
      "Epoch 93/100\n",
      "34/34 [==============================] - 0s 2ms/step - loss: 7467.9717 - mae: 7467.9717\n",
      "Epoch 94/100\n",
      "34/34 [==============================] - 0s 3ms/step - loss: 7212.9429 - mae: 7212.9429\n",
      "Epoch 95/100\n",
      "34/34 [==============================] - 0s 2ms/step - loss: 7297.0352 - mae: 7297.0352\n",
      "Epoch 96/100\n",
      "34/34 [==============================] - 0s 3ms/step - loss: 7247.2417 - mae: 7247.2417\n",
      "Epoch 97/100\n",
      "34/34 [==============================] - 0s 2ms/step - loss: 7294.6929 - mae: 7294.6929\n",
      "Epoch 98/100\n",
      "34/34 [==============================] - 0s 2ms/step - loss: 7371.9033 - mae: 7371.9033\n",
      "Epoch 99/100\n",
      "34/34 [==============================] - 0s 2ms/step - loss: 7366.4380 - mae: 7366.4380\n",
      "Epoch 100/100\n",
      "34/34 [==============================] - 0s 2ms/step - loss: 7117.0518 - mae: 7117.0518\n"
     ]
    },
    {
     "data": {
      "text/plain": [
       "<keras.callbacks.History at 0x1c1b43dee30>"
      ]
     },
     "execution_count": 10,
     "metadata": {},
     "output_type": "execute_result"
    }
   ],
   "source": [
    "# Build a neural network (sort of like model_2 above)\n",
    "tf.random.set_seed(42)\n",
    "\n",
    "# 1. Create a model\n",
    "insurance_model = tf.keras.Sequential([\n",
    "    tf.keras.layers.Dense(10),\n",
    "    tf.keras.layers.Dense(1)\n",
    "])\n",
    "\n",
    "# 2. Compile the model\n",
    "insurance_model.compile(loss=tf.keras.losses.mae,\n",
    "                        optimizer=tf.keras.optimizers.SGD(),\n",
    "                        metrics=[\"mae\"])\n",
    "\n",
    "# 3. Fit the model\n",
    "insurance_model.fit(X_train, y_train, epochs=100)"
   ]
  },
  {
   "cell_type": "code",
   "execution_count": 11,
   "id": "8a4bba30",
   "metadata": {},
   "outputs": [
    {
     "name": "stdout",
     "output_type": "stream",
     "text": [
      "9/9 [==============================] - 0s 1ms/step - loss: 7291.4307 - mae: 7291.4307\n"
     ]
    },
    {
     "data": {
      "text/plain": [
       "[7291.4306640625, 7291.4306640625]"
      ]
     },
     "execution_count": 11,
     "metadata": {},
     "output_type": "execute_result"
    }
   ],
   "source": [
    "# Check the results of the insurance model on the test data\n",
    "insurance_model.evaluate(X_test, y_test)"
   ]
  },
  {
   "cell_type": "markdown",
   "id": "efc1797e",
   "metadata": {},
   "source": [
    "Right now it looks like our model isn't performing too well... let's try and improve it!\n",
    "\n",
    "To try improve our model, we will run 2 experiments:\n",
    "1. Add an extra layer with more hidden units and use the Adam optimize.\n",
    "2. Same as above but train for longer."
   ]
  },
  {
   "cell_type": "code",
   "execution_count": 12,
   "id": "a5b8e01b",
   "metadata": {},
   "outputs": [
    {
     "data": {
      "text/plain": [
       "<keras.callbacks.History at 0x1c36be04430>"
      ]
     },
     "execution_count": 12,
     "metadata": {},
     "output_type": "execute_result"
    }
   ],
   "source": [
    "# Set random seed\n",
    "tf.random.set_seed(42)\n",
    "\n",
    "# 1. Create the model\n",
    "insurance_model_2 = tf.keras.Sequential([\n",
    "    tf.keras.layers.Dense(100),\n",
    "    tf.keras.layers.Dense(10),\n",
    "    tf.keras.layers.Dense(1)\n",
    "])\n",
    "\n",
    "# 2. Compile the model\n",
    "insurance_model_2.compile(loss=tf.keras.losses.mae,\n",
    "                        optimizer=tf.keras.optimizers.Adam(),\n",
    "                        metrics=[\"mae\"])\n",
    "\n",
    "# 3. Fit the model\n",
    "insurance_model_2.fit(X_train, y_train, epochs=100, verbose=0)"
   ]
  },
  {
   "cell_type": "code",
   "execution_count": 13,
   "id": "c0c0abe4",
   "metadata": {},
   "outputs": [
    {
     "name": "stdout",
     "output_type": "stream",
     "text": [
      "9/9 [==============================] - 0s 1ms/step - loss: 4827.8994 - mae: 4827.8994\n"
     ]
    },
    {
     "data": {
      "text/plain": [
       "[4827.8994140625, 4827.8994140625]"
      ]
     },
     "execution_count": 13,
     "metadata": {},
     "output_type": "execute_result"
    }
   ],
   "source": [
    "# Evaluate the larger model\n",
    "insurance_model_2.evaluate(X_test, y_test)"
   ]
  },
  {
   "cell_type": "code",
   "execution_count": 14,
   "id": "565c6f96",
   "metadata": {},
   "outputs": [],
   "source": [
    "# Set random seed\n",
    "tf.random.set_seed(42)\n",
    "\n",
    "# 1. Create the model\n",
    "insurance_model_3 = tf.keras.Sequential([\n",
    "    tf.keras.layers.Dense(100),\n",
    "    tf.keras.layers.Dense(10),\n",
    "    tf.keras.layers.Dense(1)\n",
    "])\n",
    "\n",
    "# 2. Compile the model\n",
    "insurance_model_3.compile(loss=tf.keras.losses.mae,\n",
    "                        optimizer=tf.keras.optimizers.Adam(),\n",
    "                        metrics=[\"mae\"])\n",
    "\n",
    "# 3. Fit the model\n",
    "history = insurance_model_3.fit(X_train, y_train, epochs=200, verbose=0)"
   ]
  },
  {
   "cell_type": "code",
   "execution_count": 15,
   "id": "a6828d70",
   "metadata": {},
   "outputs": [
    {
     "name": "stdout",
     "output_type": "stream",
     "text": [
      "9/9 [==============================] - 0s 3ms/step - loss: 3492.3518 - mae: 3492.3518\n"
     ]
    },
    {
     "data": {
      "text/plain": [
       "[3492.351806640625, 3492.351806640625]"
      ]
     },
     "execution_count": 15,
     "metadata": {},
     "output_type": "execute_result"
    }
   ],
   "source": [
    "# Evaluate the model\n",
    "insurance_model_3.evaluate(X_test, y_test)"
   ]
  },
  {
   "cell_type": "markdown",
   "id": "71c48682",
   "metadata": {},
   "source": [
    "> **Question:** How long should you train for?\n",
    "\n",
    "It depends. Really... it depends on the problem you're working on. However, many people have asked this question before... so TensorFlow has a solution! It's called the ``EarlyStopping Callback``, which is a TensorFlow component you can add to your model to stop training once it stops improving a certain metric."
   ]
  },
  {
   "cell_type": "markdown",
   "id": "3c5c0db6",
   "metadata": {},
   "source": [
    "## Preprocessing data (normalization and standardization)\n",
    "\n",
    "In terms of scaling values, neural networks tend to prefer normalization.\n",
    "\n",
    "If you're not sure on which to use, you could try both and see which performs better."
   ]
  },
  {
   "cell_type": "code",
   "execution_count": 20,
   "id": "d5c1fe88",
   "metadata": {},
   "outputs": [
    {
     "data": {
      "text/html": [
       "<div>\n",
       "<style scoped>\n",
       "    .dataframe tbody tr th:only-of-type {\n",
       "        vertical-align: middle;\n",
       "    }\n",
       "\n",
       "    .dataframe tbody tr th {\n",
       "        vertical-align: top;\n",
       "    }\n",
       "\n",
       "    .dataframe thead th {\n",
       "        text-align: right;\n",
       "    }\n",
       "</style>\n",
       "<table border=\"1\" class=\"dataframe\">\n",
       "  <thead>\n",
       "    <tr style=\"text-align: right;\">\n",
       "      <th></th>\n",
       "      <th>age</th>\n",
       "      <th>sex</th>\n",
       "      <th>bmi</th>\n",
       "      <th>children</th>\n",
       "      <th>smoker</th>\n",
       "      <th>region</th>\n",
       "      <th>charges</th>\n",
       "    </tr>\n",
       "  </thead>\n",
       "  <tbody>\n",
       "    <tr>\n",
       "      <th>0</th>\n",
       "      <td>19</td>\n",
       "      <td>female</td>\n",
       "      <td>27.900</td>\n",
       "      <td>0</td>\n",
       "      <td>yes</td>\n",
       "      <td>southwest</td>\n",
       "      <td>16884.92400</td>\n",
       "    </tr>\n",
       "    <tr>\n",
       "      <th>1</th>\n",
       "      <td>18</td>\n",
       "      <td>male</td>\n",
       "      <td>33.770</td>\n",
       "      <td>1</td>\n",
       "      <td>no</td>\n",
       "      <td>southeast</td>\n",
       "      <td>1725.55230</td>\n",
       "    </tr>\n",
       "    <tr>\n",
       "      <th>2</th>\n",
       "      <td>28</td>\n",
       "      <td>male</td>\n",
       "      <td>33.000</td>\n",
       "      <td>3</td>\n",
       "      <td>no</td>\n",
       "      <td>southeast</td>\n",
       "      <td>4449.46200</td>\n",
       "    </tr>\n",
       "    <tr>\n",
       "      <th>3</th>\n",
       "      <td>33</td>\n",
       "      <td>male</td>\n",
       "      <td>22.705</td>\n",
       "      <td>0</td>\n",
       "      <td>no</td>\n",
       "      <td>northwest</td>\n",
       "      <td>21984.47061</td>\n",
       "    </tr>\n",
       "    <tr>\n",
       "      <th>4</th>\n",
       "      <td>32</td>\n",
       "      <td>male</td>\n",
       "      <td>28.880</td>\n",
       "      <td>0</td>\n",
       "      <td>no</td>\n",
       "      <td>northwest</td>\n",
       "      <td>3866.85520</td>\n",
       "    </tr>\n",
       "  </tbody>\n",
       "</table>\n",
       "</div>"
      ],
      "text/plain": [
       "   age     sex     bmi  children smoker     region      charges\n",
       "0   19  female  27.900         0    yes  southwest  16884.92400\n",
       "1   18    male  33.770         1     no  southeast   1725.55230\n",
       "2   28    male  33.000         3     no  southeast   4449.46200\n",
       "3   33    male  22.705         0     no  northwest  21984.47061\n",
       "4   32    male  28.880         0     no  northwest   3866.85520"
      ]
     },
     "execution_count": 20,
     "metadata": {},
     "output_type": "execute_result"
    }
   ],
   "source": [
    "import pandas as pd\n",
    "import matplotlib.pyplot as plt\n",
    "import tensorflow as tf\n",
    "\n",
    "# Read in the insurance dataset\n",
    "insurance = pd.read_csv(\"insurance.csv\")\n",
    "insurance.head()"
   ]
  },
  {
   "cell_type": "code",
   "execution_count": 16,
   "id": "d29a9514",
   "metadata": {},
   "outputs": [
    {
     "data": {
      "text/plain": [
       "<Axes: ylabel='Frequency'>"
      ]
     },
     "execution_count": 16,
     "metadata": {},
     "output_type": "execute_result"
    },
    {
     "data": {
      "image/png": "[encoded data removed]",
      "text/plain": [
       "<Figure size 640x480 with 1 Axes>"
      ]
     },
     "metadata": {},
     "output_type": "display_data"
    }
   ],
   "source": [
    "X[\"age\"].plot(kind=\"hist\")"
   ]
  },
  {
   "cell_type": "code",
   "execution_count": 19,
   "id": "9c4a571c",
   "metadata": {},
   "outputs": [
    {
     "data": {
      "text/plain": [
       "<Axes: ylabel='Frequency'>"
      ]
     },
     "execution_count": 19,
     "metadata": {},
     "output_type": "execute_result"
    },
    {
     "data": {
      "image/png": "[encoded data removed]",
      "text/plain": [
       "<Figure size 640x480 with 1 Axes>"
      ]
     },
     "metadata": {},
     "output_type": "display_data"
    }
   ],
   "source": [
    "X[\"bmi\"].plot(kind=\"hist\")"
   ]
  },
  {
   "cell_type": "code",
   "execution_count": 18,
   "id": "1a1031c0",
   "metadata": {},
   "outputs": [
    {
     "data": {
      "text/plain": [
       "children\n",
       "0    574\n",
       "1    324\n",
       "2    240\n",
       "3    157\n",
       "4     25\n",
       "5     18\n",
       "Name: count, dtype: int64"
      ]
     },
     "execution_count": 18,
     "metadata": {},
     "output_type": "execute_result"
    }
   ],
   "source": [
    "X[\"children\"].value_counts()"
   ]
  },
  {
   "cell_type": "markdown",
   "id": "5f431a2c",
   "metadata": {},
   "source": [
    "To prepare our data, we can borrow a few classes from Scikit-learn."
   ]
  },
  {
   "cell_type": "code",
   "execution_count": 23,
   "id": "8d0d61b8",
   "metadata": {},
   "outputs": [],
   "source": [
    "from sklearn.compose import make_column_transformer\n",
    "from sklearn.preprocessing import MinMaxScaler, OneHotEncoder\n",
    "from sklearn.model_selection import train_test_split\n",
    "\n",
    "# Create a colummn transformer\n",
    "ct = make_column_transformer(\n",
    "    (MinMaxScaler(), [\"age\", \"bmi\", \"children\"]),\n",
    "    (OneHotEncoder(handle_unknown=\"ignore\"), [\"sex\", \"smoker\", \"region\"])\n",
    ")\n",
    "\n",
    "# Create X and y\n",
    "X = insurance.drop(\"charges\", axis=1)\n",
    "y = insurance[\"charges\"]\n",
    "\n",
    "# Build our train and test sets\n",
    "X_train, X_test, y_train, y_test = train_test_split(X, y, test_size=0.2, random_state=42)\n",
    "\n",
    "# Fit the column transformer to our training data\n",
    "ct.fit(X_train)\n",
    "\n",
    "# Transform training and test data with normalization (MinMaxScaler) and OneHotEncoder\n",
    "X_train_normal = ct.transform(X_train)\n",
    "X_test_normal = ct.transform(X_test)"
   ]
  },
  {
   "cell_type": "code",
   "execution_count": 27,
   "id": "853f2df5",
   "metadata": {},
   "outputs": [
    {
     "data": {
      "text/plain": [
       "array([0.60869565, 0.10734463, 0.4       , 1.        , 0.        ,\n",
       "       1.        , 0.        , 0.        , 1.        , 0.        ,\n",
       "       0.        ])"
      ]
     },
     "execution_count": 27,
     "metadata": {},
     "output_type": "execute_result"
    }
   ],
   "source": [
    "# What does our data look like now?\n",
    "X_train_normal[0]"
   ]
  },
  {
   "cell_type": "code",
   "execution_count": 28,
   "id": "99266806",
   "metadata": {},
   "outputs": [
    {
     "data": {
      "text/plain": [
       "age                19\n",
       "sex            female\n",
       "bmi              27.9\n",
       "children            0\n",
       "smoker            yes\n",
       "region      southwest\n",
       "Name: 0, dtype: object"
      ]
     },
     "execution_count": 28,
     "metadata": {},
     "output_type": "execute_result"
    }
   ],
   "source": [
    "X_train.loc[0]"
   ]
  },
  {
   "cell_type": "code",
   "execution_count": 29,
   "id": "d6e0e3b6",
   "metadata": {},
   "outputs": [
    {
     "data": {
      "text/plain": [
       "((1070, 6), (1070, 11))"
      ]
     },
     "execution_count": 29,
     "metadata": {},
     "output_type": "execute_result"
    }
   ],
   "source": [
    "X_train.shape, X_train_normal.shape"
   ]
  },
  {
   "cell_type": "markdown",
   "id": "8943e7e4",
   "metadata": {},
   "source": [
    "Beautiful! Our data has been normalized and one hot encoded. Now let's build a neural network model on it and see how it goes."
   ]
  },
  {
   "cell_type": "code",
   "execution_count": 30,
   "id": "112a6847",
   "metadata": {},
   "outputs": [
    {
     "name": "stdout",
     "output_type": "stream",
     "text": [
      "Epoch 1/100\n",
      "34/34 [==============================] - 0s 3ms/step - loss: 13344.5059 - mae: 13344.5059\n",
      "Epoch 2/100\n",
      "34/34 [==============================] - 0s 3ms/step - loss: 13337.9062 - mae: 13337.9062\n",
      "Epoch 3/100\n",
      "34/34 [==============================] - 0s 3ms/step - loss: 13320.5127 - mae: 13320.5127\n",
      "Epoch 4/100\n",
      "34/34 [==============================] - 0s 3ms/step - loss: 13282.8682 - mae: 13282.8682\n",
      "Epoch 5/100\n",
      "34/34 [==============================] - 0s 3ms/step - loss: 13214.3809 - mae: 13214.3809\n",
      "Epoch 6/100\n",
      "34/34 [==============================] - 0s 3ms/step - loss: 13103.7207 - mae: 13103.7207\n",
      "Epoch 7/100\n",
      "34/34 [==============================] - 0s 3ms/step - loss: 12940.0938 - mae: 12940.0938\n",
      "Epoch 8/100\n",
      "34/34 [==============================] - 0s 3ms/step - loss: 12713.1055 - mae: 12713.1055\n",
      "Epoch 9/100\n",
      "34/34 [==============================] - 0s 3ms/step - loss: 12412.3770 - mae: 12412.3770\n",
      "Epoch 10/100\n",
      "34/34 [==============================] - 0s 3ms/step - loss: 12030.9717 - mae: 12030.9717\n",
      "Epoch 11/100\n",
      "34/34 [==============================] - 0s 3ms/step - loss: 11574.6729 - mae: 11574.6729\n",
      "Epoch 12/100\n",
      "34/34 [==============================] - 0s 3ms/step - loss: 11068.6602 - mae: 11068.6602\n",
      "Epoch 13/100\n",
      "34/34 [==============================] - 0s 4ms/step - loss: 10564.9512 - mae: 10564.9512\n",
      "Epoch 14/100\n",
      "34/34 [==============================] - 0s 4ms/step - loss: 10064.3027 - mae: 10064.3027\n",
      "Epoch 15/100\n",
      "34/34 [==============================] - 0s 5ms/step - loss: 9586.8877 - mae: 9586.8877\n",
      "Epoch 16/100\n",
      "34/34 [==============================] - 0s 3ms/step - loss: 9153.0186 - mae: 9153.0186\n",
      "Epoch 17/100\n",
      "34/34 [==============================] - 0s 3ms/step - loss: 8787.8809 - mae: 8787.8809\n",
      "Epoch 18/100\n",
      "34/34 [==============================] - 0s 2ms/step - loss: 8493.2266 - mae: 8493.2266\n",
      "Epoch 19/100\n",
      "34/34 [==============================] - 0s 3ms/step - loss: 8263.8809 - mae: 8263.8809\n",
      "Epoch 20/100\n",
      "34/34 [==============================] - 0s 3ms/step - loss: 8107.1904 - mae: 8107.1904\n",
      "Epoch 21/100\n",
      "34/34 [==============================] - 0s 3ms/step - loss: 7990.8945 - mae: 7990.8945\n",
      "Epoch 22/100\n",
      "34/34 [==============================] - 0s 2ms/step - loss: 7911.5786 - mae: 7911.5786\n",
      "Epoch 23/100\n",
      "34/34 [==============================] - 0s 2ms/step - loss: 7850.1431 - mae: 7850.1431\n",
      "Epoch 24/100\n",
      "34/34 [==============================] - 0s 3ms/step - loss: 7796.8677 - mae: 7796.8677\n",
      "Epoch 25/100\n",
      "34/34 [==============================] - 0s 3ms/step - loss: 7758.3716 - mae: 7758.3716\n",
      "Epoch 26/100\n",
      "34/34 [==============================] - 0s 2ms/step - loss: 7707.1675 - mae: 7707.1675\n",
      "Epoch 27/100\n",
      "34/34 [==============================] - 0s 3ms/step - loss: 7665.6040 - mae: 7665.6040\n",
      "Epoch 28/100\n",
      "34/34 [==============================] - 0s 2ms/step - loss: 7623.9541 - mae: 7623.9541\n",
      "Epoch 29/100\n",
      "34/34 [==============================] - 0s 2ms/step - loss: 7581.9077 - mae: 7581.9077\n",
      "Epoch 30/100\n",
      "34/34 [==============================] - 0s 3ms/step - loss: 7539.3359 - mae: 7539.3359\n",
      "Epoch 31/100\n",
      "34/34 [==============================] - 0s 2ms/step - loss: 7496.5566 - mae: 7496.5566\n",
      "Epoch 32/100\n",
      "34/34 [==============================] - 0s 2ms/step - loss: 7453.6606 - mae: 7453.6606\n",
      "Epoch 33/100\n",
      "34/34 [==============================] - 0s 2ms/step - loss: 7410.8247 - mae: 7410.8247\n",
      "Epoch 34/100\n",
      "34/34 [==============================] - 0s 2ms/step - loss: 7363.8687 - mae: 7363.8687\n",
      "Epoch 35/100\n",
      "34/34 [==============================] - 0s 4ms/step - loss: 7318.6284 - mae: 7318.6284\n",
      "Epoch 36/100\n",
      "34/34 [==============================] - 0s 3ms/step - loss: 7270.1416 - mae: 7270.1416\n",
      "Epoch 37/100\n",
      "34/34 [==============================] - 0s 3ms/step - loss: 7221.6626 - mae: 7221.6626\n",
      "Epoch 38/100\n",
      "34/34 [==============================] - 0s 3ms/step - loss: 7172.3286 - mae: 7172.3286\n",
      "Epoch 39/100\n",
      "34/34 [==============================] - 0s 2ms/step - loss: 7119.3228 - mae: 7119.3228\n",
      "Epoch 40/100\n",
      "34/34 [==============================] - 0s 3ms/step - loss: 7065.8804 - mae: 7065.8804\n",
      "Epoch 41/100\n",
      "34/34 [==============================] - 0s 2ms/step - loss: 7011.5410 - mae: 7011.5410\n",
      "Epoch 42/100\n",
      "34/34 [==============================] - 0s 3ms/step - loss: 6954.5127 - mae: 6954.5127\n",
      "Epoch 43/100\n",
      "34/34 [==============================] - 0s 3ms/step - loss: 6894.3208 - mae: 6894.3208\n",
      "Epoch 44/100\n",
      "34/34 [==============================] - 0s 2ms/step - loss: 6830.6660 - mae: 6830.6660\n",
      "Epoch 45/100\n",
      "34/34 [==============================] - 0s 3ms/step - loss: 6766.2773 - mae: 6766.2773\n",
      "Epoch 46/100\n",
      "34/34 [==============================] - 0s 2ms/step - loss: 6700.3398 - mae: 6700.3398\n",
      "Epoch 47/100\n",
      "34/34 [==============================] - 0s 2ms/step - loss: 6632.5981 - mae: 6632.5981\n",
      "Epoch 48/100\n",
      "34/34 [==============================] - 0s 3ms/step - loss: 6556.9980 - mae: 6556.9980\n",
      "Epoch 49/100\n",
      "34/34 [==============================] - 0s 2ms/step - loss: 6481.8135 - mae: 6481.8135\n",
      "Epoch 50/100\n",
      "34/34 [==============================] - 0s 2ms/step - loss: 6399.6958 - mae: 6399.6958\n",
      "Epoch 51/100\n",
      "34/34 [==============================] - 0s 2ms/step - loss: 6319.7070 - mae: 6319.7070\n",
      "Epoch 52/100\n",
      "34/34 [==============================] - 0s 2ms/step - loss: 6230.7124 - mae: 6230.7124\n",
      "Epoch 53/100\n",
      "34/34 [==============================] - 0s 2ms/step - loss: 6139.2080 - mae: 6139.2080\n",
      "Epoch 54/100\n",
      "34/34 [==============================] - 0s 2ms/step - loss: 6045.4287 - mae: 6045.4287\n",
      "Epoch 55/100\n",
      "34/34 [==============================] - 0s 3ms/step - loss: 5943.5835 - mae: 5943.5835\n",
      "Epoch 56/100\n",
      "34/34 [==============================] - 0s 2ms/step - loss: 5840.5063 - mae: 5840.5063\n",
      "Epoch 57/100\n",
      "34/34 [==============================] - 0s 3ms/step - loss: 5729.9365 - mae: 5729.9365\n",
      "Epoch 58/100\n",
      "34/34 [==============================] - 0s 3ms/step - loss: 5614.9639 - mae: 5614.9639\n",
      "Epoch 59/100\n",
      "34/34 [==============================] - 0s 3ms/step - loss: 5501.0796 - mae: 5501.0796\n",
      "Epoch 60/100\n",
      "34/34 [==============================] - 0s 3ms/step - loss: 5384.8242 - mae: 5384.8242\n",
      "Epoch 61/100\n",
      "34/34 [==============================] - 0s 2ms/step - loss: 5261.5288 - mae: 5261.5293\n",
      "Epoch 62/100\n",
      "34/34 [==============================] - 0s 3ms/step - loss: 5138.5488 - mae: 5138.5488\n",
      "Epoch 63/100\n",
      "34/34 [==============================] - 0s 4ms/step - loss: 5013.8750 - mae: 5013.8750\n",
      "Epoch 64/100\n",
      "34/34 [==============================] - 0s 4ms/step - loss: 4884.2656 - mae: 4884.2656\n",
      "Epoch 65/100\n",
      "34/34 [==============================] - 0s 3ms/step - loss: 4757.6016 - mae: 4757.6016\n",
      "Epoch 66/100\n",
      "34/34 [==============================] - 0s 2ms/step - loss: 4628.4731 - mae: 4628.4731\n",
      "Epoch 67/100\n",
      "34/34 [==============================] - 0s 2ms/step - loss: 4510.9868 - mae: 4510.9868\n",
      "Epoch 68/100\n",
      "34/34 [==============================] - 0s 3ms/step - loss: 4399.3521 - mae: 4399.3521\n",
      "Epoch 69/100\n",
      "34/34 [==============================] - 0s 2ms/step - loss: 4294.4683 - mae: 4294.4683\n",
      "Epoch 70/100\n",
      "34/34 [==============================] - 0s 2ms/step - loss: 4196.2637 - mae: 4196.2637\n",
      "Epoch 71/100\n",
      "34/34 [==============================] - 0s 3ms/step - loss: 4103.2290 - mae: 4103.2290\n",
      "Epoch 72/100\n",
      "34/34 [==============================] - 0s 2ms/step - loss: 4018.3987 - mae: 4018.3987\n",
      "Epoch 73/100\n",
      "34/34 [==============================] - 0s 2ms/step - loss: 3942.3467 - mae: 3942.3467\n",
      "Epoch 74/100\n",
      "34/34 [==============================] - 0s 3ms/step - loss: 3876.4160 - mae: 3876.4160\n",
      "Epoch 75/100\n",
      "34/34 [==============================] - 0s 2ms/step - loss: 3826.0583 - mae: 3826.0583\n",
      "Epoch 76/100\n",
      "34/34 [==============================] - 0s 4ms/step - loss: 3784.1438 - mae: 3784.1438\n",
      "Epoch 77/100\n",
      "34/34 [==============================] - 0s 3ms/step - loss: 3749.8108 - mae: 3749.8108\n",
      "Epoch 78/100\n",
      "34/34 [==============================] - 0s 3ms/step - loss: 3725.1360 - mae: 3725.1360\n",
      "Epoch 79/100\n",
      "34/34 [==============================] - 0s 2ms/step - loss: 3706.4280 - mae: 3706.4280\n",
      "Epoch 80/100\n",
      "34/34 [==============================] - 0s 3ms/step - loss: 3693.4121 - mae: 3693.4121\n",
      "Epoch 81/100\n",
      "34/34 [==============================] - 0s 2ms/step - loss: 3684.4204 - mae: 3684.4204\n",
      "Epoch 82/100\n",
      "34/34 [==============================] - 0s 2ms/step - loss: 3678.9958 - mae: 3678.9958\n",
      "Epoch 83/100\n",
      "34/34 [==============================] - 0s 2ms/step - loss: 3671.3188 - mae: 3671.3188\n",
      "Epoch 84/100\n",
      "34/34 [==============================] - 0s 2ms/step - loss: 3667.5342 - mae: 3667.5342\n",
      "Epoch 85/100\n",
      "34/34 [==============================] - 0s 3ms/step - loss: 3664.8420 - mae: 3664.8420\n",
      "Epoch 86/100\n",
      "34/34 [==============================] - 0s 3ms/step - loss: 3661.8645 - mae: 3661.8645\n",
      "Epoch 87/100\n",
      "34/34 [==============================] - 0s 3ms/step - loss: 3658.9368 - mae: 3658.9368\n",
      "Epoch 88/100\n",
      "34/34 [==============================] - 0s 3ms/step - loss: 3656.1057 - mae: 3656.1057\n",
      "Epoch 89/100\n",
      "34/34 [==============================] - 0s 6ms/step - loss: 3654.1897 - mae: 3654.1897\n",
      "Epoch 90/100\n",
      "34/34 [==============================] - 0s 4ms/step - loss: 3652.5186 - mae: 3652.5186\n",
      "Epoch 91/100\n",
      "34/34 [==============================] - 0s 3ms/step - loss: 3649.7212 - mae: 3649.7212\n",
      "Epoch 92/100\n",
      "34/34 [==============================] - 0s 3ms/step - loss: 3648.9236 - mae: 3648.9236\n",
      "Epoch 93/100\n",
      "34/34 [==============================] - 0s 2ms/step - loss: 3646.8293 - mae: 3646.8293\n",
      "Epoch 94/100\n",
      "34/34 [==============================] - 0s 2ms/step - loss: 3645.0171 - mae: 3645.0171\n",
      "Epoch 95/100\n",
      "34/34 [==============================] - 0s 2ms/step - loss: 3645.9873 - mae: 3645.9873\n",
      "Epoch 96/100\n",
      "34/34 [==============================] - 0s 3ms/step - loss: 3642.8994 - mae: 3642.8994\n",
      "Epoch 97/100\n",
      "34/34 [==============================] - 0s 2ms/step - loss: 3640.5845 - mae: 3640.5845\n",
      "Epoch 98/100\n",
      "34/34 [==============================] - 0s 3ms/step - loss: 3638.5562 - mae: 3638.5562\n",
      "Epoch 99/100\n",
      "34/34 [==============================] - 0s 2ms/step - loss: 3638.1670 - mae: 3638.1670\n",
      "Epoch 100/100\n",
      "34/34 [==============================] - 0s 2ms/step - loss: 3636.3799 - mae: 3636.3799\n"
     ]
    },
    {
     "data": {
      "text/plain": [
       "<keras.callbacks.History at 0x1c3be22a200>"
      ]
     },
     "execution_count": 30,
     "metadata": {},
     "output_type": "execute_result"
    }
   ],
   "source": [
    "# Build a neural network model to fit on our normalized data\n",
    "tf.random.set_seed(42)\n",
    "\n",
    "# 1. Create the model\n",
    "insurance_model_normal = tf.keras.Sequential([\n",
    "    tf.keras.layers.Dense(100),\n",
    "    tf.keras.layers.Dense(10),\n",
    "    tf.keras.layers.Dense(1)\n",
    "])\n",
    "\n",
    "# 2. Compile the model\n",
    "insurance_model_normal.compile(loss=tf.keras.losses.mae,\n",
    "                               optimizer=tf.keras.optimizers.Adam(),\n",
    "                               metrics=[\"mae\"])\n",
    "\n",
    "# 3. Fit the model\n",
    "insurance_model_normal.fit(X_train_normal, y_train, epochs=100)"
   ]
  },
  {
   "cell_type": "code",
   "execution_count": 31,
   "id": "ed9f2c61",
   "metadata": {},
   "outputs": [
    {
     "name": "stdout",
     "output_type": "stream",
     "text": [
      "9/9 [==============================] - 0s 2ms/step - loss: 3440.3823 - mae: 3440.3823\n"
     ]
    },
    {
     "data": {
      "text/plain": [
       "[3440.38232421875, 3440.38232421875]"
      ]
     },
     "execution_count": 31,
     "metadata": {},
     "output_type": "execute_result"
    }
   ],
   "source": [
    "# Evaluate our insurance model trained on normalized data\n",
    "insurance_model_normal.evaluate(X_test_normal, y_test)"
   ]
  }
 ],
 "metadata": {
  "kernelspec": {
   "display_name": "tf",
   "language": "python",
   "name": "python3"
  },
  "language_info": {
   "codemirror_mode": {
    "name": "ipython",
    "version": 3
   },
   "file_extension": ".py",
   "mimetype": "text/x-python",
   "name": "python",
   "nbconvert_exporter": "python",
   "pygments_lexer": "ipython3",
   "version": "3.10.17"
  }
 },
 "nbformat": 4,
 "nbformat_minor": 5
}

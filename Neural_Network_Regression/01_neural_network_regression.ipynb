{
 "cells": [
  {
   "cell_type": "markdown",
   "id": "18a62888",
   "metadata": {},
   "source": [
    "# Introduction to Regression with Neural Networks in TensorFlow\n",
    "\n",
    "There are many definitions for a regression problem but in our case, we're going to simplify it: predicting a numerical variable based on some other combination of variables, even shorter... predicting a number."
   ]
  },
  {
   "cell_type": "code",
   "execution_count": 1,
   "id": "f794fc8a",
   "metadata": {},
   "outputs": [
    {
     "name": "stdout",
     "output_type": "stream",
     "text": [
      "2.10.0\n"
     ]
    }
   ],
   "source": [
    "import tensorflow as tf\n",
    "print(tf.__version__)"
   ]
  },
  {
   "cell_type": "markdown",
   "id": "4dd4686d",
   "metadata": {},
   "source": [
    "## Creating some data to view and fit"
   ]
  },
  {
   "cell_type": "code",
   "execution_count": 2,
   "id": "9930a154",
   "metadata": {},
   "outputs": [
    {
     "data": {
      "text/plain": [
       "<matplotlib.collections.PathCollection at 0x1b0e326d330>"
      ]
     },
     "execution_count": 2,
     "metadata": {},
     "output_type": "execute_result"
    },
    {
     "data": {
      "image/png": "[encoded data removed]",
      "text/plain": [
       "<Figure size 640x480 with 1 Axes>"
      ]
     },
     "metadata": {},
     "output_type": "display_data"
    }
   ],
   "source": [
    "import numpy as np\n",
    "import matplotlib.pyplot as plt\n",
    "\n",
    "# Create features\n",
    "X = np.array([-7.0, -4.0, -1.0, 2.0, 5.0, 8.0, 11.0, 14.0])\n",
    "\n",
    "# Create labels\n",
    "y = np.array([3.0, 6.0, 9.0, 12.0, 15.0, 18.0, 21.0, 24.0])\n",
    "\n",
    "# Visualize it\n",
    "plt.scatter(X, y)"
   ]
  },
  {
   "cell_type": "code",
   "execution_count": 3,
   "id": "887fa702",
   "metadata": {},
   "outputs": [
    {
     "data": {
      "text/plain": [
       "array([ True,  True,  True,  True,  True,  True,  True,  True])"
      ]
     },
     "execution_count": 3,
     "metadata": {},
     "output_type": "execute_result"
    }
   ],
   "source": [
    "# Relationship that have to learn our neural network\n",
    "y == X + 10"
   ]
  },
  {
   "cell_type": "markdown",
   "id": "b6785646",
   "metadata": {},
   "source": [
    "## Input and output shapes"
   ]
  },
  {
   "cell_type": "code",
   "execution_count": 4,
   "id": "5e57f711",
   "metadata": {},
   "outputs": [
    {
     "data": {
      "text/plain": [
       "(<tf.Tensor: shape=(3,), dtype=string, numpy=array([b'bedroom', b'bathroom', b'garage'], dtype=object)>,\n",
       " <tf.Tensor: shape=(1,), dtype=int32, numpy=array([939700])>)"
      ]
     },
     "execution_count": 4,
     "metadata": {},
     "output_type": "execute_result"
    }
   ],
   "source": [
    "# Create a demo tensor for our housing price prediction problem\n",
    "house_info = tf.constant([\"bedroom\", \"bathroom\", \"garage\"])\n",
    "house_price = tf.constant([939700])\n",
    "house_info, house_price"
   ]
  },
  {
   "cell_type": "code",
   "execution_count": 5,
   "id": "80922cd2",
   "metadata": {},
   "outputs": [
    {
     "data": {
      "text/plain": [
       "((), ())"
      ]
     },
     "execution_count": 5,
     "metadata": {},
     "output_type": "execute_result"
    }
   ],
   "source": [
    "input_shape = X[0].shape\n",
    "output_shape = y[0].shape\n",
    "input_shape, output_shape"
   ]
  },
  {
   "cell_type": "code",
   "execution_count": 6,
   "id": "7361e0e2",
   "metadata": {},
   "outputs": [
    {
     "data": {
      "text/plain": [
       "(<tf.Tensor: shape=(8,), dtype=float64, numpy=array([-7., -4., -1.,  2.,  5.,  8., 11., 14.])>,\n",
       " <tf.Tensor: shape=(8,), dtype=float64, numpy=array([ 3.,  6.,  9., 12., 15., 18., 21., 24.])>)"
      ]
     },
     "execution_count": 6,
     "metadata": {},
     "output_type": "execute_result"
    }
   ],
   "source": [
    "# Turn our NumPy arrays into tensors\n",
    "X = tf.constant(X)\n",
    "y = tf.constant(y)\n",
    "X, y"
   ]
  },
  {
   "cell_type": "code",
   "execution_count": 7,
   "id": "41e192dd",
   "metadata": {},
   "outputs": [
    {
     "data": {
      "text/plain": [
       "(TensorShape([]), TensorShape([]))"
      ]
     },
     "execution_count": 7,
     "metadata": {},
     "output_type": "execute_result"
    }
   ],
   "source": [
    "input_shape = X[0].shape\n",
    "output_shape = y[0].shape\n",
    "input_shape, output_shape"
   ]
  },
  {
   "cell_type": "markdown",
   "id": "5e45dd1f",
   "metadata": {},
   "source": [
    "## Steps in modelling with TensorFlow\n",
    "\n",
    "1. **Creating a model** - define the input and output layers, as well as the hidden layers of a deep learning model.\n",
    "2. **Compiling a model** - define the loss function (in other words, the function which tells our model how wrong it is) and the optimizer (tells out model how to improve the patterns its learning) and evaluation metrics (what we can use to interpret the performances of our model).\n",
    "3. **Fitting a model** - letting the model try to find patterns between X and y (features and labels)."
   ]
  },
  {
   "cell_type": "code",
   "execution_count": 8,
   "id": "bf114dbc",
   "metadata": {},
   "outputs": [
    {
     "name": "stdout",
     "output_type": "stream",
     "text": [
      "Epoch 1/5\n",
      "1/1 [==============================] - 1s 953ms/step - loss: 11.8820 - mae: 11.8820\n",
      "Epoch 2/5\n",
      "1/1 [==============================] - 0s 4ms/step - loss: 11.7495 - mae: 11.7495\n",
      "Epoch 3/5\n",
      "1/1 [==============================] - 0s 3ms/step - loss: 11.6170 - mae: 11.6170\n",
      "Epoch 4/5\n",
      "1/1 [==============================] - 0s 4ms/step - loss: 11.4845 - mae: 11.4845\n",
      "Epoch 5/5\n",
      "1/1 [==============================] - 0s 3ms/step - loss: 11.3520 - mae: 11.3520\n"
     ]
    },
    {
     "data": {
      "text/plain": [
       "<keras.callbacks.History at 0x1b08f5da5c0>"
      ]
     },
     "execution_count": 8,
     "metadata": {},
     "output_type": "execute_result"
    }
   ],
   "source": [
    "# Set random seed\n",
    "tf.random.set_seed(42)\n",
    "\n",
    "# 1. Create the model using the Sequential API\n",
    "model = tf.keras.Sequential([\n",
    "    tf.keras.layers.Dense(1)\n",
    "])\n",
    "\n",
    "# 2. Compile the model\n",
    "model.compile(loss=tf.keras.losses.mae,\n",
    "              optimizer=tf.keras.optimizers.SGD(),\n",
    "              metrics=[\"mae\"])\n",
    "\n",
    "# 3. Fit the model\n",
    "model.fit(tf.expand_dims(X, axis=-1), y, epochs=5)"
   ]
  },
  {
   "cell_type": "code",
   "execution_count": 9,
   "id": "204335d1",
   "metadata": {},
   "outputs": [
    {
     "data": {
      "text/plain": [
       "(<tf.Tensor: shape=(8,), dtype=float64, numpy=array([-7., -4., -1.,  2.,  5.,  8., 11., 14.])>,\n",
       " <tf.Tensor: shape=(8,), dtype=float64, numpy=array([ 3.,  6.,  9., 12., 15., 18., 21., 24.])>)"
      ]
     },
     "execution_count": 9,
     "metadata": {},
     "output_type": "execute_result"
    }
   ],
   "source": [
    "# Check out X and y\n",
    "X, y"
   ]
  },
  {
   "cell_type": "code",
   "execution_count": 10,
   "id": "3c94f08c",
   "metadata": {},
   "outputs": [
    {
     "name": "stdout",
     "output_type": "stream",
     "text": [
      "1/1 [==============================] - 0s 70ms/step\n"
     ]
    },
    {
     "data": {
      "text/plain": [
       "array([[10.883723]], dtype=float32)"
      ]
     },
     "execution_count": 10,
     "metadata": {},
     "output_type": "execute_result"
    }
   ],
   "source": [
    "# Try and make a prediction using our model\n",
    "y_pred = model.predict([17])\n",
    "y_pred"
   ]
  },
  {
   "cell_type": "markdown",
   "id": "f1cc3cf7",
   "metadata": {},
   "source": [
    "## Improve our model\n",
    "\n",
    "We can improve our model by altering the steps we took to create a model.\n",
    "\n",
    "1. **Creating a model** - here we might add more layers, increase the number of hidden units (also called neurons) within each of the hidden layers, change the activation function of each layer.\n",
    "2. **Compiling a model** - here we might change the optimization function or perhaps the **learning rate** of the optimization function.\n",
    "3. **Fitting model** - here we might fit a model for more **epochs** (leave it training for longer) or on more data (give the model more examples to learn from)."
   ]
  },
  {
   "cell_type": "code",
   "execution_count": 11,
   "id": "7363914c",
   "metadata": {},
   "outputs": [
    {
     "name": "stdout",
     "output_type": "stream",
     "text": [
      "Epoch 1/100\n",
      "1/1 [==============================] - 0s 182ms/step - loss: 17.0789 - mae: 17.0789\n",
      "Epoch 2/100\n",
      "1/1 [==============================] - 0s 2ms/step - loss: 16.7976 - mae: 16.7976\n",
      "Epoch 3/100\n",
      "1/1 [==============================] - 0s 4ms/step - loss: 16.5164 - mae: 16.5164\n",
      "Epoch 4/100\n",
      "1/1 [==============================] - 0s 2ms/step - loss: 16.2351 - mae: 16.2351\n",
      "Epoch 5/100\n",
      "1/1 [==============================] - 0s 2ms/step - loss: 15.9539 - mae: 15.9539\n",
      "Epoch 6/100\n",
      "1/1 [==============================] - 0s 3ms/step - loss: 15.6726 - mae: 15.6726\n",
      "Epoch 7/100\n",
      "1/1 [==============================] - 0s 3ms/step - loss: 15.3914 - mae: 15.3914\n",
      "Epoch 8/100\n",
      "1/1 [==============================] - 0s 3ms/step - loss: 15.1101 - mae: 15.1101\n",
      "Epoch 9/100\n",
      "1/1 [==============================] - 0s 3ms/step - loss: 14.8559 - mae: 14.8559\n",
      "Epoch 10/100\n",
      "1/1 [==============================] - 0s 3ms/step - loss: 14.7234 - mae: 14.7234\n",
      "Epoch 11/100\n",
      "1/1 [==============================] - 0s 3ms/step - loss: 14.5909 - mae: 14.5909\n",
      "Epoch 12/100\n",
      "1/1 [==============================] - 0s 3ms/step - loss: 14.4584 - mae: 14.4584\n",
      "Epoch 13/100\n",
      "1/1 [==============================] - 0s 3ms/step - loss: 14.3259 - mae: 14.3259\n",
      "Epoch 14/100\n",
      "1/1 [==============================] - 0s 3ms/step - loss: 14.1934 - mae: 14.1934\n",
      "Epoch 15/100\n",
      "1/1 [==============================] - 0s 2ms/step - loss: 14.0609 - mae: 14.0609\n",
      "Epoch 16/100\n",
      "1/1 [==============================] - 0s 3ms/step - loss: 13.9284 - mae: 13.9284\n",
      "Epoch 17/100\n",
      "1/1 [==============================] - 0s 3ms/step - loss: 13.7959 - mae: 13.7959\n",
      "Epoch 18/100\n",
      "1/1 [==============================] - 0s 2ms/step - loss: 13.6634 - mae: 13.6634\n",
      "Epoch 19/100\n",
      "1/1 [==============================] - 0s 3ms/step - loss: 13.5309 - mae: 13.5309\n",
      "Epoch 20/100\n",
      "1/1 [==============================] - 0s 3ms/step - loss: 13.3984 - mae: 13.3984\n",
      "Epoch 21/100\n",
      "1/1 [==============================] - 0s 2ms/step - loss: 13.2659 - mae: 13.2659\n",
      "Epoch 22/100\n",
      "1/1 [==============================] - 0s 3ms/step - loss: 13.1334 - mae: 13.1334\n",
      "Epoch 23/100\n",
      "1/1 [==============================] - 0s 3ms/step - loss: 13.0009 - mae: 13.0009\n",
      "Epoch 24/100\n",
      "1/1 [==============================] - 0s 3ms/step - loss: 12.8684 - mae: 12.8684\n",
      "Epoch 25/100\n",
      "1/1 [==============================] - 0s 4ms/step - loss: 12.7359 - mae: 12.7359\n",
      "Epoch 26/100\n",
      "1/1 [==============================] - 0s 4ms/step - loss: 12.6034 - mae: 12.6034\n",
      "Epoch 27/100\n",
      "1/1 [==============================] - 0s 3ms/step - loss: 12.4709 - mae: 12.4709\n",
      "Epoch 28/100\n",
      "1/1 [==============================] - 0s 2ms/step - loss: 12.3384 - mae: 12.3384\n",
      "Epoch 29/100\n",
      "1/1 [==============================] - 0s 2ms/step - loss: 12.2059 - mae: 12.2059\n",
      "Epoch 30/100\n",
      "1/1 [==============================] - 0s 3ms/step - loss: 12.0734 - mae: 12.0734\n",
      "Epoch 31/100\n",
      "1/1 [==============================] - 0s 2ms/step - loss: 11.9409 - mae: 11.9409\n",
      "Epoch 32/100\n",
      "1/1 [==============================] - 0s 3ms/step - loss: 11.8084 - mae: 11.8084\n",
      "Epoch 33/100\n",
      "1/1 [==============================] - 0s 2ms/step - loss: 11.6759 - mae: 11.6759\n",
      "Epoch 34/100\n",
      "1/1 [==============================] - 0s 4ms/step - loss: 11.5434 - mae: 11.5434\n",
      "Epoch 35/100\n",
      "1/1 [==============================] - 0s 3ms/step - loss: 11.4109 - mae: 11.4109\n",
      "Epoch 36/100\n",
      "1/1 [==============================] - 0s 3ms/step - loss: 11.2784 - mae: 11.2784\n",
      "Epoch 37/100\n",
      "1/1 [==============================] - 0s 4ms/step - loss: 11.1459 - mae: 11.1459\n",
      "Epoch 38/100\n",
      "1/1 [==============================] - 0s 2ms/step - loss: 11.0134 - mae: 11.0134\n",
      "Epoch 39/100\n",
      "1/1 [==============================] - 0s 8ms/step - loss: 10.8809 - mae: 10.8809\n",
      "Epoch 40/100\n",
      "1/1 [==============================] - 0s 5ms/step - loss: 10.7484 - mae: 10.7484\n",
      "Epoch 41/100\n",
      "1/1 [==============================] - 0s 5ms/step - loss: 10.6159 - mae: 10.6159\n",
      "Epoch 42/100\n",
      "1/1 [==============================] - 0s 4ms/step - loss: 10.4834 - mae: 10.4834\n",
      "Epoch 43/100\n",
      "1/1 [==============================] - 0s 3ms/step - loss: 10.3509 - mae: 10.3509\n",
      "Epoch 44/100\n",
      "1/1 [==============================] - 0s 3ms/step - loss: 10.2184 - mae: 10.2184\n",
      "Epoch 45/100\n",
      "1/1 [==============================] - 0s 4ms/step - loss: 10.0859 - mae: 10.0859\n",
      "Epoch 46/100\n",
      "1/1 [==============================] - 0s 2ms/step - loss: 9.9534 - mae: 9.9534\n",
      "Epoch 47/100\n",
      "1/1 [==============================] - 0s 2ms/step - loss: 9.8209 - mae: 9.8209\n",
      "Epoch 48/100\n",
      "1/1 [==============================] - 0s 2ms/step - loss: 9.6884 - mae: 9.6884\n",
      "Epoch 49/100\n",
      "1/1 [==============================] - 0s 3ms/step - loss: 9.5559 - mae: 9.5559\n",
      "Epoch 50/100\n",
      "1/1 [==============================] - 0s 3ms/step - loss: 9.4234 - mae: 9.4234\n",
      "Epoch 51/100\n",
      "1/1 [==============================] - 0s 3ms/step - loss: 9.2909 - mae: 9.2909\n",
      "Epoch 52/100\n",
      "1/1 [==============================] - 0s 3ms/step - loss: 9.1584 - mae: 9.1584\n",
      "Epoch 53/100\n",
      "1/1 [==============================] - 0s 3ms/step - loss: 9.0259 - mae: 9.0259\n",
      "Epoch 54/100\n",
      "1/1 [==============================] - 0s 3ms/step - loss: 8.8934 - mae: 8.8934\n",
      "Epoch 55/100\n",
      "1/1 [==============================] - 0s 3ms/step - loss: 8.7609 - mae: 8.7609\n",
      "Epoch 56/100\n",
      "1/1 [==============================] - 0s 3ms/step - loss: 8.6284 - mae: 8.6284\n",
      "Epoch 57/100\n",
      "1/1 [==============================] - 0s 2ms/step - loss: 8.4959 - mae: 8.4959\n",
      "Epoch 58/100\n",
      "1/1 [==============================] - 0s 3ms/step - loss: 8.3634 - mae: 8.3634\n",
      "Epoch 59/100\n",
      "1/1 [==============================] - 0s 3ms/step - loss: 8.2309 - mae: 8.2309\n",
      "Epoch 60/100\n",
      "1/1 [==============================] - 0s 2ms/step - loss: 8.0984 - mae: 8.0984\n",
      "Epoch 61/100\n",
      "1/1 [==============================] - 0s 3ms/step - loss: 7.9659 - mae: 7.9659\n",
      "Epoch 62/100\n",
      "1/1 [==============================] - 0s 2ms/step - loss: 7.8334 - mae: 7.8334\n",
      "Epoch 63/100\n",
      "1/1 [==============================] - 0s 3ms/step - loss: 7.7009 - mae: 7.7009\n",
      "Epoch 64/100\n",
      "1/1 [==============================] - 0s 3ms/step - loss: 7.5684 - mae: 7.5684\n",
      "Epoch 65/100\n",
      "1/1 [==============================] - 0s 3ms/step - loss: 7.4359 - mae: 7.4359\n",
      "Epoch 66/100\n",
      "1/1 [==============================] - 0s 3ms/step - loss: 7.3034 - mae: 7.3034\n",
      "Epoch 67/100\n",
      "1/1 [==============================] - 0s 4ms/step - loss: 7.1709 - mae: 7.1709\n",
      "Epoch 68/100\n",
      "1/1 [==============================] - 0s 3ms/step - loss: 7.0384 - mae: 7.0384\n",
      "Epoch 69/100\n",
      "1/1 [==============================] - 0s 4ms/step - loss: 7.0050 - mae: 7.0050\n",
      "Epoch 70/100\n",
      "1/1 [==============================] - 0s 3ms/step - loss: 6.9994 - mae: 6.9994\n",
      "Epoch 71/100\n",
      "1/1 [==============================] - 0s 2ms/step - loss: 6.9938 - mae: 6.9938\n",
      "Epoch 72/100\n",
      "1/1 [==============================] - 0s 4ms/step - loss: 6.9881 - mae: 6.9881\n",
      "Epoch 73/100\n",
      "1/1 [==============================] - 0s 4ms/step - loss: 6.9825 - mae: 6.9825\n",
      "Epoch 74/100\n",
      "1/1 [==============================] - 0s 2ms/step - loss: 6.9769 - mae: 6.9769\n",
      "Epoch 75/100\n",
      "1/1 [==============================] - 0s 2ms/step - loss: 6.9713 - mae: 6.9713\n",
      "Epoch 76/100\n",
      "1/1 [==============================] - 0s 2ms/step - loss: 6.9656 - mae: 6.9656\n",
      "Epoch 77/100\n",
      "1/1 [==============================] - 0s 3ms/step - loss: 6.9600 - mae: 6.9600\n",
      "Epoch 78/100\n",
      "1/1 [==============================] - 0s 8ms/step - loss: 6.9544 - mae: 6.9544\n",
      "Epoch 79/100\n",
      "1/1 [==============================] - 0s 7ms/step - loss: 6.9488 - mae: 6.9488\n",
      "Epoch 80/100\n",
      "1/1 [==============================] - 0s 10ms/step - loss: 6.9431 - mae: 6.9431\n",
      "Epoch 81/100\n",
      "1/1 [==============================] - 0s 5ms/step - loss: 6.9375 - mae: 6.9375\n",
      "Epoch 82/100\n",
      "1/1 [==============================] - 0s 3ms/step - loss: 6.9319 - mae: 6.9319\n",
      "Epoch 83/100\n",
      "1/1 [==============================] - 0s 4ms/step - loss: 6.9263 - mae: 6.9263\n",
      "Epoch 84/100\n",
      "1/1 [==============================] - 0s 4ms/step - loss: 6.9206 - mae: 6.9206\n",
      "Epoch 85/100\n",
      "1/1 [==============================] - 0s 3ms/step - loss: 6.9150 - mae: 6.9150\n",
      "Epoch 86/100\n",
      "1/1 [==============================] - 0s 4ms/step - loss: 6.9094 - mae: 6.9094\n",
      "Epoch 87/100\n",
      "1/1 [==============================] - 0s 3ms/step - loss: 6.9038 - mae: 6.9038\n",
      "Epoch 88/100\n",
      "1/1 [==============================] - 0s 3ms/step - loss: 6.8981 - mae: 6.8981\n",
      "Epoch 89/100\n",
      "1/1 [==============================] - 0s 3ms/step - loss: 6.8925 - mae: 6.8925\n",
      "Epoch 90/100\n",
      "1/1 [==============================] - 0s 3ms/step - loss: 6.8869 - mae: 6.8869\n",
      "Epoch 91/100\n",
      "1/1 [==============================] - 0s 3ms/step - loss: 6.8813 - mae: 6.8813\n",
      "Epoch 92/100\n",
      "1/1 [==============================] - 0s 5ms/step - loss: 6.8756 - mae: 6.8756\n",
      "Epoch 93/100\n",
      "1/1 [==============================] - 0s 5ms/step - loss: 6.8700 - mae: 6.8700\n",
      "Epoch 94/100\n",
      "1/1 [==============================] - 0s 8ms/step - loss: 6.8644 - mae: 6.8644\n",
      "Epoch 95/100\n",
      "1/1 [==============================] - 0s 4ms/step - loss: 6.8588 - mae: 6.8588\n",
      "Epoch 96/100\n",
      "1/1 [==============================] - 0s 3ms/step - loss: 6.8531 - mae: 6.8531\n",
      "Epoch 97/100\n",
      "1/1 [==============================] - 0s 4ms/step - loss: 6.8475 - mae: 6.8475\n",
      "Epoch 98/100\n",
      "1/1 [==============================] - 0s 3ms/step - loss: 6.8419 - mae: 6.8419\n",
      "Epoch 99/100\n",
      "1/1 [==============================] - 0s 5ms/step - loss: 6.8363 - mae: 6.8363\n",
      "Epoch 100/100\n",
      "1/1 [==============================] - 0s 7ms/step - loss: 6.8306 - mae: 6.8306\n"
     ]
    },
    {
     "data": {
      "text/plain": [
       "<keras.callbacks.History at 0x1b0b442d450>"
      ]
     },
     "execution_count": 11,
     "metadata": {},
     "output_type": "execute_result"
    }
   ],
   "source": [
    "# Let's rebuild our model\n",
    "\n",
    "# 1. Create the model\n",
    "model = tf.keras.Sequential([\n",
    "    tf.keras.layers.Dense(1)\n",
    "])\n",
    "\n",
    "# 2. Compile the model\n",
    "model.compile(loss=tf.keras.losses.mae,\n",
    "              optimizer=tf.keras.optimizers.SGD(),\n",
    "              metrics=[\"mae\"])\n",
    "\n",
    "# 3. Fit the model\n",
    "model.fit(tf.expand_dims(X, axis=-1), y, epochs=100)"
   ]
  },
  {
   "cell_type": "code",
   "execution_count": 12,
   "id": "f09fcd10",
   "metadata": {},
   "outputs": [
    {
     "data": {
      "text/plain": [
       "(<tf.Tensor: shape=(8,), dtype=float64, numpy=array([-7., -4., -1.,  2.,  5.,  8., 11., 14.])>,\n",
       " <tf.Tensor: shape=(8,), dtype=float64, numpy=array([ 3.,  6.,  9., 12., 15., 18., 21., 24.])>)"
      ]
     },
     "execution_count": 12,
     "metadata": {},
     "output_type": "execute_result"
    }
   ],
   "source": [
    "# Remind ourselves of the data\n",
    "X, y"
   ]
  },
  {
   "cell_type": "code",
   "execution_count": 13,
   "id": "423b33f2",
   "metadata": {},
   "outputs": [
    {
     "name": "stdout",
     "output_type": "stream",
     "text": [
      "1/1 [==============================] - 0s 140ms/step\n"
     ]
    },
    {
     "data": {
      "text/plain": [
       "array([[29.722687]], dtype=float32)"
      ]
     },
     "execution_count": 13,
     "metadata": {},
     "output_type": "execute_result"
    }
   ],
   "source": [
    "# Let's see if our model prediction has improved...\n",
    "model.predict([17])"
   ]
  },
  {
   "cell_type": "code",
   "execution_count": 14,
   "id": "3c6aaedc",
   "metadata": {},
   "outputs": [
    {
     "name": "stdout",
     "output_type": "stream",
     "text": [
      "Epoch 1/100\n",
      "1/1 [==============================] - 0s 256ms/step - loss: 14.2876 - mae: 14.2876\n",
      "Epoch 2/100\n",
      "1/1 [==============================] - 0s 4ms/step - loss: 13.6237 - mae: 13.6237\n",
      "Epoch 3/100\n",
      "1/1 [==============================] - 0s 4ms/step - loss: 12.9701 - mae: 12.9701\n",
      "Epoch 4/100\n",
      "1/1 [==============================] - 0s 4ms/step - loss: 12.3255 - mae: 12.3255\n",
      "Epoch 5/100\n",
      "1/1 [==============================] - 0s 3ms/step - loss: 11.6875 - mae: 11.6875\n",
      "Epoch 6/100\n",
      "1/1 [==============================] - 0s 3ms/step - loss: 11.0541 - mae: 11.0541\n",
      "Epoch 7/100\n",
      "1/1 [==============================] - 0s 5ms/step - loss: 10.4222 - mae: 10.4222\n",
      "Epoch 8/100\n",
      "1/1 [==============================] - 0s 3ms/step - loss: 9.7895 - mae: 9.7895\n",
      "Epoch 9/100\n",
      "1/1 [==============================] - 0s 4ms/step - loss: 9.1532 - mae: 9.1532\n",
      "Epoch 10/100\n",
      "1/1 [==============================] - 0s 3ms/step - loss: 8.5103 - mae: 8.5103\n",
      "Epoch 11/100\n",
      "1/1 [==============================] - 0s 3ms/step - loss: 7.8566 - mae: 7.8566\n",
      "Epoch 12/100\n",
      "1/1 [==============================] - 0s 3ms/step - loss: 7.1901 - mae: 7.1901\n",
      "Epoch 13/100\n",
      "1/1 [==============================] - 0s 4ms/step - loss: 6.6324 - mae: 6.6324\n",
      "Epoch 14/100\n",
      "1/1 [==============================] - 0s 4ms/step - loss: 6.6181 - mae: 6.6181\n",
      "Epoch 15/100\n",
      "1/1 [==============================] - 0s 3ms/step - loss: 6.8759 - mae: 6.8759\n",
      "Epoch 16/100\n",
      "1/1 [==============================] - 0s 2ms/step - loss: 7.0412 - mae: 7.0412\n",
      "Epoch 17/100\n",
      "1/1 [==============================] - 0s 4ms/step - loss: 7.1413 - mae: 7.1413\n",
      "Epoch 18/100\n",
      "1/1 [==============================] - 0s 3ms/step - loss: 7.1488 - mae: 7.1488\n",
      "Epoch 19/100\n",
      "1/1 [==============================] - 0s 5ms/step - loss: 7.0056 - mae: 7.0056\n",
      "Epoch 20/100\n",
      "1/1 [==============================] - 0s 6ms/step - loss: 6.8214 - mae: 6.8214\n",
      "Epoch 21/100\n",
      "1/1 [==============================] - 0s 5ms/step - loss: 6.6255 - mae: 6.6255\n",
      "Epoch 22/100\n",
      "1/1 [==============================] - 0s 7ms/step - loss: 6.4105 - mae: 6.4105\n",
      "Epoch 23/100\n",
      "1/1 [==============================] - 0s 4ms/step - loss: 6.1804 - mae: 6.1804\n",
      "Epoch 24/100\n",
      "1/1 [==============================] - 0s 9ms/step - loss: 5.9908 - mae: 5.9908\n",
      "Epoch 25/100\n",
      "1/1 [==============================] - 0s 7ms/step - loss: 5.9479 - mae: 5.9479\n",
      "Epoch 26/100\n",
      "1/1 [==============================] - 0s 7ms/step - loss: 5.8999 - mae: 5.8999\n",
      "Epoch 27/100\n",
      "1/1 [==============================] - 0s 9ms/step - loss: 5.9511 - mae: 5.9511\n",
      "Epoch 28/100\n",
      "1/1 [==============================] - 0s 8ms/step - loss: 5.9574 - mae: 5.9574\n",
      "Epoch 29/100\n",
      "1/1 [==============================] - 0s 7ms/step - loss: 5.8732 - mae: 5.8732\n",
      "Epoch 30/100\n",
      "1/1 [==============================] - 0s 8ms/step - loss: 5.7085 - mae: 5.7085\n",
      "Epoch 31/100\n",
      "1/1 [==============================] - 0s 9ms/step - loss: 5.5136 - mae: 5.5136\n",
      "Epoch 32/100\n",
      "1/1 [==============================] - 0s 5ms/step - loss: 5.4105 - mae: 5.4105\n",
      "Epoch 33/100\n",
      "1/1 [==============================] - 0s 7ms/step - loss: 5.3041 - mae: 5.3041\n",
      "Epoch 34/100\n",
      "1/1 [==============================] - 0s 4ms/step - loss: 5.1940 - mae: 5.1940\n",
      "Epoch 35/100\n",
      "1/1 [==============================] - 0s 4ms/step - loss: 5.1711 - mae: 5.1711\n",
      "Epoch 36/100\n",
      "1/1 [==============================] - 0s 6ms/step - loss: 5.1287 - mae: 5.1287\n",
      "Epoch 37/100\n",
      "1/1 [==============================] - 0s 6ms/step - loss: 5.0486 - mae: 5.0486\n",
      "Epoch 38/100\n",
      "1/1 [==============================] - 0s 5ms/step - loss: 4.9329 - mae: 4.9329\n",
      "Epoch 39/100\n",
      "1/1 [==============================] - 0s 4ms/step - loss: 4.7838 - mae: 4.7838\n",
      "Epoch 40/100\n",
      "1/1 [==============================] - 0s 3ms/step - loss: 4.6050 - mae: 4.6050\n",
      "Epoch 41/100\n",
      "1/1 [==============================] - 0s 4ms/step - loss: 4.4805 - mae: 4.4805\n",
      "Epoch 42/100\n",
      "1/1 [==============================] - 0s 4ms/step - loss: 4.3794 - mae: 4.3794\n",
      "Epoch 43/100\n",
      "1/1 [==============================] - 0s 4ms/step - loss: 4.2695 - mae: 4.2695\n",
      "Epoch 44/100\n",
      "1/1 [==============================] - 0s 4ms/step - loss: 4.1811 - mae: 4.1811\n",
      "Epoch 45/100\n",
      "1/1 [==============================] - 0s 5ms/step - loss: 4.0347 - mae: 4.0347\n",
      "Epoch 46/100\n",
      "1/1 [==============================] - 0s 3ms/step - loss: 3.8569 - mae: 3.8569\n",
      "Epoch 47/100\n",
      "1/1 [==============================] - 0s 3ms/step - loss: 3.6932 - mae: 3.6932\n",
      "Epoch 48/100\n",
      "1/1 [==============================] - 0s 7ms/step - loss: 3.5216 - mae: 3.5216\n",
      "Epoch 49/100\n",
      "1/1 [==============================] - 0s 18ms/step - loss: 3.4209 - mae: 3.4209\n",
      "Epoch 50/100\n",
      "1/1 [==============================] - 0s 6ms/step - loss: 3.2882 - mae: 3.2882\n",
      "Epoch 51/100\n",
      "1/1 [==============================] - 0s 5ms/step - loss: 3.1039 - mae: 3.1039\n",
      "Epoch 52/100\n",
      "1/1 [==============================] - 0s 5ms/step - loss: 2.8690 - mae: 2.8690\n",
      "Epoch 53/100\n",
      "1/1 [==============================] - 0s 3ms/step - loss: 2.6414 - mae: 2.6414\n",
      "Epoch 54/100\n",
      "1/1 [==============================] - 0s 2ms/step - loss: 2.4547 - mae: 2.4547\n",
      "Epoch 55/100\n",
      "1/1 [==============================] - 0s 4ms/step - loss: 2.3328 - mae: 2.3328\n",
      "Epoch 56/100\n",
      "1/1 [==============================] - 0s 3ms/step - loss: 2.0854 - mae: 2.0854\n",
      "Epoch 57/100\n",
      "1/1 [==============================] - 0s 3ms/step - loss: 1.7833 - mae: 1.7833\n",
      "Epoch 58/100\n",
      "1/1 [==============================] - 0s 3ms/step - loss: 1.6074 - mae: 1.6074\n",
      "Epoch 59/100\n",
      "1/1 [==============================] - 0s 4ms/step - loss: 1.4115 - mae: 1.4115\n",
      "Epoch 60/100\n",
      "1/1 [==============================] - 0s 2ms/step - loss: 1.1496 - mae: 1.1496\n",
      "Epoch 61/100\n",
      "1/1 [==============================] - 0s 3ms/step - loss: 0.7659 - mae: 0.7659\n",
      "Epoch 62/100\n",
      "1/1 [==============================] - 0s 5ms/step - loss: 0.7039 - mae: 0.7039\n",
      "Epoch 63/100\n",
      "1/1 [==============================] - 0s 4ms/step - loss: 0.5465 - mae: 0.5465\n",
      "Epoch 64/100\n",
      "1/1 [==============================] - 0s 4ms/step - loss: 0.3269 - mae: 0.3269\n",
      "Epoch 65/100\n",
      "1/1 [==============================] - 0s 2ms/step - loss: 0.5160 - mae: 0.5160\n",
      "Epoch 66/100\n",
      "1/1 [==============================] - 0s 4ms/step - loss: 0.8734 - mae: 0.8734\n",
      "Epoch 67/100\n",
      "1/1 [==============================] - 0s 4ms/step - loss: 0.9886 - mae: 0.9886\n",
      "Epoch 68/100\n",
      "1/1 [==============================] - 0s 4ms/step - loss: 0.8903 - mae: 0.8903\n",
      "Epoch 69/100\n",
      "1/1 [==============================] - 0s 4ms/step - loss: 0.6940 - mae: 0.6940\n",
      "Epoch 70/100\n",
      "1/1 [==============================] - 0s 3ms/step - loss: 0.8105 - mae: 0.8105\n",
      "Epoch 71/100\n",
      "1/1 [==============================] - 0s 3ms/step - loss: 0.7469 - mae: 0.7469\n",
      "Epoch 72/100\n",
      "1/1 [==============================] - 0s 3ms/step - loss: 0.5270 - mae: 0.5270\n",
      "Epoch 73/100\n",
      "1/1 [==============================] - 0s 4ms/step - loss: 0.5934 - mae: 0.5934\n",
      "Epoch 74/100\n",
      "1/1 [==============================] - 0s 3ms/step - loss: 0.5290 - mae: 0.5290\n",
      "Epoch 75/100\n",
      "1/1 [==============================] - 0s 4ms/step - loss: 0.3013 - mae: 0.3013\n",
      "Epoch 76/100\n",
      "1/1 [==============================] - 0s 4ms/step - loss: 0.1201 - mae: 0.1201\n",
      "Epoch 77/100\n",
      "1/1 [==============================] - 0s 3ms/step - loss: 0.2560 - mae: 0.2560\n",
      "Epoch 78/100\n",
      "1/1 [==============================] - 0s 3ms/step - loss: 0.2479 - mae: 0.2479\n",
      "Epoch 79/100\n",
      "1/1 [==============================] - 0s 3ms/step - loss: 0.3684 - mae: 0.3684\n",
      "Epoch 80/100\n",
      "1/1 [==============================] - 0s 5ms/step - loss: 0.3430 - mae: 0.3430\n",
      "Epoch 81/100\n",
      "1/1 [==============================] - 0s 4ms/step - loss: 0.3637 - mae: 0.3637\n",
      "Epoch 82/100\n",
      "1/1 [==============================] - 0s 3ms/step - loss: 0.3455 - mae: 0.3455\n",
      "Epoch 83/100\n",
      "1/1 [==============================] - 0s 4ms/step - loss: 0.1825 - mae: 0.1825\n",
      "Epoch 84/100\n",
      "1/1 [==============================] - 0s 2ms/step - loss: 0.2016 - mae: 0.2016\n",
      "Epoch 85/100\n",
      "1/1 [==============================] - 0s 4ms/step - loss: 0.0466 - mae: 0.0466\n",
      "Epoch 86/100\n",
      "1/1 [==============================] - 0s 4ms/step - loss: 0.3605 - mae: 0.3605\n",
      "Epoch 87/100\n",
      "1/1 [==============================] - 0s 4ms/step - loss: 0.4199 - mae: 0.4199\n",
      "Epoch 88/100\n",
      "1/1 [==============================] - 0s 4ms/step - loss: 0.2439 - mae: 0.2439\n",
      "Epoch 89/100\n",
      "1/1 [==============================] - 0s 3ms/step - loss: 0.3749 - mae: 0.3749\n",
      "Epoch 90/100\n",
      "1/1 [==============================] - 0s 4ms/step - loss: 0.4825 - mae: 0.4825\n",
      "Epoch 91/100\n",
      "1/1 [==============================] - 0s 3ms/step - loss: 0.3828 - mae: 0.3828\n",
      "Epoch 92/100\n",
      "1/1 [==============================] - 0s 6ms/step - loss: 0.0957 - mae: 0.0957\n",
      "Epoch 93/100\n",
      "1/1 [==============================] - 0s 3ms/step - loss: 0.4125 - mae: 0.4125\n",
      "Epoch 94/100\n",
      "1/1 [==============================] - 0s 4ms/step - loss: 0.5549 - mae: 0.5549\n",
      "Epoch 95/100\n",
      "1/1 [==============================] - 0s 4ms/step - loss: 0.4411 - mae: 0.4411\n",
      "Epoch 96/100\n",
      "1/1 [==============================] - 0s 2ms/step - loss: 0.2440 - mae: 0.2440\n",
      "Epoch 97/100\n",
      "1/1 [==============================] - 0s 3ms/step - loss: 0.4726 - mae: 0.4726\n",
      "Epoch 98/100\n",
      "1/1 [==============================] - 0s 4ms/step - loss: 0.6444 - mae: 0.6444\n",
      "Epoch 99/100\n",
      "1/1 [==============================] - 0s 4ms/step - loss: 0.5568 - mae: 0.5568\n",
      "Epoch 100/100\n",
      "1/1 [==============================] - 0s 4ms/step - loss: 0.2512 - mae: 0.2512\n"
     ]
    },
    {
     "data": {
      "text/plain": [
       "<keras.callbacks.History at 0x1b0f9870dc0>"
      ]
     },
     "execution_count": 14,
     "metadata": {},
     "output_type": "execute_result"
    }
   ],
   "source": [
    "# Let's see if we can make another to improve our model\n",
    "\n",
    "# 1. Create the model\n",
    "model = tf.keras.Sequential([\n",
    "    tf.keras.layers.Dense(50, activation=None),\n",
    "    tf.keras.layers.Dense(1)\n",
    "])\n",
    "\n",
    "# 2. Compile the model\n",
    "model.compile(loss=\"mae\", \n",
    "              optimizer=tf.keras.optimizers.Adam(learning_rate=0.01),\n",
    "              metrics=[\"mae\"])\n",
    "\n",
    "# 3. Fit the model\n",
    "model.fit(tf.expand_dims(X, axis=-1), y, epochs=100)"
   ]
  },
  {
   "cell_type": "code",
   "execution_count": 15,
   "id": "bda14250",
   "metadata": {},
   "outputs": [
    {
     "name": "stdout",
     "output_type": "stream",
     "text": [
      "1/1 [==============================] - 0s 48ms/step\n"
     ]
    },
    {
     "data": {
      "text/plain": [
       "array([[26.16755]], dtype=float32)"
      ]
     },
     "execution_count": 15,
     "metadata": {},
     "output_type": "execute_result"
    }
   ],
   "source": [
    "# Let's try to make a prediction\n",
    "model.predict([17.0])"
   ]
  },
  {
   "cell_type": "markdown",
   "id": "35f244a5",
   "metadata": {},
   "source": [
    "## Evaluating a model\n",
    "\n",
    "In practice, a typical workflow you'll go through when building neural networks is:\n",
    "\n",
    "```\n",
    "\n",
    "Build a model -> fit it -> evaluate it -> tweak a model -> repeat it"
   ]
  },
  {
   "cell_type": "markdown",
   "id": "b12b4dfd",
   "metadata": {},
   "source": [
    "When it comes to evaluation... there are 3 words you should memorize:\n",
    "\n",
    "> \"Visualize, visualize, visualize\"\n",
    "\n",
    "It's a good idea to visualize:\n",
    "* The data - what data are we working with? What does it look like?\n",
    "* The model itself - what does our model looke like?\n",
    "* The training of the model - how does a model perform while it learns?\n",
    "* The predictions of the model - how do the predictions of a model line up against the ground truth (the original labels)?"
   ]
  },
  {
   "cell_type": "code",
   "execution_count": 16,
   "id": "2361ae63",
   "metadata": {},
   "outputs": [
    {
     "data": {
      "text/plain": [
       "<tf.Tensor: shape=(50,), dtype=int32, numpy=\n",
       "array([-100,  -96,  -92,  -88,  -84,  -80,  -76,  -72,  -68,  -64,  -60,\n",
       "        -56,  -52,  -48,  -44,  -40,  -36,  -32,  -28,  -24,  -20,  -16,\n",
       "        -12,   -8,   -4,    0,    4,    8,   12,   16,   20,   24,   28,\n",
       "         32,   36,   40,   44,   48,   52,   56,   60,   64,   68,   72,\n",
       "         76,   80,   84,   88,   92,   96])>"
      ]
     },
     "execution_count": 16,
     "metadata": {},
     "output_type": "execute_result"
    }
   ],
   "source": [
    "# Make a bigger dataset\n",
    "X = tf.range(-100, 100, 4)\n",
    "X"
   ]
  },
  {
   "cell_type": "code",
   "execution_count": 17,
   "id": "baf6766b",
   "metadata": {},
   "outputs": [
    {
     "data": {
      "text/plain": [
       "<tf.Tensor: shape=(50,), dtype=int32, numpy=\n",
       "array([-90, -86, -82, -78, -74, -70, -66, -62, -58, -54, -50, -46, -42,\n",
       "       -38, -34, -30, -26, -22, -18, -14, -10,  -6,  -2,   2,   6,  10,\n",
       "        14,  18,  22,  26,  30,  34,  38,  42,  46,  50,  54,  58,  62,\n",
       "        66,  70,  74,  78,  82,  86,  90,  94,  98, 102, 106])>"
      ]
     },
     "execution_count": 17,
     "metadata": {},
     "output_type": "execute_result"
    }
   ],
   "source": [
    "y = X + 10\n",
    "y"
   ]
  },
  {
   "cell_type": "code",
   "execution_count": 18,
   "id": "8593bb08",
   "metadata": {},
   "outputs": [
    {
     "data": {
      "text/plain": [
       "<matplotlib.collections.PathCollection at 0x1b0f99352d0>"
      ]
     },
     "execution_count": 18,
     "metadata": {},
     "output_type": "execute_result"
    },
    {
     "data": {
      "image/png": "[encoded data removed]",
      "text/plain": [
       "<Figure size 640x480 with 1 Axes>"
      ]
     },
     "metadata": {},
     "output_type": "display_data"
    }
   ],
   "source": [
    "# Visualize the data\n",
    "plt.scatter(X, y)"
   ]
  },
  {
   "cell_type": "markdown",
   "id": "d732e326",
   "metadata": {},
   "source": [
    "### The 3 sets...\n",
    "\n",
    "* **Training set** - the model learns from this data, which is typically 70-80% of the total you have available.\n",
    "* **Validation set** - the model gets tuned on this data, which is typically 10-15% of the data available.\n",
    "* **Test set** - the model gets evaluated on this data to test what is learned, this set is typically 10-15% of the total data available."
   ]
  },
  {
   "cell_type": "code",
   "execution_count": 19,
   "id": "f0abfb52",
   "metadata": {},
   "outputs": [
    {
     "data": {
      "text/plain": [
       "50"
      ]
     },
     "execution_count": 19,
     "metadata": {},
     "output_type": "execute_result"
    }
   ],
   "source": [
    "# Check the length of how many samples we have\n",
    "len(X)"
   ]
  },
  {
   "cell_type": "code",
   "execution_count": 20,
   "id": "ac1856bc",
   "metadata": {},
   "outputs": [
    {
     "data": {
      "text/plain": [
       "(40, 10, 40, 10)"
      ]
     },
     "execution_count": 20,
     "metadata": {},
     "output_type": "execute_result"
    }
   ],
   "source": [
    "# Split the data into train and test sets\n",
    "X_train = X[:40]\n",
    "y_train = y[:40]\n",
    "\n",
    "X_test = X[40:]\n",
    "y_test = y[40:]\n",
    "\n",
    "len(X_train), len(X_test), len(y_train), len(y_test)"
   ]
  },
  {
   "cell_type": "markdown",
   "id": "356a6ff7",
   "metadata": {},
   "source": [
    "### Visualizing the data\n",
    "\n",
    "Now we have got our data in training and test sets... let's visualize it again!"
   ]
  },
  {
   "cell_type": "code",
   "execution_count": 21,
   "id": "7d5e1429",
   "metadata": {},
   "outputs": [
    {
     "data": {
      "image/png": "[encoded data removed]",
      "text/plain": [
       "<Figure size 1000x700 with 1 Axes>"
      ]
     },
     "metadata": {},
     "output_type": "display_data"
    }
   ],
   "source": [
    "plt.figure(figsize=(10, 7))\n",
    "# Plot training data in blue\n",
    "plt.scatter(X_train, y_train, c=\"blue\", label=\"Training data\")\n",
    "# Plot test set in green\n",
    "plt.scatter(X_test, y_test, c=\"green\", label=\"Testing data\")\n",
    "# Show a legend\n",
    "plt.legend()\n",
    "plt.show()"
   ]
  },
  {
   "cell_type": "code",
   "execution_count": 22,
   "id": "f923e564",
   "metadata": {},
   "outputs": [],
   "source": [
    "# Let's have a look at how to build a neural network for our data\n",
    "\n",
    "# 1. Create a model\n",
    "model = tf.keras.Sequential([\n",
    "    tf.keras.layers.Dense(1)\n",
    "])\n",
    "\n",
    "# 2. Compile the model\n",
    "model.compile(loss=tf.keras.losses.mae, \n",
    "              optimizer=tf.keras.optimizers.SGD(),\n",
    "              metrics=[\"mae\"])\n",
    "\n",
    "# 3. Fit the model\n",
    "# model.fit(tf.expand_dims(X_train, axis=-1), y_train, epochs=100)"
   ]
  },
  {
   "cell_type": "code",
   "execution_count": 23,
   "id": "85fd5f64",
   "metadata": {},
   "outputs": [],
   "source": [
    "# model.summary() --> This will raise an error because of there isn not input_shape"
   ]
  },
  {
   "cell_type": "markdown",
   "id": "9a15b004",
   "metadata": {},
   "source": [
    "### Visualizing the model"
   ]
  },
  {
   "cell_type": "code",
   "execution_count": 31,
   "id": "4f44e0e3",
   "metadata": {},
   "outputs": [],
   "source": [
    "# Let's create a model which builds automatically by defining the input_shape argument in the first layer\n",
    "tf.random.set_seed(42)\n",
    "\n",
    "# Create a model (same as above)\n",
    "model = tf.keras.Sequential([\n",
    "    tf.keras.layers.Dense(10, input_shape=[1], name=\"input_layer\"), # input_shape represents the number of variables/columns\n",
    "    tf.keras.layers.Dense(1, name=\"output_layer\")\n",
    "])\n",
    "\n",
    "# 2. Compile the model\n",
    "model.compile(loss=tf.keras.losses.mae,\n",
    "              optimizer=tf.keras.optimizers.SGD(),\n",
    "              metrics=[\"mae\"])"
   ]
  },
  {
   "cell_type": "code",
   "execution_count": 32,
   "id": "b0853ffa",
   "metadata": {},
   "outputs": [
    {
     "name": "stdout",
     "output_type": "stream",
     "text": [
      "Model: \"sequential_6\"\n",
      "_________________________________________________________________\n",
      " Layer (type)                Output Shape              Param #   \n",
      "=================================================================\n",
      " input_layer (Dense)         (None, 10)                20        \n",
      "                                                                 \n",
      " output_layer (Dense)        (None, 1)                 11        \n",
      "                                                                 \n",
      "=================================================================\n",
      "Total params: 31\n",
      "Trainable params: 31\n",
      "Non-trainable params: 0\n",
      "_________________________________________________________________\n"
     ]
    }
   ],
   "source": [
    "model.summary()"
   ]
  },
  {
   "cell_type": "markdown",
   "id": "184810b8",
   "metadata": {},
   "source": [
    "* Total params - total number of parameters in the model.\n",
    "* Trainable params - these are the parameters (patterns) the model can update as it trains.\n",
    "* Non-trainable params - these parameters are not updated during training (this is typically when you bring parameters from other models during **transfer learning**)"
   ]
  },
  {
   "cell_type": "code",
   "execution_count": 33,
   "id": "948867fd",
   "metadata": {},
   "outputs": [
    {
     "data": {
      "text/plain": [
       "<keras.callbacks.History at 0x1b26ff6caf0>"
      ]
     },
     "execution_count": 33,
     "metadata": {},
     "output_type": "execute_result"
    }
   ],
   "source": [
    "# Let's fit our model to the training data\n",
    "model.fit(tf.expand_dims(X_train, axis=-1), y_train, epochs=100, verbose=0)"
   ]
  },
  {
   "cell_type": "code",
   "execution_count": 34,
   "id": "a4eae335",
   "metadata": {},
   "outputs": [
    {
     "data": {
      "image/png": "[encoded data removed]",
      "text/plain": [
       "<IPython.core.display.Image object>"
      ]
     },
     "execution_count": 34,
     "metadata": {},
     "output_type": "execute_result"
    }
   ],
   "source": [
    "from tensorflow.keras.utils import plot_model\n",
    "\n",
    "plot_model(model, show_shapes=True)"
   ]
  },
  {
   "cell_type": "markdown",
   "id": "1b363420",
   "metadata": {},
   "source": [
    "### Visualizing our model's predictions\n",
    "\n",
    "To visualize predictions, it's a good idea to plot them against the ground truth labels.\n",
    "\n",
    "Often you'll see this in the form of `y_test` or `y_true` versus `y_pred` (ground truth versus your model's predictions)."
   ]
  },
  {
   "cell_type": "code",
   "execution_count": 35,
   "id": "a5f650fd",
   "metadata": {},
   "outputs": [
    {
     "name": "stdout",
     "output_type": "stream",
     "text": [
      "1/1 [==============================] - 0s 46ms/step\n"
     ]
    },
    {
     "data": {
      "text/plain": [
       "array([[ 70.4553 ],\n",
       "       [ 75.03813],\n",
       "       [ 79.62095],\n",
       "       [ 84.20378],\n",
       "       [ 88.78662],\n",
       "       [ 93.36944],\n",
       "       [ 97.95226],\n",
       "       [102.5351 ],\n",
       "       [107.11792],\n",
       "       [111.70076]], dtype=float32)"
      ]
     },
     "execution_count": 35,
     "metadata": {},
     "output_type": "execute_result"
    }
   ],
   "source": [
    "# Make some predictions\n",
    "y_pred = model.predict(X_test)\n",
    "y_pred"
   ]
  },
  {
   "cell_type": "code",
   "execution_count": 36,
   "id": "d676f56a",
   "metadata": {},
   "outputs": [
    {
     "data": {
      "text/plain": [
       "<tf.Tensor: shape=(10,), dtype=int32, numpy=array([ 70,  74,  78,  82,  86,  90,  94,  98, 102, 106])>"
      ]
     },
     "execution_count": 36,
     "metadata": {},
     "output_type": "execute_result"
    }
   ],
   "source": [
    "y_test"
   ]
  },
  {
   "cell_type": "code",
   "execution_count": 37,
   "id": "f1f2fdd2",
   "metadata": {},
   "outputs": [],
   "source": [
    "# Let's create a plotting function\n",
    "def plot_predictions(train_data=X_train,\n",
    "                     train_labels=y_train,\n",
    "                     test_data=X_test,\n",
    "                     test_labels=y_test,\n",
    "                     predictions=y_pred):\n",
    "    \"\"\"\n",
    "    Plots training data, test data and compares predictions to ground truth\n",
    "    \"\"\"\n",
    "    plt.figure(figsize=(10, 7))\n",
    "    # Plot training data in blue\n",
    "    plt.scatter(train_data, train_labels, c=\"b\", label=\"Training data\")\n",
    "    # Plot testing data in green\n",
    "    plt.scatter(test_data, test_labels, c=\"g\", label=\"Testing data\")\n",
    "    # Plot model's predictions in red\n",
    "    plt.scatter(test_data, predictions, c=\"r\", label=\"Predictions\")\n",
    "    # Show the legend\n",
    "    plt.legend();\n"
   ]
  },
  {
   "cell_type": "code",
   "execution_count": 38,
   "id": "1e486bf3",
   "metadata": {},
   "outputs": [
    {
     "data": {
      "image/png": "[encoded data removed]",
      "text/plain": [
       "<Figure size 1000x700 with 1 Axes>"
      ]
     },
     "metadata": {},
     "output_type": "display_data"
    }
   ],
   "source": [
    "plot_predictions()"
   ]
  },
  {
   "cell_type": "markdown",
   "id": "bf24c5aa",
   "metadata": {},
   "source": [
    "### Evaluating our model's predictions with regression evaluation metrics\n",
    "\n",
    "Depending on the problem you're working on, there will be different evaluation metrics to evaluate your model's performance.\n",
    "\n",
    "Since we're working on a regression, two of the main metrics:\n",
    "* MAE - mean absolute error\n",
    "* MSE - mean square error"
   ]
  },
  {
   "cell_type": "code",
   "execution_count": 39,
   "id": "8b1b38f7",
   "metadata": {},
   "outputs": [
    {
     "name": "stdout",
     "output_type": "stream",
     "text": [
      "1/1 [==============================] - 0s 134ms/step - loss: 3.0780 - mae: 3.0780\n"
     ]
    },
    {
     "data": {
      "text/plain": [
       "[3.078026533126831, 3.078026533126831]"
      ]
     },
     "execution_count": 39,
     "metadata": {},
     "output_type": "execute_result"
    }
   ],
   "source": [
    "# Evaluate the model on the test\n",
    "model.evaluate(X_test, y_test)"
   ]
  },
  {
   "cell_type": "code",
   "execution_count": 51,
   "id": "845a035b",
   "metadata": {},
   "outputs": [
    {
     "data": {
      "text/plain": [
       "array([[ 70.4553 ],\n",
       "       [ 75.03813],\n",
       "       [ 79.62095],\n",
       "       [ 84.20378],\n",
       "       [ 88.78662],\n",
       "       [ 93.36944],\n",
       "       [ 97.95226],\n",
       "       [102.5351 ],\n",
       "       [107.11792],\n",
       "       [111.70076]], dtype=float32)"
      ]
     },
     "execution_count": 51,
     "metadata": {},
     "output_type": "execute_result"
    }
   ],
   "source": [
    "y_pred"
   ]
  },
  {
   "cell_type": "code",
   "execution_count": 50,
   "id": "c7fe1d13",
   "metadata": {},
   "outputs": [
    {
     "data": {
      "text/plain": [
       "<tf.Tensor: shape=(10,), dtype=int32, numpy=array([ 70,  74,  78,  82,  86,  90,  94,  98, 102, 106])>"
      ]
     },
     "execution_count": 50,
     "metadata": {},
     "output_type": "execute_result"
    }
   ],
   "source": [
    "y_test"
   ]
  },
  {
   "cell_type": "code",
   "execution_count": 53,
   "id": "d8f678d0",
   "metadata": {},
   "outputs": [
    {
     "data": {
      "text/plain": [
       "<tf.Tensor: shape=(), dtype=float32, numpy=3.0780265>"
      ]
     },
     "execution_count": 53,
     "metadata": {},
     "output_type": "execute_result"
    }
   ],
   "source": [
    "# Calculate the mean absolute error\n",
    "mae = tf.metrics.mean_absolute_error(y_test, tf.squeeze(y_pred))\n",
    "mae"
   ]
  },
  {
   "cell_type": "code",
   "execution_count": 56,
   "id": "8fa940c0",
   "metadata": {},
   "outputs": [
    {
     "data": {
      "text/plain": [
       "<tf.Tensor: shape=(), dtype=float32, numpy=12.276682>"
      ]
     },
     "execution_count": 56,
     "metadata": {},
     "output_type": "execute_result"
    }
   ],
   "source": [
    "mse = tf.metrics.mean_squared_error(y_test, tf.squeeze(y_pred))\n",
    "mse"
   ]
  },
  {
   "cell_type": "code",
   "execution_count": null,
   "id": "84ecbecc",
   "metadata": {},
   "outputs": [],
   "source": [
    "# Make somre functions to reuse MAE and MSE\n",
    "def mae(y_true, y_pred):\n",
    "    return tf.metrics.mean_absolute_error(y_true, y_pred)\n",
    "\n",
    "def mse(y_true, y_pred):\n",
    "    return tf.metrics.mean_squared_error(y_true, y_pred)"
   ]
  }
 ],
 "metadata": {
  "kernelspec": {
   "display_name": "tf",
   "language": "python",
   "name": "python3"
  },
  "language_info": {
   "codemirror_mode": {
    "name": "ipython",
    "version": 3
   },
   "file_extension": ".py",
   "mimetype": "text/x-python",
   "name": "python",
   "nbconvert_exporter": "python",
   "pygments_lexer": "ipython3",
   "version": "3.10.17"
  }
 },
 "nbformat": 4,
 "nbformat_minor": 5
}

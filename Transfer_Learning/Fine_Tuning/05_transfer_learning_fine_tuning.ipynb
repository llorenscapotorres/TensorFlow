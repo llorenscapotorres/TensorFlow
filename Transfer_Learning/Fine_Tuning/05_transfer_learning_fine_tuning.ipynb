{
 "cells": [
  {
   "cell_type": "markdown",
   "id": "0427f677",
   "metadata": {},
   "source": [
    "# Transfer Learning with TensorFlow Part 2: Fine-tuning\n",
    "\n",
    "In the previous notebook, we covered transfer learning feature extraction, now it's time to learn about a new kind of transfer-learning: fine-tuning"
   ]
  },
  {
   "cell_type": "markdown",
   "id": "cae68b27",
   "metadata": {},
   "source": [
    "## Creating helper functions\n",
    "\n",
    "In previous notebooks, we have created a bunch of helper functions, now we could rewrite them all, however, this is tedious.\n",
    "\n",
    "So, it's a good idea to put functions you will want to use again in a script you can download and import into your notebooks (or elsewhere).\n",
    "\n",
    "We have done this for some of the functions we have used previously."
   ]
  },
  {
   "cell_type": "code",
   "execution_count": 15,
   "id": "3e09230e",
   "metadata": {},
   "outputs": [],
   "source": [
    "import sys\n",
    "import os\n",
    "\n",
    "# Subir dos niveles: desde notebooks/pruebas → mi_proyecto/\n",
    "sys.path.append(os.path.abspath(os.path.join(os.getcwd(), \"../..\")))\n",
    "\n",
    "# Ahora puedes importar\n",
    "from utils.helper_functions import create_tensorboard_callback, plot_loss_curves, walk_through_dir"
   ]
  }
 ],
 "metadata": {
  "kernelspec": {
   "display_name": "tf3",
   "language": "python",
   "name": "python3"
  },
  "language_info": {
   "codemirror_mode": {
    "name": "ipython",
    "version": 3
   },
   "file_extension": ".py",
   "mimetype": "text/x-python",
   "name": "python",
   "nbconvert_exporter": "python",
   "pygments_lexer": "ipython3",
   "version": "3.10.18"
  }
 },
 "nbformat": 4,
 "nbformat_minor": 5
}

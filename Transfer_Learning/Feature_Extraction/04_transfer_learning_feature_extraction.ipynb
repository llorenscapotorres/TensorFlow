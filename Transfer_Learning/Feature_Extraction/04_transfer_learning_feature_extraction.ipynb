{
 "cells": [
  {
   "cell_type": "markdown",
   "id": "94561f1a",
   "metadata": {},
   "source": [
    "# Transfer Learning with TensorFlow: Feature Extraction\n",
    "\n",
    "Transfer Learning is leveraging a working model's existing architecture and learned patterns for our own problems.\n",
    "\n",
    "There are two main benefits:\n",
    "1. Can leverage an existing neural network architecture proven to work on problems similar to our own.\n",
    "2. Can leverage a working neural network architecture which has already learned patterns on similar data to our own, then we can adapt those patterns to our own data.\n"
   ]
  },
  {
   "cell_type": "markdown",
   "id": "b140c393",
   "metadata": {},
   "source": [
    "## Downloading and becoming one with the data"
   ]
  },
  {
   "cell_type": "code",
   "execution_count": 1,
   "id": "003b4e95",
   "metadata": {},
   "outputs": [
    {
     "name": "stdout",
     "output_type": "stream",
     "text": [
      "There are 2 directories and 0 images in 10_food_classes_10_percent.\n",
      "There are 10 directories and 0 images in 10_food_classes_10_percent\\test.\n",
      "There are 0 directories and 250 images in 10_food_classes_10_percent\\test\\chicken_curry.\n",
      "There are 0 directories and 250 images in 10_food_classes_10_percent\\test\\chicken_wings.\n",
      "There are 0 directories and 250 images in 10_food_classes_10_percent\\test\\fried_rice.\n",
      "There are 0 directories and 250 images in 10_food_classes_10_percent\\test\\grilled_salmon.\n",
      "There are 0 directories and 250 images in 10_food_classes_10_percent\\test\\hamburger.\n",
      "There are 0 directories and 250 images in 10_food_classes_10_percent\\test\\ice_cream.\n",
      "There are 0 directories and 250 images in 10_food_classes_10_percent\\test\\pizza.\n",
      "There are 0 directories and 250 images in 10_food_classes_10_percent\\test\\ramen.\n",
      "There are 0 directories and 250 images in 10_food_classes_10_percent\\test\\steak.\n",
      "There are 0 directories and 250 images in 10_food_classes_10_percent\\test\\sushi.\n",
      "There are 10 directories and 0 images in 10_food_classes_10_percent\\train.\n",
      "There are 0 directories and 75 images in 10_food_classes_10_percent\\train\\chicken_curry.\n",
      "There are 0 directories and 75 images in 10_food_classes_10_percent\\train\\chicken_wings.\n",
      "There are 0 directories and 75 images in 10_food_classes_10_percent\\train\\fried_rice.\n",
      "There are 0 directories and 75 images in 10_food_classes_10_percent\\train\\grilled_salmon.\n",
      "There are 0 directories and 75 images in 10_food_classes_10_percent\\train\\hamburger.\n",
      "There are 0 directories and 75 images in 10_food_classes_10_percent\\train\\ice_cream.\n",
      "There are 0 directories and 75 images in 10_food_classes_10_percent\\train\\pizza.\n",
      "There are 0 directories and 75 images in 10_food_classes_10_percent\\train\\ramen.\n",
      "There are 0 directories and 75 images in 10_food_classes_10_percent\\train\\steak.\n",
      "There are 0 directories and 75 images in 10_food_classes_10_percent\\train\\sushi.\n"
     ]
    }
   ],
   "source": [
    "# How many images in each folder?\n",
    "import os\n",
    "\n",
    "# Walk thorugh 10 percent data directory and list number of files\n",
    "for dirpath, dirnames, filenames in os.walk('10_food_classes_10_percent'):\n",
    "    print(f'There are {len(dirnames)} directories and {len(filenames)} images in {dirpath}.')"
   ]
  },
  {
   "cell_type": "markdown",
   "id": "9b2fa9ed",
   "metadata": {},
   "source": [
    "## Creating data loaders (preparing the data)\n",
    "\n",
    "We will use the `ImageDataGenerator` class to load in our images in batches."
   ]
  },
  {
   "cell_type": "code",
   "execution_count": 2,
   "id": "1a245f8f",
   "metadata": {},
   "outputs": [
    {
     "name": "stdout",
     "output_type": "stream",
     "text": [
      "Trainig images:\n",
      "Found 750 images belonging to 10 classes.\n",
      "Testing images:\n",
      "Found 2500 images belonging to 10 classes.\n"
     ]
    }
   ],
   "source": [
    "# Setup data inputs\n",
    "from tensorflow.keras.preprocessing.image import ImageDataGenerator # type: ignore\n",
    "\n",
    "IMAGE_SHAPE = (224, 224)\n",
    "BATCH_SIZE = 32\n",
    "\n",
    "train_dir = '10_food_classes_10_percent/train/'\n",
    "test_dir = '10_food_classes_10_percent/test/'\n",
    "\n",
    "train_datagen = ImageDataGenerator(rescale=1/255.)\n",
    "test_datagen = ImageDataGenerator(rescale=1/255.)\n",
    "\n",
    "print('Trainig images:')\n",
    "train_data_10_percent = train_datagen.flow_from_directory(train_dir,\n",
    "                                                          target_size=IMAGE_SHAPE,\n",
    "                                                          batch_size=BATCH_SIZE,\n",
    "                                                          class_mode='categorical')\n",
    "print('Testing images:')\n",
    "test_data = test_datagen.flow_from_directory(test_dir,\n",
    "                                             target_size=IMAGE_SHAPE,\n",
    "                                             batch_size=BATCH_SIZE,\n",
    "                                             class_mode='categorical')"
   ]
  },
  {
   "cell_type": "markdown",
   "id": "21f84f27",
   "metadata": {},
   "source": [
    "## Setting up callbacks (things to run whilst our model trains)\n",
    "\n",
    "Callbacks are extra functionality you can add to yout models to be performed during or after training. Some of the most popular callbacks:\n",
    "\n",
    "* Tracking experiments with the TensorBoard callback\n",
    "* Model checkpoint with the ModelCheckpoint callback\n",
    "* Stopping a model from training (before it trains too long and overfits) with the EarlyStopping callback"
   ]
  },
  {
   "cell_type": "code",
   "execution_count": null,
   "id": "b4cb701d",
   "metadata": {},
   "outputs": [],
   "source": [
    "# Create TensorBoard callback (functionized because we need to create a new one for each model)\n",
    "import datetime\n",
    "import tensorflow as tf\n",
    "\n",
    "def create_tensorboard_callback(dir_name, experiment_name):\n",
    "    log_dir = dir_name + '/' + experiment_name + '/' + datetime.datetime.now().strftime('%Y%m%d-%H%M%S')\n",
    "    tensorboard_callback = tf.keras.callbacks.TensorBoard(log_dir=log_dir)\n",
    "    print(f'Saving TensorBoard log files to: {log_dir}')\n",
    "    return tensorboard_callback"
   ]
  },
  {
   "cell_type": "markdown",
   "id": "12d943cf",
   "metadata": {},
   "source": [
    "**Note:** You can customize the directory where your TensorBoard logs (model trainig metrics) get saved to whatever you like. The `log_dir` parameter we have created above is only one option."
   ]
  },
  {
   "cell_type": "markdown",
   "id": "86f168d6",
   "metadata": {},
   "source": [
    "## Creating models using TensorFlow Hub\n",
    "\n",
    "In the past we have used TensorFlow to create our own models layer by layer from scratch.\n",
    "\n",
    "Now we are going to do a similar process, except the majority of our model's layers are going to come from TensorFlow Hub.\n",
    "\n",
    "We can access pretrained models on: https://www.kaggle.com/models?tfhub-redirect=true\n",
    "\n",
    "Browsing the TensorFlow Hub page and sorting for image classification, we found the following feature vector model link: \"https://www.kaggle.com/models/tensorflow/efficientnet/TensorFlow2/b0-classification/1\""
   ]
  },
  {
   "cell_type": "code",
   "execution_count": 4,
   "id": "d7ba72bb",
   "metadata": {},
   "outputs": [],
   "source": [
    "# Let's compare the following two models\n",
    "resnet_url = 'https://www.kaggle.com/models/tensorflow/resnet-50/TensorFlow2/classification/1'\n",
    "\n",
    "efficientnet_url = 'https://www.kaggle.com/models/tensorflow/efficientnet/TensorFlow2/b0-classification/1'"
   ]
  },
  {
   "cell_type": "code",
   "execution_count": null,
   "id": "0ec7d2bc",
   "metadata": {},
   "outputs": [],
   "source": [
    "# Import dependencies\n",
    "import tensorflow as tf\n",
    "import tensorflow_hub as hub # type: ignore\n",
    "from tensorflow.keras import layers # type: ignore"
   ]
  },
  {
   "cell_type": "code",
   "execution_count": 7,
   "id": "37a083ae",
   "metadata": {},
   "outputs": [],
   "source": [
    "# Let's make a create_model() function to create a model from a URL\n",
    "def create_model(model_url, num_classes=10):\n",
    "    \"\"\"\n",
    "    Takes a TensorFlow Hub URL and creates a Keras Sequential model with it.\n",
    "\n",
    "    Args:\n",
    "        model_url (str): A TensorFlow Hub feature extraction URL.\n",
    "        num_classes (int): Number of output neurons in the output layer, should be equal to number of target classes, default 10.\n",
    "\n",
    "    Returns:\n",
    "        An uncompiled Keras Sequential model with model_url as feature extractor layer and Dense output layer with num_classes output neurons.\n",
    "    \"\"\"\n",
    "    # Download the pretrained model and save it as a Keras layer\n",
    "    feature_extractor_layer = hub.KerasLayer(model_url,\n",
    "                                             trainable=False, # freeze the already learned patterns\n",
    "                                             name='feature_extraction_layer',\n",
    "                                             input_shape=IMAGE_SHAPE+(3,))\n",
    "    # Create our own model\n",
    "    model = tf.keras.Sequential([\n",
    "        feature_extractor_layer,\n",
    "        layers.Dense(num_classes, activation='softmax', name='output_layer')\n",
    "    ]) \n",
    "\n",
    "    return model"
   ]
  },
  {
   "cell_type": "markdown",
   "id": "7d3e446c",
   "metadata": {},
   "source": [
    "### Creating and testing ResNet TensorFlow Hub Feature Extraction model"
   ]
  },
  {
   "cell_type": "code",
   "execution_count": 8,
   "id": "15ef9ff1",
   "metadata": {},
   "outputs": [],
   "source": [
    "# Create Resnet model\n",
    "resnet_model = create_model(resnet_url,\n",
    "                            num_classes=train_data_10_percent.num_classes)"
   ]
  },
  {
   "cell_type": "code",
   "execution_count": 11,
   "id": "2fbbb8d4",
   "metadata": {},
   "outputs": [
    {
     "name": "stdout",
     "output_type": "stream",
     "text": [
      "Model: \"sequential\"\n",
      "_________________________________________________________________\n",
      " Layer (type)                Output Shape              Param #   \n",
      "=================================================================\n",
      " feature_extraction_layer (K  (None, 1001)             25612201  \n",
      " erasLayer)                                                      \n",
      "                                                                 \n",
      " output_layer (Dense)        (None, 10)                10020     \n",
      "                                                                 \n",
      "=================================================================\n",
      "Total params: 25,622,221\n",
      "Trainable params: 10,020\n",
      "Non-trainable params: 25,612,201\n",
      "_________________________________________________________________\n"
     ]
    }
   ],
   "source": [
    "resnet_model.summary()"
   ]
  },
  {
   "cell_type": "code",
   "execution_count": 12,
   "id": "7a7897b5",
   "metadata": {},
   "outputs": [],
   "source": [
    "# Compile our resnet model\n",
    "resnet_model.compile(loss='categorical_crossentropy',\n",
    "                     optimizer=tf.keras.optimizers.Adam(),\n",
    "                     metrics=['accuracy'])"
   ]
  }
 ],
 "metadata": {
  "kernelspec": {
   "display_name": "tf2",
   "language": "python",
   "name": "python3"
  },
  "language_info": {
   "codemirror_mode": {
    "name": "ipython",
    "version": 3
   },
   "file_extension": ".py",
   "mimetype": "text/x-python",
   "name": "python",
   "nbconvert_exporter": "python",
   "pygments_lexer": "ipython3",
   "version": "3.10.16"
  }
 },
 "nbformat": 4,
 "nbformat_minor": 5
}
